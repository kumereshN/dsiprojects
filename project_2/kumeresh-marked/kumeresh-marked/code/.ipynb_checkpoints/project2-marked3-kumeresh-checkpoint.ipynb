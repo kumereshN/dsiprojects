{
 "cells": [
  {
   "cell_type": "markdown",
   "metadata": {},
   "source": [
    "# Model Benchmarks"
   ]
  },
  {
   "cell_type": "code",
   "execution_count": 1,
   "metadata": {},
   "outputs": [],
   "source": [
    "# Common imports\n",
    "import numpy as np\n",
    "import pandas as pd\n",
    "import matplotlib.pyplot as plt\n",
    "import seaborn as sns\n",
    "\n",
    "%matplotlib inline"
   ]
  },
  {
   "cell_type": "code",
   "execution_count": 2,
   "metadata": {},
   "outputs": [],
   "source": [
    "# Import graph style\n",
    "plt.style.use('fivethirtyeight')"
   ]
  },
  {
   "cell_type": "code",
   "execution_count": 3,
   "metadata": {},
   "outputs": [],
   "source": [
    "# Set the max rows and columns for Pandas\n",
    "pd.options.display.max_columns = 100\n",
    "pd.options.display.max_rows = 200"
   ]
  },
  {
   "cell_type": "code",
   "execution_count": 4,
   "metadata": {},
   "outputs": [
    {
     "data": {
      "text/html": [
       "<div>\n",
       "<style scoped>\n",
       "    .dataframe tbody tr th:only-of-type {\n",
       "        vertical-align: middle;\n",
       "    }\n",
       "\n",
       "    .dataframe tbody tr th {\n",
       "        vertical-align: top;\n",
       "    }\n",
       "\n",
       "    .dataframe thead th {\n",
       "        text-align: right;\n",
       "    }\n",
       "</style>\n",
       "<table border=\"1\" class=\"dataframe\">\n",
       "  <thead>\n",
       "    <tr style=\"text-align: right;\">\n",
       "      <th></th>\n",
       "      <th>lot_frontage</th>\n",
       "      <th>year_remod/add</th>\n",
       "      <th>mas_vnr_area</th>\n",
       "      <th>bsmtfin_sf_1</th>\n",
       "      <th>total_bsmt_sf</th>\n",
       "      <th>1st_flr_sf</th>\n",
       "      <th>gr_liv_area</th>\n",
       "      <th>bsmt_full_bath</th>\n",
       "      <th>full_bath</th>\n",
       "      <th>totrms_abvgrd</th>\n",
       "      <th>fireplaces</th>\n",
       "      <th>garage_area</th>\n",
       "      <th>wood_deck_sf</th>\n",
       "      <th>open_porch_sf</th>\n",
       "      <th>house_age</th>\n",
       "      <th>garage_cars*garage_yr_blt</th>\n",
       "      <th>ms_subclass_11/2_story_finished_all_ages</th>\n",
       "      <th>ms_subclass_1story_1946_&amp;_newer_all_styles</th>\n",
       "      <th>ms_subclass_1story_pud_(planned_unit_development)__1946_&amp;_newer</th>\n",
       "      <th>ms_subclass_2story_1946_&amp;_newer</th>\n",
       "      <th>ms_subclass_Others</th>\n",
       "      <th>ms_zoning_C (all)</th>\n",
       "      <th>ms_zoning_FV</th>\n",
       "      <th>ms_zoning_RH</th>\n",
       "      <th>street_Grvl</th>\n",
       "      <th>street_Pave</th>\n",
       "      <th>land_contour_Bnk</th>\n",
       "      <th>land_contour_HLS</th>\n",
       "      <th>land_contour_Low</th>\n",
       "      <th>neighborhood_CollgCr</th>\n",
       "      <th>neighborhood_Others</th>\n",
       "      <th>bldg_type_2fmCon</th>\n",
       "      <th>bldg_type_Duplex</th>\n",
       "      <th>bldg_type_Twnhs</th>\n",
       "      <th>bldg_type_TwnhsE</th>\n",
       "      <th>roof_style_Flat</th>\n",
       "      <th>roof_style_Gambrel</th>\n",
       "      <th>roof_style_Hip</th>\n",
       "      <th>roof_style_Mansard</th>\n",
       "      <th>roof_style_Shed</th>\n",
       "      <th>mas_vnr_type_BrkCmn</th>\n",
       "      <th>mas_vnr_type_BrkFace</th>\n",
       "      <th>mas_vnr_type_Stone</th>\n",
       "      <th>central_air_N</th>\n",
       "      <th>central_air_Y</th>\n",
       "      <th>garage_type_2Types</th>\n",
       "      <th>garage_type_Attchd</th>\n",
       "      <th>garage_type_Basment</th>\n",
       "      <th>garage_type_BuiltIn</th>\n",
       "      <th>garage_type_CarPort</th>\n",
       "      <th>garage_type_Detchd</th>\n",
       "      <th>sale_type_COD</th>\n",
       "      <th>sale_type_CWD</th>\n",
       "      <th>sale_type_Con</th>\n",
       "      <th>sale_type_ConLD</th>\n",
       "      <th>sale_type_ConLI</th>\n",
       "      <th>sale_type_ConLw</th>\n",
       "      <th>sale_type_New</th>\n",
       "      <th>sale_type_Oth</th>\n",
       "      <th>lot_shape</th>\n",
       "      <th>bsmt_cond</th>\n",
       "      <th>heating_qc</th>\n",
       "      <th>garage_qual</th>\n",
       "      <th>garage_cond</th>\n",
       "    </tr>\n",
       "  </thead>\n",
       "  <tbody>\n",
       "    <tr>\n",
       "      <th>0</th>\n",
       "      <td>0.001802</td>\n",
       "      <td>0.988464</td>\n",
       "      <td>1.182322</td>\n",
       "      <td>0.221705</td>\n",
       "      <td>-0.815709</td>\n",
       "      <td>-1.216694</td>\n",
       "      <td>-0.028346</td>\n",
       "      <td>-0.832282</td>\n",
       "      <td>0.784675</td>\n",
       "      <td>-0.272616</td>\n",
       "      <td>-0.957710</td>\n",
       "      <td>-0.106762</td>\n",
       "      <td>-0.742619</td>\n",
       "      <td>-0.045782</td>\n",
       "      <td>-0.029868</td>\n",
       "      <td>0.201714</td>\n",
       "      <td>-0.326468</td>\n",
       "      <td>-0.786383</td>\n",
       "      <td>-0.273241</td>\n",
       "      <td>2.0</td>\n",
       "      <td>-0.580592</td>\n",
       "      <td>-0.07631</td>\n",
       "      <td>-0.236944</td>\n",
       "      <td>-0.07631</td>\n",
       "      <td>-0.051367</td>\n",
       "      <td>0.051367</td>\n",
       "      <td>-0.19558</td>\n",
       "      <td>-0.198462</td>\n",
       "      <td>-0.144764</td>\n",
       "      <td>-0.320512</td>\n",
       "      <td>1.028837</td>\n",
       "      <td>-0.12666</td>\n",
       "      <td>-0.171033</td>\n",
       "      <td>-0.183664</td>\n",
       "      <td>-0.303239</td>\n",
       "      <td>-0.07631</td>\n",
       "      <td>-0.07631</td>\n",
       "      <td>-0.479347</td>\n",
       "      <td>-0.051367</td>\n",
       "      <td>-0.039767</td>\n",
       "      <td>-0.079724</td>\n",
       "      <td>1.463043</td>\n",
       "      <td>-0.294884</td>\n",
       "      <td>-0.231947</td>\n",
       "      <td>0.231947</td>\n",
       "      <td>-0.100504</td>\n",
       "      <td>0.774162</td>\n",
       "      <td>-0.120064</td>\n",
       "      <td>-0.261947</td>\n",
       "      <td>-0.07631</td>\n",
       "      <td>-0.624424</td>\n",
       "      <td>-0.183664</td>\n",
       "      <td>-0.072739</td>\n",
       "      <td>-0.045932</td>\n",
       "      <td>-0.086158</td>\n",
       "      <td>-0.051367</td>\n",
       "      <td>-0.051367</td>\n",
       "      <td>-0.280949</td>\n",
       "      <td>-0.039767</td>\n",
       "      <td>1.039441</td>\n",
       "      <td>0.099196</td>\n",
       "      <td>0.865150</td>\n",
       "      <td>0.14326</td>\n",
       "      <td>0.109011</td>\n",
       "    </tr>\n",
       "    <tr>\n",
       "      <th>1</th>\n",
       "      <td>-1.278750</td>\n",
       "      <td>0.603058</td>\n",
       "      <td>0.217990</td>\n",
       "      <td>0.466349</td>\n",
       "      <td>-0.347349</td>\n",
       "      <td>-0.688058</td>\n",
       "      <td>1.380314</td>\n",
       "      <td>1.115176</td>\n",
       "      <td>0.784675</td>\n",
       "      <td>1.106797</td>\n",
       "      <td>0.621846</td>\n",
       "      <td>0.358536</td>\n",
       "      <td>-0.742619</td>\n",
       "      <td>0.420965</td>\n",
       "      <td>-0.750385</td>\n",
       "      <td>0.234262</td>\n",
       "      <td>-0.326468</td>\n",
       "      <td>-0.786383</td>\n",
       "      <td>-0.273241</td>\n",
       "      <td>2.0</td>\n",
       "      <td>-0.580592</td>\n",
       "      <td>-0.07631</td>\n",
       "      <td>-0.236944</td>\n",
       "      <td>-0.07631</td>\n",
       "      <td>-0.051367</td>\n",
       "      <td>0.051367</td>\n",
       "      <td>-0.19558</td>\n",
       "      <td>-0.198462</td>\n",
       "      <td>-0.144764</td>\n",
       "      <td>-0.320512</td>\n",
       "      <td>1.028837</td>\n",
       "      <td>-0.12666</td>\n",
       "      <td>-0.171033</td>\n",
       "      <td>-0.183664</td>\n",
       "      <td>-0.303239</td>\n",
       "      <td>-0.07631</td>\n",
       "      <td>-0.07631</td>\n",
       "      <td>-0.479347</td>\n",
       "      <td>-0.051367</td>\n",
       "      <td>-0.039767</td>\n",
       "      <td>-0.079724</td>\n",
       "      <td>1.463043</td>\n",
       "      <td>-0.294884</td>\n",
       "      <td>-0.231947</td>\n",
       "      <td>0.231947</td>\n",
       "      <td>-0.100504</td>\n",
       "      <td>0.774162</td>\n",
       "      <td>-0.120064</td>\n",
       "      <td>-0.261947</td>\n",
       "      <td>-0.07631</td>\n",
       "      <td>-0.624424</td>\n",
       "      <td>-0.183664</td>\n",
       "      <td>-0.072739</td>\n",
       "      <td>-0.045932</td>\n",
       "      <td>-0.086158</td>\n",
       "      <td>-0.051367</td>\n",
       "      <td>-0.051367</td>\n",
       "      <td>-0.280949</td>\n",
       "      <td>-0.039767</td>\n",
       "      <td>1.039441</td>\n",
       "      <td>0.099196</td>\n",
       "      <td>0.865150</td>\n",
       "      <td>0.14326</td>\n",
       "      <td>0.109011</td>\n",
       "    </tr>\n",
       "    <tr>\n",
       "      <th>2</th>\n",
       "      <td>-0.050285</td>\n",
       "      <td>1.084815</td>\n",
       "      <td>-0.592785</td>\n",
       "      <td>0.687469</td>\n",
       "      <td>0.011396</td>\n",
       "      <td>-0.283145</td>\n",
       "      <td>-0.952848</td>\n",
       "      <td>1.115176</td>\n",
       "      <td>-1.067353</td>\n",
       "      <td>-0.962322</td>\n",
       "      <td>-0.957710</td>\n",
       "      <td>-1.375252</td>\n",
       "      <td>-0.742619</td>\n",
       "      <td>0.078684</td>\n",
       "      <td>0.759269</td>\n",
       "      <td>-1.347421</td>\n",
       "      <td>-0.326468</td>\n",
       "      <td>1.271645</td>\n",
       "      <td>-0.273241</td>\n",
       "      <td>-0.5</td>\n",
       "      <td>-0.580592</td>\n",
       "      <td>-0.07631</td>\n",
       "      <td>-0.236944</td>\n",
       "      <td>-0.07631</td>\n",
       "      <td>-0.051367</td>\n",
       "      <td>0.051367</td>\n",
       "      <td>-0.19558</td>\n",
       "      <td>-0.198462</td>\n",
       "      <td>-0.144764</td>\n",
       "      <td>-0.320512</td>\n",
       "      <td>-0.971972</td>\n",
       "      <td>-0.12666</td>\n",
       "      <td>-0.171033</td>\n",
       "      <td>-0.183664</td>\n",
       "      <td>-0.303239</td>\n",
       "      <td>-0.07631</td>\n",
       "      <td>-0.07631</td>\n",
       "      <td>-0.479347</td>\n",
       "      <td>-0.051367</td>\n",
       "      <td>-0.039767</td>\n",
       "      <td>-0.079724</td>\n",
       "      <td>-0.683507</td>\n",
       "      <td>-0.294884</td>\n",
       "      <td>-0.231947</td>\n",
       "      <td>0.231947</td>\n",
       "      <td>-0.100504</td>\n",
       "      <td>-1.291720</td>\n",
       "      <td>-0.120064</td>\n",
       "      <td>-0.261947</td>\n",
       "      <td>-0.07631</td>\n",
       "      <td>1.601477</td>\n",
       "      <td>-0.183664</td>\n",
       "      <td>-0.072739</td>\n",
       "      <td>-0.045932</td>\n",
       "      <td>-0.086158</td>\n",
       "      <td>-0.051367</td>\n",
       "      <td>-0.051367</td>\n",
       "      <td>-0.280949</td>\n",
       "      <td>-0.039767</td>\n",
       "      <td>-0.725472</td>\n",
       "      <td>0.099196</td>\n",
       "      <td>-1.232853</td>\n",
       "      <td>0.14326</td>\n",
       "      <td>0.109011</td>\n",
       "    </tr>\n",
       "    <tr>\n",
       "      <th>3</th>\n",
       "      <td>0.195408</td>\n",
       "      <td>1.084815</td>\n",
       "      <td>-0.592785</td>\n",
       "      <td>-1.032095</td>\n",
       "      <td>-1.665235</td>\n",
       "      <td>-1.163268</td>\n",
       "      <td>-0.105023</td>\n",
       "      <td>-0.832282</td>\n",
       "      <td>0.784675</td>\n",
       "      <td>0.417091</td>\n",
       "      <td>-0.957710</td>\n",
       "      <td>-0.522206</td>\n",
       "      <td>0.037598</td>\n",
       "      <td>-0.730344</td>\n",
       "      <td>-1.059178</td>\n",
       "      <td>0.249761</td>\n",
       "      <td>-0.326468</td>\n",
       "      <td>-0.786383</td>\n",
       "      <td>-0.273241</td>\n",
       "      <td>2.0</td>\n",
       "      <td>-0.580592</td>\n",
       "      <td>-0.07631</td>\n",
       "      <td>-0.236944</td>\n",
       "      <td>-0.07631</td>\n",
       "      <td>-0.051367</td>\n",
       "      <td>0.051367</td>\n",
       "      <td>-0.19558</td>\n",
       "      <td>-0.198462</td>\n",
       "      <td>-0.144764</td>\n",
       "      <td>-0.320512</td>\n",
       "      <td>1.028837</td>\n",
       "      <td>-0.12666</td>\n",
       "      <td>-0.171033</td>\n",
       "      <td>-0.183664</td>\n",
       "      <td>-0.303239</td>\n",
       "      <td>-0.07631</td>\n",
       "      <td>-0.07631</td>\n",
       "      <td>-0.479347</td>\n",
       "      <td>-0.051367</td>\n",
       "      <td>-0.039767</td>\n",
       "      <td>-0.079724</td>\n",
       "      <td>-0.683507</td>\n",
       "      <td>-0.294884</td>\n",
       "      <td>-0.231947</td>\n",
       "      <td>0.231947</td>\n",
       "      <td>-0.100504</td>\n",
       "      <td>-1.291720</td>\n",
       "      <td>-0.120064</td>\n",
       "      <td>3.817561</td>\n",
       "      <td>-0.07631</td>\n",
       "      <td>-0.624424</td>\n",
       "      <td>-0.183664</td>\n",
       "      <td>-0.072739</td>\n",
       "      <td>-0.045932</td>\n",
       "      <td>-0.086158</td>\n",
       "      <td>-0.051367</td>\n",
       "      <td>-0.051367</td>\n",
       "      <td>-0.280949</td>\n",
       "      <td>-0.039767</td>\n",
       "      <td>-0.725472</td>\n",
       "      <td>0.099196</td>\n",
       "      <td>-0.183851</td>\n",
       "      <td>0.14326</td>\n",
       "      <td>0.109011</td>\n",
       "    </tr>\n",
       "    <tr>\n",
       "      <th>4</th>\n",
       "      <td>0.637656</td>\n",
       "      <td>0.410356</td>\n",
       "      <td>-0.592785</td>\n",
       "      <td>-1.032095</td>\n",
       "      <td>-0.937782</td>\n",
       "      <td>-0.918633</td>\n",
       "      <td>-0.102832</td>\n",
       "      <td>-0.832282</td>\n",
       "      <td>0.784675</td>\n",
       "      <td>-0.272616</td>\n",
       "      <td>-0.957710</td>\n",
       "      <td>-0.056909</td>\n",
       "      <td>-0.742619</td>\n",
       "      <td>0.187591</td>\n",
       "      <td>2.577716</td>\n",
       "      <td>0.172266</td>\n",
       "      <td>3.063089</td>\n",
       "      <td>-0.786383</td>\n",
       "      <td>-0.273241</td>\n",
       "      <td>-0.5</td>\n",
       "      <td>-0.580592</td>\n",
       "      <td>-0.07631</td>\n",
       "      <td>-0.236944</td>\n",
       "      <td>-0.07631</td>\n",
       "      <td>-0.051367</td>\n",
       "      <td>0.051367</td>\n",
       "      <td>-0.19558</td>\n",
       "      <td>-0.198462</td>\n",
       "      <td>-0.144764</td>\n",
       "      <td>-0.320512</td>\n",
       "      <td>1.028837</td>\n",
       "      <td>-0.12666</td>\n",
       "      <td>-0.171033</td>\n",
       "      <td>-0.183664</td>\n",
       "      <td>-0.303239</td>\n",
       "      <td>-0.07631</td>\n",
       "      <td>-0.07631</td>\n",
       "      <td>-0.479347</td>\n",
       "      <td>-0.051367</td>\n",
       "      <td>-0.039767</td>\n",
       "      <td>-0.079724</td>\n",
       "      <td>-0.683507</td>\n",
       "      <td>-0.294884</td>\n",
       "      <td>-0.231947</td>\n",
       "      <td>0.231947</td>\n",
       "      <td>-0.100504</td>\n",
       "      <td>-1.291720</td>\n",
       "      <td>-0.120064</td>\n",
       "      <td>-0.261947</td>\n",
       "      <td>-0.07631</td>\n",
       "      <td>1.601477</td>\n",
       "      <td>-0.183664</td>\n",
       "      <td>-0.072739</td>\n",
       "      <td>-0.045932</td>\n",
       "      <td>-0.086158</td>\n",
       "      <td>-0.051367</td>\n",
       "      <td>-0.051367</td>\n",
       "      <td>-0.280949</td>\n",
       "      <td>-0.039767</td>\n",
       "      <td>1.039441</td>\n",
       "      <td>1.965263</td>\n",
       "      <td>-1.232853</td>\n",
       "      <td>0.14326</td>\n",
       "      <td>0.109011</td>\n",
       "    </tr>\n",
       "  </tbody>\n",
       "</table>\n",
       "</div>"
      ],
      "text/plain": [
       "   lot_frontage  year_remod/add  mas_vnr_area  bsmtfin_sf_1  total_bsmt_sf  \\\n",
       "0      0.001802        0.988464      1.182322      0.221705      -0.815709   \n",
       "1     -1.278750        0.603058      0.217990      0.466349      -0.347349   \n",
       "2     -0.050285        1.084815     -0.592785      0.687469       0.011396   \n",
       "3      0.195408        1.084815     -0.592785     -1.032095      -1.665235   \n",
       "4      0.637656        0.410356     -0.592785     -1.032095      -0.937782   \n",
       "\n",
       "   1st_flr_sf  gr_liv_area  bsmt_full_bath  full_bath  totrms_abvgrd  \\\n",
       "0   -1.216694    -0.028346       -0.832282   0.784675      -0.272616   \n",
       "1   -0.688058     1.380314        1.115176   0.784675       1.106797   \n",
       "2   -0.283145    -0.952848        1.115176  -1.067353      -0.962322   \n",
       "3   -1.163268    -0.105023       -0.832282   0.784675       0.417091   \n",
       "4   -0.918633    -0.102832       -0.832282   0.784675      -0.272616   \n",
       "\n",
       "   fireplaces  garage_area  wood_deck_sf  open_porch_sf  house_age  \\\n",
       "0   -0.957710    -0.106762     -0.742619      -0.045782  -0.029868   \n",
       "1    0.621846     0.358536     -0.742619       0.420965  -0.750385   \n",
       "2   -0.957710    -1.375252     -0.742619       0.078684   0.759269   \n",
       "3   -0.957710    -0.522206      0.037598      -0.730344  -1.059178   \n",
       "4   -0.957710    -0.056909     -0.742619       0.187591   2.577716   \n",
       "\n",
       "   garage_cars*garage_yr_blt  ms_subclass_11/2_story_finished_all_ages  \\\n",
       "0                   0.201714                                 -0.326468   \n",
       "1                   0.234262                                 -0.326468   \n",
       "2                  -1.347421                                 -0.326468   \n",
       "3                   0.249761                                 -0.326468   \n",
       "4                   0.172266                                  3.063089   \n",
       "\n",
       "   ms_subclass_1story_1946_&_newer_all_styles  \\\n",
       "0                                   -0.786383   \n",
       "1                                   -0.786383   \n",
       "2                                    1.271645   \n",
       "3                                   -0.786383   \n",
       "4                                   -0.786383   \n",
       "\n",
       "   ms_subclass_1story_pud_(planned_unit_development)__1946_&_newer  \\\n",
       "0                                          -0.273241                 \n",
       "1                                          -0.273241                 \n",
       "2                                          -0.273241                 \n",
       "3                                          -0.273241                 \n",
       "4                                          -0.273241                 \n",
       "\n",
       "   ms_subclass_2story_1946_&_newer  ms_subclass_Others  ms_zoning_C (all)  \\\n",
       "0                              2.0           -0.580592           -0.07631   \n",
       "1                              2.0           -0.580592           -0.07631   \n",
       "2                             -0.5           -0.580592           -0.07631   \n",
       "3                              2.0           -0.580592           -0.07631   \n",
       "4                             -0.5           -0.580592           -0.07631   \n",
       "\n",
       "   ms_zoning_FV  ms_zoning_RH  street_Grvl  street_Pave  land_contour_Bnk  \\\n",
       "0     -0.236944      -0.07631    -0.051367     0.051367          -0.19558   \n",
       "1     -0.236944      -0.07631    -0.051367     0.051367          -0.19558   \n",
       "2     -0.236944      -0.07631    -0.051367     0.051367          -0.19558   \n",
       "3     -0.236944      -0.07631    -0.051367     0.051367          -0.19558   \n",
       "4     -0.236944      -0.07631    -0.051367     0.051367          -0.19558   \n",
       "\n",
       "   land_contour_HLS  land_contour_Low  neighborhood_CollgCr  \\\n",
       "0         -0.198462         -0.144764             -0.320512   \n",
       "1         -0.198462         -0.144764             -0.320512   \n",
       "2         -0.198462         -0.144764             -0.320512   \n",
       "3         -0.198462         -0.144764             -0.320512   \n",
       "4         -0.198462         -0.144764             -0.320512   \n",
       "\n",
       "   neighborhood_Others  bldg_type_2fmCon  bldg_type_Duplex  bldg_type_Twnhs  \\\n",
       "0             1.028837          -0.12666         -0.171033        -0.183664   \n",
       "1             1.028837          -0.12666         -0.171033        -0.183664   \n",
       "2            -0.971972          -0.12666         -0.171033        -0.183664   \n",
       "3             1.028837          -0.12666         -0.171033        -0.183664   \n",
       "4             1.028837          -0.12666         -0.171033        -0.183664   \n",
       "\n",
       "   bldg_type_TwnhsE  roof_style_Flat  roof_style_Gambrel  roof_style_Hip  \\\n",
       "0         -0.303239         -0.07631            -0.07631       -0.479347   \n",
       "1         -0.303239         -0.07631            -0.07631       -0.479347   \n",
       "2         -0.303239         -0.07631            -0.07631       -0.479347   \n",
       "3         -0.303239         -0.07631            -0.07631       -0.479347   \n",
       "4         -0.303239         -0.07631            -0.07631       -0.479347   \n",
       "\n",
       "   roof_style_Mansard  roof_style_Shed  mas_vnr_type_BrkCmn  \\\n",
       "0           -0.051367        -0.039767            -0.079724   \n",
       "1           -0.051367        -0.039767            -0.079724   \n",
       "2           -0.051367        -0.039767            -0.079724   \n",
       "3           -0.051367        -0.039767            -0.079724   \n",
       "4           -0.051367        -0.039767            -0.079724   \n",
       "\n",
       "   mas_vnr_type_BrkFace  mas_vnr_type_Stone  central_air_N  central_air_Y  \\\n",
       "0              1.463043           -0.294884      -0.231947       0.231947   \n",
       "1              1.463043           -0.294884      -0.231947       0.231947   \n",
       "2             -0.683507           -0.294884      -0.231947       0.231947   \n",
       "3             -0.683507           -0.294884      -0.231947       0.231947   \n",
       "4             -0.683507           -0.294884      -0.231947       0.231947   \n",
       "\n",
       "   garage_type_2Types  garage_type_Attchd  garage_type_Basment  \\\n",
       "0           -0.100504            0.774162            -0.120064   \n",
       "1           -0.100504            0.774162            -0.120064   \n",
       "2           -0.100504           -1.291720            -0.120064   \n",
       "3           -0.100504           -1.291720            -0.120064   \n",
       "4           -0.100504           -1.291720            -0.120064   \n",
       "\n",
       "   garage_type_BuiltIn  garage_type_CarPort  garage_type_Detchd  \\\n",
       "0            -0.261947             -0.07631           -0.624424   \n",
       "1            -0.261947             -0.07631           -0.624424   \n",
       "2            -0.261947             -0.07631            1.601477   \n",
       "3             3.817561             -0.07631           -0.624424   \n",
       "4            -0.261947             -0.07631            1.601477   \n",
       "\n",
       "   sale_type_COD  sale_type_CWD  sale_type_Con  sale_type_ConLD  \\\n",
       "0      -0.183664      -0.072739      -0.045932        -0.086158   \n",
       "1      -0.183664      -0.072739      -0.045932        -0.086158   \n",
       "2      -0.183664      -0.072739      -0.045932        -0.086158   \n",
       "3      -0.183664      -0.072739      -0.045932        -0.086158   \n",
       "4      -0.183664      -0.072739      -0.045932        -0.086158   \n",
       "\n",
       "   sale_type_ConLI  sale_type_ConLw  sale_type_New  sale_type_Oth  lot_shape  \\\n",
       "0        -0.051367        -0.051367      -0.280949      -0.039767   1.039441   \n",
       "1        -0.051367        -0.051367      -0.280949      -0.039767   1.039441   \n",
       "2        -0.051367        -0.051367      -0.280949      -0.039767  -0.725472   \n",
       "3        -0.051367        -0.051367      -0.280949      -0.039767  -0.725472   \n",
       "4        -0.051367        -0.051367      -0.280949      -0.039767   1.039441   \n",
       "\n",
       "   bsmt_cond  heating_qc  garage_qual  garage_cond  \n",
       "0   0.099196    0.865150      0.14326     0.109011  \n",
       "1   0.099196    0.865150      0.14326     0.109011  \n",
       "2   0.099196   -1.232853      0.14326     0.109011  \n",
       "3   0.099196   -0.183851      0.14326     0.109011  \n",
       "4   1.965263   -1.232853      0.14326     0.109011  "
      ]
     },
     "execution_count": 4,
     "metadata": {},
     "output_type": "execute_result"
    }
   ],
   "source": [
    "final_train_df_scaled = pd.read_csv('../datasets/final_train_df_scaled.csv')\n",
    "final_test_df_scaled = pd.read_csv('../datasets/final_test_df_scaled.csv')\n",
    "test_df = pd.read_csv('../datasets/test.csv')\n",
    "clean_train_df = pd.read_csv('../datasets/clean_train_df.csv')\n",
    "final_train_df_scaled.head()"
   ]
  },
  {
   "cell_type": "code",
   "execution_count": 5,
   "metadata": {
    "scrolled": true
   },
   "outputs": [
    {
     "data": {
      "text/html": [
       "<div>\n",
       "<style scoped>\n",
       "    .dataframe tbody tr th:only-of-type {\n",
       "        vertical-align: middle;\n",
       "    }\n",
       "\n",
       "    .dataframe tbody tr th {\n",
       "        vertical-align: top;\n",
       "    }\n",
       "\n",
       "    .dataframe thead th {\n",
       "        text-align: right;\n",
       "    }\n",
       "</style>\n",
       "<table border=\"1\" class=\"dataframe\">\n",
       "  <thead>\n",
       "    <tr style=\"text-align: right;\">\n",
       "      <th></th>\n",
       "      <th>ms_subclass</th>\n",
       "      <th>ms_zoning</th>\n",
       "      <th>lot_frontage</th>\n",
       "      <th>lot_area</th>\n",
       "      <th>street</th>\n",
       "      <th>lot_shape</th>\n",
       "      <th>land_contour</th>\n",
       "      <th>utilities</th>\n",
       "      <th>lot_config</th>\n",
       "      <th>land_slope</th>\n",
       "      <th>neighborhood</th>\n",
       "      <th>condition_1</th>\n",
       "      <th>condition_2</th>\n",
       "      <th>bldg_type</th>\n",
       "      <th>house_style</th>\n",
       "      <th>overall_qual</th>\n",
       "      <th>overall_cond</th>\n",
       "      <th>year_built</th>\n",
       "      <th>year_remod/add</th>\n",
       "      <th>roof_style</th>\n",
       "      <th>roof_matl</th>\n",
       "      <th>exterior_1st</th>\n",
       "      <th>exterior_2nd</th>\n",
       "      <th>mas_vnr_type</th>\n",
       "      <th>mas_vnr_area</th>\n",
       "      <th>exter_qual</th>\n",
       "      <th>exter_cond</th>\n",
       "      <th>foundation</th>\n",
       "      <th>bsmt_qual</th>\n",
       "      <th>bsmt_cond</th>\n",
       "      <th>bsmt_exposure</th>\n",
       "      <th>bsmtfin_type_1</th>\n",
       "      <th>bsmtfin_sf_1</th>\n",
       "      <th>bsmtfin_type_2</th>\n",
       "      <th>total_bsmt_sf</th>\n",
       "      <th>heating</th>\n",
       "      <th>heating_qc</th>\n",
       "      <th>central_air</th>\n",
       "      <th>electrical</th>\n",
       "      <th>1st_flr_sf</th>\n",
       "      <th>2nd_flr_sf</th>\n",
       "      <th>gr_liv_area</th>\n",
       "      <th>bsmt_full_bath</th>\n",
       "      <th>full_bath</th>\n",
       "      <th>half_bath</th>\n",
       "      <th>bedroom_abvgr</th>\n",
       "      <th>kitchen_abvgr</th>\n",
       "      <th>kitchen_qual</th>\n",
       "      <th>totrms_abvgrd</th>\n",
       "      <th>functional</th>\n",
       "      <th>fireplaces</th>\n",
       "      <th>fireplace_qu</th>\n",
       "      <th>garage_type</th>\n",
       "      <th>garage_yr_blt</th>\n",
       "      <th>garage_finish</th>\n",
       "      <th>garage_cars</th>\n",
       "      <th>garage_area</th>\n",
       "      <th>garage_qual</th>\n",
       "      <th>garage_cond</th>\n",
       "      <th>paved_drive</th>\n",
       "      <th>wood_deck_sf</th>\n",
       "      <th>open_porch_sf</th>\n",
       "      <th>mo_sold</th>\n",
       "      <th>yr_sold</th>\n",
       "      <th>sale_type</th>\n",
       "      <th>saleprice</th>\n",
       "    </tr>\n",
       "  </thead>\n",
       "  <tbody>\n",
       "    <tr>\n",
       "      <th>0</th>\n",
       "      <td>2story_1946_&amp;_newer</td>\n",
       "      <td>RL</td>\n",
       "      <td>69.06</td>\n",
       "      <td>13517.0</td>\n",
       "      <td>Pave</td>\n",
       "      <td>IR1</td>\n",
       "      <td>Lvl</td>\n",
       "      <td>AllPub</td>\n",
       "      <td>CulDSac</td>\n",
       "      <td>Gtl</td>\n",
       "      <td>Sawyer</td>\n",
       "      <td>RRAe</td>\n",
       "      <td>Norm</td>\n",
       "      <td>1Fam</td>\n",
       "      <td>2Story</td>\n",
       "      <td>6</td>\n",
       "      <td>8</td>\n",
       "      <td>1976</td>\n",
       "      <td>2005</td>\n",
       "      <td>Gable</td>\n",
       "      <td>CompShg</td>\n",
       "      <td>HdBoard</td>\n",
       "      <td>Plywood</td>\n",
       "      <td>BrkFace</td>\n",
       "      <td>289.0</td>\n",
       "      <td>Gd</td>\n",
       "      <td>TA</td>\n",
       "      <td>CBlock</td>\n",
       "      <td>TA</td>\n",
       "      <td>TA</td>\n",
       "      <td>No</td>\n",
       "      <td>GLQ</td>\n",
       "      <td>533.0</td>\n",
       "      <td>Unf</td>\n",
       "      <td>725.0</td>\n",
       "      <td>GasA</td>\n",
       "      <td>Ex</td>\n",
       "      <td>Y</td>\n",
       "      <td>SBrkr</td>\n",
       "      <td>725.0</td>\n",
       "      <td>754.0</td>\n",
       "      <td>1479.0</td>\n",
       "      <td>0</td>\n",
       "      <td>2</td>\n",
       "      <td>1</td>\n",
       "      <td>3</td>\n",
       "      <td>1</td>\n",
       "      <td>Gd</td>\n",
       "      <td>6</td>\n",
       "      <td>Typ</td>\n",
       "      <td>0</td>\n",
       "      <td>NaN</td>\n",
       "      <td>Attchd</td>\n",
       "      <td>1976</td>\n",
       "      <td>RFn</td>\n",
       "      <td>2</td>\n",
       "      <td>475.0</td>\n",
       "      <td>TA</td>\n",
       "      <td>TA</td>\n",
       "      <td>Y</td>\n",
       "      <td>0.0</td>\n",
       "      <td>44.0</td>\n",
       "      <td>3</td>\n",
       "      <td>2010</td>\n",
       "      <td>WD</td>\n",
       "      <td>11.779129</td>\n",
       "    </tr>\n",
       "    <tr>\n",
       "      <th>1</th>\n",
       "      <td>2story_1946_&amp;_newer</td>\n",
       "      <td>RL</td>\n",
       "      <td>43.00</td>\n",
       "      <td>11492.0</td>\n",
       "      <td>Pave</td>\n",
       "      <td>IR1</td>\n",
       "      <td>Lvl</td>\n",
       "      <td>AllPub</td>\n",
       "      <td>CulDSac</td>\n",
       "      <td>Gtl</td>\n",
       "      <td>SawyerW</td>\n",
       "      <td>Norm</td>\n",
       "      <td>Norm</td>\n",
       "      <td>1Fam</td>\n",
       "      <td>2Story</td>\n",
       "      <td>7</td>\n",
       "      <td>5</td>\n",
       "      <td>1996</td>\n",
       "      <td>1997</td>\n",
       "      <td>Gable</td>\n",
       "      <td>CompShg</td>\n",
       "      <td>VinylSd</td>\n",
       "      <td>VinylSd</td>\n",
       "      <td>BrkFace</td>\n",
       "      <td>132.0</td>\n",
       "      <td>Gd</td>\n",
       "      <td>TA</td>\n",
       "      <td>PConc</td>\n",
       "      <td>Gd</td>\n",
       "      <td>TA</td>\n",
       "      <td>No</td>\n",
       "      <td>GLQ</td>\n",
       "      <td>637.0</td>\n",
       "      <td>Unf</td>\n",
       "      <td>913.0</td>\n",
       "      <td>GasA</td>\n",
       "      <td>Ex</td>\n",
       "      <td>Y</td>\n",
       "      <td>SBrkr</td>\n",
       "      <td>913.0</td>\n",
       "      <td>1209.0</td>\n",
       "      <td>2122.0</td>\n",
       "      <td>1</td>\n",
       "      <td>2</td>\n",
       "      <td>1</td>\n",
       "      <td>4</td>\n",
       "      <td>1</td>\n",
       "      <td>Gd</td>\n",
       "      <td>8</td>\n",
       "      <td>Typ</td>\n",
       "      <td>1</td>\n",
       "      <td>TA</td>\n",
       "      <td>Attchd</td>\n",
       "      <td>1997</td>\n",
       "      <td>RFn</td>\n",
       "      <td>2</td>\n",
       "      <td>559.0</td>\n",
       "      <td>TA</td>\n",
       "      <td>TA</td>\n",
       "      <td>Y</td>\n",
       "      <td>0.0</td>\n",
       "      <td>74.0</td>\n",
       "      <td>4</td>\n",
       "      <td>2009</td>\n",
       "      <td>WD</td>\n",
       "      <td>12.301383</td>\n",
       "    </tr>\n",
       "    <tr>\n",
       "      <th>2</th>\n",
       "      <td>1story_1946_&amp;_newer_all_styles</td>\n",
       "      <td>RL</td>\n",
       "      <td>68.00</td>\n",
       "      <td>7922.0</td>\n",
       "      <td>Pave</td>\n",
       "      <td>Reg</td>\n",
       "      <td>Lvl</td>\n",
       "      <td>AllPub</td>\n",
       "      <td>Inside</td>\n",
       "      <td>Gtl</td>\n",
       "      <td>NAmes</td>\n",
       "      <td>Norm</td>\n",
       "      <td>Norm</td>\n",
       "      <td>1Fam</td>\n",
       "      <td>1Story</td>\n",
       "      <td>5</td>\n",
       "      <td>7</td>\n",
       "      <td>1953</td>\n",
       "      <td>2007</td>\n",
       "      <td>Gable</td>\n",
       "      <td>CompShg</td>\n",
       "      <td>VinylSd</td>\n",
       "      <td>VinylSd</td>\n",
       "      <td>None</td>\n",
       "      <td>0.0</td>\n",
       "      <td>TA</td>\n",
       "      <td>Gd</td>\n",
       "      <td>CBlock</td>\n",
       "      <td>TA</td>\n",
       "      <td>TA</td>\n",
       "      <td>No</td>\n",
       "      <td>GLQ</td>\n",
       "      <td>731.0</td>\n",
       "      <td>Unf</td>\n",
       "      <td>1057.0</td>\n",
       "      <td>GasA</td>\n",
       "      <td>TA</td>\n",
       "      <td>Y</td>\n",
       "      <td>SBrkr</td>\n",
       "      <td>1057.0</td>\n",
       "      <td>0.0</td>\n",
       "      <td>1057.0</td>\n",
       "      <td>1</td>\n",
       "      <td>1</td>\n",
       "      <td>0</td>\n",
       "      <td>3</td>\n",
       "      <td>1</td>\n",
       "      <td>Gd</td>\n",
       "      <td>5</td>\n",
       "      <td>Typ</td>\n",
       "      <td>0</td>\n",
       "      <td>NaN</td>\n",
       "      <td>Detchd</td>\n",
       "      <td>1953</td>\n",
       "      <td>Unf</td>\n",
       "      <td>1</td>\n",
       "      <td>246.0</td>\n",
       "      <td>TA</td>\n",
       "      <td>TA</td>\n",
       "      <td>Y</td>\n",
       "      <td>0.0</td>\n",
       "      <td>52.0</td>\n",
       "      <td>1</td>\n",
       "      <td>2010</td>\n",
       "      <td>WD</td>\n",
       "      <td>11.599103</td>\n",
       "    </tr>\n",
       "    <tr>\n",
       "      <th>3</th>\n",
       "      <td>2story_1946_&amp;_newer</td>\n",
       "      <td>RL</td>\n",
       "      <td>73.00</td>\n",
       "      <td>9802.0</td>\n",
       "      <td>Pave</td>\n",
       "      <td>Reg</td>\n",
       "      <td>Lvl</td>\n",
       "      <td>AllPub</td>\n",
       "      <td>Inside</td>\n",
       "      <td>Gtl</td>\n",
       "      <td>Timber</td>\n",
       "      <td>Norm</td>\n",
       "      <td>Norm</td>\n",
       "      <td>1Fam</td>\n",
       "      <td>2Story</td>\n",
       "      <td>5</td>\n",
       "      <td>5</td>\n",
       "      <td>2006</td>\n",
       "      <td>2007</td>\n",
       "      <td>Gable</td>\n",
       "      <td>CompShg</td>\n",
       "      <td>VinylSd</td>\n",
       "      <td>VinylSd</td>\n",
       "      <td>None</td>\n",
       "      <td>0.0</td>\n",
       "      <td>TA</td>\n",
       "      <td>TA</td>\n",
       "      <td>PConc</td>\n",
       "      <td>Gd</td>\n",
       "      <td>TA</td>\n",
       "      <td>No</td>\n",
       "      <td>Unf</td>\n",
       "      <td>0.0</td>\n",
       "      <td>Unf</td>\n",
       "      <td>384.0</td>\n",
       "      <td>GasA</td>\n",
       "      <td>Gd</td>\n",
       "      <td>Y</td>\n",
       "      <td>SBrkr</td>\n",
       "      <td>744.0</td>\n",
       "      <td>700.0</td>\n",
       "      <td>1444.0</td>\n",
       "      <td>0</td>\n",
       "      <td>2</td>\n",
       "      <td>1</td>\n",
       "      <td>3</td>\n",
       "      <td>1</td>\n",
       "      <td>TA</td>\n",
       "      <td>7</td>\n",
       "      <td>Typ</td>\n",
       "      <td>0</td>\n",
       "      <td>NaN</td>\n",
       "      <td>BuiltIn</td>\n",
       "      <td>2007</td>\n",
       "      <td>Fin</td>\n",
       "      <td>2</td>\n",
       "      <td>400.0</td>\n",
       "      <td>TA</td>\n",
       "      <td>TA</td>\n",
       "      <td>Y</td>\n",
       "      <td>100.0</td>\n",
       "      <td>0.0</td>\n",
       "      <td>4</td>\n",
       "      <td>2010</td>\n",
       "      <td>WD</td>\n",
       "      <td>12.066811</td>\n",
       "    </tr>\n",
       "    <tr>\n",
       "      <th>4</th>\n",
       "      <td>11/2_story_finished_all_ages</td>\n",
       "      <td>RL</td>\n",
       "      <td>82.00</td>\n",
       "      <td>14235.0</td>\n",
       "      <td>Pave</td>\n",
       "      <td>IR1</td>\n",
       "      <td>Lvl</td>\n",
       "      <td>AllPub</td>\n",
       "      <td>Inside</td>\n",
       "      <td>Gtl</td>\n",
       "      <td>SawyerW</td>\n",
       "      <td>Norm</td>\n",
       "      <td>Norm</td>\n",
       "      <td>1Fam</td>\n",
       "      <td>1.5Fin</td>\n",
       "      <td>6</td>\n",
       "      <td>8</td>\n",
       "      <td>1900</td>\n",
       "      <td>1993</td>\n",
       "      <td>Gable</td>\n",
       "      <td>CompShg</td>\n",
       "      <td>Wd Sdng</td>\n",
       "      <td>Plywood</td>\n",
       "      <td>None</td>\n",
       "      <td>0.0</td>\n",
       "      <td>TA</td>\n",
       "      <td>TA</td>\n",
       "      <td>PConc</td>\n",
       "      <td>Fa</td>\n",
       "      <td>Gd</td>\n",
       "      <td>No</td>\n",
       "      <td>Unf</td>\n",
       "      <td>0.0</td>\n",
       "      <td>Unf</td>\n",
       "      <td>676.0</td>\n",
       "      <td>GasA</td>\n",
       "      <td>TA</td>\n",
       "      <td>Y</td>\n",
       "      <td>SBrkr</td>\n",
       "      <td>831.0</td>\n",
       "      <td>614.0</td>\n",
       "      <td>1445.0</td>\n",
       "      <td>0</td>\n",
       "      <td>2</td>\n",
       "      <td>0</td>\n",
       "      <td>3</td>\n",
       "      <td>1</td>\n",
       "      <td>TA</td>\n",
       "      <td>6</td>\n",
       "      <td>Typ</td>\n",
       "      <td>0</td>\n",
       "      <td>NaN</td>\n",
       "      <td>Detchd</td>\n",
       "      <td>1957</td>\n",
       "      <td>Unf</td>\n",
       "      <td>2</td>\n",
       "      <td>484.0</td>\n",
       "      <td>TA</td>\n",
       "      <td>TA</td>\n",
       "      <td>N</td>\n",
       "      <td>0.0</td>\n",
       "      <td>59.0</td>\n",
       "      <td>3</td>\n",
       "      <td>2010</td>\n",
       "      <td>WD</td>\n",
       "      <td>11.838626</td>\n",
       "    </tr>\n",
       "  </tbody>\n",
       "</table>\n",
       "</div>"
      ],
      "text/plain": [
       "                      ms_subclass ms_zoning  lot_frontage  lot_area street  \\\n",
       "0             2story_1946_&_newer        RL         69.06   13517.0   Pave   \n",
       "1             2story_1946_&_newer        RL         43.00   11492.0   Pave   \n",
       "2  1story_1946_&_newer_all_styles        RL         68.00    7922.0   Pave   \n",
       "3             2story_1946_&_newer        RL         73.00    9802.0   Pave   \n",
       "4    11/2_story_finished_all_ages        RL         82.00   14235.0   Pave   \n",
       "\n",
       "  lot_shape land_contour utilities lot_config land_slope neighborhood  \\\n",
       "0       IR1          Lvl    AllPub    CulDSac        Gtl       Sawyer   \n",
       "1       IR1          Lvl    AllPub    CulDSac        Gtl      SawyerW   \n",
       "2       Reg          Lvl    AllPub     Inside        Gtl        NAmes   \n",
       "3       Reg          Lvl    AllPub     Inside        Gtl       Timber   \n",
       "4       IR1          Lvl    AllPub     Inside        Gtl      SawyerW   \n",
       "\n",
       "  condition_1 condition_2 bldg_type house_style  overall_qual  overall_cond  \\\n",
       "0        RRAe        Norm      1Fam      2Story             6             8   \n",
       "1        Norm        Norm      1Fam      2Story             7             5   \n",
       "2        Norm        Norm      1Fam      1Story             5             7   \n",
       "3        Norm        Norm      1Fam      2Story             5             5   \n",
       "4        Norm        Norm      1Fam      1.5Fin             6             8   \n",
       "\n",
       "   year_built  year_remod/add roof_style roof_matl exterior_1st exterior_2nd  \\\n",
       "0        1976            2005      Gable   CompShg      HdBoard      Plywood   \n",
       "1        1996            1997      Gable   CompShg      VinylSd      VinylSd   \n",
       "2        1953            2007      Gable   CompShg      VinylSd      VinylSd   \n",
       "3        2006            2007      Gable   CompShg      VinylSd      VinylSd   \n",
       "4        1900            1993      Gable   CompShg      Wd Sdng      Plywood   \n",
       "\n",
       "  mas_vnr_type  mas_vnr_area exter_qual exter_cond foundation bsmt_qual  \\\n",
       "0      BrkFace         289.0         Gd         TA     CBlock        TA   \n",
       "1      BrkFace         132.0         Gd         TA      PConc        Gd   \n",
       "2         None           0.0         TA         Gd     CBlock        TA   \n",
       "3         None           0.0         TA         TA      PConc        Gd   \n",
       "4         None           0.0         TA         TA      PConc        Fa   \n",
       "\n",
       "  bsmt_cond bsmt_exposure bsmtfin_type_1  bsmtfin_sf_1 bsmtfin_type_2  \\\n",
       "0        TA            No            GLQ         533.0            Unf   \n",
       "1        TA            No            GLQ         637.0            Unf   \n",
       "2        TA            No            GLQ         731.0            Unf   \n",
       "3        TA            No            Unf           0.0            Unf   \n",
       "4        Gd            No            Unf           0.0            Unf   \n",
       "\n",
       "   total_bsmt_sf heating heating_qc central_air electrical  1st_flr_sf  \\\n",
       "0          725.0    GasA         Ex           Y      SBrkr       725.0   \n",
       "1          913.0    GasA         Ex           Y      SBrkr       913.0   \n",
       "2         1057.0    GasA         TA           Y      SBrkr      1057.0   \n",
       "3          384.0    GasA         Gd           Y      SBrkr       744.0   \n",
       "4          676.0    GasA         TA           Y      SBrkr       831.0   \n",
       "\n",
       "   2nd_flr_sf  gr_liv_area  bsmt_full_bath  full_bath  half_bath  \\\n",
       "0       754.0       1479.0               0          2          1   \n",
       "1      1209.0       2122.0               1          2          1   \n",
       "2         0.0       1057.0               1          1          0   \n",
       "3       700.0       1444.0               0          2          1   \n",
       "4       614.0       1445.0               0          2          0   \n",
       "\n",
       "   bedroom_abvgr  kitchen_abvgr kitchen_qual  totrms_abvgrd functional  \\\n",
       "0              3              1           Gd              6        Typ   \n",
       "1              4              1           Gd              8        Typ   \n",
       "2              3              1           Gd              5        Typ   \n",
       "3              3              1           TA              7        Typ   \n",
       "4              3              1           TA              6        Typ   \n",
       "\n",
       "   fireplaces fireplace_qu garage_type  garage_yr_blt garage_finish  \\\n",
       "0           0          NaN      Attchd           1976           RFn   \n",
       "1           1           TA      Attchd           1997           RFn   \n",
       "2           0          NaN      Detchd           1953           Unf   \n",
       "3           0          NaN     BuiltIn           2007           Fin   \n",
       "4           0          NaN      Detchd           1957           Unf   \n",
       "\n",
       "   garage_cars  garage_area garage_qual garage_cond paved_drive  wood_deck_sf  \\\n",
       "0            2        475.0          TA          TA           Y           0.0   \n",
       "1            2        559.0          TA          TA           Y           0.0   \n",
       "2            1        246.0          TA          TA           Y           0.0   \n",
       "3            2        400.0          TA          TA           Y         100.0   \n",
       "4            2        484.0          TA          TA           N           0.0   \n",
       "\n",
       "   open_porch_sf  mo_sold  yr_sold sale_type  saleprice  \n",
       "0           44.0        3     2010       WD   11.779129  \n",
       "1           74.0        4     2009       WD   12.301383  \n",
       "2           52.0        1     2010       WD   11.599103  \n",
       "3            0.0        4     2010       WD   12.066811  \n",
       "4           59.0        3     2010       WD   11.838626  "
      ]
     },
     "execution_count": 5,
     "metadata": {},
     "output_type": "execute_result"
    }
   ],
   "source": [
    "clean_train_df.head()"
   ]
  },
  {
   "cell_type": "markdown",
   "metadata": {},
   "source": [
    "## Linear Regression model"
   ]
  },
  {
   "cell_type": "code",
   "execution_count": 6,
   "metadata": {},
   "outputs": [],
   "source": [
    "def r2_adj(y_true, y_preds, p):\n",
    "    \"\"\"\n",
    "    Function to calculate the r2 adjusted scores.\n",
    "    y_true = actual observations\n",
    "    y_preds = predicted prices by the model\n",
    "    p = number of indepedent regressors\n",
    "    \"\"\"\n",
    "    n = len(y_true)\n",
    "    y_mean = np.mean(y_true)\n",
    "    numerator = np.sum(np.square(y_true - y_preds)) / (n - p - 1)\n",
    "    denominator = np.sum(np.square(y_true - y_mean)) / (n - 1)\n",
    "    return 1 - numerator / denominator"
   ]
  },
  {
   "cell_type": "code",
   "execution_count": 7,
   "metadata": {},
   "outputs": [],
   "source": [
    "import sklearn.metrics as metrics\n",
    "\n",
    "def model_metrics(y_true, y_pred, p):\n",
    "    \"\"\"\n",
    "    Metrics to calculate the mean squared error, root mean squared error, R^2 score, and adjusted R^2 score\n",
    "    \"\"\"\n",
    "    mse = metrics.mean_squared_error(y_true, y_pred)\n",
    "    rmse = np.sqrt(mse)\n",
    "    r2 = metrics.r2_score(y_true, y_pred)\n",
    "    r2a = r2_adj(y_true, y_pred, p)\n",
    "    \n",
    "    print('Mean squared error      = ', mse)\n",
    "    print('Root mean squared error = ', rmse)\n",
    "    print('R^2                     = ', r2)\n",
    "    print('Adjusted R^2            = ', r2a)"
   ]
  },
  {
   "cell_type": "code",
   "execution_count": 8,
   "metadata": {},
   "outputs": [],
   "source": [
    "def cross_val_display_scores(scores):\n",
    "    \"\"\"\n",
    "    Function to display the scores, the mean of the scores and the standard deviation of the scores\n",
    "    \"\"\"\n",
    "    print('Scores: ', scores)\n",
    "    print('Mean: ', scores.mean())\n",
    "    print('Standard deviation: ', scores.std())"
   ]
  },
  {
   "cell_type": "code",
   "execution_count": 9,
   "metadata": {
    "scrolled": true
   },
   "outputs": [],
   "source": [
    "from sklearn.linear_model import LinearRegression\n",
    "\n",
    "lr = LinearRegression()\n",
    "X = final_train_df_scaled\n",
    "y = np.exp(clean_train_df['saleprice']) # Revert back to original saleprice"
   ]
  },
  {
   "cell_type": "code",
   "execution_count": 10,
   "metadata": {},
   "outputs": [],
   "source": [
    "# Split the training set into train and test sets to train on train sets before evaluating on the test set\n",
    "from sklearn.model_selection import train_test_split\n",
    "X_train, X_test, y_train, y_test = train_test_split(X, y, random_state=42)"
   ]
  },
  {
   "cell_type": "code",
   "execution_count": 11,
   "metadata": {},
   "outputs": [
    {
     "data": {
      "text/plain": [
       "LinearRegression()"
      ]
     },
     "execution_count": 11,
     "metadata": {},
     "output_type": "execute_result"
    }
   ],
   "source": [
    "# Train the model\n",
    "lr.fit(X_train, y_train)"
   ]
  },
  {
   "cell_type": "code",
   "execution_count": 12,
   "metadata": {},
   "outputs": [
    {
     "data": {
      "text/plain": [
       "array([ 3.36032492e+03,  8.02609272e+03,  7.69025647e+03,  7.42734201e+03,\n",
       "        1.10060614e+04,  8.97684888e+02,  2.98011363e+04,  1.00226090e+03,\n",
       "       -2.81263893e+03, -2.74694977e+03,  3.78665114e+03,  5.64483552e+03,\n",
       "        2.10541539e+03,  1.36853057e+03, -1.06515908e+04,  2.85085867e+03,\n",
       "        9.03249163e+14,  1.48764475e+15,  7.78439691e+14,  1.22464572e+15,\n",
       "        1.32941836e+15, -1.73925150e+03,  2.63498534e+03, -7.58505742e+02,\n",
       "        8.00197044e+13,  8.00197044e+13,  1.00592132e+03,  4.27343501e+03,\n",
       "        5.19322956e+00,  1.66519197e+01,  3.50460945e+03, -2.37882023e+03,\n",
       "       -5.68296908e+03, -4.21404929e+03, -5.76991346e+03,  8.94902587e+02,\n",
       "        7.44285734e+02,  2.53454802e+03, -1.38787641e+03,  7.60521968e+02,\n",
       "       -2.77472063e+03, -4.14382146e+03,  5.37408205e+02,  1.40070848e+14,\n",
       "        1.40070848e+14, -1.06659621e+15, -5.18892096e+15, -1.26876038e+15,\n",
       "       -2.62769305e+15, -8.13281999e+14, -4.81589157e+15, -2.34260398e+03,\n",
       "        1.32490090e+03,  1.20508488e+03,  6.70444228e+02, -1.38864924e+03,\n",
       "        4.57668845e+02,  4.71569909e+03,  9.92319356e+02,  5.91713939e+02,\n",
       "       -2.79588047e+02,  4.58804963e+03,  1.24089202e+03,  1.34321833e+03])"
      ]
     },
     "execution_count": 12,
     "metadata": {},
     "output_type": "execute_result"
    }
   ],
   "source": [
    "# Coefficients of the model, these numbers represents how much sale price increases by one unit of the respective feature \n",
    "lr.coef_"
   ]
  },
  {
   "cell_type": "code",
   "execution_count": 13,
   "metadata": {},
   "outputs": [
    {
     "data": {
      "text/plain": [
       "180735.93421600875"
      ]
     },
     "execution_count": 13,
     "metadata": {},
     "output_type": "execute_result"
    }
   ],
   "source": [
    "# The line of best fit cutting the y-axis. Represents the sale price when there are no features.\n",
    "lr.intercept_"
   ]
  },
  {
   "cell_type": "code",
   "execution_count": 14,
   "metadata": {},
   "outputs": [],
   "source": [
    "# Predicted sale price values of X_test\n",
    "y_pred = lr.predict(X_test)"
   ]
  },
  {
   "cell_type": "code",
   "execution_count": 15,
   "metadata": {
    "scrolled": true
   },
   "outputs": [
    {
     "name": "stdout",
     "output_type": "stream",
     "text": [
      "Mean squared error      =  842431266.2392491\n",
      "Root mean squared error =  29024.666513833523\n",
      "R^2                     =  0.8414761537586206\n",
      "Adjusted R^2            =  0.8167309680038688\n"
     ]
    }
   ],
   "source": [
    "# Calculate the metrics of the model\n",
    "model_metrics(y_test, y_pred, X.shape[1])"
   ]
  },
  {
   "cell_type": "code",
   "execution_count": 16,
   "metadata": {},
   "outputs": [
    {
     "data": {
      "text/plain": [
       "180722.01684210525"
      ]
     },
     "execution_count": 16,
     "metadata": {},
     "output_type": "execute_result"
    }
   ],
   "source": [
    "# Baseline model score, when there are no features in the model\n",
    "baseline_score = np.mean(y)\n",
    "baseline_score"
   ]
  },
  {
   "cell_type": "markdown",
   "metadata": {},
   "source": [
    "The goal of both the mean squared error and root mean squared error is to get it as close as possible to 0. The mean squared error calculates the average squared distance between the predicted and acutal values while root mean squared error is the square root of mean squared error and it scales to the original units of y. Both punishes outliers heavily. The standard deviation represents how far apart the scores between each other.\n",
    "\n",
    "The R^2 score shows how well the data points fit a curve or line.It explains how much of the variability in the target variable is explained by the independent variable, X. A score of close to 1 means most of the data points are able to fit the line of best fit while 0 means none of the variability is around the mean. The adjusted R^2 score adjusts for the numbers of independent variables in the model.\n",
    "\n",
    "Comparing against the `baseline_score` of 180,722.02 and `root_mean_squared_error` (RMSE) of 27,619.00, I can see that the RMSE is well below the baseline score and this shows the model is performing well as the error rate is lower. The R^2 and adjusted R^2 have a score of 0.86 and 0.83 which is also good as the around 85% of the y-variable is explained by the x-variable.\n",
    "\n",
    "I'll do the cross validation next to see if the model is overfitting the training set."
   ]
  },
  {
   "cell_type": "markdown",
   "metadata": {},
   "source": [
    "> <font size = 3 color = \"crimson\"> Compute the baseline score by using the mean sale price of train data as a prediction for sale price of test set. </font>"
   ]
  },
  {
   "cell_type": "markdown",
   "metadata": {},
   "source": [
    "### Cross validation across 5 different models."
   ]
  },
  {
   "cell_type": "code",
   "execution_count": 17,
   "metadata": {},
   "outputs": [],
   "source": [
    "# mse and rmse scores\n",
    "from sklearn.model_selection import cross_val_score\n",
    "mse_lin_scores = -cross_val_score(lr, X_train, y_train, cv=5, scoring='neg_mean_squared_error')\n",
    "rmse_lin_scores = np.sqrt(mse_lin_scores)"
   ]
  },
  {
   "cell_type": "code",
   "execution_count": 18,
   "metadata": {},
   "outputs": [],
   "source": [
    "# R2 scores\n",
    "r2_scores = cross_val_score(lr, X_train, y_train, cv=5, scoring='r2')"
   ]
  },
  {
   "cell_type": "code",
   "execution_count": 19,
   "metadata": {},
   "outputs": [
    {
     "name": "stdout",
     "output_type": "stream",
     "text": [
      "Scores:  [6.53794968e+08 7.66184884e+08 6.98679612e+08 5.75444062e+08\n",
      " 7.20757317e+08]\n",
      "Mean:  682972168.6187265\n",
      "Standard deviation:  64826537.66890104\n"
     ]
    }
   ],
   "source": [
    "# Mean cross validated scores of mse\n",
    "cross_val_display_scores(mse_lin_scores)"
   ]
  },
  {
   "cell_type": "code",
   "execution_count": 20,
   "metadata": {},
   "outputs": [
    {
     "name": "stdout",
     "output_type": "stream",
     "text": [
      "Scores:  [25569.41469599 27680.04486424 26432.54834514 23988.41516425\n",
      " 26846.92379772]\n",
      "Mean:  26103.469373470405\n",
      "Standard deviation:  1257.4002095669841\n"
     ]
    }
   ],
   "source": [
    "# Mean cross validated scores of rmse\n",
    "cross_val_display_scores(rmse_lin_scores)"
   ]
  },
  {
   "cell_type": "code",
   "execution_count": 21,
   "metadata": {},
   "outputs": [
    {
     "name": "stdout",
     "output_type": "stream",
     "text": [
      "Scores:  [0.8773174  0.81607387 0.83796395 0.84964621 0.84230081]\n",
      "Mean:  0.8446604466803727\n",
      "Standard deviation:  0.019793622159465785\n"
     ]
    }
   ],
   "source": [
    "# Mean cross validated scores of r^2\n",
    "cross_val_display_scores(r2_scores)"
   ]
  },
  {
   "cell_type": "markdown",
   "metadata": {},
   "source": [
    "## Linear Regression score table"
   ]
  },
  {
   "cell_type": "markdown",
   "metadata": {},
   "source": [
    "| Type of model     | MSE          | mean_cross_validation_MSE | RMSE     | mean_cross_validation_RMSE | R^2  | mean_cross_validation_R^2 | Adjusted R^2 |\n",
    "|-------------------|--------------|---------------------------|----------|----------------------------|------|---------------------------|--------------|\n",
    "| Linear Regression | 842,431,266.23 | 682,972,168.61              | 29,024.66 | 26,103.46                   | 0.84 | 0.84                      | 0.82         |"
   ]
  },
  {
   "cell_type": "markdown",
   "metadata": {},
   "source": [
    "There is a decrease in the MSE and RMSE for the cross validation and the R^2 score remains the same. This means the model is not overfitting on training set and performs well on unseen data."
   ]
  },
  {
   "cell_type": "markdown",
   "metadata": {},
   "source": [
    "The next few models will introduce regularization to prevent the model from overfitting by imposing a \"penalty\" on the coefficients of the model. This is also used to reduce the multicollinearity between the predictors in the model. I'll be using Ridge Regression, Lasso Regression and ElasticNet Regression (A combination of Ridge and Lasso regression)."
   ]
  },
  {
   "cell_type": "markdown",
   "metadata": {},
   "source": [
    "## Ridge Regression model"
   ]
  },
  {
   "cell_type": "code",
   "execution_count": 22,
   "metadata": {},
   "outputs": [
    {
     "data": {
      "text/plain": [
       "Ridge(alpha=5)"
      ]
     },
     "execution_count": 22,
     "metadata": {},
     "output_type": "execute_result"
    }
   ],
   "source": [
    "# Create the Ridge model\n",
    "from sklearn.linear_model import Ridge\n",
    "ridge_reg = Ridge(alpha=5)\n",
    "ridge_reg.fit(X_train, y_train)"
   ]
  },
  {
   "cell_type": "code",
   "execution_count": 23,
   "metadata": {},
   "outputs": [],
   "source": [
    "# Predicted sale price values of X_test using ridge regression\n",
    "y_pred_ridge = ridge_reg.predict(X_test)"
   ]
  },
  {
   "cell_type": "code",
   "execution_count": 24,
   "metadata": {},
   "outputs": [
    {
     "name": "stdout",
     "output_type": "stream",
     "text": [
      "Mean squared error      =  841054230.4125547\n",
      "Root mean squared error =  29000.934992040424\n",
      "R^2                     =  0.8417352764009156\n",
      "Adjusted R^2            =  0.8170305390586194\n"
     ]
    }
   ],
   "source": [
    "# Calculate the metrics of the model\n",
    "model_metrics(y_test, y_pred_ridge, X.shape[1])"
   ]
  },
  {
   "cell_type": "code",
   "execution_count": 25,
   "metadata": {},
   "outputs": [
    {
     "data": {
      "text/plain": [
       "array([ 3.36838899e+03,  8.01475354e+03,  7.65432467e+03,  7.39493410e+03,\n",
       "        1.08661100e+04,  1.48444940e+03,  2.88591469e+04,  1.05653584e+03,\n",
       "       -2.61871994e+03, -2.43643621e+03,  3.83380357e+03,  5.69103444e+03,\n",
       "        2.13150097e+03,  1.41063822e+03, -1.02633157e+04,  2.87835234e+03,\n",
       "        1.94606641e+02, -1.88801447e+03,  4.63545178e+03, -1.88453645e+03,\n",
       "        1.00223256e+03, -1.74367334e+03,  2.67055102e+03, -7.35052351e+02,\n",
       "       -1.92505723e+02,  1.92505723e+02,  1.00688004e+03,  4.26976504e+03,\n",
       "        2.65056602e+01,  5.97751417e+01,  3.50613537e+03, -2.36153231e+03,\n",
       "       -5.66624775e+03, -3.99783611e+03, -5.38795405e+03,  8.82218445e+02,\n",
       "        7.58842743e+02,  2.51910969e+03, -1.36222830e+03,  7.69703320e+02,\n",
       "       -2.76215671e+03, -4.08688245e+03,  5.53482874e+02,  5.39000024e+02,\n",
       "       -5.39000024e+02, -2.38264520e+03, -5.76266124e+01,  3.60620683e+01,\n",
       "        1.58524530e+03, -3.97312822e+02, -2.17576439e+02, -2.33037120e+03,\n",
       "        1.31764656e+03,  1.21233201e+03,  6.76597838e+02, -1.38759188e+03,\n",
       "        4.44163844e+02,  4.71433699e+03,  9.77307713e+02,  6.24227686e+02,\n",
       "       -2.25641145e+02,  4.62849643e+03,  1.22190383e+03,  1.35473746e+03])"
      ]
     },
     "execution_count": 25,
     "metadata": {},
     "output_type": "execute_result"
    }
   ],
   "source": [
    "# Ridge Coefficients\n",
    "ridge_reg.coef_"
   ]
  },
  {
   "cell_type": "markdown",
   "metadata": {},
   "source": [
    "There does not seem to much difference in metrics compared to the Linear Regression. Also, the coefficients looks almost the same for Ridge Regression."
   ]
  },
  {
   "cell_type": "markdown",
   "metadata": {},
   "source": [
    "> <font size = 3 color = \"crimson\"> You can use lassoCV directly to get optimized alpha instead of using an arbitrary alpha value of 5 </font>"
   ]
  },
  {
   "cell_type": "markdown",
   "metadata": {},
   "source": [
    "### Cross validation across 5 different models for Ridge Regression"
   ]
  },
  {
   "cell_type": "code",
   "execution_count": 26,
   "metadata": {},
   "outputs": [],
   "source": [
    "# mse and rmse scores\n",
    "ridge_mse_scores = -cross_val_score(ridge_reg, X_train, y_train, cv=5, scoring='neg_mean_squared_error')\n",
    "ridge_rmse_scores = np.sqrt(ridge_mse_scores)"
   ]
  },
  {
   "cell_type": "code",
   "execution_count": 27,
   "metadata": {},
   "outputs": [],
   "source": [
    "# R2 scores\n",
    "scores = cross_val_score(ridge_reg, X_train, y_train, cv=5, scoring='r2')\n",
    "ridge_r2_scores = scores"
   ]
  },
  {
   "cell_type": "code",
   "execution_count": 28,
   "metadata": {},
   "outputs": [
    {
     "name": "stdout",
     "output_type": "stream",
     "text": [
      "Scores:  [6.51190346e+08 7.63620125e+08 6.98557331e+08 5.71291756e+08\n",
      " 7.22277333e+08]\n",
      "Mean:  681387378.3629396\n",
      "Standard deviation:  65972611.07275819\n"
     ]
    }
   ],
   "source": [
    "# Mean cross validated scores of mse\n",
    "cross_val_display_scores(ridge_mse_scores)"
   ]
  },
  {
   "cell_type": "code",
   "execution_count": 29,
   "metadata": {},
   "outputs": [
    {
     "name": "stdout",
     "output_type": "stream",
     "text": [
      "Scores:  [25518.43150486 27633.67736833 26430.23517238 23901.71031747\n",
      " 26875.21782389]\n",
      "Mean:  26071.85443738763\n",
      "Standard deviation:  1282.8813501686648\n"
     ]
    }
   ],
   "source": [
    "# Mean cross validated scores of rmse\n",
    "cross_val_display_scores(ridge_rmse_scores)"
   ]
  },
  {
   "cell_type": "code",
   "execution_count": 30,
   "metadata": {},
   "outputs": [
    {
     "name": "stdout",
     "output_type": "stream",
     "text": [
      "Scores:  [0.87780615 0.81668955 0.83799231 0.85073113 0.84196823]\n",
      "Mean:  0.8450374753245873\n",
      "Standard deviation:  0.01984370311724294\n"
     ]
    }
   ],
   "source": [
    "# Mean cross validated scores of r^2\n",
    "cross_val_display_scores(ridge_r2_scores)"
   ]
  },
  {
   "cell_type": "markdown",
   "metadata": {},
   "source": [
    "## Ridge Regression and Linear Regression score table"
   ]
  },
  {
   "cell_type": "markdown",
   "metadata": {},
   "source": [
    "| Type of model     | MSE            | mean_cross_validation_MSE | RMSE      | mean_cross_validation_RMSE | R^2  | mean_cross_validation_R^2 | Adjusted R^2 |\n",
    "|-------------------|----------------|---------------------------|-----------|----------------------------|------|---------------------------|--------------|\n",
    "| Linear Regression | 842,431,266.23 | 682,972,168.61              | 29,024.66 | 26,103.46                   | 0.84 | 0.84                      | 0.82         |\n",
    "| Ridge Regression  | 841,054,230.41 | 681,387,378.36            | 29,000.93 | 26,071.85                  | 0.84 | 0.85                      | 0.82         |"
   ]
  },
  {
   "cell_type": "markdown",
   "metadata": {},
   "source": [
    "The Ridge Regression model yielded slightly better scores than Linear Regression model. The `alpha` hyperparameter can be changed later in the model tunning to see if it improves the scores."
   ]
  },
  {
   "cell_type": "markdown",
   "metadata": {},
   "source": [
    "## Lasso Regression model"
   ]
  },
  {
   "cell_type": "code",
   "execution_count": 31,
   "metadata": {},
   "outputs": [
    {
     "data": {
      "text/plain": [
       "Lasso(alpha=5, max_iter=10000)"
      ]
     },
     "execution_count": 31,
     "metadata": {},
     "output_type": "execute_result"
    }
   ],
   "source": [
    "from sklearn.linear_model import Lasso\n",
    "lasso_reg = Lasso(alpha=5,max_iter=10000)\n",
    "lasso_reg.fit(X_train, y_train)"
   ]
  },
  {
   "cell_type": "code",
   "execution_count": 32,
   "metadata": {},
   "outputs": [],
   "source": [
    "# Predicted sale price values of X_test using ridge regression\n",
    "y_pred_lasso = lasso_reg.predict(X_test)"
   ]
  },
  {
   "cell_type": "code",
   "execution_count": 33,
   "metadata": {},
   "outputs": [
    {
     "name": "stdout",
     "output_type": "stream",
     "text": [
      "Mean squared error      =  842118893.5003544\n",
      "Root mean squared error =  29019.28485508136\n",
      "R^2                     =  0.8415349342550422\n",
      "Adjusted R^2            =  0.8167989239924146\n"
     ]
    }
   ],
   "source": [
    "# Calculate the metrics of the model\n",
    "model_metrics(y_test, y_pred_lasso, X.shape[1])"
   ]
  },
  {
   "cell_type": "code",
   "execution_count": 34,
   "metadata": {},
   "outputs": [
    {
     "data": {
      "text/plain": [
       "array([ 3.36548067e+03,  8.02549756e+03,  7.67472771e+03,  7.42440259e+03,\n",
       "        1.09899923e+04,  9.39070148e+02,  2.97444997e+04,  1.00653830e+03,\n",
       "       -2.78937369e+03, -2.71998035e+03,  3.78926312e+03,  5.65187492e+03,\n",
       "        2.10533087e+03,  1.36630756e+03, -1.06184662e+04,  2.84148402e+03,\n",
       "        0.00000000e+00, -2.01664143e+03,  4.79683996e+03, -2.42430202e+03,\n",
       "        8.63728565e+02, -1.73351590e+03,  2.62570021e+03, -7.51599598e+02,\n",
       "       -3.84530206e+02,  9.17938063e-13,  1.00435600e+03,  4.27046842e+03,\n",
       "        6.61352973e+00,  1.06055138e+01,  3.49512983e+03, -2.36731131e+03,\n",
       "       -5.67298744e+03, -4.18150140e+03, -5.70280922e+03,  8.89306231e+02,\n",
       "        7.40553472e+02,  2.52559704e+03, -1.37659743e+03,  7.55684742e+02,\n",
       "       -2.77047753e+03, -4.12817440e+03,  5.40587711e+02,  1.08597423e+03,\n",
       "       -0.00000000e+00, -2.32957975e+03,  0.00000000e+00,  7.53967517e+01,\n",
       "        1.52564631e+03, -3.71129527e+02, -1.26991415e+02, -2.33856874e+03,\n",
       "        1.32077598e+03,  1.20187966e+03,  6.65923398e+02, -1.38346418e+03,\n",
       "        4.51517261e+02,  4.71488977e+03,  9.87376434e+02,  5.91411944e+02,\n",
       "       -2.66934227e+02,  4.58909991e+03,  1.23079006e+03,  1.34016328e+03])"
      ]
     },
     "execution_count": 34,
     "metadata": {},
     "output_type": "execute_result"
    }
   ],
   "source": [
    "# Lasso's coefficients\n",
    "lasso_reg.coef_"
   ]
  },
  {
   "cell_type": "markdown",
   "metadata": {},
   "source": [
    "The model seems to perform almost similar to Ridge Regression and Linear Regression model."
   ]
  },
  {
   "cell_type": "markdown",
   "metadata": {},
   "source": [
    "### Cross validation across 5 different models for Lasso Regression"
   ]
  },
  {
   "cell_type": "code",
   "execution_count": 35,
   "metadata": {},
   "outputs": [],
   "source": [
    "# mse and rmse scores\n",
    "lasso_reg = Lasso(alpha=5,max_iter=10000)\n",
    "scores = cross_val_score(lasso_reg, X_train, y_train, cv=5, scoring='neg_mean_squared_error')\n",
    "lasso_mse_scores = -scores\n",
    "lasso_rmse_scores = np.sqrt(-scores)"
   ]
  },
  {
   "cell_type": "code",
   "execution_count": 36,
   "metadata": {},
   "outputs": [],
   "source": [
    "# R2 scores\n",
    "lasso_r2_scores = cross_val_score(lasso_reg, X_train, y_train, cv=5, scoring='r2')"
   ]
  },
  {
   "cell_type": "code",
   "execution_count": 37,
   "metadata": {},
   "outputs": [
    {
     "name": "stdout",
     "output_type": "stream",
     "text": [
      "Scores:  [6.52146852e+08 7.66128844e+08 6.98724319e+08 5.72018289e+08\n",
      " 7.20365076e+08]\n",
      "Mean:  681876676.1517775\n",
      "Standard deviation:  66055061.054997176\n"
     ]
    }
   ],
   "source": [
    "# Mean cross validated scores of mse\n",
    "cross_val_display_scores(lasso_mse_scores)"
   ]
  },
  {
   "cell_type": "code",
   "execution_count": 38,
   "metadata": {},
   "outputs": [
    {
     "name": "stdout",
     "output_type": "stream",
     "text": [
      "Scores:  [25537.16610136 27679.03256655 26433.39402128 23916.90383042\n",
      " 26839.61765995]\n",
      "Mean:  26081.222835912853\n",
      "Standard deviation:  1283.1568630668464\n"
     ]
    }
   ],
   "source": [
    "# Mean cross validated scores of rmse\n",
    "cross_val_display_scores(lasso_rmse_scores)"
   ]
  },
  {
   "cell_type": "code",
   "execution_count": 39,
   "metadata": {},
   "outputs": [
    {
     "name": "stdout",
     "output_type": "stream",
     "text": [
      "Scores:  [0.87762666 0.81608732 0.83795358 0.8505413  0.84238663]\n",
      "Mean:  0.8449190997855706\n",
      "Standard deviation:  0.019937887539407805\n"
     ]
    }
   ],
   "source": [
    "# Mean cross validated scores of r^2\n",
    "cross_val_display_scores(lasso_r2_scores)"
   ]
  },
  {
   "cell_type": "markdown",
   "metadata": {},
   "source": [
    "## Score table"
   ]
  },
  {
   "cell_type": "markdown",
   "metadata": {},
   "source": [
    "| Type of model     | MSE            | mean_cross_validation_MSE | RMSE      | mean_cross_validation_RMSE | R^2  | mean_cross_validation_R^2 | Adjusted R^2 |\n",
    "|-------------------|----------------|---------------------------|-----------|----------------------------|------|---------------------------|--------------|\n",
    "| Linear Regression | 842,431,266.23   | 682,972,168.61              | 29,024.66  | 26,103.46                   | 0.84 | 0.84                      | 0.82         |\n",
    "| Ridge Regression  | 841,054,230.41 | 681,387,378.36            | 29,000.93 | 26,071.85                  | 0.84 | 0.85                      | 0.82         |\n",
    "| Lasso Regression  | 842,118,893.50 | 681,876,676.15            | 29,019.28 | 26,081.22                  | 0.84 | 0.85                      | 0.82         |"
   ]
  },
  {
   "cell_type": "markdown",
   "metadata": {},
   "source": [
    "Overall, we can see that Lasso Regression fares slightly better than the Linear Regression model but slightly worse than the Ridge Regression model. Tuning the alpha value can help to decrease the MSE and RMSE scores and improve the R^2 scores. The R^2 and adjusted R^2 remains about the same."
   ]
  },
  {
   "cell_type": "markdown",
   "metadata": {},
   "source": [
    "## ElasticNet Regression model"
   ]
  },
  {
   "cell_type": "markdown",
   "metadata": {},
   "source": [
    "l1_ratio represents the how much of the L1 penalty is being applied with a float of close to 1 being Lasso Penalty and close to 0 being Ridge Penalty."
   ]
  },
  {
   "cell_type": "code",
   "execution_count": 40,
   "metadata": {},
   "outputs": [
    {
     "data": {
      "text/plain": [
       "ElasticNet(alpha=5, l1_ratio=0.55, max_iter=10000)"
      ]
     },
     "execution_count": 40,
     "metadata": {},
     "output_type": "execute_result"
    }
   ],
   "source": [
    "from sklearn.linear_model import ElasticNet\n",
    "elasticnet_reg = ElasticNet(alpha=5, l1_ratio=0.55, max_iter=10000)\n",
    "elasticnet_reg.fit(X_train, y_train)"
   ]
  },
  {
   "cell_type": "code",
   "execution_count": 41,
   "metadata": {},
   "outputs": [],
   "source": [
    "# Predicted sale price values of X_test using ridge regression\n",
    "y_pred_elasticnet = elasticnet_reg.predict(X_test)"
   ]
  },
  {
   "cell_type": "code",
   "execution_count": 42,
   "metadata": {
    "scrolled": true
   },
   "outputs": [
    {
     "name": "stdout",
     "output_type": "stream",
     "text": [
      "Mean squared error      =  1272518325.7702575\n",
      "Root mean squared error =  35672.37482661138\n",
      "R^2                     =  0.7605448568946487\n",
      "Adjusted R^2            =  0.7231664930928376\n"
     ]
    }
   ],
   "source": [
    "# Calculate the metrics of the model\n",
    "model_metrics(y_test, y_pred_elasticnet, X.shape[1])"
   ]
  },
  {
   "cell_type": "markdown",
   "metadata": {},
   "source": [
    "The model seems to perform very badly compared to Ridge Regression and Linear Regression models."
   ]
  },
  {
   "cell_type": "markdown",
   "metadata": {},
   "source": [
    "> <font size = 3 color = \"crimson\"> You would need to use get optimal values for alpha and l1_ratio</font>"
   ]
  },
  {
   "cell_type": "markdown",
   "metadata": {},
   "source": [
    "### Cross validation across 5 different models for elasticnet Regression"
   ]
  },
  {
   "cell_type": "code",
   "execution_count": 43,
   "metadata": {},
   "outputs": [],
   "source": [
    "# mse and rmse scores\n",
    "elasticnet_mse_scores = -cross_val_score(elasticnet_reg, X_train, y_train, cv=5, scoring='neg_mean_squared_error')\n",
    "elasticnet_rmse_scores = np.sqrt(elasticnet_mse_scores)"
   ]
  },
  {
   "cell_type": "code",
   "execution_count": 44,
   "metadata": {},
   "outputs": [],
   "source": [
    "# R2 scores\n",
    "elasticnet_r2_scores = cross_val_score(elasticnet_reg, X_train, y_train, cv=5, scoring='r2')"
   ]
  },
  {
   "cell_type": "code",
   "execution_count": 45,
   "metadata": {
    "scrolled": true
   },
   "outputs": [
    {
     "name": "stdout",
     "output_type": "stream",
     "text": [
      "Scores:  [1.23781193e+09 1.03280949e+09 1.04502653e+09 7.72959499e+08\n",
      " 1.17375375e+09]\n",
      "Mean:  1052472239.5547508\n",
      "Standard deviation:  159768232.75248072\n"
     ]
    }
   ],
   "source": [
    "# Mean cross validated scores of mse\n",
    "cross_val_display_scores(elasticnet_mse_scores)"
   ]
  },
  {
   "cell_type": "code",
   "execution_count": 46,
   "metadata": {},
   "outputs": [
    {
     "name": "stdout",
     "output_type": "stream",
     "text": [
      "Scores:  [35182.55149522 32137.35350064 32326.87003441 27802.14917325\n",
      " 34260.08980084]\n",
      "Mean:  32341.80280087189\n",
      "Standard deviation:  2545.5905295757593\n"
     ]
    }
   ],
   "source": [
    "# Mean cross validated scores of rmse\n",
    "cross_val_display_scores(elasticnet_rmse_scores)"
   ]
  },
  {
   "cell_type": "code",
   "execution_count": 47,
   "metadata": {},
   "outputs": [
    {
     "name": "stdout",
     "output_type": "stream",
     "text": [
      "Scores:  [0.76772842 0.75206943 0.75764003 0.79803877 0.74318676]\n",
      "Mean:  0.7637326832027093\n",
      "Standard deviation:  0.0189111602719657\n"
     ]
    }
   ],
   "source": [
    "# Mean cross validated scores of r^2\n",
    "cross_val_display_scores(elasticnet_r2_scores)"
   ]
  },
  {
   "cell_type": "markdown",
   "metadata": {},
   "source": [
    "## Score Table"
   ]
  },
  {
   "cell_type": "markdown",
   "metadata": {},
   "source": [
    "| Type of model         | MSE              | mean_cross_validation_MSE | RMSE      | mean_cross_validation_RMSE | R^2  | mean_cross_validation_R^2 | Adjusted R^2 |\n",
    "|-----------------------|------------------|---------------------------|-----------|----------------------------|------|---------------------------|--------------|\n",
    "| Linear Regression     | 842,431,266.23   | 682,972,168.61            | 29,024.66 | 26,103.46                  | 0.84 | 0.84                      | 0.82         |\n",
    "| Ridge Regression      | 841,054,230.41   | 681,387,378.36            | 29,000.93 | 26,071.85                  | 0.84 | 0.85                      | 0.82         |\n",
    "| Lasso Regression      | 842,118,893.50   | 681,876,676.15            | 29,019.28 | 26,081.22                  | 0.84 | 0.85                      | 0.82         |\n",
    "| ElasticNet Regression | 1,272,518,325.77 | 1,052,472,239.55          | 35,672.37 | 32,341.80                  | 0.76 | 0.76                      | 0.72         |"
   ]
  },
  {
   "cell_type": "markdown",
   "metadata": {},
   "source": [
    "ElasticNet performed the worst with the scores being much higher compared to the other models. Fine tunning the hyperparameters would be useful later on to see if it performs better."
   ]
  },
  {
   "cell_type": "markdown",
   "metadata": {},
   "source": [
    "# Model Tuning"
   ]
  },
  {
   "cell_type": "markdown",
   "metadata": {},
   "source": [
    "I'll testing the different hyperparameters for each model to find the optimal regularization to see if the performance improves."
   ]
  },
  {
   "cell_type": "markdown",
   "metadata": {},
   "source": [
    "## Ridge Regression Tuning"
   ]
  },
  {
   "cell_type": "markdown",
   "metadata": {},
   "source": [
    "Ridge performs best searching alphas through logarithmic space"
   ]
  },
  {
   "cell_type": "code",
   "execution_count": 48,
   "metadata": {},
   "outputs": [
    {
     "name": "stdout",
     "output_type": "stream",
     "text": [
      "14.314589375234792\n"
     ]
    }
   ],
   "source": [
    "from sklearn.linear_model import RidgeCV\n",
    "ridge_alphas = np.logspace(0, 5, 200)\n",
    "\n",
    "optimal_ridge = RidgeCV(alphas = ridge_alphas, cv=10)\n",
    "optimal_ridge.fit(X_train, y_train)\n",
    "\n",
    "print(optimal_ridge.alpha_)"
   ]
  },
  {
   "cell_type": "markdown",
   "metadata": {},
   "source": [
    "**The best alpha is 14.31** for ridge regression model."
   ]
  },
  {
   "cell_type": "code",
   "execution_count": 49,
   "metadata": {
    "scrolled": true
   },
   "outputs": [
    {
     "name": "stdout",
     "output_type": "stream",
     "text": [
      "Mean squared error      =  839286265.0097898\n",
      "Root mean squared error =  28970.437777323797\n",
      "R^2                     =  0.8420679619111758\n",
      "Adjusted R^2            =  0.8174151559656033\n"
     ]
    }
   ],
   "source": [
    "optimal_ridge_predict =optimal_ridge.predict(X_test)\n",
    "model_metrics(y_test, optimal_ridge_predict, X_test.shape[1])"
   ]
  },
  {
   "cell_type": "code",
   "execution_count": 50,
   "metadata": {},
   "outputs": [
    {
     "data": {
      "text/plain": [
       "RidgeCV(alphas=array([1.00000000e+00, 1.05956018e+00, 1.12266777e+00, 1.18953407e+00,\n",
       "       1.26038293e+00, 1.33545156e+00, 1.41499130e+00, 1.49926843e+00,\n",
       "       1.58856513e+00, 1.68318035e+00, 1.78343088e+00, 1.88965234e+00,\n",
       "       2.00220037e+00, 2.12145178e+00, 2.24780583e+00, 2.38168555e+00,\n",
       "       2.52353917e+00, 2.67384162e+00, 2.83309610e+00, 3.00183581e+00,\n",
       "       3.18062569e+00, 3.37006433e+0...\n",
       "       2.64308149e+04, 2.80050389e+04, 2.96730241e+04, 3.14403547e+04,\n",
       "       3.33129479e+04, 3.52970730e+04, 3.73993730e+04, 3.96268864e+04,\n",
       "       4.19870708e+04, 4.44878283e+04, 4.71375313e+04, 4.99450512e+04,\n",
       "       5.29197874e+04, 5.60716994e+04, 5.94113398e+04, 6.29498899e+04,\n",
       "       6.66991966e+04, 7.06718127e+04, 7.48810386e+04, 7.93409667e+04,\n",
       "       8.40665289e+04, 8.90735464e+04, 9.43787828e+04, 1.00000000e+05]),\n",
       "        cv=10, scoring='neg_mean_squared_error')"
      ]
     },
     "execution_count": 50,
     "metadata": {},
     "output_type": "execute_result"
    }
   ],
   "source": [
    "ridge_alphas = np.logspace(0, 5, 200)\n",
    "\n",
    "optimal_ridge_mse = RidgeCV(alphas = ridge_alphas, cv=10, scoring='neg_mean_squared_error')\n",
    "optimal_ridge_mse.fit(X_train, y_train)"
   ]
  },
  {
   "cell_type": "code",
   "execution_count": 51,
   "metadata": {},
   "outputs": [
    {
     "data": {
      "text/plain": [
       "668627830.5648474"
      ]
     },
     "execution_count": 51,
     "metadata": {},
     "output_type": "execute_result"
    }
   ],
   "source": [
    "# Best mse score from cross validation\n",
    "-optimal_ridge_mse.best_score_"
   ]
  },
  {
   "cell_type": "code",
   "execution_count": 52,
   "metadata": {},
   "outputs": [
    {
     "data": {
      "text/plain": [
       "25857.83886106585"
      ]
     },
     "execution_count": 52,
     "metadata": {},
     "output_type": "execute_result"
    }
   ],
   "source": [
    "# Best rmse score from cross validation\n",
    "np.sqrt(-optimal_ridge_mse.best_score_)"
   ]
  },
  {
   "cell_type": "markdown",
   "metadata": {},
   "source": [
    "The MSE and RMSE performed better when the alpha values is increased to 14.13"
   ]
  },
  {
   "cell_type": "markdown",
   "metadata": {},
   "source": [
    "## Original Score Table"
   ]
  },
  {
   "cell_type": "markdown",
   "metadata": {},
   "source": [
    "| Type of model         | MSE              | mean_cross_validation_MSE | RMSE      | mean_cross_validation_RMSE | R^2  | mean_cross_validation_R^2 | Adjusted R^2 |\n",
    "|-----------------------|------------------|---------------------------|-----------|----------------------------|------|---------------------------|--------------|\n",
    "| Linear Regression     | 842,431,266.23   | 682,972,168.61            | 29,024.66 | 26,103.46                  | 0.84 | 0.84                      | 0.82         |\n",
    "| Ridge Regression      | 841,054,230.41   | 681,387,378.36            | 29,000.93 | 26,071.85                  | 0.84 | 0.85                      | 0.82         |\n",
    "| Lasso Regression      | 842,118,893.50   | 681,876,676.15            | 29,019.28 | 26,081.22                  | 0.84 | 0.85                      | 0.82         |\n",
    "| ElasticNet Regression | 1,272,518,325.77 | 1,052,472,239.55          | 35,672.37 | 32,341.80                  | 0.76 | 0.76                      | 0.72         |"
   ]
  },
  {
   "cell_type": "markdown",
   "metadata": {},
   "source": [
    "## Lasso Regression Tuning"
   ]
  },
  {
   "cell_type": "markdown",
   "metadata": {},
   "source": [
    "Lasso performs best searching for alpha through linear space"
   ]
  },
  {
   "cell_type": "code",
   "execution_count": 53,
   "metadata": {},
   "outputs": [
    {
     "name": "stdout",
     "output_type": "stream",
     "text": [
      "170.8986232790989\n"
     ]
    }
   ],
   "source": [
    "from sklearn.linear_model import LassoCV\n",
    "optimal_lasso = LassoCV(n_alphas=800,alphas=np.linspace(1,900,num=800),cv=10, max_iter=10000)\n",
    "optimal_lasso.fit(X_train, y_train)\n",
    "\n",
    "print(optimal_lasso.alpha_)"
   ]
  },
  {
   "cell_type": "code",
   "execution_count": 54,
   "metadata": {},
   "outputs": [
    {
     "name": "stdout",
     "output_type": "stream",
     "text": [
      "Mean squared error      =  836247728.452978\n",
      "Root mean squared error =  28917.948206139696\n",
      "R^2                     =  0.8426397361570216\n",
      "Adjusted R^2            =  0.8180761827766543\n"
     ]
    }
   ],
   "source": [
    "y_pred_lasso = optimal_lasso.predict(X_test)\n",
    "\n",
    "model_metrics(y_test, y_pred_lasso, X.shape[1])"
   ]
  },
  {
   "cell_type": "markdown",
   "metadata": {},
   "source": [
    "The best alpha value for Lasso is 170.89 for Lasso regression model according to LassoCV."
   ]
  },
  {
   "cell_type": "code",
   "execution_count": 55,
   "metadata": {},
   "outputs": [],
   "source": [
    "from sklearn.model_selection import GridSearchCV\n",
    "\n",
    "lasso_parameters = {\n",
    "    'alpha': range(100, 400)\n",
    "}\n",
    "\n",
    "lasso_gridsearch = GridSearchCV(\n",
    "    Lasso(),\n",
    "    lasso_parameters,\n",
    "    cv=10\n",
    ")"
   ]
  },
  {
   "cell_type": "code",
   "execution_count": 56,
   "metadata": {},
   "outputs": [
    {
     "data": {
      "text/plain": [
       "GridSearchCV(cv=10, estimator=Lasso(), param_grid={'alpha': range(100, 400)})"
      ]
     },
     "execution_count": 56,
     "metadata": {},
     "output_type": "execute_result"
    }
   ],
   "source": [
    "lasso_gridsearch.fit(X_train, y_train)"
   ]
  },
  {
   "cell_type": "markdown",
   "metadata": {},
   "source": [
    "> <font size = 3 color = \"crimson\"> There is no need to use gridsearch as it would produce similar results. Gridsearch is a more generalised approach to get optimal features while lasso and ridge regularization only get the optimised values of alpha  </font>"
   ]
  },
  {
   "cell_type": "code",
   "execution_count": 57,
   "metadata": {},
   "outputs": [
    {
     "data": {
      "text/plain": [
       "{'alpha': 163}"
      ]
     },
     "execution_count": 57,
     "metadata": {},
     "output_type": "execute_result"
    }
   ],
   "source": [
    "lasso_gridsearch.best_params_"
   ]
  },
  {
   "cell_type": "markdown",
   "metadata": {},
   "source": [
    "Grid Search CV also yielded the same result of the best alpha being 160."
   ]
  },
  {
   "cell_type": "code",
   "execution_count": 58,
   "metadata": {},
   "outputs": [
    {
     "data": {
      "text/plain": [
       "0.8677307254732431"
      ]
     },
     "execution_count": 58,
     "metadata": {},
     "output_type": "execute_result"
    }
   ],
   "source": [
    "# R2 score of Optimal Lasso for training set\n",
    "optimal_lasso.score(X_train, y_train)"
   ]
  },
  {
   "cell_type": "code",
   "execution_count": 59,
   "metadata": {},
   "outputs": [
    {
     "data": {
      "text/plain": [
       "0.8426397361570216"
      ]
     },
     "execution_count": 59,
     "metadata": {},
     "output_type": "execute_result"
    }
   ],
   "source": [
    "# R2 score of Optimal Lasso for test set\n",
    "optimal_lasso.score(X_test, y_test)"
   ]
  },
  {
   "cell_type": "markdown",
   "metadata": {},
   "source": [
    "It's slightly overfitting the model as seen in the lower score for the test set."
   ]
  },
  {
   "cell_type": "markdown",
   "metadata": {},
   "source": [
    "## Cross validate"
   ]
  },
  {
   "cell_type": "code",
   "execution_count": 60,
   "metadata": {},
   "outputs": [],
   "source": [
    "# mse and rmse scores\n",
    "lasso_reg = Lasso(alpha=163,max_iter=10000)\n",
    "scores = cross_val_score(lasso_reg, X_train, y_train, cv=5, scoring='neg_mean_squared_error')\n",
    "lasso_mse_scores = -scores\n",
    "lasso_rmse_scores = np.sqrt(-scores)"
   ]
  },
  {
   "cell_type": "code",
   "execution_count": 61,
   "metadata": {},
   "outputs": [],
   "source": [
    "# R2 scores\n",
    "lasso_r2_scores = cross_val_score(lasso_reg, X_train, y_train, cv=5, scoring='r2')"
   ]
  },
  {
   "cell_type": "code",
   "execution_count": 62,
   "metadata": {
    "scrolled": true
   },
   "outputs": [
    {
     "name": "stdout",
     "output_type": "stream",
     "text": [
      "Scores:  [6.46782572e+08 7.60968319e+08 7.04565909e+08 5.52003347e+08\n",
      " 7.11650620e+08]\n",
      "Mean:  675194153.2931757\n",
      "Standard deviation:  71459323.05640493\n"
     ]
    }
   ],
   "source": [
    "# Mean cross validated scores of mse\n",
    "cross_val_display_scores(lasso_mse_scores)"
   ]
  },
  {
   "cell_type": "code",
   "execution_count": 63,
   "metadata": {},
   "outputs": [
    {
     "name": "stdout",
     "output_type": "stream",
     "text": [
      "Scores:  [25431.92032998 27585.65423296 26543.66042381 23494.7514779\n",
      " 26676.7805335 ]\n",
      "Mean:  25946.55339962872\n",
      "Standard deviation:  1403.7521053914672\n"
     ]
    }
   ],
   "source": [
    "# Mean cross validated scores of rmse\n",
    "cross_val_display_scores(lasso_rmse_scores)"
   ]
  },
  {
   "cell_type": "code",
   "execution_count": 64,
   "metadata": {},
   "outputs": [
    {
     "name": "stdout",
     "output_type": "stream",
     "text": [
      "Scores:  [0.87863325 0.81732613 0.83659882 0.85577087 0.84429332]\n",
      "Mean:  0.8465244776165994\n",
      "Standard deviation:  0.020359318794540435\n"
     ]
    }
   ],
   "source": [
    "# Mean cross validated scores of r^2\n",
    "cross_val_display_scores(lasso_r2_scores)"
   ]
  },
  {
   "cell_type": "markdown",
   "metadata": {},
   "source": [
    "## ElasticNet Regression Tuning"
   ]
  },
  {
   "cell_type": "code",
   "execution_count": null,
   "metadata": {},
   "outputs": [],
   "source": [
    "from sklearn.linear_model import ElasticNetCV\n",
    "l1_ratios = np.linspace(0.01, 1.0, 25)\n",
    "\n",
    "optimal_enet = ElasticNetCV(l1_ratio=l1_ratios, n_alphas=900, cv=10,\n",
    "                            verbose=0, n_jobs=-1)\n",
    "optimal_enet.fit(X_train, y_train)\n",
    "\n",
    "print(\"Optimal Elastic Net alpha: \",optimal_enet.alpha_)\n",
    "print(\"Optimal Elastic Net l1 ratio: \",optimal_enet.l1_ratio_)"
   ]
  },
  {
   "cell_type": "code",
   "execution_count": null,
   "metadata": {},
   "outputs": [],
   "source": [
    "optimal_enet.score(X_train, y_train)"
   ]
  },
  {
   "cell_type": "code",
   "execution_count": null,
   "metadata": {},
   "outputs": [],
   "source": [
    "optimal_enet.score(X_test, y_test)"
   ]
  },
  {
   "cell_type": "code",
   "execution_count": null,
   "metadata": {},
   "outputs": [],
   "source": [
    "len(optimal_enet.coef_)"
   ]
  },
  {
   "cell_type": "markdown",
   "metadata": {},
   "source": [
    "It seems Lasso Regression is favored over Ridge Regression with `l1_ratio` of 1 and the alpha remains the same with a value of 160."
   ]
  },
  {
   "cell_type": "code",
   "execution_count": null,
   "metadata": {},
   "outputs": [],
   "source": [
    "model_metrics(y_test, optimal_enet.predict(X_test), len(optimal_enet.coef_))"
   ]
  },
  {
   "cell_type": "markdown",
   "metadata": {},
   "source": [
    "The score seems slightly worse compared to Lasso Regression's model. "
   ]
  },
  {
   "cell_type": "markdown",
   "metadata": {},
   "source": [
    "It seems ElasticNet Regression favors Lasso Regression over Ridge Regression. "
   ]
  },
  {
   "cell_type": "markdown",
   "metadata": {},
   "source": [
    "## Cross validated"
   ]
  },
  {
   "cell_type": "code",
   "execution_count": null,
   "metadata": {},
   "outputs": [],
   "source": [
    "# mse and rmse scores\n",
    "elasticnet_reg = ElasticNet(alpha=167.26, l1_ratio=1, max_iter=10000)\n",
    "elasticnet_mse_scores = -cross_val_score(elasticnet_reg, X_train, y_train, cv=5, scoring='neg_mean_squared_error')\n",
    "elasticnet_rmse_scores = np.sqrt(elasticnet_mse_scores)"
   ]
  },
  {
   "cell_type": "code",
   "execution_count": null,
   "metadata": {},
   "outputs": [],
   "source": [
    "# R2 scores\n",
    "elasticnet_r2_scores = cross_val_score(elasticnet_reg, X_train, y_train, cv=5, scoring='r2')"
   ]
  },
  {
   "cell_type": "code",
   "execution_count": null,
   "metadata": {},
   "outputs": [],
   "source": [
    "# Mean cross validated scores of mse\n",
    "cross_val_display_scores(elasticnet_mse_scores)"
   ]
  },
  {
   "cell_type": "code",
   "execution_count": null,
   "metadata": {},
   "outputs": [],
   "source": [
    "# Mean cross validated scores of rmse\n",
    "cross_val_display_scores(elasticnet_rmse_scores)"
   ]
  },
  {
   "cell_type": "code",
   "execution_count": null,
   "metadata": {},
   "outputs": [],
   "source": [
    "# Mean cross validated scores of r^2\n",
    "cross_val_display_scores(elasticnet_r2_scores)"
   ]
  },
  {
   "cell_type": "markdown",
   "metadata": {},
   "source": [
    "# Updated table"
   ]
  },
  {
   "cell_type": "markdown",
   "metadata": {},
   "source": [
    "| Type of model         | MSE            | mean_cross_validation_MSE | RMSE      | mean_cross_validation_RMSE | R^2  | mean_cross_validation_R^2 | Adjusted R^2 |\n",
    "|-----------------------|----------------|---------------------------|-----------|----------------------------|------|---------------------------|--------------|\n",
    "| Linear Regression     | 842,431,266.23 | 682,972,168.61            | 29,024.66 | 26,103.46                  | 0.84 | 0.84                      | 0.82         |\n",
    "| Ridge Regression      | 839,286,265.00 | 668,627,830.56            | 28,970.43 | 25,857.83                  | 0.84 | 0.85                      | 0.82         |\n",
    "| Lasso Regression      | 836,247,728.45 | 675,194,153.29            | 28,917.94 | 25,946.55                  | 0.84 | 0.84                      | 0.81         |\n",
    "| ElasticNet Regression | 836,295,192.86 | 675,125,387.74            | 28,918.76 | 25,945.08                  | 0.84 | 0.84                      | 0.81         |"
   ]
  },
  {
   "cell_type": "markdown",
   "metadata": {},
   "source": [
    "Ridge Regression is the best model as it has the lowest score among all other models."
   ]
  },
  {
   "cell_type": "markdown",
   "metadata": {},
   "source": [
    "# Find the predicted sale price using Ridge Regression on the test set"
   ]
  },
  {
   "cell_type": "markdown",
   "metadata": {},
   "source": [
    "As Lasso Regression makes the better predictions compared to the rest of the models. I'll be using it make the predictions. "
   ]
  },
  {
   "cell_type": "code",
   "execution_count": 276,
   "metadata": {},
   "outputs": [
    {
     "data": {
      "text/plain": [
       "Lasso(alpha=14.31)"
      ]
     },
     "execution_count": 276,
     "metadata": {},
     "output_type": "execute_result"
    }
   ],
   "source": [
    "# Creating the ridge model\n",
    "X = final_train_df_scaled\n",
    "y = np.exp(clean_train_df['saleprice'])\n",
    "\n",
    "ridge_reg = Ridge(alpha=14.31)\n",
    "ridge_reg.fit(X,y)"
   ]
  },
  {
   "cell_type": "code",
   "execution_count": 277,
   "metadata": {},
   "outputs": [
    {
     "data": {
      "text/html": [
       "<div>\n",
       "<style scoped>\n",
       "    .dataframe tbody tr th:only-of-type {\n",
       "        vertical-align: middle;\n",
       "    }\n",
       "\n",
       "    .dataframe tbody tr th {\n",
       "        vertical-align: top;\n",
       "    }\n",
       "\n",
       "    .dataframe thead th {\n",
       "        text-align: right;\n",
       "    }\n",
       "</style>\n",
       "<table border=\"1\" class=\"dataframe\">\n",
       "  <thead>\n",
       "    <tr style=\"text-align: right;\">\n",
       "      <th></th>\n",
       "      <th>Values</th>\n",
       "    </tr>\n",
       "  </thead>\n",
       "  <tbody>\n",
       "    <tr>\n",
       "      <th>ms_subclass_11/2_story_finished_all_ages</th>\n",
       "      <td>0.0</td>\n",
       "    </tr>\n",
       "    <tr>\n",
       "      <th>bsmt_cond</th>\n",
       "      <td>-0.0</td>\n",
       "    </tr>\n",
       "  </tbody>\n",
       "</table>\n",
       "</div>"
      ],
      "text/plain": [
       "                                          Values\n",
       "ms_subclass_11/2_story_finished_all_ages     0.0\n",
       "bsmt_cond                                   -0.0"
      ]
     },
     "execution_count": 277,
     "metadata": {},
     "output_type": "execute_result"
    }
   ],
   "source": [
    "\n",
    "ridge_coef_df = pd.DataFrame(ridge_reg.coef_, index=final_test_df_scaled.columns, columns=['Values'])\n",
    "ridge_coef_df[ridge_coef_df == 0].dropna()"
   ]
  },
  {
   "cell_type": "code",
   "execution_count": 278,
   "metadata": {
    "scrolled": true
   },
   "outputs": [
    {
     "data": {
      "text/html": [
       "<div>\n",
       "<style scoped>\n",
       "    .dataframe tbody tr th:only-of-type {\n",
       "        vertical-align: middle;\n",
       "    }\n",
       "\n",
       "    .dataframe tbody tr th {\n",
       "        vertical-align: top;\n",
       "    }\n",
       "\n",
       "    .dataframe thead th {\n",
       "        text-align: right;\n",
       "    }\n",
       "</style>\n",
       "<table border=\"1\" class=\"dataframe\">\n",
       "  <thead>\n",
       "    <tr style=\"text-align: right;\">\n",
       "      <th></th>\n",
       "      <th>Values</th>\n",
       "    </tr>\n",
       "  </thead>\n",
       "  <tbody>\n",
       "    <tr>\n",
       "      <th>gr_liv_area</th>\n",
       "      <td>28957.119735</td>\n",
       "    </tr>\n",
       "    <tr>\n",
       "      <th>total_bsmt_sf</th>\n",
       "      <td>9957.273808</td>\n",
       "    </tr>\n",
       "    <tr>\n",
       "      <th>year_remod/add</th>\n",
       "      <td>7816.814978</td>\n",
       "    </tr>\n",
       "    <tr>\n",
       "      <th>bsmtfin_sf_1</th>\n",
       "      <td>6981.003468</td>\n",
       "    </tr>\n",
       "    <tr>\n",
       "      <th>mas_vnr_area</th>\n",
       "      <td>6784.780619</td>\n",
       "    </tr>\n",
       "  </tbody>\n",
       "</table>\n",
       "</div>"
      ],
      "text/plain": [
       "                      Values\n",
       "gr_liv_area     28957.119735\n",
       "total_bsmt_sf    9957.273808\n",
       "year_remod/add   7816.814978\n",
       "bsmtfin_sf_1     6981.003468\n",
       "mas_vnr_area     6784.780619"
      ]
     },
     "execution_count": 278,
     "metadata": {},
     "output_type": "execute_result"
    }
   ],
   "source": [
    "# Top 5 positive coefficients\n",
    "ridge_coef_df[ridge_coef_df > 0].dropna().sort_values('Values', ascending=False).head()"
   ]
  },
  {
   "cell_type": "code",
   "execution_count": 279,
   "metadata": {
    "scrolled": true
   },
   "outputs": [
    {
     "data": {
      "text/html": [
       "<div>\n",
       "<style scoped>\n",
       "    .dataframe tbody tr th:only-of-type {\n",
       "        vertical-align: middle;\n",
       "    }\n",
       "\n",
       "    .dataframe tbody tr th {\n",
       "        vertical-align: top;\n",
       "    }\n",
       "\n",
       "    .dataframe thead th {\n",
       "        text-align: right;\n",
       "    }\n",
       "</style>\n",
       "<table border=\"1\" class=\"dataframe\">\n",
       "  <thead>\n",
       "    <tr style=\"text-align: right;\">\n",
       "      <th></th>\n",
       "      <th>Values</th>\n",
       "    </tr>\n",
       "  </thead>\n",
       "  <tbody>\n",
       "    <tr>\n",
       "      <th>mas_vnr_type_BrkFace</th>\n",
       "      <td>-3325.875867</td>\n",
       "    </tr>\n",
       "    <tr>\n",
       "      <th>bldg_type_Twnhs</th>\n",
       "      <td>-3686.742456</td>\n",
       "    </tr>\n",
       "    <tr>\n",
       "      <th>bldg_type_TwnhsE</th>\n",
       "      <td>-5339.736485</td>\n",
       "    </tr>\n",
       "    <tr>\n",
       "      <th>bldg_type_Duplex</th>\n",
       "      <td>-5427.422005</td>\n",
       "    </tr>\n",
       "    <tr>\n",
       "      <th>house_age</th>\n",
       "      <td>-11011.021080</td>\n",
       "    </tr>\n",
       "  </tbody>\n",
       "</table>\n",
       "</div>"
      ],
      "text/plain": [
       "                            Values\n",
       "mas_vnr_type_BrkFace  -3325.875867\n",
       "bldg_type_Twnhs       -3686.742456\n",
       "bldg_type_TwnhsE      -5339.736485\n",
       "bldg_type_Duplex      -5427.422005\n",
       "house_age            -11011.021080"
      ]
     },
     "execution_count": 279,
     "metadata": {},
     "output_type": "execute_result"
    }
   ],
   "source": [
    "# Top 5 negative coefficients\n",
    "ridge_coef_df[ridge_coef_df < 0].dropna().sort_values('Values', ascending=False).tail()"
   ]
  },
  {
   "cell_type": "markdown",
   "metadata": {},
   "source": [
    "> <font size = 3 color = \"crimson\"> Do interpret the results of your model for the purpose of inference. A unit increase in feature X would result in a corresponding increase in $y for sale price.  </font>"
   ]
  },
  {
   "cell_type": "markdown",
   "metadata": {},
   "source": [
    "> <font size = 3 color = \"crimson\"> Are the assumptions for linear regression met?  </font>"
   ]
  },
  {
   "cell_type": "code",
   "execution_count": 280,
   "metadata": {},
   "outputs": [],
   "source": [
    "# Making the sales prediction on the final_test_df_scaled\n",
    "sales_pred = ridge_reg.predict(final_test_df_scaled)"
   ]
  },
  {
   "cell_type": "code",
   "execution_count": 281,
   "metadata": {
    "scrolled": true
   },
   "outputs": [
    {
     "data": {
      "text/plain": [
       "0      2658\n",
       "1      2718\n",
       "2      2414\n",
       "3      1989\n",
       "4       625\n",
       "       ... \n",
       "874    1662\n",
       "875    1234\n",
       "876    1373\n",
       "877    1672\n",
       "878    1939\n",
       "Name: Id, Length: 879, dtype: int64"
      ]
     },
     "execution_count": 281,
     "metadata": {},
     "output_type": "execute_result"
    }
   ],
   "source": [
    "# Getting the ids for test_df\n",
    "test_ids = test_df['Id']\n",
    "test_ids"
   ]
  },
  {
   "cell_type": "code",
   "execution_count": 282,
   "metadata": {},
   "outputs": [
    {
     "data": {
      "text/html": [
       "<div>\n",
       "<style scoped>\n",
       "    .dataframe tbody tr th:only-of-type {\n",
       "        vertical-align: middle;\n",
       "    }\n",
       "\n",
       "    .dataframe tbody tr th {\n",
       "        vertical-align: top;\n",
       "    }\n",
       "\n",
       "    .dataframe thead th {\n",
       "        text-align: right;\n",
       "    }\n",
       "</style>\n",
       "<table border=\"1\" class=\"dataframe\">\n",
       "  <thead>\n",
       "    <tr style=\"text-align: right;\">\n",
       "      <th></th>\n",
       "      <th>SalePrice</th>\n",
       "    </tr>\n",
       "    <tr>\n",
       "      <th>Id</th>\n",
       "      <th></th>\n",
       "    </tr>\n",
       "  </thead>\n",
       "  <tbody>\n",
       "    <tr>\n",
       "      <th>2658</th>\n",
       "      <td>108017.947900</td>\n",
       "    </tr>\n",
       "    <tr>\n",
       "      <th>2718</th>\n",
       "      <td>187484.529888</td>\n",
       "    </tr>\n",
       "    <tr>\n",
       "      <th>2414</th>\n",
       "      <td>215682.137114</td>\n",
       "    </tr>\n",
       "    <tr>\n",
       "      <th>1989</th>\n",
       "      <td>115290.533228</td>\n",
       "    </tr>\n",
       "    <tr>\n",
       "      <th>625</th>\n",
       "      <td>185817.822978</td>\n",
       "    </tr>\n",
       "    <tr>\n",
       "      <th>...</th>\n",
       "      <td>...</td>\n",
       "    </tr>\n",
       "    <tr>\n",
       "      <th>1662</th>\n",
       "      <td>207572.489706</td>\n",
       "    </tr>\n",
       "    <tr>\n",
       "      <th>1234</th>\n",
       "      <td>225113.449861</td>\n",
       "    </tr>\n",
       "    <tr>\n",
       "      <th>1373</th>\n",
       "      <td>153533.733362</td>\n",
       "    </tr>\n",
       "    <tr>\n",
       "      <th>1672</th>\n",
       "      <td>116407.078983</td>\n",
       "    </tr>\n",
       "    <tr>\n",
       "      <th>1939</th>\n",
       "      <td>122659.086367</td>\n",
       "    </tr>\n",
       "  </tbody>\n",
       "</table>\n",
       "<p>879 rows × 1 columns</p>\n",
       "</div>"
      ],
      "text/plain": [
       "          SalePrice\n",
       "Id                 \n",
       "2658  108017.947900\n",
       "2718  187484.529888\n",
       "2414  215682.137114\n",
       "1989  115290.533228\n",
       "625   185817.822978\n",
       "...             ...\n",
       "1662  207572.489706\n",
       "1234  225113.449861\n",
       "1373  153533.733362\n",
       "1672  116407.078983\n",
       "1939  122659.086367\n",
       "\n",
       "[879 rows x 1 columns]"
      ]
     },
     "execution_count": 282,
     "metadata": {},
     "output_type": "execute_result"
    }
   ],
   "source": [
    "# Putting it into a dataframe\n",
    "saleprice_pred_df = pd.DataFrame({'SalePrice': sales_pred}, index=test_ids)\n",
    "saleprice_pred_df"
   ]
  },
  {
   "cell_type": "code",
   "execution_count": 283,
   "metadata": {},
   "outputs": [],
   "source": [
    "# Save to CSV format for submission\n",
    "saleprice_pred_df.to_csv('../datasets/example_sales_pred.csv')"
   ]
  },
  {
   "cell_type": "markdown",
   "metadata": {},
   "source": [
    "## Conclusions and Recommendations"
   ]
  },
  {
   "cell_type": "markdown",
   "metadata": {},
   "source": [
    "Based on the Exploratory Data Analysis, I found a strong positive correlation for variables that have square feet in them, such as `1st_flr_sf `. Size of the house seems to have a significant impact on the price of the house. `Fireplace` and `Kitchen Quality`, neighborhood, zonning dummies are also some of the features that have significant impact on the price. I also did a log transformation of the highly skewed house sale price.\n",
    "\n",
    "I've used 4 different types of models, Linear Regression, Ridge Regresion, Lasso Regression and ElasticNet Regression to predict the housing price. All of the models except, ElasticNet, achieved stable results and scores, the coefficients being almost the same. The model achieved a R-squared score of approximately 84% ~ 85% on the train-validation sets and this show consistency across all the models, except Elastic Net which favored `l1-ratio` of 1 with 1 being Lasso Regression. The best model among them was Ridge Regression showing the best score among MSE, RMSE and R^2.\n",
    "\n",
    "`gr_liv_area`, `total_bsmt_sf`, `year_remod/add`, `garage_area`,`bsmtfin_sf_1` have strong positive correlations while `Masonry veneer type brick face`, `house_age` and the `bldg_type` have strong negative correlations with the saleprice. I believe that this model can prove to be useful to the real estate agents for their day to day work as it's found to predict fairly accurately. Further feature engineering to create better features to improve the model's performance can useful in the future."
   ]
  },
  {
   "cell_type": "markdown",
   "metadata": {},
   "source": []
  }
 ],
 "metadata": {
  "kernelspec": {
   "display_name": "Python 3",
   "language": "python",
   "name": "python3"
  },
  "language_info": {
   "codemirror_mode": {
    "name": "ipython",
    "version": 3
   },
   "file_extension": ".py",
   "mimetype": "text/x-python",
   "name": "python",
   "nbconvert_exporter": "python",
   "pygments_lexer": "ipython3",
   "version": "3.7.7"
  },
  "toc": {
   "base_numbering": 1,
   "nav_menu": {},
   "number_sections": true,
   "sideBar": true,
   "skip_h1_title": false,
   "title_cell": "Table of Contents",
   "title_sidebar": "Contents",
   "toc_cell": false,
   "toc_position": {
    "height": "calc(100% - 180px)",
    "left": "10px",
    "top": "150px",
    "width": "264.796875px"
   },
   "toc_section_display": true,
   "toc_window_display": true
  }
 },
 "nbformat": 4,
 "nbformat_minor": 4
}
