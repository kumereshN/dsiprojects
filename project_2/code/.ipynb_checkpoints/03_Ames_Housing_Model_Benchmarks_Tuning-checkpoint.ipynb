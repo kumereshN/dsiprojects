{
 "cells": [
  {
   "cell_type": "markdown",
   "metadata": {},
   "source": [
    "# Model Benchmarks"
   ]
  },
  {
   "cell_type": "code",
   "execution_count": 448,
   "metadata": {},
   "outputs": [],
   "source": [
    "# Common imports\n",
    "import numpy as np\n",
    "import pandas as pd\n",
    "import matplotlib.pyplot as plt\n",
    "import seaborn as sns\n",
    "\n",
    "%matplotlib inline"
   ]
  },
  {
   "cell_type": "code",
   "execution_count": 449,
   "metadata": {},
   "outputs": [],
   "source": [
    "# Import graph style\n",
    "plt.style.use('fivethirtyeight')"
   ]
  },
  {
   "cell_type": "code",
   "execution_count": 450,
   "metadata": {},
   "outputs": [],
   "source": [
    "# Set the max rows and columns for Pandas\n",
    "pd.options.display.max_columns = 100\n",
    "pd.options.display.max_rows = 200"
   ]
  },
  {
   "cell_type": "code",
   "execution_count": 451,
   "metadata": {},
   "outputs": [
    {
     "data": {
      "text/html": [
       "<div>\n",
       "<style scoped>\n",
       "    .dataframe tbody tr th:only-of-type {\n",
       "        vertical-align: middle;\n",
       "    }\n",
       "\n",
       "    .dataframe tbody tr th {\n",
       "        vertical-align: top;\n",
       "    }\n",
       "\n",
       "    .dataframe thead th {\n",
       "        text-align: right;\n",
       "    }\n",
       "</style>\n",
       "<table border=\"1\" class=\"dataframe\">\n",
       "  <thead>\n",
       "    <tr style=\"text-align: right;\">\n",
       "      <th></th>\n",
       "      <th>lot_frontage</th>\n",
       "      <th>year_remod/add</th>\n",
       "      <th>mas_vnr_area</th>\n",
       "      <th>bsmtfin_sf_1</th>\n",
       "      <th>total_bsmt_sf</th>\n",
       "      <th>1st_flr_sf</th>\n",
       "      <th>gr_liv_area</th>\n",
       "      <th>bsmt_full_bath</th>\n",
       "      <th>full_bath</th>\n",
       "      <th>totrms_abvgrd</th>\n",
       "      <th>fireplaces</th>\n",
       "      <th>garage_area</th>\n",
       "      <th>wood_deck_sf</th>\n",
       "      <th>open_porch_sf</th>\n",
       "      <th>house_age</th>\n",
       "      <th>ms_subclass_11/2_story_finished_all_ages</th>\n",
       "      <th>ms_subclass_1story_1946_&amp;_newer_all_styles</th>\n",
       "      <th>ms_subclass_1story_pud_(planned_unit_development)__1946_&amp;_newer</th>\n",
       "      <th>ms_subclass_2story_1946_&amp;_newer</th>\n",
       "      <th>ms_subclass_Others</th>\n",
       "      <th>ms_zoning_C (all)</th>\n",
       "      <th>ms_zoning_FV</th>\n",
       "      <th>ms_zoning_RH</th>\n",
       "      <th>street_Grvl</th>\n",
       "      <th>street_Pave</th>\n",
       "      <th>land_contour_Bnk</th>\n",
       "      <th>land_contour_HLS</th>\n",
       "      <th>land_contour_Low</th>\n",
       "      <th>neighborhood_CollgCr</th>\n",
       "      <th>neighborhood_Others</th>\n",
       "      <th>bldg_type_2fmCon</th>\n",
       "      <th>bldg_type_Duplex</th>\n",
       "      <th>bldg_type_Twnhs</th>\n",
       "      <th>bldg_type_TwnhsE</th>\n",
       "      <th>roof_style_Flat</th>\n",
       "      <th>roof_style_Gambrel</th>\n",
       "      <th>roof_style_Hip</th>\n",
       "      <th>roof_style_Mansard</th>\n",
       "      <th>roof_style_Shed</th>\n",
       "      <th>mas_vnr_type_BrkCmn</th>\n",
       "      <th>mas_vnr_type_BrkFace</th>\n",
       "      <th>mas_vnr_type_Stone</th>\n",
       "      <th>central_air_N</th>\n",
       "      <th>central_air_Y</th>\n",
       "      <th>garage_type_2Types</th>\n",
       "      <th>garage_type_Attchd</th>\n",
       "      <th>garage_type_Basment</th>\n",
       "      <th>garage_type_BuiltIn</th>\n",
       "      <th>garage_type_CarPort</th>\n",
       "      <th>garage_type_Detchd</th>\n",
       "      <th>sale_type_COD</th>\n",
       "      <th>sale_type_CWD</th>\n",
       "      <th>sale_type_Con</th>\n",
       "      <th>sale_type_ConLD</th>\n",
       "      <th>sale_type_ConLI</th>\n",
       "      <th>sale_type_ConLw</th>\n",
       "      <th>sale_type_New</th>\n",
       "      <th>sale_type_Oth</th>\n",
       "      <th>lot_shape</th>\n",
       "      <th>bsmt_cond</th>\n",
       "      <th>heating_qc</th>\n",
       "      <th>garage_qual</th>\n",
       "      <th>garage_cond</th>\n",
       "    </tr>\n",
       "  </thead>\n",
       "  <tbody>\n",
       "    <tr>\n",
       "      <th>0</th>\n",
       "      <td>0.001802</td>\n",
       "      <td>0.988464</td>\n",
       "      <td>1.182322</td>\n",
       "      <td>0.221705</td>\n",
       "      <td>-0.815709</td>\n",
       "      <td>-1.216694</td>\n",
       "      <td>-0.028346</td>\n",
       "      <td>-0.832282</td>\n",
       "      <td>0.784675</td>\n",
       "      <td>-0.272616</td>\n",
       "      <td>-0.957710</td>\n",
       "      <td>-0.106762</td>\n",
       "      <td>-0.742619</td>\n",
       "      <td>-0.045782</td>\n",
       "      <td>-0.029868</td>\n",
       "      <td>-0.326468</td>\n",
       "      <td>-0.786383</td>\n",
       "      <td>-0.273241</td>\n",
       "      <td>2.0</td>\n",
       "      <td>-0.580592</td>\n",
       "      <td>-0.07631</td>\n",
       "      <td>-0.236944</td>\n",
       "      <td>-0.07631</td>\n",
       "      <td>-0.051367</td>\n",
       "      <td>0.051367</td>\n",
       "      <td>-0.19558</td>\n",
       "      <td>-0.198462</td>\n",
       "      <td>-0.144764</td>\n",
       "      <td>-0.320512</td>\n",
       "      <td>1.028837</td>\n",
       "      <td>-0.12666</td>\n",
       "      <td>-0.171033</td>\n",
       "      <td>-0.183664</td>\n",
       "      <td>-0.303239</td>\n",
       "      <td>-0.07631</td>\n",
       "      <td>-0.07631</td>\n",
       "      <td>-0.479347</td>\n",
       "      <td>-0.051367</td>\n",
       "      <td>-0.039767</td>\n",
       "      <td>-0.079724</td>\n",
       "      <td>1.463043</td>\n",
       "      <td>-0.294884</td>\n",
       "      <td>-0.231947</td>\n",
       "      <td>0.231947</td>\n",
       "      <td>-0.100504</td>\n",
       "      <td>0.774162</td>\n",
       "      <td>-0.120064</td>\n",
       "      <td>-0.261947</td>\n",
       "      <td>-0.07631</td>\n",
       "      <td>-0.624424</td>\n",
       "      <td>-0.183664</td>\n",
       "      <td>-0.072739</td>\n",
       "      <td>-0.045932</td>\n",
       "      <td>-0.086158</td>\n",
       "      <td>-0.051367</td>\n",
       "      <td>-0.051367</td>\n",
       "      <td>-0.280949</td>\n",
       "      <td>-0.039767</td>\n",
       "      <td>1.039441</td>\n",
       "      <td>0.099196</td>\n",
       "      <td>0.865150</td>\n",
       "      <td>0.14326</td>\n",
       "      <td>0.109011</td>\n",
       "    </tr>\n",
       "    <tr>\n",
       "      <th>1</th>\n",
       "      <td>-1.278750</td>\n",
       "      <td>0.603058</td>\n",
       "      <td>0.217990</td>\n",
       "      <td>0.466349</td>\n",
       "      <td>-0.347349</td>\n",
       "      <td>-0.688058</td>\n",
       "      <td>1.380314</td>\n",
       "      <td>1.115176</td>\n",
       "      <td>0.784675</td>\n",
       "      <td>1.106797</td>\n",
       "      <td>0.621846</td>\n",
       "      <td>0.358536</td>\n",
       "      <td>-0.742619</td>\n",
       "      <td>0.420965</td>\n",
       "      <td>-0.750385</td>\n",
       "      <td>-0.326468</td>\n",
       "      <td>-0.786383</td>\n",
       "      <td>-0.273241</td>\n",
       "      <td>2.0</td>\n",
       "      <td>-0.580592</td>\n",
       "      <td>-0.07631</td>\n",
       "      <td>-0.236944</td>\n",
       "      <td>-0.07631</td>\n",
       "      <td>-0.051367</td>\n",
       "      <td>0.051367</td>\n",
       "      <td>-0.19558</td>\n",
       "      <td>-0.198462</td>\n",
       "      <td>-0.144764</td>\n",
       "      <td>-0.320512</td>\n",
       "      <td>1.028837</td>\n",
       "      <td>-0.12666</td>\n",
       "      <td>-0.171033</td>\n",
       "      <td>-0.183664</td>\n",
       "      <td>-0.303239</td>\n",
       "      <td>-0.07631</td>\n",
       "      <td>-0.07631</td>\n",
       "      <td>-0.479347</td>\n",
       "      <td>-0.051367</td>\n",
       "      <td>-0.039767</td>\n",
       "      <td>-0.079724</td>\n",
       "      <td>1.463043</td>\n",
       "      <td>-0.294884</td>\n",
       "      <td>-0.231947</td>\n",
       "      <td>0.231947</td>\n",
       "      <td>-0.100504</td>\n",
       "      <td>0.774162</td>\n",
       "      <td>-0.120064</td>\n",
       "      <td>-0.261947</td>\n",
       "      <td>-0.07631</td>\n",
       "      <td>-0.624424</td>\n",
       "      <td>-0.183664</td>\n",
       "      <td>-0.072739</td>\n",
       "      <td>-0.045932</td>\n",
       "      <td>-0.086158</td>\n",
       "      <td>-0.051367</td>\n",
       "      <td>-0.051367</td>\n",
       "      <td>-0.280949</td>\n",
       "      <td>-0.039767</td>\n",
       "      <td>1.039441</td>\n",
       "      <td>0.099196</td>\n",
       "      <td>0.865150</td>\n",
       "      <td>0.14326</td>\n",
       "      <td>0.109011</td>\n",
       "    </tr>\n",
       "    <tr>\n",
       "      <th>2</th>\n",
       "      <td>-0.050285</td>\n",
       "      <td>1.084815</td>\n",
       "      <td>-0.592785</td>\n",
       "      <td>0.687469</td>\n",
       "      <td>0.011396</td>\n",
       "      <td>-0.283145</td>\n",
       "      <td>-0.952848</td>\n",
       "      <td>1.115176</td>\n",
       "      <td>-1.067353</td>\n",
       "      <td>-0.962322</td>\n",
       "      <td>-0.957710</td>\n",
       "      <td>-1.375252</td>\n",
       "      <td>-0.742619</td>\n",
       "      <td>0.078684</td>\n",
       "      <td>0.759269</td>\n",
       "      <td>-0.326468</td>\n",
       "      <td>1.271645</td>\n",
       "      <td>-0.273241</td>\n",
       "      <td>-0.5</td>\n",
       "      <td>-0.580592</td>\n",
       "      <td>-0.07631</td>\n",
       "      <td>-0.236944</td>\n",
       "      <td>-0.07631</td>\n",
       "      <td>-0.051367</td>\n",
       "      <td>0.051367</td>\n",
       "      <td>-0.19558</td>\n",
       "      <td>-0.198462</td>\n",
       "      <td>-0.144764</td>\n",
       "      <td>-0.320512</td>\n",
       "      <td>-0.971972</td>\n",
       "      <td>-0.12666</td>\n",
       "      <td>-0.171033</td>\n",
       "      <td>-0.183664</td>\n",
       "      <td>-0.303239</td>\n",
       "      <td>-0.07631</td>\n",
       "      <td>-0.07631</td>\n",
       "      <td>-0.479347</td>\n",
       "      <td>-0.051367</td>\n",
       "      <td>-0.039767</td>\n",
       "      <td>-0.079724</td>\n",
       "      <td>-0.683507</td>\n",
       "      <td>-0.294884</td>\n",
       "      <td>-0.231947</td>\n",
       "      <td>0.231947</td>\n",
       "      <td>-0.100504</td>\n",
       "      <td>-1.291720</td>\n",
       "      <td>-0.120064</td>\n",
       "      <td>-0.261947</td>\n",
       "      <td>-0.07631</td>\n",
       "      <td>1.601477</td>\n",
       "      <td>-0.183664</td>\n",
       "      <td>-0.072739</td>\n",
       "      <td>-0.045932</td>\n",
       "      <td>-0.086158</td>\n",
       "      <td>-0.051367</td>\n",
       "      <td>-0.051367</td>\n",
       "      <td>-0.280949</td>\n",
       "      <td>-0.039767</td>\n",
       "      <td>-0.725472</td>\n",
       "      <td>0.099196</td>\n",
       "      <td>-1.232853</td>\n",
       "      <td>0.14326</td>\n",
       "      <td>0.109011</td>\n",
       "    </tr>\n",
       "    <tr>\n",
       "      <th>3</th>\n",
       "      <td>0.195408</td>\n",
       "      <td>1.084815</td>\n",
       "      <td>-0.592785</td>\n",
       "      <td>-1.032095</td>\n",
       "      <td>-1.665235</td>\n",
       "      <td>-1.163268</td>\n",
       "      <td>-0.105023</td>\n",
       "      <td>-0.832282</td>\n",
       "      <td>0.784675</td>\n",
       "      <td>0.417091</td>\n",
       "      <td>-0.957710</td>\n",
       "      <td>-0.522206</td>\n",
       "      <td>0.037598</td>\n",
       "      <td>-0.730344</td>\n",
       "      <td>-1.059178</td>\n",
       "      <td>-0.326468</td>\n",
       "      <td>-0.786383</td>\n",
       "      <td>-0.273241</td>\n",
       "      <td>2.0</td>\n",
       "      <td>-0.580592</td>\n",
       "      <td>-0.07631</td>\n",
       "      <td>-0.236944</td>\n",
       "      <td>-0.07631</td>\n",
       "      <td>-0.051367</td>\n",
       "      <td>0.051367</td>\n",
       "      <td>-0.19558</td>\n",
       "      <td>-0.198462</td>\n",
       "      <td>-0.144764</td>\n",
       "      <td>-0.320512</td>\n",
       "      <td>1.028837</td>\n",
       "      <td>-0.12666</td>\n",
       "      <td>-0.171033</td>\n",
       "      <td>-0.183664</td>\n",
       "      <td>-0.303239</td>\n",
       "      <td>-0.07631</td>\n",
       "      <td>-0.07631</td>\n",
       "      <td>-0.479347</td>\n",
       "      <td>-0.051367</td>\n",
       "      <td>-0.039767</td>\n",
       "      <td>-0.079724</td>\n",
       "      <td>-0.683507</td>\n",
       "      <td>-0.294884</td>\n",
       "      <td>-0.231947</td>\n",
       "      <td>0.231947</td>\n",
       "      <td>-0.100504</td>\n",
       "      <td>-1.291720</td>\n",
       "      <td>-0.120064</td>\n",
       "      <td>3.817561</td>\n",
       "      <td>-0.07631</td>\n",
       "      <td>-0.624424</td>\n",
       "      <td>-0.183664</td>\n",
       "      <td>-0.072739</td>\n",
       "      <td>-0.045932</td>\n",
       "      <td>-0.086158</td>\n",
       "      <td>-0.051367</td>\n",
       "      <td>-0.051367</td>\n",
       "      <td>-0.280949</td>\n",
       "      <td>-0.039767</td>\n",
       "      <td>-0.725472</td>\n",
       "      <td>0.099196</td>\n",
       "      <td>-0.183851</td>\n",
       "      <td>0.14326</td>\n",
       "      <td>0.109011</td>\n",
       "    </tr>\n",
       "    <tr>\n",
       "      <th>4</th>\n",
       "      <td>0.637656</td>\n",
       "      <td>0.410356</td>\n",
       "      <td>-0.592785</td>\n",
       "      <td>-1.032095</td>\n",
       "      <td>-0.937782</td>\n",
       "      <td>-0.918633</td>\n",
       "      <td>-0.102832</td>\n",
       "      <td>-0.832282</td>\n",
       "      <td>0.784675</td>\n",
       "      <td>-0.272616</td>\n",
       "      <td>-0.957710</td>\n",
       "      <td>-0.056909</td>\n",
       "      <td>-0.742619</td>\n",
       "      <td>0.187591</td>\n",
       "      <td>2.577716</td>\n",
       "      <td>3.063089</td>\n",
       "      <td>-0.786383</td>\n",
       "      <td>-0.273241</td>\n",
       "      <td>-0.5</td>\n",
       "      <td>-0.580592</td>\n",
       "      <td>-0.07631</td>\n",
       "      <td>-0.236944</td>\n",
       "      <td>-0.07631</td>\n",
       "      <td>-0.051367</td>\n",
       "      <td>0.051367</td>\n",
       "      <td>-0.19558</td>\n",
       "      <td>-0.198462</td>\n",
       "      <td>-0.144764</td>\n",
       "      <td>-0.320512</td>\n",
       "      <td>1.028837</td>\n",
       "      <td>-0.12666</td>\n",
       "      <td>-0.171033</td>\n",
       "      <td>-0.183664</td>\n",
       "      <td>-0.303239</td>\n",
       "      <td>-0.07631</td>\n",
       "      <td>-0.07631</td>\n",
       "      <td>-0.479347</td>\n",
       "      <td>-0.051367</td>\n",
       "      <td>-0.039767</td>\n",
       "      <td>-0.079724</td>\n",
       "      <td>-0.683507</td>\n",
       "      <td>-0.294884</td>\n",
       "      <td>-0.231947</td>\n",
       "      <td>0.231947</td>\n",
       "      <td>-0.100504</td>\n",
       "      <td>-1.291720</td>\n",
       "      <td>-0.120064</td>\n",
       "      <td>-0.261947</td>\n",
       "      <td>-0.07631</td>\n",
       "      <td>1.601477</td>\n",
       "      <td>-0.183664</td>\n",
       "      <td>-0.072739</td>\n",
       "      <td>-0.045932</td>\n",
       "      <td>-0.086158</td>\n",
       "      <td>-0.051367</td>\n",
       "      <td>-0.051367</td>\n",
       "      <td>-0.280949</td>\n",
       "      <td>-0.039767</td>\n",
       "      <td>1.039441</td>\n",
       "      <td>1.965263</td>\n",
       "      <td>-1.232853</td>\n",
       "      <td>0.14326</td>\n",
       "      <td>0.109011</td>\n",
       "    </tr>\n",
       "  </tbody>\n",
       "</table>\n",
       "</div>"
      ],
      "text/plain": [
       "   lot_frontage  year_remod/add  mas_vnr_area  bsmtfin_sf_1  total_bsmt_sf  \\\n",
       "0      0.001802        0.988464      1.182322      0.221705      -0.815709   \n",
       "1     -1.278750        0.603058      0.217990      0.466349      -0.347349   \n",
       "2     -0.050285        1.084815     -0.592785      0.687469       0.011396   \n",
       "3      0.195408        1.084815     -0.592785     -1.032095      -1.665235   \n",
       "4      0.637656        0.410356     -0.592785     -1.032095      -0.937782   \n",
       "\n",
       "   1st_flr_sf  gr_liv_area  bsmt_full_bath  full_bath  totrms_abvgrd  \\\n",
       "0   -1.216694    -0.028346       -0.832282   0.784675      -0.272616   \n",
       "1   -0.688058     1.380314        1.115176   0.784675       1.106797   \n",
       "2   -0.283145    -0.952848        1.115176  -1.067353      -0.962322   \n",
       "3   -1.163268    -0.105023       -0.832282   0.784675       0.417091   \n",
       "4   -0.918633    -0.102832       -0.832282   0.784675      -0.272616   \n",
       "\n",
       "   fireplaces  garage_area  wood_deck_sf  open_porch_sf  house_age  \\\n",
       "0   -0.957710    -0.106762     -0.742619      -0.045782  -0.029868   \n",
       "1    0.621846     0.358536     -0.742619       0.420965  -0.750385   \n",
       "2   -0.957710    -1.375252     -0.742619       0.078684   0.759269   \n",
       "3   -0.957710    -0.522206      0.037598      -0.730344  -1.059178   \n",
       "4   -0.957710    -0.056909     -0.742619       0.187591   2.577716   \n",
       "\n",
       "   ms_subclass_11/2_story_finished_all_ages  \\\n",
       "0                                 -0.326468   \n",
       "1                                 -0.326468   \n",
       "2                                 -0.326468   \n",
       "3                                 -0.326468   \n",
       "4                                  3.063089   \n",
       "\n",
       "   ms_subclass_1story_1946_&_newer_all_styles  \\\n",
       "0                                   -0.786383   \n",
       "1                                   -0.786383   \n",
       "2                                    1.271645   \n",
       "3                                   -0.786383   \n",
       "4                                   -0.786383   \n",
       "\n",
       "   ms_subclass_1story_pud_(planned_unit_development)__1946_&_newer  \\\n",
       "0                                          -0.273241                 \n",
       "1                                          -0.273241                 \n",
       "2                                          -0.273241                 \n",
       "3                                          -0.273241                 \n",
       "4                                          -0.273241                 \n",
       "\n",
       "   ms_subclass_2story_1946_&_newer  ms_subclass_Others  ms_zoning_C (all)  \\\n",
       "0                              2.0           -0.580592           -0.07631   \n",
       "1                              2.0           -0.580592           -0.07631   \n",
       "2                             -0.5           -0.580592           -0.07631   \n",
       "3                              2.0           -0.580592           -0.07631   \n",
       "4                             -0.5           -0.580592           -0.07631   \n",
       "\n",
       "   ms_zoning_FV  ms_zoning_RH  street_Grvl  street_Pave  land_contour_Bnk  \\\n",
       "0     -0.236944      -0.07631    -0.051367     0.051367          -0.19558   \n",
       "1     -0.236944      -0.07631    -0.051367     0.051367          -0.19558   \n",
       "2     -0.236944      -0.07631    -0.051367     0.051367          -0.19558   \n",
       "3     -0.236944      -0.07631    -0.051367     0.051367          -0.19558   \n",
       "4     -0.236944      -0.07631    -0.051367     0.051367          -0.19558   \n",
       "\n",
       "   land_contour_HLS  land_contour_Low  neighborhood_CollgCr  \\\n",
       "0         -0.198462         -0.144764             -0.320512   \n",
       "1         -0.198462         -0.144764             -0.320512   \n",
       "2         -0.198462         -0.144764             -0.320512   \n",
       "3         -0.198462         -0.144764             -0.320512   \n",
       "4         -0.198462         -0.144764             -0.320512   \n",
       "\n",
       "   neighborhood_Others  bldg_type_2fmCon  bldg_type_Duplex  bldg_type_Twnhs  \\\n",
       "0             1.028837          -0.12666         -0.171033        -0.183664   \n",
       "1             1.028837          -0.12666         -0.171033        -0.183664   \n",
       "2            -0.971972          -0.12666         -0.171033        -0.183664   \n",
       "3             1.028837          -0.12666         -0.171033        -0.183664   \n",
       "4             1.028837          -0.12666         -0.171033        -0.183664   \n",
       "\n",
       "   bldg_type_TwnhsE  roof_style_Flat  roof_style_Gambrel  roof_style_Hip  \\\n",
       "0         -0.303239         -0.07631            -0.07631       -0.479347   \n",
       "1         -0.303239         -0.07631            -0.07631       -0.479347   \n",
       "2         -0.303239         -0.07631            -0.07631       -0.479347   \n",
       "3         -0.303239         -0.07631            -0.07631       -0.479347   \n",
       "4         -0.303239         -0.07631            -0.07631       -0.479347   \n",
       "\n",
       "   roof_style_Mansard  roof_style_Shed  mas_vnr_type_BrkCmn  \\\n",
       "0           -0.051367        -0.039767            -0.079724   \n",
       "1           -0.051367        -0.039767            -0.079724   \n",
       "2           -0.051367        -0.039767            -0.079724   \n",
       "3           -0.051367        -0.039767            -0.079724   \n",
       "4           -0.051367        -0.039767            -0.079724   \n",
       "\n",
       "   mas_vnr_type_BrkFace  mas_vnr_type_Stone  central_air_N  central_air_Y  \\\n",
       "0              1.463043           -0.294884      -0.231947       0.231947   \n",
       "1              1.463043           -0.294884      -0.231947       0.231947   \n",
       "2             -0.683507           -0.294884      -0.231947       0.231947   \n",
       "3             -0.683507           -0.294884      -0.231947       0.231947   \n",
       "4             -0.683507           -0.294884      -0.231947       0.231947   \n",
       "\n",
       "   garage_type_2Types  garage_type_Attchd  garage_type_Basment  \\\n",
       "0           -0.100504            0.774162            -0.120064   \n",
       "1           -0.100504            0.774162            -0.120064   \n",
       "2           -0.100504           -1.291720            -0.120064   \n",
       "3           -0.100504           -1.291720            -0.120064   \n",
       "4           -0.100504           -1.291720            -0.120064   \n",
       "\n",
       "   garage_type_BuiltIn  garage_type_CarPort  garage_type_Detchd  \\\n",
       "0            -0.261947             -0.07631           -0.624424   \n",
       "1            -0.261947             -0.07631           -0.624424   \n",
       "2            -0.261947             -0.07631            1.601477   \n",
       "3             3.817561             -0.07631           -0.624424   \n",
       "4            -0.261947             -0.07631            1.601477   \n",
       "\n",
       "   sale_type_COD  sale_type_CWD  sale_type_Con  sale_type_ConLD  \\\n",
       "0      -0.183664      -0.072739      -0.045932        -0.086158   \n",
       "1      -0.183664      -0.072739      -0.045932        -0.086158   \n",
       "2      -0.183664      -0.072739      -0.045932        -0.086158   \n",
       "3      -0.183664      -0.072739      -0.045932        -0.086158   \n",
       "4      -0.183664      -0.072739      -0.045932        -0.086158   \n",
       "\n",
       "   sale_type_ConLI  sale_type_ConLw  sale_type_New  sale_type_Oth  lot_shape  \\\n",
       "0        -0.051367        -0.051367      -0.280949      -0.039767   1.039441   \n",
       "1        -0.051367        -0.051367      -0.280949      -0.039767   1.039441   \n",
       "2        -0.051367        -0.051367      -0.280949      -0.039767  -0.725472   \n",
       "3        -0.051367        -0.051367      -0.280949      -0.039767  -0.725472   \n",
       "4        -0.051367        -0.051367      -0.280949      -0.039767   1.039441   \n",
       "\n",
       "   bsmt_cond  heating_qc  garage_qual  garage_cond  \n",
       "0   0.099196    0.865150      0.14326     0.109011  \n",
       "1   0.099196    0.865150      0.14326     0.109011  \n",
       "2   0.099196   -1.232853      0.14326     0.109011  \n",
       "3   0.099196   -0.183851      0.14326     0.109011  \n",
       "4   1.965263   -1.232853      0.14326     0.109011  "
      ]
     },
     "execution_count": 451,
     "metadata": {},
     "output_type": "execute_result"
    }
   ],
   "source": [
    "final_train_df_scaled = pd.read_csv('../datasets/final_train_df_scaled.csv')\n",
    "final_test_df_scaled = pd.read_csv('../datasets/final_test_df_scaled.csv')\n",
    "test_df = pd.read_csv('../datasets/test.csv')\n",
    "clean_train_df = pd.read_csv('../datasets/clean_train_df.csv')\n",
    "final_train_df_scaled.head()"
   ]
  },
  {
   "cell_type": "code",
   "execution_count": 452,
   "metadata": {},
   "outputs": [
    {
     "data": {
      "text/html": [
       "<div>\n",
       "<style scoped>\n",
       "    .dataframe tbody tr th:only-of-type {\n",
       "        vertical-align: middle;\n",
       "    }\n",
       "\n",
       "    .dataframe tbody tr th {\n",
       "        vertical-align: top;\n",
       "    }\n",
       "\n",
       "    .dataframe thead th {\n",
       "        text-align: right;\n",
       "    }\n",
       "</style>\n",
       "<table border=\"1\" class=\"dataframe\">\n",
       "  <thead>\n",
       "    <tr style=\"text-align: right;\">\n",
       "      <th></th>\n",
       "      <th>ms_subclass</th>\n",
       "      <th>ms_zoning</th>\n",
       "      <th>lot_frontage</th>\n",
       "      <th>lot_area</th>\n",
       "      <th>street</th>\n",
       "      <th>lot_shape</th>\n",
       "      <th>land_contour</th>\n",
       "      <th>utilities</th>\n",
       "      <th>lot_config</th>\n",
       "      <th>land_slope</th>\n",
       "      <th>neighborhood</th>\n",
       "      <th>condition_1</th>\n",
       "      <th>condition_2</th>\n",
       "      <th>bldg_type</th>\n",
       "      <th>house_style</th>\n",
       "      <th>overall_qual</th>\n",
       "      <th>overall_cond</th>\n",
       "      <th>year_built</th>\n",
       "      <th>year_remod/add</th>\n",
       "      <th>roof_style</th>\n",
       "      <th>roof_matl</th>\n",
       "      <th>exterior_1st</th>\n",
       "      <th>exterior_2nd</th>\n",
       "      <th>mas_vnr_type</th>\n",
       "      <th>mas_vnr_area</th>\n",
       "      <th>exter_qual</th>\n",
       "      <th>exter_cond</th>\n",
       "      <th>foundation</th>\n",
       "      <th>bsmt_qual</th>\n",
       "      <th>bsmt_cond</th>\n",
       "      <th>bsmt_exposure</th>\n",
       "      <th>bsmtfin_type_1</th>\n",
       "      <th>bsmtfin_sf_1</th>\n",
       "      <th>bsmtfin_type_2</th>\n",
       "      <th>total_bsmt_sf</th>\n",
       "      <th>heating</th>\n",
       "      <th>heating_qc</th>\n",
       "      <th>central_air</th>\n",
       "      <th>electrical</th>\n",
       "      <th>1st_flr_sf</th>\n",
       "      <th>2nd_flr_sf</th>\n",
       "      <th>gr_liv_area</th>\n",
       "      <th>bsmt_full_bath</th>\n",
       "      <th>full_bath</th>\n",
       "      <th>half_bath</th>\n",
       "      <th>bedroom_abvgr</th>\n",
       "      <th>kitchen_abvgr</th>\n",
       "      <th>kitchen_qual</th>\n",
       "      <th>totrms_abvgrd</th>\n",
       "      <th>functional</th>\n",
       "      <th>fireplaces</th>\n",
       "      <th>fireplace_qu</th>\n",
       "      <th>garage_type</th>\n",
       "      <th>garage_yr_blt</th>\n",
       "      <th>garage_finish</th>\n",
       "      <th>garage_cars</th>\n",
       "      <th>garage_area</th>\n",
       "      <th>garage_qual</th>\n",
       "      <th>garage_cond</th>\n",
       "      <th>paved_drive</th>\n",
       "      <th>wood_deck_sf</th>\n",
       "      <th>open_porch_sf</th>\n",
       "      <th>mo_sold</th>\n",
       "      <th>yr_sold</th>\n",
       "      <th>sale_type</th>\n",
       "      <th>saleprice</th>\n",
       "    </tr>\n",
       "  </thead>\n",
       "  <tbody>\n",
       "    <tr>\n",
       "      <th>0</th>\n",
       "      <td>2story_1946_&amp;_newer</td>\n",
       "      <td>RL</td>\n",
       "      <td>69.06</td>\n",
       "      <td>13517.0</td>\n",
       "      <td>Pave</td>\n",
       "      <td>IR1</td>\n",
       "      <td>Lvl</td>\n",
       "      <td>AllPub</td>\n",
       "      <td>CulDSac</td>\n",
       "      <td>Gtl</td>\n",
       "      <td>Sawyer</td>\n",
       "      <td>RRAe</td>\n",
       "      <td>Norm</td>\n",
       "      <td>1Fam</td>\n",
       "      <td>2Story</td>\n",
       "      <td>6</td>\n",
       "      <td>8</td>\n",
       "      <td>1976</td>\n",
       "      <td>2005</td>\n",
       "      <td>Gable</td>\n",
       "      <td>CompShg</td>\n",
       "      <td>HdBoard</td>\n",
       "      <td>Plywood</td>\n",
       "      <td>BrkFace</td>\n",
       "      <td>289.0</td>\n",
       "      <td>Gd</td>\n",
       "      <td>TA</td>\n",
       "      <td>CBlock</td>\n",
       "      <td>TA</td>\n",
       "      <td>TA</td>\n",
       "      <td>No</td>\n",
       "      <td>GLQ</td>\n",
       "      <td>533.0</td>\n",
       "      <td>Unf</td>\n",
       "      <td>725.0</td>\n",
       "      <td>GasA</td>\n",
       "      <td>Ex</td>\n",
       "      <td>Y</td>\n",
       "      <td>SBrkr</td>\n",
       "      <td>725.0</td>\n",
       "      <td>754.0</td>\n",
       "      <td>1479.0</td>\n",
       "      <td>0</td>\n",
       "      <td>2</td>\n",
       "      <td>1</td>\n",
       "      <td>3</td>\n",
       "      <td>1</td>\n",
       "      <td>Gd</td>\n",
       "      <td>6</td>\n",
       "      <td>Typ</td>\n",
       "      <td>0</td>\n",
       "      <td>NaN</td>\n",
       "      <td>Attchd</td>\n",
       "      <td>1976</td>\n",
       "      <td>RFn</td>\n",
       "      <td>2</td>\n",
       "      <td>475.0</td>\n",
       "      <td>TA</td>\n",
       "      <td>TA</td>\n",
       "      <td>Y</td>\n",
       "      <td>0.0</td>\n",
       "      <td>44.0</td>\n",
       "      <td>3</td>\n",
       "      <td>2010</td>\n",
       "      <td>WD</td>\n",
       "      <td>11.779129</td>\n",
       "    </tr>\n",
       "    <tr>\n",
       "      <th>1</th>\n",
       "      <td>2story_1946_&amp;_newer</td>\n",
       "      <td>RL</td>\n",
       "      <td>43.00</td>\n",
       "      <td>11492.0</td>\n",
       "      <td>Pave</td>\n",
       "      <td>IR1</td>\n",
       "      <td>Lvl</td>\n",
       "      <td>AllPub</td>\n",
       "      <td>CulDSac</td>\n",
       "      <td>Gtl</td>\n",
       "      <td>SawyerW</td>\n",
       "      <td>Norm</td>\n",
       "      <td>Norm</td>\n",
       "      <td>1Fam</td>\n",
       "      <td>2Story</td>\n",
       "      <td>7</td>\n",
       "      <td>5</td>\n",
       "      <td>1996</td>\n",
       "      <td>1997</td>\n",
       "      <td>Gable</td>\n",
       "      <td>CompShg</td>\n",
       "      <td>VinylSd</td>\n",
       "      <td>VinylSd</td>\n",
       "      <td>BrkFace</td>\n",
       "      <td>132.0</td>\n",
       "      <td>Gd</td>\n",
       "      <td>TA</td>\n",
       "      <td>PConc</td>\n",
       "      <td>Gd</td>\n",
       "      <td>TA</td>\n",
       "      <td>No</td>\n",
       "      <td>GLQ</td>\n",
       "      <td>637.0</td>\n",
       "      <td>Unf</td>\n",
       "      <td>913.0</td>\n",
       "      <td>GasA</td>\n",
       "      <td>Ex</td>\n",
       "      <td>Y</td>\n",
       "      <td>SBrkr</td>\n",
       "      <td>913.0</td>\n",
       "      <td>1209.0</td>\n",
       "      <td>2122.0</td>\n",
       "      <td>1</td>\n",
       "      <td>2</td>\n",
       "      <td>1</td>\n",
       "      <td>4</td>\n",
       "      <td>1</td>\n",
       "      <td>Gd</td>\n",
       "      <td>8</td>\n",
       "      <td>Typ</td>\n",
       "      <td>1</td>\n",
       "      <td>TA</td>\n",
       "      <td>Attchd</td>\n",
       "      <td>1997</td>\n",
       "      <td>RFn</td>\n",
       "      <td>2</td>\n",
       "      <td>559.0</td>\n",
       "      <td>TA</td>\n",
       "      <td>TA</td>\n",
       "      <td>Y</td>\n",
       "      <td>0.0</td>\n",
       "      <td>74.0</td>\n",
       "      <td>4</td>\n",
       "      <td>2009</td>\n",
       "      <td>WD</td>\n",
       "      <td>12.301383</td>\n",
       "    </tr>\n",
       "    <tr>\n",
       "      <th>2</th>\n",
       "      <td>1story_1946_&amp;_newer_all_styles</td>\n",
       "      <td>RL</td>\n",
       "      <td>68.00</td>\n",
       "      <td>7922.0</td>\n",
       "      <td>Pave</td>\n",
       "      <td>Reg</td>\n",
       "      <td>Lvl</td>\n",
       "      <td>AllPub</td>\n",
       "      <td>Inside</td>\n",
       "      <td>Gtl</td>\n",
       "      <td>NAmes</td>\n",
       "      <td>Norm</td>\n",
       "      <td>Norm</td>\n",
       "      <td>1Fam</td>\n",
       "      <td>1Story</td>\n",
       "      <td>5</td>\n",
       "      <td>7</td>\n",
       "      <td>1953</td>\n",
       "      <td>2007</td>\n",
       "      <td>Gable</td>\n",
       "      <td>CompShg</td>\n",
       "      <td>VinylSd</td>\n",
       "      <td>VinylSd</td>\n",
       "      <td>None</td>\n",
       "      <td>0.0</td>\n",
       "      <td>TA</td>\n",
       "      <td>Gd</td>\n",
       "      <td>CBlock</td>\n",
       "      <td>TA</td>\n",
       "      <td>TA</td>\n",
       "      <td>No</td>\n",
       "      <td>GLQ</td>\n",
       "      <td>731.0</td>\n",
       "      <td>Unf</td>\n",
       "      <td>1057.0</td>\n",
       "      <td>GasA</td>\n",
       "      <td>TA</td>\n",
       "      <td>Y</td>\n",
       "      <td>SBrkr</td>\n",
       "      <td>1057.0</td>\n",
       "      <td>0.0</td>\n",
       "      <td>1057.0</td>\n",
       "      <td>1</td>\n",
       "      <td>1</td>\n",
       "      <td>0</td>\n",
       "      <td>3</td>\n",
       "      <td>1</td>\n",
       "      <td>Gd</td>\n",
       "      <td>5</td>\n",
       "      <td>Typ</td>\n",
       "      <td>0</td>\n",
       "      <td>NaN</td>\n",
       "      <td>Detchd</td>\n",
       "      <td>1953</td>\n",
       "      <td>Unf</td>\n",
       "      <td>1</td>\n",
       "      <td>246.0</td>\n",
       "      <td>TA</td>\n",
       "      <td>TA</td>\n",
       "      <td>Y</td>\n",
       "      <td>0.0</td>\n",
       "      <td>52.0</td>\n",
       "      <td>1</td>\n",
       "      <td>2010</td>\n",
       "      <td>WD</td>\n",
       "      <td>11.599103</td>\n",
       "    </tr>\n",
       "    <tr>\n",
       "      <th>3</th>\n",
       "      <td>2story_1946_&amp;_newer</td>\n",
       "      <td>RL</td>\n",
       "      <td>73.00</td>\n",
       "      <td>9802.0</td>\n",
       "      <td>Pave</td>\n",
       "      <td>Reg</td>\n",
       "      <td>Lvl</td>\n",
       "      <td>AllPub</td>\n",
       "      <td>Inside</td>\n",
       "      <td>Gtl</td>\n",
       "      <td>Timber</td>\n",
       "      <td>Norm</td>\n",
       "      <td>Norm</td>\n",
       "      <td>1Fam</td>\n",
       "      <td>2Story</td>\n",
       "      <td>5</td>\n",
       "      <td>5</td>\n",
       "      <td>2006</td>\n",
       "      <td>2007</td>\n",
       "      <td>Gable</td>\n",
       "      <td>CompShg</td>\n",
       "      <td>VinylSd</td>\n",
       "      <td>VinylSd</td>\n",
       "      <td>None</td>\n",
       "      <td>0.0</td>\n",
       "      <td>TA</td>\n",
       "      <td>TA</td>\n",
       "      <td>PConc</td>\n",
       "      <td>Gd</td>\n",
       "      <td>TA</td>\n",
       "      <td>No</td>\n",
       "      <td>Unf</td>\n",
       "      <td>0.0</td>\n",
       "      <td>Unf</td>\n",
       "      <td>384.0</td>\n",
       "      <td>GasA</td>\n",
       "      <td>Gd</td>\n",
       "      <td>Y</td>\n",
       "      <td>SBrkr</td>\n",
       "      <td>744.0</td>\n",
       "      <td>700.0</td>\n",
       "      <td>1444.0</td>\n",
       "      <td>0</td>\n",
       "      <td>2</td>\n",
       "      <td>1</td>\n",
       "      <td>3</td>\n",
       "      <td>1</td>\n",
       "      <td>TA</td>\n",
       "      <td>7</td>\n",
       "      <td>Typ</td>\n",
       "      <td>0</td>\n",
       "      <td>NaN</td>\n",
       "      <td>BuiltIn</td>\n",
       "      <td>2007</td>\n",
       "      <td>Fin</td>\n",
       "      <td>2</td>\n",
       "      <td>400.0</td>\n",
       "      <td>TA</td>\n",
       "      <td>TA</td>\n",
       "      <td>Y</td>\n",
       "      <td>100.0</td>\n",
       "      <td>0.0</td>\n",
       "      <td>4</td>\n",
       "      <td>2010</td>\n",
       "      <td>WD</td>\n",
       "      <td>12.066811</td>\n",
       "    </tr>\n",
       "    <tr>\n",
       "      <th>4</th>\n",
       "      <td>11/2_story_finished_all_ages</td>\n",
       "      <td>RL</td>\n",
       "      <td>82.00</td>\n",
       "      <td>14235.0</td>\n",
       "      <td>Pave</td>\n",
       "      <td>IR1</td>\n",
       "      <td>Lvl</td>\n",
       "      <td>AllPub</td>\n",
       "      <td>Inside</td>\n",
       "      <td>Gtl</td>\n",
       "      <td>SawyerW</td>\n",
       "      <td>Norm</td>\n",
       "      <td>Norm</td>\n",
       "      <td>1Fam</td>\n",
       "      <td>1.5Fin</td>\n",
       "      <td>6</td>\n",
       "      <td>8</td>\n",
       "      <td>1900</td>\n",
       "      <td>1993</td>\n",
       "      <td>Gable</td>\n",
       "      <td>CompShg</td>\n",
       "      <td>Wd Sdng</td>\n",
       "      <td>Plywood</td>\n",
       "      <td>None</td>\n",
       "      <td>0.0</td>\n",
       "      <td>TA</td>\n",
       "      <td>TA</td>\n",
       "      <td>PConc</td>\n",
       "      <td>Fa</td>\n",
       "      <td>Gd</td>\n",
       "      <td>No</td>\n",
       "      <td>Unf</td>\n",
       "      <td>0.0</td>\n",
       "      <td>Unf</td>\n",
       "      <td>676.0</td>\n",
       "      <td>GasA</td>\n",
       "      <td>TA</td>\n",
       "      <td>Y</td>\n",
       "      <td>SBrkr</td>\n",
       "      <td>831.0</td>\n",
       "      <td>614.0</td>\n",
       "      <td>1445.0</td>\n",
       "      <td>0</td>\n",
       "      <td>2</td>\n",
       "      <td>0</td>\n",
       "      <td>3</td>\n",
       "      <td>1</td>\n",
       "      <td>TA</td>\n",
       "      <td>6</td>\n",
       "      <td>Typ</td>\n",
       "      <td>0</td>\n",
       "      <td>NaN</td>\n",
       "      <td>Detchd</td>\n",
       "      <td>1957</td>\n",
       "      <td>Unf</td>\n",
       "      <td>2</td>\n",
       "      <td>484.0</td>\n",
       "      <td>TA</td>\n",
       "      <td>TA</td>\n",
       "      <td>N</td>\n",
       "      <td>0.0</td>\n",
       "      <td>59.0</td>\n",
       "      <td>3</td>\n",
       "      <td>2010</td>\n",
       "      <td>WD</td>\n",
       "      <td>11.838626</td>\n",
       "    </tr>\n",
       "  </tbody>\n",
       "</table>\n",
       "</div>"
      ],
      "text/plain": [
       "                      ms_subclass ms_zoning  lot_frontage  lot_area street  \\\n",
       "0             2story_1946_&_newer        RL         69.06   13517.0   Pave   \n",
       "1             2story_1946_&_newer        RL         43.00   11492.0   Pave   \n",
       "2  1story_1946_&_newer_all_styles        RL         68.00    7922.0   Pave   \n",
       "3             2story_1946_&_newer        RL         73.00    9802.0   Pave   \n",
       "4    11/2_story_finished_all_ages        RL         82.00   14235.0   Pave   \n",
       "\n",
       "  lot_shape land_contour utilities lot_config land_slope neighborhood  \\\n",
       "0       IR1          Lvl    AllPub    CulDSac        Gtl       Sawyer   \n",
       "1       IR1          Lvl    AllPub    CulDSac        Gtl      SawyerW   \n",
       "2       Reg          Lvl    AllPub     Inside        Gtl        NAmes   \n",
       "3       Reg          Lvl    AllPub     Inside        Gtl       Timber   \n",
       "4       IR1          Lvl    AllPub     Inside        Gtl      SawyerW   \n",
       "\n",
       "  condition_1 condition_2 bldg_type house_style  overall_qual  overall_cond  \\\n",
       "0        RRAe        Norm      1Fam      2Story             6             8   \n",
       "1        Norm        Norm      1Fam      2Story             7             5   \n",
       "2        Norm        Norm      1Fam      1Story             5             7   \n",
       "3        Norm        Norm      1Fam      2Story             5             5   \n",
       "4        Norm        Norm      1Fam      1.5Fin             6             8   \n",
       "\n",
       "   year_built  year_remod/add roof_style roof_matl exterior_1st exterior_2nd  \\\n",
       "0        1976            2005      Gable   CompShg      HdBoard      Plywood   \n",
       "1        1996            1997      Gable   CompShg      VinylSd      VinylSd   \n",
       "2        1953            2007      Gable   CompShg      VinylSd      VinylSd   \n",
       "3        2006            2007      Gable   CompShg      VinylSd      VinylSd   \n",
       "4        1900            1993      Gable   CompShg      Wd Sdng      Plywood   \n",
       "\n",
       "  mas_vnr_type  mas_vnr_area exter_qual exter_cond foundation bsmt_qual  \\\n",
       "0      BrkFace         289.0         Gd         TA     CBlock        TA   \n",
       "1      BrkFace         132.0         Gd         TA      PConc        Gd   \n",
       "2         None           0.0         TA         Gd     CBlock        TA   \n",
       "3         None           0.0         TA         TA      PConc        Gd   \n",
       "4         None           0.0         TA         TA      PConc        Fa   \n",
       "\n",
       "  bsmt_cond bsmt_exposure bsmtfin_type_1  bsmtfin_sf_1 bsmtfin_type_2  \\\n",
       "0        TA            No            GLQ         533.0            Unf   \n",
       "1        TA            No            GLQ         637.0            Unf   \n",
       "2        TA            No            GLQ         731.0            Unf   \n",
       "3        TA            No            Unf           0.0            Unf   \n",
       "4        Gd            No            Unf           0.0            Unf   \n",
       "\n",
       "   total_bsmt_sf heating heating_qc central_air electrical  1st_flr_sf  \\\n",
       "0          725.0    GasA         Ex           Y      SBrkr       725.0   \n",
       "1          913.0    GasA         Ex           Y      SBrkr       913.0   \n",
       "2         1057.0    GasA         TA           Y      SBrkr      1057.0   \n",
       "3          384.0    GasA         Gd           Y      SBrkr       744.0   \n",
       "4          676.0    GasA         TA           Y      SBrkr       831.0   \n",
       "\n",
       "   2nd_flr_sf  gr_liv_area  bsmt_full_bath  full_bath  half_bath  \\\n",
       "0       754.0       1479.0               0          2          1   \n",
       "1      1209.0       2122.0               1          2          1   \n",
       "2         0.0       1057.0               1          1          0   \n",
       "3       700.0       1444.0               0          2          1   \n",
       "4       614.0       1445.0               0          2          0   \n",
       "\n",
       "   bedroom_abvgr  kitchen_abvgr kitchen_qual  totrms_abvgrd functional  \\\n",
       "0              3              1           Gd              6        Typ   \n",
       "1              4              1           Gd              8        Typ   \n",
       "2              3              1           Gd              5        Typ   \n",
       "3              3              1           TA              7        Typ   \n",
       "4              3              1           TA              6        Typ   \n",
       "\n",
       "   fireplaces fireplace_qu garage_type  garage_yr_blt garage_finish  \\\n",
       "0           0          NaN      Attchd           1976           RFn   \n",
       "1           1           TA      Attchd           1997           RFn   \n",
       "2           0          NaN      Detchd           1953           Unf   \n",
       "3           0          NaN     BuiltIn           2007           Fin   \n",
       "4           0          NaN      Detchd           1957           Unf   \n",
       "\n",
       "   garage_cars  garage_area garage_qual garage_cond paved_drive  wood_deck_sf  \\\n",
       "0            2        475.0          TA          TA           Y           0.0   \n",
       "1            2        559.0          TA          TA           Y           0.0   \n",
       "2            1        246.0          TA          TA           Y           0.0   \n",
       "3            2        400.0          TA          TA           Y         100.0   \n",
       "4            2        484.0          TA          TA           N           0.0   \n",
       "\n",
       "   open_porch_sf  mo_sold  yr_sold sale_type  saleprice  \n",
       "0           44.0        3     2010       WD   11.779129  \n",
       "1           74.0        4     2009       WD   12.301383  \n",
       "2           52.0        1     2010       WD   11.599103  \n",
       "3            0.0        4     2010       WD   12.066811  \n",
       "4           59.0        3     2010       WD   11.838626  "
      ]
     },
     "execution_count": 452,
     "metadata": {},
     "output_type": "execute_result"
    }
   ],
   "source": [
    "clean_train_df.head()"
   ]
  },
  {
   "cell_type": "markdown",
   "metadata": {},
   "source": [
    "## Linear Regression model"
   ]
  },
  {
   "cell_type": "code",
   "execution_count": 453,
   "metadata": {},
   "outputs": [],
   "source": [
    "def r2_adj(y_true, y_preds, p):\n",
    "    \"\"\"\n",
    "    Function to calculate the r2 adjusted scores.\n",
    "    y_true = actual observations\n",
    "    y_preds = predicted prices by the model\n",
    "    p = number of indepedent regressors\n",
    "    \"\"\"\n",
    "    n = len(y_true)\n",
    "    y_mean = np.mean(y_true)\n",
    "    numerator = np.sum(np.square(y_true - y_preds)) / (n - p - 1)\n",
    "    denominator = np.sum(np.square(y_true - y_mean)) / (n - 1)\n",
    "    return 1 - numerator / denominator"
   ]
  },
  {
   "cell_type": "code",
   "execution_count": 454,
   "metadata": {},
   "outputs": [],
   "source": [
    "import sklearn.metrics as metrics\n",
    "\n",
    "def model_metrics(y_true, y_pred, p):\n",
    "    \"\"\"\n",
    "    Metrics to calculate the mean squared error, root mean squared error, R^2 score, and adjusted R^2 score\n",
    "    \"\"\"\n",
    "    mse = metrics.mean_squared_error(y_true, y_pred)\n",
    "    rmse = np.sqrt(mse)\n",
    "    r2 = metrics.r2_score(y_true, y_pred)\n",
    "    r2a = r2_adj(y_true, y_pred, p)\n",
    "    \n",
    "    print('Mean squared error      = ', mse)\n",
    "    print('Root mean squared error = ', rmse)\n",
    "    print('R^2                     = ', r2)\n",
    "    print('Adjusted R^2            = ', r2a)"
   ]
  },
  {
   "cell_type": "code",
   "execution_count": 455,
   "metadata": {},
   "outputs": [],
   "source": [
    "def cross_val_display_scores(scores):\n",
    "    \"\"\"\n",
    "    Function to display the scores, the mean of the scores and the standard deviation of the scores\n",
    "    \"\"\"\n",
    "    print('Scores: ', scores)\n",
    "    print('Mean: ', scores.mean())\n",
    "    print('Standard deviation: ', scores.std())"
   ]
  },
  {
   "cell_type": "code",
   "execution_count": 456,
   "metadata": {
    "scrolled": true
   },
   "outputs": [],
   "source": [
    "from sklearn.linear_model import LinearRegression\n",
    "\n",
    "lr = LinearRegression()\n",
    "X = final_train_df_scaled\n",
    "y = np.exp(clean_train_df['saleprice']) # Revert back to original saleprice"
   ]
  },
  {
   "cell_type": "code",
   "execution_count": 457,
   "metadata": {},
   "outputs": [],
   "source": [
    "# Split the training set into train and test sets to train on train sets before evaluating on the test set\n",
    "from sklearn.model_selection import train_test_split\n",
    "X_train, X_test, y_train, y_test = train_test_split(X, y, random_state=42)"
   ]
  },
  {
   "cell_type": "code",
   "execution_count": 458,
   "metadata": {},
   "outputs": [
    {
     "data": {
      "text/plain": [
       "LinearRegression()"
      ]
     },
     "execution_count": 458,
     "metadata": {},
     "output_type": "execute_result"
    }
   ],
   "source": [
    "# Train the model\n",
    "lr.fit(X_train, y_train)"
   ]
  },
  {
   "cell_type": "code",
   "execution_count": 459,
   "metadata": {},
   "outputs": [
    {
     "data": {
      "text/plain": [
       "array([ 3.38857766e+03,  8.12232671e+03,  7.62164203e+03,  7.31482155e+03,\n",
       "        1.10404085e+04,  9.02532286e+02,  2.96890160e+04,  1.06301936e+03,\n",
       "       -2.59001571e+03, -2.55424740e+03,  3.92664616e+03,  7.78717248e+03,\n",
       "        2.08156395e+03,  1.30256964e+03, -1.12000930e+04, -2.77646978e+15,\n",
       "       -4.57282537e+15, -2.39282178e+15, -3.76440074e+15, -4.08645813e+15,\n",
       "       -1.74778940e+03,  2.51134450e+03, -8.07345000e+02,  1.10529407e+14,\n",
       "        1.10529407e+14,  1.07409182e+03,  4.27888293e+03, -1.30730217e+01,\n",
       "       -1.25618829e+02,  3.45408545e+03, -2.40177784e+03, -5.57215496e+03,\n",
       "       -4.23721627e+03, -5.73151864e+03,  9.21670395e+02,  7.48687389e+02,\n",
       "        2.57567373e+03, -1.39208530e+03,  7.47943665e+02, -2.79835659e+03,\n",
       "       -4.04860130e+03,  5.49976215e+02, -2.47777015e+14, -2.47777015e+14,\n",
       "        1.36259779e+15,  6.62894934e+15,  1.62086653e+15,  3.35692993e+15,\n",
       "        1.03898387e+15,  6.15239690e+15, -2.37000403e+03,  1.33797528e+03,\n",
       "        1.21628857e+03,  6.00537421e+02, -1.38186770e+03,  4.70154635e+02,\n",
       "        4.69702509e+03,  1.02473202e+03,  5.76891246e+02, -2.38678450e+02,\n",
       "        4.62811453e+03,  1.12991186e+03,  1.28798743e+03])"
      ]
     },
     "execution_count": 459,
     "metadata": {},
     "output_type": "execute_result"
    }
   ],
   "source": [
    "# Coefficients of the model, these numbers represents how much sale price increases by one unit of the respective feature \n",
    "lr.coef_"
   ]
  },
  {
   "cell_type": "code",
   "execution_count": 460,
   "metadata": {},
   "outputs": [
    {
     "data": {
      "text/plain": [
       "180757.91859100875"
      ]
     },
     "execution_count": 460,
     "metadata": {},
     "output_type": "execute_result"
    }
   ],
   "source": [
    "# The line of best fit cutting the y-axis. Represents the sale price when there are no features.\n",
    "lr.intercept_"
   ]
  },
  {
   "cell_type": "code",
   "execution_count": 461,
   "metadata": {},
   "outputs": [],
   "source": [
    "# Predicted sale price values of X_test\n",
    "y_pred = lr.predict(X_test)"
   ]
  },
  {
   "cell_type": "code",
   "execution_count": 462,
   "metadata": {
    "scrolled": true
   },
   "outputs": [
    {
     "name": "stdout",
     "output_type": "stream",
     "text": [
      "Mean squared error      =  850580196.9993167\n",
      "Root mean squared error =  29164.708073274396\n",
      "R^2                     =  0.839942735070818\n",
      "Adjusted R^2            =  0.8154084097897024\n"
     ]
    }
   ],
   "source": [
    "# Calculate the metrics of the model\n",
    "model_metrics(y_test, y_pred, X.shape[1])"
   ]
  },
  {
   "cell_type": "code",
   "execution_count": 463,
   "metadata": {},
   "outputs": [
    {
     "data": {
      "text/plain": [
       "180722.01684210525"
      ]
     },
     "execution_count": 463,
     "metadata": {},
     "output_type": "execute_result"
    }
   ],
   "source": [
    "# Baseline model score\n",
    "baseline_score = np.mean(y)\n",
    "baseline_score"
   ]
  },
  {
   "cell_type": "markdown",
   "metadata": {},
   "source": [
    "The goal of both the mean squared error and root mean squared error is to get it as close as possible to 0. The mean squared error calculates the average squared distance between the predicted and acutal values while root mean squared error is the square root of mean squared error and it scales to the original units of y. Both punishes outliers heavily. The standard deviation represents how far apart the scores between each other.\n",
    "\n",
    "The R^2 score shows how well the data points fit a curve or line.It explains how much of the variability in the target variable is explained by the independent variable, X. A score of close to 1 means most of the data points are able to fit the line of best fit while 0 means none of the variability is around the mean. The adjusted R^2 score adjusts for the numbers of independent variables in the model.\n",
    "\n",
    "Comparing against the `baseline_score` of 180,722.02 and `root_mean_squared_error` (RMSE) of 27,619.00, I can see that the RMSE is well below the baseline score and this shows the model is performing well as the error rate is lower. The R^2 and adjusted R^2 have a score of 0.86 and 0.83 which is also good as the around 85% of the y-variable is explained by the x-variable.\n",
    "\n",
    "I'll do the cross validation next to see if the model is overfitting the training set."
   ]
  },
  {
   "cell_type": "markdown",
   "metadata": {},
   "source": [
    "### Cross validation across 5 different models."
   ]
  },
  {
   "cell_type": "code",
   "execution_count": 464,
   "metadata": {},
   "outputs": [],
   "source": [
    "# mse and rmse scores\n",
    "from sklearn.model_selection import cross_val_score\n",
    "scores = cross_val_score(lr, X_train, y_train, cv=5, scoring='neg_mean_squared_error')\n",
    "mse_lin_scores = -scores\n",
    "rmse_lin_scores = np.sqrt(-scores)"
   ]
  },
  {
   "cell_type": "code",
   "execution_count": 465,
   "metadata": {},
   "outputs": [],
   "source": [
    "# R2 scores\n",
    "scores = cross_val_score(lr, X_train, y_train, cv=5, scoring='r2')\n",
    "r2_scores = scores"
   ]
  },
  {
   "cell_type": "code",
   "execution_count": 466,
   "metadata": {},
   "outputs": [
    {
     "name": "stdout",
     "output_type": "stream",
     "text": [
      "Scores:  [6.58131575e+08 7.63380975e+08 7.02946820e+08 5.71813353e+08\n",
      " 7.09643872e+08]\n",
      "Mean:  681183318.9474199\n",
      "Standard deviation:  64083195.92169085\n"
     ]
    }
   ],
   "source": [
    "# Mean cross validated scores of mse\n",
    "cross_val_display_scores(mse_lin_scores)"
   ]
  },
  {
   "cell_type": "code",
   "execution_count": 467,
   "metadata": {},
   "outputs": [
    {
     "name": "stdout",
     "output_type": "stream",
     "text": [
      "Scores:  [25654.07521649 27629.34988124 26513.14428445 23912.6191179\n",
      " 26639.141723  ]\n",
      "Mean:  26069.666044615522\n",
      "Standard deviation:  1247.329655560438\n"
     ]
    }
   ],
   "source": [
    "# Mean cross validated scores of rmse\n",
    "cross_val_display_scores(rmse_lin_scores)"
   ]
  },
  {
   "cell_type": "code",
   "execution_count": 468,
   "metadata": {},
   "outputs": [
    {
     "name": "stdout",
     "output_type": "stream",
     "text": [
      "Scores:  [0.87650364 0.81674696 0.83697431 0.85059485 0.84473239]\n",
      "Mean:  0.8451104318307816\n",
      "Standard deviation:  0.019423894865656377\n"
     ]
    }
   ],
   "source": [
    "# Mean cross validated scores of r^2\n",
    "cross_val_display_scores(r2_scores)"
   ]
  },
  {
   "cell_type": "markdown",
   "metadata": {},
   "source": [
    "## Linear Regression score table"
   ]
  },
  {
   "cell_type": "markdown",
   "metadata": {},
   "source": [
    "|Type of model|MSE|mean_cross_validation_MSE|RMSE|mean_cross_validation_RMSE|R^2|mean_cross_validation_R^2|Adjusted R^2|\n",
    "|---|---|---|---|---|---|---|---|\n",
    "|Linear Regression model|762809064.24|625475719.41|27618.99|24983.75|0.86|0.86|0.83|\n"
   ]
  },
  {
   "cell_type": "markdown",
   "metadata": {},
   "source": [
    "The mean cross validation scores for mean squared error (MSE) is 625475719.414458.\n",
    "\n",
    "The mean cross validation scores for Root mean squared error (RMSE) is 24983.754771388434.\n",
    "\n",
    "The mean cross validation scores for R^2 score is 0.8576865.\n",
    "\n",
    "There is a decrease in the MSE, a slight decrease in the RMSE and the R^2 score remains the same. This means the model is not overfitting on training set and performs well on unseen data."
   ]
  },
  {
   "cell_type": "markdown",
   "metadata": {},
   "source": [
    "The next few models will introduce regularization to prevent the model from overfitting by imposing a \"penalty\" on the coefficients of the model. This is also used to reduce the multicollinearity between the predictors in the model. I'll be using Ridge Regression, Lasso Regression and ElasticNet Regression (A combination of Ridge and Lasso regression)."
   ]
  },
  {
   "cell_type": "markdown",
   "metadata": {},
   "source": [
    "## Ridge Regression model"
   ]
  },
  {
   "cell_type": "code",
   "execution_count": 469,
   "metadata": {},
   "outputs": [
    {
     "data": {
      "text/plain": [
       "Ridge(alpha=5)"
      ]
     },
     "execution_count": 469,
     "metadata": {},
     "output_type": "execute_result"
    }
   ],
   "source": [
    "# Create the Ridge model\n",
    "from sklearn.linear_model import Ridge\n",
    "ridge_reg = Ridge(alpha=5)\n",
    "ridge_reg.fit(X_train, y_train)"
   ]
  },
  {
   "cell_type": "code",
   "execution_count": 470,
   "metadata": {},
   "outputs": [],
   "source": [
    "# Predicted sale price values of X_test using ridge regression\n",
    "y_pred_ridge = ridge_reg.predict(X_test)"
   ]
  },
  {
   "cell_type": "code",
   "execution_count": 471,
   "metadata": {},
   "outputs": [
    {
     "name": "stdout",
     "output_type": "stream",
     "text": [
      "Mean squared error      =  849378578.8785979\n",
      "Root mean squared error =  29144.100241362707\n",
      "R^2                     =  0.8401688486231556\n",
      "Adjusted R^2            =  0.8156691830836393\n"
     ]
    }
   ],
   "source": [
    "# Calculate the metrics of the model\n",
    "model_metrics(y_test, y_pred_ridge, X.shape[1])"
   ]
  },
  {
   "cell_type": "code",
   "execution_count": 472,
   "metadata": {},
   "outputs": [
    {
     "data": {
      "text/plain": [
       "array([ 3.38630990e+03,  8.11885249e+03,  7.59524825e+03,  7.28066378e+03,\n",
       "        1.08985409e+04,  1.49280959e+03,  2.87507713e+04,  1.12005029e+03,\n",
       "       -2.39393064e+03, -2.24484561e+03,  3.97578114e+03,  7.83479414e+03,\n",
       "        2.10880520e+03,  1.34644044e+03, -1.08055984e+04,  1.52092633e+02,\n",
       "       -1.97901864e+03,  4.67272437e+03, -1.85783117e+03,  1.08652781e+03,\n",
       "       -1.75433734e+03,  2.54856314e+03, -7.86782282e+02, -1.47584058e+02,\n",
       "        1.47584058e+02,  1.06560841e+03,  4.27374808e+03,  6.16712834e+00,\n",
       "       -7.94080880e+01,  3.46007197e+03, -2.38483698e+03, -5.55029655e+03,\n",
       "       -4.02366304e+03, -5.35063765e+03,  9.08850647e+02,  7.63759475e+02,\n",
       "        2.56184716e+03, -1.36796530e+03,  7.58245946e+02, -2.78379342e+03,\n",
       "       -3.99320125e+03,  5.68023943e+02,  5.57730723e+02, -5.57730723e+02,\n",
       "       -2.32880505e+03, -1.04411385e+02, -4.61093627e+01,  1.64827959e+03,\n",
       "       -4.00366295e+02, -1.91321440e+02, -2.35936299e+03,  1.33169751e+03,\n",
       "        1.22144589e+03,  6.05524186e+02, -1.38304558e+03,  4.56706379e+02,\n",
       "        4.69891959e+03,  1.00686047e+03,  6.09952277e+02, -1.85965753e+02,\n",
       "        4.67185078e+03,  1.11245502e+03,  1.29912593e+03])"
      ]
     },
     "execution_count": 472,
     "metadata": {},
     "output_type": "execute_result"
    }
   ],
   "source": [
    "# Ridge Coefficients\n",
    "ridge_reg.coef_"
   ]
  },
  {
   "cell_type": "code",
   "execution_count": 473,
   "metadata": {},
   "outputs": [
    {
     "data": {
      "text/plain": [
       "array([ 3.38857766e+03,  8.12232671e+03,  7.62164203e+03,  7.31482155e+03,\n",
       "        1.10404085e+04,  9.02532286e+02,  2.96890160e+04,  1.06301936e+03,\n",
       "       -2.59001571e+03, -2.55424740e+03,  3.92664616e+03,  7.78717248e+03,\n",
       "        2.08156395e+03,  1.30256964e+03, -1.12000930e+04, -2.77646978e+15,\n",
       "       -4.57282537e+15, -2.39282178e+15, -3.76440074e+15, -4.08645813e+15,\n",
       "       -1.74778940e+03,  2.51134450e+03, -8.07345000e+02,  1.10529407e+14,\n",
       "        1.10529407e+14,  1.07409182e+03,  4.27888293e+03, -1.30730217e+01,\n",
       "       -1.25618829e+02,  3.45408545e+03, -2.40177784e+03, -5.57215496e+03,\n",
       "       -4.23721627e+03, -5.73151864e+03,  9.21670395e+02,  7.48687389e+02,\n",
       "        2.57567373e+03, -1.39208530e+03,  7.47943665e+02, -2.79835659e+03,\n",
       "       -4.04860130e+03,  5.49976215e+02, -2.47777015e+14, -2.47777015e+14,\n",
       "        1.36259779e+15,  6.62894934e+15,  1.62086653e+15,  3.35692993e+15,\n",
       "        1.03898387e+15,  6.15239690e+15, -2.37000403e+03,  1.33797528e+03,\n",
       "        1.21628857e+03,  6.00537421e+02, -1.38186770e+03,  4.70154635e+02,\n",
       "        4.69702509e+03,  1.02473202e+03,  5.76891246e+02, -2.38678450e+02,\n",
       "        4.62811453e+03,  1.12991186e+03,  1.28798743e+03])"
      ]
     },
     "execution_count": 473,
     "metadata": {},
     "output_type": "execute_result"
    }
   ],
   "source": [
    "lr.coef_"
   ]
  },
  {
   "cell_type": "markdown",
   "metadata": {},
   "source": [
    "There does not seem to much difference in metrics compared to the Linear Regression. Also, the coefficients looks almost the same for Ridge Regression."
   ]
  },
  {
   "cell_type": "markdown",
   "metadata": {},
   "source": [
    "### Cross validation across 5 different models for RidgeRegression"
   ]
  },
  {
   "cell_type": "code",
   "execution_count": 474,
   "metadata": {},
   "outputs": [],
   "source": [
    "# mse and rmse scores\n",
    "ridge_mse_scores = -cross_val_score(ridge_reg, X_train, y_train, cv=5, scoring='neg_mean_squared_error')\n",
    "ridge_rmse_scores = np.sqrt(ridge_mse_scores)"
   ]
  },
  {
   "cell_type": "code",
   "execution_count": 475,
   "metadata": {},
   "outputs": [],
   "source": [
    "# R2 scores\n",
    "scores = cross_val_score(ridge_reg, X_train, y_train, cv=5, scoring='r2')\n",
    "ridge_r2_scores = scores"
   ]
  },
  {
   "cell_type": "code",
   "execution_count": 476,
   "metadata": {},
   "outputs": [
    {
     "name": "stdout",
     "output_type": "stream",
     "text": [
      "Scores:  [6.54336220e+08 7.62406327e+08 7.03276418e+08 5.70355285e+08\n",
      " 7.12507824e+08]\n",
      "Mean:  680576414.5904335\n",
      "Standard deviation:  64912687.167187884\n"
     ]
    }
   ],
   "source": [
    "# Mean cross validated scores of mse\n",
    "cross_val_display_scores(ridge_mse_scores)"
   ]
  },
  {
   "cell_type": "code",
   "execution_count": 477,
   "metadata": {},
   "outputs": [
    {
     "name": "stdout",
     "output_type": "stream",
     "text": [
      "Scores:  [25579.99647334 27611.7063398  26519.35929969 23882.1122434\n",
      " 26692.84217742]\n",
      "Mean:  26057.203306728865\n",
      "Standard deviation:  1264.3458475558893\n"
     ]
    }
   ],
   "source": [
    "# Mean cross validated scores of rmse\n",
    "cross_val_display_scores(ridge_rmse_scores)"
   ]
  },
  {
   "cell_type": "code",
   "execution_count": 478,
   "metadata": {},
   "outputs": [
    {
     "name": "stdout",
     "output_type": "stream",
     "text": [
      "Scores:  [0.87721583 0.81698093 0.83689787 0.85097582 0.84410577]\n",
      "Mean:  0.8452352441537337\n",
      "Standard deviation:  0.019620427596162657\n"
     ]
    }
   ],
   "source": [
    "# Mean cross validated scores of r^2\n",
    "cross_val_display_scores(ridge_r2_scores)"
   ]
  },
  {
   "cell_type": "markdown",
   "metadata": {},
   "source": [
    "## Ridge Regression and Linear Regression score table"
   ]
  },
  {
   "cell_type": "markdown",
   "metadata": {},
   "source": [
    "|Type of model|MSE|mean_cross_validation_MSE|RMSE|mean_cross_validation_RMSE|R^2|mean_cross_validation_R^2|Adjusted R^2|\n",
    "|---|---|---|---|---|---|---|---|\n",
    "|Ridge Regression model|761,368,210.50|625,408,686.02|27,592.90|24,985.62|0.86|0.86|0.83|\n",
    "|Linear Regression model|762,809,064.24|625,475,719.41|27,618.99|24,983.75|0.86|0.86|0.83|"
   ]
  },
  {
   "cell_type": "markdown",
   "metadata": {},
   "source": [
    "The Ridge Regression model yielded slightly better scores than Linear Regression model. The `alpha` hyperparameter can be changed later in the model tunning to see if it improves the scores."
   ]
  },
  {
   "cell_type": "markdown",
   "metadata": {},
   "source": [
    "## Lasso Regression model"
   ]
  },
  {
   "cell_type": "code",
   "execution_count": 479,
   "metadata": {},
   "outputs": [
    {
     "data": {
      "text/plain": [
       "Lasso(alpha=5, max_iter=10000)"
      ]
     },
     "execution_count": 479,
     "metadata": {},
     "output_type": "execute_result"
    }
   ],
   "source": [
    "from sklearn.linear_model import Lasso\n",
    "lasso_reg = Lasso(alpha=5,max_iter=10000)\n",
    "lasso_reg.fit(X_train, y_train)"
   ]
  },
  {
   "cell_type": "code",
   "execution_count": 480,
   "metadata": {},
   "outputs": [],
   "source": [
    "# Predicted sale price values of X_test using ridge regression\n",
    "y_pred_lasso = lasso_reg.predict(X_test)"
   ]
  },
  {
   "cell_type": "code",
   "execution_count": 481,
   "metadata": {},
   "outputs": [
    {
     "name": "stdout",
     "output_type": "stream",
     "text": [
      "Mean squared error      =  850204062.5171314\n",
      "Root mean squared error =  29158.25890750563\n",
      "R^2                     =  0.8400135138835348\n",
      "Adjusted R^2            =  0.815490037909478\n"
     ]
    }
   ],
   "source": [
    "# Calculate the metrics of the model\n",
    "model_metrics(y_test, y_pred_lasso, X.shape[1])"
   ]
  },
  {
   "cell_type": "code",
   "execution_count": 482,
   "metadata": {},
   "outputs": [
    {
     "data": {
      "text/plain": [
       "array([ 3.38239096e+03,  8.12498036e+03,  7.61509625e+03,  7.30930206e+03,\n",
       "        1.10179920e+04,  9.48683720e+02,  2.96266846e+04,  1.06867369e+03,\n",
       "       -2.56550962e+03, -2.52523084e+03,  3.93274701e+03,  7.78210100e+03,\n",
       "        2.07982207e+03,  1.30358565e+03, -1.11530913e+04,  0.00000000e+00,\n",
       "       -2.04099893e+03,  4.86906353e+03, -2.34317075e+03,  1.00828638e+03,\n",
       "       -1.74535539e+03,  2.50678162e+03, -8.02007730e+02, -2.95631521e+02,\n",
       "        1.68288645e-12,  1.06312716e+03,  4.27552997e+03, -3.58396059e+00,\n",
       "       -1.15812521e+02,  3.45226422e+03, -2.39080324e+03, -5.55973307e+03,\n",
       "       -4.20633042e+03, -5.66458171e+03,  9.14681734e+02,  7.46341355e+02,\n",
       "        2.56969533e+03, -1.38329411e+03,  7.43921178e+02, -2.79130762e+03,\n",
       "       -4.03509396e+03,  5.54288783e+02,  1.12297431e+03, -1.95432576e-12,\n",
       "       -2.26946976e+03,  0.00000000e+00,  5.16610190e+00,  1.61219898e+03,\n",
       "       -3.67037740e+02, -5.90942873e+01, -2.36728162e+03,  1.33500755e+03,\n",
       "        1.21061826e+03,  5.95991275e+02, -1.37821043e+03,  4.63048360e+02,\n",
       "        4.69793510e+03,  1.01698560e+03,  5.75684464e+02, -2.25360423e+02,\n",
       "        4.63010528e+03,  1.12076087e+03,  1.28599720e+03])"
      ]
     },
     "execution_count": 482,
     "metadata": {},
     "output_type": "execute_result"
    }
   ],
   "source": [
    "# Lasso's coefficients\n",
    "lasso_reg.coef_"
   ]
  },
  {
   "cell_type": "markdown",
   "metadata": {},
   "source": [
    "The model seems to perform almost similar to Ridge Regression and Linear Regression model."
   ]
  },
  {
   "cell_type": "markdown",
   "metadata": {},
   "source": [
    "### Cross validation across 5 different models for Lasso Regression"
   ]
  },
  {
   "cell_type": "code",
   "execution_count": 483,
   "metadata": {},
   "outputs": [],
   "source": [
    "# mse and rmse scores\n",
    "lasso_reg = Lasso(alpha=5,max_iter=10000)\n",
    "scores = cross_val_score(lasso_reg, X_train, y_train, cv=5, scoring='neg_mean_squared_error')\n",
    "lasso_mse_scores = -scores\n",
    "lasso_rmse_scores = np.sqrt(-scores)"
   ]
  },
  {
   "cell_type": "code",
   "execution_count": 484,
   "metadata": {},
   "outputs": [],
   "source": [
    "# R2 scores\n",
    "lasso_r2_scores = cross_val_score(lasso_reg, X_train, y_train, cv=5, scoring='r2')"
   ]
  },
  {
   "cell_type": "code",
   "execution_count": 485,
   "metadata": {},
   "outputs": [
    {
     "name": "stdout",
     "output_type": "stream",
     "text": [
      "Scores:  [6.55305530e+08 7.64730720e+08 7.03236224e+08 5.70960716e+08\n",
      " 7.10752894e+08]\n",
      "Mean:  680997216.8287461\n",
      "Standard deviation:  65052851.83807038\n"
     ]
    }
   ],
   "source": [
    "# Mean cross validated scores of mse\n",
    "cross_val_display_scores(lasso_mse_scores)"
   ]
  },
  {
   "cell_type": "code",
   "execution_count": 486,
   "metadata": {},
   "outputs": [
    {
     "name": "stdout",
     "output_type": "stream",
     "text": [
      "Scores:  [25598.93611144 27653.76502524 26518.60147647 23894.78428075\n",
      " 26659.9492487 ]\n",
      "Mean:  26065.207228521052\n",
      "Standard deviation:  1265.7760319265888\n"
     ]
    }
   ],
   "source": [
    "# Mean cross validated scores of rmse\n",
    "cross_val_display_scores(lasso_rmse_scores)"
   ]
  },
  {
   "cell_type": "code",
   "execution_count": 487,
   "metadata": {},
   "outputs": [
    {
     "name": "stdout",
     "output_type": "stream",
     "text": [
      "Scores:  [0.87703394 0.81642295 0.83690719 0.85081763 0.84448974]\n",
      "Mean:  0.8451342913810139\n",
      "Standard deviation:  0.019709540198266706\n"
     ]
    }
   ],
   "source": [
    "# Mean cross validated scores of r^2\n",
    "cross_val_display_scores(lasso_r2_scores)"
   ]
  },
  {
   "cell_type": "markdown",
   "metadata": {},
   "source": [
    "## Score table"
   ]
  },
  {
   "cell_type": "markdown",
   "metadata": {},
   "source": [
    "|Type of model|MSE|mean_cross_validation_MSE|RMSE|mean_cross_validation_RMSE|R^2|mean_cross_validation_R^2|Adjusted R^2|\n",
    "|---|---|---|---|---|---|---|---|\n",
    "|Lasso Regression model|762,332,744.38|621,678,811.17|27,610.37|24,901.78|0.86|0.86|0.84|\n",
    "|Ridge Regression model|773,503,203.45|654,898,931.00|27,811.92|25,558.96|0.85|0.85|0.83|\n",
    "|Linear Regression model|762,809,064.24|625,475,719.41|27,618.99|24,983.75|0.86|0.86|0.83|"
   ]
  },
  {
   "cell_type": "markdown",
   "metadata": {},
   "source": [
    "Overall, we can see that Lasso Regression fares slightly better compared to the other models, followed by the Linear Regression model. Tuning the alpha value can help to decrease the MSE and RMSE scores and improve the R^2 scores."
   ]
  },
  {
   "cell_type": "markdown",
   "metadata": {},
   "source": [
    "## ElasticNet Regression model"
   ]
  },
  {
   "cell_type": "code",
   "execution_count": 488,
   "metadata": {},
   "outputs": [
    {
     "data": {
      "text/plain": [
       "ElasticNet(alpha=300, l1_ratio=0.05, max_iter=10000)"
      ]
     },
     "execution_count": 488,
     "metadata": {},
     "output_type": "execute_result"
    }
   ],
   "source": [
    "from sklearn.linear_model import ElasticNet\n",
    "elasticnet_reg = ElasticNet(alpha=300, l1_ratio=0.05, max_iter=10000)\n",
    "elasticnet_reg.fit(X_train, y_train)"
   ]
  },
  {
   "cell_type": "code",
   "execution_count": 489,
   "metadata": {},
   "outputs": [],
   "source": [
    "# Predicted sale price values of X_test using ridge regression\n",
    "y_pred_elasticnet = elasticnet_reg.predict(X_test)"
   ]
  },
  {
   "cell_type": "code",
   "execution_count": 490,
   "metadata": {},
   "outputs": [
    {
     "name": "stdout",
     "output_type": "stream",
     "text": [
      "Mean squared error      =  5153439476.684201\n",
      "Root mean squared error =  71787.46044180836\n",
      "R^2                     =  0.030255547300484298\n",
      "Adjusted R^2            =  -0.1183914126023613\n"
     ]
    }
   ],
   "source": [
    "# Calculate the metrics of the model\n",
    "model_metrics(y_test, y_pred_elasticnet, X.shape[1])"
   ]
  },
  {
   "cell_type": "markdown",
   "metadata": {},
   "source": [
    "The model seems to perform very badly compared to Ridge Regression and Linear Regression models."
   ]
  },
  {
   "cell_type": "markdown",
   "metadata": {},
   "source": [
    "### Cross validation across 5 different models for elasticnet Regression"
   ]
  },
  {
   "cell_type": "code",
   "execution_count": 491,
   "metadata": {},
   "outputs": [],
   "source": [
    "# mse and rmse scores\n",
    "scores = cross_val_score(elasticnet_reg, X_train, y_train, cv=5, scoring='neg_mean_squared_error')\n",
    "elasticnet_mse_scores = -scores\n",
    "elasticnet_rmse_scores = np.sqrt(-scores)"
   ]
  },
  {
   "cell_type": "code",
   "execution_count": 492,
   "metadata": {},
   "outputs": [],
   "source": [
    "# R2 scores\n",
    "scores = cross_val_score(elasticnet_reg, X_train, y_train, cv=5, scoring='r2')\n",
    "elasticnet_r2_scores = scores"
   ]
  },
  {
   "cell_type": "code",
   "execution_count": 493,
   "metadata": {},
   "outputs": [
    {
     "name": "stdout",
     "output_type": "stream",
     "text": [
      "Scores:  [5.16591333e+09 4.01854922e+09 4.15611610e+09 3.73504071e+09\n",
      " 4.44818968e+09]\n",
      "Mean:  4304761806.73302\n",
      "Standard deviation:  488005904.99900174\n"
     ]
    }
   ],
   "source": [
    "# Mean cross validated scores of mse\n",
    "cross_val_display_scores(elasticnet_mse_scores)"
   ]
  },
  {
   "cell_type": "code",
   "execution_count": 494,
   "metadata": {},
   "outputs": [
    {
     "name": "stdout",
     "output_type": "stream",
     "text": [
      "Scores:  [71874.28834636 63392.02802727 64467.94628497 61114.97941249\n",
      " 66694.75004952]\n",
      "Mean:  65508.79842412272\n",
      "Standard deviation:  3655.0151519082065\n"
     ]
    }
   ],
   "source": [
    "# Mean cross validated scores of rmse\n",
    "cross_val_display_scores(elasticnet_rmse_scores)"
   ]
  },
  {
   "cell_type": "code",
   "execution_count": 495,
   "metadata": {},
   "outputs": [
    {
     "name": "stdout",
     "output_type": "stream",
     "text": [
      "Scores:  [0.03063234 0.03532918 0.03612384 0.02409709 0.02675157]\n",
      "Mean:  0.030586802235727496\n",
      "Standard deviation:  0.004689911541698171\n"
     ]
    }
   ],
   "source": [
    "# Mean cross validated scores of r^2\n",
    "cross_val_display_scores(elasticnet_r2_scores)"
   ]
  },
  {
   "cell_type": "markdown",
   "metadata": {},
   "source": [
    "## Score Table"
   ]
  },
  {
   "cell_type": "markdown",
   "metadata": {},
   "source": [
    "|Type of model|MSE|mean_cross_validation_MSE|RMSE|mean_cross_validation_RMSE|R^2|mean_cross_validation_R^2|Adjusted R^2|\n",
    "|---|---|---|---|---|---|---|---|\n",
    "|ElasticNet Regression model|5,148,412,951.44|4,300,887,253.05|71,752.44|65,479.23|0.03|0.03|-0.12|\n",
    "|Lasso Regression model|751,611,776.85|621,678,811.17|27,415.53|24,901.78|0.86|0.86|0.84|\n",
    "|Ridge Regression model|773,503,203.45|654,898,931.00|27,811.92|25,558.96|0.85|0.85|0.83|\n",
    "|Linear Regression model|762,809,064.24|625,475,719.41|27,618.99|24,983.75|0.86|0.86|0.83|"
   ]
  },
  {
   "cell_type": "markdown",
   "metadata": {},
   "source": [
    "ElasticNet performed the worst with the scores being much higher compared to the other models. Fine tunning the hyperparameters would be useful later on to see if it performs better."
   ]
  },
  {
   "cell_type": "markdown",
   "metadata": {},
   "source": [
    "# Model Tuning"
   ]
  },
  {
   "cell_type": "markdown",
   "metadata": {},
   "source": [
    "I'll testing the different hyperparameters for each model to find the optimal regularization to see if the performance improves."
   ]
  },
  {
   "cell_type": "markdown",
   "metadata": {},
   "source": [
    "## Ridge Regression Tuning"
   ]
  },
  {
   "cell_type": "markdown",
   "metadata": {},
   "source": [
    "Ridge performs best searching alphas through logarithmic space"
   ]
  },
  {
   "cell_type": "code",
   "execution_count": 496,
   "metadata": {},
   "outputs": [
    {
     "name": "stdout",
     "output_type": "stream",
     "text": [
      "13.509935211980272\n"
     ]
    }
   ],
   "source": [
    "from sklearn.linear_model import RidgeCV\n",
    "ridge_alphas = np.logspace(0, 5, 200)\n",
    "\n",
    "optimal_ridge = RidgeCV(alphas = ridge_alphas, cv=10)\n",
    "optimal_ridge.fit(X_train, y_train)\n",
    "\n",
    "print(optimal_ridge.alpha_)"
   ]
  },
  {
   "cell_type": "markdown",
   "metadata": {},
   "source": [
    "**The best alpha is 19.12** for ridge regression model."
   ]
  },
  {
   "cell_type": "code",
   "execution_count": 497,
   "metadata": {},
   "outputs": [
    {
     "name": "stdout",
     "output_type": "stream",
     "text": [
      "Mean squared error      =  847950952.3359846\n",
      "Root mean squared error =  29119.59739309568\n",
      "R^2                     =  0.8404374911339466\n",
      "Adjusted R^2            =  0.8159790043734567\n"
     ]
    }
   ],
   "source": [
    "optimal_ridge_predict =optimal_ridge.predict(X_test)\n",
    "model_metrics(y_test, optimal_ridge_predict, X_test.shape[1])"
   ]
  },
  {
   "cell_type": "markdown",
   "metadata": {},
   "source": [
    "The MSE and RMSE performed better when the alpha values is reduced to 19.12"
   ]
  },
  {
   "cell_type": "markdown",
   "metadata": {},
   "source": [
    "## Score Table"
   ]
  },
  {
   "cell_type": "markdown",
   "metadata": {},
   "source": [
    "|Type of model|MSE|mean_cross_validation_MSE|RMSE|mean_cross_validation_RMSE|R^2|mean_cross_validation_R^2|Adjusted R^2|\n",
    "|---|---|---|---|---|---|---|---|\n",
    "|ElasticNet Regression model|5,148,412,951.44|4,300,887,253.05|71,752.44|65,479.23|0.03|0.03|-0.12|\n",
    "|Lasso Regression model|751,611,776.85|621,678,811.17|27,415.53|24,901.78|0.86|0.86|0.84|\n",
    "|Ridge Regression model|773,503,203.45|654,898,931.00|27,811.92|25,558.96|0.85|0.85|0.83|\n",
    "|Linear Regression model|762,809,064.24|625,475,719.41|27,618.99|24,983.75|0.86|0.86|0.83|"
   ]
  },
  {
   "cell_type": "markdown",
   "metadata": {},
   "source": [
    "## Lasso Regression Tuning"
   ]
  },
  {
   "cell_type": "markdown",
   "metadata": {},
   "source": [
    "Lasso performs best searching for alpha through linear space"
   ]
  },
  {
   "cell_type": "code",
   "execution_count": 498,
   "metadata": {},
   "outputs": [
    {
     "name": "stdout",
     "output_type": "stream",
     "text": [
      "178.7747183979975\n"
     ]
    }
   ],
   "source": [
    "from sklearn.linear_model import LassoCV\n",
    "optimal_lasso = LassoCV(n_alphas=800,alphas=np.linspace(1,900,num=800),cv=10, max_iter=10000)\n",
    "optimal_lasso.fit(X_train, y_train)\n",
    "\n",
    "print(optimal_lasso.alpha_)"
   ]
  },
  {
   "cell_type": "code",
   "execution_count": 499,
   "metadata": {},
   "outputs": [
    {
     "name": "stdout",
     "output_type": "stream",
     "text": [
      "Mean squared error      =  843804356.2900889\n",
      "Root mean squared error =  29048.310730403737\n",
      "R^2                     =  0.8412177736096186\n",
      "Adjusted R^2            =  0.8168788921921148\n"
     ]
    }
   ],
   "source": [
    "lasso_reg = Lasso(alpha=166.39, max_iter=10000)\n",
    "lasso_reg.fit(X_train, y_train)\n",
    "\n",
    "y_pred_lasso = lasso_reg.predict(X_test)\n",
    "\n",
    "model_metrics(y_test, y_pred_lasso, X.shape[1])"
   ]
  },
  {
   "cell_type": "code",
   "execution_count": 500,
   "metadata": {},
   "outputs": [
    {
     "name": "stdout",
     "output_type": "stream",
     "text": [
      "Mean squared error      =  843565689.9581546\n",
      "Root mean squared error =  29044.202346736165\n",
      "R^2                     =  0.8412626844604176\n",
      "Adjusted R^2            =  0.8169306871879269\n"
     ]
    }
   ],
   "source": [
    "lasso_reg = Lasso(alpha=300, max_iter=10000)\n",
    "lasso_reg.fit(X_train, y_train)\n",
    "\n",
    "y_pred_lasso = lasso_reg.predict(X_test)\n",
    "\n",
    "model_metrics(y_test, y_pred_lasso, X.shape[1])"
   ]
  },
  {
   "cell_type": "markdown",
   "metadata": {},
   "source": [
    "The best alpha value for Lasso is 160.77 for Lasso regression model according to LassoCV. However, I've decided to increase the alpha to see if it improves the score. By experimenting with an **alpha of 300**, I can see it helps to improve the score slightly."
   ]
  },
  {
   "cell_type": "code",
   "execution_count": 501,
   "metadata": {},
   "outputs": [],
   "source": [
    "from sklearn.model_selection import GridSearchCV\n",
    "\n",
    "lasso_parameters = {\n",
    "    'alpha': range(100, 400)\n",
    "}\n",
    "\n",
    "lasso_gridsearch = GridSearchCV(\n",
    "    Lasso(),\n",
    "    lasso_parameters,\n",
    "    cv=10\n",
    ")"
   ]
  },
  {
   "cell_type": "code",
   "execution_count": 502,
   "metadata": {},
   "outputs": [
    {
     "data": {
      "text/plain": [
       "GridSearchCV(cv=10, estimator=Lasso(), param_grid={'alpha': range(100, 400)})"
      ]
     },
     "execution_count": 502,
     "metadata": {},
     "output_type": "execute_result"
    }
   ],
   "source": [
    "lasso_gridsearch.fit(X_train, y_train)"
   ]
  },
  {
   "cell_type": "code",
   "execution_count": 503,
   "metadata": {},
   "outputs": [
    {
     "data": {
      "text/plain": [
       "{'alpha': 168}"
      ]
     },
     "execution_count": 503,
     "metadata": {},
     "output_type": "execute_result"
    }
   ],
   "source": [
    "lasso_gridsearch.best_params_"
   ]
  },
  {
   "cell_type": "markdown",
   "metadata": {},
   "source": [
    "Grid Search CV also yielded the same result of the best alpha being 160."
   ]
  },
  {
   "cell_type": "markdown",
   "metadata": {},
   "source": [
    "## ElasticNet Regression Tuning"
   ]
  },
  {
   "cell_type": "code",
   "execution_count": 504,
   "metadata": {},
   "outputs": [
    {
     "name": "stdout",
     "output_type": "stream",
     "text": [
      "Optimal Elastic Net alpha:  177.86843656437458\n",
      "Optimal Elastic Net l1 ratio:  1.0\n"
     ]
    }
   ],
   "source": [
    "from sklearn.linear_model import ElasticNetCV\n",
    "l1_ratios = np.linspace(0.01, 1.0, 25)\n",
    "\n",
    "optimal_enet = ElasticNetCV(l1_ratio=l1_ratios, n_alphas=900, cv=10,\n",
    "                            verbose=0, n_jobs=-1)\n",
    "optimal_enet.fit(X_train, y_train)\n",
    "\n",
    "print(\"Optimal Elastic Net alpha: \",optimal_enet.alpha_)\n",
    "print(\"Optimal Elastic Net l1 ratio: \",optimal_enet.l1_ratio_)"
   ]
  },
  {
   "cell_type": "code",
   "execution_count": 505,
   "metadata": {},
   "outputs": [
    {
     "data": {
      "text/plain": [
       "0.8673103628196602"
      ]
     },
     "execution_count": 505,
     "metadata": {},
     "output_type": "execute_result"
    }
   ],
   "source": [
    "optimal_enet.score(X_train, y_train)"
   ]
  },
  {
   "cell_type": "code",
   "execution_count": 506,
   "metadata": {},
   "outputs": [
    {
     "data": {
      "text/plain": [
       "0.8412550365440414"
      ]
     },
     "execution_count": 506,
     "metadata": {},
     "output_type": "execute_result"
    }
   ],
   "source": [
    "optimal_enet.score(X_test, y_test)"
   ]
  },
  {
   "cell_type": "markdown",
   "metadata": {},
   "source": [
    "It seems Lasso Regression is favored over Ridge Regression with `l1_ratio` of 1 and the alpha remains the same with a value of 160."
   ]
  },
  {
   "cell_type": "code",
   "execution_count": 507,
   "metadata": {},
   "outputs": [
    {
     "name": "stdout",
     "output_type": "stream",
     "text": [
      "Mean squared error      =  843606332.700743\n",
      "Root mean squared error =  29044.902008799116\n",
      "R^2                     =  0.8412550365440414\n",
      "Adjusted R^2            =  76.24511267812434\n"
     ]
    }
   ],
   "source": [
    "model_metrics(y_test, optimal_enet.predict(X_test), X_test.shape[0])"
   ]
  },
  {
   "cell_type": "markdown",
   "metadata": {},
   "source": [
    "The score seems slightly worse compared to Lasso Regression's model. "
   ]
  },
  {
   "cell_type": "code",
   "execution_count": 508,
   "metadata": {},
   "outputs": [
    {
     "name": "stdout",
     "output_type": "stream",
     "text": [
      "Mean squared error      =  843565689.9581546\n",
      "Root mean squared error =  29044.202346736165\n",
      "R^2                     =  0.8412626844604176\n",
      "Adjusted R^2            =  76.24148756576201\n"
     ]
    }
   ],
   "source": [
    "elasticnet_reg = ElasticNet(alpha=300, l1_ratio=1, max_iter=10000)\n",
    "elasticnet_reg.fit(X_train, y_train)\n",
    "elasticnet_pred = elasticnet_reg.predict(X_test)\n",
    "\n",
    "model_metrics(y_test, elasticnet_pred, X_test.shape[0])"
   ]
  },
  {
   "cell_type": "markdown",
   "metadata": {},
   "source": [
    "Using an alpha of 300 made a slight improvement. It seems ElasticNet Regression favors Lasso Regression over Ridge Regression. "
   ]
  },
  {
   "cell_type": "markdown",
   "metadata": {},
   "source": [
    "# Need to continue with it later"
   ]
  },
  {
   "cell_type": "markdown",
   "metadata": {},
   "source": [
    "|Type of model|MSE|mean_cross_validation_MSE|RMSE|mean_cross_validation_RMSE|R^2|mean_cross_validation_R^2|Adjusted R^2|\n",
    "|---|---|---|---|---|---|---|---|\n",
    "|ElasticNet Regression model|5,148,412,951.44|4,300,887,253.05|71,752.44|65,479.23|0.03|0.03|-0.12|\n",
    "|Lasso Regression model|751,611,776.85|621,678,811.17|27,415.53|24,901.78|0.86|0.86|0.84|\n",
    "|Ridge Regression model|773,503,203.45|654,898,931.00|27,811.92|25,558.96|0.85|0.85|0.83|\n",
    "|Linear Regression model|762,809,064.24|625,475,719.41|27,618.99|24,983.75|0.86|0.86|0.83|"
   ]
  },
  {
   "cell_type": "markdown",
   "metadata": {},
   "source": [
    "# Find the predicted sale price using Lasso Regression on the test set"
   ]
  },
  {
   "cell_type": "markdown",
   "metadata": {},
   "source": [
    "As Lasso Regression makes the better predictions compared to the rest of the models. I'll be using it make the predictions. "
   ]
  },
  {
   "cell_type": "code",
   "execution_count": 387,
   "metadata": {},
   "outputs": [
    {
     "data": {
      "text/plain": [
       "Lasso(alpha=166)"
      ]
     },
     "execution_count": 387,
     "metadata": {},
     "output_type": "execute_result"
    }
   ],
   "source": [
    "# Creating the Lasso model\n",
    "X = final_train_df_scaled\n",
    "y = np.exp(clean_train_df['saleprice'])\n",
    "\n",
    "lasso_reg = Lasso(alpha=166)\n",
    "lasso_reg.fit(X,y)"
   ]
  },
  {
   "cell_type": "code",
   "execution_count": 441,
   "metadata": {},
   "outputs": [
    {
     "data": {
      "text/html": [
       "<div>\n",
       "<style scoped>\n",
       "    .dataframe tbody tr th:only-of-type {\n",
       "        vertical-align: middle;\n",
       "    }\n",
       "\n",
       "    .dataframe tbody tr th {\n",
       "        vertical-align: top;\n",
       "    }\n",
       "\n",
       "    .dataframe thead th {\n",
       "        text-align: right;\n",
       "    }\n",
       "</style>\n",
       "<table border=\"1\" class=\"dataframe\">\n",
       "  <thead>\n",
       "    <tr style=\"text-align: right;\">\n",
       "      <th></th>\n",
       "      <th>Values</th>\n",
       "    </tr>\n",
       "  </thead>\n",
       "  <tbody>\n",
       "    <tr>\n",
       "      <th>ms_subclass_11/2_story_finished_all_ages</th>\n",
       "      <td>-0.0</td>\n",
       "    </tr>\n",
       "    <tr>\n",
       "      <th>ms_subclass_2story_1946_&amp;_newer</th>\n",
       "      <td>-0.0</td>\n",
       "    </tr>\n",
       "    <tr>\n",
       "      <th>neighborhood_CollgCr</th>\n",
       "      <td>-0.0</td>\n",
       "    </tr>\n",
       "    <tr>\n",
       "      <th>roof_style_Flat</th>\n",
       "      <td>0.0</td>\n",
       "    </tr>\n",
       "    <tr>\n",
       "      <th>garage_type_Detchd</th>\n",
       "      <td>-0.0</td>\n",
       "    </tr>\n",
       "    <tr>\n",
       "      <th>bsmt_cond</th>\n",
       "      <td>0.0</td>\n",
       "    </tr>\n",
       "    <tr>\n",
       "      <th>garage_qual</th>\n",
       "      <td>-0.0</td>\n",
       "    </tr>\n",
       "  </tbody>\n",
       "</table>\n",
       "</div>"
      ],
      "text/plain": [
       "                                          Values\n",
       "ms_subclass_11/2_story_finished_all_ages    -0.0\n",
       "ms_subclass_2story_1946_&_newer             -0.0\n",
       "neighborhood_CollgCr                        -0.0\n",
       "roof_style_Flat                              0.0\n",
       "garage_type_Detchd                          -0.0\n",
       "bsmt_cond                                    0.0\n",
       "garage_qual                                 -0.0"
      ]
     },
     "execution_count": 441,
     "metadata": {},
     "output_type": "execute_result"
    }
   ],
   "source": [
    "# The following features were \"zeroed out\" by the Lasso Regression model as they were not meaningful to the model\n",
    "lasso_coef_df = pd.DataFrame(lasso_reg.coef_, index=final_test_df_scaled.columns, columns=['Values'])\n",
    "lasso_coef_df[lasso_coef_df == 0].dropna()"
   ]
  },
  {
   "cell_type": "code",
   "execution_count": 527,
   "metadata": {},
   "outputs": [
    {
     "data": {
      "text/html": [
       "<div>\n",
       "<style scoped>\n",
       "    .dataframe tbody tr th:only-of-type {\n",
       "        vertical-align: middle;\n",
       "    }\n",
       "\n",
       "    .dataframe tbody tr th {\n",
       "        vertical-align: top;\n",
       "    }\n",
       "\n",
       "    .dataframe thead th {\n",
       "        text-align: right;\n",
       "    }\n",
       "</style>\n",
       "<table border=\"1\" class=\"dataframe\">\n",
       "  <thead>\n",
       "    <tr style=\"text-align: right;\">\n",
       "      <th></th>\n",
       "      <th>Values</th>\n",
       "    </tr>\n",
       "  </thead>\n",
       "  <tbody>\n",
       "    <tr>\n",
       "      <th>gr_liv_area</th>\n",
       "      <td>27419.074622</td>\n",
       "    </tr>\n",
       "    <tr>\n",
       "      <th>total_bsmt_sf</th>\n",
       "      <td>10039.244673</td>\n",
       "    </tr>\n",
       "    <tr>\n",
       "      <th>year_remod/add</th>\n",
       "      <td>8131.444791</td>\n",
       "    </tr>\n",
       "    <tr>\n",
       "      <th>garage_area</th>\n",
       "      <td>7683.187371</td>\n",
       "    </tr>\n",
       "    <tr>\n",
       "      <th>bsmtfin_sf_1</th>\n",
       "      <td>6873.022910</td>\n",
       "    </tr>\n",
       "  </tbody>\n",
       "</table>\n",
       "</div>"
      ],
      "text/plain": [
       "                      Values\n",
       "gr_liv_area     27419.074622\n",
       "total_bsmt_sf   10039.244673\n",
       "year_remod/add   8131.444791\n",
       "garage_area      7683.187371\n",
       "bsmtfin_sf_1     6873.022910"
      ]
     },
     "execution_count": 527,
     "metadata": {},
     "output_type": "execute_result"
    }
   ],
   "source": [
    "# Top 5 positive coefficients\n",
    "lasso_coef_df[lasso_coef_df > 0].dropna().sort_values('Values', ascending=False).head()"
   ]
  },
  {
   "cell_type": "code",
   "execution_count": 529,
   "metadata": {},
   "outputs": [
    {
     "data": {
      "text/html": [
       "<div>\n",
       "<style scoped>\n",
       "    .dataframe tbody tr th:only-of-type {\n",
       "        vertical-align: middle;\n",
       "    }\n",
       "\n",
       "    .dataframe tbody tr th {\n",
       "        vertical-align: top;\n",
       "    }\n",
       "\n",
       "    .dataframe thead th {\n",
       "        text-align: right;\n",
       "    }\n",
       "</style>\n",
       "<table border=\"1\" class=\"dataframe\">\n",
       "  <thead>\n",
       "    <tr style=\"text-align: right;\">\n",
       "      <th></th>\n",
       "      <th>Values</th>\n",
       "    </tr>\n",
       "  </thead>\n",
       "  <tbody>\n",
       "    <tr>\n",
       "      <th>mas_vnr_type_BrkFace</th>\n",
       "      <td>-2713.928829</td>\n",
       "    </tr>\n",
       "    <tr>\n",
       "      <th>bldg_type_Twnhs</th>\n",
       "      <td>-2857.725384</td>\n",
       "    </tr>\n",
       "    <tr>\n",
       "      <th>bldg_type_TwnhsE</th>\n",
       "      <td>-3436.814363</td>\n",
       "    </tr>\n",
       "    <tr>\n",
       "      <th>bldg_type_Duplex</th>\n",
       "      <td>-4967.011831</td>\n",
       "    </tr>\n",
       "    <tr>\n",
       "      <th>house_age</th>\n",
       "      <td>-10649.362106</td>\n",
       "    </tr>\n",
       "  </tbody>\n",
       "</table>\n",
       "</div>"
      ],
      "text/plain": [
       "                            Values\n",
       "mas_vnr_type_BrkFace  -2713.928829\n",
       "bldg_type_Twnhs       -2857.725384\n",
       "bldg_type_TwnhsE      -3436.814363\n",
       "bldg_type_Duplex      -4967.011831\n",
       "house_age            -10649.362106"
      ]
     },
     "execution_count": 529,
     "metadata": {},
     "output_type": "execute_result"
    }
   ],
   "source": [
    "# Top 5 negative coefficients\n",
    "lasso_coef_df[lasso_coef_df < 0].dropna().sort_values('Values', ascending=False).tail()"
   ]
  },
  {
   "cell_type": "code",
   "execution_count": 389,
   "metadata": {},
   "outputs": [],
   "source": [
    "# Making the sales prediction on the final_test_df_scaled\n",
    "sales_pred = lasso_reg.predict(final_test_df_scaled)"
   ]
  },
  {
   "cell_type": "code",
   "execution_count": 390,
   "metadata": {
    "scrolled": true
   },
   "outputs": [
    {
     "data": {
      "text/plain": [
       "0      2658\n",
       "1      2718\n",
       "2      2414\n",
       "3      1989\n",
       "4       625\n",
       "       ... \n",
       "874    1662\n",
       "875    1234\n",
       "876    1373\n",
       "877    1672\n",
       "878    1939\n",
       "Name: Id, Length: 879, dtype: int64"
      ]
     },
     "execution_count": 390,
     "metadata": {},
     "output_type": "execute_result"
    }
   ],
   "source": [
    "# Getting the ids for test_df\n",
    "test_ids = test_df['Id']\n",
    "test_ids"
   ]
  },
  {
   "cell_type": "code",
   "execution_count": 391,
   "metadata": {},
   "outputs": [
    {
     "data": {
      "text/html": [
       "<div>\n",
       "<style scoped>\n",
       "    .dataframe tbody tr th:only-of-type {\n",
       "        vertical-align: middle;\n",
       "    }\n",
       "\n",
       "    .dataframe tbody tr th {\n",
       "        vertical-align: top;\n",
       "    }\n",
       "\n",
       "    .dataframe thead th {\n",
       "        text-align: right;\n",
       "    }\n",
       "</style>\n",
       "<table border=\"1\" class=\"dataframe\">\n",
       "  <thead>\n",
       "    <tr style=\"text-align: right;\">\n",
       "      <th></th>\n",
       "      <th>SalePrice</th>\n",
       "    </tr>\n",
       "    <tr>\n",
       "      <th>Id</th>\n",
       "      <th></th>\n",
       "    </tr>\n",
       "  </thead>\n",
       "  <tbody>\n",
       "    <tr>\n",
       "      <th>2658</th>\n",
       "      <td>115384.520865</td>\n",
       "    </tr>\n",
       "    <tr>\n",
       "      <th>2718</th>\n",
       "      <td>189399.223434</td>\n",
       "    </tr>\n",
       "    <tr>\n",
       "      <th>2414</th>\n",
       "      <td>213365.454011</td>\n",
       "    </tr>\n",
       "    <tr>\n",
       "      <th>1989</th>\n",
       "      <td>111270.107167</td>\n",
       "    </tr>\n",
       "    <tr>\n",
       "      <th>625</th>\n",
       "      <td>184015.433407</td>\n",
       "    </tr>\n",
       "    <tr>\n",
       "      <th>...</th>\n",
       "      <td>...</td>\n",
       "    </tr>\n",
       "    <tr>\n",
       "      <th>1662</th>\n",
       "      <td>206340.799331</td>\n",
       "    </tr>\n",
       "    <tr>\n",
       "      <th>1234</th>\n",
       "      <td>225062.496870</td>\n",
       "    </tr>\n",
       "    <tr>\n",
       "      <th>1373</th>\n",
       "      <td>152286.887154</td>\n",
       "    </tr>\n",
       "    <tr>\n",
       "      <th>1672</th>\n",
       "      <td>113967.144178</td>\n",
       "    </tr>\n",
       "    <tr>\n",
       "      <th>1939</th>\n",
       "      <td>124652.404657</td>\n",
       "    </tr>\n",
       "  </tbody>\n",
       "</table>\n",
       "<p>879 rows × 1 columns</p>\n",
       "</div>"
      ],
      "text/plain": [
       "          SalePrice\n",
       "Id                 \n",
       "2658  115384.520865\n",
       "2718  189399.223434\n",
       "2414  213365.454011\n",
       "1989  111270.107167\n",
       "625   184015.433407\n",
       "...             ...\n",
       "1662  206340.799331\n",
       "1234  225062.496870\n",
       "1373  152286.887154\n",
       "1672  113967.144178\n",
       "1939  124652.404657\n",
       "\n",
       "[879 rows x 1 columns]"
      ]
     },
     "execution_count": 391,
     "metadata": {},
     "output_type": "execute_result"
    }
   ],
   "source": [
    "# Putting it into a dataframe\n",
    "saleprice_pred_df = pd.DataFrame({'SalePrice': sales_pred}, index=test_ids)\n",
    "saleprice_pred_df"
   ]
  },
  {
   "cell_type": "code",
   "execution_count": 392,
   "metadata": {},
   "outputs": [],
   "source": [
    "# Save to CSV format for submission\n",
    "saleprice_pred_df.to_csv('../datasets/example_sales_pred.csv')"
   ]
  },
  {
   "cell_type": "markdown",
   "metadata": {},
   "source": [
    "## Conclusions and Recommendations"
   ]
  },
  {
   "cell_type": "markdown",
   "metadata": {},
   "source": [
    "Based on the Exploratory Data Analysis, I found a strong positive correlation for variables that have square feet in them, such as `1st_flr_sf `. Size of the house seems to have a significant impact on the price of the house. `Fireplace` and `Kitchen Quality`, neighborhood, zonning dummies are also some of the features that have significant impact on the price. I also did a log transformation of the highly skewed house sale price.\n",
    "\n",
    "I've used 4 different types of models, Linear Regression, Ridge Regresion, Lasso Regression and ElasticNet Regression to predict the housing price. All of the models except, ElasticNet, achieved stable results and scores, the coefficients being almost the same. The model achieved a R-squared score of approximately 84% ~ 85% on the train-validation sets and this show consistency across all the models, except Elastic Net which favored `l1-ratio` of 1 with 1 being Lasso Regression.\n",
    "\n",
    "`gr_liv_area`, `total_bsmt_sf`, `year_remod/add`, `garage_area`,`bsmtfin_sf_1` have strong positive correlations while `Masonry veneer type brick face`, `house_age` and the `bldg_type` have strong negative correlations with the saleprice. I believe that this model can prove to be useful to the real estate agents for their day to day work as it's found to predict fairly accurately. Further feature engineering to create better features to improve the model's performance can useful in the future."
   ]
  },
  {
   "cell_type": "markdown",
   "metadata": {},
   "source": []
  }
 ],
 "metadata": {
  "kernelspec": {
   "display_name": "Python 3",
   "language": "python",
   "name": "python3"
  },
  "language_info": {
   "codemirror_mode": {
    "name": "ipython",
    "version": 3
   },
   "file_extension": ".py",
   "mimetype": "text/x-python",
   "name": "python",
   "nbconvert_exporter": "python",
   "pygments_lexer": "ipython3",
   "version": "3.8.5"
  }
 },
 "nbformat": 4,
 "nbformat_minor": 4
}
