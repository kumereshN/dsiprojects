{
 "cells": [
  {
   "cell_type": "markdown",
   "metadata": {},
   "source": [
    "# Project 4: EDA on training and test set"
   ]
  },
  {
   "cell_type": "code",
   "execution_count": 1,
   "metadata": {},
   "outputs": [],
   "source": [
    "# Common imports\n",
    "import numpy as np\n",
    "import pandas as pd\n",
    "import matplotlib.pyplot as plt\n",
    "import seaborn as sns\n",
    "\n",
    "%matplotlib inline"
   ]
  },
  {
   "cell_type": "code",
   "execution_count": 2,
   "metadata": {},
   "outputs": [],
   "source": [
    "# Import graph style\n",
    "plt.style.use('fivethirtyeight')"
   ]
  },
  {
   "cell_type": "code",
   "execution_count": 3,
   "metadata": {},
   "outputs": [],
   "source": [
    "# Set the max rows and columns for Pandas\n",
    "pd.options.display.max_columns = 100\n",
    "pd.options.display.max_rows = 200"
   ]
  },
  {
   "cell_type": "code",
   "execution_count": 4,
   "metadata": {},
   "outputs": [],
   "source": [
    "# Read the data\n",
    "train = pd.read_csv('./assets/train.csv')\n",
    "test = pd.read_csv('./assets/test.csv')\n",
    "spray = pd.read_csv('./assets/spray.csv')\n",
    "weather = pd.read_csv('./assets/weather.csv')"
   ]
  },
  {
   "cell_type": "code",
   "execution_count": 5,
   "metadata": {},
   "outputs": [
    {
     "data": {
      "text/html": [
       "<div>\n",
       "<style scoped>\n",
       "    .dataframe tbody tr th:only-of-type {\n",
       "        vertical-align: middle;\n",
       "    }\n",
       "\n",
       "    .dataframe tbody tr th {\n",
       "        vertical-align: top;\n",
       "    }\n",
       "\n",
       "    .dataframe thead th {\n",
       "        text-align: right;\n",
       "    }\n",
       "</style>\n",
       "<table border=\"1\" class=\"dataframe\">\n",
       "  <thead>\n",
       "    <tr style=\"text-align: right;\">\n",
       "      <th></th>\n",
       "      <th>Date</th>\n",
       "      <th>Address</th>\n",
       "      <th>Species</th>\n",
       "      <th>Block</th>\n",
       "      <th>Street</th>\n",
       "      <th>Trap</th>\n",
       "      <th>AddressNumberAndStreet</th>\n",
       "      <th>Latitude</th>\n",
       "      <th>Longitude</th>\n",
       "      <th>AddressAccuracy</th>\n",
       "      <th>NumMosquitos</th>\n",
       "      <th>WnvPresent</th>\n",
       "    </tr>\n",
       "  </thead>\n",
       "  <tbody>\n",
       "    <tr>\n",
       "      <th>0</th>\n",
       "      <td>2007-05-29</td>\n",
       "      <td>4100 North Oak Park Avenue, Chicago, IL 60634,...</td>\n",
       "      <td>CULEX PIPIENS/RESTUANS</td>\n",
       "      <td>41</td>\n",
       "      <td>N OAK PARK AVE</td>\n",
       "      <td>T002</td>\n",
       "      <td>4100  N OAK PARK AVE, Chicago, IL</td>\n",
       "      <td>41.954690</td>\n",
       "      <td>-87.800991</td>\n",
       "      <td>9</td>\n",
       "      <td>1</td>\n",
       "      <td>0</td>\n",
       "    </tr>\n",
       "    <tr>\n",
       "      <th>1</th>\n",
       "      <td>2007-05-29</td>\n",
       "      <td>4100 North Oak Park Avenue, Chicago, IL 60634,...</td>\n",
       "      <td>CULEX RESTUANS</td>\n",
       "      <td>41</td>\n",
       "      <td>N OAK PARK AVE</td>\n",
       "      <td>T002</td>\n",
       "      <td>4100  N OAK PARK AVE, Chicago, IL</td>\n",
       "      <td>41.954690</td>\n",
       "      <td>-87.800991</td>\n",
       "      <td>9</td>\n",
       "      <td>1</td>\n",
       "      <td>0</td>\n",
       "    </tr>\n",
       "    <tr>\n",
       "      <th>2</th>\n",
       "      <td>2007-05-29</td>\n",
       "      <td>6200 North Mandell Avenue, Chicago, IL 60646, USA</td>\n",
       "      <td>CULEX RESTUANS</td>\n",
       "      <td>62</td>\n",
       "      <td>N MANDELL AVE</td>\n",
       "      <td>T007</td>\n",
       "      <td>6200  N MANDELL AVE, Chicago, IL</td>\n",
       "      <td>41.994991</td>\n",
       "      <td>-87.769279</td>\n",
       "      <td>9</td>\n",
       "      <td>1</td>\n",
       "      <td>0</td>\n",
       "    </tr>\n",
       "    <tr>\n",
       "      <th>3</th>\n",
       "      <td>2007-05-29</td>\n",
       "      <td>7900 West Foster Avenue, Chicago, IL 60656, USA</td>\n",
       "      <td>CULEX PIPIENS/RESTUANS</td>\n",
       "      <td>79</td>\n",
       "      <td>W FOSTER AVE</td>\n",
       "      <td>T015</td>\n",
       "      <td>7900  W FOSTER AVE, Chicago, IL</td>\n",
       "      <td>41.974089</td>\n",
       "      <td>-87.824812</td>\n",
       "      <td>8</td>\n",
       "      <td>1</td>\n",
       "      <td>0</td>\n",
       "    </tr>\n",
       "    <tr>\n",
       "      <th>4</th>\n",
       "      <td>2007-05-29</td>\n",
       "      <td>7900 West Foster Avenue, Chicago, IL 60656, USA</td>\n",
       "      <td>CULEX RESTUANS</td>\n",
       "      <td>79</td>\n",
       "      <td>W FOSTER AVE</td>\n",
       "      <td>T015</td>\n",
       "      <td>7900  W FOSTER AVE, Chicago, IL</td>\n",
       "      <td>41.974089</td>\n",
       "      <td>-87.824812</td>\n",
       "      <td>8</td>\n",
       "      <td>4</td>\n",
       "      <td>0</td>\n",
       "    </tr>\n",
       "  </tbody>\n",
       "</table>\n",
       "</div>"
      ],
      "text/plain": [
       "         Date                                            Address  \\\n",
       "0  2007-05-29  4100 North Oak Park Avenue, Chicago, IL 60634,...   \n",
       "1  2007-05-29  4100 North Oak Park Avenue, Chicago, IL 60634,...   \n",
       "2  2007-05-29  6200 North Mandell Avenue, Chicago, IL 60646, USA   \n",
       "3  2007-05-29    7900 West Foster Avenue, Chicago, IL 60656, USA   \n",
       "4  2007-05-29    7900 West Foster Avenue, Chicago, IL 60656, USA   \n",
       "\n",
       "                  Species  Block           Street  Trap  \\\n",
       "0  CULEX PIPIENS/RESTUANS     41   N OAK PARK AVE  T002   \n",
       "1          CULEX RESTUANS     41   N OAK PARK AVE  T002   \n",
       "2          CULEX RESTUANS     62    N MANDELL AVE  T007   \n",
       "3  CULEX PIPIENS/RESTUANS     79     W FOSTER AVE  T015   \n",
       "4          CULEX RESTUANS     79     W FOSTER AVE  T015   \n",
       "\n",
       "              AddressNumberAndStreet   Latitude  Longitude  AddressAccuracy  \\\n",
       "0  4100  N OAK PARK AVE, Chicago, IL  41.954690 -87.800991                9   \n",
       "1  4100  N OAK PARK AVE, Chicago, IL  41.954690 -87.800991                9   \n",
       "2   6200  N MANDELL AVE, Chicago, IL  41.994991 -87.769279                9   \n",
       "3    7900  W FOSTER AVE, Chicago, IL  41.974089 -87.824812                8   \n",
       "4    7900  W FOSTER AVE, Chicago, IL  41.974089 -87.824812                8   \n",
       "\n",
       "   NumMosquitos  WnvPresent  \n",
       "0             1           0  \n",
       "1             1           0  \n",
       "2             1           0  \n",
       "3             1           0  \n",
       "4             4           0  "
      ]
     },
     "execution_count": 5,
     "metadata": {},
     "output_type": "execute_result"
    }
   ],
   "source": [
    "train.head()"
   ]
  },
  {
   "cell_type": "code",
   "execution_count": 6,
   "metadata": {},
   "outputs": [
    {
     "data": {
      "text/plain": [
       "(10506, 12)"
      ]
     },
     "execution_count": 6,
     "metadata": {},
     "output_type": "execute_result"
    }
   ],
   "source": [
    "# Shape of the train data\n",
    "train.shape"
   ]
  },
  {
   "cell_type": "code",
   "execution_count": 7,
   "metadata": {},
   "outputs": [
    {
     "data": {
      "text/plain": [
       "Index(['Date', 'Address', 'Species', 'Block', 'Street', 'Trap',\n",
       "       'AddressNumberAndStreet', 'Latitude', 'Longitude', 'AddressAccuracy',\n",
       "       'NumMosquitos', 'WnvPresent'],\n",
       "      dtype='object')"
      ]
     },
     "execution_count": 7,
     "metadata": {},
     "output_type": "execute_result"
    }
   ],
   "source": [
    "# Columns\n",
    "train.columns"
   ]
  },
  {
   "cell_type": "code",
   "execution_count": 8,
   "metadata": {},
   "outputs": [
    {
     "data": {
      "text/plain": [
       "Date                      0\n",
       "Address                   0\n",
       "Species                   0\n",
       "Block                     0\n",
       "Street                    0\n",
       "Trap                      0\n",
       "AddressNumberAndStreet    0\n",
       "Latitude                  0\n",
       "Longitude                 0\n",
       "AddressAccuracy           0\n",
       "NumMosquitos              0\n",
       "WnvPresent                0\n",
       "dtype: int64"
      ]
     },
     "execution_count": 8,
     "metadata": {},
     "output_type": "execute_result"
    }
   ],
   "source": [
    "# No null values\n",
    "train.isnull().sum()"
   ]
  },
  {
   "cell_type": "markdown",
   "metadata": {},
   "source": [
    "## Duplicate entries"
   ]
  },
  {
   "cell_type": "code",
   "execution_count": 9,
   "metadata": {},
   "outputs": [
    {
     "data": {
      "text/plain": [
       "0.019798210546354465"
      ]
     },
     "execution_count": 9,
     "metadata": {},
     "output_type": "execute_result"
    }
   ],
   "source": [
    "# Duplicate entries, any entry less than 50 and check if they're duplicated\n",
    "# They make up less than 2.2%\n",
    "len(train[train['NumMosquitos'] < 50][train[train['NumMosquitos'] < 50].duplicated(keep=False)]) / len(train)"
   ]
  },
  {
   "cell_type": "code",
   "execution_count": 10,
   "metadata": {},
   "outputs": [],
   "source": [
    "# Drop the duplicate entries\n",
    "duplicate_entries = train[train['NumMosquitos'] < 50][train[train['NumMosquitos'] < 50].duplicated(keep=False)].index\n",
    "train = train.drop(duplicate_entries, axis='rows')"
   ]
  },
  {
   "cell_type": "code",
   "execution_count": 11,
   "metadata": {},
   "outputs": [
    {
     "data": {
      "text/plain": [
       "(10298, 12)"
      ]
     },
     "execution_count": 11,
     "metadata": {},
     "output_type": "execute_result"
    }
   ],
   "source": [
    "train.shape"
   ]
  },
  {
   "cell_type": "markdown",
   "metadata": {},
   "source": [
    "## Group the mosquitos by their Date, Trap, Species"
   ]
  },
  {
   "cell_type": "code",
   "execution_count": 12,
   "metadata": {},
   "outputs": [],
   "source": [
    "#fix NumMosquitos column\n",
    "train['NumMosquitos_sum'] = np.nan #create sum column\n",
    "#fill sum column with sum of matching rows\n",
    "train['NumMosquitos_sum'].fillna(train.groupby(['Date','Trap','Species'])['NumMosquitos'].transform('sum'), inplace=True)\n",
    "train.drop(['NumMosquitos'], axis=1, inplace=True) #drop old column\n",
    "train.drop_duplicates(inplace=True) #drop duplicated rows \n",
    "train.reset_index(inplace=True) #reset index"
   ]
  },
  {
   "cell_type": "code",
   "execution_count": 13,
   "metadata": {},
   "outputs": [
    {
     "data": {
      "text/plain": [
       "(0.0, 50.0)"
      ]
     },
     "execution_count": 13,
     "metadata": {},
     "output_type": "execute_result"
    },
    {
     "data": {
      "image/png": "[encoded data removed]",
      "text/plain": [
       "<Figure size 432x288 with 1 Axes>"
      ]
     },
     "metadata": {},
     "output_type": "display_data"
    }
   ],
   "source": [
    "train['NumMosquitos_sum'].hist(bins=500)\n",
    "plt.title('Distribution of Mosquitos')\n",
    "plt.xlim(0,50)"
   ]
  },
  {
   "cell_type": "code",
   "execution_count": 107,
   "metadata": {},
   "outputs": [
    {
     "data": {
      "text/html": [
       "<div>\n",
       "<style scoped>\n",
       "    .dataframe tbody tr th:only-of-type {\n",
       "        vertical-align: middle;\n",
       "    }\n",
       "\n",
       "    .dataframe tbody tr th {\n",
       "        vertical-align: top;\n",
       "    }\n",
       "\n",
       "    .dataframe thead th {\n",
       "        text-align: right;\n",
       "    }\n",
       "</style>\n",
       "<table border=\"1\" class=\"dataframe\">\n",
       "  <thead>\n",
       "    <tr style=\"text-align: right;\">\n",
       "      <th></th>\n",
       "      <th>index</th>\n",
       "      <th>year</th>\n",
       "      <th>month</th>\n",
       "      <th>Date</th>\n",
       "      <th>Address</th>\n",
       "      <th>Species</th>\n",
       "      <th>Block</th>\n",
       "      <th>Street</th>\n",
       "      <th>Trap</th>\n",
       "      <th>AddressNumberAndStreet</th>\n",
       "      <th>Latitude</th>\n",
       "      <th>Longitude</th>\n",
       "      <th>AddressAccuracy</th>\n",
       "      <th>WnvPresent</th>\n",
       "      <th>NumMosquitos_sum</th>\n",
       "    </tr>\n",
       "  </thead>\n",
       "  <tbody>\n",
       "    <tr>\n",
       "      <th>0</th>\n",
       "      <td>0</td>\n",
       "      <td>2007</td>\n",
       "      <td>May</td>\n",
       "      <td>2007-05-29</td>\n",
       "      <td>4100 North Oak Park Avenue, Chicago, IL 60634,...</td>\n",
       "      <td>CULEX PIPIENS/RESTUANS</td>\n",
       "      <td>41</td>\n",
       "      <td>N OAK PARK AVE</td>\n",
       "      <td>T002</td>\n",
       "      <td>4100  N OAK PARK AVE, Chicago, IL</td>\n",
       "      <td>41.954690</td>\n",
       "      <td>-87.800991</td>\n",
       "      <td>9</td>\n",
       "      <td>0</td>\n",
       "      <td>1.0</td>\n",
       "    </tr>\n",
       "    <tr>\n",
       "      <th>1</th>\n",
       "      <td>1</td>\n",
       "      <td>2007</td>\n",
       "      <td>May</td>\n",
       "      <td>2007-05-29</td>\n",
       "      <td>4100 North Oak Park Avenue, Chicago, IL 60634,...</td>\n",
       "      <td>CULEX RESTUANS</td>\n",
       "      <td>41</td>\n",
       "      <td>N OAK PARK AVE</td>\n",
       "      <td>T002</td>\n",
       "      <td>4100  N OAK PARK AVE, Chicago, IL</td>\n",
       "      <td>41.954690</td>\n",
       "      <td>-87.800991</td>\n",
       "      <td>9</td>\n",
       "      <td>0</td>\n",
       "      <td>1.0</td>\n",
       "    </tr>\n",
       "    <tr>\n",
       "      <th>2</th>\n",
       "      <td>2</td>\n",
       "      <td>2007</td>\n",
       "      <td>May</td>\n",
       "      <td>2007-05-29</td>\n",
       "      <td>6200 North Mandell Avenue, Chicago, IL 60646, USA</td>\n",
       "      <td>CULEX RESTUANS</td>\n",
       "      <td>62</td>\n",
       "      <td>N MANDELL AVE</td>\n",
       "      <td>T007</td>\n",
       "      <td>6200  N MANDELL AVE, Chicago, IL</td>\n",
       "      <td>41.994991</td>\n",
       "      <td>-87.769279</td>\n",
       "      <td>9</td>\n",
       "      <td>0</td>\n",
       "      <td>1.0</td>\n",
       "    </tr>\n",
       "    <tr>\n",
       "      <th>3</th>\n",
       "      <td>3</td>\n",
       "      <td>2007</td>\n",
       "      <td>May</td>\n",
       "      <td>2007-05-29</td>\n",
       "      <td>7900 West Foster Avenue, Chicago, IL 60656, USA</td>\n",
       "      <td>CULEX PIPIENS/RESTUANS</td>\n",
       "      <td>79</td>\n",
       "      <td>W FOSTER AVE</td>\n",
       "      <td>T015</td>\n",
       "      <td>7900  W FOSTER AVE, Chicago, IL</td>\n",
       "      <td>41.974089</td>\n",
       "      <td>-87.824812</td>\n",
       "      <td>8</td>\n",
       "      <td>0</td>\n",
       "      <td>1.0</td>\n",
       "    </tr>\n",
       "    <tr>\n",
       "      <th>4</th>\n",
       "      <td>4</td>\n",
       "      <td>2007</td>\n",
       "      <td>May</td>\n",
       "      <td>2007-05-29</td>\n",
       "      <td>7900 West Foster Avenue, Chicago, IL 60656, USA</td>\n",
       "      <td>CULEX RESTUANS</td>\n",
       "      <td>79</td>\n",
       "      <td>W FOSTER AVE</td>\n",
       "      <td>T015</td>\n",
       "      <td>7900  W FOSTER AVE, Chicago, IL</td>\n",
       "      <td>41.974089</td>\n",
       "      <td>-87.824812</td>\n",
       "      <td>8</td>\n",
       "      <td>0</td>\n",
       "      <td>4.0</td>\n",
       "    </tr>\n",
       "  </tbody>\n",
       "</table>\n",
       "</div>"
      ],
      "text/plain": [
       "   index  year month       Date  \\\n",
       "0      0  2007   May 2007-05-29   \n",
       "1      1  2007   May 2007-05-29   \n",
       "2      2  2007   May 2007-05-29   \n",
       "3      3  2007   May 2007-05-29   \n",
       "4      4  2007   May 2007-05-29   \n",
       "\n",
       "                                             Address                 Species  \\\n",
       "0  4100 North Oak Park Avenue, Chicago, IL 60634,...  CULEX PIPIENS/RESTUANS   \n",
       "1  4100 North Oak Park Avenue, Chicago, IL 60634,...          CULEX RESTUANS   \n",
       "2  6200 North Mandell Avenue, Chicago, IL 60646, USA          CULEX RESTUANS   \n",
       "3    7900 West Foster Avenue, Chicago, IL 60656, USA  CULEX PIPIENS/RESTUANS   \n",
       "4    7900 West Foster Avenue, Chicago, IL 60656, USA          CULEX RESTUANS   \n",
       "\n",
       "   Block           Street  Trap             AddressNumberAndStreet   Latitude  \\\n",
       "0     41   N OAK PARK AVE  T002  4100  N OAK PARK AVE, Chicago, IL  41.954690   \n",
       "1     41   N OAK PARK AVE  T002  4100  N OAK PARK AVE, Chicago, IL  41.954690   \n",
       "2     62    N MANDELL AVE  T007   6200  N MANDELL AVE, Chicago, IL  41.994991   \n",
       "3     79     W FOSTER AVE  T015    7900  W FOSTER AVE, Chicago, IL  41.974089   \n",
       "4     79     W FOSTER AVE  T015    7900  W FOSTER AVE, Chicago, IL  41.974089   \n",
       "\n",
       "   Longitude  AddressAccuracy  WnvPresent  NumMosquitos_sum  \n",
       "0 -87.800991                9           0               1.0  \n",
       "1 -87.800991                9           0               1.0  \n",
       "2 -87.769279                9           0               1.0  \n",
       "3 -87.824812                8           0               1.0  \n",
       "4 -87.824812                8           0               4.0  "
      ]
     },
     "execution_count": 107,
     "metadata": {},
     "output_type": "execute_result"
    }
   ],
   "source": [
    "# Drop the year,month, Address, and AddressNumberAndStreet, AddressAccuacy\n",
    "train.head()"
   ]
  },
  {
   "cell_type": "markdown",
   "metadata": {},
   "source": [
    "# EDA on training Set"
   ]
  },
  {
   "cell_type": "code",
   "execution_count": 14,
   "metadata": {},
   "outputs": [
    {
     "data": {
      "text/html": [
       "<div>\n",
       "<style scoped>\n",
       "    .dataframe tbody tr th:only-of-type {\n",
       "        vertical-align: middle;\n",
       "    }\n",
       "\n",
       "    .dataframe tbody tr th {\n",
       "        vertical-align: top;\n",
       "    }\n",
       "\n",
       "    .dataframe thead th {\n",
       "        text-align: right;\n",
       "    }\n",
       "</style>\n",
       "<table border=\"1\" class=\"dataframe\">\n",
       "  <thead>\n",
       "    <tr style=\"text-align: right;\">\n",
       "      <th></th>\n",
       "      <th>index</th>\n",
       "      <th>Date</th>\n",
       "      <th>Address</th>\n",
       "      <th>Species</th>\n",
       "      <th>Block</th>\n",
       "      <th>Street</th>\n",
       "      <th>Trap</th>\n",
       "      <th>AddressNumberAndStreet</th>\n",
       "      <th>Latitude</th>\n",
       "      <th>Longitude</th>\n",
       "      <th>AddressAccuracy</th>\n",
       "      <th>WnvPresent</th>\n",
       "      <th>NumMosquitos_sum</th>\n",
       "    </tr>\n",
       "  </thead>\n",
       "  <tbody>\n",
       "    <tr>\n",
       "      <th>0</th>\n",
       "      <td>0</td>\n",
       "      <td>2007-05-29</td>\n",
       "      <td>4100 North Oak Park Avenue, Chicago, IL 60634,...</td>\n",
       "      <td>CULEX PIPIENS/RESTUANS</td>\n",
       "      <td>41</td>\n",
       "      <td>N OAK PARK AVE</td>\n",
       "      <td>T002</td>\n",
       "      <td>4100  N OAK PARK AVE, Chicago, IL</td>\n",
       "      <td>41.954690</td>\n",
       "      <td>-87.800991</td>\n",
       "      <td>9</td>\n",
       "      <td>0</td>\n",
       "      <td>1.0</td>\n",
       "    </tr>\n",
       "    <tr>\n",
       "      <th>1</th>\n",
       "      <td>1</td>\n",
       "      <td>2007-05-29</td>\n",
       "      <td>4100 North Oak Park Avenue, Chicago, IL 60634,...</td>\n",
       "      <td>CULEX RESTUANS</td>\n",
       "      <td>41</td>\n",
       "      <td>N OAK PARK AVE</td>\n",
       "      <td>T002</td>\n",
       "      <td>4100  N OAK PARK AVE, Chicago, IL</td>\n",
       "      <td>41.954690</td>\n",
       "      <td>-87.800991</td>\n",
       "      <td>9</td>\n",
       "      <td>0</td>\n",
       "      <td>1.0</td>\n",
       "    </tr>\n",
       "    <tr>\n",
       "      <th>2</th>\n",
       "      <td>2</td>\n",
       "      <td>2007-05-29</td>\n",
       "      <td>6200 North Mandell Avenue, Chicago, IL 60646, USA</td>\n",
       "      <td>CULEX RESTUANS</td>\n",
       "      <td>62</td>\n",
       "      <td>N MANDELL AVE</td>\n",
       "      <td>T007</td>\n",
       "      <td>6200  N MANDELL AVE, Chicago, IL</td>\n",
       "      <td>41.994991</td>\n",
       "      <td>-87.769279</td>\n",
       "      <td>9</td>\n",
       "      <td>0</td>\n",
       "      <td>1.0</td>\n",
       "    </tr>\n",
       "    <tr>\n",
       "      <th>3</th>\n",
       "      <td>3</td>\n",
       "      <td>2007-05-29</td>\n",
       "      <td>7900 West Foster Avenue, Chicago, IL 60656, USA</td>\n",
       "      <td>CULEX PIPIENS/RESTUANS</td>\n",
       "      <td>79</td>\n",
       "      <td>W FOSTER AVE</td>\n",
       "      <td>T015</td>\n",
       "      <td>7900  W FOSTER AVE, Chicago, IL</td>\n",
       "      <td>41.974089</td>\n",
       "      <td>-87.824812</td>\n",
       "      <td>8</td>\n",
       "      <td>0</td>\n",
       "      <td>1.0</td>\n",
       "    </tr>\n",
       "    <tr>\n",
       "      <th>4</th>\n",
       "      <td>4</td>\n",
       "      <td>2007-05-29</td>\n",
       "      <td>7900 West Foster Avenue, Chicago, IL 60656, USA</td>\n",
       "      <td>CULEX RESTUANS</td>\n",
       "      <td>79</td>\n",
       "      <td>W FOSTER AVE</td>\n",
       "      <td>T015</td>\n",
       "      <td>7900  W FOSTER AVE, Chicago, IL</td>\n",
       "      <td>41.974089</td>\n",
       "      <td>-87.824812</td>\n",
       "      <td>8</td>\n",
       "      <td>0</td>\n",
       "      <td>4.0</td>\n",
       "    </tr>\n",
       "  </tbody>\n",
       "</table>\n",
       "</div>"
      ],
      "text/plain": [
       "   index        Date                                            Address  \\\n",
       "0      0  2007-05-29  4100 North Oak Park Avenue, Chicago, IL 60634,...   \n",
       "1      1  2007-05-29  4100 North Oak Park Avenue, Chicago, IL 60634,...   \n",
       "2      2  2007-05-29  6200 North Mandell Avenue, Chicago, IL 60646, USA   \n",
       "3      3  2007-05-29    7900 West Foster Avenue, Chicago, IL 60656, USA   \n",
       "4      4  2007-05-29    7900 West Foster Avenue, Chicago, IL 60656, USA   \n",
       "\n",
       "                  Species  Block           Street  Trap  \\\n",
       "0  CULEX PIPIENS/RESTUANS     41   N OAK PARK AVE  T002   \n",
       "1          CULEX RESTUANS     41   N OAK PARK AVE  T002   \n",
       "2          CULEX RESTUANS     62    N MANDELL AVE  T007   \n",
       "3  CULEX PIPIENS/RESTUANS     79     W FOSTER AVE  T015   \n",
       "4          CULEX RESTUANS     79     W FOSTER AVE  T015   \n",
       "\n",
       "              AddressNumberAndStreet   Latitude  Longitude  AddressAccuracy  \\\n",
       "0  4100  N OAK PARK AVE, Chicago, IL  41.954690 -87.800991                9   \n",
       "1  4100  N OAK PARK AVE, Chicago, IL  41.954690 -87.800991                9   \n",
       "2   6200  N MANDELL AVE, Chicago, IL  41.994991 -87.769279                9   \n",
       "3    7900  W FOSTER AVE, Chicago, IL  41.974089 -87.824812                8   \n",
       "4    7900  W FOSTER AVE, Chicago, IL  41.974089 -87.824812                8   \n",
       "\n",
       "   WnvPresent  NumMosquitos_sum  \n",
       "0           0               1.0  \n",
       "1           0               1.0  \n",
       "2           0               1.0  \n",
       "3           0               1.0  \n",
       "4           0               4.0  "
      ]
     },
     "execution_count": 14,
     "metadata": {},
     "output_type": "execute_result"
    }
   ],
   "source": [
    "# The first 5 sets of the training set\n",
    "train.head()"
   ]
  },
  {
   "cell_type": "code",
   "execution_count": 15,
   "metadata": {},
   "outputs": [
    {
     "name": "stdout",
     "output_type": "stream",
     "text": [
      "<class 'pandas.core.frame.DataFrame'>\n",
      "RangeIndex: 8559 entries, 0 to 8558\n",
      "Data columns (total 13 columns):\n",
      " #   Column                  Non-Null Count  Dtype  \n",
      "---  ------                  --------------  -----  \n",
      " 0   index                   8559 non-null   int64  \n",
      " 1   Date                    8559 non-null   object \n",
      " 2   Address                 8559 non-null   object \n",
      " 3   Species                 8559 non-null   object \n",
      " 4   Block                   8559 non-null   int64  \n",
      " 5   Street                  8559 non-null   object \n",
      " 6   Trap                    8559 non-null   object \n",
      " 7   AddressNumberAndStreet  8559 non-null   object \n",
      " 8   Latitude                8559 non-null   float64\n",
      " 9   Longitude               8559 non-null   float64\n",
      " 10  AddressAccuracy         8559 non-null   int64  \n",
      " 11  WnvPresent              8559 non-null   int64  \n",
      " 12  NumMosquitos_sum        8559 non-null   float64\n",
      "dtypes: float64(3), int64(4), object(6)\n",
      "memory usage: 869.4+ KB\n"
     ]
    }
   ],
   "source": [
    "# A total of 12 columns with 10,506 entries\n",
    "train.info()"
   ]
  },
  {
   "cell_type": "code",
   "execution_count": 16,
   "metadata": {},
   "outputs": [
    {
     "data": {
      "text/html": [
       "<div>\n",
       "<style scoped>\n",
       "    .dataframe tbody tr th:only-of-type {\n",
       "        vertical-align: middle;\n",
       "    }\n",
       "\n",
       "    .dataframe tbody tr th {\n",
       "        vertical-align: top;\n",
       "    }\n",
       "\n",
       "    .dataframe thead th {\n",
       "        text-align: right;\n",
       "    }\n",
       "</style>\n",
       "<table border=\"1\" class=\"dataframe\">\n",
       "  <thead>\n",
       "    <tr style=\"text-align: right;\">\n",
       "      <th></th>\n",
       "      <th>index</th>\n",
       "      <th>Block</th>\n",
       "      <th>Latitude</th>\n",
       "      <th>Longitude</th>\n",
       "      <th>AddressAccuracy</th>\n",
       "      <th>WnvPresent</th>\n",
       "      <th>NumMosquitos_sum</th>\n",
       "    </tr>\n",
       "  </thead>\n",
       "  <tbody>\n",
       "    <tr>\n",
       "      <th>count</th>\n",
       "      <td>8559.000000</td>\n",
       "      <td>8559.000000</td>\n",
       "      <td>8559.000000</td>\n",
       "      <td>8559.000000</td>\n",
       "      <td>8559.000000</td>\n",
       "      <td>8559.000000</td>\n",
       "      <td>8559.000000</td>\n",
       "    </tr>\n",
       "    <tr>\n",
       "      <th>mean</th>\n",
       "      <td>5469.334969</td>\n",
       "      <td>38.804300</td>\n",
       "      <td>41.844278</td>\n",
       "      <td>-87.695077</td>\n",
       "      <td>7.934572</td>\n",
       "      <td>0.053277</td>\n",
       "      <td>19.592008</td>\n",
       "    </tr>\n",
       "    <tr>\n",
       "      <th>std</th>\n",
       "      <td>2998.994659</td>\n",
       "      <td>24.115034</td>\n",
       "      <td>0.107040</td>\n",
       "      <td>0.084809</td>\n",
       "      <td>1.327235</td>\n",
       "      <td>0.224599</td>\n",
       "      <td>97.661667</td>\n",
       "    </tr>\n",
       "    <tr>\n",
       "      <th>min</th>\n",
       "      <td>0.000000</td>\n",
       "      <td>10.000000</td>\n",
       "      <td>41.644612</td>\n",
       "      <td>-87.930995</td>\n",
       "      <td>3.000000</td>\n",
       "      <td>0.000000</td>\n",
       "      <td>1.000000</td>\n",
       "    </tr>\n",
       "    <tr>\n",
       "      <th>25%</th>\n",
       "      <td>3076.500000</td>\n",
       "      <td>14.000000</td>\n",
       "      <td>41.750498</td>\n",
       "      <td>-87.752411</td>\n",
       "      <td>8.000000</td>\n",
       "      <td>0.000000</td>\n",
       "      <td>2.000000</td>\n",
       "    </tr>\n",
       "    <tr>\n",
       "      <th>50%</th>\n",
       "      <td>5580.000000</td>\n",
       "      <td>37.000000</td>\n",
       "      <td>41.857402</td>\n",
       "      <td>-87.694991</td>\n",
       "      <td>8.000000</td>\n",
       "      <td>0.000000</td>\n",
       "      <td>4.000000</td>\n",
       "    </tr>\n",
       "    <tr>\n",
       "      <th>75%</th>\n",
       "      <td>8011.500000</td>\n",
       "      <td>58.000000</td>\n",
       "      <td>41.944869</td>\n",
       "      <td>-87.642984</td>\n",
       "      <td>9.000000</td>\n",
       "      <td>0.000000</td>\n",
       "      <td>11.000000</td>\n",
       "    </tr>\n",
       "    <tr>\n",
       "      <th>max</th>\n",
       "      <td>10505.000000</td>\n",
       "      <td>98.000000</td>\n",
       "      <td>42.017430</td>\n",
       "      <td>-87.531635</td>\n",
       "      <td>9.000000</td>\n",
       "      <td>1.000000</td>\n",
       "      <td>2532.000000</td>\n",
       "    </tr>\n",
       "  </tbody>\n",
       "</table>\n",
       "</div>"
      ],
      "text/plain": [
       "              index        Block     Latitude    Longitude  AddressAccuracy  \\\n",
       "count   8559.000000  8559.000000  8559.000000  8559.000000      8559.000000   \n",
       "mean    5469.334969    38.804300    41.844278   -87.695077         7.934572   \n",
       "std     2998.994659    24.115034     0.107040     0.084809         1.327235   \n",
       "min        0.000000    10.000000    41.644612   -87.930995         3.000000   \n",
       "25%     3076.500000    14.000000    41.750498   -87.752411         8.000000   \n",
       "50%     5580.000000    37.000000    41.857402   -87.694991         8.000000   \n",
       "75%     8011.500000    58.000000    41.944869   -87.642984         9.000000   \n",
       "max    10505.000000    98.000000    42.017430   -87.531635         9.000000   \n",
       "\n",
       "        WnvPresent  NumMosquitos_sum  \n",
       "count  8559.000000       8559.000000  \n",
       "mean      0.053277         19.592008  \n",
       "std       0.224599         97.661667  \n",
       "min       0.000000          1.000000  \n",
       "25%       0.000000          2.000000  \n",
       "50%       0.000000          4.000000  \n",
       "75%       0.000000         11.000000  \n",
       "max       1.000000       2532.000000  "
      ]
     },
     "execution_count": 16,
     "metadata": {},
     "output_type": "execute_result"
    }
   ],
   "source": [
    "train.describe()"
   ]
  },
  {
   "cell_type": "markdown",
   "metadata": {},
   "source": [
    "# Questions to ask\n",
    "* Is there any correlation between the number of mosquitos and presence of the WNV\n",
    "* Does the WNV occurs in the same areas every year?\n",
    "* How many species there are and if there is a greater incidence of WNV in certain species\n",
    "    * `Culex Tarsalis` Mosquitos seems to be the main culprit, but this is not true when investigating the dataset. `CULEX PIPIENS` and the `CULEX RESTUANS` are the common type of mosquitos with West Nile Virus\n",
    "    * 7 Species total in the training set"
   ]
  },
  {
   "cell_type": "markdown",
   "metadata": {},
   "source": [
    "## Correlation between number of mosquitos and the presence of WNV"
   ]
  },
  {
   "cell_type": "code",
   "execution_count": 17,
   "metadata": {},
   "outputs": [
    {
     "data": {
      "image/png": "[encoded data removed]",
      "text/plain": [
       "<Figure size 792x504 with 2 Axes>"
      ]
     },
     "metadata": {},
     "output_type": "display_data"
    }
   ],
   "source": [
    "mask = np.zeros_like(train.corr())\n",
    "mask[np.triu_indices_from(mask)] = True\n",
    "\n",
    "\n",
    "plt.figure(figsize=(11,7))\n",
    "sns.heatmap(train.corr(),cmap='coolwarm',annot=True, mask = mask, annot_kws={'size':12})\n",
    "plt.title('Correlation between Number of mosquitos and presence of WNV', fontsize=15)\n",
    "plt.xticks(fontsize=12)\n",
    "plt.yticks(fontsize=12)\n",
    "\n",
    "\n",
    "plt.show()"
   ]
  },
  {
   "cell_type": "markdown",
   "metadata": {},
   "source": [
    "With a correlation of *0.2*, there is **very little correlation** between `WnvPresent` and ` NumMosquitos`. There is also very little correlation between the other features except for `Longitude` and `Latitude`."
   ]
  },
  {
   "cell_type": "markdown",
   "metadata": {},
   "source": [
    "## Does the WNV occurs in the same areas every year?"
   ]
  },
  {
   "cell_type": "code",
   "execution_count": 18,
   "metadata": {},
   "outputs": [
    {
     "data": {
      "text/plain": [
       "0      2007-05-29\n",
       "1      2007-05-29\n",
       "2      2007-05-29\n",
       "3      2007-05-29\n",
       "4      2007-05-29\n",
       "          ...    \n",
       "8554   2013-09-26\n",
       "8555   2013-09-26\n",
       "8556   2013-09-26\n",
       "8557   2013-09-26\n",
       "8558   2013-09-26\n",
       "Name: Date, Length: 8559, dtype: datetime64[ns]"
      ]
     },
     "execution_count": 18,
     "metadata": {},
     "output_type": "execute_result"
    }
   ],
   "source": [
    "# Convert Date type from object to Datetime\n",
    "train['Date'] = pd.to_datetime(train['Date'])\n",
    "train['Date']"
   ]
  },
  {
   "cell_type": "code",
   "execution_count": 19,
   "metadata": {},
   "outputs": [
    {
     "data": {
      "text/html": [
       "<div>\n",
       "<style scoped>\n",
       "    .dataframe tbody tr th:only-of-type {\n",
       "        vertical-align: middle;\n",
       "    }\n",
       "\n",
       "    .dataframe tbody tr th {\n",
       "        vertical-align: top;\n",
       "    }\n",
       "\n",
       "    .dataframe thead th {\n",
       "        text-align: right;\n",
       "    }\n",
       "</style>\n",
       "<table border=\"1\" class=\"dataframe\">\n",
       "  <thead>\n",
       "    <tr style=\"text-align: right;\">\n",
       "      <th></th>\n",
       "      <th>index</th>\n",
       "      <th>year</th>\n",
       "      <th>Date</th>\n",
       "      <th>Address</th>\n",
       "      <th>Species</th>\n",
       "      <th>Block</th>\n",
       "      <th>Street</th>\n",
       "      <th>Trap</th>\n",
       "      <th>AddressNumberAndStreet</th>\n",
       "      <th>Latitude</th>\n",
       "      <th>Longitude</th>\n",
       "      <th>AddressAccuracy</th>\n",
       "      <th>WnvPresent</th>\n",
       "      <th>NumMosquitos_sum</th>\n",
       "    </tr>\n",
       "  </thead>\n",
       "  <tbody>\n",
       "    <tr>\n",
       "      <th>0</th>\n",
       "      <td>0</td>\n",
       "      <td>2007</td>\n",
       "      <td>2007-05-29</td>\n",
       "      <td>4100 North Oak Park Avenue, Chicago, IL 60634,...</td>\n",
       "      <td>CULEX PIPIENS/RESTUANS</td>\n",
       "      <td>41</td>\n",
       "      <td>N OAK PARK AVE</td>\n",
       "      <td>T002</td>\n",
       "      <td>4100  N OAK PARK AVE, Chicago, IL</td>\n",
       "      <td>41.954690</td>\n",
       "      <td>-87.800991</td>\n",
       "      <td>9</td>\n",
       "      <td>0</td>\n",
       "      <td>1.0</td>\n",
       "    </tr>\n",
       "    <tr>\n",
       "      <th>1</th>\n",
       "      <td>1</td>\n",
       "      <td>2007</td>\n",
       "      <td>2007-05-29</td>\n",
       "      <td>4100 North Oak Park Avenue, Chicago, IL 60634,...</td>\n",
       "      <td>CULEX RESTUANS</td>\n",
       "      <td>41</td>\n",
       "      <td>N OAK PARK AVE</td>\n",
       "      <td>T002</td>\n",
       "      <td>4100  N OAK PARK AVE, Chicago, IL</td>\n",
       "      <td>41.954690</td>\n",
       "      <td>-87.800991</td>\n",
       "      <td>9</td>\n",
       "      <td>0</td>\n",
       "      <td>1.0</td>\n",
       "    </tr>\n",
       "    <tr>\n",
       "      <th>2</th>\n",
       "      <td>2</td>\n",
       "      <td>2007</td>\n",
       "      <td>2007-05-29</td>\n",
       "      <td>6200 North Mandell Avenue, Chicago, IL 60646, USA</td>\n",
       "      <td>CULEX RESTUANS</td>\n",
       "      <td>62</td>\n",
       "      <td>N MANDELL AVE</td>\n",
       "      <td>T007</td>\n",
       "      <td>6200  N MANDELL AVE, Chicago, IL</td>\n",
       "      <td>41.994991</td>\n",
       "      <td>-87.769279</td>\n",
       "      <td>9</td>\n",
       "      <td>0</td>\n",
       "      <td>1.0</td>\n",
       "    </tr>\n",
       "  </tbody>\n",
       "</table>\n",
       "</div>"
      ],
      "text/plain": [
       "   index  year       Date                                            Address  \\\n",
       "0      0  2007 2007-05-29  4100 North Oak Park Avenue, Chicago, IL 60634,...   \n",
       "1      1  2007 2007-05-29  4100 North Oak Park Avenue, Chicago, IL 60634,...   \n",
       "2      2  2007 2007-05-29  6200 North Mandell Avenue, Chicago, IL 60646, USA   \n",
       "\n",
       "                  Species  Block           Street  Trap  \\\n",
       "0  CULEX PIPIENS/RESTUANS     41   N OAK PARK AVE  T002   \n",
       "1          CULEX RESTUANS     41   N OAK PARK AVE  T002   \n",
       "2          CULEX RESTUANS     62    N MANDELL AVE  T007   \n",
       "\n",
       "              AddressNumberAndStreet   Latitude  Longitude  AddressAccuracy  \\\n",
       "0  4100  N OAK PARK AVE, Chicago, IL  41.954690 -87.800991                9   \n",
       "1  4100  N OAK PARK AVE, Chicago, IL  41.954690 -87.800991                9   \n",
       "2   6200  N MANDELL AVE, Chicago, IL  41.994991 -87.769279                9   \n",
       "\n",
       "   WnvPresent  NumMosquitos_sum  \n",
       "0           0               1.0  \n",
       "1           0               1.0  \n",
       "2           0               1.0  "
      ]
     },
     "execution_count": 19,
     "metadata": {},
     "output_type": "execute_result"
    }
   ],
   "source": [
    "# Add the year column into the dataframe\n",
    "train.insert(1,'year', train['Date'].dt.year)\n",
    "train.head(3)"
   ]
  },
  {
   "cell_type": "code",
   "execution_count": 20,
   "metadata": {},
   "outputs": [],
   "source": [
    "# 2007\n",
    "WNV_2007 = train.loc[(train['WnvPresent'] == 1) & (train['year'] == 2007)]['Street'].value_counts(normalize=True)[:10]"
   ]
  },
  {
   "cell_type": "code",
   "execution_count": 21,
   "metadata": {},
   "outputs": [],
   "source": [
    "# 2009\n",
    "WNV_2009 = train.loc[(train['WnvPresent'] == 1) & (train['year'] == 2009)]['Street'].value_counts(normalize=True)[:10]"
   ]
  },
  {
   "cell_type": "code",
   "execution_count": 22,
   "metadata": {},
   "outputs": [],
   "source": [
    "# 2011\n",
    "WNV_2011 = train.loc[(train['WnvPresent'] == 1) & (train['year'] == 2011)]['Street'].value_counts(normalize=True)[:10]"
   ]
  },
  {
   "cell_type": "code",
   "execution_count": 23,
   "metadata": {},
   "outputs": [],
   "source": [
    "# 2013\n",
    "WNV_2013 = train.loc[(train['WnvPresent'] == 1) & (train['year'] == 2013)]['Street'].value_counts(normalize=True)[:10]"
   ]
  },
  {
   "cell_type": "code",
   "execution_count": 24,
   "metadata": {},
   "outputs": [
    {
     "data": {
      "text/plain": [
       "Index([], dtype='object')"
      ]
     },
     "execution_count": 24,
     "metadata": {},
     "output_type": "execute_result"
    }
   ],
   "source": [
    "# No common places between 2009 to 2013\n",
    "WNV_2007.index.intersection(WNV_2009.index).intersection(WNV_2011.index).intersection(WNV_2013.index)"
   ]
  },
  {
   "cell_type": "code",
   "execution_count": 25,
   "metadata": {},
   "outputs": [
    {
     "data": {
      "text/plain": [
       "Index([' N PITTSBURGH AVE'], dtype='object')"
      ]
     },
     "execution_count": 25,
     "metadata": {},
     "output_type": "execute_result"
    }
   ],
   "source": [
    "# Most common place between 2007 to 2009\n",
    "WNV_2007.index.intersection(WNV_2009.index)"
   ]
  },
  {
   "cell_type": "code",
   "execution_count": 26,
   "metadata": {},
   "outputs": [
    {
     "data": {
      "text/plain": [
       "Index([' W OHARE', ' W OHARE AIRPORT', ' W 116TH ST', ' S KOSTNER AVE'], dtype='object')"
      ]
     },
     "execution_count": 26,
     "metadata": {},
     "output_type": "execute_result"
    }
   ],
   "source": [
    "# Most common place between 2009 to 2011\n",
    "WNV_2009.index.intersection(WNV_2011.index)"
   ]
  },
  {
   "cell_type": "code",
   "execution_count": 27,
   "metadata": {},
   "outputs": [
    {
     "data": {
      "text/plain": [
       "Index([' W OHARE AIRPORT', ' N MILWAUKEE AVE', ' S KOSTNER AVE',\n",
       "       ' N PULASKI RD'],\n",
       "      dtype='object')"
      ]
     },
     "execution_count": 27,
     "metadata": {},
     "output_type": "execute_result"
    }
   ],
   "source": [
    "# Most common place between 2011 to 2013\n",
    "WNV_2011.index.intersection(WNV_2013.index)"
   ]
  },
  {
   "cell_type": "markdown",
   "metadata": {},
   "source": [
    "`W OHARE` and `W OHARE AIRPORT` and ` S KOSTNER AVE` are the most common streets to have mosquitos with WNV present **between 2009 and 2013**."
   ]
  },
  {
   "cell_type": "code",
   "execution_count": 28,
   "metadata": {},
   "outputs": [
    {
     "data": {
      "text/plain": [
       "<AxesSubplot:title={'center':'Streets with strong WNV presence'}, ylabel='Proportion'>"
      ]
     },
     "execution_count": 28,
     "metadata": {},
     "output_type": "execute_result"
    },
    {
     "data": {
      "image/png": "[encoded data removed]",
      "text/plain": [
       "<Figure size 792x504 with 1 Axes>"
      ]
     },
     "metadata": {},
     "output_type": "display_data"
    }
   ],
   "source": [
    "# Top occuring streets with WNV\n",
    "train[train['WnvPresent'] == 1]['Street'].value_counts(normalize=True)[:11].plot(kind='bar', \n",
    "                                                                                 title='Streets with strong WNV presence', figsize=(11,7), ylabel='Proportion')"
   ]
  },
  {
   "cell_type": "markdown",
   "metadata": {},
   "source": [
    "## Groupby NumMosquitos"
   ]
  },
  {
   "cell_type": "code",
   "execution_count": 29,
   "metadata": {},
   "outputs": [
    {
     "data": {
      "text/plain": [
       "0      2007-05-29\n",
       "1      2007-05-29\n",
       "2      2007-05-29\n",
       "3      2007-05-29\n",
       "4      2007-05-29\n",
       "          ...    \n",
       "8554   2013-09-26\n",
       "8555   2013-09-26\n",
       "8556   2013-09-26\n",
       "8557   2013-09-26\n",
       "8558   2013-09-26\n",
       "Name: Date, Length: 8559, dtype: datetime64[ns]"
      ]
     },
     "execution_count": 29,
     "metadata": {},
     "output_type": "execute_result"
    }
   ],
   "source": [
    "train['Date']"
   ]
  },
  {
   "cell_type": "code",
   "execution_count": 30,
   "metadata": {},
   "outputs": [
    {
     "data": {
      "text/html": [
       "<div>\n",
       "<style scoped>\n",
       "    .dataframe tbody tr th:only-of-type {\n",
       "        vertical-align: middle;\n",
       "    }\n",
       "\n",
       "    .dataframe tbody tr th {\n",
       "        vertical-align: top;\n",
       "    }\n",
       "\n",
       "    .dataframe thead th {\n",
       "        text-align: right;\n",
       "    }\n",
       "</style>\n",
       "<table border=\"1\" class=\"dataframe\">\n",
       "  <thead>\n",
       "    <tr style=\"text-align: right;\">\n",
       "      <th></th>\n",
       "      <th>index</th>\n",
       "      <th>year</th>\n",
       "      <th>Block</th>\n",
       "      <th>Latitude</th>\n",
       "      <th>Longitude</th>\n",
       "      <th>AddressAccuracy</th>\n",
       "      <th>WnvPresent</th>\n",
       "      <th>NumMosquitos_sum</th>\n",
       "    </tr>\n",
       "    <tr>\n",
       "      <th>Street</th>\n",
       "      <th></th>\n",
       "      <th></th>\n",
       "      <th></th>\n",
       "      <th></th>\n",
       "      <th></th>\n",
       "      <th></th>\n",
       "      <th></th>\n",
       "      <th></th>\n",
       "    </tr>\n",
       "  </thead>\n",
       "  <tbody>\n",
       "    <tr>\n",
       "      <th>W ARMITAGE AVENUE</th>\n",
       "      <td>5702.062937</td>\n",
       "      <td>2009.993007</td>\n",
       "      <td>70.000000</td>\n",
       "      <td>41.916265</td>\n",
       "      <td>-87.800515</td>\n",
       "      <td>8.000000</td>\n",
       "      <td>0.041958</td>\n",
       "      <td>13.832168</td>\n",
       "    </tr>\n",
       "    <tr>\n",
       "      <th>E 105TH ST</th>\n",
       "      <td>6017.362903</td>\n",
       "      <td>2010.064516</td>\n",
       "      <td>24.000000</td>\n",
       "      <td>41.704572</td>\n",
       "      <td>-87.565666</td>\n",
       "      <td>8.000000</td>\n",
       "      <td>0.056452</td>\n",
       "      <td>39.064516</td>\n",
       "    </tr>\n",
       "    <tr>\n",
       "      <th>E 111TH ST</th>\n",
       "      <td>1936.571429</td>\n",
       "      <td>2007.000000</td>\n",
       "      <td>20.000000</td>\n",
       "      <td>41.692555</td>\n",
       "      <td>-87.598865</td>\n",
       "      <td>8.000000</td>\n",
       "      <td>0.047619</td>\n",
       "      <td>4.142857</td>\n",
       "    </tr>\n",
       "    <tr>\n",
       "      <th>E 115TH ST</th>\n",
       "      <td>2058.405405</td>\n",
       "      <td>2007.000000</td>\n",
       "      <td>38.000000</td>\n",
       "      <td>41.686398</td>\n",
       "      <td>-87.531635</td>\n",
       "      <td>8.000000</td>\n",
       "      <td>0.081081</td>\n",
       "      <td>26.351351</td>\n",
       "    </tr>\n",
       "    <tr>\n",
       "      <th>E 118TH ST</th>\n",
       "      <td>5389.122951</td>\n",
       "      <td>2009.622951</td>\n",
       "      <td>37.000000</td>\n",
       "      <td>41.680946</td>\n",
       "      <td>-87.535198</td>\n",
       "      <td>8.000000</td>\n",
       "      <td>0.024590</td>\n",
       "      <td>23.319672</td>\n",
       "    </tr>\n",
       "    <tr>\n",
       "      <th>E 130TH ST</th>\n",
       "      <td>6530.574468</td>\n",
       "      <td>2010.361702</td>\n",
       "      <td>40.000000</td>\n",
       "      <td>41.659112</td>\n",
       "      <td>-87.538693</td>\n",
       "      <td>8.000000</td>\n",
       "      <td>0.074468</td>\n",
       "      <td>21.265957</td>\n",
       "    </tr>\n",
       "    <tr>\n",
       "      <th>E 138TH ST</th>\n",
       "      <td>2374.866667</td>\n",
       "      <td>2007.000000</td>\n",
       "      <td>82.000000</td>\n",
       "      <td>41.644612</td>\n",
       "      <td>-87.604498</td>\n",
       "      <td>5.000000</td>\n",
       "      <td>0.066667</td>\n",
       "      <td>8.600000</td>\n",
       "    </tr>\n",
       "    <tr>\n",
       "      <th>E 67TH ST</th>\n",
       "      <td>5867.295082</td>\n",
       "      <td>2009.967213</td>\n",
       "      <td>10.000000</td>\n",
       "      <td>41.773215</td>\n",
       "      <td>-87.600880</td>\n",
       "      <td>8.000000</td>\n",
       "      <td>0.032787</td>\n",
       "      <td>6.950820</td>\n",
       "    </tr>\n",
       "    <tr>\n",
       "      <th>E 91ST PL</th>\n",
       "      <td>7960.928571</td>\n",
       "      <td>2011.628571</td>\n",
       "      <td>65.000000</td>\n",
       "      <td>41.728495</td>\n",
       "      <td>-87.600963</td>\n",
       "      <td>5.000000</td>\n",
       "      <td>0.057143</td>\n",
       "      <td>15.471429</td>\n",
       "    </tr>\n",
       "    <tr>\n",
       "      <th>E 91ST ST</th>\n",
       "      <td>2370.500000</td>\n",
       "      <td>2007.000000</td>\n",
       "      <td>81.000000</td>\n",
       "      <td>41.729669</td>\n",
       "      <td>-87.582699</td>\n",
       "      <td>5.000000</td>\n",
       "      <td>0.090909</td>\n",
       "      <td>3.909091</td>\n",
       "    </tr>\n",
       "    <tr>\n",
       "      <th>E RANDOLPH ST</th>\n",
       "      <td>1887.000000</td>\n",
       "      <td>2007.000000</td>\n",
       "      <td>33.000000</td>\n",
       "      <td>41.883284</td>\n",
       "      <td>-87.705085</td>\n",
       "      <td>8.000000</td>\n",
       "      <td>0.000000</td>\n",
       "      <td>2.615385</td>\n",
       "    </tr>\n",
       "    <tr>\n",
       "      <th>N ASHLAND AVE</th>\n",
       "      <td>8338.510204</td>\n",
       "      <td>2012.061224</td>\n",
       "      <td>17.000000</td>\n",
       "      <td>41.912563</td>\n",
       "      <td>-87.668055</td>\n",
       "      <td>9.000000</td>\n",
       "      <td>0.040816</td>\n",
       "      <td>5.836735</td>\n",
       "    </tr>\n",
       "    <tr>\n",
       "      <th>N ASHLAND AVE OVERPASS</th>\n",
       "      <td>5565.871795</td>\n",
       "      <td>2009.948718</td>\n",
       "      <td>43.000000</td>\n",
       "      <td>41.878114</td>\n",
       "      <td>-87.629798</td>\n",
       "      <td>3.000000</td>\n",
       "      <td>0.012821</td>\n",
       "      <td>5.102564</td>\n",
       "    </tr>\n",
       "    <tr>\n",
       "      <th>N AUSTIN AVE</th>\n",
       "      <td>716.647059</td>\n",
       "      <td>2007.000000</td>\n",
       "      <td>40.000000</td>\n",
       "      <td>41.953067</td>\n",
       "      <td>-87.776792</td>\n",
       "      <td>8.000000</td>\n",
       "      <td>0.058824</td>\n",
       "      <td>3.411765</td>\n",
       "    </tr>\n",
       "    <tr>\n",
       "      <th>N AVONDALE AVE</th>\n",
       "      <td>1626.125000</td>\n",
       "      <td>2007.000000</td>\n",
       "      <td>60.000000</td>\n",
       "      <td>41.990284</td>\n",
       "      <td>-87.797127</td>\n",
       "      <td>8.000000</td>\n",
       "      <td>0.166667</td>\n",
       "      <td>4.458333</td>\n",
       "    </tr>\n",
       "    <tr>\n",
       "      <th>N CALIFORNIA AVE</th>\n",
       "      <td>1895.090909</td>\n",
       "      <td>2007.000000</td>\n",
       "      <td>38.000000</td>\n",
       "      <td>41.949830</td>\n",
       "      <td>-87.698457</td>\n",
       "      <td>9.000000</td>\n",
       "      <td>0.000000</td>\n",
       "      <td>3.272727</td>\n",
       "    </tr>\n",
       "    <tr>\n",
       "      <th>N CAMPBELL AVE</th>\n",
       "      <td>5671.336842</td>\n",
       "      <td>2009.863158</td>\n",
       "      <td>45.000000</td>\n",
       "      <td>41.963976</td>\n",
       "      <td>-87.691810</td>\n",
       "      <td>9.000000</td>\n",
       "      <td>0.042105</td>\n",
       "      <td>7.505263</td>\n",
       "    </tr>\n",
       "    <tr>\n",
       "      <th>N CANNON DR</th>\n",
       "      <td>6139.597015</td>\n",
       "      <td>2010.298507</td>\n",
       "      <td>21.932836</td>\n",
       "      <td>41.922213</td>\n",
       "      <td>-87.632186</td>\n",
       "      <td>8.000000</td>\n",
       "      <td>0.044776</td>\n",
       "      <td>9.694030</td>\n",
       "    </tr>\n",
       "    <tr>\n",
       "      <th>N CENTRAL PARK DR</th>\n",
       "      <td>5917.149533</td>\n",
       "      <td>2010.158879</td>\n",
       "      <td>10.000000</td>\n",
       "      <td>41.899230</td>\n",
       "      <td>-87.716788</td>\n",
       "      <td>9.000000</td>\n",
       "      <td>0.065421</td>\n",
       "      <td>19.654206</td>\n",
       "    </tr>\n",
       "    <tr>\n",
       "      <th>N FRANCISCO AVE</th>\n",
       "      <td>6107.795918</td>\n",
       "      <td>2010.265306</td>\n",
       "      <td>28.000000</td>\n",
       "      <td>41.932094</td>\n",
       "      <td>-87.700117</td>\n",
       "      <td>8.000000</td>\n",
       "      <td>0.040816</td>\n",
       "      <td>4.989796</td>\n",
       "    </tr>\n",
       "    <tr>\n",
       "      <th>N HARLEM AVE</th>\n",
       "      <td>8871.306122</td>\n",
       "      <td>2012.346939</td>\n",
       "      <td>71.000000</td>\n",
       "      <td>42.009876</td>\n",
       "      <td>-87.807277</td>\n",
       "      <td>9.000000</td>\n",
       "      <td>0.122449</td>\n",
       "      <td>21.816327</td>\n",
       "    </tr>\n",
       "    <tr>\n",
       "      <th>N HUMBOLDT DR</th>\n",
       "      <td>5971.010638</td>\n",
       "      <td>2010.085106</td>\n",
       "      <td>14.000000</td>\n",
       "      <td>41.906638</td>\n",
       "      <td>-87.701431</td>\n",
       "      <td>9.000000</td>\n",
       "      <td>0.053191</td>\n",
       "      <td>8.106383</td>\n",
       "    </tr>\n",
       "    <tr>\n",
       "      <th>N KEDVALE AVE</th>\n",
       "      <td>4412.472222</td>\n",
       "      <td>2008.916667</td>\n",
       "      <td>37.000000</td>\n",
       "      <td>41.948167</td>\n",
       "      <td>-87.730698</td>\n",
       "      <td>8.000000</td>\n",
       "      <td>0.027778</td>\n",
       "      <td>5.486111</td>\n",
       "    </tr>\n",
       "    <tr>\n",
       "      <th>N LARAMIE AVE</th>\n",
       "      <td>7924.476190</td>\n",
       "      <td>2011.634921</td>\n",
       "      <td>13.000000</td>\n",
       "      <td>41.904194</td>\n",
       "      <td>-87.756155</td>\n",
       "      <td>9.000000</td>\n",
       "      <td>0.111111</td>\n",
       "      <td>10.222222</td>\n",
       "    </tr>\n",
       "    <tr>\n",
       "      <th>N LAWLER AVE</th>\n",
       "      <td>2176.500000</td>\n",
       "      <td>2007.000000</td>\n",
       "      <td>21.000000</td>\n",
       "      <td>41.918705</td>\n",
       "      <td>-87.752329</td>\n",
       "      <td>8.000000</td>\n",
       "      <td>0.100000</td>\n",
       "      <td>9.400000</td>\n",
       "    </tr>\n",
       "    <tr>\n",
       "      <th>N LEMONT AVE</th>\n",
       "      <td>5800.371134</td>\n",
       "      <td>2010.030928</td>\n",
       "      <td>61.000000</td>\n",
       "      <td>41.991429</td>\n",
       "      <td>-87.747113</td>\n",
       "      <td>8.000000</td>\n",
       "      <td>0.041237</td>\n",
       "      <td>9.814433</td>\n",
       "    </tr>\n",
       "    <tr>\n",
       "      <th>N LONG AVE</th>\n",
       "      <td>3286.243243</td>\n",
       "      <td>2007.972973</td>\n",
       "      <td>15.000000</td>\n",
       "      <td>41.907645</td>\n",
       "      <td>-87.760886</td>\n",
       "      <td>8.000000</td>\n",
       "      <td>0.000000</td>\n",
       "      <td>6.864865</td>\n",
       "    </tr>\n",
       "    <tr>\n",
       "      <th>N MANDELL AVE</th>\n",
       "      <td>1706.000000</td>\n",
       "      <td>2007.000000</td>\n",
       "      <td>62.000000</td>\n",
       "      <td>41.994991</td>\n",
       "      <td>-87.769279</td>\n",
       "      <td>9.000000</td>\n",
       "      <td>0.000000</td>\n",
       "      <td>3.347826</td>\n",
       "    </tr>\n",
       "    <tr>\n",
       "      <th>N MCCLELLAN AVE</th>\n",
       "      <td>9082.375000</td>\n",
       "      <td>2012.625000</td>\n",
       "      <td>62.000000</td>\n",
       "      <td>41.994679</td>\n",
       "      <td>-87.770899</td>\n",
       "      <td>8.000000</td>\n",
       "      <td>0.031250</td>\n",
       "      <td>11.718750</td>\n",
       "    </tr>\n",
       "    <tr>\n",
       "      <th>N MILWAUKEE AVE</th>\n",
       "      <td>5840.725664</td>\n",
       "      <td>2010.026549</td>\n",
       "      <td>46.000000</td>\n",
       "      <td>41.964242</td>\n",
       "      <td>-87.757639</td>\n",
       "      <td>8.000000</td>\n",
       "      <td>0.123894</td>\n",
       "      <td>12.380531</td>\n",
       "    </tr>\n",
       "    <tr>\n",
       "      <th>N MONT CLARE AVE</th>\n",
       "      <td>7469.289474</td>\n",
       "      <td>2011.105263</td>\n",
       "      <td>51.000000</td>\n",
       "      <td>41.973845</td>\n",
       "      <td>-87.805059</td>\n",
       "      <td>9.000000</td>\n",
       "      <td>0.118421</td>\n",
       "      <td>18.039474</td>\n",
       "    </tr>\n",
       "    <tr>\n",
       "      <th>N MOSELL AVE</th>\n",
       "      <td>5541.557522</td>\n",
       "      <td>2009.920354</td>\n",
       "      <td>70.000000</td>\n",
       "      <td>42.008314</td>\n",
       "      <td>-87.777921</td>\n",
       "      <td>9.000000</td>\n",
       "      <td>0.079646</td>\n",
       "      <td>23.699115</td>\n",
       "    </tr>\n",
       "    <tr>\n",
       "      <th>N OAK PARK AVE</th>\n",
       "      <td>4749.152542</td>\n",
       "      <td>2009.361582</td>\n",
       "      <td>44.796610</td>\n",
       "      <td>41.961720</td>\n",
       "      <td>-87.800136</td>\n",
       "      <td>8.841808</td>\n",
       "      <td>0.112994</td>\n",
       "      <td>24.598870</td>\n",
       "    </tr>\n",
       "    <tr>\n",
       "      <th>N OAKLEY AVE</th>\n",
       "      <td>3497.476923</td>\n",
       "      <td>2008.353846</td>\n",
       "      <td>75.000000</td>\n",
       "      <td>42.017430</td>\n",
       "      <td>-87.687769</td>\n",
       "      <td>8.000000</td>\n",
       "      <td>0.000000</td>\n",
       "      <td>3.153846</td>\n",
       "    </tr>\n",
       "    <tr>\n",
       "      <th>N OKETO AVE</th>\n",
       "      <td>3123.298246</td>\n",
       "      <td>2007.912281</td>\n",
       "      <td>72.000000</td>\n",
       "      <td>42.011601</td>\n",
       "      <td>-87.811506</td>\n",
       "      <td>8.000000</td>\n",
       "      <td>0.087719</td>\n",
       "      <td>16.578947</td>\n",
       "    </tr>\n",
       "    <tr>\n",
       "      <th>N PITTSBURGH AVE</th>\n",
       "      <td>5597.174603</td>\n",
       "      <td>2009.873016</td>\n",
       "      <td>36.000000</td>\n",
       "      <td>41.944869</td>\n",
       "      <td>-87.832763</td>\n",
       "      <td>8.000000</td>\n",
       "      <td>0.087302</td>\n",
       "      <td>11.007937</td>\n",
       "    </tr>\n",
       "    <tr>\n",
       "      <th>N PULASKI RD</th>\n",
       "      <td>6391.752941</td>\n",
       "      <td>2010.376471</td>\n",
       "      <td>38.705882</td>\n",
       "      <td>41.950463</td>\n",
       "      <td>-87.727666</td>\n",
       "      <td>8.470588</td>\n",
       "      <td>0.064706</td>\n",
       "      <td>6.294118</td>\n",
       "    </tr>\n",
       "    <tr>\n",
       "      <th>N RICHMOND ST</th>\n",
       "      <td>1662.551724</td>\n",
       "      <td>2007.000000</td>\n",
       "      <td>42.000000</td>\n",
       "      <td>41.958271</td>\n",
       "      <td>-87.702575</td>\n",
       "      <td>9.000000</td>\n",
       "      <td>0.000000</td>\n",
       "      <td>3.931034</td>\n",
       "    </tr>\n",
       "    <tr>\n",
       "      <th>N RIDGE AVE</th>\n",
       "      <td>8869.365854</td>\n",
       "      <td>2012.463415</td>\n",
       "      <td>58.000000</td>\n",
       "      <td>41.987280</td>\n",
       "      <td>-87.666066</td>\n",
       "      <td>8.000000</td>\n",
       "      <td>0.097561</td>\n",
       "      <td>15.780488</td>\n",
       "    </tr>\n",
       "    <tr>\n",
       "      <th>N RUTHERFORD AVE</th>\n",
       "      <td>4301.271429</td>\n",
       "      <td>2008.657143</td>\n",
       "      <td>33.000000</td>\n",
       "      <td>41.940160</td>\n",
       "      <td>-87.794896</td>\n",
       "      <td>9.000000</td>\n",
       "      <td>0.028571</td>\n",
       "      <td>9.985714</td>\n",
       "    </tr>\n",
       "    <tr>\n",
       "      <th>N SPRINGFIELD AVE</th>\n",
       "      <td>8160.806452</td>\n",
       "      <td>2011.806452</td>\n",
       "      <td>39.000000</td>\n",
       "      <td>41.951866</td>\n",
       "      <td>-87.725057</td>\n",
       "      <td>8.000000</td>\n",
       "      <td>0.096774</td>\n",
       "      <td>13.564516</td>\n",
       "    </tr>\n",
       "    <tr>\n",
       "      <th>N STAVE ST</th>\n",
       "      <td>1368.687500</td>\n",
       "      <td>2007.000000</td>\n",
       "      <td>21.000000</td>\n",
       "      <td>41.919343</td>\n",
       "      <td>-87.694259</td>\n",
       "      <td>8.000000</td>\n",
       "      <td>0.000000</td>\n",
       "      <td>4.250000</td>\n",
       "    </tr>\n",
       "    <tr>\n",
       "      <th>N STREETER DR</th>\n",
       "      <td>1961.714286</td>\n",
       "      <td>2007.000000</td>\n",
       "      <td>53.000000</td>\n",
       "      <td>41.891126</td>\n",
       "      <td>-87.611560</td>\n",
       "      <td>5.000000</td>\n",
       "      <td>0.000000</td>\n",
       "      <td>2.571429</td>\n",
       "    </tr>\n",
       "    <tr>\n",
       "      <th>N TRIPP AVE</th>\n",
       "      <td>1798.571429</td>\n",
       "      <td>2007.000000</td>\n",
       "      <td>40.000000</td>\n",
       "      <td>41.953705</td>\n",
       "      <td>-87.733974</td>\n",
       "      <td>8.000000</td>\n",
       "      <td>0.000000</td>\n",
       "      <td>1.785714</td>\n",
       "    </tr>\n",
       "    <tr>\n",
       "      <th>N WESTERN AVE</th>\n",
       "      <td>5368.892857</td>\n",
       "      <td>2009.785714</td>\n",
       "      <td>58.000000</td>\n",
       "      <td>41.986921</td>\n",
       "      <td>-87.689778</td>\n",
       "      <td>9.000000</td>\n",
       "      <td>0.080357</td>\n",
       "      <td>9.089286</td>\n",
       "    </tr>\n",
       "    <tr>\n",
       "      <th>S ARTESIAN AVE</th>\n",
       "      <td>4886.850575</td>\n",
       "      <td>2009.114943</td>\n",
       "      <td>11.000000</td>\n",
       "      <td>41.903002</td>\n",
       "      <td>-87.688267</td>\n",
       "      <td>8.000000</td>\n",
       "      <td>0.045977</td>\n",
       "      <td>7.563218</td>\n",
       "    </tr>\n",
       "    <tr>\n",
       "      <th>S ASHLAND AVE</th>\n",
       "      <td>5696.285124</td>\n",
       "      <td>2009.966942</td>\n",
       "      <td>23.264463</td>\n",
       "      <td>41.848129</td>\n",
       "      <td>-87.666657</td>\n",
       "      <td>9.000000</td>\n",
       "      <td>0.037190</td>\n",
       "      <td>10.632231</td>\n",
       "    </tr>\n",
       "    <tr>\n",
       "      <th>S AVENUE G</th>\n",
       "      <td>2509.227273</td>\n",
       "      <td>2007.000000</td>\n",
       "      <td>98.000000</td>\n",
       "      <td>41.717753</td>\n",
       "      <td>-87.531657</td>\n",
       "      <td>8.000000</td>\n",
       "      <td>0.000000</td>\n",
       "      <td>10.863636</td>\n",
       "    </tr>\n",
       "    <tr>\n",
       "      <th>S AVENUE L</th>\n",
       "      <td>2364.542857</td>\n",
       "      <td>2007.000000</td>\n",
       "      <td>11.000000</td>\n",
       "      <td>41.702724</td>\n",
       "      <td>-87.536497</td>\n",
       "      <td>5.000000</td>\n",
       "      <td>0.114286</td>\n",
       "      <td>106.428571</td>\n",
       "    </tr>\n",
       "    <tr>\n",
       "      <th>S BRANDON</th>\n",
       "      <td>5871.992188</td>\n",
       "      <td>2009.937500</td>\n",
       "      <td>13.000000</td>\n",
       "      <td>41.740641</td>\n",
       "      <td>-87.546587</td>\n",
       "      <td>5.000000</td>\n",
       "      <td>0.023438</td>\n",
       "      <td>8.695312</td>\n",
       "    </tr>\n",
       "    <tr>\n",
       "      <th>S CALIFORNIA</th>\n",
       "      <td>5871.463636</td>\n",
       "      <td>2010.145455</td>\n",
       "      <td>11.000000</td>\n",
       "      <td>41.868142</td>\n",
       "      <td>-87.696269</td>\n",
       "      <td>9.000000</td>\n",
       "      <td>0.027273</td>\n",
       "      <td>9.063636</td>\n",
       "    </tr>\n",
       "    <tr>\n",
       "      <th>S CALIFORNIA AVE</th>\n",
       "      <td>2088.458333</td>\n",
       "      <td>2007.000000</td>\n",
       "      <td>10.000000</td>\n",
       "      <td>41.869107</td>\n",
       "      <td>-87.696293</td>\n",
       "      <td>9.000000</td>\n",
       "      <td>0.000000</td>\n",
       "      <td>4.833333</td>\n",
       "    </tr>\n",
       "    <tr>\n",
       "      <th>S CARPENTER ST</th>\n",
       "      <td>6262.259615</td>\n",
       "      <td>2010.365385</td>\n",
       "      <td>89.000000</td>\n",
       "      <td>41.732984</td>\n",
       "      <td>-87.649642</td>\n",
       "      <td>8.000000</td>\n",
       "      <td>0.038462</td>\n",
       "      <td>12.894231</td>\n",
       "    </tr>\n",
       "    <tr>\n",
       "      <th>S CENTRAL AVE</th>\n",
       "      <td>5842.535714</td>\n",
       "      <td>2009.985714</td>\n",
       "      <td>50.000000</td>\n",
       "      <td>41.801498</td>\n",
       "      <td>-87.763416</td>\n",
       "      <td>9.000000</td>\n",
       "      <td>0.035714</td>\n",
       "      <td>11.792857</td>\n",
       "    </tr>\n",
       "    <tr>\n",
       "      <th>S CHICAGO AVE</th>\n",
       "      <td>6159.194030</td>\n",
       "      <td>2010.283582</td>\n",
       "      <td>79.000000</td>\n",
       "      <td>41.754292</td>\n",
       "      <td>-87.590773</td>\n",
       "      <td>9.000000</td>\n",
       "      <td>0.029851</td>\n",
       "      <td>4.925373</td>\n",
       "    </tr>\n",
       "    <tr>\n",
       "      <th>S CICERO AVE</th>\n",
       "      <td>2263.400000</td>\n",
       "      <td>2007.000000</td>\n",
       "      <td>73.000000</td>\n",
       "      <td>41.759346</td>\n",
       "      <td>-87.745602</td>\n",
       "      <td>9.000000</td>\n",
       "      <td>0.040000</td>\n",
       "      <td>7.880000</td>\n",
       "    </tr>\n",
       "    <tr>\n",
       "      <th>S CORNELL AVE</th>\n",
       "      <td>2372.555556</td>\n",
       "      <td>2007.000000</td>\n",
       "      <td>47.000000</td>\n",
       "      <td>41.799282</td>\n",
       "      <td>-87.585487</td>\n",
       "      <td>8.000000</td>\n",
       "      <td>0.000000</td>\n",
       "      <td>2.777778</td>\n",
       "    </tr>\n",
       "    <tr>\n",
       "      <th>S COTTAGE GROVE</th>\n",
       "      <td>6085.697248</td>\n",
       "      <td>2010.027523</td>\n",
       "      <td>10.000000</td>\n",
       "      <td>41.750498</td>\n",
       "      <td>-87.605294</td>\n",
       "      <td>5.000000</td>\n",
       "      <td>0.018349</td>\n",
       "      <td>7.935780</td>\n",
       "    </tr>\n",
       "    <tr>\n",
       "      <th>S DEARBORN ST</th>\n",
       "      <td>3902.428571</td>\n",
       "      <td>2008.428571</td>\n",
       "      <td>40.000000</td>\n",
       "      <td>41.821582</td>\n",
       "      <td>-87.627796</td>\n",
       "      <td>9.000000</td>\n",
       "      <td>0.071429</td>\n",
       "      <td>5.404762</td>\n",
       "    </tr>\n",
       "    <tr>\n",
       "      <th>S DOTY AVE</th>\n",
       "      <td>5534.841772</td>\n",
       "      <td>2009.721519</td>\n",
       "      <td>12.000000</td>\n",
       "      <td>41.673408</td>\n",
       "      <td>-87.599862</td>\n",
       "      <td>5.000000</td>\n",
       "      <td>0.094937</td>\n",
       "      <td>230.500000</td>\n",
       "    </tr>\n",
       "    <tr>\n",
       "      <th>S DR MARTIN LUTHER KING JR DR</th>\n",
       "      <td>2205.360000</td>\n",
       "      <td>2007.000000</td>\n",
       "      <td>85.400000</td>\n",
       "      <td>41.739370</td>\n",
       "      <td>-87.614604</td>\n",
       "      <td>8.000000</td>\n",
       "      <td>0.040000</td>\n",
       "      <td>3.800000</td>\n",
       "    </tr>\n",
       "    <tr>\n",
       "      <th>S EBERHART AVE</th>\n",
       "      <td>6238.449438</td>\n",
       "      <td>2010.280899</td>\n",
       "      <td>77.000000</td>\n",
       "      <td>41.754676</td>\n",
       "      <td>-87.612922</td>\n",
       "      <td>9.000000</td>\n",
       "      <td>0.022472</td>\n",
       "      <td>5.146067</td>\n",
       "    </tr>\n",
       "    <tr>\n",
       "      <th>S HAMLIN AVE</th>\n",
       "      <td>144.500000</td>\n",
       "      <td>2007.000000</td>\n",
       "      <td>21.000000</td>\n",
       "      <td>41.852652</td>\n",
       "      <td>-87.719887</td>\n",
       "      <td>8.000000</td>\n",
       "      <td>0.000000</td>\n",
       "      <td>3.000000</td>\n",
       "    </tr>\n",
       "    <tr>\n",
       "      <th>S HOYNE AVE</th>\n",
       "      <td>1965.551020</td>\n",
       "      <td>2007.000000</td>\n",
       "      <td>59.632653</td>\n",
       "      <td>41.783851</td>\n",
       "      <td>-87.676548</td>\n",
       "      <td>8.448980</td>\n",
       "      <td>0.020408</td>\n",
       "      <td>4.408163</td>\n",
       "    </tr>\n",
       "    <tr>\n",
       "      <th>S KEDZIE AVE</th>\n",
       "      <td>5724.650000</td>\n",
       "      <td>2009.816667</td>\n",
       "      <td>68.083333</td>\n",
       "      <td>41.769676</td>\n",
       "      <td>-87.703019</td>\n",
       "      <td>8.083333</td>\n",
       "      <td>0.050000</td>\n",
       "      <td>13.091667</td>\n",
       "    </tr>\n",
       "    <tr>\n",
       "      <th>S KILPATRICK AVE</th>\n",
       "      <td>2664.600000</td>\n",
       "      <td>2007.000000</td>\n",
       "      <td>66.000000</td>\n",
       "      <td>41.772846</td>\n",
       "      <td>-87.740029</td>\n",
       "      <td>9.000000</td>\n",
       "      <td>0.050000</td>\n",
       "      <td>3.050000</td>\n",
       "    </tr>\n",
       "    <tr>\n",
       "      <th>S KOLMAR</th>\n",
       "      <td>6129.664062</td>\n",
       "      <td>2010.187500</td>\n",
       "      <td>52.000000</td>\n",
       "      <td>41.798697</td>\n",
       "      <td>-87.736812</td>\n",
       "      <td>8.000000</td>\n",
       "      <td>0.070312</td>\n",
       "      <td>17.562500</td>\n",
       "    </tr>\n",
       "    <tr>\n",
       "      <th>S KOSTNER AVE</th>\n",
       "      <td>7349.057471</td>\n",
       "      <td>2010.977011</td>\n",
       "      <td>82.000000</td>\n",
       "      <td>41.743402</td>\n",
       "      <td>-87.731435</td>\n",
       "      <td>8.000000</td>\n",
       "      <td>0.126437</td>\n",
       "      <td>27.528736</td>\n",
       "    </tr>\n",
       "    <tr>\n",
       "      <th>S LONGWOOD DR</th>\n",
       "      <td>8849.600000</td>\n",
       "      <td>2013.000000</td>\n",
       "      <td>96.000000</td>\n",
       "      <td>41.719140</td>\n",
       "      <td>-87.669539</td>\n",
       "      <td>9.000000</td>\n",
       "      <td>0.000000</td>\n",
       "      <td>8.200000</td>\n",
       "    </tr>\n",
       "    <tr>\n",
       "      <th>S MACKINAW</th>\n",
       "      <td>2215.714286</td>\n",
       "      <td>2007.000000</td>\n",
       "      <td>13.000000</td>\n",
       "      <td>41.737052</td>\n",
       "      <td>-87.543067</td>\n",
       "      <td>5.000000</td>\n",
       "      <td>0.000000</td>\n",
       "      <td>3.095238</td>\n",
       "    </tr>\n",
       "    <tr>\n",
       "      <th>S MELVINA AVE</th>\n",
       "      <td>2301.882353</td>\n",
       "      <td>2007.000000</td>\n",
       "      <td>61.000000</td>\n",
       "      <td>41.781416</td>\n",
       "      <td>-87.776532</td>\n",
       "      <td>8.000000</td>\n",
       "      <td>0.000000</td>\n",
       "      <td>3.470588</td>\n",
       "    </tr>\n",
       "    <tr>\n",
       "      <th>S MILLARD AVE</th>\n",
       "      <td>5952.652174</td>\n",
       "      <td>2010.130435</td>\n",
       "      <td>25.000000</td>\n",
       "      <td>41.846075</td>\n",
       "      <td>-87.716277</td>\n",
       "      <td>9.000000</td>\n",
       "      <td>0.021739</td>\n",
       "      <td>4.326087</td>\n",
       "    </tr>\n",
       "    <tr>\n",
       "      <th>S MUSKEGON AVE</th>\n",
       "      <td>6209.000000</td>\n",
       "      <td>2010.318182</td>\n",
       "      <td>89.000000</td>\n",
       "      <td>41.733643</td>\n",
       "      <td>-87.555510</td>\n",
       "      <td>8.000000</td>\n",
       "      <td>0.000000</td>\n",
       "      <td>3.045455</td>\n",
       "    </tr>\n",
       "    <tr>\n",
       "      <th>S NORDICA</th>\n",
       "      <td>2074.000000</td>\n",
       "      <td>2007.000000</td>\n",
       "      <td>52.000000</td>\n",
       "      <td>41.797616</td>\n",
       "      <td>-87.797894</td>\n",
       "      <td>8.000000</td>\n",
       "      <td>0.117647</td>\n",
       "      <td>5.294118</td>\n",
       "    </tr>\n",
       "    <tr>\n",
       "      <th>S PEORIA ST</th>\n",
       "      <td>1832.206897</td>\n",
       "      <td>2007.000000</td>\n",
       "      <td>11.000000</td>\n",
       "      <td>41.862292</td>\n",
       "      <td>-87.648860</td>\n",
       "      <td>8.000000</td>\n",
       "      <td>0.034483</td>\n",
       "      <td>4.655172</td>\n",
       "    </tr>\n",
       "    <tr>\n",
       "      <th>S PULASKI RD</th>\n",
       "      <td>5953.254902</td>\n",
       "      <td>2010.019608</td>\n",
       "      <td>37.000000</td>\n",
       "      <td>41.825610</td>\n",
       "      <td>-87.726549</td>\n",
       "      <td>9.000000</td>\n",
       "      <td>0.019608</td>\n",
       "      <td>5.774510</td>\n",
       "    </tr>\n",
       "    <tr>\n",
       "      <th>S RACINE AVE</th>\n",
       "      <td>2802.666667</td>\n",
       "      <td>2007.000000</td>\n",
       "      <td>65.000000</td>\n",
       "      <td>41.775051</td>\n",
       "      <td>-87.655356</td>\n",
       "      <td>9.000000</td>\n",
       "      <td>0.000000</td>\n",
       "      <td>2.833333</td>\n",
       "    </tr>\n",
       "    <tr>\n",
       "      <th>S SOUTH SHORE DR</th>\n",
       "      <td>5688.480519</td>\n",
       "      <td>2009.805195</td>\n",
       "      <td>71.000000</td>\n",
       "      <td>41.766202</td>\n",
       "      <td>-87.562889</td>\n",
       "      <td>9.000000</td>\n",
       "      <td>0.012987</td>\n",
       "      <td>4.324675</td>\n",
       "    </tr>\n",
       "    <tr>\n",
       "      <th>S STATE ST</th>\n",
       "      <td>1909.260870</td>\n",
       "      <td>2007.000000</td>\n",
       "      <td>11.000000</td>\n",
       "      <td>41.869216</td>\n",
       "      <td>-87.627561</td>\n",
       "      <td>8.000000</td>\n",
       "      <td>0.000000</td>\n",
       "      <td>4.956522</td>\n",
       "    </tr>\n",
       "    <tr>\n",
       "      <th>S STONY ISLAND AVE</th>\n",
       "      <td>5326.670588</td>\n",
       "      <td>2009.517647</td>\n",
       "      <td>20.164706</td>\n",
       "      <td>41.736307</td>\n",
       "      <td>-87.585604</td>\n",
       "      <td>5.564706</td>\n",
       "      <td>0.058824</td>\n",
       "      <td>95.864706</td>\n",
       "    </tr>\n",
       "    <tr>\n",
       "      <th>S THROOP</th>\n",
       "      <td>2267.133333</td>\n",
       "      <td>2007.000000</td>\n",
       "      <td>25.000000</td>\n",
       "      <td>41.846283</td>\n",
       "      <td>-87.656913</td>\n",
       "      <td>9.000000</td>\n",
       "      <td>0.000000</td>\n",
       "      <td>2.200000</td>\n",
       "    </tr>\n",
       "    <tr>\n",
       "      <th>S TORRENCE AVE</th>\n",
       "      <td>4737.670000</td>\n",
       "      <td>2008.860000</td>\n",
       "      <td>13.000000</td>\n",
       "      <td>41.678618</td>\n",
       "      <td>-87.559308</td>\n",
       "      <td>5.000000</td>\n",
       "      <td>0.010000</td>\n",
       "      <td>14.160000</td>\n",
       "    </tr>\n",
       "    <tr>\n",
       "      <th>S UNION AVE</th>\n",
       "      <td>5816.336957</td>\n",
       "      <td>2010.021739</td>\n",
       "      <td>50.000000</td>\n",
       "      <td>41.803423</td>\n",
       "      <td>-87.642984</td>\n",
       "      <td>8.000000</td>\n",
       "      <td>0.086957</td>\n",
       "      <td>11.304348</td>\n",
       "    </tr>\n",
       "    <tr>\n",
       "      <th>S VINCENNES</th>\n",
       "      <td>5863.022222</td>\n",
       "      <td>2010.177778</td>\n",
       "      <td>10.000000</td>\n",
       "      <td>41.723195</td>\n",
       "      <td>-87.649970</td>\n",
       "      <td>5.000000</td>\n",
       "      <td>0.044444</td>\n",
       "      <td>4.155556</td>\n",
       "    </tr>\n",
       "    <tr>\n",
       "      <th>S WALLACE ST</th>\n",
       "      <td>5645.500000</td>\n",
       "      <td>2009.000000</td>\n",
       "      <td>11.000000</td>\n",
       "      <td>41.753411</td>\n",
       "      <td>-87.639817</td>\n",
       "      <td>5.000000</td>\n",
       "      <td>0.000000</td>\n",
       "      <td>3.500000</td>\n",
       "    </tr>\n",
       "    <tr>\n",
       "      <th>S WESTERN AVE</th>\n",
       "      <td>2337.600000</td>\n",
       "      <td>2007.000000</td>\n",
       "      <td>27.000000</td>\n",
       "      <td>41.843811</td>\n",
       "      <td>-87.686763</td>\n",
       "      <td>9.000000</td>\n",
       "      <td>0.000000</td>\n",
       "      <td>3.200000</td>\n",
       "    </tr>\n",
       "    <tr>\n",
       "      <th>W 104TH ST</th>\n",
       "      <td>6302.068966</td>\n",
       "      <td>2010.310345</td>\n",
       "      <td>33.000000</td>\n",
       "      <td>41.704336</td>\n",
       "      <td>-87.703736</td>\n",
       "      <td>8.000000</td>\n",
       "      <td>0.057471</td>\n",
       "      <td>6.793103</td>\n",
       "    </tr>\n",
       "    <tr>\n",
       "      <th>W 113TH ST</th>\n",
       "      <td>1510.666667</td>\n",
       "      <td>2007.000000</td>\n",
       "      <td>22.000000</td>\n",
       "      <td>41.688324</td>\n",
       "      <td>-87.676709</td>\n",
       "      <td>8.000000</td>\n",
       "      <td>0.155556</td>\n",
       "      <td>36.422222</td>\n",
       "    </tr>\n",
       "    <tr>\n",
       "      <th>W 116TH ST</th>\n",
       "      <td>5430.243902</td>\n",
       "      <td>2009.747967</td>\n",
       "      <td>35.000000</td>\n",
       "      <td>41.682587</td>\n",
       "      <td>-87.707973</td>\n",
       "      <td>9.000000</td>\n",
       "      <td>0.040650</td>\n",
       "      <td>22.382114</td>\n",
       "    </tr>\n",
       "    <tr>\n",
       "      <th>W 127TH PL</th>\n",
       "      <td>5274.287582</td>\n",
       "      <td>2009.692810</td>\n",
       "      <td>42.000000</td>\n",
       "      <td>41.662014</td>\n",
       "      <td>-87.724608</td>\n",
       "      <td>8.000000</td>\n",
       "      <td>0.052288</td>\n",
       "      <td>24.418301</td>\n",
       "    </tr>\n",
       "    <tr>\n",
       "      <th>W 18TH ST</th>\n",
       "      <td>5538.836066</td>\n",
       "      <td>2009.885246</td>\n",
       "      <td>30.000000</td>\n",
       "      <td>41.857402</td>\n",
       "      <td>-87.694991</td>\n",
       "      <td>8.000000</td>\n",
       "      <td>0.000000</td>\n",
       "      <td>3.163934</td>\n",
       "    </tr>\n",
       "    <tr>\n",
       "      <th>W 31ST ST</th>\n",
       "      <td>2037.136364</td>\n",
       "      <td>2007.000000</td>\n",
       "      <td>42.000000</td>\n",
       "      <td>41.837085</td>\n",
       "      <td>-87.729384</td>\n",
       "      <td>9.000000</td>\n",
       "      <td>0.045455</td>\n",
       "      <td>2.363636</td>\n",
       "    </tr>\n",
       "    <tr>\n",
       "      <th>W 37TH PL.</th>\n",
       "      <td>2339.285714</td>\n",
       "      <td>2007.000000</td>\n",
       "      <td>81.000000</td>\n",
       "      <td>41.825902</td>\n",
       "      <td>-87.667827</td>\n",
       "      <td>5.000000</td>\n",
       "      <td>0.000000</td>\n",
       "      <td>3.357143</td>\n",
       "    </tr>\n",
       "    <tr>\n",
       "      <th>W 51ST ST</th>\n",
       "      <td>5798.655556</td>\n",
       "      <td>2009.966667</td>\n",
       "      <td>27.705556</td>\n",
       "      <td>41.800985</td>\n",
       "      <td>-87.693681</td>\n",
       "      <td>8.000000</td>\n",
       "      <td>0.050000</td>\n",
       "      <td>8.127778</td>\n",
       "    </tr>\n",
       "    <tr>\n",
       "      <th>W 63RD ST</th>\n",
       "      <td>5674.294118</td>\n",
       "      <td>2009.862745</td>\n",
       "      <td>52.000000</td>\n",
       "      <td>41.778297</td>\n",
       "      <td>-87.752411</td>\n",
       "      <td>9.000000</td>\n",
       "      <td>0.039216</td>\n",
       "      <td>10.852941</td>\n",
       "    </tr>\n",
       "    <tr>\n",
       "      <th>W 64TH ST</th>\n",
       "      <td>6085.325000</td>\n",
       "      <td>2010.150000</td>\n",
       "      <td>63.000000</td>\n",
       "      <td>41.776156</td>\n",
       "      <td>-87.778927</td>\n",
       "      <td>9.000000</td>\n",
       "      <td>0.075000</td>\n",
       "      <td>6.575000</td>\n",
       "    </tr>\n",
       "    <tr>\n",
       "      <th>W 65TH ST</th>\n",
       "      <td>8258.065574</td>\n",
       "      <td>2011.983607</td>\n",
       "      <td>42.000000</td>\n",
       "      <td>41.776428</td>\n",
       "      <td>-87.627096</td>\n",
       "      <td>8.000000</td>\n",
       "      <td>0.114754</td>\n",
       "      <td>9.131148</td>\n",
       "    </tr>\n",
       "    <tr>\n",
       "      <th>W 69TH ST</th>\n",
       "      <td>5984.675325</td>\n",
       "      <td>2010.064935</td>\n",
       "      <td>22.000000</td>\n",
       "      <td>41.768388</td>\n",
       "      <td>-87.678649</td>\n",
       "      <td>8.000000</td>\n",
       "      <td>0.012987</td>\n",
       "      <td>5.649351</td>\n",
       "    </tr>\n",
       "    <tr>\n",
       "      <th>W 72ND ST</th>\n",
       "      <td>8537.466667</td>\n",
       "      <td>2012.200000</td>\n",
       "      <td>51.000000</td>\n",
       "      <td>41.763733</td>\n",
       "      <td>-87.742302</td>\n",
       "      <td>8.000000</td>\n",
       "      <td>0.044444</td>\n",
       "      <td>4.777778</td>\n",
       "    </tr>\n",
       "    <tr>\n",
       "      <th>W 77TH ST</th>\n",
       "      <td>7922.000000</td>\n",
       "      <td>2011.000000</td>\n",
       "      <td>34.000000</td>\n",
       "      <td>41.753391</td>\n",
       "      <td>-87.707394</td>\n",
       "      <td>8.000000</td>\n",
       "      <td>0.000000</td>\n",
       "      <td>4.857143</td>\n",
       "    </tr>\n",
       "    <tr>\n",
       "      <th>W 85TH ST</th>\n",
       "      <td>7798.666667</td>\n",
       "      <td>2011.000000</td>\n",
       "      <td>29.000000</td>\n",
       "      <td>41.738903</td>\n",
       "      <td>-87.695443</td>\n",
       "      <td>8.000000</td>\n",
       "      <td>0.000000</td>\n",
       "      <td>6.000000</td>\n",
       "    </tr>\n",
       "    <tr>\n",
       "      <th>W 89TH ST</th>\n",
       "      <td>1564.304348</td>\n",
       "      <td>2007.000000</td>\n",
       "      <td>22.000000</td>\n",
       "      <td>41.731922</td>\n",
       "      <td>-87.677512</td>\n",
       "      <td>8.000000</td>\n",
       "      <td>0.108696</td>\n",
       "      <td>13.369565</td>\n",
       "    </tr>\n",
       "    <tr>\n",
       "      <th>W 95TH ST</th>\n",
       "      <td>5212.666667</td>\n",
       "      <td>2009.544218</td>\n",
       "      <td>15.619048</td>\n",
       "      <td>41.720971</td>\n",
       "      <td>-87.662473</td>\n",
       "      <td>8.802721</td>\n",
       "      <td>0.034014</td>\n",
       "      <td>9.346939</td>\n",
       "    </tr>\n",
       "    <tr>\n",
       "      <th>W ADDISON ST</th>\n",
       "      <td>8048.074074</td>\n",
       "      <td>2011.777778</td>\n",
       "      <td>17.000000</td>\n",
       "      <td>41.947227</td>\n",
       "      <td>-87.671457</td>\n",
       "      <td>9.000000</td>\n",
       "      <td>0.018519</td>\n",
       "      <td>5.259259</td>\n",
       "    </tr>\n",
       "    <tr>\n",
       "      <th>W AGATITE AVE</th>\n",
       "      <td>1442.761905</td>\n",
       "      <td>2007.000000</td>\n",
       "      <td>53.000000</td>\n",
       "      <td>41.961743</td>\n",
       "      <td>-87.760070</td>\n",
       "      <td>9.000000</td>\n",
       "      <td>0.000000</td>\n",
       "      <td>1.857143</td>\n",
       "    </tr>\n",
       "    <tr>\n",
       "      <th>W BALMORAL AVE</th>\n",
       "      <td>1877.521739</td>\n",
       "      <td>2007.000000</td>\n",
       "      <td>49.000000</td>\n",
       "      <td>41.979243</td>\n",
       "      <td>-87.750938</td>\n",
       "      <td>9.000000</td>\n",
       "      <td>0.000000</td>\n",
       "      <td>3.043478</td>\n",
       "    </tr>\n",
       "    <tr>\n",
       "      <th>W BELDEN AVE</th>\n",
       "      <td>1921.884615</td>\n",
       "      <td>2007.000000</td>\n",
       "      <td>68.000000</td>\n",
       "      <td>41.921177</td>\n",
       "      <td>-87.795180</td>\n",
       "      <td>8.000000</td>\n",
       "      <td>0.038462</td>\n",
       "      <td>6.500000</td>\n",
       "    </tr>\n",
       "    <tr>\n",
       "      <th>W CHICAGO</th>\n",
       "      <td>5173.060241</td>\n",
       "      <td>2009.554217</td>\n",
       "      <td>11.000000</td>\n",
       "      <td>41.896282</td>\n",
       "      <td>-87.655232</td>\n",
       "      <td>8.000000</td>\n",
       "      <td>0.012048</td>\n",
       "      <td>3.132530</td>\n",
       "    </tr>\n",
       "    <tr>\n",
       "      <th>W FARWELL AVE</th>\n",
       "      <td>1909.181818</td>\n",
       "      <td>2007.000000</td>\n",
       "      <td>18.000000</td>\n",
       "      <td>42.006858</td>\n",
       "      <td>-87.675919</td>\n",
       "      <td>9.000000</td>\n",
       "      <td>0.000000</td>\n",
       "      <td>2.545455</td>\n",
       "    </tr>\n",
       "    <tr>\n",
       "      <th>W FOSTER AVE</th>\n",
       "      <td>1303.727273</td>\n",
       "      <td>2007.000000</td>\n",
       "      <td>79.000000</td>\n",
       "      <td>41.974089</td>\n",
       "      <td>-87.824812</td>\n",
       "      <td>8.000000</td>\n",
       "      <td>0.121212</td>\n",
       "      <td>5.454545</td>\n",
       "    </tr>\n",
       "    <tr>\n",
       "      <th>W FULLERTON AVE</th>\n",
       "      <td>6122.610000</td>\n",
       "      <td>2010.140000</td>\n",
       "      <td>61.000000</td>\n",
       "      <td>41.923738</td>\n",
       "      <td>-87.785288</td>\n",
       "      <td>9.000000</td>\n",
       "      <td>0.100000</td>\n",
       "      <td>13.260000</td>\n",
       "    </tr>\n",
       "    <tr>\n",
       "      <th>W GARFIELD BLVD</th>\n",
       "      <td>7884.868421</td>\n",
       "      <td>2011.657895</td>\n",
       "      <td>90.000000</td>\n",
       "      <td>41.793818</td>\n",
       "      <td>-87.654234</td>\n",
       "      <td>5.000000</td>\n",
       "      <td>0.052632</td>\n",
       "      <td>11.868421</td>\n",
       "    </tr>\n",
       "    <tr>\n",
       "      <th>W GRAND AVE</th>\n",
       "      <td>5316.207547</td>\n",
       "      <td>2009.754717</td>\n",
       "      <td>25.000000</td>\n",
       "      <td>41.891118</td>\n",
       "      <td>-87.654491</td>\n",
       "      <td>8.000000</td>\n",
       "      <td>0.000000</td>\n",
       "      <td>5.811321</td>\n",
       "    </tr>\n",
       "    <tr>\n",
       "      <th>W GRANVILLE AVE</th>\n",
       "      <td>1970.857143</td>\n",
       "      <td>2007.000000</td>\n",
       "      <td>15.000000</td>\n",
       "      <td>41.994469</td>\n",
       "      <td>-87.667736</td>\n",
       "      <td>8.000000</td>\n",
       "      <td>0.000000</td>\n",
       "      <td>1.071429</td>\n",
       "    </tr>\n",
       "    <tr>\n",
       "      <th>W GREENLEAF AVE</th>\n",
       "      <td>6054.095238</td>\n",
       "      <td>2010.365079</td>\n",
       "      <td>12.000000</td>\n",
       "      <td>42.010412</td>\n",
       "      <td>-87.662140</td>\n",
       "      <td>8.000000</td>\n",
       "      <td>0.000000</td>\n",
       "      <td>1.920635</td>\n",
       "    </tr>\n",
       "    <tr>\n",
       "      <th>W HIGGINS AVE</th>\n",
       "      <td>1778.555556</td>\n",
       "      <td>2007.000000</td>\n",
       "      <td>91.000000</td>\n",
       "      <td>41.981964</td>\n",
       "      <td>-87.812827</td>\n",
       "      <td>8.000000</td>\n",
       "      <td>0.111111</td>\n",
       "      <td>17.148148</td>\n",
       "    </tr>\n",
       "    <tr>\n",
       "      <th>W HIGGINS RD</th>\n",
       "      <td>7338.942857</td>\n",
       "      <td>2011.228571</td>\n",
       "      <td>91.000000</td>\n",
       "      <td>41.992478</td>\n",
       "      <td>-87.862995</td>\n",
       "      <td>8.000000</td>\n",
       "      <td>0.071429</td>\n",
       "      <td>22.971429</td>\n",
       "    </tr>\n",
       "    <tr>\n",
       "      <th>W LELAND AVE</th>\n",
       "      <td>2294.238095</td>\n",
       "      <td>2007.000000</td>\n",
       "      <td>18.000000</td>\n",
       "      <td>41.966987</td>\n",
       "      <td>-87.674677</td>\n",
       "      <td>8.000000</td>\n",
       "      <td>0.000000</td>\n",
       "      <td>2.380952</td>\n",
       "    </tr>\n",
       "    <tr>\n",
       "      <th>W MONTANA ST</th>\n",
       "      <td>7611.516667</td>\n",
       "      <td>2011.233333</td>\n",
       "      <td>48.000000</td>\n",
       "      <td>41.925198</td>\n",
       "      <td>-87.746381</td>\n",
       "      <td>8.000000</td>\n",
       "      <td>0.016667</td>\n",
       "      <td>5.000000</td>\n",
       "    </tr>\n",
       "    <tr>\n",
       "      <th>W MONTROSE DR</th>\n",
       "      <td>6461.342105</td>\n",
       "      <td>2010.447368</td>\n",
       "      <td>60.000000</td>\n",
       "      <td>41.960616</td>\n",
       "      <td>-87.777189</td>\n",
       "      <td>9.000000</td>\n",
       "      <td>0.000000</td>\n",
       "      <td>3.039474</td>\n",
       "    </tr>\n",
       "    <tr>\n",
       "      <th>W OHARE</th>\n",
       "      <td>6750.828283</td>\n",
       "      <td>2010.555556</td>\n",
       "      <td>10.000000</td>\n",
       "      <td>41.957799</td>\n",
       "      <td>-87.930995</td>\n",
       "      <td>5.000000</td>\n",
       "      <td>0.090909</td>\n",
       "      <td>25.191919</td>\n",
       "    </tr>\n",
       "    <tr>\n",
       "      <th>W OHARE AIRPORT</th>\n",
       "      <td>7233.869318</td>\n",
       "      <td>2011.000000</td>\n",
       "      <td>10.000000</td>\n",
       "      <td>41.974689</td>\n",
       "      <td>-87.890615</td>\n",
       "      <td>9.000000</td>\n",
       "      <td>0.159091</td>\n",
       "      <td>111.000000</td>\n",
       "    </tr>\n",
       "    <tr>\n",
       "      <th>W PERSHING RD</th>\n",
       "      <td>2172.928571</td>\n",
       "      <td>2007.000000</td>\n",
       "      <td>22.000000</td>\n",
       "      <td>41.823065</td>\n",
       "      <td>-87.678378</td>\n",
       "      <td>8.000000</td>\n",
       "      <td>0.000000</td>\n",
       "      <td>1.642857</td>\n",
       "    </tr>\n",
       "    <tr>\n",
       "      <th>W ROOSEVELT</th>\n",
       "      <td>5633.907143</td>\n",
       "      <td>2009.914286</td>\n",
       "      <td>11.000000</td>\n",
       "      <td>41.867108</td>\n",
       "      <td>-87.654224</td>\n",
       "      <td>8.000000</td>\n",
       "      <td>0.028571</td>\n",
       "      <td>13.242857</td>\n",
       "    </tr>\n",
       "    <tr>\n",
       "      <th>W ROSCOE ST</th>\n",
       "      <td>2344.000000</td>\n",
       "      <td>2007.000000</td>\n",
       "      <td>60.000000</td>\n",
       "      <td>41.942114</td>\n",
       "      <td>-87.776385</td>\n",
       "      <td>8.000000</td>\n",
       "      <td>0.142857</td>\n",
       "      <td>3.571429</td>\n",
       "    </tr>\n",
       "    <tr>\n",
       "      <th>W STRONG ST</th>\n",
       "      <td>1985.714286</td>\n",
       "      <td>2007.000000</td>\n",
       "      <td>64.000000</td>\n",
       "      <td>41.970248</td>\n",
       "      <td>-87.787992</td>\n",
       "      <td>8.000000</td>\n",
       "      <td>0.142857</td>\n",
       "      <td>13.000000</td>\n",
       "    </tr>\n",
       "    <tr>\n",
       "      <th>W SUNNYSIDE AVE</th>\n",
       "      <td>2633.833333</td>\n",
       "      <td>2007.000000</td>\n",
       "      <td>49.000000</td>\n",
       "      <td>41.962728</td>\n",
       "      <td>-87.748367</td>\n",
       "      <td>9.000000</td>\n",
       "      <td>0.000000</td>\n",
       "      <td>4.916667</td>\n",
       "    </tr>\n",
       "    <tr>\n",
       "      <th>W WEBSTER AVE</th>\n",
       "      <td>1365.645161</td>\n",
       "      <td>2007.064516</td>\n",
       "      <td>15.000000</td>\n",
       "      <td>41.921600</td>\n",
       "      <td>-87.666455</td>\n",
       "      <td>8.000000</td>\n",
       "      <td>0.096774</td>\n",
       "      <td>14.806452</td>\n",
       "    </tr>\n",
       "  </tbody>\n",
       "</table>\n",
       "</div>"
      ],
      "text/plain": [
       "                                      index         year      Block  \\\n",
       "Street                                                                \n",
       "  W ARMITAGE AVENUE             5702.062937  2009.993007  70.000000   \n",
       " E 105TH ST                     6017.362903  2010.064516  24.000000   \n",
       " E 111TH ST                     1936.571429  2007.000000  20.000000   \n",
       " E 115TH ST                     2058.405405  2007.000000  38.000000   \n",
       " E 118TH ST                     5389.122951  2009.622951  37.000000   \n",
       " E 130TH ST                     6530.574468  2010.361702  40.000000   \n",
       " E 138TH ST                     2374.866667  2007.000000  82.000000   \n",
       " E 67TH ST                      5867.295082  2009.967213  10.000000   \n",
       " E 91ST PL                      7960.928571  2011.628571  65.000000   \n",
       " E 91ST ST                      2370.500000  2007.000000  81.000000   \n",
       " E RANDOLPH ST                  1887.000000  2007.000000  33.000000   \n",
       " N ASHLAND AVE                  8338.510204  2012.061224  17.000000   \n",
       " N ASHLAND AVE OVERPASS         5565.871795  2009.948718  43.000000   \n",
       " N AUSTIN AVE                    716.647059  2007.000000  40.000000   \n",
       " N AVONDALE AVE                 1626.125000  2007.000000  60.000000   \n",
       " N CALIFORNIA AVE               1895.090909  2007.000000  38.000000   \n",
       " N CAMPBELL AVE                 5671.336842  2009.863158  45.000000   \n",
       " N CANNON DR                    6139.597015  2010.298507  21.932836   \n",
       " N CENTRAL PARK DR              5917.149533  2010.158879  10.000000   \n",
       " N FRANCISCO AVE                6107.795918  2010.265306  28.000000   \n",
       " N HARLEM AVE                   8871.306122  2012.346939  71.000000   \n",
       " N HUMBOLDT DR                  5971.010638  2010.085106  14.000000   \n",
       " N KEDVALE AVE                  4412.472222  2008.916667  37.000000   \n",
       " N LARAMIE AVE                  7924.476190  2011.634921  13.000000   \n",
       " N LAWLER AVE                   2176.500000  2007.000000  21.000000   \n",
       " N LEMONT AVE                   5800.371134  2010.030928  61.000000   \n",
       " N LONG AVE                     3286.243243  2007.972973  15.000000   \n",
       " N MANDELL AVE                  1706.000000  2007.000000  62.000000   \n",
       " N MCCLELLAN AVE                9082.375000  2012.625000  62.000000   \n",
       " N MILWAUKEE AVE                5840.725664  2010.026549  46.000000   \n",
       " N MONT CLARE AVE               7469.289474  2011.105263  51.000000   \n",
       " N MOSELL AVE                   5541.557522  2009.920354  70.000000   \n",
       " N OAK PARK AVE                 4749.152542  2009.361582  44.796610   \n",
       " N OAKLEY AVE                   3497.476923  2008.353846  75.000000   \n",
       " N OKETO AVE                    3123.298246  2007.912281  72.000000   \n",
       " N PITTSBURGH AVE               5597.174603  2009.873016  36.000000   \n",
       " N PULASKI RD                   6391.752941  2010.376471  38.705882   \n",
       " N RICHMOND ST                  1662.551724  2007.000000  42.000000   \n",
       " N RIDGE AVE                    8869.365854  2012.463415  58.000000   \n",
       " N RUTHERFORD AVE               4301.271429  2008.657143  33.000000   \n",
       " N SPRINGFIELD AVE              8160.806452  2011.806452  39.000000   \n",
       " N STAVE ST                     1368.687500  2007.000000  21.000000   \n",
       " N STREETER DR                  1961.714286  2007.000000  53.000000   \n",
       " N TRIPP AVE                    1798.571429  2007.000000  40.000000   \n",
       " N WESTERN AVE                  5368.892857  2009.785714  58.000000   \n",
       " S ARTESIAN AVE                 4886.850575  2009.114943  11.000000   \n",
       " S ASHLAND AVE                  5696.285124  2009.966942  23.264463   \n",
       " S AVENUE G                     2509.227273  2007.000000  98.000000   \n",
       " S AVENUE L                     2364.542857  2007.000000  11.000000   \n",
       " S BRANDON                      5871.992188  2009.937500  13.000000   \n",
       " S CALIFORNIA                   5871.463636  2010.145455  11.000000   \n",
       " S CALIFORNIA AVE               2088.458333  2007.000000  10.000000   \n",
       " S CARPENTER ST                 6262.259615  2010.365385  89.000000   \n",
       " S CENTRAL AVE                  5842.535714  2009.985714  50.000000   \n",
       " S CHICAGO AVE                  6159.194030  2010.283582  79.000000   \n",
       " S CICERO AVE                   2263.400000  2007.000000  73.000000   \n",
       " S CORNELL AVE                  2372.555556  2007.000000  47.000000   \n",
       " S COTTAGE GROVE                6085.697248  2010.027523  10.000000   \n",
       " S DEARBORN ST                  3902.428571  2008.428571  40.000000   \n",
       " S DOTY AVE                     5534.841772  2009.721519  12.000000   \n",
       " S DR MARTIN LUTHER KING JR DR  2205.360000  2007.000000  85.400000   \n",
       " S EBERHART AVE                 6238.449438  2010.280899  77.000000   \n",
       " S HAMLIN AVE                    144.500000  2007.000000  21.000000   \n",
       " S HOYNE AVE                    1965.551020  2007.000000  59.632653   \n",
       " S KEDZIE AVE                   5724.650000  2009.816667  68.083333   \n",
       " S KILPATRICK AVE               2664.600000  2007.000000  66.000000   \n",
       " S KOLMAR                       6129.664062  2010.187500  52.000000   \n",
       " S KOSTNER AVE                  7349.057471  2010.977011  82.000000   \n",
       " S LONGWOOD DR                  8849.600000  2013.000000  96.000000   \n",
       " S MACKINAW                     2215.714286  2007.000000  13.000000   \n",
       " S MELVINA AVE                  2301.882353  2007.000000  61.000000   \n",
       " S MILLARD AVE                  5952.652174  2010.130435  25.000000   \n",
       " S MUSKEGON AVE                 6209.000000  2010.318182  89.000000   \n",
       " S NORDICA                      2074.000000  2007.000000  52.000000   \n",
       " S PEORIA ST                    1832.206897  2007.000000  11.000000   \n",
       " S PULASKI RD                   5953.254902  2010.019608  37.000000   \n",
       " S RACINE AVE                   2802.666667  2007.000000  65.000000   \n",
       " S SOUTH SHORE DR               5688.480519  2009.805195  71.000000   \n",
       " S STATE ST                     1909.260870  2007.000000  11.000000   \n",
       " S STONY ISLAND AVE             5326.670588  2009.517647  20.164706   \n",
       " S THROOP                       2267.133333  2007.000000  25.000000   \n",
       " S TORRENCE AVE                 4737.670000  2008.860000  13.000000   \n",
       " S UNION AVE                    5816.336957  2010.021739  50.000000   \n",
       " S VINCENNES                    5863.022222  2010.177778  10.000000   \n",
       " S WALLACE ST                   5645.500000  2009.000000  11.000000   \n",
       " S WESTERN AVE                  2337.600000  2007.000000  27.000000   \n",
       " W 104TH ST                     6302.068966  2010.310345  33.000000   \n",
       " W 113TH ST                     1510.666667  2007.000000  22.000000   \n",
       " W 116TH ST                     5430.243902  2009.747967  35.000000   \n",
       " W 127TH PL                     5274.287582  2009.692810  42.000000   \n",
       " W 18TH ST                      5538.836066  2009.885246  30.000000   \n",
       " W 31ST ST                      2037.136364  2007.000000  42.000000   \n",
       " W 37TH PL.                     2339.285714  2007.000000  81.000000   \n",
       " W 51ST ST                      5798.655556  2009.966667  27.705556   \n",
       " W 63RD ST                      5674.294118  2009.862745  52.000000   \n",
       " W 64TH ST                      6085.325000  2010.150000  63.000000   \n",
       " W 65TH ST                      8258.065574  2011.983607  42.000000   \n",
       " W 69TH ST                      5984.675325  2010.064935  22.000000   \n",
       " W 72ND ST                      8537.466667  2012.200000  51.000000   \n",
       " W 77TH ST                      7922.000000  2011.000000  34.000000   \n",
       " W 85TH ST                      7798.666667  2011.000000  29.000000   \n",
       " W 89TH ST                      1564.304348  2007.000000  22.000000   \n",
       " W 95TH ST                      5212.666667  2009.544218  15.619048   \n",
       " W ADDISON ST                   8048.074074  2011.777778  17.000000   \n",
       " W AGATITE AVE                  1442.761905  2007.000000  53.000000   \n",
       " W BALMORAL AVE                 1877.521739  2007.000000  49.000000   \n",
       " W BELDEN AVE                   1921.884615  2007.000000  68.000000   \n",
       " W CHICAGO                      5173.060241  2009.554217  11.000000   \n",
       " W FARWELL AVE                  1909.181818  2007.000000  18.000000   \n",
       " W FOSTER AVE                   1303.727273  2007.000000  79.000000   \n",
       " W FULLERTON AVE                6122.610000  2010.140000  61.000000   \n",
       " W GARFIELD BLVD                7884.868421  2011.657895  90.000000   \n",
       " W GRAND AVE                    5316.207547  2009.754717  25.000000   \n",
       " W GRANVILLE AVE                1970.857143  2007.000000  15.000000   \n",
       " W GREENLEAF AVE                6054.095238  2010.365079  12.000000   \n",
       " W HIGGINS AVE                  1778.555556  2007.000000  91.000000   \n",
       " W HIGGINS RD                   7338.942857  2011.228571  91.000000   \n",
       " W LELAND AVE                   2294.238095  2007.000000  18.000000   \n",
       " W MONTANA ST                   7611.516667  2011.233333  48.000000   \n",
       " W MONTROSE DR                  6461.342105  2010.447368  60.000000   \n",
       " W OHARE                        6750.828283  2010.555556  10.000000   \n",
       " W OHARE AIRPORT                7233.869318  2011.000000  10.000000   \n",
       " W PERSHING RD                  2172.928571  2007.000000  22.000000   \n",
       " W ROOSEVELT                    5633.907143  2009.914286  11.000000   \n",
       " W ROSCOE ST                    2344.000000  2007.000000  60.000000   \n",
       " W STRONG ST                    1985.714286  2007.000000  64.000000   \n",
       " W SUNNYSIDE AVE                2633.833333  2007.000000  49.000000   \n",
       " W WEBSTER AVE                  1365.645161  2007.064516  15.000000   \n",
       "\n",
       "                                 Latitude  Longitude  AddressAccuracy  \\\n",
       "Street                                                                  \n",
       "  W ARMITAGE AVENUE             41.916265 -87.800515         8.000000   \n",
       " E 105TH ST                     41.704572 -87.565666         8.000000   \n",
       " E 111TH ST                     41.692555 -87.598865         8.000000   \n",
       " E 115TH ST                     41.686398 -87.531635         8.000000   \n",
       " E 118TH ST                     41.680946 -87.535198         8.000000   \n",
       " E 130TH ST                     41.659112 -87.538693         8.000000   \n",
       " E 138TH ST                     41.644612 -87.604498         5.000000   \n",
       " E 67TH ST                      41.773215 -87.600880         8.000000   \n",
       " E 91ST PL                      41.728495 -87.600963         5.000000   \n",
       " E 91ST ST                      41.729669 -87.582699         5.000000   \n",
       " E RANDOLPH ST                  41.883284 -87.705085         8.000000   \n",
       " N ASHLAND AVE                  41.912563 -87.668055         9.000000   \n",
       " N ASHLAND AVE OVERPASS         41.878114 -87.629798         3.000000   \n",
       " N AUSTIN AVE                   41.953067 -87.776792         8.000000   \n",
       " N AVONDALE AVE                 41.990284 -87.797127         8.000000   \n",
       " N CALIFORNIA AVE               41.949830 -87.698457         9.000000   \n",
       " N CAMPBELL AVE                 41.963976 -87.691810         9.000000   \n",
       " N CANNON DR                    41.922213 -87.632186         8.000000   \n",
       " N CENTRAL PARK DR              41.899230 -87.716788         9.000000   \n",
       " N FRANCISCO AVE                41.932094 -87.700117         8.000000   \n",
       " N HARLEM AVE                   42.009876 -87.807277         9.000000   \n",
       " N HUMBOLDT DR                  41.906638 -87.701431         9.000000   \n",
       " N KEDVALE AVE                  41.948167 -87.730698         8.000000   \n",
       " N LARAMIE AVE                  41.904194 -87.756155         9.000000   \n",
       " N LAWLER AVE                   41.918705 -87.752329         8.000000   \n",
       " N LEMONT AVE                   41.991429 -87.747113         8.000000   \n",
       " N LONG AVE                     41.907645 -87.760886         8.000000   \n",
       " N MANDELL AVE                  41.994991 -87.769279         9.000000   \n",
       " N MCCLELLAN AVE                41.994679 -87.770899         8.000000   \n",
       " N MILWAUKEE AVE                41.964242 -87.757639         8.000000   \n",
       " N MONT CLARE AVE               41.973845 -87.805059         9.000000   \n",
       " N MOSELL AVE                   42.008314 -87.777921         9.000000   \n",
       " N OAK PARK AVE                 41.961720 -87.800136         8.841808   \n",
       " N OAKLEY AVE                   42.017430 -87.687769         8.000000   \n",
       " N OKETO AVE                    42.011601 -87.811506         8.000000   \n",
       " N PITTSBURGH AVE               41.944869 -87.832763         8.000000   \n",
       " N PULASKI RD                   41.950463 -87.727666         8.470588   \n",
       " N RICHMOND ST                  41.958271 -87.702575         9.000000   \n",
       " N RIDGE AVE                    41.987280 -87.666066         8.000000   \n",
       " N RUTHERFORD AVE               41.940160 -87.794896         9.000000   \n",
       " N SPRINGFIELD AVE              41.951866 -87.725057         8.000000   \n",
       " N STAVE ST                     41.919343 -87.694259         8.000000   \n",
       " N STREETER DR                  41.891126 -87.611560         5.000000   \n",
       " N TRIPP AVE                    41.953705 -87.733974         8.000000   \n",
       " N WESTERN AVE                  41.986921 -87.689778         9.000000   \n",
       " S ARTESIAN AVE                 41.903002 -87.688267         8.000000   \n",
       " S ASHLAND AVE                  41.848129 -87.666657         9.000000   \n",
       " S AVENUE G                     41.717753 -87.531657         8.000000   \n",
       " S AVENUE L                     41.702724 -87.536497         5.000000   \n",
       " S BRANDON                      41.740641 -87.546587         5.000000   \n",
       " S CALIFORNIA                   41.868142 -87.696269         9.000000   \n",
       " S CALIFORNIA AVE               41.869107 -87.696293         9.000000   \n",
       " S CARPENTER ST                 41.732984 -87.649642         8.000000   \n",
       " S CENTRAL AVE                  41.801498 -87.763416         9.000000   \n",
       " S CHICAGO AVE                  41.754292 -87.590773         9.000000   \n",
       " S CICERO AVE                   41.759346 -87.745602         9.000000   \n",
       " S CORNELL AVE                  41.799282 -87.585487         8.000000   \n",
       " S COTTAGE GROVE                41.750498 -87.605294         5.000000   \n",
       " S DEARBORN ST                  41.821582 -87.627796         9.000000   \n",
       " S DOTY AVE                     41.673408 -87.599862         5.000000   \n",
       " S DR MARTIN LUTHER KING JR DR  41.739370 -87.614604         8.000000   \n",
       " S EBERHART AVE                 41.754676 -87.612922         9.000000   \n",
       " S HAMLIN AVE                   41.852652 -87.719887         8.000000   \n",
       " S HOYNE AVE                    41.783851 -87.676548         8.448980   \n",
       " S KEDZIE AVE                   41.769676 -87.703019         8.083333   \n",
       " S KILPATRICK AVE               41.772846 -87.740029         9.000000   \n",
       " S KOLMAR                       41.798697 -87.736812         8.000000   \n",
       " S KOSTNER AVE                  41.743402 -87.731435         8.000000   \n",
       " S LONGWOOD DR                  41.719140 -87.669539         9.000000   \n",
       " S MACKINAW                     41.737052 -87.543067         5.000000   \n",
       " S MELVINA AVE                  41.781416 -87.776532         8.000000   \n",
       " S MILLARD AVE                  41.846075 -87.716277         9.000000   \n",
       " S MUSKEGON AVE                 41.733643 -87.555510         8.000000   \n",
       " S NORDICA                      41.797616 -87.797894         8.000000   \n",
       " S PEORIA ST                    41.862292 -87.648860         8.000000   \n",
       " S PULASKI RD                   41.825610 -87.726549         9.000000   \n",
       " S RACINE AVE                   41.775051 -87.655356         9.000000   \n",
       " S SOUTH SHORE DR               41.766202 -87.562889         9.000000   \n",
       " S STATE ST                     41.869216 -87.627561         8.000000   \n",
       " S STONY ISLAND AVE             41.736307 -87.585604         5.564706   \n",
       " S THROOP                       41.846283 -87.656913         9.000000   \n",
       " S TORRENCE AVE                 41.678618 -87.559308         5.000000   \n",
       " S UNION AVE                    41.803423 -87.642984         8.000000   \n",
       " S VINCENNES                    41.723195 -87.649970         5.000000   \n",
       " S WALLACE ST                   41.753411 -87.639817         5.000000   \n",
       " S WESTERN AVE                  41.843811 -87.686763         9.000000   \n",
       " W 104TH ST                     41.704336 -87.703736         8.000000   \n",
       " W 113TH ST                     41.688324 -87.676709         8.000000   \n",
       " W 116TH ST                     41.682587 -87.707973         9.000000   \n",
       " W 127TH PL                     41.662014 -87.724608         8.000000   \n",
       " W 18TH ST                      41.857402 -87.694991         8.000000   \n",
       " W 31ST ST                      41.837085 -87.729384         9.000000   \n",
       " W 37TH PL.                     41.825902 -87.667827         5.000000   \n",
       " W 51ST ST                      41.800985 -87.693681         8.000000   \n",
       " W 63RD ST                      41.778297 -87.752411         9.000000   \n",
       " W 64TH ST                      41.776156 -87.778927         9.000000   \n",
       " W 65TH ST                      41.776428 -87.627096         8.000000   \n",
       " W 69TH ST                      41.768388 -87.678649         8.000000   \n",
       " W 72ND ST                      41.763733 -87.742302         8.000000   \n",
       " W 77TH ST                      41.753391 -87.707394         8.000000   \n",
       " W 85TH ST                      41.738903 -87.695443         8.000000   \n",
       " W 89TH ST                      41.731922 -87.677512         8.000000   \n",
       " W 95TH ST                      41.720971 -87.662473         8.802721   \n",
       " W ADDISON ST                   41.947227 -87.671457         9.000000   \n",
       " W AGATITE AVE                  41.961743 -87.760070         9.000000   \n",
       " W BALMORAL AVE                 41.979243 -87.750938         9.000000   \n",
       " W BELDEN AVE                   41.921177 -87.795180         8.000000   \n",
       " W CHICAGO                      41.896282 -87.655232         8.000000   \n",
       " W FARWELL AVE                  42.006858 -87.675919         9.000000   \n",
       " W FOSTER AVE                   41.974089 -87.824812         8.000000   \n",
       " W FULLERTON AVE                41.923738 -87.785288         9.000000   \n",
       " W GARFIELD BLVD                41.793818 -87.654234         5.000000   \n",
       " W GRAND AVE                    41.891118 -87.654491         8.000000   \n",
       " W GRANVILLE AVE                41.994469 -87.667736         8.000000   \n",
       " W GREENLEAF AVE                42.010412 -87.662140         8.000000   \n",
       " W HIGGINS AVE                  41.981964 -87.812827         8.000000   \n",
       " W HIGGINS RD                   41.992478 -87.862995         8.000000   \n",
       " W LELAND AVE                   41.966987 -87.674677         8.000000   \n",
       " W MONTANA ST                   41.925198 -87.746381         8.000000   \n",
       " W MONTROSE DR                  41.960616 -87.777189         9.000000   \n",
       " W OHARE                        41.957799 -87.930995         5.000000   \n",
       " W OHARE AIRPORT                41.974689 -87.890615         9.000000   \n",
       " W PERSHING RD                  41.823065 -87.678378         8.000000   \n",
       " W ROOSEVELT                    41.867108 -87.654224         8.000000   \n",
       " W ROSCOE ST                    41.942114 -87.776385         8.000000   \n",
       " W STRONG ST                    41.970248 -87.787992         8.000000   \n",
       " W SUNNYSIDE AVE                41.962728 -87.748367         9.000000   \n",
       " W WEBSTER AVE                  41.921600 -87.666455         8.000000   \n",
       "\n",
       "                                WnvPresent  NumMosquitos_sum  \n",
       "Street                                                        \n",
       "  W ARMITAGE AVENUE               0.041958         13.832168  \n",
       " E 105TH ST                       0.056452         39.064516  \n",
       " E 111TH ST                       0.047619          4.142857  \n",
       " E 115TH ST                       0.081081         26.351351  \n",
       " E 118TH ST                       0.024590         23.319672  \n",
       " E 130TH ST                       0.074468         21.265957  \n",
       " E 138TH ST                       0.066667          8.600000  \n",
       " E 67TH ST                        0.032787          6.950820  \n",
       " E 91ST PL                        0.057143         15.471429  \n",
       " E 91ST ST                        0.090909          3.909091  \n",
       " E RANDOLPH ST                    0.000000          2.615385  \n",
       " N ASHLAND AVE                    0.040816          5.836735  \n",
       " N ASHLAND AVE OVERPASS           0.012821          5.102564  \n",
       " N AUSTIN AVE                     0.058824          3.411765  \n",
       " N AVONDALE AVE                   0.166667          4.458333  \n",
       " N CALIFORNIA AVE                 0.000000          3.272727  \n",
       " N CAMPBELL AVE                   0.042105          7.505263  \n",
       " N CANNON DR                      0.044776          9.694030  \n",
       " N CENTRAL PARK DR                0.065421         19.654206  \n",
       " N FRANCISCO AVE                  0.040816          4.989796  \n",
       " N HARLEM AVE                     0.122449         21.816327  \n",
       " N HUMBOLDT DR                    0.053191          8.106383  \n",
       " N KEDVALE AVE                    0.027778          5.486111  \n",
       " N LARAMIE AVE                    0.111111         10.222222  \n",
       " N LAWLER AVE                     0.100000          9.400000  \n",
       " N LEMONT AVE                     0.041237          9.814433  \n",
       " N LONG AVE                       0.000000          6.864865  \n",
       " N MANDELL AVE                    0.000000          3.347826  \n",
       " N MCCLELLAN AVE                  0.031250         11.718750  \n",
       " N MILWAUKEE AVE                  0.123894         12.380531  \n",
       " N MONT CLARE AVE                 0.118421         18.039474  \n",
       " N MOSELL AVE                     0.079646         23.699115  \n",
       " N OAK PARK AVE                   0.112994         24.598870  \n",
       " N OAKLEY AVE                     0.000000          3.153846  \n",
       " N OKETO AVE                      0.087719         16.578947  \n",
       " N PITTSBURGH AVE                 0.087302         11.007937  \n",
       " N PULASKI RD                     0.064706          6.294118  \n",
       " N RICHMOND ST                    0.000000          3.931034  \n",
       " N RIDGE AVE                      0.097561         15.780488  \n",
       " N RUTHERFORD AVE                 0.028571          9.985714  \n",
       " N SPRINGFIELD AVE                0.096774         13.564516  \n",
       " N STAVE ST                       0.000000          4.250000  \n",
       " N STREETER DR                    0.000000          2.571429  \n",
       " N TRIPP AVE                      0.000000          1.785714  \n",
       " N WESTERN AVE                    0.080357          9.089286  \n",
       " S ARTESIAN AVE                   0.045977          7.563218  \n",
       " S ASHLAND AVE                    0.037190         10.632231  \n",
       " S AVENUE G                       0.000000         10.863636  \n",
       " S AVENUE L                       0.114286        106.428571  \n",
       " S BRANDON                        0.023438          8.695312  \n",
       " S CALIFORNIA                     0.027273          9.063636  \n",
       " S CALIFORNIA AVE                 0.000000          4.833333  \n",
       " S CARPENTER ST                   0.038462         12.894231  \n",
       " S CENTRAL AVE                    0.035714         11.792857  \n",
       " S CHICAGO AVE                    0.029851          4.925373  \n",
       " S CICERO AVE                     0.040000          7.880000  \n",
       " S CORNELL AVE                    0.000000          2.777778  \n",
       " S COTTAGE GROVE                  0.018349          7.935780  \n",
       " S DEARBORN ST                    0.071429          5.404762  \n",
       " S DOTY AVE                       0.094937        230.500000  \n",
       " S DR MARTIN LUTHER KING JR DR    0.040000          3.800000  \n",
       " S EBERHART AVE                   0.022472          5.146067  \n",
       " S HAMLIN AVE                     0.000000          3.000000  \n",
       " S HOYNE AVE                      0.020408          4.408163  \n",
       " S KEDZIE AVE                     0.050000         13.091667  \n",
       " S KILPATRICK AVE                 0.050000          3.050000  \n",
       " S KOLMAR                         0.070312         17.562500  \n",
       " S KOSTNER AVE                    0.126437         27.528736  \n",
       " S LONGWOOD DR                    0.000000          8.200000  \n",
       " S MACKINAW                       0.000000          3.095238  \n",
       " S MELVINA AVE                    0.000000          3.470588  \n",
       " S MILLARD AVE                    0.021739          4.326087  \n",
       " S MUSKEGON AVE                   0.000000          3.045455  \n",
       " S NORDICA                        0.117647          5.294118  \n",
       " S PEORIA ST                      0.034483          4.655172  \n",
       " S PULASKI RD                     0.019608          5.774510  \n",
       " S RACINE AVE                     0.000000          2.833333  \n",
       " S SOUTH SHORE DR                 0.012987          4.324675  \n",
       " S STATE ST                       0.000000          4.956522  \n",
       " S STONY ISLAND AVE               0.058824         95.864706  \n",
       " S THROOP                         0.000000          2.200000  \n",
       " S TORRENCE AVE                   0.010000         14.160000  \n",
       " S UNION AVE                      0.086957         11.304348  \n",
       " S VINCENNES                      0.044444          4.155556  \n",
       " S WALLACE ST                     0.000000          3.500000  \n",
       " S WESTERN AVE                    0.000000          3.200000  \n",
       " W 104TH ST                       0.057471          6.793103  \n",
       " W 113TH ST                       0.155556         36.422222  \n",
       " W 116TH ST                       0.040650         22.382114  \n",
       " W 127TH PL                       0.052288         24.418301  \n",
       " W 18TH ST                        0.000000          3.163934  \n",
       " W 31ST ST                        0.045455          2.363636  \n",
       " W 37TH PL.                       0.000000          3.357143  \n",
       " W 51ST ST                        0.050000          8.127778  \n",
       " W 63RD ST                        0.039216         10.852941  \n",
       " W 64TH ST                        0.075000          6.575000  \n",
       " W 65TH ST                        0.114754          9.131148  \n",
       " W 69TH ST                        0.012987          5.649351  \n",
       " W 72ND ST                        0.044444          4.777778  \n",
       " W 77TH ST                        0.000000          4.857143  \n",
       " W 85TH ST                        0.000000          6.000000  \n",
       " W 89TH ST                        0.108696         13.369565  \n",
       " W 95TH ST                        0.034014          9.346939  \n",
       " W ADDISON ST                     0.018519          5.259259  \n",
       " W AGATITE AVE                    0.000000          1.857143  \n",
       " W BALMORAL AVE                   0.000000          3.043478  \n",
       " W BELDEN AVE                     0.038462          6.500000  \n",
       " W CHICAGO                        0.012048          3.132530  \n",
       " W FARWELL AVE                    0.000000          2.545455  \n",
       " W FOSTER AVE                     0.121212          5.454545  \n",
       " W FULLERTON AVE                  0.100000         13.260000  \n",
       " W GARFIELD BLVD                  0.052632         11.868421  \n",
       " W GRAND AVE                      0.000000          5.811321  \n",
       " W GRANVILLE AVE                  0.000000          1.071429  \n",
       " W GREENLEAF AVE                  0.000000          1.920635  \n",
       " W HIGGINS AVE                    0.111111         17.148148  \n",
       " W HIGGINS RD                     0.071429         22.971429  \n",
       " W LELAND AVE                     0.000000          2.380952  \n",
       " W MONTANA ST                     0.016667          5.000000  \n",
       " W MONTROSE DR                    0.000000          3.039474  \n",
       " W OHARE                          0.090909         25.191919  \n",
       " W OHARE AIRPORT                  0.159091        111.000000  \n",
       " W PERSHING RD                    0.000000          1.642857  \n",
       " W ROOSEVELT                      0.028571         13.242857  \n",
       " W ROSCOE ST                      0.142857          3.571429  \n",
       " W STRONG ST                      0.142857         13.000000  \n",
       " W SUNNYSIDE AVE                  0.000000          4.916667  \n",
       " W WEBSTER AVE                    0.096774         14.806452  "
      ]
     },
     "execution_count": 30,
     "metadata": {},
     "output_type": "execute_result"
    }
   ],
   "source": [
    "train.groupby('Street').mean()"
   ]
  },
  {
   "cell_type": "code",
   "execution_count": 31,
   "metadata": {},
   "outputs": [],
   "source": [
    "# train[['Date','Street', 'NumMosquitos']].loc[291:298]"
   ]
  },
  {
   "cell_type": "markdown",
   "metadata": {},
   "source": [
    "## Months where the WNV presence is large"
   ]
  },
  {
   "cell_type": "code",
   "execution_count": 32,
   "metadata": {},
   "outputs": [],
   "source": [
    "# Insert the months\n",
    "train.insert(2,'month',train['Date'].dt.month_name())"
   ]
  },
  {
   "cell_type": "code",
   "execution_count": 33,
   "metadata": {},
   "outputs": [
    {
     "data": {
      "image/png": "[encoded data removed]",
      "text/plain": [
       "<Figure size 792x504 with 1 Axes>"
      ]
     },
     "metadata": {},
     "output_type": "display_data"
    }
   ],
   "source": [
    "train.groupby('month').sum()['WnvPresent'].sort_values(ascending=False).plot(kind='bar',\n",
    "                                                                            title='Frequency of WNV by months', figsize=(11,7));"
   ]
  },
  {
   "cell_type": "markdown",
   "metadata": {},
   "source": [
    "`August` is the highest occurrence of WNV followed by a large dip in `September`."
   ]
  },
  {
   "cell_type": "markdown",
   "metadata": {},
   "source": [
    "## How many species there are and if there is a greater incidence of WNV in certain species\n",
    "\n",
    "**Main culprit: Culex Tarsalis**"
   ]
  },
  {
   "cell_type": "code",
   "execution_count": 34,
   "metadata": {},
   "outputs": [
    {
     "data": {
      "text/plain": [
       "array(['CULEX PIPIENS/RESTUANS', 'CULEX RESTUANS', 'CULEX PIPIENS',\n",
       "       'CULEX SALINARIUS', 'CULEX TERRITANS', 'CULEX TARSALIS',\n",
       "       'CULEX ERRATICUS'], dtype=object)"
      ]
     },
     "execution_count": 34,
     "metadata": {},
     "output_type": "execute_result"
    }
   ],
   "source": [
    "# Species of mosquitos\n",
    "train['Species'].unique()"
   ]
  },
  {
   "cell_type": "code",
   "execution_count": 35,
   "metadata": {},
   "outputs": [
    {
     "data": {
      "text/plain": [
       "7"
      ]
     },
     "execution_count": 35,
     "metadata": {},
     "output_type": "execute_result"
    }
   ],
   "source": [
    "# A total of 7 species of mosquitos in the dataset\n",
    "train['Species'].nunique()"
   ]
  },
  {
   "cell_type": "code",
   "execution_count": 36,
   "metadata": {},
   "outputs": [
    {
     "data": {
      "text/html": [
       "<div>\n",
       "<style scoped>\n",
       "    .dataframe tbody tr th:only-of-type {\n",
       "        vertical-align: middle;\n",
       "    }\n",
       "\n",
       "    .dataframe tbody tr th {\n",
       "        vertical-align: top;\n",
       "    }\n",
       "\n",
       "    .dataframe thead th {\n",
       "        text-align: right;\n",
       "    }\n",
       "</style>\n",
       "<table border=\"1\" class=\"dataframe\">\n",
       "  <thead>\n",
       "    <tr style=\"text-align: right;\">\n",
       "      <th></th>\n",
       "      <th>WnvPresent</th>\n",
       "    </tr>\n",
       "    <tr>\n",
       "      <th>Species</th>\n",
       "      <th></th>\n",
       "    </tr>\n",
       "  </thead>\n",
       "  <tbody>\n",
       "    <tr>\n",
       "      <th>CULEX PIPIENS/RESTUANS</th>\n",
       "      <td>224</td>\n",
       "    </tr>\n",
       "    <tr>\n",
       "      <th>CULEX PIPIENS</th>\n",
       "      <td>184</td>\n",
       "    </tr>\n",
       "    <tr>\n",
       "      <th>CULEX RESTUANS</th>\n",
       "      <td>48</td>\n",
       "    </tr>\n",
       "    <tr>\n",
       "      <th>CULEX ERRATICUS</th>\n",
       "      <td>0</td>\n",
       "    </tr>\n",
       "    <tr>\n",
       "      <th>CULEX SALINARIUS</th>\n",
       "      <td>0</td>\n",
       "    </tr>\n",
       "    <tr>\n",
       "      <th>CULEX TARSALIS</th>\n",
       "      <td>0</td>\n",
       "    </tr>\n",
       "    <tr>\n",
       "      <th>CULEX TERRITANS</th>\n",
       "      <td>0</td>\n",
       "    </tr>\n",
       "  </tbody>\n",
       "</table>\n",
       "</div>"
      ],
      "text/plain": [
       "                        WnvPresent\n",
       "Species                           \n",
       "CULEX PIPIENS/RESTUANS         224\n",
       "CULEX PIPIENS                  184\n",
       "CULEX RESTUANS                  48\n",
       "CULEX ERRATICUS                  0\n",
       "CULEX SALINARIUS                 0\n",
       "CULEX TARSALIS                   0\n",
       "CULEX TERRITANS                  0"
      ]
     },
     "execution_count": 36,
     "metadata": {},
     "output_type": "execute_result"
    }
   ],
   "source": [
    "# Mosquito species with WNV present\n",
    "train[['Species','WnvPresent']].groupby('Species').sum().sort_values(by='WnvPresent',ascending=False)"
   ]
  },
  {
   "cell_type": "code",
   "execution_count": 37,
   "metadata": {},
   "outputs": [
    {
     "data": {
      "image/png": "[encoded data removed]",
      "text/plain": [
       "<Figure size 792x504 with 1 Axes>"
      ]
     },
     "metadata": {},
     "output_type": "display_data"
    }
   ],
   "source": [
    "train[['Species','WnvPresent']].groupby('Species').sum().plot(kind='bar', figsize=(11,7), title=\"WNV Presence in Mosquitos Species\");"
   ]
  },
  {
   "cell_type": "markdown",
   "metadata": {},
   "source": [
    "The most common type of mosquito to have west nile virus in them is the `CULEX PIPIENS` and the `CULEX RESTUANS`. `CULEX PIPIENS/RESTUANS` means either one or unable to identify?"
   ]
  },
  {
   "cell_type": "markdown",
   "metadata": {},
   "source": [
    "# Address Accuracy exploration"
   ]
  },
  {
   "cell_type": "code",
   "execution_count": 38,
   "metadata": {},
   "outputs": [
    {
     "data": {
      "text/plain": [
       "array([9, 8, 5, 3], dtype=int64)"
      ]
     },
     "execution_count": 38,
     "metadata": {},
     "output_type": "execute_result"
    }
   ],
   "source": [
    "train['AddressAccuracy'].unique()"
   ]
  },
  {
   "cell_type": "markdown",
   "metadata": {},
   "source": [
    "AddressAccuracy: accuracy returned from GeoCoder\n",
    "\n",
    "Geocoding is the process of **taking a text-based description of a location**, such as an **address** or the **name of a place**, and returning **geographic coordinates, frequently latitude/longitude pair**, to identify a location on the Earth's surface."
   ]
  },
  {
   "cell_type": "markdown",
   "metadata": {},
   "source": [
    "There are some inaccurate latitude and longitude with 5's and 3's in them, possible to drop the rows as they're inaccurate?"
   ]
  },
  {
   "cell_type": "code",
   "execution_count": 39,
   "metadata": {},
   "outputs": [
    {
     "data": {
      "text/plain": [
       "0.13891809790863419"
      ]
     },
     "execution_count": 39,
     "metadata": {},
     "output_type": "execute_result"
    }
   ],
   "source": [
    "# They make up 18% of the data\n",
    "len(train[(train['AddressAccuracy'] == 3) | (train['AddressAccuracy'] == 5)]) / len(train)"
   ]
  },
  {
   "cell_type": "code",
   "execution_count": 40,
   "metadata": {},
   "outputs": [
    {
     "data": {
      "text/plain": [
       "8    49.152938\n",
       "9    36.955252\n",
       "5    12.980488\n",
       "3     0.911321\n",
       "Name: AddressAccuracy, dtype: float64"
      ]
     },
     "execution_count": 40,
     "metadata": {},
     "output_type": "execute_result"
    }
   ],
   "source": [
    "train['AddressAccuracy'].value_counts(normalize=True)*100"
   ]
  },
  {
   "cell_type": "code",
   "execution_count": 41,
   "metadata": {},
   "outputs": [
    {
     "data": {
      "text/plain": [
       "(7370, 15)"
      ]
     },
     "execution_count": 41,
     "metadata": {},
     "output_type": "execute_result"
    }
   ],
   "source": [
    "# Drop the rows where address accuracy is 3 or 5\n",
    "train = train.drop(train[(train['AddressAccuracy'] == 5) | (train['AddressAccuracy'] == 3)].index, axis='rows')\n",
    "train.shape"
   ]
  },
  {
   "cell_type": "markdown",
   "metadata": {},
   "source": [
    "## Plot the latitude and longitude to detect the WNV hotspots"
   ]
  },
  {
   "cell_type": "code",
   "execution_count": 42,
   "metadata": {},
   "outputs": [
    {
     "data": {
      "text/html": [
       "<div>\n",
       "<style scoped>\n",
       "    .dataframe tbody tr th:only-of-type {\n",
       "        vertical-align: middle;\n",
       "    }\n",
       "\n",
       "    .dataframe tbody tr th {\n",
       "        vertical-align: top;\n",
       "    }\n",
       "\n",
       "    .dataframe thead th {\n",
       "        text-align: right;\n",
       "    }\n",
       "</style>\n",
       "<table border=\"1\" class=\"dataframe\">\n",
       "  <thead>\n",
       "    <tr style=\"text-align: right;\">\n",
       "      <th></th>\n",
       "      <th>index</th>\n",
       "      <th>year</th>\n",
       "      <th>month</th>\n",
       "      <th>Date</th>\n",
       "      <th>Address</th>\n",
       "      <th>Species</th>\n",
       "      <th>Block</th>\n",
       "      <th>Street</th>\n",
       "      <th>Trap</th>\n",
       "      <th>AddressNumberAndStreet</th>\n",
       "      <th>Latitude</th>\n",
       "      <th>Longitude</th>\n",
       "      <th>AddressAccuracy</th>\n",
       "      <th>WnvPresent</th>\n",
       "      <th>NumMosquitos_sum</th>\n",
       "    </tr>\n",
       "  </thead>\n",
       "  <tbody>\n",
       "    <tr>\n",
       "      <th>0</th>\n",
       "      <td>0</td>\n",
       "      <td>2007</td>\n",
       "      <td>May</td>\n",
       "      <td>2007-05-29</td>\n",
       "      <td>4100 North Oak Park Avenue, Chicago, IL 60634,...</td>\n",
       "      <td>CULEX PIPIENS/RESTUANS</td>\n",
       "      <td>41</td>\n",
       "      <td>N OAK PARK AVE</td>\n",
       "      <td>T002</td>\n",
       "      <td>4100  N OAK PARK AVE, Chicago, IL</td>\n",
       "      <td>41.954690</td>\n",
       "      <td>-87.800991</td>\n",
       "      <td>9</td>\n",
       "      <td>0</td>\n",
       "      <td>1.0</td>\n",
       "    </tr>\n",
       "    <tr>\n",
       "      <th>1</th>\n",
       "      <td>1</td>\n",
       "      <td>2007</td>\n",
       "      <td>May</td>\n",
       "      <td>2007-05-29</td>\n",
       "      <td>4100 North Oak Park Avenue, Chicago, IL 60634,...</td>\n",
       "      <td>CULEX RESTUANS</td>\n",
       "      <td>41</td>\n",
       "      <td>N OAK PARK AVE</td>\n",
       "      <td>T002</td>\n",
       "      <td>4100  N OAK PARK AVE, Chicago, IL</td>\n",
       "      <td>41.954690</td>\n",
       "      <td>-87.800991</td>\n",
       "      <td>9</td>\n",
       "      <td>0</td>\n",
       "      <td>1.0</td>\n",
       "    </tr>\n",
       "    <tr>\n",
       "      <th>2</th>\n",
       "      <td>2</td>\n",
       "      <td>2007</td>\n",
       "      <td>May</td>\n",
       "      <td>2007-05-29</td>\n",
       "      <td>6200 North Mandell Avenue, Chicago, IL 60646, USA</td>\n",
       "      <td>CULEX RESTUANS</td>\n",
       "      <td>62</td>\n",
       "      <td>N MANDELL AVE</td>\n",
       "      <td>T007</td>\n",
       "      <td>6200  N MANDELL AVE, Chicago, IL</td>\n",
       "      <td>41.994991</td>\n",
       "      <td>-87.769279</td>\n",
       "      <td>9</td>\n",
       "      <td>0</td>\n",
       "      <td>1.0</td>\n",
       "    </tr>\n",
       "  </tbody>\n",
       "</table>\n",
       "</div>"
      ],
      "text/plain": [
       "   index  year month       Date  \\\n",
       "0      0  2007   May 2007-05-29   \n",
       "1      1  2007   May 2007-05-29   \n",
       "2      2  2007   May 2007-05-29   \n",
       "\n",
       "                                             Address                 Species  \\\n",
       "0  4100 North Oak Park Avenue, Chicago, IL 60634,...  CULEX PIPIENS/RESTUANS   \n",
       "1  4100 North Oak Park Avenue, Chicago, IL 60634,...          CULEX RESTUANS   \n",
       "2  6200 North Mandell Avenue, Chicago, IL 60646, USA          CULEX RESTUANS   \n",
       "\n",
       "   Block           Street  Trap             AddressNumberAndStreet   Latitude  \\\n",
       "0     41   N OAK PARK AVE  T002  4100  N OAK PARK AVE, Chicago, IL  41.954690   \n",
       "1     41   N OAK PARK AVE  T002  4100  N OAK PARK AVE, Chicago, IL  41.954690   \n",
       "2     62    N MANDELL AVE  T007   6200  N MANDELL AVE, Chicago, IL  41.994991   \n",
       "\n",
       "   Longitude  AddressAccuracy  WnvPresent  NumMosquitos_sum  \n",
       "0 -87.800991                9           0               1.0  \n",
       "1 -87.800991                9           0               1.0  \n",
       "2 -87.769279                9           0               1.0  "
      ]
     },
     "execution_count": 42,
     "metadata": {},
     "output_type": "execute_result"
    }
   ],
   "source": [
    "train.head(3)"
   ]
  },
  {
   "cell_type": "code",
   "execution_count": 43,
   "metadata": {},
   "outputs": [
    {
     "data": {
      "image/png": "[encoded data removed]",
      "text/plain": [
       "<Figure size 792x504 with 1 Axes>"
      ]
     },
     "metadata": {},
     "output_type": "display_data"
    }
   ],
   "source": [
    "plt.figure(figsize=(11,7))\n",
    "sns.scatterplot(x='Longitude', y='Latitude', data=train, hue='WnvPresent', palette='rainbow', s=100)\n",
    "plt.title('Presence of West Nile Virus based on Longitude and Latitude', fontsize=15)\n",
    "plt.axvline(x=-87.78, color='r', lw=2)\n",
    "plt.axvline(x=-87.735, color='r', lw=2);"
   ]
  },
  {
   "cell_type": "markdown",
   "metadata": {},
   "source": [
    "There are only **5 hotspots with the WNV** among the entire area throughout the years."
   ]
  },
  {
   "cell_type": "code",
   "execution_count": 44,
   "metadata": {},
   "outputs": [
    {
     "data": {
      "text/plain": [
       " N MILWAUKEE AVE     0.144330\n",
       " W FULLERTON AVE     0.103093\n",
       " S KOLMAR            0.092784\n",
       " N MOSELL AVE        0.092784\n",
       " N LARAMIE AVE       0.072165\n",
       " W 64TH ST           0.061856\n",
       " N OAK PARK AVE      0.051546\n",
       " S CENTRAL AVE       0.051546\n",
       " W STRONG ST         0.041237\n",
       " W 63RD ST           0.041237\n",
       " N AVONDALE AVE      0.041237\n",
       " N LEMONT AVE        0.041237\n",
       " N RUTHERFORD AVE    0.020619\n",
       " N LAWLER AVE        0.020619\n",
       " W 72ND ST           0.020619\n",
       " W ROSCOE ST         0.020619\n",
       " S NORDICA           0.020619\n",
       " S KILPATRICK AVE    0.010309\n",
       " N AUSTIN AVE        0.010309\n",
       " S CICERO AVE        0.010309\n",
       " W MONTANA ST        0.010309\n",
       " N MCCLELLAN AVE     0.010309\n",
       " W BELDEN AVE        0.010309\n",
       "Name: Street, dtype: float64"
      ]
     },
     "execution_count": 44,
     "metadata": {},
     "output_type": "execute_result"
    }
   ],
   "source": [
    "narrow_location = train[(train['Longitude'] > -87.80) & (train['Longitude'] < -87.735)]\n",
    "narrow_location[narrow_location['WnvPresent'] == 1]['Street'].value_counts(normalize=True)"
   ]
  },
  {
   "cell_type": "markdown",
   "metadata": {},
   "source": [
    "These are the areas which have the WNV in them"
   ]
  },
  {
   "cell_type": "markdown",
   "metadata": {},
   "source": [
    "## Type of mosquitos in the area"
   ]
  },
  {
   "cell_type": "code",
   "execution_count": 45,
   "metadata": {},
   "outputs": [
    {
     "data": {
      "text/plain": [
       "<AxesSubplot:xlabel='Longitude', ylabel='Latitude'>"
      ]
     },
     "execution_count": 45,
     "metadata": {},
     "output_type": "execute_result"
    },
    {
     "data": {
      "image/png": "[encoded data removed]",
      "text/plain": [
       "<Figure size 792x504 with 1 Axes>"
      ]
     },
     "metadata": {},
     "output_type": "display_data"
    }
   ],
   "source": [
    "plt.figure(figsize=(11,7))\n",
    "sns.scatterplot(x='Longitude', y='Latitude', data=train, hue='Species')"
   ]
  },
  {
   "cell_type": "markdown",
   "metadata": {},
   "source": [
    "Does not seem to show any relationship. `PIPIENS/RESTUANS`seems to be the dominant species."
   ]
  },
  {
   "cell_type": "code",
   "execution_count": null,
   "metadata": {},
   "outputs": [],
   "source": []
  },
  {
   "cell_type": "markdown",
   "metadata": {},
   "source": [
    "# Satellite traps"
   ]
  },
  {
   "cell_type": "markdown",
   "metadata": {},
   "source": [
    "\n",
    "Disease surveillance is an information-based activity involving the collection, analysis and interpretation of large volumes of data originating from a variety of sources.\n",
    "\n",
    "The information collated is then used in a number of ways to:\n",
    "\n",
    "* Evaluate the effectiveness of control and preventative health measures\n",
    "* Monitor changes in infectious agents e.g. trends in development of antimicrobial resistance\n",
    "* Support health planning and the allocation of appropriate resources within the healthcare system.\n",
    "* Identify high risk populations or areas to target interventions\n",
    "* Provide a valuable archive of disease activity for future reference.\n"
   ]
  },
  {
   "cell_type": "code",
   "execution_count": 46,
   "metadata": {},
   "outputs": [
    {
     "data": {
      "text/plain": [
       "6981    T094B\n",
       "6982    T094B\n",
       "7115    T094B\n",
       "7252    T094B\n",
       "7253    T094B\n",
       "7703    T054C\n",
       "7842    T054C\n",
       "7843    T054C\n",
       "7995    T054C\n",
       "7996    T054C\n",
       "8112    T054C\n",
       "8240    T054C\n",
       "8364    T054C\n",
       "8470    T054C\n",
       "Name: Trap, dtype: object"
      ]
     },
     "execution_count": 46,
     "metadata": {},
     "output_type": "execute_result"
    }
   ],
   "source": [
    "# There are 14 places with Satellite traps in them\n",
    "satellite_traps = train[train['Trap'].str.contains('T\\d{3}[a-zA-Z]',regex=True)]['Trap']\n",
    "satellite_traps"
   ]
  },
  {
   "cell_type": "code",
   "execution_count": 47,
   "metadata": {},
   "outputs": [
    {
     "data": {
      "text/plain": [
       "array([' S LONGWOOD DR', ' N CANNON DR'], dtype=object)"
      ]
     },
     "execution_count": 47,
     "metadata": {},
     "output_type": "execute_result"
    }
   ],
   "source": [
    "# These traps are located in these streets\n",
    "train.loc[satellite_traps.index]['Street'].unique()"
   ]
  },
  {
   "cell_type": "markdown",
   "metadata": {},
   "source": [
    "## Distribution of the number of mosquitos"
   ]
  },
  {
   "cell_type": "code",
   "execution_count": 48,
   "metadata": {},
   "outputs": [
    {
     "data": {
      "text/plain": [
       "Text(0.5, 1.0, 'Distribution of the mosquitos caught')"
      ]
     },
     "execution_count": 48,
     "metadata": {},
     "output_type": "execute_result"
    },
    {
     "data": {
      "image/png": "[encoded data removed]",
      "text/plain": [
       "<Figure size 792x504 with 1 Axes>"
      ]
     },
     "metadata": {},
     "output_type": "display_data"
    }
   ],
   "source": [
    "plt.figure(figsize=(11,7))\n",
    "sns.histplot(data=train['NumMosquitos_sum'],bins=50)\n",
    "\n",
    "plt.title('Distribution of the mosquitos caught')"
   ]
  },
  {
   "cell_type": "markdown",
   "metadata": {},
   "source": [
    "1~2 mosquitos was caught most of the time, but there seems to be an outlier value of 50 mosquitos caught."
   ]
  },
  {
   "cell_type": "code",
   "execution_count": 49,
   "metadata": {},
   "outputs": [
    {
     "data": {
      "image/png": "[encoded data removed]",
      "text/plain": [
       "<Figure size 648x648 with 1 Axes>"
      ]
     },
     "metadata": {},
     "output_type": "display_data"
    }
   ],
   "source": [
    "plt.figure(figsize=(9,9))\n",
    "sns.boxplot(data=train['NumMosquitos_sum'], orient='h')\n",
    "plt.title('Box plot of Number of Mosquitos')\n",
    "plt.xlabel('Count of number of Mosquitos caught')\n",
    "plt.yticks(ticks=[]);"
   ]
  },
  {
   "cell_type": "code",
   "execution_count": 52,
   "metadata": {},
   "outputs": [
    {
     "data": {
      "text/plain": [
       "1.0     25.264586\n",
       "2.0     13.554953\n",
       "3.0      9.389417\n",
       "4.0      6.200814\n",
       "5.0      5.359566\n",
       "6.0      4.165536\n",
       "7.0      3.459973\n",
       "8.0      2.455902\n",
       "9.0      2.442334\n",
       "10.0     1.967436\n",
       "Name: NumMosquitos_sum, dtype: float64"
      ]
     },
     "execution_count": 52,
     "metadata": {},
     "output_type": "execute_result"
    }
   ],
   "source": [
    "# About 4% of the total mosquitos caught are 4%\n",
    "train['NumMosquitos_sum'].value_counts(normalize=True)[:10] * 100"
   ]
  },
  {
   "cell_type": "code",
   "execution_count": 73,
   "metadata": {},
   "outputs": [
    {
     "data": {
      "text/plain": [
       "Index(['index', 'year', 'month', 'Date', 'Address', 'Species', 'Block',\n",
       "       'Street', 'Trap', 'AddressNumberAndStreet', 'Latitude', 'Longitude',\n",
       "       'AddressAccuracy', 'WnvPresent', 'NumMosquitos_sum'],\n",
       "      dtype='object')"
      ]
     },
     "execution_count": 73,
     "metadata": {},
     "output_type": "execute_result"
    }
   ],
   "source": [
    "train.columns"
   ]
  },
  {
   "cell_type": "code",
   "execution_count": 74,
   "metadata": {},
   "outputs": [
    {
     "data": {
      "text/plain": [
       " N HARLEM AVE         14.285714\n",
       " W 116TH ST            7.142857\n",
       " N MOSELL AVE          7.142857\n",
       " E 118TH ST            7.142857\n",
       " N CENTRAL PARK DR     7.142857\n",
       " E 115TH ST            7.142857\n",
       " N MONT CLARE AVE      7.142857\n",
       " S CARPENTER ST        7.142857\n",
       " W OHARE AIRPORT       7.142857\n",
       " W HIGGINS RD          7.142857\n",
       "Name: Street, dtype: float64"
      ]
     },
     "execution_count": 74,
     "metadata": {},
     "output_type": "execute_result"
    }
   ],
   "source": [
    "# Most mosquitos caught with a quantity of 50 were in W OHARE AIRPORT\n",
    "Mos_50 = train[train['NumMosquitos_sum'] == 50]\n",
    "Mos_50['Street'].value_counts(normalize=True)[:10] * 100"
   ]
  },
  {
   "cell_type": "code",
   "execution_count": 75,
   "metadata": {},
   "outputs": [
    {
     "data": {
      "text/plain": [
       "0    78.571429\n",
       "1    21.428571\n",
       "Name: WnvPresent, dtype: float64"
      ]
     },
     "execution_count": 75,
     "metadata": {},
     "output_type": "execute_result"
    }
   ],
   "source": [
    "# The areas which 50 mosquitos were caught, only 13% had West Nile Virus\n",
    "Mos_50['WnvPresent'].value_counts(normalize=True) * 100"
   ]
  },
  {
   "cell_type": "code",
   "execution_count": 76,
   "metadata": {},
   "outputs": [
    {
     "data": {
      "text/plain": [
       "10    14.285714\n",
       "71    14.285714\n",
       "70     7.142857\n",
       "61     7.142857\n",
       "91     7.142857\n",
       "89     7.142857\n",
       "39     7.142857\n",
       "38     7.142857\n",
       "37     7.142857\n",
       "35     7.142857\n",
       "Name: Block, dtype: float64"
      ]
     },
     "execution_count": 76,
     "metadata": {},
     "output_type": "execute_result"
    }
   ],
   "source": [
    "# Most of 50 mosquitos that were caught were from block 10\n",
    "Mos_50['Block'].value_counts(normalize=True)[:10] * 100"
   ]
  },
  {
   "cell_type": "markdown",
   "metadata": {},
   "source": [
    "## Number of mosquitos over the months"
   ]
  },
  {
   "cell_type": "code",
   "execution_count": 77,
   "metadata": {},
   "outputs": [
    {
     "data": {
      "text/plain": [
       "Text(0, 0.5, 'Number of mosquitos over the months')"
      ]
     },
     "execution_count": 77,
     "metadata": {},
     "output_type": "execute_result"
    },
    {
     "data": {
      "image/png": "[encoded data removed]",
      "text/plain": [
       "<Figure size 792x504 with 1 Axes>"
      ]
     },
     "metadata": {},
     "output_type": "display_data"
    }
   ],
   "source": [
    "train.groupby('month').sum()['NumMosquitos_sum'].reindex(index=train['month'].unique()).plot(figsize=(11,7))\n",
    "\n",
    "plt.ylabel('Number of mosquitos over the months', size=16)"
   ]
  },
  {
   "cell_type": "markdown",
   "metadata": {},
   "source": [
    "An increase of mosquitos from May to August, the peak was in August, but it starts to decline from there onwards."
   ]
  },
  {
   "cell_type": "code",
   "execution_count": 78,
   "metadata": {},
   "outputs": [
    {
     "data": {
      "image/png": "[encoded data removed]",
      "text/plain": [
       "<Figure size 792x504 with 1 Axes>"
      ]
     },
     "metadata": {},
     "output_type": "display_data"
    }
   ],
   "source": [
    "plt.figure(figsize=(11,7))\n",
    "sns.scatterplot(x='month', y='NumMosquitos_sum', data=train, hue='WnvPresent')\n",
    "\n",
    "plt.title('Presence of WNV based of months and Number of mosquitos');"
   ]
  },
  {
   "cell_type": "markdown",
   "metadata": {},
   "source": [
    "August and September seems have the months which have mosquitos with WNV presence "
   ]
  },
  {
   "cell_type": "markdown",
   "metadata": {},
   "source": [
    "## Number of mosquitos over the years"
   ]
  },
  {
   "cell_type": "code",
   "execution_count": 79,
   "metadata": {},
   "outputs": [
    {
     "data": {
      "image/png": "[encoded data removed]",
      "text/plain": [
       "<Figure size 792x504 with 1 Axes>"
      ]
     },
     "metadata": {},
     "output_type": "display_data"
    }
   ],
   "source": [
    "train.groupby('year').sum()['NumMosquitos_sum'].reindex(index=train['year'].unique()).plot(figsize=(11,7))\n",
    "\n",
    "plt.title('Number of Mosquitos over the years')\n",
    "plt.ylabel('Number of mosquitos over the years', size=16);"
   ]
  },
  {
   "cell_type": "markdown",
   "metadata": {},
   "source": [
    "There's a decline in the number of mosquitos cpatured over the years, but there's a sudden increase in the number of mosquitos captured in 2013.\n",
    "\n",
    "Need to investigate what happened in 2013."
   ]
  },
  {
   "cell_type": "code",
   "execution_count": 80,
   "metadata": {},
   "outputs": [
    {
     "data": {
      "image/png": "[encoded data removed]",
      "text/plain": [
       "<Figure size 792x504 with 1 Axes>"
      ]
     },
     "metadata": {},
     "output_type": "display_data"
    }
   ],
   "source": [
    "plt.figure(figsize=(11,7))\n",
    "sns.scatterplot(x='year', y='NumMosquitos_sum', data=train, hue='WnvPresent')\n",
    "\n",
    "\n",
    "plt.title('Presence of WNV based of years and Number of mosquitos');"
   ]
  },
  {
   "cell_type": "markdown",
   "metadata": {},
   "source": [
    "2011 and 2013 are the years which have the most mosquitos with WNV in them."
   ]
  },
  {
   "cell_type": "markdown",
   "metadata": {},
   "source": [
    "## Traps effectiveness"
   ]
  },
  {
   "cell_type": "code",
   "execution_count": 81,
   "metadata": {},
   "outputs": [
    {
     "data": {
      "text/plain": [
       "0    0.946133\n",
       "1    0.053867\n",
       "Name: WnvPresent, dtype: float64"
      ]
     },
     "execution_count": 81,
     "metadata": {},
     "output_type": "execute_result"
    }
   ],
   "source": [
    "# There's a 5% chance of the WNV present in mosquitos\n",
    "train['WnvPresent'].value_counts(normalize=True)"
   ]
  },
  {
   "cell_type": "code",
   "execution_count": 82,
   "metadata": {},
   "outputs": [
    {
     "data": {
      "text/plain": [
       "0.053867028493894166"
      ]
     },
     "execution_count": 82,
     "metadata": {},
     "output_type": "execute_result"
    }
   ],
   "source": [
    "# Frequency of records with the virus\n",
    "prob_of_WNV = train['WnvPresent'].value_counts(normalize=True)[1]\n",
    "prob_of_WNV"
   ]
  },
  {
   "cell_type": "code",
   "execution_count": 83,
   "metadata": {},
   "outputs": [
    {
     "data": {
      "text/plain": [
       "0.33613445378151263"
      ]
     },
     "execution_count": 83,
     "metadata": {},
     "output_type": "execute_result"
    }
   ],
   "source": [
    "# 32% of the traps have a mean score of 0.05 and above in capturing mosquitos with WNV \n",
    "(train.groupby('Trap').mean()['WnvPresent'].sort_values(ascending=False) >= prob_of_WNV).sum() / len(train.groupby('Trap').mean()['WnvPresent'].sort_values(ascending=False))"
   ]
  },
  {
   "cell_type": "markdown",
   "metadata": {},
   "source": [
    "About 32% of the traps capture mosquitos with WNV in them have a mean score greater than the baseline probability of 0.05"
   ]
  },
  {
   "cell_type": "code",
   "execution_count": 84,
   "metadata": {},
   "outputs": [
    {
     "data": {
      "text/plain": [
       "Text(0, 0.5, 'Mean score of WNV presence')"
      ]
     },
     "execution_count": 84,
     "metadata": {},
     "output_type": "execute_result"
    },
    {
     "data": {
      "image/png": "[encoded data removed]",
      "text/plain": [
       "<Figure size 792x504 with 1 Axes>"
      ]
     },
     "metadata": {},
     "output_type": "display_data"
    }
   ],
   "source": [
    "train.groupby('Trap').mean()['WnvPresent'].sort_values(ascending=False)[train.groupby('Trap').mean()['WnvPresent'].sort_values(ascending=False)\n",
    "                                                                        >= prob_of_WNV].plot(kind='bar', figsize=(11,7))\n",
    "\n",
    "plt.title('Traps effectiveness')\n",
    "plt.ylabel('Mean score of WNV presence')"
   ]
  },
  {
   "cell_type": "markdown",
   "metadata": {},
   "source": [
    "## Export to csv file"
   ]
  },
  {
   "cell_type": "code",
   "execution_count": 110,
   "metadata": {},
   "outputs": [
    {
     "data": {
      "text/html": [
       "<div>\n",
       "<style scoped>\n",
       "    .dataframe tbody tr th:only-of-type {\n",
       "        vertical-align: middle;\n",
       "    }\n",
       "\n",
       "    .dataframe tbody tr th {\n",
       "        vertical-align: top;\n",
       "    }\n",
       "\n",
       "    .dataframe thead th {\n",
       "        text-align: right;\n",
       "    }\n",
       "</style>\n",
       "<table border=\"1\" class=\"dataframe\">\n",
       "  <thead>\n",
       "    <tr style=\"text-align: right;\">\n",
       "      <th></th>\n",
       "      <th>index</th>\n",
       "      <th>year</th>\n",
       "      <th>month</th>\n",
       "      <th>Date</th>\n",
       "      <th>Address</th>\n",
       "      <th>Species</th>\n",
       "      <th>Block</th>\n",
       "      <th>Street</th>\n",
       "      <th>Trap</th>\n",
       "      <th>AddressNumberAndStreet</th>\n",
       "      <th>Latitude</th>\n",
       "      <th>Longitude</th>\n",
       "      <th>AddressAccuracy</th>\n",
       "      <th>WnvPresent</th>\n",
       "      <th>NumMosquitos_sum</th>\n",
       "    </tr>\n",
       "  </thead>\n",
       "  <tbody>\n",
       "    <tr>\n",
       "      <th>0</th>\n",
       "      <td>0</td>\n",
       "      <td>2007</td>\n",
       "      <td>May</td>\n",
       "      <td>2007-05-29</td>\n",
       "      <td>4100 North Oak Park Avenue, Chicago, IL 60634,...</td>\n",
       "      <td>CULEX PIPIENS/RESTUANS</td>\n",
       "      <td>41</td>\n",
       "      <td>N OAK PARK AVE</td>\n",
       "      <td>T002</td>\n",
       "      <td>4100  N OAK PARK AVE, Chicago, IL</td>\n",
       "      <td>41.95469</td>\n",
       "      <td>-87.800991</td>\n",
       "      <td>9</td>\n",
       "      <td>0</td>\n",
       "      <td>1.0</td>\n",
       "    </tr>\n",
       "    <tr>\n",
       "      <th>1</th>\n",
       "      <td>1</td>\n",
       "      <td>2007</td>\n",
       "      <td>May</td>\n",
       "      <td>2007-05-29</td>\n",
       "      <td>4100 North Oak Park Avenue, Chicago, IL 60634,...</td>\n",
       "      <td>CULEX RESTUANS</td>\n",
       "      <td>41</td>\n",
       "      <td>N OAK PARK AVE</td>\n",
       "      <td>T002</td>\n",
       "      <td>4100  N OAK PARK AVE, Chicago, IL</td>\n",
       "      <td>41.95469</td>\n",
       "      <td>-87.800991</td>\n",
       "      <td>9</td>\n",
       "      <td>0</td>\n",
       "      <td>1.0</td>\n",
       "    </tr>\n",
       "  </tbody>\n",
       "</table>\n",
       "</div>"
      ],
      "text/plain": [
       "   index  year month       Date  \\\n",
       "0      0  2007   May 2007-05-29   \n",
       "1      1  2007   May 2007-05-29   \n",
       "\n",
       "                                             Address                 Species  \\\n",
       "0  4100 North Oak Park Avenue, Chicago, IL 60634,...  CULEX PIPIENS/RESTUANS   \n",
       "1  4100 North Oak Park Avenue, Chicago, IL 60634,...          CULEX RESTUANS   \n",
       "\n",
       "   Block           Street  Trap             AddressNumberAndStreet  Latitude  \\\n",
       "0     41   N OAK PARK AVE  T002  4100  N OAK PARK AVE, Chicago, IL  41.95469   \n",
       "1     41   N OAK PARK AVE  T002  4100  N OAK PARK AVE, Chicago, IL  41.95469   \n",
       "\n",
       "   Longitude  AddressAccuracy  WnvPresent  NumMosquitos_sum  \n",
       "0 -87.800991                9           0               1.0  \n",
       "1 -87.800991                9           0               1.0  "
      ]
     },
     "execution_count": 110,
     "metadata": {},
     "output_type": "execute_result"
    }
   ],
   "source": [
    "train.head(2)"
   ]
  },
  {
   "cell_type": "code",
   "execution_count": 112,
   "metadata": {},
   "outputs": [],
   "source": [
    "# Drop the columns, year, month, Address, AddressNumberAndStreet, AddressAccuracy\n",
    "drop_columns= ['index','year', 'month', 'Address', 'AddressNumberAndStreet', 'AddressAccuracy']\n",
    "train = train.drop(drop_columns, axis=1)"
   ]
  },
  {
   "cell_type": "code",
   "execution_count": 120,
   "metadata": {},
   "outputs": [
    {
     "data": {
      "text/html": [
       "<div>\n",
       "<style scoped>\n",
       "    .dataframe tbody tr th:only-of-type {\n",
       "        vertical-align: middle;\n",
       "    }\n",
       "\n",
       "    .dataframe tbody tr th {\n",
       "        vertical-align: top;\n",
       "    }\n",
       "\n",
       "    .dataframe thead th {\n",
       "        text-align: right;\n",
       "    }\n",
       "</style>\n",
       "<table border=\"1\" class=\"dataframe\">\n",
       "  <thead>\n",
       "    <tr style=\"text-align: right;\">\n",
       "      <th></th>\n",
       "      <th>Date</th>\n",
       "      <th>Species</th>\n",
       "      <th>Block</th>\n",
       "      <th>Street</th>\n",
       "      <th>Trap</th>\n",
       "      <th>Latitude</th>\n",
       "      <th>Longitude</th>\n",
       "      <th>WnvPresent</th>\n",
       "      <th>NumMosquitos_sum</th>\n",
       "    </tr>\n",
       "  </thead>\n",
       "  <tbody>\n",
       "    <tr>\n",
       "      <th>0</th>\n",
       "      <td>2007-05-29</td>\n",
       "      <td>CULEX PIPIENS/RESTUANS</td>\n",
       "      <td>41</td>\n",
       "      <td>N OAK PARK AVE</td>\n",
       "      <td>T002</td>\n",
       "      <td>41.95469</td>\n",
       "      <td>-87.800991</td>\n",
       "      <td>0</td>\n",
       "      <td>1.0</td>\n",
       "    </tr>\n",
       "    <tr>\n",
       "      <th>1</th>\n",
       "      <td>2007-05-29</td>\n",
       "      <td>CULEX RESTUANS</td>\n",
       "      <td>41</td>\n",
       "      <td>N OAK PARK AVE</td>\n",
       "      <td>T002</td>\n",
       "      <td>41.95469</td>\n",
       "      <td>-87.800991</td>\n",
       "      <td>0</td>\n",
       "      <td>1.0</td>\n",
       "    </tr>\n",
       "  </tbody>\n",
       "</table>\n",
       "</div>"
      ],
      "text/plain": [
       "        Date                 Species  Block           Street  Trap  Latitude  \\\n",
       "0 2007-05-29  CULEX PIPIENS/RESTUANS     41   N OAK PARK AVE  T002  41.95469   \n",
       "1 2007-05-29          CULEX RESTUANS     41   N OAK PARK AVE  T002  41.95469   \n",
       "\n",
       "   Longitude  WnvPresent  NumMosquitos_sum  \n",
       "0 -87.800991           0               1.0  \n",
       "1 -87.800991           0               1.0  "
      ]
     },
     "execution_count": 120,
     "metadata": {},
     "output_type": "execute_result"
    }
   ],
   "source": [
    "train.head(2)"
   ]
  },
  {
   "cell_type": "code",
   "execution_count": 119,
   "metadata": {},
   "outputs": [],
   "source": [
    "# Export to csv file\n",
    "train.to_csv('./assets/cleaned_train.csv', index=False)"
   ]
  },
  {
   "cell_type": "markdown",
   "metadata": {},
   "source": [
    "# EDA on test set"
   ]
  },
  {
   "cell_type": "code",
   "execution_count": 85,
   "metadata": {},
   "outputs": [
    {
     "data": {
      "text/html": [
       "<div>\n",
       "<style scoped>\n",
       "    .dataframe tbody tr th:only-of-type {\n",
       "        vertical-align: middle;\n",
       "    }\n",
       "\n",
       "    .dataframe tbody tr th {\n",
       "        vertical-align: top;\n",
       "    }\n",
       "\n",
       "    .dataframe thead th {\n",
       "        text-align: right;\n",
       "    }\n",
       "</style>\n",
       "<table border=\"1\" class=\"dataframe\">\n",
       "  <thead>\n",
       "    <tr style=\"text-align: right;\">\n",
       "      <th></th>\n",
       "      <th>Id</th>\n",
       "      <th>Date</th>\n",
       "      <th>Address</th>\n",
       "      <th>Species</th>\n",
       "      <th>Block</th>\n",
       "      <th>Street</th>\n",
       "      <th>Trap</th>\n",
       "      <th>AddressNumberAndStreet</th>\n",
       "      <th>Latitude</th>\n",
       "      <th>Longitude</th>\n",
       "      <th>AddressAccuracy</th>\n",
       "    </tr>\n",
       "  </thead>\n",
       "  <tbody>\n",
       "    <tr>\n",
       "      <th>0</th>\n",
       "      <td>1</td>\n",
       "      <td>2008-06-11</td>\n",
       "      <td>4100 North Oak Park Avenue, Chicago, IL 60634,...</td>\n",
       "      <td>CULEX PIPIENS/RESTUANS</td>\n",
       "      <td>41</td>\n",
       "      <td>N OAK PARK AVE</td>\n",
       "      <td>T002</td>\n",
       "      <td>4100  N OAK PARK AVE, Chicago, IL</td>\n",
       "      <td>41.95469</td>\n",
       "      <td>-87.800991</td>\n",
       "      <td>9</td>\n",
       "    </tr>\n",
       "    <tr>\n",
       "      <th>1</th>\n",
       "      <td>2</td>\n",
       "      <td>2008-06-11</td>\n",
       "      <td>4100 North Oak Park Avenue, Chicago, IL 60634,...</td>\n",
       "      <td>CULEX RESTUANS</td>\n",
       "      <td>41</td>\n",
       "      <td>N OAK PARK AVE</td>\n",
       "      <td>T002</td>\n",
       "      <td>4100  N OAK PARK AVE, Chicago, IL</td>\n",
       "      <td>41.95469</td>\n",
       "      <td>-87.800991</td>\n",
       "      <td>9</td>\n",
       "    </tr>\n",
       "    <tr>\n",
       "      <th>2</th>\n",
       "      <td>3</td>\n",
       "      <td>2008-06-11</td>\n",
       "      <td>4100 North Oak Park Avenue, Chicago, IL 60634,...</td>\n",
       "      <td>CULEX PIPIENS</td>\n",
       "      <td>41</td>\n",
       "      <td>N OAK PARK AVE</td>\n",
       "      <td>T002</td>\n",
       "      <td>4100  N OAK PARK AVE, Chicago, IL</td>\n",
       "      <td>41.95469</td>\n",
       "      <td>-87.800991</td>\n",
       "      <td>9</td>\n",
       "    </tr>\n",
       "    <tr>\n",
       "      <th>3</th>\n",
       "      <td>4</td>\n",
       "      <td>2008-06-11</td>\n",
       "      <td>4100 North Oak Park Avenue, Chicago, IL 60634,...</td>\n",
       "      <td>CULEX SALINARIUS</td>\n",
       "      <td>41</td>\n",
       "      <td>N OAK PARK AVE</td>\n",
       "      <td>T002</td>\n",
       "      <td>4100  N OAK PARK AVE, Chicago, IL</td>\n",
       "      <td>41.95469</td>\n",
       "      <td>-87.800991</td>\n",
       "      <td>9</td>\n",
       "    </tr>\n",
       "    <tr>\n",
       "      <th>4</th>\n",
       "      <td>5</td>\n",
       "      <td>2008-06-11</td>\n",
       "      <td>4100 North Oak Park Avenue, Chicago, IL 60634,...</td>\n",
       "      <td>CULEX TERRITANS</td>\n",
       "      <td>41</td>\n",
       "      <td>N OAK PARK AVE</td>\n",
       "      <td>T002</td>\n",
       "      <td>4100  N OAK PARK AVE, Chicago, IL</td>\n",
       "      <td>41.95469</td>\n",
       "      <td>-87.800991</td>\n",
       "      <td>9</td>\n",
       "    </tr>\n",
       "  </tbody>\n",
       "</table>\n",
       "</div>"
      ],
      "text/plain": [
       "   Id        Date                                            Address  \\\n",
       "0   1  2008-06-11  4100 North Oak Park Avenue, Chicago, IL 60634,...   \n",
       "1   2  2008-06-11  4100 North Oak Park Avenue, Chicago, IL 60634,...   \n",
       "2   3  2008-06-11  4100 North Oak Park Avenue, Chicago, IL 60634,...   \n",
       "3   4  2008-06-11  4100 North Oak Park Avenue, Chicago, IL 60634,...   \n",
       "4   5  2008-06-11  4100 North Oak Park Avenue, Chicago, IL 60634,...   \n",
       "\n",
       "                  Species  Block           Street  Trap  \\\n",
       "0  CULEX PIPIENS/RESTUANS     41   N OAK PARK AVE  T002   \n",
       "1          CULEX RESTUANS     41   N OAK PARK AVE  T002   \n",
       "2           CULEX PIPIENS     41   N OAK PARK AVE  T002   \n",
       "3        CULEX SALINARIUS     41   N OAK PARK AVE  T002   \n",
       "4         CULEX TERRITANS     41   N OAK PARK AVE  T002   \n",
       "\n",
       "              AddressNumberAndStreet  Latitude  Longitude  AddressAccuracy  \n",
       "0  4100  N OAK PARK AVE, Chicago, IL  41.95469 -87.800991                9  \n",
       "1  4100  N OAK PARK AVE, Chicago, IL  41.95469 -87.800991                9  \n",
       "2  4100  N OAK PARK AVE, Chicago, IL  41.95469 -87.800991                9  \n",
       "3  4100  N OAK PARK AVE, Chicago, IL  41.95469 -87.800991                9  \n",
       "4  4100  N OAK PARK AVE, Chicago, IL  41.95469 -87.800991                9  "
      ]
     },
     "execution_count": 85,
     "metadata": {},
     "output_type": "execute_result"
    }
   ],
   "source": [
    "# Display first 5 rows\n",
    "test.head()"
   ]
  },
  {
   "cell_type": "code",
   "execution_count": 86,
   "metadata": {},
   "outputs": [
    {
     "data": {
      "text/plain": [
       "Id                        0\n",
       "Date                      0\n",
       "Address                   0\n",
       "Species                   0\n",
       "Block                     0\n",
       "Street                    0\n",
       "Trap                      0\n",
       "AddressNumberAndStreet    0\n",
       "Latitude                  0\n",
       "Longitude                 0\n",
       "AddressAccuracy           0\n",
       "dtype: int64"
      ]
     },
     "execution_count": 86,
     "metadata": {},
     "output_type": "execute_result"
    }
   ],
   "source": [
    "# No null values\n",
    "test.isnull().sum()"
   ]
  },
  {
   "cell_type": "code",
   "execution_count": 87,
   "metadata": {},
   "outputs": [
    {
     "data": {
      "text/plain": [
       "0        2008-06-11\n",
       "1        2008-06-11\n",
       "2        2008-06-11\n",
       "3        2008-06-11\n",
       "4        2008-06-11\n",
       "            ...    \n",
       "116288   2014-10-02\n",
       "116289   2014-10-02\n",
       "116290   2014-10-02\n",
       "116291   2014-10-02\n",
       "116292   2014-10-02\n",
       "Name: Date, Length: 101768, dtype: datetime64[ns]"
      ]
     },
     "execution_count": 87,
     "metadata": {},
     "output_type": "execute_result"
    }
   ],
   "source": [
    "# Transform Data into date time type\n",
    "test['Date'] = pd.to_datetime(test['Date'])\n",
    "test['Date']"
   ]
  },
  {
   "cell_type": "code",
   "execution_count": 88,
   "metadata": {},
   "outputs": [],
   "source": [
    "# Split the dates into their day, month and year\n",
    "day = test['Date'].dt.day_name()\n",
    "month = test['Date'].dt.month_name()\n",
    "year = test['Date'].dt.year\n",
    "\n",
    "# Insert day, month and year into the test df\n",
    "test.insert(2, 'day', day)\n",
    "test.insert(3, 'month', month)\n",
    "test.insert(4, 'year', year)"
   ]
  },
  {
   "cell_type": "code",
   "execution_count": 89,
   "metadata": {},
   "outputs": [
    {
     "data": {
      "text/html": [
       "<div>\n",
       "<style scoped>\n",
       "    .dataframe tbody tr th:only-of-type {\n",
       "        vertical-align: middle;\n",
       "    }\n",
       "\n",
       "    .dataframe tbody tr th {\n",
       "        vertical-align: top;\n",
       "    }\n",
       "\n",
       "    .dataframe thead th {\n",
       "        text-align: right;\n",
       "    }\n",
       "</style>\n",
       "<table border=\"1\" class=\"dataframe\">\n",
       "  <thead>\n",
       "    <tr style=\"text-align: right;\">\n",
       "      <th></th>\n",
       "      <th>Id</th>\n",
       "      <th>Date</th>\n",
       "      <th>day</th>\n",
       "      <th>month</th>\n",
       "      <th>year</th>\n",
       "      <th>Address</th>\n",
       "      <th>Species</th>\n",
       "      <th>Block</th>\n",
       "      <th>Street</th>\n",
       "      <th>Trap</th>\n",
       "      <th>AddressNumberAndStreet</th>\n",
       "      <th>Latitude</th>\n",
       "      <th>Longitude</th>\n",
       "      <th>AddressAccuracy</th>\n",
       "    </tr>\n",
       "  </thead>\n",
       "  <tbody>\n",
       "    <tr>\n",
       "      <th>0</th>\n",
       "      <td>1</td>\n",
       "      <td>2008-06-11</td>\n",
       "      <td>Wednesday</td>\n",
       "      <td>June</td>\n",
       "      <td>2008</td>\n",
       "      <td>4100 North Oak Park Avenue, Chicago, IL 60634,...</td>\n",
       "      <td>CULEX PIPIENS/RESTUANS</td>\n",
       "      <td>41</td>\n",
       "      <td>N OAK PARK AVE</td>\n",
       "      <td>T002</td>\n",
       "      <td>4100  N OAK PARK AVE, Chicago, IL</td>\n",
       "      <td>41.95469</td>\n",
       "      <td>-87.800991</td>\n",
       "      <td>9</td>\n",
       "    </tr>\n",
       "    <tr>\n",
       "      <th>1</th>\n",
       "      <td>2</td>\n",
       "      <td>2008-06-11</td>\n",
       "      <td>Wednesday</td>\n",
       "      <td>June</td>\n",
       "      <td>2008</td>\n",
       "      <td>4100 North Oak Park Avenue, Chicago, IL 60634,...</td>\n",
       "      <td>CULEX RESTUANS</td>\n",
       "      <td>41</td>\n",
       "      <td>N OAK PARK AVE</td>\n",
       "      <td>T002</td>\n",
       "      <td>4100  N OAK PARK AVE, Chicago, IL</td>\n",
       "      <td>41.95469</td>\n",
       "      <td>-87.800991</td>\n",
       "      <td>9</td>\n",
       "    </tr>\n",
       "    <tr>\n",
       "      <th>2</th>\n",
       "      <td>3</td>\n",
       "      <td>2008-06-11</td>\n",
       "      <td>Wednesday</td>\n",
       "      <td>June</td>\n",
       "      <td>2008</td>\n",
       "      <td>4100 North Oak Park Avenue, Chicago, IL 60634,...</td>\n",
       "      <td>CULEX PIPIENS</td>\n",
       "      <td>41</td>\n",
       "      <td>N OAK PARK AVE</td>\n",
       "      <td>T002</td>\n",
       "      <td>4100  N OAK PARK AVE, Chicago, IL</td>\n",
       "      <td>41.95469</td>\n",
       "      <td>-87.800991</td>\n",
       "      <td>9</td>\n",
       "    </tr>\n",
       "  </tbody>\n",
       "</table>\n",
       "</div>"
      ],
      "text/plain": [
       "   Id       Date        day month  year  \\\n",
       "0   1 2008-06-11  Wednesday  June  2008   \n",
       "1   2 2008-06-11  Wednesday  June  2008   \n",
       "2   3 2008-06-11  Wednesday  June  2008   \n",
       "\n",
       "                                             Address                 Species  \\\n",
       "0  4100 North Oak Park Avenue, Chicago, IL 60634,...  CULEX PIPIENS/RESTUANS   \n",
       "1  4100 North Oak Park Avenue, Chicago, IL 60634,...          CULEX RESTUANS   \n",
       "2  4100 North Oak Park Avenue, Chicago, IL 60634,...           CULEX PIPIENS   \n",
       "\n",
       "   Block           Street  Trap             AddressNumberAndStreet  Latitude  \\\n",
       "0     41   N OAK PARK AVE  T002  4100  N OAK PARK AVE, Chicago, IL  41.95469   \n",
       "1     41   N OAK PARK AVE  T002  4100  N OAK PARK AVE, Chicago, IL  41.95469   \n",
       "2     41   N OAK PARK AVE  T002  4100  N OAK PARK AVE, Chicago, IL  41.95469   \n",
       "\n",
       "   Longitude  AddressAccuracy  \n",
       "0 -87.800991                9  \n",
       "1 -87.800991                9  \n",
       "2 -87.800991                9  "
      ]
     },
     "execution_count": 89,
     "metadata": {},
     "output_type": "execute_result"
    }
   ],
   "source": [
    "test.head(3)"
   ]
  },
  {
   "cell_type": "markdown",
   "metadata": {},
   "source": [
    "## Check for duplicates"
   ]
  },
  {
   "cell_type": "code",
   "execution_count": 90,
   "metadata": {},
   "outputs": [
    {
     "data": {
      "text/plain": [
       "0"
      ]
     },
     "execution_count": 90,
     "metadata": {},
     "output_type": "execute_result"
    }
   ],
   "source": [
    "# No duplicates\n",
    "test.duplicated(keep=False).sum()"
   ]
  },
  {
   "cell_type": "markdown",
   "metadata": {},
   "source": [
    "## Months investigation"
   ]
  },
  {
   "cell_type": "code",
   "execution_count": 91,
   "metadata": {},
   "outputs": [
    {
     "data": {
      "image/png": "[encoded data removed]",
      "text/plain": [
       "<Figure size 504x504 with 1 Axes>"
      ]
     },
     "metadata": {},
     "output_type": "display_data"
    }
   ],
   "source": [
    "test['month'].value_counts(normalize=True).plot(title = 'Frequency of the mosquitos caught by Months',figsize=(7,7), \n",
    "                                                color='purple', lw=3);"
   ]
  },
  {
   "cell_type": "markdown",
   "metadata": {},
   "source": [
    "There seems to be a decline in the number of Mosquitos appearing as the months pass from June to October."
   ]
  },
  {
   "cell_type": "code",
   "execution_count": 92,
   "metadata": {},
   "outputs": [
    {
     "data": {
      "image/png": "[encoded data removed]",
      "text/plain": [
       "<Figure size 504x504 with 1 Axes>"
      ]
     },
     "metadata": {},
     "output_type": "display_data"
    }
   ],
   "source": [
    "test['day'].value_counts(normalize=True).reindex(index=['Monday', 'Tuesday', 'Wednesday', 'Thursday', 'Friday']).plot(figsize=(7,7), \n",
    "                                                color='purple', lw=3)\n",
    "plt.title('Frequency of the mosquitos caught by Days', size=15);\n",
    "# plt.grid(False)\n",
    "# test['day'].value_counts(normalize=True).sort_index()"
   ]
  },
  {
   "cell_type": "markdown",
   "metadata": {},
   "source": [
    "The most number of mosquitos caught were on **Thursday and Friday**. Most likely due to the workers only collecting the traps on Friday."
   ]
  },
  {
   "cell_type": "code",
   "execution_count": 93,
   "metadata": {},
   "outputs": [
    {
     "data": {
      "image/png": "[encoded data removed]",
      "text/plain": [
       "<Figure size 504x504 with 1 Axes>"
      ]
     },
     "metadata": {},
     "output_type": "display_data"
    }
   ],
   "source": [
    "test['year'].value_counts(normalize=True).sort_index().plot(kind='bar', figsize=(7,7), \n",
    "                                                            title='Frequency of Mosquitos caught by year', color='purple');"
   ]
  },
  {
   "cell_type": "markdown",
   "metadata": {},
   "source": [
    "Highest number caught was 2010"
   ]
  },
  {
   "cell_type": "code",
   "execution_count": 94,
   "metadata": {},
   "outputs": [
    {
     "data": {
      "text/plain": [
       "Id                        0\n",
       "Date                      0\n",
       "day                       0\n",
       "month                     0\n",
       "year                      0\n",
       "Address                   0\n",
       "Species                   0\n",
       "Block                     0\n",
       "Street                    0\n",
       "Trap                      0\n",
       "AddressNumberAndStreet    0\n",
       "Latitude                  0\n",
       "Longitude                 0\n",
       "AddressAccuracy           0\n",
       "dtype: int64"
      ]
     },
     "execution_count": 94,
     "metadata": {},
     "output_type": "execute_result"
    }
   ],
   "source": [
    "# Check for null values\n",
    "test.isnull().sum()"
   ]
  },
  {
   "cell_type": "markdown",
   "metadata": {},
   "source": [
    "## Check for Species types"
   ]
  },
  {
   "cell_type": "code",
   "execution_count": 95,
   "metadata": {},
   "outputs": [
    {
     "data": {
      "text/plain": [
       "array(['CULEX PIPIENS/RESTUANS', 'CULEX RESTUANS', 'CULEX PIPIENS',\n",
       "       'CULEX SALINARIUS', 'CULEX TERRITANS', 'CULEX TARSALIS',\n",
       "       'CULEX ERRATICUS'], dtype=object)"
      ]
     },
     "execution_count": 95,
     "metadata": {},
     "output_type": "execute_result"
    }
   ],
   "source": [
    "train['Species'].unique()"
   ]
  },
  {
   "cell_type": "code",
   "execution_count": 96,
   "metadata": {},
   "outputs": [
    {
     "data": {
      "text/plain": [
       "array(['CULEX PIPIENS/RESTUANS', 'CULEX RESTUANS', 'CULEX PIPIENS',\n",
       "       'CULEX SALINARIUS', 'CULEX TERRITANS', 'CULEX TARSALIS',\n",
       "       'UNSPECIFIED CULEX', 'CULEX ERRATICUS'], dtype=object)"
      ]
     },
     "execution_count": 96,
     "metadata": {},
     "output_type": "execute_result"
    }
   ],
   "source": [
    "test['Species'].unique()"
   ]
  },
  {
   "cell_type": "code",
   "execution_count": 97,
   "metadata": {},
   "outputs": [
    {
     "data": {
      "text/html": [
       "<div>\n",
       "<style scoped>\n",
       "    .dataframe tbody tr th:only-of-type {\n",
       "        vertical-align: middle;\n",
       "    }\n",
       "\n",
       "    .dataframe tbody tr th {\n",
       "        vertical-align: top;\n",
       "    }\n",
       "\n",
       "    .dataframe thead th {\n",
       "        text-align: right;\n",
       "    }\n",
       "</style>\n",
       "<table border=\"1\" class=\"dataframe\">\n",
       "  <thead>\n",
       "    <tr style=\"text-align: right;\">\n",
       "      <th></th>\n",
       "      <th>Id</th>\n",
       "      <th>Date</th>\n",
       "      <th>day</th>\n",
       "      <th>month</th>\n",
       "      <th>year</th>\n",
       "      <th>Address</th>\n",
       "      <th>Species</th>\n",
       "      <th>Block</th>\n",
       "      <th>Street</th>\n",
       "      <th>Trap</th>\n",
       "      <th>AddressNumberAndStreet</th>\n",
       "      <th>Latitude</th>\n",
       "      <th>Longitude</th>\n",
       "      <th>AddressAccuracy</th>\n",
       "    </tr>\n",
       "  </thead>\n",
       "  <tbody>\n",
       "    <tr>\n",
       "      <th>6</th>\n",
       "      <td>7</td>\n",
       "      <td>2008-06-11</td>\n",
       "      <td>Wednesday</td>\n",
       "      <td>June</td>\n",
       "      <td>2008</td>\n",
       "      <td>4100 North Oak Park Avenue, Chicago, IL 60634,...</td>\n",
       "      <td>UNSPECIFIED CULEX</td>\n",
       "      <td>41</td>\n",
       "      <td>N OAK PARK AVE</td>\n",
       "      <td>T002</td>\n",
       "      <td>4100  N OAK PARK AVE, Chicago, IL</td>\n",
       "      <td>41.954690</td>\n",
       "      <td>-87.800991</td>\n",
       "      <td>9</td>\n",
       "    </tr>\n",
       "    <tr>\n",
       "      <th>14</th>\n",
       "      <td>15</td>\n",
       "      <td>2008-06-11</td>\n",
       "      <td>Wednesday</td>\n",
       "      <td>June</td>\n",
       "      <td>2008</td>\n",
       "      <td>6200 North Mandell Avenue, Chicago, IL 60646, USA</td>\n",
       "      <td>UNSPECIFIED CULEX</td>\n",
       "      <td>62</td>\n",
       "      <td>N MANDELL AVE</td>\n",
       "      <td>T007</td>\n",
       "      <td>6200  N MANDELL AVE, Chicago, IL</td>\n",
       "      <td>41.994991</td>\n",
       "      <td>-87.769279</td>\n",
       "      <td>9</td>\n",
       "    </tr>\n",
       "    <tr>\n",
       "      <th>22</th>\n",
       "      <td>23</td>\n",
       "      <td>2008-06-11</td>\n",
       "      <td>Wednesday</td>\n",
       "      <td>June</td>\n",
       "      <td>2008</td>\n",
       "      <td>7900 West Foster Avenue, Chicago, IL 60656, USA</td>\n",
       "      <td>UNSPECIFIED CULEX</td>\n",
       "      <td>79</td>\n",
       "      <td>W FOSTER AVE</td>\n",
       "      <td>T015</td>\n",
       "      <td>7900  W FOSTER AVE, Chicago, IL</td>\n",
       "      <td>41.974089</td>\n",
       "      <td>-87.824812</td>\n",
       "      <td>8</td>\n",
       "    </tr>\n",
       "    <tr>\n",
       "      <th>30</th>\n",
       "      <td>31</td>\n",
       "      <td>2008-06-11</td>\n",
       "      <td>Wednesday</td>\n",
       "      <td>June</td>\n",
       "      <td>2008</td>\n",
       "      <td>1500 West Webster Avenue, Chicago, IL 60614, USA</td>\n",
       "      <td>UNSPECIFIED CULEX</td>\n",
       "      <td>15</td>\n",
       "      <td>W WEBSTER AVE</td>\n",
       "      <td>T045</td>\n",
       "      <td>1500  W WEBSTER AVE, Chicago, IL</td>\n",
       "      <td>41.921600</td>\n",
       "      <td>-87.666455</td>\n",
       "      <td>8</td>\n",
       "    </tr>\n",
       "    <tr>\n",
       "      <th>38</th>\n",
       "      <td>39</td>\n",
       "      <td>2008-06-11</td>\n",
       "      <td>Wednesday</td>\n",
       "      <td>June</td>\n",
       "      <td>2008</td>\n",
       "      <td>2500 West Grand Avenue, Chicago, IL 60654, USA</td>\n",
       "      <td>UNSPECIFIED CULEX</td>\n",
       "      <td>25</td>\n",
       "      <td>W GRAND AVE</td>\n",
       "      <td>T046</td>\n",
       "      <td>2500  W GRAND AVE, Chicago, IL</td>\n",
       "      <td>41.891118</td>\n",
       "      <td>-87.654491</td>\n",
       "      <td>8</td>\n",
       "    </tr>\n",
       "  </tbody>\n",
       "</table>\n",
       "</div>"
      ],
      "text/plain": [
       "    Id       Date        day month  year  \\\n",
       "6    7 2008-06-11  Wednesday  June  2008   \n",
       "14  15 2008-06-11  Wednesday  June  2008   \n",
       "22  23 2008-06-11  Wednesday  June  2008   \n",
       "30  31 2008-06-11  Wednesday  June  2008   \n",
       "38  39 2008-06-11  Wednesday  June  2008   \n",
       "\n",
       "                                              Address            Species  \\\n",
       "6   4100 North Oak Park Avenue, Chicago, IL 60634,...  UNSPECIFIED CULEX   \n",
       "14  6200 North Mandell Avenue, Chicago, IL 60646, USA  UNSPECIFIED CULEX   \n",
       "22    7900 West Foster Avenue, Chicago, IL 60656, USA  UNSPECIFIED CULEX   \n",
       "30   1500 West Webster Avenue, Chicago, IL 60614, USA  UNSPECIFIED CULEX   \n",
       "38     2500 West Grand Avenue, Chicago, IL 60654, USA  UNSPECIFIED CULEX   \n",
       "\n",
       "    Block           Street  Trap             AddressNumberAndStreet  \\\n",
       "6      41   N OAK PARK AVE  T002  4100  N OAK PARK AVE, Chicago, IL   \n",
       "14     62    N MANDELL AVE  T007   6200  N MANDELL AVE, Chicago, IL   \n",
       "22     79     W FOSTER AVE  T015    7900  W FOSTER AVE, Chicago, IL   \n",
       "30     15    W WEBSTER AVE  T045   1500  W WEBSTER AVE, Chicago, IL   \n",
       "38     25      W GRAND AVE  T046     2500  W GRAND AVE, Chicago, IL   \n",
       "\n",
       "     Latitude  Longitude  AddressAccuracy  \n",
       "6   41.954690 -87.800991                9  \n",
       "14  41.994991 -87.769279                9  \n",
       "22  41.974089 -87.824812                8  \n",
       "30  41.921600 -87.666455                8  \n",
       "38  41.891118 -87.654491                8  "
      ]
     },
     "execution_count": 97,
     "metadata": {},
     "output_type": "execute_result"
    }
   ],
   "source": [
    "# DF with Unspecified Culex in them \n",
    "unspecified_culex = test[~test['Species'].isin(train['Species'])]\n",
    "unspecified_culex.head()"
   ]
  },
  {
   "cell_type": "markdown",
   "metadata": {},
   "source": [
    " There is a `UNSPECIFIED CULEX` Species which is not found in the training set"
   ]
  },
  {
   "cell_type": "code",
   "execution_count": 98,
   "metadata": {},
   "outputs": [
    {
     "data": {
      "text/plain": [
       "CULEX PIPIENS/RESTUANS    13.253675\n",
       "CULEX RESTUANS            12.632655\n",
       "CULEX PIPIENS             12.485261\n",
       "CULEX SALINARIUS          12.331971\n",
       "CULEX TERRITANS           12.328040\n",
       "CULEX TARSALIS            12.324110\n",
       "CULEX ERRATICUS           12.322144\n",
       "UNSPECIFIED CULEX         12.322144\n",
       "Name: Species, dtype: float64"
      ]
     },
     "execution_count": 98,
     "metadata": {},
     "output_type": "execute_result"
    }
   ],
   "source": [
    "test['Species'].value_counts(normalize=True) * 100"
   ]
  },
  {
   "cell_type": "markdown",
   "metadata": {},
   "source": [
    "The `Species` type are fairly balanced, could drop the `UNSPECIFIED CULEX`? Imputing could skew the `Species` feature."
   ]
  },
  {
   "cell_type": "markdown",
   "metadata": {},
   "source": [
    "## Investigating the unique traps in the test set"
   ]
  },
  {
   "cell_type": "code",
   "execution_count": 99,
   "metadata": {},
   "outputs": [
    {
     "data": {
      "text/plain": [
       "array(['T090A', 'T090B', 'T090C', 'T200B', 'T218A', 'T218C', 'T218B',\n",
       "       'T002A', 'T002B', 'T234', 'T065A'], dtype=object)"
      ]
     },
     "execution_count": 99,
     "metadata": {},
     "output_type": "execute_result"
    }
   ],
   "source": [
    "# These traps are not found in the training set\n",
    "test_only_traps = test[~test['Trap'].isin(train['Trap'])]['Trap'].unique()\n",
    "test_only_traps"
   ]
  },
  {
   "cell_type": "code",
   "execution_count": 100,
   "metadata": {},
   "outputs": [
    {
     "data": {
      "text/plain": [
       "0.08461538461538462"
      ]
     },
     "execution_count": 100,
     "metadata": {},
     "output_type": "execute_result"
    }
   ],
   "source": [
    "# These test only traps make 20% of the total test traps, drop as it need to fit the model?\n",
    "len(test_only_traps)/ len(test['Trap'].unique())"
   ]
  },
  {
   "cell_type": "markdown",
   "metadata": {},
   "source": [
    "## Investigating Address Accuracy"
   ]
  },
  {
   "cell_type": "code",
   "execution_count": 101,
   "metadata": {},
   "outputs": [
    {
     "data": {
      "text/plain": [
       "array([9, 8], dtype=int64)"
      ]
     },
     "execution_count": 101,
     "metadata": {},
     "output_type": "execute_result"
    }
   ],
   "source": [
    "test['AddressAccuracy'].unique()"
   ]
  },
  {
   "cell_type": "markdown",
   "metadata": {},
   "source": [
    "Similar to the training set, there are address accuracy with 5's and 3's in them"
   ]
  },
  {
   "cell_type": "code",
   "execution_count": 102,
   "metadata": {},
   "outputs": [
    {
     "data": {
      "text/plain": [
       "8    0.608964\n",
       "9    0.391036\n",
       "Name: AddressAccuracy, dtype: float64"
      ]
     },
     "execution_count": 102,
     "metadata": {},
     "output_type": "execute_result"
    }
   ],
   "source": [
    "# Since they make up a small percentage, ~12%, could drop them\n",
    "test['AddressAccuracy'].value_counts(normalize=True)"
   ]
  },
  {
   "cell_type": "code",
   "execution_count": 103,
   "metadata": {},
   "outputs": [
    {
     "data": {
      "text/html": [
       "<div>\n",
       "<style scoped>\n",
       "    .dataframe tbody tr th:only-of-type {\n",
       "        vertical-align: middle;\n",
       "    }\n",
       "\n",
       "    .dataframe tbody tr th {\n",
       "        vertical-align: top;\n",
       "    }\n",
       "\n",
       "    .dataframe thead th {\n",
       "        text-align: right;\n",
       "    }\n",
       "</style>\n",
       "<table border=\"1\" class=\"dataframe\">\n",
       "  <thead>\n",
       "    <tr style=\"text-align: right;\">\n",
       "      <th></th>\n",
       "      <th>Id</th>\n",
       "      <th>Date</th>\n",
       "      <th>day</th>\n",
       "      <th>month</th>\n",
       "      <th>year</th>\n",
       "      <th>Address</th>\n",
       "      <th>Species</th>\n",
       "      <th>Block</th>\n",
       "      <th>Street</th>\n",
       "      <th>Trap</th>\n",
       "      <th>AddressNumberAndStreet</th>\n",
       "      <th>Latitude</th>\n",
       "      <th>Longitude</th>\n",
       "      <th>AddressAccuracy</th>\n",
       "    </tr>\n",
       "  </thead>\n",
       "  <tbody>\n",
       "    <tr>\n",
       "      <th>0</th>\n",
       "      <td>1</td>\n",
       "      <td>2008-06-11</td>\n",
       "      <td>Wednesday</td>\n",
       "      <td>June</td>\n",
       "      <td>2008</td>\n",
       "      <td>4100 North Oak Park Avenue, Chicago, IL 60634,...</td>\n",
       "      <td>CULEX PIPIENS/RESTUANS</td>\n",
       "      <td>41</td>\n",
       "      <td>N OAK PARK AVE</td>\n",
       "      <td>T002</td>\n",
       "      <td>4100  N OAK PARK AVE, Chicago, IL</td>\n",
       "      <td>41.95469</td>\n",
       "      <td>-87.800991</td>\n",
       "      <td>9</td>\n",
       "    </tr>\n",
       "    <tr>\n",
       "      <th>1</th>\n",
       "      <td>2</td>\n",
       "      <td>2008-06-11</td>\n",
       "      <td>Wednesday</td>\n",
       "      <td>June</td>\n",
       "      <td>2008</td>\n",
       "      <td>4100 North Oak Park Avenue, Chicago, IL 60634,...</td>\n",
       "      <td>CULEX RESTUANS</td>\n",
       "      <td>41</td>\n",
       "      <td>N OAK PARK AVE</td>\n",
       "      <td>T002</td>\n",
       "      <td>4100  N OAK PARK AVE, Chicago, IL</td>\n",
       "      <td>41.95469</td>\n",
       "      <td>-87.800991</td>\n",
       "      <td>9</td>\n",
       "    </tr>\n",
       "    <tr>\n",
       "      <th>2</th>\n",
       "      <td>3</td>\n",
       "      <td>2008-06-11</td>\n",
       "      <td>Wednesday</td>\n",
       "      <td>June</td>\n",
       "      <td>2008</td>\n",
       "      <td>4100 North Oak Park Avenue, Chicago, IL 60634,...</td>\n",
       "      <td>CULEX PIPIENS</td>\n",
       "      <td>41</td>\n",
       "      <td>N OAK PARK AVE</td>\n",
       "      <td>T002</td>\n",
       "      <td>4100  N OAK PARK AVE, Chicago, IL</td>\n",
       "      <td>41.95469</td>\n",
       "      <td>-87.800991</td>\n",
       "      <td>9</td>\n",
       "    </tr>\n",
       "    <tr>\n",
       "      <th>3</th>\n",
       "      <td>4</td>\n",
       "      <td>2008-06-11</td>\n",
       "      <td>Wednesday</td>\n",
       "      <td>June</td>\n",
       "      <td>2008</td>\n",
       "      <td>4100 North Oak Park Avenue, Chicago, IL 60634,...</td>\n",
       "      <td>CULEX SALINARIUS</td>\n",
       "      <td>41</td>\n",
       "      <td>N OAK PARK AVE</td>\n",
       "      <td>T002</td>\n",
       "      <td>4100  N OAK PARK AVE, Chicago, IL</td>\n",
       "      <td>41.95469</td>\n",
       "      <td>-87.800991</td>\n",
       "      <td>9</td>\n",
       "    </tr>\n",
       "    <tr>\n",
       "      <th>4</th>\n",
       "      <td>5</td>\n",
       "      <td>2008-06-11</td>\n",
       "      <td>Wednesday</td>\n",
       "      <td>June</td>\n",
       "      <td>2008</td>\n",
       "      <td>4100 North Oak Park Avenue, Chicago, IL 60634,...</td>\n",
       "      <td>CULEX TERRITANS</td>\n",
       "      <td>41</td>\n",
       "      <td>N OAK PARK AVE</td>\n",
       "      <td>T002</td>\n",
       "      <td>4100  N OAK PARK AVE, Chicago, IL</td>\n",
       "      <td>41.95469</td>\n",
       "      <td>-87.800991</td>\n",
       "      <td>9</td>\n",
       "    </tr>\n",
       "  </tbody>\n",
       "</table>\n",
       "</div>"
      ],
      "text/plain": [
       "   Id       Date        day month  year  \\\n",
       "0   1 2008-06-11  Wednesday  June  2008   \n",
       "1   2 2008-06-11  Wednesday  June  2008   \n",
       "2   3 2008-06-11  Wednesday  June  2008   \n",
       "3   4 2008-06-11  Wednesday  June  2008   \n",
       "4   5 2008-06-11  Wednesday  June  2008   \n",
       "\n",
       "                                             Address                 Species  \\\n",
       "0  4100 North Oak Park Avenue, Chicago, IL 60634,...  CULEX PIPIENS/RESTUANS   \n",
       "1  4100 North Oak Park Avenue, Chicago, IL 60634,...          CULEX RESTUANS   \n",
       "2  4100 North Oak Park Avenue, Chicago, IL 60634,...           CULEX PIPIENS   \n",
       "3  4100 North Oak Park Avenue, Chicago, IL 60634,...        CULEX SALINARIUS   \n",
       "4  4100 North Oak Park Avenue, Chicago, IL 60634,...         CULEX TERRITANS   \n",
       "\n",
       "   Block           Street  Trap             AddressNumberAndStreet  Latitude  \\\n",
       "0     41   N OAK PARK AVE  T002  4100  N OAK PARK AVE, Chicago, IL  41.95469   \n",
       "1     41   N OAK PARK AVE  T002  4100  N OAK PARK AVE, Chicago, IL  41.95469   \n",
       "2     41   N OAK PARK AVE  T002  4100  N OAK PARK AVE, Chicago, IL  41.95469   \n",
       "3     41   N OAK PARK AVE  T002  4100  N OAK PARK AVE, Chicago, IL  41.95469   \n",
       "4     41   N OAK PARK AVE  T002  4100  N OAK PARK AVE, Chicago, IL  41.95469   \n",
       "\n",
       "   Longitude  AddressAccuracy  \n",
       "0 -87.800991                9  \n",
       "1 -87.800991                9  \n",
       "2 -87.800991                9  \n",
       "3 -87.800991                9  \n",
       "4 -87.800991                9  "
      ]
     },
     "execution_count": 103,
     "metadata": {},
     "output_type": "execute_result"
    }
   ],
   "source": [
    "# Drop the inaccurate addresses, as they'll affect the Longitude and Latitude numbers\n",
    "test = test.drop(test[(test['AddressAccuracy'] == 3) | (test['AddressAccuracy'] == 5)].index, axis='rows')\n",
    "test.head()"
   ]
  },
  {
   "cell_type": "code",
   "execution_count": 104,
   "metadata": {},
   "outputs": [
    {
     "data": {
      "image/png": "[encoded data removed]",
      "text/plain": [
       "<Figure size 1440x648 with 2 Axes>"
      ]
     },
     "metadata": {},
     "output_type": "display_data"
    }
   ],
   "source": [
    "mask = np.zeros_like(test.corr())\n",
    "mask[np.triu_indices_from(mask)] = True\n",
    "\n",
    "\n",
    "plt.figure(figsize=(20,9))\n",
    "sns.heatmap(test.corr(),cmap='viridis',annot=True, mask = mask, annot_kws={'size':12})\n",
    "plt.title('Correlation between test features', fontsize=25)\n",
    "plt.xticks(fontsize=12)\n",
    "plt.yticks(fontsize=12)\n",
    "\n",
    "\n",
    "plt.show()"
   ]
  },
  {
   "cell_type": "markdown",
   "metadata": {},
   "source": [
    "## Spray"
   ]
  },
  {
   "cell_type": "code",
   "execution_count": 125,
   "metadata": {},
   "outputs": [
    {
     "ename": "ValueError",
     "evalue": "Can only compare identically-labeled Series objects",
     "output_type": "error",
     "traceback": [
      "\u001b[1;31m---------------------------------------------------------------------------\u001b[0m",
      "\u001b[1;31mValueError\u001b[0m                                Traceback (most recent call last)",
      "\u001b[1;32m<ipython-input-125-6a2a267a7ee8>\u001b[0m in \u001b[0;36m<module>\u001b[1;34m\u001b[0m\n\u001b[1;32m----> 1\u001b[1;33m \u001b[0mspray\u001b[0m\u001b[1;33m[\u001b[0m\u001b[1;34m'Latitude'\u001b[0m\u001b[1;33m]\u001b[0m \u001b[1;33m==\u001b[0m \u001b[0mtrain\u001b[0m\u001b[1;33m[\u001b[0m\u001b[1;34m'Latitude'\u001b[0m\u001b[1;33m]\u001b[0m\u001b[1;33m\u001b[0m\u001b[1;33m\u001b[0m\u001b[0m\n\u001b[0m",
      "\u001b[1;32m~\\anaconda3\\envs\\tf\\lib\\site-packages\\pandas\\core\\ops\\common.py\u001b[0m in \u001b[0;36mnew_method\u001b[1;34m(self, other)\u001b[0m\n\u001b[0;32m     63\u001b[0m         \u001b[0mother\u001b[0m \u001b[1;33m=\u001b[0m \u001b[0mitem_from_zerodim\u001b[0m\u001b[1;33m(\u001b[0m\u001b[0mother\u001b[0m\u001b[1;33m)\u001b[0m\u001b[1;33m\u001b[0m\u001b[1;33m\u001b[0m\u001b[0m\n\u001b[0;32m     64\u001b[0m \u001b[1;33m\u001b[0m\u001b[0m\n\u001b[1;32m---> 65\u001b[1;33m         \u001b[1;32mreturn\u001b[0m \u001b[0mmethod\u001b[0m\u001b[1;33m(\u001b[0m\u001b[0mself\u001b[0m\u001b[1;33m,\u001b[0m \u001b[0mother\u001b[0m\u001b[1;33m)\u001b[0m\u001b[1;33m\u001b[0m\u001b[1;33m\u001b[0m\u001b[0m\n\u001b[0m\u001b[0;32m     66\u001b[0m \u001b[1;33m\u001b[0m\u001b[0m\n\u001b[0;32m     67\u001b[0m     \u001b[1;32mreturn\u001b[0m \u001b[0mnew_method\u001b[0m\u001b[1;33m\u001b[0m\u001b[1;33m\u001b[0m\u001b[0m\n",
      "\u001b[1;32m~\\anaconda3\\envs\\tf\\lib\\site-packages\\pandas\\core\\ops\\__init__.py\u001b[0m in \u001b[0;36mwrapper\u001b[1;34m(self, other)\u001b[0m\n\u001b[0;32m    363\u001b[0m \u001b[1;33m\u001b[0m\u001b[0m\n\u001b[0;32m    364\u001b[0m         \u001b[1;32mif\u001b[0m \u001b[0misinstance\u001b[0m\u001b[1;33m(\u001b[0m\u001b[0mother\u001b[0m\u001b[1;33m,\u001b[0m \u001b[0mABCSeries\u001b[0m\u001b[1;33m)\u001b[0m \u001b[1;32mand\u001b[0m \u001b[1;32mnot\u001b[0m \u001b[0mself\u001b[0m\u001b[1;33m.\u001b[0m\u001b[0m_indexed_same\u001b[0m\u001b[1;33m(\u001b[0m\u001b[0mother\u001b[0m\u001b[1;33m)\u001b[0m\u001b[1;33m:\u001b[0m\u001b[1;33m\u001b[0m\u001b[1;33m\u001b[0m\u001b[0m\n\u001b[1;32m--> 365\u001b[1;33m             \u001b[1;32mraise\u001b[0m \u001b[0mValueError\u001b[0m\u001b[1;33m(\u001b[0m\u001b[1;34m\"Can only compare identically-labeled Series objects\"\u001b[0m\u001b[1;33m)\u001b[0m\u001b[1;33m\u001b[0m\u001b[1;33m\u001b[0m\u001b[0m\n\u001b[0m\u001b[0;32m    366\u001b[0m \u001b[1;33m\u001b[0m\u001b[0m\n\u001b[0;32m    367\u001b[0m         \u001b[0mlvalues\u001b[0m \u001b[1;33m=\u001b[0m \u001b[0mextract_array\u001b[0m\u001b[1;33m(\u001b[0m\u001b[0mself\u001b[0m\u001b[1;33m,\u001b[0m \u001b[0mextract_numpy\u001b[0m\u001b[1;33m=\u001b[0m\u001b[1;32mTrue\u001b[0m\u001b[1;33m)\u001b[0m\u001b[1;33m\u001b[0m\u001b[1;33m\u001b[0m\u001b[0m\n",
      "\u001b[1;31mValueError\u001b[0m: Can only compare identically-labeled Series objects"
     ]
    }
   ],
   "source": [
    "spray['Latitude'] == train['Latitude']"
   ]
  },
  {
   "cell_type": "code",
   "execution_count": 127,
   "metadata": {},
   "outputs": [
    {
     "data": {
      "text/plain": [
       "14835"
      ]
     },
     "execution_count": 127,
     "metadata": {},
     "output_type": "execute_result"
    }
   ],
   "source": [
    "len(spray['Latitude'])"
   ]
  },
  {
   "cell_type": "code",
   "execution_count": 128,
   "metadata": {},
   "outputs": [
    {
     "data": {
      "text/plain": [
       "7370"
      ]
     },
     "execution_count": 128,
     "metadata": {},
     "output_type": "execute_result"
    }
   ],
   "source": [
    "len(train['Latitude'])"
   ]
  },
  {
   "cell_type": "code",
   "execution_count": 143,
   "metadata": {},
   "outputs": [
    {
     "data": {
      "text/plain": [
       "0        42.391623\n",
       "1        42.391348\n",
       "2        42.391022\n",
       "3        42.390637\n",
       "4        42.390410\n",
       "           ...    \n",
       "14830    42.006587\n",
       "14831    42.006192\n",
       "14832    42.006022\n",
       "14833    42.005453\n",
       "14834    42.004805\n",
       "Name: Latitude, Length: 14835, dtype: float64"
      ]
     },
     "execution_count": 143,
     "metadata": {},
     "output_type": "execute_result"
    }
   ],
   "source": [
    "spray['Latitude']"
   ]
  },
  {
   "cell_type": "code",
   "execution_count": 144,
   "metadata": {},
   "outputs": [
    {
     "data": {
      "text/plain": [
       "0       41.954690\n",
       "1       41.954690\n",
       "2       41.994991\n",
       "3       41.974089\n",
       "4       41.974089\n",
       "          ...    \n",
       "8554    41.763733\n",
       "8555    41.987280\n",
       "8556    41.912563\n",
       "8557    42.009876\n",
       "8558    41.776428\n",
       "Name: Latitude, Length: 7370, dtype: float64"
      ]
     },
     "execution_count": 144,
     "metadata": {},
     "output_type": "execute_result"
    }
   ],
   "source": [
    "train['Latitude']"
   ]
  },
  {
   "cell_type": "code",
   "execution_count": null,
   "metadata": {},
   "outputs": [],
   "source": []
  },
  {
   "cell_type": "code",
   "execution_count": null,
   "metadata": {},
   "outputs": [],
   "source": []
  },
  {
   "cell_type": "code",
   "execution_count": null,
   "metadata": {},
   "outputs": [],
   "source": []
  }
 ],
 "metadata": {
  "kernelspec": {
   "display_name": "Python 3",
   "language": "python",
   "name": "python3"
  },
  "language_info": {
   "codemirror_mode": {
    "name": "ipython",
    "version": 3
   },
   "file_extension": ".py",
   "mimetype": "text/x-python",
   "name": "python",
   "nbconvert_exporter": "python",
   "pygments_lexer": "ipython3",
   "version": "3.8.5"
  }
 },
 "nbformat": 4,
 "nbformat_minor": 4
}
