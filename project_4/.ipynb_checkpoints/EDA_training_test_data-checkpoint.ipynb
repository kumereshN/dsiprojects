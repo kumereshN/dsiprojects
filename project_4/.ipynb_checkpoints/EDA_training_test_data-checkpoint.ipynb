{
 "cells": [
  {
   "cell_type": "markdown",
   "metadata": {},
   "source": [
    "# Project 4: EDA on training and test set"
   ]
  },
  {
   "cell_type": "code",
   "execution_count": 1,
   "metadata": {},
   "outputs": [],
   "source": [
    "# Common imports\n",
    "import numpy as np\n",
    "import pandas as pd\n",
    "import matplotlib.pyplot as plt\n",
    "import seaborn as sns\n",
    "\n",
    "%matplotlib inline"
   ]
  },
  {
   "cell_type": "code",
   "execution_count": 2,
   "metadata": {},
   "outputs": [],
   "source": [
    "# Import graph style\n",
    "plt.style.use('fivethirtyeight')"
   ]
  },
  {
   "cell_type": "code",
   "execution_count": 3,
   "metadata": {},
   "outputs": [],
   "source": [
    "# Set the max rows and columns for Pandas\n",
    "pd.options.display.max_columns = 100\n",
    "pd.options.display.max_rows = 200"
   ]
  },
  {
   "cell_type": "code",
   "execution_count": 4,
   "metadata": {},
   "outputs": [],
   "source": [
    "# Read the data\n",
    "train = pd.read_csv('./assets/train.csv')\n",
    "test = pd.read_csv('./assets/test.csv')\n",
    "spray = pd.read_csv('./assets/spray.csv')\n",
    "weather = pd.read_csv('./assets/weather.csv')"
   ]
  },
  {
   "cell_type": "code",
   "execution_count": 5,
   "metadata": {},
   "outputs": [
    {
     "data": {
      "text/html": [
       "<div>\n",
       "<style scoped>\n",
       "    .dataframe tbody tr th:only-of-type {\n",
       "        vertical-align: middle;\n",
       "    }\n",
       "\n",
       "    .dataframe tbody tr th {\n",
       "        vertical-align: top;\n",
       "    }\n",
       "\n",
       "    .dataframe thead th {\n",
       "        text-align: right;\n",
       "    }\n",
       "</style>\n",
       "<table border=\"1\" class=\"dataframe\">\n",
       "  <thead>\n",
       "    <tr style=\"text-align: right;\">\n",
       "      <th></th>\n",
       "      <th>Date</th>\n",
       "      <th>Address</th>\n",
       "      <th>Species</th>\n",
       "      <th>Block</th>\n",
       "      <th>Street</th>\n",
       "      <th>Trap</th>\n",
       "      <th>AddressNumberAndStreet</th>\n",
       "      <th>Latitude</th>\n",
       "      <th>Longitude</th>\n",
       "      <th>AddressAccuracy</th>\n",
       "      <th>NumMosquitos</th>\n",
       "      <th>WnvPresent</th>\n",
       "    </tr>\n",
       "  </thead>\n",
       "  <tbody>\n",
       "    <tr>\n",
       "      <th>0</th>\n",
       "      <td>2007-05-29</td>\n",
       "      <td>4100 North Oak Park Avenue, Chicago, IL 60634,...</td>\n",
       "      <td>CULEX PIPIENS/RESTUANS</td>\n",
       "      <td>41</td>\n",
       "      <td>N OAK PARK AVE</td>\n",
       "      <td>T002</td>\n",
       "      <td>4100  N OAK PARK AVE, Chicago, IL</td>\n",
       "      <td>41.954690</td>\n",
       "      <td>-87.800991</td>\n",
       "      <td>9</td>\n",
       "      <td>1</td>\n",
       "      <td>0</td>\n",
       "    </tr>\n",
       "    <tr>\n",
       "      <th>1</th>\n",
       "      <td>2007-05-29</td>\n",
       "      <td>4100 North Oak Park Avenue, Chicago, IL 60634,...</td>\n",
       "      <td>CULEX RESTUANS</td>\n",
       "      <td>41</td>\n",
       "      <td>N OAK PARK AVE</td>\n",
       "      <td>T002</td>\n",
       "      <td>4100  N OAK PARK AVE, Chicago, IL</td>\n",
       "      <td>41.954690</td>\n",
       "      <td>-87.800991</td>\n",
       "      <td>9</td>\n",
       "      <td>1</td>\n",
       "      <td>0</td>\n",
       "    </tr>\n",
       "    <tr>\n",
       "      <th>2</th>\n",
       "      <td>2007-05-29</td>\n",
       "      <td>6200 North Mandell Avenue, Chicago, IL 60646, USA</td>\n",
       "      <td>CULEX RESTUANS</td>\n",
       "      <td>62</td>\n",
       "      <td>N MANDELL AVE</td>\n",
       "      <td>T007</td>\n",
       "      <td>6200  N MANDELL AVE, Chicago, IL</td>\n",
       "      <td>41.994991</td>\n",
       "      <td>-87.769279</td>\n",
       "      <td>9</td>\n",
       "      <td>1</td>\n",
       "      <td>0</td>\n",
       "    </tr>\n",
       "    <tr>\n",
       "      <th>3</th>\n",
       "      <td>2007-05-29</td>\n",
       "      <td>7900 West Foster Avenue, Chicago, IL 60656, USA</td>\n",
       "      <td>CULEX PIPIENS/RESTUANS</td>\n",
       "      <td>79</td>\n",
       "      <td>W FOSTER AVE</td>\n",
       "      <td>T015</td>\n",
       "      <td>7900  W FOSTER AVE, Chicago, IL</td>\n",
       "      <td>41.974089</td>\n",
       "      <td>-87.824812</td>\n",
       "      <td>8</td>\n",
       "      <td>1</td>\n",
       "      <td>0</td>\n",
       "    </tr>\n",
       "    <tr>\n",
       "      <th>4</th>\n",
       "      <td>2007-05-29</td>\n",
       "      <td>7900 West Foster Avenue, Chicago, IL 60656, USA</td>\n",
       "      <td>CULEX RESTUANS</td>\n",
       "      <td>79</td>\n",
       "      <td>W FOSTER AVE</td>\n",
       "      <td>T015</td>\n",
       "      <td>7900  W FOSTER AVE, Chicago, IL</td>\n",
       "      <td>41.974089</td>\n",
       "      <td>-87.824812</td>\n",
       "      <td>8</td>\n",
       "      <td>4</td>\n",
       "      <td>0</td>\n",
       "    </tr>\n",
       "  </tbody>\n",
       "</table>\n",
       "</div>"
      ],
      "text/plain": [
       "         Date                                            Address  \\\n",
       "0  2007-05-29  4100 North Oak Park Avenue, Chicago, IL 60634,...   \n",
       "1  2007-05-29  4100 North Oak Park Avenue, Chicago, IL 60634,...   \n",
       "2  2007-05-29  6200 North Mandell Avenue, Chicago, IL 60646, USA   \n",
       "3  2007-05-29    7900 West Foster Avenue, Chicago, IL 60656, USA   \n",
       "4  2007-05-29    7900 West Foster Avenue, Chicago, IL 60656, USA   \n",
       "\n",
       "                  Species  Block           Street  Trap  \\\n",
       "0  CULEX PIPIENS/RESTUANS     41   N OAK PARK AVE  T002   \n",
       "1          CULEX RESTUANS     41   N OAK PARK AVE  T002   \n",
       "2          CULEX RESTUANS     62    N MANDELL AVE  T007   \n",
       "3  CULEX PIPIENS/RESTUANS     79     W FOSTER AVE  T015   \n",
       "4          CULEX RESTUANS     79     W FOSTER AVE  T015   \n",
       "\n",
       "              AddressNumberAndStreet   Latitude  Longitude  AddressAccuracy  \\\n",
       "0  4100  N OAK PARK AVE, Chicago, IL  41.954690 -87.800991                9   \n",
       "1  4100  N OAK PARK AVE, Chicago, IL  41.954690 -87.800991                9   \n",
       "2   6200  N MANDELL AVE, Chicago, IL  41.994991 -87.769279                9   \n",
       "3    7900  W FOSTER AVE, Chicago, IL  41.974089 -87.824812                8   \n",
       "4    7900  W FOSTER AVE, Chicago, IL  41.974089 -87.824812                8   \n",
       "\n",
       "   NumMosquitos  WnvPresent  \n",
       "0             1           0  \n",
       "1             1           0  \n",
       "2             1           0  \n",
       "3             1           0  \n",
       "4             4           0  "
      ]
     },
     "execution_count": 5,
     "metadata": {},
     "output_type": "execute_result"
    }
   ],
   "source": [
    "train.head()"
   ]
  },
  {
   "cell_type": "code",
   "execution_count": 6,
   "metadata": {},
   "outputs": [
    {
     "data": {
      "text/plain": [
       "(10506, 12)"
      ]
     },
     "execution_count": 6,
     "metadata": {},
     "output_type": "execute_result"
    }
   ],
   "source": [
    "# Shape of the train data\n",
    "train.shape"
   ]
  },
  {
   "cell_type": "code",
   "execution_count": 7,
   "metadata": {},
   "outputs": [
    {
     "data": {
      "text/plain": [
       "Index(['Date', 'Address', 'Species', 'Block', 'Street', 'Trap',\n",
       "       'AddressNumberAndStreet', 'Latitude', 'Longitude', 'AddressAccuracy',\n",
       "       'NumMosquitos', 'WnvPresent'],\n",
       "      dtype='object')"
      ]
     },
     "execution_count": 7,
     "metadata": {},
     "output_type": "execute_result"
    }
   ],
   "source": [
    "# Columns\n",
    "train.columns"
   ]
  },
  {
   "cell_type": "code",
   "execution_count": 8,
   "metadata": {},
   "outputs": [
    {
     "data": {
      "text/plain": [
       "Date                      0\n",
       "Address                   0\n",
       "Species                   0\n",
       "Block                     0\n",
       "Street                    0\n",
       "Trap                      0\n",
       "AddressNumberAndStreet    0\n",
       "Latitude                  0\n",
       "Longitude                 0\n",
       "AddressAccuracy           0\n",
       "NumMosquitos              0\n",
       "WnvPresent                0\n",
       "dtype: int64"
      ]
     },
     "execution_count": 8,
     "metadata": {},
     "output_type": "execute_result"
    }
   ],
   "source": [
    "# No null values\n",
    "train.isnull().sum()"
   ]
  },
  {
   "cell_type": "markdown",
   "metadata": {},
   "source": [
    "## Duplicate entries"
   ]
  },
  {
   "cell_type": "code",
   "execution_count": 9,
   "metadata": {},
   "outputs": [
    {
     "data": {
      "text/plain": [
       "0.019798210546354465"
      ]
     },
     "execution_count": 9,
     "metadata": {},
     "output_type": "execute_result"
    }
   ],
   "source": [
    "# Duplicate entries, any entry less than 50 and check if they're duplicated\n",
    "# They make up less than 2.2%\n",
    "len(train[train['NumMosquitos'] < 50][train[train['NumMosquitos'] < 50].duplicated(keep=False)]) / len(train)"
   ]
  },
  {
   "cell_type": "code",
   "execution_count": 10,
   "metadata": {},
   "outputs": [],
   "source": [
    "# Drop the duplicate entries\n",
    "duplicate_entries = train[train['NumMosquitos'] < 50][train[train['NumMosquitos'] < 50].duplicated(keep=False)].index\n",
    "train = train.drop(duplicate_entries, axis='rows')"
   ]
  },
  {
   "cell_type": "code",
   "execution_count": 11,
   "metadata": {},
   "outputs": [
    {
     "data": {
      "text/plain": [
       "(10298, 12)"
      ]
     },
     "execution_count": 11,
     "metadata": {},
     "output_type": "execute_result"
    }
   ],
   "source": [
    "train.shape"
   ]
  },
  {
   "cell_type": "markdown",
   "metadata": {},
   "source": [
    "# EDA on training Set"
   ]
  },
  {
   "cell_type": "code",
   "execution_count": 35,
   "metadata": {},
   "outputs": [
    {
     "data": {
      "text/html": [
       "<div>\n",
       "<style scoped>\n",
       "    .dataframe tbody tr th:only-of-type {\n",
       "        vertical-align: middle;\n",
       "    }\n",
       "\n",
       "    .dataframe tbody tr th {\n",
       "        vertical-align: top;\n",
       "    }\n",
       "\n",
       "    .dataframe thead th {\n",
       "        text-align: right;\n",
       "    }\n",
       "</style>\n",
       "<table border=\"1\" class=\"dataframe\">\n",
       "  <thead>\n",
       "    <tr style=\"text-align: right;\">\n",
       "      <th></th>\n",
       "      <th>Date</th>\n",
       "      <th>Address</th>\n",
       "      <th>Species</th>\n",
       "      <th>Block</th>\n",
       "      <th>Street</th>\n",
       "      <th>Trap</th>\n",
       "      <th>AddressNumberAndStreet</th>\n",
       "      <th>Latitude</th>\n",
       "      <th>Longitude</th>\n",
       "      <th>AddressAccuracy</th>\n",
       "      <th>NumMosquitos</th>\n",
       "      <th>WnvPresent</th>\n",
       "    </tr>\n",
       "  </thead>\n",
       "  <tbody>\n",
       "    <tr>\n",
       "      <th>0</th>\n",
       "      <td>2007-05-29</td>\n",
       "      <td>4100 North Oak Park Avenue, Chicago, IL 60634,...</td>\n",
       "      <td>CULEX PIPIENS/RESTUANS</td>\n",
       "      <td>41</td>\n",
       "      <td>N OAK PARK AVE</td>\n",
       "      <td>T002</td>\n",
       "      <td>4100  N OAK PARK AVE, Chicago, IL</td>\n",
       "      <td>41.954690</td>\n",
       "      <td>-87.800991</td>\n",
       "      <td>9</td>\n",
       "      <td>1</td>\n",
       "      <td>0</td>\n",
       "    </tr>\n",
       "    <tr>\n",
       "      <th>1</th>\n",
       "      <td>2007-05-29</td>\n",
       "      <td>4100 North Oak Park Avenue, Chicago, IL 60634,...</td>\n",
       "      <td>CULEX RESTUANS</td>\n",
       "      <td>41</td>\n",
       "      <td>N OAK PARK AVE</td>\n",
       "      <td>T002</td>\n",
       "      <td>4100  N OAK PARK AVE, Chicago, IL</td>\n",
       "      <td>41.954690</td>\n",
       "      <td>-87.800991</td>\n",
       "      <td>9</td>\n",
       "      <td>1</td>\n",
       "      <td>0</td>\n",
       "    </tr>\n",
       "    <tr>\n",
       "      <th>2</th>\n",
       "      <td>2007-05-29</td>\n",
       "      <td>6200 North Mandell Avenue, Chicago, IL 60646, USA</td>\n",
       "      <td>CULEX RESTUANS</td>\n",
       "      <td>62</td>\n",
       "      <td>N MANDELL AVE</td>\n",
       "      <td>T007</td>\n",
       "      <td>6200  N MANDELL AVE, Chicago, IL</td>\n",
       "      <td>41.994991</td>\n",
       "      <td>-87.769279</td>\n",
       "      <td>9</td>\n",
       "      <td>1</td>\n",
       "      <td>0</td>\n",
       "    </tr>\n",
       "    <tr>\n",
       "      <th>3</th>\n",
       "      <td>2007-05-29</td>\n",
       "      <td>7900 West Foster Avenue, Chicago, IL 60656, USA</td>\n",
       "      <td>CULEX PIPIENS/RESTUANS</td>\n",
       "      <td>79</td>\n",
       "      <td>W FOSTER AVE</td>\n",
       "      <td>T015</td>\n",
       "      <td>7900  W FOSTER AVE, Chicago, IL</td>\n",
       "      <td>41.974089</td>\n",
       "      <td>-87.824812</td>\n",
       "      <td>8</td>\n",
       "      <td>1</td>\n",
       "      <td>0</td>\n",
       "    </tr>\n",
       "    <tr>\n",
       "      <th>4</th>\n",
       "      <td>2007-05-29</td>\n",
       "      <td>7900 West Foster Avenue, Chicago, IL 60656, USA</td>\n",
       "      <td>CULEX RESTUANS</td>\n",
       "      <td>79</td>\n",
       "      <td>W FOSTER AVE</td>\n",
       "      <td>T015</td>\n",
       "      <td>7900  W FOSTER AVE, Chicago, IL</td>\n",
       "      <td>41.974089</td>\n",
       "      <td>-87.824812</td>\n",
       "      <td>8</td>\n",
       "      <td>4</td>\n",
       "      <td>0</td>\n",
       "    </tr>\n",
       "  </tbody>\n",
       "</table>\n",
       "</div>"
      ],
      "text/plain": [
       "         Date                                            Address  \\\n",
       "0  2007-05-29  4100 North Oak Park Avenue, Chicago, IL 60634,...   \n",
       "1  2007-05-29  4100 North Oak Park Avenue, Chicago, IL 60634,...   \n",
       "2  2007-05-29  6200 North Mandell Avenue, Chicago, IL 60646, USA   \n",
       "3  2007-05-29    7900 West Foster Avenue, Chicago, IL 60656, USA   \n",
       "4  2007-05-29    7900 West Foster Avenue, Chicago, IL 60656, USA   \n",
       "\n",
       "                  Species  Block           Street  Trap  \\\n",
       "0  CULEX PIPIENS/RESTUANS     41   N OAK PARK AVE  T002   \n",
       "1          CULEX RESTUANS     41   N OAK PARK AVE  T002   \n",
       "2          CULEX RESTUANS     62    N MANDELL AVE  T007   \n",
       "3  CULEX PIPIENS/RESTUANS     79     W FOSTER AVE  T015   \n",
       "4          CULEX RESTUANS     79     W FOSTER AVE  T015   \n",
       "\n",
       "              AddressNumberAndStreet   Latitude  Longitude  AddressAccuracy  \\\n",
       "0  4100  N OAK PARK AVE, Chicago, IL  41.954690 -87.800991                9   \n",
       "1  4100  N OAK PARK AVE, Chicago, IL  41.954690 -87.800991                9   \n",
       "2   6200  N MANDELL AVE, Chicago, IL  41.994991 -87.769279                9   \n",
       "3    7900  W FOSTER AVE, Chicago, IL  41.974089 -87.824812                8   \n",
       "4    7900  W FOSTER AVE, Chicago, IL  41.974089 -87.824812                8   \n",
       "\n",
       "   NumMosquitos  WnvPresent  \n",
       "0             1           0  \n",
       "1             1           0  \n",
       "2             1           0  \n",
       "3             1           0  \n",
       "4             4           0  "
      ]
     },
     "execution_count": 35,
     "metadata": {},
     "output_type": "execute_result"
    }
   ],
   "source": [
    "# The first 5 sets of the training set\n",
    "train.head()"
   ]
  },
  {
   "cell_type": "code",
   "execution_count": 36,
   "metadata": {},
   "outputs": [
    {
     "name": "stdout",
     "output_type": "stream",
     "text": [
      "<class 'pandas.core.frame.DataFrame'>\n",
      "Int64Index: 10298 entries, 0 to 10505\n",
      "Data columns (total 12 columns):\n",
      " #   Column                  Non-Null Count  Dtype  \n",
      "---  ------                  --------------  -----  \n",
      " 0   Date                    10298 non-null  object \n",
      " 1   Address                 10298 non-null  object \n",
      " 2   Species                 10298 non-null  object \n",
      " 3   Block                   10298 non-null  int64  \n",
      " 4   Street                  10298 non-null  object \n",
      " 5   Trap                    10298 non-null  object \n",
      " 6   AddressNumberAndStreet  10298 non-null  object \n",
      " 7   Latitude                10298 non-null  float64\n",
      " 8   Longitude               10298 non-null  float64\n",
      " 9   AddressAccuracy         10298 non-null  int64  \n",
      " 10  NumMosquitos            10298 non-null  int64  \n",
      " 11  WnvPresent              10298 non-null  int64  \n",
      "dtypes: float64(2), int64(4), object(6)\n",
      "memory usage: 1.3+ MB\n"
     ]
    }
   ],
   "source": [
    "# A total of 12 columns with 10,506 entries\n",
    "train.info()"
   ]
  },
  {
   "cell_type": "code",
   "execution_count": 37,
   "metadata": {},
   "outputs": [
    {
     "data": {
      "text/html": [
       "<div>\n",
       "<style scoped>\n",
       "    .dataframe tbody tr th:only-of-type {\n",
       "        vertical-align: middle;\n",
       "    }\n",
       "\n",
       "    .dataframe tbody tr th {\n",
       "        vertical-align: top;\n",
       "    }\n",
       "\n",
       "    .dataframe thead th {\n",
       "        text-align: right;\n",
       "    }\n",
       "</style>\n",
       "<table border=\"1\" class=\"dataframe\">\n",
       "  <thead>\n",
       "    <tr style=\"text-align: right;\">\n",
       "      <th></th>\n",
       "      <th>Block</th>\n",
       "      <th>Latitude</th>\n",
       "      <th>Longitude</th>\n",
       "      <th>AddressAccuracy</th>\n",
       "      <th>NumMosquitos</th>\n",
       "      <th>WnvPresent</th>\n",
       "    </tr>\n",
       "  </thead>\n",
       "  <tbody>\n",
       "    <tr>\n",
       "      <th>count</th>\n",
       "      <td>10298.000000</td>\n",
       "      <td>10298.000000</td>\n",
       "      <td>10298.000000</td>\n",
       "      <td>10298.000000</td>\n",
       "      <td>10298.000000</td>\n",
       "      <td>10298.000000</td>\n",
       "    </tr>\n",
       "    <tr>\n",
       "      <th>mean</th>\n",
       "      <td>35.854146</td>\n",
       "      <td>41.840275</td>\n",
       "      <td>-87.698671</td>\n",
       "      <td>7.809089</td>\n",
       "      <td>12.974364</td>\n",
       "      <td>0.053311</td>\n",
       "    </tr>\n",
       "    <tr>\n",
       "      <th>std</th>\n",
       "      <td>24.316443</td>\n",
       "      <td>0.112607</td>\n",
       "      <td>0.095521</td>\n",
       "      <td>1.455322</td>\n",
       "      <td>16.188818</td>\n",
       "      <td>0.224664</td>\n",
       "    </tr>\n",
       "    <tr>\n",
       "      <th>min</th>\n",
       "      <td>10.000000</td>\n",
       "      <td>41.644612</td>\n",
       "      <td>-87.930995</td>\n",
       "      <td>3.000000</td>\n",
       "      <td>1.000000</td>\n",
       "      <td>0.000000</td>\n",
       "    </tr>\n",
       "    <tr>\n",
       "      <th>25%</th>\n",
       "      <td>12.000000</td>\n",
       "      <td>41.732984</td>\n",
       "      <td>-87.757639</td>\n",
       "      <td>8.000000</td>\n",
       "      <td>2.000000</td>\n",
       "      <td>0.000000</td>\n",
       "    </tr>\n",
       "    <tr>\n",
       "      <th>50%</th>\n",
       "      <td>35.000000</td>\n",
       "      <td>41.846075</td>\n",
       "      <td>-87.694991</td>\n",
       "      <td>8.000000</td>\n",
       "      <td>5.000000</td>\n",
       "      <td>0.000000</td>\n",
       "    </tr>\n",
       "    <tr>\n",
       "      <th>75%</th>\n",
       "      <td>52.000000</td>\n",
       "      <td>41.951866</td>\n",
       "      <td>-87.627796</td>\n",
       "      <td>9.000000</td>\n",
       "      <td>17.000000</td>\n",
       "      <td>0.000000</td>\n",
       "    </tr>\n",
       "    <tr>\n",
       "      <th>max</th>\n",
       "      <td>98.000000</td>\n",
       "      <td>42.017430</td>\n",
       "      <td>-87.531635</td>\n",
       "      <td>9.000000</td>\n",
       "      <td>50.000000</td>\n",
       "      <td>1.000000</td>\n",
       "    </tr>\n",
       "  </tbody>\n",
       "</table>\n",
       "</div>"
      ],
      "text/plain": [
       "              Block      Latitude     Longitude  AddressAccuracy  \\\n",
       "count  10298.000000  10298.000000  10298.000000     10298.000000   \n",
       "mean      35.854146     41.840275    -87.698671         7.809089   \n",
       "std       24.316443      0.112607      0.095521         1.455322   \n",
       "min       10.000000     41.644612    -87.930995         3.000000   \n",
       "25%       12.000000     41.732984    -87.757639         8.000000   \n",
       "50%       35.000000     41.846075    -87.694991         8.000000   \n",
       "75%       52.000000     41.951866    -87.627796         9.000000   \n",
       "max       98.000000     42.017430    -87.531635         9.000000   \n",
       "\n",
       "       NumMosquitos    WnvPresent  \n",
       "count  10298.000000  10298.000000  \n",
       "mean      12.974364      0.053311  \n",
       "std       16.188818      0.224664  \n",
       "min        1.000000      0.000000  \n",
       "25%        2.000000      0.000000  \n",
       "50%        5.000000      0.000000  \n",
       "75%       17.000000      0.000000  \n",
       "max       50.000000      1.000000  "
      ]
     },
     "execution_count": 37,
     "metadata": {},
     "output_type": "execute_result"
    }
   ],
   "source": [
    "train.describe()"
   ]
  },
  {
   "cell_type": "markdown",
   "metadata": {},
   "source": [
    "# Questions to ask\n",
    "* Is there any correlation between the number of mosquitos and presence of the WNV\n",
    "* Does the WNV occurs in the same areas every year?\n",
    "* How many species there are and if there is a greater incidence of WNV in certain species\n",
    "    * `Culex Tarsalis` Mosquitos seems to be the main culprit, but this is not true when investigating the dataset. `CULEX PIPIENS` and the `CULEX RESTUANS` are the common type of mosquitos with West Nile Virus\n",
    "    * 7 Species total in the training set"
   ]
  },
  {
   "cell_type": "markdown",
   "metadata": {},
   "source": [
    "## Correlation between number of mosquitos and the presence of WNV"
   ]
  },
  {
   "cell_type": "code",
   "execution_count": 38,
   "metadata": {},
   "outputs": [
    {
     "data": {
      "image/png": "[encoded data removed]",
      "text/plain": [
       "<Figure size 792x504 with 2 Axes>"
      ]
     },
     "metadata": {},
     "output_type": "display_data"
    }
   ],
   "source": [
    "mask = np.zeros_like(train.corr())\n",
    "mask[np.triu_indices_from(mask)] = True\n",
    "\n",
    "\n",
    "plt.figure(figsize=(11,7))\n",
    "sns.heatmap(train.corr(),cmap='coolwarm',annot=True, mask = mask, annot_kws={'size':12})\n",
    "plt.title('Correlation between Number of mosquitos and presence of WNV', fontsize=15)\n",
    "plt.xticks(fontsize=12)\n",
    "plt.yticks(fontsize=12)\n",
    "\n",
    "\n",
    "plt.show()"
   ]
  },
  {
   "cell_type": "markdown",
   "metadata": {},
   "source": [
    "With a correlation of *0.2*, there is **very little correlation** between `WnvPresent` and ` NumMosquitos`. There is also very little correlation between the other features except for `Longitude` and `Latitude`."
   ]
  },
  {
   "cell_type": "markdown",
   "metadata": {},
   "source": [
    "## Does the WNV occurs in the same areas every year?"
   ]
  },
  {
   "cell_type": "code",
   "execution_count": 39,
   "metadata": {},
   "outputs": [
    {
     "data": {
      "text/plain": [
       "0       2007-05-29\n",
       "1       2007-05-29\n",
       "2       2007-05-29\n",
       "3       2007-05-29\n",
       "4       2007-05-29\n",
       "           ...    \n",
       "10501   2013-09-26\n",
       "10502   2013-09-26\n",
       "10503   2013-09-26\n",
       "10504   2013-09-26\n",
       "10505   2013-09-26\n",
       "Name: Date, Length: 10298, dtype: datetime64[ns]"
      ]
     },
     "execution_count": 39,
     "metadata": {},
     "output_type": "execute_result"
    }
   ],
   "source": [
    "# Convert Date type from object to Datetime\n",
    "train['Date'] = pd.to_datetime(train['Date'])\n",
    "train['Date']"
   ]
  },
  {
   "cell_type": "code",
   "execution_count": 40,
   "metadata": {},
   "outputs": [
    {
     "data": {
      "text/html": [
       "<div>\n",
       "<style scoped>\n",
       "    .dataframe tbody tr th:only-of-type {\n",
       "        vertical-align: middle;\n",
       "    }\n",
       "\n",
       "    .dataframe tbody tr th {\n",
       "        vertical-align: top;\n",
       "    }\n",
       "\n",
       "    .dataframe thead th {\n",
       "        text-align: right;\n",
       "    }\n",
       "</style>\n",
       "<table border=\"1\" class=\"dataframe\">\n",
       "  <thead>\n",
       "    <tr style=\"text-align: right;\">\n",
       "      <th></th>\n",
       "      <th>Date</th>\n",
       "      <th>year</th>\n",
       "      <th>Address</th>\n",
       "      <th>Species</th>\n",
       "      <th>Block</th>\n",
       "      <th>Street</th>\n",
       "      <th>Trap</th>\n",
       "      <th>AddressNumberAndStreet</th>\n",
       "      <th>Latitude</th>\n",
       "      <th>Longitude</th>\n",
       "      <th>AddressAccuracy</th>\n",
       "      <th>NumMosquitos</th>\n",
       "      <th>WnvPresent</th>\n",
       "    </tr>\n",
       "  </thead>\n",
       "  <tbody>\n",
       "    <tr>\n",
       "      <th>0</th>\n",
       "      <td>2007-05-29</td>\n",
       "      <td>2007</td>\n",
       "      <td>4100 North Oak Park Avenue, Chicago, IL 60634,...</td>\n",
       "      <td>CULEX PIPIENS/RESTUANS</td>\n",
       "      <td>41</td>\n",
       "      <td>N OAK PARK AVE</td>\n",
       "      <td>T002</td>\n",
       "      <td>4100  N OAK PARK AVE, Chicago, IL</td>\n",
       "      <td>41.954690</td>\n",
       "      <td>-87.800991</td>\n",
       "      <td>9</td>\n",
       "      <td>1</td>\n",
       "      <td>0</td>\n",
       "    </tr>\n",
       "    <tr>\n",
       "      <th>1</th>\n",
       "      <td>2007-05-29</td>\n",
       "      <td>2007</td>\n",
       "      <td>4100 North Oak Park Avenue, Chicago, IL 60634,...</td>\n",
       "      <td>CULEX RESTUANS</td>\n",
       "      <td>41</td>\n",
       "      <td>N OAK PARK AVE</td>\n",
       "      <td>T002</td>\n",
       "      <td>4100  N OAK PARK AVE, Chicago, IL</td>\n",
       "      <td>41.954690</td>\n",
       "      <td>-87.800991</td>\n",
       "      <td>9</td>\n",
       "      <td>1</td>\n",
       "      <td>0</td>\n",
       "    </tr>\n",
       "    <tr>\n",
       "      <th>2</th>\n",
       "      <td>2007-05-29</td>\n",
       "      <td>2007</td>\n",
       "      <td>6200 North Mandell Avenue, Chicago, IL 60646, USA</td>\n",
       "      <td>CULEX RESTUANS</td>\n",
       "      <td>62</td>\n",
       "      <td>N MANDELL AVE</td>\n",
       "      <td>T007</td>\n",
       "      <td>6200  N MANDELL AVE, Chicago, IL</td>\n",
       "      <td>41.994991</td>\n",
       "      <td>-87.769279</td>\n",
       "      <td>9</td>\n",
       "      <td>1</td>\n",
       "      <td>0</td>\n",
       "    </tr>\n",
       "  </tbody>\n",
       "</table>\n",
       "</div>"
      ],
      "text/plain": [
       "        Date  year                                            Address  \\\n",
       "0 2007-05-29  2007  4100 North Oak Park Avenue, Chicago, IL 60634,...   \n",
       "1 2007-05-29  2007  4100 North Oak Park Avenue, Chicago, IL 60634,...   \n",
       "2 2007-05-29  2007  6200 North Mandell Avenue, Chicago, IL 60646, USA   \n",
       "\n",
       "                  Species  Block           Street  Trap  \\\n",
       "0  CULEX PIPIENS/RESTUANS     41   N OAK PARK AVE  T002   \n",
       "1          CULEX RESTUANS     41   N OAK PARK AVE  T002   \n",
       "2          CULEX RESTUANS     62    N MANDELL AVE  T007   \n",
       "\n",
       "              AddressNumberAndStreet   Latitude  Longitude  AddressAccuracy  \\\n",
       "0  4100  N OAK PARK AVE, Chicago, IL  41.954690 -87.800991                9   \n",
       "1  4100  N OAK PARK AVE, Chicago, IL  41.954690 -87.800991                9   \n",
       "2   6200  N MANDELL AVE, Chicago, IL  41.994991 -87.769279                9   \n",
       "\n",
       "   NumMosquitos  WnvPresent  \n",
       "0             1           0  \n",
       "1             1           0  \n",
       "2             1           0  "
      ]
     },
     "execution_count": 40,
     "metadata": {},
     "output_type": "execute_result"
    }
   ],
   "source": [
    "# Add the year column into the dataframe\n",
    "train.insert(1,'year', train['Date'].dt.year)\n",
    "train.head(3)"
   ]
  },
  {
   "cell_type": "code",
   "execution_count": 41,
   "metadata": {},
   "outputs": [],
   "source": [
    "# 2007\n",
    "WNV_2007 = train.loc[(train['WnvPresent'] == 1) & (train['year'] == 2007)]['Street'].value_counts(normalize=True)[:10]"
   ]
  },
  {
   "cell_type": "code",
   "execution_count": 42,
   "metadata": {},
   "outputs": [],
   "source": [
    "# 2009\n",
    "WNV_2009 = train.loc[(train['WnvPresent'] == 1) & (train['year'] == 2009)]['Street'].value_counts(normalize=True)[:10]"
   ]
  },
  {
   "cell_type": "code",
   "execution_count": 43,
   "metadata": {},
   "outputs": [],
   "source": [
    "# 2011\n",
    "WNV_2011 = train.loc[(train['WnvPresent'] == 1) & (train['year'] == 2011)]['Street'].value_counts(normalize=True)[:10]"
   ]
  },
  {
   "cell_type": "code",
   "execution_count": 44,
   "metadata": {},
   "outputs": [],
   "source": [
    "# 2013\n",
    "WNV_2013 = train.loc[(train['WnvPresent'] == 1) & (train['year'] == 2013)]['Street'].value_counts(normalize=True)[:10]"
   ]
  },
  {
   "cell_type": "code",
   "execution_count": 45,
   "metadata": {},
   "outputs": [
    {
     "data": {
      "text/plain": [
       "Index([], dtype='object')"
      ]
     },
     "execution_count": 45,
     "metadata": {},
     "output_type": "execute_result"
    }
   ],
   "source": [
    "# No common places between 2009 to 2013\n",
    "WNV_2007.index.intersection(WNV_2009.index).intersection(WNV_2011.index).intersection(WNV_2013.index)"
   ]
  },
  {
   "cell_type": "code",
   "execution_count": 46,
   "metadata": {},
   "outputs": [
    {
     "data": {
      "text/plain": [
       "Index([' N PITTSBURGH AVE'], dtype='object')"
      ]
     },
     "execution_count": 46,
     "metadata": {},
     "output_type": "execute_result"
    }
   ],
   "source": [
    "# Most common place between 2007 to 2009\n",
    "WNV_2007.index.intersection(WNV_2009.index)"
   ]
  },
  {
   "cell_type": "code",
   "execution_count": 47,
   "metadata": {},
   "outputs": [
    {
     "data": {
      "text/plain": [
       "Index([' W OHARE', ' W OHARE AIRPORT', ' W 116TH ST'], dtype='object')"
      ]
     },
     "execution_count": 47,
     "metadata": {},
     "output_type": "execute_result"
    }
   ],
   "source": [
    "# Most common place between 2009 to 2011\n",
    "WNV_2009.index.intersection(WNV_2011.index)"
   ]
  },
  {
   "cell_type": "code",
   "execution_count": 48,
   "metadata": {},
   "outputs": [
    {
     "data": {
      "text/plain": [
       "Index([' W OHARE AIRPORT', ' N MILWAUKEE AVE', ' N PULASKI RD',\n",
       "       ' S KOSTNER AVE'],\n",
       "      dtype='object')"
      ]
     },
     "execution_count": 48,
     "metadata": {},
     "output_type": "execute_result"
    }
   ],
   "source": [
    "# Most common place between 2011 to 2013\n",
    "WNV_2011.index.intersection(WNV_2013.index)"
   ]
  },
  {
   "cell_type": "markdown",
   "metadata": {},
   "source": [
    "`W OHARE` and `W OHARE AIRPORT` and ` S KOSTNER AVE` are the most common streets to have mosquitos with WNV present **between 2009 and 2013**."
   ]
  },
  {
   "cell_type": "code",
   "execution_count": 52,
   "metadata": {},
   "outputs": [
    {
     "data": {
      "text/plain": [
       "<AxesSubplot:title={'center':'Streets with strong WNV presence'}, ylabel='Proportion'>"
      ]
     },
     "execution_count": 52,
     "metadata": {},
     "output_type": "execute_result"
    },
    {
     "data": {
      "image/png": "[encoded data removed]",
      "text/plain": [
       "<Figure size 792x504 with 1 Axes>"
      ]
     },
     "metadata": {},
     "output_type": "display_data"
    }
   ],
   "source": [
    "# Top occuring streets with WNV\n",
    "train[train['WnvPresent'] == 1]['Street'].value_counts(normalize=True)[:11].plot(kind='bar', \n",
    "                                                                                 title='Streets with strong WNV presence', figsize=(11,7), ylabel='Proportion')"
   ]
  },
  {
   "cell_type": "markdown",
   "metadata": {},
   "source": [
    "## Groupby NumMosquitos"
   ]
  },
  {
   "cell_type": "code",
   "execution_count": 53,
   "metadata": {},
   "outputs": [
    {
     "data": {
      "text/plain": [
       "0       2007-05-29\n",
       "1       2007-05-29\n",
       "2       2007-05-29\n",
       "3       2007-05-29\n",
       "4       2007-05-29\n",
       "           ...    \n",
       "10501   2013-09-26\n",
       "10502   2013-09-26\n",
       "10503   2013-09-26\n",
       "10504   2013-09-26\n",
       "10505   2013-09-26\n",
       "Name: Date, Length: 10298, dtype: datetime64[ns]"
      ]
     },
     "execution_count": 53,
     "metadata": {},
     "output_type": "execute_result"
    }
   ],
   "source": [
    "train['Date']"
   ]
  },
  {
   "cell_type": "code",
   "execution_count": 65,
   "metadata": {},
   "outputs": [
    {
     "data": {
      "text/html": [
       "<div>\n",
       "<style scoped>\n",
       "    .dataframe tbody tr th:only-of-type {\n",
       "        vertical-align: middle;\n",
       "    }\n",
       "\n",
       "    .dataframe tbody tr th {\n",
       "        vertical-align: top;\n",
       "    }\n",
       "\n",
       "    .dataframe thead th {\n",
       "        text-align: right;\n",
       "    }\n",
       "</style>\n",
       "<table border=\"1\" class=\"dataframe\">\n",
       "  <thead>\n",
       "    <tr style=\"text-align: right;\">\n",
       "      <th></th>\n",
       "      <th>year</th>\n",
       "      <th>Block</th>\n",
       "      <th>Latitude</th>\n",
       "      <th>Longitude</th>\n",
       "      <th>AddressAccuracy</th>\n",
       "      <th>NumMosquitos</th>\n",
       "      <th>WnvPresent</th>\n",
       "    </tr>\n",
       "    <tr>\n",
       "      <th>Street</th>\n",
       "      <th></th>\n",
       "      <th></th>\n",
       "      <th></th>\n",
       "      <th></th>\n",
       "      <th></th>\n",
       "      <th></th>\n",
       "      <th></th>\n",
       "    </tr>\n",
       "  </thead>\n",
       "  <tbody>\n",
       "    <tr>\n",
       "      <th>W ARMITAGE AVENUE</th>\n",
       "      <td>2010.038961</td>\n",
       "      <td>70.000000</td>\n",
       "      <td>41.916265</td>\n",
       "      <td>-87.800515</td>\n",
       "      <td>8.000000</td>\n",
       "      <td>12.448052</td>\n",
       "      <td>0.038961</td>\n",
       "    </tr>\n",
       "    <tr>\n",
       "      <th>E 105TH ST</th>\n",
       "      <td>2009.412500</td>\n",
       "      <td>24.000000</td>\n",
       "      <td>41.704572</td>\n",
       "      <td>-87.565666</td>\n",
       "      <td>8.000000</td>\n",
       "      <td>20.718750</td>\n",
       "      <td>0.068750</td>\n",
       "    </tr>\n",
       "    <tr>\n",
       "      <th>E 111TH ST</th>\n",
       "      <td>2007.000000</td>\n",
       "      <td>20.000000</td>\n",
       "      <td>41.692555</td>\n",
       "      <td>-87.598865</td>\n",
       "      <td>8.000000</td>\n",
       "      <td>4.142857</td>\n",
       "      <td>0.047619</td>\n",
       "    </tr>\n",
       "    <tr>\n",
       "      <th>E 115TH ST</th>\n",
       "      <td>2007.000000</td>\n",
       "      <td>38.000000</td>\n",
       "      <td>41.686398</td>\n",
       "      <td>-87.531635</td>\n",
       "      <td>8.000000</td>\n",
       "      <td>18.933333</td>\n",
       "      <td>0.066667</td>\n",
       "    </tr>\n",
       "    <tr>\n",
       "      <th>E 118TH ST</th>\n",
       "      <td>2009.266667</td>\n",
       "      <td>37.000000</td>\n",
       "      <td>41.680946</td>\n",
       "      <td>-87.535198</td>\n",
       "      <td>8.000000</td>\n",
       "      <td>16.806667</td>\n",
       "      <td>0.020000</td>\n",
       "    </tr>\n",
       "    <tr>\n",
       "      <th>E 130TH ST</th>\n",
       "      <td>2010.454545</td>\n",
       "      <td>40.000000</td>\n",
       "      <td>41.659112</td>\n",
       "      <td>-87.538693</td>\n",
       "      <td>8.000000</td>\n",
       "      <td>14.736364</td>\n",
       "      <td>0.081818</td>\n",
       "    </tr>\n",
       "    <tr>\n",
       "      <th>E 138TH ST</th>\n",
       "      <td>2007.000000</td>\n",
       "      <td>82.000000</td>\n",
       "      <td>41.644612</td>\n",
       "      <td>-87.604498</td>\n",
       "      <td>5.000000</td>\n",
       "      <td>7.588235</td>\n",
       "      <td>0.058824</td>\n",
       "    </tr>\n",
       "    <tr>\n",
       "      <th>E 67TH ST</th>\n",
       "      <td>2009.919355</td>\n",
       "      <td>10.000000</td>\n",
       "      <td>41.773215</td>\n",
       "      <td>-87.600880</td>\n",
       "      <td>8.000000</td>\n",
       "      <td>6.838710</td>\n",
       "      <td>0.032258</td>\n",
       "    </tr>\n",
       "    <tr>\n",
       "      <th>E 91ST PL</th>\n",
       "      <td>2011.736842</td>\n",
       "      <td>65.000000</td>\n",
       "      <td>41.728495</td>\n",
       "      <td>-87.600963</td>\n",
       "      <td>5.000000</td>\n",
       "      <td>14.250000</td>\n",
       "      <td>0.052632</td>\n",
       "    </tr>\n",
       "    <tr>\n",
       "      <th>E 91ST ST</th>\n",
       "      <td>2007.000000</td>\n",
       "      <td>81.000000</td>\n",
       "      <td>41.729669</td>\n",
       "      <td>-87.582699</td>\n",
       "      <td>5.000000</td>\n",
       "      <td>3.909091</td>\n",
       "      <td>0.090909</td>\n",
       "    </tr>\n",
       "    <tr>\n",
       "      <th>E RANDOLPH ST</th>\n",
       "      <td>2007.000000</td>\n",
       "      <td>33.000000</td>\n",
       "      <td>41.883284</td>\n",
       "      <td>-87.705085</td>\n",
       "      <td>8.000000</td>\n",
       "      <td>2.615385</td>\n",
       "      <td>0.000000</td>\n",
       "    </tr>\n",
       "    <tr>\n",
       "      <th>N ASHLAND AVE</th>\n",
       "      <td>2012.080000</td>\n",
       "      <td>17.000000</td>\n",
       "      <td>41.912563</td>\n",
       "      <td>-87.668055</td>\n",
       "      <td>9.000000</td>\n",
       "      <td>5.720000</td>\n",
       "      <td>0.040000</td>\n",
       "    </tr>\n",
       "    <tr>\n",
       "      <th>N ASHLAND AVE OVERPASS</th>\n",
       "      <td>2009.643678</td>\n",
       "      <td>43.000000</td>\n",
       "      <td>41.878114</td>\n",
       "      <td>-87.629798</td>\n",
       "      <td>3.000000</td>\n",
       "      <td>4.574713</td>\n",
       "      <td>0.011494</td>\n",
       "    </tr>\n",
       "    <tr>\n",
       "      <th>N AUSTIN AVE</th>\n",
       "      <td>2007.000000</td>\n",
       "      <td>40.000000</td>\n",
       "      <td>41.953067</td>\n",
       "      <td>-87.776792</td>\n",
       "      <td>8.000000</td>\n",
       "      <td>3.222222</td>\n",
       "      <td>0.055556</td>\n",
       "    </tr>\n",
       "    <tr>\n",
       "      <th>N AVONDALE AVE</th>\n",
       "      <td>2007.000000</td>\n",
       "      <td>60.000000</td>\n",
       "      <td>41.990284</td>\n",
       "      <td>-87.797127</td>\n",
       "      <td>8.000000</td>\n",
       "      <td>4.458333</td>\n",
       "      <td>0.166667</td>\n",
       "    </tr>\n",
       "    <tr>\n",
       "      <th>N CALIFORNIA AVE</th>\n",
       "      <td>2007.000000</td>\n",
       "      <td>38.000000</td>\n",
       "      <td>41.949830</td>\n",
       "      <td>-87.698457</td>\n",
       "      <td>9.000000</td>\n",
       "      <td>3.130435</td>\n",
       "      <td>0.000000</td>\n",
       "    </tr>\n",
       "    <tr>\n",
       "      <th>N CAMPBELL AVE</th>\n",
       "      <td>2009.836735</td>\n",
       "      <td>45.000000</td>\n",
       "      <td>41.963976</td>\n",
       "      <td>-87.691810</td>\n",
       "      <td>9.000000</td>\n",
       "      <td>6.438776</td>\n",
       "      <td>0.040816</td>\n",
       "    </tr>\n",
       "    <tr>\n",
       "      <th>N CANNON DR</th>\n",
       "      <td>2010.325000</td>\n",
       "      <td>21.943750</td>\n",
       "      <td>41.922172</td>\n",
       "      <td>-87.632170</td>\n",
       "      <td>8.000000</td>\n",
       "      <td>7.268750</td>\n",
       "      <td>0.043750</td>\n",
       "    </tr>\n",
       "    <tr>\n",
       "      <th>N CENTRAL PARK DR</th>\n",
       "      <td>2010.409836</td>\n",
       "      <td>10.000000</td>\n",
       "      <td>41.899230</td>\n",
       "      <td>-87.716788</td>\n",
       "      <td>9.000000</td>\n",
       "      <td>14.737705</td>\n",
       "      <td>0.065574</td>\n",
       "    </tr>\n",
       "    <tr>\n",
       "      <th>N FRANCISCO AVE</th>\n",
       "      <td>2010.265306</td>\n",
       "      <td>28.000000</td>\n",
       "      <td>41.932094</td>\n",
       "      <td>-87.700117</td>\n",
       "      <td>8.000000</td>\n",
       "      <td>4.989796</td>\n",
       "      <td>0.040816</td>\n",
       "    </tr>\n",
       "    <tr>\n",
       "      <th>N HARLEM AVE</th>\n",
       "      <td>2012.360000</td>\n",
       "      <td>71.000000</td>\n",
       "      <td>42.009876</td>\n",
       "      <td>-87.807277</td>\n",
       "      <td>9.000000</td>\n",
       "      <td>15.160000</td>\n",
       "      <td>0.140000</td>\n",
       "    </tr>\n",
       "    <tr>\n",
       "      <th>N HUMBOLDT DR</th>\n",
       "      <td>2010.051546</td>\n",
       "      <td>14.000000</td>\n",
       "      <td>41.906638</td>\n",
       "      <td>-87.701431</td>\n",
       "      <td>9.000000</td>\n",
       "      <td>7.010309</td>\n",
       "      <td>0.051546</td>\n",
       "    </tr>\n",
       "    <tr>\n",
       "      <th>N KEDVALE AVE</th>\n",
       "      <td>2008.864865</td>\n",
       "      <td>37.000000</td>\n",
       "      <td>41.948167</td>\n",
       "      <td>-87.730698</td>\n",
       "      <td>8.000000</td>\n",
       "      <td>5.337838</td>\n",
       "      <td>0.027027</td>\n",
       "    </tr>\n",
       "    <tr>\n",
       "      <th>N LARAMIE AVE</th>\n",
       "      <td>2011.646154</td>\n",
       "      <td>13.000000</td>\n",
       "      <td>41.904194</td>\n",
       "      <td>-87.756155</td>\n",
       "      <td>9.000000</td>\n",
       "      <td>9.907692</td>\n",
       "      <td>0.107692</td>\n",
       "    </tr>\n",
       "    <tr>\n",
       "      <th>N LAWLER AVE</th>\n",
       "      <td>2007.000000</td>\n",
       "      <td>21.000000</td>\n",
       "      <td>41.918705</td>\n",
       "      <td>-87.752329</td>\n",
       "      <td>8.000000</td>\n",
       "      <td>8.952381</td>\n",
       "      <td>0.095238</td>\n",
       "    </tr>\n",
       "    <tr>\n",
       "      <th>N LEMONT AVE</th>\n",
       "      <td>2010.085714</td>\n",
       "      <td>61.000000</td>\n",
       "      <td>41.991429</td>\n",
       "      <td>-87.747113</td>\n",
       "      <td>8.000000</td>\n",
       "      <td>9.066667</td>\n",
       "      <td>0.038095</td>\n",
       "    </tr>\n",
       "    <tr>\n",
       "      <th>N LONG AVE</th>\n",
       "      <td>2007.923077</td>\n",
       "      <td>15.000000</td>\n",
       "      <td>41.907645</td>\n",
       "      <td>-87.760886</td>\n",
       "      <td>8.000000</td>\n",
       "      <td>6.512821</td>\n",
       "      <td>0.000000</td>\n",
       "    </tr>\n",
       "    <tr>\n",
       "      <th>N MANDELL AVE</th>\n",
       "      <td>2007.000000</td>\n",
       "      <td>62.000000</td>\n",
       "      <td>41.994991</td>\n",
       "      <td>-87.769279</td>\n",
       "      <td>9.000000</td>\n",
       "      <td>3.347826</td>\n",
       "      <td>0.000000</td>\n",
       "    </tr>\n",
       "    <tr>\n",
       "      <th>N MCCLELLAN AVE</th>\n",
       "      <td>2012.636364</td>\n",
       "      <td>62.000000</td>\n",
       "      <td>41.994679</td>\n",
       "      <td>-87.770899</td>\n",
       "      <td>8.000000</td>\n",
       "      <td>11.363636</td>\n",
       "      <td>0.030303</td>\n",
       "    </tr>\n",
       "    <tr>\n",
       "      <th>N MILWAUKEE AVE</th>\n",
       "      <td>2010.066667</td>\n",
       "      <td>46.000000</td>\n",
       "      <td>41.964242</td>\n",
       "      <td>-87.757639</td>\n",
       "      <td>8.000000</td>\n",
       "      <td>11.200000</td>\n",
       "      <td>0.116667</td>\n",
       "    </tr>\n",
       "    <tr>\n",
       "      <th>N MONT CLARE AVE</th>\n",
       "      <td>2011.091954</td>\n",
       "      <td>51.000000</td>\n",
       "      <td>41.973845</td>\n",
       "      <td>-87.805059</td>\n",
       "      <td>9.000000</td>\n",
       "      <td>14.724138</td>\n",
       "      <td>0.103448</td>\n",
       "    </tr>\n",
       "    <tr>\n",
       "      <th>N MOSELL AVE</th>\n",
       "      <td>2010.007407</td>\n",
       "      <td>70.000000</td>\n",
       "      <td>42.008314</td>\n",
       "      <td>-87.777921</td>\n",
       "      <td>9.000000</td>\n",
       "      <td>19.303704</td>\n",
       "      <td>0.074074</td>\n",
       "    </tr>\n",
       "    <tr>\n",
       "      <th>N OAK PARK AVE</th>\n",
       "      <td>2009.672897</td>\n",
       "      <td>44.476636</td>\n",
       "      <td>41.961127</td>\n",
       "      <td>-87.800208</td>\n",
       "      <td>8.855140</td>\n",
       "      <td>18.261682</td>\n",
       "      <td>0.112150</td>\n",
       "    </tr>\n",
       "    <tr>\n",
       "      <th>N OAKLEY AVE</th>\n",
       "      <td>2008.353846</td>\n",
       "      <td>75.000000</td>\n",
       "      <td>42.017430</td>\n",
       "      <td>-87.687769</td>\n",
       "      <td>8.000000</td>\n",
       "      <td>3.153846</td>\n",
       "      <td>0.000000</td>\n",
       "    </tr>\n",
       "    <tr>\n",
       "      <th>N OKETO AVE</th>\n",
       "      <td>2007.818182</td>\n",
       "      <td>72.000000</td>\n",
       "      <td>42.011601</td>\n",
       "      <td>-87.811506</td>\n",
       "      <td>8.000000</td>\n",
       "      <td>12.833333</td>\n",
       "      <td>0.106061</td>\n",
       "    </tr>\n",
       "    <tr>\n",
       "      <th>N PITTSBURGH AVE</th>\n",
       "      <td>2009.842105</td>\n",
       "      <td>36.000000</td>\n",
       "      <td>41.944869</td>\n",
       "      <td>-87.832763</td>\n",
       "      <td>8.000000</td>\n",
       "      <td>9.857143</td>\n",
       "      <td>0.082707</td>\n",
       "    </tr>\n",
       "    <tr>\n",
       "      <th>N PULASKI RD</th>\n",
       "      <td>2010.375723</td>\n",
       "      <td>39.040462</td>\n",
       "      <td>41.951059</td>\n",
       "      <td>-87.727680</td>\n",
       "      <td>8.462428</td>\n",
       "      <td>6.184971</td>\n",
       "      <td>0.063584</td>\n",
       "    </tr>\n",
       "    <tr>\n",
       "      <th>N RICHMOND ST</th>\n",
       "      <td>2007.000000</td>\n",
       "      <td>42.000000</td>\n",
       "      <td>41.958271</td>\n",
       "      <td>-87.702575</td>\n",
       "      <td>9.000000</td>\n",
       "      <td>3.677419</td>\n",
       "      <td>0.000000</td>\n",
       "    </tr>\n",
       "    <tr>\n",
       "      <th>N RIDGE AVE</th>\n",
       "      <td>2012.476190</td>\n",
       "      <td>58.000000</td>\n",
       "      <td>41.987280</td>\n",
       "      <td>-87.666066</td>\n",
       "      <td>8.000000</td>\n",
       "      <td>12.404762</td>\n",
       "      <td>0.095238</td>\n",
       "    </tr>\n",
       "    <tr>\n",
       "      <th>N RUTHERFORD AVE</th>\n",
       "      <td>2008.594595</td>\n",
       "      <td>33.000000</td>\n",
       "      <td>41.940160</td>\n",
       "      <td>-87.794896</td>\n",
       "      <td>9.000000</td>\n",
       "      <td>9.297297</td>\n",
       "      <td>0.027027</td>\n",
       "    </tr>\n",
       "    <tr>\n",
       "      <th>N SPRINGFIELD AVE</th>\n",
       "      <td>2011.806452</td>\n",
       "      <td>39.000000</td>\n",
       "      <td>41.951866</td>\n",
       "      <td>-87.725057</td>\n",
       "      <td>8.000000</td>\n",
       "      <td>10.370968</td>\n",
       "      <td>0.096774</td>\n",
       "    </tr>\n",
       "    <tr>\n",
       "      <th>N STAVE ST</th>\n",
       "      <td>2007.000000</td>\n",
       "      <td>21.000000</td>\n",
       "      <td>41.919343</td>\n",
       "      <td>-87.694259</td>\n",
       "      <td>8.000000</td>\n",
       "      <td>4.000000</td>\n",
       "      <td>0.000000</td>\n",
       "    </tr>\n",
       "    <tr>\n",
       "      <th>N STREETER DR</th>\n",
       "      <td>2007.000000</td>\n",
       "      <td>53.000000</td>\n",
       "      <td>41.891126</td>\n",
       "      <td>-87.611560</td>\n",
       "      <td>5.000000</td>\n",
       "      <td>2.482759</td>\n",
       "      <td>0.000000</td>\n",
       "    </tr>\n",
       "    <tr>\n",
       "      <th>N TRIPP AVE</th>\n",
       "      <td>2007.000000</td>\n",
       "      <td>40.000000</td>\n",
       "      <td>41.953705</td>\n",
       "      <td>-87.733974</td>\n",
       "      <td>8.000000</td>\n",
       "      <td>1.666667</td>\n",
       "      <td>0.000000</td>\n",
       "    </tr>\n",
       "    <tr>\n",
       "      <th>N WESTERN AVE</th>\n",
       "      <td>2009.765217</td>\n",
       "      <td>58.000000</td>\n",
       "      <td>41.986921</td>\n",
       "      <td>-87.689778</td>\n",
       "      <td>9.000000</td>\n",
       "      <td>8.852174</td>\n",
       "      <td>0.078261</td>\n",
       "    </tr>\n",
       "    <tr>\n",
       "      <th>S ARTESIAN AVE</th>\n",
       "      <td>2009.112360</td>\n",
       "      <td>11.000000</td>\n",
       "      <td>41.903002</td>\n",
       "      <td>-87.688267</td>\n",
       "      <td>8.000000</td>\n",
       "      <td>7.393258</td>\n",
       "      <td>0.044944</td>\n",
       "    </tr>\n",
       "    <tr>\n",
       "      <th>S ASHLAND AVE</th>\n",
       "      <td>2009.938462</td>\n",
       "      <td>22.953846</td>\n",
       "      <td>41.848634</td>\n",
       "      <td>-87.666663</td>\n",
       "      <td>9.000000</td>\n",
       "      <td>9.661538</td>\n",
       "      <td>0.034615</td>\n",
       "    </tr>\n",
       "    <tr>\n",
       "      <th>S AVENUE G</th>\n",
       "      <td>2007.000000</td>\n",
       "      <td>98.000000</td>\n",
       "      <td>41.717753</td>\n",
       "      <td>-87.531657</td>\n",
       "      <td>8.000000</td>\n",
       "      <td>10.391304</td>\n",
       "      <td>0.000000</td>\n",
       "    </tr>\n",
       "    <tr>\n",
       "      <th>S AVENUE L</th>\n",
       "      <td>2007.000000</td>\n",
       "      <td>11.000000</td>\n",
       "      <td>41.702724</td>\n",
       "      <td>-87.536497</td>\n",
       "      <td>5.000000</td>\n",
       "      <td>35.827160</td>\n",
       "      <td>0.074074</td>\n",
       "    </tr>\n",
       "    <tr>\n",
       "      <th>S BRANDON</th>\n",
       "      <td>2009.938462</td>\n",
       "      <td>13.000000</td>\n",
       "      <td>41.740641</td>\n",
       "      <td>-87.546587</td>\n",
       "      <td>5.000000</td>\n",
       "      <td>8.561538</td>\n",
       "      <td>0.023077</td>\n",
       "    </tr>\n",
       "    <tr>\n",
       "      <th>S CALIFORNIA</th>\n",
       "      <td>2010.175439</td>\n",
       "      <td>11.000000</td>\n",
       "      <td>41.868142</td>\n",
       "      <td>-87.696269</td>\n",
       "      <td>9.000000</td>\n",
       "      <td>8.745614</td>\n",
       "      <td>0.026316</td>\n",
       "    </tr>\n",
       "    <tr>\n",
       "      <th>S CALIFORNIA AVE</th>\n",
       "      <td>2007.000000</td>\n",
       "      <td>10.000000</td>\n",
       "      <td>41.869107</td>\n",
       "      <td>-87.696293</td>\n",
       "      <td>9.000000</td>\n",
       "      <td>4.640000</td>\n",
       "      <td>0.000000</td>\n",
       "    </tr>\n",
       "    <tr>\n",
       "      <th>S CARPENTER ST</th>\n",
       "      <td>2010.339450</td>\n",
       "      <td>89.000000</td>\n",
       "      <td>41.732984</td>\n",
       "      <td>-87.649642</td>\n",
       "      <td>8.000000</td>\n",
       "      <td>11.752294</td>\n",
       "      <td>0.036697</td>\n",
       "    </tr>\n",
       "    <tr>\n",
       "      <th>S CENTRAL AVE</th>\n",
       "      <td>2009.945205</td>\n",
       "      <td>50.000000</td>\n",
       "      <td>41.801498</td>\n",
       "      <td>-87.763416</td>\n",
       "      <td>9.000000</td>\n",
       "      <td>10.568493</td>\n",
       "      <td>0.034247</td>\n",
       "    </tr>\n",
       "    <tr>\n",
       "      <th>S CHICAGO AVE</th>\n",
       "      <td>2010.138889</td>\n",
       "      <td>79.000000</td>\n",
       "      <td>41.754292</td>\n",
       "      <td>-87.590773</td>\n",
       "      <td>9.000000</td>\n",
       "      <td>4.583333</td>\n",
       "      <td>0.027778</td>\n",
       "    </tr>\n",
       "    <tr>\n",
       "      <th>S CICERO AVE</th>\n",
       "      <td>2007.000000</td>\n",
       "      <td>73.000000</td>\n",
       "      <td>41.759346</td>\n",
       "      <td>-87.745602</td>\n",
       "      <td>9.000000</td>\n",
       "      <td>6.566667</td>\n",
       "      <td>0.033333</td>\n",
       "    </tr>\n",
       "    <tr>\n",
       "      <th>S CORNELL AVE</th>\n",
       "      <td>2007.000000</td>\n",
       "      <td>47.000000</td>\n",
       "      <td>41.799282</td>\n",
       "      <td>-87.585487</td>\n",
       "      <td>8.000000</td>\n",
       "      <td>2.777778</td>\n",
       "      <td>0.000000</td>\n",
       "    </tr>\n",
       "    <tr>\n",
       "      <th>S COTTAGE GROVE</th>\n",
       "      <td>2010.000000</td>\n",
       "      <td>10.000000</td>\n",
       "      <td>41.750498</td>\n",
       "      <td>-87.605294</td>\n",
       "      <td>5.000000</td>\n",
       "      <td>7.723214</td>\n",
       "      <td>0.017857</td>\n",
       "    </tr>\n",
       "    <tr>\n",
       "      <th>S DEARBORN ST</th>\n",
       "      <td>2008.363636</td>\n",
       "      <td>40.000000</td>\n",
       "      <td>41.821582</td>\n",
       "      <td>-87.627796</td>\n",
       "      <td>9.000000</td>\n",
       "      <td>4.704545</td>\n",
       "      <td>0.068182</td>\n",
       "    </tr>\n",
       "    <tr>\n",
       "      <th>S DOTY AVE</th>\n",
       "      <td>2007.981550</td>\n",
       "      <td>12.000000</td>\n",
       "      <td>41.673408</td>\n",
       "      <td>-87.599862</td>\n",
       "      <td>5.000000</td>\n",
       "      <td>39.977860</td>\n",
       "      <td>0.075646</td>\n",
       "    </tr>\n",
       "    <tr>\n",
       "      <th>S DR MARTIN LUTHER KING JR DR</th>\n",
       "      <td>2007.000000</td>\n",
       "      <td>85.692308</td>\n",
       "      <td>41.738837</td>\n",
       "      <td>-87.614591</td>\n",
       "      <td>8.000000</td>\n",
       "      <td>3.653846</td>\n",
       "      <td>0.038462</td>\n",
       "    </tr>\n",
       "    <tr>\n",
       "      <th>S EBERHART AVE</th>\n",
       "      <td>2010.244444</td>\n",
       "      <td>77.000000</td>\n",
       "      <td>41.754676</td>\n",
       "      <td>-87.612922</td>\n",
       "      <td>9.000000</td>\n",
       "      <td>5.088889</td>\n",
       "      <td>0.022222</td>\n",
       "    </tr>\n",
       "    <tr>\n",
       "      <th>S HAMLIN AVE</th>\n",
       "      <td>2007.000000</td>\n",
       "      <td>21.000000</td>\n",
       "      <td>41.852652</td>\n",
       "      <td>-87.719887</td>\n",
       "      <td>8.000000</td>\n",
       "      <td>3.000000</td>\n",
       "      <td>0.000000</td>\n",
       "    </tr>\n",
       "    <tr>\n",
       "      <th>S HOYNE AVE</th>\n",
       "      <td>2007.000000</td>\n",
       "      <td>61.058824</td>\n",
       "      <td>41.781310</td>\n",
       "      <td>-87.676490</td>\n",
       "      <td>8.470588</td>\n",
       "      <td>4.235294</td>\n",
       "      <td>0.019608</td>\n",
       "    </tr>\n",
       "    <tr>\n",
       "      <th>S KEDZIE AVE</th>\n",
       "      <td>2009.771654</td>\n",
       "      <td>68.125984</td>\n",
       "      <td>41.769598</td>\n",
       "      <td>-87.703018</td>\n",
       "      <td>8.086614</td>\n",
       "      <td>10.811024</td>\n",
       "      <td>0.047244</td>\n",
       "    </tr>\n",
       "    <tr>\n",
       "      <th>S KILPATRICK AVE</th>\n",
       "      <td>2007.000000</td>\n",
       "      <td>66.000000</td>\n",
       "      <td>41.772846</td>\n",
       "      <td>-87.740029</td>\n",
       "      <td>9.000000</td>\n",
       "      <td>2.904762</td>\n",
       "      <td>0.047619</td>\n",
       "    </tr>\n",
       "    <tr>\n",
       "      <th>S KOLMAR</th>\n",
       "      <td>2010.135135</td>\n",
       "      <td>52.000000</td>\n",
       "      <td>41.798697</td>\n",
       "      <td>-87.736812</td>\n",
       "      <td>8.000000</td>\n",
       "      <td>14.601351</td>\n",
       "      <td>0.060811</td>\n",
       "    </tr>\n",
       "    <tr>\n",
       "      <th>S KOSTNER AVE</th>\n",
       "      <td>2010.825243</td>\n",
       "      <td>82.000000</td>\n",
       "      <td>41.743402</td>\n",
       "      <td>-87.731435</td>\n",
       "      <td>8.000000</td>\n",
       "      <td>19.553398</td>\n",
       "      <td>0.106796</td>\n",
       "    </tr>\n",
       "    <tr>\n",
       "      <th>S LONGWOOD DR</th>\n",
       "      <td>2013.000000</td>\n",
       "      <td>96.000000</td>\n",
       "      <td>41.719140</td>\n",
       "      <td>-87.669539</td>\n",
       "      <td>9.000000</td>\n",
       "      <td>8.200000</td>\n",
       "      <td>0.000000</td>\n",
       "    </tr>\n",
       "    <tr>\n",
       "      <th>S MACKINAW</th>\n",
       "      <td>2007.000000</td>\n",
       "      <td>13.000000</td>\n",
       "      <td>41.737052</td>\n",
       "      <td>-87.543067</td>\n",
       "      <td>5.000000</td>\n",
       "      <td>3.095238</td>\n",
       "      <td>0.000000</td>\n",
       "    </tr>\n",
       "    <tr>\n",
       "      <th>S MELVINA AVE</th>\n",
       "      <td>2007.000000</td>\n",
       "      <td>61.000000</td>\n",
       "      <td>41.781416</td>\n",
       "      <td>-87.776532</td>\n",
       "      <td>8.000000</td>\n",
       "      <td>3.470588</td>\n",
       "      <td>0.000000</td>\n",
       "    </tr>\n",
       "    <tr>\n",
       "      <th>S MILLARD AVE</th>\n",
       "      <td>2010.161290</td>\n",
       "      <td>25.000000</td>\n",
       "      <td>41.846075</td>\n",
       "      <td>-87.716277</td>\n",
       "      <td>9.000000</td>\n",
       "      <td>4.279570</td>\n",
       "      <td>0.021505</td>\n",
       "    </tr>\n",
       "    <tr>\n",
       "      <th>S MUSKEGON AVE</th>\n",
       "      <td>2010.318182</td>\n",
       "      <td>89.000000</td>\n",
       "      <td>41.733643</td>\n",
       "      <td>-87.555510</td>\n",
       "      <td>8.000000</td>\n",
       "      <td>3.045455</td>\n",
       "      <td>0.000000</td>\n",
       "    </tr>\n",
       "    <tr>\n",
       "      <th>S NORDICA</th>\n",
       "      <td>2007.000000</td>\n",
       "      <td>52.000000</td>\n",
       "      <td>41.797616</td>\n",
       "      <td>-87.797894</td>\n",
       "      <td>8.000000</td>\n",
       "      <td>4.500000</td>\n",
       "      <td>0.100000</td>\n",
       "    </tr>\n",
       "    <tr>\n",
       "      <th>S PEORIA ST</th>\n",
       "      <td>2007.000000</td>\n",
       "      <td>11.000000</td>\n",
       "      <td>41.862292</td>\n",
       "      <td>-87.648860</td>\n",
       "      <td>8.000000</td>\n",
       "      <td>4.218750</td>\n",
       "      <td>0.031250</td>\n",
       "    </tr>\n",
       "    <tr>\n",
       "      <th>S PULASKI RD</th>\n",
       "      <td>2010.019608</td>\n",
       "      <td>37.000000</td>\n",
       "      <td>41.825610</td>\n",
       "      <td>-87.726549</td>\n",
       "      <td>9.000000</td>\n",
       "      <td>5.774510</td>\n",
       "      <td>0.019608</td>\n",
       "    </tr>\n",
       "    <tr>\n",
       "      <th>S RACINE AVE</th>\n",
       "      <td>2007.000000</td>\n",
       "      <td>65.000000</td>\n",
       "      <td>41.775051</td>\n",
       "      <td>-87.655356</td>\n",
       "      <td>9.000000</td>\n",
       "      <td>2.125000</td>\n",
       "      <td>0.000000</td>\n",
       "    </tr>\n",
       "    <tr>\n",
       "      <th>S SOUTH SHORE DR</th>\n",
       "      <td>2009.666667</td>\n",
       "      <td>71.000000</td>\n",
       "      <td>41.766202</td>\n",
       "      <td>-87.562889</td>\n",
       "      <td>9.000000</td>\n",
       "      <td>4.111111</td>\n",
       "      <td>0.012346</td>\n",
       "    </tr>\n",
       "    <tr>\n",
       "      <th>S STATE ST</th>\n",
       "      <td>2007.000000</td>\n",
       "      <td>11.000000</td>\n",
       "      <td>41.869216</td>\n",
       "      <td>-87.627561</td>\n",
       "      <td>8.000000</td>\n",
       "      <td>4.384615</td>\n",
       "      <td>0.000000</td>\n",
       "    </tr>\n",
       "    <tr>\n",
       "      <th>S STONY ISLAND AVE</th>\n",
       "      <td>2008.257971</td>\n",
       "      <td>15.165217</td>\n",
       "      <td>41.731466</td>\n",
       "      <td>-87.585510</td>\n",
       "      <td>5.286957</td>\n",
       "      <td>28.973913</td>\n",
       "      <td>0.049275</td>\n",
       "    </tr>\n",
       "    <tr>\n",
       "      <th>S THROOP</th>\n",
       "      <td>2007.000000</td>\n",
       "      <td>25.000000</td>\n",
       "      <td>41.846283</td>\n",
       "      <td>-87.656913</td>\n",
       "      <td>9.000000</td>\n",
       "      <td>2.200000</td>\n",
       "      <td>0.000000</td>\n",
       "    </tr>\n",
       "    <tr>\n",
       "      <th>S TORRENCE AVE</th>\n",
       "      <td>2008.496063</td>\n",
       "      <td>13.000000</td>\n",
       "      <td>41.678618</td>\n",
       "      <td>-87.559308</td>\n",
       "      <td>5.000000</td>\n",
       "      <td>10.740157</td>\n",
       "      <td>0.007874</td>\n",
       "    </tr>\n",
       "    <tr>\n",
       "      <th>S UNION AVE</th>\n",
       "      <td>2009.836735</td>\n",
       "      <td>50.000000</td>\n",
       "      <td>41.803423</td>\n",
       "      <td>-87.642984</td>\n",
       "      <td>8.000000</td>\n",
       "      <td>9.102041</td>\n",
       "      <td>0.081633</td>\n",
       "    </tr>\n",
       "    <tr>\n",
       "      <th>S VINCENNES</th>\n",
       "      <td>2010.164835</td>\n",
       "      <td>10.000000</td>\n",
       "      <td>41.723195</td>\n",
       "      <td>-87.649970</td>\n",
       "      <td>5.000000</td>\n",
       "      <td>4.109890</td>\n",
       "      <td>0.043956</td>\n",
       "    </tr>\n",
       "    <tr>\n",
       "      <th>S WALLACE ST</th>\n",
       "      <td>2009.000000</td>\n",
       "      <td>11.000000</td>\n",
       "      <td>41.753411</td>\n",
       "      <td>-87.639817</td>\n",
       "      <td>5.000000</td>\n",
       "      <td>3.500000</td>\n",
       "      <td>0.000000</td>\n",
       "    </tr>\n",
       "    <tr>\n",
       "      <th>S WESTERN AVE</th>\n",
       "      <td>2007.000000</td>\n",
       "      <td>27.000000</td>\n",
       "      <td>41.843811</td>\n",
       "      <td>-87.686763</td>\n",
       "      <td>9.000000</td>\n",
       "      <td>3.200000</td>\n",
       "      <td>0.000000</td>\n",
       "    </tr>\n",
       "    <tr>\n",
       "      <th>W 104TH ST</th>\n",
       "      <td>2010.318182</td>\n",
       "      <td>33.000000</td>\n",
       "      <td>41.704336</td>\n",
       "      <td>-87.703736</td>\n",
       "      <td>8.000000</td>\n",
       "      <td>6.715909</td>\n",
       "      <td>0.056818</td>\n",
       "    </tr>\n",
       "    <tr>\n",
       "      <th>W 113TH ST</th>\n",
       "      <td>2007.000000</td>\n",
       "      <td>22.000000</td>\n",
       "      <td>41.688324</td>\n",
       "      <td>-87.676709</td>\n",
       "      <td>8.000000</td>\n",
       "      <td>16.078947</td>\n",
       "      <td>0.105263</td>\n",
       "    </tr>\n",
       "    <tr>\n",
       "      <th>W 116TH ST</th>\n",
       "      <td>2009.675862</td>\n",
       "      <td>35.000000</td>\n",
       "      <td>41.682587</td>\n",
       "      <td>-87.707973</td>\n",
       "      <td>9.000000</td>\n",
       "      <td>17.124138</td>\n",
       "      <td>0.041379</td>\n",
       "    </tr>\n",
       "    <tr>\n",
       "      <th>W 127TH PL</th>\n",
       "      <td>2009.448087</td>\n",
       "      <td>42.000000</td>\n",
       "      <td>41.662014</td>\n",
       "      <td>-87.724608</td>\n",
       "      <td>8.000000</td>\n",
       "      <td>17.060109</td>\n",
       "      <td>0.043716</td>\n",
       "    </tr>\n",
       "    <tr>\n",
       "      <th>W 18TH ST</th>\n",
       "      <td>2009.793651</td>\n",
       "      <td>30.000000</td>\n",
       "      <td>41.857402</td>\n",
       "      <td>-87.694991</td>\n",
       "      <td>8.000000</td>\n",
       "      <td>3.063492</td>\n",
       "      <td>0.000000</td>\n",
       "    </tr>\n",
       "    <tr>\n",
       "      <th>W 31ST ST</th>\n",
       "      <td>2007.000000</td>\n",
       "      <td>42.000000</td>\n",
       "      <td>41.837085</td>\n",
       "      <td>-87.729384</td>\n",
       "      <td>9.000000</td>\n",
       "      <td>2.166667</td>\n",
       "      <td>0.041667</td>\n",
       "    </tr>\n",
       "    <tr>\n",
       "      <th>W 37TH PL.</th>\n",
       "      <td>2007.000000</td>\n",
       "      <td>81.000000</td>\n",
       "      <td>41.825902</td>\n",
       "      <td>-87.667827</td>\n",
       "      <td>5.000000</td>\n",
       "      <td>3.357143</td>\n",
       "      <td>0.000000</td>\n",
       "    </tr>\n",
       "    <tr>\n",
       "      <th>W 51ST ST</th>\n",
       "      <td>2009.951351</td>\n",
       "      <td>27.762162</td>\n",
       "      <td>41.800983</td>\n",
       "      <td>-87.693823</td>\n",
       "      <td>8.000000</td>\n",
       "      <td>7.908108</td>\n",
       "      <td>0.048649</td>\n",
       "    </tr>\n",
       "    <tr>\n",
       "      <th>W 63RD ST</th>\n",
       "      <td>2009.678899</td>\n",
       "      <td>52.000000</td>\n",
       "      <td>41.778297</td>\n",
       "      <td>-87.752411</td>\n",
       "      <td>9.000000</td>\n",
       "      <td>9.871560</td>\n",
       "      <td>0.045872</td>\n",
       "    </tr>\n",
       "    <tr>\n",
       "      <th>W 64TH ST</th>\n",
       "      <td>2010.073171</td>\n",
       "      <td>63.000000</td>\n",
       "      <td>41.776156</td>\n",
       "      <td>-87.778927</td>\n",
       "      <td>9.000000</td>\n",
       "      <td>6.414634</td>\n",
       "      <td>0.073171</td>\n",
       "    </tr>\n",
       "    <tr>\n",
       "      <th>W 65TH ST</th>\n",
       "      <td>2012.000000</td>\n",
       "      <td>42.000000</td>\n",
       "      <td>41.776428</td>\n",
       "      <td>-87.627096</td>\n",
       "      <td>8.000000</td>\n",
       "      <td>8.983871</td>\n",
       "      <td>0.112903</td>\n",
       "    </tr>\n",
       "    <tr>\n",
       "      <th>W 69TH ST</th>\n",
       "      <td>2009.987342</td>\n",
       "      <td>22.000000</td>\n",
       "      <td>41.768388</td>\n",
       "      <td>-87.678649</td>\n",
       "      <td>8.000000</td>\n",
       "      <td>5.506329</td>\n",
       "      <td>0.012658</td>\n",
       "    </tr>\n",
       "    <tr>\n",
       "      <th>W 72ND ST</th>\n",
       "      <td>2012.200000</td>\n",
       "      <td>51.000000</td>\n",
       "      <td>41.763733</td>\n",
       "      <td>-87.742302</td>\n",
       "      <td>8.000000</td>\n",
       "      <td>4.777778</td>\n",
       "      <td>0.044444</td>\n",
       "    </tr>\n",
       "    <tr>\n",
       "      <th>W 77TH ST</th>\n",
       "      <td>2011.000000</td>\n",
       "      <td>34.000000</td>\n",
       "      <td>41.753391</td>\n",
       "      <td>-87.707394</td>\n",
       "      <td>8.000000</td>\n",
       "      <td>4.857143</td>\n",
       "      <td>0.000000</td>\n",
       "    </tr>\n",
       "    <tr>\n",
       "      <th>W 85TH ST</th>\n",
       "      <td>2011.000000</td>\n",
       "      <td>29.000000</td>\n",
       "      <td>41.738903</td>\n",
       "      <td>-87.695443</td>\n",
       "      <td>8.000000</td>\n",
       "      <td>6.000000</td>\n",
       "      <td>0.000000</td>\n",
       "    </tr>\n",
       "    <tr>\n",
       "      <th>W 89TH ST</th>\n",
       "      <td>2007.000000</td>\n",
       "      <td>22.000000</td>\n",
       "      <td>41.731922</td>\n",
       "      <td>-87.677512</td>\n",
       "      <td>8.000000</td>\n",
       "      <td>11.560000</td>\n",
       "      <td>0.120000</td>\n",
       "    </tr>\n",
       "    <tr>\n",
       "      <th>W 95TH ST</th>\n",
       "      <td>2009.578947</td>\n",
       "      <td>15.572368</td>\n",
       "      <td>41.720976</td>\n",
       "      <td>-87.662353</td>\n",
       "      <td>8.796053</td>\n",
       "      <td>9.039474</td>\n",
       "      <td>0.032895</td>\n",
       "    </tr>\n",
       "    <tr>\n",
       "      <th>W ADDISON ST</th>\n",
       "      <td>2011.777778</td>\n",
       "      <td>17.000000</td>\n",
       "      <td>41.947227</td>\n",
       "      <td>-87.671457</td>\n",
       "      <td>9.000000</td>\n",
       "      <td>5.259259</td>\n",
       "      <td>0.018519</td>\n",
       "    </tr>\n",
       "    <tr>\n",
       "      <th>W AGATITE AVE</th>\n",
       "      <td>2007.000000</td>\n",
       "      <td>53.000000</td>\n",
       "      <td>41.961743</td>\n",
       "      <td>-87.760070</td>\n",
       "      <td>9.000000</td>\n",
       "      <td>1.772727</td>\n",
       "      <td>0.000000</td>\n",
       "    </tr>\n",
       "    <tr>\n",
       "      <th>W BALMORAL AVE</th>\n",
       "      <td>2007.000000</td>\n",
       "      <td>49.000000</td>\n",
       "      <td>41.979243</td>\n",
       "      <td>-87.750938</td>\n",
       "      <td>9.000000</td>\n",
       "      <td>2.800000</td>\n",
       "      <td>0.000000</td>\n",
       "    </tr>\n",
       "    <tr>\n",
       "      <th>W BELDEN AVE</th>\n",
       "      <td>2007.000000</td>\n",
       "      <td>68.000000</td>\n",
       "      <td>41.921177</td>\n",
       "      <td>-87.795180</td>\n",
       "      <td>8.000000</td>\n",
       "      <td>6.259259</td>\n",
       "      <td>0.037037</td>\n",
       "    </tr>\n",
       "    <tr>\n",
       "      <th>W CHICAGO</th>\n",
       "      <td>2009.494118</td>\n",
       "      <td>11.000000</td>\n",
       "      <td>41.896282</td>\n",
       "      <td>-87.655232</td>\n",
       "      <td>8.000000</td>\n",
       "      <td>3.058824</td>\n",
       "      <td>0.011765</td>\n",
       "    </tr>\n",
       "    <tr>\n",
       "      <th>W FARWELL AVE</th>\n",
       "      <td>2007.000000</td>\n",
       "      <td>18.000000</td>\n",
       "      <td>42.006858</td>\n",
       "      <td>-87.675919</td>\n",
       "      <td>9.000000</td>\n",
       "      <td>2.545455</td>\n",
       "      <td>0.000000</td>\n",
       "    </tr>\n",
       "    <tr>\n",
       "      <th>W FOSTER AVE</th>\n",
       "      <td>2007.000000</td>\n",
       "      <td>79.000000</td>\n",
       "      <td>41.974089</td>\n",
       "      <td>-87.824812</td>\n",
       "      <td>8.000000</td>\n",
       "      <td>4.828571</td>\n",
       "      <td>0.114286</td>\n",
       "    </tr>\n",
       "    <tr>\n",
       "      <th>W FULLERTON AVE</th>\n",
       "      <td>2010.192308</td>\n",
       "      <td>61.000000</td>\n",
       "      <td>41.923738</td>\n",
       "      <td>-87.785288</td>\n",
       "      <td>9.000000</td>\n",
       "      <td>11.471154</td>\n",
       "      <td>0.096154</td>\n",
       "    </tr>\n",
       "    <tr>\n",
       "      <th>W GARFIELD BLVD</th>\n",
       "      <td>2011.675325</td>\n",
       "      <td>90.000000</td>\n",
       "      <td>41.793818</td>\n",
       "      <td>-87.654234</td>\n",
       "      <td>5.000000</td>\n",
       "      <td>11.012987</td>\n",
       "      <td>0.051948</td>\n",
       "    </tr>\n",
       "    <tr>\n",
       "      <th>W GRAND AVE</th>\n",
       "      <td>2009.654545</td>\n",
       "      <td>25.000000</td>\n",
       "      <td>41.891118</td>\n",
       "      <td>-87.654491</td>\n",
       "      <td>8.000000</td>\n",
       "      <td>5.600000</td>\n",
       "      <td>0.000000</td>\n",
       "    </tr>\n",
       "    <tr>\n",
       "      <th>W GRANVILLE AVE</th>\n",
       "      <td>2007.000000</td>\n",
       "      <td>15.000000</td>\n",
       "      <td>41.994469</td>\n",
       "      <td>-87.667736</td>\n",
       "      <td>8.000000</td>\n",
       "      <td>1.071429</td>\n",
       "      <td>0.000000</td>\n",
       "    </tr>\n",
       "    <tr>\n",
       "      <th>W GREENLEAF AVE</th>\n",
       "      <td>2010.365079</td>\n",
       "      <td>12.000000</td>\n",
       "      <td>42.010412</td>\n",
       "      <td>-87.662140</td>\n",
       "      <td>8.000000</td>\n",
       "      <td>1.920635</td>\n",
       "      <td>0.000000</td>\n",
       "    </tr>\n",
       "    <tr>\n",
       "      <th>W HIGGINS AVE</th>\n",
       "      <td>2007.000000</td>\n",
       "      <td>91.000000</td>\n",
       "      <td>41.981964</td>\n",
       "      <td>-87.812827</td>\n",
       "      <td>8.000000</td>\n",
       "      <td>14.935484</td>\n",
       "      <td>0.096774</td>\n",
       "    </tr>\n",
       "    <tr>\n",
       "      <th>W HIGGINS RD</th>\n",
       "      <td>2011.350000</td>\n",
       "      <td>91.000000</td>\n",
       "      <td>41.992478</td>\n",
       "      <td>-87.862995</td>\n",
       "      <td>8.000000</td>\n",
       "      <td>18.462500</td>\n",
       "      <td>0.075000</td>\n",
       "    </tr>\n",
       "    <tr>\n",
       "      <th>W LELAND AVE</th>\n",
       "      <td>2007.000000</td>\n",
       "      <td>18.000000</td>\n",
       "      <td>41.966987</td>\n",
       "      <td>-87.674677</td>\n",
       "      <td>8.000000</td>\n",
       "      <td>2.380952</td>\n",
       "      <td>0.000000</td>\n",
       "    </tr>\n",
       "    <tr>\n",
       "      <th>W MONTANA ST</th>\n",
       "      <td>2011.233333</td>\n",
       "      <td>48.000000</td>\n",
       "      <td>41.925198</td>\n",
       "      <td>-87.746381</td>\n",
       "      <td>8.000000</td>\n",
       "      <td>5.000000</td>\n",
       "      <td>0.016667</td>\n",
       "    </tr>\n",
       "    <tr>\n",
       "      <th>W MONTROSE DR</th>\n",
       "      <td>2010.447368</td>\n",
       "      <td>60.000000</td>\n",
       "      <td>41.960616</td>\n",
       "      <td>-87.777189</td>\n",
       "      <td>9.000000</td>\n",
       "      <td>3.039474</td>\n",
       "      <td>0.000000</td>\n",
       "    </tr>\n",
       "    <tr>\n",
       "      <th>W OHARE</th>\n",
       "      <td>2010.411765</td>\n",
       "      <td>10.000000</td>\n",
       "      <td>41.957799</td>\n",
       "      <td>-87.930995</td>\n",
       "      <td>5.000000</td>\n",
       "      <td>17.080882</td>\n",
       "      <td>0.073529</td>\n",
       "    </tr>\n",
       "    <tr>\n",
       "      <th>W OHARE AIRPORT</th>\n",
       "      <td>2011.000000</td>\n",
       "      <td>10.000000</td>\n",
       "      <td>41.974689</td>\n",
       "      <td>-87.890615</td>\n",
       "      <td>9.000000</td>\n",
       "      <td>22.400598</td>\n",
       "      <td>0.095665</td>\n",
       "    </tr>\n",
       "    <tr>\n",
       "      <th>W PERSHING RD</th>\n",
       "      <td>2007.000000</td>\n",
       "      <td>22.000000</td>\n",
       "      <td>41.823065</td>\n",
       "      <td>-87.678378</td>\n",
       "      <td>8.000000</td>\n",
       "      <td>1.533333</td>\n",
       "      <td>0.000000</td>\n",
       "    </tr>\n",
       "    <tr>\n",
       "      <th>W ROOSEVELT</th>\n",
       "      <td>2009.863014</td>\n",
       "      <td>11.000000</td>\n",
       "      <td>41.867108</td>\n",
       "      <td>-87.654224</td>\n",
       "      <td>8.000000</td>\n",
       "      <td>12.301370</td>\n",
       "      <td>0.027397</td>\n",
       "    </tr>\n",
       "    <tr>\n",
       "      <th>W ROSCOE ST</th>\n",
       "      <td>2007.000000</td>\n",
       "      <td>60.000000</td>\n",
       "      <td>41.942114</td>\n",
       "      <td>-87.776385</td>\n",
       "      <td>8.000000</td>\n",
       "      <td>3.571429</td>\n",
       "      <td>0.142857</td>\n",
       "    </tr>\n",
       "    <tr>\n",
       "      <th>W STRONG ST</th>\n",
       "      <td>2007.000000</td>\n",
       "      <td>64.000000</td>\n",
       "      <td>41.970248</td>\n",
       "      <td>-87.787992</td>\n",
       "      <td>8.000000</td>\n",
       "      <td>12.133333</td>\n",
       "      <td>0.133333</td>\n",
       "    </tr>\n",
       "    <tr>\n",
       "      <th>W SUNNYSIDE AVE</th>\n",
       "      <td>2007.000000</td>\n",
       "      <td>49.000000</td>\n",
       "      <td>41.962728</td>\n",
       "      <td>-87.748367</td>\n",
       "      <td>9.000000</td>\n",
       "      <td>4.916667</td>\n",
       "      <td>0.000000</td>\n",
       "    </tr>\n",
       "    <tr>\n",
       "      <th>W WEBSTER AVE</th>\n",
       "      <td>2007.057143</td>\n",
       "      <td>15.000000</td>\n",
       "      <td>41.921600</td>\n",
       "      <td>-87.666455</td>\n",
       "      <td>8.000000</td>\n",
       "      <td>10.028571</td>\n",
       "      <td>0.085714</td>\n",
       "    </tr>\n",
       "  </tbody>\n",
       "</table>\n",
       "</div>"
      ],
      "text/plain": [
       "                                       year      Block   Latitude  Longitude  \\\n",
       "Street                                                                         \n",
       "  W ARMITAGE AVENUE             2010.038961  70.000000  41.916265 -87.800515   \n",
       " E 105TH ST                     2009.412500  24.000000  41.704572 -87.565666   \n",
       " E 111TH ST                     2007.000000  20.000000  41.692555 -87.598865   \n",
       " E 115TH ST                     2007.000000  38.000000  41.686398 -87.531635   \n",
       " E 118TH ST                     2009.266667  37.000000  41.680946 -87.535198   \n",
       " E 130TH ST                     2010.454545  40.000000  41.659112 -87.538693   \n",
       " E 138TH ST                     2007.000000  82.000000  41.644612 -87.604498   \n",
       " E 67TH ST                      2009.919355  10.000000  41.773215 -87.600880   \n",
       " E 91ST PL                      2011.736842  65.000000  41.728495 -87.600963   \n",
       " E 91ST ST                      2007.000000  81.000000  41.729669 -87.582699   \n",
       " E RANDOLPH ST                  2007.000000  33.000000  41.883284 -87.705085   \n",
       " N ASHLAND AVE                  2012.080000  17.000000  41.912563 -87.668055   \n",
       " N ASHLAND AVE OVERPASS         2009.643678  43.000000  41.878114 -87.629798   \n",
       " N AUSTIN AVE                   2007.000000  40.000000  41.953067 -87.776792   \n",
       " N AVONDALE AVE                 2007.000000  60.000000  41.990284 -87.797127   \n",
       " N CALIFORNIA AVE               2007.000000  38.000000  41.949830 -87.698457   \n",
       " N CAMPBELL AVE                 2009.836735  45.000000  41.963976 -87.691810   \n",
       " N CANNON DR                    2010.325000  21.943750  41.922172 -87.632170   \n",
       " N CENTRAL PARK DR              2010.409836  10.000000  41.899230 -87.716788   \n",
       " N FRANCISCO AVE                2010.265306  28.000000  41.932094 -87.700117   \n",
       " N HARLEM AVE                   2012.360000  71.000000  42.009876 -87.807277   \n",
       " N HUMBOLDT DR                  2010.051546  14.000000  41.906638 -87.701431   \n",
       " N KEDVALE AVE                  2008.864865  37.000000  41.948167 -87.730698   \n",
       " N LARAMIE AVE                  2011.646154  13.000000  41.904194 -87.756155   \n",
       " N LAWLER AVE                   2007.000000  21.000000  41.918705 -87.752329   \n",
       " N LEMONT AVE                   2010.085714  61.000000  41.991429 -87.747113   \n",
       " N LONG AVE                     2007.923077  15.000000  41.907645 -87.760886   \n",
       " N MANDELL AVE                  2007.000000  62.000000  41.994991 -87.769279   \n",
       " N MCCLELLAN AVE                2012.636364  62.000000  41.994679 -87.770899   \n",
       " N MILWAUKEE AVE                2010.066667  46.000000  41.964242 -87.757639   \n",
       " N MONT CLARE AVE               2011.091954  51.000000  41.973845 -87.805059   \n",
       " N MOSELL AVE                   2010.007407  70.000000  42.008314 -87.777921   \n",
       " N OAK PARK AVE                 2009.672897  44.476636  41.961127 -87.800208   \n",
       " N OAKLEY AVE                   2008.353846  75.000000  42.017430 -87.687769   \n",
       " N OKETO AVE                    2007.818182  72.000000  42.011601 -87.811506   \n",
       " N PITTSBURGH AVE               2009.842105  36.000000  41.944869 -87.832763   \n",
       " N PULASKI RD                   2010.375723  39.040462  41.951059 -87.727680   \n",
       " N RICHMOND ST                  2007.000000  42.000000  41.958271 -87.702575   \n",
       " N RIDGE AVE                    2012.476190  58.000000  41.987280 -87.666066   \n",
       " N RUTHERFORD AVE               2008.594595  33.000000  41.940160 -87.794896   \n",
       " N SPRINGFIELD AVE              2011.806452  39.000000  41.951866 -87.725057   \n",
       " N STAVE ST                     2007.000000  21.000000  41.919343 -87.694259   \n",
       " N STREETER DR                  2007.000000  53.000000  41.891126 -87.611560   \n",
       " N TRIPP AVE                    2007.000000  40.000000  41.953705 -87.733974   \n",
       " N WESTERN AVE                  2009.765217  58.000000  41.986921 -87.689778   \n",
       " S ARTESIAN AVE                 2009.112360  11.000000  41.903002 -87.688267   \n",
       " S ASHLAND AVE                  2009.938462  22.953846  41.848634 -87.666663   \n",
       " S AVENUE G                     2007.000000  98.000000  41.717753 -87.531657   \n",
       " S AVENUE L                     2007.000000  11.000000  41.702724 -87.536497   \n",
       " S BRANDON                      2009.938462  13.000000  41.740641 -87.546587   \n",
       " S CALIFORNIA                   2010.175439  11.000000  41.868142 -87.696269   \n",
       " S CALIFORNIA AVE               2007.000000  10.000000  41.869107 -87.696293   \n",
       " S CARPENTER ST                 2010.339450  89.000000  41.732984 -87.649642   \n",
       " S CENTRAL AVE                  2009.945205  50.000000  41.801498 -87.763416   \n",
       " S CHICAGO AVE                  2010.138889  79.000000  41.754292 -87.590773   \n",
       " S CICERO AVE                   2007.000000  73.000000  41.759346 -87.745602   \n",
       " S CORNELL AVE                  2007.000000  47.000000  41.799282 -87.585487   \n",
       " S COTTAGE GROVE                2010.000000  10.000000  41.750498 -87.605294   \n",
       " S DEARBORN ST                  2008.363636  40.000000  41.821582 -87.627796   \n",
       " S DOTY AVE                     2007.981550  12.000000  41.673408 -87.599862   \n",
       " S DR MARTIN LUTHER KING JR DR  2007.000000  85.692308  41.738837 -87.614591   \n",
       " S EBERHART AVE                 2010.244444  77.000000  41.754676 -87.612922   \n",
       " S HAMLIN AVE                   2007.000000  21.000000  41.852652 -87.719887   \n",
       " S HOYNE AVE                    2007.000000  61.058824  41.781310 -87.676490   \n",
       " S KEDZIE AVE                   2009.771654  68.125984  41.769598 -87.703018   \n",
       " S KILPATRICK AVE               2007.000000  66.000000  41.772846 -87.740029   \n",
       " S KOLMAR                       2010.135135  52.000000  41.798697 -87.736812   \n",
       " S KOSTNER AVE                  2010.825243  82.000000  41.743402 -87.731435   \n",
       " S LONGWOOD DR                  2013.000000  96.000000  41.719140 -87.669539   \n",
       " S MACKINAW                     2007.000000  13.000000  41.737052 -87.543067   \n",
       " S MELVINA AVE                  2007.000000  61.000000  41.781416 -87.776532   \n",
       " S MILLARD AVE                  2010.161290  25.000000  41.846075 -87.716277   \n",
       " S MUSKEGON AVE                 2010.318182  89.000000  41.733643 -87.555510   \n",
       " S NORDICA                      2007.000000  52.000000  41.797616 -87.797894   \n",
       " S PEORIA ST                    2007.000000  11.000000  41.862292 -87.648860   \n",
       " S PULASKI RD                   2010.019608  37.000000  41.825610 -87.726549   \n",
       " S RACINE AVE                   2007.000000  65.000000  41.775051 -87.655356   \n",
       " S SOUTH SHORE DR               2009.666667  71.000000  41.766202 -87.562889   \n",
       " S STATE ST                     2007.000000  11.000000  41.869216 -87.627561   \n",
       " S STONY ISLAND AVE             2008.257971  15.165217  41.731466 -87.585510   \n",
       " S THROOP                       2007.000000  25.000000  41.846283 -87.656913   \n",
       " S TORRENCE AVE                 2008.496063  13.000000  41.678618 -87.559308   \n",
       " S UNION AVE                    2009.836735  50.000000  41.803423 -87.642984   \n",
       " S VINCENNES                    2010.164835  10.000000  41.723195 -87.649970   \n",
       " S WALLACE ST                   2009.000000  11.000000  41.753411 -87.639817   \n",
       " S WESTERN AVE                  2007.000000  27.000000  41.843811 -87.686763   \n",
       " W 104TH ST                     2010.318182  33.000000  41.704336 -87.703736   \n",
       " W 113TH ST                     2007.000000  22.000000  41.688324 -87.676709   \n",
       " W 116TH ST                     2009.675862  35.000000  41.682587 -87.707973   \n",
       " W 127TH PL                     2009.448087  42.000000  41.662014 -87.724608   \n",
       " W 18TH ST                      2009.793651  30.000000  41.857402 -87.694991   \n",
       " W 31ST ST                      2007.000000  42.000000  41.837085 -87.729384   \n",
       " W 37TH PL.                     2007.000000  81.000000  41.825902 -87.667827   \n",
       " W 51ST ST                      2009.951351  27.762162  41.800983 -87.693823   \n",
       " W 63RD ST                      2009.678899  52.000000  41.778297 -87.752411   \n",
       " W 64TH ST                      2010.073171  63.000000  41.776156 -87.778927   \n",
       " W 65TH ST                      2012.000000  42.000000  41.776428 -87.627096   \n",
       " W 69TH ST                      2009.987342  22.000000  41.768388 -87.678649   \n",
       " W 72ND ST                      2012.200000  51.000000  41.763733 -87.742302   \n",
       " W 77TH ST                      2011.000000  34.000000  41.753391 -87.707394   \n",
       " W 85TH ST                      2011.000000  29.000000  41.738903 -87.695443   \n",
       " W 89TH ST                      2007.000000  22.000000  41.731922 -87.677512   \n",
       " W 95TH ST                      2009.578947  15.572368  41.720976 -87.662353   \n",
       " W ADDISON ST                   2011.777778  17.000000  41.947227 -87.671457   \n",
       " W AGATITE AVE                  2007.000000  53.000000  41.961743 -87.760070   \n",
       " W BALMORAL AVE                 2007.000000  49.000000  41.979243 -87.750938   \n",
       " W BELDEN AVE                   2007.000000  68.000000  41.921177 -87.795180   \n",
       " W CHICAGO                      2009.494118  11.000000  41.896282 -87.655232   \n",
       " W FARWELL AVE                  2007.000000  18.000000  42.006858 -87.675919   \n",
       " W FOSTER AVE                   2007.000000  79.000000  41.974089 -87.824812   \n",
       " W FULLERTON AVE                2010.192308  61.000000  41.923738 -87.785288   \n",
       " W GARFIELD BLVD                2011.675325  90.000000  41.793818 -87.654234   \n",
       " W GRAND AVE                    2009.654545  25.000000  41.891118 -87.654491   \n",
       " W GRANVILLE AVE                2007.000000  15.000000  41.994469 -87.667736   \n",
       " W GREENLEAF AVE                2010.365079  12.000000  42.010412 -87.662140   \n",
       " W HIGGINS AVE                  2007.000000  91.000000  41.981964 -87.812827   \n",
       " W HIGGINS RD                   2011.350000  91.000000  41.992478 -87.862995   \n",
       " W LELAND AVE                   2007.000000  18.000000  41.966987 -87.674677   \n",
       " W MONTANA ST                   2011.233333  48.000000  41.925198 -87.746381   \n",
       " W MONTROSE DR                  2010.447368  60.000000  41.960616 -87.777189   \n",
       " W OHARE                        2010.411765  10.000000  41.957799 -87.930995   \n",
       " W OHARE AIRPORT                2011.000000  10.000000  41.974689 -87.890615   \n",
       " W PERSHING RD                  2007.000000  22.000000  41.823065 -87.678378   \n",
       " W ROOSEVELT                    2009.863014  11.000000  41.867108 -87.654224   \n",
       " W ROSCOE ST                    2007.000000  60.000000  41.942114 -87.776385   \n",
       " W STRONG ST                    2007.000000  64.000000  41.970248 -87.787992   \n",
       " W SUNNYSIDE AVE                2007.000000  49.000000  41.962728 -87.748367   \n",
       " W WEBSTER AVE                  2007.057143  15.000000  41.921600 -87.666455   \n",
       "\n",
       "                                AddressAccuracy  NumMosquitos  WnvPresent  \n",
       "Street                                                                     \n",
       "  W ARMITAGE AVENUE                    8.000000     12.448052    0.038961  \n",
       " E 105TH ST                            8.000000     20.718750    0.068750  \n",
       " E 111TH ST                            8.000000      4.142857    0.047619  \n",
       " E 115TH ST                            8.000000     18.933333    0.066667  \n",
       " E 118TH ST                            8.000000     16.806667    0.020000  \n",
       " E 130TH ST                            8.000000     14.736364    0.081818  \n",
       " E 138TH ST                            5.000000      7.588235    0.058824  \n",
       " E 67TH ST                             8.000000      6.838710    0.032258  \n",
       " E 91ST PL                             5.000000     14.250000    0.052632  \n",
       " E 91ST ST                             5.000000      3.909091    0.090909  \n",
       " E RANDOLPH ST                         8.000000      2.615385    0.000000  \n",
       " N ASHLAND AVE                         9.000000      5.720000    0.040000  \n",
       " N ASHLAND AVE OVERPASS                3.000000      4.574713    0.011494  \n",
       " N AUSTIN AVE                          8.000000      3.222222    0.055556  \n",
       " N AVONDALE AVE                        8.000000      4.458333    0.166667  \n",
       " N CALIFORNIA AVE                      9.000000      3.130435    0.000000  \n",
       " N CAMPBELL AVE                        9.000000      6.438776    0.040816  \n",
       " N CANNON DR                           8.000000      7.268750    0.043750  \n",
       " N CENTRAL PARK DR                     9.000000     14.737705    0.065574  \n",
       " N FRANCISCO AVE                       8.000000      4.989796    0.040816  \n",
       " N HARLEM AVE                          9.000000     15.160000    0.140000  \n",
       " N HUMBOLDT DR                         9.000000      7.010309    0.051546  \n",
       " N KEDVALE AVE                         8.000000      5.337838    0.027027  \n",
       " N LARAMIE AVE                         9.000000      9.907692    0.107692  \n",
       " N LAWLER AVE                          8.000000      8.952381    0.095238  \n",
       " N LEMONT AVE                          8.000000      9.066667    0.038095  \n",
       " N LONG AVE                            8.000000      6.512821    0.000000  \n",
       " N MANDELL AVE                         9.000000      3.347826    0.000000  \n",
       " N MCCLELLAN AVE                       8.000000     11.363636    0.030303  \n",
       " N MILWAUKEE AVE                       8.000000     11.200000    0.116667  \n",
       " N MONT CLARE AVE                      9.000000     14.724138    0.103448  \n",
       " N MOSELL AVE                          9.000000     19.303704    0.074074  \n",
       " N OAK PARK AVE                        8.855140     18.261682    0.112150  \n",
       " N OAKLEY AVE                          8.000000      3.153846    0.000000  \n",
       " N OKETO AVE                           8.000000     12.833333    0.106061  \n",
       " N PITTSBURGH AVE                      8.000000      9.857143    0.082707  \n",
       " N PULASKI RD                          8.462428      6.184971    0.063584  \n",
       " N RICHMOND ST                         9.000000      3.677419    0.000000  \n",
       " N RIDGE AVE                           8.000000     12.404762    0.095238  \n",
       " N RUTHERFORD AVE                      9.000000      9.297297    0.027027  \n",
       " N SPRINGFIELD AVE                     8.000000     10.370968    0.096774  \n",
       " N STAVE ST                            8.000000      4.000000    0.000000  \n",
       " N STREETER DR                         5.000000      2.482759    0.000000  \n",
       " N TRIPP AVE                           8.000000      1.666667    0.000000  \n",
       " N WESTERN AVE                         9.000000      8.852174    0.078261  \n",
       " S ARTESIAN AVE                        8.000000      7.393258    0.044944  \n",
       " S ASHLAND AVE                         9.000000      9.661538    0.034615  \n",
       " S AVENUE G                            8.000000     10.391304    0.000000  \n",
       " S AVENUE L                            5.000000     35.827160    0.074074  \n",
       " S BRANDON                             5.000000      8.561538    0.023077  \n",
       " S CALIFORNIA                          9.000000      8.745614    0.026316  \n",
       " S CALIFORNIA AVE                      9.000000      4.640000    0.000000  \n",
       " S CARPENTER ST                        8.000000     11.752294    0.036697  \n",
       " S CENTRAL AVE                         9.000000     10.568493    0.034247  \n",
       " S CHICAGO AVE                         9.000000      4.583333    0.027778  \n",
       " S CICERO AVE                          9.000000      6.566667    0.033333  \n",
       " S CORNELL AVE                         8.000000      2.777778    0.000000  \n",
       " S COTTAGE GROVE                       5.000000      7.723214    0.017857  \n",
       " S DEARBORN ST                         9.000000      4.704545    0.068182  \n",
       " S DOTY AVE                            5.000000     39.977860    0.075646  \n",
       " S DR MARTIN LUTHER KING JR DR         8.000000      3.653846    0.038462  \n",
       " S EBERHART AVE                        9.000000      5.088889    0.022222  \n",
       " S HAMLIN AVE                          8.000000      3.000000    0.000000  \n",
       " S HOYNE AVE                           8.470588      4.235294    0.019608  \n",
       " S KEDZIE AVE                          8.086614     10.811024    0.047244  \n",
       " S KILPATRICK AVE                      9.000000      2.904762    0.047619  \n",
       " S KOLMAR                              8.000000     14.601351    0.060811  \n",
       " S KOSTNER AVE                         8.000000     19.553398    0.106796  \n",
       " S LONGWOOD DR                         9.000000      8.200000    0.000000  \n",
       " S MACKINAW                            5.000000      3.095238    0.000000  \n",
       " S MELVINA AVE                         8.000000      3.470588    0.000000  \n",
       " S MILLARD AVE                         9.000000      4.279570    0.021505  \n",
       " S MUSKEGON AVE                        8.000000      3.045455    0.000000  \n",
       " S NORDICA                             8.000000      4.500000    0.100000  \n",
       " S PEORIA ST                           8.000000      4.218750    0.031250  \n",
       " S PULASKI RD                          9.000000      5.774510    0.019608  \n",
       " S RACINE AVE                          9.000000      2.125000    0.000000  \n",
       " S SOUTH SHORE DR                      9.000000      4.111111    0.012346  \n",
       " S STATE ST                            8.000000      4.384615    0.000000  \n",
       " S STONY ISLAND AVE                    5.286957     28.973913    0.049275  \n",
       " S THROOP                              9.000000      2.200000    0.000000  \n",
       " S TORRENCE AVE                        5.000000     10.740157    0.007874  \n",
       " S UNION AVE                           8.000000      9.102041    0.081633  \n",
       " S VINCENNES                           5.000000      4.109890    0.043956  \n",
       " S WALLACE ST                          5.000000      3.500000    0.000000  \n",
       " S WESTERN AVE                         9.000000      3.200000    0.000000  \n",
       " W 104TH ST                            8.000000      6.715909    0.056818  \n",
       " W 113TH ST                            8.000000     16.078947    0.105263  \n",
       " W 116TH ST                            9.000000     17.124138    0.041379  \n",
       " W 127TH PL                            8.000000     17.060109    0.043716  \n",
       " W 18TH ST                             8.000000      3.063492    0.000000  \n",
       " W 31ST ST                             9.000000      2.166667    0.041667  \n",
       " W 37TH PL.                            5.000000      3.357143    0.000000  \n",
       " W 51ST ST                             8.000000      7.908108    0.048649  \n",
       " W 63RD ST                             9.000000      9.871560    0.045872  \n",
       " W 64TH ST                             9.000000      6.414634    0.073171  \n",
       " W 65TH ST                             8.000000      8.983871    0.112903  \n",
       " W 69TH ST                             8.000000      5.506329    0.012658  \n",
       " W 72ND ST                             8.000000      4.777778    0.044444  \n",
       " W 77TH ST                             8.000000      4.857143    0.000000  \n",
       " W 85TH ST                             8.000000      6.000000    0.000000  \n",
       " W 89TH ST                             8.000000     11.560000    0.120000  \n",
       " W 95TH ST                             8.796053      9.039474    0.032895  \n",
       " W ADDISON ST                          9.000000      5.259259    0.018519  \n",
       " W AGATITE AVE                         9.000000      1.772727    0.000000  \n",
       " W BALMORAL AVE                        9.000000      2.800000    0.000000  \n",
       " W BELDEN AVE                          8.000000      6.259259    0.037037  \n",
       " W CHICAGO                             8.000000      3.058824    0.011765  \n",
       " W FARWELL AVE                         9.000000      2.545455    0.000000  \n",
       " W FOSTER AVE                          8.000000      4.828571    0.114286  \n",
       " W FULLERTON AVE                       9.000000     11.471154    0.096154  \n",
       " W GARFIELD BLVD                       5.000000     11.012987    0.051948  \n",
       " W GRAND AVE                           8.000000      5.600000    0.000000  \n",
       " W GRANVILLE AVE                       8.000000      1.071429    0.000000  \n",
       " W GREENLEAF AVE                       8.000000      1.920635    0.000000  \n",
       " W HIGGINS AVE                         8.000000     14.935484    0.096774  \n",
       " W HIGGINS RD                          8.000000     18.462500    0.075000  \n",
       " W LELAND AVE                          8.000000      2.380952    0.000000  \n",
       " W MONTANA ST                          8.000000      5.000000    0.016667  \n",
       " W MONTROSE DR                         9.000000      3.039474    0.000000  \n",
       " W OHARE                               5.000000     17.080882    0.073529  \n",
       " W OHARE AIRPORT                       9.000000     22.400598    0.095665  \n",
       " W PERSHING RD                         8.000000      1.533333    0.000000  \n",
       " W ROOSEVELT                           8.000000     12.301370    0.027397  \n",
       " W ROSCOE ST                           8.000000      3.571429    0.142857  \n",
       " W STRONG ST                           8.000000     12.133333    0.133333  \n",
       " W SUNNYSIDE AVE                       9.000000      4.916667    0.000000  \n",
       " W WEBSTER AVE                         8.000000     10.028571    0.085714  "
      ]
     },
     "execution_count": 65,
     "metadata": {},
     "output_type": "execute_result"
    }
   ],
   "source": [
    "train.groupby('Street').mean()"
   ]
  },
  {
   "cell_type": "code",
   "execution_count": 23,
   "metadata": {},
   "outputs": [
    {
     "data": {
      "text/html": [
       "<div>\n",
       "<style scoped>\n",
       "    .dataframe tbody tr th:only-of-type {\n",
       "        vertical-align: middle;\n",
       "    }\n",
       "\n",
       "    .dataframe tbody tr th {\n",
       "        vertical-align: top;\n",
       "    }\n",
       "\n",
       "    .dataframe thead th {\n",
       "        text-align: right;\n",
       "    }\n",
       "</style>\n",
       "<table border=\"1\" class=\"dataframe\">\n",
       "  <thead>\n",
       "    <tr style=\"text-align: right;\">\n",
       "      <th></th>\n",
       "      <th>Date</th>\n",
       "      <th>Street</th>\n",
       "      <th>NumMosquitos</th>\n",
       "    </tr>\n",
       "  </thead>\n",
       "  <tbody>\n",
       "    <tr>\n",
       "      <th>291</th>\n",
       "      <td>2007-07-11</td>\n",
       "      <td>N CANNON DR</td>\n",
       "      <td>1</td>\n",
       "    </tr>\n",
       "    <tr>\n",
       "      <th>292</th>\n",
       "      <td>2007-07-11</td>\n",
       "      <td>N CANNON DR</td>\n",
       "      <td>1</td>\n",
       "    </tr>\n",
       "    <tr>\n",
       "      <th>293</th>\n",
       "      <td>2007-07-11</td>\n",
       "      <td>W 113TH ST</td>\n",
       "      <td>50</td>\n",
       "    </tr>\n",
       "    <tr>\n",
       "      <th>294</th>\n",
       "      <td>2007-07-11</td>\n",
       "      <td>W 113TH ST</td>\n",
       "      <td>35</td>\n",
       "    </tr>\n",
       "    <tr>\n",
       "      <th>295</th>\n",
       "      <td>2007-07-11</td>\n",
       "      <td>W 113TH ST</td>\n",
       "      <td>50</td>\n",
       "    </tr>\n",
       "    <tr>\n",
       "      <th>296</th>\n",
       "      <td>2007-07-11</td>\n",
       "      <td>W 113TH ST</td>\n",
       "      <td>8</td>\n",
       "    </tr>\n",
       "    <tr>\n",
       "      <th>297</th>\n",
       "      <td>2007-07-11</td>\n",
       "      <td>W 113TH ST</td>\n",
       "      <td>1</td>\n",
       "    </tr>\n",
       "    <tr>\n",
       "      <th>298</th>\n",
       "      <td>2007-07-11</td>\n",
       "      <td>W 113TH ST</td>\n",
       "      <td>8</td>\n",
       "    </tr>\n",
       "  </tbody>\n",
       "</table>\n",
       "</div>"
      ],
      "text/plain": [
       "           Date        Street  NumMosquitos\n",
       "291  2007-07-11   N CANNON DR             1\n",
       "292  2007-07-11   N CANNON DR             1\n",
       "293  2007-07-11    W 113TH ST            50\n",
       "294  2007-07-11    W 113TH ST            35\n",
       "295  2007-07-11    W 113TH ST            50\n",
       "296  2007-07-11    W 113TH ST             8\n",
       "297  2007-07-11    W 113TH ST             1\n",
       "298  2007-07-11    W 113TH ST             8"
      ]
     },
     "execution_count": 23,
     "metadata": {},
     "output_type": "execute_result"
    }
   ],
   "source": [
    "train[['Date','Street', 'NumMosquitos']].loc[291:298]"
   ]
  },
  {
   "cell_type": "markdown",
   "metadata": {},
   "source": [
    "## Months where the WNV presence is large"
   ]
  },
  {
   "cell_type": "code",
   "execution_count": 24,
   "metadata": {},
   "outputs": [],
   "source": [
    "# Insert the months\n",
    "train.insert(2,'month',train['Date'].dt.month_name())"
   ]
  },
  {
   "cell_type": "code",
   "execution_count": 25,
   "metadata": {},
   "outputs": [
    {
     "data": {
      "image/png": "[encoded data removed]",
      "text/plain": [
       "<Figure size 792x504 with 1 Axes>"
      ]
     },
     "metadata": {},
     "output_type": "display_data"
    }
   ],
   "source": [
    "train.groupby('month').sum()['WnvPresent'].sort_values(ascending=False).plot(kind='bar',\n",
    "                                                                            title='Frequency of WNV by months', figsize=(11,7));"
   ]
  },
  {
   "cell_type": "markdown",
   "metadata": {},
   "source": [
    "`August` is the highest occurrence of WNV followed by a large dip in `September`."
   ]
  },
  {
   "cell_type": "markdown",
   "metadata": {},
   "source": [
    "## How many species there are and if there is a greater incidence of WNV in certain species\n",
    "\n",
    "**Main culprit: Culex Tarsalis**"
   ]
  },
  {
   "cell_type": "code",
   "execution_count": 26,
   "metadata": {},
   "outputs": [
    {
     "data": {
      "text/plain": [
       "array(['CULEX PIPIENS/RESTUANS', 'CULEX RESTUANS', 'CULEX PIPIENS',\n",
       "       'CULEX SALINARIUS', 'CULEX TERRITANS', 'CULEX TARSALIS',\n",
       "       'CULEX ERRATICUS'], dtype=object)"
      ]
     },
     "execution_count": 26,
     "metadata": {},
     "output_type": "execute_result"
    }
   ],
   "source": [
    "# Species of mosquitos\n",
    "train['Species'].unique()"
   ]
  },
  {
   "cell_type": "code",
   "execution_count": 27,
   "metadata": {},
   "outputs": [
    {
     "data": {
      "text/plain": [
       "7"
      ]
     },
     "execution_count": 27,
     "metadata": {},
     "output_type": "execute_result"
    }
   ],
   "source": [
    "# A total of 7 species of mosquitos in the dataset\n",
    "train['Species'].nunique()"
   ]
  },
  {
   "cell_type": "code",
   "execution_count": 28,
   "metadata": {},
   "outputs": [
    {
     "data": {
      "text/html": [
       "<div>\n",
       "<style scoped>\n",
       "    .dataframe tbody tr th:only-of-type {\n",
       "        vertical-align: middle;\n",
       "    }\n",
       "\n",
       "    .dataframe tbody tr th {\n",
       "        vertical-align: top;\n",
       "    }\n",
       "\n",
       "    .dataframe thead th {\n",
       "        text-align: right;\n",
       "    }\n",
       "</style>\n",
       "<table border=\"1\" class=\"dataframe\">\n",
       "  <thead>\n",
       "    <tr style=\"text-align: right;\">\n",
       "      <th></th>\n",
       "      <th>WnvPresent</th>\n",
       "    </tr>\n",
       "    <tr>\n",
       "      <th>Species</th>\n",
       "      <th></th>\n",
       "    </tr>\n",
       "  </thead>\n",
       "  <tbody>\n",
       "    <tr>\n",
       "      <th>CULEX PIPIENS/RESTUANS</th>\n",
       "      <td>262</td>\n",
       "    </tr>\n",
       "    <tr>\n",
       "      <th>CULEX PIPIENS</th>\n",
       "      <td>240</td>\n",
       "    </tr>\n",
       "    <tr>\n",
       "      <th>CULEX RESTUANS</th>\n",
       "      <td>49</td>\n",
       "    </tr>\n",
       "    <tr>\n",
       "      <th>CULEX ERRATICUS</th>\n",
       "      <td>0</td>\n",
       "    </tr>\n",
       "    <tr>\n",
       "      <th>CULEX SALINARIUS</th>\n",
       "      <td>0</td>\n",
       "    </tr>\n",
       "    <tr>\n",
       "      <th>CULEX TARSALIS</th>\n",
       "      <td>0</td>\n",
       "    </tr>\n",
       "    <tr>\n",
       "      <th>CULEX TERRITANS</th>\n",
       "      <td>0</td>\n",
       "    </tr>\n",
       "  </tbody>\n",
       "</table>\n",
       "</div>"
      ],
      "text/plain": [
       "                        WnvPresent\n",
       "Species                           \n",
       "CULEX PIPIENS/RESTUANS         262\n",
       "CULEX PIPIENS                  240\n",
       "CULEX RESTUANS                  49\n",
       "CULEX ERRATICUS                  0\n",
       "CULEX SALINARIUS                 0\n",
       "CULEX TARSALIS                   0\n",
       "CULEX TERRITANS                  0"
      ]
     },
     "execution_count": 28,
     "metadata": {},
     "output_type": "execute_result"
    }
   ],
   "source": [
    "# Mosquito species with WNV present\n",
    "train[['Species','WnvPresent']].groupby('Species').sum().sort_values(by='WnvPresent',ascending=False)"
   ]
  },
  {
   "cell_type": "code",
   "execution_count": 29,
   "metadata": {},
   "outputs": [
    {
     "data": {
      "image/png": "[encoded data removed]",
      "text/plain": [
       "<Figure size 792x504 with 1 Axes>"
      ]
     },
     "metadata": {},
     "output_type": "display_data"
    }
   ],
   "source": [
    "train[['Species','WnvPresent']].groupby('Species').sum().plot(kind='bar', figsize=(11,7), title=\"WNV Presence in Mosquitos Species\");"
   ]
  },
  {
   "cell_type": "markdown",
   "metadata": {},
   "source": [
    "The most common type of mosquito to have west nile virus in them is the `CULEX PIPIENS` and the `CULEX RESTUANS`. `CULEX PIPIENS/RESTUANS` means either one or unable to identify?"
   ]
  },
  {
   "cell_type": "markdown",
   "metadata": {},
   "source": [
    "# Address Accuracy exploration"
   ]
  },
  {
   "cell_type": "code",
   "execution_count": 30,
   "metadata": {},
   "outputs": [
    {
     "data": {
      "text/plain": [
       "array([9, 8, 5, 3], dtype=int64)"
      ]
     },
     "execution_count": 30,
     "metadata": {},
     "output_type": "execute_result"
    }
   ],
   "source": [
    "train['AddressAccuracy'].unique()"
   ]
  },
  {
   "cell_type": "markdown",
   "metadata": {},
   "source": [
    "AddressAccuracy: accuracy returned from GeoCoder\n",
    "\n",
    "Geocoding is the process of **taking a text-based description of a location**, such as an **address** or the **name of a place**, and returning **geographic coordinates, frequently latitude/longitude pair**, to identify a location on the Earth's surface."
   ]
  },
  {
   "cell_type": "markdown",
   "metadata": {},
   "source": [
    "There are some inaccurate latitude and longitude with 5's and 3's in them, possible to drop the rows as they're inaccurate?"
   ]
  },
  {
   "cell_type": "code",
   "execution_count": 31,
   "metadata": {},
   "outputs": [
    {
     "data": {
      "text/plain": [
       "0.18065867123548449"
      ]
     },
     "execution_count": 31,
     "metadata": {},
     "output_type": "execute_result"
    }
   ],
   "source": [
    "# They make up 18% of the data\n",
    "len(train[(train['AddressAccuracy'] == 3) | (train['AddressAccuracy'] == 5)]) / len(train)"
   ]
  },
  {
   "cell_type": "code",
   "execution_count": 32,
   "metadata": {},
   "outputs": [
    {
     "data": {
      "text/plain": [
       "8    44.051018\n",
       "9    37.883114\n",
       "5    17.199695\n",
       "3     0.866172\n",
       "Name: AddressAccuracy, dtype: float64"
      ]
     },
     "execution_count": 32,
     "metadata": {},
     "output_type": "execute_result"
    }
   ],
   "source": [
    "train['AddressAccuracy'].value_counts(normalize=True)*100"
   ]
  },
  {
   "cell_type": "code",
   "execution_count": 33,
   "metadata": {},
   "outputs": [
    {
     "data": {
      "text/plain": [
       "(8608, 14)"
      ]
     },
     "execution_count": 33,
     "metadata": {},
     "output_type": "execute_result"
    }
   ],
   "source": [
    "# Drop the rows where address accuracy is 3 or 5\n",
    "train = train.drop(train[(train['AddressAccuracy'] == 5) | (train['AddressAccuracy'] == 3)].index, axis='rows')\n",
    "train.shape"
   ]
  },
  {
   "cell_type": "markdown",
   "metadata": {},
   "source": [
    "## Plot the latitude and longitude to detect the WNV hotspots"
   ]
  },
  {
   "cell_type": "code",
   "execution_count": 34,
   "metadata": {},
   "outputs": [
    {
     "data": {
      "text/html": [
       "<div>\n",
       "<style scoped>\n",
       "    .dataframe tbody tr th:only-of-type {\n",
       "        vertical-align: middle;\n",
       "    }\n",
       "\n",
       "    .dataframe tbody tr th {\n",
       "        vertical-align: top;\n",
       "    }\n",
       "\n",
       "    .dataframe thead th {\n",
       "        text-align: right;\n",
       "    }\n",
       "</style>\n",
       "<table border=\"1\" class=\"dataframe\">\n",
       "  <thead>\n",
       "    <tr style=\"text-align: right;\">\n",
       "      <th></th>\n",
       "      <th>Date</th>\n",
       "      <th>year</th>\n",
       "      <th>month</th>\n",
       "      <th>Address</th>\n",
       "      <th>Species</th>\n",
       "      <th>Block</th>\n",
       "      <th>Street</th>\n",
       "      <th>Trap</th>\n",
       "      <th>AddressNumberAndStreet</th>\n",
       "      <th>Latitude</th>\n",
       "      <th>Longitude</th>\n",
       "      <th>AddressAccuracy</th>\n",
       "      <th>NumMosquitos</th>\n",
       "      <th>WnvPresent</th>\n",
       "    </tr>\n",
       "  </thead>\n",
       "  <tbody>\n",
       "    <tr>\n",
       "      <th>0</th>\n",
       "      <td>2007-05-29</td>\n",
       "      <td>2007</td>\n",
       "      <td>May</td>\n",
       "      <td>4100 North Oak Park Avenue, Chicago, IL 60634,...</td>\n",
       "      <td>CULEX PIPIENS/RESTUANS</td>\n",
       "      <td>41</td>\n",
       "      <td>N OAK PARK AVE</td>\n",
       "      <td>T002</td>\n",
       "      <td>4100  N OAK PARK AVE, Chicago, IL</td>\n",
       "      <td>41.954690</td>\n",
       "      <td>-87.800991</td>\n",
       "      <td>9</td>\n",
       "      <td>1</td>\n",
       "      <td>0</td>\n",
       "    </tr>\n",
       "    <tr>\n",
       "      <th>1</th>\n",
       "      <td>2007-05-29</td>\n",
       "      <td>2007</td>\n",
       "      <td>May</td>\n",
       "      <td>4100 North Oak Park Avenue, Chicago, IL 60634,...</td>\n",
       "      <td>CULEX RESTUANS</td>\n",
       "      <td>41</td>\n",
       "      <td>N OAK PARK AVE</td>\n",
       "      <td>T002</td>\n",
       "      <td>4100  N OAK PARK AVE, Chicago, IL</td>\n",
       "      <td>41.954690</td>\n",
       "      <td>-87.800991</td>\n",
       "      <td>9</td>\n",
       "      <td>1</td>\n",
       "      <td>0</td>\n",
       "    </tr>\n",
       "    <tr>\n",
       "      <th>2</th>\n",
       "      <td>2007-05-29</td>\n",
       "      <td>2007</td>\n",
       "      <td>May</td>\n",
       "      <td>6200 North Mandell Avenue, Chicago, IL 60646, USA</td>\n",
       "      <td>CULEX RESTUANS</td>\n",
       "      <td>62</td>\n",
       "      <td>N MANDELL AVE</td>\n",
       "      <td>T007</td>\n",
       "      <td>6200  N MANDELL AVE, Chicago, IL</td>\n",
       "      <td>41.994991</td>\n",
       "      <td>-87.769279</td>\n",
       "      <td>9</td>\n",
       "      <td>1</td>\n",
       "      <td>0</td>\n",
       "    </tr>\n",
       "  </tbody>\n",
       "</table>\n",
       "</div>"
      ],
      "text/plain": [
       "        Date  year month                                            Address  \\\n",
       "0 2007-05-29  2007   May  4100 North Oak Park Avenue, Chicago, IL 60634,...   \n",
       "1 2007-05-29  2007   May  4100 North Oak Park Avenue, Chicago, IL 60634,...   \n",
       "2 2007-05-29  2007   May  6200 North Mandell Avenue, Chicago, IL 60646, USA   \n",
       "\n",
       "                  Species  Block           Street  Trap  \\\n",
       "0  CULEX PIPIENS/RESTUANS     41   N OAK PARK AVE  T002   \n",
       "1          CULEX RESTUANS     41   N OAK PARK AVE  T002   \n",
       "2          CULEX RESTUANS     62    N MANDELL AVE  T007   \n",
       "\n",
       "              AddressNumberAndStreet   Latitude  Longitude  AddressAccuracy  \\\n",
       "0  4100  N OAK PARK AVE, Chicago, IL  41.954690 -87.800991                9   \n",
       "1  4100  N OAK PARK AVE, Chicago, IL  41.954690 -87.800991                9   \n",
       "2   6200  N MANDELL AVE, Chicago, IL  41.994991 -87.769279                9   \n",
       "\n",
       "   NumMosquitos  WnvPresent  \n",
       "0             1           0  \n",
       "1             1           0  \n",
       "2             1           0  "
      ]
     },
     "execution_count": 34,
     "metadata": {},
     "output_type": "execute_result"
    }
   ],
   "source": [
    "train.head(3)"
   ]
  },
  {
   "cell_type": "code",
   "execution_count": 355,
   "metadata": {},
   "outputs": [
    {
     "data": {
      "image/png": "[encoded data removed]",
      "text/plain": [
       "<Figure size 792x504 with 1 Axes>"
      ]
     },
     "metadata": {},
     "output_type": "display_data"
    }
   ],
   "source": [
    "plt.figure(figsize=(11,7))\n",
    "sns.scatterplot(x='Longitude', y='Latitude', data=train, hue='WnvPresent', palette='rainbow', s=100)\n",
    "plt.title('Presence of West Nile Virus based on Longitude and Latitude', fontsize=15)\n",
    "plt.axvline(x=-87.78, color='r', lw=2)\n",
    "plt.axvline(x=-87.735, color='r', lw=2);"
   ]
  },
  {
   "cell_type": "markdown",
   "metadata": {},
   "source": [
    "There are only **5 hotspots with the WNV** among the entire area throughout the years."
   ]
  },
  {
   "cell_type": "code",
   "execution_count": 36,
   "metadata": {},
   "outputs": [
    {
     "data": {
      "text/plain": [
       " N MILWAUKEE AVE     0.14\n",
       " W FULLERTON AVE     0.10\n",
       " N MOSELL AVE        0.10\n",
       " S KOLMAR            0.09\n",
       " N LARAMIE AVE       0.07\n",
       " W 64TH ST           0.06\n",
       " N OAK PARK AVE      0.06\n",
       " W 63RD ST           0.05\n",
       " S CENTRAL AVE       0.05\n",
       " W STRONG ST         0.04\n",
       " N AVONDALE AVE      0.04\n",
       " N LEMONT AVE        0.04\n",
       " W ROSCOE ST         0.02\n",
       " W 72ND ST           0.02\n",
       " N RUTHERFORD AVE    0.02\n",
       " S NORDICA           0.02\n",
       " N LAWLER AVE        0.02\n",
       " N AUSTIN AVE        0.01\n",
       " N MCCLELLAN AVE     0.01\n",
       " S CICERO AVE        0.01\n",
       " W BELDEN AVE        0.01\n",
       " W MONTANA ST        0.01\n",
       " S KILPATRICK AVE    0.01\n",
       "Name: Street, dtype: float64"
      ]
     },
     "execution_count": 36,
     "metadata": {},
     "output_type": "execute_result"
    }
   ],
   "source": [
    "narrow_location = train[(train['Longitude'] > -87.80) & (train['Longitude'] < -87.735)]\n",
    "narrow_location[narrow_location['WnvPresent'] == 1]['Street'].value_counts(normalize=True)"
   ]
  },
  {
   "cell_type": "markdown",
   "metadata": {},
   "source": [
    "These are the areas which have the WNV in them"
   ]
  },
  {
   "cell_type": "markdown",
   "metadata": {},
   "source": [
    "## Type of mosquitos in the area"
   ]
  },
  {
   "cell_type": "code",
   "execution_count": 37,
   "metadata": {},
   "outputs": [
    {
     "data": {
      "text/plain": [
       "<AxesSubplot:xlabel='Longitude', ylabel='Latitude'>"
      ]
     },
     "execution_count": 37,
     "metadata": {},
     "output_type": "execute_result"
    },
    {
     "data": {
      "image/png": "[encoded data removed]",
      "text/plain": [
       "<Figure size 792x504 with 1 Axes>"
      ]
     },
     "metadata": {},
     "output_type": "display_data"
    }
   ],
   "source": [
    "plt.figure(figsize=(11,7))\n",
    "sns.scatterplot(x='Longitude', y='Latitude', data=train, hue='Species')"
   ]
  },
  {
   "cell_type": "markdown",
   "metadata": {},
   "source": [
    "Does not seem to show any relationship. `PIPIENS/RESTUANS`seems to be the dominant species."
   ]
  },
  {
   "cell_type": "code",
   "execution_count": null,
   "metadata": {},
   "outputs": [],
   "source": []
  },
  {
   "cell_type": "markdown",
   "metadata": {},
   "source": [
    "# Satellite traps"
   ]
  },
  {
   "cell_type": "markdown",
   "metadata": {},
   "source": [
    "\n",
    "Disease surveillance is an information-based activity involving the collection, analysis and interpretation of large volumes of data originating from a variety of sources.\n",
    "\n",
    "The information collated is then used in a number of ways to:\n",
    "\n",
    "* Evaluate the effectiveness of control and preventative health measures\n",
    "* Monitor changes in infectious agents e.g. trends in development of antimicrobial resistance\n",
    "* Support health planning and the allocation of appropriate resources within the healthcare system.\n",
    "* Identify high risk populations or areas to target interventions\n",
    "* Provide a valuable archive of disease activity for future reference.\n"
   ]
  },
  {
   "cell_type": "code",
   "execution_count": 38,
   "metadata": {},
   "outputs": [
    {
     "data": {
      "text/plain": [
       "8667     T094B\n",
       "8668     T094B\n",
       "8850     T094B\n",
       "9031     T094B\n",
       "9032     T094B\n",
       "9552     T054C\n",
       "9708     T054C\n",
       "9709     T054C\n",
       "9875     T054C\n",
       "9876     T054C\n",
       "10019    T054C\n",
       "10162    T054C\n",
       "10301    T054C\n",
       "10413    T054C\n",
       "Name: Trap, dtype: object"
      ]
     },
     "execution_count": 38,
     "metadata": {},
     "output_type": "execute_result"
    }
   ],
   "source": [
    "# There are 14 places with Satellite traps in them\n",
    "satellite_traps = train[train['Trap'].str.contains('T\\d{3}[a-zA-Z]',regex=True)]['Trap']\n",
    "satellite_traps"
   ]
  },
  {
   "cell_type": "code",
   "execution_count": 39,
   "metadata": {},
   "outputs": [
    {
     "data": {
      "text/plain": [
       "array([' S LONGWOOD DR', ' N CANNON DR'], dtype=object)"
      ]
     },
     "execution_count": 39,
     "metadata": {},
     "output_type": "execute_result"
    }
   ],
   "source": [
    "# These traps are located in these streets\n",
    "train.loc[satellite_traps.index]['Street'].unique()"
   ]
  },
  {
   "cell_type": "markdown",
   "metadata": {},
   "source": [
    "## Distribution of the number of mosquitos"
   ]
  },
  {
   "cell_type": "code",
   "execution_count": 40,
   "metadata": {},
   "outputs": [
    {
     "data": {
      "text/plain": [
       "Text(0.5, 1.0, 'Distribution of the mosquitos caught')"
      ]
     },
     "execution_count": 40,
     "metadata": {},
     "output_type": "execute_result"
    },
    {
     "data": {
      "image/png": "[encoded data removed]",
      "text/plain": [
       "<Figure size 792x504 with 1 Axes>"
      ]
     },
     "metadata": {},
     "output_type": "display_data"
    }
   ],
   "source": [
    "plt.figure(figsize=(11,7))\n",
    "sns.histplot(data=train['NumMosquitos'],bins=50)\n",
    "\n",
    "plt.title('Distribution of the mosquitos caught')"
   ]
  },
  {
   "cell_type": "markdown",
   "metadata": {},
   "source": [
    "1~2 mosquitos was caught most of the time, but there seems to be an outlier value of 50 mosquitos caught."
   ]
  },
  {
   "cell_type": "code",
   "execution_count": 41,
   "metadata": {},
   "outputs": [
    {
     "data": {
      "image/png": "[encoded data removed]",
      "text/plain": [
       "<Figure size 648x648 with 1 Axes>"
      ]
     },
     "metadata": {},
     "output_type": "display_data"
    }
   ],
   "source": [
    "plt.figure(figsize=(9,9))\n",
    "sns.boxplot(data=train['NumMosquitos'], orient='h')\n",
    "plt.title('Box plot of Number of Mosquitos')\n",
    "plt.xlabel('Count of number of Mosquitos caught')\n",
    "plt.yticks(ticks=[]);"
   ]
  },
  {
   "cell_type": "code",
   "execution_count": 42,
   "metadata": {},
   "outputs": [
    {
     "data": {
      "text/plain": [
       "1     23.582714\n",
       "2     13.115706\n",
       "3      9.003253\n",
       "4      5.947955\n",
       "5      5.076673\n",
       "50     4.890799\n",
       "6      3.926580\n",
       "7      3.217937\n",
       "8      2.497677\n",
       "9      2.486059\n",
       "Name: NumMosquitos, dtype: float64"
      ]
     },
     "execution_count": 42,
     "metadata": {},
     "output_type": "execute_result"
    }
   ],
   "source": [
    "# About 4% of the total mosquitos caught are 4%\n",
    "train['NumMosquitos'].value_counts(normalize=True)[:10] * 100"
   ]
  },
  {
   "cell_type": "code",
   "execution_count": 43,
   "metadata": {},
   "outputs": [
    {
     "data": {
      "text/plain": [
       "Index(['Date', 'year', 'month', 'Address', 'Species', 'Block', 'Street',\n",
       "       'Trap', 'AddressNumberAndStreet', 'Latitude', 'Longitude',\n",
       "       'AddressAccuracy', 'NumMosquitos', 'WnvPresent'],\n",
       "      dtype='object')"
      ]
     },
     "execution_count": 43,
     "metadata": {},
     "output_type": "execute_result"
    }
   ],
   "source": [
    "train.columns"
   ]
  },
  {
   "cell_type": "code",
   "execution_count": 44,
   "metadata": {},
   "outputs": [
    {
     "data": {
      "text/plain": [
       " W OHARE AIRPORT    32.541568\n",
       " E 105TH ST          7.838480\n",
       " N OAK PARK AVE      6.888361\n",
       " W 127TH PL          6.175772\n",
       " E 118TH ST          5.225653\n",
       " W 116TH ST          3.800475\n",
       " E 130TH ST          3.562945\n",
       " N MOSELL AVE        3.325416\n",
       " S KOSTNER AVE       2.850356\n",
       " S KOLMAR            2.375297\n",
       "Name: Street, dtype: float64"
      ]
     },
     "execution_count": 44,
     "metadata": {},
     "output_type": "execute_result"
    }
   ],
   "source": [
    "# Most mosquitos caught with a quantity of 50 were in W OHARE AIRPORT\n",
    "Mos_50 = train[train['NumMosquitos'] == 50]\n",
    "Mos_50['Street'].value_counts(normalize=True)[:10] * 100"
   ]
  },
  {
   "cell_type": "code",
   "execution_count": 45,
   "metadata": {},
   "outputs": [
    {
     "data": {
      "text/plain": [
       "0    86.698337\n",
       "1    13.301663\n",
       "Name: WnvPresent, dtype: float64"
      ]
     },
     "execution_count": 45,
     "metadata": {},
     "output_type": "execute_result"
    }
   ],
   "source": [
    "# The areas which 50 mosquitos were caught, only 13% had West Nile Virus\n",
    "Mos_50['WnvPresent'].value_counts(normalize=True) * 100"
   ]
  },
  {
   "cell_type": "code",
   "execution_count": 46,
   "metadata": {},
   "outputs": [
    {
     "data": {
      "text/plain": [
       "10    34.916865\n",
       "24     7.838480\n",
       "41     6.888361\n",
       "42     6.175772\n",
       "37     5.225653\n",
       "70     4.275534\n",
       "35     3.800475\n",
       "40     3.562945\n",
       "82     2.850356\n",
       "91     2.612827\n",
       "Name: Block, dtype: float64"
      ]
     },
     "execution_count": 46,
     "metadata": {},
     "output_type": "execute_result"
    }
   ],
   "source": [
    "# Most of 50 mosquitos that were caught were from block 10\n",
    "Mos_50['Block'].value_counts(normalize=True)[:10] * 100"
   ]
  },
  {
   "cell_type": "markdown",
   "metadata": {},
   "source": [
    "## Number of mosquitos over the months"
   ]
  },
  {
   "cell_type": "code",
   "execution_count": 311,
   "metadata": {},
   "outputs": [
    {
     "data": {
      "text/plain": [
       "Text(0, 0.5, 'Number of mosquitos over the months')"
      ]
     },
     "execution_count": 311,
     "metadata": {},
     "output_type": "execute_result"
    },
    {
     "data": {
      "image/png": "[encoded data removed]",
      "text/plain": [
       "<Figure size 792x504 with 1 Axes>"
      ]
     },
     "metadata": {},
     "output_type": "display_data"
    }
   ],
   "source": [
    "train.groupby('month').sum()['NumMosquitos'].reindex(index=train['month'].unique()).plot(figsize=(11,7))\n",
    "\n",
    "plt.ylabel('Number of mosquitos over the months', size=16)"
   ]
  },
  {
   "cell_type": "markdown",
   "metadata": {},
   "source": [
    "An increase of mosquitos from May to August, the peak was in August, but it starts to decline from there onwards."
   ]
  },
  {
   "cell_type": "code",
   "execution_count": 324,
   "metadata": {},
   "outputs": [
    {
     "data": {
      "image/png": "[encoded data removed]",
      "text/plain": [
       "<Figure size 792x504 with 1 Axes>"
      ]
     },
     "metadata": {},
     "output_type": "display_data"
    }
   ],
   "source": [
    "plt.figure(figsize=(11,7))\n",
    "sns.scatterplot(x='month', y='NumMosquitos', data=train, hue='WnvPresent')\n",
    "\n",
    "plt.title('Presence of WNV based of months and Number of mosquitos');"
   ]
  },
  {
   "cell_type": "markdown",
   "metadata": {},
   "source": [
    "August and September seems have the months which have mosquitos with WNV presence "
   ]
  },
  {
   "cell_type": "markdown",
   "metadata": {},
   "source": [
    "## Number of mosquitos over the years"
   ]
  },
  {
   "cell_type": "code",
   "execution_count": 338,
   "metadata": {},
   "outputs": [
    {
     "data": {
      "image/png": "[encoded data removed]",
      "text/plain": [
       "<Figure size 792x504 with 1 Axes>"
      ]
     },
     "metadata": {},
     "output_type": "display_data"
    }
   ],
   "source": [
    "train.groupby('year').sum()['NumMosquitos'].reindex(index=train['year'].unique()).plot(figsize=(11,7))\n",
    "\n",
    "plt.title('Number of Mosquitos over the years')\n",
    "plt.ylabel('Number of mosquitos over the years', size=16);"
   ]
  },
  {
   "cell_type": "markdown",
   "metadata": {},
   "source": [
    "There's a decline in the number of mosquitos cpatured over the years, but there's a sudden increase in the number of mosquitos captured in 2013.\n",
    "\n",
    "Need to investigate what happened in 2013."
   ]
  },
  {
   "cell_type": "code",
   "execution_count": 352,
   "metadata": {},
   "outputs": [
    {
     "data": {
      "image/png": "[encoded data removed]",
      "text/plain": [
       "<Figure size 792x504 with 1 Axes>"
      ]
     },
     "metadata": {},
     "output_type": "display_data"
    }
   ],
   "source": [
    "plt.figure(figsize=(11,7))\n",
    "sns.scatterplot(x='year', y='NumMosquitos', data=train, hue='WnvPresent')\n",
    "\n",
    "\n",
    "plt.title('Presence of WNV based of years and Number of mosquitos');"
   ]
  },
  {
   "cell_type": "markdown",
   "metadata": {},
   "source": [
    "2011 and 2013 are the years which have the most mosquitos with WNV in them."
   ]
  },
  {
   "cell_type": "markdown",
   "metadata": {},
   "source": [
    "## Traps effectiveness"
   ]
  },
  {
   "cell_type": "code",
   "execution_count": 243,
   "metadata": {},
   "outputs": [
    {
     "data": {
      "text/plain": [
       "0    0.947026\n",
       "1    0.052974\n",
       "Name: WnvPresent, dtype: float64"
      ]
     },
     "execution_count": 243,
     "metadata": {},
     "output_type": "execute_result"
    }
   ],
   "source": [
    "# There's a 5% chance of the WNV present in mosquitos\n",
    "train['WnvPresent'].value_counts(normalize=True)"
   ]
  },
  {
   "cell_type": "code",
   "execution_count": 244,
   "metadata": {},
   "outputs": [
    {
     "data": {
      "text/plain": [
       "0.05297397769516728"
      ]
     },
     "execution_count": 244,
     "metadata": {},
     "output_type": "execute_result"
    }
   ],
   "source": [
    "# Frequency of records with the virus\n",
    "prob_of_WNV = train['WnvPresent'].value_counts(normalize=True)[1]\n",
    "prob_of_WNV"
   ]
  },
  {
   "cell_type": "code",
   "execution_count": 257,
   "metadata": {},
   "outputs": [
    {
     "data": {
      "text/plain": [
       "0.3277310924369748"
      ]
     },
     "execution_count": 257,
     "metadata": {},
     "output_type": "execute_result"
    }
   ],
   "source": [
    "# 32% of the traps have a mean score of 0.05 and above in capturing mosquitos with WNV \n",
    "(train.groupby('Trap').mean()['WnvPresent'].sort_values(ascending=False) >= prob_of_WNV).sum() / len(train.groupby('Trap').mean()['WnvPresent'].sort_values(ascending=False))"
   ]
  },
  {
   "cell_type": "markdown",
   "metadata": {},
   "source": [
    "About 32% of the traps capture mosquitos with WNV in them have a mean score greater than the baseline probability of 0.05"
   ]
  },
  {
   "cell_type": "code",
   "execution_count": 255,
   "metadata": {},
   "outputs": [
    {
     "data": {
      "text/plain": [
       "Text(0, 0.5, 'Mean score of WNV presence')"
      ]
     },
     "execution_count": 255,
     "metadata": {},
     "output_type": "execute_result"
    },
    {
     "data": {
      "image/png": "[encoded data removed]",
      "text/plain": [
       "<Figure size 792x504 with 1 Axes>"
      ]
     },
     "metadata": {},
     "output_type": "display_data"
    }
   ],
   "source": [
    "train.groupby('Trap').mean()['WnvPresent'].sort_values(ascending=False)[train.groupby('Trap').mean()['WnvPresent'].sort_values(ascending=False)\n",
    "                                                                        >= prob_of_WNV].plot(kind='bar', figsize=(11,7))\n",
    "\n",
    "plt.title('Traps effectiveness')\n",
    "plt.ylabel('Mean score of WNV presence')"
   ]
  },
  {
   "cell_type": "markdown",
   "metadata": {},
   "source": [
    "# EDA on test set"
   ]
  },
  {
   "cell_type": "code",
   "execution_count": 69,
   "metadata": {},
   "outputs": [
    {
     "data": {
      "text/html": [
       "<div>\n",
       "<style scoped>\n",
       "    .dataframe tbody tr th:only-of-type {\n",
       "        vertical-align: middle;\n",
       "    }\n",
       "\n",
       "    .dataframe tbody tr th {\n",
       "        vertical-align: top;\n",
       "    }\n",
       "\n",
       "    .dataframe thead th {\n",
       "        text-align: right;\n",
       "    }\n",
       "</style>\n",
       "<table border=\"1\" class=\"dataframe\">\n",
       "  <thead>\n",
       "    <tr style=\"text-align: right;\">\n",
       "      <th></th>\n",
       "      <th>Id</th>\n",
       "      <th>Date</th>\n",
       "      <th>Address</th>\n",
       "      <th>Species</th>\n",
       "      <th>Block</th>\n",
       "      <th>Street</th>\n",
       "      <th>Trap</th>\n",
       "      <th>AddressNumberAndStreet</th>\n",
       "      <th>Latitude</th>\n",
       "      <th>Longitude</th>\n",
       "      <th>AddressAccuracy</th>\n",
       "    </tr>\n",
       "  </thead>\n",
       "  <tbody>\n",
       "    <tr>\n",
       "      <th>0</th>\n",
       "      <td>1</td>\n",
       "      <td>2008-06-11</td>\n",
       "      <td>4100 North Oak Park Avenue, Chicago, IL 60634,...</td>\n",
       "      <td>CULEX PIPIENS/RESTUANS</td>\n",
       "      <td>41</td>\n",
       "      <td>N OAK PARK AVE</td>\n",
       "      <td>T002</td>\n",
       "      <td>4100  N OAK PARK AVE, Chicago, IL</td>\n",
       "      <td>41.95469</td>\n",
       "      <td>-87.800991</td>\n",
       "      <td>9</td>\n",
       "    </tr>\n",
       "    <tr>\n",
       "      <th>1</th>\n",
       "      <td>2</td>\n",
       "      <td>2008-06-11</td>\n",
       "      <td>4100 North Oak Park Avenue, Chicago, IL 60634,...</td>\n",
       "      <td>CULEX RESTUANS</td>\n",
       "      <td>41</td>\n",
       "      <td>N OAK PARK AVE</td>\n",
       "      <td>T002</td>\n",
       "      <td>4100  N OAK PARK AVE, Chicago, IL</td>\n",
       "      <td>41.95469</td>\n",
       "      <td>-87.800991</td>\n",
       "      <td>9</td>\n",
       "    </tr>\n",
       "    <tr>\n",
       "      <th>2</th>\n",
       "      <td>3</td>\n",
       "      <td>2008-06-11</td>\n",
       "      <td>4100 North Oak Park Avenue, Chicago, IL 60634,...</td>\n",
       "      <td>CULEX PIPIENS</td>\n",
       "      <td>41</td>\n",
       "      <td>N OAK PARK AVE</td>\n",
       "      <td>T002</td>\n",
       "      <td>4100  N OAK PARK AVE, Chicago, IL</td>\n",
       "      <td>41.95469</td>\n",
       "      <td>-87.800991</td>\n",
       "      <td>9</td>\n",
       "    </tr>\n",
       "    <tr>\n",
       "      <th>3</th>\n",
       "      <td>4</td>\n",
       "      <td>2008-06-11</td>\n",
       "      <td>4100 North Oak Park Avenue, Chicago, IL 60634,...</td>\n",
       "      <td>CULEX SALINARIUS</td>\n",
       "      <td>41</td>\n",
       "      <td>N OAK PARK AVE</td>\n",
       "      <td>T002</td>\n",
       "      <td>4100  N OAK PARK AVE, Chicago, IL</td>\n",
       "      <td>41.95469</td>\n",
       "      <td>-87.800991</td>\n",
       "      <td>9</td>\n",
       "    </tr>\n",
       "    <tr>\n",
       "      <th>4</th>\n",
       "      <td>5</td>\n",
       "      <td>2008-06-11</td>\n",
       "      <td>4100 North Oak Park Avenue, Chicago, IL 60634,...</td>\n",
       "      <td>CULEX TERRITANS</td>\n",
       "      <td>41</td>\n",
       "      <td>N OAK PARK AVE</td>\n",
       "      <td>T002</td>\n",
       "      <td>4100  N OAK PARK AVE, Chicago, IL</td>\n",
       "      <td>41.95469</td>\n",
       "      <td>-87.800991</td>\n",
       "      <td>9</td>\n",
       "    </tr>\n",
       "  </tbody>\n",
       "</table>\n",
       "</div>"
      ],
      "text/plain": [
       "   Id        Date                                            Address  \\\n",
       "0   1  2008-06-11  4100 North Oak Park Avenue, Chicago, IL 60634,...   \n",
       "1   2  2008-06-11  4100 North Oak Park Avenue, Chicago, IL 60634,...   \n",
       "2   3  2008-06-11  4100 North Oak Park Avenue, Chicago, IL 60634,...   \n",
       "3   4  2008-06-11  4100 North Oak Park Avenue, Chicago, IL 60634,...   \n",
       "4   5  2008-06-11  4100 North Oak Park Avenue, Chicago, IL 60634,...   \n",
       "\n",
       "                  Species  Block           Street  Trap  \\\n",
       "0  CULEX PIPIENS/RESTUANS     41   N OAK PARK AVE  T002   \n",
       "1          CULEX RESTUANS     41   N OAK PARK AVE  T002   \n",
       "2           CULEX PIPIENS     41   N OAK PARK AVE  T002   \n",
       "3        CULEX SALINARIUS     41   N OAK PARK AVE  T002   \n",
       "4         CULEX TERRITANS     41   N OAK PARK AVE  T002   \n",
       "\n",
       "              AddressNumberAndStreet  Latitude  Longitude  AddressAccuracy  \n",
       "0  4100  N OAK PARK AVE, Chicago, IL  41.95469 -87.800991                9  \n",
       "1  4100  N OAK PARK AVE, Chicago, IL  41.95469 -87.800991                9  \n",
       "2  4100  N OAK PARK AVE, Chicago, IL  41.95469 -87.800991                9  \n",
       "3  4100  N OAK PARK AVE, Chicago, IL  41.95469 -87.800991                9  \n",
       "4  4100  N OAK PARK AVE, Chicago, IL  41.95469 -87.800991                9  "
      ]
     },
     "execution_count": 69,
     "metadata": {},
     "output_type": "execute_result"
    }
   ],
   "source": [
    "# Display first 5 rows\n",
    "test.head()"
   ]
  },
  {
   "cell_type": "code",
   "execution_count": 331,
   "metadata": {},
   "outputs": [
    {
     "data": {
      "text/plain": [
       "Id                        0\n",
       "Date                      0\n",
       "day                       0\n",
       "month                     0\n",
       "year                      0\n",
       "Address                   0\n",
       "Species                   0\n",
       "Block                     0\n",
       "Street                    0\n",
       "Trap                      0\n",
       "AddressNumberAndStreet    0\n",
       "Latitude                  0\n",
       "Longitude                 0\n",
       "AddressAccuracy           0\n",
       "dtype: int64"
      ]
     },
     "execution_count": 331,
     "metadata": {},
     "output_type": "execute_result"
    }
   ],
   "source": [
    "# No null values\n",
    "test.isnull().sum()"
   ]
  },
  {
   "cell_type": "code",
   "execution_count": 73,
   "metadata": {},
   "outputs": [
    {
     "data": {
      "text/plain": [
       "0        2008-06-11\n",
       "1        2008-06-11\n",
       "2        2008-06-11\n",
       "3        2008-06-11\n",
       "4        2008-06-11\n",
       "            ...    \n",
       "116288   2014-10-02\n",
       "116289   2014-10-02\n",
       "116290   2014-10-02\n",
       "116291   2014-10-02\n",
       "116292   2014-10-02\n",
       "Name: Date, Length: 116293, dtype: datetime64[ns]"
      ]
     },
     "execution_count": 73,
     "metadata": {},
     "output_type": "execute_result"
    }
   ],
   "source": [
    "# Transform Data into date time type\n",
    "test['Date'] = pd.to_datetime(test['Date'])\n",
    "test['Date']"
   ]
  },
  {
   "cell_type": "code",
   "execution_count": 106,
   "metadata": {},
   "outputs": [],
   "source": [
    "# Split the dates into their day, month and year\n",
    "day = test['Date'].dt.day_name()\n",
    "month = test['Date'].dt.month_name()\n",
    "year = test['Date'].dt.year\n",
    "\n",
    "# Insert day, month and year into the test df\n",
    "test.insert(2, 'day', day)\n",
    "test.insert(3, 'month', month)\n",
    "test.insert(4, 'year', year)"
   ]
  },
  {
   "cell_type": "code",
   "execution_count": 109,
   "metadata": {},
   "outputs": [
    {
     "data": {
      "text/html": [
       "<div>\n",
       "<style scoped>\n",
       "    .dataframe tbody tr th:only-of-type {\n",
       "        vertical-align: middle;\n",
       "    }\n",
       "\n",
       "    .dataframe tbody tr th {\n",
       "        vertical-align: top;\n",
       "    }\n",
       "\n",
       "    .dataframe thead th {\n",
       "        text-align: right;\n",
       "    }\n",
       "</style>\n",
       "<table border=\"1\" class=\"dataframe\">\n",
       "  <thead>\n",
       "    <tr style=\"text-align: right;\">\n",
       "      <th></th>\n",
       "      <th>Id</th>\n",
       "      <th>Date</th>\n",
       "      <th>day</th>\n",
       "      <th>month</th>\n",
       "      <th>year</th>\n",
       "      <th>Address</th>\n",
       "      <th>Species</th>\n",
       "      <th>Block</th>\n",
       "      <th>Street</th>\n",
       "      <th>Trap</th>\n",
       "      <th>AddressNumberAndStreet</th>\n",
       "      <th>Latitude</th>\n",
       "      <th>Longitude</th>\n",
       "      <th>AddressAccuracy</th>\n",
       "    </tr>\n",
       "  </thead>\n",
       "  <tbody>\n",
       "    <tr>\n",
       "      <th>0</th>\n",
       "      <td>1</td>\n",
       "      <td>2008-06-11</td>\n",
       "      <td>Wednesday</td>\n",
       "      <td>June</td>\n",
       "      <td>2008</td>\n",
       "      <td>4100 North Oak Park Avenue, Chicago, IL 60634,...</td>\n",
       "      <td>CULEX PIPIENS/RESTUANS</td>\n",
       "      <td>41</td>\n",
       "      <td>N OAK PARK AVE</td>\n",
       "      <td>T002</td>\n",
       "      <td>4100  N OAK PARK AVE, Chicago, IL</td>\n",
       "      <td>41.95469</td>\n",
       "      <td>-87.800991</td>\n",
       "      <td>9</td>\n",
       "    </tr>\n",
       "    <tr>\n",
       "      <th>1</th>\n",
       "      <td>2</td>\n",
       "      <td>2008-06-11</td>\n",
       "      <td>Wednesday</td>\n",
       "      <td>June</td>\n",
       "      <td>2008</td>\n",
       "      <td>4100 North Oak Park Avenue, Chicago, IL 60634,...</td>\n",
       "      <td>CULEX RESTUANS</td>\n",
       "      <td>41</td>\n",
       "      <td>N OAK PARK AVE</td>\n",
       "      <td>T002</td>\n",
       "      <td>4100  N OAK PARK AVE, Chicago, IL</td>\n",
       "      <td>41.95469</td>\n",
       "      <td>-87.800991</td>\n",
       "      <td>9</td>\n",
       "    </tr>\n",
       "    <tr>\n",
       "      <th>2</th>\n",
       "      <td>3</td>\n",
       "      <td>2008-06-11</td>\n",
       "      <td>Wednesday</td>\n",
       "      <td>June</td>\n",
       "      <td>2008</td>\n",
       "      <td>4100 North Oak Park Avenue, Chicago, IL 60634,...</td>\n",
       "      <td>CULEX PIPIENS</td>\n",
       "      <td>41</td>\n",
       "      <td>N OAK PARK AVE</td>\n",
       "      <td>T002</td>\n",
       "      <td>4100  N OAK PARK AVE, Chicago, IL</td>\n",
       "      <td>41.95469</td>\n",
       "      <td>-87.800991</td>\n",
       "      <td>9</td>\n",
       "    </tr>\n",
       "  </tbody>\n",
       "</table>\n",
       "</div>"
      ],
      "text/plain": [
       "   Id       Date        day month  year  \\\n",
       "0   1 2008-06-11  Wednesday  June  2008   \n",
       "1   2 2008-06-11  Wednesday  June  2008   \n",
       "2   3 2008-06-11  Wednesday  June  2008   \n",
       "\n",
       "                                             Address                 Species  \\\n",
       "0  4100 North Oak Park Avenue, Chicago, IL 60634,...  CULEX PIPIENS/RESTUANS   \n",
       "1  4100 North Oak Park Avenue, Chicago, IL 60634,...          CULEX RESTUANS   \n",
       "2  4100 North Oak Park Avenue, Chicago, IL 60634,...           CULEX PIPIENS   \n",
       "\n",
       "   Block           Street  Trap             AddressNumberAndStreet  Latitude  \\\n",
       "0     41   N OAK PARK AVE  T002  4100  N OAK PARK AVE, Chicago, IL  41.95469   \n",
       "1     41   N OAK PARK AVE  T002  4100  N OAK PARK AVE, Chicago, IL  41.95469   \n",
       "2     41   N OAK PARK AVE  T002  4100  N OAK PARK AVE, Chicago, IL  41.95469   \n",
       "\n",
       "   Longitude  AddressAccuracy  \n",
       "0 -87.800991                9  \n",
       "1 -87.800991                9  \n",
       "2 -87.800991                9  "
      ]
     },
     "execution_count": 109,
     "metadata": {},
     "output_type": "execute_result"
    }
   ],
   "source": [
    "test.head(3)"
   ]
  },
  {
   "cell_type": "markdown",
   "metadata": {},
   "source": [
    "## Check for duplicates"
   ]
  },
  {
   "cell_type": "code",
   "execution_count": 329,
   "metadata": {},
   "outputs": [
    {
     "data": {
      "text/plain": [
       "0"
      ]
     },
     "execution_count": 329,
     "metadata": {},
     "output_type": "execute_result"
    }
   ],
   "source": [
    "# No duplicates\n",
    "test.duplicated(keep=False).sum()"
   ]
  },
  {
   "cell_type": "markdown",
   "metadata": {},
   "source": [
    "## Months investigation"
   ]
  },
  {
   "cell_type": "code",
   "execution_count": 138,
   "metadata": {},
   "outputs": [
    {
     "data": {
      "image/png": "[encoded data removed]",
      "text/plain": [
       "<Figure size 504x504 with 1 Axes>"
      ]
     },
     "metadata": {},
     "output_type": "display_data"
    }
   ],
   "source": [
    "test['month'].value_counts(normalize=True).plot(title = 'Frequency of the mosquitos caught by Months',figsize=(7,7), \n",
    "                                                color='purple', lw=3);"
   ]
  },
  {
   "cell_type": "markdown",
   "metadata": {},
   "source": [
    "There seems to be a decline in the number of Mosquitos appearing as the months pass from June to October."
   ]
  },
  {
   "cell_type": "code",
   "execution_count": 167,
   "metadata": {},
   "outputs": [
    {
     "data": {
      "image/png": "[encoded data removed]",
      "text/plain": [
       "<Figure size 504x504 with 1 Axes>"
      ]
     },
     "metadata": {},
     "output_type": "display_data"
    }
   ],
   "source": [
    "test['day'].value_counts(normalize=True).reindex(index=['Monday', 'Tuesday', 'Wednesday', 'Thursday', 'Friday']).plot(figsize=(7,7), \n",
    "                                                color='purple', lw=3)\n",
    "plt.title('Frequency of the mosquitos caught by Days', size=15);\n",
    "# plt.grid(False)\n",
    "# test['day'].value_counts(normalize=True).sort_index()"
   ]
  },
  {
   "cell_type": "markdown",
   "metadata": {},
   "source": [
    "The most number of mosquitos caught were on **Thursday and Friday**. Most likely due to the workers only collecting the traps on Friday."
   ]
  },
  {
   "cell_type": "code",
   "execution_count": 170,
   "metadata": {},
   "outputs": [
    {
     "data": {
      "image/png": "[encoded data removed]",
      "text/plain": [
       "<Figure size 504x504 with 1 Axes>"
      ]
     },
     "metadata": {},
     "output_type": "display_data"
    }
   ],
   "source": [
    "test['year'].value_counts(normalize=True).sort_index().plot(kind='bar', figsize=(7,7), \n",
    "                                                            title='Frequency of Mosquitos caught by year', color='purple');"
   ]
  },
  {
   "cell_type": "markdown",
   "metadata": {},
   "source": [
    "Highest number caught was 2010"
   ]
  },
  {
   "cell_type": "code",
   "execution_count": 75,
   "metadata": {},
   "outputs": [
    {
     "data": {
      "text/plain": [
       "Id                        0\n",
       "Date                      0\n",
       "Address                   0\n",
       "Species                   0\n",
       "Block                     0\n",
       "Street                    0\n",
       "Trap                      0\n",
       "AddressNumberAndStreet    0\n",
       "Latitude                  0\n",
       "Longitude                 0\n",
       "AddressAccuracy           0\n",
       "dtype: int64"
      ]
     },
     "execution_count": 75,
     "metadata": {},
     "output_type": "execute_result"
    }
   ],
   "source": [
    "# Check for null values\n",
    "test.isnull().sum()"
   ]
  },
  {
   "cell_type": "markdown",
   "metadata": {},
   "source": [
    "## Check for Species types"
   ]
  },
  {
   "cell_type": "code",
   "execution_count": 83,
   "metadata": {},
   "outputs": [
    {
     "data": {
      "text/plain": [
       "array(['CULEX PIPIENS/RESTUANS', 'CULEX RESTUANS', 'CULEX PIPIENS',\n",
       "       'CULEX SALINARIUS', 'CULEX TERRITANS', 'CULEX TARSALIS',\n",
       "       'CULEX ERRATICUS'], dtype=object)"
      ]
     },
     "execution_count": 83,
     "metadata": {},
     "output_type": "execute_result"
    }
   ],
   "source": [
    "train['Species'].unique()"
   ]
  },
  {
   "cell_type": "code",
   "execution_count": 82,
   "metadata": {},
   "outputs": [
    {
     "data": {
      "text/plain": [
       "array(['CULEX PIPIENS/RESTUANS', 'CULEX RESTUANS', 'CULEX PIPIENS',\n",
       "       'CULEX SALINARIUS', 'CULEX TERRITANS', 'CULEX TARSALIS',\n",
       "       'UNSPECIFIED CULEX', 'CULEX ERRATICUS'], dtype=object)"
      ]
     },
     "execution_count": 82,
     "metadata": {},
     "output_type": "execute_result"
    }
   ],
   "source": [
    "test['Species'].unique()"
   ]
  },
  {
   "cell_type": "code",
   "execution_count": 95,
   "metadata": {},
   "outputs": [
    {
     "data": {
      "text/html": [
       "<div>\n",
       "<style scoped>\n",
       "    .dataframe tbody tr th:only-of-type {\n",
       "        vertical-align: middle;\n",
       "    }\n",
       "\n",
       "    .dataframe tbody tr th {\n",
       "        vertical-align: top;\n",
       "    }\n",
       "\n",
       "    .dataframe thead th {\n",
       "        text-align: right;\n",
       "    }\n",
       "</style>\n",
       "<table border=\"1\" class=\"dataframe\">\n",
       "  <thead>\n",
       "    <tr style=\"text-align: right;\">\n",
       "      <th></th>\n",
       "      <th>Id</th>\n",
       "      <th>Date</th>\n",
       "      <th>Address</th>\n",
       "      <th>Species</th>\n",
       "      <th>Block</th>\n",
       "      <th>Street</th>\n",
       "      <th>Trap</th>\n",
       "      <th>AddressNumberAndStreet</th>\n",
       "      <th>Latitude</th>\n",
       "      <th>Longitude</th>\n",
       "      <th>AddressAccuracy</th>\n",
       "    </tr>\n",
       "  </thead>\n",
       "  <tbody>\n",
       "    <tr>\n",
       "      <th>6</th>\n",
       "      <td>7</td>\n",
       "      <td>2008-06-11</td>\n",
       "      <td>4100 North Oak Park Avenue, Chicago, IL 60634,...</td>\n",
       "      <td>UNSPECIFIED CULEX</td>\n",
       "      <td>41</td>\n",
       "      <td>N OAK PARK AVE</td>\n",
       "      <td>T002</td>\n",
       "      <td>4100  N OAK PARK AVE, Chicago, IL</td>\n",
       "      <td>41.954690</td>\n",
       "      <td>-87.800991</td>\n",
       "      <td>9</td>\n",
       "    </tr>\n",
       "    <tr>\n",
       "      <th>14</th>\n",
       "      <td>15</td>\n",
       "      <td>2008-06-11</td>\n",
       "      <td>6200 North Mandell Avenue, Chicago, IL 60646, USA</td>\n",
       "      <td>UNSPECIFIED CULEX</td>\n",
       "      <td>62</td>\n",
       "      <td>N MANDELL AVE</td>\n",
       "      <td>T007</td>\n",
       "      <td>6200  N MANDELL AVE, Chicago, IL</td>\n",
       "      <td>41.994991</td>\n",
       "      <td>-87.769279</td>\n",
       "      <td>9</td>\n",
       "    </tr>\n",
       "    <tr>\n",
       "      <th>22</th>\n",
       "      <td>23</td>\n",
       "      <td>2008-06-11</td>\n",
       "      <td>7900 West Foster Avenue, Chicago, IL 60656, USA</td>\n",
       "      <td>UNSPECIFIED CULEX</td>\n",
       "      <td>79</td>\n",
       "      <td>W FOSTER AVE</td>\n",
       "      <td>T015</td>\n",
       "      <td>7900  W FOSTER AVE, Chicago, IL</td>\n",
       "      <td>41.974089</td>\n",
       "      <td>-87.824812</td>\n",
       "      <td>8</td>\n",
       "    </tr>\n",
       "    <tr>\n",
       "      <th>30</th>\n",
       "      <td>31</td>\n",
       "      <td>2008-06-11</td>\n",
       "      <td>1500 West Webster Avenue, Chicago, IL 60614, USA</td>\n",
       "      <td>UNSPECIFIED CULEX</td>\n",
       "      <td>15</td>\n",
       "      <td>W WEBSTER AVE</td>\n",
       "      <td>T045</td>\n",
       "      <td>1500  W WEBSTER AVE, Chicago, IL</td>\n",
       "      <td>41.921600</td>\n",
       "      <td>-87.666455</td>\n",
       "      <td>8</td>\n",
       "    </tr>\n",
       "    <tr>\n",
       "      <th>38</th>\n",
       "      <td>39</td>\n",
       "      <td>2008-06-11</td>\n",
       "      <td>2500 West Grand Avenue, Chicago, IL 60654, USA</td>\n",
       "      <td>UNSPECIFIED CULEX</td>\n",
       "      <td>25</td>\n",
       "      <td>W GRAND AVE</td>\n",
       "      <td>T046</td>\n",
       "      <td>2500  W GRAND AVE, Chicago, IL</td>\n",
       "      <td>41.891118</td>\n",
       "      <td>-87.654491</td>\n",
       "      <td>8</td>\n",
       "    </tr>\n",
       "  </tbody>\n",
       "</table>\n",
       "</div>"
      ],
      "text/plain": [
       "    Id       Date                                            Address  \\\n",
       "6    7 2008-06-11  4100 North Oak Park Avenue, Chicago, IL 60634,...   \n",
       "14  15 2008-06-11  6200 North Mandell Avenue, Chicago, IL 60646, USA   \n",
       "22  23 2008-06-11    7900 West Foster Avenue, Chicago, IL 60656, USA   \n",
       "30  31 2008-06-11   1500 West Webster Avenue, Chicago, IL 60614, USA   \n",
       "38  39 2008-06-11     2500 West Grand Avenue, Chicago, IL 60654, USA   \n",
       "\n",
       "              Species  Block           Street  Trap  \\\n",
       "6   UNSPECIFIED CULEX     41   N OAK PARK AVE  T002   \n",
       "14  UNSPECIFIED CULEX     62    N MANDELL AVE  T007   \n",
       "22  UNSPECIFIED CULEX     79     W FOSTER AVE  T015   \n",
       "30  UNSPECIFIED CULEX     15    W WEBSTER AVE  T045   \n",
       "38  UNSPECIFIED CULEX     25      W GRAND AVE  T046   \n",
       "\n",
       "               AddressNumberAndStreet   Latitude  Longitude  AddressAccuracy  \n",
       "6   4100  N OAK PARK AVE, Chicago, IL  41.954690 -87.800991                9  \n",
       "14   6200  N MANDELL AVE, Chicago, IL  41.994991 -87.769279                9  \n",
       "22    7900  W FOSTER AVE, Chicago, IL  41.974089 -87.824812                8  \n",
       "30   1500  W WEBSTER AVE, Chicago, IL  41.921600 -87.666455                8  \n",
       "38     2500  W GRAND AVE, Chicago, IL  41.891118 -87.654491                8  "
      ]
     },
     "execution_count": 95,
     "metadata": {},
     "output_type": "execute_result"
    }
   ],
   "source": [
    "# DF with Unspecified Culex in them \n",
    "unspecified_culex = test[~test['Species'].isin(train['Species'])]\n",
    "unspecified_culex.head()"
   ]
  },
  {
   "cell_type": "markdown",
   "metadata": {},
   "source": [
    " There is a `UNSPECIFIED CULEX` Species which is not found in the training set"
   ]
  },
  {
   "cell_type": "code",
   "execution_count": 86,
   "metadata": {},
   "outputs": [
    {
     "data": {
      "text/plain": [
       "CULEX PIPIENS/RESTUANS    13.207158\n",
       "CULEX RESTUANS            12.614689\n",
       "CULEX PIPIENS             12.486564\n",
       "CULEX SALINARIUS          12.343821\n",
       "CULEX TERRITANS           12.340382\n",
       "CULEX TARSALIS            12.336942\n",
       "UNSPECIFIED CULEX         12.335222\n",
       "CULEX ERRATICUS           12.335222\n",
       "Name: Species, dtype: float64"
      ]
     },
     "execution_count": 86,
     "metadata": {},
     "output_type": "execute_result"
    }
   ],
   "source": [
    "test['Species'].value_counts(normalize=True) * 100"
   ]
  },
  {
   "cell_type": "markdown",
   "metadata": {},
   "source": [
    "The `Species` type are fairly balanced, could drop the `UNSPECIFIED CULEX`? Imputing could skew the `Species` feature."
   ]
  },
  {
   "cell_type": "markdown",
   "metadata": {},
   "source": [
    "## Investigating the unique traps in the test set"
   ]
  },
  {
   "cell_type": "code",
   "execution_count": 180,
   "metadata": {},
   "outputs": [
    {
     "data": {
      "text/plain": [
       "array(['T129', 'T089', 'T145', 'T115', 'T138', 'T200', 'T206', 'T209',\n",
       "       'T107', 'T097', 'T102', 'T103', 'T157', 'T903', 'T090A', 'T090B',\n",
       "       'T090C', 'T200A', 'T128A', 'T200B', 'T218A', 'T218C', 'T218B',\n",
       "       'T227', 'T226', 'T229', 'T002A', 'T002B', 'T234', 'T065A'],\n",
       "      dtype=object)"
      ]
     },
     "execution_count": 180,
     "metadata": {},
     "output_type": "execute_result"
    }
   ],
   "source": [
    "# These traps are not found in the training set\n",
    "test_only_traps = test[~test['Trap'].isin(train['Trap'])]['Trap'].unique()\n",
    "test_only_traps"
   ]
  },
  {
   "cell_type": "code",
   "execution_count": 184,
   "metadata": {},
   "outputs": [
    {
     "data": {
      "text/plain": [
       "0.20134228187919462"
      ]
     },
     "execution_count": 184,
     "metadata": {},
     "output_type": "execute_result"
    }
   ],
   "source": [
    "# These test only traps make 20% of the total test traps, drop as it need to fit the model?\n",
    "len(test_only_traps)/ len(test['Trap'].unique())"
   ]
  },
  {
   "cell_type": "markdown",
   "metadata": {},
   "source": [
    "## Investigating Address Accuracy"
   ]
  },
  {
   "cell_type": "code",
   "execution_count": 188,
   "metadata": {},
   "outputs": [
    {
     "data": {
      "text/plain": [
       "array([9, 8, 5, 3], dtype=int64)"
      ]
     },
     "execution_count": 188,
     "metadata": {},
     "output_type": "execute_result"
    }
   ],
   "source": [
    "test['AddressAccuracy'].unique()"
   ]
  },
  {
   "cell_type": "markdown",
   "metadata": {},
   "source": [
    "Similar to the training set, there are address accuracy with 5's and 3's in them"
   ]
  },
  {
   "cell_type": "code",
   "execution_count": 190,
   "metadata": {},
   "outputs": [
    {
     "data": {
      "text/plain": [
       "8    0.532904\n",
       "9    0.342196\n",
       "5    0.118330\n",
       "3    0.006570\n",
       "Name: AddressAccuracy, dtype: float64"
      ]
     },
     "execution_count": 190,
     "metadata": {},
     "output_type": "execute_result"
    }
   ],
   "source": [
    "# Since they make up a small percentage, ~12%, could drop them\n",
    "test['AddressAccuracy'].value_counts(normalize=True)"
   ]
  },
  {
   "cell_type": "code",
   "execution_count": 196,
   "metadata": {},
   "outputs": [
    {
     "data": {
      "text/html": [
       "<div>\n",
       "<style scoped>\n",
       "    .dataframe tbody tr th:only-of-type {\n",
       "        vertical-align: middle;\n",
       "    }\n",
       "\n",
       "    .dataframe tbody tr th {\n",
       "        vertical-align: top;\n",
       "    }\n",
       "\n",
       "    .dataframe thead th {\n",
       "        text-align: right;\n",
       "    }\n",
       "</style>\n",
       "<table border=\"1\" class=\"dataframe\">\n",
       "  <thead>\n",
       "    <tr style=\"text-align: right;\">\n",
       "      <th></th>\n",
       "      <th>Id</th>\n",
       "      <th>Date</th>\n",
       "      <th>day</th>\n",
       "      <th>month</th>\n",
       "      <th>year</th>\n",
       "      <th>Address</th>\n",
       "      <th>Species</th>\n",
       "      <th>Block</th>\n",
       "      <th>Street</th>\n",
       "      <th>Trap</th>\n",
       "      <th>AddressNumberAndStreet</th>\n",
       "      <th>Latitude</th>\n",
       "      <th>Longitude</th>\n",
       "      <th>AddressAccuracy</th>\n",
       "    </tr>\n",
       "  </thead>\n",
       "  <tbody>\n",
       "    <tr>\n",
       "      <th>0</th>\n",
       "      <td>1</td>\n",
       "      <td>2008-06-11</td>\n",
       "      <td>Wednesday</td>\n",
       "      <td>June</td>\n",
       "      <td>2008</td>\n",
       "      <td>4100 North Oak Park Avenue, Chicago, IL 60634,...</td>\n",
       "      <td>CULEX PIPIENS/RESTUANS</td>\n",
       "      <td>41</td>\n",
       "      <td>N OAK PARK AVE</td>\n",
       "      <td>T002</td>\n",
       "      <td>4100  N OAK PARK AVE, Chicago, IL</td>\n",
       "      <td>41.95469</td>\n",
       "      <td>-87.800991</td>\n",
       "      <td>9</td>\n",
       "    </tr>\n",
       "    <tr>\n",
       "      <th>1</th>\n",
       "      <td>2</td>\n",
       "      <td>2008-06-11</td>\n",
       "      <td>Wednesday</td>\n",
       "      <td>June</td>\n",
       "      <td>2008</td>\n",
       "      <td>4100 North Oak Park Avenue, Chicago, IL 60634,...</td>\n",
       "      <td>CULEX RESTUANS</td>\n",
       "      <td>41</td>\n",
       "      <td>N OAK PARK AVE</td>\n",
       "      <td>T002</td>\n",
       "      <td>4100  N OAK PARK AVE, Chicago, IL</td>\n",
       "      <td>41.95469</td>\n",
       "      <td>-87.800991</td>\n",
       "      <td>9</td>\n",
       "    </tr>\n",
       "    <tr>\n",
       "      <th>2</th>\n",
       "      <td>3</td>\n",
       "      <td>2008-06-11</td>\n",
       "      <td>Wednesday</td>\n",
       "      <td>June</td>\n",
       "      <td>2008</td>\n",
       "      <td>4100 North Oak Park Avenue, Chicago, IL 60634,...</td>\n",
       "      <td>CULEX PIPIENS</td>\n",
       "      <td>41</td>\n",
       "      <td>N OAK PARK AVE</td>\n",
       "      <td>T002</td>\n",
       "      <td>4100  N OAK PARK AVE, Chicago, IL</td>\n",
       "      <td>41.95469</td>\n",
       "      <td>-87.800991</td>\n",
       "      <td>9</td>\n",
       "    </tr>\n",
       "    <tr>\n",
       "      <th>3</th>\n",
       "      <td>4</td>\n",
       "      <td>2008-06-11</td>\n",
       "      <td>Wednesday</td>\n",
       "      <td>June</td>\n",
       "      <td>2008</td>\n",
       "      <td>4100 North Oak Park Avenue, Chicago, IL 60634,...</td>\n",
       "      <td>CULEX SALINARIUS</td>\n",
       "      <td>41</td>\n",
       "      <td>N OAK PARK AVE</td>\n",
       "      <td>T002</td>\n",
       "      <td>4100  N OAK PARK AVE, Chicago, IL</td>\n",
       "      <td>41.95469</td>\n",
       "      <td>-87.800991</td>\n",
       "      <td>9</td>\n",
       "    </tr>\n",
       "    <tr>\n",
       "      <th>4</th>\n",
       "      <td>5</td>\n",
       "      <td>2008-06-11</td>\n",
       "      <td>Wednesday</td>\n",
       "      <td>June</td>\n",
       "      <td>2008</td>\n",
       "      <td>4100 North Oak Park Avenue, Chicago, IL 60634,...</td>\n",
       "      <td>CULEX TERRITANS</td>\n",
       "      <td>41</td>\n",
       "      <td>N OAK PARK AVE</td>\n",
       "      <td>T002</td>\n",
       "      <td>4100  N OAK PARK AVE, Chicago, IL</td>\n",
       "      <td>41.95469</td>\n",
       "      <td>-87.800991</td>\n",
       "      <td>9</td>\n",
       "    </tr>\n",
       "  </tbody>\n",
       "</table>\n",
       "</div>"
      ],
      "text/plain": [
       "   Id       Date        day month  year  \\\n",
       "0   1 2008-06-11  Wednesday  June  2008   \n",
       "1   2 2008-06-11  Wednesday  June  2008   \n",
       "2   3 2008-06-11  Wednesday  June  2008   \n",
       "3   4 2008-06-11  Wednesday  June  2008   \n",
       "4   5 2008-06-11  Wednesday  June  2008   \n",
       "\n",
       "                                             Address                 Species  \\\n",
       "0  4100 North Oak Park Avenue, Chicago, IL 60634,...  CULEX PIPIENS/RESTUANS   \n",
       "1  4100 North Oak Park Avenue, Chicago, IL 60634,...          CULEX RESTUANS   \n",
       "2  4100 North Oak Park Avenue, Chicago, IL 60634,...           CULEX PIPIENS   \n",
       "3  4100 North Oak Park Avenue, Chicago, IL 60634,...        CULEX SALINARIUS   \n",
       "4  4100 North Oak Park Avenue, Chicago, IL 60634,...         CULEX TERRITANS   \n",
       "\n",
       "   Block           Street  Trap             AddressNumberAndStreet  Latitude  \\\n",
       "0     41   N OAK PARK AVE  T002  4100  N OAK PARK AVE, Chicago, IL  41.95469   \n",
       "1     41   N OAK PARK AVE  T002  4100  N OAK PARK AVE, Chicago, IL  41.95469   \n",
       "2     41   N OAK PARK AVE  T002  4100  N OAK PARK AVE, Chicago, IL  41.95469   \n",
       "3     41   N OAK PARK AVE  T002  4100  N OAK PARK AVE, Chicago, IL  41.95469   \n",
       "4     41   N OAK PARK AVE  T002  4100  N OAK PARK AVE, Chicago, IL  41.95469   \n",
       "\n",
       "   Longitude  AddressAccuracy  \n",
       "0 -87.800991                9  \n",
       "1 -87.800991                9  \n",
       "2 -87.800991                9  \n",
       "3 -87.800991                9  \n",
       "4 -87.800991                9  "
      ]
     },
     "execution_count": 196,
     "metadata": {},
     "output_type": "execute_result"
    }
   ],
   "source": [
    "# Drop the inaccurate addresses, as they'll affect the Longitude and Latitude numbers\n",
    "test = test.drop(test[(test['AddressAccuracy'] == 3) | (test['AddressAccuracy'] == 5)].index, axis='rows')\n",
    "test.head()"
   ]
  },
  {
   "cell_type": "code",
   "execution_count": 201,
   "metadata": {},
   "outputs": [
    {
     "data": {
      "image/png": "[encoded data removed]",
      "text/plain": [
       "<Figure size 1440x648 with 2 Axes>"
      ]
     },
     "metadata": {},
     "output_type": "display_data"
    }
   ],
   "source": [
    "mask = np.zeros_like(test.corr())\n",
    "mask[np.triu_indices_from(mask)] = True\n",
    "\n",
    "\n",
    "plt.figure(figsize=(20,9))\n",
    "sns.heatmap(test.corr(),cmap='viridis',annot=True, mask = mask, annot_kws={'size':12})\n",
    "plt.title('Correlation between test features', fontsize=25)\n",
    "plt.xticks(fontsize=12)\n",
    "plt.yticks(fontsize=12)\n",
    "\n",
    "\n",
    "plt.show()"
   ]
  },
  {
   "cell_type": "code",
   "execution_count": null,
   "metadata": {},
   "outputs": [],
   "source": []
  },
  {
   "cell_type": "code",
   "execution_count": null,
   "metadata": {},
   "outputs": [],
   "source": []
  },
  {
   "cell_type": "code",
   "execution_count": null,
   "metadata": {},
   "outputs": [],
   "source": []
  }
 ],
 "metadata": {
  "kernelspec": {
   "display_name": "Python 3",
   "language": "python",
   "name": "python3"
  },
  "language_info": {
   "codemirror_mode": {
    "name": "ipython",
    "version": 3
   },
   "file_extension": ".py",
   "mimetype": "text/x-python",
   "name": "python",
   "nbconvert_exporter": "python",
   "pygments_lexer": "ipython3",
   "version": "3.8.5"
  }
 },
 "nbformat": 4,
 "nbformat_minor": 4
}
