{
 "cells": [
  {
   "cell_type": "markdown",
   "metadata": {},
   "source": [
    "# GA Capstone: Topic Modelling on AMD vs Nvidia GPU"
   ]
  },
  {
   "cell_type": "markdown",
   "metadata": {},
   "source": [
    "## Contents\n",
    "- Data Extraction\n",
    "- Data Cleaning\n",
    "- [EDA](#EDA)\n",
    "- [Prepare data for LDA modeling](#Prepare-reddit-comments-for-LDA-modeling)\n",
    "- [Phrase modeling: Bigram and Trigram models](#Phrase-modeling:-Bigram-and-Trigram-models)\n",
    "- [LDA Model Training](#LDA-Model-Training)\n",
    "- [LDA Mallet Model](#LDA-Mallet-Model)\n",
    "- Model creation\n",
    "- Model Evaluation"
   ]
  },
  {
   "cell_type": "markdown",
   "metadata": {},
   "source": [
    "# Import the libraries"
   ]
  },
  {
   "cell_type": "code",
   "execution_count": 1,
   "metadata": {
    "ExecuteTime": {
     "end_time": "2021-01-26T02:14:04.264543Z",
     "start_time": "2021-01-26T02:14:01.012967Z"
    }
   },
   "outputs": [],
   "source": [
    "# Common imports\n",
    "import numpy as np\n",
    "import pandas as pd\n",
    "import matplotlib.pyplot as plt\n",
    "import matplotlib.colors as mcolors\n",
    "import seaborn as sns\n",
    "\n",
    "from pprint import pprint\n",
    "import os\n",
    "from collections import Counter\n",
    "\n",
    "# Bokeh package for TSNE\n",
    "from sklearn.manifold import TSNE\n",
    "from bokeh.plotting import figure, output_file, show\n",
    "from bokeh.models import Label, ColumnDataSource\n",
    "from bokeh.io import output_notebook\n",
    "\n",
    "import re\n",
    "# NLTK Library\n",
    "from nltk import FreqDist\n",
    "from nltk.tokenize import RegexpTokenizer\n",
    "from nltk.stem import WordNetLemmatizer\n",
    "from nltk.corpus import stopwords\n",
    "\n",
    "# Import PRAW package\n",
    "import praw\n",
    "from praw.models import MoreComments\n",
    "\n",
    "# Gensim library\n",
    "import gensim\n",
    "from gensim.utils import simple_preprocess, ClippedCorpus\n",
    "from gensim.models import LdaMulticore, CoherenceModel, Phrases\n",
    "from gensim.models.wrappers import LdaMallet\n",
    "from gensim.models.phrases import Phraser\n",
    "from gensim.parsing.preprocessing import STOPWORDS\n",
    "import gensim.corpora as corpora\n",
    "\n",
    "# pyLDAvis library\n",
    "import pyLDAvis.gensim\n",
    "import pickle \n",
    "import pyLDAvis\n",
    "\n",
    "# Detect non-english words\n",
    "from langdetect import detect, DetectorFactory\n",
    "DetectorFactory.seed = 0\n",
    "\n",
    "# Detect non-english words using spacy\n",
    "import spacy\n",
    "from spacy_langdetect import LanguageDetector\n",
    "nlp = spacy.load(\"en_core_web_sm\")\n",
    "nlp.add_pipe(LanguageDetector(), name='language_detector', last=True)\n",
    "\n",
    "\n",
    "# Import the wordcloud library\n",
    "from wordcloud import WordCloud\n",
    "\n",
    "# Removes depreciation warnings\n",
    "import warnings\n",
    "warnings.filterwarnings(\"ignore\", category=DeprecationWarning)\n",
    "\n",
    "%matplotlib inline"
   ]
  },
  {
   "cell_type": "code",
   "execution_count": 2,
   "metadata": {
    "ExecuteTime": {
     "end_time": "2021-01-26T02:14:04.280557Z",
     "start_time": "2021-01-26T02:14:04.265545Z"
    }
   },
   "outputs": [],
   "source": [
    "# Set the max rows and columns for Pandas\n",
    "pd.options.display.max_columns = 100\n",
    "pd.options.display.max_rows = 200"
   ]
  },
  {
   "cell_type": "code",
   "execution_count": 3,
   "metadata": {
    "ExecuteTime": {
     "end_time": "2021-01-26T02:14:04.312303Z",
     "start_time": "2021-01-26T02:14:04.281558Z"
    }
   },
   "outputs": [],
   "source": [
    "# Set the style use\n",
    "plt.style.use('ggplot')"
   ]
  },
  {
   "cell_type": "markdown",
   "metadata": {},
   "source": [
    "# Load the dataset"
   ]
  },
  {
   "cell_type": "code",
   "execution_count": 4,
   "metadata": {
    "ExecuteTime": {
     "end_time": "2021-01-26T02:14:04.375752Z",
     "start_time": "2021-01-26T02:14:04.313305Z"
    }
   },
   "outputs": [
    {
     "data": {
      "text/html": [
       "<div>\n",
       "<style scoped>\n",
       "    .dataframe tbody tr th:only-of-type {\n",
       "        vertical-align: middle;\n",
       "    }\n",
       "\n",
       "    .dataframe tbody tr th {\n",
       "        vertical-align: top;\n",
       "    }\n",
       "\n",
       "    .dataframe thead th {\n",
       "        text-align: right;\n",
       "    }\n",
       "</style>\n",
       "<table border=\"1\" class=\"dataframe\">\n",
       "  <thead>\n",
       "    <tr style=\"text-align: right;\">\n",
       "      <th></th>\n",
       "      <th>Reddit comments</th>\n",
       "      <th>tag</th>\n",
       "    </tr>\n",
       "  </thead>\n",
       "  <tbody>\n",
       "    <tr>\n",
       "      <th>0</th>\n",
       "      <td>pre order time releasing 17th</td>\n",
       "      <td>nvidia</td>\n",
       "    </tr>\n",
       "    <tr>\n",
       "      <th>1</th>\n",
       "      <td>going hard grab 3080 17th</td>\n",
       "      <td>nvidia</td>\n",
       "    </tr>\n",
       "    <tr>\n",
       "      <th>2</th>\n",
       "      <td>uk price 3090 1399 3080 649 3070 469 scan aib ...</td>\n",
       "      <td>nvidia</td>\n",
       "    </tr>\n",
       "    <tr>\n",
       "      <th>3</th>\n",
       "      <td>talking spatula jensen pot</td>\n",
       "      <td>nvidia</td>\n",
       "    </tr>\n",
       "    <tr>\n",
       "      <th>4</th>\n",
       "      <td>10k core completely insane</td>\n",
       "      <td>nvidia</td>\n",
       "    </tr>\n",
       "    <tr>\n",
       "      <th>...</th>\n",
       "      <td>...</td>\n",
       "      <td>...</td>\n",
       "    </tr>\n",
       "    <tr>\n",
       "      <th>25511</th>\n",
       "      <td>motherboard say pcie 0 compatible</td>\n",
       "      <td>nvidia</td>\n",
       "    </tr>\n",
       "    <tr>\n",
       "      <th>25512</th>\n",
       "      <td>thanks understanding know course 3000s dvi por...</td>\n",
       "      <td>nvidia</td>\n",
       "    </tr>\n",
       "    <tr>\n",
       "      <th>25513</th>\n",
       "      <td>buy 1400 gpu</td>\n",
       "      <td>nvidia</td>\n",
       "    </tr>\n",
       "    <tr>\n",
       "      <th>25514</th>\n",
       "      <td>know ill wait 3070 3060</td>\n",
       "      <td>nvidia</td>\n",
       "    </tr>\n",
       "    <tr>\n",
       "      <th>25515</th>\n",
       "      <td>generational compatibility compatible size pci...</td>\n",
       "      <td>nvidia</td>\n",
       "    </tr>\n",
       "  </tbody>\n",
       "</table>\n",
       "<p>25516 rows × 2 columns</p>\n",
       "</div>"
      ],
      "text/plain": [
       "                                         Reddit comments     tag\n",
       "0                          pre order time releasing 17th  nvidia\n",
       "1                              going hard grab 3080 17th  nvidia\n",
       "2      uk price 3090 1399 3080 649 3070 469 scan aib ...  nvidia\n",
       "3                             talking spatula jensen pot  nvidia\n",
       "4                             10k core completely insane  nvidia\n",
       "...                                                  ...     ...\n",
       "25511                  motherboard say pcie 0 compatible  nvidia\n",
       "25512  thanks understanding know course 3000s dvi por...  nvidia\n",
       "25513                                       buy 1400 gpu  nvidia\n",
       "25514                            know ill wait 3070 3060  nvidia\n",
       "25515  generational compatibility compatible size pci...  nvidia\n",
       "\n",
       "[25516 rows x 2 columns]"
      ]
     },
     "execution_count": 4,
     "metadata": {},
     "output_type": "execute_result"
    }
   ],
   "source": [
    "# Read the existing csv file\n",
    "GPU_df = pd.read_csv('./reddit dataset/cleaned_combined_df.csv')\n",
    "GPU_df"
   ]
  },
  {
   "cell_type": "code",
   "execution_count": 5,
   "metadata": {
    "ExecuteTime": {
     "end_time": "2021-01-26T02:14:04.391767Z",
     "start_time": "2021-01-26T02:14:04.375752Z"
    }
   },
   "outputs": [
    {
     "data": {
      "text/html": [
       "<div>\n",
       "<style scoped>\n",
       "    .dataframe tbody tr th:only-of-type {\n",
       "        vertical-align: middle;\n",
       "    }\n",
       "\n",
       "    .dataframe tbody tr th {\n",
       "        vertical-align: top;\n",
       "    }\n",
       "\n",
       "    .dataframe thead th {\n",
       "        text-align: right;\n",
       "    }\n",
       "</style>\n",
       "<table border=\"1\" class=\"dataframe\">\n",
       "  <thead>\n",
       "    <tr style=\"text-align: right;\">\n",
       "      <th></th>\n",
       "      <th>Reddit comments</th>\n",
       "      <th>tag</th>\n",
       "    </tr>\n",
       "  </thead>\n",
       "  <tbody>\n",
       "    <tr>\n",
       "      <th>4698</th>\n",
       "      <td>sound samsung 8nm cheap</td>\n",
       "      <td>amd</td>\n",
       "    </tr>\n",
       "    <tr>\n",
       "      <th>4699</th>\n",
       "      <td>ethic mongol invasion tech</td>\n",
       "      <td>amd</td>\n",
       "    </tr>\n",
       "    <tr>\n",
       "      <th>4700</th>\n",
       "      <td>nvidia software ai learning big selling point</td>\n",
       "      <td>amd</td>\n",
       "    </tr>\n",
       "    <tr>\n",
       "      <th>4701</th>\n",
       "      <td>excited amd guy compete going nvidia brand loy...</td>\n",
       "      <td>amd</td>\n",
       "    </tr>\n",
       "    <tr>\n",
       "      <th>4702</th>\n",
       "      <td>think nvidia actualy competing new console pri...</td>\n",
       "      <td>amd</td>\n",
       "    </tr>\n",
       "    <tr>\n",
       "      <th>...</th>\n",
       "      <td>...</td>\n",
       "      <td>...</td>\n",
       "    </tr>\n",
       "    <tr>\n",
       "      <th>19219</th>\n",
       "      <td>dude understand example confused said looked r...</td>\n",
       "      <td>amd</td>\n",
       "    </tr>\n",
       "    <tr>\n",
       "      <th>19220</th>\n",
       "      <td>know example thought looked</td>\n",
       "      <td>amd</td>\n",
       "    </tr>\n",
       "    <tr>\n",
       "      <th>19221</th>\n",
       "      <td>probably score higher english proficiency test...</td>\n",
       "      <td>amd</td>\n",
       "    </tr>\n",
       "    <tr>\n",
       "      <th>19222</th>\n",
       "      <td>prove know concept cost opportunity efficiency...</td>\n",
       "      <td>amd</td>\n",
       "    </tr>\n",
       "    <tr>\n",
       "      <th>19223</th>\n",
       "      <td>cost opportunity perfectly ok way concept lmao...</td>\n",
       "      <td>amd</td>\n",
       "    </tr>\n",
       "  </tbody>\n",
       "</table>\n",
       "<p>14526 rows × 2 columns</p>\n",
       "</div>"
      ],
      "text/plain": [
       "                                         Reddit comments  tag\n",
       "4698                             sound samsung 8nm cheap  amd\n",
       "4699                          ethic mongol invasion tech  amd\n",
       "4700       nvidia software ai learning big selling point  amd\n",
       "4701   excited amd guy compete going nvidia brand loy...  amd\n",
       "4702   think nvidia actualy competing new console pri...  amd\n",
       "...                                                  ...  ...\n",
       "19219  dude understand example confused said looked r...  amd\n",
       "19220                        know example thought looked  amd\n",
       "19221  probably score higher english proficiency test...  amd\n",
       "19222  prove know concept cost opportunity efficiency...  amd\n",
       "19223  cost opportunity perfectly ok way concept lmao...  amd\n",
       "\n",
       "[14526 rows x 2 columns]"
      ]
     },
     "execution_count": 5,
     "metadata": {},
     "output_type": "execute_result"
    }
   ],
   "source": [
    "amd_df = GPU_df[GPU_df['tag'] == 'amd']\n",
    "amd_df"
   ]
  },
  {
   "cell_type": "markdown",
   "metadata": {},
   "source": [
    "# Prepare comments for modeling"
   ]
  },
  {
   "cell_type": "code",
   "execution_count": 6,
   "metadata": {
    "ExecuteTime": {
     "end_time": "2021-01-26T02:14:04.423796Z",
     "start_time": "2021-01-26T02:14:04.392768Z"
    }
   },
   "outputs": [],
   "source": [
    "# Creates the bag of words for each document\n",
    "data = [token.split() for token in amd_df['Reddit comments'].tolist()]"
   ]
  },
  {
   "cell_type": "code",
   "execution_count": 7,
   "metadata": {
    "ExecuteTime": {
     "end_time": "2021-01-26T02:14:04.455693Z",
     "start_time": "2021-01-26T02:14:04.424797Z"
    },
    "scrolled": true
   },
   "outputs": [
    {
     "name": "stdout",
     "output_type": "stream",
     "text": [
      "[['sound', 'samsung', '8nm', 'cheap'], ['ethic', 'mongol', 'invasion', 'tech'], ['nvidia', 'software', 'ai', 'learning', 'big', 'selling', 'point']]\n"
     ]
    }
   ],
   "source": [
    "# Prints the bag of words from the first 3 documents\n",
    "print(data[:3])"
   ]
  },
  {
   "cell_type": "markdown",
   "metadata": {},
   "source": [
    "# Phrase modeling: Bigram and Trigram models"
   ]
  },
  {
   "cell_type": "code",
   "execution_count": 8,
   "metadata": {
    "ExecuteTime": {
     "end_time": "2021-01-26T02:14:07.464156Z",
     "start_time": "2021-01-26T02:14:04.457694Z"
    }
   },
   "outputs": [],
   "source": [
    "# Build the bigram and trigram models\n",
    "bigram = Phrases(data, min_count=5, threshold=100) # higher threshold fewer phrases.\n",
    "trigram = Phrases(bigram[data], threshold=100)\n",
    "\n",
    "# Faster way to get a sentence clubbed as a trigram/bigram, this reduces memory, making the model smaller and faster\n",
    "bigram_mod = Phraser(bigram)\n",
    "trigram_mod = Phraser(trigram)"
   ]
  },
  {
   "cell_type": "code",
   "execution_count": 9,
   "metadata": {
    "ExecuteTime": {
     "end_time": "2021-01-26T02:14:08.759686Z",
     "start_time": "2021-01-26T02:14:07.465167Z"
    }
   },
   "outputs": [],
   "source": [
    "def make_bigrams(texts):\n",
    "    return [bigram_mod[doc] for doc in texts]\n",
    "\n",
    "def make_trigrams(texts):\n",
    "    return [trigram_mod[bigram_mod[doc]] for doc in texts]\n",
    "\n",
    "# Form Bigrams\n",
    "data_bigrams = make_bigrams(data)\n",
    "\n",
    "# Form Trigrams\n",
    "data_trigrams = make_trigrams(data)"
   ]
  },
  {
   "cell_type": "code",
   "execution_count": 10,
   "metadata": {
    "ExecuteTime": {
     "end_time": "2021-01-26T02:14:08.775700Z",
     "start_time": "2021-01-26T02:14:08.760687Z"
    }
   },
   "outputs": [],
   "source": [
    "# Create a dictionary to hold the different n-grams dataset\n",
    "phrase_list = {'unigram': data, 'bigrams': data_bigrams, 'trigrams': data_trigrams}\n",
    "# phrase_list"
   ]
  },
  {
   "cell_type": "markdown",
   "metadata": {},
   "source": [
    "# LDA on AMD comments with all the ngrams"
   ]
  },
  {
   "cell_type": "code",
   "execution_count": 11,
   "metadata": {
    "ExecuteTime": {
     "end_time": "2021-01-26T02:14:08.791715Z",
     "start_time": "2021-01-26T02:14:08.776702Z"
    }
   },
   "outputs": [],
   "source": [
    "# Creating a function to create the LDA model and compute the coherence score\n",
    "def lda_calculate_coherence_values(ngram_data, num_topics):\n",
    "    \"\"\"\n",
    "    This function calculates the coherence score and the perplexity scores for each ngram and stores\n",
    "    the model, corpus and the id2word in their respective dictionaries\n",
    "    \"\"\"\n",
    "    model_dict = {}\n",
    "    score_dict = {}\n",
    "    for key, value in ngram_data.items():\n",
    "        ngram_id2word = corpora.Dictionary(value)\n",
    "        ngram_corpus = [ngram_id2word.doc2bow(text) for text in value]\n",
    "\n",
    "        ngram_lda_model = LdaMulticore(corpus=ngram_corpus, \n",
    "                             id2word=ngram_id2word, \n",
    "                             num_topics=num_topics,\n",
    "                             chunksize=100,\n",
    "                             passes=20, \n",
    "                             random_state=42,\n",
    "                            per_word_topics=True)\n",
    "\n",
    "\n",
    "        # Compute Perplexity score\n",
    "        ngram_perplexity = ngram_lda_model.log_perplexity(ngram_corpus)  # a measure of how good the model is. lower the better.\n",
    "\n",
    "        # Compute Coherence Score\n",
    "        coherence_model_lda = CoherenceModel(model=ngram_lda_model, texts=value, dictionary=ngram_id2word, coherence='c_v')\n",
    "        ngram_coherence_lda = coherence_model_lda.get_coherence()\n",
    "        \n",
    "        # Prints out the topics for each ngram\n",
    "        print(f'*********Displaying {num_topics} topics for {key}******************')\n",
    "        pprint(ngram_lda_model.print_topics())\n",
    "        \n",
    "        # Store the perplexity and coherence scores in score_dict\n",
    "        score_dict[key] = []\n",
    "        score_dict[key].append(ngram_perplexity)\n",
    "        score_dict[key].append(ngram_coherence_lda)\n",
    "        \n",
    "        # Stores the ngram's model, corpus, id2word in model_dict\n",
    "        model_dict[key] = []\n",
    "        model_dict[key].append(ngram_lda_model)\n",
    "        model_dict[key].append(ngram_corpus)\n",
    "        model_dict[key].append(ngram_id2word)\n",
    "\n",
    "    return score_dict, model_dict, num_topics"
   ]
  },
  {
   "cell_type": "code",
   "execution_count": 12,
   "metadata": {
    "ExecuteTime": {
     "end_time": "2021-01-26T02:16:08.218387Z",
     "start_time": "2021-01-26T02:14:08.792716Z"
    }
   },
   "outputs": [
    {
     "name": "stdout",
     "output_type": "stream",
     "text": [
      "*********Displaying 5 topics for unigram******************\n",
      "[(0,\n",
      "  '0.024*\"3080\" + 0.022*\"6800\" + 0.020*\"6800xt\" + 0.019*\"3070\" + 0.017*\"3090\" '\n",
      "  '+ 0.016*\"vram\" + 0.013*\"6900xt\" + 0.009*\"xt\" + 0.008*\"price\" + '\n",
      "  '0.008*\"better\"'),\n",
      " (1,\n",
      "  '0.028*\"game\" + 0.028*\"dl\" + 0.017*\"amd\" + 0.016*\"ray\" + 0.015*\"tracing\" + '\n",
      "  '0.011*\"nvidia\" + 0.009*\"rt\" + 0.009*\"support\" + 0.008*\"feature\" + '\n",
      "  '0.008*\"driver\"'),\n",
      " (2,\n",
      "  '0.028*\"price\" + 0.019*\"amd\" + 0.011*\"3070\" + 0.011*\"card\" + 0.010*\"year\" + '\n",
      "  '0.010*\"end\" + 0.010*\"gpu\" + 0.010*\"nvidia\" + 0.009*\"6800\" + 0.008*\"think\"'),\n",
      " (3,\n",
      "  '0.041*\"nvidia\" + 0.036*\"amd\" + 0.015*\"rtx\" + 0.011*\"card\" + 0.010*\"3080\" + '\n",
      "  '0.010*\"better\" + 0.007*\"driver\" + 0.007*\"2080\" + 0.007*\"big\" + '\n",
      "  '0.006*\"3070\"'),\n",
      " (4,\n",
      "  '0.015*\"cpu\" + 0.013*\"series\" + 0.012*\"stock\" + 0.012*\"amd\" + 0.011*\"order\" '\n",
      "  '+ 0.010*\"launch\" + 0.009*\"card\" + 0.008*\"rage\" + 0.008*\"mode\" + '\n",
      "  '0.007*\"memory\"')]\n",
      "*********Displaying 5 topics for bigrams******************\n",
      "[(0,\n",
      "  '0.012*\"4k\" + 0.011*\"cpu\" + 0.010*\"gpu\" + 0.010*\"game\" + 0.009*\"monitor\" + '\n",
      "  '0.009*\"year\" + 0.007*\"1440p\" + 0.007*\"time\" + 0.007*\"6800xt\" + '\n",
      "  '0.007*\"want\"'),\n",
      " (1,\n",
      "  '0.037*\"6800\" + 0.036*\"3070\" + 0.020*\"3080\" + 0.019*\"vram\" + 0.015*\"6800xt\" '\n",
      "  '+ 0.014*\"3090\" + 0.013*\"better\" + 0.011*\"xt\" + 0.009*\"faster\" + '\n",
      "  '0.009*\"memory\"'),\n",
      " (2,\n",
      "  '0.033*\"dl\" + 0.024*\"game\" + 0.022*\"amd\" + 0.017*\"ray_tracing\" + '\n",
      "  '0.016*\"nvidia\" + 0.012*\"rt\" + 0.011*\"feature\" + 0.010*\"support\" + '\n",
      "  '0.007*\"use\" + 0.007*\"rtx\"'),\n",
      " (3,\n",
      "  '0.034*\"amd\" + 0.030*\"nvidia\" + 0.025*\"price\" + 0.014*\"card\" + 0.011*\"buy\" + '\n",
      "  '0.010*\"3080\" + 0.010*\"driver\" + 0.009*\"people\" + 0.007*\"3090\" + '\n",
      "  '0.007*\"good\"'),\n",
      " (4,\n",
      "  '0.013*\"amd\" + 0.012*\"card\" + 0.011*\"order\" + 0.011*\"stock\" + 0.008*\"know\" + '\n",
      "  '0.008*\"rage_mode\" + 0.006*\"reference\" + 0.006*\"cc\" + 0.006*\"launch\" + '\n",
      "  '0.006*\"people\"')]\n",
      "*********Displaying 5 topics for trigrams******************\n",
      "[(0,\n",
      "  '0.014*\"card\" + 0.013*\"people\" + 0.011*\"buy\" + 0.011*\"time\" + 0.010*\"year\" + '\n",
      "  '0.009*\"new\" + 0.008*\"price\" + 0.008*\"month\" + 0.007*\"gpu\" + 0.007*\"amd\"'),\n",
      " (1,\n",
      "  '0.018*\"cpu\" + 0.013*\"gpu\" + 0.013*\"game\" + 0.012*\"4k\" + 0.012*\"work\" + '\n",
      "  '0.009*\"fps\" + 0.006*\"video\" + 0.006*\"1080p\" + 0.006*\"monitor\" + '\n",
      "  '0.006*\"need\"'),\n",
      " (2,\n",
      "  '0.041*\"amd\" + 0.031*\"nvidia\" + 0.026*\"dl\" + 0.018*\"game\" + '\n",
      "  '0.014*\"ray_tracing\" + 0.009*\"driver\" + 0.009*\"feature\" + 0.009*\"rt\" + '\n",
      "  '0.008*\"card\" + 0.008*\"support\"'),\n",
      " (3,\n",
      "  '0.013*\"order\" + 0.012*\"amd\" + 0.011*\"stock\" + 0.008*\"cc\" + '\n",
      "  '0.007*\"reference\" + 0.007*\"card\" + 0.006*\"thanks\" + 0.006*\"know\" + '\n",
      "  '0.006*\"day\" + 0.006*\"line\"'),\n",
      " (4,\n",
      "  '0.028*\"3080\" + 0.027*\"3070\" + 0.024*\"6800\" + 0.024*\"price\" + 0.017*\"3090\" + '\n",
      "  '0.016*\"6800xt\" + 0.013*\"vram\" + 0.011*\"better\" + 0.011*\"6900xt\" + '\n",
      "  '0.010*\"amd\"')]\n"
     ]
    }
   ],
   "source": [
    "# Calculate using a dictionary\n",
    "score_dict, model_dict, num_topics = lda_calculate_coherence_values(phrase_list, 5)"
   ]
  },
  {
   "cell_type": "markdown",
   "metadata": {},
   "source": [
    "## Intrepreting the topics for unigram"
   ]
  },
  {
   "cell_type": "markdown",
   "metadata": {},
   "source": [
    "Scored between 1 ~ 5 with regards to their intrepretability, >= 3 will be considered intrepretable.\n",
    "* () means the score\n",
    "\n",
    "Topic 0 (4)\n",
    "* Talks about ray tracing and dlss (Deep learning super sampling) features which seem to perform better in Nvidia\n",
    "\n",
    "Topic 1 (2)\n",
    "* Talks about the PSU (Power supply unit)\n",
    "\n",
    "Topic 2 (4)\n",
    "* With regards to all the GPUs from AMD and Nvidia price, performance and vram (Video ram)\n",
    "\n",
    "Topic 3 (3)\n",
    "* Nvidia's GPUS price/performance is better than AMD\n",
    "\n",
    "Topic 4 (1)\n",
    "* Some issue with driver\n",
    "\n",
    "**2 topics were intrepretable.**"
   ]
  },
  {
   "cell_type": "markdown",
   "metadata": {},
   "source": [
    "## Interpreting the topics for the bigrams \n"
   ]
  },
  {
   "cell_type": "markdown",
   "metadata": {},
   "source": [
    "Scored between 1 ~ 5 with regards to their intrepretability, >= 3 will be considered intrepretable.\n",
    "* () is the score\n",
    "\n",
    "Topic 0 (4)\n",
    "* Talks 3070 and 3080 price, performance, vram, better than 6800 and 6800xt.\n",
    "\n",
    "Topic 1 (3)\n",
    "* Talks about dlss and ray_tracing features\n",
    "\n",
    "Topic 2 (2)\n",
    "* Driver issue and something to do with the gaming consoles\n",
    "\n",
    "Topic 3 (2)\n",
    "* Related to power supply unit\n",
    "\n",
    "Topic 4 (3)\n",
    "* Stock related issue during the launch of the GPUs\n",
    "\n",
    "**3 topics were intrepretable.**"
   ]
  },
  {
   "cell_type": "markdown",
   "metadata": {},
   "source": [
    "## Interpreting the topics for the trigrams \n"
   ]
  },
  {
   "cell_type": "markdown",
   "metadata": {},
   "source": [
    "Scored between 1 ~ 5 with regards to their intrepretability, >= 3 will be considered intrepretable.\n",
    "* () is the score\n",
    "\n",
    "Topic 0 (3)\n",
    "* Talks about the dlss and ray_tracing features as well as the performance in 4k.\n",
    "\n",
    "Topic 1 (1)\n",
    "* Something to do with tax\n",
    "\n",
    "Topic 2 (4)\n",
    "* Have to do with stocks availability during launch\n",
    "\n",
    "Topic 3 (2)\n",
    "* Driver related issue \n",
    "\n",
    "Topic 4 (2)\n",
    "* Different models of GPUs\n",
    "\n",
    "**2 topics were intrepretable.**"
   ]
  },
  {
   "cell_type": "code",
   "execution_count": 13,
   "metadata": {
    "ExecuteTime": {
     "end_time": "2021-01-26T02:16:08.234403Z",
     "start_time": "2021-01-26T02:16:08.218387Z"
    }
   },
   "outputs": [],
   "source": [
    "topics_interpretable = [2,3,2]"
   ]
  },
  {
   "cell_type": "code",
   "execution_count": 14,
   "metadata": {
    "ExecuteTime": {
     "end_time": "2021-01-26T02:16:08.250417Z",
     "start_time": "2021-01-26T02:16:08.235404Z"
    }
   },
   "outputs": [
    {
     "data": {
      "text/html": [
       "<div>\n",
       "<style scoped>\n",
       "    .dataframe tbody tr th:only-of-type {\n",
       "        vertical-align: middle;\n",
       "    }\n",
       "\n",
       "    .dataframe tbody tr th {\n",
       "        vertical-align: top;\n",
       "    }\n",
       "\n",
       "    .dataframe thead th {\n",
       "        text-align: right;\n",
       "    }\n",
       "</style>\n",
       "<table border=\"1\" class=\"dataframe\">\n",
       "  <thead>\n",
       "    <tr style=\"text-align: right;\">\n",
       "      <th></th>\n",
       "      <th>Perplexity score</th>\n",
       "      <th>Coherence score</th>\n",
       "      <th>no of topics intrepretable</th>\n",
       "    </tr>\n",
       "  </thead>\n",
       "  <tbody>\n",
       "    <tr>\n",
       "      <th>unigram</th>\n",
       "      <td>-7.675775</td>\n",
       "      <td>0.548173</td>\n",
       "      <td>2</td>\n",
       "    </tr>\n",
       "    <tr>\n",
       "      <th>bigrams</th>\n",
       "      <td>-7.730833</td>\n",
       "      <td>0.591680</td>\n",
       "      <td>3</td>\n",
       "    </tr>\n",
       "    <tr>\n",
       "      <th>trigrams</th>\n",
       "      <td>-7.725110</td>\n",
       "      <td>0.588553</td>\n",
       "      <td>2</td>\n",
       "    </tr>\n",
       "  </tbody>\n",
       "</table>\n",
       "</div>"
      ],
      "text/plain": [
       "          Perplexity score  Coherence score  no of topics intrepretable\n",
       "unigram          -7.675775         0.548173                           2\n",
       "bigrams          -7.730833         0.591680                           3\n",
       "trigrams         -7.725110         0.588553                           2"
      ]
     },
     "execution_count": 14,
     "metadata": {},
     "output_type": "execute_result"
    }
   ],
   "source": [
    "score_df = pd.DataFrame(score_dict).T\n",
    "score_df.columns = ['Perplexity score', 'Coherence score']\n",
    "score_df['no of topics intrepretable'] = topics_interpretable\n",
    "score_df"
   ]
  },
  {
   "cell_type": "markdown",
   "metadata": {},
   "source": [
    "## Summary\n",
    "\n",
    "Using Coherence score as the main metric and no of topic intrepretable as the secondary metric to select the best ngram, between unigrams and bigrams, I'll be choosing **bigram** as the it has the larger number of intrepretable topics compared to the other n_grams and it has the **second highest coherence score**."
   ]
  },
  {
   "cell_type": "markdown",
   "metadata": {},
   "source": [
    "## Visualizing the topics-keywords"
   ]
  },
  {
   "cell_type": "code",
   "execution_count": 15,
   "metadata": {
    "ExecuteTime": {
     "end_time": "2021-01-26T02:16:08.266432Z",
     "start_time": "2021-01-26T02:16:08.251418Z"
    }
   },
   "outputs": [],
   "source": [
    "# Obtaining the lda bigram model, corpus and dictionary\n",
    "lda_bigram_model, bigram_corpus, bigram_id2word = model_dict['bigrams']"
   ]
  },
  {
   "cell_type": "code",
   "execution_count": 16,
   "metadata": {
    "ExecuteTime": {
     "end_time": "2021-01-26T02:16:12.841846Z",
     "start_time": "2021-01-26T02:16:08.267432Z"
    }
   },
   "outputs": [
    {
     "data": {
      "text/html": [
       "\n",
       "<link rel=\"stylesheet\" type=\"text/css\" href=\"https://cdn.rawgit.com/bmabey/pyLDAvis/files/ldavis.v1.0.0.css\">\n",
       "\n",
       "\n",
       "<div id=\"ldavis_el901221274861677448314283785\"></div>\n",
       "<script type=\"text/javascript\">\n",
       "\n",
       "var ldavis_el901221274861677448314283785_data = {\"mdsDat\": {\"x\": [-0.03269569311188732, -0.018275146253124874, -0.20092239799357403, 0.0027621007096569014, 0.24913113664892944], \"y\": [-0.029955801244280485, -0.1659432517433429, 0.16048043310777907, -0.07877682139776634, 0.11419544127761067], \"topics\": [1, 2, 3, 4, 5], \"cluster\": [1, 1, 1, 1, 1], \"Freq\": [27.48457471852152, 22.602280506763623, 18.939106099854097, 16.863443117692633, 14.110595557168123]}, \"tinfo\": {\"Term\": [\"6800\", \"dl\", \"3070\", \"price\", \"nvidia\", \"game\", \"vram\", \"ray_tracing\", \"amd\", \"3080\", \"3090\", \"rt\", \"6800xt\", \"xt\", \"4k\", \"support\", \"feature\", \"order\", \"faster\", \"monitor\", \"driver\", \"stock\", \"buy\", \"cpu\", \"card\", \"memory\", \"2080ti\", \"rage_mode\", \"1440p\", \"better\", \"msrp\", \"999\", \"850\", \"sell\", \"usd\", \"fanboy\", \"overpriced\", \"3080ti\", \"649\", \"150\", \"3060\", \"consumer\", \"premium\", \"flagship\", \"1500\", \"terrible\", \"sounded\", \"fanboys\", \"2070s\", \"scared\", \"chipset\", \"market_share\", \"stem\", \"situation\", \"shitty\", \"disclosed\", \"trouble\", \"trolling\", \"usual\", \"binned\", \"seriously\", \"price\", \"pricing\", \"driver\", \"market\", \"high_end\", \"competition\", \"offer\", \"buy\", \"700\", \"nvidia\", \"compete\", \"decision\", \"competitive\", \"amd\", \"product\", \"issue\", \"card\", \"bad\", \"release\", \"tier\", \"people\", \"intel\", \"feel\", \"5700xt\", \"3080\", \"end\", \"going\", \"3090\", \"good\", \"want\", \"right\", \"year\", \"6900xt\", \"think\", \"gpu\", \"better\", \"time\", \"need\", \"point\", \"new\", \"dl\", \"rt\", \"ray_tracing\", \"technology\", \"super_resolution\", \"implementation\", \"ai\", \"mentioned\", \"solution\", \"supported\", \"implemented\", \"developer\", \"dxr\", \"tensor_core\", \"dedicated\", \"proprietary\", \"lighting\", \"devs\", \"upscaling\", \"newer\", \"api\", \"demanding\", \"implement\", \"dx12\", \"image\", \"aaa\", \"io\", \"optimized\", \"supersampling\", \"upscale\", \"support\", \"supporting\", \"0\", \"hardware\", \"raytracing\", \"feature\", \"software\", \"game\", \"working\", \"tech\", \"title\", \"console\", \"architecture\", \"use\", \"work\", \"amd\", \"nvidia\", \"rtx\", \"know\", \"worse\", \"new\", \"gpu\", \"better\", \"look\", \"think\", \"good\", \"said\", \"lot\", \"need\", \"benchmark\", \"going\", \"card\", \"time\", \"faster\", \"vram\", \"80\", \"16gb\", \"6800\", \"double\", \"gddr6x\", \"haha\", \"gddr6\", \"cache\", \"2080_ti\", \"clock\", \"18\", \"gb\", \"24gb\", \"bench\", \"percent\", \"tdp\", \"rage\", \"encoding\", \"trade_blow\", \"8gb\", \"g_sync\", \"10gb\", \"usage\", \"context\", \"xt\", \"rx6800\", \"power_consumption\", \"3rd\", \"70\", \"3070\", \"6900_xt\", \"2080ti\", \"ram\", \"rx\", \"power\", \"memory\", \"15\", \"6800xt\", \"20\", \"3090\", \"3080\", \"slightly\", \"v\", \"10\", \"extra\", \"better\", \"50\", \"benchmark\", \"6900xt\", \"difference\", \"rtx\", \"bit\", \"price\", \"4k\", \"think\", \"500\", \"gaming\", \"1080p\", \"psu\", \"monitor\", \"5600x\", \"thank\", \"shipping\", \"date\", \"ray\", \"5900x\", \"ultra\", \"144hz\", \"3600\", \"part\", \"refresh_rate\", \"psus\", \"buddy\", \"component\", \"pre_order\", \"bro\", \"1440p_144hz\", \"144\", \"medium\", \"wondering\", \"youtube\", \"middle\", \"ill\", \"zen3\", \"cast\", \"note\", \"ultrawide\", \"1070ti\", \"upgrade\", \"bottleneck\", \"3700x\", \"load\", \"1440p\", \"setting\", \"4k\", \"fps\", \"gsync\", \"cpu\", \"high\", \"ya\", \"pc\", \"ago\", \"run\", \"fine\", \"year\", \"running\", \"build\", \"gpu\", \"play\", \"money\", \"month\", \"gaming\", \"want\", \"game\", \"time\", \"new\", \"6800xt\", \"getting\", \"people\", \"need\", \"good\", \"buy\", \"think\", \"wait\", \"going\", \"3080\", \"order\", \"cc\", \"smart_access\", \"store\", \"reference\", \"tomorrow\", \"confirmation\", \"email\", \"page\", \"newegg\", \"link\", \"ryzen_5000\", \"amazon\", \"samsung\", \"online\", \"x570\", \"paypal\", \"site\", \"motherboard\", \"backorder\", \"morning\", \"website\", \"backorders\", \"canada_computer\", \"b550\", \"25th\", \"cancelled\", \"phone\", \"god\", \"deposit\", \"rage_mode\", \"ordered\", \"location\", \"told\", \"production\", \"process\", \"check\", \"sapphire\", \"tsmc\", \"week\", \"partner\", \"stock\", \"guy\", \"line\", \"aib\", \"waiting\", \"card\", \"day\", \"launch\", \"know\", \"amd\", \"thanks\", \"oh\", \"said\", \"yes\", \"people\", \"cpu\", \"today\", \"sure\", \"memory\", \"time\", \"wait\", \"think\", \"probably\"], \"Freq\": [1336.0, 1420.0, 1418.0, 1616.0, 2315.0, 1326.0, 692.0, 717.0, 3209.0, 1425.0, 888.0, 510.0, 896.0, 411.0, 586.0, 445.0, 533.0, 289.0, 329.0, 301.0, 633.0, 520.0, 736.0, 662.0, 1320.0, 439.0, 348.0, 214.0, 309.0, 1129.0, 227.49936918232757, 99.16238579531064, 76.88887582951038, 284.77799916417024, 64.65895240147704, 60.320558995694604, 61.13179861322047, 56.31547258342197, 55.49238019321296, 55.62162205130472, 63.68276119272717, 119.27944820819312, 51.84042403709291, 50.053850220185936, 52.11429758229424, 39.65877476576421, 38.53922678490211, 35.904770900426854, 35.57749022721328, 29.569763703151327, 29.604631568423095, 28.766340132200625, 28.412183281786522, 105.95952393855914, 30.14770598936994, 27.644814670356897, 27.46497594819004, 27.412292584273683, 26.255314794938503, 26.530750943794533, 64.59725378352958, 1296.893296350733, 245.19652179818561, 527.2190813984058, 221.69537468050143, 158.1803329467122, 169.53361755464812, 117.07005988571818, 553.056211961009, 125.45416739879549, 1539.7142487447472, 174.49479936587878, 88.51785096364146, 113.62315003475284, 1782.6639887516046, 208.77404758808922, 293.04429362960707, 711.8740145195997, 261.6903484678573, 222.46364269752303, 90.52313175447516, 464.5200094893298, 175.1492638066529, 157.22623622684742, 182.1091610507262, 536.9618303930229, 196.36709570182614, 356.5809210976031, 375.96728460381325, 367.0183140393713, 291.2699026702638, 244.97371147551448, 266.10665401865555, 240.54425098232082, 326.04936576007805, 281.8559303298786, 296.06520622996356, 252.40513951390218, 196.41846781112528, 189.04026520265043, 191.6935419819202, 1418.4225015914758, 509.02855169870435, 713.9015775008917, 108.98502773261933, 105.3507835982746, 98.48511626394826, 93.52343978254318, 112.3724571310544, 80.32463403050652, 65.34216172611173, 61.34507691904061, 57.63967817927138, 55.57718080506851, 55.404628645588865, 54.030447234653785, 49.684965850875535, 49.89382747931393, 45.653369615763935, 45.53224341883559, 47.10649050180562, 44.39437239949825, 43.07956618464783, 40.70347752442146, 39.78617283202086, 56.61858020516554, 35.98147093211927, 35.738581005748635, 33.00437837870011, 33.11500023131652, 31.469177671848342, 427.5652845982774, 39.89000595950822, 227.43193450240202, 262.05146414978185, 263.84946522225835, 465.43897942578496, 173.74801109269563, 1012.2029610880334, 148.250027695929, 149.587630678876, 128.20418251270803, 283.1345448488681, 78.245366562753, 318.19590445130854, 240.28108355487194, 930.4916141481143, 700.9006160185367, 301.7096523296266, 295.2124787883652, 120.52345974362912, 245.37570548832733, 280.2779808056454, 292.69846893404605, 218.90326360542875, 285.710833660644, 252.20300133447012, 184.609194306422, 159.66103289571237, 186.9347734570859, 173.9480169960574, 181.58571628189, 187.07638536674776, 171.55691145669377, 329.1654843551971, 690.0874366152757, 210.97801707435474, 216.34893401267993, 1328.2478183197736, 134.20005428778768, 73.31095116429657, 73.65296048681581, 56.69885037835429, 65.03242495107374, 152.97048480916544, 66.878623393227, 47.7602029352922, 48.34115719535956, 44.26175657126821, 43.09402185629973, 56.59091552821771, 42.08793483352405, 39.80586523374322, 38.05208877195785, 41.56187034025726, 205.78297108896265, 33.31779839025082, 40.42525318165018, 39.93791869415508, 26.70055362233544, 400.20663181270453, 25.81947520547349, 66.73741746485638, 24.771100274995042, 87.15256275504261, 1296.984557005633, 98.31162062705891, 302.1309386884768, 151.86040271270238, 186.8598575362108, 245.33004643069177, 320.7349637367804, 143.5937000023191, 525.7815305091048, 141.71698081316063, 511.62601389097597, 729.7559772682094, 123.79478750008688, 207.38045027530083, 193.89118992025317, 171.87361568221527, 469.7117004981963, 208.85976955609937, 274.51419088758087, 265.24753618766374, 183.13950660247983, 245.1632736903214, 170.71640651407395, 316.5637421151693, 202.15068083645826, 242.29473247404755, 179.16405514366386, 162.0351925781256, 178.04491425676622, 139.3583092906372, 298.4186204807164, 71.65390779016559, 64.0725169553503, 63.73276960394519, 61.93305178543736, 58.916804632442776, 53.34894063775328, 52.93137090504389, 52.162619408396054, 52.29260827755965, 68.02551637074504, 43.58371078835146, 41.368768090663174, 40.96179664997364, 40.364516748231914, 37.33000872322276, 31.68702022941916, 31.534340907565095, 31.04122861548486, 30.400410989583023, 28.421568286402294, 26.161833683783673, 25.651701694139998, 25.660928748517733, 25.345887829263408, 26.141371027750246, 24.55507575737859, 22.38037089489052, 22.89723644173615, 195.91671152573304, 54.200691030706686, 37.001900169365406, 74.8587762988207, 235.92145862333018, 99.13148115247532, 370.676526865461, 192.2737827576513, 56.057488009601954, 362.44377957018276, 156.03041855030452, 44.50358828074386, 193.5425008765444, 104.23346622923168, 147.8944382691206, 126.63943727619962, 280.41082913925356, 89.16041329701744, 87.27288424413753, 320.60713330453643, 140.78212219064554, 156.35261851919986, 141.30051690900805, 190.77371566681288, 223.48597572159744, 308.2420034408541, 229.38978922251522, 205.4196633763728, 226.6080868798731, 146.99752250407414, 205.65847425938964, 172.6258128238365, 189.16427658062787, 161.00723081205496, 176.3801648695912, 137.9324153795731, 147.05805019706833, 156.5417675598067, 288.30462273758394, 165.5379445722459, 146.62412334694363, 110.39519285873945, 169.22745974059237, 84.73981239319134, 80.64779584145626, 80.67481707860628, 74.2409392441135, 70.44529808912375, 97.87363240947016, 66.87085794315333, 64.99731916553237, 64.38783945882344, 56.54628887574193, 56.27026180763985, 55.08652017695627, 60.79369153367501, 44.720144373816225, 41.39295632142702, 39.953921524749106, 81.22693962300576, 33.73615761711485, 33.18747413926173, 33.08576670014321, 31.61508689420457, 34.306977365079696, 30.500670750547414, 30.322392774625765, 29.708136932098363, 209.4292023907292, 61.75501324567726, 56.03726971331869, 75.19830571864108, 39.714066844652336, 63.97351589549878, 76.91362255942181, 53.155313290683516, 55.146315158589736, 129.35707395071498, 70.3414295729259, 281.16318028215204, 109.59987917998981, 115.62364366463332, 115.63761137433158, 116.63949292722967, 332.88281077772814, 146.76963379730867, 157.74018145309378, 212.37495878388728, 337.86976821630105, 96.3853748067986, 95.61889207291144, 145.64879661168203, 116.62435605928418, 149.30331165973385, 130.17313396942606, 92.59154957844815, 116.08809799727128, 106.33011669810539, 108.3619644775424, 100.28434965027735, 108.07838141332128, 100.18324233759957], \"Total\": [1336.0, 1420.0, 1418.0, 1616.0, 2315.0, 1326.0, 692.0, 717.0, 3209.0, 1425.0, 888.0, 510.0, 896.0, 411.0, 586.0, 445.0, 533.0, 289.0, 329.0, 301.0, 633.0, 520.0, 736.0, 662.0, 1320.0, 439.0, 348.0, 214.0, 309.0, 1129.0, 228.24527310326053, 99.88195553724732, 77.61050837496373, 287.90018319919045, 65.37980156052089, 61.04732997933245, 61.910982509513126, 57.03511313674187, 56.213983678384366, 56.35389830281341, 64.54075543899752, 120.90914306821563, 52.5620077300736, 50.788499792771745, 52.882593263558825, 40.38170754329047, 39.27010529617587, 36.622067991387105, 36.41720138914367, 30.286556276114876, 30.342270973646784, 29.48641267932812, 29.132003493665245, 108.68861046410721, 30.924593750724213, 28.366030662475257, 28.185521118248097, 28.145208244738935, 26.976792000733326, 27.26517614078826, 68.23174798508131, 1616.2640166299598, 282.25121959236907, 633.985988380372, 255.81361061299427, 181.70137838523243, 196.8315942893267, 134.61241834180615, 736.7416073592116, 146.92029677945476, 2315.5311172102342, 214.0686734250593, 100.6338078632998, 134.9883218909301, 3209.290875453129, 272.35345061981144, 434.2852510231117, 1320.127393085953, 385.8569840670391, 329.10588368303036, 105.3793125452754, 996.9274617673135, 262.3710045025617, 227.59418139242044, 280.9926962380707, 1425.1288254108047, 329.3010496470276, 817.09804109257, 888.5848930509067, 970.1835129432715, 685.0107187278203, 550.9832029517066, 669.3023273562785, 561.9103663542284, 1138.5134781776821, 926.5668252401153, 1129.0221312430451, 784.1639884823201, 678.9119272631143, 500.60016289141623, 699.3820760781853, 1420.9182674082635, 510.1019307857161, 717.1757722533368, 109.71985350626349, 106.0791931080012, 99.21476639691402, 94.25649035961563, 113.26878045735512, 81.05902104451047, 66.07287517516096, 62.08039641870313, 58.37139631020675, 56.30644619022312, 56.13771818152536, 54.75770641266187, 50.41689068727592, 50.632341179664806, 46.38044067153496, 46.26116097389292, 47.866374253861736, 45.12050876851955, 43.81513004645911, 41.43287813423313, 40.51353551764646, 57.71482321594128, 36.710533532663625, 36.47124923882544, 33.73699767109122, 33.850540003611904, 32.20249748215625, 445.61453365386194, 40.82470133354724, 246.65392148153046, 286.91258812744695, 291.15324081367703, 533.1950538857599, 196.98460720157243, 1326.8667854670052, 174.06061261142912, 179.26206629530452, 156.67765421453106, 417.61488786041616, 89.57873223651066, 532.0074426493721, 446.73471445976224, 3209.290875453129, 2315.5311172102342, 698.6020192308381, 809.9846970607412, 204.8358354719466, 699.3820760781853, 926.5668252401153, 1129.0221312430451, 646.6787327710312, 1138.5134781776821, 970.1835129432715, 575.1439955201172, 385.7011339890042, 678.9119272631143, 542.3449197070224, 817.09804109257, 1320.127393085953, 784.1639884823201, 329.89692308804814, 692.4510684394888, 211.71185440846622, 217.3182908724721, 1336.6701768211426, 135.3957778271352, 74.03415004937273, 74.38895825166131, 57.41964678812926, 65.87385463677471, 155.0936349112963, 67.89026543960671, 48.487027539997065, 49.08384155102542, 44.999784580016446, 43.81767034954453, 57.58760255959343, 42.854305229389404, 40.532709789946, 38.78521369650629, 42.446553568474855, 210.3041865197569, 34.05968747291128, 41.41424151000021, 40.924393274697074, 27.425096100433066, 411.2297798896646, 26.549893127781672, 68.67117083981141, 25.523326255977867, 90.09045557165173, 1418.16750050505, 105.60473467336867, 348.7182575945984, 182.3631593585602, 232.77847683770642, 319.46671909584757, 439.50761891341443, 186.56820443117877, 896.3808512101369, 184.95477474583907, 888.5848930509067, 1425.1288254108047, 161.35453720130883, 317.947177401361, 293.70313241398753, 257.2197705702266, 1129.0221312430451, 355.44469360278026, 542.3449197070224, 561.9103663542284, 335.0084688311195, 698.6020192308381, 338.8441910785783, 1616.2640166299598, 586.1105154700779, 1138.5134781776821, 432.6274426095742, 483.50815865750207, 178.78339810161955, 140.09204981767755, 301.4990991901526, 72.39680936804073, 64.80971652743636, 64.50286839804977, 62.68432224650751, 59.677944734461356, 54.08272653557998, 53.66427324334577, 52.89297197643814, 53.027424275192224, 68.99044635654195, 44.31874560666344, 42.100588105068425, 41.69674146002474, 41.14208518558841, 38.078315335140516, 32.421208290540825, 32.2675547710218, 31.7699699788095, 31.137793359669818, 29.2207435794892, 26.90645626407116, 26.39632054567855, 26.41015520581454, 26.090338848285224, 26.930548609900363, 25.30067785708757, 23.11021617249753, 23.647507884273466, 224.86825694283465, 58.36478844909318, 39.10211564537025, 84.03021698349743, 309.41697240795423, 119.01091771126282, 586.1105154700779, 273.36057343672684, 65.798102056011, 662.6046110954031, 237.42450595690192, 50.00853896578916, 331.9498752588896, 151.34496745852294, 260.42101677501387, 210.8262311329653, 669.3023273562785, 128.1397222215387, 127.93799522047055, 926.5668252401153, 264.14662404819546, 323.46425760364366, 285.1168356667591, 483.50815865750207, 685.0107187278203, 1326.8667854670052, 784.1639884823201, 699.3820760781853, 896.3808512101369, 398.97401403134813, 996.9274617673135, 678.9119272631143, 970.1835129432715, 736.7416073592116, 1138.5134781776821, 546.7960164978952, 817.09804109257, 1425.1288254108047, 289.24069736174545, 166.23639372374086, 147.36987310266852, 111.09543520774207, 170.62552850776507, 85.44266473652408, 81.34536030629732, 81.3728520556504, 74.95431651712882, 71.14383002577763, 98.85137822683484, 67.5878599891245, 65.69861501481738, 65.09245396958795, 57.248410386629, 56.974237143854644, 55.783491054269916, 61.57685449053712, 45.433815763346665, 42.107492771838864, 40.65609379515756, 82.86930246193754, 34.43389146208719, 33.88805482807589, 33.78535350714537, 32.312049967178204, 35.08622471499541, 31.200952862142163, 31.03177886197858, 30.411433120840172, 214.48119286117958, 63.26510306260407, 57.424050724197286, 77.3055809749824, 40.731452581550776, 67.21025674676363, 82.9917413701184, 56.629929319599626, 59.01013407845142, 161.48235012270322, 80.05484360173925, 520.7794148880674, 155.7624757005593, 170.78702920644423, 183.74526665061947, 206.2109235037719, 1320.127393085953, 323.9200409209416, 412.1004291724969, 809.9846970607412, 3209.290875453129, 177.46163160368323, 182.56881683311843, 575.1439955201172, 378.8532251736138, 996.9274617673135, 662.6046110954031, 186.25581901761913, 539.9277720344343, 439.50761891341443, 784.1639884823201, 546.7960164978952, 1138.5134781776821, 639.4157929131369], \"Category\": [\"Default\", \"Default\", \"Default\", \"Default\", \"Default\", \"Default\", \"Default\", \"Default\", \"Default\", \"Default\", \"Default\", \"Default\", \"Default\", \"Default\", \"Default\", \"Default\", \"Default\", \"Default\", \"Default\", \"Default\", \"Default\", \"Default\", \"Default\", \"Default\", \"Default\", \"Default\", \"Default\", \"Default\", \"Default\", \"Default\", \"Topic1\", \"Topic1\", \"Topic1\", \"Topic1\", \"Topic1\", \"Topic1\", \"Topic1\", \"Topic1\", \"Topic1\", \"Topic1\", \"Topic1\", \"Topic1\", \"Topic1\", \"Topic1\", \"Topic1\", \"Topic1\", \"Topic1\", \"Topic1\", \"Topic1\", \"Topic1\", \"Topic1\", \"Topic1\", \"Topic1\", \"Topic1\", \"Topic1\", \"Topic1\", \"Topic1\", \"Topic1\", \"Topic1\", \"Topic1\", \"Topic1\", \"Topic1\", \"Topic1\", \"Topic1\", \"Topic1\", \"Topic1\", \"Topic1\", \"Topic1\", \"Topic1\", \"Topic1\", \"Topic1\", \"Topic1\", \"Topic1\", \"Topic1\", \"Topic1\", \"Topic1\", \"Topic1\", \"Topic1\", \"Topic1\", \"Topic1\", \"Topic1\", \"Topic1\", \"Topic1\", \"Topic1\", \"Topic1\", \"Topic1\", \"Topic1\", \"Topic1\", \"Topic1\", \"Topic1\", \"Topic1\", \"Topic1\", \"Topic1\", \"Topic1\", \"Topic1\", \"Topic1\", \"Topic1\", \"Topic1\", \"Topic1\", \"Topic1\", \"Topic1\", \"Topic2\", \"Topic2\", \"Topic2\", \"Topic2\", \"Topic2\", \"Topic2\", \"Topic2\", \"Topic2\", \"Topic2\", \"Topic2\", \"Topic2\", \"Topic2\", \"Topic2\", \"Topic2\", \"Topic2\", \"Topic2\", \"Topic2\", \"Topic2\", \"Topic2\", \"Topic2\", \"Topic2\", \"Topic2\", \"Topic2\", \"Topic2\", \"Topic2\", \"Topic2\", \"Topic2\", \"Topic2\", \"Topic2\", \"Topic2\", \"Topic2\", \"Topic2\", \"Topic2\", \"Topic2\", \"Topic2\", \"Topic2\", \"Topic2\", \"Topic2\", \"Topic2\", \"Topic2\", \"Topic2\", \"Topic2\", \"Topic2\", \"Topic2\", \"Topic2\", \"Topic2\", \"Topic2\", \"Topic2\", \"Topic2\", \"Topic2\", \"Topic2\", \"Topic2\", \"Topic2\", \"Topic2\", \"Topic2\", \"Topic2\", \"Topic2\", \"Topic2\", \"Topic2\", \"Topic2\", \"Topic2\", \"Topic2\", \"Topic2\", \"Topic3\", \"Topic3\", \"Topic3\", \"Topic3\", \"Topic3\", \"Topic3\", \"Topic3\", \"Topic3\", \"Topic3\", \"Topic3\", \"Topic3\", \"Topic3\", \"Topic3\", \"Topic3\", \"Topic3\", \"Topic3\", \"Topic3\", \"Topic3\", \"Topic3\", \"Topic3\", \"Topic3\", \"Topic3\", \"Topic3\", \"Topic3\", \"Topic3\", \"Topic3\", \"Topic3\", \"Topic3\", \"Topic3\", \"Topic3\", \"Topic3\", \"Topic3\", \"Topic3\", \"Topic3\", \"Topic3\", \"Topic3\", \"Topic3\", \"Topic3\", \"Topic3\", \"Topic3\", \"Topic3\", \"Topic3\", \"Topic3\", \"Topic3\", \"Topic3\", \"Topic3\", \"Topic3\", \"Topic3\", \"Topic3\", \"Topic3\", \"Topic3\", \"Topic3\", \"Topic3\", \"Topic3\", \"Topic3\", \"Topic3\", \"Topic3\", \"Topic3\", \"Topic3\", \"Topic4\", \"Topic4\", \"Topic4\", \"Topic4\", \"Topic4\", \"Topic4\", \"Topic4\", \"Topic4\", \"Topic4\", \"Topic4\", \"Topic4\", \"Topic4\", \"Topic4\", \"Topic4\", \"Topic4\", \"Topic4\", \"Topic4\", \"Topic4\", \"Topic4\", \"Topic4\", \"Topic4\", \"Topic4\", \"Topic4\", \"Topic4\", \"Topic4\", \"Topic4\", \"Topic4\", \"Topic4\", \"Topic4\", \"Topic4\", \"Topic4\", \"Topic4\", \"Topic4\", \"Topic4\", \"Topic4\", \"Topic4\", \"Topic4\", \"Topic4\", \"Topic4\", \"Topic4\", \"Topic4\", \"Topic4\", \"Topic4\", \"Topic4\", \"Topic4\", \"Topic4\", \"Topic4\", \"Topic4\", \"Topic4\", \"Topic4\", \"Topic4\", \"Topic4\", \"Topic4\", \"Topic4\", \"Topic4\", \"Topic4\", \"Topic4\", \"Topic4\", \"Topic4\", \"Topic4\", \"Topic4\", \"Topic4\", \"Topic4\", \"Topic4\", \"Topic4\", \"Topic4\", \"Topic4\", \"Topic4\", \"Topic4\", \"Topic5\", \"Topic5\", \"Topic5\", \"Topic5\", \"Topic5\", \"Topic5\", \"Topic5\", \"Topic5\", \"Topic5\", \"Topic5\", \"Topic5\", \"Topic5\", \"Topic5\", \"Topic5\", \"Topic5\", \"Topic5\", \"Topic5\", \"Topic5\", \"Topic5\", \"Topic5\", \"Topic5\", \"Topic5\", \"Topic5\", \"Topic5\", \"Topic5\", \"Topic5\", \"Topic5\", \"Topic5\", \"Topic5\", \"Topic5\", \"Topic5\", \"Topic5\", \"Topic5\", \"Topic5\", \"Topic5\", \"Topic5\", \"Topic5\", \"Topic5\", \"Topic5\", \"Topic5\", \"Topic5\", \"Topic5\", \"Topic5\", \"Topic5\", \"Topic5\", \"Topic5\", \"Topic5\", \"Topic5\", \"Topic5\", \"Topic5\", \"Topic5\", \"Topic5\", \"Topic5\", \"Topic5\", \"Topic5\", \"Topic5\", \"Topic5\", \"Topic5\", \"Topic5\", \"Topic5\", \"Topic5\", \"Topic5\", \"Topic5\", \"Topic5\"], \"logprob\": [30.0, 29.0, 28.0, 27.0, 26.0, 25.0, 24.0, 23.0, 22.0, 21.0, 20.0, 19.0, 18.0, 17.0, 16.0, 15.0, 14.0, 13.0, 12.0, 11.0, 10.0, 9.0, 8.0, 7.0, 6.0, 5.0, 4.0, 3.0, 2.0, 1.0, -5.432300090789795, -6.262700080871582, -6.517099857330322, -5.207799911499023, -6.690400123596191, -6.759799957275391, -6.746500015258789, -6.828499794006348, -6.843200206756592, -6.84089994430542, -6.705599784851074, -6.078000068664551, -6.911300182342529, -6.946400165557861, -6.906099796295166, -7.179200172424316, -7.207799911499023, -7.278600215911865, -7.287799835205078, -7.472700119018555, -7.47160005569458, -7.50029993057251, -7.512700080871582, -6.196400165557861, -7.453400135040283, -7.54010009765625, -7.546599864959717, -7.548500061035156, -7.591599941253662, -7.581200122833252, -6.691299915313721, -3.691800117492676, -5.357399940490723, -4.591899871826172, -5.458199977874756, -5.79580020904541, -5.726399898529053, -6.096700191497803, -4.544000148773193, -6.027599811553955, -3.5201001167297363, -5.6975998878479, -6.376299858093262, -6.1265997886657715, -3.3736000061035156, -5.518199920654297, -5.179200172424316, -4.291600227355957, -5.292300224304199, -5.454699993133545, -6.353899955749512, -4.718500137329102, -5.693900108337402, -5.801799774169922, -5.654900074005127, -4.573599815368652, -5.579500198364258, -4.982900142669678, -4.929999828338623, -4.954100131988525, -5.185200214385986, -5.35830020904541, -5.275599956512451, -5.3765997886657715, -5.072400093078613, -5.218100070953369, -5.168900012969971, -5.328499794006348, -5.57919979095459, -5.617499828338623, -5.603600025177002, -3.406599998474121, -4.431399822235107, -4.093200206756592, -5.972700119018555, -6.0065999031066895, -6.073999881744385, -6.125699996948242, -5.9421000480651855, -6.2778000831604, -6.484300136566162, -6.547399997711182, -6.6097002029418945, -6.646100044250488, -6.6493000984191895, -6.6743998527526855, -6.758200168609619, -6.754000186920166, -6.842800140380859, -6.8454999923706055, -6.811500072479248, -6.870800018310547, -6.900899887084961, -6.957600116729736, -6.980400085449219, -6.627600193023682, -7.080900192260742, -7.087699890136719, -7.167300224304199, -7.163899898529053, -7.214900016784668, -4.605800151824951, -6.977799892425537, -5.237100124359131, -5.095399856567383, -5.088500022888184, -4.520899772644043, -5.50629997253418, -3.74399995803833, -5.664999961853027, -5.656000137329102, -5.810299873352051, -5.01800012588501, -6.304100036621094, -4.901299953460693, -5.18209981918335, -3.828200101852417, -4.111599922180176, -4.954500198364258, -4.976200103759766, -5.872099876403809, -5.161099910736084, -5.02810001373291, -4.984799861907959, -5.275300025939941, -5.008900165557861, -5.133699893951416, -5.445700168609619, -5.59089994430542, -5.433199882507324, -5.505199909210205, -5.462200164794922, -5.432400226593018, -5.519000053405762, -4.690499782562256, -3.9502999782562256, -5.135300159454346, -5.110199928283691, -3.2955000400543213, -5.587800025939941, -6.192399978637695, -6.187699794769287, -6.4492998123168945, -6.31220006942749, -5.456900119781494, -6.284200191497803, -6.6209001541137695, -6.608799934387207, -6.697000026702881, -6.723700046539307, -6.451300144195557, -6.747300148010254, -6.803100109100342, -6.848100185394287, -6.759900093078613, -5.160299777984619, -6.980999946594238, -6.787600040435791, -6.799799919128418, -7.202400207519531, -4.495100021362305, -7.236000061035156, -6.286300182342529, -7.277400016784668, -6.019400119781494, -3.3192999362945557, -5.89900016784668, -4.776199817657471, -5.464099884033203, -5.256700038909912, -4.984499931335449, -4.7164998054504395, -5.520100116729736, -4.2221999168396, -5.533299922943115, -4.249499797821045, -3.894399881362915, -5.668499946594238, -5.152500152587891, -5.219799995422363, -5.3403000831604, -4.335000038146973, -5.145400047302246, -4.872099876403809, -4.906400203704834, -5.276899814605713, -4.985199928283691, -5.347099781036377, -4.729599952697754, -5.178100109100342, -4.9969000816345215, -5.298799991607666, -5.3993000984191895, -5.189000129699707, -5.434000015258789, -4.672500133514404, -6.0991997718811035, -6.210999965667725, -6.216300010681152, -6.244999885559082, -6.294899940490723, -6.394199848175049, -6.4019999504089355, -6.4166998863220215, -6.4141998291015625, -6.151100158691406, -6.59630012512207, -6.648499965667725, -6.658400058746338, -6.673099994659424, -6.751200199127197, -6.91510009765625, -6.919899940490723, -6.935699939727783, -6.956600189208984, -7.023900032043457, -7.1066999435424805, -7.126399993896484, -7.125999927520752, -7.138400077819824, -7.107500076293945, -7.170100212097168, -7.262800216674805, -7.239999771118164, -5.093299865722656, -6.378300189971924, -6.760000228881836, -6.0553998947143555, -4.90749979019165, -5.774600028991699, -4.455699920654297, -5.112100124359131, -6.344600200653076, -4.478099822998047, -5.321000099182129, -6.575399875640869, -5.105500221252441, -5.724400043487549, -5.374499797821045, -5.529699802398682, -4.734799861907959, -5.8805999755859375, -5.9019999504089355, -4.600800037384033, -5.423799991607666, -5.318900108337402, -5.420100212097168, -5.119900226593018, -4.961699962615967, -4.640100002288818, -4.9355998039245605, -5.046000003814697, -4.947800159454346, -5.3805999755859375, -5.0447998046875, -5.219900131225586, -5.128399848937988, -5.289599895477295, -5.198400020599365, -5.444300174713135, -5.380199909210205, -5.317699909210205, -4.528800010681152, -5.083600044250488, -5.204899787902832, -5.488699913024902, -5.061600208282471, -5.753200054168701, -5.802700042724609, -5.8024001121521, -5.885499954223633, -5.938000202178955, -5.609099864959717, -5.989999771118164, -6.018499851226807, -6.027900218963623, -6.157700061798096, -6.162600040435791, -6.183899879455566, -6.085299968719482, -6.392399787902832, -6.469699859619141, -6.505099773406982, -5.795499801635742, -6.674200057983398, -6.6905999183654785, -6.693699836730957, -6.739200115203857, -6.657400131225586, -6.775000095367432, -6.780900001525879, -6.801400184631348, -4.848400115966797, -6.0696001052856445, -6.166800022125244, -5.872700214385986, -6.511099815368652, -6.034299850463867, -5.850100040435791, -6.219600200653076, -6.182799816131592, -5.3302001953125, -5.9394001960754395, -4.553899765014648, -5.495999813079834, -5.442500114440918, -5.442299842834473, -5.433700084686279, -4.385000228881836, -5.20389986038208, -5.131800174713135, -4.834400177001953, -4.370100021362305, -5.6244001388549805, -5.632400035858154, -5.211599826812744, -5.433800220489502, -5.186800003051758, -5.32390022277832, -5.664599895477295, -5.438399791717529, -5.526199817657471, -5.507299900054932, -5.584799766540527, -5.509900093078613, -5.5858001708984375], \"loglift\": [30.0, 29.0, 28.0, 27.0, 26.0, 25.0, 24.0, 23.0, 22.0, 21.0, 20.0, 19.0, 18.0, 17.0, 16.0, 15.0, 14.0, 13.0, 12.0, 11.0, 10.0, 9.0, 8.0, 7.0, 6.0, 5.0, 4.0, 3.0, 2.0, 1.0, 1.2883, 1.2843, 1.2822, 1.2806, 1.2805, 1.2796, 1.2789, 1.2788, 1.2786, 1.2785, 1.2782, 1.278, 1.2777, 1.277, 1.2769, 1.2735, 1.2728, 1.2718, 1.2682, 1.2676, 1.2669, 1.2668, 1.2665, 1.2661, 1.2661, 1.2658, 1.2656, 1.2652, 1.2644, 1.2642, 1.2368, 1.0714, 1.1508, 1.1071, 1.1484, 1.1529, 1.1422, 1.1519, 1.0048, 1.1336, 0.8835, 1.0871, 1.1633, 1.1192, 0.7036, 1.0257, 0.8982, 0.674, 0.9032, 0.8999, 1.1396, 0.5279, 0.8874, 0.9217, 0.8578, 0.3155, 0.7746, 0.4623, 0.4314, 0.3195, 0.4364, 0.481, 0.3692, 0.4431, 0.0411, 0.1015, -0.047, 0.158, 0.0513, 0.3177, -0.0028, 1.4854, 1.485, 1.4825, 1.4804, 1.4802, 1.4797, 1.4793, 1.4792, 1.478, 1.476, 1.4752, 1.4745, 1.4741, 1.474, 1.4737, 1.4725, 1.4724, 1.4713, 1.4712, 1.4711, 1.4709, 1.4702, 1.4694, 1.469, 1.4679, 1.4671, 1.4668, 1.4652, 1.4652, 1.4641, 1.4458, 1.464, 1.406, 1.3965, 1.3886, 1.3512, 1.3616, 1.2164, 1.3266, 1.3062, 1.2866, 1.0985, 1.3519, 0.9731, 0.867, 0.249, 0.2921, 0.6475, 0.4778, 0.9568, 0.4397, 0.2914, 0.1372, 0.4039, 0.1046, 0.1399, 0.3507, 0.6051, 0.1974, 0.35, -0.0169, -0.4668, -0.0326, 1.6617, 1.6605, 1.6605, 1.6595, 1.6576, 1.6551, 1.6541, 1.654, 1.6513, 1.6511, 1.6502, 1.6489, 1.6488, 1.6487, 1.6474, 1.6473, 1.6465, 1.6459, 1.6458, 1.6449, 1.6429, 1.6422, 1.6419, 1.6398, 1.6395, 1.6372, 1.6368, 1.636, 1.6354, 1.634, 1.6308, 1.5746, 1.5924, 1.5205, 1.4809, 1.4442, 1.3999, 1.3489, 1.4021, 1.1305, 1.3977, 1.1119, 0.9946, 1.399, 1.2366, 1.2487, 1.2608, 0.787, 1.1322, 0.983, 0.9133, 1.06, 0.6168, 0.9784, 0.0336, 0.5994, 0.1166, 0.7824, 0.5707, 1.7759, 1.7748, 1.7698, 1.7697, 1.7686, 1.768, 1.768, 1.7672, 1.7664, 1.7663, 1.7661, 1.7661, 1.7659, 1.7633, 1.7625, 1.7622, 1.7609, 1.7602, 1.7571, 1.757, 1.7568, 1.7561, 1.7523, 1.752, 1.7514, 1.7512, 1.7511, 1.7503, 1.7501, 1.7479, 1.7478, 1.6422, 1.706, 1.7248, 1.6644, 1.5088, 1.5973, 1.3218, 1.4282, 1.6198, 1.1767, 1.3602, 1.6634, 1.2405, 1.4071, 1.2142, 1.2703, 0.91, 1.4173, 1.3975, 0.7188, 1.1507, 1.053, 1.078, 0.85, 0.6599, 0.3203, 0.5508, 0.5549, 0.4049, 0.7815, 0.2016, 0.4107, 0.1452, 0.2592, -0.0848, 0.4027, 0.0651, -0.4287, 1.955, 1.954, 1.9532, 1.9519, 1.95, 1.95, 1.9496, 1.9496, 1.9487, 1.9484, 1.9483, 1.9476, 1.9475, 1.9474, 1.9459, 1.9458, 1.9457, 1.9454, 1.9424, 1.9411, 1.9408, 1.9382, 1.9378, 1.9374, 1.9373, 1.9364, 1.9358, 1.9355, 1.9351, 1.9348, 1.9344, 1.9341, 1.9338, 1.9306, 1.9329, 1.9089, 1.8822, 1.8949, 1.8905, 1.7364, 1.8289, 1.3419, 1.6067, 1.5682, 1.4952, 1.3884, 0.5806, 1.1666, 0.9979, 0.6196, -0.2929, 1.3478, 1.3115, 0.5848, 0.7801, 0.0595, 0.3309, 1.2593, 0.4212, 0.5391, -0.0209, 0.2622, -0.3964, 0.1047]}, \"token.table\": {\"Topic\": [2, 5, 1, 2, 3, 4, 5, 4, 4, 3, 4, 3, 4, 4, 4, 1, 3, 4, 1, 1, 3, 3, 1, 2, 3, 4, 1, 1, 3, 1, 3, 3, 5, 1, 1, 3, 1, 3, 4, 5, 1, 1, 3, 4, 4, 1, 4, 5, 3, 2, 3, 4, 1, 3, 4, 1, 2, 3, 4, 5, 4, 1, 3, 4, 5, 4, 1, 1, 3, 4, 5, 1, 3, 4, 5, 3, 4, 1, 3, 4, 5, 3, 4, 1, 4, 3, 1, 3, 4, 1, 2, 1, 4, 5, 2, 1, 4, 5, 5, 1, 2, 3, 4, 5, 2, 1, 2, 3, 5, 5, 5, 5, 1, 2, 3, 4, 3, 1, 2, 3, 4, 5, 1, 2, 3, 4, 1, 1, 2, 3, 4, 5, 3, 4, 4, 4, 1, 4, 5, 1, 2, 3, 4, 5, 3, 5, 5, 1, 2, 3, 4, 5, 4, 5, 1, 4, 5, 1, 3, 1, 2, 3, 1, 2, 1, 2, 3, 4, 5, 1, 2, 4, 1, 2, 3, 1, 2, 4, 5, 4, 1, 2, 4, 5, 1, 4, 5, 2, 2, 5, 2, 2, 1, 2, 3, 4, 1, 1, 2, 3, 1, 3, 1, 2, 2, 2, 5, 3, 1, 2, 3, 4, 5, 1, 2, 3, 4, 1, 1, 3, 1, 2, 3, 1, 3, 4, 1, 2, 3, 4, 5, 1, 2, 3, 4, 3, 1, 2, 3, 4, 1, 2, 3, 4, 3, 3, 3, 1, 2, 3, 4, 5, 5, 1, 2, 3, 4, 5, 1, 2, 3, 4, 5, 1, 2, 3, 4, 5, 1, 4, 1, 2, 3, 4, 5, 3, 1, 2, 3, 1, 2, 3, 4, 1, 4, 4, 1, 2, 2, 2, 2, 1, 2, 4, 2, 1, 2, 4, 5, 1, 2, 3, 4, 5, 1, 2, 4, 5, 2, 1, 2, 3, 4, 5, 5, 2, 3, 4, 4, 5, 1, 2, 3, 4, 5, 1, 2, 3, 4, 5, 1, 2, 4, 1, 4, 2, 3, 4, 5, 2, 4, 1, 2, 3, 4, 1, 4, 1, 2, 4, 5, 5, 5, 1, 1, 2, 3, 4, 5, 1, 2, 4, 5, 5, 2, 4, 1, 2, 3, 5, 1, 2, 3, 1, 2, 4, 5, 5, 2, 5, 4, 5, 1, 5, 4, 1, 5, 5, 1, 2, 4, 5, 1, 2, 3, 4, 5, 3, 5, 1, 2, 3, 4, 1, 2, 3, 4, 5, 2, 3, 4, 1, 3, 4, 1, 1, 3, 4, 1, 3, 1, 2, 3, 4, 5, 4, 5, 1, 2, 5, 5, 2, 4, 4, 3, 4, 5, 1, 3, 4, 4, 1, 2, 3, 2, 3, 4, 1, 4, 5, 4, 1, 2, 3, 4, 5, 1, 2, 3, 4, 5, 2, 1, 2, 3, 4, 2, 3, 4, 1, 2, 3, 4, 1, 3, 4, 5, 3, 5, 1, 2, 3, 4, 5, 5, 3, 4, 5, 1, 1, 2, 4, 5, 1, 2, 2, 4, 4, 1, 5, 1, 2, 4, 1, 3, 4, 5, 1, 2, 3, 2, 1, 1, 1, 4, 5, 5, 2, 2, 1, 2, 4, 5, 2, 2, 1, 2, 3, 4, 5, 3, 1, 2, 3, 4, 2, 2, 1, 4, 1, 2, 4, 5, 1, 2, 3, 4, 5, 1, 4, 1, 2, 3, 4, 5, 2, 3, 4, 1, 2, 3, 4, 5, 4, 5, 5, 3, 1, 1, 1, 3, 5, 4, 4, 1, 4, 2, 2, 3, 1, 1, 2, 3, 4, 5, 1, 1, 2, 3, 4, 3, 4, 1, 2, 3, 4, 5, 1, 3, 4, 5, 1, 2, 3, 4, 5, 4, 5, 1, 3, 4, 5, 4, 1, 2, 3, 4, 5, 2, 5, 1, 2, 3, 5, 5, 1, 3, 4, 5, 3, 4, 1, 2, 3, 4, 5, 1, 2, 3, 4, 5, 4, 4], \"Freq\": [0.9203178227879821, 0.07703100719370776, 0.030643186969194807, 0.006809597104265513, 0.6605309191137547, 0.1566207333981068, 0.1498111362938413, 0.9726183457706304, 0.9956181719894692, 0.9658513241234005, 0.9757642207618368, 0.23592758804372355, 0.7627248051824487, 0.9917082415162713, 0.9831173794349101, 0.032159820684843854, 0.7718356964362525, 0.19831889422320378, 0.9937200741479895, 0.9833103255893653, 0.9939338245889036, 0.9899555084172706, 0.05406727138427103, 0.01622018141528131, 0.7677552536566487, 0.1622018141528131, 0.9885438371640485, 0.012895435722709528, 0.986500832787279, 0.13191164786524368, 0.8660286446805128, 0.9777824585306919, 0.9903426131274501, 0.9916214888512015, 0.08532137420784812, 0.914560515269248, 0.37680804038554583, 0.512234393820202, 0.11016547921886535, 0.0007016909504386329, 0.9818513003689467, 0.4231447135107429, 0.5761970566954797, 0.0011253848763583588, 0.9806246618757064, 0.025574063794126228, 0.9462403603826705, 0.025574063794126228, 0.9794961577213982, 0.022180117327486638, 0.3446449000117155, 0.6329864252690418, 0.36011228273685725, 0.5879958366562748, 0.05064078975987055, 0.42761966019560566, 0.043917694830900036, 0.41375091445953194, 0.0023114576226789495, 0.11094996588858957, 0.9945189660773103, 0.6477036678768359, 0.1921758135458744, 0.15658769992626803, 0.003558811361960637, 0.9799801784241097, 0.9784042403874115, 0.0014962554223783033, 0.9935136004591933, 0.002244383133567455, 0.0029925108447566066, 0.1506056268579885, 0.5868041461281627, 0.2532405725686177, 0.0100403751238659, 0.9279886958014731, 0.06628490684296237, 0.4288940272870381, 0.4716054656890668, 0.09610073640456455, 0.003559286533502391, 0.9656960823203542, 0.022199909938398946, 0.8508014395563073, 0.14293464184545962, 0.9966376261241715, 0.992133689267771, 0.9795335195604746, 0.01902006834098009, 0.9911700213266407, 0.9806449685066162, 0.13875585262361093, 0.6871718415645494, 0.17179296039113734, 0.997278804264438, 0.29932743848351306, 0.07075012182337581, 0.6313087793470457, 0.9893663661759108, 0.555574445943063, 0.28978364258387473, 0.04673929719094754, 0.0024927625168505354, 0.10531921633693513, 0.975166309088666, 0.033490092180354106, 0.8707423966892067, 0.011163364060118036, 0.08930691248094429, 0.9767546162576255, 0.9736984394240745, 0.9873992905343005, 0.6790080543274031, 0.16327292909399388, 0.0907071828299966, 0.06738247867371176, 0.9813392555327162, 0.0645345770343109, 0.32082904011343133, 0.5070573909838714, 0.0940360979642816, 0.014750760464985349, 0.26217378013140114, 0.2595166134408802, 0.4162894481816166, 0.062000556112155665, 0.9902741820034839, 0.23904792271093123, 0.11509714797192985, 0.5046567257230771, 0.08263384982600092, 0.06197538736950069, 0.06853447268962298, 0.9252153813099103, 0.9870082482193079, 0.9832902659625641, 0.2892025933049783, 0.6800169085819759, 0.02344885891661986, 0.7506023746672623, 0.01221595184811096, 0.00135732798312344, 0.21852980528287386, 0.01764526378060472, 0.9867344238227275, 0.97379445847272, 0.9690412769165452, 0.5393418875549703, 0.14165299574828571, 0.029542603391353707, 0.037875132553017575, 0.252248382803097, 0.9654463552384421, 0.9985779664822751, 0.024098783408828556, 0.04819756681765711, 0.9278031612398995, 0.9887196652503678, 0.9868866996786356, 0.8128232740271245, 0.1354705456711874, 0.04671398126592669, 0.8636824825495931, 0.13717310016964127, 0.844517499018259, 0.11852877179203636, 0.03704024118501136, 0.9722404642244904, 0.9957543945346495, 0.2538223686015464, 0.6776578331531851, 0.06704741812116319, 0.9842101017361564, 0.008270673123833248, 0.9844997407164472, 0.03772989137318341, 0.21732417430953646, 0.5463288270836958, 0.19619543514055374, 0.9890830398737279, 0.22227707737778682, 0.018523089781482233, 0.3056309813944569, 0.45381569964631474, 0.8843946372465298, 0.06955912877219897, 0.04968509198014212, 0.9861625611753772, 0.9813961513843553, 0.9864711038376476, 0.9936373577868, 0.9917973898905094, 0.12835496412980726, 0.12238496579818832, 0.5462548473431332, 0.19999494410923457, 0.987096162066853, 0.0014075404939708277, 0.9979462102253169, 0.0007037702469854138, 0.007385754681927653, 0.9896911273783054, 0.8312486547949011, 0.16719612411434442, 0.9873243470093401, 0.9945575291825764, 0.9954179797533039, 0.9797548183529277, 0.5952000463104785, 0.1123591924157536, 0.06377143353326556, 0.20649797525057417, 0.021257144511088517, 0.18272312387110218, 0.08941769891564574, 0.6686888788474378, 0.05831589059716027, 0.9828439674644734, 0.9830138486026129, 0.9972812020201572, 0.007501945059034668, 0.8721011131127802, 0.12003112094455469, 0.6898243137828679, 0.08348192332404135, 0.21968927190537196, 0.15652701195036467, 0.14704052637761528, 0.02845945671824812, 0.6023918338695852, 0.06640539900924561, 0.9844748359177964, 0.23046483700248105, 0.06584709628642316, 0.7023690270551803, 0.9688873400921814, 0.0015073103207539243, 0.7626990223014857, 0.0030146206415078486, 0.23212578939610434, 0.17579848132451187, 0.09513800165797114, 0.33505122323024616, 0.3950295286233149, 0.9779185671541477, 0.9926915818608619, 0.9860314456411932, 0.21304645668808242, 0.12782787401284945, 0.07519286706638204, 0.36844504862527194, 0.21555288559029517, 0.9667508953783259, 0.4369120742507753, 0.22273948883372857, 0.09790746761922135, 0.17990497175031925, 0.06363985395249389, 0.3782789493985755, 0.2597446737014742, 0.09791961905412717, 0.19480850527610563, 0.06905909975396338, 0.30434933813534826, 0.3021908321911259, 0.033456842135446085, 0.34644020404768366, 0.014030288637445132, 0.13678206086155342, 0.8510883786941101, 0.2118610393907697, 0.019260094490069973, 0.006420031496689991, 0.057780283470209914, 0.706203464635899, 0.9947712905140378, 0.08364917049000015, 0.9131701111825016, 0.003485382103750006, 0.2779830992339962, 0.058966111958726475, 0.004211865139909034, 0.6570509618258094, 0.86955862087638, 0.12658131822884014, 0.9844697919183664, 0.017326571308353106, 0.9876145645761272, 0.9895523035394572, 0.9877561935483044, 0.9825968183028928, 0.6669944353484815, 0.32396872574069097, 0.007622793546839788, 0.9870788840892301, 0.6746717723195421, 0.13585540807799654, 0.17960545474718184, 0.006907902105660841, 0.1925962312202813, 0.364204411602455, 0.12469371380287443, 0.05679119638546756, 0.2617333398634592, 0.44891969749093064, 0.08250416061995483, 0.08493075357936526, 0.3834016875868489, 0.9875111210555918, 0.03513147355439569, 0.03513147355439569, 0.10539442066318708, 0.14638113980998205, 0.6792084887183167, 0.9913872902724616, 0.09520384793926105, 0.011900480992407632, 0.8925360744305724, 0.01741430615549768, 0.9752011447078702, 0.26597441864676236, 0.3386534749048893, 0.2443253380592352, 0.1221626690296176, 0.029380895083072588, 0.35778997736608725, 0.4148289592650287, 0.10889260180707004, 0.11148528280247647, 0.005185361990812859, 0.8678193449833718, 0.019545480742868732, 0.11336378830863865, 0.9835038366783381, 0.9634594093895071, 0.02730328095259725, 0.7303627654819765, 0.002275273412716438, 0.2411789817479424, 0.9887984981189692, 0.9849857655352866, 0.3802583967429187, 0.05255603857422454, 0.08347135538259191, 0.4822789422105311, 0.009950278485269796, 0.9883943295367998, 0.4068507555112576, 0.003507334099234979, 0.49453410799213204, 0.09469802067934444, 0.9838623504150882, 0.9904516986729377, 0.9945441450491851, 0.28869724058337193, 0.27544073463821706, 0.12961916924151393, 0.25481950316797625, 0.051553078675602125, 0.2745280535020974, 0.3503092349375722, 0.2931158904579686, 0.08150051588343517, 0.9839222877744537, 0.9819001487502087, 0.9881158181300134, 0.6650741976879159, 0.30273831985664224, 0.02893504626304569, 0.0034549308970800822, 0.8691620092799691, 0.022286205366153056, 0.10400229170871425, 0.22457285264370788, 0.20814069269416827, 0.043819093198772266, 0.5258291183852672, 0.9956608334632988, 0.9781546159419295, 0.9957105021075449, 0.015806502346332206, 0.9800031454725967, 0.9852856072931302, 0.9872680245585225, 0.9856437172268269, 0.11242292902068038, 0.8744005590497362, 0.9859547862734571, 0.14158764169844748, 0.2711252713374526, 0.5844255848829535, 0.0030125030148605847, 0.4664331336360886, 0.11736059491488682, 0.06018492046917273, 0.20663489361082638, 0.1494592191651123, 0.9897963705124665, 0.9935593998353175, 0.011357328570107442, 0.44293581423419026, 0.011357328570107442, 0.5337944427950498, 0.37754682081674723, 0.20575302933399453, 0.16779858702966544, 0.21973624491979998, 0.02996403339815454, 0.071994979837319, 0.7669030460931807, 0.1565108257333022, 0.014562151595357105, 0.975664156888926, 0.9716816428024747, 0.9893077195041763, 0.8024679054009686, 0.19613132306253434, 0.0012374215966090493, 0.868021050020022, 0.12754595020702364, 0.28619874896468206, 0.10321922093808206, 0.25022841439535043, 0.20487451428619316, 0.156392758997094, 0.0446360443362606, 0.9522356125068929, 0.7673851736571206, 0.08444908609623815, 0.1468679758195446, 0.98204206982095, 0.9917311305478597, 0.9922047695133394, 0.9738581299073129, 0.9868572865543243, 0.023312067288045114, 0.9744444126402858, 0.005483563695196859, 0.8335016816699224, 0.1590233471607089, 0.9886399450001523, 0.0013943583131064803, 0.9955718355580269, 0.0027887166262129605, 0.9067390054193019, 0.08930005356402215, 0.003434617444770083, 0.005860787707124907, 0.005860787707124907, 0.9904731225041093, 0.9928078829330513, 0.6745549411502271, 0.04253950079325756, 0.009115607312840905, 0.08507900158651512, 0.18838921779871204, 0.4446596533024875, 0.14700992619388364, 0.15608461299597523, 0.09619168010217077, 0.15789955035639353, 0.9978397831507543, 0.18179163029020043, 0.432291908249138, 0.3507003891425126, 0.03435432383436858, 0.34559422705024573, 0.08447858883450451, 0.5683105067048486, 0.007803981331184065, 0.2887473092538104, 0.007803981331184065, 0.6945543384753818, 0.04725522801521388, 0.803338876258636, 0.08162266657173307, 0.06443894729347348, 0.9792883110626812, 0.9913022843271101, 0.15648255167579508, 0.3216585784446899, 0.11996995628477623, 0.1495277716013153, 0.25384947271851205, 0.9832168876272761, 0.017658506941733015, 0.03531701388346603, 0.9359008679118498, 0.9905384992105931, 0.9899264280871127, 0.003473426063463554, 0.003473426063463554, 0.003473426063463554, 0.9526357145974346, 0.04396780221218929, 0.15964921845318986, 0.8318564540455682, 0.9922039374288513, 0.9701016686532039, 0.9906319591133748, 0.9752631811868173, 0.009200596048932239, 0.018401192097864477, 0.22311117260424942, 0.7684940389701925, 0.0061975325723402615, 0.9974901715331542, 0.11168385343676937, 0.8833177499089941, 0.005076538792580426, 0.9869351858576116, 0.9931218596400817, 0.9611422711139178, 0.35331657653854776, 0.10561093320445722, 0.5395758587354996, 0.9901396920072038, 0.9898265335888966, 0.9748736651314528, 0.03590547163892157, 0.9604713663411519, 0.002244091977432598, 0.002244091977432598, 0.9837622447590371, 0.9797989622309974, 0.27040653872994097, 0.19632255551625852, 0.18706205761454822, 0.13149907020428636, 0.21484355131967914, 0.9800648913845061, 0.15061747617882512, 0.8367637565490285, 0.00557842504366019, 0.00557842504366019, 0.9934391681791446, 0.9797334444936564, 0.9905475135522374, 0.9875062479698768, 0.05071518794608673, 0.2873860650278248, 0.11833543854086905, 0.5409620047582585, 0.28633828781877874, 0.2512047555710758, 0.2125578700986026, 0.15458754188989282, 0.09486053706879786, 0.8635471023869373, 0.13285340036722113, 0.3213613526014165, 0.21934187558509383, 0.028055356179488747, 0.29203075295922376, 0.13772629397203567, 0.8169639802287048, 0.1148855597196616, 0.06382531095536756, 0.15033087367515374, 0.29529278757619487, 0.02684479887056317, 0.02684479887056317, 0.4993132589924749, 0.025871353332785108, 0.9701757499794416, 0.9948191604523442, 0.989479627179755, 0.9593107205041553, 0.9579386482416123, 0.016946241787394404, 0.05083872536218321, 0.9320432983066922, 0.9876216856541864, 0.9519599399585561, 0.12451735242968544, 0.8716214670077981, 0.9626582539809975, 0.9943546385694837, 0.9774121691067656, 0.9941908425621434, 0.06766822625774122, 0.5977359986100474, 0.037593459032078454, 0.24059813780530212, 0.056390188548117684, 0.963791395184914, 0.15411364994803772, 0.17927506218445205, 0.6510515416172206, 0.012580706118207162, 0.9964603008772698, 0.0028882907271804924, 0.3200462233079813, 0.0841264358409551, 0.1609375294348706, 0.2523793075228653, 0.18288355617598934, 0.2521689885116529, 0.004849403625224095, 0.1745785305080674, 0.5673802241512191, 0.42481087090204334, 0.18101906526410094, 0.056933415687902715, 0.32554235124108477, 0.011678649371877481, 0.01206719460996196, 0.9774427634069187, 0.0061926272390768694, 0.0061926272390768694, 0.18577881717230607, 0.7988489138409162, 0.9582233909904309, 0.0850616680773365, 0.5372315878568622, 0.05596162373508981, 0.2014618454463233, 0.1186386423183904, 0.8502785195315465, 0.14362812829924773, 0.20016028887491796, 0.59071695009427, 0.20016028887491796, 0.009763916530483802, 0.9829003916034051, 0.0024317305042166593, 0.9726922016866638, 0.012158652521083297, 0.009726922016866637, 0.09998292498448115, 0.8998463248603303, 0.3974287689252344, 0.17182070836993216, 0.004482279348780839, 0.4183460725528783, 0.008964558697561678, 0.12933768737891882, 0.35633852645212327, 0.2032449373097296, 0.0026395446403860985, 0.3088267229251735, 0.9663108268448725, 0.9582090959176298], \"Term\": [\"0\", \"0\", \"10\", \"10\", \"10\", \"10\", \"10\", \"1070ti\", \"1080p\", \"10gb\", \"144\", \"1440p\", \"1440p\", \"1440p_144hz\", \"144hz\", \"15\", \"15\", \"15\", \"150\", \"1500\", \"16gb\", \"18\", \"20\", \"20\", \"20\", \"20\", \"2070s\", \"2080_ti\", \"2080_ti\", \"2080ti\", \"2080ti\", \"24gb\", \"25th\", \"3060\", \"3070\", \"3070\", \"3080\", \"3080\", \"3080\", \"3080\", \"3080ti\", \"3090\", \"3090\", \"3090\", \"3600\", \"3700x\", \"3700x\", \"3700x\", \"3rd\", \"4k\", \"4k\", \"4k\", \"50\", \"50\", \"50\", \"500\", \"500\", \"500\", \"500\", \"500\", \"5600x\", \"5700xt\", \"5700xt\", \"5700xt\", \"5700xt\", \"5900x\", \"649\", \"6800\", \"6800\", \"6800\", \"6800\", \"6800xt\", \"6800xt\", \"6800xt\", \"6800xt\", \"6900_xt\", \"6900_xt\", \"6900xt\", \"6900xt\", \"6900xt\", \"6900xt\", \"70\", \"70\", \"700\", \"700\", \"80\", \"850\", \"8gb\", \"8gb\", \"999\", \"aaa\", \"ago\", \"ago\", \"ago\", \"ai\", \"aib\", \"aib\", \"aib\", \"amazon\", \"amd\", \"amd\", \"amd\", \"amd\", \"amd\", \"api\", \"architecture\", \"architecture\", \"architecture\", \"architecture\", \"b550\", \"backorder\", \"backorders\", \"bad\", \"bad\", \"bad\", \"bad\", \"bench\", \"benchmark\", \"benchmark\", \"benchmark\", \"benchmark\", \"benchmark\", \"better\", \"better\", \"better\", \"better\", \"binned\", \"bit\", \"bit\", \"bit\", \"bit\", \"bit\", \"bottleneck\", \"bottleneck\", \"bro\", \"buddy\", \"build\", \"build\", \"build\", \"buy\", \"buy\", \"buy\", \"buy\", \"buy\", \"cache\", \"canada_computer\", \"cancelled\", \"card\", \"card\", \"card\", \"card\", \"card\", \"cast\", \"cc\", \"check\", \"check\", \"check\", \"chipset\", \"clock\", \"compete\", \"compete\", \"compete\", \"competition\", \"competition\", \"competitive\", \"competitive\", \"competitive\", \"component\", \"confirmation\", \"console\", \"console\", \"console\", \"consumer\", \"consumer\", \"context\", \"cpu\", \"cpu\", \"cpu\", \"cpu\", \"date\", \"day\", \"day\", \"day\", \"day\", \"decision\", \"decision\", \"decision\", \"dedicated\", \"demanding\", \"deposit\", \"developer\", \"devs\", \"difference\", \"difference\", \"difference\", \"difference\", \"disclosed\", \"dl\", \"dl\", \"dl\", \"double\", \"double\", \"driver\", \"driver\", \"dx12\", \"dxr\", \"email\", \"encoding\", \"end\", \"end\", \"end\", \"end\", \"end\", \"extra\", \"extra\", \"extra\", \"extra\", \"fanboy\", \"fanboys\", \"faster\", \"feature\", \"feature\", \"feature\", \"feel\", \"feel\", \"feel\", \"fine\", \"fine\", \"fine\", \"fine\", \"fine\", \"flagship\", \"fps\", \"fps\", \"fps\", \"g_sync\", \"game\", \"game\", \"game\", \"game\", \"gaming\", \"gaming\", \"gaming\", \"gaming\", \"gb\", \"gddr6\", \"gddr6x\", \"getting\", \"getting\", \"getting\", \"getting\", \"getting\", \"god\", \"going\", \"going\", \"going\", \"going\", \"going\", \"good\", \"good\", \"good\", \"good\", \"good\", \"gpu\", \"gpu\", \"gpu\", \"gpu\", \"gpu\", \"gsync\", \"gsync\", \"guy\", \"guy\", \"guy\", \"guy\", \"guy\", \"haha\", \"hardware\", \"hardware\", \"hardware\", \"high\", \"high\", \"high\", \"high\", \"high_end\", \"high_end\", \"ill\", \"image\", \"image\", \"implement\", \"implementation\", \"implemented\", \"intel\", \"intel\", \"intel\", \"io\", \"issue\", \"issue\", \"issue\", \"issue\", \"know\", \"know\", \"know\", \"know\", \"know\", \"launch\", \"launch\", \"launch\", \"launch\", \"lighting\", \"line\", \"line\", \"line\", \"line\", \"line\", \"link\", \"load\", \"load\", \"load\", \"location\", \"location\", \"look\", \"look\", \"look\", \"look\", \"look\", \"lot\", \"lot\", \"lot\", \"lot\", \"lot\", \"market\", \"market\", \"market\", \"market_share\", \"medium\", \"memory\", \"memory\", \"memory\", \"memory\", \"mentioned\", \"middle\", \"money\", \"money\", \"money\", \"money\", \"monitor\", \"monitor\", \"month\", \"month\", \"month\", \"month\", \"morning\", \"motherboard\", \"msrp\", \"need\", \"need\", \"need\", \"need\", \"need\", \"new\", \"new\", \"new\", \"new\", \"newegg\", \"newer\", \"note\", \"nvidia\", \"nvidia\", \"nvidia\", \"nvidia\", \"offer\", \"offer\", \"offer\", \"oh\", \"oh\", \"oh\", \"oh\", \"online\", \"optimized\", \"order\", \"ordered\", \"ordered\", \"overpriced\", \"page\", \"part\", \"partner\", \"partner\", \"paypal\", \"pc\", \"pc\", \"pc\", \"pc\", \"people\", \"people\", \"people\", \"people\", \"people\", \"percent\", \"phone\", \"play\", \"play\", \"play\", \"play\", \"point\", \"point\", \"point\", \"point\", \"point\", \"power\", \"power\", \"power\", \"power_consumption\", \"power_consumption\", \"pre_order\", \"premium\", \"price\", \"price\", \"price\", \"pricing\", \"pricing\", \"probably\", \"probably\", \"probably\", \"probably\", \"probably\", \"process\", \"process\", \"product\", \"product\", \"product\", \"production\", \"proprietary\", \"psu\", \"psus\", \"rage\", \"rage_mode\", \"rage_mode\", \"ram\", \"ram\", \"ram\", \"ray\", \"ray_tracing\", \"ray_tracing\", \"ray_tracing\", \"raytracing\", \"raytracing\", \"raytracing\", \"reference\", \"reference\", \"reference\", \"refresh_rate\", \"release\", \"release\", \"release\", \"release\", \"release\", \"right\", \"right\", \"right\", \"right\", \"right\", \"rt\", \"rtx\", \"rtx\", \"rtx\", \"rtx\", \"run\", \"run\", \"run\", \"running\", \"running\", \"running\", \"running\", \"rx\", \"rx\", \"rx\", \"rx\", \"rx6800\", \"ryzen_5000\", \"said\", \"said\", \"said\", \"said\", \"said\", \"samsung\", \"sapphire\", \"sapphire\", \"sapphire\", \"scared\", \"sell\", \"sell\", \"sell\", \"sell\", \"seriously\", \"seriously\", \"setting\", \"setting\", \"shipping\", \"shitty\", \"site\", \"situation\", \"situation\", \"situation\", \"slightly\", \"slightly\", \"slightly\", \"smart_access\", \"software\", \"software\", \"software\", \"solution\", \"sounded\", \"stem\", \"stock\", \"stock\", \"stock\", \"store\", \"super_resolution\", \"supersampling\", \"support\", \"support\", \"support\", \"support\", \"supported\", \"supporting\", \"sure\", \"sure\", \"sure\", \"sure\", \"sure\", \"tdp\", \"tech\", \"tech\", \"tech\", \"tech\", \"technology\", \"tensor_core\", \"terrible\", \"thank\", \"thanks\", \"thanks\", \"thanks\", \"thanks\", \"think\", \"think\", \"think\", \"think\", \"think\", \"tier\", \"tier\", \"time\", \"time\", \"time\", \"time\", \"time\", \"title\", \"title\", \"title\", \"today\", \"today\", \"today\", \"today\", \"today\", \"told\", \"told\", \"tomorrow\", \"trade_blow\", \"trolling\", \"trouble\", \"tsmc\", \"tsmc\", \"tsmc\", \"ultra\", \"ultrawide\", \"upgrade\", \"upgrade\", \"upscale\", \"upscaling\", \"usage\", \"usd\", \"use\", \"use\", \"use\", \"use\", \"use\", \"usual\", \"v\", \"v\", \"v\", \"v\", \"vram\", \"vram\", \"wait\", \"wait\", \"wait\", \"wait\", \"wait\", \"waiting\", \"waiting\", \"waiting\", \"waiting\", \"want\", \"want\", \"want\", \"want\", \"want\", \"website\", \"website\", \"week\", \"week\", \"week\", \"week\", \"wondering\", \"work\", \"work\", \"work\", \"work\", \"work\", \"working\", \"working\", \"worse\", \"worse\", \"worse\", \"worse\", \"x570\", \"xt\", \"xt\", \"xt\", \"xt\", \"ya\", \"ya\", \"year\", \"year\", \"year\", \"year\", \"year\", \"yes\", \"yes\", \"yes\", \"yes\", \"yes\", \"youtube\", \"zen3\"]}, \"R\": 30, \"lambda.step\": 0.01, \"plot.opts\": {\"xlab\": \"PC1\", \"ylab\": \"PC2\"}, \"topic.order\": [4, 3, 2, 1, 5]};\n",
       "\n",
       "function LDAvis_load_lib(url, callback){\n",
       "  var s = document.createElement('script');\n",
       "  s.src = url;\n",
       "  s.async = true;\n",
       "  s.onreadystatechange = s.onload = callback;\n",
       "  s.onerror = function(){console.warn(\"failed to load library \" + url);};\n",
       "  document.getElementsByTagName(\"head\")[0].appendChild(s);\n",
       "}\n",
       "\n",
       "if(typeof(LDAvis) !== \"undefined\"){\n",
       "   // already loaded: just create the visualization\n",
       "   !function(LDAvis){\n",
       "       new LDAvis(\"#\" + \"ldavis_el901221274861677448314283785\", ldavis_el901221274861677448314283785_data);\n",
       "   }(LDAvis);\n",
       "}else if(typeof define === \"function\" && define.amd){\n",
       "   // require.js is available: use it to load d3/LDAvis\n",
       "   require.config({paths: {d3: \"https://cdnjs.cloudflare.com/ajax/libs/d3/3.5.5/d3.min\"}});\n",
       "   require([\"d3\"], function(d3){\n",
       "      window.d3 = d3;\n",
       "      LDAvis_load_lib(\"https://cdn.rawgit.com/bmabey/pyLDAvis/files/ldavis.v1.0.0.js\", function(){\n",
       "        new LDAvis(\"#\" + \"ldavis_el901221274861677448314283785\", ldavis_el901221274861677448314283785_data);\n",
       "      });\n",
       "    });\n",
       "}else{\n",
       "    // require.js not available: dynamically load d3 & LDAvis\n",
       "    LDAvis_load_lib(\"https://cdnjs.cloudflare.com/ajax/libs/d3/3.5.5/d3.min.js\", function(){\n",
       "         LDAvis_load_lib(\"https://cdn.rawgit.com/bmabey/pyLDAvis/files/ldavis.v1.0.0.js\", function(){\n",
       "                 new LDAvis(\"#\" + \"ldavis_el901221274861677448314283785\", ldavis_el901221274861677448314283785_data);\n",
       "            })\n",
       "         });\n",
       "}\n",
       "</script>"
      ],
      "text/plain": [
       "PreparedData(topic_coordinates=              x         y  topics  cluster       Freq\n",
       "topic                                                \n",
       "3     -0.032696 -0.029956       1        1  27.484575\n",
       "2     -0.018275 -0.165943       2        1  22.602281\n",
       "1     -0.200922  0.160480       3        1  18.939106\n",
       "0      0.002762 -0.078777       4        1  16.863443\n",
       "4      0.249131  0.114195       5        1  14.110596, topic_info=          Term         Freq        Total Category  logprob  loglift\n",
       "5462      6800  1336.000000  1336.000000  Default  30.0000  30.0000\n",
       "385         dl  1420.000000  1420.000000  Default  29.0000  29.0000\n",
       "98        3070  1418.000000  1418.000000  Default  28.0000  28.0000\n",
       "28       price  1616.000000  1616.000000  Default  27.0000  27.0000\n",
       "10      nvidia  2315.000000  2315.000000  Default  26.0000  26.0000\n",
       "...        ...          ...          ...      ...      ...      ...\n",
       "853     memory   106.330117   439.507619   Topic5  -5.5262   0.5391\n",
       "395       time   108.361964   784.163988   Topic5  -5.5073  -0.0209\n",
       "248       wait   100.284350   546.796016   Topic5  -5.5848   0.2622\n",
       "29       think   108.078381  1138.513478   Topic5  -5.5099  -0.3964\n",
       "179   probably   100.183242   639.415793   Topic5  -5.5858   0.1047\n",
       "\n",
       "[356 rows x 6 columns], token_table=      Topic      Freq     Term\n",
       "term                          \n",
       "416       2  0.920318        0\n",
       "416       5  0.077031        0\n",
       "818       1  0.030643       10\n",
       "818       2  0.006810       10\n",
       "818       3  0.660531       10\n",
       "...     ...       ...      ...\n",
       "725       3  0.203245      yes\n",
       "725       4  0.002640      yes\n",
       "725       5  0.308827      yes\n",
       "4763      4  0.966311  youtube\n",
       "4150      4  0.958209     zen3\n",
       "\n",
       "[643 rows x 3 columns], R=30, lambda_step=0.01, plot_opts={'xlab': 'PC1', 'ylab': 'PC2'}, topic_order=[4, 3, 2, 1, 5])"
      ]
     },
     "execution_count": 16,
     "metadata": {},
     "output_type": "execute_result"
    }
   ],
   "source": [
    "# Visualize the topics for the bigram model\n",
    "pyLDAvis.enable_notebook()\n",
    "# Creates the filepath to save the html file\n",
    "LDAvis_data_filepath = os.path.join(os.getcwd()+'\\\\visualization\\\\'+ 'amd_' + 'bigram_' +'ldavis_prepared_'+str(num_topics))\n",
    "bigram_vis = pyLDAvis.gensim.prepare(lda_bigram_model, bigram_corpus, bigram_id2word)\n",
    "# Saves the graph as a html file to the LDAvis_data_filepath\n",
    "pyLDAvis.save_html(bigram_vis, os.getcwd()+ '\\\\visualization\\\\' + 'amd_' + 'bigram_' + 'ldavis_prepared_'+ str(num_topics) +'.html')\n",
    "bigram_vis"
   ]
  },
  {
   "cell_type": "markdown",
   "metadata": {
    "ExecuteTime": {
     "end_time": "2021-01-23T03:00:52.846161Z",
     "start_time": "2021-01-23T03:00:52.823140Z"
    }
   },
   "source": [
    "## Intrepeting the pyLDAvis graph\n",
    "\n",
    "Topics 1 and 2 have the largest bubble which shows the larger percentage of the documents belong to topic 1 and 2. They also overlap one another, which shows that they have close related to one another. Topic 4 is the furtherest apart from the other topics. The blue bars represent the overall term frequency of the corpus and the red bars represent the term frequency with regards to the topic.\n",
    "\n",
    "The GPU model terms tend to appear the most often in topic 1. Topic 2 discusses about the driver related issues with the AMD, Intel GPUs as well as the gaming consoles. Topic 3 discusses about the purchase of the GPUs and the stock availability of the GPUs during launch. Topic 4 mainly discusses about the features the GPUs provide such as ray tracing and super resolution. Topic 5 is quite similar to topic 3."
   ]
  },
  {
   "cell_type": "markdown",
   "metadata": {},
   "source": [
    "# LDA Mallet Model"
   ]
  },
  {
   "cell_type": "markdown",
   "metadata": {},
   "source": [
    "Notes:\n",
    "\n",
    "* Download [link](http://mallet.cs.umass.edu/download.php)\n",
    "* Need to install [JDK](https://www.oracle.com/java/technologies/javase-jdk15-downloads.html) (Java Development Kit) to make it work\n",
    "* Need to configure the [PATH file](https://docs.oracle.com/javase/10/install/installation-jdk-and-jre-microsoft-windows-platforms.htm#JSJIG-GUID-96EB3876-8C7A-4A25-9F3A-A2983FEC016A) after installing\n",
    "\n",
    "Go to *Importing the optimal mallet model pickle file* section if you've not installed the JDK"
   ]
  },
  {
   "cell_type": "markdown",
   "metadata": {},
   "source": [
    "LDA Mallet model often gives a better quality of topics compared to the LDA. I'll be creating to see if the coherence score is much greater than the LDA and if there's a greater intrepretability in the number of topics."
   ]
  },
  {
   "cell_type": "code",
   "execution_count": 17,
   "metadata": {
    "ExecuteTime": {
     "end_time": "2021-01-26T02:16:12.857860Z",
     "start_time": "2021-01-26T02:16:12.842847Z"
    }
   },
   "outputs": [
    {
     "data": {
      "text/plain": [
       "'C:/mallet/mallet-2.0.8/bin/mallet.bat'"
      ]
     },
     "execution_count": 17,
     "metadata": {},
     "output_type": "execute_result"
    }
   ],
   "source": [
    "# Update the environment path\n",
    "os.environ.update({'MALLET_HOME': r'C:\\mallet\\mallet-2.0.8'})\n",
    "mallet_path = r'C:/mallet/mallet-2.0.8/bin/mallet.bat'\n",
    "# prefix_path = r'C:/mallet/ga_capstone'\n",
    "mallet_path"
   ]
  },
  {
   "cell_type": "markdown",
   "metadata": {},
   "source": [
    "## Finding the best k topics for the mallet model"
   ]
  },
  {
   "cell_type": "code",
   "execution_count": 18,
   "metadata": {
    "ExecuteTime": {
     "end_time": "2021-01-26T02:16:12.873875Z",
     "start_time": "2021-01-26T02:16:12.858862Z"
    }
   },
   "outputs": [],
   "source": [
    "# Solution: Follow this\n",
    "def mallet_compute_coherence_values(dictionary, all_corpus, texts, limit, start=2, step=4):\n",
    "    \"\"\"\n",
    "    Compute c_v coherence for various number of topics\n",
    "\n",
    "    Parameters:\n",
    "    ----------\n",
    "    dictionary : Gensim dictionary\n",
    "    corpus : Gensim corpus\n",
    "    texts : List of input texts\n",
    "    num_topics_list: Number of topics\n",
    "    limit : Max num of topics\n",
    "\n",
    "    Returns:\n",
    "    -------\n",
    "    model_list : List of LDA topic models\n",
    "    coherence_values : Coherence values corresponding to the LDA model with respective number of topics\n",
    "    \"\"\"\n",
    "    \n",
    "    #For two lines below update with your path to new_mallet\n",
    "#     os.environ.update({'MALLET_HOME':r'C:\\Users\\Trogg\\Documents\\General Assembly DS 18\\dsi18-projects\\capstone\\mallet\\mallet-2.0.8'})\n",
    "#     mallet_path = r'C:\\Users\\Trogg\\Documents\\General Assembly DS 18\\dsi18-projects\\capstone\\mallet\\mallet-2.0.8\\bin\\mallet.bat'\n",
    "#     prefix_path = r'C:\\Users\\Trogg\\Documents\\General Assembly DS 18\\dsi18-projects\\capstone\\mallet files'\n",
    "    \n",
    "    coherence_values = []\n",
    "    model_list = []\n",
    "    num_topics_list = []\n",
    "\n",
    "\n",
    "    for num_topics in range(start, limit, step):\n",
    "        model = LdaMallet(mallet_path, corpus=all_corpus, num_topics=num_topics, id2word=dictionary, random_seed=42)\n",
    "        #model = gensim.models.ldamodel.LdaModel(corpus=all_corpus,num_topics=num_topics,id2word=dictionary,eval_every=1,\n",
    "        #                                        alpha='auto',random_state=42)\n",
    "        model_list.append(model)\n",
    "        coherencemodel = CoherenceModel(model=model, texts=texts, dictionary=dictionary, coherence='c_v')\n",
    "        coherence_values.append(coherencemodel.get_coherence())\n",
    "        num_topics_list.append(num_topics)\n",
    "\n",
    "    return model_list, coherence_values, num_topics_list"
   ]
  },
  {
   "cell_type": "code",
   "execution_count": 19,
   "metadata": {
    "ExecuteTime": {
     "end_time": "2021-01-26T02:28:19.920270Z",
     "start_time": "2021-01-26T02:16:12.874876Z"
    }
   },
   "outputs": [],
   "source": [
    "# Using Bigram as it has the highest coherence value\n",
    "model_list, coherence_values, num_topics_list = mallet_compute_coherence_values(dictionary=bigram_id2word, all_corpus=bigram_corpus,\n",
    "                                                                         texts=data_bigrams, start=1, limit=11, step=1)\n",
    "\n",
    "# Creating the dataframe to hold the model list, coherence values and the number of topics list\n",
    "model_values_df = pd.DataFrame({'model_list':model_list,'coherence_values':coherence_values,'num_topics':num_topics_list})\n",
    "\n",
    "# Finds the optimal number of topics based on the highest coherence score\n",
    "optimal_num_topics = model_values_df.loc[model_values_df['coherence_values'].idxmax()]['num_topics']\n",
    "\n",
    "# Train the model based on the optimal number of topics\n",
    "optimal_model = LdaMallet(mallet_path, corpus=bigram_corpus, num_topics=optimal_num_topics, id2word=bigram_id2word,\n",
    "                                                 prefix='amd_optimal_', random_seed=42)"
   ]
  },
  {
   "cell_type": "code",
   "execution_count": 20,
   "metadata": {
    "ExecuteTime": {
     "end_time": "2021-01-26T02:28:19.936285Z",
     "start_time": "2021-01-26T02:28:19.921272Z"
    }
   },
   "outputs": [
    {
     "data": {
      "text/html": [
       "<div>\n",
       "<style scoped>\n",
       "    .dataframe tbody tr th:only-of-type {\n",
       "        vertical-align: middle;\n",
       "    }\n",
       "\n",
       "    .dataframe tbody tr th {\n",
       "        vertical-align: top;\n",
       "    }\n",
       "\n",
       "    .dataframe thead th {\n",
       "        text-align: right;\n",
       "    }\n",
       "</style>\n",
       "<table border=\"1\" class=\"dataframe\">\n",
       "  <thead>\n",
       "    <tr style=\"text-align: right;\">\n",
       "      <th></th>\n",
       "      <th>model_list</th>\n",
       "      <th>coherence_values</th>\n",
       "      <th>num_topics</th>\n",
       "    </tr>\n",
       "  </thead>\n",
       "  <tbody>\n",
       "    <tr>\n",
       "      <th>0</th>\n",
       "      <td>&lt;gensim.models.wrappers.ldamallet.LdaMallet ob...</td>\n",
       "      <td>0.416306</td>\n",
       "      <td>1</td>\n",
       "    </tr>\n",
       "    <tr>\n",
       "      <th>1</th>\n",
       "      <td>&lt;gensim.models.wrappers.ldamallet.LdaMallet ob...</td>\n",
       "      <td>0.538678</td>\n",
       "      <td>2</td>\n",
       "    </tr>\n",
       "    <tr>\n",
       "      <th>2</th>\n",
       "      <td>&lt;gensim.models.wrappers.ldamallet.LdaMallet ob...</td>\n",
       "      <td>0.558582</td>\n",
       "      <td>3</td>\n",
       "    </tr>\n",
       "    <tr>\n",
       "      <th>3</th>\n",
       "      <td>&lt;gensim.models.wrappers.ldamallet.LdaMallet ob...</td>\n",
       "      <td>0.557991</td>\n",
       "      <td>4</td>\n",
       "    </tr>\n",
       "    <tr>\n",
       "      <th>4</th>\n",
       "      <td>&lt;gensim.models.wrappers.ldamallet.LdaMallet ob...</td>\n",
       "      <td>0.530244</td>\n",
       "      <td>5</td>\n",
       "    </tr>\n",
       "    <tr>\n",
       "      <th>5</th>\n",
       "      <td>&lt;gensim.models.wrappers.ldamallet.LdaMallet ob...</td>\n",
       "      <td>0.573811</td>\n",
       "      <td>6</td>\n",
       "    </tr>\n",
       "    <tr>\n",
       "      <th>6</th>\n",
       "      <td>&lt;gensim.models.wrappers.ldamallet.LdaMallet ob...</td>\n",
       "      <td>0.524464</td>\n",
       "      <td>7</td>\n",
       "    </tr>\n",
       "    <tr>\n",
       "      <th>7</th>\n",
       "      <td>&lt;gensim.models.wrappers.ldamallet.LdaMallet ob...</td>\n",
       "      <td>0.588468</td>\n",
       "      <td>8</td>\n",
       "    </tr>\n",
       "    <tr>\n",
       "      <th>8</th>\n",
       "      <td>&lt;gensim.models.wrappers.ldamallet.LdaMallet ob...</td>\n",
       "      <td>0.574514</td>\n",
       "      <td>9</td>\n",
       "    </tr>\n",
       "    <tr>\n",
       "      <th>9</th>\n",
       "      <td>&lt;gensim.models.wrappers.ldamallet.LdaMallet ob...</td>\n",
       "      <td>0.533312</td>\n",
       "      <td>10</td>\n",
       "    </tr>\n",
       "  </tbody>\n",
       "</table>\n",
       "</div>"
      ],
      "text/plain": [
       "                                          model_list  coherence_values  \\\n",
       "0  <gensim.models.wrappers.ldamallet.LdaMallet ob...          0.416306   \n",
       "1  <gensim.models.wrappers.ldamallet.LdaMallet ob...          0.538678   \n",
       "2  <gensim.models.wrappers.ldamallet.LdaMallet ob...          0.558582   \n",
       "3  <gensim.models.wrappers.ldamallet.LdaMallet ob...          0.557991   \n",
       "4  <gensim.models.wrappers.ldamallet.LdaMallet ob...          0.530244   \n",
       "5  <gensim.models.wrappers.ldamallet.LdaMallet ob...          0.573811   \n",
       "6  <gensim.models.wrappers.ldamallet.LdaMallet ob...          0.524464   \n",
       "7  <gensim.models.wrappers.ldamallet.LdaMallet ob...          0.588468   \n",
       "8  <gensim.models.wrappers.ldamallet.LdaMallet ob...          0.574514   \n",
       "9  <gensim.models.wrappers.ldamallet.LdaMallet ob...          0.533312   \n",
       "\n",
       "   num_topics  \n",
       "0           1  \n",
       "1           2  \n",
       "2           3  \n",
       "3           4  \n",
       "4           5  \n",
       "5           6  \n",
       "6           7  \n",
       "7           8  \n",
       "8           9  \n",
       "9          10  "
      ]
     },
     "execution_count": 20,
     "metadata": {},
     "output_type": "execute_result"
    }
   ],
   "source": [
    "model_values_df"
   ]
  },
  {
   "cell_type": "code",
   "execution_count": 21,
   "metadata": {
    "ExecuteTime": {
     "end_time": "2021-01-26T02:28:20.078414Z",
     "start_time": "2021-01-26T02:28:19.937287Z"
    },
    "scrolled": false
   },
   "outputs": [
    {
     "data": {
      "image/png": "[encoded data removed]",
      "text/plain": [
       "<Figure size 792x504 with 1 Axes>"
      ]
     },
     "metadata": {},
     "output_type": "display_data"
    }
   ],
   "source": [
    "# model_list, coherence_values = compute_coherence_values(dictionary=bigram_id2word, corpus=bigram_corpus, texts=data_bigrams, start=start, limit=limit, step=step)\n",
    "\n",
    "# Show graph\n",
    "\n",
    "x = model_values_df['num_topics'].values.tolist()\n",
    "\n",
    "plt.figure(figsize=(11,7))\n",
    "\n",
    "plt.plot(x, coherence_values)\n",
    "\n",
    "plt.title('LDA Mallet')\n",
    "plt.xlabel(\"Num Topics\")\n",
    "plt.ylabel(\"Coherence score\")\n",
    "plt.legend([\"Coherence_values\"], loc='best')\n",
    "plt.show()"
   ]
  },
  {
   "cell_type": "markdown",
   "metadata": {},
   "source": [
    "The coherence score peaks at creating 6 topics before it plummets. "
   ]
  },
  {
   "cell_type": "code",
   "execution_count": 22,
   "metadata": {
    "ExecuteTime": {
     "end_time": "2021-01-26T02:28:20.094429Z",
     "start_time": "2021-01-26T02:28:20.079417Z"
    }
   },
   "outputs": [
    {
     "name": "stdout",
     "output_type": "stream",
     "text": [
      "Num Topics = 1  has Coherence Value of 0.4163\n",
      "Num Topics = 2  has Coherence Value of 0.5387\n",
      "Num Topics = 3  has Coherence Value of 0.5586\n",
      "Num Topics = 4  has Coherence Value of 0.558\n",
      "Num Topics = 5  has Coherence Value of 0.5302\n",
      "Num Topics = 6  has Coherence Value of 0.5738\n",
      "Num Topics = 7  has Coherence Value of 0.5245\n",
      "Num Topics = 8  has Coherence Value of 0.5885\n",
      "Num Topics = 9  has Coherence Value of 0.5745\n",
      "Num Topics = 10  has Coherence Value of 0.5333\n"
     ]
    }
   ],
   "source": [
    "# Print the coherence scores\n",
    "for m, cv in zip(x, coherence_values):\n",
    "    print(\"Num Topics =\", m, \" has Coherence Value of\", round(cv, 4))"
   ]
  },
  {
   "cell_type": "markdown",
   "metadata": {},
   "source": [
    "Viewing the topics and checking if they make sense helps to decide how many topics is the optimal value. I'll be intrepreting the 5 and 6 topics."
   ]
  },
  {
   "cell_type": "markdown",
   "metadata": {},
   "source": [
    "## Exporting the optimal model to pickle file"
   ]
  },
  {
   "cell_type": "code",
   "execution_count": 23,
   "metadata": {
    "ExecuteTime": {
     "end_time": "2021-01-26T02:28:20.110444Z",
     "start_time": "2021-01-26T02:28:20.097432Z"
    }
   },
   "outputs": [],
   "source": [
    "# Save to file in the current working directory\n",
    "# Exporting the optimal model\n",
    "\n",
    "pkl_filename = \"./models/amd_optimal_ldamallet_model.pkl\"\n",
    "out_file = open(pkl_filename, 'wb')\n",
    "pickle.dump(optimal_model, out_file)\n",
    "out_file.close()"
   ]
  },
  {
   "cell_type": "markdown",
   "metadata": {},
   "source": [
    "## Exporting the 5 topics trained model to pickle file"
   ]
  },
  {
   "cell_type": "code",
   "execution_count": 24,
   "metadata": {
    "ExecuteTime": {
     "end_time": "2021-01-26T02:28:20.126459Z",
     "start_time": "2021-01-26T02:28:20.112446Z"
    }
   },
   "outputs": [],
   "source": [
    "# Save to file in the current working directory\n",
    "# Exporting the optimal model\n",
    "\n",
    "pkl_filename = \"./models/amd_5_topics_ldamallet_model.pkl\"\n",
    "out_file = open(pkl_filename, 'wb')\n",
    "pickle.dump(model_values_df['model_list'][4], out_file)\n",
    "out_file.close()"
   ]
  },
  {
   "cell_type": "markdown",
   "metadata": {},
   "source": [
    "## Importing the optimal mallet model pickle file"
   ]
  },
  {
   "cell_type": "code",
   "execution_count": 25,
   "metadata": {
    "ExecuteTime": {
     "end_time": "2021-01-26T02:28:20.142474Z",
     "start_time": "2021-01-26T02:28:20.127460Z"
    }
   },
   "outputs": [],
   "source": [
    "# pkl_filename = \"./models/amd_optimal_ldamallet_model.pkl\"\n",
    "# infile = open(pkl_filename,'rb')\n",
    "# optimal_model = pickle.load(infile)\n",
    "# infile.close()"
   ]
  },
  {
   "cell_type": "code",
   "execution_count": 26,
   "metadata": {
    "ExecuteTime": {
     "end_time": "2021-01-26T02:28:20.158487Z",
     "start_time": "2021-01-26T02:28:20.143473Z"
    }
   },
   "outputs": [],
   "source": [
    "# optimal_model"
   ]
  },
  {
   "cell_type": "markdown",
   "metadata": {},
   "source": [
    "## Importing the 5 topics mallet model pickle file"
   ]
  },
  {
   "cell_type": "code",
   "execution_count": 27,
   "metadata": {
    "ExecuteTime": {
     "end_time": "2021-01-26T02:28:20.174497Z",
     "start_time": "2021-01-26T02:28:20.159489Z"
    }
   },
   "outputs": [],
   "source": [
    "pkl_filename = \"./models/amd_5_topics_ldamallet_model.pkl\"\n",
    "infile = open(pkl_filename,'rb')\n",
    "topic_5_ldamallet = pickle.load(infile)\n",
    "infile.close()"
   ]
  },
  {
   "cell_type": "code",
   "execution_count": 28,
   "metadata": {
    "ExecuteTime": {
     "end_time": "2021-01-26T02:28:20.190508Z",
     "start_time": "2021-01-26T02:28:20.175498Z"
    }
   },
   "outputs": [],
   "source": [
    "# topic_5_ldamallet "
   ]
  },
  {
   "cell_type": "markdown",
   "metadata": {},
   "source": [
    "## Displaying topics for the optimal model (6 topics)"
   ]
  },
  {
   "cell_type": "code",
   "execution_count": 29,
   "metadata": {
    "ExecuteTime": {
     "end_time": "2021-01-26T02:28:20.206524Z",
     "start_time": "2021-01-26T02:28:20.191509Z"
    },
    "scrolled": true
   },
   "outputs": [
    {
     "name": "stdout",
     "output_type": "stream",
     "text": [
      "[(0,\n",
      "  [('gpu', 0.05287504974134501),\n",
      "   ('cpu', 0.036211699164345405),\n",
      "   ('vram', 0.03198368483883804),\n",
      "   ('lower', 0.017608436132113013),\n",
      "   ('end', 0.0173099880620772),\n",
      "   ('power', 0.01681257461201751),\n",
      "   ('true', 0.011341026661360923),\n",
      "   ('gaming', 0.011291285316354954),\n",
      "   ('16gb', 0.010843613211301234),\n",
      "   ('case', 0.010644647831277358)]),\n",
      " (1,\n",
      "  [('rtx', 0.0397099779122251),\n",
      "   ('year', 0.03644482857966004),\n",
      "   ('4k', 0.027225583405358685),\n",
      "   ('console', 0.023960434072793624),\n",
      "   ('series', 0.017094017094017096),\n",
      "   ('pc', 0.01699798329011812),\n",
      "   ('1440p', 0.016613848074522233),\n",
      "   ('good', 0.01627772976087583),\n",
      "   ('fps', 0.01598962834917891),\n",
      "   ('gaming', 0.014549121290694324)]),\n",
      " (2,\n",
      "  [('dl', 0.06938946584082335),\n",
      "   ('game', 0.0668746798304848),\n",
      "   ('ray_tracing', 0.03418246169608345),\n",
      "   ('rt', 0.02742979555721138),\n",
      "   ('feature', 0.02696409444418572),\n",
      "   ('support', 0.021468821310482934),\n",
      "   ('raytracing', 0.016066688399385274),\n",
      "   ('hardware', 0.014390164392492898),\n",
      "   ('0', 0.013179341498626181),\n",
      "   ('lot', 0.012527359940390257)]),\n",
      " (3,\n",
      "  [('price', 0.07977860482870502),\n",
      "   ('3070', 0.0703788529439832),\n",
      "   ('6800', 0.06637083691191907),\n",
      "   ('xt', 0.02237808951235805),\n",
      "   ('500', 0.020898940738620097),\n",
      "   ('2080ti', 0.01951522091802653),\n",
      "   ('faster', 0.018226930050577347),\n",
      "   ('50', 0.017797499761427617),\n",
      "   ('pricing', 0.014886916690523905),\n",
      "   ('rx', 0.013360053440213761)]),\n",
      " (4,\n",
      "  [('3080', 0.08056776279234228),\n",
      "   ('3090', 0.04798706874779007),\n",
      "   ('6800xt', 0.04783553063595494),\n",
      "   ('wait', 0.03106531292620094),\n",
      "   ('6900xt', 0.02853967772894883),\n",
      "   ('benchmark', 0.02757993635399303),\n",
      "   ('memory', 0.021669949992423096),\n",
      "   ('10', 0.015860989038743244),\n",
      "   ('cheaper', 0.015709450926908116),\n",
      "   ('review', 0.015355861999292822)]),\n",
      " (5,\n",
      "  [('people', 0.05282853810264386),\n",
      "   ('buy', 0.03596423017107309),\n",
      "   ('driver', 0.03256220839813375),\n",
      "   ('time', 0.03173600311041991),\n",
      "   ('issue', 0.021432737169517886),\n",
      "   ('good', 0.017107309486780714),\n",
      "   ('bad', 0.015114696734059099),\n",
      "   ('reason', 0.013413685847589424),\n",
      "   ('sell', 0.012781881804043545),\n",
      "   ('product', 0.011907076205287713)]),\n",
      " (6,\n",
      "  [('amd', 0.17218417945690673),\n",
      "   ('nvidia', 0.12203069657615112),\n",
      "   ('card', 0.03872491145218418),\n",
      "   ('intel', 0.01591499409681228),\n",
      "   ('good', 0.013553719008264463),\n",
      "   ('market', 0.0130814639905549),\n",
      "   ('compete', 0.012089728453364817),\n",
      "   ('competition', 0.010578512396694216),\n",
      "   ('company', 0.009634002361275089),\n",
      "   ('release', 0.00935064935064935)]),\n",
      " (7,\n",
      "  [('card', 0.03106531292620094),\n",
      "   ('stock', 0.029751982623629842),\n",
      "   ('launch', 0.023488407334444614),\n",
      "   ('order', 0.017780471788654845),\n",
      "   ('day', 0.017477395564984594),\n",
      "   ('gonna', 0.012678688690205586),\n",
      "   ('waiting', 0.011062282163964238),\n",
      "   ('cc', 0.011011769460019194),\n",
      "   ('aib', 0.010860231348184068),\n",
      "   ('reference', 0.0106581805324039)])]\n"
     ]
    }
   ],
   "source": [
    "pprint(optimal_model.show_topics(formatted=False))"
   ]
  },
  {
   "cell_type": "markdown",
   "metadata": {},
   "source": [
    "## Interpreting the 6 topics \n",
    "\n",
    "Topic 0\n",
    "* Comparing against the price and the performance\n",
    "\n",
    "Topic 1\n",
    "* Driver related issue\n",
    "\n",
    "Topic 2\n",
    "* GPU features: ray_tracing, dlss and resolutions: 1440p, 4K\n",
    "\n",
    "Topic 3\n",
    "* Stock availability during launch of GPUs\n",
    "\n",
    "Topic 4\n",
    "* Price and performance for GPU models\n",
    "\n",
    "Topic 5\n",
    "* Comparison against the gaming consoles and the pc"
   ]
  },
  {
   "cell_type": "markdown",
   "metadata": {},
   "source": [
    "## Displaying 5 topics"
   ]
  },
  {
   "cell_type": "code",
   "execution_count": 30,
   "metadata": {
    "ExecuteTime": {
     "end_time": "2021-01-26T02:28:20.221536Z",
     "start_time": "2021-01-26T02:28:20.207525Z"
    },
    "scrolled": true
   },
   "outputs": [
    {
     "name": "stdout",
     "output_type": "stream",
     "text": [
      "[(0,\n",
      "  [('price', 0.049831609692128874),\n",
      "   ('3080', 0.04753673292999136),\n",
      "   ('3070', 0.04396030161237445),\n",
      "   ('6800', 0.04154621047298304),\n",
      "   ('3090', 0.028313414597800495),\n",
      "   ('6800xt', 0.028224003814860073),\n",
      "   ('vram', 0.019163711143563914),\n",
      "   ('6900xt', 0.016839030787112925),\n",
      "   ('benchmark', 0.016272762495156915),\n",
      "   ('xt', 0.013977885733019403)]),\n",
      " (1,\n",
      "  [('card', 0.044638676447635396),\n",
      "   ('people', 0.030466677071952553),\n",
      "   ('buy', 0.023130950522865616),\n",
      "   ('wait', 0.01919775245824879),\n",
      "   ('stock', 0.018386140159200873),\n",
      "   ('point', 0.012517558919931325),\n",
      "   ('good', 0.011737162478539098),\n",
      "   ('release', 0.011425003901982207),\n",
      "   ('bad', 0.009708131730919308),\n",
      "   ('guess', 0.00895895114718277)]),\n",
      " (2,\n",
      "  [('dl', 0.04345416897547318),\n",
      "   ('game', 0.04187931989850972),\n",
      "   ('ray_tracing', 0.021406281897984776),\n",
      "   ('rt', 0.017177520487619936),\n",
      "   ('feature', 0.01688588176966374),\n",
      "   ('4k', 0.016535915308116305),\n",
      "   ('console', 0.014698591384992271),\n",
      "   ('support', 0.013444544897780629),\n",
      "   ('rtx', 0.01277377584648138),\n",
      "   ('pc', 0.010324010615649333)]),\n",
      " (3,\n",
      "  [('amd', 0.101659252134183),\n",
      "   ('nvidia', 0.07767223758566791),\n",
      "   ('gpu', 0.03195262714921246),\n",
      "   ('cpu', 0.021882890465312013),\n",
      "   ('memory', 0.012654803414692798),\n",
      "   ('series', 0.010700973908861369),\n",
      "   ('lower', 0.01067091499338704),\n",
      "   ('end', 0.010460502585066731),\n",
      "   ('power', 0.010159913430323434),\n",
      "   ('intel', 0.010159913430323434)]),\n",
      " (4,\n",
      "  [('time', 0.026203225499825733),\n",
      "   ('year', 0.024048667659453123),\n",
      "   ('driver', 0.02122873166249485),\n",
      "   ('good', 0.019105858496245368),\n",
      "   ('issue', 0.01397294128829885),\n",
      "   ('order', 0.011153005291340579),\n",
      "   ('day', 0.010962897246601818),\n",
      "   ('5700xt', 0.010234149741769906),\n",
      "   ('number', 0.00906181679921422),\n",
      "   ('launch', 0.009030132125091093)])]\n"
     ]
    }
   ],
   "source": [
    "pprint(topic_5_ldamallet.show_topics(formatted=False))"
   ]
  },
  {
   "cell_type": "markdown",
   "metadata": {},
   "source": [
    "## Interpreting the 5 topics \n",
    "\n",
    "Topic 0\n",
    "* Driver related issue\n",
    "\n",
    "Topic 1\n",
    "* Stock availability\n",
    "\n",
    "Topic 2\n",
    "* GPU features: ray_tracing, dlss and resolutions: 1440p, 4K\n",
    "\n",
    "Topic 3\n",
    "* Price and performance for GPU models\n",
    "\n",
    "Topic 4\n",
    "* Have to do with intel, amd and Nvidia cpu and gpus. Unable to intrepret well. "
   ]
  },
  {
   "cell_type": "markdown",
   "metadata": {},
   "source": [
    "As I find the 6 topics to be the most intrepretable as well as it's one of the highest coherence score among the other models, I'll be selecting to it to move forward with the project."
   ]
  },
  {
   "cell_type": "markdown",
   "metadata": {},
   "source": [
    "# Finding the dominant topic in each sentence"
   ]
  },
  {
   "cell_type": "markdown",
   "metadata": {},
   "source": [
    "I would like to investigate the dominant topics for the documents and see if it makes sense."
   ]
  },
  {
   "cell_type": "code",
   "execution_count": 31,
   "metadata": {
    "ExecuteTime": {
     "end_time": "2021-01-26T02:28:20.237552Z",
     "start_time": "2021-01-26T02:28:20.222537Z"
    }
   },
   "outputs": [],
   "source": [
    "def format_topics_sentences(ldamodel, corpus, texts):\n",
    "    # Init output\n",
    "    sent_topics_df = pd.DataFrame()\n",
    "\n",
    "    # Get main topic in each document\n",
    "    for _, row in enumerate(ldamodel[corpus]): # ldamodel[corpus] --> Provides a list of the probability values of which topic a document belongs to\n",
    "        row = sorted(row, key=lambda x: (x[1]), reverse=True) # Sorts the probabilities of a document is descending order\n",
    "        # Get the Dominant topic, Perc Contribution and Keywords for each document\n",
    "        for j, (topic_num, prop_topic) in enumerate(row):\n",
    "            if j == 0:  # => dominant topic (As it's sorted in descending order, the highest probability is the first topic which is index 0)\n",
    "                wp = ldamodel.show_topic(topic_num) # Obtain the dominant topic for the document\n",
    "                topic_keywords = \", \".join([word for word, prop in wp]) # Gets the topic keys words for the topic\n",
    "                sent_topics_df = sent_topics_df.append(pd.Series([int(topic_num), round(prop_topic,4), topic_keywords]), ignore_index=True)\n",
    "            else:\n",
    "                break\n",
    "    sent_topics_df.columns = ['Dominant_Topic', 'Perc_Contribution', 'Topic_Keywords']\n",
    "\n",
    "    # Add original text to the end of the output\n",
    "    contents = pd.Series(texts)\n",
    "    sent_topics_df = pd.concat([sent_topics_df, contents], axis=1)\n",
    "    return sent_topics_df"
   ]
  },
  {
   "cell_type": "markdown",
   "metadata": {},
   "source": [
    "Notes: The last model trained **must match** with the last optimal_file_doctopics text file. If not, there will be an error message."
   ]
  },
  {
   "cell_type": "code",
   "execution_count": 32,
   "metadata": {
    "ExecuteTime": {
     "end_time": "2021-01-26T02:28:20.253565Z",
     "start_time": "2021-01-26T02:28:20.238553Z"
    }
   },
   "outputs": [],
   "source": [
    "# Retrain the model if you've have not done so\n",
    "# optimal_num_topics = 6\n",
    "# optimal_model = LdaMallet(mallet_path, corpus=bigram_corpus, num_topics=optimal_num_topics, id2word=bigram_id2word,\n",
    "#                                                  prefix='optimal_', random_seed=42)"
   ]
  },
  {
   "cell_type": "code",
   "execution_count": 33,
   "metadata": {
    "ExecuteTime": {
     "end_time": "2021-01-26T02:28:47.979100Z",
     "start_time": "2021-01-26T02:28:20.254566Z"
    }
   },
   "outputs": [
    {
     "data": {
      "text/html": [
       "<div>\n",
       "<style scoped>\n",
       "    .dataframe tbody tr th:only-of-type {\n",
       "        vertical-align: middle;\n",
       "    }\n",
       "\n",
       "    .dataframe tbody tr th {\n",
       "        vertical-align: top;\n",
       "    }\n",
       "\n",
       "    .dataframe thead th {\n",
       "        text-align: right;\n",
       "    }\n",
       "</style>\n",
       "<table border=\"1\" class=\"dataframe\">\n",
       "  <thead>\n",
       "    <tr style=\"text-align: right;\">\n",
       "      <th></th>\n",
       "      <th>Document_No</th>\n",
       "      <th>Dominant_Topic</th>\n",
       "      <th>Topic_Perc_Contrib</th>\n",
       "      <th>Keywords</th>\n",
       "      <th>Document</th>\n",
       "    </tr>\n",
       "  </thead>\n",
       "  <tbody>\n",
       "    <tr>\n",
       "      <th>0</th>\n",
       "      <td>0</td>\n",
       "      <td>1.0</td>\n",
       "      <td>0.1368</td>\n",
       "      <td>rtx, year, 4k, console, series, pc, 1440p, goo...</td>\n",
       "      <td>[sound, samsung_8nm, cheap]</td>\n",
       "    </tr>\n",
       "    <tr>\n",
       "      <th>1</th>\n",
       "      <td>1</td>\n",
       "      <td>7.0</td>\n",
       "      <td>0.1507</td>\n",
       "      <td>card, stock, launch, order, day, gonna, waitin...</td>\n",
       "      <td>[ethic, mongol, invasion, tech]</td>\n",
       "    </tr>\n",
       "    <tr>\n",
       "      <th>2</th>\n",
       "      <td>2</td>\n",
       "      <td>2.0</td>\n",
       "      <td>0.1447</td>\n",
       "      <td>dl, game, ray_tracing, rt, feature, support, r...</td>\n",
       "      <td>[nvidia, software, ai, learning, big, selling,...</td>\n",
       "    </tr>\n",
       "    <tr>\n",
       "      <th>3</th>\n",
       "      <td>3</td>\n",
       "      <td>6.0</td>\n",
       "      <td>0.2130</td>\n",
       "      <td>amd, nvidia, card, intel, good, market, compet...</td>\n",
       "      <td>[excited, amd, guy, compete, going, nvidia, br...</td>\n",
       "    </tr>\n",
       "    <tr>\n",
       "      <th>4</th>\n",
       "      <td>4</td>\n",
       "      <td>3.0</td>\n",
       "      <td>0.1737</td>\n",
       "      <td>price, 3070, 6800, xt, 500, 2080ti, faster, 50...</td>\n",
       "      <td>[think, nvidia, actualy, competing, new, conso...</td>\n",
       "    </tr>\n",
       "    <tr>\n",
       "      <th>5</th>\n",
       "      <td>5</td>\n",
       "      <td>6.0</td>\n",
       "      <td>0.2445</td>\n",
       "      <td>amd, nvidia, card, intel, good, market, compet...</td>\n",
       "      <td>[reputable, leak, rdna2, say, 40, 50, faster, ...</td>\n",
       "    </tr>\n",
       "    <tr>\n",
       "      <th>6</th>\n",
       "      <td>6</td>\n",
       "      <td>6.0</td>\n",
       "      <td>0.3337</td>\n",
       "      <td>amd, nvidia, card, intel, good, market, compet...</td>\n",
       "      <td>[im, sure, amd, good, rdna, generation, rt, im...</td>\n",
       "    </tr>\n",
       "    <tr>\n",
       "      <th>7</th>\n",
       "      <td>7</td>\n",
       "      <td>6.0</td>\n",
       "      <td>0.1619</td>\n",
       "      <td>amd, nvidia, card, intel, good, market, compet...</td>\n",
       "      <td>[b4, refresh, ampere, 7nm, throw, dirt, wound,...</td>\n",
       "    </tr>\n",
       "    <tr>\n",
       "      <th>8</th>\n",
       "      <td>8</td>\n",
       "      <td>3.0</td>\n",
       "      <td>0.2211</td>\n",
       "      <td>price, 3070, 6800, xt, 500, 2080ti, faster, 50...</td>\n",
       "      <td>[thread, deleted, aswell, post, r, p, amd, off...</td>\n",
       "    </tr>\n",
       "    <tr>\n",
       "      <th>9</th>\n",
       "      <td>9</td>\n",
       "      <td>0.0</td>\n",
       "      <td>0.1439</td>\n",
       "      <td>gpu, cpu, vram, lower, end, power, true, gamin...</td>\n",
       "      <td>[amd, going, need, pull, double, 5700xt, wish,...</td>\n",
       "    </tr>\n",
       "  </tbody>\n",
       "</table>\n",
       "</div>"
      ],
      "text/plain": [
       "   Document_No  Dominant_Topic  Topic_Perc_Contrib  \\\n",
       "0            0             1.0              0.1368   \n",
       "1            1             7.0              0.1507   \n",
       "2            2             2.0              0.1447   \n",
       "3            3             6.0              0.2130   \n",
       "4            4             3.0              0.1737   \n",
       "5            5             6.0              0.2445   \n",
       "6            6             6.0              0.3337   \n",
       "7            7             6.0              0.1619   \n",
       "8            8             3.0              0.2211   \n",
       "9            9             0.0              0.1439   \n",
       "\n",
       "                                            Keywords  \\\n",
       "0  rtx, year, 4k, console, series, pc, 1440p, goo...   \n",
       "1  card, stock, launch, order, day, gonna, waitin...   \n",
       "2  dl, game, ray_tracing, rt, feature, support, r...   \n",
       "3  amd, nvidia, card, intel, good, market, compet...   \n",
       "4  price, 3070, 6800, xt, 500, 2080ti, faster, 50...   \n",
       "5  amd, nvidia, card, intel, good, market, compet...   \n",
       "6  amd, nvidia, card, intel, good, market, compet...   \n",
       "7  amd, nvidia, card, intel, good, market, compet...   \n",
       "8  price, 3070, 6800, xt, 500, 2080ti, faster, 50...   \n",
       "9  gpu, cpu, vram, lower, end, power, true, gamin...   \n",
       "\n",
       "                                            Document  \n",
       "0                        [sound, samsung_8nm, cheap]  \n",
       "1                    [ethic, mongol, invasion, tech]  \n",
       "2  [nvidia, software, ai, learning, big, selling,...  \n",
       "3  [excited, amd, guy, compete, going, nvidia, br...  \n",
       "4  [think, nvidia, actualy, competing, new, conso...  \n",
       "5  [reputable, leak, rdna2, say, 40, 50, faster, ...  \n",
       "6  [im, sure, amd, good, rdna, generation, rt, im...  \n",
       "7  [b4, refresh, ampere, 7nm, throw, dirt, wound,...  \n",
       "8  [thread, deleted, aswell, post, r, p, amd, off...  \n",
       "9  [amd, going, need, pull, double, 5700xt, wish,...  "
      ]
     },
     "execution_count": 33,
     "metadata": {},
     "output_type": "execute_result"
    }
   ],
   "source": [
    "df_topic_sents_keywords = format_topics_sentences(ldamodel=optimal_model, corpus=bigram_corpus, texts=data_bigrams)\n",
    "\n",
    "# Format\n",
    "df_dominant_topic = df_topic_sents_keywords.reset_index()\n",
    "df_dominant_topic.columns = ['Document_No', 'Dominant_Topic', 'Topic_Perc_Contrib', 'Keywords', 'Document']\n",
    "\n",
    "# Show\n",
    "df_dominant_topic.head(10)"
   ]
  },
  {
   "cell_type": "code",
   "execution_count": 34,
   "metadata": {
    "ExecuteTime": {
     "end_time": "2021-01-26T02:28:47.995115Z",
     "start_time": "2021-01-26T02:28:47.980091Z"
    }
   },
   "outputs": [],
   "source": [
    "# Sort the dataframe in ascending order by the topic percentage contribution\n",
    "df_dominant_topic_sorted = df_dominant_topic.sort_values('Topic_Perc_Contrib', ascending=False)\n",
    "idx = np.random.randint(df_dominant_topic_sorted.shape[0])\n",
    "# idx = 250\n",
    "document = df_dominant_topic_sorted[['Document']].iloc[idx].values\n",
    "dominant_topic = df_dominant_topic_sorted[['Dominant_Topic']].iloc[idx].values\n",
    "dominant_keywords = df_dominant_topic_sorted[['Keywords']].iloc[idx].values"
   ]
  },
  {
   "cell_type": "code",
   "execution_count": 35,
   "metadata": {
    "ExecuteTime": {
     "end_time": "2021-01-26T02:28:48.011119Z",
     "start_time": "2021-01-26T02:28:47.996106Z"
    }
   },
   "outputs": [
    {
     "name": "stdout",
     "output_type": "stream",
     "text": [
      "Dominant keywords: ['card, stock, launch, order, day, gonna, waiting, cc, aib, reference'] \n",
      "\n",
      "Document:[list(['bought', 'week', 'amazon', 'equivalent', 'serie', '5000', 'cpu', 'higher', 'priced', 'send', 'new', 'socket'])]\n"
     ]
    }
   ],
   "source": [
    "print(f'Dominant keywords: {dominant_keywords} \\n\\nDocument:{document}')"
   ]
  },
  {
   "cell_type": "markdown",
   "metadata": {},
   "source": [
    "The document is relating to the price and performance of AMD against the Nividia's pascal and ampere's generation of GPUs as well as discussing about the Thermal Design Power (TDP) in which the GPUs generate heat and draw electricity as `100w` was seen in the document. "
   ]
  },
  {
   "cell_type": "code",
   "execution_count": 36,
   "metadata": {
    "ExecuteTime": {
     "end_time": "2021-01-26T02:28:48.027134Z",
     "start_time": "2021-01-26T02:28:48.012121Z"
    }
   },
   "outputs": [
    {
     "name": "stdout",
     "output_type": "stream",
     "text": [
      "Dominant keywords: ['card, stock, launch, order, day, gonna, waiting, cc, aib, reference'] \n",
      "\n",
      " Document:[list(['bought', 'week', 'amazon', 'equivalent', 'serie', '5000', 'cpu', 'higher', 'priced', 'send', 'new', 'socket'])]\n"
     ]
    }
   ],
   "source": [
    "print(f'Dominant keywords: {dominant_keywords} \\n\\n Document:{document}')"
   ]
  },
  {
   "cell_type": "markdown",
   "metadata": {
    "ExecuteTime": {
     "end_time": "2021-01-23T09:46:19.862202Z",
     "start_time": "2021-01-23T09:46:19.847189Z"
    }
   },
   "source": [
    "In the above document, the dominant keywords reflect the document with purchasing a GPU. "
   ]
  },
  {
   "cell_type": "markdown",
   "metadata": {},
   "source": [
    "# Find the most representative document for each topic"
   ]
  },
  {
   "cell_type": "code",
   "execution_count": 37,
   "metadata": {
    "ExecuteTime": {
     "end_time": "2021-01-26T02:28:48.059163Z",
     "start_time": "2021-01-26T02:28:48.028135Z"
    }
   },
   "outputs": [
    {
     "data": {
      "text/html": [
       "<div>\n",
       "<style scoped>\n",
       "    .dataframe tbody tr th:only-of-type {\n",
       "        vertical-align: middle;\n",
       "    }\n",
       "\n",
       "    .dataframe tbody tr th {\n",
       "        vertical-align: top;\n",
       "    }\n",
       "\n",
       "    .dataframe thead th {\n",
       "        text-align: right;\n",
       "    }\n",
       "</style>\n",
       "<table border=\"1\" class=\"dataframe\">\n",
       "  <thead>\n",
       "    <tr style=\"text-align: right;\">\n",
       "      <th></th>\n",
       "      <th>Topic_Num</th>\n",
       "      <th>Topic_Perc_Contrib</th>\n",
       "      <th>Keywords</th>\n",
       "      <th>Representative Text</th>\n",
       "    </tr>\n",
       "  </thead>\n",
       "  <tbody>\n",
       "    <tr>\n",
       "      <th>0</th>\n",
       "      <td>0.0</td>\n",
       "      <td>0.5488</td>\n",
       "      <td>gpu, cpu, vram, lower, end, power, true, gamin...</td>\n",
       "      <td>[selection, frame, index, 0, excludes, type, x...</td>\n",
       "    </tr>\n",
       "    <tr>\n",
       "      <th>1</th>\n",
       "      <td>1.0</td>\n",
       "      <td>0.4488</td>\n",
       "      <td>rtx, year, 4k, console, series, pc, 1440p, goo...</td>\n",
       "      <td>[ssd, year, old, ocz, vertex, max, iop, 128gb,...</td>\n",
       "    </tr>\n",
       "    <tr>\n",
       "      <th>2</th>\n",
       "      <td>2.0</td>\n",
       "      <td>0.5388</td>\n",
       "      <td>dl, game, ray_tracing, rt, feature, support, r...</td>\n",
       "      <td>[example, ray_tracing, insanely, computational...</td>\n",
       "    </tr>\n",
       "    <tr>\n",
       "      <th>3</th>\n",
       "      <td>3.0</td>\n",
       "      <td>0.3986</td>\n",
       "      <td>price, 3070, 6800, xt, 500, 2080ti, faster, 50...</td>\n",
       "      <td>[looking, saving, perspective, way, generation...</td>\n",
       "    </tr>\n",
       "    <tr>\n",
       "      <th>4</th>\n",
       "      <td>4.0</td>\n",
       "      <td>0.4112</td>\n",
       "      <td>3080, 3090, 6800xt, wait, 6900xt, benchmark, m...</td>\n",
       "      <td>[wrong, look, official, benchmark, slide, smar...</td>\n",
       "    </tr>\n",
       "    <tr>\n",
       "      <th>5</th>\n",
       "      <td>5.0</td>\n",
       "      <td>0.6850</td>\n",
       "      <td>people, buy, driver, time, issue, good, bad, r...</td>\n",
       "      <td>[corrected, multiple, time, insinuating, decis...</td>\n",
       "    </tr>\n",
       "    <tr>\n",
       "      <th>6</th>\n",
       "      <td>6.0</td>\n",
       "      <td>0.4498</td>\n",
       "      <td>amd, nvidia, card, intel, good, market, compet...</td>\n",
       "      <td>[amd, nvidia, buy, silicon, company, mainly, s...</td>\n",
       "    </tr>\n",
       "    <tr>\n",
       "      <th>7</th>\n",
       "      <td>7.0</td>\n",
       "      <td>0.5306</td>\n",
       "      <td>card, stock, launch, order, day, gonna, waitin...</td>\n",
       "      <td>[alright, called, couple, cc, location, 4038, ...</td>\n",
       "    </tr>\n",
       "  </tbody>\n",
       "</table>\n",
       "</div>"
      ],
      "text/plain": [
       "   Topic_Num  Topic_Perc_Contrib  \\\n",
       "0        0.0              0.5488   \n",
       "1        1.0              0.4488   \n",
       "2        2.0              0.5388   \n",
       "3        3.0              0.3986   \n",
       "4        4.0              0.4112   \n",
       "5        5.0              0.6850   \n",
       "6        6.0              0.4498   \n",
       "7        7.0              0.5306   \n",
       "\n",
       "                                            Keywords  \\\n",
       "0  gpu, cpu, vram, lower, end, power, true, gamin...   \n",
       "1  rtx, year, 4k, console, series, pc, 1440p, goo...   \n",
       "2  dl, game, ray_tracing, rt, feature, support, r...   \n",
       "3  price, 3070, 6800, xt, 500, 2080ti, faster, 50...   \n",
       "4  3080, 3090, 6800xt, wait, 6900xt, benchmark, m...   \n",
       "5  people, buy, driver, time, issue, good, bad, r...   \n",
       "6  amd, nvidia, card, intel, good, market, compet...   \n",
       "7  card, stock, launch, order, day, gonna, waitin...   \n",
       "\n",
       "                                 Representative Text  \n",
       "0  [selection, frame, index, 0, excludes, type, x...  \n",
       "1  [ssd, year, old, ocz, vertex, max, iop, 128gb,...  \n",
       "2  [example, ray_tracing, insanely, computational...  \n",
       "3  [looking, saving, perspective, way, generation...  \n",
       "4  [wrong, look, official, benchmark, slide, smar...  \n",
       "5  [corrected, multiple, time, insinuating, decis...  \n",
       "6  [amd, nvidia, buy, silicon, company, mainly, s...  \n",
       "7  [alright, called, couple, cc, location, 4038, ...  "
      ]
     },
     "execution_count": 37,
     "metadata": {},
     "output_type": "execute_result"
    }
   ],
   "source": [
    "sent_topics_sorteddf_mallet = pd.DataFrame()\n",
    "sent_topics_outdf_grpd = df_topic_sents_keywords.groupby('Dominant_Topic')\n",
    "\n",
    "for i, grp in sent_topics_outdf_grpd:\n",
    "    sent_topics_sorteddf_mallet = pd.concat([sent_topics_sorteddf_mallet, \n",
    "                                             grp.sort_values(['Perc_Contribution'], ascending=False).head(1)], \n",
    "                                            axis=0)\n",
    "\n",
    "# Reset Index    \n",
    "sent_topics_sorteddf_mallet.reset_index(drop=True, inplace=True)\n",
    "\n",
    "# Format the columns\n",
    "sent_topics_sorteddf_mallet.columns = ['Topic_Num', \"Topic_Perc_Contrib\", \"Keywords\", \"Representative Text\"]\n",
    "\n",
    "# Show\n",
    "sent_topics_sorteddf_mallet.head(10)"
   ]
  },
  {
   "cell_type": "markdown",
   "metadata": {},
   "source": [
    "## Most representative document for Topic 0"
   ]
  },
  {
   "cell_type": "code",
   "execution_count": 38,
   "metadata": {
    "ExecuteTime": {
     "end_time": "2021-01-26T02:28:48.075177Z",
     "start_time": "2021-01-26T02:28:48.060165Z"
    }
   },
   "outputs": [],
   "source": [
    "# Create a helper function to display the most representative documents for a topic\n",
    "def display_representative_document(topic_n, df):\n",
    "    dominant_keywords = df['Keywords'].loc[topic_n]\n",
    "    document_topic = \" \".join(df['Representative Text'].loc[topic_n])\n",
    "    \n",
    "    print(f'*******Topic {topic_n}********\\n\\nDominant keywords: {dominant_keywords} \\n\\nDocument:{document_topic}')"
   ]
  },
  {
   "cell_type": "code",
   "execution_count": 39,
   "metadata": {
    "ExecuteTime": {
     "end_time": "2021-01-26T02:28:48.091192Z",
     "start_time": "2021-01-26T02:28:48.076179Z"
    }
   },
   "outputs": [
    {
     "name": "stdout",
     "output_type": "stream",
     "text": [
      "*******Topic 0********\n",
      "\n",
      "Dominant keywords: gpu, cpu, vram, lower, end, power, true, gaming, 16gb, case \n",
      "\n",
      "Document:selection frame index 0 excludes type xpath expr body main role main div_class layout content div_contains class region div_contains class block div_class container div_class row flex h4 includes type xpath expr body main role main div_class layout content div_contains class region div_contains class block div_class container div_class row flex div dynamic true delay 0 ignoreemptytext true includestyle false dataattr text make_sense thanks\n"
     ]
    }
   ],
   "source": [
    "display_representative_document(0, sent_topics_sorteddf_mallet)"
   ]
  },
  {
   "cell_type": "markdown",
   "metadata": {},
   "source": [
    "The document talks about the price and performance of AMD's 6800xt and 6900xt which fits the topic of the `price` and `performance` of the card."
   ]
  },
  {
   "cell_type": "markdown",
   "metadata": {},
   "source": [
    "## Most representative document for Topic 1"
   ]
  },
  {
   "cell_type": "code",
   "execution_count": 40,
   "metadata": {
    "ExecuteTime": {
     "end_time": "2021-01-26T02:28:48.106206Z",
     "start_time": "2021-01-26T02:28:48.092193Z"
    }
   },
   "outputs": [
    {
     "name": "stdout",
     "output_type": "stream",
     "text": [
      "*******Topic 1********\n",
      "\n",
      "Dominant keywords: rtx, year, 4k, console, series, pc, 1440p, good, fps, gaming \n",
      "\n",
      "Document:ssd year old ocz vertex max iop 128gb guess size house lot game especially ton game large day ssd run o default program software suite game run oldfashioned 7200 rpm hdds far cpu go bought time 290 currently running 3770k oc 4 5ghz 12gb ddr3 1600mhz ram tech obsessed guy old standard stuff ancient obsolete fallen hard time financially past year sense surprised longevity part able squeeze wrong notice need upgrade day able smoothly run star citizen example 15 20fps best fs2020 give 20 30 frame best medium setting lot stuttering framedrops depending area horrendous loadtimes old hdds stuff ac odyssey shadow_tomb raider customized term setting medium ultra run 30 45 frame depending area stuff witcher ran 60fps ultra hairworks play 30 45 fps sense worried able run cyberpunk_2077 decent setting framerate 6 7 year single configuration able play relatively similar console experience 1080p30 game astonishing stuff battlefield modern_warfare doom_eternal run 50 60fps mindblowing\n"
     ]
    }
   ],
   "source": [
    "display_representative_document(1, sent_topics_sorteddf_mallet)"
   ]
  },
  {
   "cell_type": "markdown",
   "metadata": {
    "ExecuteTime": {
     "end_time": "2021-01-24T01:39:13.797937Z",
     "start_time": "2021-01-24T01:39:13.790930Z"
    }
   },
   "source": [
    "The document does not make sense as it's talking about HTML syntaxes which the model poorly interpreted."
   ]
  },
  {
   "cell_type": "markdown",
   "metadata": {},
   "source": [
    "## Most representative document for Topic 2"
   ]
  },
  {
   "cell_type": "code",
   "execution_count": 41,
   "metadata": {
    "ExecuteTime": {
     "end_time": "2021-01-26T02:28:48.122221Z",
     "start_time": "2021-01-26T02:28:48.107206Z"
    }
   },
   "outputs": [
    {
     "name": "stdout",
     "output_type": "stream",
     "text": [
      "*******Topic 2********\n",
      "\n",
      "Dominant keywords: dl, game, ray_tracing, rt, feature, support, raytracing, hardware, 0, lot \n",
      "\n",
      "Document:example ray_tracing insanely computationally expensive push higher higher resolution jumping 1080p 1440p 4k adding big load ray_tracing exacerbates essentially enabling ray_tracing half huge hit think agree exactly dl important negates halving ray_tracing guarantee devs away completely fake baking lighting cube map use rtx know long way away unfortunately yes computationally expensive far easier devs implement physic based work box hundred hour cube map hit generally getting ray_tracing effect certain area example ray_traced environmental lighting effect muzzle trade lighting option severe penalty yep absolute best implementation control far good cyberpunk implementation albeit bet extremely good given close partnership nvidia said implementation computational cost high best cast ray pixel enormously far realistic rendering theoretically say need cast 500 ray pixel simulate true ray pixel extremely obvious ray_tracing active game implemented properly metro_exodus global illumination control regardless ray_tracing visual benefit worth imo trying thing forward struggling hit severe casting abysmal ray end massively noisy image requires effort denoise awful supersampling upscale true honestly think ray_tracing premature way forward completely agree ray cast limitation type lighting apply cost incurs current resolution remedy denoising upsampling fix huge meh think premature mean anymore time 1st variation hell couple variation new tech going premature new issue arise pas said premature phase developed technology need continue advance think amd approach hybridization bvh traversal make_sense push traditional rasterization support rt leverage cu enable dedicating huge portion die leverage effect tradeoff make_sense visually sure agree probably way forward decade nvidia correctly igorslab leak raster benchmark matched shown presentation rt worse amd amd said working dl equivalent actual demo shown separate part die hardware accelerated individually way\n"
     ]
    }
   ],
   "source": [
    "display_representative_document(2, sent_topics_sorteddf_mallet)"
   ]
  },
  {
   "cell_type": "markdown",
   "metadata": {},
   "source": [
    "The document discusses about [ray tracing](https://www.techradar.com/news/ray-tracing) which gives more lifelike shadows and reflections, along with much-improved translucence and scattering in games. This fits the topic in which it has the keyword `ray_tracing`, `performance`."
   ]
  },
  {
   "cell_type": "markdown",
   "metadata": {},
   "source": [
    "## Most representative document for Topic 3"
   ]
  },
  {
   "cell_type": "code",
   "execution_count": 42,
   "metadata": {
    "ExecuteTime": {
     "end_time": "2021-01-26T02:28:48.138235Z",
     "start_time": "2021-01-26T02:28:48.123222Z"
    }
   },
   "outputs": [
    {
     "name": "stdout",
     "output_type": "stream",
     "text": [
      "*******Topic 3********\n",
      "\n",
      "Dominant keywords: price, 3070, 6800, xt, 500, 2080ti, faster, 50, pricing, rx \n",
      "\n",
      "Document:looking saving perspective way generational price bearing mind 2080_ti whopping 70 expensive 1080 ti 1080 ti 50 expensive 980 ti 2080_ti best 35 better 1080 ti 1080 ti avg 50 faster 980 ti 2080_ti impressive begin 2080_ti 500 3070 mean considering 3070 memory gddr6x 500 3070 mean 3060 likely 400 wanna guess\n"
     ]
    }
   ],
   "source": [
    "display_representative_document(3, sent_topics_sorteddf_mallet)"
   ]
  },
  {
   "cell_type": "markdown",
   "metadata": {},
   "source": [
    "The document talks about the pre ordering AMD's 6800xt which fits the topic on purchasing a GPU during the GPU's launch"
   ]
  },
  {
   "cell_type": "markdown",
   "metadata": {},
   "source": [
    "## Most representative document for Topic 4"
   ]
  },
  {
   "cell_type": "code",
   "execution_count": 43,
   "metadata": {
    "ExecuteTime": {
     "end_time": "2021-01-26T02:28:48.154249Z",
     "start_time": "2021-01-26T02:28:48.139237Z"
    }
   },
   "outputs": [
    {
     "name": "stdout",
     "output_type": "stream",
     "text": [
      "*******Topic 4********\n",
      "\n",
      "Dominant keywords: 3080, 3090, 6800xt, wait, 6900xt, benchmark, memory, 10, cheaper, review \n",
      "\n",
      "Document:wrong look official benchmark slide smart_access memory google smart_access memory technology available 5000_series ryzen 6000_series radeon 6900xt smart_access memory rage_mode lmao edit looked wrong 6800 6900_xt slide smart_access memory 6800 xt slide edit2 different 6800xt slide smart_access memory 6800xt virtually identical 3080 5000_series ryzen processor ahead slightly game slightly edit3 realized rage_mode probably increase tdp outside specified know sure actual review 6900xt 350w rage_mode\n"
     ]
    }
   ],
   "source": [
    "display_representative_document(4, sent_topics_sorteddf_mallet)"
   ]
  },
  {
   "cell_type": "markdown",
   "metadata": {},
   "source": [
    "The document compares Nvidia's GPUs, the 3070, 3080 and the 3090 against AMD's GPUs, the 6800, 6800xt and the 6900xt which adequately matches the topic."
   ]
  },
  {
   "cell_type": "markdown",
   "metadata": {},
   "source": [
    "## Most representative document for Topic 5"
   ]
  },
  {
   "cell_type": "code",
   "execution_count": 44,
   "metadata": {
    "ExecuteTime": {
     "end_time": "2021-01-26T02:28:48.170264Z",
     "start_time": "2021-01-26T02:28:48.155251Z"
    }
   },
   "outputs": [
    {
     "name": "stdout",
     "output_type": "stream",
     "text": [
      "*******Topic 5********\n",
      "\n",
      "Dominant keywords: people, buy, driver, time, issue, good, bad, reason, sell, product \n",
      "\n",
      "Document:corrected multiple time insinuating decision stem 700 msrp mentioned comment bud wrong disclosed reply comment original reply stated sounded bad idea original comment disclosed information original reply said sounded bad idea possible different conclusion different circumstance clarified simply said 6800xt obviously 6900xt expensive imply terrible_idea simply implied look worth trouble insinuate decision stem 700 msrp insinuated terrible_idea upset look r hardwareswap selling 3080s loss arguing entirely bad faith point cared paid 150 base 700 msrp place decision entirely stem 850 price point time repeat stop twisting single word fuck word twist care r hardwareswap rate 3080 aways talking price launch date new radeon card later imagined talking usual case_scenario reason sound calm f buddy completely blind think sell right 850 model stated comment learn read stop backtracking literally comment insanely delusional backtrack word help argument imagine quoted example labeled extreme example situation exemplify particular situation bad idea originaly said sounded msrp value card higher price wow finally came term rest comment based situation literally making shit pretend argument good job cya lmao buddy rough day know example want google\n"
     ]
    }
   ],
   "source": [
    "display_representative_document(5, sent_topics_sorteddf_mallet)"
   ]
  },
  {
   "cell_type": "markdown",
   "metadata": {},
   "source": [
    "Unable to intrepret the document well as it discusses about the turing complete machine, whereas the topic discusses about the PC and gaming consoles."
   ]
  },
  {
   "cell_type": "markdown",
   "metadata": {},
   "source": [
    "# Topic distribution across documents"
   ]
  },
  {
   "cell_type": "code",
   "execution_count": 45,
   "metadata": {
    "ExecuteTime": {
     "end_time": "2021-01-26T02:28:48.186279Z",
     "start_time": "2021-01-26T02:28:48.171265Z"
    }
   },
   "outputs": [
    {
     "data": {
      "text/html": [
       "<div>\n",
       "<style scoped>\n",
       "    .dataframe tbody tr th:only-of-type {\n",
       "        vertical-align: middle;\n",
       "    }\n",
       "\n",
       "    .dataframe tbody tr th {\n",
       "        vertical-align: top;\n",
       "    }\n",
       "\n",
       "    .dataframe thead th {\n",
       "        text-align: right;\n",
       "    }\n",
       "</style>\n",
       "<table border=\"1\" class=\"dataframe\">\n",
       "  <thead>\n",
       "    <tr style=\"text-align: right;\">\n",
       "      <th></th>\n",
       "      <th>Dominant_Topic</th>\n",
       "      <th>Topic_Keywords</th>\n",
       "      <th>Num_Documents</th>\n",
       "      <th>Perc_Documents</th>\n",
       "    </tr>\n",
       "  </thead>\n",
       "  <tbody>\n",
       "    <tr>\n",
       "      <th>0.0</th>\n",
       "      <td>0.0</td>\n",
       "      <td>gpu, cpu, vram, lower, end, power, true, gamin...</td>\n",
       "      <td>1836</td>\n",
       "      <td>0.1264</td>\n",
       "    </tr>\n",
       "    <tr>\n",
       "      <th>1.0</th>\n",
       "      <td>1.0</td>\n",
       "      <td>rtx, year, 4k, console, series, pc, 1440p, goo...</td>\n",
       "      <td>1538</td>\n",
       "      <td>0.1059</td>\n",
       "    </tr>\n",
       "    <tr>\n",
       "      <th>2.0</th>\n",
       "      <td>2.0</td>\n",
       "      <td>dl, game, ray_tracing, rt, feature, support, r...</td>\n",
       "      <td>2016</td>\n",
       "      <td>0.1388</td>\n",
       "    </tr>\n",
       "    <tr>\n",
       "      <th>3.0</th>\n",
       "      <td>3.0</td>\n",
       "      <td>price, 3070, 6800, xt, 500, 2080ti, faster, 50...</td>\n",
       "      <td>2105</td>\n",
       "      <td>0.1449</td>\n",
       "    </tr>\n",
       "    <tr>\n",
       "      <th>4.0</th>\n",
       "      <td>4.0</td>\n",
       "      <td>3080, 3090, 6800xt, wait, 6900xt, benchmark, m...</td>\n",
       "      <td>1768</td>\n",
       "      <td>0.1217</td>\n",
       "    </tr>\n",
       "    <tr>\n",
       "      <th>5.0</th>\n",
       "      <td>5.0</td>\n",
       "      <td>people, buy, driver, time, issue, good, bad, r...</td>\n",
       "      <td>1581</td>\n",
       "      <td>0.1088</td>\n",
       "    </tr>\n",
       "  </tbody>\n",
       "</table>\n",
       "</div>"
      ],
      "text/plain": [
       "     Dominant_Topic                                     Topic_Keywords  \\\n",
       "0.0             0.0  gpu, cpu, vram, lower, end, power, true, gamin...   \n",
       "1.0             1.0  rtx, year, 4k, console, series, pc, 1440p, goo...   \n",
       "2.0             2.0  dl, game, ray_tracing, rt, feature, support, r...   \n",
       "3.0             3.0  price, 3070, 6800, xt, 500, 2080ti, faster, 50...   \n",
       "4.0             4.0  3080, 3090, 6800xt, wait, 6900xt, benchmark, m...   \n",
       "5.0             5.0  people, buy, driver, time, issue, good, bad, r...   \n",
       "\n",
       "     Num_Documents  Perc_Documents  \n",
       "0.0           1836          0.1264  \n",
       "1.0           1538          0.1059  \n",
       "2.0           2016          0.1388  \n",
       "3.0           2105          0.1449  \n",
       "4.0           1768          0.1217  \n",
       "5.0           1581          0.1088  "
      ]
     },
     "execution_count": 45,
     "metadata": {},
     "output_type": "execute_result"
    }
   ],
   "source": [
    "# Number of Documents for Each Topic\n",
    "topic_counts = df_topic_sents_keywords['Dominant_Topic'].value_counts().sort_index()\n",
    "\n",
    "# Percentage of Documents for Each Topic\n",
    "topic_contribution = round(topic_counts/topic_counts.sum(), 4)\n",
    "\n",
    "# Topic Number and Keywords\n",
    "topic_num = pd.Series(sorted(df_topic_sents_keywords['Dominant_Topic'].unique()))\n",
    "topic_keywords = sent_topics_sorteddf_mallet['Keywords']\n",
    "\n",
    "# Concatenate Column wise\n",
    "df_dominant_topics = pd.concat([topic_num, topic_keywords, topic_counts, topic_contribution], axis=1)\n",
    "\n",
    "# Change Column names\n",
    "df_dominant_topics.columns = ['Dominant_Topic', 'Topic_Keywords', 'Num_Documents', 'Perc_Documents']\n",
    "\n",
    "# Show\n",
    "df_dominant_topics.head(6)"
   ]
  },
  {
   "cell_type": "code",
   "execution_count": 46,
   "metadata": {
    "ExecuteTime": {
     "end_time": "2021-01-26T02:28:48.202293Z",
     "start_time": "2021-01-26T02:28:48.187280Z"
    }
   },
   "outputs": [
    {
     "data": {
      "text/html": [
       "<div>\n",
       "<style scoped>\n",
       "    .dataframe tbody tr th:only-of-type {\n",
       "        vertical-align: middle;\n",
       "    }\n",
       "\n",
       "    .dataframe tbody tr th {\n",
       "        vertical-align: top;\n",
       "    }\n",
       "\n",
       "    .dataframe thead th {\n",
       "        text-align: right;\n",
       "    }\n",
       "</style>\n",
       "<table border=\"1\" class=\"dataframe\">\n",
       "  <thead>\n",
       "    <tr style=\"text-align: right;\">\n",
       "      <th></th>\n",
       "      <th>Dominant_Topic</th>\n",
       "      <th>Topic_Keywords</th>\n",
       "      <th>Num_Documents</th>\n",
       "      <th>Perc_Documents</th>\n",
       "    </tr>\n",
       "  </thead>\n",
       "  <tbody>\n",
       "    <tr>\n",
       "      <th>7.0</th>\n",
       "      <td>7.0</td>\n",
       "      <td>card, stock, launch, order, day, gonna, waitin...</td>\n",
       "      <td>2150</td>\n",
       "      <td>0.1480</td>\n",
       "    </tr>\n",
       "    <tr>\n",
       "      <th>3.0</th>\n",
       "      <td>3.0</td>\n",
       "      <td>price, 3070, 6800, xt, 500, 2080ti, faster, 50...</td>\n",
       "      <td>2105</td>\n",
       "      <td>0.1449</td>\n",
       "    </tr>\n",
       "    <tr>\n",
       "      <th>2.0</th>\n",
       "      <td>2.0</td>\n",
       "      <td>dl, game, ray_tracing, rt, feature, support, r...</td>\n",
       "      <td>2016</td>\n",
       "      <td>0.1388</td>\n",
       "    </tr>\n",
       "    <tr>\n",
       "      <th>0.0</th>\n",
       "      <td>0.0</td>\n",
       "      <td>gpu, cpu, vram, lower, end, power, true, gamin...</td>\n",
       "      <td>1836</td>\n",
       "      <td>0.1264</td>\n",
       "    </tr>\n",
       "    <tr>\n",
       "      <th>4.0</th>\n",
       "      <td>4.0</td>\n",
       "      <td>3080, 3090, 6800xt, wait, 6900xt, benchmark, m...</td>\n",
       "      <td>1768</td>\n",
       "      <td>0.1217</td>\n",
       "    </tr>\n",
       "    <tr>\n",
       "      <th>5.0</th>\n",
       "      <td>5.0</td>\n",
       "      <td>people, buy, driver, time, issue, good, bad, r...</td>\n",
       "      <td>1581</td>\n",
       "      <td>0.1088</td>\n",
       "    </tr>\n",
       "    <tr>\n",
       "      <th>1.0</th>\n",
       "      <td>1.0</td>\n",
       "      <td>rtx, year, 4k, console, series, pc, 1440p, goo...</td>\n",
       "      <td>1538</td>\n",
       "      <td>0.1059</td>\n",
       "    </tr>\n",
       "    <tr>\n",
       "      <th>6.0</th>\n",
       "      <td>6.0</td>\n",
       "      <td>amd, nvidia, card, intel, good, market, compet...</td>\n",
       "      <td>1532</td>\n",
       "      <td>0.1055</td>\n",
       "    </tr>\n",
       "  </tbody>\n",
       "</table>\n",
       "</div>"
      ],
      "text/plain": [
       "     Dominant_Topic                                     Topic_Keywords  \\\n",
       "7.0             7.0  card, stock, launch, order, day, gonna, waitin...   \n",
       "3.0             3.0  price, 3070, 6800, xt, 500, 2080ti, faster, 50...   \n",
       "2.0             2.0  dl, game, ray_tracing, rt, feature, support, r...   \n",
       "0.0             0.0  gpu, cpu, vram, lower, end, power, true, gamin...   \n",
       "4.0             4.0  3080, 3090, 6800xt, wait, 6900xt, benchmark, m...   \n",
       "5.0             5.0  people, buy, driver, time, issue, good, bad, r...   \n",
       "1.0             1.0  rtx, year, 4k, console, series, pc, 1440p, goo...   \n",
       "6.0             6.0  amd, nvidia, card, intel, good, market, compet...   \n",
       "\n",
       "     Num_Documents  Perc_Documents  \n",
       "7.0           2150          0.1480  \n",
       "3.0           2105          0.1449  \n",
       "2.0           2016          0.1388  \n",
       "0.0           1836          0.1264  \n",
       "4.0           1768          0.1217  \n",
       "5.0           1581          0.1088  \n",
       "1.0           1538          0.1059  \n",
       "6.0           1532          0.1055  "
      ]
     },
     "execution_count": 46,
     "metadata": {},
     "output_type": "execute_result"
    }
   ],
   "source": [
    "# Sort the Percentage of documents in descending order\n",
    "df_dominant_topics.sort_values(by='Perc_Documents', ascending=False)"
   ]
  },
  {
   "cell_type": "code",
   "execution_count": 47,
   "metadata": {
    "ExecuteTime": {
     "end_time": "2021-01-26T02:28:48.330401Z",
     "start_time": "2021-01-26T02:28:48.203294Z"
    }
   },
   "outputs": [
    {
     "data": {
      "image/png": "[encoded data removed]",
      "text/plain": [
       "<Figure size 792x504 with 1 Axes>"
      ]
     },
     "metadata": {},
     "output_type": "display_data"
    }
   ],
   "source": [
    "cols = [color for name, color in mcolors.TABLEAU_COLORS.items()]\n",
    "\n",
    "plt.figure(figsize=(11,7))\n",
    "sns.barplot(x='Dominant_Topic', y='Num_Documents',data=df_dominant_topics, palette=cols)\n",
    "\n",
    "plt.title('Distribution of documents by their topics')\n",
    "plt.xticks(np.arange(6),[x for x in range(6)])\n",
    "plt.xlabel('Dominant Topics')\n",
    "plt.ylabel('Number of documents');"
   ]
  },
  {
   "cell_type": "markdown",
   "metadata": {},
   "source": [
    "Topic 3 has the been assigned the most often to the documents with close to 3000 documents being assigned while making up 20% of the topics assigned.\n",
    "Stock availability during the launch of the GPUs is the most discussed for the AMD's subreddit with Topic 4 coming in second, which goes into comparing the price and performance of the AMD and Nvidia's GPUs. \n",
    "\n",
    "The least discussed is Topic 5 which discusses about the [RDNA 2 GPUs](https://www.pcworld.com/article/3528861/what-the-new-xbox-series-x-specs-tell-us-about-amds-next-gen-radeon-graphics-cards.html) powering the new gaming consoles, Xbox X series and the PS5. It seems that most of the subreddit users are PC gamers given the least number of Topic 5 documents."
   ]
  },
  {
   "cell_type": "markdown",
   "metadata": {},
   "source": [
    "# Frequency Distribution of Word Counts in Documents by dominant topic"
   ]
  },
  {
   "cell_type": "code",
   "execution_count": 48,
   "metadata": {
    "ExecuteTime": {
     "end_time": "2021-01-26T02:28:49.611548Z",
     "start_time": "2021-01-26T02:28:48.331402Z"
    }
   },
   "outputs": [
    {
     "data": {
      "image/png": "[encoded data removed]",
      "text/plain": [
       "<Figure size 1008x792 with 6 Axes>"
      ]
     },
     "metadata": {},
     "output_type": "display_data"
    }
   ],
   "source": [
    "cols = [color for name, color in mcolors.TABLEAU_COLORS.items()]\n",
    "\n",
    "fig, axes = plt.subplots(3,2, figsize=(14,11), sharex=True, sharey=True)\n",
    "\n",
    "for i, ax in enumerate(axes.flatten()):    \n",
    "    df_dominant_topic_sub = df_dominant_topic.loc[df_dominant_topic.Dominant_Topic == i]\n",
    "    doc_lens = df_dominant_topic_sub.Document.map(lambda token: len(token)).tolist()\n",
    "    #ax.hist(doc_lens, bins = 100, color=cols[i])\n",
    "    ax.tick_params(axis='y', labelcolor=cols[i], color=cols[i])\n",
    "    sns.histplot(doc_lens, bins=50, color=cols[i], kde=True, ax=ax) # ax.twinx()\n",
    "    # Mean\n",
    "    ax.axvline(np.mean(doc_lens), color='red', label='mean')\n",
    "    # Median\n",
    "    ax.axvline(np.median(doc_lens), color='yellow', label='median')\n",
    "    ax.legend()\n",
    "    ax.set(xlim=(0, 1000), xlabel='Document Word Count')\n",
    "    ax.set_ylabel('Number of Documents', color=cols[i])\n",
    "    ax.set_title('Topic: '+str(i), fontdict=dict(size=16, color=cols[i]))\n",
    "\n",
    "# fig.tight_layout()\n",
    "fig.subplots_adjust(top=0.90)\n",
    "# plt.xticks(np.linspace(0,375,9))\n",
    "plt.xlim(0,100)\n",
    "fig.suptitle('Distribution of Document Word Counts by Dominant Topic', fontsize=16)\n",
    "plt.tight_layout()\n",
    "plt.show()"
   ]
  },
  {
   "cell_type": "markdown",
   "metadata": {},
   "source": [
    "All of the distributions shows a right tailed skewed graph in which the mean and median are quite close."
   ]
  },
  {
   "cell_type": "markdown",
   "metadata": {},
   "source": [
    "# Word Clouds of Top N Keywords in Each Topic"
   ]
  },
  {
   "cell_type": "code",
   "execution_count": 49,
   "metadata": {
    "ExecuteTime": {
     "end_time": "2021-01-26T02:28:49.624559Z",
     "start_time": "2021-01-26T02:28:49.612549Z"
    }
   },
   "outputs": [],
   "source": [
    "stop_words = set(STOPWORDS).union(stopwords.words(\"english\")) # Combines gensim stopwords and nltk's stopwords\n",
    "stop_words = stop_words.union(['http', 'www', 'youtube' 'get', 'like', '1', '2', '3', '5', 'got'])"
   ]
  },
  {
   "cell_type": "code",
   "execution_count": 50,
   "metadata": {
    "ExecuteTime": {
     "end_time": "2021-01-26T02:28:53.308822Z",
     "start_time": "2021-01-26T02:28:49.625560Z"
    }
   },
   "outputs": [
    {
     "data": {
      "image/png": "[encoded data removed]",
      "text/plain": [
       "<Figure size 720x720 with 6 Axes>"
      ]
     },
     "metadata": {},
     "output_type": "display_data"
    }
   ],
   "source": [
    "cloud = WordCloud(stopwords=stop_words,\n",
    "                  background_color='white',\n",
    "                  width=2500,\n",
    "                  height=1800,\n",
    "                  max_words=10,\n",
    "                  colormap='tab10',\n",
    "                  color_func=lambda *args, **kwargs: cols[i],\n",
    "                  prefer_horizontal=1.0)\n",
    "\n",
    "topics = optimal_model.show_topics(formatted=False)\n",
    "\n",
    "fig, axes = plt.subplots(3, 2, figsize=(10,10), sharex=True, sharey=True)\n",
    "\n",
    "for i, ax in enumerate(axes.flatten()):\n",
    "    fig.add_subplot(ax)\n",
    "    topic_words = dict(topics[i][1])\n",
    "    cloud.generate_from_frequencies(topic_words, max_font_size=300)\n",
    "    plt.gca().imshow(cloud)\n",
    "    plt.gca().set_title('Topic ' + str(i), fontdict=dict(size=16))\n",
    "    plt.gca().axis('off')\n",
    "\n",
    "\n",
    "plt.subplots_adjust(wspace=0, hspace=0)\n",
    "plt.axis('off')\n",
    "plt.margins(x=0, y=0)\n",
    "plt.tight_layout()\n",
    "plt.show()"
   ]
  },
  {
   "cell_type": "markdown",
   "metadata": {},
   "source": [
    "# Word Counts of Topic Keywords"
   ]
  },
  {
   "cell_type": "code",
   "execution_count": 51,
   "metadata": {
    "ExecuteTime": {
     "end_time": "2021-01-26T02:28:53.352852Z",
     "start_time": "2021-01-26T02:28:53.309813Z"
    }
   },
   "outputs": [
    {
     "data": {
      "text/plain": [
       "Counter({'sound': 124,\n",
       "         'samsung_8nm': 25,\n",
       "         'cheap': 94,\n",
       "         'ethic': 3,\n",
       "         'mongol': 14,\n",
       "         'invasion': 3,\n",
       "         'tech': 191,\n",
       "         'nvidia': 2584,\n",
       "         'software': 231,\n",
       "         'ai': 102,\n",
       "         'learning': 8,\n",
       "         'big': 323,\n",
       "         'selling': 110,\n",
       "         'point': 502,\n",
       "         'excited': 57,\n",
       "         'amd': 3648,\n",
       "         'guy': 175,\n",
       "         'compete': 256,\n",
       "         'going': 894,\n",
       "         'brand_loyalty': 17,\n",
       "         'sucker': 12,\n",
       "         'think': 1149,\n",
       "         'actualy': 1,\n",
       "         'competing': 69,\n",
       "         'new': 747,\n",
       "         'console': 505,\n",
       "         'price': 1672,\n",
       "         '499': 90,\n",
       "         '2080ti': 410,\n",
       "         'dumping': 1,\n",
       "         'reputable': 5,\n",
       "         'leak': 63,\n",
       "         'rdna2': 190,\n",
       "         'say': 95,\n",
       "         '40': 49,\n",
       "         '50': 373,\n",
       "         'faster': 382,\n",
       "         'couple': 99,\n",
       "         'rumored': 23,\n",
       "         'focus': 29,\n",
       "         'power': 338,\n",
       "         'efficiency': 63,\n",
       "         'advantage': 119,\n",
       "         'tsmc': 77,\n",
       "         'process': 74,\n",
       "         '7nm': 75,\n",
       "         'forget': 54,\n",
       "         'samsung': 83,\n",
       "         'silicon': 29,\n",
       "         'pushed': 28,\n",
       "         '350': 58,\n",
       "         'tdp': 53,\n",
       "         'impossible': 25,\n",
       "         'raise': 26,\n",
       "         'coming': 196,\n",
       "         'competitive': 174,\n",
       "         'want': 705,\n",
       "         'buy': 741,\n",
       "         'potentially': 18,\n",
       "         'lower': 355,\n",
       "         'waiting': 219,\n",
       "         'im': 159,\n",
       "         'sure': 543,\n",
       "         'good': 979,\n",
       "         'rdna': 113,\n",
       "         'generation': 256,\n",
       "         'rt': 589,\n",
       "         'expecting': 62,\n",
       "         'boom': 5,\n",
       "         'wow': 49,\n",
       "         'amazing': 85,\n",
       "         'pricing': 312,\n",
       "         'learned': 10,\n",
       "         'turing': 120,\n",
       "         'double': 149,\n",
       "         'step': 59,\n",
       "         'right': 550,\n",
       "         'direction': 13,\n",
       "         'come': 510,\n",
       "         'punching': 3,\n",
       "         'force': 26,\n",
       "         'believe': 143,\n",
       "         'need': 718,\n",
       "         'throwing': 10,\n",
       "         'punch': 8,\n",
       "         'lack': 79,\n",
       "         'competition': 227,\n",
       "         'b4': 3,\n",
       "         'refresh': 51,\n",
       "         'ampere': 187,\n",
       "         'throw': 19,\n",
       "         'dirt': 20,\n",
       "         'wound': 1,\n",
       "         'x200b': 131,\n",
       "         'edit': 182,\n",
       "         'absolutely': 111,\n",
       "         'wrecking': 1,\n",
       "         'shop': 19,\n",
       "         'thread': 60,\n",
       "         'deleted': 6,\n",
       "         'aswell': 8,\n",
       "         'post': 87,\n",
       "         'r': 73,\n",
       "         'p': 44,\n",
       "         'offer': 135,\n",
       "         'lying': 12,\n",
       "         'said': 518,\n",
       "         '3080': 1595,\n",
       "         '700': 124,\n",
       "         'offering': 75,\n",
       "         'better': 1224,\n",
       "         'isnt': 27,\n",
       "         'spectacular': 4,\n",
       "         '3070': 1475,\n",
       "         'thinking': 115,\n",
       "         'fucking': 98,\n",
       "         'insane': 74,\n",
       "         'pull': 71,\n",
       "         '5700xt': 323,\n",
       "         'wish': 50,\n",
       "         'exaggerating': 2,\n",
       "         'ready': 89,\n",
       "         'score': 15,\n",
       "         'second': 106,\n",
       "         'hand': 145,\n",
       "         'gpu': 1063,\n",
       "         'half': 106,\n",
       "         'priced': 158,\n",
       "         'people': 1087,\n",
       "         'jumping': 8,\n",
       "         'hype_train': 6,\n",
       "         'key': 16,\n",
       "         'thought': 144,\n",
       "         'pipeline': 13,\n",
       "         'plateaued': 1,\n",
       "         'dropped': 40,\n",
       "         '100': 208,\n",
       "         'track_record': 7,\n",
       "         'drop': 186,\n",
       "         'actually': 515,\n",
       "         'weird': 87,\n",
       "         'casually': 5,\n",
       "         'follows': 2,\n",
       "         'hardware': 312,\n",
       "         'news': 51,\n",
       "         'looking': 251,\n",
       "         'upgrade': 260,\n",
       "         'bit': 354,\n",
       "         'stockholm': 1,\n",
       "         'syndrome': 1,\n",
       "         'prospect': 3,\n",
       "         '400': 124,\n",
       "         '3060': 79,\n",
       "         'deal': 204,\n",
       "         'x': 138,\n",
       "         '2060': 54,\n",
       "         'supposed': 55,\n",
       "         'happen': 59,\n",
       "         'launch': 465,\n",
       "         'product': 275,\n",
       "         'line': 208,\n",
       "         'gotten': 33,\n",
       "         'way': 507,\n",
       "         'control': 84,\n",
       "         'attention': 20,\n",
       "         'look': 693,\n",
       "         'cooking': 6,\n",
       "         'probably': 695,\n",
       "         'hear': 48,\n",
       "         'soon': 131,\n",
       "         'feel': 221,\n",
       "         'doa': 23,\n",
       "         'let': 237,\n",
       "         'pas': 24,\n",
       "         'change': 126,\n",
       "         'marketing': 132,\n",
       "         'strategy': 32,\n",
       "         'big_navi': 122,\n",
       "         'maybe': 385,\n",
       "         'changing': 11,\n",
       "         'medium': 35,\n",
       "         'navi': 85,\n",
       "         'blowing': 11,\n",
       "         'park': 11,\n",
       "         'forced': 28,\n",
       "         'innovate': 4,\n",
       "         'hope': 248,\n",
       "         'respond': 10,\n",
       "         'polaris': 14,\n",
       "         'replacement': 21,\n",
       "         'sold': 111,\n",
       "         '399': 20,\n",
       "         '299': 9,\n",
       "         'year': 759,\n",
       "         'ago': 170,\n",
       "         'press': 9,\n",
       "         'f': 27,\n",
       "         'bought': 205,\n",
       "         '6': 122,\n",
       "         'month': 304,\n",
       "         'mod': 22,\n",
       "         'removing': 10,\n",
       "         'lmao': 99,\n",
       "         'doubling': 11,\n",
       "         'spec': 62,\n",
       "         'rtx': 827,\n",
       "         'beat': 197,\n",
       "         '30': 156,\n",
       "         'rdna1': 19,\n",
       "         'barely': 61,\n",
       "         'scared': 34,\n",
       "         'losing': 20,\n",
       "         'money': 306,\n",
       "         'asap': 12,\n",
       "         '80': 230,\n",
       "         'true': 228,\n",
       "         'knock': 7,\n",
       "         'worried': 55,\n",
       "         'inclined': 4,\n",
       "         'concern': 50,\n",
       "         'able': 275,\n",
       "         'fit': 42,\n",
       "         '2080': 136,\n",
       "         'tier': 115,\n",
       "         'xbox': 110,\n",
       "         'series': 356,\n",
       "         'speaks': 3,\n",
       "         'volume': 13,\n",
       "         'familiar': 6,\n",
       "         'built': 62,\n",
       "         'mean': 510,\n",
       "         'likely': 274,\n",
       "         'sell': 263,\n",
       "         '300': 92,\n",
       "         'cost': 281,\n",
       "         'release': 366,\n",
       "         'detail': 48,\n",
       "         'supply': 131,\n",
       "         'catch': 45,\n",
       "         'demand': 87,\n",
       "         '3000': 55,\n",
       "         'wait': 615,\n",
       "         'know': 865,\n",
       "         'forthcoming': 1,\n",
       "         'info': 101,\n",
       "         'assume': 82,\n",
       "         'par': 69,\n",
       "         'dead': 59,\n",
       "         'arrives': 6,\n",
       "         'yeap': 1,\n",
       "         'doubt': 114,\n",
       "         'answer': 115,\n",
       "         'yep': 58,\n",
       "         'fanboy': 44,\n",
       "         'slapped': 6,\n",
       "         'today': 202,\n",
       "         'spot': 22,\n",
       "         'ratio': 27,\n",
       "         'worse': 234,\n",
       "         '5600': 34,\n",
       "         'xt': 469,\n",
       "         'february': 15,\n",
       "         'retrospective': 1,\n",
       "         'ton': 54,\n",
       "         'driver': 670,\n",
       "         'error': 38,\n",
       "         'exchange': 5,\n",
       "         'different': 194,\n",
       "         'model': 165,\n",
       "         'announcement': 54,\n",
       "         'starting': 31,\n",
       "         'pretty': 418,\n",
       "         'bad': 311,\n",
       "         'decision': 75,\n",
       "         'card': 1435,\n",
       "         'affordable': 17,\n",
       "         'budget': 157,\n",
       "         'beast': 22,\n",
       "         'knocked': 2,\n",
       "         'ryzen': 204,\n",
       "         'moment': 70,\n",
       "         'radeon': 186,\n",
       "         'sadly': 30,\n",
       "         'steam': 22,\n",
       "         'user': 98,\n",
       "         '2080_ti': 166,\n",
       "         'make_sense': 78,\n",
       "         'gamers': 121,\n",
       "         'help': 107,\n",
       "         'cpu': 728,\n",
       "         'sale': 102,\n",
       "         'positive': 12,\n",
       "         'pick': 59,\n",
       "         '1080ti': 58,\n",
       "         '200': 79,\n",
       "         'rendering': 80,\n",
       "         'rig': 51,\n",
       "         'dominated': 4,\n",
       "         'scene': 17,\n",
       "         'competent': 5,\n",
       "         'future': 171,\n",
       "         'nonsense': 8,\n",
       "         'aside': 28,\n",
       "         'appear': 14,\n",
       "         'lot': 429,\n",
       "         'ray_tracing': 734,\n",
       "         'chart': 65,\n",
       "         'relative': 24,\n",
       "         'improvement': 105,\n",
       "         'game': 1436,\n",
       "         'setting': 150,\n",
       "         'long': 204,\n",
       "         'claimed': 24,\n",
       "         '2xperformance': 1,\n",
       "         'watt': 90,\n",
       "         'codename': 1,\n",
       "         'upcoming': 50,\n",
       "         'killer': 46,\n",
       "         'final': 24,\n",
       "         'company': 204,\n",
       "         'confident': 22,\n",
       "         'comparable': 65,\n",
       "         'stack': 52,\n",
       "         'vega': 43,\n",
       "         'animal': 3,\n",
       "         'real': 196,\n",
       "         'separated': 1,\n",
       "         'gaming': 530,\n",
       "         'enterprise': 7,\n",
       "         'show': 58,\n",
       "         'msrp': 161,\n",
       "         'luck': 99,\n",
       "         'finding': 15,\n",
       "         'decided': 41,\n",
       "         'spin': 4,\n",
       "         'matrix': 4,\n",
       "         'based': 176,\n",
       "         'baseline': 11,\n",
       "         'benchmark': 546,\n",
       "         'hardware_unboxed': 19,\n",
       "         'saw': 97,\n",
       "         'went': 150,\n",
       "         'ahead': 93,\n",
       "         'placed': 24,\n",
       "         'stuck': 38,\n",
       "         'claim': 93,\n",
       "         'fps': 333,\n",
       "         'calculated': 2,\n",
       "         'percentage': 16,\n",
       "         'increase': 157,\n",
       "         'column': 1,\n",
       "         'apu': 17,\n",
       "         'getting': 433,\n",
       "         'level': 171,\n",
       "         '36cus': 2,\n",
       "         'limited': 71,\n",
       "         'cooling': 19,\n",
       "         'scale': 54,\n",
       "         '72cus': 1,\n",
       "         'satisfied': 3,\n",
       "         'confirmed': 42,\n",
       "         'fabbed': 2,\n",
       "         'meaning': 32,\n",
       "         'minimum': 25,\n",
       "         'slight': 27,\n",
       "         'transistor_density': 7,\n",
       "         'tsmc_n7': 11,\n",
       "         '500': 438,\n",
       "         'mm': 13,\n",
       "         'die': 99,\n",
       "         'easily': 68,\n",
       "         'exceed': 8,\n",
       "         'transistor_count': 8,\n",
       "         'ga102': 10,\n",
       "         'zen': 161,\n",
       "         'honest': 47,\n",
       "         '3090': 950,\n",
       "         'bet': 76,\n",
       "         'phenomenal': 3,\n",
       "         'day': 346,\n",
       "         'intend': 7,\n",
       "         'announce': 40,\n",
       "         'week': 184,\n",
       "         'time': 827,\n",
       "         'presentation': 92,\n",
       "         'dl': 1490,\n",
       "         'v': 335,\n",
       "         'damn': 96,\n",
       "         'slide': 103,\n",
       "         'rasterization': 93,\n",
       "         'bee': 1,\n",
       "         'seen': 164,\n",
       "         'freaking': 22,\n",
       "         'pr': 3,\n",
       "         'hype': 53,\n",
       "         'fluff': 3,\n",
       "         'review': 304,\n",
       "         'depends': 101,\n",
       "         'set': 116,\n",
       "         'knew': 36,\n",
       "         'reason': 276,\n",
       "         'holding': 25,\n",
       "         'giving': 45,\n",
       "         'wife': 19,\n",
       "         'raytracing': 345,\n",
       "         'man': 108,\n",
       "         'instantly': 10,\n",
       "         'lose': 49,\n",
       "         'high_end': 194,\n",
       "         'market': 277,\n",
       "         'go': 74,\n",
       "         'powerful': 72,\n",
       "         'felt': 16,\n",
       "         'push': 99,\n",
       "         'hard': 145,\n",
       "         'navi2': 1,\n",
       "         'expect': 168,\n",
       "         'end': 348,\n",
       "         '0': 283,\n",
       "         'vram': 643,\n",
       "         '16gb': 218,\n",
       "         'vrs': 4,\n",
       "         'ri': 11,\n",
       "         'instead': 167,\n",
       "         '599': 21,\n",
       "         '649': 61,\n",
       "         'calculation': 16,\n",
       "         '2x': 52,\n",
       "         'aka': 19,\n",
       "         '57000xt': 1,\n",
       "         'general': 64,\n",
       "         'vega_56': 18,\n",
       "         'strong': 17,\n",
       "         'remember': 94,\n",
       "         'folk': 25,\n",
       "         'flagship': 63,\n",
       "         'replaced': 9,\n",
       "         'including': 46,\n",
       "         'digital_foundry': 25,\n",
       "         'bench': 44,\n",
       "         'rtx2080': 4,\n",
       "         'founder_edition': 27,\n",
       "         'rtx3080': 20,\n",
       "         '25': 44,\n",
       "         'especially': 185,\n",
       "         'tag': 18,\n",
       "         'brought': 21,\n",
       "         'table': 14,\n",
       "         '35': 20,\n",
       "         'ground': 14,\n",
       "         'additional': 37,\n",
       "         'clock_speed': 24,\n",
       "         'bandwidth': 65,\n",
       "         '7na': 1,\n",
       "         'mention': 113,\n",
       "         'handle': 53,\n",
       "         'rumor': 56,\n",
       "         'laden': 1,\n",
       "         'paper': 28,\n",
       "         'promise': 22,\n",
       "         'achievable': 3,\n",
       "         'awesome': 61,\n",
       "         'cringe': 7,\n",
       "         'hey': 27,\n",
       "         'buddy': 29,\n",
       "         'tell': 144,\n",
       "         'entire': 51,\n",
       "         'buyer': 61,\n",
       "         '1400': 11,\n",
       "         'component': 46,\n",
       "         'spent': 24,\n",
       "         'reddit': 34,\n",
       "         'pcmr': 1,\n",
       "         'buildapc': 1,\n",
       "         'sorry': 90,\n",
       "         'kill': 42,\n",
       "         'generally': 46,\n",
       "         'build': 145,\n",
       "         'gtx': 43,\n",
       "         '1060': 30,\n",
       "         'paid': 68,\n",
       "         '2016': 14,\n",
       "         '17': 18,\n",
       "         'advancement': 4,\n",
       "         '20': 198,\n",
       "         'rtx2080ti': 5,\n",
       "         'titan': 139,\n",
       "         'eqv': 1,\n",
       "         'comparing': 68,\n",
       "         'generates': 3,\n",
       "         'heat': 20,\n",
       "         'stupid': 60,\n",
       "         'absolute': 47,\n",
       "         'metric': 20,\n",
       "         'gave': 39,\n",
       "         'plenty': 55,\n",
       "         'act': 12,\n",
       "         'given': 107,\n",
       "         'poor': 47,\n",
       "         'forward': 41,\n",
       "         'chance': 101,\n",
       "         'get': 118,\n",
       "         'jensen': 26,\n",
       "         'releasing': 40,\n",
       "         'concerned': 25,\n",
       "         'bringing': 18,\n",
       "         '8k': 72,\n",
       "         '60fps': 59,\n",
       "         'unreal': 6,\n",
       "         'obsolete': 9,\n",
       "         'ole': 1,\n",
       "         'trolling': 13,\n",
       "         'begun': 2,\n",
       "         'nervous': 2,\n",
       "         'hit': 139,\n",
       "         'wont': 53,\n",
       "         'imo': 103,\n",
       "         'smell': 4,\n",
       "         '1500': 57,\n",
       "         'cuda_core': 36,\n",
       "         'pulling': 17,\n",
       "         'sneaky': 3,\n",
       "         'super': 201,\n",
       "         'speculated': 3,\n",
       "         'upset': 8,\n",
       "         'curious': 68,\n",
       "         'architecture': 85,\n",
       "         'form': 20,\n",
       "         'opinion': 62,\n",
       "         'pre_order': 54,\n",
       "         'date': 60,\n",
       "         'honesty': 5,\n",
       "         'event': 35,\n",
       "         'totally': 68,\n",
       "         'simply': 104,\n",
       "         'expertise': 5,\n",
       "         'raw': 66,\n",
       "         'stronger': 12,\n",
       "         'fair': 131,\n",
       "         'kind': 123,\n",
       "         'hoped': 11,\n",
       "         'needed': 71,\n",
       "         'xfx': 16,\n",
       "         'rx': 280,\n",
       "         '5700': 54,\n",
       "         'finger': 12,\n",
       "         'division': 8,\n",
       "         'soc': 3,\n",
       "         'supplier': 9,\n",
       "         'pleasantly': 2,\n",
       "         'surprised': 62,\n",
       "         'providing': 11,\n",
       "         'pricepoint': 7,\n",
       "         'onus': 1,\n",
       "         'prove': 7,\n",
       "         '9': 79,\n",
       "         'loose': 8,\n",
       "         'win': 150,\n",
       "         'agree': 148,\n",
       "         'exclusive': 42,\n",
       "         'technology': 111,\n",
       "         'showed': 141,\n",
       "         'superb': 1,\n",
       "         'care': 264,\n",
       "         'afford': 55,\n",
       "         'gimme': 5,\n",
       "         '450': 35,\n",
       "         'smth': 5,\n",
       "         'considering': 168,\n",
       "         'rayttracing': 1,\n",
       "         'implementation': 95,\n",
       "         '2nd': 16,\n",
       "         'gen': 321,\n",
       "         'possible': 122,\n",
       "         'word': 64,\n",
       "         'watched': 20,\n",
       "         'beautiful': 7,\n",
       "         'whoosh': 1,\n",
       "         'life': 64,\n",
       "         'triple': 17,\n",
       "         'boot': 16,\n",
       "         'linux': 125,\n",
       "         'mac': 14,\n",
       "         'issue': 441,\n",
       "         'write': 18,\n",
       "         'took': 68,\n",
       "         'intel': 338,\n",
       "         'cleaner': 2,\n",
       "         'past': 87,\n",
       "         'faith': 9,\n",
       "         'close': 189,\n",
       "         'best': 371,\n",
       "         'team': 52,\n",
       "         '4700': 1,\n",
       "         'hot': 35,\n",
       "         'setup': 39,\n",
       "         'idgaf': 2,\n",
       "         'graphic': 198,\n",
       "         'provides': 18,\n",
       "         'pulled': 16,\n",
       "         'astonishing': 3,\n",
       "         'famboy': 1,\n",
       "         'crazy': 65,\n",
       "         'stop': 75,\n",
       "         'simping': 1,\n",
       "         'private': 5,\n",
       "         'reasonable': 61,\n",
       "         'certainly': 49,\n",
       "         'played': 34,\n",
       "         'role': 9,\n",
       "         'carried': 6,\n",
       "         'ps5': 109,\n",
       "         'openly': 2,\n",
       "         'stock': 590,\n",
       "         'test': 58,\n",
       "         'number': 286,\n",
       "         'face': 21,\n",
       "         'interested': 70,\n",
       "         'love': 92,\n",
       "         'unlike': 22,\n",
       "         'walt': 1,\n",
       "         'gonna': 253,\n",
       "         'world': 59,\n",
       "         'actual': 107,\n",
       "         'nice': 162,\n",
       "         'definitely': 218,\n",
       "         'ironically': 2,\n",
       "         'war': 34,\n",
       "         'minded': 5,\n",
       "         'builder': 7,\n",
       "         'king': 26,\n",
       "         'personally': 93,\n",
       "         'flop': 10,\n",
       "         'incredible': 12,\n",
       "         'value': 255,\n",
       "         'resource': 21,\n",
       "         'fight': 23,\n",
       "         'higher': 311,\n",
       "         'consumer': 137,\n",
       "         'terrified': 2,\n",
       "         'fastest': 17,\n",
       "         'play': 285,\n",
       "         '1440p': 351,\n",
       "         'solid': 60,\n",
       "         'option': 160,\n",
       "         'presented': 9,\n",
       "         'type': 65,\n",
       "         'misleading': 16,\n",
       "         'term': 117,\n",
       "         'non': 151,\n",
       "         'channel': 24,\n",
       "         'hesitate': 2,\n",
       "         'outright': 14,\n",
       "         'lost': 30,\n",
       "         'run': 283,\n",
       "         'redline': 2,\n",
       "         'reliability': 7,\n",
       "         'longstanding': 1,\n",
       "         'history': 25,\n",
       "         '5700_xt': 87,\n",
       "         'matching': 25,\n",
       "         '2070_super': 43,\n",
       "         'treat': 4,\n",
       "         'grinding': 1,\n",
       "         'corpse': 1,\n",
       "         'recently': 35,\n",
       "         'bomb': 3,\n",
       "         'industry': 39,\n",
       "         'competetive': 3,\n",
       "         'dang': 11,\n",
       "         'fanboys': 31,\n",
       "         'grim': 8,\n",
       "         '2015': 7,\n",
       "         'pointed': 6,\n",
       "         'sign': 30,\n",
       "         'expects': 1,\n",
       "         'rtg': 4,\n",
       "         'kopite7kimi': 1,\n",
       "         'tweet': 8,\n",
       "         'suggests': 8,\n",
       "         'department': 19,\n",
       "         'genuinely': 20,\n",
       "         'hyped': 19,\n",
       "         'derail': 1,\n",
       "         'board': 126,\n",
       "         'taken': 22,\n",
       "         'flak': 1,\n",
       "         'quality': 106,\n",
       "         'riding': 2,\n",
       "         'shoulder': 2,\n",
       "         'deliver': 39,\n",
       "         'mind': 104,\n",
       "         'share': 40,\n",
       "         'market_share': 34,\n",
       "         'missing': 46,\n",
       "         'related': 15,\n",
       "         'original': 41,\n",
       "         'phenom': 4,\n",
       "         'hell': 74,\n",
       "         'impressed': 23,\n",
       "         'sad': 39,\n",
       "         'hold': 89,\n",
       "         'weaker': 9,\n",
       "         'buying': 228,\n",
       "         'optimistic': 14,\n",
       "         'availability': 115,\n",
       "         'paper_launch': 42,\n",
       "         'real_world': 34,\n",
       "         'unknown': 19,\n",
       "         'impressive': 52,\n",
       "         'draw': 35,\n",
       "         'conclusion': 20,\n",
       "         'turn': 94,\n",
       "         'advertised': 13,\n",
       "         'exact': 44,\n",
       "         'livestream': 2,\n",
       "         'typing': 3,\n",
       "         'rip': 66,\n",
       "         'missile': 1,\n",
       "         'targeting': 11,\n",
       "         'facility': 1,\n",
       "         '1111': 1,\n",
       "         'sweetspot': 2,\n",
       "         '580': 73,\n",
       "         'yes': 358,\n",
       "         'pray': 5,\n",
       "         'content': 24,\n",
       "         'reality': 27,\n",
       "         'live': 76,\n",
       "         'mid': 74,\n",
       "         'stuff': 149,\n",
       "         '10x': 5,\n",
       "         '580s': 2,\n",
       "         'victory': 8,\n",
       "         'clearly': 69,\n",
       "         'scream': 1,\n",
       "         'desperate': 5,\n",
       "         'put': 24,\n",
       "         'try': 160,\n",
       "         'nvidea': 8,\n",
       "         'consistently': 18,\n",
       "         'milked': 3,\n",
       "         'customer': 74,\n",
       "         'mid_range': 80,\n",
       "         'smaller': 62,\n",
       "         'chip': 164,\n",
       "         'charging': 12,\n",
       "         '15': 171,\n",
       "         '1080': 74,\n",
       "         '16': 55,\n",
       "         'literally': 197,\n",
       "         'enter': 9,\n",
       "         'space': 62,\n",
       "         'highest': 29,\n",
       "         'latest': 41,\n",
       "         '251mm': 2,\n",
       "         'usually': 87,\n",
       "         'flexing': 1,\n",
       "         'dominant': 4,\n",
       "         'announces': 6,\n",
       "         '27': 8,\n",
       "         'pound': 4,\n",
       "         'slot': 35,\n",
       "         'unprecedented': 4,\n",
       "         'connector': 9,\n",
       "         'fiji': 3,\n",
       "         'pro': 41,\n",
       "         'duo': 1,\n",
       "         'halo': 11,\n",
       "         'nvidias': 62,\n",
       "         'behavior': 7,\n",
       "         'increasing': 14,\n",
       "         'gap': 78,\n",
       "         'decreasing': 4,\n",
       "         'cap': 15,\n",
       "         'silly': 22,\n",
       "         'sheer': 5,\n",
       "         'stupidity': 5,\n",
       "         'disruptive': 6,\n",
       "         '4k': 567,\n",
       "         '56': 3,\n",
       "         'cu': 97,\n",
       "         '8ghz': 1,\n",
       "         'hitting': 14,\n",
       "         '2080s': 20,\n",
       "         'fully': 62,\n",
       "         'unleashed': 1,\n",
       "         '70': 88,\n",
       "         '2ghz': 5,\n",
       "         'dedicated': 49,\n",
       "         'fast': 62,\n",
       "         'gddr6': 66,\n",
       "         '6x': 8,\n",
       "         'efficient': 53,\n",
       "         'severely': 7,\n",
       "         'feature': 579,\n",
       "         'decade': 35,\n",
       "         'awful': 12,\n",
       "         'compared': 197,\n",
       "         'yea': 83,\n",
       "         'check': 90,\n",
       "         'mate': 25,\n",
       "         'unfortunately': 64,\n",
       "         'sleeve': 11,\n",
       "         'premium': 49,\n",
       "         'pay': 208,\n",
       "         'packing': 4,\n",
       "         'constant': 5,\n",
       "         'innovation': 12,\n",
       "         'trust': 37,\n",
       "         'ehm': 1,\n",
       "         '320w': 12,\n",
       "         'doubled': 14,\n",
       "         '335w': 1,\n",
       "         'roughly': 54,\n",
       "         'add': 89,\n",
       "         'architectural': 8,\n",
       "         'position': 29,\n",
       "         'basically': 186,\n",
       "         'performing': 30,\n",
       "         'perform': 68,\n",
       "         'aroung': 1,\n",
       "         '2070super': 5,\n",
       "         'difference': 343,\n",
       "         'reflex': 10,\n",
       "         'compare': 100,\n",
       "         'custom': 49,\n",
       "         'ssd': 33,\n",
       "         'sony': 23,\n",
       "         'pcie_4': 26,\n",
       "         'specialized': 6,\n",
       "         'method': 19,\n",
       "         'moving': 27,\n",
       "         'asset': 13,\n",
       "         'similar': 219,\n",
       "         'independent': 42,\n",
       "         'benchmarking': 7,\n",
       "         'confirm': 33,\n",
       "         'investment': 11,\n",
       "         'magic': 15,\n",
       "         'baked': 9,\n",
       "         'sony_microsoft': 13,\n",
       "         'launching': 18,\n",
       "         'imagine': 92,\n",
       "         'sub': 73,\n",
       "         'lowering': 12,\n",
       "         'node': 85,\n",
       "         'expensive': 218,\n",
       "         'featureset': 5,\n",
       "         'aither': 1,\n",
       "         'talking': 180,\n",
       "         'defeating': 1,\n",
       "         'secure': 7,\n",
       "         'low': 154,\n",
       "         'leaf': 9,\n",
       "         'hole': 4,\n",
       "         'unhappy': 1,\n",
       "         'guess': 287,\n",
       "         'ask': 73,\n",
       "         'stay': 49,\n",
       "         'holiday_season': 7,\n",
       "         'energy': 9,\n",
       "         'laptop': 35,\n",
       "         'relatively': 38,\n",
       "         '10': 314,\n",
       "         '8': 187,\n",
       "         'gb': 48,\n",
       "         'memory': 429,\n",
       "         'respectively': 8,\n",
       "         '12gb': 27,\n",
       "         'hbm': 2,\n",
       "         'land': 14,\n",
       "         'g6x': 11,\n",
       "         'acting': 15,\n",
       "         'doomers': 1,\n",
       "         'wah': 1,\n",
       "         'stfu': 4,\n",
       "         'reveal': 24,\n",
       "         'kinda': 111,\n",
       "         'cool': 64,\n",
       "         'use': 514,\n",
       "         'video': 228,\n",
       "         'alpha': 3,\n",
       "         'minecraft': 38,\n",
       "         'stated': 38,\n",
       "         'meme': 21,\n",
       "         'picture': 28,\n",
       "         'removed': 9,\n",
       "         'lame': 6,\n",
       "         'duck': 2,\n",
       "         'shown': 87,\n",
       "         'equal': 76,\n",
       "         'graph': 78,\n",
       "         'voice': 7,\n",
       "         'slightly': 169,\n",
       "         '1200': 35,\n",
       "         'huge': 161,\n",
       "         'typical': 10,\n",
       "         'thing': 218,\n",
       "         'prof': 4,\n",
       "         'information': 66,\n",
       "         'assuming': 84,\n",
       "         'bring': 59,\n",
       "         'combatant': 1,\n",
       "         '600': 88,\n",
       "         'breaking': 5,\n",
       "         'lisa_su': 14,\n",
       "         'saying': 240,\n",
       "         'disrupt': 4,\n",
       "         'disrupted': 1,\n",
       "         'desktop': 31,\n",
       "         '1800x': 2,\n",
       "         '1000': 93,\n",
       "         'preemptively': 1,\n",
       "         'shoot': 9,\n",
       "         'dollar': 159,\n",
       "         'blow': 36,\n",
       "         'doubting': 3,\n",
       "         'lisa': 25,\n",
       "         'sue': 5,\n",
       "         'bae': 3,\n",
       "         'surely': 20,\n",
       "         'showing': 58,\n",
       "         'remain': 10,\n",
       "         'high': 259,\n",
       "         'continous': 1,\n",
       "         'hiking': 1,\n",
       "         'surprise': 18,\n",
       "         'small': 81,\n",
       "         'dy': 28,\n",
       "         'undercutting': 8,\n",
       "         'atleast': 21,\n",
       "         'till': 53,\n",
       "         'hd4850': 1,\n",
       "         'gtx260': 1,\n",
       "         '280': 8,\n",
       "         'ive': 10,\n",
       "         'planning': 60,\n",
       "         'switch': 65,\n",
       "         'nail': 5,\n",
       "         'coffin': 2,\n",
       "         'trashfire': 1,\n",
       "         '3080s': 32,\n",
       "         'wdym': 3,\n",
       "         'shat': 2,\n",
       "         'counterpart': 19,\n",
       "         'bracket': 17,\n",
       "         'betting': 11,\n",
       "         'prowess': 5,\n",
       "         'integrated': 13,\n",
       "         'argument': 68,\n",
       "         'doom': 5,\n",
       "         'sayers': 2,\n",
       "         'forgetting': 11,\n",
       "         'xboxsx': 3,\n",
       "         'tflops': 27,\n",
       "         'microsoft': 62,\n",
       "         'power_draw': 34,\n",
       "         'previous': 53,\n",
       "         'max': 82,\n",
       "         '170': 4,\n",
       "         'ram': 185,\n",
       "         'drive': 38,\n",
       "         '220': 5,\n",
       "         'wattage': 19,\n",
       "         'incomparable': 1,\n",
       "         'break': 28,\n",
       "         'abit': 4,\n",
       "         'storage': 9,\n",
       "         'take': 38,\n",
       "         'significant': 48,\n",
       "         'portion': 16,\n",
       "         'perf': 120,\n",
       "         'insider': 6,\n",
       "         'explain': 45,\n",
       "         'increased': 29,\n",
       "         'envelope': 5,\n",
       "         'omg': 12,\n",
       "         'downvote': 5,\n",
       "         'drinking': 3,\n",
       "         'green': 31,\n",
       "         'kool': 3,\n",
       "         'aid': 4,\n",
       "         'admit': 21,\n",
       "         'owned': 27,\n",
       "         'mighty': 3,\n",
       "         'delicious': 1,\n",
       "         'owning': 6,\n",
       "         'outside': 45,\n",
       "         'twice': 57,\n",
       "         'xsx': 30,\n",
       "         '58tf': 1,\n",
       "         'idea': 122,\n",
       "         'tensor_core': 64,\n",
       "         'boost': 120,\n",
       "         'decent': 104,\n",
       "         'certain': 49,\n",
       "         'restriction': 4,\n",
       "         'unlikely': 30,\n",
       "         'equivalent': 106,\n",
       "         ...})"
      ]
     },
     "execution_count": 51,
     "metadata": {},
     "output_type": "execute_result"
    }
   ],
   "source": [
    "data_flat = [word for word_lst in data_bigrams for word in word_lst] # Creates a list of words \n",
    "counter = Counter(data_flat) # Counts the frequency of the tokens and stores in a dictionary\n",
    "counter"
   ]
  },
  {
   "cell_type": "code",
   "execution_count": 52,
   "metadata": {
    "ExecuteTime": {
     "end_time": "2021-01-26T02:28:53.384881Z",
     "start_time": "2021-01-26T02:28:53.353853Z"
    },
    "scrolled": true
   },
   "outputs": [
    {
     "data": {
      "text/html": [
       "<div>\n",
       "<style scoped>\n",
       "    .dataframe tbody tr th:only-of-type {\n",
       "        vertical-align: middle;\n",
       "    }\n",
       "\n",
       "    .dataframe tbody tr th {\n",
       "        vertical-align: top;\n",
       "    }\n",
       "\n",
       "    .dataframe thead th {\n",
       "        text-align: right;\n",
       "    }\n",
       "</style>\n",
       "<table border=\"1\" class=\"dataframe\">\n",
       "  <thead>\n",
       "    <tr style=\"text-align: right;\">\n",
       "      <th></th>\n",
       "      <th>word</th>\n",
       "      <th>topic_id</th>\n",
       "      <th>importance</th>\n",
       "      <th>word_count</th>\n",
       "    </tr>\n",
       "  </thead>\n",
       "  <tbody>\n",
       "    <tr>\n",
       "      <th>0</th>\n",
       "      <td>gpu</td>\n",
       "      <td>0</td>\n",
       "      <td>0.052875</td>\n",
       "      <td>1063</td>\n",
       "    </tr>\n",
       "    <tr>\n",
       "      <th>1</th>\n",
       "      <td>cpu</td>\n",
       "      <td>0</td>\n",
       "      <td>0.036212</td>\n",
       "      <td>728</td>\n",
       "    </tr>\n",
       "    <tr>\n",
       "      <th>2</th>\n",
       "      <td>vram</td>\n",
       "      <td>0</td>\n",
       "      <td>0.031984</td>\n",
       "      <td>643</td>\n",
       "    </tr>\n",
       "    <tr>\n",
       "      <th>3</th>\n",
       "      <td>lower</td>\n",
       "      <td>0</td>\n",
       "      <td>0.017608</td>\n",
       "      <td>355</td>\n",
       "    </tr>\n",
       "    <tr>\n",
       "      <th>4</th>\n",
       "      <td>end</td>\n",
       "      <td>0</td>\n",
       "      <td>0.017310</td>\n",
       "      <td>348</td>\n",
       "    </tr>\n",
       "  </tbody>\n",
       "</table>\n",
       "</div>"
      ],
      "text/plain": [
       "    word  topic_id  importance  word_count\n",
       "0    gpu         0    0.052875        1063\n",
       "1    cpu         0    0.036212         728\n",
       "2   vram         0    0.031984         643\n",
       "3  lower         0    0.017608         355\n",
       "4    end         0    0.017310         348"
      ]
     },
     "execution_count": 52,
     "metadata": {},
     "output_type": "execute_result"
    }
   ],
   "source": [
    "out = [[word, i , weight, counter[word]] for i, topic in topics for word, weight in topic]\n",
    "df = pd.DataFrame(out, columns=['word', 'topic_id', 'importance', 'word_count'])\n",
    "df.head()"
   ]
  },
  {
   "cell_type": "code",
   "execution_count": 53,
   "metadata": {
    "ExecuteTime": {
     "end_time": "2021-01-26T02:28:54.983334Z",
     "start_time": "2021-01-26T02:28:53.385882Z"
    }
   },
   "outputs": [
    {
     "data": {
      "image/png": "[encoded data removed]",
      "text/plain": [
       "<Figure size 1152x1008 with 12 Axes>"
      ]
     },
     "metadata": {},
     "output_type": "display_data"
    }
   ],
   "source": [
    "# Plot Word Count and Weights of Topic Keywords\n",
    "fig, axes = plt.subplots(3, 2, figsize=(16,14), sharey=True)\n",
    "cols = [color for name, color in mcolors.TABLEAU_COLORS.items()]\n",
    "\n",
    "for i, ax in enumerate(axes.flatten()):\n",
    "    ax.bar(x='word', height=\"importance\", data=df.loc[df.topic_id==i, :], color=cols[i], width=0.5, alpha=0.3, label='Weights')\n",
    "    ax_twin = ax.twinx()\n",
    "    ax_twin.bar(x='word', height=\"word_count\", data=df.loc[df.topic_id==i, :], color=cols[i], width=0.2, label='Word Count')\n",
    "    ax.set_ylabel('Weights', color=cols[i])\n",
    "    ax_twin.set_ylabel('Word Count', color=cols[i])\n",
    "    # Sets the ylimits for the axes\n",
    "    #ax_twin.set_ylim(0, 0.030)\n",
    "    #ax.set_ylim(0, 3500)\n",
    "    ax.set_title('Topic: ' + str(i), color=cols[i], fontsize=16)\n",
    "    ax.tick_params(axis='y', left=False)\n",
    "    ax.set_xticks(np.arange(10))\n",
    "    ax.set_xticklabels(df.loc[df.topic_id==i, 'word'].tolist(), rotation=30, horizontalalignment= 'right', fontsize=12)\n",
    "    ax_twin.legend(loc=[0.80,0.82])\n",
    "    ax.legend(loc=[0.80,0.90])\n",
    "    \n",
    "\n",
    "fig.tight_layout(w_pad=2)    \n",
    "fig.suptitle('Word Count and Importance of Topic Keywords', fontsize=22, y=1.05)\n",
    "plt.show()"
   ]
  },
  {
   "cell_type": "markdown",
   "metadata": {},
   "source": [
    "### Intrepreting the topic word frequency and their weights\n",
    "\n",
    "Topic 0:\n",
    "* Equally distributed weights\n",
    "* The frequency of the words have little correlation with the weights\n",
    "\n",
    "Topic 1:\n",
    "* Equally distributed weights\n",
    "* amd has the highest word frequency\n",
    "* gpu is more favoured to gpus\n",
    "\n",
    "Topic 2:\n",
    "* Performance has the highest frequency, but the weights are not that high\n",
    "* Gaming features: dlss has a higher weight and frequency compared to ray_tracing, which possibly means a more favoured feature among gamers.\n",
    "* Resolution: Surprisingly, 4k resolution has a higher frequency and weight compared to 1440p resolution, which is not so main stream yet. 1440p resolution is reaching mainstream crowd.\n",
    "\n",
    "Topic 3:\n",
    "* Relating to GPU purchase during the launch\n",
    "* card seems to appear often, possibly could include in the stopwords\n",
    "* lol, yeah seems to make little sense here, could add to stopwords\n",
    "\n",
    "Topic 4:\n",
    "* The GPU models have a relatively higher word count compared to their frequency\n",
    "* Nvidia's RTX 3070 and 3080 seems to be favoured over the other GPU models\n",
    "\n",
    "Topic 5:\n",
    "* Compared to the other topics, the weights are equal to or higher than their word count.\n",
    "* good and great share a similar meaning, could potentially add one of the to stopwords."
   ]
  },
  {
   "cell_type": "markdown",
   "metadata": {},
   "source": [
    "# Most discussed topics in the documents (Possibly remove)"
   ]
  },
  {
   "cell_type": "markdown",
   "metadata": {},
   "source": [
    "Note: It'll take **more than an hour** to run if all the documents are added."
   ]
  },
  {
   "cell_type": "code",
   "execution_count": 54,
   "metadata": {
    "ExecuteTime": {
     "end_time": "2021-01-26T02:28:54.999348Z",
     "start_time": "2021-01-26T02:28:54.983334Z"
    },
    "scrolled": true
   },
   "outputs": [],
   "source": [
    "# Sentence Coloring of N Sentences\n",
    "# def topics_per_document(model, corpus, start=0, end=1):\n",
    "#     corpus_sel = corpus[start:end] # Obtain a slice of nth documents\n",
    "#     dominant_topics = []\n",
    "#     topic_percentages = []\n",
    "#     for i, corp in enumerate(corpus_sel): # For each document\n",
    "#         doc = model[corp] # Gets the nth document\n",
    "#         dominant_topic, topic_percs = sorted(doc, key = lambda x: x[1], reverse=True)[0] # Gets the dominant topic and topic percentage by sorting the topic percentage prob in descending order\n",
    "#         dominant_topics.append((i, dominant_topic))\n",
    "#         topic_percentages.append(topic_percs)\n",
    "#     return(dominant_topics, topic_percentages)\n",
    "\n",
    "# dominant_topics, topic_percentages = topics_per_document(model=optimal_model, corpus=bigram_corpus, end=10)  "
   ]
  },
  {
   "cell_type": "code",
   "execution_count": 55,
   "metadata": {
    "ExecuteTime": {
     "end_time": "2021-01-26T02:28:55.015363Z",
     "start_time": "2021-01-26T02:28:55.000349Z"
    }
   },
   "outputs": [],
   "source": [
    "# Distribution of Dominant Topics in Each Document\n",
    "# df = pd.DataFrame(dominant_topics, columns=['Document_Id', 'Dominant_Topic'])\n",
    "# dominant_topic_in_each_doc = df.groupby('Dominant_Topic').size()\n",
    "# df_dominant_topic_in_each_doc = dominant_topic_in_each_doc.to_frame(name='count').reset_index()\n",
    "\n",
    "# Total Topic Distribution by actual weight\n",
    "# topic_weightage_by_doc = pd.DataFrame([{t} for t in topic_percentages])\n",
    "# df_topic_weightage_by_doc = topic_weightage_by_doc.sum().to_frame(name='count').reset_index()\n",
    "\n",
    "# Top 3 Keywords for each Topic\n",
    "# topic_top3words = [(i, topic) for i, topics in optimal_model.show_topics(formatted=False) \n",
    "#                                  for j, (topic, wt) in enumerate(topics) if j < 3]\n",
    "\n",
    "# df_top3words_stacked = pd.DataFrame(topic_top3words, columns=['topic_id', 'words'])\n",
    "# df_top3words = df_top3words_stacked.groupby('topic_id').agg(', '.join)\n",
    "# df_top3words.reset_index(level=0,inplace=True)"
   ]
  },
  {
   "cell_type": "code",
   "execution_count": 56,
   "metadata": {
    "ExecuteTime": {
     "end_time": "2021-01-26T02:28:55.031367Z",
     "start_time": "2021-01-26T02:28:55.016364Z"
    }
   },
   "outputs": [],
   "source": [
    "# df_top3words"
   ]
  },
  {
   "cell_type": "code",
   "execution_count": 57,
   "metadata": {
    "ExecuteTime": {
     "end_time": "2021-01-26T02:28:55.046877Z",
     "start_time": "2021-01-26T02:28:55.032368Z"
    }
   },
   "outputs": [],
   "source": [
    "# from matplotlib.ticker import FuncFormatter\n",
    "\n",
    "# # Plot\n",
    "# fig, (ax1, ax2) = plt.subplots(1, 2, figsize=(10, 4), dpi=120, sharey=True)\n",
    "\n",
    "# # Topic Distribution by Dominant Topics\n",
    "# ax1.bar(x='Dominant_Topic', height='count', data=df_dominant_topic_in_each_doc, width=.5, color='firebrick')\n",
    "# ax1.set_xticks(range(df_dominant_topic_in_each_doc.Dominant_Topic.unique().__len__()))\n",
    "# tick_formatter = FuncFormatter(lambda x, pos: 'Topic ' + str(x)+ '\\n' + df_top3words.loc[df_top3words.topic_id==x, 'words'].values[0])\n",
    "# ax1.xaxis.set_major_formatter(tick_formatter)\n",
    "# ax1.set_title('Number of Documents by Dominant Topic', fontdict=dict(size=10))\n",
    "# ax1.set_ylabel('Number of Documents')\n",
    "# ax1.set_ylim(0, 1000)\n",
    "\n",
    "# # Topic Distribution by Topic Weights\n",
    "# ax2.bar(x='index', height='count', data=df_topic_weightage_by_doc, width=.5, color='steelblue')\n",
    "# ax2.set_xticks(range(df_topic_weightage_by_doc.index.unique().__len__()))\n",
    "# ax2.xaxis.set_major_formatter(tick_formatter)\n",
    "# ax2.set_title('Number of Documents by Topic Weightage', fontdict=dict(size=10))\n",
    "\n",
    "# plt.show()"
   ]
  },
  {
   "cell_type": "markdown",
   "metadata": {},
   "source": [
    "# t-SNE Clustering Chart"
   ]
  },
  {
   "cell_type": "code",
   "execution_count": 59,
   "metadata": {
    "ExecuteTime": {
     "end_time": "2021-01-26T02:30:08.997904Z",
     "start_time": "2021-01-26T02:30:05.358410Z"
    }
   },
   "outputs": [
    {
     "name": "stdout",
     "output_type": "stream",
     "text": [
      "[t-SNE] Computing 73 nearest neighbors...\n",
      "[t-SNE] Indexed 74 samples in 0.000s...\n",
      "[t-SNE] Computed neighbors for 74 samples in 0.001s...\n",
      "[t-SNE] Computed conditional probabilities for sample 74 / 74\n",
      "[t-SNE] Mean sigma: 0.255122\n",
      "[t-SNE] KL divergence after 250 iterations with early exaggeration: 52.897312\n",
      "[t-SNE] KL divergence after 1000 iterations: 0.229635\n"
     ]
    },
    {
     "data": {
      "text/html": [
       "\n",
       "    <div class=\"bk-root\">\n",
       "        <a href=\"https://bokeh.org\" target=\"_blank\" class=\"bk-logo bk-logo-small bk-logo-notebook\"></a>\n",
       "        <span id=\"1035\">Loading BokehJS ...</span>\n",
       "    </div>"
      ]
     },
     "metadata": {},
     "output_type": "display_data"
    },
    {
     "data": {
      "application/javascript": [
       "\n",
       "(function(root) {\n",
       "  function now() {\n",
       "    return new Date();\n",
       "  }\n",
       "\n",
       "  var force = true;\n",
       "\n",
       "  if (typeof root._bokeh_onload_callbacks === \"undefined\" || force === true) {\n",
       "    root._bokeh_onload_callbacks = [];\n",
       "    root._bokeh_is_loading = undefined;\n",
       "  }\n",
       "\n",
       "  var JS_MIME_TYPE = 'application/javascript';\n",
       "  var HTML_MIME_TYPE = 'text/html';\n",
       "  var EXEC_MIME_TYPE = 'application/vnd.bokehjs_exec.v0+json';\n",
       "  var CLASS_NAME = 'output_bokeh rendered_html';\n",
       "\n",
       "  /**\n",
       "   * Render data to the DOM node\n",
       "   */\n",
       "  function render(props, node) {\n",
       "    var script = document.createElement(\"script\");\n",
       "    node.appendChild(script);\n",
       "  }\n",
       "\n",
       "  /**\n",
       "   * Handle when an output is cleared or removed\n",
       "   */\n",
       "  function handleClearOutput(event, handle) {\n",
       "    var cell = handle.cell;\n",
       "\n",
       "    var id = cell.output_area._bokeh_element_id;\n",
       "    var server_id = cell.output_area._bokeh_server_id;\n",
       "    // Clean up Bokeh references\n",
       "    if (id != null && id in Bokeh.index) {\n",
       "      Bokeh.index[id].model.document.clear();\n",
       "      delete Bokeh.index[id];\n",
       "    }\n",
       "\n",
       "    if (server_id !== undefined) {\n",
       "      // Clean up Bokeh references\n",
       "      var cmd = \"from bokeh.io.state import curstate; print(curstate().uuid_to_server['\" + server_id + \"'].get_sessions()[0].document.roots[0]._id)\";\n",
       "      cell.notebook.kernel.execute(cmd, {\n",
       "        iopub: {\n",
       "          output: function(msg) {\n",
       "            var id = msg.content.text.trim();\n",
       "            if (id in Bokeh.index) {\n",
       "              Bokeh.index[id].model.document.clear();\n",
       "              delete Bokeh.index[id];\n",
       "            }\n",
       "          }\n",
       "        }\n",
       "      });\n",
       "      // Destroy server and session\n",
       "      var cmd = \"import bokeh.io.notebook as ion; ion.destroy_server('\" + server_id + \"')\";\n",
       "      cell.notebook.kernel.execute(cmd);\n",
       "    }\n",
       "  }\n",
       "\n",
       "  /**\n",
       "   * Handle when a new output is added\n",
       "   */\n",
       "  function handleAddOutput(event, handle) {\n",
       "    var output_area = handle.output_area;\n",
       "    var output = handle.output;\n",
       "\n",
       "    // limit handleAddOutput to display_data with EXEC_MIME_TYPE content only\n",
       "    if ((output.output_type != \"display_data\") || (!output.data.hasOwnProperty(EXEC_MIME_TYPE))) {\n",
       "      return\n",
       "    }\n",
       "\n",
       "    var toinsert = output_area.element.find(\".\" + CLASS_NAME.split(' ')[0]);\n",
       "\n",
       "    if (output.metadata[EXEC_MIME_TYPE][\"id\"] !== undefined) {\n",
       "      toinsert[toinsert.length - 1].firstChild.textContent = output.data[JS_MIME_TYPE];\n",
       "      // store reference to embed id on output_area\n",
       "      output_area._bokeh_element_id = output.metadata[EXEC_MIME_TYPE][\"id\"];\n",
       "    }\n",
       "    if (output.metadata[EXEC_MIME_TYPE][\"server_id\"] !== undefined) {\n",
       "      var bk_div = document.createElement(\"div\");\n",
       "      bk_div.innerHTML = output.data[HTML_MIME_TYPE];\n",
       "      var script_attrs = bk_div.children[0].attributes;\n",
       "      for (var i = 0; i < script_attrs.length; i++) {\n",
       "        toinsert[toinsert.length - 1].firstChild.setAttribute(script_attrs[i].name, script_attrs[i].value);\n",
       "        toinsert[toinsert.length - 1].firstChild.textContent = bk_div.children[0].textContent\n",
       "      }\n",
       "      // store reference to server id on output_area\n",
       "      output_area._bokeh_server_id = output.metadata[EXEC_MIME_TYPE][\"server_id\"];\n",
       "    }\n",
       "  }\n",
       "\n",
       "  function register_renderer(events, OutputArea) {\n",
       "\n",
       "    function append_mime(data, metadata, element) {\n",
       "      // create a DOM node to render to\n",
       "      var toinsert = this.create_output_subarea(\n",
       "        metadata,\n",
       "        CLASS_NAME,\n",
       "        EXEC_MIME_TYPE\n",
       "      );\n",
       "      this.keyboard_manager.register_events(toinsert);\n",
       "      // Render to node\n",
       "      var props = {data: data, metadata: metadata[EXEC_MIME_TYPE]};\n",
       "      render(props, toinsert[toinsert.length - 1]);\n",
       "      element.append(toinsert);\n",
       "      return toinsert\n",
       "    }\n",
       "\n",
       "    /* Handle when an output is cleared or removed */\n",
       "    events.on('clear_output.CodeCell', handleClearOutput);\n",
       "    events.on('delete.Cell', handleClearOutput);\n",
       "\n",
       "    /* Handle when a new output is added */\n",
       "    events.on('output_added.OutputArea', handleAddOutput);\n",
       "\n",
       "    /**\n",
       "     * Register the mime type and append_mime function with output_area\n",
       "     */\n",
       "    OutputArea.prototype.register_mime_type(EXEC_MIME_TYPE, append_mime, {\n",
       "      /* Is output safe? */\n",
       "      safe: true,\n",
       "      /* Index of renderer in `output_area.display_order` */\n",
       "      index: 0\n",
       "    });\n",
       "  }\n",
       "\n",
       "  // register the mime type if in Jupyter Notebook environment and previously unregistered\n",
       "  if (root.Jupyter !== undefined) {\n",
       "    var events = require('base/js/events');\n",
       "    var OutputArea = require('notebook/js/outputarea').OutputArea;\n",
       "\n",
       "    if (OutputArea.prototype.mime_types().indexOf(EXEC_MIME_TYPE) == -1) {\n",
       "      register_renderer(events, OutputArea);\n",
       "    }\n",
       "  }\n",
       "\n",
       "  \n",
       "  if (typeof (root._bokeh_timeout) === \"undefined\" || force === true) {\n",
       "    root._bokeh_timeout = Date.now() + 5000;\n",
       "    root._bokeh_failed_load = false;\n",
       "  }\n",
       "\n",
       "  var NB_LOAD_WARNING = {'data': {'text/html':\n",
       "     \"<div style='background-color: #fdd'>\\n\"+\n",
       "     \"<p>\\n\"+\n",
       "     \"BokehJS does not appear to have successfully loaded. If loading BokehJS from CDN, this \\n\"+\n",
       "     \"may be due to a slow or bad network connection. Possible fixes:\\n\"+\n",
       "     \"</p>\\n\"+\n",
       "     \"<ul>\\n\"+\n",
       "     \"<li>re-rerun `output_notebook()` to attempt to load from CDN again, or</li>\\n\"+\n",
       "     \"<li>use INLINE resources instead, as so:</li>\\n\"+\n",
       "     \"</ul>\\n\"+\n",
       "     \"<code>\\n\"+\n",
       "     \"from bokeh.resources import INLINE\\n\"+\n",
       "     \"output_notebook(resources=INLINE)\\n\"+\n",
       "     \"</code>\\n\"+\n",
       "     \"</div>\"}};\n",
       "\n",
       "  function display_loaded() {\n",
       "    var el = document.getElementById(\"1035\");\n",
       "    if (el != null) {\n",
       "      el.textContent = \"BokehJS is loading...\";\n",
       "    }\n",
       "    if (root.Bokeh !== undefined) {\n",
       "      if (el != null) {\n",
       "        el.textContent = \"BokehJS \" + root.Bokeh.version + \" successfully loaded.\";\n",
       "      }\n",
       "    } else if (Date.now() < root._bokeh_timeout) {\n",
       "      setTimeout(display_loaded, 100)\n",
       "    }\n",
       "  }\n",
       "\n",
       "\n",
       "  function run_callbacks() {\n",
       "    try {\n",
       "      root._bokeh_onload_callbacks.forEach(function(callback) {\n",
       "        if (callback != null)\n",
       "          callback();\n",
       "      });\n",
       "    } finally {\n",
       "      delete root._bokeh_onload_callbacks\n",
       "    }\n",
       "    console.debug(\"Bokeh: all callbacks have finished\");\n",
       "  }\n",
       "\n",
       "  function load_libs(css_urls, js_urls, callback) {\n",
       "    if (css_urls == null) css_urls = [];\n",
       "    if (js_urls == null) js_urls = [];\n",
       "\n",
       "    root._bokeh_onload_callbacks.push(callback);\n",
       "    if (root._bokeh_is_loading > 0) {\n",
       "      console.debug(\"Bokeh: BokehJS is being loaded, scheduling callback at\", now());\n",
       "      return null;\n",
       "    }\n",
       "    if (js_urls == null || js_urls.length === 0) {\n",
       "      run_callbacks();\n",
       "      return null;\n",
       "    }\n",
       "    console.debug(\"Bokeh: BokehJS not loaded, scheduling load and callback at\", now());\n",
       "    root._bokeh_is_loading = css_urls.length + js_urls.length;\n",
       "\n",
       "    function on_load() {\n",
       "      root._bokeh_is_loading--;\n",
       "      if (root._bokeh_is_loading === 0) {\n",
       "        console.debug(\"Bokeh: all BokehJS libraries/stylesheets loaded\");\n",
       "        run_callbacks()\n",
       "      }\n",
       "    }\n",
       "\n",
       "    function on_error() {\n",
       "      console.error(\"failed to load \" + url);\n",
       "    }\n",
       "\n",
       "    for (var i = 0; i < css_urls.length; i++) {\n",
       "      var url = css_urls[i];\n",
       "      const element = document.createElement(\"link\");\n",
       "      element.onload = on_load;\n",
       "      element.onerror = on_error;\n",
       "      element.rel = \"stylesheet\";\n",
       "      element.type = \"text/css\";\n",
       "      element.href = url;\n",
       "      console.debug(\"Bokeh: injecting link tag for BokehJS stylesheet: \", url);\n",
       "      document.body.appendChild(element);\n",
       "    }\n",
       "\n",
       "    const hashes = {\"https://cdn.bokeh.org/bokeh/release/bokeh-2.2.3.min.js\": \"T2yuo9Oe71Cz/I4X9Ac5+gpEa5a8PpJCDlqKYO0CfAuEszu1JrXLl8YugMqYe3sM\", \"https://cdn.bokeh.org/bokeh/release/bokeh-widgets-2.2.3.min.js\": \"98GDGJ0kOMCUMUePhksaQ/GYgB3+NH9h996V88sh3aOiUNX3N+fLXAtry6xctSZ6\", \"https://cdn.bokeh.org/bokeh/release/bokeh-tables-2.2.3.min.js\": \"89bArO+nlbP3sgakeHjCo1JYxYR5wufVgA3IbUvDY+K7w4zyxJqssu7wVnfeKCq8\"};\n",
       "\n",
       "    for (var i = 0; i < js_urls.length; i++) {\n",
       "      var url = js_urls[i];\n",
       "      var element = document.createElement('script');\n",
       "      element.onload = on_load;\n",
       "      element.onerror = on_error;\n",
       "      element.async = false;\n",
       "      element.src = url;\n",
       "      if (url in hashes) {\n",
       "        element.crossOrigin = \"anonymous\";\n",
       "        element.integrity = \"sha384-\" + hashes[url];\n",
       "      }\n",
       "      console.debug(\"Bokeh: injecting script tag for BokehJS library: \", url);\n",
       "      document.head.appendChild(element);\n",
       "    }\n",
       "  };\n",
       "\n",
       "  function inject_raw_css(css) {\n",
       "    const element = document.createElement(\"style\");\n",
       "    element.appendChild(document.createTextNode(css));\n",
       "    document.body.appendChild(element);\n",
       "  }\n",
       "\n",
       "  \n",
       "  var js_urls = [\"https://cdn.bokeh.org/bokeh/release/bokeh-2.2.3.min.js\", \"https://cdn.bokeh.org/bokeh/release/bokeh-widgets-2.2.3.min.js\", \"https://cdn.bokeh.org/bokeh/release/bokeh-tables-2.2.3.min.js\"];\n",
       "  var css_urls = [];\n",
       "  \n",
       "\n",
       "  var inline_js = [\n",
       "    function(Bokeh) {\n",
       "      Bokeh.set_log_level(\"info\");\n",
       "    },\n",
       "    function(Bokeh) {\n",
       "    \n",
       "    \n",
       "    }\n",
       "  ];\n",
       "\n",
       "  function run_inline_js() {\n",
       "    \n",
       "    if (root.Bokeh !== undefined || force === true) {\n",
       "      \n",
       "    for (var i = 0; i < inline_js.length; i++) {\n",
       "      inline_js[i].call(root, root.Bokeh);\n",
       "    }\n",
       "    if (force === true) {\n",
       "        display_loaded();\n",
       "      }} else if (Date.now() < root._bokeh_timeout) {\n",
       "      setTimeout(run_inline_js, 100);\n",
       "    } else if (!root._bokeh_failed_load) {\n",
       "      console.log(\"Bokeh: BokehJS failed to load within specified timeout.\");\n",
       "      root._bokeh_failed_load = true;\n",
       "    } else if (force !== true) {\n",
       "      var cell = $(document.getElementById(\"1035\")).parents('.cell').data().cell;\n",
       "      cell.output_area.append_execute_result(NB_LOAD_WARNING)\n",
       "    }\n",
       "\n",
       "  }\n",
       "\n",
       "  if (root._bokeh_is_loading === 0) {\n",
       "    console.debug(\"Bokeh: BokehJS loaded, going straight to plotting\");\n",
       "    run_inline_js();\n",
       "  } else {\n",
       "    load_libs(css_urls, js_urls, function() {\n",
       "      console.debug(\"Bokeh: BokehJS plotting callback run at\", now());\n",
       "      run_inline_js();\n",
       "    });\n",
       "  }\n",
       "}(window));"
      ],
      "application/vnd.bokehjs_load.v0+json": "\n(function(root) {\n  function now() {\n    return new Date();\n  }\n\n  var force = true;\n\n  if (typeof root._bokeh_onload_callbacks === \"undefined\" || force === true) {\n    root._bokeh_onload_callbacks = [];\n    root._bokeh_is_loading = undefined;\n  }\n\n  \n\n  \n  if (typeof (root._bokeh_timeout) === \"undefined\" || force === true) {\n    root._bokeh_timeout = Date.now() + 5000;\n    root._bokeh_failed_load = false;\n  }\n\n  var NB_LOAD_WARNING = {'data': {'text/html':\n     \"<div style='background-color: #fdd'>\\n\"+\n     \"<p>\\n\"+\n     \"BokehJS does not appear to have successfully loaded. If loading BokehJS from CDN, this \\n\"+\n     \"may be due to a slow or bad network connection. Possible fixes:\\n\"+\n     \"</p>\\n\"+\n     \"<ul>\\n\"+\n     \"<li>re-rerun `output_notebook()` to attempt to load from CDN again, or</li>\\n\"+\n     \"<li>use INLINE resources instead, as so:</li>\\n\"+\n     \"</ul>\\n\"+\n     \"<code>\\n\"+\n     \"from bokeh.resources import INLINE\\n\"+\n     \"output_notebook(resources=INLINE)\\n\"+\n     \"</code>\\n\"+\n     \"</div>\"}};\n\n  function display_loaded() {\n    var el = document.getElementById(\"1035\");\n    if (el != null) {\n      el.textContent = \"BokehJS is loading...\";\n    }\n    if (root.Bokeh !== undefined) {\n      if (el != null) {\n        el.textContent = \"BokehJS \" + root.Bokeh.version + \" successfully loaded.\";\n      }\n    } else if (Date.now() < root._bokeh_timeout) {\n      setTimeout(display_loaded, 100)\n    }\n  }\n\n\n  function run_callbacks() {\n    try {\n      root._bokeh_onload_callbacks.forEach(function(callback) {\n        if (callback != null)\n          callback();\n      });\n    } finally {\n      delete root._bokeh_onload_callbacks\n    }\n    console.debug(\"Bokeh: all callbacks have finished\");\n  }\n\n  function load_libs(css_urls, js_urls, callback) {\n    if (css_urls == null) css_urls = [];\n    if (js_urls == null) js_urls = [];\n\n    root._bokeh_onload_callbacks.push(callback);\n    if (root._bokeh_is_loading > 0) {\n      console.debug(\"Bokeh: BokehJS is being loaded, scheduling callback at\", now());\n      return null;\n    }\n    if (js_urls == null || js_urls.length === 0) {\n      run_callbacks();\n      return null;\n    }\n    console.debug(\"Bokeh: BokehJS not loaded, scheduling load and callback at\", now());\n    root._bokeh_is_loading = css_urls.length + js_urls.length;\n\n    function on_load() {\n      root._bokeh_is_loading--;\n      if (root._bokeh_is_loading === 0) {\n        console.debug(\"Bokeh: all BokehJS libraries/stylesheets loaded\");\n        run_callbacks()\n      }\n    }\n\n    function on_error() {\n      console.error(\"failed to load \" + url);\n    }\n\n    for (var i = 0; i < css_urls.length; i++) {\n      var url = css_urls[i];\n      const element = document.createElement(\"link\");\n      element.onload = on_load;\n      element.onerror = on_error;\n      element.rel = \"stylesheet\";\n      element.type = \"text/css\";\n      element.href = url;\n      console.debug(\"Bokeh: injecting link tag for BokehJS stylesheet: \", url);\n      document.body.appendChild(element);\n    }\n\n    const hashes = {\"https://cdn.bokeh.org/bokeh/release/bokeh-2.2.3.min.js\": \"T2yuo9Oe71Cz/I4X9Ac5+gpEa5a8PpJCDlqKYO0CfAuEszu1JrXLl8YugMqYe3sM\", \"https://cdn.bokeh.org/bokeh/release/bokeh-widgets-2.2.3.min.js\": \"98GDGJ0kOMCUMUePhksaQ/GYgB3+NH9h996V88sh3aOiUNX3N+fLXAtry6xctSZ6\", \"https://cdn.bokeh.org/bokeh/release/bokeh-tables-2.2.3.min.js\": \"89bArO+nlbP3sgakeHjCo1JYxYR5wufVgA3IbUvDY+K7w4zyxJqssu7wVnfeKCq8\"};\n\n    for (var i = 0; i < js_urls.length; i++) {\n      var url = js_urls[i];\n      var element = document.createElement('script');\n      element.onload = on_load;\n      element.onerror = on_error;\n      element.async = false;\n      element.src = url;\n      if (url in hashes) {\n        element.crossOrigin = \"anonymous\";\n        element.integrity = \"sha384-\" + hashes[url];\n      }\n      console.debug(\"Bokeh: injecting script tag for BokehJS library: \", url);\n      document.head.appendChild(element);\n    }\n  };\n\n  function inject_raw_css(css) {\n    const element = document.createElement(\"style\");\n    element.appendChild(document.createTextNode(css));\n    document.body.appendChild(element);\n  }\n\n  \n  var js_urls = [\"https://cdn.bokeh.org/bokeh/release/bokeh-2.2.3.min.js\", \"https://cdn.bokeh.org/bokeh/release/bokeh-widgets-2.2.3.min.js\", \"https://cdn.bokeh.org/bokeh/release/bokeh-tables-2.2.3.min.js\"];\n  var css_urls = [];\n  \n\n  var inline_js = [\n    function(Bokeh) {\n      Bokeh.set_log_level(\"info\");\n    },\n    function(Bokeh) {\n    \n    \n    }\n  ];\n\n  function run_inline_js() {\n    \n    if (root.Bokeh !== undefined || force === true) {\n      \n    for (var i = 0; i < inline_js.length; i++) {\n      inline_js[i].call(root, root.Bokeh);\n    }\n    if (force === true) {\n        display_loaded();\n      }} else if (Date.now() < root._bokeh_timeout) {\n      setTimeout(run_inline_js, 100);\n    } else if (!root._bokeh_failed_load) {\n      console.log(\"Bokeh: BokehJS failed to load within specified timeout.\");\n      root._bokeh_failed_load = true;\n    } else if (force !== true) {\n      var cell = $(document.getElementById(\"1035\")).parents('.cell').data().cell;\n      cell.output_area.append_execute_result(NB_LOAD_WARNING)\n    }\n\n  }\n\n  if (root._bokeh_is_loading === 0) {\n    console.debug(\"Bokeh: BokehJS loaded, going straight to plotting\");\n    run_inline_js();\n  } else {\n    load_libs(css_urls, js_urls, function() {\n      console.debug(\"Bokeh: BokehJS plotting callback run at\", now());\n      run_inline_js();\n    });\n  }\n}(window));"
     },
     "metadata": {},
     "output_type": "display_data"
    },
    {
     "data": {
      "text/html": [
       "\n",
       "\n",
       "\n",
       "\n",
       "\n",
       "\n",
       "  <div class=\"bk-root\" id=\"76ca7d9c-8719-4295-bece-fd7f309a5f31\" data-root-id=\"1036\"></div>\n"
      ]
     },
     "metadata": {},
     "output_type": "display_data"
    },
    {
     "data": {
      "application/javascript": [
       "(function(root) {\n",
       "  function embed_document(root) {\n",
       "    \n",
       "  var docs_json = {\"00e85fff-89b2-48f4-80d0-82b8f21ec6a6\":{\"roots\":{\"references\":[{\"attributes\":{\"below\":[{\"id\":\"1047\"}],\"center\":[{\"id\":\"1050\"},{\"id\":\"1054\"}],\"left\":[{\"id\":\"1051\"}],\"plot_height\":700,\"plot_width\":900,\"renderers\":[{\"id\":\"1073\"}],\"title\":{\"id\":\"1037\"},\"toolbar\":{\"id\":\"1062\"},\"x_range\":{\"id\":\"1039\"},\"x_scale\":{\"id\":\"1043\"},\"y_range\":{\"id\":\"1041\"},\"y_scale\":{\"id\":\"1045\"}},\"id\":\"1036\",\"subtype\":\"Figure\",\"type\":\"Plot\"},{\"attributes\":{\"fill_color\":{\"field\":\"color\"},\"line_color\":{\"field\":\"color\"},\"x\":{\"field\":\"x\"},\"y\":{\"field\":\"y\"}},\"id\":\"1071\",\"type\":\"Scatter\"},{\"attributes\":{},\"id\":\"1045\",\"type\":\"LinearScale\"},{\"attributes\":{},\"id\":\"1076\",\"type\":\"BasicTickFormatter\"},{\"attributes\":{},\"id\":\"1081\",\"type\":\"Selection\"},{\"attributes\":{\"formatter\":{\"id\":\"1078\"},\"ticker\":{\"id\":\"1048\"}},\"id\":\"1047\",\"type\":\"LinearAxis\"},{\"attributes\":{\"data\":{\"color\":[\"#e377c2\",\"#ff7f0e\",\"#d62728\",\"#2ca02c\",\"#e377c2\",\"#1f77b4\",\"#1f77b4\",\"#e377c2\",\"#ff7f0e\",\"#ff7f0e\",\"#ff7f0e\",\"#ff7f0e\",\"#8c564b\",\"#2ca02c\",\"#2ca02c\",\"#2ca02c\",\"#2ca02c\",\"#2ca02c\",\"#1f77b4\",\"#1f77b4\",\"#ff7f0e\",\"#2ca02c\",\"#7f7f7f\",\"#7f7f7f\",\"#7f7f7f\",\"#7f7f7f\",\"#7f7f7f\",\"#d62728\",\"#7f7f7f\",\"#7f7f7f\",\"#7f7f7f\",\"#2ca02c\",\"#7f7f7f\",\"#7f7f7f\",\"#1f77b4\",\"#7f7f7f\",\"#1f77b4\",\"#7f7f7f\",\"#1f77b4\",\"#d62728\",\"#d62728\",\"#1f77b4\",\"#2ca02c\",\"#ff7f0e\",\"#1f77b4\",\"#1f77b4\",\"#2ca02c\",\"#2ca02c\",\"#ff7f0e\",\"#ff7f0e\",\"#2ca02c\",\"#ff7f0e\",\"#1f77b4\",\"#2ca02c\",\"#1f77b4\",\"#2ca02c\",\"#9467bd\",\"#9467bd\",\"#ff7f0e\",\"#2ca02c\",\"#9467bd\",\"#1f77b4\",\"#ff7f0e\",\"#2ca02c\",\"#2ca02c\",\"#8c564b\",\"#8c564b\",\"#2ca02c\",\"#1f77b4\",\"#8c564b\",\"#d62728\",\"#8c564b\",\"#8c564b\",\"#8c564b\"],\"x\":{\"__ndarray__\":\"+WUuwTTXkkDeBInAZo9hwTGyXcHME4lBIMh9QUzuTsEugXdBSUj8QA4gJEEgW11B2OmswZOg6MD0KN3ALQ5PwZ2RdsAizWLBP9yiQQSHnEHGCiJB+DZewA3IZcGLQlTBbeuswR1QncHnhYfBn6eNwEL+bsGeKIfBYMyNwZBtJ8GsbCTBd4ApwXLockF9plnBg5WdQaN3ocEvB05B1Fekv3fMNcCCZn5BiEGKwP6+jkDzdRVB1ZiFQcpBG8GL+y3AusxjQRWmAUEHwx7BAMjmQEtAU0E9Kiy/13xRQZOP48ACbN6/d9muP10kMUG4N7zAS6pgPWN3FkGAbDBByGsqwQohvL2HFr/BaT27we4j5MBVpTFBjV7VwRp848AnrPHB2I39wXis4cE=\",\"dtype\":\"float32\",\"order\":\"little\",\"shape\":[74]},\"y\":{\"__ndarray__\":\"puIswZIycsGmaL3AMdHFwQMsNMEkLW6/jwYYQR5CBsGBFEbBf5xKwes/xcCwB3jBEtmBwSBwzMHSlOrBJ8Cowc3Z2MGTP+XBqdrMQCQoHUA2DB/B1rP4wUERDEH90wBAyATqQHIQNEFyipZAklQSwBzbQEE9CUg/X1X/QKb618G1NbtAFmYeQT8gUUFJQbBAjg4qQSCqWUDkFnxAVSVtwBLB5jygES5A/fO8wW00NMETtNdAqJ+/QDOZmcHJJKLBZpsPwQkVgcFBZLvBDMoNwYNU4EAiFcPB+Zo8PvvcrcFzQcRAT2HcQOPHVcFrlpHBOltuQPQfO0BV/I/B0Z31wdTa58ELKmPBzC8ywWRMBsIJDShBYEKBwcGXX8AiIoHBwyZOwWAMSsE=\",\"dtype\":\"float32\",\"order\":\"little\",\"shape\":[74]}},\"selected\":{\"id\":\"1081\"},\"selection_policy\":{\"id\":\"1082\"}},\"id\":\"1069\",\"type\":\"ColumnDataSource\"},{\"attributes\":{\"bottom_units\":\"screen\",\"fill_alpha\":0.5,\"fill_color\":\"lightgrey\",\"left_units\":\"screen\",\"level\":\"overlay\",\"line_alpha\":1.0,\"line_color\":\"black\",\"line_dash\":[4,4],\"line_width\":2,\"right_units\":\"screen\",\"top_units\":\"screen\"},\"id\":\"1061\",\"type\":\"BoxAnnotation\"},{\"attributes\":{},\"id\":\"1043\",\"type\":\"LinearScale\"},{\"attributes\":{},\"id\":\"1060\",\"type\":\"HelpTool\"},{\"attributes\":{\"source\":{\"id\":\"1069\"}},\"id\":\"1074\",\"type\":\"CDSView\"},{\"attributes\":{\"overlay\":{\"id\":\"1061\"}},\"id\":\"1057\",\"type\":\"BoxZoomTool\"},{\"attributes\":{\"axis\":{\"id\":\"1047\"},\"ticker\":null},\"id\":\"1050\",\"type\":\"Grid\"},{\"attributes\":{\"data_source\":{\"id\":\"1069\"},\"glyph\":{\"id\":\"1071\"},\"hover_glyph\":null,\"muted_glyph\":null,\"nonselection_glyph\":{\"id\":\"1072\"},\"selection_glyph\":null,\"view\":{\"id\":\"1074\"}},\"id\":\"1073\",\"type\":\"GlyphRenderer\"},{\"attributes\":{},\"id\":\"1041\",\"type\":\"DataRange1d\"},{\"attributes\":{\"fill_alpha\":{\"value\":0.1},\"fill_color\":{\"field\":\"color\"},\"line_alpha\":{\"value\":0.1},\"line_color\":{\"field\":\"color\"},\"x\":{\"field\":\"x\"},\"y\":{\"field\":\"y\"}},\"id\":\"1072\",\"type\":\"Scatter\"},{\"attributes\":{},\"id\":\"1056\",\"type\":\"WheelZoomTool\"},{\"attributes\":{},\"id\":\"1058\",\"type\":\"SaveTool\"},{\"attributes\":{},\"id\":\"1052\",\"type\":\"BasicTicker\"},{\"attributes\":{\"axis\":{\"id\":\"1051\"},\"dimension\":1,\"ticker\":null},\"id\":\"1054\",\"type\":\"Grid\"},{\"attributes\":{},\"id\":\"1039\",\"type\":\"DataRange1d\"},{\"attributes\":{},\"id\":\"1055\",\"type\":\"PanTool\"},{\"attributes\":{\"active_drag\":\"auto\",\"active_inspect\":\"auto\",\"active_multi\":null,\"active_scroll\":\"auto\",\"active_tap\":\"auto\",\"tools\":[{\"id\":\"1055\"},{\"id\":\"1056\"},{\"id\":\"1057\"},{\"id\":\"1058\"},{\"id\":\"1059\"},{\"id\":\"1060\"}]},\"id\":\"1062\",\"type\":\"Toolbar\"},{\"attributes\":{},\"id\":\"1059\",\"type\":\"ResetTool\"},{\"attributes\":{},\"id\":\"1078\",\"type\":\"BasicTickFormatter\"},{\"attributes\":{},\"id\":\"1048\",\"type\":\"BasicTicker\"},{\"attributes\":{},\"id\":\"1082\",\"type\":\"UnionRenderers\"},{\"attributes\":{\"formatter\":{\"id\":\"1076\"},\"ticker\":{\"id\":\"1052\"}},\"id\":\"1051\",\"type\":\"LinearAxis\"},{\"attributes\":{\"text\":\"t-SNE Clustering of 6 LDA Topics\"},\"id\":\"1037\",\"type\":\"Title\"}],\"root_ids\":[\"1036\"]},\"title\":\"Bokeh Application\",\"version\":\"2.2.3\"}};\n",
       "  var render_items = [{\"docid\":\"00e85fff-89b2-48f4-80d0-82b8f21ec6a6\",\"root_ids\":[\"1036\"],\"roots\":{\"1036\":\"76ca7d9c-8719-4295-bece-fd7f309a5f31\"}}];\n",
       "  root.Bokeh.embed.embed_items_notebook(docs_json, render_items);\n",
       "\n",
       "  }\n",
       "  if (root.Bokeh !== undefined) {\n",
       "    embed_document(root);\n",
       "  } else {\n",
       "    var attempts = 0;\n",
       "    var timer = setInterval(function(root) {\n",
       "      if (root.Bokeh !== undefined) {\n",
       "        clearInterval(timer);\n",
       "        embed_document(root);\n",
       "      } else {\n",
       "        attempts++;\n",
       "        if (attempts > 100) {\n",
       "          clearInterval(timer);\n",
       "          console.log(\"Bokeh: ERROR: Unable to run BokehJS code because BokehJS library is missing\");\n",
       "        }\n",
       "      }\n",
       "    }, 10, root)\n",
       "  }\n",
       "})(window);"
      ],
      "application/vnd.bokehjs_exec.v0+json": ""
     },
     "metadata": {
      "application/vnd.bokehjs_exec.v0+json": {
       "id": "1036"
      }
     },
     "output_type": "display_data"
    }
   ],
   "source": [
    "# Get topic weights\n",
    "topic_weights = []\n",
    "\n",
    "for row_lst in optimal_model[bigram_corpus]:\n",
    "    lst = []\n",
    "    for topic_id, topic_perc in row_lst:\n",
    "        lst.append(topic_perc)\n",
    "    topic_weights.append(lst)\n",
    "    \n",
    "\n",
    "# Array of topic weights    \n",
    "arr = pd.DataFrame(topic_weights).fillna(0).values\n",
    "\n",
    "# Keep the well separated points (optional)\n",
    "arr = arr[np.amax(arr, axis=1) > 0.35]\n",
    "\n",
    "# Dominant topic number in each doc\n",
    "topic_num = np.argmax(arr, axis=1)\n",
    "\n",
    "# tSNE Dimension Reduction\n",
    "tsne_model = TSNE(n_components=2, perplexity=30, verbose=1, random_state=42, angle=.99, init='pca')\n",
    "tsne_lda = tsne_model.fit_transform(arr)\n",
    "\n",
    "# Plot the Topic Clusters using Bokeh\n",
    "output_notebook()\n",
    "n_topics = 6\n",
    "mycolors = np.array([color for name, color in mcolors.TABLEAU_COLORS.items()])\n",
    "plot = figure(title=\"t-SNE Clustering of {} LDA Topics\".format(n_topics), \n",
    "              plot_width=900, plot_height=700)\n",
    "lgd_label = np.array(['Topic 0', 'Topic 1', 'Topic 2', 'Topic 3', 'Topic 4', 'Topic 5'])\n",
    "\n",
    "source = ColumnDataSource(dict(\n",
    "    x=tsne_lda[:,0],\n",
    "    y=tsne_lda[:,1],\n",
    "    color=mycolors[topic_num],\n",
    "))\n",
    "\n",
    "plot.scatter(x='x', y='y', color='color', source=source)\n",
    "show(plot)"
   ]
  },
  {
   "cell_type": "markdown",
   "metadata": {},
   "source": [
    "t-Distributed Stochastic Neighbor Embedding (t-SNE) is an unsupervised non-linear learning technique used for data exploration and visualizing higher dimensional data. It gives a sense of how the data is arranged in a high dimensional-space. As t-SNE preserves small pairwise compared to Principal Component Analysis (PCA), we can see that the Topic 0, 2, 4 and 5 are close together which shows their relationship"
   ]
  },
  {
   "cell_type": "markdown",
   "metadata": {},
   "source": [
    "# pyLDAVis"
   ]
  },
  {
   "cell_type": "code",
   "execution_count": 60,
   "metadata": {
    "ExecuteTime": {
     "end_time": "2021-01-26T02:31:32.014181Z",
     "start_time": "2021-01-26T02:31:28.974182Z"
    }
   },
   "outputs": [
    {
     "data": {
      "text/html": [
       "\n",
       "<link rel=\"stylesheet\" type=\"text/css\" href=\"https://cdn.rawgit.com/bmabey/pyLDAvis/files/ldavis.v1.0.0.css\">\n",
       "\n",
       "\n",
       "<div id=\"ldavis_el901221274749659686030350617\"></div>\n",
       "<script type=\"text/javascript\">\n",
       "\n",
       "var ldavis_el901221274749659686030350617_data = {\"mdsDat\": {\"x\": [0.04438420082016026, 0.0429380641429828, -0.2682838758354818, 0.044024492110377594, 0.19393607392694087, 0.1873089394697108, 0.06760035053767094, -0.3119082451723619], \"y\": [0.2491725353969868, 0.1482010683883552, 0.09331740584940745, 0.058309122875455074, 0.07831671084844032, -0.2563848725484509, -0.20504479437701126, -0.16588717643318268], \"topics\": [1, 2, 3, 4, 5, 6, 7, 8], \"cluster\": [1, 1, 1, 1, 1, 1, 1, 1], \"Freq\": [12.892264134180223, 12.811487235716793, 12.726141065545269, 12.621682056309968, 12.533812442661189, 12.497241195413707, 12.110185988129063, 11.807185882043788]}, \"tinfo\": {\"Term\": [\"amd\", \"nvidia\", \"price\", \"3080\", \"dl\", \"3070\", \"game\", \"6800\", \"people\", \"gpu\", \"3090\", \"6800xt\", \"card\", \"rtx\", \"year\", \"cpu\", \"buy\", \"ray_tracing\", \"driver\", \"vram\", \"wait\", \"time\", \"stock\", \"6900xt\", \"rt\", \"4k\", \"feature\", \"benchmark\", \"console\", \"launch\", \"attractive\", \"system\", \"dx\", \"sponsored\", \"sample\", \"3d\", \"dx12\", \"dxr\", \"requires\", \"nvenc\", \"vulkan\", \"path\", \"raster\", \"supporting\", \"crippled\", \"corner\", \"analysis\", \"artifact\", \"110\", \"unreal_engine\", \"offloading\", \"interface\", \"fo\", \"benefit\", \"wanna\", \"igorslab\", \"witcher\", \"effect\", \"layer\", \"surely\", \"dl\", \"game\", \"ray_tracing\", \"rt\", \"feature\", \"support\", \"raytracing\", \"0\", \"worse\", \"software\", \"tech\", \"future\", \"title\", \"working\", \"video\", \"linux\", \"vr\", \"hardware\", \"answer\", \"mention\", \"technology\", \"super_resolution\", \"quality\", \"ai\", \"cuda\", \"important\", \"implementation\", \"ready\", \"control\", \"similar\", \"honestly\", \"lot\", \"work\", \"based\", \"care\", \"matter\", \"play\", \"thing\", \"rtx\", \"fps\", \"cheap\", \"approximately\", \"gmail\", \"station\", \"discontinue\", \"clue\", \"wahtever\", \"fubared\", \"3800x\", \"ow\", \"roof\", \"whatsoever\", \"07\", \"disons\", \"beau\", \"aller\", \"rue\", \"rx6xx\", \"microsecond\", \"girlfriend\", \"behalf\", \"blessed\", \"inclusing\", \"biting\", \"monitoring\", \"confirmaion\", \"7am\", \"x800xt\", \"year\", \"4k\", \"series\", \"pc\", \"monitor\", \"upgrade\", \"high\", \"run\", \"1080p\", \"console\", \"setting\", \"running\", \"2080\", \"released\", \"super\", \"60\", \"set\", \"experience\", \"absolutely\", \"xbox\", \"ps5\", \"playing\", \"turn\", \"personally\", \"frame\", \"freesync\", \"5700_xt\", \"1440p\", \"option\", \"30\", \"stuff\", \"graphic\", \"nice\", \"5700xt\", \"gaming\", \"good\", \"big\", \"pretty\", \"gen\", \"time\", \"samsung_8nm\", \"inputting\", \"pan\", \"memoryexpress\", \"merchant\", \"scammed\", \"tarp\", \"guarded\", \"chained\", \"github\", \"tripled\", \"propagate\", \"wt\", \"notorious\", \"cooled\", \"rambling\", \"jay\", \"incognito\", \"overprioritize\", \"organizing\", \"antsy\", \"bukake\", \"ffs\", \"tempered\", \"sweat\", \"ouch\", \"1140\", \"21st\", \"flood\", \"involved\", \"amd\", \"nvidia\", \"market\", \"compete\", \"intel\", \"company\", \"high_end\", \"ampere\", \"hard\", \"consumer\", \"marketing\", \"big_navi\", \"turing\", \"advantage\", \"doubt\", \"rdna\", \"competitive\", \"3000_series\", \"level\", \"ahead\", \"architecture\", \"navi\", \"node\", \"samsung\", \"lack\", \"tsmc\", \"7nm\", \"process\", \"fan\", \"moment\", \"competition\", \"remember\", \"demand\", \"rdna2\", \"card\", \"generation\", \"choice\", \"release\", \"good\", \"gen\", \"interesting\", \"basically\", \"lot\", \"sound\", \"human\", \"absent\", \"report\", \"topic\", \"telling\", \"r9_290\", \"rule\", \"sleep\", \"memo\", \"680\", \"uptake\", \"waste\", \"survey\", \"messing\", \"computer\", \"xp\", \"research\", \"850\", \"idiot\", \"incredibly\", \"shove\", \"disable\", \"apis\", \"person\", \"rid\", \"faulty\", \"sending\", \"pause\", \"nvec\", \"people\", \"driver\", \"buy\", \"issue\", \"bad\", \"reason\", \"sell\", \"problem\", \"literally\", \"dont\", \"msrp\", \"comment\", \"bought\", \"idea\", \"fuck\", \"thinking\", \"understand\", \"making\", \"simply\", \"lmao\", \"fucking\", \"love\", \"hold\", \"finally\", \"post\", \"paying\", \"small\", \"live\", \"stop\", \"buying\", \"shit\", \"read\", \"product\", \"time\", \"hand\", \"purchase\", \"money\", \"good\", \"point\", \"feel\", \"thing\", \"outlet\", \"trustworthy\", \"kimi\", \"boned\", \"quicker\", \"cvv\", \"shopper\", \"aaall\", \"anytime\", \"itx\", \"avoids\", \"trip\", \"resend\", \"30m\", \"30am\", \"midterm\", \"atlas\", \"noooo\", \"duff\", \"hq\", \"slated\", \"perso\", \"moi\", \"bonne\", \"669\", \"pal\", \"silver\", \"375w\", \"suprim\", \"interval\", \"gpu\", \"cpu\", \"vram\", \"end\", \"power\", \"lower\", \"true\", \"16gb\", \"ryzen\", \"8\", \"ram\", \"8gb\", \"chip\", \"supply\", \"depends\", \"cu\", \"watt\", \"case\", \"clock\", \"power_consumption\", \"idk\", \"processor\", \"limited\", \"pull\", \"gddr6x\", \"suck\", \"bottleneck\", \"access\", \"gddr6\", \"cache\", \"psu\", \"zen\", \"fine\", \"boost\", \"change\", \"add\", \"higher\", \"guess\", \"gaming\", \"point\", \"fair\", \"4\", \"work\", \"win\", \"big\", \"bit\", \"negate\", \"nap\", \"avoir\", \"lotto\", \"arrival\", \"x34\", \"inb4\", \"closet\", \"yaas\", \"lowered\", \"essayer\", \"rioting\", \"unnecessary\", \"oil\", \"1249cad\", \"registered\", \"lr514\", \"790\", \"17h\", \"usb_c\", \"monde\", \"serum\", \"exprience\", \"nuit\", \"749\", \"haf\", \"reassuring\", \"litt\\u00e9ralement\", \"fonctionnel\", \"id\\u00e9e\", \"price\", \"3070\", \"6800\", \"xt\", \"500\", \"faster\", \"50\", \"2080ti\", \"pricing\", \"rx\", \"80\", \"expensive\", \"pay\", \"close\", \"15\", \"extra\", \"2080_ti\", \"dollar\", \"priced\", \"ti\", \"double\", \"titan\", \"cost\", \"100\", \"perf\", \"tier\", \"6700\", \"kinda\", \"die\", \"range\", \"match\", \"20\", \"400\", \"budget\", \"x200b\", \"worth\", \"bit\", \"drop\", \"higher\", \"allowed\", \"skipped\", \"borderland\", \"hassle\", \"tie\", \"youre\", \"typo\", \"3080ti\", \"reckon\", \"tensor\", \"framework\", \"tbp\", \"uh\", \"memory\", \"rip\", \"5000_series\", \"board\", \"minded\", \"whine\", \"watched\", \"6900_xt\", \"honesty\", \"wont\", \"justification\", \"watch\", \"rtx2080ti\", \"q2\", \"tomahawk\", \"recommends\", \"37\", \"3080\", \"3090\", \"6800xt\", \"wait\", \"6900xt\", \"benchmark\", \"10\", \"cheaper\", \"review\", \"number\", \"rage_mode\", \"beat\", \"showed\", \"smart_access\", \"sam\", \"availability\", \"actual\", \"meant\", \"slide\", \"6000_series\", \"enabled\", \"slightly\", \"gain\", \"claim\", \"presentation\", \"oc\", \"comparison\", \"competitor\", \"thought\", \"average\", \"difference\", \"increase\", \"pretty\", \"guess\", \"money\", \"ethic\", \"gst\", \"onwards\", \"lockdown\", \"billing\", \"fking\", \"cashed\", \"981\", \"suspense\", \"prefill\", \"instock\", \"hst\", \"calgary\", \"savior\", \"prevented\", \"dam\", \"thankfully\", \"hardest\", \"offical\", \"afternoon\", \"payed\", \"hesitated\", \"clicked\", \"hears\", \"reminder\", \"scum\", \"clueless\", \"weather\", \"burnhamthorpe\", \"stocked\", \"stock\", \"launch\", \"order\", \"day\", \"waiting\", \"cc\", \"aib\", \"reference\", \"line\", \"today\", \"week\", \"guy\", \"ago\", \"model\", \"build\", \"store\", \"tax\", \"6\", \"hoping\", \"link\", \"called\", \"gonna\", \"sold\", \"info\", \"place\", \"luck\", \"tomorrow\", \"page\", \"website\", \"told\", \"coming\", \"man\", \"email\", \"hope\", \"card\", \"month\", \"start\", \"version\", \"release\", \"edit\"], \"Freq\": [4150.0, 2939.0, 1887.0, 1846.0, 1693.0, 1664.0, 1632.0, 1573.0, 1262.0, 1254.0, 1100.0, 1096.0, 1627.0, 963.0, 883.0, 859.0, 860.0, 834.0, 777.0, 758.0, 712.0, 960.0, 666.0, 654.0, 669.0, 660.0, 658.0, 632.0, 588.0, 524.0, 5.682460695345655, 28.412303476728276, 5.682460695345655, 11.36492139069131, 17.047382086036965, 26.139319198590012, 39.777224867419584, 73.87198903949351, 52.278638397180025, 93.19235540366874, 26.139319198590012, 19.320366364175225, 53.41513053624915, 39.777224867419584, 5.682460695345655, 19.320366364175225, 11.36492139069131, 17.047382086036965, 5.682460695345655, 11.36492139069131, 5.682460695345655, 5.682460695345655, 5.682460695345655, 87.50989470832309, 39.777224867419584, 5.682460695345655, 11.36492139069131, 53.41513053624915, 5.682460695345655, 22.72984278138262, 1693.373287213005, 1632.002711703272, 834.1852300767421, 669.3938699117182, 658.0289485210268, 523.9228761108694, 392.08978797885015, 321.62727535656404, 265.93916054217664, 262.52968412496926, 217.069998562204, 194.3401557808214, 189.79418722454486, 178.42926583385358, 257.98371556869273, 142.06151738364136, 138.652040966434, 351.17607097236146, 130.69659599295008, 128.42361171481178, 126.15062743667355, 126.15062743667355, 120.46816674132788, 115.92219818505136, 111.37622962877484, 107.96675321156744, 107.96675321156744, 101.14780037715266, 95.46533968180701, 218.20649070127317, 150.0169623571253, 305.7163854095962, 303.443401131458, 159.10889946967833, 194.3401557808214, 171.61031299943878, 168.20083658223137, 128.42361171481178, 963.0063687160076, 387.76435402954115, 109.4590068431738, 3.4933725588246953, 1.1644575196082319, 4.657830078432927, 1.1644575196082319, 13.973490235298781, 1.1644575196082319, 1.1644575196082319, 6.986745117649391, 1.1644575196082319, 2.3289150392164637, 8.151202637257622, 2.3289150392164637, 1.1644575196082319, 1.1644575196082319, 1.1644575196082319, 1.1644575196082319, 1.1644575196082319, 1.1644575196082319, 4.657830078432927, 2.3289150392164637, 1.1644575196082319, 1.1644575196082319, 2.3289150392164637, 2.3289150392164637, 1.1644575196082319, 1.1644575196082319, 1.1644575196082319, 883.823257382648, 660.2474136178674, 414.54687698053056, 412.21796194131406, 349.33725588246955, 302.75895509814023, 301.59449757853207, 328.37702052952136, 225.90475880399697, 581.0643022845077, 174.66862794123477, 171.17525538241009, 158.36622266671952, 158.36622266671952, 232.89150392164638, 137.40598731377136, 135.0770722745549, 130.41924219612196, 129.25478467651374, 128.09032715690552, 126.92586963729725, 118.77466700003966, 109.4590068431738, 108.29454932356556, 105.96563428434911, 102.47226172552439, 101.30780420591616, 402.90230178444824, 185.14874561770884, 178.16200050005946, 170.01079786280184, 209.60235352948175, 168.84634034319362, 270.1541445491098, 352.83062844129427, 394.7510991471906, 210.76681104908994, 216.58909864713112, 183.98428809810062, 202.6156084118323, 28.44089691190278, 1.1376358764761112, 3.4129076294283336, 1.1376358764761112, 2.2752717529522224, 3.4129076294283336, 1.1376358764761112, 1.1376358764761112, 1.1376358764761112, 2.2752717529522224, 1.1376358764761112, 1.1376358764761112, 1.1376358764761112, 1.1376358764761112, 2.2752717529522224, 1.1376358764761112, 3.4129076294283336, 1.1376358764761112, 1.1376358764761112, 1.1376358764761112, 1.1376358764761112, 1.1376358764761112, 5.688179382380556, 2.2752717529522224, 2.2752717529522224, 5.688179382380556, 1.1376358764761112, 1.1376358764761112, 10.238722888285, 6.825815258856667, 4147.820405631901, 2939.651104814271, 315.1251377838828, 291.23478437788447, 383.38329037244944, 232.07771880112668, 220.70136003636554, 212.7379089010328, 164.95720208903612, 155.85611507722723, 150.16793569484668, 138.79157693008557, 136.51630517713335, 135.3786693006572, 129.69048991827668, 128.55285404180057, 196.81100663036725, 109.21304414170667, 193.39809900093888, 105.80013651227833, 96.69904950046944, 96.69904950046944, 96.69904950046944, 94.42377774751724, 89.87323424161278, 87.59796248866056, 85.32269073570833, 84.18505485923222, 80.77214722980389, 79.63451135332778, 254.83043633064892, 105.80013651227833, 97.83668537694555, 187.70991961855833, 932.8614187104112, 222.9766317893178, 117.17649527703945, 225.25190354227001, 326.5014965486439, 185.4346478656061, 98.97432125342168, 108.07540826523056, 111.4883158946589, 143.98191166747895, 11.61144448931282, 3.4834333467938463, 22.06174452969436, 10.450300040381538, 33.673189019007175, 11.61144448931282, 30.189755672213334, 15.094877836106667, 3.4834333467938463, 3.4834333467938463, 3.4834333467938463, 29.02861122328205, 6.966866693587693, 5.80572224465641, 30.189755672213334, 5.80572224465641, 27.86746677435077, 44.12348905938872, 20.900600080763077, 15.094877836106667, 3.4834333467938463, 6.966866693587693, 3.4834333467938463, 83.60240032305231, 15.094877836106667, 3.4834333467938463, 13.933733387175385, 3.4834333467938463, 3.4834333467938463, 1262.1640159883036, 777.966780783959, 859.2468922091487, 512.0647019786954, 361.1159236176287, 320.4758679050338, 305.38099006892713, 260.0963565606072, 228.74545643946254, 191.58883407366153, 186.94425627793643, 170.68823399289846, 236.87346758198152, 141.6596227696164, 138.17618942282255, 133.53161162709745, 125.40360048457845, 207.84485635869947, 120.75902268885334, 114.95330044419691, 113.79215599526565, 106.82528930167794, 103.3418559548841, 102.18071150595281, 101.01956705702155, 97.53613371022769, 94.05270036343384, 88.24697811877743, 87.08583366984615, 258.93521211167587, 249.64605652022564, 118.43673379099076, 284.48038998816406, 758.2273251521272, 153.27106725892924, 124.24245603564718, 229.90660088839383, 408.72284602381126, 254.29063431595074, 132.37046717816614, 121.9201671377846, 4.720529031205361, 1.1801322578013402, 1.1801322578013402, 1.1801322578013402, 9.441058062410722, 1.1801322578013402, 2.3602645156026805, 1.1801322578013402, 3.5403967734040207, 3.5403967734040207, 2.3602645156026805, 5.900661289006701, 1.1801322578013402, 1.1801322578013402, 1.1801322578013402, 1.1801322578013402, 1.1801322578013402, 1.1801322578013402, 1.1801322578013402, 3.5403967734040207, 3.5403967734040207, 1.1801322578013402, 1.1801322578013402, 5.900661289006701, 1.1801322578013402, 4.720529031205361, 7.080793546808041, 3.5403967734040207, 1.1801322578013402, 2.3602645156026805, 1254.4805900428246, 859.1362836793757, 758.8250417662616, 410.6860257148664, 398.884703136853, 417.7668192616744, 269.07015477870556, 257.26883220069215, 240.7469805914734, 220.68473220885062, 218.32446769324793, 214.7840709198439, 193.5416902794198, 154.59732577197556, 119.19335803793535, 114.47282900673, 106.21190320212062, 252.5483031694868, 95.59071288190856, 93.23044836630588, 86.14965481949783, 84.9695225616965, 83.78939030389515, 83.78939030389515, 81.42912578829247, 81.42912578829247, 81.42912578829247, 80.24899353049113, 77.88872901488845, 76.70859675708711, 153.41719351417422, 186.46089673261176, 231.30592252906268, 136.89534190495544, 121.55362255353803, 95.59071288190856, 202.98274834183053, 187.6410289904131, 267.8900225209042, 251.36817091168547, 118.01322578013402, 139.25560642055814, 205.3430128574332, 125.09401932694206, 167.5787806077903, 148.69666448296886, 4.514963800212027, 1.1287409500530068, 2.2574819001060136, 1.1287409500530068, 4.514963800212027, 1.1287409500530068, 5.643704750265034, 1.1287409500530068, 1.1287409500530068, 4.514963800212027, 3.3862228501590197, 1.1287409500530068, 1.1287409500530068, 1.1287409500530068, 1.1287409500530068, 1.1287409500530068, 1.1287409500530068, 1.1287409500530068, 1.1287409500530068, 22.574819001060135, 1.1287409500530068, 1.1287409500530068, 1.1287409500530068, 1.1287409500530068, 2.2574819001060136, 1.1287409500530068, 1.1287409500530068, 1.1287409500530068, 1.1287409500530068, 1.1287409500530068, 1887.2548684886272, 1664.892901328185, 1570.0786615237323, 529.3795055748601, 494.3885361232169, 431.1790429202486, 421.0203743697715, 461.65504857167974, 352.1671764165381, 316.0474660148419, 259.61041851219153, 246.06552711155547, 234.77811761102538, 213.33203956001827, 193.01470245906415, 281.05649656319866, 187.37099770879914, 179.46981105842806, 178.34107010837505, 173.82610630816302, 168.182401557898, 156.89499205736794, 314.9187250647889, 233.64937666097242, 135.4489140063608, 129.80520925609576, 126.41898640593676, 125.29024545588375, 111.74535405524767, 110.61661310519466, 176.08358820826905, 220.1044852603363, 138.83513685651982, 171.56862440805702, 144.47884160678487, 229.13441286076036, 256.2241956620325, 152.3800282571559, 156.89499205736794, 23.15855145606882, 5.789637864017205, 11.57927572803441, 5.789637864017205, 5.789637864017205, 11.57927572803441, 11.57927572803441, 72.9494370866168, 5.789637864017205, 5.789637864017205, 5.789637864017205, 11.57927572803441, 11.57927572803441, 496.7509287326763, 76.42321980502712, 126.21410543557508, 145.8988741732336, 5.789637864017205, 5.789637864017205, 23.15855145606882, 126.21410543557508, 5.789637864017205, 61.370161358582386, 5.789637864017205, 61.370161358582386, 5.789637864017205, 5.789637864017205, 5.789637864017205, 5.789637864017205, 5.789637864017205, 1846.8944786214888, 1100.0311941632692, 1096.5574114448589, 712.1254572741163, 654.2290786339443, 632.2284547506789, 363.58925786028055, 360.1154751418702, 352.00998213224614, 331.1672858217842, 233.90136970629516, 228.11173184227792, 163.26778776528522, 148.21472931884048, 142.42509145482327, 133.16167087239575, 123.89825028996822, 119.26653999875445, 119.26653999875445, 114.63482970754067, 113.47690213473724, 194.5318322309781, 107.68726427072005, 107.68726427072005, 106.52933669791659, 105.37140912511315, 178.32084621172993, 207.269035531816, 162.10986019248176, 122.74032271716477, 272.1129796088087, 151.6885120372508, 268.63919689039835, 148.21472931884048, 125.05617786277165, 3.3868677417760025, 6.773735483552005, 3.3868677417760025, 6.773735483552005, 2.2579118278506685, 2.2579118278506685, 2.2579118278506685, 3.3868677417760025, 1.1289559139253342, 1.1289559139253342, 3.3868677417760025, 6.773735483552005, 4.515823655701337, 2.2579118278506685, 1.1289559139253342, 4.515823655701337, 4.515823655701337, 4.515823655701337, 1.1289559139253342, 4.515823655701337, 1.1289559139253342, 1.1289559139253342, 11.289559139253342, 1.1289559139253342, 6.773735483552005, 1.1289559139253342, 5.644779569626671, 1.1289559139253342, 1.1289559139253342, 1.1289559139253342, 664.9550333020218, 524.9644999752804, 397.3924817017176, 390.61874621816565, 247.2413451496482, 246.11238923572284, 242.72552149394684, 238.20969783824555, 234.82283009646952, 228.04909461291754, 207.72788816226148, 197.56728493693348, 191.92250536730683, 186.27772579768015, 163.69860751917346, 158.0538279495468, 149.0221806381441, 137.73262149889078, 134.34575375711478, 133.21679784318945, 126.44306235963742, 283.3679343952589, 125.3141064457121, 114.02454730645877, 112.89559139253342, 111.76663547860808, 108.37976773683208, 108.37976773683208, 104.99289999505609, 104.99289999505609, 214.5016236458135, 120.79828279001076, 117.41141504823476, 209.98579999011218, 694.3078870640805, 231.43596235469352, 126.44306235963742, 127.57201827356276, 181.76190214197882, 137.73262149889078], \"Total\": [4150.0, 2939.0, 1887.0, 1846.0, 1693.0, 1664.0, 1632.0, 1573.0, 1262.0, 1254.0, 1100.0, 1096.0, 1627.0, 963.0, 883.0, 859.0, 860.0, 834.0, 777.0, 758.0, 712.0, 960.0, 666.0, 654.0, 669.0, 660.0, 658.0, 632.0, 588.0, 524.0, 5.682460695345655, 28.412303476728276, 5.682460695345655, 11.36492139069131, 17.047382086036965, 26.139319198590012, 39.777224867419584, 73.87198903949351, 52.278638397180025, 93.19235540366874, 26.139319198590012, 19.320366364175225, 53.41513053624915, 39.777224867419584, 5.682460695345655, 19.320366364175225, 11.36492139069131, 17.047382086036965, 5.682460695345655, 11.36492139069131, 5.682460695345655, 5.682460695345655, 5.682460695345655, 87.50989470832309, 39.777224867419584, 5.682460695345655, 11.36492139069131, 53.41513053624915, 5.682460695345655, 22.72984278138262, 1693.373287213005, 1632.002711703272, 834.1852300767421, 669.3938699117182, 658.0289485210268, 523.9228761108694, 392.08978797885015, 321.62727535656404, 265.93916054217664, 262.52968412496926, 217.069998562204, 194.3401557808214, 189.79418722454486, 178.42926583385358, 259.12135144516884, 142.06151738364136, 138.652040966434, 354.6595043191553, 130.69659599295008, 128.42361171481178, 126.15062743667355, 126.15062743667355, 120.46816674132788, 115.92219818505136, 111.37622962877484, 107.96675321156744, 107.96675321156744, 101.14780037715266, 95.46533968180701, 249.55739082241777, 163.95069574430067, 489.4010675199655, 508.78641398889124, 200.9100996312045, 302.3265895314306, 248.3189097565259, 327.72489062720524, 250.3437788525964, 963.0063687160076, 387.76435402954115, 109.4590068431738, 3.4933725588246953, 1.1644575196082319, 4.657830078432927, 1.1644575196082319, 13.973490235298781, 1.1644575196082319, 1.1644575196082319, 6.986745117649391, 1.1644575196082319, 2.3289150392164637, 8.151202637257622, 2.3289150392164637, 1.1644575196082319, 1.1644575196082319, 1.1644575196082319, 1.1644575196082319, 1.1644575196082319, 1.1644575196082319, 4.657830078432927, 2.3289150392164637, 1.1644575196082319, 1.1644575196082319, 2.3289150392164637, 2.3289150392164637, 1.1644575196082319, 1.1644575196082319, 1.1644575196082319, 883.823257382648, 660.2474136178674, 414.54687698053056, 412.21796194131406, 349.33725588246955, 302.75895509814023, 301.59449757853207, 329.53816497845264, 225.90475880399697, 588.1450958313158, 174.66862794123477, 171.17525538241009, 158.36622266671952, 158.36622266671952, 234.07163617944772, 137.40598731377136, 135.0770722745549, 130.41924219612196, 129.25478467651374, 128.09032715690552, 126.92586963729725, 118.77466700003966, 109.4590068431738, 108.29454932356556, 105.96563428434911, 102.47226172552439, 101.30780420591616, 408.69193964846545, 186.30667319051227, 181.57147691726686, 173.42370549223017, 230.84473416990588, 188.9085887258164, 372.8695710039334, 620.7206509621985, 1131.155573977447, 378.34559165688023, 485.22829553752945, 369.41893596370676, 960.8429335639595, 28.44089691190278, 1.1376358764761112, 3.4129076294283336, 1.1376358764761112, 2.2752717529522224, 3.4129076294283336, 1.1376358764761112, 1.1376358764761112, 1.1376358764761112, 2.2752717529522224, 1.1376358764761112, 1.1376358764761112, 1.1376358764761112, 1.1376358764761112, 2.2752717529522224, 1.1376358764761112, 3.4129076294283336, 1.1376358764761112, 1.1376358764761112, 1.1376358764761112, 1.1376358764761112, 1.1376358764761112, 5.688179382380556, 2.2752717529522224, 2.2752717529522224, 5.688179382380556, 1.1376358764761112, 1.1376358764761112, 10.238722888285, 6.825815258856667, 4150.136260777508, 2939.651104814271, 315.1251377838828, 291.23478437788447, 384.5634226302508, 232.07771880112668, 220.70136003636554, 212.7379089010328, 164.95720208903612, 155.85611507722723, 150.16793569484668, 138.79157693008557, 136.51630517713335, 135.3786693006572, 129.69048991827668, 128.55285404180057, 197.96893420317068, 109.21304414170667, 194.5268399509919, 105.80013651227833, 96.69904950046944, 96.69904950046944, 96.69904950046944, 94.42377774751724, 89.87323424161278, 87.59796248866056, 85.32269073570833, 84.18505485923222, 80.77214722980389, 79.63451135332778, 258.37083310405296, 106.92909242620367, 98.99782982587683, 216.1222230952866, 1627.1693057744917, 292.8440829658117, 134.54540886909106, 415.1192986938729, 1131.155573977447, 369.41893596370676, 102.46769381224637, 211.49619292052148, 489.4010675199655, 143.98191166747895, 11.61144448931282, 3.4834333467938463, 22.06174452969436, 10.450300040381538, 33.673189019007175, 11.61144448931282, 30.189755672213334, 15.094877836106667, 3.4834333467938463, 3.4834333467938463, 3.4834333467938463, 29.02861122328205, 6.966866693587693, 5.80572224465641, 30.189755672213334, 5.80572224465641, 27.86746677435077, 44.12348905938872, 20.900600080763077, 15.094877836106667, 3.4834333467938463, 6.966866693587693, 3.4834333467938463, 83.60240032305231, 15.094877836106667, 3.4834333467938463, 13.933733387175385, 3.4834333467938463, 3.4834333467938463, 1262.1640159883036, 777.966780783959, 860.42702446695, 512.0647019786954, 361.1159236176287, 320.4758679050338, 305.38099006892713, 260.0963565606072, 228.74545643946254, 191.58883407366153, 186.94425627793643, 170.68823399289846, 238.00220853203453, 141.6596227696164, 138.17618942282255, 133.53161162709745, 125.40360048457845, 208.98249223517558, 120.75902268885334, 114.95330044419691, 113.79215599526565, 106.82528930167794, 103.3418559548841, 102.18071150595281, 101.01956705702155, 97.53613371022769, 94.05270036343384, 88.24697811877743, 87.08583366984615, 264.57999168130254, 255.5042214279071, 119.57436966746687, 318.6094662824474, 960.8429335639595, 168.06033365311868, 129.88723560527384, 354.9627787511655, 1131.155573977447, 584.6706717313466, 253.14574883383784, 250.3437788525964, 4.720529031205361, 1.1801322578013402, 1.1801322578013402, 1.1801322578013402, 9.441058062410722, 1.1801322578013402, 2.3602645156026805, 1.1801322578013402, 3.5403967734040207, 3.5403967734040207, 2.3602645156026805, 5.900661289006701, 1.1801322578013402, 1.1801322578013402, 1.1801322578013402, 1.1801322578013402, 1.1801322578013402, 1.1801322578013402, 1.1801322578013402, 3.5403967734040207, 3.5403967734040207, 1.1801322578013402, 1.1801322578013402, 5.900661289006701, 1.1801322578013402, 4.720529031205361, 7.080793546808041, 3.5403967734040207, 1.1801322578013402, 2.3602645156026805, 1254.4805900428246, 859.1362836793757, 758.8250417662616, 410.6860257148664, 398.884703136853, 418.9033114007435, 269.07015477870556, 257.26883220069215, 240.7469805914734, 220.68473220885062, 218.32446769324793, 214.7840709198439, 193.5416902794198, 154.59732577197556, 119.19335803793535, 114.47282900673, 106.21190320212062, 254.8057850695928, 95.59071288190856, 93.23044836630588, 86.14965481949783, 84.9695225616965, 83.78939030389515, 83.78939030389515, 81.42912578829247, 81.42912578829247, 81.42912578829247, 80.24899353049113, 77.88872901488845, 76.70859675708711, 154.57512108697765, 189.8738043620401, 241.78604020553678, 141.44131046123198, 148.25994487895753, 104.6826499944616, 359.8777403991985, 335.8557583092536, 620.7206509621985, 584.6706717313466, 153.00419523177723, 212.61643015587674, 508.78641398889124, 175.14999789189096, 378.34559165688023, 406.0853176646096, 4.514963800212027, 1.1287409500530068, 2.2574819001060136, 1.1287409500530068, 4.514963800212027, 1.1287409500530068, 5.643704750265034, 1.1287409500530068, 1.1287409500530068, 4.514963800212027, 3.3862228501590197, 1.1287409500530068, 1.1287409500530068, 1.1287409500530068, 1.1287409500530068, 1.1287409500530068, 1.1287409500530068, 1.1287409500530068, 1.1287409500530068, 22.574819001060135, 1.1287409500530068, 1.1287409500530068, 1.1287409500530068, 1.1287409500530068, 2.2574819001060136, 1.1287409500530068, 1.1287409500530068, 1.1287409500530068, 1.1287409500530068, 1.1287409500530068, 1887.2548684886272, 1664.892901328185, 1573.5524442421427, 529.3795055748601, 494.3885361232169, 431.1790429202486, 421.0203743697715, 462.8129761444832, 352.1671764165381, 316.0474660148419, 259.61041851219153, 246.06552711155547, 234.77811761102538, 213.33203956001827, 193.01470245906415, 282.1941324396748, 187.37099770879914, 179.46981105842806, 178.34107010837505, 173.82610630816302, 168.182401557898, 156.89499205736794, 317.1939968177411, 234.80730423377585, 135.4489140063608, 129.80520925609576, 126.41898640593676, 125.29024545588375, 111.74535405524767, 110.61661310519466, 177.2637204660704, 223.55683254501233, 139.99306442932325, 177.39091200609818, 147.9680620363129, 297.2968030096359, 406.0853176646096, 211.39483817519846, 359.8777403991985, 23.15855145606882, 5.789637864017205, 11.57927572803441, 5.789637864017205, 5.789637864017205, 11.57927572803441, 11.57927572803441, 72.9494370866168, 5.789637864017205, 5.789637864017205, 5.789637864017205, 11.57927572803441, 11.57927572803441, 496.7509287326763, 76.42321980502712, 126.21410543557508, 145.8988741732336, 5.789637864017205, 5.789637864017205, 23.15855145606882, 126.21410543557508, 5.789637864017205, 61.370161358582386, 5.789637864017205, 61.370161358582386, 5.789637864017205, 5.789637864017205, 5.789637864017205, 5.789637864017205, 5.789637864017205, 1846.8944786214888, 1100.0311941632692, 1096.5574114448589, 712.1254572741163, 654.2290786339443, 632.2284547506789, 363.58925786028055, 360.1154751418702, 352.00998213224614, 331.1672858217842, 233.90136970629516, 228.11173184227792, 163.26778776528522, 148.21472931884048, 142.42509145482327, 133.16167087239575, 123.89825028996822, 119.26653999875445, 119.26653999875445, 114.63482970754067, 113.47690213473724, 195.6605731810311, 107.68726427072005, 107.68726427072005, 106.52933669791659, 105.37140912511315, 179.50097846953128, 215.17022218218705, 166.62546888431078, 125.03020811614905, 397.8743917264977, 181.03577673862898, 485.22829553752945, 335.8557583092536, 354.9627787511655, 3.3868677417760025, 6.773735483552005, 3.3868677417760025, 6.773735483552005, 2.2579118278506685, 2.2579118278506685, 2.2579118278506685, 3.3868677417760025, 1.1289559139253342, 1.1289559139253342, 3.3868677417760025, 6.773735483552005, 4.515823655701337, 2.2579118278506685, 1.1289559139253342, 4.515823655701337, 4.515823655701337, 4.515823655701337, 1.1289559139253342, 4.515823655701337, 1.1289559139253342, 1.1289559139253342, 11.289559139253342, 1.1289559139253342, 6.773735483552005, 1.1289559139253342, 5.644779569626671, 1.1289559139253342, 1.1289559139253342, 1.1289559139253342, 666.0837742520748, 524.9644999752804, 397.3924817017176, 390.61874621816565, 247.2413451496482, 246.11238923572284, 242.72552149394684, 238.20969783824555, 234.82283009646952, 228.04909461291754, 207.72788816226148, 197.56728493693348, 191.92250536730683, 186.27772579768015, 163.69860751917346, 158.0538279495468, 149.0221806381441, 137.73262149889078, 134.34575375711478, 133.21679784318945, 126.44306235963742, 285.6968494344753, 125.3141064457121, 114.02454730645877, 112.89559139253342, 111.76663547860808, 108.37976773683208, 108.37976773683208, 104.99289999505609, 104.99289999505609, 221.27406934613154, 121.962740309619, 118.5693426210382, 280.5192243316311, 1627.1693057744917, 346.3731784182512, 135.70648294206495, 138.0223183139443, 415.1192986938729, 207.23079399999213], \"Category\": [\"Default\", \"Default\", \"Default\", \"Default\", \"Default\", \"Default\", \"Default\", \"Default\", \"Default\", \"Default\", \"Default\", \"Default\", \"Default\", \"Default\", \"Default\", \"Default\", \"Default\", \"Default\", \"Default\", \"Default\", \"Default\", \"Default\", \"Default\", \"Default\", \"Default\", \"Default\", \"Default\", \"Default\", \"Default\", \"Default\", \"Topic1\", \"Topic1\", \"Topic1\", \"Topic1\", \"Topic1\", \"Topic1\", \"Topic1\", \"Topic1\", \"Topic1\", \"Topic1\", \"Topic1\", \"Topic1\", \"Topic1\", \"Topic1\", \"Topic1\", \"Topic1\", \"Topic1\", \"Topic1\", \"Topic1\", \"Topic1\", \"Topic1\", \"Topic1\", \"Topic1\", \"Topic1\", \"Topic1\", \"Topic1\", \"Topic1\", \"Topic1\", \"Topic1\", \"Topic1\", \"Topic1\", \"Topic1\", \"Topic1\", \"Topic1\", \"Topic1\", \"Topic1\", \"Topic1\", \"Topic1\", \"Topic1\", \"Topic1\", \"Topic1\", \"Topic1\", \"Topic1\", \"Topic1\", \"Topic1\", \"Topic1\", \"Topic1\", \"Topic1\", \"Topic1\", \"Topic1\", \"Topic1\", \"Topic1\", \"Topic1\", \"Topic1\", \"Topic1\", \"Topic1\", \"Topic1\", \"Topic1\", \"Topic1\", \"Topic1\", \"Topic1\", \"Topic1\", \"Topic1\", \"Topic1\", \"Topic1\", \"Topic1\", \"Topic1\", \"Topic1\", \"Topic2\", \"Topic2\", \"Topic2\", \"Topic2\", \"Topic2\", \"Topic2\", \"Topic2\", \"Topic2\", \"Topic2\", \"Topic2\", \"Topic2\", \"Topic2\", \"Topic2\", \"Topic2\", \"Topic2\", \"Topic2\", \"Topic2\", \"Topic2\", \"Topic2\", \"Topic2\", \"Topic2\", \"Topic2\", \"Topic2\", \"Topic2\", \"Topic2\", \"Topic2\", \"Topic2\", \"Topic2\", \"Topic2\", \"Topic2\", \"Topic2\", \"Topic2\", \"Topic2\", \"Topic2\", \"Topic2\", \"Topic2\", \"Topic2\", \"Topic2\", \"Topic2\", \"Topic2\", \"Topic2\", \"Topic2\", \"Topic2\", \"Topic2\", \"Topic2\", \"Topic2\", \"Topic2\", \"Topic2\", \"Topic2\", \"Topic2\", \"Topic2\", \"Topic2\", \"Topic2\", \"Topic2\", \"Topic2\", \"Topic2\", \"Topic2\", \"Topic2\", \"Topic2\", \"Topic2\", \"Topic2\", \"Topic2\", \"Topic2\", \"Topic2\", \"Topic2\", \"Topic2\", \"Topic2\", \"Topic2\", \"Topic2\", \"Topic2\", \"Topic3\", \"Topic3\", \"Topic3\", \"Topic3\", \"Topic3\", \"Topic3\", \"Topic3\", \"Topic3\", \"Topic3\", \"Topic3\", \"Topic3\", \"Topic3\", \"Topic3\", \"Topic3\", \"Topic3\", \"Topic3\", \"Topic3\", \"Topic3\", \"Topic3\", \"Topic3\", \"Topic3\", \"Topic3\", \"Topic3\", \"Topic3\", \"Topic3\", \"Topic3\", \"Topic3\", \"Topic3\", \"Topic3\", \"Topic3\", \"Topic3\", \"Topic3\", \"Topic3\", \"Topic3\", \"Topic3\", \"Topic3\", \"Topic3\", \"Topic3\", \"Topic3\", \"Topic3\", \"Topic3\", \"Topic3\", \"Topic3\", \"Topic3\", \"Topic3\", \"Topic3\", \"Topic3\", \"Topic3\", \"Topic3\", \"Topic3\", \"Topic3\", \"Topic3\", \"Topic3\", \"Topic3\", \"Topic3\", \"Topic3\", \"Topic3\", \"Topic3\", \"Topic3\", \"Topic3\", \"Topic3\", \"Topic3\", \"Topic3\", \"Topic3\", \"Topic3\", \"Topic3\", \"Topic3\", \"Topic3\", \"Topic3\", \"Topic3\", \"Topic3\", \"Topic3\", \"Topic3\", \"Topic4\", \"Topic4\", \"Topic4\", \"Topic4\", \"Topic4\", \"Topic4\", \"Topic4\", \"Topic4\", \"Topic4\", \"Topic4\", \"Topic4\", \"Topic4\", \"Topic4\", \"Topic4\", \"Topic4\", \"Topic4\", \"Topic4\", \"Topic4\", \"Topic4\", \"Topic4\", \"Topic4\", \"Topic4\", \"Topic4\", \"Topic4\", \"Topic4\", \"Topic4\", \"Topic4\", \"Topic4\", \"Topic4\", \"Topic4\", \"Topic4\", \"Topic4\", \"Topic4\", \"Topic4\", \"Topic4\", \"Topic4\", \"Topic4\", \"Topic4\", \"Topic4\", \"Topic4\", \"Topic4\", \"Topic4\", \"Topic4\", \"Topic4\", \"Topic4\", \"Topic4\", \"Topic4\", \"Topic4\", \"Topic4\", \"Topic4\", \"Topic4\", \"Topic4\", \"Topic4\", \"Topic4\", \"Topic4\", \"Topic4\", \"Topic4\", \"Topic4\", \"Topic4\", \"Topic4\", \"Topic4\", \"Topic4\", \"Topic4\", \"Topic4\", \"Topic4\", \"Topic4\", \"Topic4\", \"Topic4\", \"Topic4\", \"Topic4\", \"Topic4\", \"Topic5\", \"Topic5\", \"Topic5\", \"Topic5\", \"Topic5\", \"Topic5\", \"Topic5\", \"Topic5\", \"Topic5\", \"Topic5\", \"Topic5\", \"Topic5\", \"Topic5\", \"Topic5\", \"Topic5\", \"Topic5\", \"Topic5\", \"Topic5\", \"Topic5\", \"Topic5\", \"Topic5\", \"Topic5\", \"Topic5\", \"Topic5\", \"Topic5\", \"Topic5\", \"Topic5\", \"Topic5\", \"Topic5\", \"Topic5\", \"Topic5\", \"Topic5\", \"Topic5\", \"Topic5\", \"Topic5\", \"Topic5\", \"Topic5\", \"Topic5\", \"Topic5\", \"Topic5\", \"Topic5\", \"Topic5\", \"Topic5\", \"Topic5\", \"Topic5\", \"Topic5\", \"Topic5\", \"Topic5\", \"Topic5\", \"Topic5\", \"Topic5\", \"Topic5\", \"Topic5\", \"Topic5\", \"Topic5\", \"Topic5\", \"Topic5\", \"Topic5\", \"Topic5\", \"Topic5\", \"Topic5\", \"Topic5\", \"Topic5\", \"Topic5\", \"Topic5\", \"Topic5\", \"Topic5\", \"Topic5\", \"Topic5\", \"Topic5\", \"Topic5\", \"Topic5\", \"Topic5\", \"Topic5\", \"Topic5\", \"Topic5\", \"Topic6\", \"Topic6\", \"Topic6\", \"Topic6\", \"Topic6\", \"Topic6\", \"Topic6\", \"Topic6\", \"Topic6\", \"Topic6\", \"Topic6\", \"Topic6\", \"Topic6\", \"Topic6\", \"Topic6\", \"Topic6\", \"Topic6\", \"Topic6\", \"Topic6\", \"Topic6\", \"Topic6\", \"Topic6\", \"Topic6\", \"Topic6\", \"Topic6\", \"Topic6\", \"Topic6\", \"Topic6\", \"Topic6\", \"Topic6\", \"Topic6\", \"Topic6\", \"Topic6\", \"Topic6\", \"Topic6\", \"Topic6\", \"Topic6\", \"Topic6\", \"Topic6\", \"Topic6\", \"Topic6\", \"Topic6\", \"Topic6\", \"Topic6\", \"Topic6\", \"Topic6\", \"Topic6\", \"Topic6\", \"Topic6\", \"Topic6\", \"Topic6\", \"Topic6\", \"Topic6\", \"Topic6\", \"Topic6\", \"Topic6\", \"Topic6\", \"Topic6\", \"Topic6\", \"Topic6\", \"Topic6\", \"Topic6\", \"Topic6\", \"Topic6\", \"Topic6\", \"Topic6\", \"Topic6\", \"Topic6\", \"Topic6\", \"Topic7\", \"Topic7\", \"Topic7\", \"Topic7\", \"Topic7\", \"Topic7\", \"Topic7\", \"Topic7\", \"Topic7\", \"Topic7\", \"Topic7\", \"Topic7\", \"Topic7\", \"Topic7\", \"Topic7\", \"Topic7\", \"Topic7\", \"Topic7\", \"Topic7\", \"Topic7\", \"Topic7\", \"Topic7\", \"Topic7\", \"Topic7\", \"Topic7\", \"Topic7\", \"Topic7\", \"Topic7\", \"Topic7\", \"Topic7\", \"Topic7\", \"Topic7\", \"Topic7\", \"Topic7\", \"Topic7\", \"Topic7\", \"Topic7\", \"Topic7\", \"Topic7\", \"Topic7\", \"Topic7\", \"Topic7\", \"Topic7\", \"Topic7\", \"Topic7\", \"Topic7\", \"Topic7\", \"Topic7\", \"Topic7\", \"Topic7\", \"Topic7\", \"Topic7\", \"Topic7\", \"Topic7\", \"Topic7\", \"Topic7\", \"Topic7\", \"Topic7\", \"Topic7\", \"Topic7\", \"Topic7\", \"Topic7\", \"Topic7\", \"Topic7\", \"Topic7\", \"Topic8\", \"Topic8\", \"Topic8\", \"Topic8\", \"Topic8\", \"Topic8\", \"Topic8\", \"Topic8\", \"Topic8\", \"Topic8\", \"Topic8\", \"Topic8\", \"Topic8\", \"Topic8\", \"Topic8\", \"Topic8\", \"Topic8\", \"Topic8\", \"Topic8\", \"Topic8\", \"Topic8\", \"Topic8\", \"Topic8\", \"Topic8\", \"Topic8\", \"Topic8\", \"Topic8\", \"Topic8\", \"Topic8\", \"Topic8\", \"Topic8\", \"Topic8\", \"Topic8\", \"Topic8\", \"Topic8\", \"Topic8\", \"Topic8\", \"Topic8\", \"Topic8\", \"Topic8\", \"Topic8\", \"Topic8\", \"Topic8\", \"Topic8\", \"Topic8\", \"Topic8\", \"Topic8\", \"Topic8\", \"Topic8\", \"Topic8\", \"Topic8\", \"Topic8\", \"Topic8\", \"Topic8\", \"Topic8\", \"Topic8\", \"Topic8\", \"Topic8\", \"Topic8\", \"Topic8\", \"Topic8\", \"Topic8\", \"Topic8\", \"Topic8\", \"Topic8\", \"Topic8\", \"Topic8\", \"Topic8\", \"Topic8\", \"Topic8\"], \"logprob\": [30.0, 29.0, 28.0, 27.0, 26.0, 25.0, 24.0, 23.0, 22.0, 21.0, 20.0, 19.0, 18.0, 17.0, 16.0, 15.0, 14.0, 13.0, 12.0, 11.0, 10.0, 9.0, 8.0, 7.0, 6.0, 5.0, 4.0, 3.0, 2.0, 1.0, -8.3651, -6.7557, -8.3651, -7.672, -7.2665, -6.8391, -6.4192, -5.8002, -6.1459, -5.5678, -6.8391, -7.1413, -6.1244, -6.4192, -8.3651, -7.1413, -7.672, -7.2665, -8.3651, -7.672, -8.3651, -8.3651, -8.3651, -5.6307, -6.4192, -8.3651, -7.672, -6.1244, -8.3651, -6.9788, -2.668, -2.7049, -3.376, -3.5961, -3.6132, -3.8412, -4.131, -4.3291, -4.5192, -4.5321, -4.7223, -4.8329, -4.8566, -4.9183, -4.5496, -5.1462, -5.1705, -4.2412, -5.2296, -5.2472, -5.265, -5.265, -5.3111, -5.3496, -5.3896, -5.4207, -5.4207, -5.4859, -5.5437, -4.7171, -5.0917, -4.3798, -4.3873, -5.0329, -4.8329, -4.9573, -4.9773, -5.2472, -3.2262, -4.1358, -5.4007, -8.8453, -9.944, -8.5577, -9.944, -7.4591, -9.944, -9.944, -8.1522, -9.944, -9.2508, -7.998, -9.2508, -9.944, -9.944, -9.944, -9.944, -9.944, -9.944, -8.5577, -9.2508, -9.944, -9.944, -9.2508, -9.2508, -9.944, -9.944, -9.944, -3.312, -3.6036, -4.069, -4.0747, -4.2402, -4.3833, -4.3871, -4.3021, -4.6761, -3.7314, -4.9333, -4.9535, -5.0313, -5.0313, -4.6456, -5.1733, -5.1904, -5.2255, -5.2344, -5.2435, -5.2526, -5.319, -5.4007, -5.4114, -5.4331, -5.4666, -5.478, -4.0975, -4.8751, -4.9135, -4.9604, -4.751, -4.9672, -4.4972, -4.2302, -4.118, -4.7455, -4.7182, -4.8814, -4.7849, -6.7417, -9.9606, -8.862, -9.9606, -9.2674, -8.862, -9.9606, -9.9606, -9.9606, -9.2674, -9.9606, -9.9606, -9.9606, -9.9606, -9.2674, -9.9606, -8.862, -9.9606, -9.9606, -9.9606, -9.9606, -9.9606, -8.3511, -9.2674, -9.2674, -8.3511, -9.9606, -9.9606, -7.7634, -8.1688, -1.7592, -2.1035, -4.3366, -4.4154, -4.1405, -4.6425, -4.6927, -4.7295, -4.9838, -5.0406, -5.0778, -5.1566, -5.1731, -5.1815, -5.2244, -5.2332, -4.8073, -5.3962, -4.8248, -5.428, -5.5179, -5.5179, -5.5179, -5.5417, -5.5911, -5.6168, -5.6431, -5.6565, -5.6979, -5.7121, -4.5489, -5.428, -5.5062, -4.8546, -3.2513, -4.6825, -5.3258, -4.6723, -4.3011, -4.8668, -5.4947, -5.4067, -5.3756, -5.1116, -7.6293, -8.8333, -6.9874, -7.7347, -6.5646, -7.6293, -6.6738, -7.3669, -8.8333, -8.8333, -8.8333, -6.713, -8.1401, -8.3224, -6.6738, -8.3224, -6.7538, -6.2943, -7.0415, -7.3669, -8.8333, -8.1401, -8.8333, -5.6552, -7.3669, -8.8333, -7.447, -8.8333, -8.8333, -2.9407, -3.4246, -3.3252, -3.8428, -4.1921, -4.3115, -4.3597, -4.5202, -4.6487, -4.8259, -4.8505, -4.9414, -4.6138, -5.1279, -5.1528, -5.1869, -5.2497, -4.7445, -5.2875, -5.3368, -5.3469, -5.4101, -5.4432, -5.4545, -5.466, -5.5011, -5.5374, -5.6011, -5.6144, -4.5247, -4.5612, -5.3069, -4.4306, -3.4503, -5.0491, -5.2591, -4.6436, -4.0682, -4.5428, -5.1957, -5.2779, -8.5224, -9.9087, -9.9087, -9.9087, -7.8292, -9.9087, -9.2155, -9.9087, -8.8101, -8.8101, -9.2155, -8.2992, -9.9087, -9.9087, -9.9087, -9.9087, -9.9087, -9.9087, -9.9087, -8.8101, -8.8101, -9.9087, -9.9087, -8.2992, -9.9087, -8.5224, -8.1169, -8.8101, -9.9087, -9.2155, -2.9398, -3.3184, -3.4425, -4.0565, -4.0856, -4.0394, -4.4793, -4.5242, -4.5906, -4.6776, -4.6883, -4.7047, -4.8088, -5.0335, -5.2936, -5.334, -5.4089, -4.5427, -5.5142, -5.5392, -5.6182, -5.632, -5.646, -5.646, -5.6746, -5.6746, -5.6746, -5.6892, -5.719, -5.7343, -5.0411, -4.8461, -4.6306, -5.1551, -5.2739, -5.5142, -4.7612, -4.8398, -4.4837, -4.5474, -5.3035, -5.138, -4.7496, -5.2452, -4.9528, -5.0724, -8.564, -9.9503, -9.2571, -9.9503, -8.564, -9.9503, -8.3408, -9.9503, -9.9503, -8.564, -8.8517, -9.9503, -9.9503, -9.9503, -9.9503, -9.9503, -9.9503, -9.9503, -9.9503, -6.9545, -9.9503, -9.9503, -9.9503, -9.9503, -9.2571, -9.9503, -9.9503, -9.9503, -9.9503, -9.9503, -2.5285, -2.6539, -2.7125, -3.7997, -3.8681, -4.0049, -4.0287, -3.9366, -4.2073, -4.3155, -4.5122, -4.5658, -4.6127, -4.7085, -4.8086, -4.4328, -4.8383, -4.8814, -4.8877, -4.9133, -4.9463, -5.0158, -4.3191, -4.6176, -5.1628, -5.2053, -5.2318, -5.2407, -5.3552, -5.3653, -4.9004, -4.6773, -5.1381, -4.9264, -5.0982, -4.6371, -4.5253, -5.045, -5.0158, -6.8976, -8.2838, -7.5907, -8.2838, -8.2838, -7.5907, -7.5907, -5.7502, -8.2838, -8.2838, -8.2838, -7.5907, -7.5907, -3.8318, -5.7036, -5.2019, -5.057, -8.2838, -8.2838, -6.8976, -5.2019, -8.2838, -5.923, -8.2838, -5.923, -8.2838, -8.2838, -8.2838, -8.2838, -8.2838, -2.5187, -3.0368, -3.04, -3.4717, -3.5565, -3.5907, -4.1439, -4.1535, -4.1763, -4.2373, -4.585, -4.6101, -4.9445, -5.0413, -5.0811, -5.1484, -5.2205, -5.2586, -5.2586, -5.2982, -5.3083, -4.7693, -5.3607, -5.3607, -5.3715, -5.3824, -4.8563, -4.7059, -4.9516, -5.2298, -4.4337, -5.0181, -4.4465, -5.0413, -5.2112, -8.7947, -8.1015, -8.7947, -8.1015, -9.2001, -9.2001, -9.2001, -8.7947, -9.8933, -9.8933, -8.7947, -8.1015, -8.507, -9.2001, -9.8933, -8.507, -8.507, -8.507, -9.8933, -8.507, -9.8933, -9.8933, -7.5907, -9.8933, -8.1015, -9.8933, -8.2838, -9.8933, -9.8933, -9.8933, -3.5149, -3.7512, -4.0297, -4.0468, -4.5042, -4.5088, -4.5226, -4.5414, -4.5557, -4.585, -4.6783, -4.7285, -4.7575, -4.7873, -4.9166, -4.9516, -5.0105, -5.0893, -5.1142, -5.1226, -5.1748, -4.3678, -5.1838, -5.2782, -5.2881, -5.2982, -5.3289, -5.3289, -5.3607, -5.3607, -4.6463, -5.2205, -5.2489, -4.6675, -3.4717, -4.5703, -5.1748, -5.1659, -4.8119, -5.0893], \"loglift\": [30.0, 29.0, 28.0, 27.0, 26.0, 25.0, 24.0, 23.0, 22.0, 21.0, 20.0, 19.0, 18.0, 17.0, 16.0, 15.0, 14.0, 13.0, 12.0, 11.0, 10.0, 9.0, 8.0, 7.0, 6.0, 5.0, 4.0, 3.0, 2.0, 1.0, 2.0485, 2.0485, 2.0485, 2.0485, 2.0485, 2.0485, 2.0485, 2.0485, 2.0485, 2.0485, 2.0485, 2.0485, 2.0485, 2.0485, 2.0485, 2.0485, 2.0485, 2.0485, 2.0485, 2.0485, 2.0485, 2.0485, 2.0485, 2.0485, 2.0485, 2.0485, 2.0485, 2.0485, 2.0485, 2.0485, 2.0485, 2.0485, 2.0485, 2.0485, 2.0485, 2.0485, 2.0485, 2.0485, 2.0485, 2.0485, 2.0485, 2.0485, 2.0485, 2.0485, 2.0441, 2.0485, 2.0485, 2.0387, 2.0485, 2.0485, 2.0485, 2.0485, 2.0485, 2.0485, 2.0485, 2.0485, 2.0485, 2.0485, 2.0485, 1.9143, 1.9597, 1.578, 1.5317, 1.8153, 1.6066, 1.6791, 1.3815, 1.381, 2.0548, 2.0548, 2.0548, 2.0548, 2.0548, 2.0548, 2.0548, 2.0548, 2.0548, 2.0548, 2.0548, 2.0548, 2.0548, 2.0548, 2.0548, 2.0548, 2.0548, 2.0548, 2.0548, 2.0548, 2.0548, 2.0548, 2.0548, 2.0548, 2.0548, 2.0548, 2.0548, 2.0548, 2.0548, 2.0548, 2.0548, 2.0548, 2.0548, 2.0548, 2.0548, 2.0548, 2.0548, 2.0513, 2.0548, 2.0427, 2.0548, 2.0548, 2.0548, 2.0548, 2.0498, 2.0548, 2.0548, 2.0548, 2.0548, 2.0548, 2.0548, 2.0548, 2.0548, 2.0548, 2.0548, 2.0548, 2.0548, 2.0406, 2.0486, 2.0359, 2.035, 1.9583, 1.9426, 1.7326, 1.4899, 1.0021, 1.4698, 1.2482, 1.3577, 0.4983, 2.0615, 2.0615, 2.0615, 2.0615, 2.0615, 2.0615, 2.0615, 2.0615, 2.0615, 2.0615, 2.0615, 2.0615, 2.0615, 2.0615, 2.0615, 2.0615, 2.0615, 2.0615, 2.0615, 2.0615, 2.0615, 2.0615, 2.0615, 2.0615, 2.0615, 2.0615, 2.0615, 2.0615, 2.0615, 2.0615, 2.061, 2.0615, 2.0615, 2.0615, 2.0584, 2.0615, 2.0615, 2.0615, 2.0615, 2.0615, 2.0615, 2.0615, 2.0615, 2.0615, 2.0615, 2.0615, 2.0556, 2.0615, 2.0557, 2.0615, 2.0615, 2.0615, 2.0615, 2.0615, 2.0615, 2.0615, 2.0615, 2.0615, 2.0615, 2.0615, 2.0477, 2.0509, 2.0497, 1.9206, 1.5052, 1.7889, 1.9233, 1.4502, 0.819, 1.3723, 2.0268, 1.3901, 0.5822, 2.0698, 2.0698, 2.0698, 2.0698, 2.0698, 2.0698, 2.0698, 2.0698, 2.0698, 2.0698, 2.0698, 2.0698, 2.0698, 2.0698, 2.0698, 2.0698, 2.0698, 2.0698, 2.0698, 2.0698, 2.0698, 2.0698, 2.0698, 2.0698, 2.0698, 2.0698, 2.0698, 2.0698, 2.0698, 2.0698, 2.0698, 2.0698, 2.0684, 2.0698, 2.0698, 2.0698, 2.0698, 2.0698, 2.0698, 2.0698, 2.0698, 2.0698, 2.065, 2.0698, 2.0698, 2.0698, 2.0698, 2.0643, 2.0698, 2.0698, 2.0698, 2.0698, 2.0698, 2.0698, 2.0698, 2.0698, 2.0698, 2.0698, 2.0698, 2.0482, 2.0466, 2.0602, 1.9565, 1.8329, 1.9776, 2.0253, 1.6354, 1.0518, 1.2372, 1.4214, 1.3503, 2.0767, 2.0767, 2.0767, 2.0767, 2.0767, 2.0767, 2.0767, 2.0767, 2.0767, 2.0767, 2.0767, 2.0767, 2.0767, 2.0767, 2.0767, 2.0767, 2.0767, 2.0767, 2.0767, 2.0767, 2.0767, 2.0767, 2.0767, 2.0767, 2.0767, 2.0767, 2.0767, 2.0767, 2.0767, 2.0767, 2.0767, 2.0767, 2.0767, 2.0767, 2.0767, 2.074, 2.0767, 2.0767, 2.0767, 2.0767, 2.0767, 2.0767, 2.0767, 2.0767, 2.0767, 2.0767, 2.0767, 2.0678, 2.0767, 2.0767, 2.0767, 2.0767, 2.0767, 2.0767, 2.0767, 2.0767, 2.0767, 2.0767, 2.0767, 2.0767, 2.0692, 2.0586, 2.0324, 2.0441, 1.8781, 1.9859, 1.5041, 1.4946, 1.2364, 1.2326, 1.8171, 1.6536, 1.1694, 1.7402, 1.2624, 1.0721, 2.0797, 2.0797, 2.0797, 2.0797, 2.0797, 2.0797, 2.0797, 2.0797, 2.0797, 2.0797, 2.0797, 2.0797, 2.0797, 2.0797, 2.0797, 2.0797, 2.0797, 2.0797, 2.0797, 2.0797, 2.0797, 2.0797, 2.0797, 2.0797, 2.0797, 2.0797, 2.0797, 2.0797, 2.0797, 2.0797, 2.0797, 2.0797, 2.0775, 2.0797, 2.0797, 2.0797, 2.0797, 2.0772, 2.0797, 2.0797, 2.0797, 2.0797, 2.0797, 2.0797, 2.0797, 2.0756, 2.0797, 2.0797, 2.0797, 2.0797, 2.0797, 2.0797, 2.0725, 2.0747, 2.0797, 2.0797, 2.0797, 2.0797, 2.0797, 2.0797, 2.073, 2.0641, 2.0714, 2.0463, 2.0558, 1.8192, 1.6192, 1.7523, 1.2495, 2.1111, 2.1111, 2.1111, 2.1111, 2.1111, 2.1111, 2.1111, 2.1111, 2.1111, 2.1111, 2.1111, 2.1111, 2.1111, 2.1111, 2.1111, 2.1111, 2.1111, 2.1111, 2.1111, 2.1111, 2.1111, 2.1111, 2.1111, 2.1111, 2.1111, 2.1111, 2.1111, 2.1111, 2.1111, 2.1111, 2.1111, 2.1111, 2.1111, 2.1111, 2.1111, 2.1111, 2.1111, 2.1111, 2.1111, 2.1111, 2.1111, 2.1111, 2.1111, 2.1111, 2.1111, 2.1111, 2.1111, 2.1111, 2.1111, 2.1111, 2.1111, 2.1053, 2.1111, 2.1111, 2.1111, 2.1111, 2.1045, 2.0737, 2.0836, 2.0926, 1.7312, 1.9343, 1.5199, 1.2931, 1.0679, 2.1365, 2.1365, 2.1365, 2.1365, 2.1365, 2.1365, 2.1365, 2.1365, 2.1365, 2.1365, 2.1365, 2.1365, 2.1365, 2.1365, 2.1365, 2.1365, 2.1365, 2.1365, 2.1365, 2.1365, 2.1365, 2.1365, 2.1365, 2.1365, 2.1365, 2.1365, 2.1365, 2.1365, 2.1365, 2.1365, 2.1348, 2.1365, 2.1365, 2.1365, 2.1365, 2.1365, 2.1365, 2.1365, 2.1365, 2.1365, 2.1365, 2.1365, 2.1365, 2.1365, 2.1365, 2.1365, 2.1365, 2.1365, 2.1365, 2.1365, 2.1365, 2.1283, 2.1365, 2.1365, 2.1365, 2.1365, 2.1365, 2.1365, 2.1365, 2.1365, 2.1054, 2.1269, 2.1266, 1.8469, 1.2848, 1.7332, 2.0658, 2.0577, 1.3106, 1.7279]}, \"token.table\": {\"Topic\": [1, 2, 7, 6, 7, 2, 1, 3, 6, 2, 7, 6, 5, 6, 1, 6, 7, 2, 6, 6, 7, 3, 1, 2, 3, 6, 7, 7, 7, 5, 5, 7, 5, 2, 1, 2, 5, 6, 7, 2, 6, 6, 7, 2, 2, 6, 8, 2, 7, 5, 6, 4, 6, 7, 7, 7, 7, 6, 6, 2, 3, 5, 6, 4, 5, 8, 5, 4, 2, 5, 7, 1, 5, 3, 8, 8, 3, 1, 8, 2, 7, 3, 7, 3, 1, 1, 3, 5, 4, 2, 3, 6, 1, 5, 1, 7, 4, 6, 7, 5, 6, 4, 1, 4, 1, 3, 7, 2, 2, 7, 1, 2, 5, 3, 8, 2, 5, 6, 2, 2, 7, 5, 5, 1, 5, 7, 5, 4, 6, 2, 6, 8, 3, 8, 4, 5, 4, 8, 5, 8, 8, 3, 8, 1, 4, 5, 6, 8, 8, 3, 4, 5, 2, 7, 5, 3, 7, 7, 8, 5, 6, 6, 2, 8, 6, 8, 4, 3, 5, 7, 3, 3, 5, 3, 7, 6, 7, 4, 2, 2, 5, 3, 1, 3, 1, 3, 6, 5, 1, 5, 1, 5, 8, 8, 3, 4, 5, 6, 2, 7, 4, 2, 2, 1, 6, 4, 6, 3, 4, 2, 4, 6, 8, 5, 1, 1, 1, 4, 7, 8, 1, 7, 8, 7, 5, 6, 8, 6, 2, 6, 3, 6, 5, 6, 3, 6, 4, 1, 4, 6, 3, 4, 2, 5, 8, 3, 1, 6, 2, 2, 7, 2, 2, 4, 4, 1, 7, 1, 2, 5, 5, 5, 2, 3, 2, 3, 2, 3, 2, 2, 8, 2, 3, 4, 5, 5, 2, 5, 8, 3, 5, 7, 8, 6, 3, 4, 3, 8, 1, 4, 7, 8, 8, 2, 3, 5, 6, 4, 1, 4, 7, 3, 8, 8, 5, 8, 4, 4, 4, 5, 6, 1, 1, 1, 6, 2, 3, 6, 7, 4, 8, 3, 8, 3, 5, 2, 3, 1, 5, 3, 4, 5, 3, 7, 5, 6, 3, 8, 1, 3, 6, 5, 8, 8, 1, 4, 6, 4, 4, 8, 1, 2, 3, 6, 4, 1, 5, 6, 6, 8, 3, 4, 2, 8, 3, 3, 5, 6, 1, 5, 7, 4, 7, 3, 1, 3, 4, 2, 5, 7, 8, 5, 3, 6, 4, 7, 2, 2, 4, 7, 8, 4, 6, 3, 6, 2, 5, 3, 5, 3, 6, 7, 4, 1, 3, 7, 8, 1, 6, 8, 2, 7, 8, 3, 3, 5, 3, 2, 8, 5, 3, 1, 4, 6, 8, 4, 2, 4, 6, 5, 4, 2, 8, 1, 2, 4, 2, 4, 5, 6, 4, 5, 5, 8, 7, 2, 7, 8, 6, 6, 6, 4, 3, 5, 3, 4, 3, 2, 5, 7, 5, 4, 8, 7, 1, 5, 4, 7, 5, 3, 6, 1, 1, 1, 3, 1, 3, 3, 4, 1, 4, 6, 7, 7, 8, 6, 3, 7, 8, 2, 3, 8, 8, 4, 1, 4, 5, 7, 4, 6, 7, 2, 1, 2, 7, 2, 4, 2, 4, 2, 6, 2, 5, 7, 1, 3, 3, 8, 3, 8, 4, 4, 2, 6, 2, 2, 3, 4, 5, 5, 4, 7, 5, 1, 4, 4, 7, 5, 4, 7, 6, 7, 4, 7, 1, 8, 4, 1, 7, 8, 2, 6, 8, 8, 4, 8, 2, 3, 5, 2, 5, 1, 5, 1, 1, 5, 1, 4, 8, 3, 1, 3, 8, 7, 1, 1, 4, 3, 7, 8, 1, 4, 4, 6, 7, 8, 6, 7, 6, 2, 4, 6, 1, 8, 8, 7, 8, 4, 5, 3, 5, 5, 3, 3, 2, 7, 7, 4, 6, 1, 2, 4, 6, 4, 8, 1, 3, 1, 5, 1, 2, 7, 8, 1, 4, 7, 7, 5, 8, 8, 8, 2, 7, 3, 5, 1, 7, 1, 5, 1, 1, 1, 4, 6, 3, 5, 6, 8, 6, 2, 2, 4, 6, 6, 2, 7, 3, 5], \"Freq\": [1.0011588713768842, 0.8587689831196575, 1.0011296872249105, 0.9965618436086976, 0.0042588112974730665, 1.0004215988919722, 1.055880598508043, 0.8790158790504693, 0.8859428728558479, 0.9860727871135375, 0.014680984423526614, 0.9999238272583547, 0.9989550533642473, 0.8859428728558479, 0.004473135482444509, 0.984089806137792, 0.008946270964889019, 0.9976874950948964, 0.9980199832773708, 0.998243402440321, 0.00216070000528208, 0.8790158790504693, 0.01652241888943246, 0.9803301874396593, 0.9980492793385537, 1.000064327664398, 1.0000571344923777, 1.0006931227354525, 0.9999716424739273, 0.8473626522700618, 0.8473626522700618, 1.0363342476547976, 1.1298168696934157, 1.0018971469729339, 0.9946701290293158, 0.343341292798873, 0.6537594479321006, 0.9929063312288259, 0.007143211016034719, 0.9996252713562153, 0.9999516071643754, 0.9992141077415273, 0.998303633061961, 0.9969616930469589, 0.7241137947326675, 0.2762360031757954, 1.0019412866625164, 0.997045344808416, 1.0031855090934487, 0.8473626522700618, 0.996685731962829, 0.8612192918119709, 0.9977424049289608, 0.001906514149545785, 1.0004036164003105, 0.998303633061961, 0.9996498495077251, 0.8859428728558479, 0.8859428728558479, 0.8587689831196575, 0.9962179962571986, 1.0014285890464367, 1.0015006388805239, 0.9972012852559664, 1.0010053309783697, 0.8857741809625146, 0.8473626522700618, 0.8612192918119709, 0.9980288182201426, 0.9968972379647786, 1.0008212360529196, 0.08597413229867756, 0.917057411185894, 0.9972028879984317, 1.1072177262031433, 1.0004037808517812, 1.001889066444621, 1.0006711554487988, 1.0011308184832142, 0.8587689831196575, 0.9931536540025144, 0.9994852552679541, 0.0004819118877858988, 1.001231990576203, 0.9678905486323728, 1.0023214377141565, 0.8790158790504693, 1.1298168696934157, 0.8612192918119709, 0.8587689831196577, 1.0031122384458298, 1.1074285910698098, 0.9972205652575961, 0.8473626522700618, 1.055880598508043, 0.9987859053484642, 0.007998067147669083, 0.007998067147669083, 0.9837622591632971, 0.8473626522700618, 0.8859428728558479, 0.9996789850293296, 0.7913987414861886, 0.20904872416616302, 0.487006402232056, 0.510647489719049, 0.9995101880934595, 0.8587689831196575, 0.8587689831196575, 0.9996386515839927, 1.00560057000766, 0.5576911814301113, 0.4440384762097569, 1.0015016982624199, 0.8857741809625146, 0.0024625367047274318, 0.36691796900438733, 0.6304093964102225, 0.8587689831196575, 0.8587689831196575, 1.0006931227354525, 0.8473626522700618, 1.0168351827240742, 0.035350351207121086, 0.9685996230751177, 1.0363342476547976, 0.9947300700561597, 0.9957890788568055, 0.004201641682940108, 0.033823604220455994, 0.9696099876530718, 1.0018411426058784, 0.8790158790504693, 0.8857741809625146, 0.9983414927398009, 0.0011622136120370207, 0.9789100012973624, 0.022677451767506466, 1.0037988342276118, 1.1072177262031433, 0.9964959535828289, 0.5733883970702824, 0.4265075536621393, 0.6416901679097309, 0.35722957801160277, 0.9929130923416846, 0.00784911535447972, 0.8857741809625146, 0.9995433418200853, 0.8790158790504693, 0.18211257276564724, 0.8228790324966282, 0.9958065868089646, 0.9996793385737597, 1.002368015490195, 0.8695948898103074, 0.1263513942459421, 1.002904110633675, 0.974351599058766, 1.0042816619497028, 0.9984435551232572, 0.8859428728558479, 1.0018971469729339, 1.0629290171550174, 0.03163497657310282, 0.9716457090310152, 1.001826523128211, 0.9996651173515141, 0.0055710002726795235, 0.9916380485369551, 0.9991938312644006, 0.9869535076248508, 0.015481623649017269, 0.9951056249958072, 0.005051297588811204, 0.03717986587022395, 0.9620290293920446, 0.993714567475351, 0.8587689831196575, 0.9878514742672189, 0.011901824991171312, 1.0009231907436, 0.9951255640700801, 0.8790158790504693, 0.9834182044927852, 0.006305289570625749, 0.9930831073735555, 0.9998413712911857, 1.055880598508043, 0.9958695088534748, 0.9966219934897345, 0.8473626522700618, 1.1072177262031433, 1.0009760253073503, 0.9899206899016688, 0.010101231529608866, 0.9983777784172017, 1.0022788056551006, 0.3166828592643215, 0.6836328390467893, 1.0047558404472994, 0.8587689831196575, 0.8587689831196575, 0.9997795599967098, 0.9973822279320553, 1.0021460850175663, 0.9989154539582715, 1.0023865287417633, 1.0000427000443484, 0.14191453423823336, 0.08987920501754779, 0.7190336401403823, 0.04730484474607778, 0.8473626522700618, 1.055880598508043, 1.00560057000766, 1.0017328755076305, 0.038604301250712306, 0.2943577970366813, 0.6659241965747873, 0.992228222002239, 0.0084338833116088, 0.9867643474582295, 0.9957973638179601, 1.0007645117327455, 0.8859428728558482, 0.8857741809625146, 0.9997337005621036, 0.9967854268353169, 0.8859428728558479, 0.0035436597896441806, 0.9957684008900148, 0.7712206833364837, 0.2287518975998045, 1.0028209324378594, 0.9995847596881425, 0.8612192918119709, 0.9999560072226429, 0.5214387387822317, 0.477985510550379, 1.0548190548605632, 0.9982314518729664, 0.041358880733971363, 0.9553901449547384, 0.8857741809625146, 0.976684310056077, 1.055880598508043, 0.8859428728558479, 1.000607704055337, 1.0003243100075132, 1.0363342476547976, 0.9953913213432396, 0.8587689831196575, 0.9987248930256472, 1.001826523128211, 0.9982496886479548, 1.002904110633675, 0.9999983384198735, 0.5686938229826954, 0.43175621688204635, 1.0014285890464367, 0.9947300700561597, 0.49807950293613784, 0.500786456756443, 0.2390350499524083, 0.7614973734198149, 1.073461228899572, 0.8790158790504693, 0.8587689831196575, 0.007000427214926991, 0.9905604509121693, 0.3492004186577748, 0.2890849035470692, 0.3615771423570377, 0.0008840516928044931, 0.9996169011727729, 0.9097023623048565, 0.09097023623048565, 1.0334032111229337, 0.8790158790504693, 0.5597641110767884, 0.4406653640391738, 1.002190216174731, 0.8859428728558479, 0.08925366071782546, 0.9103873393218198, 1.000259448574672, 1.1072177262031433, 0.9896816403491554, 0.008458817438881671, 1.0363342476547976, 0.8857741809625146, 0.8857741809625146, 1.0013445285796778, 1.001353140567803, 0.5640804562538931, 0.4362592691224691, 0.996691989400371, 0.9149092007144737, 0.08539152540001754, 1.0363342476547976, 0.25310208300042736, 0.7486117947899964, 0.9974263886468651, 1.1298168696934157, 1.0334032111229337, 1.0334631501743652, 1.00240278227295, 1.0047558404472994, 0.998262850619525, 0.8859428728558479, 1.055880598508043, 1.0003079354286724, 1.0003079354286724, 1.0631314474270175, 0.8587689831196575, 0.8790158790504693, 0.16018933120533876, 0.8396130463176377, 0.993714567475351, 0.9997847191062044, 0.8790158790504693, 0.8857741809625146, 0.9959345519145902, 0.0026003513104819586, 0.029277520439729626, 0.9661581745110777, 1.055880598508043, 0.8473626522700618, 1.0255185255588808, 0.9998736449154855, 1.1298168696934157, 0.8790158790504693, 1.0363342476547976, 0.8473626522700618, 0.9976834153782072, 1.0014104951207878, 1.0000676236673551, 1.055880598508043, 0.9921510062499521, 0.005140678788859855, 1.002513560432186, 1.0007544832989947, 0.9983725937967324, 0.9995669665876141, 1.0011127808372657, 0.8859428728558479, 0.9972012852559664, 1.0004062480644107, 1.0334032111229337, 0.6252540509375094, 0.14711860022059045, 0.22680784200674362, 0.8859428728558479, 1.0016354806943575, 0.002387185712751148, 0.9978436279299798, 1.1074285910698098, 0.8859428728558479, 1.0020879623010266, 0.004785089838409352, 0.9952986863891452, 0.008199225414756704, 0.9921062751855612, 0.9996028949490897, 0.9988816807391697, 0.005641312262716541, 0.9928709582381112, 0.6926576802735007, 0.3100851243084858, 0.9977651737129523, 0.8612192918119709, 1.0005014007079145, 0.8790158790504693, 0.9967014499190967, 0.8790158790504693, 1.0334631501743652, 0.8587689831196575, 0.8473626522700618, 1.0363342476547976, 0.99850907672138, 0.8473626522700618, 1.0045895760576793, 0.8859428728558479, 0.6479552611380519, 0.3521495984445934, 0.9990345836958684, 0.8587689831196575, 0.31468949327358353, 0.017322357427903678, 0.6669107609742917, 1.0002981836573823, 0.8859428728558479, 1.0031122384458298, 1.1074285910698098, 0.8946125802955847, 0.10587131127758398, 1.0031122384458298, 0.8473626522700618, 0.8790158790504693, 0.8859428728558479, 0.999494860063339, 0.8612192918119709, 0.9979359315167479, 1.0001186859165556, 0.996475238129613, 0.8857741809625146, 1.055880598508043, 0.8859428728558479, 0.8857741809625146, 0.9929864391428637, 0.0053674942656371, 0.9990123575060179, 0.8790158790504693, 1.0548190548605632, 1.0592033153375773, 0.8790158790504693, 0.8587689831196575, 0.9964959535828289, 1.0592033153375773, 0.8790158790504693, 0.9834182044927852, 0.8612192918119709, 1.000945072697713, 0.8857741809625146, 1.0047558404472996, 0.9994712458906749, 0.9998700517633002, 0.996685731962829, 0.8473626522700618, 1.0047558404472994, 0.9972801094292798, 1.0009248244876414, 0.512625085261235, 0.479060347535797, 0.006102679586443274, 1.0018971469729339, 0.4344325998905445, 0.4293015061910499, 0.13511880075335833, 0.9998063042874604, 1.0002890480939488, 0.9975281855837437, 0.8857741809625146, 1.0044181566944141, 0.4472121720758479, 0.5543782225272031, 0.8857741809625146, 0.9998649527984361, 0.9980875403059554, 0.9995252924527516, 0.9996295351388947, 0.9978018086518842, 1.0003586867077119, 0.10671371568683709, 0.8913733898547569, 0.8790158790504693, 1.0005840445522618, 0.9898099960983285, 0.006469346379727637, 1.002513560432186, 0.9546742558817319, 0.04619391560718058, 1.0363342476547976, 0.996113772177399, 0.9532829838038195, 1.0334631501743652, 1.0004216747162649, 0.9985138280803972, 0.8790158790504693, 1.0034659070101952, 0.992228222002239, 0.9997779509033923, 0.9997710014858765, 1.003478304402748, 0.12955632048840723, 0.8698781518507342, 0.008362996207138481, 0.9868335524423407, 0.9985387682519882, 0.9985151209414158, 0.8859428728558479, 1.0363342476547976, 1.0363342476547976, 0.9991196922705139, 0.8859428728558479, 0.5420128640319486, 0.01927156849891373, 0.4384281833502873, 0.9976874950948964, 0.991311135210047, 0.009351991841604217, 1.0334032111229337, 0.9972012852559664, 0.9946701290293158, 1.0047558404472994, 0.8473626522700618, 0.9999716424739273, 0.993714567475351, 0.8859428728558479, 0.9944621568404622, 0.8587689831196575, 0.9994116021531985, 0.9999933866314756, 1.0363342476547976, 0.8587689831196575, 0.993714567475351, 0.9953323616445057, 0.0030345498830625173, 0.9989761640371527, 0.9998498136515998, 0.8587689831196575, 1.0010509764562985, 0.997015333109629, 0.9972205652575961, 0.9955119594065556, 0.9844977845365256, 0.8857741809625146, 0.8790158790504693, 0.8857741809625146, 0.9987524106564684, 1.0047558404472994, 1.0010930561647693, 0.8859428728558479, 0.9994294200099464, 1.0018971469729339, 0.003913829659687871, 0.9784574149219676, 0.01956914829843935, 0.8473626522700618, 0.8612192918119709, 0.9983598248683924, 0.9885897609817388, 0.873546558896051, 0.1242199235127412, 1.0019955222043124, 1.0363342476547976, 1.1298168696934157, 0.993714567475351, 0.9977651737129523, 0.005110891702615885, 0.9966238820100976, 0.9994396719793244, 0.9985512282090496, 1.0017914769394491, 0.9974934470298588, 1.0001256292009986, 0.9678905486323728, 0.0663196024602762, 0.9284744344438667, 1.073461228899572, 0.0015013126556383536, 0.9983729159995051, 0.8857741809625146, 0.9990143785018863, 0.9996594328005521, 0.9802581458946882, 0.017298673162847437, 0.9947300700561597, 0.9954217597785912, 0.004272196393899533, 0.9988059715616622, 1.0026046648996916, 1.0001472046605469, 1.00560057000766, 0.8473626522700618, 1.011885573570208, 1.0047558404472994, 0.8857741809625146, 0.8790158790504693, 0.9854885586075067, 0.8790158790504693, 0.9998511588137475, 1.0363342476547976, 0.9996775300010704, 0.9988059715616622, 1.0097053766071384, 0.8790158790504693, 1.0363342476547976, 1.1072177262031433, 0.5112969077428803, 0.48732986519243277, 1.0035076965461225, 0.006001483486863026, 0.9722403248718101, 0.018004450460589076, 1.001000388811153, 1.0363342476547976, 1.0015006388805239, 0.21127282400572195, 0.7888906433317106, 1.000669288045814, 1.0010843997830747, 0.9997847191062044, 1.0000676236673551, 1.0363342476547976, 0.9964959535828289, 0.9569103242355232, 1.0168351827240742, 0.8790158790504693, 0.9997392695642396, 0.8473626522700618, 1.0045895760576793, 1.003543128582619, 0.9958065868089646, 1.0363342476547976, 1.0363342476547976, 0.9967815877453369, 0.8859428728558479, 0.9678905486323728, 1.0007961610971396, 0.8612192918119709, 1.0188343037842251, 0.07245205066947283, 0.9273862485692521, 0.9956724853474449, 0.0038591956796412592, 1.0025095846490297, 1.0002305646547076, 0.9946701290293158, 0.8587689831196575, 0.9998238270057125, 0.9990238479348909, 1.00560057000766, 0.9990143785018863, 0.9939683821846328, 0.9931536540025144, 0.9980049015625172, 0.8857741809625146, 1.0000676236673551, 1.0013099436967556, 0.9814502664224659, 1.0363342476547976, 0.2854696009237856, 0.713674002309464, 0.9678905486323728, 0.9939683821846328, 0.595534769933176, 0.4029195638161752, 0.9975941960426308, 1.0002287720909524, 0.05381827129665237, 0.17490938171412018, 0.770274007933337, 0.8790158790504693, 0.013516430319329177, 0.9731829829917007, 0.0067582151596645886, 0.8859428728558479, 0.8587689831196575, 0.999294816721056, 1.0334631501743652, 0.9992831124536111, 0.8859428728558479, 1.0001999750695354, 1.0363342476547976, 0.015799967826418952, 0.979598005237975], \"Term\": [\"0\", \"07\", \"10\", \"100\", \"100\", \"1080p\", \"110\", \"1140\", \"1249cad\", \"1440p\", \"1440p\", \"15\", \"16gb\", \"17h\", \"20\", \"20\", \"20\", \"2080\", \"2080_ti\", \"2080ti\", \"2080ti\", \"21st\", \"30\", \"30\", \"3000_series\", \"3070\", \"3080\", \"3080ti\", \"3090\", \"30am\", \"30m\", \"37\", \"375w\", \"3800x\", \"3d\", \"4\", \"4\", \"400\", \"400\", \"4k\", \"50\", \"500\", \"5000_series\", \"5700_xt\", \"5700xt\", \"5700xt\", \"6\", \"60\", \"6000_series\", \"669\", \"6700\", \"680\", \"6800\", \"6800\", \"6800xt\", \"6900_xt\", \"6900xt\", \"749\", \"790\", \"7am\", \"7nm\", \"8\", \"80\", \"850\", \"8gb\", \"981\", \"aaall\", \"absent\", \"absolutely\", \"access\", \"actual\", \"add\", \"add\", \"advantage\", \"afternoon\", \"ago\", \"ahead\", \"ai\", \"aib\", \"aller\", \"allowed\", \"amd\", \"amd\", \"ampere\", \"analysis\", \"answer\", \"antsy\", \"anytime\", \"apis\", \"approximately\", \"architecture\", \"arrival\", \"artifact\", \"atlas\", \"attractive\", \"availability\", \"average\", \"average\", \"average\", \"avoids\", \"avoir\", \"bad\", \"based\", \"based\", \"basically\", \"basically\", \"beat\", \"beau\", \"behalf\", \"benchmark\", \"benefit\", \"big\", \"big\", \"big_navi\", \"billing\", \"bit\", \"bit\", \"bit\", \"biting\", \"blessed\", \"board\", \"boned\", \"bonne\", \"boost\", \"boost\", \"borderland\", \"bottleneck\", \"bought\", \"bought\", \"budget\", \"budget\", \"build\", \"bukake\", \"burnhamthorpe\", \"buy\", \"buy\", \"buying\", \"buying\", \"cache\", \"calgary\", \"called\", \"card\", \"card\", \"care\", \"care\", \"case\", \"case\", \"cashed\", \"cc\", \"chained\", \"change\", \"change\", \"cheap\", \"cheaper\", \"chip\", \"choice\", \"choice\", \"claim\", \"clicked\", \"clock\", \"close\", \"closet\", \"clue\", \"clueless\", \"coming\", \"coming\", \"comment\", \"company\", \"comparison\", \"comparison\", \"compete\", \"competition\", \"competition\", \"competitive\", \"competitive\", \"competitor\", \"competitor\", \"computer\", \"confirmaion\", \"console\", \"console\", \"consumer\", \"control\", \"cooled\", \"corner\", \"cost\", \"cost\", \"cpu\", \"crippled\", \"cu\", \"cuda\", \"cvv\", \"dam\", \"day\", \"demand\", \"demand\", \"depends\", \"die\", \"difference\", \"difference\", \"disable\", \"discontinue\", \"disons\", \"dl\", \"dollar\", \"dont\", \"double\", \"doubt\", \"driver\", \"drop\", \"drop\", \"drop\", \"drop\", \"duff\", \"dx\", \"dx12\", \"dxr\", \"edit\", \"edit\", \"edit\", \"effect\", \"email\", \"email\", \"enabled\", \"end\", \"essayer\", \"ethic\", \"expensive\", \"experience\", \"exprience\", \"extra\", \"extra\", \"fair\", \"fair\", \"fan\", \"faster\", \"faulty\", \"feature\", \"feel\", \"feel\", \"ffs\", \"finally\", \"fine\", \"fine\", \"fking\", \"flood\", \"fo\", \"fonctionnel\", \"fps\", \"frame\", \"framework\", \"freesync\", \"fubared\", \"fuck\", \"fucking\", \"future\", \"gain\", \"game\", \"gaming\", \"gaming\", \"gddr6\", \"gddr6x\", \"gen\", \"gen\", \"generation\", \"generation\", \"girlfriend\", \"github\", \"gmail\", \"gonna\", \"gonna\", \"good\", \"good\", \"good\", \"good\", \"gpu\", \"graphic\", \"graphic\", \"gst\", \"guarded\", \"guess\", \"guess\", \"guy\", \"haf\", \"hand\", \"hand\", \"hard\", \"hardest\", \"hardware\", \"hardware\", \"hassle\", \"hears\", \"hesitated\", \"high\", \"high_end\", \"higher\", \"higher\", \"hold\", \"honestly\", \"honestly\", \"honesty\", \"hope\", \"hope\", \"hoping\", \"hq\", \"hst\", \"human\", \"idea\", \"idiot\", \"idk\", \"id\\u00e9e\", \"igorslab\", \"implementation\", \"important\", \"inb4\", \"inclusing\", \"incognito\", \"increase\", \"increase\", \"incredibly\", \"info\", \"inputting\", \"instock\", \"intel\", \"intel\", \"interesting\", \"interesting\", \"interface\", \"interval\", \"involved\", \"issue\", \"itx\", \"jay\", \"justification\", \"kimi\", \"kinda\", \"lack\", \"launch\", \"layer\", \"level\", \"level\", \"limited\", \"line\", \"link\", \"linux\", \"literally\", \"litt\\u00e9ralement\", \"live\", \"lmao\", \"lockdown\", \"lot\", \"lot\", \"lot\", \"lotto\", \"love\", \"lower\", \"lower\", \"lowered\", \"lr514\", \"luck\", \"making\", \"making\", \"man\", \"man\", \"market\", \"marketing\", \"match\", \"match\", \"matter\", \"matter\", \"meant\", \"memo\", \"memory\", \"memoryexpress\", \"mention\", \"merchant\", \"messing\", \"microsecond\", \"midterm\", \"minded\", \"model\", \"moi\", \"moment\", \"monde\", \"money\", \"money\", \"monitor\", \"monitoring\", \"month\", \"month\", \"month\", \"msrp\", \"nap\", \"navi\", \"negate\", \"nice\", \"nice\", \"node\", \"noooo\", \"notorious\", \"nuit\", \"number\", \"nvec\", \"nvenc\", \"nvidia\", \"oc\", \"offical\", \"offloading\", \"oil\", \"onwards\", \"option\", \"option\", \"order\", \"organizing\", \"ouch\", \"outlet\", \"overprioritize\", \"ow\", \"page\", \"pal\", \"pan\", \"path\", \"pause\", \"pay\", \"payed\", \"paying\", \"pc\", \"people\", \"perf\", \"perso\", \"person\", \"personally\", \"place\", \"play\", \"play\", \"play\", \"playing\", \"point\", \"point\", \"point\", \"post\", \"power\", \"power_consumption\", \"prefill\", \"presentation\", \"pretty\", \"pretty\", \"prevented\", \"price\", \"priced\", \"pricing\", \"problem\", \"process\", \"processor\", \"product\", \"product\", \"propagate\", \"ps5\", \"psu\", \"psu\", \"pull\", \"purchase\", \"purchase\", \"q2\", \"quality\", \"quicker\", \"r9_290\", \"rage_mode\", \"ram\", \"rambling\", \"range\", \"raster\", \"ray_tracing\", \"raytracing\", \"rdna\", \"rdna2\", \"rdna2\", \"read\", \"read\", \"ready\", \"reason\", \"reassuring\", \"reckon\", \"recommends\", \"reference\", \"registered\", \"release\", \"release\", \"release\", \"released\", \"remember\", \"remember\", \"reminder\", \"report\", \"requires\", \"research\", \"resend\", \"review\", \"rid\", \"rioting\", \"rip\", \"roof\", \"rt\", \"rtx\", \"rtx2080ti\", \"rue\", \"rule\", \"run\", \"run\", \"running\", \"rx\", \"rx6xx\", \"ryzen\", \"sam\", \"sample\", \"samsung\", \"samsung_8nm\", \"savior\", \"scammed\", \"scum\", \"sell\", \"sending\", \"series\", \"serum\", \"set\", \"setting\", \"shit\", \"shit\", \"shit\", \"shopper\", \"shove\", \"showed\", \"silver\", \"similar\", \"similar\", \"simply\", \"skipped\", \"slated\", \"sleep\", \"slide\", \"slightly\", \"slightly\", \"small\", \"smart_access\", \"software\", \"sold\", \"sound\", \"sponsored\", \"start\", \"start\", \"station\", \"stock\", \"stock\", \"stocked\", \"stop\", \"store\", \"stuff\", \"stuff\", \"suck\", \"super\", \"super\", \"super_resolution\", \"supply\", \"support\", \"supporting\", \"suprim\", \"surely\", \"survey\", \"suspense\", \"sweat\", \"system\", \"tarp\", \"tax\", \"tbp\", \"tech\", \"technology\", \"telling\", \"tempered\", \"tensor\", \"thankfully\", \"thing\", \"thing\", \"thinking\", \"thought\", \"thought\", \"thought\", \"ti\", \"tie\", \"tier\", \"time\", \"time\", \"titan\", \"title\", \"today\", \"told\", \"tomahawk\", \"tomorrow\", \"topic\", \"trip\", \"tripled\", \"true\", \"trustworthy\", \"tsmc\", \"turing\", \"turn\", \"typo\", \"uh\", \"understand\", \"unnecessary\", \"unreal_engine\", \"upgrade\", \"uptake\", \"usb_c\", \"version\", \"version\", \"video\", \"video\", \"vr\", \"vram\", \"vulkan\", \"wahtever\", \"wait\", \"waiting\", \"wanna\", \"waste\", \"watch\", \"watched\", \"watt\", \"weather\", \"website\", \"week\", \"whatsoever\", \"whine\", \"win\", \"win\", \"witcher\", \"wont\", \"work\", \"work\", \"working\", \"worse\", \"worth\", \"worth\", \"worth\", \"wt\", \"x200b\", \"x200b\", \"x200b\", \"x34\", \"x800xt\", \"xbox\", \"xp\", \"xt\", \"yaas\", \"year\", \"youre\", \"zen\", \"zen\"]}, \"R\": 30, \"lambda.step\": 0.01, \"plot.opts\": {\"xlab\": \"PC1\", \"ylab\": \"PC2\"}, \"topic.order\": [3, 2, 7, 6, 1, 4, 5, 8]};\n",
       "\n",
       "function LDAvis_load_lib(url, callback){\n",
       "  var s = document.createElement('script');\n",
       "  s.src = url;\n",
       "  s.async = true;\n",
       "  s.onreadystatechange = s.onload = callback;\n",
       "  s.onerror = function(){console.warn(\"failed to load library \" + url);};\n",
       "  document.getElementsByTagName(\"head\")[0].appendChild(s);\n",
       "}\n",
       "\n",
       "if(typeof(LDAvis) !== \"undefined\"){\n",
       "   // already loaded: just create the visualization\n",
       "   !function(LDAvis){\n",
       "       new LDAvis(\"#\" + \"ldavis_el901221274749659686030350617\", ldavis_el901221274749659686030350617_data);\n",
       "   }(LDAvis);\n",
       "}else if(typeof define === \"function\" && define.amd){\n",
       "   // require.js is available: use it to load d3/LDAvis\n",
       "   require.config({paths: {d3: \"https://cdnjs.cloudflare.com/ajax/libs/d3/3.5.5/d3.min\"}});\n",
       "   require([\"d3\"], function(d3){\n",
       "      window.d3 = d3;\n",
       "      LDAvis_load_lib(\"https://cdn.rawgit.com/bmabey/pyLDAvis/files/ldavis.v1.0.0.js\", function(){\n",
       "        new LDAvis(\"#\" + \"ldavis_el901221274749659686030350617\", ldavis_el901221274749659686030350617_data);\n",
       "      });\n",
       "    });\n",
       "}else{\n",
       "    // require.js not available: dynamically load d3 & LDAvis\n",
       "    LDAvis_load_lib(\"https://cdnjs.cloudflare.com/ajax/libs/d3/3.5.5/d3.min.js\", function(){\n",
       "         LDAvis_load_lib(\"https://cdn.rawgit.com/bmabey/pyLDAvis/files/ldavis.v1.0.0.js\", function(){\n",
       "                 new LDAvis(\"#\" + \"ldavis_el901221274749659686030350617\", ldavis_el901221274749659686030350617_data);\n",
       "            })\n",
       "         });\n",
       "}\n",
       "</script>"
      ],
      "text/plain": [
       "PreparedData(topic_coordinates=              x         y  topics  cluster       Freq\n",
       "topic                                                \n",
       "2      0.044384  0.249173       1        1  12.892264\n",
       "1      0.042938  0.148201       2        1  12.811487\n",
       "6     -0.268284  0.093317       3        1  12.726141\n",
       "5      0.044024  0.058309       4        1  12.621682\n",
       "0      0.193936  0.078317       5        1  12.533812\n",
       "3      0.187309 -0.256385       6        1  12.497241\n",
       "4      0.067600 -0.205045       7        1  12.110186\n",
       "7     -0.311908 -0.165887       8        1  11.807186, topic_info=         Term         Freq        Total Category  logprob  loglift\n",
       "14        amd  4150.000000  4150.000000  Default  30.0000  30.0000\n",
       "10     nvidia  2939.000000  2939.000000  Default  29.0000  29.0000\n",
       "28      price  1887.000000  1887.000000  Default  28.0000  28.0000\n",
       "99       3080  1846.000000  1846.000000  Default  27.0000  27.0000\n",
       "385        dl  1693.000000  1693.000000  Default  26.0000  26.0000\n",
       "...       ...          ...          ...      ...      ...      ...\n",
       "198     month   231.435962   346.373178   Topic8  -4.5703   1.7332\n",
       "998     start   126.443062   135.706483   Topic8  -5.1748   2.0658\n",
       "2407  version   127.572018   138.022318   Topic8  -5.1659   2.0577\n",
       "246   release   181.761902   415.119299   Topic8  -4.8119   1.3106\n",
       "91       edit   137.732621   207.230794   Topic8  -5.0893   1.7279\n",
       "\n",
       "[592 rows x 6 columns], token_table=      Topic      Freq   Term\n",
       "term                        \n",
       "416       1  1.001159      0\n",
       "7475      2  0.858769     07\n",
       "818       7  1.001130     10\n",
       "132       6  0.996562    100\n",
       "132       7  0.004259    100\n",
       "...     ...       ...    ...\n",
       "8266      6  0.885943   yaas\n",
       "194       2  1.000200   year\n",
       "3984      7  1.036334  youre\n",
       "378       3  0.015800    zen\n",
       "378       5  0.979598    zen\n",
       "\n",
       "[658 rows x 3 columns], R=30, lambda_step=0.01, plot_opts={'xlab': 'PC1', 'ylab': 'PC2'}, topic_order=[3, 2, 7, 6, 1, 4, 5, 8])"
      ]
     },
     "execution_count": 60,
     "metadata": {},
     "output_type": "execute_result"
    }
   ],
   "source": [
    "# Visualize the topics for the bigram model\n",
    "pyLDAvis.enable_notebook()\n",
    "# Creates the filepath to save the html file\n",
    "LDAvis_data_filepath = os.path.join(os.getcwd()+'\\\\visualization\\\\'+ 'amd_' + 'bigram_' +'mallet_ldavis_prepared_'+str(num_topics))\n",
    "\n",
    "optimal_model_lda = gensim.models.wrappers.ldamallet.malletmodel2ldamodel(optimal_model)\n",
    "bigram_mallet_vis = pyLDAvis.gensim.prepare(optimal_model_lda, bigram_corpus, bigram_id2word)\n",
    "\n",
    "# Saves the graph as a html file to the LDAvis_data_filepath\n",
    "pyLDAvis.save_html(bigram_mallet_vis, os.getcwd()+ '\\\\visualization\\\\' + 'amd_' + 'bigram_' + 'mallet_ldavis_prepared_'+ str(num_topics) +'.html')\n",
    "bigram_mallet_vis"
   ]
  },
  {
   "cell_type": "markdown",
   "metadata": {},
   "source": [
    "The bubbles are spread further apart compared to the LDA's pyLDAvis with the exception of topic 3 and 4. This shows that the topics are distinguishable from one another. Also, it seems that the bubbles are of similar sizes which means that the documents are evenly distributed across the topics."
   ]
  },
  {
   "cell_type": "code",
   "execution_count": null,
   "metadata": {},
   "outputs": [],
   "source": []
  },
  {
   "cell_type": "code",
   "execution_count": null,
   "metadata": {},
   "outputs": [],
   "source": []
  }
 ],
 "metadata": {
  "kernelspec": {
   "display_name": "Python 3",
   "language": "python",
   "name": "python3"
  },
  "language_info": {
   "codemirror_mode": {
    "name": "ipython",
    "version": 3
   },
   "file_extension": ".py",
   "mimetype": "text/x-python",
   "name": "python",
   "nbconvert_exporter": "python",
   "pygments_lexer": "ipython3",
   "version": "3.8.5"
  },
  "notify_time": "30",
  "varInspector": {
   "cols": {
    "lenName": 16,
    "lenType": 16,
    "lenVar": 40
   },
   "kernels_config": {
    "python": {
     "delete_cmd_postfix": "",
     "delete_cmd_prefix": "del ",
     "library": "var_list.py",
     "varRefreshCmd": "print(var_dic_list())"
    },
    "r": {
     "delete_cmd_postfix": ") ",
     "delete_cmd_prefix": "rm(",
     "library": "var_list.r",
     "varRefreshCmd": "cat(var_dic_list()) "
    }
   },
   "oldHeight": 474.4,
   "position": {
    "height": "496.4px",
    "left": "1156px",
    "right": "20px",
    "top": "120px",
    "width": "360px"
   },
   "types_to_exclude": [
    "module",
    "function",
    "builtin_function_or_method",
    "instance",
    "_Feature"
   ],
   "varInspector_section_display": "block",
   "window_display": false
  }
 },
 "nbformat": 4,
 "nbformat_minor": 4
}
