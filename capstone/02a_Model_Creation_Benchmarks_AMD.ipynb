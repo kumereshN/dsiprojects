{
 "cells": [
  {
   "cell_type": "markdown",
   "metadata": {},
   "source": [
    "# GA Capstone: Topic Modelling on AMD vs Nvidia GPU"
   ]
  },
  {
   "cell_type": "markdown",
   "metadata": {},
   "source": [
    "## Contents\n",
    "- Data Extraction\n",
    "- Data Cleaning\n",
    "- [EDA](#EDA)\n",
    "- [Prepare data for LDA modeling](#Prepare-reddit-comments-for-LDA-modeling)\n",
    "- [Phrase modeling: Bigram and Trigram models](#Phrase-modeling:-Bigram-and-Trigram-models)\n",
    "- [LDA Model Training](#LDA-Model-Training)\n",
    "- [LDA Mallet Model](#LDA-Mallet-Model)\n",
    "- Model creation\n",
    "- Model Evaluation"
   ]
  },
  {
   "cell_type": "markdown",
   "metadata": {},
   "source": [
    "# Import the libraries"
   ]
  },
  {
   "cell_type": "code",
   "execution_count": 1,
   "metadata": {
    "ExecuteTime": {
     "end_time": "2021-01-25T12:48:46.441048Z",
     "start_time": "2021-01-25T12:48:43.385237Z"
    }
   },
   "outputs": [],
   "source": [
    "# Common imports\n",
    "import numpy as np\n",
    "import pandas as pd\n",
    "import matplotlib.pyplot as plt\n",
    "import matplotlib.colors as mcolors\n",
    "import seaborn as sns\n",
    "\n",
    "from pprint import pprint\n",
    "import os\n",
    "from collections import Counter\n",
    "\n",
    "# Bokeh package for TSNE\n",
    "from sklearn.manifold import TSNE\n",
    "from bokeh.plotting import figure, output_file, show\n",
    "from bokeh.models import Label, ColumnDataSource\n",
    "from bokeh.io import output_notebook\n",
    "\n",
    "import re\n",
    "# NLTK Library\n",
    "from nltk import FreqDist\n",
    "from nltk.tokenize import RegexpTokenizer\n",
    "from nltk.stem import WordNetLemmatizer\n",
    "from nltk.corpus import stopwords\n",
    "\n",
    "# Import PRAW package\n",
    "import praw\n",
    "from praw.models import MoreComments\n",
    "\n",
    "# Gensim library\n",
    "import gensim\n",
    "from gensim.utils import simple_preprocess, ClippedCorpus\n",
    "from gensim.models import LdaMulticore, CoherenceModel, Phrases\n",
    "from gensim.models.wrappers import LdaMallet\n",
    "from gensim.models.phrases import Phraser\n",
    "from gensim.parsing.preprocessing import STOPWORDS\n",
    "import gensim.corpora as corpora\n",
    "\n",
    "# pyLDAvis library\n",
    "import pyLDAvis.gensim\n",
    "import pickle \n",
    "import pyLDAvis\n",
    "\n",
    "# Detect non-english words\n",
    "from langdetect import detect, DetectorFactory\n",
    "DetectorFactory.seed = 0\n",
    "\n",
    "# Detect non-english words using spacy\n",
    "import spacy\n",
    "from spacy_langdetect import LanguageDetector\n",
    "nlp = spacy.load(\"en_core_web_sm\")\n",
    "nlp.add_pipe(LanguageDetector(), name='language_detector', last=True)\n",
    "\n",
    "\n",
    "# Import the wordcloud library\n",
    "from wordcloud import WordCloud\n",
    "\n",
    "# Removes depreciation warnings\n",
    "import warnings\n",
    "warnings.filterwarnings(\"ignore\", category=DeprecationWarning)\n",
    "\n",
    "%matplotlib inline"
   ]
  },
  {
   "cell_type": "code",
   "execution_count": 2,
   "metadata": {
    "ExecuteTime": {
     "end_time": "2021-01-25T12:48:46.457064Z",
     "start_time": "2021-01-25T12:48:46.442050Z"
    }
   },
   "outputs": [],
   "source": [
    "# Set the max rows and columns for Pandas\n",
    "pd.options.display.max_columns = 100\n",
    "pd.options.display.max_rows = 200"
   ]
  },
  {
   "cell_type": "code",
   "execution_count": 3,
   "metadata": {
    "ExecuteTime": {
     "end_time": "2021-01-25T12:48:46.473078Z",
     "start_time": "2021-01-25T12:48:46.458064Z"
    }
   },
   "outputs": [],
   "source": [
    "# Set the style use\n",
    "plt.style.use('ggplot')"
   ]
  },
  {
   "cell_type": "markdown",
   "metadata": {},
   "source": [
    "# Load the dataset"
   ]
  },
  {
   "cell_type": "code",
   "execution_count": 4,
   "metadata": {
    "ExecuteTime": {
     "end_time": "2021-01-25T12:48:46.537131Z",
     "start_time": "2021-01-25T12:48:46.474079Z"
    }
   },
   "outputs": [
    {
     "data": {
      "text/html": [
       "<div>\n",
       "<style scoped>\n",
       "    .dataframe tbody tr th:only-of-type {\n",
       "        vertical-align: middle;\n",
       "    }\n",
       "\n",
       "    .dataframe tbody tr th {\n",
       "        vertical-align: top;\n",
       "    }\n",
       "\n",
       "    .dataframe thead th {\n",
       "        text-align: right;\n",
       "    }\n",
       "</style>\n",
       "<table border=\"1\" class=\"dataframe\">\n",
       "  <thead>\n",
       "    <tr style=\"text-align: right;\">\n",
       "      <th></th>\n",
       "      <th>Reddit comments</th>\n",
       "      <th>tag</th>\n",
       "    </tr>\n",
       "  </thead>\n",
       "  <tbody>\n",
       "    <tr>\n",
       "      <th>0</th>\n",
       "      <td>pre order time releasing 17th</td>\n",
       "      <td>nvidia</td>\n",
       "    </tr>\n",
       "    <tr>\n",
       "      <th>1</th>\n",
       "      <td>going hard grab 3080 17th</td>\n",
       "      <td>nvidia</td>\n",
       "    </tr>\n",
       "    <tr>\n",
       "      <th>2</th>\n",
       "      <td>uk price 3090 1399 3080 649 3070 469 scan aib ...</td>\n",
       "      <td>nvidia</td>\n",
       "    </tr>\n",
       "    <tr>\n",
       "      <th>3</th>\n",
       "      <td>talking spatula jensen pot</td>\n",
       "      <td>nvidia</td>\n",
       "    </tr>\n",
       "    <tr>\n",
       "      <th>4</th>\n",
       "      <td>10k core completely insane</td>\n",
       "      <td>nvidia</td>\n",
       "    </tr>\n",
       "    <tr>\n",
       "      <th>...</th>\n",
       "      <td>...</td>\n",
       "      <td>...</td>\n",
       "    </tr>\n",
       "    <tr>\n",
       "      <th>25511</th>\n",
       "      <td>motherboard say pcie 0 compatible</td>\n",
       "      <td>nvidia</td>\n",
       "    </tr>\n",
       "    <tr>\n",
       "      <th>25512</th>\n",
       "      <td>thanks understanding know course 3000s dvi por...</td>\n",
       "      <td>nvidia</td>\n",
       "    </tr>\n",
       "    <tr>\n",
       "      <th>25513</th>\n",
       "      <td>buy 1400 gpu</td>\n",
       "      <td>nvidia</td>\n",
       "    </tr>\n",
       "    <tr>\n",
       "      <th>25514</th>\n",
       "      <td>know ill wait 3070 3060</td>\n",
       "      <td>nvidia</td>\n",
       "    </tr>\n",
       "    <tr>\n",
       "      <th>25515</th>\n",
       "      <td>generational compatibility compatible size pci...</td>\n",
       "      <td>nvidia</td>\n",
       "    </tr>\n",
       "  </tbody>\n",
       "</table>\n",
       "<p>25516 rows × 2 columns</p>\n",
       "</div>"
      ],
      "text/plain": [
       "                                         Reddit comments     tag\n",
       "0                          pre order time releasing 17th  nvidia\n",
       "1                              going hard grab 3080 17th  nvidia\n",
       "2      uk price 3090 1399 3080 649 3070 469 scan aib ...  nvidia\n",
       "3                             talking spatula jensen pot  nvidia\n",
       "4                             10k core completely insane  nvidia\n",
       "...                                                  ...     ...\n",
       "25511                  motherboard say pcie 0 compatible  nvidia\n",
       "25512  thanks understanding know course 3000s dvi por...  nvidia\n",
       "25513                                       buy 1400 gpu  nvidia\n",
       "25514                            know ill wait 3070 3060  nvidia\n",
       "25515  generational compatibility compatible size pci...  nvidia\n",
       "\n",
       "[25516 rows x 2 columns]"
      ]
     },
     "execution_count": 4,
     "metadata": {},
     "output_type": "execute_result"
    }
   ],
   "source": [
    "# Read the existing csv file\n",
    "GPU_df = pd.read_csv('./reddit dataset/cleaned_combined_df.csv')\n",
    "GPU_df"
   ]
  },
  {
   "cell_type": "code",
   "execution_count": 5,
   "metadata": {
    "ExecuteTime": {
     "end_time": "2021-01-25T12:48:46.553146Z",
     "start_time": "2021-01-25T12:48:46.538132Z"
    }
   },
   "outputs": [
    {
     "data": {
      "text/html": [
       "<div>\n",
       "<style scoped>\n",
       "    .dataframe tbody tr th:only-of-type {\n",
       "        vertical-align: middle;\n",
       "    }\n",
       "\n",
       "    .dataframe tbody tr th {\n",
       "        vertical-align: top;\n",
       "    }\n",
       "\n",
       "    .dataframe thead th {\n",
       "        text-align: right;\n",
       "    }\n",
       "</style>\n",
       "<table border=\"1\" class=\"dataframe\">\n",
       "  <thead>\n",
       "    <tr style=\"text-align: right;\">\n",
       "      <th></th>\n",
       "      <th>Reddit comments</th>\n",
       "      <th>tag</th>\n",
       "    </tr>\n",
       "  </thead>\n",
       "  <tbody>\n",
       "    <tr>\n",
       "      <th>4698</th>\n",
       "      <td>sound samsung 8nm cheap</td>\n",
       "      <td>amd</td>\n",
       "    </tr>\n",
       "    <tr>\n",
       "      <th>4699</th>\n",
       "      <td>ethic mongol invasion tech</td>\n",
       "      <td>amd</td>\n",
       "    </tr>\n",
       "    <tr>\n",
       "      <th>4700</th>\n",
       "      <td>nvidia software ai learning big selling point</td>\n",
       "      <td>amd</td>\n",
       "    </tr>\n",
       "    <tr>\n",
       "      <th>4701</th>\n",
       "      <td>excited amd guy compete going nvidia brand loy...</td>\n",
       "      <td>amd</td>\n",
       "    </tr>\n",
       "    <tr>\n",
       "      <th>4702</th>\n",
       "      <td>think nvidia actualy competing new console pri...</td>\n",
       "      <td>amd</td>\n",
       "    </tr>\n",
       "    <tr>\n",
       "      <th>...</th>\n",
       "      <td>...</td>\n",
       "      <td>...</td>\n",
       "    </tr>\n",
       "    <tr>\n",
       "      <th>19219</th>\n",
       "      <td>dude understand example confused said looked r...</td>\n",
       "      <td>amd</td>\n",
       "    </tr>\n",
       "    <tr>\n",
       "      <th>19220</th>\n",
       "      <td>know example thought looked</td>\n",
       "      <td>amd</td>\n",
       "    </tr>\n",
       "    <tr>\n",
       "      <th>19221</th>\n",
       "      <td>probably score higher english proficiency test...</td>\n",
       "      <td>amd</td>\n",
       "    </tr>\n",
       "    <tr>\n",
       "      <th>19222</th>\n",
       "      <td>prove know concept cost opportunity efficiency...</td>\n",
       "      <td>amd</td>\n",
       "    </tr>\n",
       "    <tr>\n",
       "      <th>19223</th>\n",
       "      <td>cost opportunity perfectly ok way concept lmao...</td>\n",
       "      <td>amd</td>\n",
       "    </tr>\n",
       "  </tbody>\n",
       "</table>\n",
       "<p>14526 rows × 2 columns</p>\n",
       "</div>"
      ],
      "text/plain": [
       "                                         Reddit comments  tag\n",
       "4698                             sound samsung 8nm cheap  amd\n",
       "4699                          ethic mongol invasion tech  amd\n",
       "4700       nvidia software ai learning big selling point  amd\n",
       "4701   excited amd guy compete going nvidia brand loy...  amd\n",
       "4702   think nvidia actualy competing new console pri...  amd\n",
       "...                                                  ...  ...\n",
       "19219  dude understand example confused said looked r...  amd\n",
       "19220                        know example thought looked  amd\n",
       "19221  probably score higher english proficiency test...  amd\n",
       "19222  prove know concept cost opportunity efficiency...  amd\n",
       "19223  cost opportunity perfectly ok way concept lmao...  amd\n",
       "\n",
       "[14526 rows x 2 columns]"
      ]
     },
     "execution_count": 5,
     "metadata": {},
     "output_type": "execute_result"
    }
   ],
   "source": [
    "amd_df = GPU_df[GPU_df['tag'] == 'amd']\n",
    "amd_df"
   ]
  },
  {
   "cell_type": "markdown",
   "metadata": {},
   "source": [
    "# Prepare comments for modeling"
   ]
  },
  {
   "cell_type": "code",
   "execution_count": 6,
   "metadata": {
    "ExecuteTime": {
     "end_time": "2021-01-25T12:48:46.585175Z",
     "start_time": "2021-01-25T12:48:46.553146Z"
    }
   },
   "outputs": [],
   "source": [
    "# Creates the bag of words for each document\n",
    "data = [token.split() for token in amd_df['Reddit comments'].tolist()]"
   ]
  },
  {
   "cell_type": "code",
   "execution_count": 7,
   "metadata": {
    "ExecuteTime": {
     "end_time": "2021-01-25T12:48:46.601190Z",
     "start_time": "2021-01-25T12:48:46.586176Z"
    },
    "scrolled": true
   },
   "outputs": [
    {
     "name": "stdout",
     "output_type": "stream",
     "text": [
      "[['sound', 'samsung', '8nm', 'cheap'], ['ethic', 'mongol', 'invasion', 'tech'], ['nvidia', 'software', 'ai', 'learning', 'big', 'selling', 'point']]\n"
     ]
    }
   ],
   "source": [
    "# Prints the bag of words from the first 3 documents\n",
    "print(data[:3])"
   ]
  },
  {
   "cell_type": "markdown",
   "metadata": {},
   "source": [
    "# Phrase modeling: Bigram and Trigram models"
   ]
  },
  {
   "cell_type": "code",
   "execution_count": 8,
   "metadata": {
    "ExecuteTime": {
     "end_time": "2021-01-25T12:48:49.672976Z",
     "start_time": "2021-01-25T12:48:46.602190Z"
    }
   },
   "outputs": [],
   "source": [
    "# Build the bigram and trigram models\n",
    "bigram = Phrases(data, min_count=5, threshold=100) # higher threshold fewer phrases.\n",
    "trigram = Phrases(bigram[data], threshold=100)\n",
    "\n",
    "# Faster way to get a sentence clubbed as a trigram/bigram, this reduces memory, making the model smaller and faster\n",
    "bigram_mod = Phraser(bigram)\n",
    "trigram_mod = Phraser(trigram)"
   ]
  },
  {
   "cell_type": "code",
   "execution_count": 9,
   "metadata": {
    "ExecuteTime": {
     "end_time": "2021-01-25T12:48:50.953135Z",
     "start_time": "2021-01-25T12:48:49.673978Z"
    }
   },
   "outputs": [],
   "source": [
    "def make_bigrams(texts):\n",
    "    return [bigram_mod[doc] for doc in texts]\n",
    "\n",
    "def make_trigrams(texts):\n",
    "    return [trigram_mod[bigram_mod[doc]] for doc in texts]\n",
    "\n",
    "# Form Bigrams\n",
    "data_bigrams = make_bigrams(data)\n",
    "\n",
    "# Form Trigrams\n",
    "data_trigrams = make_trigrams(data)"
   ]
  },
  {
   "cell_type": "code",
   "execution_count": 10,
   "metadata": {
    "ExecuteTime": {
     "end_time": "2021-01-25T12:48:50.969150Z",
     "start_time": "2021-01-25T12:48:50.954137Z"
    }
   },
   "outputs": [],
   "source": [
    "# Create a dictionary to hold the different n-grams dataset\n",
    "phrase_list = {'unigram': data, 'bigrams': data_bigrams, 'trigrams': data_trigrams}\n",
    "# phrase_list"
   ]
  },
  {
   "cell_type": "markdown",
   "metadata": {},
   "source": [
    "# LDA on AMD comments with all the ngrams"
   ]
  },
  {
   "cell_type": "code",
   "execution_count": 11,
   "metadata": {
    "ExecuteTime": {
     "end_time": "2021-01-25T12:48:50.985165Z",
     "start_time": "2021-01-25T12:48:50.970152Z"
    }
   },
   "outputs": [],
   "source": [
    "# Creating a function to create the LDA model and compute the coherence score\n",
    "def lda_calculate_coherence_values(ngram_data, num_topics):\n",
    "    \"\"\"\n",
    "    This function calculates the coherence score and the perplexity scores for each ngram and stores\n",
    "    the model, corpus and the id2word in their respective dictionaries\n",
    "    \"\"\"\n",
    "    model_dict = {}\n",
    "    score_dict = {}\n",
    "    for key, value in ngram_data.items():\n",
    "        ngram_id2word = corpora.Dictionary(value)\n",
    "        ngram_corpus = [ngram_id2word.doc2bow(text) for text in value]\n",
    "\n",
    "        ngram_lda_model = LdaMulticore(corpus=ngram_corpus, \n",
    "                             id2word=ngram_id2word, \n",
    "                             num_topics=num_topics,\n",
    "                             chunksize=100,\n",
    "                             passes=20, \n",
    "                             random_state=42,\n",
    "                            per_word_topics=True)\n",
    "\n",
    "\n",
    "        # Compute Perplexity score\n",
    "        ngram_perplexity = ngram_lda_model.log_perplexity(ngram_corpus)  # a measure of how good the model is. lower the better.\n",
    "\n",
    "        # Compute Coherence Score\n",
    "        coherence_model_lda = CoherenceModel(model=ngram_lda_model, texts=value, dictionary=ngram_id2word, coherence='c_v')\n",
    "        ngram_coherence_lda = coherence_model_lda.get_coherence()\n",
    "        \n",
    "        # Prints out the topics for each ngram\n",
    "        print(f'*********Displaying {num_topics} topics for {key}******************')\n",
    "        pprint(ngram_lda_model.print_topics())\n",
    "        \n",
    "        # Store the perplexity and coherence scores in score_dict\n",
    "        score_dict[key] = []\n",
    "        score_dict[key].append(ngram_perplexity)\n",
    "        score_dict[key].append(ngram_coherence_lda)\n",
    "        \n",
    "        # Stores the ngram's model, corpus, id2word in model_dict\n",
    "        model_dict[key] = []\n",
    "        model_dict[key].append(ngram_lda_model)\n",
    "        model_dict[key].append(ngram_corpus)\n",
    "        model_dict[key].append(ngram_id2word)\n",
    "\n",
    "    return score_dict, model_dict, num_topics"
   ]
  },
  {
   "cell_type": "code",
   "execution_count": 12,
   "metadata": {
    "ExecuteTime": {
     "end_time": "2021-01-25T12:50:49.417595Z",
     "start_time": "2021-01-25T12:48:50.986165Z"
    }
   },
   "outputs": [
    {
     "name": "stdout",
     "output_type": "stream",
     "text": [
      "*********Displaying 5 topics for unigram******************\n",
      "[(0,\n",
      "  '0.019*\"6800xt\" + 0.019*\"3080\" + 0.017*\"vram\" + 0.017*\"3090\" + '\n",
      "  '0.015*\"6900xt\" + 0.012*\"6800\" + 0.009*\"3070\" + 0.008*\"gaming\" + '\n",
      "  '0.008*\"good\" + 0.007*\"think\"'),\n",
      " (1,\n",
      "  '0.028*\"game\" + 0.026*\"dl\" + 0.017*\"ray\" + 0.016*\"amd\" + 0.015*\"tracing\" + '\n",
      "  '0.011*\"nvidia\" + 0.009*\"support\" + 0.008*\"4k\" + 0.008*\"rt\" + '\n",
      "  '0.008*\"feature\"'),\n",
      " (2,\n",
      "  '0.030*\"price\" + 0.017*\"6800\" + 0.017*\"amd\" + 0.016*\"3070\" + 0.010*\"card\" + '\n",
      "  '0.009*\"end\" + 0.009*\"nvidia\" + 0.009*\"xt\" + 0.009*\"gpu\" + 0.008*\"year\"'),\n",
      " (3,\n",
      "  '0.037*\"nvidia\" + 0.033*\"amd\" + 0.016*\"3080\" + 0.015*\"rtx\" + 0.013*\"better\" '\n",
      "  '+ 0.011*\"3070\" + 0.009*\"card\" + 0.007*\"3090\" + 0.007*\"driver\" + '\n",
      "  '0.007*\"2080ti\"'),\n",
      " (4,\n",
      "  '0.016*\"cpu\" + 0.015*\"series\" + 0.014*\"amd\" + 0.012*\"stock\" + 0.011*\"launch\" '\n",
      "  '+ 0.011*\"order\" + 0.010*\"card\" + 0.007*\"5000\" + 0.007*\"day\" + 0.007*\"said\"')]\n",
      "*********Displaying 5 topics for bigrams******************\n",
      "[(0,\n",
      "  '0.008*\"6800xt\" + 0.007*\"order\" + 0.007*\"stock\" + 0.007*\"monitor\" + '\n",
      "  '0.007*\"cpu\" + 0.007*\"time\" + 0.006*\"good\" + 0.006*\"people\" + 0.006*\"said\" + '\n",
      "  '0.006*\"getting\"'),\n",
      " (1,\n",
      "  '0.037*\"3070\" + 0.036*\"6800\" + 0.021*\"3080\" + 0.019*\"vram\" + 0.015*\"6800xt\" '\n",
      "  '+ 0.014*\"3090\" + 0.014*\"better\" + 0.011*\"price\" + 0.011*\"xt\" + 0.009*\"4k\"'),\n",
      " (2,\n",
      "  '0.032*\"dl\" + 0.027*\"game\" + 0.019*\"amd\" + 0.016*\"ray_tracing\" + '\n",
      "  '0.013*\"nvidia\" + 0.011*\"rt\" + 0.010*\"feature\" + 0.009*\"gpu\" + '\n",
      "  '0.008*\"support\" + 0.008*\"use\"'),\n",
      " (3,\n",
      "  '0.034*\"amd\" + 0.030*\"nvidia\" + 0.022*\"price\" + 0.014*\"card\" + 0.010*\"buy\" + '\n",
      "  '0.010*\"driver\" + 0.009*\"3080\" + 0.009*\"people\" + 0.007*\"good\" + '\n",
      "  '0.007*\"going\"'),\n",
      " (4,\n",
      "  '0.013*\"card\" + 0.009*\"rage_mode\" + 0.009*\"cpu\" + 0.009*\"memory\" + '\n",
      "  '0.008*\"amd\" + 0.007*\"know\" + 0.006*\"smart_access\" + 0.006*\"yes\" + '\n",
      "  '0.006*\"work\" + 0.005*\"people\"')]\n",
      "*********Displaying 5 topics for trigrams******************\n",
      "[(0,\n",
      "  '0.016*\"card\" + 0.012*\"people\" + 0.011*\"time\" + 0.010*\"buy\" + 0.008*\"year\" + '\n",
      "  '0.008*\"price\" + 0.008*\"month\" + 0.007*\"new\" + 0.007*\"launch\" + '\n",
      "  '0.007*\"stock\"'),\n",
      " (1,\n",
      "  '0.014*\"4k\" + 0.014*\"gpu\" + 0.014*\"game\" + 0.012*\"cpu\" + 0.011*\"work\" + '\n",
      "  '0.009*\"fps\" + 0.007*\"monitor\" + 0.007*\"gaming\" + 0.007*\"1080p\" + '\n",
      "  '0.007*\"1440p\"'),\n",
      " (2,\n",
      "  '0.040*\"amd\" + 0.030*\"nvidia\" + 0.026*\"dl\" + 0.018*\"game\" + '\n",
      "  '0.013*\"ray_tracing\" + 0.010*\"driver\" + 0.009*\"rt\" + 0.009*\"feature\" + '\n",
      "  '0.008*\"card\" + 0.008*\"support\"'),\n",
      " (3,\n",
      "  '0.012*\"order\" + 0.011*\"amd\" + 0.009*\"cpu\" + 0.007*\"psu\" + 0.007*\"thanks\" + '\n",
      "  '0.006*\"know\" + 0.005*\"stock\" + 0.005*\"yes\" + 0.005*\"probably\" + '\n",
      "  '0.005*\"5000_series\"'),\n",
      " (4,\n",
      "  '0.027*\"3070\" + 0.027*\"3080\" + 0.025*\"6800\" + 0.024*\"price\" + 0.017*\"3090\" + '\n",
      "  '0.016*\"6800xt\" + 0.013*\"vram\" + 0.011*\"better\" + 0.011*\"6900xt\" + '\n",
      "  '0.009*\"amd\"')]\n"
     ]
    }
   ],
   "source": [
    "# Calculate using a dictionary\n",
    "score_dict, model_dict, num_topics = lda_calculate_coherence_values(phrase_list, 5)"
   ]
  },
  {
   "cell_type": "markdown",
   "metadata": {},
   "source": [
    "## Intrepreting the topics for unigram"
   ]
  },
  {
   "cell_type": "markdown",
   "metadata": {},
   "source": [
    "Scored between 1 ~ 5 with regards to their intrepretability, >= 3 will be considered intrepretable.\n",
    "* () means the score\n",
    "\n",
    "Topic 0 (4)\n",
    "* Talks about ray tracing and dlss (Deep learning super sampling) features which seem to perform better in Nvidia\n",
    "\n",
    "Topic 1 (2)\n",
    "* Talks about the PSU (Power supply unit)\n",
    "\n",
    "Topic 2 (4)\n",
    "* With regards to all the GPUs from AMD and Nvidia price, performance and vram (Video ram)\n",
    "\n",
    "Topic 3 (3)\n",
    "* Nvidia's GPUS price/performance is better than AMD\n",
    "\n",
    "Topic 4 (1)\n",
    "* Some issue with driver\n",
    "\n",
    "**2 topics were intrepretable.**"
   ]
  },
  {
   "cell_type": "markdown",
   "metadata": {},
   "source": [
    "## Interpreting the topics for the bigrams \n"
   ]
  },
  {
   "cell_type": "markdown",
   "metadata": {},
   "source": [
    "Scored between 1 ~ 5 with regards to their intrepretability, >= 3 will be considered intrepretable.\n",
    "* () is the score\n",
    "\n",
    "Topic 0 (4)\n",
    "* Talks 3070 and 3080 price, performance, vram, better than 6800 and 6800xt.\n",
    "\n",
    "Topic 1 (3)\n",
    "* Talks about dlss and ray_tracing features\n",
    "\n",
    "Topic 2 (2)\n",
    "* Driver issue and something to do with the gaming consoles\n",
    "\n",
    "Topic 3 (2)\n",
    "* Related to power supply unit\n",
    "\n",
    "Topic 4 (3)\n",
    "* Stock related issue during the launch of the GPUs\n",
    "\n",
    "**3 topics were intrepretable.**"
   ]
  },
  {
   "cell_type": "markdown",
   "metadata": {},
   "source": [
    "## Interpreting the topics for the trigrams \n"
   ]
  },
  {
   "cell_type": "markdown",
   "metadata": {},
   "source": [
    "Scored between 1 ~ 5 with regards to their intrepretability, >= 3 will be considered intrepretable.\n",
    "* () is the score\n",
    "\n",
    "Topic 0 (3)\n",
    "* Talks about the dlss and ray_tracing features as well as the performance in 4k.\n",
    "\n",
    "Topic 1 (1)\n",
    "* Something to do with tax\n",
    "\n",
    "Topic 2 (4)\n",
    "* Have to do with stocks availability during launch\n",
    "\n",
    "Topic 3 (2)\n",
    "* Driver related issue \n",
    "\n",
    "Topic 4 (2)\n",
    "* Different models of GPUs\n",
    "\n",
    "**2 topics were intrepretable.**"
   ]
  },
  {
   "cell_type": "code",
   "execution_count": 13,
   "metadata": {
    "ExecuteTime": {
     "end_time": "2021-01-25T12:50:49.433610Z",
     "start_time": "2021-01-25T12:50:49.417595Z"
    }
   },
   "outputs": [],
   "source": [
    "topics_interpretable = [2,3,2]"
   ]
  },
  {
   "cell_type": "code",
   "execution_count": 14,
   "metadata": {
    "ExecuteTime": {
     "end_time": "2021-01-25T12:50:49.449624Z",
     "start_time": "2021-01-25T12:50:49.434611Z"
    }
   },
   "outputs": [
    {
     "data": {
      "text/html": [
       "<div>\n",
       "<style scoped>\n",
       "    .dataframe tbody tr th:only-of-type {\n",
       "        vertical-align: middle;\n",
       "    }\n",
       "\n",
       "    .dataframe tbody tr th {\n",
       "        vertical-align: top;\n",
       "    }\n",
       "\n",
       "    .dataframe thead th {\n",
       "        text-align: right;\n",
       "    }\n",
       "</style>\n",
       "<table border=\"1\" class=\"dataframe\">\n",
       "  <thead>\n",
       "    <tr style=\"text-align: right;\">\n",
       "      <th></th>\n",
       "      <th>Perplexity score</th>\n",
       "      <th>Coherence score</th>\n",
       "      <th>no of topics intrepretable</th>\n",
       "    </tr>\n",
       "  </thead>\n",
       "  <tbody>\n",
       "    <tr>\n",
       "      <th>unigram</th>\n",
       "      <td>-7.686106</td>\n",
       "      <td>0.556892</td>\n",
       "      <td>2</td>\n",
       "    </tr>\n",
       "    <tr>\n",
       "      <th>bigrams</th>\n",
       "      <td>-7.738987</td>\n",
       "      <td>0.558524</td>\n",
       "      <td>3</td>\n",
       "    </tr>\n",
       "    <tr>\n",
       "      <th>trigrams</th>\n",
       "      <td>-7.742432</td>\n",
       "      <td>0.567352</td>\n",
       "      <td>2</td>\n",
       "    </tr>\n",
       "  </tbody>\n",
       "</table>\n",
       "</div>"
      ],
      "text/plain": [
       "          Perplexity score  Coherence score  no of topics intrepretable\n",
       "unigram          -7.686106         0.556892                           2\n",
       "bigrams          -7.738987         0.558524                           3\n",
       "trigrams         -7.742432         0.567352                           2"
      ]
     },
     "execution_count": 14,
     "metadata": {},
     "output_type": "execute_result"
    }
   ],
   "source": [
    "score_df = pd.DataFrame(score_dict).T\n",
    "score_df.columns = ['Perplexity score', 'Coherence score']\n",
    "score_df['no of topics intrepretable'] = topics_interpretable\n",
    "score_df"
   ]
  },
  {
   "cell_type": "markdown",
   "metadata": {},
   "source": [
    "## Summary\n",
    "\n",
    "Using Coherence score as the main metric and no of topic intrepretable as the secondary metric to select the best ngram, between unigrams and bigrams, I'll be choosing **bigram** as the it has the larger number of intrepretable topics compared to the other n_grams and it has the **second highest coherence score**."
   ]
  },
  {
   "cell_type": "markdown",
   "metadata": {},
   "source": [
    "## Visualizing the topics-keywords"
   ]
  },
  {
   "cell_type": "code",
   "execution_count": 15,
   "metadata": {
    "ExecuteTime": {
     "end_time": "2021-01-25T12:50:49.481448Z",
     "start_time": "2021-01-25T12:50:49.450626Z"
    }
   },
   "outputs": [],
   "source": [
    "# Obtaining the lda bigram model, corpus and dictionary\n",
    "lda_bigram_model, bigram_corpus, bigram_id2word = model_dict['bigrams']"
   ]
  },
  {
   "cell_type": "code",
   "execution_count": 16,
   "metadata": {
    "ExecuteTime": {
     "end_time": "2021-01-25T12:50:54.071626Z",
     "start_time": "2021-01-25T12:50:49.482449Z"
    }
   },
   "outputs": [
    {
     "data": {
      "text/html": [
       "\n",
       "<link rel=\"stylesheet\" type=\"text/css\" href=\"https://cdn.rawgit.com/bmabey/pyLDAvis/files/ldavis.v1.0.0.css\">\n",
       "\n",
       "\n",
       "<div id=\"ldavis_el1491612095645680328916298599\"></div>\n",
       "<script type=\"text/javascript\">\n",
       "\n",
       "var ldavis_el1491612095645680328916298599_data = {\"mdsDat\": {\"x\": [-0.06245914477832333, -0.017842723684536745, -0.2095735481083799, 0.06966764326757753, 0.22020777330366278], \"y\": [-0.0539236073699213, -0.19261863474987104, 0.13802467694422726, 0.011790567694662187, 0.09672699748090273], \"topics\": [1, 2, 3, 4, 5], \"cluster\": [1, 1, 1, 1, 1], \"Freq\": [28.22688615907373, 23.54510118554564, 19.324035355161577, 17.6304781820533, 11.273499118165754]}, \"tinfo\": {\"Term\": [\"6800\", \"3070\", \"dl\", \"game\", \"price\", \"vram\", \"nvidia\", \"ray_tracing\", \"3080\", \"3090\", \"6800xt\", \"rt\", \"xt\", \"amd\", \"card\", \"faster\", \"memory\", \"driver\", \"feature\", \"2080ti\", \"better\", \"rage_mode\", \"support\", \"4k\", \"cpu\", \"monitor\", \"buy\", \"order\", \"16gb\", \"8gb\", \"msrp\", \"consumer\", \"high_end\", \"usd\", \"mid_range\", \"buyer\", \"fanboy\", \"150\", \"mid\", \"overpriced\", \"3080ti\", \"649\", \"6900\", \"sell\", \"3060\", \"loss\", \"flagship\", \"sounded\", \"fanboys\", \"2070s\", \"begin\", \"job\", \"market_share\", \"knew\", \"chipset\", \"trolling\", \"stem\", \"scared\", \"disclosed\", \"1k\", \"999\", \"700\", \"market\", \"seriously\", \"driver\", \"price\", \"competition\", \"nvidia\", \"tier\", \"situation\", \"buy\", \"product\", \"amd\", \"pricing\", \"400\", \"issue\", \"card\", \"compete\", \"offer\", \"5700xt\", \"budget\", \"release\", \"people\", \"bad\", \"intel\", \"generation\", \"end\", \"want\", \"year\", \"going\", \"good\", \"3080\", \"3090\", \"gpu\", \"think\", \"right\", \"better\", \"time\", \"new\", \"need\", \"dl\", \"super_resolution\", \"implementation\", \"ai\", \"solution\", \"supported\", \"implemented\", \"ray\", \"ray_tracing\", \"effect\", \"dxr\", \"developer\", \"image\", \"dedicated\", \"tensor_core\", \"proprietary\", \"lighting\", \"upscaling\", \"devs\", \"api\", \"implement\", \"demanding\", \"minecraft\", \"dx12\", \"aaa\", \"io\", \"optimized\", \"supersampling\", \"ml\", \"slot\", \"rt\", \"0\", \"texture\", \"native\", \"game\", \"technology\", \"hardware\", \"raytracing\", \"feature\", \"support\", \"microsoft\", \"software\", \"console\", \"ps5\", \"working\", \"title\", \"rendering\", \"use\", \"tech\", \"resolution\", \"work\", \"play\", \"gpu\", \"rtx\", \"amd\", \"nvidia\", \"pc\", \"know\", \"new\", \"look\", \"better\", \"think\", \"good\", \"need\", \"time\", \"cpu\", \"going\", \"benchmark\", \"said\", \"vram\", \"faster\", \"8gb\", \"16gb\", \"80\", \"6800\", \"70\", \"haha\", \"percent\", \"24gb\", \"18\", \"bench\", \"trade_blow\", \"2080_ti\", \"10gb\", \"rage\", \"encoding\", \"3070ti\", \"xt\", \"rx6800\", \"insult\", \"12gb\", \"context\", \"double\", \"marketed\", \"3070\", \"wink\", \"slower\", \"gb\", \"cherry_picked\", \"power_consumption\", \"overclocked\", \"2080ti\", \"6900_xt\", \"clock\", \"ram\", \"rx\", \"slightly\", \"20\", \"6800xt\", \"3090\", \"50\", \"3080\", \"compared\", \"extra\", \"15\", \"difference\", \"10\", \"v\", \"4k\", \"better\", \"memory\", \"6900xt\", \"1440p\", \"benchmark\", \"price\", \"500\", \"rtx\", \"gaming\", \"think\", \"power\", \"probably\", \"1080p\", \"luck\", \"email\", \"confirmation\", \"shipping\", \"date\", \"ordered\", \"144hz\", \"psu\", \"paypal\", \"5800x\", \"buddy\", \"psus\", \"backorder\", \"bro\", \"gold\", \"1440p_144hz\", \"144\", \"cancelled\", \"canada_computer\", \"received\", \"thank\", \"25th\", \"ultrawide\", \"ill\", \"deposit\", \"overkill\", \"zen3\", \"charged\", \"depreciates\", \"order\", \"cc\", \"5900x\", \"location\", \"tax\", \"site\", \"hour\", \"ya\", \"3600\", \"5600x\", \"tomorrow\", \"monitor\", \"line\", \"day\", \"ago\", \"upgrade\", \"im\", \"stock\", \"getting\", \"month\", \"store\", \"try\", \"week\", \"waiting\", \"fps\", \"said\", \"cpu\", \"6800xt\", \"aib\", \"wait\", \"time\", \"launch\", \"4k\", \"good\", \"people\", \"year\", \"1440p\", \"think\", \"buy\", \"want\", \"going\", \"gpu\", \"3080\", \"amd\", \"probably\", \"card\", \"rage_mode\", \"smart_access\", \"freesync\", \"newegg\", \"ryzen_5000\", \"amazon\", \"samsung\", \"hdmi\", \"x570\", \"tsmc\", \"partner\", \"display\", \"listed\", \"production\", \"bother\", \"5000\", \"b550\", \"manufacturing\", \"vrr\", \"local\", \"usb_c\", \"hdr\", \"locked\", \"6600\", \"talked\", \"click\", \"6700\", \"wafer\", \"conversation\", \"8nm\", \"mobo\", \"motherboard\", \"post\", \"7nm\", \"g_sync\", \"5000_series\", \"board\", \"process\", \"node\", \"reference\", \"memory\", \"6000\", \"cpu\", \"card\", \"yes\", \"link\", \"monitor\", \"work\", \"know\", \"series\", \"amd\", \"new\", \"people\", \"probably\", \"sure\", \"thanks\", \"available\", \"maybe\", \"stock\", \"think\", \"saying\", \"time\", \"need\"], \"Freq\": [1325.0, 1413.0, 1429.0, 1347.0, 1610.0, 697.0, 2311.0, 717.0, 1424.0, 876.0, 906.0, 503.0, 405.0, 3147.0, 1292.0, 323.0, 432.0, 644.0, 543.0, 342.0, 1125.0, 200.0, 457.0, 607.0, 671.0, 333.0, 741.0, 257.0, 215.0, 215.0, 232.3844007890868, 123.80845227440079, 179.65550888716314, 69.46008005149191, 68.94443319799596, 64.48625471559627, 63.40444691196579, 57.339887811514124, 64.3181045401954, 56.87686991647881, 54.61234429939547, 54.175165039680515, 52.27759904963723, 280.10483960286916, 64.57456263703179, 45.19193490003061, 47.90509735175912, 40.09279467090398, 35.92687765195212, 35.93333420069129, 35.39687150870242, 44.628100297900374, 30.984663280114745, 38.20421995369545, 32.2014303689031, 30.371452874620765, 29.61002175630811, 28.97598618204847, 28.86738180730282, 28.040405522960253, 100.36185629863569, 145.0115095265758, 240.97417332710233, 70.86803064899631, 532.3547595049382, 1191.6899032468514, 166.47624982832406, 1601.8848199098823, 89.07705313892507, 96.60623491353105, 535.3494536064584, 215.9287853551174, 1843.147360866607, 219.0430811128581, 105.16792333058574, 319.93818737956764, 733.7908197657044, 162.06493419582895, 111.2816405280371, 207.46515810460713, 134.33257695780017, 216.44809589571105, 495.7084836133873, 245.49567326052784, 177.7264563366982, 154.89644832516058, 210.9329094746357, 337.4040598655811, 332.2488975688057, 358.64981244583475, 398.6276177253449, 496.4191269470608, 349.721089759558, 354.6042808260139, 344.3822828144442, 246.7832508992649, 301.3894061177399, 258.99483627086573, 236.01621567505413, 231.0065309909106, 1423.9369647116855, 107.52034670293942, 97.72532520741792, 95.02782083174341, 79.4701603919934, 70.00404741650598, 63.31268499990652, 61.62558643555579, 708.5503076177298, 57.985396371025395, 57.612281948185114, 57.26272844138274, 57.941667808953724, 53.29771319549297, 53.851957673141264, 50.56965901280873, 49.26770697090009, 47.4798583806467, 46.717296180267326, 42.24044714329474, 42.07530540885025, 40.69227029815009, 40.25335808699564, 37.4682590922923, 34.5938273356681, 33.43636944719254, 32.8841666388816, 32.77681166998923, 32.68032398553672, 33.16743982814903, 487.7409514350922, 238.71332792960638, 40.8484515168497, 51.71541686480214, 1195.531332603455, 101.97657367397781, 260.3696544367469, 254.6385770543459, 451.82770242432906, 375.53059711478267, 55.83602443620273, 163.65423694597325, 290.24732418437077, 77.72935580652214, 148.07705223248385, 128.33141691593002, 89.77574449946775, 340.6036170773322, 141.73643148603685, 124.05807587493952, 270.74361760444225, 179.90575883973443, 384.8740646524141, 309.57335624133043, 850.8413467754522, 596.1456963724128, 168.28562504574896, 265.7933036321675, 240.822883420986, 230.9641784452951, 294.99727957181403, 283.94526426769556, 262.62882511748325, 202.0080046087031, 208.98739027372713, 194.37690356343484, 193.68353501561688, 175.7118846540702, 176.72119050631005, 696.3029403552353, 323.12282349258334, 214.88382886887712, 215.02890119360904, 205.5540278651595, 1320.5356803634559, 94.38189635581288, 76.84191645864139, 62.621387915223494, 47.83792271240129, 46.34063903304558, 40.96711209116567, 41.0059692287487, 144.86567715135988, 39.404616553733625, 39.23877216137102, 36.08479472644911, 35.015073697474875, 396.4857124469192, 28.629464168895254, 28.397824529103005, 28.114540027436014, 25.817751047595827, 127.62741600775641, 20.202436897829372, 1360.7760213282177, 18.11746509471853, 93.6179714184051, 47.03949263681978, 21.728057543984665, 63.42124452681489, 48.92880544496116, 301.1752901897386, 96.92043208953335, 63.81155755407224, 154.4925212771862, 189.79341956208899, 128.31877923289952, 149.4766503337281, 565.7810444585484, 525.7213583107533, 249.24387768461324, 777.528657330406, 158.16802750237736, 188.8914229721889, 149.03266122765058, 225.21527106736528, 198.00166517987572, 213.1638437559524, 333.6465882951044, 499.76296784584736, 241.5005720898255, 280.45197176574, 197.8560648239043, 266.8762885985932, 417.06683716810437, 221.1878575709564, 258.37297571752936, 220.01995466881138, 250.66453721781343, 175.64325543964884, 187.2520222397158, 187.05207721405273, 101.64873225537188, 70.14208910124286, 70.17225315644191, 63.75884819914005, 62.04595411870629, 57.796381103616035, 55.17751638538396, 139.72635297766868, 47.48706541159091, 45.02420760172023, 43.75768248444066, 43.39411315348664, 35.594319422155976, 35.33392328155049, 34.507531513232095, 34.110818241667175, 33.26444919722391, 32.725031660909345, 27.849857539633255, 27.450247912690838, 66.19121171879212, 26.810468068811947, 26.38332072635551, 26.41571095409823, 25.781271204741632, 25.84907233937664, 25.8068702464349, 24.528831582326067, 23.82236757520188, 245.45977384541993, 133.13907345488792, 55.540467982595494, 47.725230907702716, 96.46102759669535, 50.20834572218544, 72.00361225118908, 47.09772997887491, 49.28976010663966, 65.35797825789187, 66.39821079929254, 225.16506804950413, 114.05809402429975, 200.77008654828543, 111.1595085891407, 159.19491176769236, 96.98422865099023, 242.30942500157866, 201.3609818964737, 158.0618559899682, 72.95617322257151, 99.4667878936165, 95.33975926661078, 112.31044367933602, 137.30384211695335, 202.63088706630649, 221.07666526443413, 261.2990420001652, 101.17317051648797, 183.76142899342784, 219.53410252197523, 152.90658429533102, 181.90454467422708, 214.56682391118292, 213.04054758286549, 179.88103541950636, 124.0210203766241, 181.59978048746328, 157.15424583242566, 148.33543230330417, 149.07801819389218, 146.49710330708518, 150.58954661474755, 155.94658025098659, 124.78718893272708, 129.02275221275195, 200.173118527658, 136.94553828349893, 83.25697459385687, 63.63729603575606, 63.06935210150916, 57.47193342659234, 56.66412325976646, 56.4018936261303, 52.81122873477059, 52.5868742858176, 68.94115842881064, 42.60597063958245, 45.57121551950585, 37.08705987404235, 34.61165347077442, 36.787849393023684, 31.75368186579554, 31.02139103120001, 29.312046632708835, 28.108802744123558, 26.34233503482267, 29.093773677400367, 25.53820904082149, 23.565487275824964, 22.842475190723835, 21.76097296719161, 108.05505492735061, 21.85194197629094, 19.950929915050953, 20.790625690915817, 44.5063728124688, 41.792695078141406, 71.44931745144515, 53.19304617112737, 32.4237342770756, 81.74615071768086, 94.23757344331617, 51.92346481326525, 53.514292129526325, 89.52906642277387, 184.11044299862797, 36.82814922549977, 192.40814422252444, 269.58219920071724, 125.39246915934325, 56.10675237982966, 106.56726520520729, 123.03545314052116, 139.95386041007103, 92.63571596701355, 161.69426610361762, 101.07397720333125, 110.43826509200107, 92.89174486203177, 86.8435404392552, 66.70028204556104, 68.25641404309687, 75.3310891341714, 72.80175916021392, 76.98191157768544, 64.89233944394181, 69.18871596217534, 66.74645469297816], \"Total\": [1325.0, 1413.0, 1429.0, 1347.0, 1610.0, 697.0, 2311.0, 717.0, 1424.0, 876.0, 906.0, 503.0, 405.0, 3147.0, 1292.0, 323.0, 432.0, 644.0, 543.0, 342.0, 1125.0, 200.0, 457.0, 607.0, 671.0, 333.0, 741.0, 257.0, 215.0, 215.0, 233.13622244980994, 124.6335508193262, 181.31451020813049, 70.17550064117665, 69.68236275706454, 65.20537467947607, 64.11759260594415, 58.06848344578872, 65.15624164252617, 57.61814923197424, 55.32663442385044, 54.88994236970916, 52.999306893723265, 284.1666720832705, 65.59419112200703, 45.931762005244146, 48.706295807441094, 40.8172902845261, 36.63530862393798, 36.64784882417039, 36.11091667347208, 45.59423677145347, 31.696391982861925, 39.08335230053145, 32.94327001940234, 31.10045510699079, 30.323836789734397, 29.69292347488472, 29.583149721169445, 28.760422830957342, 103.03141515568225, 151.2760475776548, 263.9561282232971, 75.57376739088642, 644.0220573653269, 1610.075582506958, 193.79599998703694, 2311.085237030666, 99.25323073122841, 109.07256892488353, 741.6446150642171, 268.1359653331692, 3147.7167373414923, 280.06724942299763, 121.05866257175481, 457.2102144330843, 1292.040009065428, 206.71665168358518, 131.86360274226476, 285.00262501223017, 171.91460643392753, 321.667497456623, 1008.3016447367152, 391.6266868984773, 261.92735747335087, 219.55251517615744, 342.00825129793446, 702.1259367336584, 692.1381581778373, 820.9484459854851, 986.7598564350039, 1424.9623055206014, 876.0153624268796, 943.3086165815363, 1137.5737763651018, 559.5697752268043, 1125.8096165344605, 776.6310937683925, 701.4608028011976, 698.6460714075894, 1429.795452286183, 108.24284543658665, 98.44812768154874, 95.75779330583761, 80.20144767348201, 70.72765262813778, 64.04335199679137, 62.34814415234737, 717.2926349539648, 58.71068973218495, 58.33438090150566, 57.98620804961115, 58.6830467131506, 54.01753752412968, 54.58043515679566, 51.29174368247749, 49.988886825918044, 48.201982009390264, 47.437533945489974, 42.96016480201414, 42.79726476211879, 41.41825330555337, 41.00042298814039, 38.18853427251407, 35.315172942448974, 34.16009106325915, 33.60762238693032, 33.49916248138779, 33.40212607209362, 33.90530778173799, 503.2457692360254, 251.0695726439141, 41.85321890411423, 53.336790583860704, 1347.1821755281487, 107.53752709658414, 285.79176590275256, 286.10128879251346, 543.770912995593, 457.8907406486429, 58.474767239702324, 197.38174959708277, 402.2195076229921, 85.94573869494012, 184.72113835039517, 156.11845245201468, 102.28139700220228, 537.5214032054229, 187.5055108188347, 158.46062051234148, 461.2761779770207, 279.48111738351247, 943.3086165815363, 688.9756531349308, 3147.7167373414923, 2311.085237030666, 335.27490310910923, 800.2959267257045, 701.4608028011976, 654.5295571311692, 1125.8096165344605, 1137.5737763651018, 986.7598564350039, 698.6460714075894, 776.6310937683925, 671.9369749736184, 820.9484459854851, 550.1456834743792, 574.0068456786479, 697.4378203544595, 323.8408453363433, 215.61417656365785, 215.76424382870334, 206.27615127857675, 1325.2185292215906, 95.10175505757748, 77.5747262693306, 63.34136360068792, 48.55490666176455, 47.06397021754939, 41.68270973871075, 41.72487595279922, 147.44004691714295, 40.13092927299528, 39.96356708492468, 36.82192784031648, 35.734512795568925, 405.8957777721516, 29.35190158257778, 29.11597320623091, 28.836623760741855, 26.537911200135298, 132.07478389585208, 20.91964937471033, 1413.0701785310557, 18.83860575046629, 97.35019179520287, 48.938507885096215, 22.628388822744554, 66.87194345670962, 51.60045154459087, 342.30494119898395, 106.3679222156723, 69.07954960513995, 178.9498777117495, 227.00061992320514, 158.21771153853598, 190.16113087741405, 906.0210615022813, 876.0153624268796, 361.10023127365946, 1424.9623055206014, 211.47315516303505, 264.19190834027523, 200.24637505765193, 342.71830468919893, 292.92542700174664, 324.6511923947459, 607.9509681442488, 1125.8096165344605, 432.37063327910386, 553.4161159838484, 322.4245504943563, 550.1456834743792, 1610.075582506958, 441.3491439261996, 688.9756531349308, 500.5874352308767, 1137.5737763651018, 327.3506990482264, 639.1655712536672, 187.78637384699522, 102.37331495484887, 70.8541497344573, 70.88488744219376, 64.48994052341007, 62.771250102464165, 58.51190696370326, 55.91538766574828, 141.6399843333233, 48.20118838308663, 45.74311013855328, 44.47642663124022, 44.10964669971497, 36.31649981278559, 36.05257299467854, 35.22784930644748, 34.83131345380005, 33.980381058527776, 33.44649512636421, 28.573665323987935, 28.16691809494196, 67.9857893540563, 27.537516781385406, 27.09879538056722, 27.135062457598877, 26.494047056943074, 26.569543415753433, 26.54794165517055, 25.24320170450688, 24.53641707483625, 257.8273584001606, 142.67108286910548, 58.545697318152776, 50.12428464054285, 106.82946230860941, 53.62400021036124, 78.88768206951676, 50.34185614579109, 54.27182893960672, 75.00136711904905, 77.16204987660353, 333.44684055875183, 155.98731059829976, 319.16170247564736, 153.06632469700278, 241.47753838117342, 135.9685465283548, 493.64418661370513, 409.31919533254995, 291.9804908152902, 97.21109711455479, 157.87462459619522, 150.2716540095596, 197.41958247703238, 282.01875107101563, 574.0068456786479, 671.9369749736184, 906.0210615022813, 168.46484820678484, 536.2730581412484, 776.6310937683925, 400.46252846626135, 607.9509681442488, 986.7598564350039, 1008.3016447367152, 692.1381581778373, 322.4245504943563, 1137.5737763651018, 741.6446150642171, 702.1259367336584, 820.9484459854851, 943.3086165815363, 1424.9623055206014, 3147.7167373414923, 639.1655712536672, 1292.040009065428, 200.98130332825303, 137.67158444684733, 83.98697195349101, 64.34616586261622, 63.79931014565528, 58.18790075708001, 57.37133068289634, 57.140088318079, 53.51923899253243, 53.31466820561513, 69.97771096664997, 43.31468099210795, 46.33627665360206, 37.81181408785728, 35.327139555703184, 37.59368810614329, 32.458386878281715, 31.730870081988037, 30.01763938235778, 28.824567486654665, 27.052532338187937, 29.906245969933323, 26.260282115956475, 24.281882077362372, 23.56762108109847, 22.47088141597176, 111.75549510625241, 22.610779957486674, 20.665661015205057, 21.556428168146923, 46.18681828917695, 43.44728907105127, 75.01473043703848, 56.79441009110995, 34.87976413834724, 101.3543064498266, 120.94116630785638, 63.58266747623767, 67.03468581766309, 148.620505943966, 432.37063327910386, 42.00844275322543, 671.9369749736184, 1292.040009065428, 372.5119130600952, 89.08101196327999, 333.44684055875183, 461.2761779770207, 800.2959267257045, 302.7808053965895, 3147.7167373414923, 701.4608028011976, 1008.3016447367152, 639.1655712536672, 544.724116139735, 176.49579494799724, 220.34335053095126, 388.8346969056288, 493.64418661370513, 1137.5737763651018, 257.63702776939505, 776.6310937683925, 698.6460714075894], \"Category\": [\"Default\", \"Default\", \"Default\", \"Default\", \"Default\", \"Default\", \"Default\", \"Default\", \"Default\", \"Default\", \"Default\", \"Default\", \"Default\", \"Default\", \"Default\", \"Default\", \"Default\", \"Default\", \"Default\", \"Default\", \"Default\", \"Default\", \"Default\", \"Default\", \"Default\", \"Default\", \"Default\", \"Default\", \"Default\", \"Default\", \"Topic1\", \"Topic1\", \"Topic1\", \"Topic1\", \"Topic1\", \"Topic1\", \"Topic1\", \"Topic1\", \"Topic1\", \"Topic1\", \"Topic1\", \"Topic1\", \"Topic1\", \"Topic1\", \"Topic1\", \"Topic1\", \"Topic1\", \"Topic1\", \"Topic1\", \"Topic1\", \"Topic1\", \"Topic1\", \"Topic1\", \"Topic1\", \"Topic1\", \"Topic1\", \"Topic1\", \"Topic1\", \"Topic1\", \"Topic1\", \"Topic1\", \"Topic1\", \"Topic1\", \"Topic1\", \"Topic1\", \"Topic1\", \"Topic1\", \"Topic1\", \"Topic1\", \"Topic1\", \"Topic1\", \"Topic1\", \"Topic1\", \"Topic1\", \"Topic1\", \"Topic1\", \"Topic1\", \"Topic1\", \"Topic1\", \"Topic1\", \"Topic1\", \"Topic1\", \"Topic1\", \"Topic1\", \"Topic1\", \"Topic1\", \"Topic1\", \"Topic1\", \"Topic1\", \"Topic1\", \"Topic1\", \"Topic1\", \"Topic1\", \"Topic1\", \"Topic1\", \"Topic1\", \"Topic1\", \"Topic1\", \"Topic1\", \"Topic1\", \"Topic2\", \"Topic2\", \"Topic2\", \"Topic2\", \"Topic2\", \"Topic2\", \"Topic2\", \"Topic2\", \"Topic2\", \"Topic2\", \"Topic2\", \"Topic2\", \"Topic2\", \"Topic2\", \"Topic2\", \"Topic2\", \"Topic2\", \"Topic2\", \"Topic2\", \"Topic2\", \"Topic2\", \"Topic2\", \"Topic2\", \"Topic2\", \"Topic2\", \"Topic2\", \"Topic2\", \"Topic2\", \"Topic2\", \"Topic2\", \"Topic2\", \"Topic2\", \"Topic2\", \"Topic2\", \"Topic2\", \"Topic2\", \"Topic2\", \"Topic2\", \"Topic2\", \"Topic2\", \"Topic2\", \"Topic2\", \"Topic2\", \"Topic2\", \"Topic2\", \"Topic2\", \"Topic2\", \"Topic2\", \"Topic2\", \"Topic2\", \"Topic2\", \"Topic2\", \"Topic2\", \"Topic2\", \"Topic2\", \"Topic2\", \"Topic2\", \"Topic2\", \"Topic2\", \"Topic2\", \"Topic2\", \"Topic2\", \"Topic2\", \"Topic2\", \"Topic2\", \"Topic2\", \"Topic2\", \"Topic2\", \"Topic2\", \"Topic3\", \"Topic3\", \"Topic3\", \"Topic3\", \"Topic3\", \"Topic3\", \"Topic3\", \"Topic3\", \"Topic3\", \"Topic3\", \"Topic3\", \"Topic3\", \"Topic3\", \"Topic3\", \"Topic3\", \"Topic3\", \"Topic3\", \"Topic3\", \"Topic3\", \"Topic3\", \"Topic3\", \"Topic3\", \"Topic3\", \"Topic3\", \"Topic3\", \"Topic3\", \"Topic3\", \"Topic3\", \"Topic3\", \"Topic3\", \"Topic3\", \"Topic3\", \"Topic3\", \"Topic3\", \"Topic3\", \"Topic3\", \"Topic3\", \"Topic3\", \"Topic3\", \"Topic3\", \"Topic3\", \"Topic3\", \"Topic3\", \"Topic3\", \"Topic3\", \"Topic3\", \"Topic3\", \"Topic3\", \"Topic3\", \"Topic3\", \"Topic3\", \"Topic3\", \"Topic3\", \"Topic3\", \"Topic3\", \"Topic3\", \"Topic3\", \"Topic3\", \"Topic3\", \"Topic3\", \"Topic3\", \"Topic3\", \"Topic4\", \"Topic4\", \"Topic4\", \"Topic4\", \"Topic4\", \"Topic4\", \"Topic4\", \"Topic4\", \"Topic4\", \"Topic4\", \"Topic4\", \"Topic4\", \"Topic4\", \"Topic4\", \"Topic4\", \"Topic4\", \"Topic4\", \"Topic4\", \"Topic4\", \"Topic4\", \"Topic4\", \"Topic4\", \"Topic4\", \"Topic4\", \"Topic4\", \"Topic4\", \"Topic4\", \"Topic4\", \"Topic4\", \"Topic4\", \"Topic4\", \"Topic4\", \"Topic4\", \"Topic4\", \"Topic4\", \"Topic4\", \"Topic4\", \"Topic4\", \"Topic4\", \"Topic4\", \"Topic4\", \"Topic4\", \"Topic4\", \"Topic4\", \"Topic4\", \"Topic4\", \"Topic4\", \"Topic4\", \"Topic4\", \"Topic4\", \"Topic4\", \"Topic4\", \"Topic4\", \"Topic4\", \"Topic4\", \"Topic4\", \"Topic4\", \"Topic4\", \"Topic4\", \"Topic4\", \"Topic4\", \"Topic4\", \"Topic4\", \"Topic4\", \"Topic4\", \"Topic4\", \"Topic4\", \"Topic4\", \"Topic4\", \"Topic4\", \"Topic4\", \"Topic4\", \"Topic4\", \"Topic4\", \"Topic4\", \"Topic4\", \"Topic5\", \"Topic5\", \"Topic5\", \"Topic5\", \"Topic5\", \"Topic5\", \"Topic5\", \"Topic5\", \"Topic5\", \"Topic5\", \"Topic5\", \"Topic5\", \"Topic5\", \"Topic5\", \"Topic5\", \"Topic5\", \"Topic5\", \"Topic5\", \"Topic5\", \"Topic5\", \"Topic5\", \"Topic5\", \"Topic5\", \"Topic5\", \"Topic5\", \"Topic5\", \"Topic5\", \"Topic5\", \"Topic5\", \"Topic5\", \"Topic5\", \"Topic5\", \"Topic5\", \"Topic5\", \"Topic5\", \"Topic5\", \"Topic5\", \"Topic5\", \"Topic5\", \"Topic5\", \"Topic5\", \"Topic5\", \"Topic5\", \"Topic5\", \"Topic5\", \"Topic5\", \"Topic5\", \"Topic5\", \"Topic5\", \"Topic5\", \"Topic5\", \"Topic5\", \"Topic5\", \"Topic5\", \"Topic5\", \"Topic5\", \"Topic5\", \"Topic5\", \"Topic5\", \"Topic5\", \"Topic5\", \"Topic5\", \"Topic5\"], \"logprob\": [30.0, 29.0, 28.0, 27.0, 26.0, 25.0, 24.0, 23.0, 22.0, 21.0, 20.0, 19.0, 18.0, 17.0, 16.0, 15.0, 14.0, 13.0, 12.0, 11.0, 10.0, 9.0, 8.0, 7.0, 6.0, 5.0, 4.0, 3.0, 2.0, 1.0, -5.43779993057251, -6.067399978637695, -5.695099830627441, -6.645400047302246, -6.6528000831604, -6.719699859619141, -6.736599922180176, -6.837100028991699, -6.722300052642822, -6.845300197601318, -6.885900020599365, -6.893899917602539, -6.929599761962891, -5.250999927520752, -6.718299865722656, -7.075200080871582, -7.016900062561035, -7.194900035858154, -7.304699897766113, -7.304500102996826, -7.319499969482422, -7.087800025939941, -7.452700138092041, -7.243199825286865, -7.414100170135498, -7.472599983215332, -7.498000144958496, -7.519700050354004, -7.523399829864502, -7.552499771118164, -6.277400016784668, -5.909299850463867, -5.401500225067139, -6.62529993057251, -4.608799934387207, -3.802999973297119, -5.771299839019775, -3.507200002670288, -6.396599769592285, -6.315499782562256, -4.6031999588012695, -5.511199951171875, -3.3668999671936035, -5.4969000816345215, -6.230599880218506, -5.118000030517578, -4.287899971008301, -5.798099994659424, -6.174099922180176, -5.551199913024902, -5.985799789428711, -5.508800029754639, -4.680200099945068, -5.382900238037109, -5.705900192260742, -5.843400001525879, -5.534599781036377, -5.064899921417236, -5.0802998542785645, -5.003799915313721, -4.898099899291992, -4.678699970245361, -5.0289998054504395, -5.015100002288818, -5.044400215148926, -5.377600193023682, -5.177700042724609, -5.3292999267578125, -5.4222002029418945, -5.443699836730957, -3.4435999393463135, -6.027100086212158, -6.122600078582764, -6.150599956512451, -6.329400062561035, -6.456200122833252, -6.556700229644775, -6.583700180053711, -4.141600131988525, -6.644599914550781, -6.651100158691406, -6.657100200653076, -6.645400047302246, -6.728899955749512, -6.718599796295166, -6.781400203704834, -6.807499885559082, -6.8445000648498535, -6.8607001304626465, -6.961400032043457, -6.9653000831604, -6.998799800872803, -7.0096001625061035, -7.081299781799316, -7.161099910736084, -7.195099830627441, -7.2118000984191895, -7.215099811553955, -7.2179999351501465, -7.203199863433838, -4.514999866485596, -5.229499816894531, -6.994900226593018, -6.758999824523926, -3.6184000968933105, -6.079999923706055, -5.1427001953125, -5.164899826049805, -4.5914998054504395, -4.776400089263916, -6.682400226593018, -5.60699987411499, -5.03410005569458, -6.351600170135498, -5.707099914550781, -5.850200176239014, -6.207499980926514, -4.874100208282471, -5.750800132751465, -5.883999824523926, -5.103600025177002, -5.512400150299072, -4.7519001960754395, -4.969600200653076, -3.9586000442504883, -4.314300060272217, -5.579100131988525, -5.122099876403809, -5.220699787139893, -5.262499809265137, -5.0177998542785645, -5.056000232696533, -5.133999824523926, -5.396500110626221, -5.362500190734863, -5.434999942779541, -5.438600063323975, -5.535900115966797, -5.530200004577637, -3.961400032043457, -4.7291998863220215, -5.1371002197265625, -5.13640022277832, -5.18149995803833, -3.3213999271392822, -5.95989990234375, -6.165500164031982, -6.370100021362305, -6.639400005340576, -6.671199798583984, -6.79449987411499, -6.793499946594238, -5.531400203704834, -6.8333001136779785, -6.837600231170654, -6.921299934387207, -6.951399803161621, -4.524600028991699, -7.1528000831604, -7.160900115966797, -7.170899868011475, -7.256199836730957, -5.658100128173828, -7.501399993896484, -3.2913999557495117, -7.610300064086914, -5.9679999351501465, -6.656199932098389, -7.428599834442139, -6.357399940490723, -6.6168999671936035, -4.799499988555908, -5.933300018310547, -6.35129976272583, -5.467100143432617, -5.261300086975098, -5.652699947357178, -5.500100135803223, -4.169000148773193, -4.242400169372559, -4.988800048828125, -3.851099967956543, -5.443600177764893, -5.265999794006348, -5.5030999183654785, -5.090199947357178, -5.218900203704834, -5.145199775695801, -4.6971001625061035, -4.293099880218506, -5.020299911499023, -4.870800018310547, -5.219699859619141, -4.920400142669678, -4.473999977111816, -5.1082000732421875, -4.9527997970581055, -5.113500118255615, -4.983099937438965, -5.338799953460693, -5.274799823760986, -5.184100151062012, -5.794000148773193, -6.164999961853027, -6.1645002365112305, -6.26039981842041, -6.287600040435791, -6.35860013961792, -6.404900074005127, -5.475800037384033, -6.554999828338623, -6.60830020904541, -6.6367998123168945, -6.645199775695801, -6.843299865722656, -6.8506999015808105, -6.874300003051758, -6.885900020599365, -6.910999774932861, -6.9274001121521, -7.088699817657471, -7.103099822998047, -6.2230000495910645, -7.126699924468994, -7.1427998542785645, -7.141499996185303, -7.165900230407715, -7.1631999015808105, -7.164899826049805, -7.215700149536133, -7.244900226593018, -4.912399768829346, -5.524099826812744, -6.398399829864502, -6.550000190734863, -5.846399784088135, -6.499300003051758, -6.138800144195557, -6.563300132751465, -6.5177998542785645, -6.235599994659424, -6.219799995422363, -4.998700141906738, -5.678800106048584, -5.11329984664917, -5.704500198364258, -5.345399856567383, -5.841000080108643, -4.925300121307373, -5.110400199890137, -5.352499961853027, -6.1255998611450195, -5.815700054168701, -5.858099937438965, -5.694200038909912, -5.493299961090088, -5.104100227355957, -5.017000198364258, -4.849800109863281, -5.798699855804443, -5.201900005340576, -5.02400016784668, -5.385700225830078, -5.211999893188477, -5.046899795532227, -5.053999900817871, -5.223199844360352, -5.59499979019165, -5.213699817657471, -5.35830020904541, -5.415999889373779, -5.410999774932861, -5.428500175476074, -5.400899887084961, -5.366000175476074, -5.588900089263916, -5.555500030517578, -4.669099807739258, -5.048699855804443, -5.54640007019043, -5.815100193023682, -5.824100017547607, -5.916999816894531, -5.93120002746582, -5.935800075531006, -6.0015997886657715, -6.005899906158447, -5.735099792480469, -6.216300010681152, -6.14900016784668, -6.355100154876709, -6.424099922180176, -6.3632001876831055, -6.510300159454346, -6.533599853515625, -6.5903000831604, -6.632199764251709, -6.6971001625061035, -6.597799777984619, -6.728099822998047, -6.808499813079834, -6.839700222015381, -6.888199806213379, -5.285699844360352, -6.883999824523926, -6.974999904632568, -6.933800220489502, -6.172699928283691, -6.235599994659424, -5.6992998123168945, -5.9944000244140625, -6.4893999099731445, -5.564700126647949, -5.422500133514404, -6.018599987030029, -5.988399982452393, -5.473800182342529, -4.752799987792969, -6.362100124359131, -4.708700180053711, -4.371500015258789, -5.136899948120117, -5.941100120544434, -5.299499988555908, -5.155900001525879, -5.0269999504089355, -5.439700126647949, -4.882599830627441, -5.352499961853027, -5.263899803161621, -5.4369001388549805, -5.504199981689453, -5.768099784851074, -5.745100021362305, -5.646399974822998, -5.680600166320801, -5.624800205230713, -5.795599937438965, -5.731500148773193, -5.767399787902832], \"loglift\": [30.0, 29.0, 28.0, 27.0, 26.0, 25.0, 24.0, 23.0, 22.0, 21.0, 20.0, 19.0, 18.0, 17.0, 16.0, 15.0, 14.0, 13.0, 12.0, 11.0, 10.0, 9.0, 8.0, 7.0, 6.0, 5.0, 4.0, 3.0, 2.0, 1.0, 1.2617, 1.2583, 1.2557, 1.2546, 1.2542, 1.2538, 1.2537, 1.2523, 1.2519, 1.2519, 1.2519, 1.2518, 1.2512, 1.2505, 1.2492, 1.2487, 1.2483, 1.247, 1.2454, 1.2452, 1.2449, 1.2435, 1.2422, 1.2421, 1.2421, 1.2412, 1.2411, 1.2405, 1.2404, 1.2395, 1.2386, 1.2226, 1.1738, 1.2006, 1.0745, 0.964, 1.1129, 0.8984, 1.1567, 1.1435, 0.9389, 1.0483, 0.7297, 1.0191, 1.1242, 0.9079, 0.6991, 1.0215, 1.0952, 0.9474, 1.0182, 0.8687, 0.5549, 0.7979, 0.8771, 0.9161, 0.7816, 0.5321, 0.531, 0.4368, 0.3585, 0.2104, 0.3466, 0.2865, 0.07, 0.4462, -0.053, 0.1667, 0.1756, 0.1582, 1.4421, 1.4396, 1.4389, 1.4386, 1.4371, 1.436, 1.4348, 1.4346, 1.434, 1.4338, 1.4338, 1.4337, 1.4335, 1.4328, 1.4328, 1.4321, 1.4317, 1.4312, 1.431, 1.4294, 1.4292, 1.4286, 1.4279, 1.4272, 1.4256, 1.4248, 1.4245, 1.4245, 1.4244, 1.4242, 1.415, 1.3958, 1.422, 1.4154, 1.3268, 1.3932, 1.3531, 1.3298, 1.261, 1.248, 1.4001, 1.2589, 1.12, 1.3458, 1.2251, 1.2503, 1.3158, 0.99, 1.1664, 1.2015, 0.9134, 1.0058, 0.5498, 0.6462, 0.138, 0.0913, 0.757, 0.344, 0.3771, 0.4046, 0.107, 0.0584, 0.1226, 0.2054, 0.1336, 0.2059, 0.002, 0.3049, 0.2682, 1.6422, 1.6416, 1.6404, 1.6404, 1.6403, 1.6403, 1.6362, 1.6343, 1.6324, 1.6289, 1.6283, 1.6265, 1.6264, 1.6262, 1.6256, 1.6255, 1.6236, 1.6235, 1.6204, 1.6189, 1.6188, 1.6185, 1.6163, 1.6096, 1.6089, 1.6061, 1.6048, 1.6047, 1.6042, 1.6032, 1.5908, 1.5907, 1.5158, 1.5508, 1.5645, 1.4969, 1.4648, 1.4344, 1.4031, 1.173, 1.1332, 1.2731, 1.038, 1.3534, 1.3083, 1.3484, 1.224, 1.2522, 1.2231, 1.0438, 0.8317, 1.0614, 0.9641, 1.1555, 0.9204, 0.293, 0.953, 0.663, 0.8218, 0.1313, 1.0212, 0.4161, 1.7316, 1.7284, 1.7254, 1.7254, 1.7241, 1.7239, 1.7232, 1.7223, 1.7219, 1.7206, 1.7197, 1.7192, 1.7192, 1.7155, 1.7154, 1.7149, 1.7146, 1.7142, 1.7137, 1.7099, 1.7098, 1.7088, 1.7088, 1.7088, 1.7087, 1.7083, 1.7081, 1.7072, 1.7068, 1.706, 1.6864, 1.6664, 1.6828, 1.6865, 1.6334, 1.6697, 1.6442, 1.6689, 1.6393, 1.5979, 1.5853, 1.3429, 1.4225, 1.272, 1.4156, 1.3189, 1.3977, 1.0239, 1.0261, 1.1218, 1.4485, 1.2736, 1.2805, 1.1715, 1.0158, 0.6943, 0.6239, 0.4921, 1.2256, 0.6645, 0.4721, 0.7727, 0.5289, 0.2097, 0.181, 0.3881, 0.7801, -0.0993, 0.1839, 0.1809, 0.0296, -0.1268, -0.5118, -1.2694, 0.102, -0.5684, 2.1787, 2.1774, 2.174, 2.1716, 2.1712, 2.1703, 2.1703, 2.1697, 2.1694, 2.169, 2.1678, 2.1662, 2.1661, 2.1634, 2.1623, 2.161, 2.1608, 2.1601, 2.1589, 2.1576, 2.1561, 2.1552, 2.1548, 2.1528, 2.1515, 2.1506, 2.149, 2.1486, 2.1475, 2.1465, 2.1457, 2.1439, 2.134, 2.1172, 2.1097, 1.9677, 1.9332, 1.9801, 1.9575, 1.6759, 1.329, 2.0511, 0.9322, 0.6156, 1.0939, 1.7204, 1.042, 0.8612, 0.439, 0.9984, -0.786, 0.2454, -0.0289, 0.254, 0.3465, 1.2096, 1.0108, 0.5415, 0.2686, -0.5104, 0.8039, -0.2354, -0.1655]}, \"token.table\": {\"Topic\": [2, 5, 1, 2, 3, 4, 5, 4, 3, 3, 4, 3, 4, 4, 4, 1, 3, 4, 1, 3, 3, 1, 1, 2, 3, 4, 1, 1, 3, 1, 3, 3, 4, 1, 1, 3, 3, 1, 3, 4, 1, 1, 3, 4, 5, 1, 2, 3, 4, 5, 2, 3, 4, 1, 3, 4, 1, 2, 3, 5, 5, 4, 5, 3, 4, 1, 3, 4, 5, 4, 4, 5, 1, 4, 5, 1, 5, 2, 5, 3, 4, 1, 3, 4, 1, 3, 4, 1, 3, 4, 3, 1, 4, 1, 5, 3, 3, 5, 1, 4, 2, 1, 2, 3, 4, 5, 2, 1, 3, 4, 5, 5, 1, 2, 3, 4, 5, 2, 1, 2, 3, 4, 5, 5, 4, 1, 2, 3, 4, 1, 3, 1, 2, 3, 4, 5, 1, 2, 3, 4, 1, 2, 3, 4, 5, 5, 4, 4, 1, 3, 4, 1, 2, 3, 4, 5, 1, 4, 4, 1, 2, 3, 4, 5, 4, 5, 4, 3, 1, 5, 3, 5, 1, 3, 1, 2, 3, 1, 2, 4, 1, 2, 1, 3, 5, 1, 2, 4, 5, 4, 1, 2, 4, 5, 2, 2, 4, 4, 2, 2, 1, 2, 3, 4, 1, 5, 1, 2, 3, 1, 3, 1, 2, 2, 2, 2, 4, 3, 1, 2, 3, 4, 5, 1, 2, 3, 4, 1, 1, 3, 1, 2, 3, 5, 1, 2, 3, 4, 5, 3, 5, 1, 2, 3, 4, 5, 1, 2, 3, 4, 2, 3, 1, 2, 1, 2, 3, 4, 5, 1, 2, 3, 4, 5, 4, 1, 2, 3, 4, 5, 1, 2, 3, 4, 5, 3, 1, 2, 3, 5, 5, 1, 3, 4, 4, 5, 4, 1, 3, 4, 2, 2, 2, 2, 3, 1, 2, 4, 2, 1, 2, 4, 5, 1, 1, 1, 2, 3, 4, 5, 1, 2, 4, 5, 2, 1, 2, 3, 4, 5, 4, 5, 5, 5, 4, 5, 5, 1, 2, 3, 4, 5, 1, 4, 5, 1, 2, 4, 1, 3, 1, 2, 3, 4, 5, 2, 3, 5, 2, 3, 5, 1, 1, 2, 2, 2, 5, 1, 4, 5, 1, 2, 4, 5, 2, 5, 1, 2, 4, 1, 2, 3, 4, 5, 1, 2, 4, 5, 5, 2, 3, 5, 1, 2, 3, 5, 1, 2, 3, 4, 2, 4, 5, 4, 3, 5, 4, 1, 1, 5, 4, 1, 2, 4, 5, 1, 2, 3, 4, 5, 3, 1, 2, 3, 4, 5, 1, 2, 4, 5, 1, 2, 3, 4, 5, 1, 3, 1, 3, 4, 1, 3, 1, 2, 3, 4, 5, 4, 5, 1, 2, 5, 5, 2, 1, 2, 3, 2, 4, 5, 4, 3, 5, 1, 2, 3, 4, 5, 2, 1, 2, 3, 2, 3, 4, 1, 3, 4, 5, 1, 2, 3, 4, 5, 1, 2, 3, 2, 3, 4, 1, 2, 3, 4, 5, 2, 3, 1, 2, 3, 4, 1, 3, 4, 5, 3, 5, 1, 2, 3, 4, 5, 5, 1, 2, 3, 4, 5, 1, 1, 2, 4, 5, 1, 2, 3, 5, 1, 2, 5, 4, 1, 2, 4, 1, 4, 1, 3, 2, 2, 3, 4, 5, 1, 2, 3, 2, 1, 1, 1, 3, 4, 5, 4, 5, 2, 2, 1, 2, 5, 2, 1, 2, 3, 4, 5, 5, 1, 3, 4, 1, 2, 3, 2, 5, 2, 2, 1, 4, 1, 2, 4, 5, 1, 2, 3, 4, 5, 1, 3, 1, 2, 3, 4, 5, 2, 3, 4, 4, 5, 3, 1, 1, 4, 5, 5, 4, 1, 2, 4, 5, 2, 5, 1, 1, 2, 3, 4, 5, 1, 2, 3, 4, 2, 3, 5, 5, 1, 2, 3, 4, 5, 1, 3, 4, 5, 1, 2, 3, 4, 5, 1, 2, 3, 4, 5, 3, 1, 2, 3, 4, 5, 2, 5, 5, 3, 4, 3, 4, 1, 2, 3, 4, 5, 1, 2, 3, 4, 5, 4], \"Freq\": [0.9519273780696951, 0.04779551689052862, 0.05120757236247217, 0.006827676314996289, 0.6759399551846327, 0.2082441276073868, 0.05803524867746846, 0.9958124019816478, 0.9718190110848915, 0.9709874579048039, 0.9711486149363903, 0.6140971576029716, 0.3845860987008509, 0.9761331580302679, 0.983629056258712, 0.0049938482018068745, 0.7440833820692242, 0.24469856188853684, 0.9815995978819348, 0.9964579681269614, 0.977393105328104, 0.9735600955720709, 0.04206958574072185, 0.031552189305541385, 0.7835460344209445, 0.14198485187493626, 0.9823223232752719, 0.013564835618398455, 0.9834505823338879, 0.11977624353417221, 0.879332909848435, 0.9885715636190993, 0.98048056454572, 0.9909414063678014, 0.0367993046559486, 0.9631510314758855, 0.9794452830581195, 0.34807938292710794, 0.5459793546719556, 0.10596771536692198, 0.9940962535087868, 0.39953637231928596, 0.6004460909712698, 0.9028625155516101, 0.073703062494009, 0.8673480919860947, 0.008260458018915189, 0.09086503820806707, 0.016520916037830378, 0.008260458018915189, 0.15132799324397345, 0.5493864102552949, 0.29936624750438223, 0.2963166199661339, 0.6895592371174517, 0.011077256821163882, 0.3421327583344073, 0.031720917991269554, 0.5007373482907551, 0.12461789210855896, 0.9842077716752065, 0.18746120086575271, 0.809043077420617, 0.1199978126493931, 0.8666508691345057, 0.7263090997534395, 0.19298067867845012, 0.038596135735690026, 0.038596135735690026, 0.9837547089320678, 0.9565177727012323, 0.03416134902504401, 0.023804738630146424, 0.0952189545205857, 0.8807753293154177, 0.9837867862255167, 0.9883912591098049, 0.02684431756261942, 0.966395432254299, 0.9968167293706129, 0.0030183701116445506, 0.08719444100892028, 0.6247095393803656, 0.28807277345985055, 0.9811449063715659, 0.9119290663901676, 0.0846119752320774, 0.3595847577481966, 0.5059484028617842, 0.13371493504204296, 0.9884149871165843, 0.9585126153270689, 0.03966259097905113, 0.05282209983671599, 0.9331904304486491, 0.9986612544549379, 0.9971515019399639, 0.9741873670439922, 0.9705777587243489, 0.019411555174486977, 0.9910754240687822, 0.16332789102689893, 0.05879804076968362, 0.006533115641075957, 0.7251758361594313, 0.052264925128607656, 0.992086353708911, 0.20775847526980049, 0.005935956436280014, 0.5995316000642814, 0.1780786930884004, 0.9795850899993935, 0.585503764724575, 0.2703546954859541, 0.043205920782714166, 0.04955973266252507, 0.051465876226468345, 0.9776498808503378, 0.37214646960032316, 0.1996883495416368, 0.004538371580491746, 0.11345928951229364, 0.3086092674734387, 0.9858777061225915, 0.9912849582306343, 0.6255957732101953, 0.16342093667531635, 0.1149053460998318, 0.09703118115096908, 0.9692359880111217, 0.9836212726334173, 0.0872496166776439, 0.319915261151361, 0.4853259927693942, 0.10542662015215305, 0.0018177003474509146, 0.26736314522393007, 0.2620336473124896, 0.4441248259533722, 0.025759239905295588, 0.008268483185076078, 0.14883269733136942, 0.016536966370152156, 0.04961089911045647, 0.7772374193971514, 0.9907397100411327, 0.9708044972314762, 0.9892881090652732, 0.7794567476237142, 0.17450524200530915, 0.04653473120141577, 0.7213697627315419, 0.010786837573555766, 0.05258583317108436, 0.21169168738103192, 0.0026967093933889415, 0.9815141821452417, 0.9799232853929196, 0.9866504659254338, 0.5680938630769837, 0.1075818078579029, 0.016253366654791088, 0.09984210945085953, 0.20897185699017112, 0.9322141342546739, 0.0630821594608426, 0.9903656553810501, 0.9722300678290917, 0.9713668370247766, 0.9790448177241028, 0.926468113440595, 0.05790425709003719, 0.25062282708715294, 0.7471397486749088, 0.783681424213316, 0.12093849139094383, 0.0919132534571173, 0.8565708271125502, 0.13932176103637864, 0.9875165571375791, 0.27596871334257206, 0.7209993411652784, 0.9949166912507803, 0.9797304619765042, 0.9677890286347344, 0.0952470281941439, 0.2887175542134987, 0.32889989423290317, 0.28574108458243175, 0.9877133225608026, 0.25378984812935207, 0.04699812002395409, 0.6297748083209848, 0.07206378403672961, 0.981162830244249, 0.9899017154956341, 0.981352525875672, 0.9781379215555321, 0.9829923686548466, 0.9907766296200654, 0.09337114347895673, 0.13130317051728288, 0.6565158525864144, 0.1167139293486959, 0.9802877744031377, 0.9927350038162513, 0.002797602967336459, 0.9959466563717794, 0.0013988014836682295, 0.030285872003805135, 0.9691479041217643, 0.826058663543908, 0.17235434521310863, 0.9688771958611276, 0.994267858913764, 0.9878950539428707, 0.9879449582323911, 0.9776783050610255, 0.6169441795607179, 0.15789092747051547, 0.06724983947818251, 0.1257279607635586, 0.02923906064268805, 0.12869432759541033, 0.13626458215984624, 0.7153890563391927, 0.015140509128871804, 0.9825696418015459, 0.9826585704392603, 0.9974035229080815, 0.022068116762430163, 0.8312323980515361, 0.13792572976518852, 0.009195048651012568, 0.985498880673796, 0.3474946244809178, 0.16665558521023607, 0.48578330157026256, 0.9882485112805643, 0.05733983727834832, 0.9174373964535731, 0.002969160424373817, 0.8877789668877712, 0.028949314137644715, 0.08016733145809306, 0.0007422901060934543, 0.27767376929045695, 0.15381928226881428, 0.4394836636251836, 0.12784979305459887, 0.02043380648931761, 0.9603889049979276, 0.705981436266563, 0.2915020123939357, 0.21743422007778615, 0.1710156787128655, 0.09039400160537177, 0.49105930601837094, 0.029316973493634085, 0.4372990798089011, 0.2363120375568992, 0.11571981220569806, 0.1814973896699896, 0.029234478873018457, 0.9935321255502878, 0.40435370105297896, 0.26652888064394353, 0.10539545090102709, 0.21788482638193102, 0.007093924579876823, 0.3763349488807675, 0.4081379023073113, 0.036043347216749566, 0.15477437334251284, 0.02438226429368353, 0.9925913206920614, 0.08397722700018787, 0.9097532925020352, 0.0034990511250078274, 0.9800474876459321, 0.9696971003701224, 0.9927501102552599, 0.005515278390307, 0.005515278390307, 0.91269001840557, 0.07605750153379749, 0.9581698969968276, 0.27212175863249405, 0.007354642125202541, 0.7134002861446465, 0.9883604081347478, 0.981371128118812, 0.9954480832484869, 0.9837086603954827, 0.9616714441132922, 0.6795777337543298, 0.31688175225623244, 0.0038178524368220777, 0.9660395793116932, 0.6998968743442938, 0.17278704085374752, 0.0962358202223404, 0.030620488252562854, 0.9869668446380153, 0.9722809780440271, 0.22616633916973117, 0.332377050934522, 0.12745285411774906, 0.13994823197243034, 0.17493528996553792, 0.4969253946484174, 0.05993070086212069, 0.3820582179960194, 0.06242781339804238, 0.9802178666358033, 0.019232333633378892, 0.08975089028910149, 0.08975089028910149, 0.7308286780683979, 0.0705185566557226, 0.35922357969160357, 0.6286412644603062, 0.9927426915175774, 0.9713935868409326, 0.9576196517161938, 0.039900818821508074, 0.990088373201508, 0.2765344941691108, 0.35292523841472156, 0.23681130716139323, 0.11305830148350388, 0.01986159350385879, 0.9797142115920185, 0.9963533958530745, 0.9769665918362915, 0.9130305161777601, 0.0037885083658828218, 0.08334718404942208, 0.9780292979958582, 0.9560389680420701, 0.3111862211961167, 0.1491636432179733, 0.23403261263509603, 0.11058683893746296, 0.19288402140255168, 0.013876983167186751, 0.559704987743199, 0.4255608171270604, 0.9576780317986107, 0.01710139342497519, 0.03420278684995038, 0.9822543226346635, 0.9902075255478423, 0.9755996910463638, 0.9879610635794353, 0.02165119913086397, 0.9743039608888786, 0.0029989787827178543, 0.6747702261115172, 0.3208907297508104, 0.4212610221201767, 0.017124431793503116, 0.5411320446746984, 0.02054931815220374, 0.023016395760956588, 0.9666886219601767, 0.995126358152884, 0.9749368012355583, 0.018748784639145352, 0.3306395175665918, 0.28913066038290713, 0.12595791145393972, 0.15744738931742466, 0.09589977349334049, 0.33644075201003815, 0.3435687340441491, 0.17534835803913007, 0.14398523708904176, 0.9946202565766652, 0.014917650285108195, 0.17901180342129833, 0.8055531153958425, 0.6931808374399403, 0.25788750256816756, 0.029856103485240874, 0.019038674686240556, 0.8417789116300431, 0.015167187596937713, 0.106170313178564, 0.030334375193875426, 0.9819201019359637, 0.9502482650415557, 0.046542772165300686, 0.9912512343167894, 0.9496040932443456, 0.038759350744667166, 0.9785640495645197, 0.9892716229137188, 0.014290264516891396, 0.9860282516655064, 0.9750796936054772, 0.27141906285298567, 0.501081346805512, 0.22369702982388928, 0.002982627064318524, 0.49191628575545376, 0.12397083814401556, 0.06347306912973597, 0.21124630819740253, 0.1090943375667337, 0.9946107317354277, 0.02504641481876712, 0.6440506667682974, 0.07513924445630137, 0.25404220744749506, 0.0035780592598238744, 0.01333071510320659, 0.01333071510320659, 0.02666143020641318, 0.9464807723276679, 0.009164483255183244, 0.1405220765794764, 0.5376496843040837, 0.2230024258761256, 0.08859000480010469, 0.04486186350994999, 0.9420991337089497, 0.7403379151579977, 0.2589940525342995, 0.0006210888549983202, 0.7819550499074416, 0.21423426024861414, 0.26284269296683604, 0.10325962937982844, 0.29256894990951393, 0.1955674798860387, 0.1455022050352128, 0.17300312233850457, 0.8178329419638397, 0.8055614610729736, 0.041023963295382916, 0.15290749955551813, 0.9785301470600962, 0.9943120732201359, 0.03490574454945745, 0.9075493582858936, 0.058176240915762414, 0.007060153280211374, 0.9884214592295922, 0.007060153280211374, 0.9748434462132715, 0.9758888619007146, 0.9951174397219908, 0.00558815693414884, 0.00558815693414884, 0.8605761678589214, 0.0838223540122326, 0.04470525547319072, 0.9944161264608504, 0.0027882622831173474, 0.9884389793650997, 0.008364786849352043, 0.8912927343886635, 0.10835323437666106, 0.9585713250200594, 0.006728546600272154, 0.013457093200544308, 0.3700700630149685, 0.6055691940244939, 0.671500856343522, 0.0404144033910453, 0.034196802869346024, 0.18341921539012868, 0.06839360573869205, 0.07821559183267458, 0.8799254081175891, 0.03910779591633729, 0.782528804942692, 0.05679644552003409, 0.15776790422231693, 0.4414105459857731, 0.15368950184120034, 0.15905076353333525, 0.1340315423033724, 0.11258649553483281, 0.969705121894676, 0.029806509894303564, 0.16836589141021832, 0.4499433304928248, 0.37446896537789937, 0.0072571504918197555, 0.008810548626151792, 0.8370021194844202, 0.017621097252303583, 0.13656350370535278, 0.988010944313514, 0.9874714923432489, 0.1289183231125229, 0.3083586917691426, 0.10452837009123479, 0.3536543188086777, 0.10627050959275537, 0.9935275915953777, 0.35709152832778013, 0.19019005313110027, 0.09315431173768177, 0.10868003036062873, 0.25229292762288813, 0.9766636829993915, 0.9853372246198896, 0.0035190615164996056, 0.0035190615164996056, 0.007038123032999211, 0.3038501726669767, 0.28733657632638016, 0.10568701657981798, 0.30715289193509604, 0.9394794311731246, 0.02646420932882041, 0.02646420932882041, 0.9924028380328213, 0.03729673265989507, 0.018648366329947534, 0.9324183164973767, 0.8893161768913895, 0.110018496110275, 0.1832917422328958, 0.8090118277865745, 0.9732989363327472, 0.020544386848332374, 0.9655861818716215, 0.020544386848332374, 0.9951218368732684, 0.15705606046800472, 0.8308772231210573, 0.010132649062451917, 0.9850196260998508, 0.9799768608148901, 0.9893207184836179, 0.3545063524407388, 0.0060772517561269515, 0.49023164166090744, 0.1478797927324225, 0.7509430730318358, 0.24688539387348027, 0.9977564758612252, 0.9850992548943536, 0.0414946150103075, 0.8211565917829275, 0.13758740766575647, 0.9897119075623289, 0.27169716855721954, 0.2001012930590333, 0.1597138761113385, 0.207444459776796, 0.1597138761113385, 0.9759152152376674, 0.07488570874661492, 0.009360713593326865, 0.898628504959379, 0.2186602400161649, 0.757311075177937, 0.026665882928800597, 0.9485060960011602, 0.04649539686280197, 0.9893655088104699, 0.9796140195078196, 0.01470895623190019, 0.9707911113054126, 0.06799028840055754, 0.24363186676866455, 0.3116221551692221, 0.37961244356977963, 0.3023979693863776, 0.24965413751666057, 0.2206450299883162, 0.15998962333814162, 0.06768791756613685, 0.8966962520444949, 0.10075238787016796, 0.33349166944021325, 0.2691110382741489, 0.025752252466425735, 0.28327477713068305, 0.08884527100916878, 0.8198902691489508, 0.13451324728224975, 0.04483774909408325, 0.8553427508152812, 0.12959738648716382, 0.9826272472656544, 0.964616109211102, 0.18369006465842708, 0.6270798759029061, 0.18369006465842708, 0.9940979055819766, 0.9594522426131467, 0.32301140935467315, 0.008282343829607004, 0.6584463344537568, 0.008282343829607004, 0.9750636393093524, 0.9610930198685259, 0.9832491306732921, 0.05953251314119423, 0.634393343160851, 0.03162664760625943, 0.17301636631659573, 0.10232150696142758, 0.16633236305610416, 0.17249282094707097, 0.6560887653879665, 0.0030802289454834103, 0.0014338195761907048, 0.9979384250287305, 0.9660986205678826, 0.9729872229690848, 0.33192045973175993, 0.08764191914265572, 0.17528383828531144, 0.3431087898350777, 0.06153581556824763, 0.32418263273070036, 0.020261414545668772, 0.5673196072787257, 0.0861110118190923, 0.4799708746948572, 0.20081867457559308, 0.10396995208523614, 0.21078839600842394, 0.002848491837951675, 0.11978306965899851, 0.006654614981055473, 0.06654614981055473, 0.6321884232002699, 0.1730199895074423, 0.9554847231491358, 0.07587645248340483, 0.5875005320857917, 0.02167898642382995, 0.04986166877480888, 0.2666515330131084, 0.8012077086665669, 0.1948883615675433, 0.9902980871494664, 0.9756199046305267, 0.022173179650693788, 0.05959255835366769, 0.9336167475407938, 0.4796730191469898, 0.19215816730888446, 0.007223991252213701, 0.26006368507969324, 0.06068152651859509, 0.12885493944526932, 0.3087149590876244, 0.1798600196423551, 0.04563612438686622, 0.3355597381387222, 0.9793602960904567], \"Term\": [\"0\", \"0\", \"10\", \"10\", \"10\", \"10\", \"10\", \"1080p\", \"10gb\", \"12gb\", \"144\", \"1440p\", \"1440p\", \"1440p_144hz\", \"144hz\", \"15\", \"15\", \"15\", \"150\", \"16gb\", \"18\", \"1k\", \"20\", \"20\", \"20\", \"20\", \"2070s\", \"2080_ti\", \"2080_ti\", \"2080ti\", \"2080ti\", \"24gb\", \"25th\", \"3060\", \"3070\", \"3070\", \"3070ti\", \"3080\", \"3080\", \"3080\", \"3080ti\", \"3090\", \"3090\", \"3600\", \"3600\", \"400\", \"400\", \"400\", \"400\", \"400\", \"4k\", \"4k\", \"4k\", \"50\", \"50\", \"50\", \"500\", \"500\", \"500\", \"500\", \"5000\", \"5000_series\", \"5000_series\", \"5600x\", \"5600x\", \"5700xt\", \"5700xt\", \"5700xt\", \"5700xt\", \"5800x\", \"5900x\", \"5900x\", \"6000\", \"6000\", \"6000\", \"649\", \"6600\", \"6700\", \"6700\", \"6800\", \"6800\", \"6800xt\", \"6800xt\", \"6800xt\", \"6900\", \"6900_xt\", \"6900_xt\", \"6900xt\", \"6900xt\", \"6900xt\", \"70\", \"700\", \"700\", \"7nm\", \"7nm\", \"80\", \"8gb\", \"8nm\", \"999\", \"999\", \"aaa\", \"ago\", \"ago\", \"ago\", \"ago\", \"ago\", \"ai\", \"aib\", \"aib\", \"aib\", \"aib\", \"amazon\", \"amd\", \"amd\", \"amd\", \"amd\", \"amd\", \"api\", \"available\", \"available\", \"available\", \"available\", \"available\", \"b550\", \"backorder\", \"bad\", \"bad\", \"bad\", \"bad\", \"begin\", \"bench\", \"benchmark\", \"benchmark\", \"benchmark\", \"benchmark\", \"benchmark\", \"better\", \"better\", \"better\", \"better\", \"board\", \"board\", \"board\", \"board\", \"board\", \"bother\", \"bro\", \"buddy\", \"budget\", \"budget\", \"budget\", \"buy\", \"buy\", \"buy\", \"buy\", \"buy\", \"buyer\", \"canada_computer\", \"cancelled\", \"card\", \"card\", \"card\", \"card\", \"card\", \"cc\", \"cc\", \"charged\", \"cherry_picked\", \"chipset\", \"click\", \"clock\", \"clock\", \"compared\", \"compared\", \"compete\", \"compete\", \"compete\", \"competition\", \"competition\", \"confirmation\", \"console\", \"console\", \"consumer\", \"context\", \"conversation\", \"cpu\", \"cpu\", \"cpu\", \"cpu\", \"date\", \"day\", \"day\", \"day\", \"day\", \"dedicated\", \"demanding\", \"deposit\", \"depreciates\", \"developer\", \"devs\", \"difference\", \"difference\", \"difference\", \"difference\", \"disclosed\", \"display\", \"dl\", \"dl\", \"dl\", \"double\", \"double\", \"driver\", \"driver\", \"dx12\", \"dxr\", \"effect\", \"email\", \"encoding\", \"end\", \"end\", \"end\", \"end\", \"end\", \"extra\", \"extra\", \"extra\", \"extra\", \"fanboy\", \"fanboys\", \"faster\", \"feature\", \"feature\", \"feature\", \"feature\", \"flagship\", \"fps\", \"fps\", \"fps\", \"freesync\", \"g_sync\", \"g_sync\", \"game\", \"game\", \"game\", \"game\", \"game\", \"gaming\", \"gaming\", \"gaming\", \"gaming\", \"gb\", \"gb\", \"generation\", \"generation\", \"getting\", \"getting\", \"getting\", \"getting\", \"getting\", \"going\", \"going\", \"going\", \"going\", \"going\", \"gold\", \"good\", \"good\", \"good\", \"good\", \"good\", \"gpu\", \"gpu\", \"gpu\", \"gpu\", \"gpu\", \"haha\", \"hardware\", \"hardware\", \"hardware\", \"hdmi\", \"hdr\", \"high_end\", \"high_end\", \"high_end\", \"hour\", \"hour\", \"ill\", \"im\", \"im\", \"im\", \"image\", \"implement\", \"implementation\", \"implemented\", \"insult\", \"intel\", \"intel\", \"intel\", \"io\", \"issue\", \"issue\", \"issue\", \"issue\", \"job\", \"knew\", \"know\", \"know\", \"know\", \"know\", \"know\", \"launch\", \"launch\", \"launch\", \"launch\", \"lighting\", \"line\", \"line\", \"line\", \"line\", \"line\", \"link\", \"link\", \"listed\", \"local\", \"location\", \"location\", \"locked\", \"look\", \"look\", \"look\", \"look\", \"look\", \"loss\", \"luck\", \"manufacturing\", \"market\", \"market\", \"market\", \"market_share\", \"marketed\", \"maybe\", \"maybe\", \"maybe\", \"maybe\", \"maybe\", \"memory\", \"memory\", \"memory\", \"microsoft\", \"microsoft\", \"microsoft\", \"mid\", \"mid_range\", \"minecraft\", \"ml\", \"mobo\", \"mobo\", \"monitor\", \"monitor\", \"monitor\", \"month\", \"month\", \"month\", \"month\", \"motherboard\", \"motherboard\", \"msrp\", \"native\", \"native\", \"need\", \"need\", \"need\", \"need\", \"need\", \"new\", \"new\", \"new\", \"new\", \"newegg\", \"node\", \"node\", \"node\", \"nvidia\", \"nvidia\", \"nvidia\", \"nvidia\", \"offer\", \"offer\", \"offer\", \"offer\", \"optimized\", \"order\", \"order\", \"ordered\", \"overclocked\", \"overclocked\", \"overkill\", \"overpriced\", \"partner\", \"partner\", \"paypal\", \"pc\", \"pc\", \"pc\", \"pc\", \"people\", \"people\", \"people\", \"people\", \"people\", \"percent\", \"play\", \"play\", \"play\", \"play\", \"play\", \"post\", \"post\", \"post\", \"post\", \"power\", \"power\", \"power\", \"power\", \"power\", \"power_consumption\", \"power_consumption\", \"price\", \"price\", \"price\", \"pricing\", \"pricing\", \"probably\", \"probably\", \"probably\", \"probably\", \"probably\", \"process\", \"process\", \"product\", \"product\", \"product\", \"production\", \"proprietary\", \"ps5\", \"ps5\", \"ps5\", \"psu\", \"psu\", \"psu\", \"psus\", \"rage\", \"rage_mode\", \"ram\", \"ram\", \"ram\", \"ram\", \"ram\", \"ray\", \"ray_tracing\", \"ray_tracing\", \"ray_tracing\", \"raytracing\", \"raytracing\", \"received\", \"reference\", \"reference\", \"reference\", \"reference\", \"release\", \"release\", \"release\", \"release\", \"release\", \"rendering\", \"rendering\", \"rendering\", \"resolution\", \"resolution\", \"resolution\", \"right\", \"right\", \"right\", \"right\", \"right\", \"rt\", \"rt\", \"rtx\", \"rtx\", \"rtx\", \"rtx\", \"rx\", \"rx\", \"rx\", \"rx\", \"rx6800\", \"ryzen_5000\", \"said\", \"said\", \"said\", \"said\", \"said\", \"samsung\", \"saying\", \"saying\", \"saying\", \"saying\", \"saying\", \"scared\", \"sell\", \"sell\", \"sell\", \"sell\", \"series\", \"series\", \"series\", \"series\", \"seriously\", \"seriously\", \"seriously\", \"shipping\", \"site\", \"site\", \"site\", \"situation\", \"situation\", \"slightly\", \"slightly\", \"slot\", \"slower\", \"slower\", \"slower\", \"smart_access\", \"software\", \"software\", \"software\", \"solution\", \"sounded\", \"stem\", \"stock\", \"stock\", \"stock\", \"stock\", \"store\", \"store\", \"super_resolution\", \"supersampling\", \"support\", \"support\", \"support\", \"supported\", \"sure\", \"sure\", \"sure\", \"sure\", \"sure\", \"talked\", \"tax\", \"tax\", \"tax\", \"tech\", \"tech\", \"tech\", \"technology\", \"technology\", \"tensor_core\", \"texture\", \"thank\", \"thank\", \"thanks\", \"thanks\", \"thanks\", \"thanks\", \"think\", \"think\", \"think\", \"think\", \"think\", \"tier\", \"tier\", \"time\", \"time\", \"time\", \"time\", \"time\", \"title\", \"title\", \"title\", \"tomorrow\", \"tomorrow\", \"trade_blow\", \"trolling\", \"try\", \"try\", \"try\", \"tsmc\", \"ultrawide\", \"upgrade\", \"upgrade\", \"upgrade\", \"upgrade\", \"upscaling\", \"usb_c\", \"usd\", \"use\", \"use\", \"use\", \"use\", \"use\", \"v\", \"v\", \"v\", \"v\", \"vram\", \"vram\", \"vrr\", \"wafer\", \"wait\", \"wait\", \"wait\", \"wait\", \"wait\", \"waiting\", \"waiting\", \"waiting\", \"waiting\", \"want\", \"want\", \"want\", \"want\", \"want\", \"week\", \"week\", \"week\", \"week\", \"week\", \"wink\", \"work\", \"work\", \"work\", \"work\", \"work\", \"working\", \"working\", \"x570\", \"xt\", \"xt\", \"ya\", \"ya\", \"year\", \"year\", \"year\", \"year\", \"year\", \"yes\", \"yes\", \"yes\", \"yes\", \"yes\", \"zen3\"]}, \"R\": 30, \"lambda.step\": 0.01, \"plot.opts\": {\"xlab\": \"PC1\", \"ylab\": \"PC2\"}, \"topic.order\": [4, 3, 2, 1, 5]};\n",
       "\n",
       "function LDAvis_load_lib(url, callback){\n",
       "  var s = document.createElement('script');\n",
       "  s.src = url;\n",
       "  s.async = true;\n",
       "  s.onreadystatechange = s.onload = callback;\n",
       "  s.onerror = function(){console.warn(\"failed to load library \" + url);};\n",
       "  document.getElementsByTagName(\"head\")[0].appendChild(s);\n",
       "}\n",
       "\n",
       "if(typeof(LDAvis) !== \"undefined\"){\n",
       "   // already loaded: just create the visualization\n",
       "   !function(LDAvis){\n",
       "       new LDAvis(\"#\" + \"ldavis_el1491612095645680328916298599\", ldavis_el1491612095645680328916298599_data);\n",
       "   }(LDAvis);\n",
       "}else if(typeof define === \"function\" && define.amd){\n",
       "   // require.js is available: use it to load d3/LDAvis\n",
       "   require.config({paths: {d3: \"https://cdnjs.cloudflare.com/ajax/libs/d3/3.5.5/d3.min\"}});\n",
       "   require([\"d3\"], function(d3){\n",
       "      window.d3 = d3;\n",
       "      LDAvis_load_lib(\"https://cdn.rawgit.com/bmabey/pyLDAvis/files/ldavis.v1.0.0.js\", function(){\n",
       "        new LDAvis(\"#\" + \"ldavis_el1491612095645680328916298599\", ldavis_el1491612095645680328916298599_data);\n",
       "      });\n",
       "    });\n",
       "}else{\n",
       "    // require.js not available: dynamically load d3 & LDAvis\n",
       "    LDAvis_load_lib(\"https://cdnjs.cloudflare.com/ajax/libs/d3/3.5.5/d3.min.js\", function(){\n",
       "         LDAvis_load_lib(\"https://cdn.rawgit.com/bmabey/pyLDAvis/files/ldavis.v1.0.0.js\", function(){\n",
       "                 new LDAvis(\"#\" + \"ldavis_el1491612095645680328916298599\", ldavis_el1491612095645680328916298599_data);\n",
       "            })\n",
       "         });\n",
       "}\n",
       "</script>"
      ],
      "text/plain": [
       "PreparedData(topic_coordinates=              x         y  topics  cluster       Freq\n",
       "topic                                                \n",
       "3     -0.062459 -0.053924       1        1  28.226886\n",
       "2     -0.017843 -0.192619       2        1  23.545101\n",
       "1     -0.209574  0.138025       3        1  19.324035\n",
       "0      0.069668  0.011791       4        1  17.630478\n",
       "4      0.220208  0.096727       5        1  11.273499, topic_info=        Term         Freq        Total Category  logprob  loglift\n",
       "5462    6800  1325.000000  1325.000000  Default  30.0000  30.0000\n",
       "98      3070  1413.000000  1413.000000  Default  29.0000  29.0000\n",
       "385       dl  1429.000000  1429.000000  Default  28.0000  28.0000\n",
       "311     game  1347.000000  1347.000000  Default  27.0000  27.0000\n",
       "28     price  1610.000000  1610.000000  Default  26.0000  26.0000\n",
       "...      ...          ...          ...      ...      ...      ...\n",
       "613    stock    72.801759   493.644187   Topic5  -5.6806   0.2686\n",
       "29     think    76.981912  1137.573776   Topic5  -5.6248  -0.5104\n",
       "909   saying    64.892339   257.637028   Topic5  -5.7956   0.8039\n",
       "395     time    69.188716   776.631094   Topic5  -5.7315  -0.2354\n",
       "75      need    66.746455   698.646071   Topic5  -5.7674  -0.1655\n",
       "\n",
       "[370 rows x 6 columns], token_table=      Topic      Freq  Term\n",
       "term                       \n",
       "416       2  0.951927     0\n",
       "416       5  0.047796     0\n",
       "818       1  0.051208    10\n",
       "818       2  0.006828    10\n",
       "818       3  0.675940    10\n",
       "...     ...       ...   ...\n",
       "725       2  0.308715   yes\n",
       "725       3  0.179860   yes\n",
       "725       4  0.045636   yes\n",
       "725       5  0.335560   yes\n",
       "4150      4  0.979360  zen3\n",
       "\n",
       "[660 rows x 3 columns], R=30, lambda_step=0.01, plot_opts={'xlab': 'PC1', 'ylab': 'PC2'}, topic_order=[4, 3, 2, 1, 5])"
      ]
     },
     "execution_count": 16,
     "metadata": {},
     "output_type": "execute_result"
    }
   ],
   "source": [
    "# Visualize the topics for the bigram model\n",
    "pyLDAvis.enable_notebook()\n",
    "# Creates the filepath to save the html file\n",
    "LDAvis_data_filepath = os.path.join(os.getcwd()+'\\\\visualization\\\\'+ 'amd_' + 'bigram_' +'ldavis_prepared_'+str(num_topics))\n",
    "bigram_vis = pyLDAvis.gensim.prepare(lda_bigram_model, bigram_corpus, bigram_id2word)\n",
    "# Saves the graph as a html file to the LDAvis_data_filepath\n",
    "pyLDAvis.save_html(bigram_vis, os.getcwd()+ '\\\\visualization\\\\' + 'amd_' + 'bigram_' + 'ldavis_prepared_'+ str(num_topics) +'.html')\n",
    "bigram_vis"
   ]
  },
  {
   "cell_type": "markdown",
   "metadata": {
    "ExecuteTime": {
     "end_time": "2021-01-23T03:00:52.846161Z",
     "start_time": "2021-01-23T03:00:52.823140Z"
    }
   },
   "source": [
    "## Intrepeting the pyLDAvis graph\n",
    "\n",
    "Topics 1 and 2 have the largest bubble which shows the larger percentage of the documents belong to topic 1 and 2. They also overlap one another, which shows that they have close related to one another. Topic 4 is the furtherest apart from the other topics. The blue bars represent the overall term frequency of the corpus and the red bars represent the term frequency with regards to the topic.\n",
    "\n",
    "The GPU model terms tend to appear the most often in topic 1. Topic 2 discusses about the driver related issues with the AMD, Intel GPUs as well as the gaming consoles. Topic 3 discusses about the purchase of the GPUs and the stock availability of the GPUs during launch. Topic 4 mainly discusses about the features the GPUs provide such as ray tracing and super resolution. Topic 5 is quite similar to topic 3."
   ]
  },
  {
   "cell_type": "markdown",
   "metadata": {},
   "source": [
    "# LDA Mallet Model"
   ]
  },
  {
   "cell_type": "markdown",
   "metadata": {},
   "source": [
    "Notes:\n",
    "\n",
    "* Download [link](http://mallet.cs.umass.edu/download.php)\n",
    "* Need to install [JDK](https://www.oracle.com/java/technologies/javase-jdk15-downloads.html) (Java Development Kit) to make it work\n",
    "* Need to configure the [PATH file](https://docs.oracle.com/javase/10/install/installation-jdk-and-jre-microsoft-windows-platforms.htm#JSJIG-GUID-96EB3876-8C7A-4A25-9F3A-A2983FEC016A) after installing\n",
    "\n",
    "Go to *Importing the optimal mallet model pickle file* section if you've not installed the JDK"
   ]
  },
  {
   "cell_type": "markdown",
   "metadata": {},
   "source": [
    "LDA Mallet model often gives a better quality of topics compared to the LDA. I'll be creating to see if the coherence score is much greater than the LDA and if there's a greater intrepretability in the number of topics."
   ]
  },
  {
   "cell_type": "code",
   "execution_count": 17,
   "metadata": {
    "ExecuteTime": {
     "end_time": "2021-01-25T12:50:54.087641Z",
     "start_time": "2021-01-25T12:50:54.072627Z"
    }
   },
   "outputs": [
    {
     "data": {
      "text/plain": [
       "'C:/mallet/mallet-2.0.8/bin/mallet.bat'"
      ]
     },
     "execution_count": 17,
     "metadata": {},
     "output_type": "execute_result"
    }
   ],
   "source": [
    "# Update the environment path\n",
    "os.environ.update({'MALLET_HOME': r'C:\\mallet\\mallet-2.0.8'})\n",
    "mallet_path = r'C:/mallet/mallet-2.0.8/bin/mallet.bat'\n",
    "# prefix_path = r'C:/mallet/ga_capstone'\n",
    "mallet_path"
   ]
  },
  {
   "cell_type": "markdown",
   "metadata": {},
   "source": [
    "## Finding the best k topics for the mallet model"
   ]
  },
  {
   "cell_type": "code",
   "execution_count": 18,
   "metadata": {
    "ExecuteTime": {
     "end_time": "2021-01-25T12:50:54.102654Z",
     "start_time": "2021-01-25T12:50:54.088641Z"
    }
   },
   "outputs": [],
   "source": [
    "# Solution: Follow this\n",
    "def mallet_compute_coherence_values(dictionary, all_corpus, texts, limit, start=2, step=4):\n",
    "    \"\"\"\n",
    "    Compute c_v coherence for various number of topics\n",
    "\n",
    "    Parameters:\n",
    "    ----------\n",
    "    dictionary : Gensim dictionary\n",
    "    corpus : Gensim corpus\n",
    "    texts : List of input texts\n",
    "    num_topics_list: Number of topics\n",
    "    limit : Max num of topics\n",
    "\n",
    "    Returns:\n",
    "    -------\n",
    "    model_list : List of LDA topic models\n",
    "    coherence_values : Coherence values corresponding to the LDA model with respective number of topics\n",
    "    \"\"\"\n",
    "    \n",
    "    #For two lines below update with your path to new_mallet\n",
    "#     os.environ.update({'MALLET_HOME':r'C:\\Users\\Trogg\\Documents\\General Assembly DS 18\\dsi18-projects\\capstone\\mallet\\mallet-2.0.8'})\n",
    "#     mallet_path = r'C:\\Users\\Trogg\\Documents\\General Assembly DS 18\\dsi18-projects\\capstone\\mallet\\mallet-2.0.8\\bin\\mallet.bat'\n",
    "#     prefix_path = r'C:\\Users\\Trogg\\Documents\\General Assembly DS 18\\dsi18-projects\\capstone\\mallet files'\n",
    "    \n",
    "    coherence_values = []\n",
    "    model_list = []\n",
    "    num_topics_list = []\n",
    "\n",
    "\n",
    "    for num_topics in range(start, limit, step):\n",
    "        model = LdaMallet(mallet_path, corpus=all_corpus, num_topics=num_topics, id2word=dictionary, random_seed=42)\n",
    "        #model = gensim.models.ldamodel.LdaModel(corpus=all_corpus,num_topics=num_topics,id2word=dictionary,eval_every=1,\n",
    "        #                                        alpha='auto',random_state=42)\n",
    "        model_list.append(model)\n",
    "        coherencemodel = CoherenceModel(model=model, texts=texts, dictionary=dictionary, coherence='c_v')\n",
    "        coherence_values.append(coherencemodel.get_coherence())\n",
    "        num_topics_list.append(num_topics)\n",
    "\n",
    "    return model_list, coherence_values, num_topics_list"
   ]
  },
  {
   "cell_type": "code",
   "execution_count": 19,
   "metadata": {
    "ExecuteTime": {
     "end_time": "2021-01-25T13:03:00.561884Z",
     "start_time": "2021-01-25T12:50:54.102654Z"
    }
   },
   "outputs": [],
   "source": [
    "# Using Bigram as it has the highest coherence value\n",
    "model_list, coherence_values, num_topics_list = mallet_compute_coherence_values(dictionary=bigram_id2word, all_corpus=bigram_corpus,\n",
    "                                                                         texts=data_bigrams, start=1, limit=11, step=1)\n",
    "\n",
    "# Creating the dataframe to hold the model list, coherence values and the number of topics list\n",
    "model_values_df = pd.DataFrame({'model_list':model_list,'coherence_values':coherence_values,'num_topics':num_topics_list})\n",
    "\n",
    "# Finds the optimal number of topics based on the highest coherence score\n",
    "optimal_num_topics = model_values_df.loc[model_values_df['coherence_values'].idxmax()]['num_topics']\n",
    "\n",
    "# Train the model based on the optimal number of topics\n",
    "optimal_model = LdaMallet(mallet_path, corpus=bigram_corpus, num_topics=optimal_num_topics, id2word=bigram_id2word,\n",
    "                                                 prefix='amd_optimal_', random_seed=42)"
   ]
  },
  {
   "cell_type": "code",
   "execution_count": 20,
   "metadata": {
    "ExecuteTime": {
     "end_time": "2021-01-25T13:03:00.577899Z",
     "start_time": "2021-01-25T13:03:00.562886Z"
    }
   },
   "outputs": [
    {
     "data": {
      "text/html": [
       "<div>\n",
       "<style scoped>\n",
       "    .dataframe tbody tr th:only-of-type {\n",
       "        vertical-align: middle;\n",
       "    }\n",
       "\n",
       "    .dataframe tbody tr th {\n",
       "        vertical-align: top;\n",
       "    }\n",
       "\n",
       "    .dataframe thead th {\n",
       "        text-align: right;\n",
       "    }\n",
       "</style>\n",
       "<table border=\"1\" class=\"dataframe\">\n",
       "  <thead>\n",
       "    <tr style=\"text-align: right;\">\n",
       "      <th></th>\n",
       "      <th>model_list</th>\n",
       "      <th>coherence_values</th>\n",
       "      <th>num_topics</th>\n",
       "    </tr>\n",
       "  </thead>\n",
       "  <tbody>\n",
       "    <tr>\n",
       "      <th>0</th>\n",
       "      <td>&lt;gensim.models.wrappers.ldamallet.LdaMallet ob...</td>\n",
       "      <td>0.416306</td>\n",
       "      <td>1</td>\n",
       "    </tr>\n",
       "    <tr>\n",
       "      <th>1</th>\n",
       "      <td>&lt;gensim.models.wrappers.ldamallet.LdaMallet ob...</td>\n",
       "      <td>0.538678</td>\n",
       "      <td>2</td>\n",
       "    </tr>\n",
       "    <tr>\n",
       "      <th>2</th>\n",
       "      <td>&lt;gensim.models.wrappers.ldamallet.LdaMallet ob...</td>\n",
       "      <td>0.558582</td>\n",
       "      <td>3</td>\n",
       "    </tr>\n",
       "    <tr>\n",
       "      <th>3</th>\n",
       "      <td>&lt;gensim.models.wrappers.ldamallet.LdaMallet ob...</td>\n",
       "      <td>0.557991</td>\n",
       "      <td>4</td>\n",
       "    </tr>\n",
       "    <tr>\n",
       "      <th>4</th>\n",
       "      <td>&lt;gensim.models.wrappers.ldamallet.LdaMallet ob...</td>\n",
       "      <td>0.530244</td>\n",
       "      <td>5</td>\n",
       "    </tr>\n",
       "    <tr>\n",
       "      <th>5</th>\n",
       "      <td>&lt;gensim.models.wrappers.ldamallet.LdaMallet ob...</td>\n",
       "      <td>0.573811</td>\n",
       "      <td>6</td>\n",
       "    </tr>\n",
       "    <tr>\n",
       "      <th>6</th>\n",
       "      <td>&lt;gensim.models.wrappers.ldamallet.LdaMallet ob...</td>\n",
       "      <td>0.524464</td>\n",
       "      <td>7</td>\n",
       "    </tr>\n",
       "    <tr>\n",
       "      <th>7</th>\n",
       "      <td>&lt;gensim.models.wrappers.ldamallet.LdaMallet ob...</td>\n",
       "      <td>0.588468</td>\n",
       "      <td>8</td>\n",
       "    </tr>\n",
       "    <tr>\n",
       "      <th>8</th>\n",
       "      <td>&lt;gensim.models.wrappers.ldamallet.LdaMallet ob...</td>\n",
       "      <td>0.574514</td>\n",
       "      <td>9</td>\n",
       "    </tr>\n",
       "    <tr>\n",
       "      <th>9</th>\n",
       "      <td>&lt;gensim.models.wrappers.ldamallet.LdaMallet ob...</td>\n",
       "      <td>0.533312</td>\n",
       "      <td>10</td>\n",
       "    </tr>\n",
       "  </tbody>\n",
       "</table>\n",
       "</div>"
      ],
      "text/plain": [
       "                                          model_list  coherence_values  \\\n",
       "0  <gensim.models.wrappers.ldamallet.LdaMallet ob...          0.416306   \n",
       "1  <gensim.models.wrappers.ldamallet.LdaMallet ob...          0.538678   \n",
       "2  <gensim.models.wrappers.ldamallet.LdaMallet ob...          0.558582   \n",
       "3  <gensim.models.wrappers.ldamallet.LdaMallet ob...          0.557991   \n",
       "4  <gensim.models.wrappers.ldamallet.LdaMallet ob...          0.530244   \n",
       "5  <gensim.models.wrappers.ldamallet.LdaMallet ob...          0.573811   \n",
       "6  <gensim.models.wrappers.ldamallet.LdaMallet ob...          0.524464   \n",
       "7  <gensim.models.wrappers.ldamallet.LdaMallet ob...          0.588468   \n",
       "8  <gensim.models.wrappers.ldamallet.LdaMallet ob...          0.574514   \n",
       "9  <gensim.models.wrappers.ldamallet.LdaMallet ob...          0.533312   \n",
       "\n",
       "   num_topics  \n",
       "0           1  \n",
       "1           2  \n",
       "2           3  \n",
       "3           4  \n",
       "4           5  \n",
       "5           6  \n",
       "6           7  \n",
       "7           8  \n",
       "8           9  \n",
       "9          10  "
      ]
     },
     "execution_count": 20,
     "metadata": {},
     "output_type": "execute_result"
    }
   ],
   "source": [
    "model_values_df"
   ]
  },
  {
   "cell_type": "code",
   "execution_count": 21,
   "metadata": {
    "ExecuteTime": {
     "end_time": "2021-01-25T13:03:00.722032Z",
     "start_time": "2021-01-25T13:03:00.578901Z"
    },
    "scrolled": false
   },
   "outputs": [
    {
     "data": {
      "image/png": "[encoded data removed]",
      "text/plain": [
       "<Figure size 792x504 with 1 Axes>"
      ]
     },
     "metadata": {},
     "output_type": "display_data"
    }
   ],
   "source": [
    "# model_list, coherence_values = compute_coherence_values(dictionary=bigram_id2word, corpus=bigram_corpus, texts=data_bigrams, start=start, limit=limit, step=step)\n",
    "\n",
    "# Show graph\n",
    "\n",
    "x = model_values_df['num_topics'].values.tolist()\n",
    "\n",
    "plt.figure(figsize=(11,7))\n",
    "\n",
    "plt.plot(x, coherence_values)\n",
    "plt.xlabel(\"Num Topics\")\n",
    "plt.ylabel(\"Coherence score\")\n",
    "plt.legend([\"Coherence_values\"], loc='best')\n",
    "plt.show()"
   ]
  },
  {
   "cell_type": "markdown",
   "metadata": {},
   "source": [
    "The coherence score peaks at creating 6 topics before it plummets. "
   ]
  },
  {
   "cell_type": "code",
   "execution_count": 22,
   "metadata": {
    "ExecuteTime": {
     "end_time": "2021-01-25T13:03:00.738046Z",
     "start_time": "2021-01-25T13:03:00.723032Z"
    }
   },
   "outputs": [
    {
     "name": "stdout",
     "output_type": "stream",
     "text": [
      "Num Topics = 1  has Coherence Value of 0.4163\n",
      "Num Topics = 2  has Coherence Value of 0.5387\n",
      "Num Topics = 3  has Coherence Value of 0.5586\n",
      "Num Topics = 4  has Coherence Value of 0.558\n",
      "Num Topics = 5  has Coherence Value of 0.5302\n",
      "Num Topics = 6  has Coherence Value of 0.5738\n",
      "Num Topics = 7  has Coherence Value of 0.5245\n",
      "Num Topics = 8  has Coherence Value of 0.5885\n",
      "Num Topics = 9  has Coherence Value of 0.5745\n",
      "Num Topics = 10  has Coherence Value of 0.5333\n"
     ]
    }
   ],
   "source": [
    "# Print the coherence scores\n",
    "for m, cv in zip(x, coherence_values):\n",
    "    print(\"Num Topics =\", m, \" has Coherence Value of\", round(cv, 4))"
   ]
  },
  {
   "cell_type": "markdown",
   "metadata": {},
   "source": [
    "Viewing the topics and checking if they make sense helps to decide how many topics is the optimal value. I'll be intrepreting the 5 and 6 topics."
   ]
  },
  {
   "cell_type": "markdown",
   "metadata": {},
   "source": [
    "## Exporting the optimal model to pickle file"
   ]
  },
  {
   "cell_type": "code",
   "execution_count": 23,
   "metadata": {
    "ExecuteTime": {
     "end_time": "2021-01-25T13:03:00.754061Z",
     "start_time": "2021-01-25T13:03:00.740048Z"
    }
   },
   "outputs": [],
   "source": [
    "# Save to file in the current working directory\n",
    "# Exporting the optimal model\n",
    "\n",
    "pkl_filename = \"./models/amd_optimal_ldamallet_model.pkl\"\n",
    "out_file = open(pkl_filename, 'wb')\n",
    "pickle.dump(optimal_model, out_file)\n",
    "out_file.close()"
   ]
  },
  {
   "cell_type": "markdown",
   "metadata": {},
   "source": [
    "## Exporting the 5 topics trained model to pickle file"
   ]
  },
  {
   "cell_type": "code",
   "execution_count": 24,
   "metadata": {
    "ExecuteTime": {
     "end_time": "2021-01-25T13:03:00.770075Z",
     "start_time": "2021-01-25T13:03:00.756062Z"
    }
   },
   "outputs": [],
   "source": [
    "# Save to file in the current working directory\n",
    "# Exporting the optimal model\n",
    "\n",
    "pkl_filename = \"./models/amd_5_topics_ldamallet_model.pkl\"\n",
    "out_file = open(pkl_filename, 'wb')\n",
    "pickle.dump(model_values_df['model_list'][4], out_file)\n",
    "out_file.close()"
   ]
  },
  {
   "cell_type": "markdown",
   "metadata": {},
   "source": [
    "## Importing the optimal mallet model pickle file"
   ]
  },
  {
   "cell_type": "code",
   "execution_count": 25,
   "metadata": {
    "ExecuteTime": {
     "end_time": "2021-01-25T13:03:00.786087Z",
     "start_time": "2021-01-25T13:03:00.771075Z"
    }
   },
   "outputs": [],
   "source": [
    "# pkl_filename = \"./models/amd_optimal_ldamallet_model.pkl\"\n",
    "# infile = open(pkl_filename,'rb')\n",
    "# optimal_model = pickle.load(infile)\n",
    "# infile.close()"
   ]
  },
  {
   "cell_type": "code",
   "execution_count": 26,
   "metadata": {
    "ExecuteTime": {
     "end_time": "2021-01-25T13:03:00.802102Z",
     "start_time": "2021-01-25T13:03:00.787088Z"
    }
   },
   "outputs": [],
   "source": [
    "# optimal_model"
   ]
  },
  {
   "cell_type": "markdown",
   "metadata": {},
   "source": [
    "## Importing the 5 topics mallet model pickle file"
   ]
  },
  {
   "cell_type": "code",
   "execution_count": 27,
   "metadata": {
    "ExecuteTime": {
     "end_time": "2021-01-25T13:03:00.817304Z",
     "start_time": "2021-01-25T13:03:00.803103Z"
    }
   },
   "outputs": [],
   "source": [
    "pkl_filename = \"./models/amd_5_topics_ldamallet_model.pkl\"\n",
    "infile = open(pkl_filename,'rb')\n",
    "topic_5_ldamallet = pickle.load(infile)\n",
    "infile.close()"
   ]
  },
  {
   "cell_type": "code",
   "execution_count": 28,
   "metadata": {
    "ExecuteTime": {
     "end_time": "2021-01-25T13:03:00.833270Z",
     "start_time": "2021-01-25T13:03:00.818307Z"
    }
   },
   "outputs": [],
   "source": [
    "# topic_5_ldamallet "
   ]
  },
  {
   "cell_type": "markdown",
   "metadata": {},
   "source": [
    "## Displaying topics for the optimal model (6 topics)"
   ]
  },
  {
   "cell_type": "code",
   "execution_count": 29,
   "metadata": {
    "ExecuteTime": {
     "end_time": "2021-01-25T13:03:00.849285Z",
     "start_time": "2021-01-25T13:03:00.834271Z"
    },
    "scrolled": true
   },
   "outputs": [
    {
     "name": "stdout",
     "output_type": "stream",
     "text": [
      "[(0,\n",
      "  [('gpu', 0.05287504974134501),\n",
      "   ('cpu', 0.036211699164345405),\n",
      "   ('vram', 0.03198368483883804),\n",
      "   ('lower', 0.017608436132113013),\n",
      "   ('end', 0.0173099880620772),\n",
      "   ('power', 0.01681257461201751),\n",
      "   ('true', 0.011341026661360923),\n",
      "   ('gaming', 0.011291285316354954),\n",
      "   ('16gb', 0.010843613211301234),\n",
      "   ('case', 0.010644647831277358)]),\n",
      " (1,\n",
      "  [('rtx', 0.0397099779122251),\n",
      "   ('year', 0.03644482857966004),\n",
      "   ('4k', 0.027225583405358685),\n",
      "   ('console', 0.023960434072793624),\n",
      "   ('series', 0.017094017094017096),\n",
      "   ('pc', 0.01699798329011812),\n",
      "   ('1440p', 0.016613848074522233),\n",
      "   ('good', 0.01627772976087583),\n",
      "   ('fps', 0.01598962834917891),\n",
      "   ('gaming', 0.014549121290694324)]),\n",
      " (2,\n",
      "  [('dl', 0.06938946584082335),\n",
      "   ('game', 0.0668746798304848),\n",
      "   ('ray_tracing', 0.03418246169608345),\n",
      "   ('rt', 0.02742979555721138),\n",
      "   ('feature', 0.02696409444418572),\n",
      "   ('support', 0.021468821310482934),\n",
      "   ('raytracing', 0.016066688399385274),\n",
      "   ('hardware', 0.014390164392492898),\n",
      "   ('0', 0.013179341498626181),\n",
      "   ('lot', 0.012527359940390257)]),\n",
      " (3,\n",
      "  [('price', 0.07977860482870502),\n",
      "   ('3070', 0.0703788529439832),\n",
      "   ('6800', 0.06637083691191907),\n",
      "   ('xt', 0.02237808951235805),\n",
      "   ('500', 0.020898940738620097),\n",
      "   ('2080ti', 0.01951522091802653),\n",
      "   ('faster', 0.018226930050577347),\n",
      "   ('50', 0.017797499761427617),\n",
      "   ('pricing', 0.014886916690523905),\n",
      "   ('rx', 0.013360053440213761)]),\n",
      " (4,\n",
      "  [('3080', 0.08056776279234228),\n",
      "   ('3090', 0.04798706874779007),\n",
      "   ('6800xt', 0.04783553063595494),\n",
      "   ('wait', 0.03106531292620094),\n",
      "   ('6900xt', 0.02853967772894883),\n",
      "   ('benchmark', 0.02757993635399303),\n",
      "   ('memory', 0.021669949992423096),\n",
      "   ('10', 0.015860989038743244),\n",
      "   ('cheaper', 0.015709450926908116),\n",
      "   ('review', 0.015355861999292822)]),\n",
      " (5,\n",
      "  [('people', 0.05282853810264386),\n",
      "   ('buy', 0.03596423017107309),\n",
      "   ('driver', 0.03256220839813375),\n",
      "   ('time', 0.03173600311041991),\n",
      "   ('issue', 0.021432737169517886),\n",
      "   ('good', 0.017107309486780714),\n",
      "   ('bad', 0.015114696734059099),\n",
      "   ('reason', 0.013413685847589424),\n",
      "   ('sell', 0.012781881804043545),\n",
      "   ('product', 0.011907076205287713)]),\n",
      " (6,\n",
      "  [('amd', 0.17218417945690673),\n",
      "   ('nvidia', 0.12203069657615112),\n",
      "   ('card', 0.03872491145218418),\n",
      "   ('intel', 0.01591499409681228),\n",
      "   ('good', 0.013553719008264463),\n",
      "   ('market', 0.0130814639905549),\n",
      "   ('compete', 0.012089728453364817),\n",
      "   ('competition', 0.010578512396694216),\n",
      "   ('company', 0.009634002361275089),\n",
      "   ('release', 0.00935064935064935)]),\n",
      " (7,\n",
      "  [('card', 0.03106531292620094),\n",
      "   ('stock', 0.029751982623629842),\n",
      "   ('launch', 0.023488407334444614),\n",
      "   ('order', 0.017780471788654845),\n",
      "   ('day', 0.017477395564984594),\n",
      "   ('gonna', 0.012678688690205586),\n",
      "   ('waiting', 0.011062282163964238),\n",
      "   ('cc', 0.011011769460019194),\n",
      "   ('aib', 0.010860231348184068),\n",
      "   ('reference', 0.0106581805324039)])]\n"
     ]
    }
   ],
   "source": [
    "pprint(optimal_model.show_topics(formatted=False))"
   ]
  },
  {
   "cell_type": "markdown",
   "metadata": {},
   "source": [
    "## Interpreting the 6 topics \n",
    "\n",
    "Topic 0\n",
    "* Comparing against the price and the performance\n",
    "\n",
    "Topic 1\n",
    "* Driver related issue\n",
    "\n",
    "Topic 2\n",
    "* GPU features: ray_tracing, dlss and resolutions: 1440p, 4K\n",
    "\n",
    "Topic 3\n",
    "* Stock availability during launch of GPUs\n",
    "\n",
    "Topic 4\n",
    "* Price and performance for GPU models\n",
    "\n",
    "Topic 5\n",
    "* Comparison against the gaming consoles and the pc"
   ]
  },
  {
   "cell_type": "markdown",
   "metadata": {},
   "source": [
    "## Displaying 5 topics"
   ]
  },
  {
   "cell_type": "code",
   "execution_count": 30,
   "metadata": {
    "ExecuteTime": {
     "end_time": "2021-01-25T13:03:00.865300Z",
     "start_time": "2021-01-25T13:03:00.850287Z"
    },
    "scrolled": true
   },
   "outputs": [
    {
     "name": "stdout",
     "output_type": "stream",
     "text": [
      "[(0,\n",
      "  [('price', 0.049831609692128874),\n",
      "   ('3080', 0.04753673292999136),\n",
      "   ('3070', 0.04396030161237445),\n",
      "   ('6800', 0.04154621047298304),\n",
      "   ('3090', 0.028313414597800495),\n",
      "   ('6800xt', 0.028224003814860073),\n",
      "   ('vram', 0.019163711143563914),\n",
      "   ('6900xt', 0.016839030787112925),\n",
      "   ('benchmark', 0.016272762495156915),\n",
      "   ('xt', 0.013977885733019403)]),\n",
      " (1,\n",
      "  [('card', 0.044638676447635396),\n",
      "   ('people', 0.030466677071952553),\n",
      "   ('buy', 0.023130950522865616),\n",
      "   ('wait', 0.01919775245824879),\n",
      "   ('stock', 0.018386140159200873),\n",
      "   ('point', 0.012517558919931325),\n",
      "   ('good', 0.011737162478539098),\n",
      "   ('release', 0.011425003901982207),\n",
      "   ('bad', 0.009708131730919308),\n",
      "   ('guess', 0.00895895114718277)]),\n",
      " (2,\n",
      "  [('dl', 0.04345416897547318),\n",
      "   ('game', 0.04187931989850972),\n",
      "   ('ray_tracing', 0.021406281897984776),\n",
      "   ('rt', 0.017177520487619936),\n",
      "   ('feature', 0.01688588176966374),\n",
      "   ('4k', 0.016535915308116305),\n",
      "   ('console', 0.014698591384992271),\n",
      "   ('support', 0.013444544897780629),\n",
      "   ('rtx', 0.01277377584648138),\n",
      "   ('pc', 0.010324010615649333)]),\n",
      " (3,\n",
      "  [('amd', 0.101659252134183),\n",
      "   ('nvidia', 0.07767223758566791),\n",
      "   ('gpu', 0.03195262714921246),\n",
      "   ('cpu', 0.021882890465312013),\n",
      "   ('memory', 0.012654803414692798),\n",
      "   ('series', 0.010700973908861369),\n",
      "   ('lower', 0.01067091499338704),\n",
      "   ('end', 0.010460502585066731),\n",
      "   ('power', 0.010159913430323434),\n",
      "   ('intel', 0.010159913430323434)]),\n",
      " (4,\n",
      "  [('time', 0.026203225499825733),\n",
      "   ('year', 0.024048667659453123),\n",
      "   ('driver', 0.02122873166249485),\n",
      "   ('good', 0.019105858496245368),\n",
      "   ('issue', 0.01397294128829885),\n",
      "   ('order', 0.011153005291340579),\n",
      "   ('day', 0.010962897246601818),\n",
      "   ('5700xt', 0.010234149741769906),\n",
      "   ('number', 0.00906181679921422),\n",
      "   ('launch', 0.009030132125091093)])]\n"
     ]
    }
   ],
   "source": [
    "pprint(topic_5_ldamallet.show_topics(formatted=False))"
   ]
  },
  {
   "cell_type": "markdown",
   "metadata": {},
   "source": [
    "## Interpreting the 5 topics \n",
    "\n",
    "Topic 0\n",
    "* Driver related issue\n",
    "\n",
    "Topic 1\n",
    "* Stock availability\n",
    "\n",
    "Topic 2\n",
    "* GPU features: ray_tracing, dlss and resolutions: 1440p, 4K\n",
    "\n",
    "Topic 3\n",
    "* Price and performance for GPU models\n",
    "\n",
    "Topic 4\n",
    "* Have to do with intel, amd and Nvidia cpu and gpus. Unable to intrepret well. "
   ]
  },
  {
   "cell_type": "markdown",
   "metadata": {},
   "source": [
    "As I find the 6 topics to be the most intrepretable as well as it's one of the highest coherence score among the other models, I'll be selecting to it to move forward with the project."
   ]
  },
  {
   "cell_type": "markdown",
   "metadata": {},
   "source": [
    "# Finding the dominant topic in each sentence"
   ]
  },
  {
   "cell_type": "markdown",
   "metadata": {},
   "source": [
    "I would like to investigate the dominant topics for the documents and see if it makes sense."
   ]
  },
  {
   "cell_type": "code",
   "execution_count": 31,
   "metadata": {
    "ExecuteTime": {
     "end_time": "2021-01-25T13:03:00.881315Z",
     "start_time": "2021-01-25T13:03:00.865300Z"
    }
   },
   "outputs": [],
   "source": [
    "def format_topics_sentences(ldamodel, corpus, texts):\n",
    "    # Init output\n",
    "    sent_topics_df = pd.DataFrame()\n",
    "\n",
    "    # Get main topic in each document\n",
    "    for _, row in enumerate(ldamodel[corpus]): # ldamodel[corpus] --> Provides a list of the probability values of which topic a document belongs to\n",
    "        row = sorted(row, key=lambda x: (x[1]), reverse=True) # Sorts the probabilities of a document is descending order\n",
    "        # Get the Dominant topic, Perc Contribution and Keywords for each document\n",
    "        for j, (topic_num, prop_topic) in enumerate(row):\n",
    "            if j == 0:  # => dominant topic (As it's sorted in descending order, the highest probability is the first topic which is index 0)\n",
    "                wp = ldamodel.show_topic(topic_num) # Obtain the dominant topic for the document\n",
    "                topic_keywords = \", \".join([word for word, prop in wp]) # Gets the topic keys words for the topic\n",
    "                sent_topics_df = sent_topics_df.append(pd.Series([int(topic_num), round(prop_topic,4), topic_keywords]), ignore_index=True)\n",
    "            else:\n",
    "                break\n",
    "    sent_topics_df.columns = ['Dominant_Topic', 'Perc_Contribution', 'Topic_Keywords']\n",
    "\n",
    "    # Add original text to the end of the output\n",
    "    contents = pd.Series(texts)\n",
    "    sent_topics_df = pd.concat([sent_topics_df, contents], axis=1)\n",
    "    return sent_topics_df"
   ]
  },
  {
   "cell_type": "markdown",
   "metadata": {},
   "source": [
    "Notes: The last model trained **must match** with the last optimal_file_doctopics text file. If not, there will be an error message."
   ]
  },
  {
   "cell_type": "code",
   "execution_count": 32,
   "metadata": {
    "ExecuteTime": {
     "end_time": "2021-01-25T13:03:00.897329Z",
     "start_time": "2021-01-25T13:03:00.882316Z"
    }
   },
   "outputs": [],
   "source": [
    "# Retrain the model if you've have not done so\n",
    "# optimal_num_topics = 6\n",
    "# optimal_model = LdaMallet(mallet_path, corpus=bigram_corpus, num_topics=optimal_num_topics, id2word=bigram_id2word,\n",
    "#                                                  prefix='optimal_', random_seed=42)"
   ]
  },
  {
   "cell_type": "code",
   "execution_count": 33,
   "metadata": {
    "ExecuteTime": {
     "end_time": "2021-01-25T13:03:27.708356Z",
     "start_time": "2021-01-25T13:03:00.898330Z"
    }
   },
   "outputs": [
    {
     "data": {
      "text/html": [
       "<div>\n",
       "<style scoped>\n",
       "    .dataframe tbody tr th:only-of-type {\n",
       "        vertical-align: middle;\n",
       "    }\n",
       "\n",
       "    .dataframe tbody tr th {\n",
       "        vertical-align: top;\n",
       "    }\n",
       "\n",
       "    .dataframe thead th {\n",
       "        text-align: right;\n",
       "    }\n",
       "</style>\n",
       "<table border=\"1\" class=\"dataframe\">\n",
       "  <thead>\n",
       "    <tr style=\"text-align: right;\">\n",
       "      <th></th>\n",
       "      <th>Document_No</th>\n",
       "      <th>Dominant_Topic</th>\n",
       "      <th>Topic_Perc_Contrib</th>\n",
       "      <th>Keywords</th>\n",
       "      <th>Document</th>\n",
       "    </tr>\n",
       "  </thead>\n",
       "  <tbody>\n",
       "    <tr>\n",
       "      <th>0</th>\n",
       "      <td>0</td>\n",
       "      <td>1.0</td>\n",
       "      <td>0.1368</td>\n",
       "      <td>rtx, year, 4k, console, series, pc, 1440p, goo...</td>\n",
       "      <td>[sound, samsung_8nm, cheap]</td>\n",
       "    </tr>\n",
       "    <tr>\n",
       "      <th>1</th>\n",
       "      <td>1</td>\n",
       "      <td>7.0</td>\n",
       "      <td>0.1507</td>\n",
       "      <td>card, stock, launch, order, day, gonna, waitin...</td>\n",
       "      <td>[ethic, mongol, invasion, tech]</td>\n",
       "    </tr>\n",
       "    <tr>\n",
       "      <th>2</th>\n",
       "      <td>2</td>\n",
       "      <td>2.0</td>\n",
       "      <td>0.1447</td>\n",
       "      <td>dl, game, ray_tracing, rt, feature, support, r...</td>\n",
       "      <td>[nvidia, software, ai, learning, big, selling,...</td>\n",
       "    </tr>\n",
       "    <tr>\n",
       "      <th>3</th>\n",
       "      <td>3</td>\n",
       "      <td>6.0</td>\n",
       "      <td>0.2130</td>\n",
       "      <td>amd, nvidia, card, intel, good, market, compet...</td>\n",
       "      <td>[excited, amd, guy, compete, going, nvidia, br...</td>\n",
       "    </tr>\n",
       "    <tr>\n",
       "      <th>4</th>\n",
       "      <td>4</td>\n",
       "      <td>3.0</td>\n",
       "      <td>0.1737</td>\n",
       "      <td>price, 3070, 6800, xt, 500, 2080ti, faster, 50...</td>\n",
       "      <td>[think, nvidia, actualy, competing, new, conso...</td>\n",
       "    </tr>\n",
       "    <tr>\n",
       "      <th>5</th>\n",
       "      <td>5</td>\n",
       "      <td>6.0</td>\n",
       "      <td>0.2445</td>\n",
       "      <td>amd, nvidia, card, intel, good, market, compet...</td>\n",
       "      <td>[reputable, leak, rdna2, say, 40, 50, faster, ...</td>\n",
       "    </tr>\n",
       "    <tr>\n",
       "      <th>6</th>\n",
       "      <td>6</td>\n",
       "      <td>6.0</td>\n",
       "      <td>0.3337</td>\n",
       "      <td>amd, nvidia, card, intel, good, market, compet...</td>\n",
       "      <td>[im, sure, amd, good, rdna, generation, rt, im...</td>\n",
       "    </tr>\n",
       "    <tr>\n",
       "      <th>7</th>\n",
       "      <td>7</td>\n",
       "      <td>6.0</td>\n",
       "      <td>0.1619</td>\n",
       "      <td>amd, nvidia, card, intel, good, market, compet...</td>\n",
       "      <td>[b4, refresh, ampere, 7nm, throw, dirt, wound,...</td>\n",
       "    </tr>\n",
       "    <tr>\n",
       "      <th>8</th>\n",
       "      <td>8</td>\n",
       "      <td>3.0</td>\n",
       "      <td>0.2211</td>\n",
       "      <td>price, 3070, 6800, xt, 500, 2080ti, faster, 50...</td>\n",
       "      <td>[thread, deleted, aswell, post, r, p, amd, off...</td>\n",
       "    </tr>\n",
       "    <tr>\n",
       "      <th>9</th>\n",
       "      <td>9</td>\n",
       "      <td>0.0</td>\n",
       "      <td>0.1439</td>\n",
       "      <td>gpu, cpu, vram, lower, end, power, true, gamin...</td>\n",
       "      <td>[amd, going, need, pull, double, 5700xt, wish,...</td>\n",
       "    </tr>\n",
       "  </tbody>\n",
       "</table>\n",
       "</div>"
      ],
      "text/plain": [
       "   Document_No  Dominant_Topic  Topic_Perc_Contrib  \\\n",
       "0            0             1.0              0.1368   \n",
       "1            1             7.0              0.1507   \n",
       "2            2             2.0              0.1447   \n",
       "3            3             6.0              0.2130   \n",
       "4            4             3.0              0.1737   \n",
       "5            5             6.0              0.2445   \n",
       "6            6             6.0              0.3337   \n",
       "7            7             6.0              0.1619   \n",
       "8            8             3.0              0.2211   \n",
       "9            9             0.0              0.1439   \n",
       "\n",
       "                                            Keywords  \\\n",
       "0  rtx, year, 4k, console, series, pc, 1440p, goo...   \n",
       "1  card, stock, launch, order, day, gonna, waitin...   \n",
       "2  dl, game, ray_tracing, rt, feature, support, r...   \n",
       "3  amd, nvidia, card, intel, good, market, compet...   \n",
       "4  price, 3070, 6800, xt, 500, 2080ti, faster, 50...   \n",
       "5  amd, nvidia, card, intel, good, market, compet...   \n",
       "6  amd, nvidia, card, intel, good, market, compet...   \n",
       "7  amd, nvidia, card, intel, good, market, compet...   \n",
       "8  price, 3070, 6800, xt, 500, 2080ti, faster, 50...   \n",
       "9  gpu, cpu, vram, lower, end, power, true, gamin...   \n",
       "\n",
       "                                            Document  \n",
       "0                        [sound, samsung_8nm, cheap]  \n",
       "1                    [ethic, mongol, invasion, tech]  \n",
       "2  [nvidia, software, ai, learning, big, selling,...  \n",
       "3  [excited, amd, guy, compete, going, nvidia, br...  \n",
       "4  [think, nvidia, actualy, competing, new, conso...  \n",
       "5  [reputable, leak, rdna2, say, 40, 50, faster, ...  \n",
       "6  [im, sure, amd, good, rdna, generation, rt, im...  \n",
       "7  [b4, refresh, ampere, 7nm, throw, dirt, wound,...  \n",
       "8  [thread, deleted, aswell, post, r, p, amd, off...  \n",
       "9  [amd, going, need, pull, double, 5700xt, wish,...  "
      ]
     },
     "execution_count": 33,
     "metadata": {},
     "output_type": "execute_result"
    }
   ],
   "source": [
    "df_topic_sents_keywords = format_topics_sentences(ldamodel=optimal_model, corpus=bigram_corpus, texts=data_bigrams)\n",
    "\n",
    "# Format\n",
    "df_dominant_topic = df_topic_sents_keywords.reset_index()\n",
    "df_dominant_topic.columns = ['Document_No', 'Dominant_Topic', 'Topic_Perc_Contrib', 'Keywords', 'Document']\n",
    "\n",
    "# Show\n",
    "df_dominant_topic.head(10)"
   ]
  },
  {
   "cell_type": "code",
   "execution_count": 34,
   "metadata": {
    "ExecuteTime": {
     "end_time": "2021-01-25T13:03:27.722360Z",
     "start_time": "2021-01-25T13:03:27.709348Z"
    }
   },
   "outputs": [],
   "source": [
    "# Sort the dataframe in ascending order by the topic percentage contribution\n",
    "df_dominant_topic_sorted = df_dominant_topic.sort_values('Topic_Perc_Contrib', ascending=False)\n",
    "idx = np.random.randint(df_dominant_topic_sorted.shape[0])\n",
    "# idx = 250\n",
    "document = df_dominant_topic_sorted[['Document']].iloc[idx].values\n",
    "dominant_topic = df_dominant_topic_sorted[['Dominant_Topic']].iloc[idx].values\n",
    "dominant_keywords = df_dominant_topic_sorted[['Keywords']].iloc[idx].values"
   ]
  },
  {
   "cell_type": "code",
   "execution_count": 35,
   "metadata": {
    "ExecuteTime": {
     "end_time": "2021-01-25T13:03:27.738373Z",
     "start_time": "2021-01-25T13:03:27.723361Z"
    }
   },
   "outputs": [
    {
     "name": "stdout",
     "output_type": "stream",
     "text": [
      "Dominant keywords: ['people, buy, driver, time, issue, good, bad, reason, sell, product'] \n",
      "\n",
      "Document:[list(['underrated', 'comment', 'thanks', 'nice', 'day'])]\n"
     ]
    }
   ],
   "source": [
    "print(f'Dominant keywords: {dominant_keywords} \\n\\nDocument:{document}')"
   ]
  },
  {
   "cell_type": "markdown",
   "metadata": {},
   "source": [
    "The document is relating to the price and performance of AMD against the Nividia's pascal and ampere's generation of GPUs as well as discussing about the Thermal Design Power (TDP) in which the GPUs generate heat and draw electricity as `100w` was seen in the document. "
   ]
  },
  {
   "cell_type": "code",
   "execution_count": 36,
   "metadata": {
    "ExecuteTime": {
     "end_time": "2021-01-25T13:03:27.754388Z",
     "start_time": "2021-01-25T13:03:27.739375Z"
    }
   },
   "outputs": [
    {
     "name": "stdout",
     "output_type": "stream",
     "text": [
      "Dominant keywords: ['people, buy, driver, time, issue, good, bad, reason, sell, product'] \n",
      "\n",
      " Document:[list(['underrated', 'comment', 'thanks', 'nice', 'day'])]\n"
     ]
    }
   ],
   "source": [
    "print(f'Dominant keywords: {dominant_keywords} \\n\\n Document:{document}')"
   ]
  },
  {
   "cell_type": "markdown",
   "metadata": {
    "ExecuteTime": {
     "end_time": "2021-01-23T09:46:19.862202Z",
     "start_time": "2021-01-23T09:46:19.847189Z"
    }
   },
   "source": [
    "In the above document, the dominant keywords reflect the document with purchasing a GPU. "
   ]
  },
  {
   "cell_type": "markdown",
   "metadata": {},
   "source": [
    "# Find the most representative document for each topic"
   ]
  },
  {
   "cell_type": "code",
   "execution_count": 37,
   "metadata": {
    "ExecuteTime": {
     "end_time": "2021-01-25T13:03:27.786421Z",
     "start_time": "2021-01-25T13:03:27.755389Z"
    }
   },
   "outputs": [
    {
     "data": {
      "text/html": [
       "<div>\n",
       "<style scoped>\n",
       "    .dataframe tbody tr th:only-of-type {\n",
       "        vertical-align: middle;\n",
       "    }\n",
       "\n",
       "    .dataframe tbody tr th {\n",
       "        vertical-align: top;\n",
       "    }\n",
       "\n",
       "    .dataframe thead th {\n",
       "        text-align: right;\n",
       "    }\n",
       "</style>\n",
       "<table border=\"1\" class=\"dataframe\">\n",
       "  <thead>\n",
       "    <tr style=\"text-align: right;\">\n",
       "      <th></th>\n",
       "      <th>Topic_Num</th>\n",
       "      <th>Topic_Perc_Contrib</th>\n",
       "      <th>Keywords</th>\n",
       "      <th>Representative Text</th>\n",
       "    </tr>\n",
       "  </thead>\n",
       "  <tbody>\n",
       "    <tr>\n",
       "      <th>0</th>\n",
       "      <td>0.0</td>\n",
       "      <td>0.5488</td>\n",
       "      <td>gpu, cpu, vram, lower, end, power, true, gamin...</td>\n",
       "      <td>[selection, frame, index, 0, excludes, type, x...</td>\n",
       "    </tr>\n",
       "    <tr>\n",
       "      <th>1</th>\n",
       "      <td>1.0</td>\n",
       "      <td>0.4488</td>\n",
       "      <td>rtx, year, 4k, console, series, pc, 1440p, goo...</td>\n",
       "      <td>[ssd, year, old, ocz, vertex, max, iop, 128gb,...</td>\n",
       "    </tr>\n",
       "    <tr>\n",
       "      <th>2</th>\n",
       "      <td>2.0</td>\n",
       "      <td>0.5388</td>\n",
       "      <td>dl, game, ray_tracing, rt, feature, support, r...</td>\n",
       "      <td>[example, ray_tracing, insanely, computational...</td>\n",
       "    </tr>\n",
       "    <tr>\n",
       "      <th>3</th>\n",
       "      <td>3.0</td>\n",
       "      <td>0.3986</td>\n",
       "      <td>price, 3070, 6800, xt, 500, 2080ti, faster, 50...</td>\n",
       "      <td>[looking, saving, perspective, way, generation...</td>\n",
       "    </tr>\n",
       "    <tr>\n",
       "      <th>4</th>\n",
       "      <td>4.0</td>\n",
       "      <td>0.4112</td>\n",
       "      <td>3080, 3090, 6800xt, wait, 6900xt, benchmark, m...</td>\n",
       "      <td>[wrong, look, official, benchmark, slide, smar...</td>\n",
       "    </tr>\n",
       "    <tr>\n",
       "      <th>5</th>\n",
       "      <td>5.0</td>\n",
       "      <td>0.6850</td>\n",
       "      <td>people, buy, driver, time, issue, good, bad, r...</td>\n",
       "      <td>[corrected, multiple, time, insinuating, decis...</td>\n",
       "    </tr>\n",
       "    <tr>\n",
       "      <th>6</th>\n",
       "      <td>6.0</td>\n",
       "      <td>0.4498</td>\n",
       "      <td>amd, nvidia, card, intel, good, market, compet...</td>\n",
       "      <td>[amd, nvidia, buy, silicon, company, mainly, s...</td>\n",
       "    </tr>\n",
       "    <tr>\n",
       "      <th>7</th>\n",
       "      <td>7.0</td>\n",
       "      <td>0.5306</td>\n",
       "      <td>card, stock, launch, order, day, gonna, waitin...</td>\n",
       "      <td>[alright, called, couple, cc, location, 4038, ...</td>\n",
       "    </tr>\n",
       "  </tbody>\n",
       "</table>\n",
       "</div>"
      ],
      "text/plain": [
       "   Topic_Num  Topic_Perc_Contrib  \\\n",
       "0        0.0              0.5488   \n",
       "1        1.0              0.4488   \n",
       "2        2.0              0.5388   \n",
       "3        3.0              0.3986   \n",
       "4        4.0              0.4112   \n",
       "5        5.0              0.6850   \n",
       "6        6.0              0.4498   \n",
       "7        7.0              0.5306   \n",
       "\n",
       "                                            Keywords  \\\n",
       "0  gpu, cpu, vram, lower, end, power, true, gamin...   \n",
       "1  rtx, year, 4k, console, series, pc, 1440p, goo...   \n",
       "2  dl, game, ray_tracing, rt, feature, support, r...   \n",
       "3  price, 3070, 6800, xt, 500, 2080ti, faster, 50...   \n",
       "4  3080, 3090, 6800xt, wait, 6900xt, benchmark, m...   \n",
       "5  people, buy, driver, time, issue, good, bad, r...   \n",
       "6  amd, nvidia, card, intel, good, market, compet...   \n",
       "7  card, stock, launch, order, day, gonna, waitin...   \n",
       "\n",
       "                                 Representative Text  \n",
       "0  [selection, frame, index, 0, excludes, type, x...  \n",
       "1  [ssd, year, old, ocz, vertex, max, iop, 128gb,...  \n",
       "2  [example, ray_tracing, insanely, computational...  \n",
       "3  [looking, saving, perspective, way, generation...  \n",
       "4  [wrong, look, official, benchmark, slide, smar...  \n",
       "5  [corrected, multiple, time, insinuating, decis...  \n",
       "6  [amd, nvidia, buy, silicon, company, mainly, s...  \n",
       "7  [alright, called, couple, cc, location, 4038, ...  "
      ]
     },
     "execution_count": 37,
     "metadata": {},
     "output_type": "execute_result"
    }
   ],
   "source": [
    "sent_topics_sorteddf_mallet = pd.DataFrame()\n",
    "sent_topics_outdf_grpd = df_topic_sents_keywords.groupby('Dominant_Topic')\n",
    "\n",
    "for i, grp in sent_topics_outdf_grpd:\n",
    "    sent_topics_sorteddf_mallet = pd.concat([sent_topics_sorteddf_mallet, \n",
    "                                             grp.sort_values(['Perc_Contribution'], ascending=False).head(1)], \n",
    "                                            axis=0)\n",
    "\n",
    "# Reset Index    \n",
    "sent_topics_sorteddf_mallet.reset_index(drop=True, inplace=True)\n",
    "\n",
    "# Format the columns\n",
    "sent_topics_sorteddf_mallet.columns = ['Topic_Num', \"Topic_Perc_Contrib\", \"Keywords\", \"Representative Text\"]\n",
    "\n",
    "# Show\n",
    "sent_topics_sorteddf_mallet.head(10)"
   ]
  },
  {
   "cell_type": "markdown",
   "metadata": {},
   "source": [
    "## Most representative document for Topic 0"
   ]
  },
  {
   "cell_type": "code",
   "execution_count": 38,
   "metadata": {
    "ExecuteTime": {
     "end_time": "2021-01-25T13:03:27.802436Z",
     "start_time": "2021-01-25T13:03:27.787421Z"
    }
   },
   "outputs": [],
   "source": [
    "# Create a helper function to display the most representative documents for a topic\n",
    "def display_representative_document(topic_n, df):\n",
    "    dominant_keywords = df['Keywords'].loc[topic_n]\n",
    "    document_topic = \" \".join(df['Representative Text'].loc[topic_n])\n",
    "    \n",
    "    print(f'*******Topic {topic_n}********\\n\\nDominant keywords: {dominant_keywords} \\n\\nDocument:{document_topic}')"
   ]
  },
  {
   "cell_type": "code",
   "execution_count": 39,
   "metadata": {
    "ExecuteTime": {
     "end_time": "2021-01-25T13:03:27.817744Z",
     "start_time": "2021-01-25T13:03:27.803438Z"
    }
   },
   "outputs": [
    {
     "name": "stdout",
     "output_type": "stream",
     "text": [
      "*******Topic 0********\n",
      "\n",
      "Dominant keywords: gpu, cpu, vram, lower, end, power, true, gaming, 16gb, case \n",
      "\n",
      "Document:selection frame index 0 excludes type xpath expr body main role main div_class layout content div_contains class region div_contains class block div_class container div_class row flex h4 includes type xpath expr body main role main div_class layout content div_contains class region div_contains class block div_class container div_class row flex div dynamic true delay 0 ignoreemptytext true includestyle false dataattr text make_sense thanks\n"
     ]
    }
   ],
   "source": [
    "display_representative_document(0, sent_topics_sorteddf_mallet)"
   ]
  },
  {
   "cell_type": "markdown",
   "metadata": {},
   "source": [
    "The document talks about the price and performance of AMD's 6800xt and 6900xt which fits the topic of the `price` and `performance` of the card."
   ]
  },
  {
   "cell_type": "markdown",
   "metadata": {},
   "source": [
    "## Most representative document for Topic 1"
   ]
  },
  {
   "cell_type": "code",
   "execution_count": 40,
   "metadata": {
    "ExecuteTime": {
     "end_time": "2021-01-25T13:03:27.833758Z",
     "start_time": "2021-01-25T13:03:27.818746Z"
    }
   },
   "outputs": [
    {
     "name": "stdout",
     "output_type": "stream",
     "text": [
      "*******Topic 1********\n",
      "\n",
      "Dominant keywords: rtx, year, 4k, console, series, pc, 1440p, good, fps, gaming \n",
      "\n",
      "Document:ssd year old ocz vertex max iop 128gb guess size house lot game especially ton game large day ssd run o default program software suite game run oldfashioned 7200 rpm hdds far cpu go bought time 290 currently running 3770k oc 4 5ghz 12gb ddr3 1600mhz ram tech obsessed guy old standard stuff ancient obsolete fallen hard time financially past year sense surprised longevity part able squeeze wrong notice need upgrade day able smoothly run star citizen example 15 20fps best fs2020 give 20 30 frame best medium setting lot stuttering framedrops depending area horrendous loadtimes old hdds stuff ac odyssey shadow_tomb raider customized term setting medium ultra run 30 45 frame depending area stuff witcher ran 60fps ultra hairworks play 30 45 fps sense worried able run cyberpunk_2077 decent setting framerate 6 7 year single configuration able play relatively similar console experience 1080p30 game astonishing stuff battlefield modern_warfare doom_eternal run 50 60fps mindblowing\n"
     ]
    }
   ],
   "source": [
    "display_representative_document(1, sent_topics_sorteddf_mallet)"
   ]
  },
  {
   "cell_type": "markdown",
   "metadata": {
    "ExecuteTime": {
     "end_time": "2021-01-24T01:39:13.797937Z",
     "start_time": "2021-01-24T01:39:13.790930Z"
    }
   },
   "source": [
    "The document does not make sense as it's talking about HTML syntaxes which the model poorly interpreted."
   ]
  },
  {
   "cell_type": "markdown",
   "metadata": {},
   "source": [
    "## Most representative document for Topic 2"
   ]
  },
  {
   "cell_type": "code",
   "execution_count": 41,
   "metadata": {
    "ExecuteTime": {
     "end_time": "2021-01-25T13:03:27.849773Z",
     "start_time": "2021-01-25T13:03:27.834759Z"
    }
   },
   "outputs": [
    {
     "name": "stdout",
     "output_type": "stream",
     "text": [
      "*******Topic 2********\n",
      "\n",
      "Dominant keywords: dl, game, ray_tracing, rt, feature, support, raytracing, hardware, 0, lot \n",
      "\n",
      "Document:example ray_tracing insanely computationally expensive push higher higher resolution jumping 1080p 1440p 4k adding big load ray_tracing exacerbates essentially enabling ray_tracing half huge hit think agree exactly dl important negates halving ray_tracing guarantee devs away completely fake baking lighting cube map use rtx know long way away unfortunately yes computationally expensive far easier devs implement physic based work box hundred hour cube map hit generally getting ray_tracing effect certain area example ray_traced environmental lighting effect muzzle trade lighting option severe penalty yep absolute best implementation control far good cyberpunk implementation albeit bet extremely good given close partnership nvidia said implementation computational cost high best cast ray pixel enormously far realistic rendering theoretically say need cast 500 ray pixel simulate true ray pixel extremely obvious ray_tracing active game implemented properly metro_exodus global illumination control regardless ray_tracing visual benefit worth imo trying thing forward struggling hit severe casting abysmal ray end massively noisy image requires effort denoise awful supersampling upscale true honestly think ray_tracing premature way forward completely agree ray cast limitation type lighting apply cost incurs current resolution remedy denoising upsampling fix huge meh think premature mean anymore time 1st variation hell couple variation new tech going premature new issue arise pas said premature phase developed technology need continue advance think amd approach hybridization bvh traversal make_sense push traditional rasterization support rt leverage cu enable dedicating huge portion die leverage effect tradeoff make_sense visually sure agree probably way forward decade nvidia correctly igorslab leak raster benchmark matched shown presentation rt worse amd amd said working dl equivalent actual demo shown separate part die hardware accelerated individually way\n"
     ]
    }
   ],
   "source": [
    "display_representative_document(2, sent_topics_sorteddf_mallet)"
   ]
  },
  {
   "cell_type": "markdown",
   "metadata": {},
   "source": [
    "The document discusses about [ray tracing](https://www.techradar.com/news/ray-tracing) which gives more lifelike shadows and reflections, along with much-improved translucence and scattering in games. This fits the topic in which it has the keyword `ray_tracing`, `performance`."
   ]
  },
  {
   "cell_type": "markdown",
   "metadata": {},
   "source": [
    "## Most representative document for Topic 3"
   ]
  },
  {
   "cell_type": "code",
   "execution_count": 42,
   "metadata": {
    "ExecuteTime": {
     "end_time": "2021-01-25T13:03:27.865787Z",
     "start_time": "2021-01-25T13:03:27.850774Z"
    }
   },
   "outputs": [
    {
     "name": "stdout",
     "output_type": "stream",
     "text": [
      "*******Topic 3********\n",
      "\n",
      "Dominant keywords: price, 3070, 6800, xt, 500, 2080ti, faster, 50, pricing, rx \n",
      "\n",
      "Document:looking saving perspective way generational price bearing mind 2080_ti whopping 70 expensive 1080 ti 1080 ti 50 expensive 980 ti 2080_ti best 35 better 1080 ti 1080 ti avg 50 faster 980 ti 2080_ti impressive begin 2080_ti 500 3070 mean considering 3070 memory gddr6x 500 3070 mean 3060 likely 400 wanna guess\n"
     ]
    }
   ],
   "source": [
    "display_representative_document(3, sent_topics_sorteddf_mallet)"
   ]
  },
  {
   "cell_type": "markdown",
   "metadata": {},
   "source": [
    "The document talks about the pre ordering AMD's 6800xt which fits the topic on purchasing a GPU during the GPU's launch"
   ]
  },
  {
   "cell_type": "markdown",
   "metadata": {},
   "source": [
    "## Most representative document for Topic 4"
   ]
  },
  {
   "cell_type": "code",
   "execution_count": 43,
   "metadata": {
    "ExecuteTime": {
     "end_time": "2021-01-25T13:03:27.881802Z",
     "start_time": "2021-01-25T13:03:27.865787Z"
    }
   },
   "outputs": [
    {
     "name": "stdout",
     "output_type": "stream",
     "text": [
      "*******Topic 4********\n",
      "\n",
      "Dominant keywords: 3080, 3090, 6800xt, wait, 6900xt, benchmark, memory, 10, cheaper, review \n",
      "\n",
      "Document:wrong look official benchmark slide smart_access memory google smart_access memory technology available 5000_series ryzen 6000_series radeon 6900xt smart_access memory rage_mode lmao edit looked wrong 6800 6900_xt slide smart_access memory 6800 xt slide edit2 different 6800xt slide smart_access memory 6800xt virtually identical 3080 5000_series ryzen processor ahead slightly game slightly edit3 realized rage_mode probably increase tdp outside specified know sure actual review 6900xt 350w rage_mode\n"
     ]
    }
   ],
   "source": [
    "display_representative_document(4, sent_topics_sorteddf_mallet)"
   ]
  },
  {
   "cell_type": "markdown",
   "metadata": {},
   "source": [
    "The document compares Nvidia's GPUs, the 3070, 3080 and the 3090 against AMD's GPUs, the 6800, 6800xt and the 6900xt which adequately matches the topic."
   ]
  },
  {
   "cell_type": "markdown",
   "metadata": {},
   "source": [
    "## Most representative document for Topic 5"
   ]
  },
  {
   "cell_type": "code",
   "execution_count": 44,
   "metadata": {
    "ExecuteTime": {
     "end_time": "2021-01-25T13:03:27.897817Z",
     "start_time": "2021-01-25T13:03:27.882803Z"
    }
   },
   "outputs": [
    {
     "name": "stdout",
     "output_type": "stream",
     "text": [
      "*******Topic 5********\n",
      "\n",
      "Dominant keywords: people, buy, driver, time, issue, good, bad, reason, sell, product \n",
      "\n",
      "Document:corrected multiple time insinuating decision stem 700 msrp mentioned comment bud wrong disclosed reply comment original reply stated sounded bad idea original comment disclosed information original reply said sounded bad idea possible different conclusion different circumstance clarified simply said 6800xt obviously 6900xt expensive imply terrible_idea simply implied look worth trouble insinuate decision stem 700 msrp insinuated terrible_idea upset look r hardwareswap selling 3080s loss arguing entirely bad faith point cared paid 150 base 700 msrp place decision entirely stem 850 price point time repeat stop twisting single word fuck word twist care r hardwareswap rate 3080 aways talking price launch date new radeon card later imagined talking usual case_scenario reason sound calm f buddy completely blind think sell right 850 model stated comment learn read stop backtracking literally comment insanely delusional backtrack word help argument imagine quoted example labeled extreme example situation exemplify particular situation bad idea originaly said sounded msrp value card higher price wow finally came term rest comment based situation literally making shit pretend argument good job cya lmao buddy rough day know example want google\n"
     ]
    }
   ],
   "source": [
    "display_representative_document(5, sent_topics_sorteddf_mallet)"
   ]
  },
  {
   "cell_type": "markdown",
   "metadata": {},
   "source": [
    "Unable to intrepret the document well as it discusses about the turing complete machine, whereas the topic discusses about the PC and gaming consoles."
   ]
  },
  {
   "cell_type": "markdown",
   "metadata": {},
   "source": [
    "# Topic distribution across documents"
   ]
  },
  {
   "cell_type": "code",
   "execution_count": 45,
   "metadata": {
    "ExecuteTime": {
     "end_time": "2021-01-25T13:03:27.913831Z",
     "start_time": "2021-01-25T13:03:27.897817Z"
    }
   },
   "outputs": [
    {
     "data": {
      "text/html": [
       "<div>\n",
       "<style scoped>\n",
       "    .dataframe tbody tr th:only-of-type {\n",
       "        vertical-align: middle;\n",
       "    }\n",
       "\n",
       "    .dataframe tbody tr th {\n",
       "        vertical-align: top;\n",
       "    }\n",
       "\n",
       "    .dataframe thead th {\n",
       "        text-align: right;\n",
       "    }\n",
       "</style>\n",
       "<table border=\"1\" class=\"dataframe\">\n",
       "  <thead>\n",
       "    <tr style=\"text-align: right;\">\n",
       "      <th></th>\n",
       "      <th>Dominant_Topic</th>\n",
       "      <th>Topic_Keywords</th>\n",
       "      <th>Num_Documents</th>\n",
       "      <th>Perc_Documents</th>\n",
       "    </tr>\n",
       "  </thead>\n",
       "  <tbody>\n",
       "    <tr>\n",
       "      <th>0.0</th>\n",
       "      <td>0.0</td>\n",
       "      <td>gpu, cpu, vram, lower, end, power, true, gamin...</td>\n",
       "      <td>1836</td>\n",
       "      <td>0.1264</td>\n",
       "    </tr>\n",
       "    <tr>\n",
       "      <th>1.0</th>\n",
       "      <td>1.0</td>\n",
       "      <td>rtx, year, 4k, console, series, pc, 1440p, goo...</td>\n",
       "      <td>1538</td>\n",
       "      <td>0.1059</td>\n",
       "    </tr>\n",
       "    <tr>\n",
       "      <th>2.0</th>\n",
       "      <td>2.0</td>\n",
       "      <td>dl, game, ray_tracing, rt, feature, support, r...</td>\n",
       "      <td>2016</td>\n",
       "      <td>0.1388</td>\n",
       "    </tr>\n",
       "    <tr>\n",
       "      <th>3.0</th>\n",
       "      <td>3.0</td>\n",
       "      <td>price, 3070, 6800, xt, 500, 2080ti, faster, 50...</td>\n",
       "      <td>2105</td>\n",
       "      <td>0.1449</td>\n",
       "    </tr>\n",
       "    <tr>\n",
       "      <th>4.0</th>\n",
       "      <td>4.0</td>\n",
       "      <td>3080, 3090, 6800xt, wait, 6900xt, benchmark, m...</td>\n",
       "      <td>1768</td>\n",
       "      <td>0.1217</td>\n",
       "    </tr>\n",
       "    <tr>\n",
       "      <th>5.0</th>\n",
       "      <td>5.0</td>\n",
       "      <td>people, buy, driver, time, issue, good, bad, r...</td>\n",
       "      <td>1581</td>\n",
       "      <td>0.1088</td>\n",
       "    </tr>\n",
       "  </tbody>\n",
       "</table>\n",
       "</div>"
      ],
      "text/plain": [
       "     Dominant_Topic                                     Topic_Keywords  \\\n",
       "0.0             0.0  gpu, cpu, vram, lower, end, power, true, gamin...   \n",
       "1.0             1.0  rtx, year, 4k, console, series, pc, 1440p, goo...   \n",
       "2.0             2.0  dl, game, ray_tracing, rt, feature, support, r...   \n",
       "3.0             3.0  price, 3070, 6800, xt, 500, 2080ti, faster, 50...   \n",
       "4.0             4.0  3080, 3090, 6800xt, wait, 6900xt, benchmark, m...   \n",
       "5.0             5.0  people, buy, driver, time, issue, good, bad, r...   \n",
       "\n",
       "     Num_Documents  Perc_Documents  \n",
       "0.0           1836          0.1264  \n",
       "1.0           1538          0.1059  \n",
       "2.0           2016          0.1388  \n",
       "3.0           2105          0.1449  \n",
       "4.0           1768          0.1217  \n",
       "5.0           1581          0.1088  "
      ]
     },
     "execution_count": 45,
     "metadata": {},
     "output_type": "execute_result"
    }
   ],
   "source": [
    "# Number of Documents for Each Topic\n",
    "topic_counts = df_topic_sents_keywords['Dominant_Topic'].value_counts().sort_index()\n",
    "\n",
    "# Percentage of Documents for Each Topic\n",
    "topic_contribution = round(topic_counts/topic_counts.sum(), 4)\n",
    "\n",
    "# Topic Number and Keywords\n",
    "topic_num = pd.Series(sorted(df_topic_sents_keywords['Dominant_Topic'].unique()))\n",
    "topic_keywords = sent_topics_sorteddf_mallet['Keywords']\n",
    "\n",
    "# Concatenate Column wise\n",
    "df_dominant_topics = pd.concat([topic_num, topic_keywords, topic_counts, topic_contribution], axis=1)\n",
    "\n",
    "# Change Column names\n",
    "df_dominant_topics.columns = ['Dominant_Topic', 'Topic_Keywords', 'Num_Documents', 'Perc_Documents']\n",
    "\n",
    "# Show\n",
    "df_dominant_topics.head(6)"
   ]
  },
  {
   "cell_type": "code",
   "execution_count": 46,
   "metadata": {
    "ExecuteTime": {
     "end_time": "2021-01-25T13:03:27.929846Z",
     "start_time": "2021-01-25T13:03:27.913831Z"
    }
   },
   "outputs": [
    {
     "data": {
      "text/html": [
       "<div>\n",
       "<style scoped>\n",
       "    .dataframe tbody tr th:only-of-type {\n",
       "        vertical-align: middle;\n",
       "    }\n",
       "\n",
       "    .dataframe tbody tr th {\n",
       "        vertical-align: top;\n",
       "    }\n",
       "\n",
       "    .dataframe thead th {\n",
       "        text-align: right;\n",
       "    }\n",
       "</style>\n",
       "<table border=\"1\" class=\"dataframe\">\n",
       "  <thead>\n",
       "    <tr style=\"text-align: right;\">\n",
       "      <th></th>\n",
       "      <th>Dominant_Topic</th>\n",
       "      <th>Topic_Keywords</th>\n",
       "      <th>Num_Documents</th>\n",
       "      <th>Perc_Documents</th>\n",
       "    </tr>\n",
       "  </thead>\n",
       "  <tbody>\n",
       "    <tr>\n",
       "      <th>7.0</th>\n",
       "      <td>7.0</td>\n",
       "      <td>card, stock, launch, order, day, gonna, waitin...</td>\n",
       "      <td>2150</td>\n",
       "      <td>0.1480</td>\n",
       "    </tr>\n",
       "    <tr>\n",
       "      <th>3.0</th>\n",
       "      <td>3.0</td>\n",
       "      <td>price, 3070, 6800, xt, 500, 2080ti, faster, 50...</td>\n",
       "      <td>2105</td>\n",
       "      <td>0.1449</td>\n",
       "    </tr>\n",
       "    <tr>\n",
       "      <th>2.0</th>\n",
       "      <td>2.0</td>\n",
       "      <td>dl, game, ray_tracing, rt, feature, support, r...</td>\n",
       "      <td>2016</td>\n",
       "      <td>0.1388</td>\n",
       "    </tr>\n",
       "    <tr>\n",
       "      <th>0.0</th>\n",
       "      <td>0.0</td>\n",
       "      <td>gpu, cpu, vram, lower, end, power, true, gamin...</td>\n",
       "      <td>1836</td>\n",
       "      <td>0.1264</td>\n",
       "    </tr>\n",
       "    <tr>\n",
       "      <th>4.0</th>\n",
       "      <td>4.0</td>\n",
       "      <td>3080, 3090, 6800xt, wait, 6900xt, benchmark, m...</td>\n",
       "      <td>1768</td>\n",
       "      <td>0.1217</td>\n",
       "    </tr>\n",
       "    <tr>\n",
       "      <th>5.0</th>\n",
       "      <td>5.0</td>\n",
       "      <td>people, buy, driver, time, issue, good, bad, r...</td>\n",
       "      <td>1581</td>\n",
       "      <td>0.1088</td>\n",
       "    </tr>\n",
       "    <tr>\n",
       "      <th>1.0</th>\n",
       "      <td>1.0</td>\n",
       "      <td>rtx, year, 4k, console, series, pc, 1440p, goo...</td>\n",
       "      <td>1538</td>\n",
       "      <td>0.1059</td>\n",
       "    </tr>\n",
       "    <tr>\n",
       "      <th>6.0</th>\n",
       "      <td>6.0</td>\n",
       "      <td>amd, nvidia, card, intel, good, market, compet...</td>\n",
       "      <td>1532</td>\n",
       "      <td>0.1055</td>\n",
       "    </tr>\n",
       "  </tbody>\n",
       "</table>\n",
       "</div>"
      ],
      "text/plain": [
       "     Dominant_Topic                                     Topic_Keywords  \\\n",
       "7.0             7.0  card, stock, launch, order, day, gonna, waitin...   \n",
       "3.0             3.0  price, 3070, 6800, xt, 500, 2080ti, faster, 50...   \n",
       "2.0             2.0  dl, game, ray_tracing, rt, feature, support, r...   \n",
       "0.0             0.0  gpu, cpu, vram, lower, end, power, true, gamin...   \n",
       "4.0             4.0  3080, 3090, 6800xt, wait, 6900xt, benchmark, m...   \n",
       "5.0             5.0  people, buy, driver, time, issue, good, bad, r...   \n",
       "1.0             1.0  rtx, year, 4k, console, series, pc, 1440p, goo...   \n",
       "6.0             6.0  amd, nvidia, card, intel, good, market, compet...   \n",
       "\n",
       "     Num_Documents  Perc_Documents  \n",
       "7.0           2150          0.1480  \n",
       "3.0           2105          0.1449  \n",
       "2.0           2016          0.1388  \n",
       "0.0           1836          0.1264  \n",
       "4.0           1768          0.1217  \n",
       "5.0           1581          0.1088  \n",
       "1.0           1538          0.1059  \n",
       "6.0           1532          0.1055  "
      ]
     },
     "execution_count": 46,
     "metadata": {},
     "output_type": "execute_result"
    }
   ],
   "source": [
    "# Sort the Percentage of documents in descending order\n",
    "df_dominant_topics.sort_values(by='Perc_Documents', ascending=False)"
   ]
  },
  {
   "cell_type": "code",
   "execution_count": 48,
   "metadata": {
    "ExecuteTime": {
     "end_time": "2021-01-25T13:06:55.076994Z",
     "start_time": "2021-01-25T13:06:54.958881Z"
    }
   },
   "outputs": [
    {
     "data": {
      "image/png": "[encoded data removed]",
      "text/plain": [
       "<Figure size 792x504 with 1 Axes>"
      ]
     },
     "metadata": {},
     "output_type": "display_data"
    }
   ],
   "source": [
    "cols = [color for name, color in mcolors.TABLEAU_COLORS.items()]\n",
    "\n",
    "plt.figure(figsize=(11,7))\n",
    "sns.barplot(x='Dominant_Topic', y='Num_Documents',data=df_dominant_topics, palette=cols)\n",
    "\n",
    "plt.title('Distribution of documents by their topics')\n",
    "plt.xticks(np.arange(6),[x for x in range(6)])\n",
    "plt.xlabel('Dominant Topics')\n",
    "plt.ylabel('Number of documents');"
   ]
  },
  {
   "cell_type": "markdown",
   "metadata": {},
   "source": [
    "Topic 3 has the been assigned the most often to the documents with close to 3000 documents being assigned while making up 20% of the topics assigned.\n",
    "Stock availability during the launch of the GPUs is the most discussed for the AMD's subreddit with Topic 4 coming in second, which goes into comparing the price and performance of the AMD and Nvidia's GPUs. \n",
    "\n",
    "The least discussed is Topic 5 which discusses about the [RDNA 2 GPUs](https://www.pcworld.com/article/3528861/what-the-new-xbox-series-x-specs-tell-us-about-amds-next-gen-radeon-graphics-cards.html) powering the new gaming consoles, Xbox X series and the PS5. It seems that most of the subreddit users are PC gamers given the least number of Topic 5 documents."
   ]
  },
  {
   "cell_type": "markdown",
   "metadata": {},
   "source": [
    "# Frequency Distribution of Word Counts in Documents by dominant topic"
   ]
  },
  {
   "cell_type": "code",
   "execution_count": 49,
   "metadata": {
    "ExecuteTime": {
     "end_time": "2021-01-25T13:07:01.091446Z",
     "start_time": "2021-01-25T13:06:59.837302Z"
    }
   },
   "outputs": [
    {
     "data": {
      "image/png": "[encoded data removed]",
      "text/plain": [
       "<Figure size 1008x792 with 6 Axes>"
      ]
     },
     "metadata": {},
     "output_type": "display_data"
    }
   ],
   "source": [
    "cols = [color for name, color in mcolors.TABLEAU_COLORS.items()]\n",
    "\n",
    "fig, axes = plt.subplots(3,2, figsize=(14,11), sharex=True, sharey=True)\n",
    "\n",
    "for i, ax in enumerate(axes.flatten()):    \n",
    "    df_dominant_topic_sub = df_dominant_topic.loc[df_dominant_topic.Dominant_Topic == i]\n",
    "    doc_lens = df_dominant_topic_sub.Document.map(lambda token: len(token)).tolist()\n",
    "    #ax.hist(doc_lens, bins = 100, color=cols[i])\n",
    "    ax.tick_params(axis='y', labelcolor=cols[i], color=cols[i])\n",
    "    sns.histplot(doc_lens, bins=50, color=cols[i], kde=True, ax=ax) # ax.twinx()\n",
    "    # Mean\n",
    "    ax.axvline(np.mean(doc_lens), color='red', label='mean')\n",
    "    # Median\n",
    "    ax.axvline(np.median(doc_lens), color='yellow', label='median')\n",
    "    ax.legend()\n",
    "    ax.set(xlim=(0, 1000), xlabel='Document Word Count')\n",
    "    ax.set_ylabel('Number of Documents', color=cols[i])\n",
    "    ax.set_title('Topic: '+str(i), fontdict=dict(size=16, color=cols[i]))\n",
    "\n",
    "# fig.tight_layout()\n",
    "fig.subplots_adjust(top=0.90)\n",
    "# plt.xticks(np.linspace(0,375,9))\n",
    "plt.xlim(0,100)\n",
    "fig.suptitle('Distribution of Document Word Counts by Dominant Topic', fontsize=16)\n",
    "plt.tight_layout()\n",
    "plt.show()"
   ]
  },
  {
   "cell_type": "markdown",
   "metadata": {},
   "source": [
    "All of the distributions shows a right tailed skewed graph in which the mean and median are quite close."
   ]
  },
  {
   "cell_type": "markdown",
   "metadata": {},
   "source": [
    "# Word Clouds of Top N Keywords in Each Topic"
   ]
  },
  {
   "cell_type": "code",
   "execution_count": 50,
   "metadata": {
    "ExecuteTime": {
     "end_time": "2021-01-25T13:07:01.107460Z",
     "start_time": "2021-01-25T13:07:01.092446Z"
    }
   },
   "outputs": [],
   "source": [
    "stop_words = set(STOPWORDS).union(stopwords.words(\"english\")) # Combines gensim stopwords and nltk's stopwords\n",
    "stop_words = stop_words.union(['http', 'www', 'youtube' 'get', 'like', '1', '2', '3', '5', 'got'])"
   ]
  },
  {
   "cell_type": "code",
   "execution_count": 51,
   "metadata": {
    "ExecuteTime": {
     "end_time": "2021-01-25T13:07:04.945186Z",
     "start_time": "2021-01-25T13:07:01.108461Z"
    }
   },
   "outputs": [
    {
     "data": {
      "image/png": "[encoded data removed]",
      "text/plain": [
       "<Figure size 720x720 with 6 Axes>"
      ]
     },
     "metadata": {},
     "output_type": "display_data"
    }
   ],
   "source": [
    "cloud = WordCloud(stopwords=stop_words,\n",
    "                  background_color='white',\n",
    "                  width=2500,\n",
    "                  height=1800,\n",
    "                  max_words=10,\n",
    "                  colormap='tab10',\n",
    "                  color_func=lambda *args, **kwargs: cols[i],\n",
    "                  prefer_horizontal=1.0)\n",
    "\n",
    "topics = optimal_model.show_topics(formatted=False)\n",
    "\n",
    "fig, axes = plt.subplots(3, 2, figsize=(10,10), sharex=True, sharey=True)\n",
    "\n",
    "for i, ax in enumerate(axes.flatten()):\n",
    "    fig.add_subplot(ax)\n",
    "    topic_words = dict(topics[i][1])\n",
    "    cloud.generate_from_frequencies(topic_words, max_font_size=300)\n",
    "    plt.gca().imshow(cloud)\n",
    "    plt.gca().set_title('Topic ' + str(i), fontdict=dict(size=16))\n",
    "    plt.gca().axis('off')\n",
    "\n",
    "\n",
    "plt.subplots_adjust(wspace=0, hspace=0)\n",
    "plt.axis('off')\n",
    "plt.margins(x=0, y=0)\n",
    "plt.tight_layout()\n",
    "plt.show()"
   ]
  },
  {
   "cell_type": "markdown",
   "metadata": {},
   "source": [
    "# Word Counts of Topic Keywords"
   ]
  },
  {
   "cell_type": "code",
   "execution_count": 52,
   "metadata": {
    "ExecuteTime": {
     "end_time": "2021-01-25T13:07:04.993229Z",
     "start_time": "2021-01-25T13:07:04.946187Z"
    }
   },
   "outputs": [
    {
     "data": {
      "text/plain": [
       "Counter({'sound': 124,\n",
       "         'samsung_8nm': 25,\n",
       "         'cheap': 94,\n",
       "         'ethic': 3,\n",
       "         'mongol': 14,\n",
       "         'invasion': 3,\n",
       "         'tech': 191,\n",
       "         'nvidia': 2584,\n",
       "         'software': 231,\n",
       "         'ai': 102,\n",
       "         'learning': 8,\n",
       "         'big': 323,\n",
       "         'selling': 110,\n",
       "         'point': 502,\n",
       "         'excited': 57,\n",
       "         'amd': 3648,\n",
       "         'guy': 175,\n",
       "         'compete': 256,\n",
       "         'going': 894,\n",
       "         'brand_loyalty': 17,\n",
       "         'sucker': 12,\n",
       "         'think': 1149,\n",
       "         'actualy': 1,\n",
       "         'competing': 69,\n",
       "         'new': 747,\n",
       "         'console': 505,\n",
       "         'price': 1672,\n",
       "         '499': 90,\n",
       "         '2080ti': 410,\n",
       "         'dumping': 1,\n",
       "         'reputable': 5,\n",
       "         'leak': 63,\n",
       "         'rdna2': 190,\n",
       "         'say': 95,\n",
       "         '40': 49,\n",
       "         '50': 373,\n",
       "         'faster': 382,\n",
       "         'couple': 99,\n",
       "         'rumored': 23,\n",
       "         'focus': 29,\n",
       "         'power': 338,\n",
       "         'efficiency': 63,\n",
       "         'advantage': 119,\n",
       "         'tsmc': 77,\n",
       "         'process': 74,\n",
       "         '7nm': 75,\n",
       "         'forget': 54,\n",
       "         'samsung': 83,\n",
       "         'silicon': 29,\n",
       "         'pushed': 28,\n",
       "         '350': 58,\n",
       "         'tdp': 53,\n",
       "         'impossible': 25,\n",
       "         'raise': 26,\n",
       "         'coming': 196,\n",
       "         'competitive': 174,\n",
       "         'want': 705,\n",
       "         'buy': 741,\n",
       "         'potentially': 18,\n",
       "         'lower': 355,\n",
       "         'waiting': 219,\n",
       "         'im': 159,\n",
       "         'sure': 543,\n",
       "         'good': 979,\n",
       "         'rdna': 113,\n",
       "         'generation': 256,\n",
       "         'rt': 589,\n",
       "         'expecting': 62,\n",
       "         'boom': 5,\n",
       "         'wow': 49,\n",
       "         'amazing': 85,\n",
       "         'pricing': 312,\n",
       "         'learned': 10,\n",
       "         'turing': 120,\n",
       "         'double': 149,\n",
       "         'step': 59,\n",
       "         'right': 550,\n",
       "         'direction': 13,\n",
       "         'come': 510,\n",
       "         'punching': 3,\n",
       "         'force': 26,\n",
       "         'believe': 143,\n",
       "         'need': 718,\n",
       "         'throwing': 10,\n",
       "         'punch': 8,\n",
       "         'lack': 79,\n",
       "         'competition': 227,\n",
       "         'b4': 3,\n",
       "         'refresh': 51,\n",
       "         'ampere': 187,\n",
       "         'throw': 19,\n",
       "         'dirt': 20,\n",
       "         'wound': 1,\n",
       "         'x200b': 131,\n",
       "         'edit': 182,\n",
       "         'absolutely': 111,\n",
       "         'wrecking': 1,\n",
       "         'shop': 19,\n",
       "         'thread': 60,\n",
       "         'deleted': 6,\n",
       "         'aswell': 8,\n",
       "         'post': 87,\n",
       "         'r': 73,\n",
       "         'p': 44,\n",
       "         'offer': 135,\n",
       "         'lying': 12,\n",
       "         'said': 518,\n",
       "         '3080': 1595,\n",
       "         '700': 124,\n",
       "         'offering': 75,\n",
       "         'better': 1224,\n",
       "         'isnt': 27,\n",
       "         'spectacular': 4,\n",
       "         '3070': 1475,\n",
       "         'thinking': 115,\n",
       "         'fucking': 98,\n",
       "         'insane': 74,\n",
       "         'pull': 71,\n",
       "         '5700xt': 323,\n",
       "         'wish': 50,\n",
       "         'exaggerating': 2,\n",
       "         'ready': 89,\n",
       "         'score': 15,\n",
       "         'second': 106,\n",
       "         'hand': 145,\n",
       "         'gpu': 1063,\n",
       "         'half': 106,\n",
       "         'priced': 158,\n",
       "         'people': 1087,\n",
       "         'jumping': 8,\n",
       "         'hype_train': 6,\n",
       "         'key': 16,\n",
       "         'thought': 144,\n",
       "         'pipeline': 13,\n",
       "         'plateaued': 1,\n",
       "         'dropped': 40,\n",
       "         '100': 208,\n",
       "         'track_record': 7,\n",
       "         'drop': 186,\n",
       "         'actually': 515,\n",
       "         'weird': 87,\n",
       "         'casually': 5,\n",
       "         'follows': 2,\n",
       "         'hardware': 312,\n",
       "         'news': 51,\n",
       "         'looking': 251,\n",
       "         'upgrade': 260,\n",
       "         'bit': 354,\n",
       "         'stockholm': 1,\n",
       "         'syndrome': 1,\n",
       "         'prospect': 3,\n",
       "         '400': 124,\n",
       "         '3060': 79,\n",
       "         'deal': 204,\n",
       "         'x': 138,\n",
       "         '2060': 54,\n",
       "         'supposed': 55,\n",
       "         'happen': 59,\n",
       "         'launch': 465,\n",
       "         'product': 275,\n",
       "         'line': 208,\n",
       "         'gotten': 33,\n",
       "         'way': 507,\n",
       "         'control': 84,\n",
       "         'attention': 20,\n",
       "         'look': 693,\n",
       "         'cooking': 6,\n",
       "         'probably': 695,\n",
       "         'hear': 48,\n",
       "         'soon': 131,\n",
       "         'feel': 221,\n",
       "         'doa': 23,\n",
       "         'let': 237,\n",
       "         'pas': 24,\n",
       "         'change': 126,\n",
       "         'marketing': 132,\n",
       "         'strategy': 32,\n",
       "         'big_navi': 122,\n",
       "         'maybe': 385,\n",
       "         'changing': 11,\n",
       "         'medium': 35,\n",
       "         'navi': 85,\n",
       "         'blowing': 11,\n",
       "         'park': 11,\n",
       "         'forced': 28,\n",
       "         'innovate': 4,\n",
       "         'hope': 248,\n",
       "         'respond': 10,\n",
       "         'polaris': 14,\n",
       "         'replacement': 21,\n",
       "         'sold': 111,\n",
       "         '399': 20,\n",
       "         '299': 9,\n",
       "         'year': 759,\n",
       "         'ago': 170,\n",
       "         'press': 9,\n",
       "         'f': 27,\n",
       "         'bought': 205,\n",
       "         '6': 122,\n",
       "         'month': 304,\n",
       "         'mod': 22,\n",
       "         'removing': 10,\n",
       "         'lmao': 99,\n",
       "         'doubling': 11,\n",
       "         'spec': 62,\n",
       "         'rtx': 827,\n",
       "         'beat': 197,\n",
       "         '30': 156,\n",
       "         'rdna1': 19,\n",
       "         'barely': 61,\n",
       "         'scared': 34,\n",
       "         'losing': 20,\n",
       "         'money': 306,\n",
       "         'asap': 12,\n",
       "         '80': 230,\n",
       "         'true': 228,\n",
       "         'knock': 7,\n",
       "         'worried': 55,\n",
       "         'inclined': 4,\n",
       "         'concern': 50,\n",
       "         'able': 275,\n",
       "         'fit': 42,\n",
       "         '2080': 136,\n",
       "         'tier': 115,\n",
       "         'xbox': 110,\n",
       "         'series': 356,\n",
       "         'speaks': 3,\n",
       "         'volume': 13,\n",
       "         'familiar': 6,\n",
       "         'built': 62,\n",
       "         'mean': 510,\n",
       "         'likely': 274,\n",
       "         'sell': 263,\n",
       "         '300': 92,\n",
       "         'cost': 281,\n",
       "         'release': 366,\n",
       "         'detail': 48,\n",
       "         'supply': 131,\n",
       "         'catch': 45,\n",
       "         'demand': 87,\n",
       "         '3000': 55,\n",
       "         'wait': 615,\n",
       "         'know': 865,\n",
       "         'forthcoming': 1,\n",
       "         'info': 101,\n",
       "         'assume': 82,\n",
       "         'par': 69,\n",
       "         'dead': 59,\n",
       "         'arrives': 6,\n",
       "         'yeap': 1,\n",
       "         'doubt': 114,\n",
       "         'answer': 115,\n",
       "         'yep': 58,\n",
       "         'fanboy': 44,\n",
       "         'slapped': 6,\n",
       "         'today': 202,\n",
       "         'spot': 22,\n",
       "         'ratio': 27,\n",
       "         'worse': 234,\n",
       "         '5600': 34,\n",
       "         'xt': 469,\n",
       "         'february': 15,\n",
       "         'retrospective': 1,\n",
       "         'ton': 54,\n",
       "         'driver': 670,\n",
       "         'error': 38,\n",
       "         'exchange': 5,\n",
       "         'different': 194,\n",
       "         'model': 165,\n",
       "         'announcement': 54,\n",
       "         'starting': 31,\n",
       "         'pretty': 418,\n",
       "         'bad': 311,\n",
       "         'decision': 75,\n",
       "         'card': 1435,\n",
       "         'affordable': 17,\n",
       "         'budget': 157,\n",
       "         'beast': 22,\n",
       "         'knocked': 2,\n",
       "         'ryzen': 204,\n",
       "         'moment': 70,\n",
       "         'radeon': 186,\n",
       "         'sadly': 30,\n",
       "         'steam': 22,\n",
       "         'user': 98,\n",
       "         '2080_ti': 166,\n",
       "         'make_sense': 78,\n",
       "         'gamers': 121,\n",
       "         'help': 107,\n",
       "         'cpu': 728,\n",
       "         'sale': 102,\n",
       "         'positive': 12,\n",
       "         'pick': 59,\n",
       "         '1080ti': 58,\n",
       "         '200': 79,\n",
       "         'rendering': 80,\n",
       "         'rig': 51,\n",
       "         'dominated': 4,\n",
       "         'scene': 17,\n",
       "         'competent': 5,\n",
       "         'future': 171,\n",
       "         'nonsense': 8,\n",
       "         'aside': 28,\n",
       "         'appear': 14,\n",
       "         'lot': 429,\n",
       "         'ray_tracing': 734,\n",
       "         'chart': 65,\n",
       "         'relative': 24,\n",
       "         'improvement': 105,\n",
       "         'game': 1436,\n",
       "         'setting': 150,\n",
       "         'long': 204,\n",
       "         'claimed': 24,\n",
       "         '2xperformance': 1,\n",
       "         'watt': 90,\n",
       "         'codename': 1,\n",
       "         'upcoming': 50,\n",
       "         'killer': 46,\n",
       "         'final': 24,\n",
       "         'company': 204,\n",
       "         'confident': 22,\n",
       "         'comparable': 65,\n",
       "         'stack': 52,\n",
       "         'vega': 43,\n",
       "         'animal': 3,\n",
       "         'real': 196,\n",
       "         'separated': 1,\n",
       "         'gaming': 530,\n",
       "         'enterprise': 7,\n",
       "         'show': 58,\n",
       "         'msrp': 161,\n",
       "         'luck': 99,\n",
       "         'finding': 15,\n",
       "         'decided': 41,\n",
       "         'spin': 4,\n",
       "         'matrix': 4,\n",
       "         'based': 176,\n",
       "         'baseline': 11,\n",
       "         'benchmark': 546,\n",
       "         'hardware_unboxed': 19,\n",
       "         'saw': 97,\n",
       "         'went': 150,\n",
       "         'ahead': 93,\n",
       "         'placed': 24,\n",
       "         'stuck': 38,\n",
       "         'claim': 93,\n",
       "         'fps': 333,\n",
       "         'calculated': 2,\n",
       "         'percentage': 16,\n",
       "         'increase': 157,\n",
       "         'column': 1,\n",
       "         'apu': 17,\n",
       "         'getting': 433,\n",
       "         'level': 171,\n",
       "         '36cus': 2,\n",
       "         'limited': 71,\n",
       "         'cooling': 19,\n",
       "         'scale': 54,\n",
       "         '72cus': 1,\n",
       "         'satisfied': 3,\n",
       "         'confirmed': 42,\n",
       "         'fabbed': 2,\n",
       "         'meaning': 32,\n",
       "         'minimum': 25,\n",
       "         'slight': 27,\n",
       "         'transistor_density': 7,\n",
       "         'tsmc_n7': 11,\n",
       "         '500': 438,\n",
       "         'mm': 13,\n",
       "         'die': 99,\n",
       "         'easily': 68,\n",
       "         'exceed': 8,\n",
       "         'transistor_count': 8,\n",
       "         'ga102': 10,\n",
       "         'zen': 161,\n",
       "         'honest': 47,\n",
       "         '3090': 950,\n",
       "         'bet': 76,\n",
       "         'phenomenal': 3,\n",
       "         'day': 346,\n",
       "         'intend': 7,\n",
       "         'announce': 40,\n",
       "         'week': 184,\n",
       "         'time': 827,\n",
       "         'presentation': 92,\n",
       "         'dl': 1490,\n",
       "         'v': 335,\n",
       "         'damn': 96,\n",
       "         'slide': 103,\n",
       "         'rasterization': 93,\n",
       "         'bee': 1,\n",
       "         'seen': 164,\n",
       "         'freaking': 22,\n",
       "         'pr': 3,\n",
       "         'hype': 53,\n",
       "         'fluff': 3,\n",
       "         'review': 304,\n",
       "         'depends': 101,\n",
       "         'set': 116,\n",
       "         'knew': 36,\n",
       "         'reason': 276,\n",
       "         'holding': 25,\n",
       "         'giving': 45,\n",
       "         'wife': 19,\n",
       "         'raytracing': 345,\n",
       "         'man': 108,\n",
       "         'instantly': 10,\n",
       "         'lose': 49,\n",
       "         'high_end': 194,\n",
       "         'market': 277,\n",
       "         'go': 74,\n",
       "         'powerful': 72,\n",
       "         'felt': 16,\n",
       "         'push': 99,\n",
       "         'hard': 145,\n",
       "         'navi2': 1,\n",
       "         'expect': 168,\n",
       "         'end': 348,\n",
       "         '0': 283,\n",
       "         'vram': 643,\n",
       "         '16gb': 218,\n",
       "         'vrs': 4,\n",
       "         'ri': 11,\n",
       "         'instead': 167,\n",
       "         '599': 21,\n",
       "         '649': 61,\n",
       "         'calculation': 16,\n",
       "         '2x': 52,\n",
       "         'aka': 19,\n",
       "         '57000xt': 1,\n",
       "         'general': 64,\n",
       "         'vega_56': 18,\n",
       "         'strong': 17,\n",
       "         'remember': 94,\n",
       "         'folk': 25,\n",
       "         'flagship': 63,\n",
       "         'replaced': 9,\n",
       "         'including': 46,\n",
       "         'digital_foundry': 25,\n",
       "         'bench': 44,\n",
       "         'rtx2080': 4,\n",
       "         'founder_edition': 27,\n",
       "         'rtx3080': 20,\n",
       "         '25': 44,\n",
       "         'especially': 185,\n",
       "         'tag': 18,\n",
       "         'brought': 21,\n",
       "         'table': 14,\n",
       "         '35': 20,\n",
       "         'ground': 14,\n",
       "         'additional': 37,\n",
       "         'clock_speed': 24,\n",
       "         'bandwidth': 65,\n",
       "         '7na': 1,\n",
       "         'mention': 113,\n",
       "         'handle': 53,\n",
       "         'rumor': 56,\n",
       "         'laden': 1,\n",
       "         'paper': 28,\n",
       "         'promise': 22,\n",
       "         'achievable': 3,\n",
       "         'awesome': 61,\n",
       "         'cringe': 7,\n",
       "         'hey': 27,\n",
       "         'buddy': 29,\n",
       "         'tell': 144,\n",
       "         'entire': 51,\n",
       "         'buyer': 61,\n",
       "         '1400': 11,\n",
       "         'component': 46,\n",
       "         'spent': 24,\n",
       "         'reddit': 34,\n",
       "         'pcmr': 1,\n",
       "         'buildapc': 1,\n",
       "         'sorry': 90,\n",
       "         'kill': 42,\n",
       "         'generally': 46,\n",
       "         'build': 145,\n",
       "         'gtx': 43,\n",
       "         '1060': 30,\n",
       "         'paid': 68,\n",
       "         '2016': 14,\n",
       "         '17': 18,\n",
       "         'advancement': 4,\n",
       "         '20': 198,\n",
       "         'rtx2080ti': 5,\n",
       "         'titan': 139,\n",
       "         'eqv': 1,\n",
       "         'comparing': 68,\n",
       "         'generates': 3,\n",
       "         'heat': 20,\n",
       "         'stupid': 60,\n",
       "         'absolute': 47,\n",
       "         'metric': 20,\n",
       "         'gave': 39,\n",
       "         'plenty': 55,\n",
       "         'act': 12,\n",
       "         'given': 107,\n",
       "         'poor': 47,\n",
       "         'forward': 41,\n",
       "         'chance': 101,\n",
       "         'get': 118,\n",
       "         'jensen': 26,\n",
       "         'releasing': 40,\n",
       "         'concerned': 25,\n",
       "         'bringing': 18,\n",
       "         '8k': 72,\n",
       "         '60fps': 59,\n",
       "         'unreal': 6,\n",
       "         'obsolete': 9,\n",
       "         'ole': 1,\n",
       "         'trolling': 13,\n",
       "         'begun': 2,\n",
       "         'nervous': 2,\n",
       "         'hit': 139,\n",
       "         'wont': 53,\n",
       "         'imo': 103,\n",
       "         'smell': 4,\n",
       "         '1500': 57,\n",
       "         'cuda_core': 36,\n",
       "         'pulling': 17,\n",
       "         'sneaky': 3,\n",
       "         'super': 201,\n",
       "         'speculated': 3,\n",
       "         'upset': 8,\n",
       "         'curious': 68,\n",
       "         'architecture': 85,\n",
       "         'form': 20,\n",
       "         'opinion': 62,\n",
       "         'pre_order': 54,\n",
       "         'date': 60,\n",
       "         'honesty': 5,\n",
       "         'event': 35,\n",
       "         'totally': 68,\n",
       "         'simply': 104,\n",
       "         'expertise': 5,\n",
       "         'raw': 66,\n",
       "         'stronger': 12,\n",
       "         'fair': 131,\n",
       "         'kind': 123,\n",
       "         'hoped': 11,\n",
       "         'needed': 71,\n",
       "         'xfx': 16,\n",
       "         'rx': 280,\n",
       "         '5700': 54,\n",
       "         'finger': 12,\n",
       "         'division': 8,\n",
       "         'soc': 3,\n",
       "         'supplier': 9,\n",
       "         'pleasantly': 2,\n",
       "         'surprised': 62,\n",
       "         'providing': 11,\n",
       "         'pricepoint': 7,\n",
       "         'onus': 1,\n",
       "         'prove': 7,\n",
       "         '9': 79,\n",
       "         'loose': 8,\n",
       "         'win': 150,\n",
       "         'agree': 148,\n",
       "         'exclusive': 42,\n",
       "         'technology': 111,\n",
       "         'showed': 141,\n",
       "         'superb': 1,\n",
       "         'care': 264,\n",
       "         'afford': 55,\n",
       "         'gimme': 5,\n",
       "         '450': 35,\n",
       "         'smth': 5,\n",
       "         'considering': 168,\n",
       "         'rayttracing': 1,\n",
       "         'implementation': 95,\n",
       "         '2nd': 16,\n",
       "         'gen': 321,\n",
       "         'possible': 122,\n",
       "         'word': 64,\n",
       "         'watched': 20,\n",
       "         'beautiful': 7,\n",
       "         'whoosh': 1,\n",
       "         'life': 64,\n",
       "         'triple': 17,\n",
       "         'boot': 16,\n",
       "         'linux': 125,\n",
       "         'mac': 14,\n",
       "         'issue': 441,\n",
       "         'write': 18,\n",
       "         'took': 68,\n",
       "         'intel': 338,\n",
       "         'cleaner': 2,\n",
       "         'past': 87,\n",
       "         'faith': 9,\n",
       "         'close': 189,\n",
       "         'best': 371,\n",
       "         'team': 52,\n",
       "         '4700': 1,\n",
       "         'hot': 35,\n",
       "         'setup': 39,\n",
       "         'idgaf': 2,\n",
       "         'graphic': 198,\n",
       "         'provides': 18,\n",
       "         'pulled': 16,\n",
       "         'astonishing': 3,\n",
       "         'famboy': 1,\n",
       "         'crazy': 65,\n",
       "         'stop': 75,\n",
       "         'simping': 1,\n",
       "         'private': 5,\n",
       "         'reasonable': 61,\n",
       "         'certainly': 49,\n",
       "         'played': 34,\n",
       "         'role': 9,\n",
       "         'carried': 6,\n",
       "         'ps5': 109,\n",
       "         'openly': 2,\n",
       "         'stock': 590,\n",
       "         'test': 58,\n",
       "         'number': 286,\n",
       "         'face': 21,\n",
       "         'interested': 70,\n",
       "         'love': 92,\n",
       "         'unlike': 22,\n",
       "         'walt': 1,\n",
       "         'gonna': 253,\n",
       "         'world': 59,\n",
       "         'actual': 107,\n",
       "         'nice': 162,\n",
       "         'definitely': 218,\n",
       "         'ironically': 2,\n",
       "         'war': 34,\n",
       "         'minded': 5,\n",
       "         'builder': 7,\n",
       "         'king': 26,\n",
       "         'personally': 93,\n",
       "         'flop': 10,\n",
       "         'incredible': 12,\n",
       "         'value': 255,\n",
       "         'resource': 21,\n",
       "         'fight': 23,\n",
       "         'higher': 311,\n",
       "         'consumer': 137,\n",
       "         'terrified': 2,\n",
       "         'fastest': 17,\n",
       "         'play': 285,\n",
       "         '1440p': 351,\n",
       "         'solid': 60,\n",
       "         'option': 160,\n",
       "         'presented': 9,\n",
       "         'type': 65,\n",
       "         'misleading': 16,\n",
       "         'term': 117,\n",
       "         'non': 151,\n",
       "         'channel': 24,\n",
       "         'hesitate': 2,\n",
       "         'outright': 14,\n",
       "         'lost': 30,\n",
       "         'run': 283,\n",
       "         'redline': 2,\n",
       "         'reliability': 7,\n",
       "         'longstanding': 1,\n",
       "         'history': 25,\n",
       "         '5700_xt': 87,\n",
       "         'matching': 25,\n",
       "         '2070_super': 43,\n",
       "         'treat': 4,\n",
       "         'grinding': 1,\n",
       "         'corpse': 1,\n",
       "         'recently': 35,\n",
       "         'bomb': 3,\n",
       "         'industry': 39,\n",
       "         'competetive': 3,\n",
       "         'dang': 11,\n",
       "         'fanboys': 31,\n",
       "         'grim': 8,\n",
       "         '2015': 7,\n",
       "         'pointed': 6,\n",
       "         'sign': 30,\n",
       "         'expects': 1,\n",
       "         'rtg': 4,\n",
       "         'kopite7kimi': 1,\n",
       "         'tweet': 8,\n",
       "         'suggests': 8,\n",
       "         'department': 19,\n",
       "         'genuinely': 20,\n",
       "         'hyped': 19,\n",
       "         'derail': 1,\n",
       "         'board': 126,\n",
       "         'taken': 22,\n",
       "         'flak': 1,\n",
       "         'quality': 106,\n",
       "         'riding': 2,\n",
       "         'shoulder': 2,\n",
       "         'deliver': 39,\n",
       "         'mind': 104,\n",
       "         'share': 40,\n",
       "         'market_share': 34,\n",
       "         'missing': 46,\n",
       "         'related': 15,\n",
       "         'original': 41,\n",
       "         'phenom': 4,\n",
       "         'hell': 74,\n",
       "         'impressed': 23,\n",
       "         'sad': 39,\n",
       "         'hold': 89,\n",
       "         'weaker': 9,\n",
       "         'buying': 228,\n",
       "         'optimistic': 14,\n",
       "         'availability': 115,\n",
       "         'paper_launch': 42,\n",
       "         'real_world': 34,\n",
       "         'unknown': 19,\n",
       "         'impressive': 52,\n",
       "         'draw': 35,\n",
       "         'conclusion': 20,\n",
       "         'turn': 94,\n",
       "         'advertised': 13,\n",
       "         'exact': 44,\n",
       "         'livestream': 2,\n",
       "         'typing': 3,\n",
       "         'rip': 66,\n",
       "         'missile': 1,\n",
       "         'targeting': 11,\n",
       "         'facility': 1,\n",
       "         '1111': 1,\n",
       "         'sweetspot': 2,\n",
       "         '580': 73,\n",
       "         'yes': 358,\n",
       "         'pray': 5,\n",
       "         'content': 24,\n",
       "         'reality': 27,\n",
       "         'live': 76,\n",
       "         'mid': 74,\n",
       "         'stuff': 149,\n",
       "         '10x': 5,\n",
       "         '580s': 2,\n",
       "         'victory': 8,\n",
       "         'clearly': 69,\n",
       "         'scream': 1,\n",
       "         'desperate': 5,\n",
       "         'put': 24,\n",
       "         'try': 160,\n",
       "         'nvidea': 8,\n",
       "         'consistently': 18,\n",
       "         'milked': 3,\n",
       "         'customer': 74,\n",
       "         'mid_range': 80,\n",
       "         'smaller': 62,\n",
       "         'chip': 164,\n",
       "         'charging': 12,\n",
       "         '15': 171,\n",
       "         '1080': 74,\n",
       "         '16': 55,\n",
       "         'literally': 197,\n",
       "         'enter': 9,\n",
       "         'space': 62,\n",
       "         'highest': 29,\n",
       "         'latest': 41,\n",
       "         '251mm': 2,\n",
       "         'usually': 87,\n",
       "         'flexing': 1,\n",
       "         'dominant': 4,\n",
       "         'announces': 6,\n",
       "         '27': 8,\n",
       "         'pound': 4,\n",
       "         'slot': 35,\n",
       "         'unprecedented': 4,\n",
       "         'connector': 9,\n",
       "         'fiji': 3,\n",
       "         'pro': 41,\n",
       "         'duo': 1,\n",
       "         'halo': 11,\n",
       "         'nvidias': 62,\n",
       "         'behavior': 7,\n",
       "         'increasing': 14,\n",
       "         'gap': 78,\n",
       "         'decreasing': 4,\n",
       "         'cap': 15,\n",
       "         'silly': 22,\n",
       "         'sheer': 5,\n",
       "         'stupidity': 5,\n",
       "         'disruptive': 6,\n",
       "         '4k': 567,\n",
       "         '56': 3,\n",
       "         'cu': 97,\n",
       "         '8ghz': 1,\n",
       "         'hitting': 14,\n",
       "         '2080s': 20,\n",
       "         'fully': 62,\n",
       "         'unleashed': 1,\n",
       "         '70': 88,\n",
       "         '2ghz': 5,\n",
       "         'dedicated': 49,\n",
       "         'fast': 62,\n",
       "         'gddr6': 66,\n",
       "         '6x': 8,\n",
       "         'efficient': 53,\n",
       "         'severely': 7,\n",
       "         'feature': 579,\n",
       "         'decade': 35,\n",
       "         'awful': 12,\n",
       "         'compared': 197,\n",
       "         'yea': 83,\n",
       "         'check': 90,\n",
       "         'mate': 25,\n",
       "         'unfortunately': 64,\n",
       "         'sleeve': 11,\n",
       "         'premium': 49,\n",
       "         'pay': 208,\n",
       "         'packing': 4,\n",
       "         'constant': 5,\n",
       "         'innovation': 12,\n",
       "         'trust': 37,\n",
       "         'ehm': 1,\n",
       "         '320w': 12,\n",
       "         'doubled': 14,\n",
       "         '335w': 1,\n",
       "         'roughly': 54,\n",
       "         'add': 89,\n",
       "         'architectural': 8,\n",
       "         'position': 29,\n",
       "         'basically': 186,\n",
       "         'performing': 30,\n",
       "         'perform': 68,\n",
       "         'aroung': 1,\n",
       "         '2070super': 5,\n",
       "         'difference': 343,\n",
       "         'reflex': 10,\n",
       "         'compare': 100,\n",
       "         'custom': 49,\n",
       "         'ssd': 33,\n",
       "         'sony': 23,\n",
       "         'pcie_4': 26,\n",
       "         'specialized': 6,\n",
       "         'method': 19,\n",
       "         'moving': 27,\n",
       "         'asset': 13,\n",
       "         'similar': 219,\n",
       "         'independent': 42,\n",
       "         'benchmarking': 7,\n",
       "         'confirm': 33,\n",
       "         'investment': 11,\n",
       "         'magic': 15,\n",
       "         'baked': 9,\n",
       "         'sony_microsoft': 13,\n",
       "         'launching': 18,\n",
       "         'imagine': 92,\n",
       "         'sub': 73,\n",
       "         'lowering': 12,\n",
       "         'node': 85,\n",
       "         'expensive': 218,\n",
       "         'featureset': 5,\n",
       "         'aither': 1,\n",
       "         'talking': 180,\n",
       "         'defeating': 1,\n",
       "         'secure': 7,\n",
       "         'low': 154,\n",
       "         'leaf': 9,\n",
       "         'hole': 4,\n",
       "         'unhappy': 1,\n",
       "         'guess': 287,\n",
       "         'ask': 73,\n",
       "         'stay': 49,\n",
       "         'holiday_season': 7,\n",
       "         'energy': 9,\n",
       "         'laptop': 35,\n",
       "         'relatively': 38,\n",
       "         '10': 314,\n",
       "         '8': 187,\n",
       "         'gb': 48,\n",
       "         'memory': 429,\n",
       "         'respectively': 8,\n",
       "         '12gb': 27,\n",
       "         'hbm': 2,\n",
       "         'land': 14,\n",
       "         'g6x': 11,\n",
       "         'acting': 15,\n",
       "         'doomers': 1,\n",
       "         'wah': 1,\n",
       "         'stfu': 4,\n",
       "         'reveal': 24,\n",
       "         'kinda': 111,\n",
       "         'cool': 64,\n",
       "         'use': 514,\n",
       "         'video': 228,\n",
       "         'alpha': 3,\n",
       "         'minecraft': 38,\n",
       "         'stated': 38,\n",
       "         'meme': 21,\n",
       "         'picture': 28,\n",
       "         'removed': 9,\n",
       "         'lame': 6,\n",
       "         'duck': 2,\n",
       "         'shown': 87,\n",
       "         'equal': 76,\n",
       "         'graph': 78,\n",
       "         'voice': 7,\n",
       "         'slightly': 169,\n",
       "         '1200': 35,\n",
       "         'huge': 161,\n",
       "         'typical': 10,\n",
       "         'thing': 218,\n",
       "         'prof': 4,\n",
       "         'information': 66,\n",
       "         'assuming': 84,\n",
       "         'bring': 59,\n",
       "         'combatant': 1,\n",
       "         '600': 88,\n",
       "         'breaking': 5,\n",
       "         'lisa_su': 14,\n",
       "         'saying': 240,\n",
       "         'disrupt': 4,\n",
       "         'disrupted': 1,\n",
       "         'desktop': 31,\n",
       "         '1800x': 2,\n",
       "         '1000': 93,\n",
       "         'preemptively': 1,\n",
       "         'shoot': 9,\n",
       "         'dollar': 159,\n",
       "         'blow': 36,\n",
       "         'doubting': 3,\n",
       "         'lisa': 25,\n",
       "         'sue': 5,\n",
       "         'bae': 3,\n",
       "         'surely': 20,\n",
       "         'showing': 58,\n",
       "         'remain': 10,\n",
       "         'high': 259,\n",
       "         'continous': 1,\n",
       "         'hiking': 1,\n",
       "         'surprise': 18,\n",
       "         'small': 81,\n",
       "         'dy': 28,\n",
       "         'undercutting': 8,\n",
       "         'atleast': 21,\n",
       "         'till': 53,\n",
       "         'hd4850': 1,\n",
       "         'gtx260': 1,\n",
       "         '280': 8,\n",
       "         'ive': 10,\n",
       "         'planning': 60,\n",
       "         'switch': 65,\n",
       "         'nail': 5,\n",
       "         'coffin': 2,\n",
       "         'trashfire': 1,\n",
       "         '3080s': 32,\n",
       "         'wdym': 3,\n",
       "         'shat': 2,\n",
       "         'counterpart': 19,\n",
       "         'bracket': 17,\n",
       "         'betting': 11,\n",
       "         'prowess': 5,\n",
       "         'integrated': 13,\n",
       "         'argument': 68,\n",
       "         'doom': 5,\n",
       "         'sayers': 2,\n",
       "         'forgetting': 11,\n",
       "         'xboxsx': 3,\n",
       "         'tflops': 27,\n",
       "         'microsoft': 62,\n",
       "         'power_draw': 34,\n",
       "         'previous': 53,\n",
       "         'max': 82,\n",
       "         '170': 4,\n",
       "         'ram': 185,\n",
       "         'drive': 38,\n",
       "         '220': 5,\n",
       "         'wattage': 19,\n",
       "         'incomparable': 1,\n",
       "         'break': 28,\n",
       "         'abit': 4,\n",
       "         'storage': 9,\n",
       "         'take': 38,\n",
       "         'significant': 48,\n",
       "         'portion': 16,\n",
       "         'perf': 120,\n",
       "         'insider': 6,\n",
       "         'explain': 45,\n",
       "         'increased': 29,\n",
       "         'envelope': 5,\n",
       "         'omg': 12,\n",
       "         'downvote': 5,\n",
       "         'drinking': 3,\n",
       "         'green': 31,\n",
       "         'kool': 3,\n",
       "         'aid': 4,\n",
       "         'admit': 21,\n",
       "         'owned': 27,\n",
       "         'mighty': 3,\n",
       "         'delicious': 1,\n",
       "         'owning': 6,\n",
       "         'outside': 45,\n",
       "         'twice': 57,\n",
       "         'xsx': 30,\n",
       "         '58tf': 1,\n",
       "         'idea': 122,\n",
       "         'tensor_core': 64,\n",
       "         'boost': 120,\n",
       "         'decent': 104,\n",
       "         'certain': 49,\n",
       "         'restriction': 4,\n",
       "         'unlikely': 30,\n",
       "         'equivalent': 106,\n",
       "         ...})"
      ]
     },
     "execution_count": 52,
     "metadata": {},
     "output_type": "execute_result"
    }
   ],
   "source": [
    "data_flat = [word for word_lst in data_bigrams for word in word_lst] # Creates a list of words \n",
    "counter = Counter(data_flat) # Counts the frequency of the tokens and stores in a dictionary\n",
    "counter"
   ]
  },
  {
   "cell_type": "code",
   "execution_count": 53,
   "metadata": {
    "ExecuteTime": {
     "end_time": "2021-01-25T13:07:05.009244Z",
     "start_time": "2021-01-25T13:07:04.994230Z"
    },
    "scrolled": true
   },
   "outputs": [
    {
     "data": {
      "text/html": [
       "<div>\n",
       "<style scoped>\n",
       "    .dataframe tbody tr th:only-of-type {\n",
       "        vertical-align: middle;\n",
       "    }\n",
       "\n",
       "    .dataframe tbody tr th {\n",
       "        vertical-align: top;\n",
       "    }\n",
       "\n",
       "    .dataframe thead th {\n",
       "        text-align: right;\n",
       "    }\n",
       "</style>\n",
       "<table border=\"1\" class=\"dataframe\">\n",
       "  <thead>\n",
       "    <tr style=\"text-align: right;\">\n",
       "      <th></th>\n",
       "      <th>word</th>\n",
       "      <th>topic_id</th>\n",
       "      <th>importance</th>\n",
       "      <th>word_count</th>\n",
       "    </tr>\n",
       "  </thead>\n",
       "  <tbody>\n",
       "    <tr>\n",
       "      <th>0</th>\n",
       "      <td>gpu</td>\n",
       "      <td>0</td>\n",
       "      <td>0.052875</td>\n",
       "      <td>1063</td>\n",
       "    </tr>\n",
       "    <tr>\n",
       "      <th>1</th>\n",
       "      <td>cpu</td>\n",
       "      <td>0</td>\n",
       "      <td>0.036212</td>\n",
       "      <td>728</td>\n",
       "    </tr>\n",
       "    <tr>\n",
       "      <th>2</th>\n",
       "      <td>vram</td>\n",
       "      <td>0</td>\n",
       "      <td>0.031984</td>\n",
       "      <td>643</td>\n",
       "    </tr>\n",
       "    <tr>\n",
       "      <th>3</th>\n",
       "      <td>lower</td>\n",
       "      <td>0</td>\n",
       "      <td>0.017608</td>\n",
       "      <td>355</td>\n",
       "    </tr>\n",
       "    <tr>\n",
       "      <th>4</th>\n",
       "      <td>end</td>\n",
       "      <td>0</td>\n",
       "      <td>0.017310</td>\n",
       "      <td>348</td>\n",
       "    </tr>\n",
       "  </tbody>\n",
       "</table>\n",
       "</div>"
      ],
      "text/plain": [
       "    word  topic_id  importance  word_count\n",
       "0    gpu         0    0.052875        1063\n",
       "1    cpu         0    0.036212         728\n",
       "2   vram         0    0.031984         643\n",
       "3  lower         0    0.017608         355\n",
       "4    end         0    0.017310         348"
      ]
     },
     "execution_count": 53,
     "metadata": {},
     "output_type": "execute_result"
    }
   ],
   "source": [
    "out = [[word, i , weight, counter[word]] for i, topic in topics for word, weight in topic]\n",
    "df = pd.DataFrame(out, columns=['word', 'topic_id', 'importance', 'word_count'])\n",
    "df.head()"
   ]
  },
  {
   "cell_type": "code",
   "execution_count": 54,
   "metadata": {
    "ExecuteTime": {
     "end_time": "2021-01-25T13:07:06.576672Z",
     "start_time": "2021-01-25T13:07:05.009244Z"
    }
   },
   "outputs": [
    {
     "data": {
      "image/png": "[encoded data removed]",
      "text/plain": [
       "<Figure size 1152x1008 with 12 Axes>"
      ]
     },
     "metadata": {},
     "output_type": "display_data"
    }
   ],
   "source": [
    "# Plot Word Count and Weights of Topic Keywords\n",
    "fig, axes = plt.subplots(3, 2, figsize=(16,14), sharey=True)\n",
    "cols = [color for name, color in mcolors.TABLEAU_COLORS.items()]\n",
    "\n",
    "for i, ax in enumerate(axes.flatten()):\n",
    "    ax.bar(x='word', height=\"importance\", data=df.loc[df.topic_id==i, :], color=cols[i], width=0.5, alpha=0.3, label='Weights')\n",
    "    ax_twin = ax.twinx()\n",
    "    ax_twin.bar(x='word', height=\"word_count\", data=df.loc[df.topic_id==i, :], color=cols[i], width=0.2, label='Word Count')\n",
    "    ax.set_ylabel('Weights', color=cols[i])\n",
    "    ax_twin.set_ylabel('Word Count', color=cols[i])\n",
    "    # Sets the ylimits for the axes\n",
    "    #ax_twin.set_ylim(0, 0.030)\n",
    "    #ax.set_ylim(0, 3500)\n",
    "    ax.set_title('Topic: ' + str(i), color=cols[i], fontsize=16)\n",
    "    ax.tick_params(axis='y', left=False)\n",
    "    ax.set_xticks(np.arange(10))\n",
    "    ax.set_xticklabels(df.loc[df.topic_id==i, 'word'].tolist(), rotation=30, horizontalalignment= 'right', fontsize=12)\n",
    "    ax_twin.legend(loc=[0.80,0.82])\n",
    "    ax.legend(loc=[0.80,0.90])\n",
    "    \n",
    "\n",
    "fig.tight_layout(w_pad=2)    \n",
    "fig.suptitle('Word Count and Importance of Topic Keywords', fontsize=22, y=1.05)\n",
    "plt.show()"
   ]
  },
  {
   "cell_type": "markdown",
   "metadata": {},
   "source": [
    "### Intrepreting the topic word frequency and their weights\n",
    "\n",
    "Topic 0:\n",
    "* Equally distributed weights\n",
    "* The frequency of the words have little correlation with the weights\n",
    "\n",
    "Topic 1:\n",
    "* Equally distributed weights\n",
    "* amd has the highest word frequency\n",
    "* gpu is more favoured to gpus\n",
    "\n",
    "Topic 2:\n",
    "* Performance has the highest frequency, but the weights are not that high\n",
    "* Gaming features: dlss has a higher weight and frequency compared to ray_tracing, which possibly means a more favoured feature among gamers.\n",
    "* Resolution: Surprisingly, 4k resolution has a higher frequency and weight compared to 1440p resolution, which is not so main stream yet. 1440p resolution is reaching mainstream crowd.\n",
    "\n",
    "Topic 3:\n",
    "* Relating to GPU purchase during the launch\n",
    "* card seems to appear often, possibly could include in the stopwords\n",
    "* lol, yeah seems to make little sense here, could add to stopwords\n",
    "\n",
    "Topic 4:\n",
    "* The GPU models have a relatively higher word count compared to their frequency\n",
    "* Nvidia's RTX 3070 and 3080 seems to be favoured over the other GPU models\n",
    "\n",
    "Topic 5:\n",
    "* Compared to the other topics, the weights are equal to or higher than their word count.\n",
    "* good and great share a similar meaning, could potentially add one of the to stopwords."
   ]
  },
  {
   "cell_type": "markdown",
   "metadata": {},
   "source": [
    "# Most discussed topics in the documents (Possibly remove)"
   ]
  },
  {
   "cell_type": "markdown",
   "metadata": {},
   "source": [
    "Note: It'll take **more than an hour** to run if all the documents are added."
   ]
  },
  {
   "cell_type": "code",
   "execution_count": 55,
   "metadata": {
    "ExecuteTime": {
     "end_time": "2021-01-25T13:07:06.592686Z",
     "start_time": "2021-01-25T13:07:06.577673Z"
    },
    "scrolled": true
   },
   "outputs": [],
   "source": [
    "# Sentence Coloring of N Sentences\n",
    "# def topics_per_document(model, corpus, start=0, end=1):\n",
    "#     corpus_sel = corpus[start:end] # Obtain a slice of nth documents\n",
    "#     dominant_topics = []\n",
    "#     topic_percentages = []\n",
    "#     for i, corp in enumerate(corpus_sel): # For each document\n",
    "#         doc = model[corp] # Gets the nth document\n",
    "#         dominant_topic, topic_percs = sorted(doc, key = lambda x: x[1], reverse=True)[0] # Gets the dominant topic and topic percentage by sorting the topic percentage prob in descending order\n",
    "#         dominant_topics.append((i, dominant_topic))\n",
    "#         topic_percentages.append(topic_percs)\n",
    "#     return(dominant_topics, topic_percentages)\n",
    "\n",
    "# dominant_topics, topic_percentages = topics_per_document(model=optimal_model, corpus=bigram_corpus, end=10)  "
   ]
  },
  {
   "cell_type": "code",
   "execution_count": 56,
   "metadata": {
    "ExecuteTime": {
     "end_time": "2021-01-25T13:07:06.608701Z",
     "start_time": "2021-01-25T13:07:06.593687Z"
    }
   },
   "outputs": [],
   "source": [
    "# Distribution of Dominant Topics in Each Document\n",
    "# df = pd.DataFrame(dominant_topics, columns=['Document_Id', 'Dominant_Topic'])\n",
    "# dominant_topic_in_each_doc = df.groupby('Dominant_Topic').size()\n",
    "# df_dominant_topic_in_each_doc = dominant_topic_in_each_doc.to_frame(name='count').reset_index()\n",
    "\n",
    "# Total Topic Distribution by actual weight\n",
    "# topic_weightage_by_doc = pd.DataFrame([{t} for t in topic_percentages])\n",
    "# df_topic_weightage_by_doc = topic_weightage_by_doc.sum().to_frame(name='count').reset_index()\n",
    "\n",
    "# Top 3 Keywords for each Topic\n",
    "# topic_top3words = [(i, topic) for i, topics in optimal_model.show_topics(formatted=False) \n",
    "#                                  for j, (topic, wt) in enumerate(topics) if j < 3]\n",
    "\n",
    "# df_top3words_stacked = pd.DataFrame(topic_top3words, columns=['topic_id', 'words'])\n",
    "# df_top3words = df_top3words_stacked.groupby('topic_id').agg(', '.join)\n",
    "# df_top3words.reset_index(level=0,inplace=True)"
   ]
  },
  {
   "cell_type": "code",
   "execution_count": 57,
   "metadata": {
    "ExecuteTime": {
     "end_time": "2021-01-25T13:07:06.624718Z",
     "start_time": "2021-01-25T13:07:06.609702Z"
    }
   },
   "outputs": [],
   "source": [
    "# df_top3words"
   ]
  },
  {
   "cell_type": "code",
   "execution_count": 58,
   "metadata": {
    "ExecuteTime": {
     "end_time": "2021-01-25T13:07:06.640720Z",
     "start_time": "2021-01-25T13:07:06.625718Z"
    }
   },
   "outputs": [],
   "source": [
    "# from matplotlib.ticker import FuncFormatter\n",
    "\n",
    "# # Plot\n",
    "# fig, (ax1, ax2) = plt.subplots(1, 2, figsize=(10, 4), dpi=120, sharey=True)\n",
    "\n",
    "# # Topic Distribution by Dominant Topics\n",
    "# ax1.bar(x='Dominant_Topic', height='count', data=df_dominant_topic_in_each_doc, width=.5, color='firebrick')\n",
    "# ax1.set_xticks(range(df_dominant_topic_in_each_doc.Dominant_Topic.unique().__len__()))\n",
    "# tick_formatter = FuncFormatter(lambda x, pos: 'Topic ' + str(x)+ '\\n' + df_top3words.loc[df_top3words.topic_id==x, 'words'].values[0])\n",
    "# ax1.xaxis.set_major_formatter(tick_formatter)\n",
    "# ax1.set_title('Number of Documents by Dominant Topic', fontdict=dict(size=10))\n",
    "# ax1.set_ylabel('Number of Documents')\n",
    "# ax1.set_ylim(0, 1000)\n",
    "\n",
    "# # Topic Distribution by Topic Weights\n",
    "# ax2.bar(x='index', height='count', data=df_topic_weightage_by_doc, width=.5, color='steelblue')\n",
    "# ax2.set_xticks(range(df_topic_weightage_by_doc.index.unique().__len__()))\n",
    "# ax2.xaxis.set_major_formatter(tick_formatter)\n",
    "# ax2.set_title('Number of Documents by Topic Weightage', fontdict=dict(size=10))\n",
    "\n",
    "# plt.show()"
   ]
  },
  {
   "cell_type": "markdown",
   "metadata": {},
   "source": [
    "# t-SNE Clustering Chart"
   ]
  },
  {
   "cell_type": "code",
   "execution_count": 59,
   "metadata": {
    "ExecuteTime": {
     "end_time": "2021-01-25T13:07:10.223448Z",
     "start_time": "2021-01-25T13:07:06.641720Z"
    }
   },
   "outputs": [
    {
     "name": "stdout",
     "output_type": "stream",
     "text": [
      "[t-SNE] Computing 73 nearest neighbors...\n",
      "[t-SNE] Indexed 74 samples in 0.001s...\n",
      "[t-SNE] Computed neighbors for 74 samples in 0.001s...\n",
      "[t-SNE] Computed conditional probabilities for sample 74 / 74\n",
      "[t-SNE] Mean sigma: 0.255122\n",
      "[t-SNE] KL divergence after 250 iterations with early exaggeration: 52.897312\n",
      "[t-SNE] KL divergence after 1000 iterations: 0.229635\n"
     ]
    },
    {
     "data": {
      "text/html": [
       "\n",
       "    <div class=\"bk-root\">\n",
       "        <a href=\"https://bokeh.org\" target=\"_blank\" class=\"bk-logo bk-logo-small bk-logo-notebook\"></a>\n",
       "        <span id=\"1001\">Loading BokehJS ...</span>\n",
       "    </div>"
      ]
     },
     "metadata": {},
     "output_type": "display_data"
    },
    {
     "data": {
      "application/javascript": [
       "\n",
       "(function(root) {\n",
       "  function now() {\n",
       "    return new Date();\n",
       "  }\n",
       "\n",
       "  var force = true;\n",
       "\n",
       "  if (typeof root._bokeh_onload_callbacks === \"undefined\" || force === true) {\n",
       "    root._bokeh_onload_callbacks = [];\n",
       "    root._bokeh_is_loading = undefined;\n",
       "  }\n",
       "\n",
       "  var JS_MIME_TYPE = 'application/javascript';\n",
       "  var HTML_MIME_TYPE = 'text/html';\n",
       "  var EXEC_MIME_TYPE = 'application/vnd.bokehjs_exec.v0+json';\n",
       "  var CLASS_NAME = 'output_bokeh rendered_html';\n",
       "\n",
       "  /**\n",
       "   * Render data to the DOM node\n",
       "   */\n",
       "  function render(props, node) {\n",
       "    var script = document.createElement(\"script\");\n",
       "    node.appendChild(script);\n",
       "  }\n",
       "\n",
       "  /**\n",
       "   * Handle when an output is cleared or removed\n",
       "   */\n",
       "  function handleClearOutput(event, handle) {\n",
       "    var cell = handle.cell;\n",
       "\n",
       "    var id = cell.output_area._bokeh_element_id;\n",
       "    var server_id = cell.output_area._bokeh_server_id;\n",
       "    // Clean up Bokeh references\n",
       "    if (id != null && id in Bokeh.index) {\n",
       "      Bokeh.index[id].model.document.clear();\n",
       "      delete Bokeh.index[id];\n",
       "    }\n",
       "\n",
       "    if (server_id !== undefined) {\n",
       "      // Clean up Bokeh references\n",
       "      var cmd = \"from bokeh.io.state import curstate; print(curstate().uuid_to_server['\" + server_id + \"'].get_sessions()[0].document.roots[0]._id)\";\n",
       "      cell.notebook.kernel.execute(cmd, {\n",
       "        iopub: {\n",
       "          output: function(msg) {\n",
       "            var id = msg.content.text.trim();\n",
       "            if (id in Bokeh.index) {\n",
       "              Bokeh.index[id].model.document.clear();\n",
       "              delete Bokeh.index[id];\n",
       "            }\n",
       "          }\n",
       "        }\n",
       "      });\n",
       "      // Destroy server and session\n",
       "      var cmd = \"import bokeh.io.notebook as ion; ion.destroy_server('\" + server_id + \"')\";\n",
       "      cell.notebook.kernel.execute(cmd);\n",
       "    }\n",
       "  }\n",
       "\n",
       "  /**\n",
       "   * Handle when a new output is added\n",
       "   */\n",
       "  function handleAddOutput(event, handle) {\n",
       "    var output_area = handle.output_area;\n",
       "    var output = handle.output;\n",
       "\n",
       "    // limit handleAddOutput to display_data with EXEC_MIME_TYPE content only\n",
       "    if ((output.output_type != \"display_data\") || (!output.data.hasOwnProperty(EXEC_MIME_TYPE))) {\n",
       "      return\n",
       "    }\n",
       "\n",
       "    var toinsert = output_area.element.find(\".\" + CLASS_NAME.split(' ')[0]);\n",
       "\n",
       "    if (output.metadata[EXEC_MIME_TYPE][\"id\"] !== undefined) {\n",
       "      toinsert[toinsert.length - 1].firstChild.textContent = output.data[JS_MIME_TYPE];\n",
       "      // store reference to embed id on output_area\n",
       "      output_area._bokeh_element_id = output.metadata[EXEC_MIME_TYPE][\"id\"];\n",
       "    }\n",
       "    if (output.metadata[EXEC_MIME_TYPE][\"server_id\"] !== undefined) {\n",
       "      var bk_div = document.createElement(\"div\");\n",
       "      bk_div.innerHTML = output.data[HTML_MIME_TYPE];\n",
       "      var script_attrs = bk_div.children[0].attributes;\n",
       "      for (var i = 0; i < script_attrs.length; i++) {\n",
       "        toinsert[toinsert.length - 1].firstChild.setAttribute(script_attrs[i].name, script_attrs[i].value);\n",
       "        toinsert[toinsert.length - 1].firstChild.textContent = bk_div.children[0].textContent\n",
       "      }\n",
       "      // store reference to server id on output_area\n",
       "      output_area._bokeh_server_id = output.metadata[EXEC_MIME_TYPE][\"server_id\"];\n",
       "    }\n",
       "  }\n",
       "\n",
       "  function register_renderer(events, OutputArea) {\n",
       "\n",
       "    function append_mime(data, metadata, element) {\n",
       "      // create a DOM node to render to\n",
       "      var toinsert = this.create_output_subarea(\n",
       "        metadata,\n",
       "        CLASS_NAME,\n",
       "        EXEC_MIME_TYPE\n",
       "      );\n",
       "      this.keyboard_manager.register_events(toinsert);\n",
       "      // Render to node\n",
       "      var props = {data: data, metadata: metadata[EXEC_MIME_TYPE]};\n",
       "      render(props, toinsert[toinsert.length - 1]);\n",
       "      element.append(toinsert);\n",
       "      return toinsert\n",
       "    }\n",
       "\n",
       "    /* Handle when an output is cleared or removed */\n",
       "    events.on('clear_output.CodeCell', handleClearOutput);\n",
       "    events.on('delete.Cell', handleClearOutput);\n",
       "\n",
       "    /* Handle when a new output is added */\n",
       "    events.on('output_added.OutputArea', handleAddOutput);\n",
       "\n",
       "    /**\n",
       "     * Register the mime type and append_mime function with output_area\n",
       "     */\n",
       "    OutputArea.prototype.register_mime_type(EXEC_MIME_TYPE, append_mime, {\n",
       "      /* Is output safe? */\n",
       "      safe: true,\n",
       "      /* Index of renderer in `output_area.display_order` */\n",
       "      index: 0\n",
       "    });\n",
       "  }\n",
       "\n",
       "  // register the mime type if in Jupyter Notebook environment and previously unregistered\n",
       "  if (root.Jupyter !== undefined) {\n",
       "    var events = require('base/js/events');\n",
       "    var OutputArea = require('notebook/js/outputarea').OutputArea;\n",
       "\n",
       "    if (OutputArea.prototype.mime_types().indexOf(EXEC_MIME_TYPE) == -1) {\n",
       "      register_renderer(events, OutputArea);\n",
       "    }\n",
       "  }\n",
       "\n",
       "  \n",
       "  if (typeof (root._bokeh_timeout) === \"undefined\" || force === true) {\n",
       "    root._bokeh_timeout = Date.now() + 5000;\n",
       "    root._bokeh_failed_load = false;\n",
       "  }\n",
       "\n",
       "  var NB_LOAD_WARNING = {'data': {'text/html':\n",
       "     \"<div style='background-color: #fdd'>\\n\"+\n",
       "     \"<p>\\n\"+\n",
       "     \"BokehJS does not appear to have successfully loaded. If loading BokehJS from CDN, this \\n\"+\n",
       "     \"may be due to a slow or bad network connection. Possible fixes:\\n\"+\n",
       "     \"</p>\\n\"+\n",
       "     \"<ul>\\n\"+\n",
       "     \"<li>re-rerun `output_notebook()` to attempt to load from CDN again, or</li>\\n\"+\n",
       "     \"<li>use INLINE resources instead, as so:</li>\\n\"+\n",
       "     \"</ul>\\n\"+\n",
       "     \"<code>\\n\"+\n",
       "     \"from bokeh.resources import INLINE\\n\"+\n",
       "     \"output_notebook(resources=INLINE)\\n\"+\n",
       "     \"</code>\\n\"+\n",
       "     \"</div>\"}};\n",
       "\n",
       "  function display_loaded() {\n",
       "    var el = document.getElementById(\"1001\");\n",
       "    if (el != null) {\n",
       "      el.textContent = \"BokehJS is loading...\";\n",
       "    }\n",
       "    if (root.Bokeh !== undefined) {\n",
       "      if (el != null) {\n",
       "        el.textContent = \"BokehJS \" + root.Bokeh.version + \" successfully loaded.\";\n",
       "      }\n",
       "    } else if (Date.now() < root._bokeh_timeout) {\n",
       "      setTimeout(display_loaded, 100)\n",
       "    }\n",
       "  }\n",
       "\n",
       "\n",
       "  function run_callbacks() {\n",
       "    try {\n",
       "      root._bokeh_onload_callbacks.forEach(function(callback) {\n",
       "        if (callback != null)\n",
       "          callback();\n",
       "      });\n",
       "    } finally {\n",
       "      delete root._bokeh_onload_callbacks\n",
       "    }\n",
       "    console.debug(\"Bokeh: all callbacks have finished\");\n",
       "  }\n",
       "\n",
       "  function load_libs(css_urls, js_urls, callback) {\n",
       "    if (css_urls == null) css_urls = [];\n",
       "    if (js_urls == null) js_urls = [];\n",
       "\n",
       "    root._bokeh_onload_callbacks.push(callback);\n",
       "    if (root._bokeh_is_loading > 0) {\n",
       "      console.debug(\"Bokeh: BokehJS is being loaded, scheduling callback at\", now());\n",
       "      return null;\n",
       "    }\n",
       "    if (js_urls == null || js_urls.length === 0) {\n",
       "      run_callbacks();\n",
       "      return null;\n",
       "    }\n",
       "    console.debug(\"Bokeh: BokehJS not loaded, scheduling load and callback at\", now());\n",
       "    root._bokeh_is_loading = css_urls.length + js_urls.length;\n",
       "\n",
       "    function on_load() {\n",
       "      root._bokeh_is_loading--;\n",
       "      if (root._bokeh_is_loading === 0) {\n",
       "        console.debug(\"Bokeh: all BokehJS libraries/stylesheets loaded\");\n",
       "        run_callbacks()\n",
       "      }\n",
       "    }\n",
       "\n",
       "    function on_error() {\n",
       "      console.error(\"failed to load \" + url);\n",
       "    }\n",
       "\n",
       "    for (var i = 0; i < css_urls.length; i++) {\n",
       "      var url = css_urls[i];\n",
       "      const element = document.createElement(\"link\");\n",
       "      element.onload = on_load;\n",
       "      element.onerror = on_error;\n",
       "      element.rel = \"stylesheet\";\n",
       "      element.type = \"text/css\";\n",
       "      element.href = url;\n",
       "      console.debug(\"Bokeh: injecting link tag for BokehJS stylesheet: \", url);\n",
       "      document.body.appendChild(element);\n",
       "    }\n",
       "\n",
       "    const hashes = {\"https://cdn.bokeh.org/bokeh/release/bokeh-2.2.3.min.js\": \"T2yuo9Oe71Cz/I4X9Ac5+gpEa5a8PpJCDlqKYO0CfAuEszu1JrXLl8YugMqYe3sM\", \"https://cdn.bokeh.org/bokeh/release/bokeh-widgets-2.2.3.min.js\": \"98GDGJ0kOMCUMUePhksaQ/GYgB3+NH9h996V88sh3aOiUNX3N+fLXAtry6xctSZ6\", \"https://cdn.bokeh.org/bokeh/release/bokeh-tables-2.2.3.min.js\": \"89bArO+nlbP3sgakeHjCo1JYxYR5wufVgA3IbUvDY+K7w4zyxJqssu7wVnfeKCq8\"};\n",
       "\n",
       "    for (var i = 0; i < js_urls.length; i++) {\n",
       "      var url = js_urls[i];\n",
       "      var element = document.createElement('script');\n",
       "      element.onload = on_load;\n",
       "      element.onerror = on_error;\n",
       "      element.async = false;\n",
       "      element.src = url;\n",
       "      if (url in hashes) {\n",
       "        element.crossOrigin = \"anonymous\";\n",
       "        element.integrity = \"sha384-\" + hashes[url];\n",
       "      }\n",
       "      console.debug(\"Bokeh: injecting script tag for BokehJS library: \", url);\n",
       "      document.head.appendChild(element);\n",
       "    }\n",
       "  };\n",
       "\n",
       "  function inject_raw_css(css) {\n",
       "    const element = document.createElement(\"style\");\n",
       "    element.appendChild(document.createTextNode(css));\n",
       "    document.body.appendChild(element);\n",
       "  }\n",
       "\n",
       "  \n",
       "  var js_urls = [\"https://cdn.bokeh.org/bokeh/release/bokeh-2.2.3.min.js\", \"https://cdn.bokeh.org/bokeh/release/bokeh-widgets-2.2.3.min.js\", \"https://cdn.bokeh.org/bokeh/release/bokeh-tables-2.2.3.min.js\"];\n",
       "  var css_urls = [];\n",
       "  \n",
       "\n",
       "  var inline_js = [\n",
       "    function(Bokeh) {\n",
       "      Bokeh.set_log_level(\"info\");\n",
       "    },\n",
       "    function(Bokeh) {\n",
       "    \n",
       "    \n",
       "    }\n",
       "  ];\n",
       "\n",
       "  function run_inline_js() {\n",
       "    \n",
       "    if (root.Bokeh !== undefined || force === true) {\n",
       "      \n",
       "    for (var i = 0; i < inline_js.length; i++) {\n",
       "      inline_js[i].call(root, root.Bokeh);\n",
       "    }\n",
       "    if (force === true) {\n",
       "        display_loaded();\n",
       "      }} else if (Date.now() < root._bokeh_timeout) {\n",
       "      setTimeout(run_inline_js, 100);\n",
       "    } else if (!root._bokeh_failed_load) {\n",
       "      console.log(\"Bokeh: BokehJS failed to load within specified timeout.\");\n",
       "      root._bokeh_failed_load = true;\n",
       "    } else if (force !== true) {\n",
       "      var cell = $(document.getElementById(\"1001\")).parents('.cell').data().cell;\n",
       "      cell.output_area.append_execute_result(NB_LOAD_WARNING)\n",
       "    }\n",
       "\n",
       "  }\n",
       "\n",
       "  if (root._bokeh_is_loading === 0) {\n",
       "    console.debug(\"Bokeh: BokehJS loaded, going straight to plotting\");\n",
       "    run_inline_js();\n",
       "  } else {\n",
       "    load_libs(css_urls, js_urls, function() {\n",
       "      console.debug(\"Bokeh: BokehJS plotting callback run at\", now());\n",
       "      run_inline_js();\n",
       "    });\n",
       "  }\n",
       "}(window));"
      ],
      "application/vnd.bokehjs_load.v0+json": "\n(function(root) {\n  function now() {\n    return new Date();\n  }\n\n  var force = true;\n\n  if (typeof root._bokeh_onload_callbacks === \"undefined\" || force === true) {\n    root._bokeh_onload_callbacks = [];\n    root._bokeh_is_loading = undefined;\n  }\n\n  \n\n  \n  if (typeof (root._bokeh_timeout) === \"undefined\" || force === true) {\n    root._bokeh_timeout = Date.now() + 5000;\n    root._bokeh_failed_load = false;\n  }\n\n  var NB_LOAD_WARNING = {'data': {'text/html':\n     \"<div style='background-color: #fdd'>\\n\"+\n     \"<p>\\n\"+\n     \"BokehJS does not appear to have successfully loaded. If loading BokehJS from CDN, this \\n\"+\n     \"may be due to a slow or bad network connection. Possible fixes:\\n\"+\n     \"</p>\\n\"+\n     \"<ul>\\n\"+\n     \"<li>re-rerun `output_notebook()` to attempt to load from CDN again, or</li>\\n\"+\n     \"<li>use INLINE resources instead, as so:</li>\\n\"+\n     \"</ul>\\n\"+\n     \"<code>\\n\"+\n     \"from bokeh.resources import INLINE\\n\"+\n     \"output_notebook(resources=INLINE)\\n\"+\n     \"</code>\\n\"+\n     \"</div>\"}};\n\n  function display_loaded() {\n    var el = document.getElementById(\"1001\");\n    if (el != null) {\n      el.textContent = \"BokehJS is loading...\";\n    }\n    if (root.Bokeh !== undefined) {\n      if (el != null) {\n        el.textContent = \"BokehJS \" + root.Bokeh.version + \" successfully loaded.\";\n      }\n    } else if (Date.now() < root._bokeh_timeout) {\n      setTimeout(display_loaded, 100)\n    }\n  }\n\n\n  function run_callbacks() {\n    try {\n      root._bokeh_onload_callbacks.forEach(function(callback) {\n        if (callback != null)\n          callback();\n      });\n    } finally {\n      delete root._bokeh_onload_callbacks\n    }\n    console.debug(\"Bokeh: all callbacks have finished\");\n  }\n\n  function load_libs(css_urls, js_urls, callback) {\n    if (css_urls == null) css_urls = [];\n    if (js_urls == null) js_urls = [];\n\n    root._bokeh_onload_callbacks.push(callback);\n    if (root._bokeh_is_loading > 0) {\n      console.debug(\"Bokeh: BokehJS is being loaded, scheduling callback at\", now());\n      return null;\n    }\n    if (js_urls == null || js_urls.length === 0) {\n      run_callbacks();\n      return null;\n    }\n    console.debug(\"Bokeh: BokehJS not loaded, scheduling load and callback at\", now());\n    root._bokeh_is_loading = css_urls.length + js_urls.length;\n\n    function on_load() {\n      root._bokeh_is_loading--;\n      if (root._bokeh_is_loading === 0) {\n        console.debug(\"Bokeh: all BokehJS libraries/stylesheets loaded\");\n        run_callbacks()\n      }\n    }\n\n    function on_error() {\n      console.error(\"failed to load \" + url);\n    }\n\n    for (var i = 0; i < css_urls.length; i++) {\n      var url = css_urls[i];\n      const element = document.createElement(\"link\");\n      element.onload = on_load;\n      element.onerror = on_error;\n      element.rel = \"stylesheet\";\n      element.type = \"text/css\";\n      element.href = url;\n      console.debug(\"Bokeh: injecting link tag for BokehJS stylesheet: \", url);\n      document.body.appendChild(element);\n    }\n\n    const hashes = {\"https://cdn.bokeh.org/bokeh/release/bokeh-2.2.3.min.js\": \"T2yuo9Oe71Cz/I4X9Ac5+gpEa5a8PpJCDlqKYO0CfAuEszu1JrXLl8YugMqYe3sM\", \"https://cdn.bokeh.org/bokeh/release/bokeh-widgets-2.2.3.min.js\": \"98GDGJ0kOMCUMUePhksaQ/GYgB3+NH9h996V88sh3aOiUNX3N+fLXAtry6xctSZ6\", \"https://cdn.bokeh.org/bokeh/release/bokeh-tables-2.2.3.min.js\": \"89bArO+nlbP3sgakeHjCo1JYxYR5wufVgA3IbUvDY+K7w4zyxJqssu7wVnfeKCq8\"};\n\n    for (var i = 0; i < js_urls.length; i++) {\n      var url = js_urls[i];\n      var element = document.createElement('script');\n      element.onload = on_load;\n      element.onerror = on_error;\n      element.async = false;\n      element.src = url;\n      if (url in hashes) {\n        element.crossOrigin = \"anonymous\";\n        element.integrity = \"sha384-\" + hashes[url];\n      }\n      console.debug(\"Bokeh: injecting script tag for BokehJS library: \", url);\n      document.head.appendChild(element);\n    }\n  };\n\n  function inject_raw_css(css) {\n    const element = document.createElement(\"style\");\n    element.appendChild(document.createTextNode(css));\n    document.body.appendChild(element);\n  }\n\n  \n  var js_urls = [\"https://cdn.bokeh.org/bokeh/release/bokeh-2.2.3.min.js\", \"https://cdn.bokeh.org/bokeh/release/bokeh-widgets-2.2.3.min.js\", \"https://cdn.bokeh.org/bokeh/release/bokeh-tables-2.2.3.min.js\"];\n  var css_urls = [];\n  \n\n  var inline_js = [\n    function(Bokeh) {\n      Bokeh.set_log_level(\"info\");\n    },\n    function(Bokeh) {\n    \n    \n    }\n  ];\n\n  function run_inline_js() {\n    \n    if (root.Bokeh !== undefined || force === true) {\n      \n    for (var i = 0; i < inline_js.length; i++) {\n      inline_js[i].call(root, root.Bokeh);\n    }\n    if (force === true) {\n        display_loaded();\n      }} else if (Date.now() < root._bokeh_timeout) {\n      setTimeout(run_inline_js, 100);\n    } else if (!root._bokeh_failed_load) {\n      console.log(\"Bokeh: BokehJS failed to load within specified timeout.\");\n      root._bokeh_failed_load = true;\n    } else if (force !== true) {\n      var cell = $(document.getElementById(\"1001\")).parents('.cell').data().cell;\n      cell.output_area.append_execute_result(NB_LOAD_WARNING)\n    }\n\n  }\n\n  if (root._bokeh_is_loading === 0) {\n    console.debug(\"Bokeh: BokehJS loaded, going straight to plotting\");\n    run_inline_js();\n  } else {\n    load_libs(css_urls, js_urls, function() {\n      console.debug(\"Bokeh: BokehJS plotting callback run at\", now());\n      run_inline_js();\n    });\n  }\n}(window));"
     },
     "metadata": {},
     "output_type": "display_data"
    },
    {
     "ename": "IndexError",
     "evalue": "index 6 is out of bounds for axis 0 with size 6",
     "output_type": "error",
     "traceback": [
      "\u001b[1;31m---------------------------------------------------------------------------\u001b[0m",
      "\u001b[1;31mIndexError\u001b[0m                                Traceback (most recent call last)",
      "\u001b[1;32m<ipython-input-59-0ed375df633d>\u001b[0m in \u001b[0;36m<module>\u001b[1;34m\u001b[0m\n\u001b[0;32m     34\u001b[0m     \u001b[0my\u001b[0m\u001b[1;33m=\u001b[0m\u001b[0mtsne_lda\u001b[0m\u001b[1;33m[\u001b[0m\u001b[1;33m:\u001b[0m\u001b[1;33m,\u001b[0m\u001b[1;36m1\u001b[0m\u001b[1;33m]\u001b[0m\u001b[1;33m,\u001b[0m\u001b[1;33m\u001b[0m\u001b[1;33m\u001b[0m\u001b[0m\n\u001b[0;32m     35\u001b[0m     \u001b[0mcolor\u001b[0m\u001b[1;33m=\u001b[0m\u001b[0mmycolors\u001b[0m\u001b[1;33m[\u001b[0m\u001b[0mtopic_num\u001b[0m\u001b[1;33m]\u001b[0m\u001b[1;33m,\u001b[0m\u001b[1;33m\u001b[0m\u001b[1;33m\u001b[0m\u001b[0m\n\u001b[1;32m---> 36\u001b[1;33m     \u001b[0mlabel\u001b[0m\u001b[1;33m=\u001b[0m\u001b[0mlgd_label\u001b[0m\u001b[1;33m[\u001b[0m\u001b[0mtopic_num\u001b[0m\u001b[1;33m]\u001b[0m\u001b[1;33m,\u001b[0m\u001b[1;33m\u001b[0m\u001b[1;33m\u001b[0m\u001b[0m\n\u001b[0m\u001b[0;32m     37\u001b[0m ))\n\u001b[0;32m     38\u001b[0m \u001b[1;33m\u001b[0m\u001b[0m\n",
      "\u001b[1;31mIndexError\u001b[0m: index 6 is out of bounds for axis 0 with size 6"
     ]
    }
   ],
   "source": [
    "# Get topic weights\n",
    "topic_weights = []\n",
    "\n",
    "for row_lst in optimal_model[bigram_corpus]:\n",
    "    lst = []\n",
    "    for topic_id, topic_perc in row_lst:\n",
    "        lst.append(topic_perc)\n",
    "    topic_weights.append(lst)\n",
    "    \n",
    "\n",
    "# Array of topic weights    \n",
    "arr = pd.DataFrame(topic_weights).fillna(0).values\n",
    "\n",
    "# Keep the well separated points (optional)\n",
    "arr = arr[np.amax(arr, axis=1) > 0.35]\n",
    "\n",
    "# Dominant topic number in each doc\n",
    "topic_num = np.argmax(arr, axis=1)\n",
    "\n",
    "# tSNE Dimension Reduction\n",
    "tsne_model = TSNE(n_components=2, perplexity=30, verbose=1, random_state=42, angle=.99, init='pca')\n",
    "tsne_lda = tsne_model.fit_transform(arr)\n",
    "\n",
    "# Plot the Topic Clusters using Bokeh\n",
    "output_notebook()\n",
    "n_topics = 6\n",
    "mycolors = np.array([color for name, color in mcolors.TABLEAU_COLORS.items()])\n",
    "plot = figure(title=\"t-SNE Clustering of {} LDA Topics\".format(n_topics), \n",
    "              plot_width=900, plot_height=700)\n",
    "lgd_label = np.array(['Topic 0', 'Topic 1', 'Topic 2', 'Topic 3', 'Topic 4', 'Topic 5'])\n",
    "\n",
    "source = ColumnDataSource(dict(\n",
    "    x=tsne_lda[:,0],\n",
    "    y=tsne_lda[:,1],\n",
    "    color=mycolors[topic_num],\n",
    "    label=lgd_label[topic_num],\n",
    "))\n",
    "\n",
    "plot.scatter(x='x', y='y', color='color', source=source)\n",
    "show(plot)"
   ]
  },
  {
   "cell_type": "markdown",
   "metadata": {},
   "source": [
    "t-Distributed Stochastic Neighbor Embedding (t-SNE) is an unsupervised non-linear learning technique used for data exploration and visualizing higher dimensional data. It gives a sense of how the data is arranged in a high dimensional-space. As t-SNE preserves small pairwise compared to Principal Component Analysis (PCA), we can see that the Topic 0, 2, 4 and 5 are close together which shows their relationship"
   ]
  },
  {
   "cell_type": "markdown",
   "metadata": {},
   "source": [
    "# pyLDAVis"
   ]
  },
  {
   "cell_type": "code",
   "execution_count": null,
   "metadata": {
    "ExecuteTime": {
     "end_time": "2021-01-25T13:07:10.226450Z",
     "start_time": "2021-01-25T13:06:59.858Z"
    }
   },
   "outputs": [],
   "source": [
    "# Visualize the topics for the bigram model\n",
    "pyLDAvis.enable_notebook()\n",
    "# Creates the filepath to save the html file\n",
    "LDAvis_data_filepath = os.path.join(os.getcwd()+'\\\\visualization\\\\'+ 'amd_' + 'bigram_' +'mallet_ldavis_prepared_'+str(num_topics))\n",
    "\n",
    "optimal_model_lda = gensim.models.wrappers.ldamallet.malletmodel2ldamodel(optimal_model)\n",
    "bigram_mallet_vis = pyLDAvis.gensim.prepare(optimal_model_lda, bigram_corpus, bigram_id2word)\n",
    "\n",
    "# Saves the graph as a html file to the LDAvis_data_filepath\n",
    "pyLDAvis.save_html(bigram_mallet_vis, os.getcwd()+ '\\\\visualization\\\\' + 'amd_' + 'bigram_' + 'mallet_ldavis_prepared_'+ str(num_topics) +'.html')\n",
    "bigram_mallet_vis"
   ]
  },
  {
   "cell_type": "markdown",
   "metadata": {},
   "source": [
    "The bubbles are spread further apart compared to the LDA's pyLDAvis with the exception of topic 3 and 4. This shows that the topics are distinguishable from one another. Also, it seems that the bubbles are of similar sizes which means that the documents are evenly distributed across the topics."
   ]
  },
  {
   "cell_type": "code",
   "execution_count": null,
   "metadata": {},
   "outputs": [],
   "source": []
  },
  {
   "cell_type": "code",
   "execution_count": null,
   "metadata": {},
   "outputs": [],
   "source": []
  }
 ],
 "metadata": {
  "kernelspec": {
   "display_name": "Python 3",
   "language": "python",
   "name": "python3"
  },
  "language_info": {
   "codemirror_mode": {
    "name": "ipython",
    "version": 3
   },
   "file_extension": ".py",
   "mimetype": "text/x-python",
   "name": "python",
   "nbconvert_exporter": "python",
   "pygments_lexer": "ipython3",
   "version": "3.8.5"
  },
  "notify_time": "30",
  "varInspector": {
   "cols": {
    "lenName": 16,
    "lenType": 16,
    "lenVar": 40
   },
   "kernels_config": {
    "python": {
     "delete_cmd_postfix": "",
     "delete_cmd_prefix": "del ",
     "library": "var_list.py",
     "varRefreshCmd": "print(var_dic_list())"
    },
    "r": {
     "delete_cmd_postfix": ") ",
     "delete_cmd_prefix": "rm(",
     "library": "var_list.r",
     "varRefreshCmd": "cat(var_dic_list()) "
    }
   },
   "oldHeight": 474.4,
   "position": {
    "height": "496.4px",
    "left": "1156px",
    "right": "20px",
    "top": "120px",
    "width": "360px"
   },
   "types_to_exclude": [
    "module",
    "function",
    "builtin_function_or_method",
    "instance",
    "_Feature"
   ],
   "varInspector_section_display": "block",
   "window_display": false
  }
 },
 "nbformat": 4,
 "nbformat_minor": 4
}
