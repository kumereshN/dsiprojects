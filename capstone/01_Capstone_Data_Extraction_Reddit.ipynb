{
 "cells": [
  {
   "cell_type": "markdown",
   "metadata": {},
   "source": [
    "# Capstone: Topic Modelling on AMD vs Nvidia GPU"
   ]
  },
  {
   "cell_type": "markdown",
   "metadata": {},
   "source": [
    "## Contents\n",
    "- Data Extraction\n",
    "- Data Cleaning\n",
    "- [EDA](#EDA)\n",
    "- [Prepare data for LDA Analysis](#Prepare-data-for-LDA-Analysis)\n",
    "- [LDA Model Training](#LDA-Model-Training)\n",
    "- Model creation\n",
    "- Model Evaluation"
   ]
  },
  {
   "cell_type": "code",
   "execution_count": 60,
   "metadata": {},
   "outputs": [],
   "source": [
    "# Common imports\n",
    "import numpy as np\n",
    "import pandas as pd\n",
    "import matplotlib.pyplot as plt\n",
    "import seaborn as sns\n",
    "\n",
    "from pprint import pprint\n",
    "import os\n",
    "\n",
    "import re\n",
    "# NLTK Library\n",
    "from nltk import FreqDist\n",
    "from nltk.tokenize import RegexpTokenizer\n",
    "from nltk.stem import WordNetLemmatizer\n",
    "from nltk.corpus import stopwords\n",
    "\n",
    "# Import PRAW package\n",
    "import praw\n",
    "from praw.models import MoreComments\n",
    "\n",
    "# Gensim library\n",
    "import gensim\n",
    "from gensim.utils import simple_preprocess\n",
    "import gensim.corpora as corpora\n",
    "\n",
    "import pyLDAvis.gensim\n",
    "import pickle \n",
    "import pyLDAvis\n",
    "\n",
    "# Detect non-english words\n",
    "from langdetect import detect, DetectorFactory\n",
    "DetectorFactory.seed = 0\n",
    "\n",
    "# Detect non-english words using spacy\n",
    "import spacy\n",
    "from spacy_langdetect import LanguageDetector\n",
    "nlp = spacy.load(\"en_core_web_sm\")\n",
    "nlp.add_pipe(LanguageDetector(), name='language_detector', last=True)\n",
    "\n",
    "\n",
    "# Import the wordcloud library\n",
    "from wordcloud import WordCloud\n",
    "\n",
    "%matplotlib inline"
   ]
  },
  {
   "cell_type": "code",
   "execution_count": 2,
   "metadata": {},
   "outputs": [],
   "source": [
    "# Set the max rows and columns for Pandas\n",
    "pd.options.display.max_columns = 100\n",
    "pd.options.display.max_rows = 200"
   ]
  },
  {
   "cell_type": "code",
   "execution_count": 3,
   "metadata": {},
   "outputs": [],
   "source": [
    "# Set the style use\n",
    "plt.style.use('ggplot')"
   ]
  },
  {
   "cell_type": "markdown",
   "metadata": {},
   "source": [
    "## Create a helper function to scrap the dataset in reddit"
   ]
  },
  {
   "cell_type": "code",
   "execution_count": 4,
   "metadata": {},
   "outputs": [],
   "source": [
    "# Create a dictionary with keys as the text and the value being reddit submission id \n",
    "nvidia_gpu_sub_dict = {'rtx_3060ti': 'k4mctp', 'rtx_3070':'jj8k0l', \n",
    "                       'rtx_3080': 'itw87x', 'rtx_3090': 'iyy5sx', 'rtx_3000': 'iko4ir'}\n",
    "amd_gpu_sub_dict = {'amd_gpu': 'iknr7g', 'rx_6000_rdna2':'jjq6v1', 'rx_6000_nov_18':'jvxm8z', 'radeon_rx_6000':'jwesyt'} "
   ]
  },
  {
   "cell_type": "code",
   "execution_count": 5,
   "metadata": {},
   "outputs": [],
   "source": [
    "# Additional nvidia comments scrapped\n",
    "add_nvidia_gpu_sub_dict = {'rtx_3090vs3080vs3070': 'ioyjk6', 'scalper_warning': 'ivi4qm', 'rtx_3090_memory': 'igw0bg',\n",
    "                          'rtx_3080ti_priced': 'jrmtmx', 'rtx_3080_3090_leak': 'ii6179'}"
   ]
  },
  {
   "cell_type": "code",
   "execution_count": 6,
   "metadata": {},
   "outputs": [],
   "source": [
    " reddit = praw.Reddit(\n",
    "     client_id=\"IR7Y4cUBrVAbGg\",\n",
    "     client_secret=\"podr43kzztn_CoVgtNQiNpDfjI5mjg\",\n",
    "     user_agent=\"gpu_scrapper_32\",\n",
    "     username=\"leader2345\",\n",
    "     password=\"rPLHgrS8\"\n",
    " )"
   ]
  },
  {
   "cell_type": "code",
   "execution_count": 7,
   "metadata": {},
   "outputs": [],
   "source": [
    "def scrapeGPUComment(gpu_dict):\n",
    "    for key, value in gpu_dict.items():\n",
    "        # Creates the GPU list to hold the reddit comments\n",
    "        gpu_lst = []\n",
    "        # Creating the submission object for rtx megathreads\n",
    "        submission = reddit.submission(id=value)\n",
    "        \n",
    "        # Extract all the commments\n",
    "        submission.comments.replace_more(limit=None)\n",
    "        for comment in submission.comments.list():\n",
    "            gpu_lst.append(comment.body)\n",
    "        # Converted to Dataframe format\n",
    "        rtx_df = pd.DataFrame({'Reddit comments':gpu_lst})\n",
    "        # Creating the column for tags, the keys of the dictionary will be stored here\n",
    "        rtx_df['tag'] = key\n",
    "        # Export the individual submissions to csv file\n",
    "        rtx_df.to_csv('./reddit dataset/' + key + '.csv', index=False)"
   ]
  },
  {
   "cell_type": "code",
   "execution_count": null,
   "metadata": {},
   "outputs": [],
   "source": [
    "# Scrapping of nvidia commments\n",
    "# scrapeGPUComment(nvidia_gpu_sub_dict)"
   ]
  },
  {
   "cell_type": "code",
   "execution_count": null,
   "metadata": {},
   "outputs": [],
   "source": [
    "# Scrapping of amd commments\n",
    "# scrapeGPUComment(amd_gpu_sub_dict)"
   ]
  },
  {
   "cell_type": "code",
   "execution_count": null,
   "metadata": {},
   "outputs": [],
   "source": [
    "# Scrapping of additional nvidia commments\n",
    "# scrapeGPUComment(add_nvidia_gpu_sub_dict)"
   ]
  },
  {
   "cell_type": "code",
   "execution_count": 8,
   "metadata": {},
   "outputs": [],
   "source": [
    "# Read in the dataframes\n",
    "\n",
    "# Nvidia's comments\n",
    "rtx_3000 = pd.read_csv('./reddit dataset/rtx_3000.csv')\n",
    "rtx_3060ti = pd.read_csv('./reddit dataset/rtx_3060ti.csv')\n",
    "rtx_3070 = pd.read_csv('./reddit dataset/rtx_3070.csv')\n",
    "rtx_3080 = pd.read_csv('./reddit dataset/rtx_3080.csv')\n",
    "rtx_3090 = pd.read_csv('./reddit dataset/rtx_3090.csv')\n",
    "\n",
    "# Amd's comments\n",
    "amd_gpu = pd.read_csv('./reddit dataset/amd_gpu.csv')\n",
    "rx_6000 = pd.read_csv('./reddit dataset/radeon_rx_6000.csv')\n",
    "rx_6000_nov_18 = pd.read_csv('./reddit dataset/rx_6000_nov_18.csv')\n",
    "rx_6000_rdna2 = pd.read_csv('./reddit dataset/rx_6000_rdna2.csv')\n",
    "\n",
    "# Additional Nvidia's comments scrapped\n",
    "rtx_3090vs3080vs3070 = pd.read_csv('./reddit dataset/rtx_3090vs3080vs3070.csv')\n",
    "scalper_warning = pd.read_csv('./reddit dataset/scalper_warning.csv')\n",
    "rtx_3090_memory = pd.read_csv('./reddit dataset/rtx_3090_memory.csv')\n",
    "rtx_3080ti_priced = pd.read_csv('./reddit dataset/rtx_3080ti_priced.csv')\n",
    "rtx_3080_3090_leak = pd.read_csv('./reddit dataset/rtx_3080_3090_leak.csv')"
   ]
  },
  {
   "cell_type": "code",
   "execution_count": 9,
   "metadata": {},
   "outputs": [],
   "source": [
    "# Concat the dataframes by their rows\n",
    "combined_df = pd.concat([rtx_3000, rtx_3060ti, rtx_3070, rtx_3080,\n",
    "                        rtx_3090, amd_gpu, rx_6000, rx_6000_nov_18, rx_6000_rdna2,\n",
    "                        rtx_3090vs3080vs3070, scalper_warning, rtx_3090_memory, rtx_3080ti_priced, rtx_3080_3090_leak],\n",
    "                       axis=0, ignore_index = False)"
   ]
  },
  {
   "cell_type": "markdown",
   "metadata": {},
   "source": [
    "# Data cleaning"
   ]
  },
  {
   "cell_type": "markdown",
   "metadata": {},
   "source": [
    "## Removing the null values"
   ]
  },
  {
   "cell_type": "code",
   "execution_count": 10,
   "metadata": {},
   "outputs": [
    {
     "data": {
      "text/plain": [
       "(34534, 2)"
      ]
     },
     "execution_count": 10,
     "metadata": {},
     "output_type": "execute_result"
    }
   ],
   "source": [
    "# Check the dimensions of the data\n",
    "combined_df.shape"
   ]
  },
  {
   "cell_type": "code",
   "execution_count": 11,
   "metadata": {},
   "outputs": [
    {
     "data": {
      "text/plain": [
       "Reddit comments    3\n",
       "tag                0\n",
       "dtype: int64"
      ]
     },
     "execution_count": 11,
     "metadata": {},
     "output_type": "execute_result"
    }
   ],
   "source": [
    "# Checking for null values\n",
    "combined_df.isnull().sum()"
   ]
  },
  {
   "cell_type": "code",
   "execution_count": 12,
   "metadata": {},
   "outputs": [],
   "source": [
    "# Check for null values\n",
    "combined_df.dropna(inplace = True)"
   ]
  },
  {
   "cell_type": "code",
   "execution_count": 13,
   "metadata": {},
   "outputs": [
    {
     "data": {
      "text/plain": [
       "Reddit comments    0\n",
       "tag                0\n",
       "dtype: int64"
      ]
     },
     "execution_count": 13,
     "metadata": {},
     "output_type": "execute_result"
    }
   ],
   "source": [
    "# Checking for null values\n",
    "combined_df.isnull().sum()"
   ]
  },
  {
   "cell_type": "markdown",
   "metadata": {},
   "source": [
    "## Dropping comments with `[deleted]` and `[removed]` in them"
   ]
  },
  {
   "cell_type": "code",
   "execution_count": 14,
   "metadata": {},
   "outputs": [
    {
     "data": {
      "text/plain": [
       "(34531, 2)"
      ]
     },
     "execution_count": 14,
     "metadata": {},
     "output_type": "execute_result"
    }
   ],
   "source": [
    "combined_df.shape"
   ]
  },
  {
   "cell_type": "code",
   "execution_count": 15,
   "metadata": {},
   "outputs": [
    {
     "data": {
      "text/plain": [
       "Int64Index([  46,   56,   57,   82,   83,  118,  150,  157,  160,  244,\n",
       "            ...\n",
       "            2240, 2321, 2343, 2348, 2350, 2364, 2407, 2422, 2425, 2436],\n",
       "           dtype='int64', length=778)"
      ]
     },
     "execution_count": 15,
     "metadata": {},
     "output_type": "execute_result"
    }
   ],
   "source": [
    "removed_deleted_comments_idx = combined_df[(combined_df['Reddit comments'] == '[removed]') | (combined_df['Reddit comments'] == '[deleted]')].index\n",
    "removed_deleted_comments_idx"
   ]
  },
  {
   "cell_type": "markdown",
   "metadata": {},
   "source": [
    "A total of 778 comments will be dropped from the dataframe."
   ]
  },
  {
   "cell_type": "code",
   "execution_count": 16,
   "metadata": {},
   "outputs": [],
   "source": [
    "# Drop the deleted and removed comments\n",
    "combined_df.drop(removed_deleted_comments_idx, axis=0, inplace = True)"
   ]
  },
  {
   "cell_type": "code",
   "execution_count": 17,
   "metadata": {},
   "outputs": [
    {
     "data": {
      "text/plain": [
       "(28809, 2)"
      ]
     },
     "execution_count": 17,
     "metadata": {},
     "output_type": "execute_result"
    }
   ],
   "source": [
    "combined_df.shape"
   ]
  },
  {
   "cell_type": "markdown",
   "metadata": {},
   "source": [
    "## Cleaning the Reddit comments"
   ]
  },
  {
   "cell_type": "code",
   "execution_count": 18,
   "metadata": {},
   "outputs": [],
   "source": [
    "# Full function to clean the title and the post\n",
    "def clean_post(df):\n",
    "    \"\"\"\n",
    "    This function removes the unnecessary characters, punctuations, removes stop words and lemmantizes the words\n",
    "    from the posts and titles. Lemmantization is used as I want to preserve the meaning of the words in which it'll compare the words against a dictionary.\n",
    "    \"\"\"\n",
    "    new_lst = []\n",
    "    \n",
    "    # Stop words\n",
    "    stops = stopwords.words('english')\n",
    "    # Adding additional stop words\n",
    "    stops.extend(['http', 'www', 'get', 'like'])\n",
    "    # stops.extend(['nvidia', 'amd', 'card', 'gpu', 'http', 'www'])\n",
    "    stops = set(stops)\n",
    "    \n",
    "    # Lemmatizer\n",
    "    lemmatizer = WordNetLemmatizer()\n",
    "    \n",
    "    for post in df:\n",
    "        # Lowercase the text\n",
    "        post = post.lower()\n",
    "\n",
    "        # Find the https websites and removes them\n",
    "        post = re.sub(r'\\(https:.*?\\)','',post)\n",
    "\n",
    "        # Removes youtube links\n",
    "        post = re.sub('https:.*?\\\\n','',post)\n",
    "\n",
    "        # Removes uncaptured url links at the bottom of the text\n",
    "        post = re.sub('https.*?[\\\\n|\"]','',post)\n",
    "\n",
    "        # Removes characters: \\n\\n&amp;#x200B;\n",
    "        post = re.sub('\\\\n\\\\n&amp;#x200b;\\\\n\\\\n','',post)\n",
    "\n",
    "        # Removing the special characters, like punctuation marks, periods\n",
    "        post = re.sub(r'[^\\w]',' ',post)\n",
    "        \n",
    "        # Removes digits and keeps the letters\n",
    "        # post = re.sub(r'[^a-zA-Z]', ' ', post)\n",
    "\n",
    "        # Removes underscores\n",
    "        post = re.sub(' _', ' ',post)\n",
    "\n",
    "        # Removes addtional white spaces\n",
    "        post = re.sub(' +', ' ',post)\n",
    "        \n",
    "        # Stores the words in a list \n",
    "        lst = [lemmatizer.lemmatize(word) for word in post.split() if word not in stops]\n",
    "            \n",
    "        new_lst.append(\" \".join(lst))\n",
    "        \n",
    "    return new_lst"
   ]
  },
  {
   "cell_type": "code",
   "execution_count": 19,
   "metadata": {},
   "outputs": [
    {
     "data": {
      "text/plain": [
       "0                     pre order time releasing 17th seems\n",
       "2                          going hard grab card 3080 17th\n",
       "4       uk price 3090 1399 3080 649 3070 469 scan aib ...\n",
       "5       badly want 3080 especially price still concern...\n",
       "6       nobody talking many spatula jensen whole pot full\n",
       "                              ...                        \n",
       "2433             even motherboard say pcie 3 0 compatible\n",
       "2434    thanks understanding know course none 3000s dv...\n",
       "2435                                         buy 1400 gpu\n",
       "2437                          lol know ill wait 3070 3060\n",
       "2438    generational compatibility either also compati...\n",
       "Name: Reddit comments, Length: 28809, dtype: object"
      ]
     },
     "execution_count": 19,
     "metadata": {},
     "output_type": "execute_result"
    }
   ],
   "source": [
    "# Cleans the Reddit comments column\n",
    "combined_df['Reddit comments'] = clean_post(combined_df['Reddit comments'])\n",
    "combined_df['Reddit comments']"
   ]
  },
  {
   "cell_type": "markdown",
   "metadata": {},
   "source": [
    "## Dropping comments that are empty"
   ]
  },
  {
   "cell_type": "code",
   "execution_count": 20,
   "metadata": {},
   "outputs": [
    {
     "data": {
      "text/html": [
       "<div>\n",
       "<style scoped>\n",
       "    .dataframe tbody tr th:only-of-type {\n",
       "        vertical-align: middle;\n",
       "    }\n",
       "\n",
       "    .dataframe tbody tr th {\n",
       "        vertical-align: top;\n",
       "    }\n",
       "\n",
       "    .dataframe thead th {\n",
       "        text-align: right;\n",
       "    }\n",
       "</style>\n",
       "<table border=\"1\" class=\"dataframe\">\n",
       "  <thead>\n",
       "    <tr style=\"text-align: right;\">\n",
       "      <th></th>\n",
       "      <th>Reddit comments</th>\n",
       "      <th>tag</th>\n",
       "    </tr>\n",
       "  </thead>\n",
       "  <tbody>\n",
       "    <tr>\n",
       "      <th>count</th>\n",
       "      <td>28809</td>\n",
       "      <td>28809</td>\n",
       "    </tr>\n",
       "    <tr>\n",
       "      <th>unique</th>\n",
       "      <td>27980</td>\n",
       "      <td>14</td>\n",
       "    </tr>\n",
       "    <tr>\n",
       "      <th>top</th>\n",
       "      <td></td>\n",
       "      <td>rx_6000_rdna2</td>\n",
       "    </tr>\n",
       "    <tr>\n",
       "      <th>freq</th>\n",
       "      <td>153</td>\n",
       "      <td>9869</td>\n",
       "    </tr>\n",
       "  </tbody>\n",
       "</table>\n",
       "</div>"
      ],
      "text/plain": [
       "       Reddit comments            tag\n",
       "count            28809          28809\n",
       "unique           27980             14\n",
       "top                     rx_6000_rdna2\n",
       "freq               153           9869"
      ]
     },
     "execution_count": 20,
     "metadata": {},
     "output_type": "execute_result"
    }
   ],
   "source": [
    "combined_df.describe()"
   ]
  },
  {
   "cell_type": "code",
   "execution_count": 21,
   "metadata": {},
   "outputs": [
    {
     "data": {
      "text/plain": [
       "153"
      ]
     },
     "execution_count": 21,
     "metadata": {},
     "output_type": "execute_result"
    }
   ],
   "source": [
    "(combined_df['Reddit comments'] == '').sum()"
   ]
  },
  {
   "cell_type": "markdown",
   "metadata": {},
   "source": [
    "There are 150 empty comments that have to be dropped."
   ]
  },
  {
   "cell_type": "code",
   "execution_count": 22,
   "metadata": {},
   "outputs": [],
   "source": [
    "empty_comments_idx = combined_df[combined_df['Reddit comments'] == ''].index\n",
    "combined_df.drop(empty_comments_idx, axis=0, inplace=True)"
   ]
  },
  {
   "cell_type": "code",
   "execution_count": 23,
   "metadata": {},
   "outputs": [
    {
     "data": {
      "text/plain": [
       "0"
      ]
     },
     "execution_count": 23,
     "metadata": {},
     "output_type": "execute_result"
    }
   ],
   "source": [
    "(combined_df['Reddit comments'] == '').sum()"
   ]
  },
  {
   "cell_type": "markdown",
   "metadata": {},
   "source": [
    "The empty comments have been removed."
   ]
  },
  {
   "cell_type": "markdown",
   "metadata": {},
   "source": [
    "## Setting the tags with either `Nvidia` or `Amd`"
   ]
  },
  {
   "cell_type": "code",
   "execution_count": 24,
   "metadata": {},
   "outputs": [
    {
     "data": {
      "text/plain": [
       "array(['rtx_3000', 'rtx_3060ti', 'rtx_3070', 'rtx_3080', 'rtx_3090',\n",
       "       'amd_gpu', 'radeon_rx_6000', 'rx_6000_nov_18', 'rx_6000_rdna2',\n",
       "       'rtx_3090vs3080vs3070', 'scalper_warning', 'rtx_3090_memory',\n",
       "       'rtx_3080ti_priced', 'rtx_3080_3090_leak'], dtype=object)"
      ]
     },
     "execution_count": 24,
     "metadata": {},
     "output_type": "execute_result"
    }
   ],
   "source": [
    "combined_df['tag'].unique()"
   ]
  },
  {
   "cell_type": "markdown",
   "metadata": {},
   "source": [
    "These tags need to be renamed to either `Nvidia` or `Amd`"
   ]
  },
  {
   "cell_type": "code",
   "execution_count": 25,
   "metadata": {},
   "outputs": [],
   "source": [
    "nvidia_tag_lst = list(nvidia_gpu_sub_dict) + list(add_nvidia_gpu_sub_dict)\n",
    "amd_tag_lst = list(amd_gpu_sub_dict)"
   ]
  },
  {
   "cell_type": "code",
   "execution_count": 26,
   "metadata": {},
   "outputs": [
    {
     "name": "stdout",
     "output_type": "stream",
     "text": [
      "['rtx_3060ti', 'rtx_3070', 'rtx_3080', 'rtx_3090', 'rtx_3000', 'rtx_3090vs3080vs3070', 'scalper_warning', 'rtx_3090_memory', 'rtx_3080ti_priced', 'rtx_3080_3090_leak']\n",
      "['amd_gpu', 'rx_6000_rdna2', 'rx_6000_nov_18', 'radeon_rx_6000']\n"
     ]
    }
   ],
   "source": [
    "print(nvidia_tag_lst)\n",
    "print(amd_tag_lst)"
   ]
  },
  {
   "cell_type": "code",
   "execution_count": 27,
   "metadata": {},
   "outputs": [],
   "source": [
    "combined_df['tag'].replace(nvidia_tag_lst, ['nvidia' for _ in range(len(nvidia_tag_lst))], inplace = True)\n",
    "combined_df['tag'].replace(amd_tag_lst, ['amd' for _ in range(len(amd_tag_lst))], inplace = True)"
   ]
  },
  {
   "cell_type": "code",
   "execution_count": 28,
   "metadata": {},
   "outputs": [
    {
     "data": {
      "text/plain": [
       "amd       15827\n",
       "nvidia    12073\n",
       "Name: tag, dtype: int64"
      ]
     },
     "execution_count": 28,
     "metadata": {},
     "output_type": "execute_result"
    }
   ],
   "source": [
    "combined_df['tag'].value_counts()"
   ]
  },
  {
   "cell_type": "markdown",
   "metadata": {},
   "source": [
    "## Removing duplicates in the dataframe"
   ]
  },
  {
   "cell_type": "code",
   "execution_count": 29,
   "metadata": {},
   "outputs": [
    {
     "data": {
      "text/plain": [
       "921"
      ]
     },
     "execution_count": 29,
     "metadata": {},
     "output_type": "execute_result"
    }
   ],
   "source": [
    "combined_df.duplicated(subset='Reddit comments', keep = False).sum()"
   ]
  },
  {
   "cell_type": "code",
   "execution_count": 30,
   "metadata": {},
   "outputs": [
    {
     "data": {
      "text/html": [
       "<div>\n",
       "<style scoped>\n",
       "    .dataframe tbody tr th:only-of-type {\n",
       "        vertical-align: middle;\n",
       "    }\n",
       "\n",
       "    .dataframe tbody tr th {\n",
       "        vertical-align: top;\n",
       "    }\n",
       "\n",
       "    .dataframe thead th {\n",
       "        text-align: right;\n",
       "    }\n",
       "</style>\n",
       "<table border=\"1\" class=\"dataframe\">\n",
       "  <thead>\n",
       "    <tr style=\"text-align: right;\">\n",
       "      <th></th>\n",
       "      <th>Reddit comments</th>\n",
       "      <th>tag</th>\n",
       "    </tr>\n",
       "  </thead>\n",
       "  <tbody>\n",
       "    <tr>\n",
       "      <th>58</th>\n",
       "      <td>pre order</td>\n",
       "      <td>nvidia</td>\n",
       "    </tr>\n",
       "    <tr>\n",
       "      <th>130</th>\n",
       "      <td>pre order</td>\n",
       "      <td>nvidia</td>\n",
       "    </tr>\n",
       "    <tr>\n",
       "      <th>159</th>\n",
       "      <td>http evga com article 01434 evga geforce rtx 3...</td>\n",
       "      <td>nvidia</td>\n",
       "    </tr>\n",
       "    <tr>\n",
       "      <th>408</th>\n",
       "      <td>scared new mining performance card new memory ...</td>\n",
       "      <td>nvidia</td>\n",
       "    </tr>\n",
       "    <tr>\n",
       "      <th>450</th>\n",
       "      <td>3060</td>\n",
       "      <td>nvidia</td>\n",
       "    </tr>\n",
       "    <tr>\n",
       "      <th>...</th>\n",
       "      <td>...</td>\n",
       "      <td>...</td>\n",
       "    </tr>\n",
       "    <tr>\n",
       "      <th>2131</th>\n",
       "      <td>case</td>\n",
       "      <td>nvidia</td>\n",
       "    </tr>\n",
       "    <tr>\n",
       "      <th>2143</th>\n",
       "      <td>one</td>\n",
       "      <td>nvidia</td>\n",
       "    </tr>\n",
       "    <tr>\n",
       "      <th>2261</th>\n",
       "      <td>think</td>\n",
       "      <td>nvidia</td>\n",
       "    </tr>\n",
       "    <tr>\n",
       "      <th>2405</th>\n",
       "      <td>good bot</td>\n",
       "      <td>nvidia</td>\n",
       "    </tr>\n",
       "    <tr>\n",
       "      <th>2406</th>\n",
       "      <td>good bot</td>\n",
       "      <td>nvidia</td>\n",
       "    </tr>\n",
       "  </tbody>\n",
       "</table>\n",
       "<p>921 rows × 2 columns</p>\n",
       "</div>"
      ],
      "text/plain": [
       "                                        Reddit comments     tag\n",
       "58                                            pre order  nvidia\n",
       "130                                           pre order  nvidia\n",
       "159   http evga com article 01434 evga geforce rtx 3...  nvidia\n",
       "408   scared new mining performance card new memory ...  nvidia\n",
       "450                                                3060  nvidia\n",
       "...                                                 ...     ...\n",
       "2131                                               case  nvidia\n",
       "2143                                                one  nvidia\n",
       "2261                                              think  nvidia\n",
       "2405                                           good bot  nvidia\n",
       "2406                                           good bot  nvidia\n",
       "\n",
       "[921 rows x 2 columns]"
      ]
     },
     "execution_count": 30,
     "metadata": {},
     "output_type": "execute_result"
    }
   ],
   "source": [
    "combined_df[combined_df.duplicated(subset='Reddit comments', keep = False)]"
   ]
  },
  {
   "cell_type": "markdown",
   "metadata": {},
   "source": [
    "There are 941 comments that are duplicated and have to be dropped."
   ]
  },
  {
   "cell_type": "code",
   "execution_count": 31,
   "metadata": {},
   "outputs": [
    {
     "data": {
      "text/plain": [
       "(27900, 2)"
      ]
     },
     "execution_count": 31,
     "metadata": {},
     "output_type": "execute_result"
    }
   ],
   "source": [
    "combined_df.shape"
   ]
  },
  {
   "cell_type": "code",
   "execution_count": 32,
   "metadata": {},
   "outputs": [],
   "source": [
    "combined_df.drop_duplicates(subset='Reddit comments', keep = False, ignore_index= True, inplace = True)"
   ]
  },
  {
   "cell_type": "code",
   "execution_count": 33,
   "metadata": {},
   "outputs": [
    {
     "data": {
      "text/plain": [
       "(26979, 2)"
      ]
     },
     "execution_count": 33,
     "metadata": {},
     "output_type": "execute_result"
    }
   ],
   "source": [
    "combined_df.shape"
   ]
  },
  {
   "cell_type": "code",
   "execution_count": 34,
   "metadata": {},
   "outputs": [
    {
     "data": {
      "text/plain": [
       "0"
      ]
     },
     "execution_count": 34,
     "metadata": {},
     "output_type": "execute_result"
    }
   ],
   "source": [
    "combined_df.duplicated(subset='Reddit comments', keep = False).sum()"
   ]
  },
  {
   "cell_type": "markdown",
   "metadata": {},
   "source": [
    "The duplicated comments have been removed."
   ]
  },
  {
   "cell_type": "code",
   "execution_count": 35,
   "metadata": {},
   "outputs": [
    {
     "data": {
      "text/plain": [
       "'think amd gone console gpus lack qc recent card insane driver issue lead believe really serious desktop gpu world seems nvidia really seized opportunity went kill price imagine amd really competes considering offer 2080 ti equivalent card 400'"
      ]
     },
     "execution_count": 35,
     "metadata": {},
     "output_type": "execute_result"
    }
   ],
   "source": [
    "# Randomly going through the rows to check if it's cleaned properly \n",
    "combined_df['Reddit comments'].loc[np.random.randint(1707)]"
   ]
  },
  {
   "cell_type": "markdown",
   "metadata": {},
   "source": [
    "### Removing non-english words in the reviews (Possible to ignore)"
   ]
  },
  {
   "cell_type": "code",
   "execution_count": 36,
   "metadata": {},
   "outputs": [],
   "source": [
    "# Removing non english by creating a helper function\n",
    "from langdetect import detect\n",
    "def isenglish(text):\n",
    "    try:\n",
    "        if nlp(text)._.language.get('language') == 'en':\n",
    "            return 1\n",
    "        else:\n",
    "            return 0\n",
    "    except:\n",
    "        return 0"
   ]
  },
  {
   "cell_type": "code",
   "execution_count": 37,
   "metadata": {
    "scrolled": false
   },
   "outputs": [
    {
     "ename": "NameError",
     "evalue": "name 'GPU_df' is not defined",
     "output_type": "error",
     "traceback": [
      "\u001b[1;31m---------------------------------------------------------------------------\u001b[0m",
      "\u001b[1;31mNameError\u001b[0m                                 Traceback (most recent call last)",
      "\u001b[1;32m<ipython-input-37-5a32cf70d37d>\u001b[0m in \u001b[0;36m<module>\u001b[1;34m\u001b[0m\n\u001b[1;32m----> 1\u001b[1;33m \u001b[0mGPU_df\u001b[0m\u001b[1;33m[\u001b[0m\u001b[1;34m'isenglish'\u001b[0m\u001b[1;33m]\u001b[0m \u001b[1;33m=\u001b[0m \u001b[0mGPU_df\u001b[0m\u001b[1;33m[\u001b[0m\u001b[1;34m'Customer Review'\u001b[0m\u001b[1;33m]\u001b[0m\u001b[1;33m.\u001b[0m\u001b[0mapply\u001b[0m\u001b[1;33m(\u001b[0m\u001b[0misenglish\u001b[0m\u001b[1;33m)\u001b[0m\u001b[1;33m\u001b[0m\u001b[1;33m\u001b[0m\u001b[0m\n\u001b[0m",
      "\u001b[1;31mNameError\u001b[0m: name 'GPU_df' is not defined"
     ]
    }
   ],
   "source": [
    "GPU_df['isenglish'] = GPU_df['Customer Review'].apply(isenglish)"
   ]
  },
  {
   "cell_type": "code",
   "execution_count": null,
   "metadata": {},
   "outputs": [],
   "source": [
    "GPU_df[GPU_df.loc[:,'isenglish'] == 0][['Customer Review']].head(10)"
   ]
  },
  {
   "cell_type": "code",
   "execution_count": null,
   "metadata": {},
   "outputs": [],
   "source": [
    "# Count number of rows with the string deleted in them\n",
    "GPU_df['Customer Review'].map(lambda x: x.count('deleted')).sum()"
   ]
  },
  {
   "cell_type": "code",
   "execution_count": null,
   "metadata": {},
   "outputs": [],
   "source": [
    "GPU_df[GPU_df.loc[:,'isenglish'] == 0][['Customer Review']].count()"
   ]
  },
  {
   "cell_type": "markdown",
   "metadata": {},
   "source": [
    "A total of 130 rows were non-english reviews. These have to be removed."
   ]
  },
  {
   "cell_type": "markdown",
   "metadata": {},
   "source": [
    "## Exporting the cleaned csv file "
   ]
  },
  {
   "cell_type": "code",
   "execution_count": 38,
   "metadata": {},
   "outputs": [],
   "source": [
    "# Save to csv file\n",
    "combined_df.to_csv('./reddit dataset/cleaned_combined_df.csv', index=False)"
   ]
  },
  {
   "cell_type": "markdown",
   "metadata": {},
   "source": [
    "# EDA on the comments"
   ]
  },
  {
   "cell_type": "code",
   "execution_count": 39,
   "metadata": {},
   "outputs": [
    {
     "data": {
      "text/html": [
       "<div>\n",
       "<style scoped>\n",
       "    .dataframe tbody tr th:only-of-type {\n",
       "        vertical-align: middle;\n",
       "    }\n",
       "\n",
       "    .dataframe tbody tr th {\n",
       "        vertical-align: top;\n",
       "    }\n",
       "\n",
       "    .dataframe thead th {\n",
       "        text-align: right;\n",
       "    }\n",
       "</style>\n",
       "<table border=\"1\" class=\"dataframe\">\n",
       "  <thead>\n",
       "    <tr style=\"text-align: right;\">\n",
       "      <th></th>\n",
       "      <th>Reddit comments</th>\n",
       "      <th>tag</th>\n",
       "    </tr>\n",
       "  </thead>\n",
       "  <tbody>\n",
       "    <tr>\n",
       "      <th>0</th>\n",
       "      <td>pre order time releasing 17th seems</td>\n",
       "      <td>nvidia</td>\n",
       "    </tr>\n",
       "    <tr>\n",
       "      <th>1</th>\n",
       "      <td>going hard grab card 3080 17th</td>\n",
       "      <td>nvidia</td>\n",
       "    </tr>\n",
       "    <tr>\n",
       "      <th>2</th>\n",
       "      <td>uk price 3090 1399 3080 649 3070 469 scan aib ...</td>\n",
       "      <td>nvidia</td>\n",
       "    </tr>\n",
       "    <tr>\n",
       "      <th>3</th>\n",
       "      <td>badly want 3080 especially price still concern...</td>\n",
       "      <td>nvidia</td>\n",
       "    </tr>\n",
       "    <tr>\n",
       "      <th>4</th>\n",
       "      <td>nobody talking many spatula jensen whole pot full</td>\n",
       "      <td>nvidia</td>\n",
       "    </tr>\n",
       "    <tr>\n",
       "      <th>...</th>\n",
       "      <td>...</td>\n",
       "      <td>...</td>\n",
       "    </tr>\n",
       "    <tr>\n",
       "      <th>26974</th>\n",
       "      <td>even motherboard say pcie 3 0 compatible</td>\n",
       "      <td>nvidia</td>\n",
       "    </tr>\n",
       "    <tr>\n",
       "      <th>26975</th>\n",
       "      <td>thanks understanding know course none 3000s dv...</td>\n",
       "      <td>nvidia</td>\n",
       "    </tr>\n",
       "    <tr>\n",
       "      <th>26976</th>\n",
       "      <td>buy 1400 gpu</td>\n",
       "      <td>nvidia</td>\n",
       "    </tr>\n",
       "    <tr>\n",
       "      <th>26977</th>\n",
       "      <td>lol know ill wait 3070 3060</td>\n",
       "      <td>nvidia</td>\n",
       "    </tr>\n",
       "    <tr>\n",
       "      <th>26978</th>\n",
       "      <td>generational compatibility either also compati...</td>\n",
       "      <td>nvidia</td>\n",
       "    </tr>\n",
       "  </tbody>\n",
       "</table>\n",
       "<p>26979 rows × 2 columns</p>\n",
       "</div>"
      ],
      "text/plain": [
       "                                         Reddit comments     tag\n",
       "0                    pre order time releasing 17th seems  nvidia\n",
       "1                         going hard grab card 3080 17th  nvidia\n",
       "2      uk price 3090 1399 3080 649 3070 469 scan aib ...  nvidia\n",
       "3      badly want 3080 especially price still concern...  nvidia\n",
       "4      nobody talking many spatula jensen whole pot full  nvidia\n",
       "...                                                  ...     ...\n",
       "26974           even motherboard say pcie 3 0 compatible  nvidia\n",
       "26975  thanks understanding know course none 3000s dv...  nvidia\n",
       "26976                                       buy 1400 gpu  nvidia\n",
       "26977                        lol know ill wait 3070 3060  nvidia\n",
       "26978  generational compatibility either also compati...  nvidia\n",
       "\n",
       "[26979 rows x 2 columns]"
      ]
     },
     "execution_count": 39,
     "metadata": {},
     "output_type": "execute_result"
    }
   ],
   "source": [
    "# Read the existing csv file\n",
    "GPU_df = pd.read_csv('./reddit dataset/cleaned_combined_df.csv')\n",
    "GPU_df"
   ]
  },
  {
   "cell_type": "code",
   "execution_count": 40,
   "metadata": {},
   "outputs": [
    {
     "data": {
      "text/html": [
       "<div>\n",
       "<style scoped>\n",
       "    .dataframe tbody tr th:only-of-type {\n",
       "        vertical-align: middle;\n",
       "    }\n",
       "\n",
       "    .dataframe tbody tr th {\n",
       "        vertical-align: top;\n",
       "    }\n",
       "\n",
       "    .dataframe thead th {\n",
       "        text-align: right;\n",
       "    }\n",
       "</style>\n",
       "<table border=\"1\" class=\"dataframe\">\n",
       "  <thead>\n",
       "    <tr style=\"text-align: right;\">\n",
       "      <th></th>\n",
       "      <th>Reddit comments</th>\n",
       "      <th>tag</th>\n",
       "    </tr>\n",
       "  </thead>\n",
       "  <tbody>\n",
       "    <tr>\n",
       "      <th>count</th>\n",
       "      <td>26979</td>\n",
       "      <td>26979</td>\n",
       "    </tr>\n",
       "    <tr>\n",
       "      <th>unique</th>\n",
       "      <td>26979</td>\n",
       "      <td>2</td>\n",
       "    </tr>\n",
       "    <tr>\n",
       "      <th>top</th>\n",
       "      <td>oh missed amd nvidia announcing sku lower 3070...</td>\n",
       "      <td>amd</td>\n",
       "    </tr>\n",
       "    <tr>\n",
       "      <th>freq</th>\n",
       "      <td>1</td>\n",
       "      <td>15176</td>\n",
       "    </tr>\n",
       "  </tbody>\n",
       "</table>\n",
       "</div>"
      ],
      "text/plain": [
       "                                          Reddit comments    tag\n",
       "count                                               26979  26979\n",
       "unique                                              26979      2\n",
       "top     oh missed amd nvidia announcing sku lower 3070...    amd\n",
       "freq                                                    1  15176"
      ]
     },
     "execution_count": 40,
     "metadata": {},
     "output_type": "execute_result"
    }
   ],
   "source": [
    "GPU_df.describe()"
   ]
  },
  {
   "cell_type": "code",
   "execution_count": 41,
   "metadata": {},
   "outputs": [
    {
     "data": {
      "text/plain": [
       "(26979, 2)"
      ]
     },
     "execution_count": 41,
     "metadata": {},
     "output_type": "execute_result"
    }
   ],
   "source": [
    "GPU_df.shape"
   ]
  },
  {
   "cell_type": "code",
   "execution_count": 42,
   "metadata": {},
   "outputs": [
    {
     "data": {
      "text/plain": [
       "Reddit comments    0\n",
       "tag                0\n",
       "dtype: int64"
      ]
     },
     "execution_count": 42,
     "metadata": {},
     "output_type": "execute_result"
    }
   ],
   "source": [
    "# Check for null values\n",
    "GPU_df.isnull().sum()"
   ]
  },
  {
   "cell_type": "code",
   "execution_count": 43,
   "metadata": {},
   "outputs": [
    {
     "data": {
      "text/plain": [
       "0"
      ]
     },
     "execution_count": 43,
     "metadata": {},
     "output_type": "execute_result"
    }
   ],
   "source": [
    "# Checking for duplicated comments\n",
    "GPU_df.duplicated(subset='Reddit comments', keep=False).sum()"
   ]
  },
  {
   "cell_type": "markdown",
   "metadata": {},
   "source": [
    "## Distribution of AMD and Nvidia comments"
   ]
  },
  {
   "cell_type": "code",
   "execution_count": 44,
   "metadata": {},
   "outputs": [
    {
     "data": {
      "text/plain": [
       "amd       56.251158\n",
       "nvidia    43.748842\n",
       "Name: tag, dtype: float64"
      ]
     },
     "execution_count": 44,
     "metadata": {},
     "output_type": "execute_result"
    }
   ],
   "source": [
    "GPU_df['tag'].value_counts(normalize=True) * 100"
   ]
  },
  {
   "cell_type": "code",
   "execution_count": 45,
   "metadata": {},
   "outputs": [
    {
     "data": {
      "image/png": "[encoded data removed]",
      "text/plain": [
       "<Figure size 576x504 with 1 Axes>"
      ]
     },
     "metadata": {},
     "output_type": "display_data"
    }
   ],
   "source": [
    "(GPU_df['tag'].value_counts(normalize=True) * 100).plot(kind='bar', \n",
    "                                                        title='Distribution of comments',\n",
    "                                                        figsize=(8,7),\n",
    "                                                        xlabel = 'Manufacturer',\n",
    "                                                       ylabel='Frequency',\n",
    "                                                       color = ['red','green'],\n",
    "                                                       width=0.3)\n",
    "\n",
    "plt.xticks(np.arange(2), ['AMD', 'Nvidia'],fontsize=13);"
   ]
  },
  {
   "cell_type": "markdown",
   "metadata": {},
   "source": [
    "In the dataset, around 56% of the comments were from AMD and the Hardware subreddit and 43% of the comments were from Nvidia's subreddit."
   ]
  },
  {
   "cell_type": "markdown",
   "metadata": {},
   "source": [
    "## EDA on Amd comments"
   ]
  },
  {
   "cell_type": "code",
   "execution_count": 54,
   "metadata": {},
   "outputs": [
    {
     "data": {
      "text/html": [
       "<div>\n",
       "<style scoped>\n",
       "    .dataframe tbody tr th:only-of-type {\n",
       "        vertical-align: middle;\n",
       "    }\n",
       "\n",
       "    .dataframe tbody tr th {\n",
       "        vertical-align: top;\n",
       "    }\n",
       "\n",
       "    .dataframe thead th {\n",
       "        text-align: right;\n",
       "    }\n",
       "</style>\n",
       "<table border=\"1\" class=\"dataframe\">\n",
       "  <thead>\n",
       "    <tr style=\"text-align: right;\">\n",
       "      <th></th>\n",
       "      <th>Reddit comments</th>\n",
       "      <th>tag</th>\n",
       "    </tr>\n",
       "  </thead>\n",
       "  <tbody>\n",
       "    <tr>\n",
       "      <th>5004</th>\n",
       "      <td>sound samsung 8nm cheap</td>\n",
       "      <td>amd</td>\n",
       "    </tr>\n",
       "    <tr>\n",
       "      <th>5005</th>\n",
       "      <td>might ethic mongol invasion tech really someth...</td>\n",
       "      <td>amd</td>\n",
       "    </tr>\n",
       "    <tr>\n",
       "      <th>5006</th>\n",
       "      <td>nvidia software ai learning big selling point</td>\n",
       "      <td>amd</td>\n",
       "    </tr>\n",
       "    <tr>\n",
       "      <th>5007</th>\n",
       "      <td>ultimate countdown marketing campaign nvidia b...</td>\n",
       "      <td>amd</td>\n",
       "    </tr>\n",
       "    <tr>\n",
       "      <th>5008</th>\n",
       "      <td>excited amd guy compete going go nvidia brand ...</td>\n",
       "      <td>amd</td>\n",
       "    </tr>\n",
       "    <tr>\n",
       "      <th>...</th>\n",
       "      <td>...</td>\n",
       "      <td>...</td>\n",
       "    </tr>\n",
       "    <tr>\n",
       "      <th>20175</th>\n",
       "      <td>dude really understand example confused said l...</td>\n",
       "      <td>amd</td>\n",
       "    </tr>\n",
       "    <tr>\n",
       "      <th>20176</th>\n",
       "      <td>still know example still thought looked</td>\n",
       "      <td>amd</td>\n",
       "    </tr>\n",
       "    <tr>\n",
       "      <th>20177</th>\n",
       "      <td>probably score higher english proficiency test...</td>\n",
       "      <td>amd</td>\n",
       "    </tr>\n",
       "    <tr>\n",
       "      <th>20178</th>\n",
       "      <td>prove know concept cost opportunity efficiency...</td>\n",
       "      <td>amd</td>\n",
       "    </tr>\n",
       "    <tr>\n",
       "      <th>20179</th>\n",
       "      <td>cost opportunity perfectly ok way say many nam...</td>\n",
       "      <td>amd</td>\n",
       "    </tr>\n",
       "  </tbody>\n",
       "</table>\n",
       "<p>15176 rows × 2 columns</p>\n",
       "</div>"
      ],
      "text/plain": [
       "                                         Reddit comments  tag\n",
       "5004                             sound samsung 8nm cheap  amd\n",
       "5005   might ethic mongol invasion tech really someth...  amd\n",
       "5006       nvidia software ai learning big selling point  amd\n",
       "5007   ultimate countdown marketing campaign nvidia b...  amd\n",
       "5008   excited amd guy compete going go nvidia brand ...  amd\n",
       "...                                                  ...  ...\n",
       "20175  dude really understand example confused said l...  amd\n",
       "20176            still know example still thought looked  amd\n",
       "20177  probably score higher english proficiency test...  amd\n",
       "20178  prove know concept cost opportunity efficiency...  amd\n",
       "20179  cost opportunity perfectly ok way say many nam...  amd\n",
       "\n",
       "[15176 rows x 2 columns]"
      ]
     },
     "execution_count": 54,
     "metadata": {},
     "output_type": "execute_result"
    }
   ],
   "source": [
    "# Obtaining only AMD comments\n",
    "amd_df = GPU_df[GPU_df['tag'] == 'amd']\n",
    "amd_df"
   ]
  },
  {
   "cell_type": "markdown",
   "metadata": {},
   "source": [
    "### Distribution of text for AMD comments"
   ]
  },
  {
   "cell_type": "code",
   "execution_count": 55,
   "metadata": {},
   "outputs": [
    {
     "data": {
      "text/plain": [
       "5004      4\n",
       "5005      8\n",
       "5006      7\n",
       "5007     11\n",
       "5008     10\n",
       "         ..\n",
       "20175    10\n",
       "20176     6\n",
       "20177    11\n",
       "20178    12\n",
       "20179    20\n",
       "Name: textlength, Length: 15176, dtype: int64"
      ]
     },
     "execution_count": 55,
     "metadata": {},
     "output_type": "execute_result"
    }
   ],
   "source": [
    "# Obtain the length of of each post and store the values in length\n",
    "textlength = amd_df['Reddit comments'].apply(lambda x:len(x.split())).rename('textlength')\n",
    "textlength"
   ]
  },
  {
   "cell_type": "code",
   "execution_count": 56,
   "metadata": {},
   "outputs": [
    {
     "data": {
      "text/html": [
       "<div>\n",
       "<style scoped>\n",
       "    .dataframe tbody tr th:only-of-type {\n",
       "        vertical-align: middle;\n",
       "    }\n",
       "\n",
       "    .dataframe tbody tr th {\n",
       "        vertical-align: top;\n",
       "    }\n",
       "\n",
       "    .dataframe thead th {\n",
       "        text-align: right;\n",
       "    }\n",
       "</style>\n",
       "<table border=\"1\" class=\"dataframe\">\n",
       "  <thead>\n",
       "    <tr style=\"text-align: right;\">\n",
       "      <th></th>\n",
       "      <th>Reddit comments</th>\n",
       "      <th>tag</th>\n",
       "      <th>textlength</th>\n",
       "    </tr>\n",
       "  </thead>\n",
       "  <tbody>\n",
       "    <tr>\n",
       "      <th>5004</th>\n",
       "      <td>sound samsung 8nm cheap</td>\n",
       "      <td>amd</td>\n",
       "      <td>4</td>\n",
       "    </tr>\n",
       "    <tr>\n",
       "      <th>5005</th>\n",
       "      <td>might ethic mongol invasion tech really someth...</td>\n",
       "      <td>amd</td>\n",
       "      <td>8</td>\n",
       "    </tr>\n",
       "    <tr>\n",
       "      <th>5006</th>\n",
       "      <td>nvidia software ai learning big selling point</td>\n",
       "      <td>amd</td>\n",
       "      <td>7</td>\n",
       "    </tr>\n",
       "    <tr>\n",
       "      <th>5007</th>\n",
       "      <td>ultimate countdown marketing campaign nvidia b...</td>\n",
       "      <td>amd</td>\n",
       "      <td>11</td>\n",
       "    </tr>\n",
       "    <tr>\n",
       "      <th>5008</th>\n",
       "      <td>excited amd guy compete going go nvidia brand ...</td>\n",
       "      <td>amd</td>\n",
       "      <td>10</td>\n",
       "    </tr>\n",
       "    <tr>\n",
       "      <th>...</th>\n",
       "      <td>...</td>\n",
       "      <td>...</td>\n",
       "      <td>...</td>\n",
       "    </tr>\n",
       "    <tr>\n",
       "      <th>20175</th>\n",
       "      <td>dude really understand example confused said l...</td>\n",
       "      <td>amd</td>\n",
       "      <td>10</td>\n",
       "    </tr>\n",
       "    <tr>\n",
       "      <th>20176</th>\n",
       "      <td>still know example still thought looked</td>\n",
       "      <td>amd</td>\n",
       "      <td>6</td>\n",
       "    </tr>\n",
       "    <tr>\n",
       "      <th>20177</th>\n",
       "      <td>probably score higher english proficiency test...</td>\n",
       "      <td>amd</td>\n",
       "      <td>11</td>\n",
       "    </tr>\n",
       "    <tr>\n",
       "      <th>20178</th>\n",
       "      <td>prove know concept cost opportunity efficiency...</td>\n",
       "      <td>amd</td>\n",
       "      <td>12</td>\n",
       "    </tr>\n",
       "    <tr>\n",
       "      <th>20179</th>\n",
       "      <td>cost opportunity perfectly ok way say many nam...</td>\n",
       "      <td>amd</td>\n",
       "      <td>20</td>\n",
       "    </tr>\n",
       "  </tbody>\n",
       "</table>\n",
       "<p>15176 rows × 3 columns</p>\n",
       "</div>"
      ],
      "text/plain": [
       "                                         Reddit comments  tag  textlength\n",
       "5004                             sound samsung 8nm cheap  amd           4\n",
       "5005   might ethic mongol invasion tech really someth...  amd           8\n",
       "5006       nvidia software ai learning big selling point  amd           7\n",
       "5007   ultimate countdown marketing campaign nvidia b...  amd          11\n",
       "5008   excited amd guy compete going go nvidia brand ...  amd          10\n",
       "...                                                  ...  ...         ...\n",
       "20175  dude really understand example confused said l...  amd          10\n",
       "20176            still know example still thought looked  amd           6\n",
       "20177  probably score higher english proficiency test...  amd          11\n",
       "20178  prove know concept cost opportunity efficiency...  amd          12\n",
       "20179  cost opportunity perfectly ok way say many nam...  amd          20\n",
       "\n",
       "[15176 rows x 3 columns]"
      ]
     },
     "execution_count": 56,
     "metadata": {},
     "output_type": "execute_result"
    }
   ],
   "source": [
    "amd_df = pd.concat([amd_df, textlength], axis=1)\n",
    "amd_df"
   ]
  },
  {
   "cell_type": "code",
   "execution_count": 57,
   "metadata": {},
   "outputs": [
    {
     "data": {
      "image/png": "[encoded data removed]",
      "text/plain": [
       "<Figure size 792x504 with 1 Axes>"
      ]
     },
     "metadata": {},
     "output_type": "display_data"
    }
   ],
   "source": [
    "# Plotting the histogram of the textlength\n",
    "plt.figure(figsize=(11,7))\n",
    "sns.histplot(amd_df['textlength'], color='red')\n",
    "\n",
    "plt.title(\"Distribution of text length for AMD's comments\")\n",
    "\n",
    "# Plot the mean of the distribution\n",
    "plt.axvline(amd_df['textlength'].mean(), color='yellow', linewidth=3, label = 'Mean of text length')\n",
    "plt.axvline(amd_df['textlength'].median(), color='magenta', linewidth=3, label = 'Median of text length')\n",
    "\n",
    "plt.xlabel('Text Length')\n",
    "plt.legend(fontsize=13, loc='center')\n",
    "plt.xlim(0,110);"
   ]
  },
  {
   "cell_type": "markdown",
   "metadata": {},
   "source": [
    "The distribution shows a right tailed histogram with most posts having a length of 15 to 18."
   ]
  },
  {
   "cell_type": "markdown",
   "metadata": {},
   "source": [
    "### Frequently occurring words in AMD comments "
   ]
  },
  {
   "cell_type": "code",
   "execution_count": 88,
   "metadata": {},
   "outputs": [
    {
     "data": {
      "text/plain": [
       "{'sound': 128,\n",
       " 'samsung': 112,\n",
       " '8nm': 59,\n",
       " 'cheap': 98,\n",
       " 'might': 480,\n",
       " 'ethic': 3,\n",
       " 'mongol': 14,\n",
       " 'invasion': 3,\n",
       " 'tech': 197,\n",
       " 'really': 989,\n",
       " 'something': 523,\n",
       " 'else': 144,\n",
       " 'nvidia': 2670,\n",
       " 'software': 237,\n",
       " 'ai': 117,\n",
       " 'learning': 51,\n",
       " 'big': 464,\n",
       " 'selling': 116,\n",
       " 'point': 517,\n",
       " 'ultimate': 23,\n",
       " 'countdown': 5,\n",
       " 'marketing': 137,\n",
       " 'campaign': 4,\n",
       " 'brilliant': 4,\n",
       " 'amd': 3835,\n",
       " 'rtg': 5,\n",
       " 'need': 733,\n",
       " 'similar': 225,\n",
       " 'excited': 58,\n",
       " 'guy': 182,\n",
       " 'compete': 259,\n",
       " 'going': 920,\n",
       " 'go': 662,\n",
       " 'brand': 84,\n",
       " 'loyalty': 20,\n",
       " 'sucker': 12,\n",
       " 'think': 1172,\n",
       " 'actualy': 1,\n",
       " 'competing': 73,\n",
       " 'new': 770,\n",
       " 'console': 513,\n",
       " 'price': 1724,\n",
       " '499': 94,\n",
       " '2080ti': 422,\n",
       " 'performance': 2146,\n",
       " 'say': 546,\n",
       " 'dumping': 1,\n",
       " 'reputable': 6,\n",
       " 'leak': 65,\n",
       " 'rdna2': 196,\n",
       " '40': 67,\n",
       " '50': 379,\n",
       " 'faster': 393,\n",
       " 'couple': 101,\n",
       " 'rumored': 24,\n",
       " 'focus': 30,\n",
       " 'power': 488,\n",
       " 'efficiency': 65,\n",
       " 'take': 283,\n",
       " 'full': 170,\n",
       " 'advantage': 120,\n",
       " 'tsmc': 117,\n",
       " 'process': 75,\n",
       " '7nm': 109,\n",
       " 'whatever': 142,\n",
       " 'forget': 55,\n",
       " 'silicon': 30,\n",
       " 'pushed': 28,\n",
       " '350': 61,\n",
       " 'tdp': 53,\n",
       " 'impossible': 25,\n",
       " 'raise': 26,\n",
       " 'coming': 204,\n",
       " 'competitive': 183,\n",
       " 'want': 722,\n",
       " 'much': 923,\n",
       " 'buy': 774,\n",
       " 'potentially': 19,\n",
       " 'lower': 363,\n",
       " 'waiting': 227,\n",
       " '700': 127,\n",
       " '3080': 1656,\n",
       " 'lot': 439,\n",
       " 'better': 1251,\n",
       " 'people': 1132,\n",
       " 'expecting': 64,\n",
       " 'maybe': 396,\n",
       " 'see': 978,\n",
       " '600': 90,\n",
       " 'gpu': 1104,\n",
       " 'approach': 22,\n",
       " '1440p': 390,\n",
       " '100': 211,\n",
       " 'fps': 343,\n",
       " 'high': 465,\n",
       " 'setting': 157,\n",
       " 'im': 162,\n",
       " 'sure': 555,\n",
       " 'good': 1007,\n",
       " 'show': 291,\n",
       " 'u': 274,\n",
       " 'first': 383,\n",
       " 'rdna': 122,\n",
       " 'generation': 263,\n",
       " 'rt': 602,\n",
       " 'boom': 5,\n",
       " 'wow': 50,\n",
       " 'amazing': 85,\n",
       " 'pricing': 321,\n",
       " 'seem': 141,\n",
       " 'learned': 11,\n",
       " 'turing': 123,\n",
       " 'however': 122,\n",
       " 'double': 154,\n",
       " 'step': 59,\n",
       " 'right': 565,\n",
       " 'direction': 14,\n",
       " 'come': 529,\n",
       " 'punching': 3,\n",
       " 'force': 35,\n",
       " 'even': 1231,\n",
       " 'believe': 149,\n",
       " 'throwing': 10,\n",
       " 'punch': 8,\n",
       " 'lack': 82,\n",
       " 'competition': 239,\n",
       " 'another': 197,\n",
       " 'b4': 3,\n",
       " 'refresh': 98,\n",
       " 'ampere': 194,\n",
       " 'throw': 19,\n",
       " 'dirt': 20,\n",
       " 'wound': 1,\n",
       " 'x200b': 138,\n",
       " 'edit': 193,\n",
       " 'absolutely': 114,\n",
       " 'wrecking': 1,\n",
       " 'shop': 21,\n",
       " 'side': 121,\n",
       " 'since': 511,\n",
       " 'thread': 61,\n",
       " 'got': 686,\n",
       " 'deleted': 7,\n",
       " 'aswell': 8,\n",
       " 'post': 121,\n",
       " 'r': 91,\n",
       " 'p': 51,\n",
       " 'offer': 140,\n",
       " 'would': 1436,\n",
       " 'lying': 12,\n",
       " 'said': 535,\n",
       " 'offering': 76,\n",
       " 'isnt': 27,\n",
       " 'spectacular': 4,\n",
       " '3070': 1499,\n",
       " 'thinking': 117,\n",
       " 'fucking': 101,\n",
       " 'insane': 78,\n",
       " 'though': 609,\n",
       " 'pull': 74,\n",
       " '5700xt': 331,\n",
       " 'wish': 55,\n",
       " 'exaggerating': 2,\n",
       " 'ready': 89,\n",
       " 'score': 16,\n",
       " 'great': 322,\n",
       " 'second': 108,\n",
       " 'hand': 154,\n",
       " 'half': 110,\n",
       " 'priced': 167,\n",
       " 'jumping': 8,\n",
       " 'hype': 59,\n",
       " 'train': 22,\n",
       " 'key': 16,\n",
       " 'thought': 157,\n",
       " 'nothing': 236,\n",
       " 'pipeline': 14,\n",
       " 'plateaued': 1,\n",
       " 'dropped': 41,\n",
       " 'track': 18,\n",
       " 'record': 22,\n",
       " 'drop': 197,\n",
       " 'unless': 154,\n",
       " 'actually': 531,\n",
       " 'weird': 90,\n",
       " 'someone': 172,\n",
       " 'casually': 5,\n",
       " 'follows': 3,\n",
       " 'hardware': 342,\n",
       " 'news': 60,\n",
       " 'looking': 289,\n",
       " 'upgrade': 266,\n",
       " 'bit': 372,\n",
       " 'seems': 425,\n",
       " 'stockholm': 1,\n",
       " 'syndrome': 1,\n",
       " 'prospect': 3,\n",
       " '400': 128,\n",
       " '3060': 81,\n",
       " 'deal': 223,\n",
       " 'x': 145,\n",
       " '2060': 55,\n",
       " 'well': 825,\n",
       " 'yeah': 590,\n",
       " 'supposed': 59,\n",
       " 'happen': 65,\n",
       " 'launch': 526,\n",
       " 'product': 312,\n",
       " 'line': 223,\n",
       " 'gotten': 33,\n",
       " 'way': 520,\n",
       " 'control': 85,\n",
       " 'attention': 20,\n",
       " 'look': 710,\n",
       " 'also': 895,\n",
       " 'cooking': 6,\n",
       " 'probably': 713,\n",
       " 'hear': 49,\n",
       " 'soon': 148,\n",
       " 'feel': 234,\n",
       " 'doa': 23,\n",
       " 'let': 241,\n",
       " 'pas': 24,\n",
       " 'change': 129,\n",
       " 'strategy': 32,\n",
       " 'navi': 254,\n",
       " 'changing': 11,\n",
       " 'medium': 39,\n",
       " 'blowing': 11,\n",
       " 'park': 11,\n",
       " 'forced': 30,\n",
       " 'innovate': 4,\n",
       " 'hope': 250,\n",
       " 'respond': 10,\n",
       " 'enough': 329,\n",
       " 'polaris': 15,\n",
       " 'replacement': 41,\n",
       " 'sold': 118,\n",
       " '399': 20,\n",
       " '299': 9,\n",
       " 'one': 1206,\n",
       " 'year': 781,\n",
       " 'ago': 174,\n",
       " 'please': 75,\n",
       " 'press': 10,\n",
       " 'f': 31,\n",
       " 'bought': 213,\n",
       " '6': 125,\n",
       " 'month': 310,\n",
       " 'mod': 23,\n",
       " 'removing': 10,\n",
       " 'lmao': 104,\n",
       " 'doubling': 11,\n",
       " 'spec': 68,\n",
       " 'rtx': 886,\n",
       " 'beat': 207,\n",
       " '30': 164,\n",
       " 'rdna1': 19,\n",
       " 'barely': 62,\n",
       " 'scared': 36,\n",
       " 'losing': 22,\n",
       " 'money': 313,\n",
       " 'asap': 12,\n",
       " '80': 234,\n",
       " 'true': 235,\n",
       " 'knock': 7,\n",
       " 'worried': 56,\n",
       " 'inclined': 4,\n",
       " 'concern': 52,\n",
       " 'able': 279,\n",
       " 'fit': 43,\n",
       " '2080': 313,\n",
       " 'tier': 116,\n",
       " 'xbox': 109,\n",
       " 'series': 723,\n",
       " 'speaks': 3,\n",
       " 'volume': 14,\n",
       " 'familiar': 6,\n",
       " 'built': 62,\n",
       " 'mean': 519,\n",
       " 'likely': 282,\n",
       " 'sell': 276,\n",
       " 'around': 347,\n",
       " '300': 111,\n",
       " 'cost': 289,\n",
       " 'least': 334,\n",
       " 'release': 377,\n",
       " 'detail': 71,\n",
       " 'supply': 144,\n",
       " 'catch': 48,\n",
       " 'demand': 92,\n",
       " '3000': 153,\n",
       " 'wait': 638,\n",
       " 'know': 888,\n",
       " 'forthcoming': 1,\n",
       " 'info': 104,\n",
       " 'assume': 86,\n",
       " 'par': 71,\n",
       " 'dead': 63,\n",
       " 'arrives': 6,\n",
       " 'yeap': 1,\n",
       " 'doubt': 126,\n",
       " 'answer': 115,\n",
       " 'yep': 61,\n",
       " 'fanboy': 45,\n",
       " 'slapped': 6,\n",
       " 'today': 213,\n",
       " 'spot': 39,\n",
       " 'ratio': 27,\n",
       " 'top': 231,\n",
       " 'worse': 240,\n",
       " '5600': 35,\n",
       " 'xt': 715,\n",
       " 'february': 15,\n",
       " 'retrospective': 1,\n",
       " 'ton': 55,\n",
       " 'driver': 678,\n",
       " 'error': 40,\n",
       " 'exchange': 15,\n",
       " 'different': 201,\n",
       " 'model': 175,\n",
       " 'announcement': 57,\n",
       " 'starting': 32,\n",
       " 'pretty': 430,\n",
       " 'bad': 318,\n",
       " 'decision': 77,\n",
       " 'card': 2840,\n",
       " 'affordable': 18,\n",
       " 'budget': 158,\n",
       " 'beast': 22,\n",
       " 'last': 289,\n",
       " 'matter': 221,\n",
       " 'knocked': 2,\n",
       " 'ryzen': 283,\n",
       " 'moment': 74,\n",
       " 'radeon': 246,\n",
       " 'sadly': 32,\n",
       " 'le': 599,\n",
       " '3': 429,\n",
       " 'steam': 24,\n",
       " 'user': 103,\n",
       " 'ti': 340,\n",
       " 'anything': 329,\n",
       " 'make': 849,\n",
       " 'sense': 196,\n",
       " 'gamers': 143,\n",
       " 'help': 110,\n",
       " 'cpu': 749,\n",
       " 'sale': 105,\n",
       " 'positive': 12,\n",
       " 'pick': 63,\n",
       " '1080ti': 60,\n",
       " '200': 95,\n",
       " 'rendering': 82,\n",
       " 'rig': 51,\n",
       " 'always': 251,\n",
       " 'dominated': 4,\n",
       " 'scene': 17,\n",
       " 'lol': 449,\n",
       " 'competent': 5,\n",
       " 'gpus': 378,\n",
       " 'future': 233,\n",
       " 'nonsense': 8,\n",
       " 'aside': 28,\n",
       " 'appear': 16,\n",
       " 'ray': 805,\n",
       " 'tracing': 760,\n",
       " 'chart': 67,\n",
       " 'relative': 28,\n",
       " 'improvement': 109,\n",
       " 'game': 1463,\n",
       " 'used': 295,\n",
       " 'long': 214,\n",
       " 'claimed': 25,\n",
       " '2xperformance': 1,\n",
       " 'per': 137,\n",
       " 'watt': 121,\n",
       " '2': 801,\n",
       " 'codename': 1,\n",
       " 'upcoming': 50,\n",
       " 'killer': 49,\n",
       " 'final': 24,\n",
       " 'either': 304,\n",
       " 'company': 205,\n",
       " 'next': 456,\n",
       " 'quite': 178,\n",
       " 'confident': 23,\n",
       " 'comparable': 66,\n",
       " 'stack': 55,\n",
       " 'vega': 87,\n",
       " 'animal': 3,\n",
       " 'real': 237,\n",
       " 'separated': 1,\n",
       " 'gaming': 549,\n",
       " 'enterprise': 7,\n",
       " 'serious': 27,\n",
       " 'msrp': 166,\n",
       " 'luck': 100,\n",
       " 'finding': 15,\n",
       " 'decided': 43,\n",
       " 'spin': 4,\n",
       " 'matrix': 4,\n",
       " 'based': 181,\n",
       " 'baseline': 11,\n",
       " 'benchmark': 565,\n",
       " 'unboxed': 21,\n",
       " 'saw': 104,\n",
       " 'went': 155,\n",
       " 'ahead': 98,\n",
       " 'placed': 24,\n",
       " 'stuck': 39,\n",
       " 'claim': 93,\n",
       " 'calculated': 2,\n",
       " 'percentage': 16,\n",
       " 'increase': 158,\n",
       " 'two': 219,\n",
       " 'column': 1,\n",
       " 'http': 189,\n",
       " 'imgur': 12,\n",
       " 'com': 171,\n",
       " 'vnyknsz': 1,\n",
       " 'apu': 17,\n",
       " 'getting': 445,\n",
       " 'level': 199,\n",
       " '36cus': 2,\n",
       " 'limited': 72,\n",
       " 'cooling': 19,\n",
       " 'scale': 55,\n",
       " '72cus': 1,\n",
       " 'satisfied': 3,\n",
       " 'poor': 48,\n",
       " 'confirmed': 44,\n",
       " 'fabbed': 2,\n",
       " 'meaning': 33,\n",
       " 'minimum': 26,\n",
       " 'slight': 28,\n",
       " 'transistor': 35,\n",
       " 'density': 20,\n",
       " 'n7': 12,\n",
       " '500': 443,\n",
       " 'mm': 13,\n",
       " 'die': 123,\n",
       " 'could': 550,\n",
       " 'easily': 70,\n",
       " 'exceed': 8,\n",
       " 'count': 52,\n",
       " 'ga102': 11,\n",
       " 'zen': 167,\n",
       " 'honest': 48,\n",
       " '3090': 973,\n",
       " 'bet': 76,\n",
       " 'phenomenal': 3,\n",
       " 'day': 365,\n",
       " 'intend': 7,\n",
       " 'announce': 41,\n",
       " 'week': 191,\n",
       " 'many': 280,\n",
       " 'time': 849,\n",
       " 'must': 60,\n",
       " 'presentation': 92,\n",
       " 'made': 198,\n",
       " 'dl': 1509,\n",
       " 'v': 362,\n",
       " 'damn': 100,\n",
       " 'slide': 102,\n",
       " 'rasterization': 97,\n",
       " 'yet': 358,\n",
       " 'bee': 1,\n",
       " 'seen': 177,\n",
       " 'freaking': 22,\n",
       " 'pr': 3,\n",
       " 'fluff': 4,\n",
       " 'review': 323,\n",
       " 'depends': 105,\n",
       " 'set': 118,\n",
       " 'knew': 36,\n",
       " 'reason': 286,\n",
       " 'still': 1174,\n",
       " 'holding': 27,\n",
       " 'giving': 44,\n",
       " 'wife': 19,\n",
       " 'raytracing': 356,\n",
       " 'man': 110,\n",
       " 'otherwise': 92,\n",
       " 'instantly': 12,\n",
       " 'lose': 49,\n",
       " 'end': 556,\n",
       " 'market': 331,\n",
       " 'powerful': 74,\n",
       " 'felt': 16,\n",
       " 'push': 102,\n",
       " 'hard': 148,\n",
       " 'navi2': 1,\n",
       " 'expect': 177,\n",
       " '0': 287,\n",
       " 'vram': 661,\n",
       " '16gb': 223,\n",
       " 'vrs': 4,\n",
       " 'ri': 12,\n",
       " 'instead': 170,\n",
       " '599': 21,\n",
       " '649': 63,\n",
       " 'calculation': 16,\n",
       " '2x': 55,\n",
       " 'aka': 19,\n",
       " '57000xt': 1,\n",
       " 'almost': 164,\n",
       " 'anyway': 177,\n",
       " 'general': 67,\n",
       " '56': 21,\n",
       " 'strong': 19,\n",
       " 'remember': 105,\n",
       " 'folk': 26,\n",
       " 'bottom': 31,\n",
       " 'flagship': 63,\n",
       " 'replaced': 9,\n",
       " 'including': 48,\n",
       " 'digital': 44,\n",
       " 'foundry': 28,\n",
       " 'bench': 45,\n",
       " 'rtx2080': 4,\n",
       " 'founder': 41,\n",
       " 'edition': 45,\n",
       " 'rtx3080': 20,\n",
       " '25': 45,\n",
       " 'especially': 189,\n",
       " 'tag': 20,\n",
       " 'brought': 23,\n",
       " 'table': 14,\n",
       " '35': 23,\n",
       " 'ground': 15,\n",
       " 'additional': 37,\n",
       " 'clock': 107,\n",
       " 'speed': 83,\n",
       " 'bandwidth': 66,\n",
       " '7na': 1,\n",
       " 'mention': 115,\n",
       " 'handle': 54,\n",
       " 'rumor': 57,\n",
       " 'laden': 1,\n",
       " 'paper': 71,\n",
       " 'promise': 23,\n",
       " 'achievable': 3,\n",
       " 'awesome': 63,\n",
       " 'cringe': 7,\n",
       " 'hey': 27,\n",
       " 'buddy': 30,\n",
       " 'tell': 146,\n",
       " 'entire': 51,\n",
       " 'computer': 139,\n",
       " 'buyer': 63,\n",
       " '1400': 11,\n",
       " 'component': 46,\n",
       " 'spent': 25,\n",
       " 'reddit': 51,\n",
       " 'pcmr': 1,\n",
       " 'buildapc': 1,\n",
       " 'sorry': 93,\n",
       " 'kill': 42,\n",
       " 'generally': 48,\n",
       " 'build': 151,\n",
       " 'gtx': 76,\n",
       " '1060': 32,\n",
       " 'paid': 71,\n",
       " 'back': 401,\n",
       " '2016': 15,\n",
       " '17': 18,\n",
       " 'advancement': 4,\n",
       " '20': 206,\n",
       " 'rtx2080ti': 5,\n",
       " 'titan': 168,\n",
       " 'eqv': 1,\n",
       " 'comparing': 68,\n",
       " 'generates': 3,\n",
       " 'heat': 21,\n",
       " 'stupid': 61,\n",
       " 'absolute': 47,\n",
       " 'metric': 21,\n",
       " 'gave': 42,\n",
       " 'plenty': 57,\n",
       " 'act': 12,\n",
       " 'together': 49,\n",
       " 'given': 112,\n",
       " 'forward': 72,\n",
       " 'chance': 106,\n",
       " 'get': 124,\n",
       " 'jensen': 26,\n",
       " 'releasing': 43,\n",
       " 'concerned': 26,\n",
       " 'bringing': 19,\n",
       " '8k': 72,\n",
       " '60fps': 59,\n",
       " 'unreal': 16,\n",
       " 'obsolete': 9,\n",
       " 'put': 214,\n",
       " 'ole': 1,\n",
       " 'trolling': 13,\n",
       " 'begun': 2,\n",
       " 'already': 387,\n",
       " 'nervous': 2,\n",
       " 'hit': 143,\n",
       " 'wont': 56,\n",
       " 'imo': 111,\n",
       " 'smell': 5,\n",
       " '1500': 58,\n",
       " 'cuda': 136,\n",
       " 'core': 262,\n",
       " 'pulling': 19,\n",
       " 'sneaky': 3,\n",
       " 'super': 384,\n",
       " 'speculated': 3,\n",
       " 'upset': 8,\n",
       " 'curious': 70,\n",
       " 'architecture': 86,\n",
       " 'form': 20,\n",
       " 'opinion': 64,\n",
       " 'anywhere': 43,\n",
       " 'pre': 79,\n",
       " 'order': 452,\n",
       " 'anyone': 234,\n",
       " 'date': 64,\n",
       " 'honesty': 5,\n",
       " 'event': 36,\n",
       " 'totally': 71,\n",
       " 'simply': 106,\n",
       " 'expertise': 5,\n",
       " 'besides': 24,\n",
       " 'raw': 70,\n",
       " 'stronger': 12,\n",
       " 'fair': 133,\n",
       " 'kind': 126,\n",
       " 'hoped': 11,\n",
       " 'needed': 73,\n",
       " 'xfx': 17,\n",
       " 'rx': 344,\n",
       " '5700': 145,\n",
       " 'cheaper': 320,\n",
       " 'mighty': 4,\n",
       " 'impressive': 55,\n",
       " 'indeed': 27,\n",
       " 'current': 128,\n",
       " '2060s': 12,\n",
       " 'love': 97,\n",
       " 'read': 105,\n",
       " 'compressed': 5,\n",
       " 'data': 66,\n",
       " 'nvme': 16,\n",
       " 'ssd': 34,\n",
       " 'suspected': 3,\n",
       " 'checking': 18,\n",
       " 'overall': 78,\n",
       " 'cool': 66,\n",
       " 'stuff': 153,\n",
       " 'obvious': 26,\n",
       " 'smart': 226,\n",
       " 'keep': 231,\n",
       " 'finger': 21,\n",
       " 'division': 8,\n",
       " 'soc': 3,\n",
       " 'supplier': 9,\n",
       " 'pleasantly': 2,\n",
       " 'surprised': 64,\n",
       " 'providing': 11,\n",
       " 'every': 218,\n",
       " 'pricepoint': 7,\n",
       " 'onus': 1,\n",
       " 'prove': 8,\n",
       " '9': 89,\n",
       " 'give': 238,\n",
       " 'loose': 8,\n",
       " 'never': 278,\n",
       " 'win': 155,\n",
       " 'agree': 150,\n",
       " 'amount': 127,\n",
       " 'exclusive': 44,\n",
       " 'technology': 113,\n",
       " 'showed': 143,\n",
       " 'superb': 1,\n",
       " 'care': 272,\n",
       " 'afford': 56,\n",
       " 'gimme': 6,\n",
       " '450': 36,\n",
       " 'smth': 5,\n",
       " 'move': 71,\n",
       " 'considering': 170,\n",
       " 'rayttracing': 1,\n",
       " 'implementation': 96,\n",
       " '2nd': 17,\n",
       " 'gen': 335,\n",
       " 'possible': 124,\n",
       " 'word': 64,\n",
       " 'watched': 20,\n",
       " 'beautiful': 7,\n",
       " 'whoosh': 1,\n",
       " 'life': 64,\n",
       " 'triple': 17,\n",
       " 'boot': 16,\n",
       " 'linux': 132,\n",
       " 'mac': 21,\n",
       " 'issue': 454,\n",
       " 'write': 18,\n",
       " 'took': 70,\n",
       " 'intel': 350,\n",
       " 'cleaner': 2,\n",
       " 'past': 91,\n",
       " 'faith': 10,\n",
       " 'close': 196,\n",
       " 'may': 234,\n",
       " 'best': 383,\n",
       " 'team': 114,\n",
       " '4700': 1,\n",
       " 'hot': 52,\n",
       " 'setup': 41,\n",
       " 'idgaf': 2,\n",
       " 'graphic': 225,\n",
       " 'whether': 79,\n",
       " 'provides': 18,\n",
       " 'pulled': 16,\n",
       " 'astonishing': 3,\n",
       " 'famboy': 1,\n",
       " 'crazy': 66,\n",
       " 'stop': 75,\n",
       " 'simping': 1,\n",
       " 'private': 5,\n",
       " 'reasonable': 61,\n",
       " 'certainly': 49,\n",
       " 'played': 35,\n",
       " 'role': 9,\n",
       " 'carried': 6,\n",
       " 'ps5': 110,\n",
       " 'openly': 2,\n",
       " 'stock': 617,\n",
       " 'test': 63,\n",
       " 'number': 291,\n",
       " 'face': 22,\n",
       " 'interested': 72,\n",
       " 'done': 127,\n",
       " 'unlike': 23,\n",
       " 'walt': 1,\n",
       " 'gonna': 264,\n",
       " 'world': 96,\n",
       " 'actual': 109,\n",
       " 'nice': 169,\n",
       " 'definitely': 222,\n",
       " 'ironically': 3,\n",
       " 'war': 38,\n",
       " 'minded': 5,\n",
       " 'builder': 7,\n",
       " 'king': 26,\n",
       " 'personally': 94,\n",
       " 'flop': 10,\n",
       " 'incredible': 13,\n",
       " 'value': 284,\n",
       " 'resource': 21,\n",
       " 'fight': 25,\n",
       " 'ten': 9,\n",
       " 'higher': 318,\n",
       " 'consumer': 140,\n",
       " 'terrified': 2,\n",
       " 'fastest': 17,\n",
       " 'play': 294,\n",
       " 'solid': 60,\n",
       " 'option': 162,\n",
       " 'presented': 9,\n",
       " 'type': 67,\n",
       " 'misleading': 16,\n",
       " 'term': 120,\n",
       " 'non': 164,\n",
       " 'channel': 25,\n",
       " 'hesitate': 2,\n",
       " 'outright': 15,\n",
       " 'lost': 30,\n",
       " 'run': 291,\n",
       " 'redline': 2,\n",
       " 'reliability': 7,\n",
       " 'becomes': 40,\n",
       " 'longstanding': 1,\n",
       " 'history': 27,\n",
       " 'matching': 26,\n",
       " '2070': 91,\n",
       " 'treat': 4,\n",
       " 'grinding': 1,\n",
       " 'corpse': 1,\n",
       " 'recently': 37,\n",
       " 'bomb': 3,\n",
       " 'industry': 41,\n",
       " 'competetive': 3,\n",
       " 'dang': 11,\n",
       " 'fanboys': 32,\n",
       " '60': 120,\n",
       " 'somehow': 31,\n",
       " 'teraflop': 2,\n",
       " 'increased': 30,\n",
       " '10': 327,\n",
       " '29': 4,\n",
       " 'painful': 4,\n",
       " '699': 37,\n",
       " 'accessible': 1,\n",
       " 'grim': 8,\n",
       " '2015': 8,\n",
       " 'others': 51,\n",
       " 'pointed': 6,\n",
       " 'sign': 31,\n",
       " 'expects': 1,\n",
       " 'kopite7kimi': 3,\n",
       " 'tweet': 8,\n",
       " 'suggests': 9,\n",
       " 'department': 20,\n",
       " 'genuinely': 21,\n",
       " 'hyped': 19,\n",
       " 'derail': 1,\n",
       " 'board': 128,\n",
       " 'taken': 22,\n",
       " 'flak': 1,\n",
       " 'quality': 134,\n",
       " 'riding': 2,\n",
       " 'shoulder': 2,\n",
       " 'deliver': 40,\n",
       " 'mind': 105,\n",
       " 'share': 79,\n",
       " 'missing': 46,\n",
       " 'related': 15,\n",
       " 'original': 42,\n",
       " 'phenom': 4,\n",
       " 'whenever': 24,\n",
       " 'hell': 74,\n",
       " 'impressed': 25,\n",
       " 'sad': 39,\n",
       " 'rather': 129,\n",
       " 'hold': 92,\n",
       " 'weaker': 9,\n",
       " 'buying': 237,\n",
       " 'optimistic': 14,\n",
       " 'availability': 122,\n",
       " 'unknown': 21,\n",
       " 'draw': 73,\n",
       " 'conclusion': 20,\n",
       " 'turn': 96,\n",
       " 'advertised': 13,\n",
       " 'exact': 46,\n",
       " 'livestream': 2,\n",
       " 'everyone': 186,\n",
       " 'typing': 4,\n",
       " 'rip': 68,\n",
       " 'missile': 1,\n",
       " 'targeting': 11,\n",
       " 'facility': 1,\n",
       " '1111': 1,\n",
       " 'sweetspot': 2,\n",
       " '580': 76,\n",
       " 'yes': 371,\n",
       " 'pray': 5,\n",
       " 'content': 37,\n",
       " 'reality': 29,\n",
       " 'live': 81,\n",
       " 'mid': 155,\n",
       " '10x': 5,\n",
       " '580s': 2,\n",
       " 'victory': 8,\n",
       " 'clearly': 69,\n",
       " 'scream': 1,\n",
       " 'desperate': 5,\n",
       " 'geforce': 36,\n",
       " '470': 13,\n",
       " 'explaining': 7,\n",
       " '1000': 95,\n",
       " 'segment': 43,\n",
       " '4': 215,\n",
       " 'sod': 2,\n",
       " 'try': 163,\n",
       " 'nvidea': 8,\n",
       " 'consistently': 19,\n",
       " 'milked': 3,\n",
       " 'customer': 76,\n",
       " 'range': 178,\n",
       " 'smaller': 63,\n",
       " 'chip': 166,\n",
       " 'charging': 15,\n",
       " 'several': 37,\n",
       " '15': 175,\n",
       " '1080': 99,\n",
       " '16': 79,\n",
       " 'literally': 205,\n",
       " 'enter': 9,\n",
       " 'space': 62,\n",
       " 'highest': 31,\n",
       " 'latest': 45,\n",
       " '251mm': 2,\n",
       " 'usually': 88,\n",
       " 'flexing': 1,\n",
       " 'dominant': 5,\n",
       " 'announces': 8,\n",
       " '27': 8,\n",
       " 'pound': 4,\n",
       " 'slot': 35,\n",
       " 'thick': 2,\n",
       " 'unprecedented': 4,\n",
       " 'connector': 9,\n",
       " 'fiji': 3,\n",
       " 'pro': 49,\n",
       " 'duo': 1,\n",
       " 'halo': 25,\n",
       " 'nvidias': 65,\n",
       " 'behavior': 7,\n",
       " 'increasing': 17,\n",
       " 'gap': 79,\n",
       " 'decreasing': 4,\n",
       " 'cap': 15,\n",
       " 'silly': 23,\n",
       " 'sheer': 5,\n",
       " 'stupidity': 5,\n",
       " 'disruptive': 6,\n",
       " '4k': 578,\n",
       " 'cu': 120,\n",
       " '1': 426,\n",
       " '8ghz': 1,\n",
       " 'hitting': 15,\n",
       " '2080s': 20,\n",
       " 'fully': 66,\n",
       " 'unleashed': 1,\n",
       " '70': 90,\n",
       " '2ghz': 5,\n",
       " 'dedicated': 50,\n",
       " 'fast': 69,\n",
       " 'gddr6': 67,\n",
       " '6x': 8,\n",
       " 'efficient': 55,\n",
       " 'nobody': 51,\n",
       " 'severely': 7,\n",
       " 'feature': 591,\n",
       " 'decade': 38,\n",
       " 'awful': 13,\n",
       " 'compared': 198,\n",
       " 'yea': 88,\n",
       " 'check': 91,\n",
       " 'mate': 25,\n",
       " 'unfortunately': 66,\n",
       " 'sleeve': 11,\n",
       " 'premium': 50,\n",
       " 'pay': 217,\n",
       " 'packing': 4,\n",
       " 'constant': 5,\n",
       " 'innovation': 12,\n",
       " 'trust': 37,\n",
       " 'ehm': 1,\n",
       " '320w': 12,\n",
       " 'doubled': 14,\n",
       " '335w': 1,\n",
       " 'roughly': 55,\n",
       " 'add': 103,\n",
       " 'architectural': 8,\n",
       " 'position': 29,\n",
       " 'basically': 195,\n",
       " 'performing': 31,\n",
       " 'perform': 70,\n",
       " 'aroung': 1,\n",
       " '2070super': 5,\n",
       " 'difference': 350,\n",
       " 'reflex': 10,\n",
       " 'compare': 106,\n",
       " 'custom': 53,\n",
       " 'sony': 42,\n",
       " 'pcie': 56,\n",
       " 'specialized': 6,\n",
       " 'method': 20,\n",
       " 'moving': 28,\n",
       " 'asset': 13,\n",
       " 'independent': 42,\n",
       " 'benchmarking': 7,\n",
       " 'confirm': 34,\n",
       " 'everything': 164,\n",
       " 'investment': 11,\n",
       " 'magic': 15,\n",
       " 'baked': 10,\n",
       " 'microsoft': 75,\n",
       " 'launching': 18,\n",
       " 'imagine': 92,\n",
       " 'sub': 74,\n",
       " 'lowering': 13,\n",
       " 'node': 86,\n",
       " 'expensive': 221,\n",
       " 'featureset': 5,\n",
       " 'aither': 1,\n",
       " 'talking': 183,\n",
       " 'defeating': 1,\n",
       " 'beyond': 28,\n",
       " 'secure': 7,\n",
       " 'low': 155,\n",
       " 'leaf': 9,\n",
       " 'hole': 4,\n",
       " 'unhappy': 1,\n",
       " 'guess': 292,\n",
       " 'ask': 75,\n",
       " 'stay': 53,\n",
       " 'holiday': 15,\n",
       " 'season': 13,\n",
       " 'energy': 9,\n",
       " 'laptop': 36,\n",
       " 'relatively': 38,\n",
       " '8': 201,\n",
       " ...}"
      ]
     },
     "execution_count": 88,
     "metadata": {},
     "output_type": "execute_result"
    }
   ],
   "source": [
    "# Obtaining the frequency of the tokens\n",
    "amd_comments_lst = list(\" \".join(amd_df['Reddit comments']).split())\n",
    "amd_comments_dict = {}\n",
    "\n",
    "# Creates a frequency dictionary\n",
    "for word in amd_comments_lst:\n",
    "    if word not in amd_comments_dict.keys():\n",
    "        amd_comments_dict[word] = amd_comments_lst.count(word)\n",
    "    else:\n",
    "        continue\n",
    "        \n",
    "amd_comments_dict"
   ]
  },
  {
   "cell_type": "code",
   "execution_count": 80,
   "metadata": {},
   "outputs": [
    {
     "data": {
      "image/png": "[encoded data removed]",
      "text/plain": [
       "<Figure size 792x504 with 1 Axes>"
      ]
     },
     "metadata": {
      "needs_background": "light"
     },
     "output_type": "display_data"
    }
   ],
   "source": [
    "amd_freq_df = pd.DataFrame({'words': amd_comments_dict.keys(), 'freq': amd_comments_dict.values()})\n",
    "amd_freq_df.sort_values('freq', ascending=False).set_index('words').head(20).plot(kind='barh', figsize=(11,7),\n",
    "                                                                                          title='Frequency of tokens in the AMD comments')\n",
    "\n",
    "plt.xlabel('Frequency')\n",
    "plt.ylabel('Tokens', rotation=360)\n",
    "plt.xticks(fontsize=12)\n",
    "plt.legend([]);"
   ]
  },
  {
   "cell_type": "markdown",
   "metadata": {},
   "source": [
    "Other than `amd`, `nvidia` and `card`, it seems that the most commonly occuring words are `performance`, `price`, Nvidia's GPU models the Rtx [`3080`](https://www.nvidia.com/en-sg/geforce/graphics-cards/30-series/rtx-3080/), Rtx [`3070`](https://www.nvidia.com/en-sg/geforce/graphics-cards/30-series/rtx-3070/) and AMD's [`6800`](https://www.amd.com/en/products/graphics/amd-radeon-rx-6800). These type of GPUs are catered towards enthusiast grade gamers who play in resolutions of 1440p and upwards and at frames above 60. The `dl` likely refers to Nvidia's DLSS (Deep Learning Super Sampling) which uses the Tensor core AI processors on the GPU to boost frame rates and render beautiful and sharp images in games. Surprisingly, only one AMD model made it to the top frequent tokens list, which highlights the popularity behind Nvidia's cards. "
   ]
  },
  {
   "cell_type": "markdown",
   "metadata": {},
   "source": [
    "### Word cloud on AMD's comments"
   ]
  },
  {
   "cell_type": "code",
   "execution_count": 114,
   "metadata": {},
   "outputs": [],
   "source": [
    "amd_string = \" \".join(amd_df['Reddit comments'])\n"
   ]
  },
  {
   "cell_type": "code",
   "execution_count": 96,
   "metadata": {},
   "outputs": [
    {
     "data": {
      "image/png": "[encoded data removed]",
      "text/plain": [
       "<PIL.Image.Image image mode=RGB size=700x500 at 0x1B547CFC9D0>"
      ]
     },
     "execution_count": 96,
     "metadata": {},
     "output_type": "execute_result"
    }
   ],
   "source": [
    "# Create a WordCloud object\n",
    "wordcloud = WordCloud(background_color=\"white\", max_words=5000, \n",
    "                      contour_width=5, contour_color='steelblue', width=700, height=500)\n",
    "wordcloud.generate(amd_string)\n",
    "# Visualize the word cloud\n",
    "wordcloud.to_image()"
   ]
  },
  {
   "cell_type": "markdown",
   "metadata": {},
   "source": [
    "These tokens look similar to the frequency distribution graph that was created previously."
   ]
  },
  {
   "cell_type": "markdown",
   "metadata": {},
   "source": [
    "### Longest AMD comment"
   ]
  },
  {
   "cell_type": "code",
   "execution_count": 113,
   "metadata": {},
   "outputs": [
    {
     "data": {
      "text/plain": [
       "array(['example ray tracing insanely computationally expensive ever push higher higher resolution jumping 1080p 1440p 4k already adding big load gpus ray tracing exacerbates essentially enabling ray tracing half performance huge performance hit think agree 1 exactly dl important negates halving ray tracing 2 guarantee devs could move away completely fake baking lighting cube map use rtx would know still long way away unfortunately yes computationally expensive also far easier devs implement physic based work box without hundred hour make cube map hit generally getting ray tracing effect certain area example ray traced environmental lighting effect muzzle fire trade lighting option used severe performance penalty yep absolute best implementation control far see good cyberpunk implementation albeit would bet extremely good given close partnership nvidia said implementation still computational cost high best cast 1 2 ray per pixel enormously far cry realistic rendering theoretically say need cast 500 ray per pixel simulate true even 1 2 ray per pixel still extremely obvious ray tracing active game implemented properly see metro exodus global illumination control everything thus regardless full ray tracing still several visual benefit well worth imo trying move thing forward struggling performance hit severe casting abysmal amount ray end massively noisy image requires effort denoise make performance awful supersampling upscale true honestly think ray tracing premature way forward completely agree amount ray cast limitation type lighting apply cost incurs current resolution remedy denoising upsampling fix huge meh think premature mean anymore time 1st variation hell first couple variation new tech always going seem premature whenever new issue arise ever pas said premature phase never developed however technology need continue advance think amd approach hybridization bvh traversal make sense push traditional rasterization support rt leverage cu enable without dedicating huge portion die leverage effect tradeoff performance make sense visually sure agree probably way forward within next decade nvidia seems correctly igorslab leak whose raster benchmark matched shown presentation rt performance worse amd amd also said working dl equivalent actual demo even shown thus seems separate part die hardware accelerated individually still way go',\n",
       "       'amd', 341], dtype=object)"
      ]
     },
     "execution_count": 113,
     "metadata": {},
     "output_type": "execute_result"
    }
   ],
   "source": [
    "amd_df.sort_values(by='textlength', ascending=False).iloc[0].values"
   ]
  },
  {
   "cell_type": "markdown",
   "metadata": {},
   "source": [
    "The comments talks about ray tracing, which is a feature exclusive to Nvidia which provides realistic lighting in games, that is found to be computationally expensive and causes performance to drop significantly for the previous generation of GPUs, the Rtx 2000 series. But the newly released RTX 3000 series provides better performance using ray tracing."
   ]
  },
  {
   "cell_type": "markdown",
   "metadata": {},
   "source": [
    "## EDA on Nvidia comments"
   ]
  },
  {
   "cell_type": "markdown",
   "metadata": {},
   "source": [
    "## "
   ]
  },
  {
   "cell_type": "code",
   "execution_count": null,
   "metadata": {},
   "outputs": [],
   "source": []
  },
  {
   "cell_type": "code",
   "execution_count": null,
   "metadata": {},
   "outputs": [],
   "source": []
  },
  {
   "cell_type": "markdown",
   "metadata": {},
   "source": [
    "### EDA on Customer Review Title"
   ]
  },
  {
   "cell_type": "code",
   "execution_count": null,
   "metadata": {},
   "outputs": [],
   "source": [
    "customer_review_title = \" \".join(GPU_df['Customer Review Title'])"
   ]
  },
  {
   "cell_type": "markdown",
   "metadata": {},
   "source": [
    "Based on the word cloud, it seems that consumers are mostly satisfied with their GPU purchase with 'good', 'great' and 'best' words coming out at the top. The consumers are mostly gamers and most of them play in 1080p resolution and they seem to be price sensitive with the words such as 'bang buck' and 'great value' having a bigger size. "
   ]
  },
  {
   "cell_type": "markdown",
   "metadata": {},
   "source": [
    "The graph shows consistency with the word cloud on the frequency of the words appearing in the customer review title."
   ]
  },
  {
   "cell_type": "code",
   "execution_count": null,
   "metadata": {},
   "outputs": [],
   "source": [
    "# customer_review_title_df['freq'].hist(bins=150)\n",
    "# plt.xlim(0,50)"
   ]
  },
  {
   "cell_type": "markdown",
   "metadata": {},
   "source": [
    "### EDA on Customer Review"
   ]
  },
  {
   "cell_type": "code",
   "execution_count": null,
   "metadata": {},
   "outputs": [],
   "source": [
    "customer_review = \" \".join(GPU_df['Customer Review'])"
   ]
  },
  {
   "cell_type": "code",
   "execution_count": null,
   "metadata": {},
   "outputs": [],
   "source": [
    "# Create a WordCloud object\n",
    "wordcloud = WordCloud(background_color=\"white\", max_words=5000, \n",
    "                      contour_width=5, contour_color='steelblue', width=700, height=500)\n",
    "wordcloud.generate(customer_review)\n",
    "# Visualize the word cloud\n",
    "wordcloud.to_image()"
   ]
  },
  {
   "cell_type": "markdown",
   "metadata": {},
   "source": [
    "Similar to the customer review title word cloud, consumers who purchase GPUs tend to be gamers and they play on 1080p resolution. GPU fans are an important factor when making a GPU purchase as the word 'fan' size is rather big. The word 'issue' and 'problem' shows up big which suggests that consumers may have encountered issues with the GPUs they have purchased. The two brands 'amd' and 'nvidia' shows that these 2 are the major players in the GPU market. GPU drivers seem to play an important role in making sure that the GPU is functioning."
   ]
  },
  {
   "cell_type": "code",
   "execution_count": null,
   "metadata": {},
   "outputs": [],
   "source": [
    "customer_review_list = customer_review.split()\n",
    "customer_review_dict = {}\n",
    "\n",
    "for word in customer_review_list:\n",
    "    if word not in customer_review_dict.keys():\n",
    "        customer_review_dict[word] = customer_review_list.count(word)\n",
    "    else:\n",
    "        continue\n",
    "        \n",
    "customer_review_dict"
   ]
  },
  {
   "cell_type": "code",
   "execution_count": null,
   "metadata": {},
   "outputs": [],
   "source": [
    "review_df = {'words': customer_review_dict.keys(), 'freq': customer_review_dict.values()}\n",
    "customer_review_df = pd.DataFrame(review_df)\n",
    "customer_review_df.sort_values('freq', ascending=False).set_index('words').head(10).plot(kind='barh', figsize=(11,7),\n",
    "                                                                                              title='Frequency of words in customer review title')\n",
    "plt.xticks(fontsize=12)\n",
    "plt.yticks(fontsize=12)\n",
    "plt.legend([]);"
   ]
  },
  {
   "cell_type": "markdown",
   "metadata": {},
   "source": [
    "The graph shows consistency with the word cloud on the frequency of the words appearing in the customer review title."
   ]
  },
  {
   "cell_type": "markdown",
   "metadata": {},
   "source": [
    "## Prepare data for LDA Analysis"
   ]
  },
  {
   "cell_type": "markdown",
   "metadata": {},
   "source": [
    "I'll be using only Customer Review to conduct the LDA Analysis as it makes up the bulk of the words."
   ]
  },
  {
   "cell_type": "code",
   "execution_count": null,
   "metadata": {},
   "outputs": [],
   "source": [
    "# Converting to the customer reviews from series to a list.\n",
    "data = GPU_df['Customer Review'].values.tolist()\n",
    "data[600]"
   ]
  },
  {
   "cell_type": "code",
   "execution_count": null,
   "metadata": {},
   "outputs": [],
   "source": [
    "def sent_to_words(sentences):\n",
    "    for sentence in sentences:\n",
    "        # deacc=True removes punctuations\n",
    "        yield(gensim.utils.simple_preprocess(sentence))"
   ]
  },
  {
   "cell_type": "code",
   "execution_count": null,
   "metadata": {},
   "outputs": [],
   "source": [
    "texts = list(sent_to_words(data))"
   ]
  },
  {
   "cell_type": "code",
   "execution_count": null,
   "metadata": {},
   "outputs": [],
   "source": [
    "# Prints the first document with up to 30 words in them\n",
    "print(texts[:1][0][:30])"
   ]
  },
  {
   "cell_type": "code",
   "execution_count": null,
   "metadata": {},
   "outputs": [],
   "source": [
    "# Create Dictionary\n",
    "id2word = corpora.Dictionary(texts)\n",
    "\n",
    "# Term Document Frequency\n",
    "corpus = [id2word.doc2bow(text) for text in texts]\n",
    "# View\n",
    "print(corpus[:1][0][:30])"
   ]
  },
  {
   "cell_type": "markdown",
   "metadata": {},
   "source": [
    "## LDA Model Training"
   ]
  },
  {
   "cell_type": "code",
   "execution_count": null,
   "metadata": {},
   "outputs": [],
   "source": [
    "# number of topics\n",
    "num_topics = 10\n",
    "\n",
    "# Build LDA model\n",
    "lda_model = gensim.models.LdaMulticore(corpus=corpus,\n",
    "                                       id2word=id2word,\n",
    "                                       num_topics=num_topics,\n",
    "                                      passes=20, random_state=42)\n",
    "\n",
    "# Print the Keyword in the 10 topics\n",
    "pprint(lda_model.print_topics())\n",
    "doc_lda = lda_model[corpus]"
   ]
  },
  {
   "cell_type": "code",
   "execution_count": null,
   "metadata": {},
   "outputs": [],
   "source": [
    "# Visualize the topics\n",
    "pyLDAvis.enable_notebook()\n",
    "LDAvis_data_filepath = os.path.join(os.getcwd()+'\\\\visualization\\\\'+'ldavis_prepared_'+str(num_topics))\n",
    "# # this is a bit time consuming - make the if statement True\n",
    "# # if you want to execute visualization prep yourself\n",
    "if False:\n",
    "    LDAvis_prepared = pyLDAvis.gensim.prepare(lda_model, corpus, id2word)\n",
    "    with open(LDAvis_data_filepath, 'wb') as f:\n",
    "        pickle.dump(LDAvis_prepared, f)\n",
    "# load the pre-prepared pyLDAvis data from disk\n",
    "with open(LDAvis_data_filepath, 'rb') as f:\n",
    "    LDAvis_prepared = pickle.load(f)\n",
    "pyLDAvis.save_html(LDAvis_prepared, os.getcwd()+ '\\\\visualization\\\\' + 'ldavis_prepared_'+ str(num_topics) +'.html')\n",
    "LDAvis_prepared"
   ]
  },
  {
   "cell_type": "code",
   "execution_count": null,
   "metadata": {},
   "outputs": [],
   "source": []
  },
  {
   "cell_type": "code",
   "execution_count": null,
   "metadata": {},
   "outputs": [],
   "source": []
  },
  {
   "cell_type": "code",
   "execution_count": null,
   "metadata": {},
   "outputs": [],
   "source": []
  },
  {
   "cell_type": "markdown",
   "metadata": {},
   "source": [
    "# Others"
   ]
  },
  {
   "cell_type": "code",
   "execution_count": null,
   "metadata": {},
   "outputs": [],
   "source": []
  }
 ],
 "metadata": {
  "kernelspec": {
   "display_name": "Python 3",
   "language": "python",
   "name": "python3"
  },
  "language_info": {
   "codemirror_mode": {
    "name": "ipython",
    "version": 3
   },
   "file_extension": ".py",
   "mimetype": "text/x-python",
   "name": "python",
   "nbconvert_exporter": "python",
   "pygments_lexer": "ipython3",
   "version": "3.8.5"
  },
  "notify_time": "30"
 },
 "nbformat": 4,
 "nbformat_minor": 4
}
