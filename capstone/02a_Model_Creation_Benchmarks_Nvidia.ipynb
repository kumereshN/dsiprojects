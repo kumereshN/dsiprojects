{
 "cells": [
  {
   "cell_type": "markdown",
   "metadata": {},
   "source": [
    "# GA Capstone: Topic Modelling on AMD vs Nvidia GPU"
   ]
  },
  {
   "cell_type": "markdown",
   "metadata": {},
   "source": [
    "## Contents\n",
    "- Data Extraction\n",
    "- Data Cleaning\n",
    "- [EDA](#EDA)\n",
    "- [Prepare data for LDA modeling](#Prepare-reddit-comments-for-LDA-modeling)\n",
    "- [Phrase modeling: Bigram and Trigram models](#Phrase-modeling:-Bigram-and-Trigram-models)\n",
    "- [LDA Model Training](#LDA-Model-Training)\n",
    "- [LDA Mallet Model](#LDA-Mallet-Model)\n",
    "- Model creation\n",
    "- Model Evaluation"
   ]
  },
  {
   "cell_type": "markdown",
   "metadata": {},
   "source": [
    "# Import the libraries"
   ]
  },
  {
   "cell_type": "code",
   "execution_count": 1,
   "metadata": {
    "ExecuteTime": {
     "end_time": "2021-01-25T23:48:47.586399Z",
     "start_time": "2021-01-25T23:48:44.529997Z"
    }
   },
   "outputs": [],
   "source": [
    "# Common imports\n",
    "import numpy as np\n",
    "import pandas as pd\n",
    "import matplotlib.pyplot as plt\n",
    "import matplotlib.colors as mcolors\n",
    "import seaborn as sns\n",
    "\n",
    "from pprint import pprint\n",
    "import os\n",
    "from collections import Counter\n",
    "\n",
    "# Bokeh package for TSNE\n",
    "from sklearn.manifold import TSNE\n",
    "from bokeh.plotting import figure, output_file, show\n",
    "from bokeh.models import Label, ColumnDataSource\n",
    "from bokeh.io import output_notebook\n",
    "\n",
    "import re\n",
    "# NLTK Library\n",
    "from nltk import FreqDist\n",
    "from nltk.tokenize import RegexpTokenizer\n",
    "from nltk.stem import WordNetLemmatizer\n",
    "from nltk.corpus import stopwords\n",
    "\n",
    "# Import PRAW package\n",
    "import praw\n",
    "from praw.models import MoreComments\n",
    "\n",
    "# Gensim library\n",
    "import gensim\n",
    "from gensim.utils import simple_preprocess, ClippedCorpus\n",
    "from gensim.models import LdaMulticore, CoherenceModel, Phrases\n",
    "from gensim.models.wrappers import LdaMallet\n",
    "from gensim.models.phrases import Phraser\n",
    "from gensim.parsing.preprocessing import STOPWORDS\n",
    "import gensim.corpora as corpora\n",
    "\n",
    "# pyLDAvis library\n",
    "import pyLDAvis.gensim\n",
    "import pickle \n",
    "import pyLDAvis\n",
    "\n",
    "# Detect non-english words\n",
    "from langdetect import detect, DetectorFactory\n",
    "DetectorFactory.seed = 0\n",
    "\n",
    "# Detect non-english words using spacy\n",
    "import spacy\n",
    "from spacy_langdetect import LanguageDetector\n",
    "nlp = spacy.load(\"en_core_web_sm\")\n",
    "nlp.add_pipe(LanguageDetector(), name='language_detector', last=True)\n",
    "\n",
    "\n",
    "# Import the wordcloud library\n",
    "from wordcloud import WordCloud\n",
    "\n",
    "# Removes depreciation warnings\n",
    "import warnings\n",
    "warnings.filterwarnings(\"ignore\", category=DeprecationWarning)\n",
    "\n",
    "%matplotlib inline"
   ]
  },
  {
   "cell_type": "code",
   "execution_count": 2,
   "metadata": {
    "ExecuteTime": {
     "end_time": "2021-01-25T23:48:47.618419Z",
     "start_time": "2021-01-25T23:48:47.603405Z"
    }
   },
   "outputs": [],
   "source": [
    "# Set the max rows and columns for Pandas\n",
    "pd.options.display.max_columns = 100\n",
    "pd.options.display.max_rows = 200"
   ]
  },
  {
   "cell_type": "code",
   "execution_count": 3,
   "metadata": {
    "ExecuteTime": {
     "end_time": "2021-01-25T23:48:47.650448Z",
     "start_time": "2021-01-25T23:48:47.634433Z"
    }
   },
   "outputs": [],
   "source": [
    "# Set the style use\n",
    "plt.style.use('ggplot')"
   ]
  },
  {
   "cell_type": "markdown",
   "metadata": {},
   "source": [
    "# Load the dataset"
   ]
  },
  {
   "cell_type": "code",
   "execution_count": 4,
   "metadata": {
    "ExecuteTime": {
     "end_time": "2021-01-25T23:48:47.714506Z",
     "start_time": "2021-01-25T23:48:47.666463Z"
    }
   },
   "outputs": [
    {
     "data": {
      "text/html": [
       "<div>\n",
       "<style scoped>\n",
       "    .dataframe tbody tr th:only-of-type {\n",
       "        vertical-align: middle;\n",
       "    }\n",
       "\n",
       "    .dataframe tbody tr th {\n",
       "        vertical-align: top;\n",
       "    }\n",
       "\n",
       "    .dataframe thead th {\n",
       "        text-align: right;\n",
       "    }\n",
       "</style>\n",
       "<table border=\"1\" class=\"dataframe\">\n",
       "  <thead>\n",
       "    <tr style=\"text-align: right;\">\n",
       "      <th></th>\n",
       "      <th>Reddit comments</th>\n",
       "      <th>tag</th>\n",
       "    </tr>\n",
       "  </thead>\n",
       "  <tbody>\n",
       "    <tr>\n",
       "      <th>0</th>\n",
       "      <td>pre order time releasing 17th</td>\n",
       "      <td>nvidia</td>\n",
       "    </tr>\n",
       "    <tr>\n",
       "      <th>1</th>\n",
       "      <td>going hard grab 3080 17th</td>\n",
       "      <td>nvidia</td>\n",
       "    </tr>\n",
       "    <tr>\n",
       "      <th>2</th>\n",
       "      <td>uk price 3090 1399 3080 649 3070 469 scan aib ...</td>\n",
       "      <td>nvidia</td>\n",
       "    </tr>\n",
       "    <tr>\n",
       "      <th>3</th>\n",
       "      <td>talking spatula jensen pot</td>\n",
       "      <td>nvidia</td>\n",
       "    </tr>\n",
       "    <tr>\n",
       "      <th>4</th>\n",
       "      <td>10k core completely insane</td>\n",
       "      <td>nvidia</td>\n",
       "    </tr>\n",
       "    <tr>\n",
       "      <th>...</th>\n",
       "      <td>...</td>\n",
       "      <td>...</td>\n",
       "    </tr>\n",
       "    <tr>\n",
       "      <th>25511</th>\n",
       "      <td>motherboard say pcie 0 compatible</td>\n",
       "      <td>nvidia</td>\n",
       "    </tr>\n",
       "    <tr>\n",
       "      <th>25512</th>\n",
       "      <td>thanks understanding know course 3000s dvi por...</td>\n",
       "      <td>nvidia</td>\n",
       "    </tr>\n",
       "    <tr>\n",
       "      <th>25513</th>\n",
       "      <td>buy 1400 gpu</td>\n",
       "      <td>nvidia</td>\n",
       "    </tr>\n",
       "    <tr>\n",
       "      <th>25514</th>\n",
       "      <td>know ill wait 3070 3060</td>\n",
       "      <td>nvidia</td>\n",
       "    </tr>\n",
       "    <tr>\n",
       "      <th>25515</th>\n",
       "      <td>generational compatibility compatible size pci...</td>\n",
       "      <td>nvidia</td>\n",
       "    </tr>\n",
       "  </tbody>\n",
       "</table>\n",
       "<p>25516 rows × 2 columns</p>\n",
       "</div>"
      ],
      "text/plain": [
       "                                         Reddit comments     tag\n",
       "0                          pre order time releasing 17th  nvidia\n",
       "1                              going hard grab 3080 17th  nvidia\n",
       "2      uk price 3090 1399 3080 649 3070 469 scan aib ...  nvidia\n",
       "3                             talking spatula jensen pot  nvidia\n",
       "4                             10k core completely insane  nvidia\n",
       "...                                                  ...     ...\n",
       "25511                  motherboard say pcie 0 compatible  nvidia\n",
       "25512  thanks understanding know course 3000s dvi por...  nvidia\n",
       "25513                                       buy 1400 gpu  nvidia\n",
       "25514                            know ill wait 3070 3060  nvidia\n",
       "25515  generational compatibility compatible size pci...  nvidia\n",
       "\n",
       "[25516 rows x 2 columns]"
      ]
     },
     "execution_count": 4,
     "metadata": {},
     "output_type": "execute_result"
    }
   ],
   "source": [
    "# Read the existing csv file\n",
    "GPU_df = pd.read_csv('./reddit dataset/cleaned_combined_df.csv')\n",
    "GPU_df"
   ]
  },
  {
   "cell_type": "code",
   "execution_count": 5,
   "metadata": {
    "ExecuteTime": {
     "end_time": "2021-01-25T23:48:47.746535Z",
     "start_time": "2021-01-25T23:48:47.731523Z"
    }
   },
   "outputs": [
    {
     "data": {
      "text/html": [
       "<div>\n",
       "<style scoped>\n",
       "    .dataframe tbody tr th:only-of-type {\n",
       "        vertical-align: middle;\n",
       "    }\n",
       "\n",
       "    .dataframe tbody tr th {\n",
       "        vertical-align: top;\n",
       "    }\n",
       "\n",
       "    .dataframe thead th {\n",
       "        text-align: right;\n",
       "    }\n",
       "</style>\n",
       "<table border=\"1\" class=\"dataframe\">\n",
       "  <thead>\n",
       "    <tr style=\"text-align: right;\">\n",
       "      <th></th>\n",
       "      <th>Reddit comments</th>\n",
       "      <th>tag</th>\n",
       "    </tr>\n",
       "  </thead>\n",
       "  <tbody>\n",
       "    <tr>\n",
       "      <th>0</th>\n",
       "      <td>pre order time releasing 17th</td>\n",
       "      <td>nvidia</td>\n",
       "    </tr>\n",
       "    <tr>\n",
       "      <th>1</th>\n",
       "      <td>going hard grab 3080 17th</td>\n",
       "      <td>nvidia</td>\n",
       "    </tr>\n",
       "    <tr>\n",
       "      <th>2</th>\n",
       "      <td>uk price 3090 1399 3080 649 3070 469 scan aib ...</td>\n",
       "      <td>nvidia</td>\n",
       "    </tr>\n",
       "    <tr>\n",
       "      <th>3</th>\n",
       "      <td>talking spatula jensen pot</td>\n",
       "      <td>nvidia</td>\n",
       "    </tr>\n",
       "    <tr>\n",
       "      <th>4</th>\n",
       "      <td>10k core completely insane</td>\n",
       "      <td>nvidia</td>\n",
       "    </tr>\n",
       "    <tr>\n",
       "      <th>...</th>\n",
       "      <td>...</td>\n",
       "      <td>...</td>\n",
       "    </tr>\n",
       "    <tr>\n",
       "      <th>25511</th>\n",
       "      <td>motherboard say pcie 0 compatible</td>\n",
       "      <td>nvidia</td>\n",
       "    </tr>\n",
       "    <tr>\n",
       "      <th>25512</th>\n",
       "      <td>thanks understanding know course 3000s dvi por...</td>\n",
       "      <td>nvidia</td>\n",
       "    </tr>\n",
       "    <tr>\n",
       "      <th>25513</th>\n",
       "      <td>buy 1400 gpu</td>\n",
       "      <td>nvidia</td>\n",
       "    </tr>\n",
       "    <tr>\n",
       "      <th>25514</th>\n",
       "      <td>know ill wait 3070 3060</td>\n",
       "      <td>nvidia</td>\n",
       "    </tr>\n",
       "    <tr>\n",
       "      <th>25515</th>\n",
       "      <td>generational compatibility compatible size pci...</td>\n",
       "      <td>nvidia</td>\n",
       "    </tr>\n",
       "  </tbody>\n",
       "</table>\n",
       "<p>10990 rows × 2 columns</p>\n",
       "</div>"
      ],
      "text/plain": [
       "                                         Reddit comments     tag\n",
       "0                          pre order time releasing 17th  nvidia\n",
       "1                              going hard grab 3080 17th  nvidia\n",
       "2      uk price 3090 1399 3080 649 3070 469 scan aib ...  nvidia\n",
       "3                             talking spatula jensen pot  nvidia\n",
       "4                             10k core completely insane  nvidia\n",
       "...                                                  ...     ...\n",
       "25511                  motherboard say pcie 0 compatible  nvidia\n",
       "25512  thanks understanding know course 3000s dvi por...  nvidia\n",
       "25513                                       buy 1400 gpu  nvidia\n",
       "25514                            know ill wait 3070 3060  nvidia\n",
       "25515  generational compatibility compatible size pci...  nvidia\n",
       "\n",
       "[10990 rows x 2 columns]"
      ]
     },
     "execution_count": 5,
     "metadata": {},
     "output_type": "execute_result"
    }
   ],
   "source": [
    "nvidia_df = GPU_df[GPU_df['tag'] == 'nvidia']\n",
    "nvidia_df"
   ]
  },
  {
   "cell_type": "markdown",
   "metadata": {},
   "source": [
    "# Prepare comments for modeling"
   ]
  },
  {
   "cell_type": "code",
   "execution_count": 54,
   "metadata": {
    "ExecuteTime": {
     "end_time": "2021-01-26T05:19:37.568098Z",
     "start_time": "2021-01-26T05:19:37.524058Z"
    }
   },
   "outputs": [],
   "source": [
    "# Creates the bag of words for each document\n",
    "data = [token.split() for token in nvidia_df['Reddit comments'].tolist()]"
   ]
  },
  {
   "cell_type": "code",
   "execution_count": 55,
   "metadata": {
    "ExecuteTime": {
     "end_time": "2021-01-26T05:19:37.934408Z",
     "start_time": "2021-01-26T05:19:37.919405Z"
    },
    "scrolled": true
   },
   "outputs": [
    {
     "name": "stdout",
     "output_type": "stream",
     "text": [
      "[['pre', 'order', 'time', 'releasing', '17th'], ['going', 'hard', 'grab', '3080', '17th'], ['uk', 'price', '3090', '1399', '3080', '649', '3070', '469', 'scan', 'aib', 'card', 'thanks', 'u', 'benzyl', 'chloride', 'overclockers', 'aib', 'card']]\n"
     ]
    }
   ],
   "source": [
    "# Prints the bag of words from the first 3 documents\n",
    "print(data[:3])"
   ]
  },
  {
   "cell_type": "markdown",
   "metadata": {},
   "source": [
    "# Phrase modeling: Bigram and Trigram models"
   ]
  },
  {
   "cell_type": "code",
   "execution_count": 56,
   "metadata": {
    "ExecuteTime": {
     "end_time": "2021-01-26T05:19:41.615923Z",
     "start_time": "2021-01-26T05:19:38.910455Z"
    }
   },
   "outputs": [],
   "source": [
    "# Build the bigram and trigram models\n",
    "bigram = Phrases(data, min_count=5, threshold=100) # higher threshold fewer phrases.\n",
    "trigram = Phrases(bigram[data], threshold=100)\n",
    "\n",
    "# Faster way to get a sentence clubbed as a trigram/bigram, this reduces memory, making the model smaller and faster\n",
    "bigram_mod = Phraser(bigram)\n",
    "trigram_mod = Phraser(trigram)"
   ]
  },
  {
   "cell_type": "code",
   "execution_count": 57,
   "metadata": {
    "ExecuteTime": {
     "end_time": "2021-01-26T05:19:42.972697Z",
     "start_time": "2021-01-26T05:19:41.952309Z"
    }
   },
   "outputs": [],
   "source": [
    "def make_bigrams(texts):\n",
    "    return [bigram_mod[doc] for doc in texts]\n",
    "\n",
    "def make_trigrams(texts):\n",
    "    return [trigram_mod[bigram_mod[doc]] for doc in texts]\n",
    "\n",
    "# Form Bigrams\n",
    "data_bigrams = make_bigrams(data)\n",
    "\n",
    "# Form Trigrams\n",
    "data_trigrams = make_trigrams(data)"
   ]
  },
  {
   "cell_type": "code",
   "execution_count": 58,
   "metadata": {
    "ExecuteTime": {
     "end_time": "2021-01-26T05:19:43.323269Z",
     "start_time": "2021-01-26T05:19:43.309009Z"
    }
   },
   "outputs": [],
   "source": [
    "# Create a dictionary to hold the different n-grams dataset\n",
    "phrase_list = {'unigram': data, 'bigrams': data_bigrams, 'trigrams': data_trigrams}\n",
    "# phrase_list"
   ]
  },
  {
   "cell_type": "markdown",
   "metadata": {},
   "source": [
    "# LDA on AMD comments with all the ngrams"
   ]
  },
  {
   "cell_type": "code",
   "execution_count": 83,
   "metadata": {
    "ExecuteTime": {
     "end_time": "2021-01-26T05:31:00.091150Z",
     "start_time": "2021-01-26T05:31:00.079139Z"
    }
   },
   "outputs": [],
   "source": [
    "# Creating a function to create the LDA model and compute the coherence score\n",
    "def lda_calculate_coherence_values(ngram_data, num_topics):\n",
    "    \"\"\"\n",
    "    This function calculates the coherence score and the perplexity scores for each ngram and stores\n",
    "    the model, corpus and the id2word in their respective dictionaries\n",
    "    \"\"\"\n",
    "    model_dict = {}\n",
    "    score_dict = {}\n",
    "    for key, value in ngram_data.items():\n",
    "        ngram_id2word = corpora.Dictionary(value)\n",
    "        ngram_corpus = [ngram_id2word.doc2bow(text) for text in value]\n",
    "\n",
    "        ngram_lda_model = LdaMulticore(corpus=ngram_corpus, \n",
    "                             id2word=ngram_id2word, \n",
    "                             num_topics=num_topics,\n",
    "                             chunksize=100,\n",
    "                             passes=20, \n",
    "                             random_state=42,\n",
    "                            per_word_topics=True)\n",
    "\n",
    "\n",
    "        # Compute Perplexity score\n",
    "        ngram_perplexity = ngram_lda_model.log_perplexity(ngram_corpus)  # a measure of how good the model is. lower the better.\n",
    "\n",
    "        # Compute Coherence Score\n",
    "        coherence_model_lda = CoherenceModel(model=ngram_lda_model, texts=value, dictionary=ngram_id2word, coherence='c_v')\n",
    "        ngram_coherence_lda = coherence_model_lda.get_coherence()\n",
    "        \n",
    "        # Prints out the topics for each ngram\n",
    "        print('\\n\\n')\n",
    "        print(f'*********Displaying {num_topics} topics for {key}******************\\n\\n')\n",
    "        pprint(ngram_lda_model.print_topics())\n",
    "        \n",
    "        # Store the perplexity and coherence scores in score_dict\n",
    "        score_dict[key] = []\n",
    "        score_dict[key].append(ngram_perplexity)\n",
    "        score_dict[key].append(ngram_coherence_lda)\n",
    "        \n",
    "        # Stores the ngram's model, corpus, id2word in model_dict\n",
    "        model_dict[key] = []\n",
    "        model_dict[key].append(ngram_lda_model)\n",
    "        model_dict[key].append(ngram_corpus)\n",
    "        model_dict[key].append(ngram_id2word)\n",
    "\n",
    "    return score_dict, model_dict, num_topics"
   ]
  },
  {
   "cell_type": "code",
   "execution_count": 84,
   "metadata": {
    "ExecuteTime": {
     "end_time": "2021-01-26T05:32:51.852387Z",
     "start_time": "2021-01-26T05:31:00.476490Z"
    }
   },
   "outputs": [
    {
     "name": "stdout",
     "output_type": "stream",
     "text": [
      "\n",
      "\n",
      "\n",
      "*********Displaying 5 topics for unigram******************\n",
      "\n",
      "\n",
      "[(0,\n",
      "  '0.019*\"amd\" + 0.019*\"nvidia\" + 0.011*\"time\" + 0.011*\"people\" + 0.009*\"buy\" '\n",
      "  '+ 0.008*\"3080\" + 0.008*\"year\" + 0.007*\"card\" + 0.007*\"know\" + '\n",
      "  '0.006*\"price\"'),\n",
      " (1,\n",
      "  '0.014*\"memory\" + 0.012*\"chip\" + 0.009*\"3090\" + 0.009*\"bit\" + 0.007*\"bus\" + '\n",
      "  '0.005*\"video\" + 0.004*\"benchmark\" + 0.004*\"gaming\" + 0.004*\"number\" + '\n",
      "  '0.004*\"marketing\"'),\n",
      " (2,\n",
      "  '0.013*\"core\" + 0.012*\"3080\" + 0.011*\"power\" + 0.011*\"card\" + 0.010*\"psu\" + '\n",
      "  '0.009*\"rtx\" + 0.007*\"fe\" + 0.007*\"fan\" + 0.007*\"case\" + 0.007*\"3090\"'),\n",
      " (3,\n",
      "  '0.022*\"3080\" + 0.019*\"price\" + 0.019*\"3090\" + 0.015*\"ti\" + 0.012*\"people\" + '\n",
      "  '0.011*\"card\" + 0.009*\"series\" + 0.009*\"2080\" + 0.008*\"going\" + 0.008*\"buy\"'),\n",
      " (4,\n",
      "  '0.029*\"game\" + 0.020*\"vram\" + 0.014*\"4k\" + 0.010*\"1440p\" + 0.008*\"need\" + '\n",
      "  '0.008*\"gpu\" + 0.008*\"setting\" + 0.007*\"play\" + 0.007*\"fps\" + 0.007*\"ram\"')]\n",
      "\n",
      "\n",
      "\n",
      "*********Displaying 5 topics for bigrams******************\n",
      "\n",
      "\n",
      "[(0,\n",
      "  '0.016*\"price\" + 0.015*\"3080\" + 0.013*\"year\" + 0.012*\"card\" + 0.012*\"nvidia\" '\n",
      "  '+ 0.010*\"wait\" + 0.010*\"new\" + 0.010*\"amd\" + 0.010*\"ti\" + 0.009*\"people\"'),\n",
      " (1,\n",
      "  '0.019*\"game\" + 0.017*\"3090\" + 0.017*\"3080\" + 0.013*\"4k\" + 0.011*\"vram\" + '\n",
      "  '0.009*\"1440p\" + 0.008*\"rtx\" + 0.008*\"people\" + 0.008*\"high\" + '\n",
      "  '0.008*\"titan\"'),\n",
      " (2,\n",
      "  '0.012*\"3080\" + 0.011*\"3090\" + 0.011*\"fe\" + 0.008*\"card\" + 0.008*\"fan\" + '\n",
      "  '0.008*\"psu\" + 0.008*\"look\" + 0.007*\"case\" + 0.007*\"time\" + 0.007*\"buy\"'),\n",
      " (3,\n",
      "  '0.015*\"vram\" + 0.013*\"cpu\" + 0.012*\"ram\" + 0.009*\"use\" + 0.009*\"console\" + '\n",
      "  '0.009*\"gpu\" + 0.008*\"pc\" + 0.007*\"game\" + 0.007*\"memory\" + 0.006*\"amd\"'),\n",
      " (4,\n",
      "  '0.010*\"money\" + 0.009*\"people\" + 0.006*\"vram\" + 0.006*\"0\" + 0.006*\"work\" + '\n",
      "  '0.006*\"8gb\" + 0.005*\"3d\" + 0.004*\"mean\" + 0.004*\"memory\" + 0.004*\"thing\"')]\n",
      "\n",
      "\n",
      "\n",
      "*********Displaying 5 topics for trigrams******************\n",
      "\n",
      "\n",
      "[(0,\n",
      "  '0.014*\"buy\" + 0.014*\"card\" + 0.012*\"wait\" + 0.011*\"year\" + 0.011*\"nvidia\" + '\n",
      "  '0.011*\"people\" + 0.011*\"time\" + 0.009*\"3080\" + 0.009*\"new\" + 0.008*\"price\"'),\n",
      " (1,\n",
      "  '0.015*\"3090\" + 0.010*\"case\" + 0.009*\"3080\" + 0.008*\"pc\" + 0.008*\"fan\" + '\n",
      "  '0.007*\"people\" + 0.007*\"fit\" + 0.006*\"gpu\" + 0.006*\"work\" + 0.005*\"money\"'),\n",
      " (2,\n",
      "  '0.035*\"game\" + 0.024*\"vram\" + 0.016*\"4k\" + 0.012*\"1440p\" + 0.009*\"monitor\" '\n",
      "  '+ 0.009*\"play\" + 0.009*\"setting\" + 0.008*\"fps\" + 0.008*\"need\" + '\n",
      "  '0.008*\"1080p\"'),\n",
      " (3,\n",
      "  '0.035*\"3080\" + 0.029*\"3090\" + 0.021*\"ti\" + 0.014*\"2080\" + 0.013*\"price\" + '\n",
      "  '0.013*\"rtx\" + 0.011*\"3070\" + 0.011*\"titan\" + 0.009*\"2080ti\" + '\n",
      "  '0.009*\"nvidia\"'),\n",
      " (4,\n",
      "  '0.016*\"amd\" + 0.012*\"price\" + 0.010*\"nvidia\" + 0.010*\"card\" + 0.009*\"good\" '\n",
      "  '+ 0.007*\"power\" + 0.006*\"time\" + 0.005*\"cpu\" + 0.005*\"people\" + '\n",
      "  '0.005*\"better\"')]\n"
     ]
    }
   ],
   "source": [
    "# Calculate using a dictionary\n",
    "score_dict, model_dict, num_topics = lda_calculate_coherence_values(phrase_list, 5)"
   ]
  },
  {
   "cell_type": "markdown",
   "metadata": {},
   "source": [
    "## Intrepreting the topics for unigram"
   ]
  },
  {
   "cell_type": "markdown",
   "metadata": {},
   "source": [
    "Scored between 1 ~ 5 with regards to their intrepretability, >= 3 will be considered intrepretable.\n",
    "* () infers the score\n",
    "\n",
    "Topic 0 (4)\n",
    "* Discusses about the purchase of the GPUs\n",
    "\n",
    "Topic 1 (3)\n",
    "* Has to do with RTX 3090 and waiting on the GPU's benchmark\n",
    "\n",
    "Topic 2 (2)\n",
    "* 3080 and 3090 powersupply required to run the card, compares against fe (Founder's edition), reference cards and aib (AMD / Nvidia's 3rd party manufacturers like MSI, EVGA)\n",
    "\n",
    "Topic 3 (3)\n",
    "* The different types of GPUs\n",
    "\n",
    "Topic 4 (2)\n",
    "* Different resolutions for the monitor and the relationship with the GPU's video ram (vram)\n",
    "\n",
    "**2 topics were intrepretable.**"
   ]
  },
  {
   "cell_type": "markdown",
   "metadata": {},
   "source": [
    "## Interpreting the topics for the bigrams \n"
   ]
  },
  {
   "cell_type": "markdown",
   "metadata": {},
   "source": [
    "Scored between 1 ~ 5 with regards to their intrepretability, >= 3 will be considered intrepretable.\n",
    "* () is the score\n",
    "\n",
    "Topic 0 (4)\n",
    "* Discusses about the consumers waiting to upgrade their gpu\n",
    "\n",
    "Topic 1 (2)\n",
    "* Compares price against the 3090 and 3080 against the titan and 2080ti\n",
    "\n",
    "Topic 2 (1)\n",
    "* Has to do with 3080 and 3090's fan and psu\n",
    "\n",
    "Topic 3 (2)\n",
    "* gaming consoles and their cpu and gpu\n",
    "\n",
    "Topic 4 (4)\n",
    "* Different resolutions for the monitor to play the game\n",
    "\n",
    "**2 topics were intrepretable.**"
   ]
  },
  {
   "cell_type": "markdown",
   "metadata": {},
   "source": [
    "## Interpreting the topics for the trigrams \n"
   ]
  },
  {
   "cell_type": "markdown",
   "metadata": {},
   "source": [
    "Scored between 1 ~ 5 with regards to their intrepretability, >= 3 will be considered intrepretable.\n",
    "* () is the score\n",
    "\n",
    "Topic 0 (4)\n",
    "* Discusses about the consumers waiting to upgrade their gpu\n",
    "\n",
    "Topic 1 (1)\n",
    "* Fitting the GPU into their case (Possibly too big?)\n",
    "\n",
    "Topic 2 (4)\n",
    "* Different resolutions and the fps when playing games\n",
    "\n",
    "Topic 3 (3)\n",
    "* Different models of GPUs\n",
    "\n",
    "Topic 4 (1)\n",
    "* AMD and Nvidia's CPU and gpu price and power\n",
    "\n",
    "**3 topics were intrepretable.**"
   ]
  },
  {
   "cell_type": "code",
   "execution_count": 79,
   "metadata": {
    "ExecuteTime": {
     "end_time": "2021-01-26T05:29:35.282111Z",
     "start_time": "2021-01-26T05:29:35.270102Z"
    }
   },
   "outputs": [],
   "source": [
    "topics_interpretable = [2,2,3]"
   ]
  },
  {
   "cell_type": "code",
   "execution_count": 80,
   "metadata": {
    "ExecuteTime": {
     "end_time": "2021-01-26T05:29:35.664778Z",
     "start_time": "2021-01-26T05:29:35.649764Z"
    }
   },
   "outputs": [
    {
     "data": {
      "text/html": [
       "<div>\n",
       "<style scoped>\n",
       "    .dataframe tbody tr th:only-of-type {\n",
       "        vertical-align: middle;\n",
       "    }\n",
       "\n",
       "    .dataframe tbody tr th {\n",
       "        vertical-align: top;\n",
       "    }\n",
       "\n",
       "    .dataframe thead th {\n",
       "        text-align: right;\n",
       "    }\n",
       "</style>\n",
       "<table border=\"1\" class=\"dataframe\">\n",
       "  <thead>\n",
       "    <tr style=\"text-align: right;\">\n",
       "      <th></th>\n",
       "      <th>Perplexity score</th>\n",
       "      <th>Coherence score</th>\n",
       "      <th>no of topics intrepretable</th>\n",
       "    </tr>\n",
       "  </thead>\n",
       "  <tbody>\n",
       "    <tr>\n",
       "      <th>unigram</th>\n",
       "      <td>-7.831890</td>\n",
       "      <td>0.479104</td>\n",
       "      <td>2</td>\n",
       "    </tr>\n",
       "    <tr>\n",
       "      <th>bigrams</th>\n",
       "      <td>-7.889612</td>\n",
       "      <td>0.482577</td>\n",
       "      <td>2</td>\n",
       "    </tr>\n",
       "    <tr>\n",
       "      <th>trigrams</th>\n",
       "      <td>-7.875519</td>\n",
       "      <td>0.565147</td>\n",
       "      <td>3</td>\n",
       "    </tr>\n",
       "  </tbody>\n",
       "</table>\n",
       "</div>"
      ],
      "text/plain": [
       "          Perplexity score  Coherence score  no of topics intrepretable\n",
       "unigram          -7.831890         0.479104                           2\n",
       "bigrams          -7.889612         0.482577                           2\n",
       "trigrams         -7.875519         0.565147                           3"
      ]
     },
     "execution_count": 80,
     "metadata": {},
     "output_type": "execute_result"
    }
   ],
   "source": [
    "score_df = pd.DataFrame(score_dict).T\n",
    "score_df.columns = ['Perplexity score', 'Coherence score']\n",
    "score_df['no of topics intrepretable'] = topics_interpretable\n",
    "score_df"
   ]
  },
  {
   "cell_type": "markdown",
   "metadata": {},
   "source": [
    "## Summary\n",
    "\n",
    "Using Coherence score as the main metric and no of topic intrepretable as the secondary metric to select the best ngram, between unigrams and bigrams, I'll be choosing **trigrams** as the it has the larger number of intrepretable topics compared to the other n_grams and it has the **second highest coherence score**."
   ]
  },
  {
   "cell_type": "markdown",
   "metadata": {},
   "source": [
    "## Visualizing the topics-keywords"
   ]
  },
  {
   "cell_type": "code",
   "execution_count": 92,
   "metadata": {
    "ExecuteTime": {
     "end_time": "2021-01-26T05:44:35.748754Z",
     "start_time": "2021-01-26T05:44:35.736743Z"
    }
   },
   "outputs": [],
   "source": [
    "# Obtaining the lda trigram model, corpus and dictionary\n",
    "lda_trigram_model, trigram_corpus, trigram_id2word = model_dict['trigrams']"
   ]
  },
  {
   "cell_type": "code",
   "execution_count": 93,
   "metadata": {
    "ExecuteTime": {
     "end_time": "2021-01-26T05:44:40.322202Z",
     "start_time": "2021-01-26T05:44:36.133395Z"
    }
   },
   "outputs": [
    {
     "data": {
      "text/html": [
       "\n",
       "<link rel=\"stylesheet\" type=\"text/css\" href=\"https://cdn.rawgit.com/bmabey/pyLDAvis/files/ldavis.v1.0.0.css\">\n",
       "\n",
       "\n",
       "<div id=\"ldavis_el1290027833697927521095052394\"></div>\n",
       "<script type=\"text/javascript\">\n",
       "\n",
       "var ldavis_el1290027833697927521095052394_data = {\"mdsDat\": {\"x\": [-0.08880752871000396, -0.001409684220729092, 0.23012106050532158, -0.05353599394562154, -0.0863678536289673], \"y\": [0.05965226429216541, 0.13920570391472878, -0.040339043124284886, 0.033069412851820516, -0.19158833793442984], \"topics\": [1, 2, 3, 4, 5], \"cluster\": [1, 1, 1, 1, 1], \"Freq\": [26.598865677407908, 22.717789151538245, 21.672441076290745, 17.320591178238484, 11.690312916524618]}, \"tinfo\": {\"Term\": [\"game\", \"3090\", \"vram\", \"ti\", \"3080\", \"4k\", \"2080\", \"1440p\", \"titan\", \"amd\", \"wait\", \"monitor\", \"play\", \"setting\", \"buy\", \"rtx\", \"fps\", \"1080p\", \"resolution\", \"price\", \"vr\", \"case\", \"nvidia\", \"fan\", \"2080ti\", \"ultra\", \"8gb\", \"pc\", \"fit\", \"run\", \"retailer\", \"cable\", \"amazon\", \"online\", \"decide\", \"pre_order\", \"till\", \"17th\", \"connector\", \"ftw3\", \"local\", \"knowing\", \"8_pin\", \"30xx\", \"holding\", \"luck\", \"newegg\", \"knew\", \"launching\", \"managed\", \"wallet\", \"uk\", \"disappointed\", \"shortage\", \"water\", \"preorder\", \"feeling\", \"info\", \"future_proofing\", \"casual\", \"tv\", \"adapter\", \"store\", \"wait\", \"supply\", \"order\", \"scalper\", \"buy\", \"evga\", \"fe\", \"waiting\", \"day\", \"bot\", \"sale\", \"week\", \"launch\", \"stock\", \"version\", \"aib\", \"sold\", \"year\", \"release\", \"month\", \"time\", \"chip\", \"card\", \"best\", \"nvidia\", \"people\", \"new\", \"know\", \"come\", \"sell\", \"want\", \"price\", \"going\", \"think\", \"3080\", \"right\", \"upgrade\", \"need\", \"amd\", \"titan\", \"cuda_core\", \"flagship\", \"confirmed\", \"3000\", \"par\", \"quadro\", \"ordered\", \"kid\", \"happening\", \"gddr6x\", \"titan_replacement\", \"framerates\", \"pissed\", \"minecraft\", \"net\", \"scan\", \"insanely\", \"replacement\", \"2500\", \"cheapest\", \"successor\", \"tensor_memory\", \"dvi_port\", \"rasterization\", \"class\", \"780\", \"comparable\", \"xx80\", \"newest\", \"2080\", \"500\", \"ti\", \"gap\", \"3080ti\", \"700\", \"1400\", \"rtx\", \"faster\", \"3090\", \"2000\", \"3080\", \"2080ti\", \"rumor\", \"2070\", \"20\", \"1500\", \"3070\", \"geforce\", \"super\", \"24gb\", \"series\", \"800\", \"memory\", \"1080\", \"tier\", \"price\", \"generation\", \"v\", \"increase\", \"nvidia\", \"10\", \"think\", \"gaming\", \"card\", \"vram\", \"1080ti\", \"point\", \"going\", \"new\", \"better\", \"people\", \"gpu\", \"setting\", \"1080p\", \"1440p\", \"4k\", \"game\", \"resolution\", \"ultra\", \"vr\", \"144hz\", \"playing\", \"play\", \"texture\", \"hdmi\", \"60fps\", \"144\", \"120hz\", \"demanding\", \"6gb\", \"aaa\", \"maxed\", \"devs\", \"ultrawide\", \"anymore\", \"frame_rate\", \"60hz\", \"monitor\", \"warzone\", \"5gb\", \"rdr2\", \"port\", \"fps\", \"usage\", \"dl\", \"8gb\", \"0\", \"1440\", \"vram\", \"max\", \"run\", \"8k\", \"gb\", \"4\", \"10gb\", \"use\", \"high\", \"need\", \"8\", \"console\", \"ram\", \"gaming\", \"gpu\", \"year\", \"want\", \"upgrade\", \"watt\", \"watch\", \"7nm\", \"tsmc\", \"assuming\", \"paper\", \"power_limit\", \"ps4\", \"scene\", \"pandemic\", \"dedicated\", \"gold\", \"eu\", \"rumour\", \"efficiency\", \"ati\", \"affect\", \"development\", \"australia\", \"counter\", \"cutting_edge\", \"germany\", \"wattage\", \"19\", \"750\", \"allocated\", \"tsmc_7nm\", \"dp_0\", \"pool\", \"850w\", \"november\", \"intel\", \"ryzen\", \"650w\", \"obvious\", \"power\", \"amd\", \"tdp\", \"3d\", \"source\", \"tax\", \"leaked\", \"ah\", \"core\", \"easy\", \"good\", \"cpu\", \"price\", \"tech\", \"nvidia\", \"aibs\", \"money\", \"card\", \"bad\", \"pretty\", \"little\", \"better\", \"end\", \"time\", \"look\", \"gen\", \"actually\", \"gpu\", \"people\", \"going\", \"higher\", \"driver\", \"mean\", \"know\", \"lot\", \"thanks\", \"think\", \"way\", \"probably\", \"fit\", \"air\", \"room\", \"p\", \"nvme\", \"sony\", \"euro\", \"ga102\", \"curious\", \"bother\", \"inflated\", \"itx\", \"address\", \"kept\", \"gun\", \"3k\", \"hd\", \"knowledge\", \"30fps\", \"prevent\", \"tower\", \"tuf\", \"throwing\", \"properly\", \"simulation\", \"thicc\", \"cx\", \"10k\", \"listing\", \"gamers_nexus\", \"slot\", \"xbox\", \"direct\", \"motherboard\", \"fan\", \"ps5\", \"guy\", \"case\", \"mobo\", \"machine\", \"ssd\", \"pre\", \"unit\", \"pc\", \"problem\", \"cooler\", \"pcie\", \"support\", \"3090\", \"console\", \"work\", \"money\", \"way\", \"people\", \"cpu\", \"3080\", \"gpu\", \"look\", \"feel\", \"good\", \"going\", \"probably\", \"better\", \"amd\", \"need\", \"know\", \"new\", \"think\"], \"Freq\": [1193.0, 1455.0, 1066.0, 817.0, 1924.0, 548.0, 526.0, 409.0, 390.0, 701.0, 580.0, 330.0, 314.0, 307.0, 746.0, 579.0, 296.0, 256.0, 245.0, 1192.0, 223.0, 326.0, 1086.0, 183.0, 455.0, 184.0, 230.0, 346.0, 127.0, 308.0, 78.22408554198638, 65.60303221447293, 50.20439632902443, 50.93598722985892, 47.02609116710259, 45.291448186095664, 45.82555649024527, 42.957605498264755, 41.85731606655372, 34.51048717942948, 34.956074685963635, 34.56305219211197, 33.02639149838116, 32.716476081154084, 32.30201320466596, 41.01816737533541, 28.816239890656544, 30.078297448112338, 28.32286002596494, 28.897104453408293, 28.356914549136143, 52.17680915594491, 28.135641805278475, 28.104770676800676, 33.32919912163735, 26.862313178096556, 26.514920966527114, 54.583543294703574, 26.65288188249354, 24.4700359412725, 84.02198328447123, 42.04613085961705, 99.02277283372636, 512.0968799805162, 60.47163397014818, 100.9467717361442, 172.68807629875846, 597.8499474739788, 135.27387734362185, 248.64752020601182, 189.6092864782952, 272.6625037696977, 97.29338513523015, 81.46112019222595, 121.39078595877324, 257.1396862410254, 219.3197287757484, 124.38283571846488, 140.36169281833088, 128.2777118133033, 475.3939089252426, 237.25135720602685, 221.54034401312128, 447.1849564164428, 152.08200632360533, 575.1392879792216, 194.18222076779918, 475.1244952585712, 464.31904941293465, 367.15692933974844, 308.03205657605747, 209.63867938595595, 167.7597913109515, 254.3416334314554, 345.84649550719524, 277.47119451765985, 267.20882703166427, 367.9981645438745, 191.20123732656702, 188.3021933922365, 187.97624887584874, 158.44508093743897, 389.46254489074715, 92.85445856723256, 78.61112165972996, 42.00988494947514, 39.24497055245337, 36.06510102576957, 35.71347589331967, 24.487979901290423, 23.38130797762128, 22.96354234512441, 70.03708110620629, 26.88554075925686, 21.60444146609816, 21.457577079072237, 21.168490839332787, 20.164450151776816, 20.287693823866228, 19.926762804252025, 19.85899637626874, 19.288210314610634, 17.937195356332964, 17.81027721201872, 17.834239351003315, 18.468307527232646, 24.766519468910328, 41.44057284041487, 27.525421471719465, 17.666866620698745, 17.113532740718124, 16.475741168696096, 491.7323378482356, 139.91747355658836, 736.2280306433348, 83.3288192271974, 195.39323538270236, 109.42020348689752, 66.82417672101619, 456.03253973537886, 212.93936696532356, 1053.1876633332697, 48.172880476986926, 1250.3376336997817, 335.8179984554206, 107.23153377259533, 84.08504851146124, 182.68649822215187, 86.14006320206133, 408.07971538479944, 56.4001882548473, 244.56004706445557, 73.97895498001606, 243.91177439871348, 93.62315399295944, 250.2962542044436, 175.76966337871286, 85.11159404023557, 459.98633014120844, 165.9707099244767, 113.43291035956149, 113.36610782995787, 306.06777253035847, 153.64107146132966, 235.94342010649498, 168.90112754695437, 266.84637689205465, 244.98769317580744, 144.8833114602723, 147.56423970517275, 202.84730512951313, 185.0811132567766, 159.41381930187876, 183.56057709491614, 157.1425666050187, 306.61755428566613, 255.92347591572718, 408.0440657863211, 547.317034208629, 1189.413099291186, 244.09505199832836, 183.94466614615325, 222.5692766567929, 153.46820202669235, 126.05327083985655, 312.250524479447, 106.51639003929962, 69.92827591855637, 57.30333928786361, 50.745493451079945, 46.51739347849704, 43.76000950894722, 46.71292490496846, 41.50478055777217, 37.7007755622644, 37.7207513381496, 37.63699925333365, 36.611490028694014, 35.49068574752987, 35.484266806621044, 323.57680926693865, 33.56009791051214, 33.42246405996092, 33.310297436907796, 34.547764777454766, 287.5090027387987, 89.97829861283077, 176.9352938929898, 206.6687020483838, 148.81337356353026, 43.181037721862204, 817.8448241039374, 140.65912600079457, 241.25319301868697, 59.36218280743395, 188.46839886317989, 168.26298695581562, 183.25926943099265, 244.33358556234862, 227.834508268062, 278.2908316088929, 112.1683231191564, 150.96408420274128, 156.11646002867525, 182.63501153914183, 203.92867225756584, 202.71301382485296, 171.27186550682723, 151.96262672575344, 57.50868802529663, 56.54749674239978, 49.77801609338656, 44.891604860042214, 37.45542283427148, 32.66999598550568, 29.14990718968754, 29.12628247527952, 26.300532353133196, 25.499522157572702, 24.651768867776664, 26.20033207288934, 24.1590069110946, 23.824930846843465, 48.036958448618364, 22.235306923038163, 23.35755069667166, 21.90012454153747, 21.52773053650939, 21.63122754692158, 20.125985312672796, 20.1606160583698, 20.18908507729094, 20.400675790733274, 19.842752224229088, 19.146812009517383, 17.539872712863573, 17.413711277765, 18.750210767225344, 16.687690979557836, 18.57716021036331, 93.39966398628283, 56.47335920137789, 35.62903432101529, 24.690180456642164, 185.09008210730335, 447.1753496754508, 46.05955842442566, 56.638046507755114, 46.85186252226188, 79.35409509976962, 34.04751175049798, 37.344959358424134, 100.62469973021794, 40.172385622630046, 231.80442796691526, 149.88530854707471, 326.22250063094714, 63.81528045787728, 274.08986048912834, 51.68550702584405, 136.77905855938536, 263.2370438220467, 83.22060563497095, 105.5860294344074, 81.74474350443707, 140.8758799022059, 106.72308865310166, 156.17573001819414, 118.43547414169481, 96.76460805722206, 101.50928370216418, 128.48728537498314, 148.1054107543917, 125.02381716585964, 82.5161878873613, 76.3446836161511, 89.30098872876005, 98.68179712224023, 82.26251267527516, 69.53621361718366, 90.15811317643467, 77.65954087362049, 78.0658402484732, 126.98458796051983, 59.22245974698537, 45.983186534721575, 41.36794865624376, 33.744162923759795, 30.34528332522362, 29.782671849539685, 30.49121340853927, 28.33560952577105, 21.237021254452262, 19.97024982895961, 21.346462924799503, 19.219102744893856, 19.871461146826046, 18.80630159421, 18.199284812667564, 18.89521076535135, 19.856604384904557, 17.49714640235595, 16.860231833698933, 15.901064371578153, 15.922571752046556, 15.771345170970605, 15.915690804410147, 15.72020032882366, 15.372016665075087, 15.09448511040657, 14.844644468785837, 14.354898404037296, 14.527272409423185, 87.02204098789451, 56.69022816486305, 25.06902452845241, 46.99654882465346, 150.88052608150917, 85.56699535075417, 84.3576712140759, 179.14008415582316, 30.02907041039508, 33.172059746992474, 57.21090903327794, 30.059445996458095, 30.734001694829086, 151.6334000980971, 83.4217594909075, 65.24716595663384, 45.08410603991061, 64.04489096139221, 269.99084167517566, 94.96849313490526, 101.84863515515056, 97.54865030841204, 92.90156488029461, 131.4944958107224, 80.41448862422544, 161.36361498839108, 105.44638838864357, 86.79124909762409, 63.26694428429012, 87.93391278190815, 91.07496735415378, 76.99629352111438, 76.4572163218864, 77.96985494438148, 75.4257619497992, 70.79321189417607, 64.94970075839211, 63.38701108910068], \"Total\": [1193.0, 1455.0, 1066.0, 817.0, 1924.0, 548.0, 526.0, 409.0, 390.0, 701.0, 580.0, 330.0, 314.0, 307.0, 746.0, 579.0, 296.0, 256.0, 245.0, 1192.0, 223.0, 326.0, 1086.0, 183.0, 455.0, 184.0, 230.0, 346.0, 127.0, 308.0, 78.9517383924751, 66.32848684024049, 50.93025124844489, 51.6753781363732, 47.758732306312204, 46.0154070772861, 46.56141453439004, 43.69821280371121, 42.623452826971935, 35.23610459448478, 35.69329734069749, 35.29728601505105, 33.750820457065956, 33.45276217335211, 33.03111757537773, 42.01866561344504, 29.539457992271497, 30.854023756932804, 29.056421087487397, 29.64566001393322, 29.094728520299704, 53.541334808332465, 28.877811840891876, 28.862339409829126, 34.22864523867727, 27.597717093029964, 27.247718234498965, 56.10519200596207, 27.47322374470024, 25.237220940445546, 87.89417492244093, 43.641150967015655, 105.77056295380683, 580.2406894982519, 63.93658715007233, 110.2661832820972, 197.56129878550587, 746.0704768394085, 154.03724435484796, 298.1616743901415, 226.68434784039056, 340.3038019168837, 110.18215576663772, 91.06726319102481, 143.1681415808357, 332.6389826340228, 279.4770689370051, 150.6455378132943, 174.16363247578226, 159.79881162274464, 819.3326340685791, 358.1871859700415, 330.02113530095664, 810.8552412369248, 212.66475129360634, 1178.788061171145, 293.9669113374523, 1086.7586403659654, 1067.3580745492307, 773.0851129303935, 639.2852139982981, 392.63612924925854, 290.26970590503237, 634.5089462514202, 1192.1438221852386, 810.6101237716719, 783.4818930761942, 1924.0282633226298, 439.871184820601, 464.90232748691693, 613.3252907004394, 701.1588080882309, 390.20477492910265, 93.73060776583249, 79.91371487638668, 42.750775157280756, 39.97503491823692, 36.79580228759069, 36.44282362872542, 25.22778840260423, 24.123273404852483, 23.69979440023422, 72.40521898525341, 27.83019757346213, 22.364773794208432, 22.213281314192336, 21.91670934213485, 20.895914632761567, 21.02779243114289, 20.66194057876419, 20.59448529332851, 20.015871311328418, 18.66624944712883, 18.542051413093443, 18.56797444684102, 19.23334951721372, 25.800381412274504, 43.176502759528525, 28.6841942198, 18.413922774783224, 17.86428574350974, 17.212101099957483, 526.8676827714206, 149.96150378376174, 817.021993037721, 89.95930851155478, 227.0300780742014, 124.57545453678166, 74.81444224919322, 579.7243942091956, 258.95666441956223, 1455.9457417437902, 53.824090071211934, 1924.0282633226298, 455.86632878886195, 132.23762978476498, 101.32654765326846, 247.91359922497182, 105.52744680062952, 621.3029252150975, 67.68286145021817, 392.96297578455363, 93.82509258257072, 404.8919298279839, 126.17719147637128, 439.4465343317203, 291.26058023511234, 114.36901199015772, 1192.1438221852386, 289.49302205034223, 174.6830979068328, 186.7966396003615, 1086.7586403659654, 330.2957856167198, 783.4818930761942, 438.2859273394756, 1178.788061171145, 1066.3195328486427, 335.51016065874495, 355.04775285120184, 810.6101237716719, 773.0851129303935, 572.0274243630512, 1067.3580745492307, 696.2798518924953, 307.39968397172777, 256.686441568451, 409.26715319448925, 548.9956399125094, 1193.76258539663, 245.01202051245542, 184.80471843015195, 223.6102483606147, 154.2317127362577, 126.80862142205972, 314.4938826570091, 107.28210179381053, 70.72915526334998, 58.063208542901826, 51.492740387846, 47.30895193646405, 44.50595564573572, 47.53035555483079, 42.25350631933715, 38.44925387289109, 38.471524389704484, 38.388401047082226, 37.38226185337091, 36.23850721001022, 36.241172061009316, 330.49052357608, 34.30782607517898, 34.1741388758166, 34.06074806908364, 35.397774878417636, 296.22948134267193, 94.27228184371383, 189.56882650690508, 230.36910622962017, 167.11085643144364, 44.67862517472545, 1066.3195328486427, 160.21919128151953, 308.70516468634105, 64.1016872864625, 246.86507280442953, 246.7909507228449, 285.2720646331591, 454.87539310301315, 414.97953200927503, 613.3252907004394, 163.52553592814078, 273.79124055565654, 319.983997318715, 438.2859273394756, 696.2798518924953, 819.3326340685791, 634.5089462514202, 464.90232748691693, 58.252796626810095, 57.290836685340985, 50.52477207342485, 45.62944106079549, 38.294355009664116, 33.418407069378965, 29.888478515334562, 29.87406945473143, 27.045111774854462, 26.240964917049116, 25.398835111788237, 26.99651098671116, 24.907045260548216, 24.584101815815423, 49.58734202510068, 22.979465391196452, 24.144250841165817, 22.639880873683914, 22.270032555657483, 22.377695164472204, 20.863780206143414, 20.900003607556034, 20.932125017131888, 21.16112887600579, 20.591573013244407, 19.917050702061587, 18.27919401098488, 18.172959598436254, 19.57652416128257, 17.432271703381236, 19.428210907047, 101.32804438354327, 63.61748761759321, 39.64498001850625, 26.543842977193734, 251.71632527766602, 701.1588080882309, 53.72708643266139, 68.20346961380704, 55.07216148912862, 101.43375046812207, 39.17115489471758, 44.313711862544594, 158.29077875092287, 49.50678586534359, 585.1820947090862, 348.7761997464082, 1192.1438221852386, 108.78855799102573, 1086.7586403659654, 81.70099987584312, 400.6226422126546, 1178.788061171145, 181.77593252796396, 280.56717675800974, 192.6627725553424, 572.0274243630512, 334.78545544008455, 810.8552412369248, 468.0572087382662, 327.2480610209506, 393.8582747990533, 696.2798518924953, 1067.3580745492307, 810.6101237716719, 263.09013708047127, 212.82256899652154, 385.1218357156206, 639.2852139982981, 344.5187123473562, 161.46655084241996, 783.4818930761942, 477.08048918604857, 527.2569343078898, 127.73821681566507, 60.04118192431101, 46.743541421974435, 42.1032349707517, 34.477032221869564, 31.078020234015835, 30.520012479366034, 31.25694307646126, 29.13171760542143, 21.982473320290318, 20.70923057594118, 22.139526219953158, 19.960840433584035, 20.66370387539905, 19.561617930749605, 18.934328902239585, 19.65923945298223, 20.66463667383866, 18.259799448094803, 17.595727521359365, 16.630725801736858, 16.66164109413285, 16.506908476382744, 16.66339019376155, 16.464778687827913, 16.10112475032625, 15.824359886347459, 15.599939487892243, 15.085860386661999, 15.275169576498538, 95.83995161116353, 61.762169837180856, 26.676630374015627, 52.236257373974915, 183.02402957601433, 100.70424947200716, 113.37914522786534, 326.1353821910704, 36.281962153745496, 41.256859380794225, 83.83654315965339, 36.8158846628583, 38.142898575200206, 346.2278554684245, 154.0143375709737, 121.19852618165075, 70.8183527173486, 126.7689783001978, 1455.9457417437902, 273.79124055565654, 335.5710522966012, 400.6226422126546, 477.08048918604857, 1067.3580745492307, 348.7761997464082, 1924.0282633226298, 696.2798518924953, 468.0572087382662, 219.1127899476786, 585.1820947090862, 810.6101237716719, 527.2569343078898, 572.0274243630512, 701.1588080882309, 613.3252907004394, 639.2852139982981, 773.0851129303935, 783.4818930761942], \"Category\": [\"Default\", \"Default\", \"Default\", \"Default\", \"Default\", \"Default\", \"Default\", \"Default\", \"Default\", \"Default\", \"Default\", \"Default\", \"Default\", \"Default\", \"Default\", \"Default\", \"Default\", \"Default\", \"Default\", \"Default\", \"Default\", \"Default\", \"Default\", \"Default\", \"Default\", \"Default\", \"Default\", \"Default\", \"Default\", \"Default\", \"Topic1\", \"Topic1\", \"Topic1\", \"Topic1\", \"Topic1\", \"Topic1\", \"Topic1\", \"Topic1\", \"Topic1\", \"Topic1\", \"Topic1\", \"Topic1\", \"Topic1\", \"Topic1\", \"Topic1\", \"Topic1\", \"Topic1\", \"Topic1\", \"Topic1\", \"Topic1\", \"Topic1\", \"Topic1\", \"Topic1\", \"Topic1\", \"Topic1\", \"Topic1\", \"Topic1\", \"Topic1\", \"Topic1\", \"Topic1\", \"Topic1\", \"Topic1\", \"Topic1\", \"Topic1\", \"Topic1\", \"Topic1\", \"Topic1\", \"Topic1\", \"Topic1\", \"Topic1\", \"Topic1\", \"Topic1\", \"Topic1\", \"Topic1\", \"Topic1\", \"Topic1\", \"Topic1\", \"Topic1\", \"Topic1\", \"Topic1\", \"Topic1\", \"Topic1\", \"Topic1\", \"Topic1\", \"Topic1\", \"Topic1\", \"Topic1\", \"Topic1\", \"Topic1\", \"Topic1\", \"Topic1\", \"Topic1\", \"Topic1\", \"Topic1\", \"Topic1\", \"Topic1\", \"Topic1\", \"Topic1\", \"Topic1\", \"Topic1\", \"Topic1\", \"Topic1\", \"Topic2\", \"Topic2\", \"Topic2\", \"Topic2\", \"Topic2\", \"Topic2\", \"Topic2\", \"Topic2\", \"Topic2\", \"Topic2\", \"Topic2\", \"Topic2\", \"Topic2\", \"Topic2\", \"Topic2\", \"Topic2\", \"Topic2\", \"Topic2\", \"Topic2\", \"Topic2\", \"Topic2\", \"Topic2\", \"Topic2\", \"Topic2\", \"Topic2\", \"Topic2\", \"Topic2\", \"Topic2\", \"Topic2\", \"Topic2\", \"Topic2\", \"Topic2\", \"Topic2\", \"Topic2\", \"Topic2\", \"Topic2\", \"Topic2\", \"Topic2\", \"Topic2\", \"Topic2\", \"Topic2\", \"Topic2\", \"Topic2\", \"Topic2\", \"Topic2\", \"Topic2\", \"Topic2\", \"Topic2\", \"Topic2\", \"Topic2\", \"Topic2\", \"Topic2\", \"Topic2\", \"Topic2\", \"Topic2\", \"Topic2\", \"Topic2\", \"Topic2\", \"Topic2\", \"Topic2\", \"Topic2\", \"Topic2\", \"Topic2\", \"Topic2\", \"Topic2\", \"Topic2\", \"Topic2\", \"Topic2\", \"Topic2\", \"Topic2\", \"Topic2\", \"Topic2\", \"Topic2\", \"Topic3\", \"Topic3\", \"Topic3\", \"Topic3\", \"Topic3\", \"Topic3\", \"Topic3\", \"Topic3\", \"Topic3\", \"Topic3\", \"Topic3\", \"Topic3\", \"Topic3\", \"Topic3\", \"Topic3\", \"Topic3\", \"Topic3\", \"Topic3\", \"Topic3\", \"Topic3\", \"Topic3\", \"Topic3\", \"Topic3\", \"Topic3\", \"Topic3\", \"Topic3\", \"Topic3\", \"Topic3\", \"Topic3\", \"Topic3\", \"Topic3\", \"Topic3\", \"Topic3\", \"Topic3\", \"Topic3\", \"Topic3\", \"Topic3\", \"Topic3\", \"Topic3\", \"Topic3\", \"Topic3\", \"Topic3\", \"Topic3\", \"Topic3\", \"Topic3\", \"Topic3\", \"Topic3\", \"Topic3\", \"Topic3\", \"Topic3\", \"Topic3\", \"Topic3\", \"Topic3\", \"Topic3\", \"Topic4\", \"Topic4\", \"Topic4\", \"Topic4\", \"Topic4\", \"Topic4\", \"Topic4\", \"Topic4\", \"Topic4\", \"Topic4\", \"Topic4\", \"Topic4\", \"Topic4\", \"Topic4\", \"Topic4\", \"Topic4\", \"Topic4\", \"Topic4\", \"Topic4\", \"Topic4\", \"Topic4\", \"Topic4\", \"Topic4\", \"Topic4\", \"Topic4\", \"Topic4\", \"Topic4\", \"Topic4\", \"Topic4\", \"Topic4\", \"Topic4\", \"Topic4\", \"Topic4\", \"Topic4\", \"Topic4\", \"Topic4\", \"Topic4\", \"Topic4\", \"Topic4\", \"Topic4\", \"Topic4\", \"Topic4\", \"Topic4\", \"Topic4\", \"Topic4\", \"Topic4\", \"Topic4\", \"Topic4\", \"Topic4\", \"Topic4\", \"Topic4\", \"Topic4\", \"Topic4\", \"Topic4\", \"Topic4\", \"Topic4\", \"Topic4\", \"Topic4\", \"Topic4\", \"Topic4\", \"Topic4\", \"Topic4\", \"Topic4\", \"Topic4\", \"Topic4\", \"Topic4\", \"Topic4\", \"Topic4\", \"Topic4\", \"Topic4\", \"Topic4\", \"Topic4\", \"Topic4\", \"Topic4\", \"Topic5\", \"Topic5\", \"Topic5\", \"Topic5\", \"Topic5\", \"Topic5\", \"Topic5\", \"Topic5\", \"Topic5\", \"Topic5\", \"Topic5\", \"Topic5\", \"Topic5\", \"Topic5\", \"Topic5\", \"Topic5\", \"Topic5\", \"Topic5\", \"Topic5\", \"Topic5\", \"Topic5\", \"Topic5\", \"Topic5\", \"Topic5\", \"Topic5\", \"Topic5\", \"Topic5\", \"Topic5\", \"Topic5\", \"Topic5\", \"Topic5\", \"Topic5\", \"Topic5\", \"Topic5\", \"Topic5\", \"Topic5\", \"Topic5\", \"Topic5\", \"Topic5\", \"Topic5\", \"Topic5\", \"Topic5\", \"Topic5\", \"Topic5\", \"Topic5\", \"Topic5\", \"Topic5\", \"Topic5\", \"Topic5\", \"Topic5\", \"Topic5\", \"Topic5\", \"Topic5\", \"Topic5\", \"Topic5\", \"Topic5\", \"Topic5\", \"Topic5\", \"Topic5\", \"Topic5\", \"Topic5\", \"Topic5\", \"Topic5\", \"Topic5\", \"Topic5\", \"Topic5\", \"Topic5\", \"Topic5\"], \"logprob\": [30.0, 29.0, 28.0, 27.0, 26.0, 25.0, 24.0, 23.0, 22.0, 21.0, 20.0, 19.0, 18.0, 17.0, 16.0, 15.0, 14.0, 13.0, 12.0, 11.0, 10.0, 9.0, 8.0, 7.0, 6.0, 5.0, 4.0, 3.0, 2.0, 1.0, -6.282899856567383, -6.458899974822998, -6.726399898529053, -6.711900234222412, -6.791800022125244, -6.829400062561035, -6.817599773406982, -6.882299900054932, -6.908199787139893, -7.101200103759766, -7.088399887084961, -7.099699974060059, -7.145199775695801, -7.154600143432617, -7.167300224304199, -6.928500175476074, -7.281499862670898, -7.238699913024902, -7.298799991607666, -7.27869987487793, -7.297599792480469, -6.68779993057251, -7.3053998947143555, -7.30649995803833, -7.136000156402588, -7.3516998291015625, -7.364799976348877, -6.6427001953125, -7.359600067138672, -7.445000171661377, -6.211400032043457, -6.90369987487793, -6.047100067138672, -4.4039998054504395, -6.540299892425537, -6.027900218963623, -5.491000175476074, -4.249100208282471, -5.735199928283691, -5.126399993896484, -5.397500038146973, -5.034200191497803, -6.064700126647949, -6.242300033569336, -5.843500137329102, -5.092899799346924, -5.2519001960754395, -5.8190999031066895, -5.698299884796143, -5.788300037384033, -4.478300094604492, -5.173399925231934, -5.2418999671936035, -4.5395002365112305, -5.618100166320801, -4.287899971008301, -5.373700141906738, -4.478899955749512, -4.5019001960754395, -4.736700057983398, -4.912300109863281, -5.297100067138672, -5.519899845123291, -5.103799819946289, -4.796500205993652, -5.0167999267578125, -5.0543999671936035, -4.734399795532227, -5.389100074768066, -5.404399871826172, -5.406199932098389, -5.577099800109863, -4.519999980926514, -5.953700065612793, -6.120200157165527, -6.746799945831299, -6.814899921417236, -6.899400234222412, -6.909200191497803, -7.286600112915039, -7.332799911499023, -7.350800037384033, -6.2357001304626465, -7.19320011138916, -7.411900043487549, -7.418700218200684, -7.432199954986572, -7.480800151824951, -7.474699974060059, -7.492700099945068, -7.496099948883057, -7.525300025939941, -7.597899913787842, -7.605000019073486, -7.603600025177002, -7.568699836730957, -7.275300025939941, -6.760499954223633, -7.169600009918213, -7.613100051879883, -7.644899845123291, -7.6828999519348145, -4.286799907684326, -5.543700218200684, -3.88319993019104, -6.061999797821045, -5.209700107574463, -5.789599895477295, -6.282700061798096, -4.362199783325195, -5.123700141906738, -3.5251998901367188, -6.610000133514404, -3.353600025177002, -4.6682000160217285, -5.809800148010254, -6.0528998374938965, -5.2769999504089355, -6.028800010681152, -4.473299980163574, -6.452300071716309, -4.985300064086914, -6.181000232696533, -4.9878997802734375, -5.945499897003174, -4.962100028991699, -5.3155999183654785, -6.040800094604492, -4.353600025177002, -5.372900009155273, -5.753499984741211, -5.7540998458862305, -4.760900020599365, -5.450099945068359, -5.021200180053711, -5.355400085449219, -4.898099899291992, -4.983500003814697, -5.508800029754639, -5.490499973297119, -5.172299861907959, -5.263999938964844, -5.4131999015808105, -5.272200107574463, -5.427599906921387, -4.711999893188477, -4.8927998542785645, -4.426300048828125, -4.132599830627441, -3.3564000129699707, -4.940100193023682, -5.2230000495910645, -5.032400131225586, -5.404200077056885, -5.600900173187256, -4.69379997253418, -5.7692999839782715, -6.190199851989746, -6.3892998695373535, -6.510799884796143, -6.597799777984619, -6.658899784088135, -6.593599796295166, -6.7118000984191895, -6.808000087738037, -6.807400226593018, -6.809700012207031, -6.837299823760986, -6.8684000968933105, -6.868599891662598, -4.658199787139893, -6.924300193786621, -6.928400039672852, -6.93179988861084, -6.895299911499023, -4.776400089263916, -5.9380998611450195, -5.261899948120117, -5.106500148773193, -5.434999942779541, -6.6722002029418945, -3.7309999465942383, -5.491300106048584, -4.9517998695373535, -6.354000091552734, -5.198699951171875, -5.312099933624268, -5.2266998291015625, -4.9390997886657715, -5.008999824523926, -4.809000015258789, -5.717599868774414, -5.420599937438965, -5.38700008392334, -5.230199813842773, -5.119900226593018, -5.125899791717529, -5.294400215148926, -5.414000034332275, -6.161600112915039, -6.178400039672852, -6.3059000968933105, -6.409200191497803, -6.5903000831604, -6.7270002365112305, -6.841000080108643, -6.841899871826172, -6.943900108337402, -6.974800109863281, -7.008699893951416, -6.947700023651123, -7.028800010681152, -7.042799949645996, -6.3414998054504395, -7.111800193786621, -7.062600135803223, -7.126999855041504, -7.144199848175049, -7.139400005340576, -7.21150016784668, -7.209799766540527, -7.208399772644043, -7.19789981842041, -7.2256999015808105, -7.26140022277832, -7.348999977111816, -7.356200218200684, -7.282299995422363, -7.398799896240234, -7.291600227355957, -5.676599979400635, -6.179699897766113, -6.6402997970581055, -7.0071001052856445, -4.992700099945068, -4.110499858856201, -6.383600234985352, -6.176799774169922, -6.366499900817871, -5.839600086212158, -6.685699939727783, -6.593299865722656, -5.602099895477295, -6.520299911499023, -4.767600059509277, -5.20359992980957, -4.425899982452393, -6.057499885559082, -4.599999904632568, -6.2683000564575195, -5.295100212097168, -4.640399932861328, -5.791999816894531, -5.553999900817871, -5.809899806976318, -5.265600204467773, -5.543300151824951, -5.162499904632568, -5.4390997886657715, -5.641200065612793, -5.593400001525879, -5.357699871063232, -5.21560001373291, -5.385000228881836, -5.80049991607666, -5.878200054168701, -5.721499919891357, -5.621600151062012, -5.803599834442139, -5.971700191497803, -5.711900234222412, -5.861199855804443, -5.855899810791016, -4.97629976272583, -5.739099979400635, -5.992099761962891, -6.097899913787842, -6.301599979400635, -6.407700061798096, -6.426400184631348, -6.402900218963623, -6.476200103759766, -6.764599800109863, -6.826099872589111, -6.759500026702881, -6.864500045776367, -6.831099987030029, -6.886199951171875, -6.919000148773193, -6.881499767303467, -6.8317999839782715, -6.9583001136779785, -6.9953999519348145, -7.053999900817871, -7.052599906921387, -7.06220006942749, -7.053100109100342, -7.065400123596191, -7.087800025939941, -7.105999946594238, -7.122700214385986, -7.156300067901611, -7.1442999839782715, -5.3541998863220215, -5.782800197601318, -6.598700046539307, -5.970300197601318, -4.803899765014648, -5.371099948883057, -5.385300159454346, -4.632199764251709, -6.4182000160217285, -6.318699836730957, -5.773600101470947, -6.417200088500977, -6.394999980926514, -4.798900127410889, -5.396500110626221, -5.642199993133545, -6.0117998123168945, -5.660799980163574, -4.2220001220703125, -5.2667999267578125, -5.196899890899658, -5.239999771118164, -5.28879976272583, -4.941400051116943, -5.433199882507324, -4.736700057983398, -5.162199974060059, -5.356900215148926, -5.672999858856201, -5.343800067901611, -5.308700084686279, -5.476600170135498, -5.48360013961792, -5.464000225067139, -5.497200012207031, -5.5605998039245605, -5.6468000411987305, -5.67110013961792], \"loglift\": [30.0, 29.0, 28.0, 27.0, 26.0, 25.0, 24.0, 23.0, 22.0, 21.0, 20.0, 19.0, 18.0, 17.0, 16.0, 15.0, 14.0, 13.0, 12.0, 11.0, 10.0, 9.0, 8.0, 7.0, 6.0, 5.0, 4.0, 3.0, 2.0, 1.0, 1.315, 1.3133, 1.3099, 1.3099, 1.3088, 1.3084, 1.3084, 1.3072, 1.3062, 1.3035, 1.3034, 1.3033, 1.3026, 1.302, 1.302, 1.3002, 1.2995, 1.2988, 1.2987, 1.2987, 1.2986, 1.2985, 1.2983, 1.2977, 1.2977, 1.2973, 1.297, 1.2968, 1.294, 1.2934, 1.2792, 1.2871, 1.2584, 1.1994, 1.2686, 1.236, 1.1897, 1.1028, 1.1944, 1.1427, 1.1457, 1.1027, 1.1999, 1.2128, 1.1593, 1.0669, 1.0819, 1.1327, 1.1085, 1.1046, 0.78, 0.9124, 0.9257, 0.7292, 0.989, 0.6067, 0.9096, 0.4969, 0.4919, 0.5797, 0.5942, 0.6968, 0.776, 0.4101, 0.0868, 0.2522, 0.2486, -0.3298, 0.4911, 0.4205, 0.1417, -0.163, 1.4801, 1.4726, 1.4656, 1.4645, 1.4636, 1.462, 1.4618, 1.4523, 1.4508, 1.4505, 1.4488, 1.4475, 1.4474, 1.4474, 1.4473, 1.4464, 1.4462, 1.4458, 1.4457, 1.445, 1.4422, 1.4418, 1.4417, 1.4414, 1.4411, 1.441, 1.4408, 1.4406, 1.4391, 1.4383, 1.413, 1.4127, 1.3779, 1.4055, 1.332, 1.3523, 1.3691, 1.242, 1.2864, 1.1582, 1.3711, 1.051, 1.1764, 1.2724, 1.2955, 1.1767, 1.279, 1.0617, 1.2997, 1.0078, 1.2444, 0.9752, 1.1836, 0.9192, 0.977, 1.1866, 0.5297, 0.9257, 1.0503, 0.9826, 0.2149, 0.7167, 0.2819, 0.5285, -0.0035, 0.0113, 0.6423, 0.604, 0.0967, 0.0524, 0.2043, -0.2784, -0.0066, 1.5266, 1.5262, 1.5261, 1.5261, 1.5255, 1.5254, 1.5245, 1.5245, 1.5242, 1.5232, 1.522, 1.522, 1.5177, 1.516, 1.5145, 1.5123, 1.5122, 1.5118, 1.5112, 1.5095, 1.5094, 1.5094, 1.5083, 1.5083, 1.508, 1.508, 1.5071, 1.5069, 1.5068, 1.5048, 1.4992, 1.4825, 1.4602, 1.4206, 1.4132, 1.495, 1.2638, 1.3989, 1.2826, 1.4523, 1.2592, 1.1461, 1.0866, 0.9076, 0.9295, 0.7389, 1.1522, 0.9338, 0.8115, 0.6537, 0.3011, 0.1324, 0.2195, 0.4109, 1.7404, 1.7402, 1.7384, 1.737, 1.7311, 1.7306, 1.7283, 1.7279, 1.7254, 1.7246, 1.7234, 1.7233, 1.7228, 1.7219, 1.7215, 1.7204, 1.7201, 1.7201, 1.7194, 1.7193, 1.7173, 1.7173, 1.7171, 1.7167, 1.7162, 1.7138, 1.712, 1.7106, 1.7101, 1.7096, 1.7085, 1.6718, 1.6342, 1.6465, 1.6809, 1.4458, 1.3035, 1.5993, 1.5675, 1.5916, 1.5078, 1.6131, 1.5822, 1.3002, 1.5443, 0.8272, 0.9087, 0.4573, 1.2199, 0.3758, 1.2954, 0.6786, 0.2541, 0.972, 0.776, 0.8959, 0.352, 0.61, 0.1062, 0.3791, 0.5348, 0.3974, 0.0634, -0.2217, -0.116, 0.5938, 0.7281, 0.2917, -0.1152, 0.321, 0.9108, -0.4089, -0.0621, -0.1569, 2.1405, 2.1327, 2.13, 2.1288, 2.1249, 2.1225, 2.122, 2.1216, 2.1187, 2.1119, 2.1101, 2.1099, 2.1085, 2.1073, 2.107, 2.1068, 2.1068, 2.1065, 2.1037, 2.1037, 2.1015, 2.101, 2.1008, 2.1005, 2.1001, 2.1001, 2.0992, 2.0968, 2.0967, 2.0962, 2.0499, 2.0607, 2.0843, 2.0407, 1.9533, 1.9835, 1.8507, 1.5473, 1.9573, 1.9283, 1.7643, 1.9437, 1.9304, 1.3208, 1.5333, 1.5272, 1.6948, 1.4636, 0.4614, 1.0876, 0.9541, 0.7337, 0.5103, 0.0524, 0.6792, -0.3321, 0.2589, 0.4613, 0.9042, 0.2511, -0.0397, 0.2225, 0.134, -0.05, 0.0507, -0.0542, -0.3304, -0.3681]}, \"token.table\": {\"Topic\": [3, 4, 5, 1, 2, 3, 4, 1, 2, 3, 4, 5, 3, 1, 2, 3, 4, 5, 1, 2, 3, 5, 5, 3, 1, 2, 4, 3, 2, 3, 2, 3, 3, 1, 2, 3, 5, 1, 4, 1, 2, 4, 1, 2, 5, 1, 2, 3, 4, 1, 2, 3, 1, 2, 3, 4, 2, 3, 2, 2, 1, 2, 3, 4, 5, 1, 2, 3, 4, 5, 1, 2, 5, 1, 2, 3, 4, 5, 5, 1, 4, 5, 5, 1, 2, 3, 4, 5, 2, 3, 1, 2, 4, 5, 3, 3, 3, 1, 4, 3, 1, 2, 4, 5, 4, 1, 2, 4, 1, 2, 3, 4, 1, 2, 4, 5, 4, 1, 2, 3, 2, 3, 3, 1, 2, 3, 4, 5, 1, 5, 5, 4, 1, 4, 5, 1, 4, 5, 1, 4, 5, 4, 1, 1, 2, 3, 4, 5, 3, 4, 4, 4, 1, 2, 3, 4, 5, 1, 2, 3, 4, 5, 1, 2, 3, 4, 5, 1, 5, 5, 1, 2, 3, 4, 5, 1, 1, 2, 3, 4, 5, 1, 2, 3, 4, 5, 1, 2, 1, 2, 4, 5, 2, 4, 1, 2, 3, 4, 2, 2, 1, 1, 3, 4, 5, 1, 2, 4, 5, 2, 3, 4, 5, 4, 1, 2, 3, 4, 5, 2, 5, 4, 5, 1, 3, 4, 5, 1, 4, 3, 4, 3, 1, 4, 5, 1, 2, 3, 4, 5, 4, 1, 2, 3, 4, 5, 2, 2, 3, 4, 1, 4, 1, 2, 3, 4, 5, 4, 5, 1, 4, 5, 1, 4, 5, 2, 3, 5, 1, 2, 4, 5, 1, 2, 3, 4, 5, 1, 5, 2, 5, 2, 3, 3, 2, 1, 1, 5, 2, 3, 4, 5, 1, 2, 3, 4, 5, 2, 4, 2, 3, 2, 3, 5, 1, 2, 1, 2, 3, 4, 5, 1, 2, 3, 4, 4, 1, 2, 3, 4, 5, 4, 1, 2, 3, 4, 5, 1, 2, 3, 4, 5, 5, 1, 3, 5, 2, 5, 3, 1, 2, 3, 4, 5, 2, 3, 4, 5, 1, 1, 2, 3, 4, 5, 1, 4, 2, 2, 3, 4, 5, 5, 5, 2, 1, 1, 2, 3, 4, 5, 1, 5, 1, 2, 3, 4, 1, 1, 4, 5, 1, 2, 3, 4, 5, 1, 1, 2, 3, 4, 5, 1, 2, 3, 4, 5, 1, 2, 3, 5, 1, 1, 3, 4, 3, 1, 2, 3, 4, 5, 1, 2, 3, 4, 5, 2, 1, 3, 4, 5, 1, 2, 3, 4, 5, 1, 3, 1, 2, 3, 4, 1, 3, 5, 1, 2, 3, 4, 5, 2, 1, 2, 3, 4, 5, 1, 2, 4, 1, 2, 3, 4, 5, 5, 4, 5, 1, 1, 2, 3, 4, 2, 5, 4, 4, 2, 1, 2, 3, 4, 5, 1, 3, 5, 1, 2, 3, 4, 5, 2, 1, 3, 3, 1, 2, 3, 4, 5, 4, 3, 1, 2, 3, 4, 4, 4, 5, 1, 1, 1, 2, 3, 4, 5, 5, 1, 2, 4, 5, 1, 2, 3, 4, 5, 1, 2, 3, 4, 5, 5, 4, 1, 4, 5, 2, 1, 2, 3, 4, 5, 2, 3, 1, 2, 4, 5, 2, 3, 1, 1, 2, 3, 4, 5, 5, 1, 2, 3, 4, 5, 1, 2, 4, 5, 4, 1, 2, 3, 4, 2, 3, 4, 1, 4, 1, 2, 5, 2, 4, 1, 2, 4, 5, 1, 2, 3, 4, 5, 3, 1, 5, 2, 4, 5, 1, 2, 4, 5, 5, 1, 2, 4, 5, 3, 5, 1, 2, 4, 5, 1, 3, 5, 2, 1, 2, 3, 4, 5, 1, 4, 5, 1, 3, 4, 5, 1, 4, 5, 2, 4, 1, 2, 3, 4, 2, 3, 1, 4, 5, 5, 1, 2, 3, 4, 5, 5, 1, 2, 3, 4, 1, 2, 4, 1, 1, 2, 3, 4, 5, 2, 2, 5, 4, 4, 5, 1, 2, 1, 2, 3, 3, 3, 4, 5, 1, 2, 3, 4, 5, 2, 3, 1, 2, 3, 4, 5, 1, 2, 3, 4, 5, 1, 2, 3, 4, 5, 3, 2, 3, 4, 5, 1, 2, 3, 4, 5, 1, 2, 4, 5, 1, 1, 2, 3, 4, 5, 3, 4, 1, 4, 4, 1, 2, 3, 4, 5, 1, 2, 4, 1, 2, 3, 4, 5, 4, 5, 2, 1, 2, 3, 4, 5], \"Freq\": [0.8916236992725034, 0.10172887844048698, 0.005984051672969822, 0.13018634167466445, 0.46624875855577497, 0.30881411280966914, 0.09385526957940925, 0.14420077020411282, 0.6042698941886633, 0.22660121032074873, 0.010300055014579488, 0.01716675835763248, 0.9973257583678491, 0.11624089095670576, 0.43217767150570086, 0.3964112435190222, 0.03278589232112213, 0.020863749658895904, 0.014021702423417217, 0.3330154325561589, 0.6414928858713377, 0.010516276817562913, 0.9615421913426087, 0.9934694825436216, 0.0668320159808973, 0.8955490141440239, 0.04009920958853838, 0.990430876583094, 0.022382067399999067, 0.9624288981999598, 0.0024433917850348146, 0.9969038482942043, 0.9920138814877588, 0.13266690727815925, 0.8149538589944069, 0.009476207662725661, 0.037904830650902645, 0.9840219368501975, 0.945129161926594, 0.16134653413547345, 0.738160393669791, 0.1008415838346709, 0.018579041441795868, 0.8917939892062017, 0.09289520720897934, 0.06908357347724363, 0.8290028817269236, 0.09869081925320519, 0.009869081925320518, 0.02087810727379972, 0.9338207980644966, 0.04555223405192666, 0.05045338632731664, 0.7370581654773214, 0.157941035459426, 0.052647011819808666, 0.7887015931785663, 0.20250446311341563, 0.9492467104965117, 0.9756089039013671, 0.16417112468074604, 0.6566844987229842, 0.05794274988732213, 0.07564747901955944, 0.04667610407589838, 0.19126538160333256, 0.6496786059895807, 0.0660073463685414, 0.008835629041458298, 0.083678604451458, 0.08368935147786952, 0.858917028325503, 0.052856432512338646, 0.07829962115446822, 0.7232412375057459, 0.008928904166737604, 0.0041210326923404325, 0.18544647115531948, 0.9310069394970135, 0.9864656266347783, 0.8357346088513505, 0.16128211749762905, 0.9506542372289165, 0.18234055936085197, 0.012156037290723466, 0.6807380882805141, 0.036468111872170396, 0.08509226103506426, 0.001821508090955631, 0.9963649257527301, 0.04667864634175521, 0.9335729268351042, 0.006668378048822173, 0.013336756097644346, 0.9656424736821244, 0.9816887738452097, 0.9657524304423738, 0.0756716234590004, 0.9080594815080049, 0.9888417507371899, 0.07224537155786732, 0.8749717222008376, 0.04013631753214851, 0.008027263506429703, 0.9712711111062807, 0.03486240513982172, 0.9761473439150082, 0.9896135687131408, 0.10395929848822165, 0.03057626426124166, 0.6849083194518132, 0.1773423327152016, 0.095104351742107, 0.7449840886465049, 0.05547753851622909, 0.11095507703245817, 0.9752027899325714, 0.9777540087352523, 0.09983977615937258, 0.8985579854343532, 0.062400853539540946, 0.9204125897082289, 0.9940003483398221, 0.2716713265821099, 0.114254296226121, 0.3021391389090755, 0.2589764047792076, 0.05585765593277026, 0.9623944160350846, 0.02291415276274011, 0.951863728544845, 0.9526077305652045, 0.1353982717270723, 0.8349560089836126, 0.022566378621178718, 0.8038417550774685, 0.10909280961765644, 0.08038417550774685, 0.35495281629441294, 0.6364671188727404, 0.9826588702796767, 0.9539565011015078, 0.981734799541691, 0.225341246772326, 0.019966945916535216, 0.004278631267828975, 0.6375160589065172, 0.11124441296355334, 0.9897742449381393, 0.9661998482716978, 0.9573764935553423, 0.9878746223211566, 0.22005113352311642, 0.016503835014233734, 0.060514061718857017, 0.4566061020604666, 0.24205624687542807, 0.6599382192960566, 0.17348891332009733, 0.12246276234359811, 0.003401743398433281, 0.04082092078119937, 0.16607595362369537, 0.27795870132807965, 0.1765649612209814, 0.24649167853622156, 0.1328607628989563, 0.8803603389776008, 0.10891055739929083, 0.9553065159695441, 0.8015328558949524, 0.12197239111444928, 0.013403559463126295, 0.0040210678389378885, 0.06031601758406832, 0.9950475752442283, 0.48778912761360016, 0.22650382099622826, 0.044961432632210106, 0.2231105053258728, 0.0169665783517774, 0.1257146640286323, 0.03986074713102975, 0.1747740451129766, 0.1103836074397747, 0.5488518258811019, 0.9509763399319947, 0.9643072675624556, 0.7147399795942103, 0.10815144428070286, 0.15517381135926933, 0.023511183539283234, 0.9495905731029084, 0.02316074568543679, 0.5348463484537995, 0.24195430049100455, 0.18082900352485604, 0.04329708535102186, 0.9775212061087784, 0.9824383264509557, 0.9853730097957382, 0.014609671192847663, 0.5515150875299992, 0.08765802715708597, 0.34697969083013197, 0.1320148066488813, 0.02475277624666524, 0.305284240375538, 0.5363101520110802, 0.2653344707216884, 0.08212733617576069, 0.6380662272116793, 0.018952462194406314, 0.9831218022367268, 0.011468672469361042, 0.011468672469361042, 0.31825566102476893, 0.4300752176010391, 0.22937344938722087, 0.9922052381474175, 0.9611517034199585, 0.9585990555110876, 0.9479056409062916, 0.8022243608864468, 0.04995536313212306, 0.14398898785141354, 0.002938550772477827, 0.9841132234950063, 0.9842971100826932, 0.9886317316773717, 0.9717365618108134, 0.9877435480609479, 0.03748599376981472, 0.03748599376981472, 0.9371498442453681, 0.9696025500225447, 0.036925902475558256, 0.9336978197391159, 0.010550257850159502, 0.021100515700319004, 0.9354557747139225, 0.44638122943414293, 0.13626374372200153, 0.05638499740220753, 0.35710498354731435, 0.004698749783517294, 0.9358744291466299, 0.1211955067396165, 0.06059775336980825, 0.8079700449307767, 0.020166436819578044, 0.967988967339746, 0.2807768332600783, 0.22103708150261486, 0.12844046627854647, 0.31960767190242956, 0.05077878899384395, 0.9635827834630815, 0.982961590211747, 0.8764114196239917, 0.07141130085825118, 0.045443555091614386, 0.05463763432138159, 0.11473903207490134, 0.8250282782528621, 0.8225314474042532, 0.13515774957346885, 0.03861649987813395, 0.8351173922983343, 0.010061655328895592, 0.07378547241190102, 0.08384712774079661, 0.3879280621651385, 0.03194701688418788, 0.1597350844209394, 0.13235192709163549, 0.2875231519576909, 0.9909086613283705, 0.9942208617431197, 0.9885662319940945, 0.012513496607520184, 0.02700608988592115, 0.9722192358931614, 0.9658234484430389, 0.9836898062298804, 0.9932993559531624, 0.982775092246263, 0.9597867560693154, 0.0008376875035564531, 0.9960104417286226, 0.0016753750071129062, 0.9819858250921223, 0.038787464847879094, 0.3855930328995039, 0.417535651009522, 0.03194261811001808, 0.1277704724400723, 0.9226393729931696, 0.06669682214408454, 0.2349461563805283, 0.7615496103368847, 0.9667811378936195, 0.013811159112765994, 0.013811159112765994, 0.16252267951305038, 0.8273881866118928, 0.18029136617626218, 0.17112400857407936, 0.2964112291372446, 0.2964112291372446, 0.05500414561309694, 0.17617004941532305, 0.5734162392734045, 0.08290355266603439, 0.16580710533206877, 0.9569376338657352, 0.34171791330603196, 0.25042865126759745, 0.140634809086237, 0.15420483452438266, 0.11226111953375058, 0.9630874157330298, 0.20848211369257688, 0.13670958274923076, 0.1093676661993846, 0.39645778997276915, 0.15038054102415382, 0.14505661728611136, 0.22548404865266816, 0.29298564283531403, 0.1838341288378441, 0.150801433812294, 0.9712898016545565, 0.07055971346337007, 0.17639928365842517, 0.7408769913653858, 0.9704725539632822, 0.9664666858268403, 0.9896908812124918, 0.10120981099150037, 0.17350253312828634, 0.5494246882395734, 0.16868301831916727, 0.0072292722136785975, 0.21285480566256007, 0.467520376723123, 0.3154812298212944, 0.0038009786725457157, 0.9687834487275614, 0.01070683072392984, 0.604935935902036, 0.1873695376687722, 0.19807636839270207, 0.965752924844773, 0.9803014308222201, 0.01782366237858582, 0.9679632909483576, 0.009868936147774015, 0.009868936147774015, 0.9178110617429834, 0.04934468073887008, 0.9485297829487351, 0.9678806916997481, 0.953436111841002, 0.9723205062762387, 0.48178808653131144, 0.10324030425670959, 0.15016771528248668, 0.1548604563850644, 0.11106153942767244, 0.9915776523179634, 0.967837001718008, 0.772609385601559, 0.04208767081097987, 0.04810019521254842, 0.13528179903529242, 0.9636424222960368, 0.1021159577947348, 0.8679856412552458, 0.9280213154019342, 0.2128070693481936, 0.10380832651131396, 0.13495082446470813, 0.4256141386963872, 0.12456999181357674, 0.9805762596243247, 0.19014769634659784, 0.1452813859726815, 0.2286045338099547, 0.25210593448200613, 0.18587471440622486, 0.2176949968522531, 0.17705859743983252, 0.2612339962227037, 0.2380131965584634, 0.10449359848908149, 0.9757568309565955, 0.048476787375895954, 0.12119196843973988, 0.7998669917022833, 0.9782207576545854, 0.01872434866263137, 0.8800443871436744, 0.09362174331315685, 0.9883156673371016, 0.16098801535050242, 0.2259025376692534, 0.3583281631995054, 0.23109569945475347, 0.02336922803475035, 0.011377948417783411, 0.5688974208891705, 0.3163069660143788, 0.050062973038247006, 0.05233856272180369, 0.9581730392175034, 0.11024762065099801, 0.027561905162749503, 0.027561905162749503, 0.826857154882485, 0.32449488946007865, 0.06989120696063232, 0.01996891627446638, 0.34196769120023673, 0.24461922436221314, 0.018154832202378655, 0.9803609389284474, 0.6726841897490936, 0.17271621088152403, 0.0030301089628337547, 0.15150544814168773, 0.019143791118890894, 0.07657516447556358, 0.8997581825878721, 0.30652575859915593, 0.021195930115899077, 0.45326681324768797, 0.09619691360292659, 0.12228421220711007, 0.9571248902712824, 0.4747213390371465, 0.23930094747104114, 0.12547130759292427, 0.07631759946373744, 0.08407871127360905, 0.9817377152819582, 0.9295785509904728, 0.9779593237331143, 0.43707957071318426, 0.28157126029101975, 0.009201675172909143, 0.2521258997377105, 0.0193235178631092, 0.9861637678440613, 0.9418380006798491, 0.037673520027193964, 0.9869303687610984, 0.915965321313505, 0.07255170861889149, 0.009068963577361436, 0.009068963577361436, 0.9513319050005395, 0.9737969072562216, 0.9527088687107369, 0.9874797422716671, 0.9783724708223288, 0.25127960857538306, 0.0028882713629354373, 0.2252851663089641, 0.08087159816219225, 0.4390172471661865, 0.1694476013568771, 0.18356823480328352, 0.6354285050882891, 0.4347182178726269, 0.17238825881155895, 0.131164979530534, 0.13866012121799307, 0.12273294513214252, 0.9453803651504131, 0.006359424174177735, 0.9920701711717268, 0.9936232930143735, 0.20842266823475125, 0.4168453364695025, 0.154908739904207, 0.1999731006036127, 0.019715657805989984, 0.9705502286037687, 0.9887627151767621, 0.08342724682968054, 0.03575453435557738, 0.1430181374223095, 0.7349543173090906, 0.9702735448752027, 0.1629731311618623, 0.8148656558093114, 0.9779333240368676, 0.9783417921484193, 0.2780082862910058, 0.18890306632593984, 0.13187572554829763, 0.3778061326518797, 0.02494946159021847, 0.9661436265913862, 0.2902334379133641, 0.38585948393106206, 0.27345693861201353, 0.05032949790405158, 0.2522489347145032, 0.2541455432461912, 0.19914389582723938, 0.14793546547166356, 0.14603885693997554, 0.006492901997122019, 0.11037933395107433, 0.18829415791653856, 0.15582964793092846, 0.5389108657611276, 0.9601887619477392, 0.9707415336884077, 0.04965033775848609, 0.08937060796527496, 0.8539858094459607, 0.9878488112436937, 0.10000500108799787, 0.2656382841399943, 0.4875243803039896, 0.006250312567999867, 0.14375718906399693, 0.9689779232529592, 0.9688571705197967, 0.6616652110492375, 0.28197546968764975, 0.044669381336657384, 0.00837550900062326, 0.971133763002026, 0.9958695066864934, 0.9879453142913215, 0.43421803153097716, 0.18187142681925744, 0.20460535517166462, 0.09320910624486944, 0.08411553490390657, 0.9840931731025221, 0.06382343121936736, 0.7865806658386896, 0.12074703203664094, 0.006899830402093768, 0.022424448806804748, 0.052935008071405, 0.8091494090914764, 0.1134321601530107, 0.015124288020401428, 0.9762406688602445, 0.10365877756698208, 0.01295734719587276, 0.7806801685513338, 0.1004194407680139, 0.06287579327313474, 0.047156844954851056, 0.8802611058238864, 0.8894524460463088, 0.09882804956070099, 0.8756775798878894, 0.005061720114958898, 0.12148128275901356, 0.9511221905719075, 0.961356721926135, 0.5787720750127628, 0.2583803906306977, 0.12746765937781085, 0.034450718750759696, 0.22969092033894212, 0.6026299415344288, 0.004939589684708433, 0.1506574853836072, 0.014818769054125299, 0.9986997905574798, 0.9701223314720132, 0.9717713370680461, 0.08347249623473467, 0.010434062029341834, 0.9077633965527395, 0.8010072083776459, 0.05632081933905323, 0.1063837698626561, 0.03754721289270215, 0.9653124547220705, 0.0726319776061379, 0.018157994401534476, 0.8534257368721203, 0.05447398320460343, 0.3101272907983232, 0.6798944452117086, 0.7836063288947803, 0.12165577708868736, 0.07871844399856241, 0.014312444363374983, 0.9359882110416323, 0.037817705496631604, 0.018908852748315802, 0.970766373093396, 0.20867105822447105, 0.6234684056706757, 0.03817153504106178, 0.08143260808759846, 0.048350611052011584, 0.938429820458944, 0.015640497007649065, 0.03128099401529813, 0.031553460898988396, 0.4101949916868492, 0.0473301913484826, 0.5048553743838143, 0.10844516691174706, 0.7788334714570926, 0.10844516691174706, 0.13028809981671757, 0.8561789416527156, 0.14707429067420752, 0.00919214316713797, 0.25738000867986316, 0.5882971626968301, 0.9694110712793634, 0.9973704673091444, 0.5326180534068011, 0.4335263225404195, 0.0371593990748931, 0.9316119359733588, 0.3407864334320156, 0.3012194692507703, 0.16209691777477894, 0.11487183149393784, 0.08041028204575648, 0.9692911318247143, 0.08078117916337761, 0.9008325433976655, 0.017135401640716464, 0.001223957260051176, 0.04371813582188055, 0.7432083089719693, 0.20984705194502662, 0.9879424940156107, 0.5512697917795052, 0.09619472876689353, 0.10606085479426722, 0.19238945753378706, 0.05303042739713361, 0.996912454673776, 0.9701691814702108, 0.9620746677411405, 0.9862053742898835, 0.9847261312059438, 0.9602895602903223, 0.9556947326045532, 0.0341319547358769, 0.9712122453829337, 0.018677158565056418, 0.9956455742202486, 0.9898823332963032, 0.0786515999586498, 0.10486879994486639, 0.8127331995727146, 0.40438601591060136, 0.1398143140116441, 0.3269503958426139, 0.10324749342398333, 0.025811873355995833, 0.04243028726759014, 0.9546814635207782, 0.2308324468459898, 0.07914255320433936, 0.5364106383849668, 0.08134095746001545, 0.07034893618163499, 0.017173956930853433, 0.646885711062146, 0.2576093539628015, 0.005724652310284477, 0.06869582772341373, 0.8231242810104471, 0.08629528752528881, 0.05310479232325465, 0.006638099040406831, 0.033190495202034154, 0.9972709284789553, 0.22976227336424138, 0.7671246514773447, 0.0009378051974050669, 0.0018756103948101338, 0.8823924438024826, 0.09478825079909482, 0.0017234227418017238, 0.01723422741801724, 0.0051702682254051715, 0.8381699125242641, 0.008822841184465937, 0.10146267362135829, 0.04852562651456266, 0.9623736471871219, 0.40030956458627154, 0.1607542345976366, 0.26949974623721434, 0.07564905157535841, 0.09298529256137804, 0.9910275260663722, 0.9949235043129436, 0.9641047657565793, 0.9956603520955465, 0.9554691644365304, 0.2703946250664916, 0.21380040121536545, 0.1593022597290958, 0.16349442445880888, 0.19493565993165674, 0.8451600940260923, 0.01396958833100979, 0.132711089144593, 0.23839958617553936, 0.023839958617553936, 0.3218394413369781, 0.11025980860618696, 0.3039594723738127, 0.08095570497573415, 0.9228950367233694, 0.9516193507023508, 0.5797401204945072, 0.057363759291035446, 0.24776261991659992, 0.07323033100983249, 0.04149718757223841], \"Term\": [\"0\", \"0\", \"0\", \"10\", \"10\", \"10\", \"10\", \"1080\", \"1080\", \"1080\", \"1080\", \"1080\", \"1080p\", \"1080ti\", \"1080ti\", \"1080ti\", \"1080ti\", \"1080ti\", \"10gb\", \"10gb\", \"10gb\", \"10gb\", \"10k\", \"120hz\", \"1400\", \"1400\", \"1400\", \"144\", \"1440\", \"1440\", \"1440p\", \"1440p\", \"144hz\", \"1500\", \"1500\", \"1500\", \"1500\", \"17th\", \"19\", \"20\", \"20\", \"20\", \"2000\", \"2000\", \"2000\", \"2070\", \"2070\", \"2070\", \"2070\", \"2080\", \"2080\", \"2080\", \"2080ti\", \"2080ti\", \"2080ti\", \"2080ti\", \"24gb\", \"24gb\", \"2500\", \"3000\", \"3070\", \"3070\", \"3070\", \"3070\", \"3070\", \"3080\", \"3080\", \"3080\", \"3080\", \"3080\", \"3080ti\", \"3080ti\", \"3080ti\", \"3090\", \"3090\", \"3090\", \"3090\", \"3090\", \"30fps\", \"30xx\", \"3d\", \"3d\", \"3k\", \"4\", \"4\", \"4\", \"4\", \"4\", \"4k\", \"4k\", \"500\", \"500\", \"500\", \"500\", \"5gb\", \"60fps\", \"60hz\", \"650w\", \"650w\", \"6gb\", \"700\", \"700\", \"700\", \"700\", \"750\", \"780\", \"780\", \"7nm\", \"8\", \"8\", \"8\", \"8\", \"800\", \"800\", \"800\", \"800\", \"850w\", \"8_pin\", \"8gb\", \"8gb\", \"8k\", \"8k\", \"aaa\", \"actually\", \"actually\", \"actually\", \"actually\", \"actually\", \"adapter\", \"adapter\", \"address\", \"affect\", \"ah\", \"ah\", \"ah\", \"aib\", \"aib\", \"aib\", \"aibs\", \"aibs\", \"air\", \"allocated\", \"amazon\", \"amd\", \"amd\", \"amd\", \"amd\", \"amd\", \"anymore\", \"assuming\", \"ati\", \"australia\", \"bad\", \"bad\", \"bad\", \"bad\", \"bad\", \"best\", \"best\", \"best\", \"best\", \"best\", \"better\", \"better\", \"better\", \"better\", \"better\", \"bot\", \"bot\", \"bother\", \"buy\", \"buy\", \"buy\", \"buy\", \"buy\", \"cable\", \"card\", \"card\", \"card\", \"card\", \"card\", \"case\", \"case\", \"case\", \"case\", \"case\", \"casual\", \"cheapest\", \"chip\", \"chip\", \"chip\", \"chip\", \"class\", \"class\", \"come\", \"come\", \"come\", \"come\", \"comparable\", \"confirmed\", \"connector\", \"console\", \"console\", \"console\", \"console\", \"cooler\", \"cooler\", \"cooler\", \"cooler\", \"core\", \"core\", \"core\", \"core\", \"counter\", \"cpu\", \"cpu\", \"cpu\", \"cpu\", \"cpu\", \"cuda_core\", \"curious\", \"cutting_edge\", \"cx\", \"day\", \"day\", \"day\", \"day\", \"decide\", \"dedicated\", \"demanding\", \"development\", \"devs\", \"direct\", \"direct\", \"direct\", \"disappointed\", \"dl\", \"dl\", \"dl\", \"dl\", \"dp_0\", \"driver\", \"driver\", \"driver\", \"driver\", \"driver\", \"dvi_port\", \"easy\", \"easy\", \"easy\", \"efficiency\", \"efficiency\", \"end\", \"end\", \"end\", \"end\", \"end\", \"eu\", \"euro\", \"evga\", \"evga\", \"evga\", \"fan\", \"fan\", \"fan\", \"faster\", \"faster\", \"faster\", \"fe\", \"fe\", \"fe\", \"fe\", \"feel\", \"feel\", \"feel\", \"feel\", \"feel\", \"feeling\", \"fit\", \"flagship\", \"flagship\", \"fps\", \"fps\", \"frame_rate\", \"framerates\", \"ftw3\", \"future_proofing\", \"ga102\", \"game\", \"game\", \"game\", \"gamers_nexus\", \"gaming\", \"gaming\", \"gaming\", \"gaming\", \"gaming\", \"gap\", \"gap\", \"gb\", \"gb\", \"gddr6x\", \"gddr6x\", \"gddr6x\", \"geforce\", \"geforce\", \"gen\", \"gen\", \"gen\", \"gen\", \"gen\", \"generation\", \"generation\", \"generation\", \"generation\", \"germany\", \"going\", \"going\", \"going\", \"going\", \"going\", \"gold\", \"good\", \"good\", \"good\", \"good\", \"good\", \"gpu\", \"gpu\", \"gpu\", \"gpu\", \"gpu\", \"gun\", \"guy\", \"guy\", \"guy\", \"happening\", \"hd\", \"hdmi\", \"high\", \"high\", \"high\", \"high\", \"high\", \"higher\", \"higher\", \"higher\", \"higher\", \"holding\", \"increase\", \"increase\", \"increase\", \"increase\", \"inflated\", \"info\", \"info\", \"insanely\", \"intel\", \"intel\", \"intel\", \"intel\", \"itx\", \"kept\", \"kid\", \"knew\", \"know\", \"know\", \"know\", \"know\", \"know\", \"knowing\", \"knowledge\", \"launch\", \"launch\", \"launch\", \"launch\", \"launching\", \"leaked\", \"leaked\", \"listing\", \"little\", \"little\", \"little\", \"little\", \"little\", \"local\", \"look\", \"look\", \"look\", \"look\", \"look\", \"lot\", \"lot\", \"lot\", \"lot\", \"lot\", \"luck\", \"machine\", \"machine\", \"machine\", \"managed\", \"max\", \"max\", \"max\", \"maxed\", \"mean\", \"mean\", \"mean\", \"mean\", \"mean\", \"memory\", \"memory\", \"memory\", \"memory\", \"memory\", \"minecraft\", \"mobo\", \"mobo\", \"mobo\", \"mobo\", \"money\", \"money\", \"money\", \"money\", \"money\", \"monitor\", \"monitor\", \"month\", \"month\", \"month\", \"month\", \"motherboard\", \"motherboard\", \"motherboard\", \"need\", \"need\", \"need\", \"need\", \"need\", \"net\", \"new\", \"new\", \"new\", \"new\", \"new\", \"newegg\", \"newest\", \"november\", \"nvidia\", \"nvidia\", \"nvidia\", \"nvidia\", \"nvidia\", \"nvme\", \"obvious\", \"obvious\", \"online\", \"order\", \"order\", \"order\", \"order\", \"ordered\", \"p\", \"pandemic\", \"paper\", \"par\", \"pc\", \"pc\", \"pc\", \"pc\", \"pc\", \"pcie\", \"pcie\", \"pcie\", \"people\", \"people\", \"people\", \"people\", \"people\", \"pissed\", \"play\", \"play\", \"playing\", \"point\", \"point\", \"point\", \"point\", \"point\", \"pool\", \"port\", \"power\", \"power\", \"power\", \"power\", \"power_limit\", \"pre\", \"pre\", \"pre_order\", \"preorder\", \"pretty\", \"pretty\", \"pretty\", \"pretty\", \"pretty\", \"prevent\", \"price\", \"price\", \"price\", \"price\", \"probably\", \"probably\", \"probably\", \"probably\", \"probably\", \"problem\", \"problem\", \"problem\", \"problem\", \"problem\", \"properly\", \"ps4\", \"ps5\", \"ps5\", \"ps5\", \"quadro\", \"ram\", \"ram\", \"ram\", \"ram\", \"ram\", \"rasterization\", \"rdr2\", \"release\", \"release\", \"release\", \"release\", \"replacement\", \"resolution\", \"retailer\", \"right\", \"right\", \"right\", \"right\", \"right\", \"room\", \"rtx\", \"rtx\", \"rtx\", \"rtx\", \"rtx\", \"rumor\", \"rumor\", \"rumor\", \"rumor\", \"rumour\", \"run\", \"run\", \"run\", \"run\", \"ryzen\", \"ryzen\", \"ryzen\", \"sale\", \"sale\", \"scalper\", \"scalper\", \"scalper\", \"scan\", \"scene\", \"sell\", \"sell\", \"sell\", \"sell\", \"series\", \"series\", \"series\", \"series\", \"series\", \"setting\", \"shortage\", \"simulation\", \"slot\", \"slot\", \"slot\", \"sold\", \"sold\", \"sold\", \"sold\", \"sony\", \"source\", \"source\", \"source\", \"source\", \"ssd\", \"ssd\", \"stock\", \"stock\", \"stock\", \"stock\", \"store\", \"store\", \"store\", \"successor\", \"super\", \"super\", \"super\", \"super\", \"super\", \"supply\", \"supply\", \"supply\", \"support\", \"support\", \"support\", \"support\", \"tax\", \"tax\", \"tax\", \"tdp\", \"tdp\", \"tech\", \"tech\", \"tech\", \"tech\", \"tensor_memory\", \"texture\", \"thanks\", \"thanks\", \"thanks\", \"thicc\", \"think\", \"think\", \"think\", \"think\", \"think\", \"throwing\", \"ti\", \"ti\", \"ti\", \"ti\", \"tier\", \"tier\", \"tier\", \"till\", \"time\", \"time\", \"time\", \"time\", \"time\", \"titan\", \"titan_replacement\", \"tower\", \"tsmc\", \"tsmc_7nm\", \"tuf\", \"tv\", \"tv\", \"uk\", \"uk\", \"ultra\", \"ultrawide\", \"unit\", \"unit\", \"unit\", \"upgrade\", \"upgrade\", \"upgrade\", \"upgrade\", \"upgrade\", \"usage\", \"usage\", \"use\", \"use\", \"use\", \"use\", \"use\", \"v\", \"v\", \"v\", \"v\", \"v\", \"version\", \"version\", \"version\", \"version\", \"version\", \"vr\", \"vram\", \"vram\", \"vram\", \"vram\", \"wait\", \"wait\", \"wait\", \"wait\", \"wait\", \"waiting\", \"waiting\", \"waiting\", \"waiting\", \"wallet\", \"want\", \"want\", \"want\", \"want\", \"want\", \"warzone\", \"watch\", \"water\", \"watt\", \"wattage\", \"way\", \"way\", \"way\", \"way\", \"way\", \"week\", \"week\", \"week\", \"work\", \"work\", \"work\", \"work\", \"work\", \"xbox\", \"xbox\", \"xx80\", \"year\", \"year\", \"year\", \"year\", \"year\"]}, \"R\": 30, \"lambda.step\": 0.01, \"plot.opts\": {\"xlab\": \"PC1\", \"ylab\": \"PC2\"}, \"topic.order\": [1, 4, 3, 5, 2]};\n",
       "\n",
       "function LDAvis_load_lib(url, callback){\n",
       "  var s = document.createElement('script');\n",
       "  s.src = url;\n",
       "  s.async = true;\n",
       "  s.onreadystatechange = s.onload = callback;\n",
       "  s.onerror = function(){console.warn(\"failed to load library \" + url);};\n",
       "  document.getElementsByTagName(\"head\")[0].appendChild(s);\n",
       "}\n",
       "\n",
       "if(typeof(LDAvis) !== \"undefined\"){\n",
       "   // already loaded: just create the visualization\n",
       "   !function(LDAvis){\n",
       "       new LDAvis(\"#\" + \"ldavis_el1290027833697927521095052394\", ldavis_el1290027833697927521095052394_data);\n",
       "   }(LDAvis);\n",
       "}else if(typeof define === \"function\" && define.amd){\n",
       "   // require.js is available: use it to load d3/LDAvis\n",
       "   require.config({paths: {d3: \"https://cdnjs.cloudflare.com/ajax/libs/d3/3.5.5/d3.min\"}});\n",
       "   require([\"d3\"], function(d3){\n",
       "      window.d3 = d3;\n",
       "      LDAvis_load_lib(\"https://cdn.rawgit.com/bmabey/pyLDAvis/files/ldavis.v1.0.0.js\", function(){\n",
       "        new LDAvis(\"#\" + \"ldavis_el1290027833697927521095052394\", ldavis_el1290027833697927521095052394_data);\n",
       "      });\n",
       "    });\n",
       "}else{\n",
       "    // require.js not available: dynamically load d3 & LDAvis\n",
       "    LDAvis_load_lib(\"https://cdnjs.cloudflare.com/ajax/libs/d3/3.5.5/d3.min.js\", function(){\n",
       "         LDAvis_load_lib(\"https://cdn.rawgit.com/bmabey/pyLDAvis/files/ldavis.v1.0.0.js\", function(){\n",
       "                 new LDAvis(\"#\" + \"ldavis_el1290027833697927521095052394\", ldavis_el1290027833697927521095052394_data);\n",
       "            })\n",
       "         });\n",
       "}\n",
       "</script>"
      ],
      "text/plain": [
       "PreparedData(topic_coordinates=              x         y  topics  cluster       Freq\n",
       "topic                                                \n",
       "0     -0.088808  0.059652       1        1  26.598866\n",
       "3     -0.001410  0.139206       2        1  22.717789\n",
       "2      0.230121 -0.040339       3        1  21.672441\n",
       "4     -0.053536  0.033069       4        1  17.320591\n",
       "1     -0.086368 -0.191588       5        1  11.690313, topic_info=      Term         Freq        Total Category  logprob  loglift\n",
       "295   game  1193.000000  1193.000000  Default  30.0000  30.0000\n",
       "10    3090  1455.000000  1455.000000  Default  29.0000  29.0000\n",
       "211   vram  1066.000000  1066.000000  Default  28.0000  28.0000\n",
       "35      ti   817.000000   817.000000  Default  27.0000  27.0000\n",
       "4     3080  1924.000000  1924.000000  Default  26.0000  26.0000\n",
       "..     ...          ...          ...      ...      ...      ...\n",
       "163    amd    77.969855   701.158808   Topic5  -5.4640  -0.0500\n",
       "427   need    75.425762   613.325291   Topic5  -5.4972   0.0507\n",
       "389   know    70.793212   639.285214   Topic5  -5.5606  -0.0542\n",
       "73     new    64.949701   773.085113   Topic5  -5.6468  -0.3304\n",
       "280  think    63.387011   783.481893   Topic5  -5.6711  -0.3681\n",
       "\n",
       "[371 rows x 6 columns], token_table=      Topic      Freq  Term\n",
       "term                       \n",
       "92        3  0.891624     0\n",
       "92        4  0.101729     0\n",
       "92        5  0.005984     0\n",
       "194       1  0.130186    10\n",
       "194       2  0.466249    10\n",
       "...     ...       ...   ...\n",
       "227       1  0.579740  year\n",
       "227       2  0.057364  year\n",
       "227       3  0.247763  year\n",
       "227       4  0.073230  year\n",
       "227       5  0.041497  year\n",
       "\n",
       "[732 rows x 3 columns], R=30, lambda_step=0.01, plot_opts={'xlab': 'PC1', 'ylab': 'PC2'}, topic_order=[1, 4, 3, 5, 2])"
      ]
     },
     "execution_count": 93,
     "metadata": {},
     "output_type": "execute_result"
    }
   ],
   "source": [
    "# Visualize the topics for the trigram model\n",
    "pyLDAvis.enable_notebook()\n",
    "# Creates the filepath to save the html file\n",
    "LDAvis_data_filepath = os.path.join(os.getcwd()+'\\\\visualization\\\\'+ 'nvidia_' + 'trigram_' +'ldavis_prepared_'+str(num_topics))\n",
    "\n",
    "trigram_vis = pyLDAvis.gensim.prepare(lda_trigram_model, trigram_corpus, trigram_id2word)\n",
    "\n",
    "# Saves the graph as a html file to the LDAvis_data_filepath\n",
    "pyLDAvis.save_html(trigram_vis, os.getcwd()+ '\\\\visualization\\\\' + 'nvidia_' + 'trigram_' + 'ldavis_prepared_'+ str(num_topics) +'.html')\n",
    "\n",
    "trigram_vis"
   ]
  },
  {
   "cell_type": "markdown",
   "metadata": {
    "ExecuteTime": {
     "end_time": "2021-01-23T03:00:52.846161Z",
     "start_time": "2021-01-23T03:00:52.823140Z"
    }
   },
   "source": [
    "## Intrepeting the pyLDAvis graph\n",
    "\n",
    "Topics 1 has the largest bubble which shows the larger percentage of the documents belong to topic 1. Topics 1 and 4 overlap one another, which shows that they have close related to one another. Topic 5 is the furtherest apart from the other topics. The blue bars represent the overall term frequency of the corpus and the red bars represent the term frequency with regards to the topic.\n",
    "\n",
    "The GPU model terms tend to appear the most often in topic 3. Topic 2 discusses about the different types of resolutions. Topic 4 mainly discusses amd and nividia and amd's CPU and GPU power. Topic 5 discusses about the rtx 3080 and rtx 3090 size and how it fits in their computer casing."
   ]
  },
  {
   "cell_type": "markdown",
   "metadata": {},
   "source": [
    "# LDA Mallet Model"
   ]
  },
  {
   "cell_type": "markdown",
   "metadata": {},
   "source": [
    "Notes:\n",
    "\n",
    "* Download [link](http://mallet.cs.umass.edu/download.php)\n",
    "* Need to install [JDK](https://www.oracle.com/java/technologies/javase-jdk15-downloads.html) (Java Development Kit) to make it work\n",
    "* Need to configure the [PATH file](https://docs.oracle.com/javase/10/install/installation-jdk-and-jre-microsoft-windows-platforms.htm#JSJIG-GUID-96EB3876-8C7A-4A25-9F3A-A2983FEC016A) after installing\n",
    "\n",
    "Go to *Importing the optimal mallet model pickle file* section if you've not installed the JDK"
   ]
  },
  {
   "cell_type": "markdown",
   "metadata": {},
   "source": [
    "LDA Mallet model often gives a better quality of topics compared to the LDA. I'll be creating to see if the coherence score is much greater than the LDA and if there's a greater intrepretability in the number of topics."
   ]
  },
  {
   "cell_type": "code",
   "execution_count": 19,
   "metadata": {
    "ExecuteTime": {
     "end_time": "2021-01-26T00:07:31.255888Z",
     "start_time": "2021-01-26T00:07:31.251884Z"
    }
   },
   "outputs": [
    {
     "data": {
      "text/plain": [
       "'C:/mallet/mallet-2.0.8/bin/mallet.bat'"
      ]
     },
     "execution_count": 19,
     "metadata": {},
     "output_type": "execute_result"
    }
   ],
   "source": [
    "# Update the environment path\n",
    "os.environ.update({'MALLET_HOME': r'C:\\mallet\\mallet-2.0.8'})\n",
    "mallet_path = r'C:/mallet/mallet-2.0.8/bin/mallet.bat'\n",
    "# prefix_path = r'C:/mallet/ga_capstone'\n",
    "mallet_path"
   ]
  },
  {
   "cell_type": "markdown",
   "metadata": {},
   "source": [
    "## Finding the best k topics for the mallet model"
   ]
  },
  {
   "cell_type": "code",
   "execution_count": 20,
   "metadata": {
    "ExecuteTime": {
     "end_time": "2021-01-26T00:07:31.271902Z",
     "start_time": "2021-01-26T00:07:31.256889Z"
    }
   },
   "outputs": [],
   "source": [
    "# Solution: Follow this\n",
    "def mallet_compute_coherence_values(dictionary, all_corpus, texts, limit, start=2, step=4):\n",
    "    \"\"\"\n",
    "    Compute c_v coherence for various number of topics\n",
    "\n",
    "    Parameters:\n",
    "    ----------\n",
    "    dictionary : Gensim dictionary\n",
    "    corpus : Gensim corpus\n",
    "    texts : List of input texts\n",
    "    num_topics_list: Number of topics\n",
    "    limit : Max num of topics\n",
    "\n",
    "    Returns:\n",
    "    -------\n",
    "    model_list : List of LDA topic models\n",
    "    coherence_values : Coherence values corresponding to the LDA model with respective number of topics\n",
    "    \"\"\"\n",
    "    \n",
    "    #For two lines below update with your path to new_mallet\n",
    "#     os.environ.update({'MALLET_HOME':r'C:\\Users\\Trogg\\Documents\\General Assembly DS 18\\dsi18-projects\\capstone\\mallet\\mallet-2.0.8'})\n",
    "#     mallet_path = r'C:\\Users\\Trogg\\Documents\\General Assembly DS 18\\dsi18-projects\\capstone\\mallet\\mallet-2.0.8\\bin\\mallet.bat'\n",
    "#     prefix_path = r'C:\\Users\\Trogg\\Documents\\General Assembly DS 18\\dsi18-projects\\capstone\\mallet files'\n",
    "    \n",
    "    coherence_values = []\n",
    "    model_list = []\n",
    "    num_topics_list = []\n",
    "\n",
    "\n",
    "    for num_topics in range(start, limit, step):\n",
    "        model = LdaMallet(mallet_path, corpus=all_corpus, num_topics=num_topics, id2word=dictionary, random_seed=42)\n",
    "        #model = gensim.models.ldamodel.LdaModel(corpus=all_corpus,num_topics=num_topics,id2word=dictionary,eval_every=1,\n",
    "        #                                        alpha='auto',random_state=42)\n",
    "        model_list.append(model)\n",
    "        coherencemodel = CoherenceModel(model=model, texts=texts, dictionary=dictionary, coherence='c_v')\n",
    "        coherence_values.append(coherencemodel.get_coherence())\n",
    "        num_topics_list.append(num_topics)\n",
    "\n",
    "    return model_list, coherence_values, num_topics_list"
   ]
  },
  {
   "cell_type": "code",
   "execution_count": 21,
   "metadata": {
    "ExecuteTime": {
     "end_time": "2021-01-26T00:19:28.760023Z",
     "start_time": "2021-01-26T00:07:31.272903Z"
    }
   },
   "outputs": [],
   "source": [
    "# Using Bigram as it has the highest coherence value\n",
    "model_list, coherence_values, num_topics_list = mallet_compute_coherence_values(dictionary=trigram_id2word, all_corpus=trigram_corpus,\n",
    "                                                                         texts=data_trigrams, start=1, limit=11, step=1)\n",
    "\n",
    "# Creating the dataframe to hold the model list, coherence values and the number of topics list\n",
    "model_values_df = pd.DataFrame({'model_list':model_list,'coherence_values':coherence_values,'num_topics':num_topics_list})\n",
    "\n",
    "# Finds the optimal number of topics based on the highest coherence score\n",
    "optimal_num_topics = model_values_df.loc[model_values_df['coherence_values'].idxmax()]['num_topics']\n",
    "\n",
    "# Train the model based on the optimal number of topics\n",
    "optimal_model = LdaMallet(mallet_path, corpus=trigram_corpus, num_topics=optimal_num_topics, id2word=trigram_id2word,\n",
    "                                                 prefix='nvidia_optimal_', random_seed=42)"
   ]
  },
  {
   "cell_type": "code",
   "execution_count": 22,
   "metadata": {
    "ExecuteTime": {
     "end_time": "2021-01-26T00:19:28.766029Z",
     "start_time": "2021-01-26T00:19:28.761024Z"
    }
   },
   "outputs": [
    {
     "data": {
      "text/html": [
       "<div>\n",
       "<style scoped>\n",
       "    .dataframe tbody tr th:only-of-type {\n",
       "        vertical-align: middle;\n",
       "    }\n",
       "\n",
       "    .dataframe tbody tr th {\n",
       "        vertical-align: top;\n",
       "    }\n",
       "\n",
       "    .dataframe thead th {\n",
       "        text-align: right;\n",
       "    }\n",
       "</style>\n",
       "<table border=\"1\" class=\"dataframe\">\n",
       "  <thead>\n",
       "    <tr style=\"text-align: right;\">\n",
       "      <th></th>\n",
       "      <th>model_list</th>\n",
       "      <th>coherence_values</th>\n",
       "      <th>num_topics</th>\n",
       "    </tr>\n",
       "  </thead>\n",
       "  <tbody>\n",
       "    <tr>\n",
       "      <th>0</th>\n",
       "      <td>&lt;gensim.models.wrappers.ldamallet.LdaMallet ob...</td>\n",
       "      <td>0.371841</td>\n",
       "      <td>1</td>\n",
       "    </tr>\n",
       "    <tr>\n",
       "      <th>1</th>\n",
       "      <td>&lt;gensim.models.wrappers.ldamallet.LdaMallet ob...</td>\n",
       "      <td>0.533103</td>\n",
       "      <td>2</td>\n",
       "    </tr>\n",
       "    <tr>\n",
       "      <th>2</th>\n",
       "      <td>&lt;gensim.models.wrappers.ldamallet.LdaMallet ob...</td>\n",
       "      <td>0.569926</td>\n",
       "      <td>3</td>\n",
       "    </tr>\n",
       "    <tr>\n",
       "      <th>3</th>\n",
       "      <td>&lt;gensim.models.wrappers.ldamallet.LdaMallet ob...</td>\n",
       "      <td>0.536058</td>\n",
       "      <td>4</td>\n",
       "    </tr>\n",
       "    <tr>\n",
       "      <th>4</th>\n",
       "      <td>&lt;gensim.models.wrappers.ldamallet.LdaMallet ob...</td>\n",
       "      <td>0.535934</td>\n",
       "      <td>5</td>\n",
       "    </tr>\n",
       "    <tr>\n",
       "      <th>5</th>\n",
       "      <td>&lt;gensim.models.wrappers.ldamallet.LdaMallet ob...</td>\n",
       "      <td>0.536693</td>\n",
       "      <td>6</td>\n",
       "    </tr>\n",
       "    <tr>\n",
       "      <th>6</th>\n",
       "      <td>&lt;gensim.models.wrappers.ldamallet.LdaMallet ob...</td>\n",
       "      <td>0.538344</td>\n",
       "      <td>7</td>\n",
       "    </tr>\n",
       "    <tr>\n",
       "      <th>7</th>\n",
       "      <td>&lt;gensim.models.wrappers.ldamallet.LdaMallet ob...</td>\n",
       "      <td>0.519279</td>\n",
       "      <td>8</td>\n",
       "    </tr>\n",
       "    <tr>\n",
       "      <th>8</th>\n",
       "      <td>&lt;gensim.models.wrappers.ldamallet.LdaMallet ob...</td>\n",
       "      <td>0.508902</td>\n",
       "      <td>9</td>\n",
       "    </tr>\n",
       "    <tr>\n",
       "      <th>9</th>\n",
       "      <td>&lt;gensim.models.wrappers.ldamallet.LdaMallet ob...</td>\n",
       "      <td>0.482650</td>\n",
       "      <td>10</td>\n",
       "    </tr>\n",
       "  </tbody>\n",
       "</table>\n",
       "</div>"
      ],
      "text/plain": [
       "                                          model_list  coherence_values  \\\n",
       "0  <gensim.models.wrappers.ldamallet.LdaMallet ob...          0.371841   \n",
       "1  <gensim.models.wrappers.ldamallet.LdaMallet ob...          0.533103   \n",
       "2  <gensim.models.wrappers.ldamallet.LdaMallet ob...          0.569926   \n",
       "3  <gensim.models.wrappers.ldamallet.LdaMallet ob...          0.536058   \n",
       "4  <gensim.models.wrappers.ldamallet.LdaMallet ob...          0.535934   \n",
       "5  <gensim.models.wrappers.ldamallet.LdaMallet ob...          0.536693   \n",
       "6  <gensim.models.wrappers.ldamallet.LdaMallet ob...          0.538344   \n",
       "7  <gensim.models.wrappers.ldamallet.LdaMallet ob...          0.519279   \n",
       "8  <gensim.models.wrappers.ldamallet.LdaMallet ob...          0.508902   \n",
       "9  <gensim.models.wrappers.ldamallet.LdaMallet ob...          0.482650   \n",
       "\n",
       "   num_topics  \n",
       "0           1  \n",
       "1           2  \n",
       "2           3  \n",
       "3           4  \n",
       "4           5  \n",
       "5           6  \n",
       "6           7  \n",
       "7           8  \n",
       "8           9  \n",
       "9          10  "
      ]
     },
     "execution_count": 22,
     "metadata": {},
     "output_type": "execute_result"
    }
   ],
   "source": [
    "model_values_df"
   ]
  },
  {
   "cell_type": "code",
   "execution_count": 91,
   "metadata": {
    "ExecuteTime": {
     "end_time": "2021-01-26T05:41:00.253318Z",
     "start_time": "2021-01-26T05:41:00.103183Z"
    },
    "scrolled": false
   },
   "outputs": [
    {
     "data": {
      "image/png": "[encoded data removed]",
      "text/plain": [
       "<Figure size 792x504 with 1 Axes>"
      ]
     },
     "metadata": {},
     "output_type": "display_data"
    }
   ],
   "source": [
    "# model_list, coherence_values = compute_coherence_values(dictionary=trigram_id2word, corpus=trigram_corpus, texts=data_trigrams, start=start, limit=limit, step=step)\n",
    "\n",
    "# Show graph\n",
    "\n",
    "x = model_values_df['num_topics'].values.tolist()\n",
    "\n",
    "plt.figure(figsize=(11,7))\n",
    "\n",
    "plt.plot(x, coherence_values)\n",
    "\n",
    "plt.title('LDA Mallet Coherence scores across the number of topics')\n",
    "plt.xlabel(\"Num Topics\")\n",
    "plt.ylabel(\"Coherence score\")\n",
    "plt.legend([\"Coherence_values\"], loc='best')\n",
    "plt.show()"
   ]
  },
  {
   "cell_type": "markdown",
   "metadata": {},
   "source": [
    "The coherence score peaks at creating 3 topics before it starts to stagnate and dip. "
   ]
  },
  {
   "cell_type": "code",
   "execution_count": 24,
   "metadata": {
    "ExecuteTime": {
     "end_time": "2021-01-26T00:19:28.952387Z",
     "start_time": "2021-01-26T00:19:28.938183Z"
    }
   },
   "outputs": [
    {
     "name": "stdout",
     "output_type": "stream",
     "text": [
      "Num Topics = 1  has Coherence Value of 0.3718\n",
      "Num Topics = 2  has Coherence Value of 0.5331\n",
      "Num Topics = 3  has Coherence Value of 0.5699\n",
      "Num Topics = 4  has Coherence Value of 0.5361\n",
      "Num Topics = 5  has Coherence Value of 0.5359\n",
      "Num Topics = 6  has Coherence Value of 0.5367\n",
      "Num Topics = 7  has Coherence Value of 0.5383\n",
      "Num Topics = 8  has Coherence Value of 0.5193\n",
      "Num Topics = 9  has Coherence Value of 0.5089\n",
      "Num Topics = 10  has Coherence Value of 0.4826\n"
     ]
    }
   ],
   "source": [
    "# Print the coherence scores\n",
    "for m, cv in zip(x, coherence_values):\n",
    "    print(\"Num Topics =\", m, \" has Coherence Value of\", round(cv, 4))"
   ]
  },
  {
   "cell_type": "markdown",
   "metadata": {},
   "source": [
    "Viewing the topics and checking if they make sense helps to decide how many topics is the optimal value. I'll be intrepreting the 3 and 4th topic."
   ]
  },
  {
   "cell_type": "markdown",
   "metadata": {},
   "source": [
    "## Exporting the optimal model to pickle file"
   ]
  },
  {
   "cell_type": "code",
   "execution_count": 25,
   "metadata": {
    "ExecuteTime": {
     "end_time": "2021-01-26T00:19:28.967816Z",
     "start_time": "2021-01-26T00:19:28.952924Z"
    }
   },
   "outputs": [],
   "source": [
    "# Save to file in the current working directory\n",
    "# Exporting the optimal model\n",
    "\n",
    "pkl_filename = \"./models/nvidia_optimal_ldamallet_model.pkl\"\n",
    "out_file = open(pkl_filename, 'wb')\n",
    "pickle.dump(optimal_model, out_file)\n",
    "out_file.close()"
   ]
  },
  {
   "cell_type": "markdown",
   "metadata": {},
   "source": [
    "## Exporting the 2 topics trained model to pickle file"
   ]
  },
  {
   "cell_type": "code",
   "execution_count": 86,
   "metadata": {
    "ExecuteTime": {
     "end_time": "2021-01-26T05:37:23.734194Z",
     "start_time": "2021-01-26T05:37:23.723184Z"
    }
   },
   "outputs": [],
   "source": [
    "# Save to file in the current working directory\n",
    "# Exporting the optimal model\n",
    "\n",
    "pkl_filename = \"./models/nvidia_2_topics_ldamallet_model.pkl\"\n",
    "out_file = open(pkl_filename, 'wb')\n",
    "pickle.dump(model_values_df['model_list'][1], out_file)\n",
    "out_file.close()"
   ]
  },
  {
   "cell_type": "markdown",
   "metadata": {},
   "source": [
    "## Importing the optimal mallet model pickle file"
   ]
  },
  {
   "cell_type": "code",
   "execution_count": 27,
   "metadata": {
    "ExecuteTime": {
     "end_time": "2021-01-26T00:19:28.998879Z",
     "start_time": "2021-01-26T00:19:28.984525Z"
    }
   },
   "outputs": [],
   "source": [
    "# pkl_filename = \"./models/nvidia_optimal_ldamallet_model.pkl\"\n",
    "# infile = open(pkl_filename,'rb')\n",
    "# optimal_model = pickle.load(infile)\n",
    "# infile.close()"
   ]
  },
  {
   "cell_type": "code",
   "execution_count": 28,
   "metadata": {
    "ExecuteTime": {
     "end_time": "2021-01-26T00:19:29.014531Z",
     "start_time": "2021-01-26T00:19:28.999881Z"
    }
   },
   "outputs": [],
   "source": [
    "# optimal_model"
   ]
  },
  {
   "cell_type": "markdown",
   "metadata": {},
   "source": [
    "## Importing the 2 topics mallet model pickle file"
   ]
  },
  {
   "cell_type": "code",
   "execution_count": 89,
   "metadata": {
    "ExecuteTime": {
     "end_time": "2021-01-26T05:37:51.289989Z",
     "start_time": "2021-01-26T05:37:51.270964Z"
    }
   },
   "outputs": [],
   "source": [
    "pkl_filename = \"./models/nvidia_2_topics_ldamallet_model.pkl\"\n",
    "infile = open(pkl_filename,'rb')\n",
    "topic_2_ldamallet = pickle.load(infile)\n",
    "infile.close()"
   ]
  },
  {
   "cell_type": "code",
   "execution_count": 30,
   "metadata": {
    "ExecuteTime": {
     "end_time": "2021-01-26T00:19:29.046080Z",
     "start_time": "2021-01-26T00:19:29.030329Z"
    }
   },
   "outputs": [],
   "source": [
    "# topic_5_ldamallet "
   ]
  },
  {
   "cell_type": "markdown",
   "metadata": {},
   "source": [
    "## Displaying topics for the optimal model (3 topics)"
   ]
  },
  {
   "cell_type": "code",
   "execution_count": 85,
   "metadata": {
    "ExecuteTime": {
     "end_time": "2021-01-26T05:34:26.105816Z",
     "start_time": "2021-01-26T05:34:26.098801Z"
    },
    "scrolled": true
   },
   "outputs": [
    {
     "name": "stdout",
     "output_type": "stream",
     "text": [
      "[(0,\n",
      "  [('3080', 0.04898901098901099),\n",
      "   ('3090', 0.03637362637362637),\n",
      "   ('ti', 0.01876923076923077),\n",
      "   ('amd', 0.01567032967032967),\n",
      "   ('3070', 0.015274725274725275),\n",
      "   ('rtx', 0.014351648351648351),\n",
      "   ('2080', 0.012153846153846154),\n",
      "   ('upgrade', 0.011604395604395605),\n",
      "   ('2080ti', 0.01123076923076923),\n",
      "   ('wait', 0.01120879120879121)]),\n",
      " (1,\n",
      "  [('price', 0.026140252089920733),\n",
      "   ('card', 0.026096937670550525),\n",
      "   ('nvidia', 0.0249274483475549),\n",
      "   ('people', 0.02434270368605709),\n",
      "   ('time', 0.01890674405509594),\n",
      "   ('buy', 0.01728245332871313),\n",
      "   ('money', 0.009009399229003335),\n",
      "   ('series', 0.008814484341837398),\n",
      "   ('release', 0.008597912244986357),\n",
      "   ('day', 0.008013167583488544)]),\n",
      " (2,\n",
      "  [('game', 0.02716178979136596),\n",
      "   ('vram', 0.023662686436600622),\n",
      "   ('gpu', 0.014390062546472467),\n",
      "   ('4k', 0.01325285395617373),\n",
      "   ('year', 0.010737873419936142),\n",
      "   ('1440p', 0.010562918252197875),\n",
      "   ('gaming', 0.010453571272361458),\n",
      "   ('good', 0.01034422429252504),\n",
      "   ('high', 0.009053929930455321),\n",
      "   ('pc', 0.008201023487731269)])]\n"
     ]
    }
   ],
   "source": [
    "pprint(optimal_model.show_topics(formatted=False))"
   ]
  },
  {
   "cell_type": "markdown",
   "metadata": {},
   "source": [
    "## Interpreting the 3 topics \n",
    "\n",
    "Topic 0\n",
    "* Different models of GPU\n",
    "\n",
    "Topic 1\n",
    "* Price related during launch day\n",
    "\n",
    "Topic 2\n",
    "* Different resolutions: 1440p, 4K"
   ]
  },
  {
   "cell_type": "markdown",
   "metadata": {},
   "source": [
    "## Displaying 2 topics"
   ]
  },
  {
   "cell_type": "code",
   "execution_count": 90,
   "metadata": {
    "ExecuteTime": {
     "end_time": "2021-01-26T05:37:54.484915Z",
     "start_time": "2021-01-26T05:37:54.469902Z"
    },
    "scrolled": true
   },
   "outputs": [
    {
     "name": "stdout",
     "output_type": "stream",
     "text": [
      "[(0,\n",
      "  [('3080', 0.0321826135920648),\n",
      "   ('3090', 0.023895121352564934),\n",
      "   ('game', 0.017932169619266254),\n",
      "   ('vram', 0.015622067252855143),\n",
      "   ('ti', 0.012330171380719308),\n",
      "   ('gpu', 0.010843042982342154),\n",
      "   ('3070', 0.010034507154098265),\n",
      "   ('rtx', 0.00942810528291535),\n",
      "   ('4k', 0.008749512712782084),\n",
      "   ('2080', 0.007984291303908405)]),\n",
      " (1,\n",
      "  [('price', 0.017713790927369053),\n",
      "   ('card', 0.01768443916112652),\n",
      "   ('nvidia', 0.016891941472578113),\n",
      "   ('people', 0.016495692628303908),\n",
      "   ('time', 0.012812045964865936),\n",
      "   ('buy', 0.011711354730770925),\n",
      "   ('amd', 0.010463904665463245),\n",
      "   ('good', 0.009480620496338367),\n",
      "   ('wait', 0.009260482249519366),\n",
      "   ('money', 0.0062812779759022)])]\n"
     ]
    }
   ],
   "source": [
    "pprint(topic_2_ldamallet.show_topics(formatted=False))"
   ]
  },
  {
   "cell_type": "markdown",
   "metadata": {},
   "source": [
    "## Interpreting the 2 topics \n",
    "\n",
    "Topic 0\n",
    "* Different gpu models\n",
    "\n",
    "Topic 1\n",
    "* Stock availability"
   ]
  },
  {
   "cell_type": "markdown",
   "metadata": {},
   "source": [
    "As I find the 3 topics to be the most intrepretable as well as it's one of the highest coherence score among the other models, I'll be selecting to it to move forward with the project."
   ]
  },
  {
   "cell_type": "markdown",
   "metadata": {},
   "source": [
    "# Finding the dominant topic in each sentence"
   ]
  },
  {
   "cell_type": "markdown",
   "metadata": {},
   "source": [
    "I would like to investigate the dominant topics for the documents and see if it makes sense."
   ]
  },
  {
   "cell_type": "code",
   "execution_count": 94,
   "metadata": {
    "ExecuteTime": {
     "end_time": "2021-01-26T05:44:55.877159Z",
     "start_time": "2021-01-26T05:44:55.872155Z"
    }
   },
   "outputs": [],
   "source": [
    "def format_topics_sentences(ldamodel, corpus, texts):\n",
    "    # Init output\n",
    "    sent_topics_df = pd.DataFrame()\n",
    "\n",
    "    # Get main topic in each document\n",
    "    for _, row in enumerate(ldamodel[corpus]): # ldamodel[corpus] --> Provides a list of the probability values of which topic a document belongs to\n",
    "        row = sorted(row, key=lambda x: (x[1]), reverse=True) # Sorts the probabilities of a document is descending order\n",
    "        # Get the Dominant topic, Perc Contribution and Keywords for each document\n",
    "        for j, (topic_num, prop_topic) in enumerate(row):\n",
    "            if j == 0:  # => dominant topic (As it's sorted in descending order, the highest probability is the first topic which is index 0)\n",
    "                wp = ldamodel.show_topic(topic_num) # Obtain the dominant topic for the document\n",
    "                topic_keywords = \", \".join([word for word, prop in wp]) # Gets the topic keys words for the topic\n",
    "                sent_topics_df = sent_topics_df.append(pd.Series([int(topic_num), round(prop_topic,4), topic_keywords]), ignore_index=True)\n",
    "            else:\n",
    "                break\n",
    "    sent_topics_df.columns = ['Dominant_Topic', 'Perc_Contribution', 'Topic_Keywords']\n",
    "\n",
    "    # Add original text to the end of the output\n",
    "    contents = pd.Series(texts)\n",
    "    sent_topics_df = pd.concat([sent_topics_df, contents], axis=1)\n",
    "    return sent_topics_df"
   ]
  },
  {
   "cell_type": "markdown",
   "metadata": {},
   "source": [
    "Notes: The last model trained **must match** with the last optimal_file_doctopics text file. If not, there will be an error message."
   ]
  },
  {
   "cell_type": "code",
   "execution_count": 34,
   "metadata": {
    "ExecuteTime": {
     "end_time": "2021-01-26T00:19:29.108744Z",
     "start_time": "2021-01-26T00:19:29.092725Z"
    }
   },
   "outputs": [],
   "source": [
    "# Retrain the model if you've have not done so\n",
    "# optimal_num_topics = 6\n",
    "# optimal_model = LdaMallet(mallet_path, corpus=trigram_corpus, num_topics=optimal_num_topics, id2word=trigram_id2word,\n",
    "#                                                  prefix='optimal_', random_seed=42)"
   ]
  },
  {
   "cell_type": "code",
   "execution_count": 95,
   "metadata": {
    "ExecuteTime": {
     "end_time": "2021-01-26T05:45:21.761097Z",
     "start_time": "2021-01-26T05:45:00.189928Z"
    }
   },
   "outputs": [
    {
     "data": {
      "text/html": [
       "<div>\n",
       "<style scoped>\n",
       "    .dataframe tbody tr th:only-of-type {\n",
       "        vertical-align: middle;\n",
       "    }\n",
       "\n",
       "    .dataframe tbody tr th {\n",
       "        vertical-align: top;\n",
       "    }\n",
       "\n",
       "    .dataframe thead th {\n",
       "        text-align: right;\n",
       "    }\n",
       "</style>\n",
       "<table border=\"1\" class=\"dataframe\">\n",
       "  <thead>\n",
       "    <tr style=\"text-align: right;\">\n",
       "      <th></th>\n",
       "      <th>Document_No</th>\n",
       "      <th>Dominant_Topic</th>\n",
       "      <th>Topic_Perc_Contrib</th>\n",
       "      <th>Keywords</th>\n",
       "      <th>Document</th>\n",
       "    </tr>\n",
       "  </thead>\n",
       "  <tbody>\n",
       "    <tr>\n",
       "      <th>0</th>\n",
       "      <td>0</td>\n",
       "      <td>1.0</td>\n",
       "      <td>0.3827</td>\n",
       "      <td>price, card, nvidia, people, time, buy, money,...</td>\n",
       "      <td>[pre_order, time, releasing, 17th]</td>\n",
       "    </tr>\n",
       "    <tr>\n",
       "      <th>1</th>\n",
       "      <td>1</td>\n",
       "      <td>1.0</td>\n",
       "      <td>0.3642</td>\n",
       "      <td>price, card, nvidia, people, time, buy, money,...</td>\n",
       "      <td>[going, hard, grab, 3080, 17th]</td>\n",
       "    </tr>\n",
       "    <tr>\n",
       "      <th>2</th>\n",
       "      <td>2</td>\n",
       "      <td>1.0</td>\n",
       "      <td>0.4343</td>\n",
       "      <td>price, card, nvidia, people, time, buy, money,...</td>\n",
       "      <td>[uk, price, 3090, 1399, 3080, 649, 3070, 469, ...</td>\n",
       "    </tr>\n",
       "    <tr>\n",
       "      <th>3</th>\n",
       "      <td>3</td>\n",
       "      <td>0.0</td>\n",
       "      <td>0.3457</td>\n",
       "      <td>3080, 3090, ti, amd, 3070, rtx, 2080, upgrade,...</td>\n",
       "      <td>[talking, spatula, jensen, pot]</td>\n",
       "    </tr>\n",
       "    <tr>\n",
       "      <th>4</th>\n",
       "      <td>4</td>\n",
       "      <td>0.0</td>\n",
       "      <td>0.3395</td>\n",
       "      <td>3080, 3090, ti, amd, 3070, rtx, 2080, upgrade,...</td>\n",
       "      <td>[10k, core, completely, insane]</td>\n",
       "    </tr>\n",
       "    <tr>\n",
       "      <th>5</th>\n",
       "      <td>5</td>\n",
       "      <td>0.0</td>\n",
       "      <td>0.3512</td>\n",
       "      <td>3080, 3090, ti, amd, 3070, rtx, 2080, upgrade,...</td>\n",
       "      <td>[rip, 2080, ti, resale_value, x200b, cry]</td>\n",
       "    </tr>\n",
       "    <tr>\n",
       "      <th>6</th>\n",
       "      <td>6</td>\n",
       "      <td>0.0</td>\n",
       "      <td>0.4159</td>\n",
       "      <td>3080, 3090, ti, amd, 3070, rtx, 2080, upgrade,...</td>\n",
       "      <td>[shit, 3070, actually, better, value, people, ...</td>\n",
       "    </tr>\n",
       "    <tr>\n",
       "      <th>7</th>\n",
       "      <td>7</td>\n",
       "      <td>1.0</td>\n",
       "      <td>0.3568</td>\n",
       "      <td>price, card, nvidia, people, time, buy, money,...</td>\n",
       "      <td>[send, money]</td>\n",
       "    </tr>\n",
       "    <tr>\n",
       "      <th>8</th>\n",
       "      <td>8</td>\n",
       "      <td>0.0</td>\n",
       "      <td>0.4740</td>\n",
       "      <td>3080, 3090, ti, amd, 3070, rtx, 2080, upgrade,...</td>\n",
       "      <td>[question, nvidia, 3xxx, series, page, reporti...</td>\n",
       "    </tr>\n",
       "    <tr>\n",
       "      <th>9</th>\n",
       "      <td>9</td>\n",
       "      <td>0.0</td>\n",
       "      <td>0.3690</td>\n",
       "      <td>3080, 3090, ti, amd, 3070, rtx, 2080, upgrade,...</td>\n",
       "      <td>[3070, perform, better, 2080ti, price, holy, f...</td>\n",
       "    </tr>\n",
       "  </tbody>\n",
       "</table>\n",
       "</div>"
      ],
      "text/plain": [
       "   Document_No  Dominant_Topic  Topic_Perc_Contrib  \\\n",
       "0            0             1.0              0.3827   \n",
       "1            1             1.0              0.3642   \n",
       "2            2             1.0              0.4343   \n",
       "3            3             0.0              0.3457   \n",
       "4            4             0.0              0.3395   \n",
       "5            5             0.0              0.3512   \n",
       "6            6             0.0              0.4159   \n",
       "7            7             1.0              0.3568   \n",
       "8            8             0.0              0.4740   \n",
       "9            9             0.0              0.3690   \n",
       "\n",
       "                                            Keywords  \\\n",
       "0  price, card, nvidia, people, time, buy, money,...   \n",
       "1  price, card, nvidia, people, time, buy, money,...   \n",
       "2  price, card, nvidia, people, time, buy, money,...   \n",
       "3  3080, 3090, ti, amd, 3070, rtx, 2080, upgrade,...   \n",
       "4  3080, 3090, ti, amd, 3070, rtx, 2080, upgrade,...   \n",
       "5  3080, 3090, ti, amd, 3070, rtx, 2080, upgrade,...   \n",
       "6  3080, 3090, ti, amd, 3070, rtx, 2080, upgrade,...   \n",
       "7  price, card, nvidia, people, time, buy, money,...   \n",
       "8  3080, 3090, ti, amd, 3070, rtx, 2080, upgrade,...   \n",
       "9  3080, 3090, ti, amd, 3070, rtx, 2080, upgrade,...   \n",
       "\n",
       "                                            Document  \n",
       "0                 [pre_order, time, releasing, 17th]  \n",
       "1                    [going, hard, grab, 3080, 17th]  \n",
       "2  [uk, price, 3090, 1399, 3080, 649, 3070, 469, ...  \n",
       "3                    [talking, spatula, jensen, pot]  \n",
       "4                    [10k, core, completely, insane]  \n",
       "5          [rip, 2080, ti, resale_value, x200b, cry]  \n",
       "6  [shit, 3070, actually, better, value, people, ...  \n",
       "7                                      [send, money]  \n",
       "8  [question, nvidia, 3xxx, series, page, reporti...  \n",
       "9  [3070, perform, better, 2080ti, price, holy, f...  "
      ]
     },
     "execution_count": 95,
     "metadata": {},
     "output_type": "execute_result"
    }
   ],
   "source": [
    "df_topic_sents_keywords = format_topics_sentences(ldamodel=optimal_model, corpus=trigram_corpus, texts=data_trigrams)\n",
    "\n",
    "# Format\n",
    "df_dominant_topic = df_topic_sents_keywords.reset_index()\n",
    "df_dominant_topic.columns = ['Document_No', 'Dominant_Topic', 'Topic_Perc_Contrib', 'Keywords', 'Document']\n",
    "\n",
    "# Show\n",
    "df_dominant_topic.head(10)"
   ]
  },
  {
   "cell_type": "code",
   "execution_count": 124,
   "metadata": {
    "ExecuteTime": {
     "end_time": "2021-01-26T05:55:49.362540Z",
     "start_time": "2021-01-26T05:55:49.341521Z"
    }
   },
   "outputs": [],
   "source": [
    "# Sort the dataframe in ascending order by the topic percentage contribution\n",
    "df_dominant_topic_sorted = df_dominant_topic.sort_values('Topic_Perc_Contrib', ascending=False)\n",
    "idx = np.random.randint(df_dominant_topic_sorted.shape[0])\n",
    "# idx = 250\n",
    "document = df_dominant_topic_sorted[['Document']].iloc[idx].values\n",
    "dominant_topic = df_dominant_topic_sorted[['Dominant_Topic']].iloc[idx].values\n",
    "dominant_keywords = df_dominant_topic_sorted[['Keywords']].iloc[idx].values"
   ]
  },
  {
   "cell_type": "code",
   "execution_count": 125,
   "metadata": {
    "ExecuteTime": {
     "end_time": "2021-01-26T05:55:49.730897Z",
     "start_time": "2021-01-26T05:55:49.715883Z"
    }
   },
   "outputs": [
    {
     "name": "stdout",
     "output_type": "stream",
     "text": [
      "Dominant keywords: ['game, vram, gpu, 4k, year, 1440p, gaming, good, high, pc'] \n",
      "\n",
      "Document:[list(['ah', 'realize', 'purpose', 'pc', 'play', 'game', 'absolutely', 'want', 'game', 'dirt', 'cheap', 'console', 'look', 'sony', 'microsoft', 'get', 'discount', 'mass', 'order', 'hardware', 'loss', 'ps5', 'xbox', 'sale', 'going', 'build', 'equivalent', 'pc', 'price', 'thinking', 'nvidia', 'amd', 'hell', 'lower', 'price', 'pipedream', 'economically', 'possible'])]\n"
     ]
    }
   ],
   "source": [
    "print(f'Dominant keywords: {dominant_keywords} \\n\\nDocument:{document}')"
   ]
  },
  {
   "cell_type": "markdown",
   "metadata": {},
   "source": []
  },
  {
   "cell_type": "markdown",
   "metadata": {},
   "source": [
    "# Find the most representative document for each topic"
   ]
  },
  {
   "cell_type": "code",
   "execution_count": 103,
   "metadata": {
    "ExecuteTime": {
     "end_time": "2021-01-26T05:51:52.566625Z",
     "start_time": "2021-01-26T05:51:52.550610Z"
    }
   },
   "outputs": [
    {
     "data": {
      "text/html": [
       "<div>\n",
       "<style scoped>\n",
       "    .dataframe tbody tr th:only-of-type {\n",
       "        vertical-align: middle;\n",
       "    }\n",
       "\n",
       "    .dataframe tbody tr th {\n",
       "        vertical-align: top;\n",
       "    }\n",
       "\n",
       "    .dataframe thead th {\n",
       "        text-align: right;\n",
       "    }\n",
       "</style>\n",
       "<table border=\"1\" class=\"dataframe\">\n",
       "  <thead>\n",
       "    <tr style=\"text-align: right;\">\n",
       "      <th></th>\n",
       "      <th>Topic_Num</th>\n",
       "      <th>Topic_Perc_Contrib</th>\n",
       "      <th>Keywords</th>\n",
       "      <th>Representative Text</th>\n",
       "    </tr>\n",
       "  </thead>\n",
       "  <tbody>\n",
       "    <tr>\n",
       "      <th>0</th>\n",
       "      <td>0.0</td>\n",
       "      <td>0.6234</td>\n",
       "      <td>3080, 3090, ti, amd, 3070, rtx, 2080, upgrade,...</td>\n",
       "      <td>[3090, simply, titan, titan, driver, basically...</td>\n",
       "    </tr>\n",
       "    <tr>\n",
       "      <th>1</th>\n",
       "      <td>1.0</td>\n",
       "      <td>0.7326</td>\n",
       "      <td>price, card, nvidia, people, time, buy, money,...</td>\n",
       "      <td>[edit, opinion, x200b, know, teaser_rate, car,...</td>\n",
       "    </tr>\n",
       "    <tr>\n",
       "      <th>2</th>\n",
       "      <td>2.0</td>\n",
       "      <td>0.6444</td>\n",
       "      <td>game, vram, gpu, 4k, year, 1440p, gaming, good...</td>\n",
       "      <td>[plenty, depends, singeplayer, multiplayer, ba...</td>\n",
       "    </tr>\n",
       "  </tbody>\n",
       "</table>\n",
       "</div>"
      ],
      "text/plain": [
       "   Topic_Num  Topic_Perc_Contrib  \\\n",
       "0        0.0              0.6234   \n",
       "1        1.0              0.7326   \n",
       "2        2.0              0.6444   \n",
       "\n",
       "                                            Keywords  \\\n",
       "0  3080, 3090, ti, amd, 3070, rtx, 2080, upgrade,...   \n",
       "1  price, card, nvidia, people, time, buy, money,...   \n",
       "2  game, vram, gpu, 4k, year, 1440p, gaming, good...   \n",
       "\n",
       "                                 Representative Text  \n",
       "0  [3090, simply, titan, titan, driver, basically...  \n",
       "1  [edit, opinion, x200b, know, teaser_rate, car,...  \n",
       "2  [plenty, depends, singeplayer, multiplayer, ba...  "
      ]
     },
     "execution_count": 103,
     "metadata": {},
     "output_type": "execute_result"
    }
   ],
   "source": [
    "sent_topics_sorteddf_mallet = pd.DataFrame()\n",
    "sent_topics_outdf_grpd = df_topic_sents_keywords.groupby('Dominant_Topic')\n",
    "\n",
    "for i, grp in sent_topics_outdf_grpd:\n",
    "    sent_topics_sorteddf_mallet = pd.concat([sent_topics_sorteddf_mallet, \n",
    "                                             grp.sort_values(['Perc_Contribution'], ascending=False).head(1)], \n",
    "                                            axis=0)\n",
    "\n",
    "# Reset Index    \n",
    "sent_topics_sorteddf_mallet.reset_index(drop=True, inplace=True)\n",
    "\n",
    "# Format the columns\n",
    "sent_topics_sorteddf_mallet.columns = ['Topic_Num', \"Topic_Perc_Contrib\", \"Keywords\", \"Representative Text\"]\n",
    "\n",
    "# Show\n",
    "sent_topics_sorteddf_mallet.head(10)"
   ]
  },
  {
   "cell_type": "markdown",
   "metadata": {},
   "source": [
    "## Most representative document for Topic 0"
   ]
  },
  {
   "cell_type": "code",
   "execution_count": 104,
   "metadata": {
    "ExecuteTime": {
     "end_time": "2021-01-26T05:52:04.035273Z",
     "start_time": "2021-01-26T05:52:04.023262Z"
    }
   },
   "outputs": [],
   "source": [
    "# Create a helper function to display the most representative documents for a topic\n",
    "def display_representative_document(topic_n, df):\n",
    "    dominant_keywords = df['Keywords'].loc[topic_n]\n",
    "    document_topic = \" \".join(df['Representative Text'].loc[topic_n])\n",
    "    \n",
    "    print(f'*******Topic {topic_n}********\\n\\nDominant keywords: {dominant_keywords} \\n\\nDocument:{document_topic}')"
   ]
  },
  {
   "cell_type": "code",
   "execution_count": 105,
   "metadata": {
    "ExecuteTime": {
     "end_time": "2021-01-26T05:52:04.418015Z",
     "start_time": "2021-01-26T05:52:04.403757Z"
    }
   },
   "outputs": [
    {
     "name": "stdout",
     "output_type": "stream",
     "text": [
      "*******Topic 0********\n",
      "\n",
      "Dominant keywords: 3080, 3090, ti, amd, 3070, rtx, 2080, upgrade, 2080ti, wait \n",
      "\n",
      "Document:3090 simply titan titan driver basically titan mind 2080 ti increase vram 1080 ti previous gen doubled respectively x70 class 8gb 1070 previously doubling gen prior 28gb 570 2gb 670 2gb 770 680 rebrand 4gb 970 8gb 1070 staying 8gb similarly x80 class doubled gen staying 8gb 1080 2080 receiving minor capacity upgrade 10gb 3080 supposed believe 10gb 3080 upgrade path 11gb 2080 ti compute 3090 titan driver actual titan\n"
     ]
    }
   ],
   "source": [
    "display_representative_document(0, sent_topics_sorteddf_mallet)"
   ]
  },
  {
   "cell_type": "markdown",
   "metadata": {},
   "source": [
    "The document talks about the price and performance of AMD's 6800xt and 6900xt which fits the topic of the `price` and `performance` of the card."
   ]
  },
  {
   "cell_type": "markdown",
   "metadata": {},
   "source": [
    "## Most representative document for Topic 1"
   ]
  },
  {
   "cell_type": "code",
   "execution_count": 106,
   "metadata": {
    "ExecuteTime": {
     "end_time": "2021-01-26T05:52:07.470633Z",
     "start_time": "2021-01-26T05:52:07.460615Z"
    }
   },
   "outputs": [
    {
     "name": "stdout",
     "output_type": "stream",
     "text": [
      "*******Topic 1********\n",
      "\n",
      "Dominant keywords: price, card, nvidia, people, time, buy, money, series, release, day \n",
      "\n",
      "Document:edit opinion x200b know teaser_rate car advertised insanely price dealership told sold cost little 699 3080 teaser_rate nvidia hyped insanely hint 3080 wanted insanely cheap price announced wanted problem nvidia stock 3080 place retailer stock place know run merchandise tracking system retailer nvidia hype knowing stock satisfy basic demand release day come nvidia counted bot ebay taking 3080 actually available blame bot nvidia overselling hype delivering card bot responsible retailer nvidia hype train knew sufficient stock satisfy basic demand retailer scam seriously believe retailer know stock send 14 99 deliver moon someday guarantee 1000 year offer valid entire universe send money backlash swift betting nvidia shat pant reading forum pissed consumer oh look pre_order delivery october november soon december year nvidia placate consumer come hey worse ussr ordered car year advance x200b nvidia destroyed marketing plan generate hype oh look mystery nda nvidia release video showing massive improvement sort falling card 2x limited release teaser_rate form bait switch car dealer time noted work lucky generate hype hear 10 people friend mention 10 people 10 people know person word mouth advertising lucky managed teaser_rate expire true price dollar higher especially nvidia tax 3rd_party manufacturer nvidia blame rising price demand created initially teaser_rate restricted supply lucky spreading word mass 3080 x200b nvidia f ck bot check ebay card sold public actually ended planned hype marketing machine bolstered lucky consumer spreading gospel seemingly army nvidia nvidia bragging demand price rise realistic level coming month bot destroyed yes bot evil nvidia forced pre_order delivered oct nov soon december probably year maybe nvidia actually pay lot money jump head manufacturing line pissed lot people nvidia know placate consumer x200b marketer heavily psychology 1920 far longer alive honed art 100 year passed knowledge method work new method today merely time tested true method rebranded buy thing know consumer button one push madison avenue screw count bot nvidia count exposed bot bot owner ebay market massive miscalculation nvidia given incident economy people desperate money way 3080 opportunity scammer target bot nvidia retailer caught pant pulled bot scammer nvidia payed played crumb wait awhile crumb fork cash pre pay pre_order october 31st coming soon sale number ceo board member upper management need bonus rich investor want dividend new normal good luck lucky managed card fantastic\n"
     ]
    }
   ],
   "source": [
    "display_representative_document(1, sent_topics_sorteddf_mallet)"
   ]
  },
  {
   "cell_type": "markdown",
   "metadata": {
    "ExecuteTime": {
     "end_time": "2021-01-24T01:39:13.797937Z",
     "start_time": "2021-01-24T01:39:13.790930Z"
    }
   },
   "source": [
    "The document does not make sense as it's talking about HTML syntaxes which the model poorly interpreted."
   ]
  },
  {
   "cell_type": "markdown",
   "metadata": {},
   "source": [
    "## Most representative document for Topic 2"
   ]
  },
  {
   "cell_type": "code",
   "execution_count": 107,
   "metadata": {
    "ExecuteTime": {
     "end_time": "2021-01-26T05:52:11.118474Z",
     "start_time": "2021-01-26T05:52:11.110467Z"
    }
   },
   "outputs": [
    {
     "name": "stdout",
     "output_type": "stream",
     "text": [
      "*******Topic 2********\n",
      "\n",
      "Dominant keywords: game, vram, gpu, 4k, year, 1440p, gaming, good, high, pc \n",
      "\n",
      "Document:plenty depends singeplayer multiplayer battle royale dog obviously apex legend br duty sp mp br battlefield sp mp br counterstrike mp pubg br doom sp mp rainbow 6 siege mp wolfenstein sp mp fortnite br outlier borderland looter shooter warframe space ninja looter shooter ton grind left dead want shoot zombie deep rock galactic coop experience hardcore simulation shooter arma squad insurgency\n"
     ]
    }
   ],
   "source": [
    "display_representative_document(2, sent_topics_sorteddf_mallet)"
   ]
  },
  {
   "cell_type": "markdown",
   "metadata": {},
   "source": [
    "The document discusses about [ray tracing](https://www.techradar.com/news/ray-tracing) which gives more lifelike shadows and reflections, along with much-improved translucence and scattering in games. This fits the topic in which it has the keyword `ray_tracing`, `performance`."
   ]
  },
  {
   "cell_type": "markdown",
   "metadata": {},
   "source": [
    "# Topic distribution across documents"
   ]
  },
  {
   "cell_type": "code",
   "execution_count": 109,
   "metadata": {
    "ExecuteTime": {
     "end_time": "2021-01-26T05:52:21.600271Z",
     "start_time": "2021-01-26T05:52:21.582256Z"
    }
   },
   "outputs": [
    {
     "data": {
      "text/html": [
       "<div>\n",
       "<style scoped>\n",
       "    .dataframe tbody tr th:only-of-type {\n",
       "        vertical-align: middle;\n",
       "    }\n",
       "\n",
       "    .dataframe tbody tr th {\n",
       "        vertical-align: top;\n",
       "    }\n",
       "\n",
       "    .dataframe thead th {\n",
       "        text-align: right;\n",
       "    }\n",
       "</style>\n",
       "<table border=\"1\" class=\"dataframe\">\n",
       "  <thead>\n",
       "    <tr style=\"text-align: right;\">\n",
       "      <th></th>\n",
       "      <th>Dominant_Topic</th>\n",
       "      <th>Topic_Keywords</th>\n",
       "      <th>Num_Documents</th>\n",
       "      <th>Perc_Documents</th>\n",
       "    </tr>\n",
       "  </thead>\n",
       "  <tbody>\n",
       "    <tr>\n",
       "      <th>0.0</th>\n",
       "      <td>0.0</td>\n",
       "      <td>3080, 3090, ti, amd, 3070, rtx, 2080, upgrade,...</td>\n",
       "      <td>4182</td>\n",
       "      <td>0.3805</td>\n",
       "    </tr>\n",
       "    <tr>\n",
       "      <th>1.0</th>\n",
       "      <td>1.0</td>\n",
       "      <td>price, card, nvidia, people, time, buy, money,...</td>\n",
       "      <td>3804</td>\n",
       "      <td>0.3461</td>\n",
       "    </tr>\n",
       "    <tr>\n",
       "      <th>2.0</th>\n",
       "      <td>2.0</td>\n",
       "      <td>game, vram, gpu, 4k, year, 1440p, gaming, good...</td>\n",
       "      <td>3004</td>\n",
       "      <td>0.2733</td>\n",
       "    </tr>\n",
       "  </tbody>\n",
       "</table>\n",
       "</div>"
      ],
      "text/plain": [
       "     Dominant_Topic                                     Topic_Keywords  \\\n",
       "0.0             0.0  3080, 3090, ti, amd, 3070, rtx, 2080, upgrade,...   \n",
       "1.0             1.0  price, card, nvidia, people, time, buy, money,...   \n",
       "2.0             2.0  game, vram, gpu, 4k, year, 1440p, gaming, good...   \n",
       "\n",
       "     Num_Documents  Perc_Documents  \n",
       "0.0           4182          0.3805  \n",
       "1.0           3804          0.3461  \n",
       "2.0           3004          0.2733  "
      ]
     },
     "execution_count": 109,
     "metadata": {},
     "output_type": "execute_result"
    }
   ],
   "source": [
    "# Number of Documents for Each Topic\n",
    "topic_counts = df_topic_sents_keywords['Dominant_Topic'].value_counts().sort_index()\n",
    "\n",
    "# Percentage of Documents for Each Topic\n",
    "topic_contribution = round(topic_counts/topic_counts.sum(), 4)\n",
    "\n",
    "# Topic Number and Keywords\n",
    "topic_num = pd.Series(sorted(df_topic_sents_keywords['Dominant_Topic'].unique()))\n",
    "topic_keywords = sent_topics_sorteddf_mallet['Keywords']\n",
    "\n",
    "# Concatenate Column wise\n",
    "df_dominant_topics = pd.concat([topic_num, topic_keywords, topic_counts, topic_contribution], axis=1)\n",
    "\n",
    "# Change Column names\n",
    "df_dominant_topics.columns = ['Dominant_Topic', 'Topic_Keywords', 'Num_Documents', 'Perc_Documents']\n",
    "\n",
    "# Show\n",
    "df_dominant_topics.head(6)"
   ]
  },
  {
   "cell_type": "code",
   "execution_count": 110,
   "metadata": {
    "ExecuteTime": {
     "end_time": "2021-01-26T05:52:25.794017Z",
     "start_time": "2021-01-26T05:52:25.782016Z"
    }
   },
   "outputs": [
    {
     "data": {
      "text/html": [
       "<div>\n",
       "<style scoped>\n",
       "    .dataframe tbody tr th:only-of-type {\n",
       "        vertical-align: middle;\n",
       "    }\n",
       "\n",
       "    .dataframe tbody tr th {\n",
       "        vertical-align: top;\n",
       "    }\n",
       "\n",
       "    .dataframe thead th {\n",
       "        text-align: right;\n",
       "    }\n",
       "</style>\n",
       "<table border=\"1\" class=\"dataframe\">\n",
       "  <thead>\n",
       "    <tr style=\"text-align: right;\">\n",
       "      <th></th>\n",
       "      <th>Dominant_Topic</th>\n",
       "      <th>Topic_Keywords</th>\n",
       "      <th>Num_Documents</th>\n",
       "      <th>Perc_Documents</th>\n",
       "    </tr>\n",
       "  </thead>\n",
       "  <tbody>\n",
       "    <tr>\n",
       "      <th>0.0</th>\n",
       "      <td>0.0</td>\n",
       "      <td>3080, 3090, ti, amd, 3070, rtx, 2080, upgrade,...</td>\n",
       "      <td>4182</td>\n",
       "      <td>0.3805</td>\n",
       "    </tr>\n",
       "    <tr>\n",
       "      <th>1.0</th>\n",
       "      <td>1.0</td>\n",
       "      <td>price, card, nvidia, people, time, buy, money,...</td>\n",
       "      <td>3804</td>\n",
       "      <td>0.3461</td>\n",
       "    </tr>\n",
       "    <tr>\n",
       "      <th>2.0</th>\n",
       "      <td>2.0</td>\n",
       "      <td>game, vram, gpu, 4k, year, 1440p, gaming, good...</td>\n",
       "      <td>3004</td>\n",
       "      <td>0.2733</td>\n",
       "    </tr>\n",
       "  </tbody>\n",
       "</table>\n",
       "</div>"
      ],
      "text/plain": [
       "     Dominant_Topic                                     Topic_Keywords  \\\n",
       "0.0             0.0  3080, 3090, ti, amd, 3070, rtx, 2080, upgrade,...   \n",
       "1.0             1.0  price, card, nvidia, people, time, buy, money,...   \n",
       "2.0             2.0  game, vram, gpu, 4k, year, 1440p, gaming, good...   \n",
       "\n",
       "     Num_Documents  Perc_Documents  \n",
       "0.0           4182          0.3805  \n",
       "1.0           3804          0.3461  \n",
       "2.0           3004          0.2733  "
      ]
     },
     "execution_count": 110,
     "metadata": {},
     "output_type": "execute_result"
    }
   ],
   "source": [
    "# Sort the Percentage of documents in descending order\n",
    "df_dominant_topics.sort_values(by='Perc_Documents', ascending=False)"
   ]
  },
  {
   "cell_type": "code",
   "execution_count": 115,
   "metadata": {
    "ExecuteTime": {
     "end_time": "2021-01-26T05:53:28.115677Z",
     "start_time": "2021-01-26T05:53:28.013584Z"
    }
   },
   "outputs": [
    {
     "data": {
      "image/png": "[encoded data removed]",
      "text/plain": [
       "<Figure size 792x504 with 1 Axes>"
      ]
     },
     "metadata": {},
     "output_type": "display_data"
    }
   ],
   "source": [
    "cols = [color for name, color in mcolors.TABLEAU_COLORS.items()]\n",
    "\n",
    "plt.figure(figsize=(11,7))\n",
    "sns.barplot(x='Dominant_Topic', y='Num_Documents',data=df_dominant_topics, palette=cols)\n",
    "\n",
    "plt.title('Distribution of documents by their topics')\n",
    "plt.xticks(np.arange(3),[x for x in range(3)])\n",
    "plt.xlabel('Dominant Topics')\n",
    "plt.ylabel('Number of documents');"
   ]
  },
  {
   "cell_type": "markdown",
   "metadata": {},
   "source": [
    "Topic 3 has the been assigned the most often to the documents with close to 3000 documents being assigned while making up 20% of the topics assigned.\n",
    "Stock availability during the launch of the GPUs is the most discussed for the AMD's subreddit with Topic 4 coming in second, which goes into comparing the price and performance of the AMD and Nvidia's GPUs. \n",
    "\n",
    "The least discussed is Topic 5 which discusses about the [RDNA 2 GPUs](https://www.pcworld.com/article/3528861/what-the-new-xbox-series-x-specs-tell-us-about-nvidias-next-gen-radeon-graphics-cards.html) powering the new gaming consoles, Xbox X series and the PS5. It seems that most of the subreddit users are PC gamers given the least number of Topic 5 documents."
   ]
  },
  {
   "cell_type": "markdown",
   "metadata": {},
   "source": [
    "# Frequency Distribution of Word Counts in Documents by dominant topic"
   ]
  },
  {
   "cell_type": "code",
   "execution_count": 133,
   "metadata": {
    "ExecuteTime": {
     "end_time": "2021-01-26T05:57:30.333887Z",
     "start_time": "2021-01-26T05:57:29.621240Z"
    }
   },
   "outputs": [
    {
     "data": {
      "image/png": "[encoded data removed]",
      "text/plain": [
       "<Figure size 1224x576 with 3 Axes>"
      ]
     },
     "metadata": {},
     "output_type": "display_data"
    }
   ],
   "source": [
    "cols = [color for name, color in mcolors.TABLEAU_COLORS.items()]\n",
    "\n",
    "fig, axes = plt.subplots(1,3, figsize=(17,8), sharex=True, sharey=True)\n",
    "\n",
    "for i, ax in enumerate(axes.flatten()):    \n",
    "    df_dominant_topic_sub = df_dominant_topic.loc[df_dominant_topic.Dominant_Topic == i]\n",
    "    doc_lens = df_dominant_topic_sub.Document.map(lambda token: len(token)).tolist()\n",
    "    #ax.hist(doc_lens, bins = 100, color=cols[i])\n",
    "    ax.tick_params(axis='y', labelcolor=cols[i], color=cols[i])\n",
    "    sns.histplot(doc_lens, bins=50, color=cols[i], kde=True, ax=ax) # ax.twinx()\n",
    "    # Mean\n",
    "    ax.axvline(np.mean(doc_lens), color='red', label='mean')\n",
    "    # Median\n",
    "    ax.axvline(np.median(doc_lens), color='yellow', label='median')\n",
    "    ax.legend()\n",
    "    ax.set(xlim=(0, 1000), xlabel='Document Word Count')\n",
    "    ax.set_ylabel('Number of Documents', color=cols[i])\n",
    "    ax.set_title('Topic: '+str(i), fontdict=dict(size=16, color=cols[i]))\n",
    "\n",
    "# fig.tight_layout()\n",
    "fig.subplots_adjust(top=0.90)\n",
    "# plt.xticks(np.linspace(0,375,9))\n",
    "plt.xlim(0,100)\n",
    "fig.suptitle('Distribution of Document Word Counts by Dominant Topic', fontsize=16)\n",
    "plt.tight_layout()\n",
    "plt.show()"
   ]
  },
  {
   "cell_type": "markdown",
   "metadata": {},
   "source": [
    "All of the distributions shows a right tailed skewed graph in which the mean and median are quite close."
   ]
  },
  {
   "cell_type": "markdown",
   "metadata": {},
   "source": [
    "# Word Clouds of Top N Keywords in Each Topic"
   ]
  },
  {
   "cell_type": "code",
   "execution_count": 134,
   "metadata": {
    "ExecuteTime": {
     "end_time": "2021-01-26T05:57:41.073509Z",
     "start_time": "2021-01-26T05:57:41.070508Z"
    }
   },
   "outputs": [],
   "source": [
    "stop_words = set(STOPWORDS).union(stopwords.words(\"english\")) # Combines gensim stopwords and nltk's stopwords\n",
    "stop_words = stop_words.union(['http', 'www', 'youtube' 'get', 'like', '1', '2', '3', '5', 'got'])"
   ]
  },
  {
   "cell_type": "code",
   "execution_count": 136,
   "metadata": {
    "ExecuteTime": {
     "end_time": "2021-01-26T05:57:56.215632Z",
     "start_time": "2021-01-26T05:57:54.246490Z"
    }
   },
   "outputs": [
    {
     "data": {
      "image/png": "[encoded data removed]",
      "text/plain": [
       "<Figure size 1080x1080 with 3 Axes>"
      ]
     },
     "metadata": {},
     "output_type": "display_data"
    }
   ],
   "source": [
    "cloud = WordCloud(stopwords=stop_words,\n",
    "                  background_color='white',\n",
    "                  width=2500,\n",
    "                  height=1800,\n",
    "                  max_words=10,\n",
    "                  colormap='tab10',\n",
    "                  color_func=lambda *args, **kwargs: cols[i],\n",
    "                  prefer_horizontal=1.0)\n",
    "\n",
    "topics = optimal_model.show_topics(formatted=False)\n",
    "\n",
    "fig, axes = plt.subplots(1, 3, figsize=(15,15), sharex=True, sharey=True)\n",
    "\n",
    "for i, ax in enumerate(axes.flatten()):\n",
    "    fig.add_subplot(ax)\n",
    "    topic_words = dict(topics[i][1])\n",
    "    cloud.generate_from_frequencies(topic_words, max_font_size=300)\n",
    "    plt.gca().imshow(cloud)\n",
    "    plt.gca().set_title('Topic ' + str(i), fontdict=dict(size=16))\n",
    "    plt.gca().axis('off')\n",
    "\n",
    "\n",
    "plt.subplots_adjust(wspace=0, hspace=0)\n",
    "plt.axis('off')\n",
    "plt.margins(x=0, y=0)\n",
    "plt.tight_layout()\n",
    "plt.show()"
   ]
  },
  {
   "cell_type": "markdown",
   "metadata": {},
   "source": [
    "# Word Counts of Topic Keywords"
   ]
  },
  {
   "cell_type": "code",
   "execution_count": 137,
   "metadata": {
    "ExecuteTime": {
     "end_time": "2021-01-26T05:58:03.958596Z",
     "start_time": "2021-01-26T05:58:03.909552Z"
    }
   },
   "outputs": [
    {
     "data": {
      "text/plain": [
       "Counter({'pre_order': 58,\n",
       "         'time': 873,\n",
       "         'releasing': 48,\n",
       "         '17th': 61,\n",
       "         'going': 879,\n",
       "         'hard': 167,\n",
       "         'grab': 36,\n",
       "         '3080': 2229,\n",
       "         'uk': 63,\n",
       "         'price': 1208,\n",
       "         '3090': 1655,\n",
       "         '1399': 11,\n",
       "         '649': 12,\n",
       "         '3070': 695,\n",
       "         '469': 3,\n",
       "         'scan': 24,\n",
       "         'aib': 195,\n",
       "         'card': 1205,\n",
       "         'thanks': 184,\n",
       "         'u': 53,\n",
       "         'benzyl': 1,\n",
       "         'chloride': 1,\n",
       "         'overclockers': 16,\n",
       "         'talking': 134,\n",
       "         'spatula': 3,\n",
       "         'jensen': 32,\n",
       "         'pot': 1,\n",
       "         '10k': 18,\n",
       "         'core': 165,\n",
       "         'completely': 63,\n",
       "         'insane': 80,\n",
       "         'rip': 27,\n",
       "         '2080': 553,\n",
       "         'ti': 854,\n",
       "         'resale_value': 8,\n",
       "         'x200b': 91,\n",
       "         'cry': 24,\n",
       "         'shit': 190,\n",
       "         'actually': 427,\n",
       "         'better': 633,\n",
       "         'value': 158,\n",
       "         'people': 1124,\n",
       "         'expected': 47,\n",
       "         'expensive': 144,\n",
       "         'shader': 17,\n",
       "         'tflop': 4,\n",
       "         'number': 181,\n",
       "         'real': 153,\n",
       "         'world': 95,\n",
       "         'fp': 6,\n",
       "         'holy': 21,\n",
       "         'fucking': 111,\n",
       "         'christ': 5,\n",
       "         'massive': 95,\n",
       "         'upgrade': 528,\n",
       "         'beating': 15,\n",
       "         'pascal': 57,\n",
       "         'send': 25,\n",
       "         'money': 428,\n",
       "         'question': 133,\n",
       "         'nvidia': 1151,\n",
       "         '3xxx': 6,\n",
       "         'series': 407,\n",
       "         'page': 59,\n",
       "         'reporting': 6,\n",
       "         'exactly': 115,\n",
       "         'double': 101,\n",
       "         'cuda_core': 113,\n",
       "         'leak': 82,\n",
       "         'rtx': 653,\n",
       "         '10496': 8,\n",
       "         '5248': 4,\n",
       "         '8704': 10,\n",
       "         '4352': 7,\n",
       "         'artificially': 4,\n",
       "         'inflating': 4,\n",
       "         'new': 835,\n",
       "         'metric': 7,\n",
       "         'count': 32,\n",
       "         'cuda': 20,\n",
       "         'way': 485,\n",
       "         'perform': 52,\n",
       "         '2080ti': 511,\n",
       "         'fuck': 117,\n",
       "         'slowly': 9,\n",
       "         'winning': 7,\n",
       "         'pricing': 110,\n",
       "         'redemption': 1,\n",
       "         '20gb': 197,\n",
       "         'version': 159,\n",
       "         'review': 228,\n",
       "         'coming': 175,\n",
       "         'pcie4': 17,\n",
       "         '0': 175,\n",
       "         'pcie3': 17,\n",
       "         'slot': 111,\n",
       "         'backwards': 10,\n",
       "         'compatible': 27,\n",
       "         'taking': 51,\n",
       "         'significant': 37,\n",
       "         'loss': 39,\n",
       "         'lga': 4,\n",
       "         '1151': 2,\n",
       "         'socket': 10,\n",
       "         'mobos': 5,\n",
       "         'xd': 15,\n",
       "         'suppose': 19,\n",
       "         'cudas': 1,\n",
       "         'edit': 88,\n",
       "         'jesus_christ': 8,\n",
       "         'fit': 152,\n",
       "         '9000': 2,\n",
       "         'editx2': 1,\n",
       "         'darn': 1,\n",
       "         'moon': 7,\n",
       "         'comment': 114,\n",
       "         'editx3': 1,\n",
       "         'bit': 249,\n",
       "         'confused': 23,\n",
       "         '5k': 18,\n",
       "         'gigabyte': 42,\n",
       "         'aorus': 15,\n",
       "         'asus': 82,\n",
       "         'evga': 180,\n",
       "         'msi': 72,\n",
       "         'zotac': 24,\n",
       "         'tweet': 5,\n",
       "         'official': 28,\n",
       "         'landing': 6,\n",
       "         'looking_forward': 18,\n",
       "         'fe': 368,\n",
       "         'wait': 631,\n",
       "         'currently': 126,\n",
       "         '1070': 141,\n",
       "         'bought': 196,\n",
       "         'believe': 106,\n",
       "         'reasonably_priced': 12,\n",
       "         'considerably': 5,\n",
       "         'expectation': 27,\n",
       "         'australian': 9,\n",
       "         '2429': 1,\n",
       "         'aud': 11,\n",
       "         '1139': 1,\n",
       "         '809': 2,\n",
       "         'geforce': 75,\n",
       "         'founder_edition': 76,\n",
       "         '650w': 45,\n",
       "         'required': 25,\n",
       "         'say': 59,\n",
       "         'recomended': 1,\n",
       "         'paired': 12,\n",
       "         'i9_10900k': 10,\n",
       "         'site': 90,\n",
       "         'glad': 43,\n",
       "         '600w': 9,\n",
       "         'run': 319,\n",
       "         'i7_8700k': 8,\n",
       "         'worried': 49,\n",
       "         'introducing': 4,\n",
       "         'io': 50,\n",
       "         'strix': 58,\n",
       "         '3900x': 15,\n",
       "         'waiting': 234,\n",
       "         'kopie7kimi': 1,\n",
       "         'calm': 6,\n",
       "         'focus': 18,\n",
       "         'traditional': 12,\n",
       "         'rasterization': 24,\n",
       "         'equal': 31,\n",
       "         'faster': 264,\n",
       "         'refer': 1,\n",
       "         'dl': 216,\n",
       "         'workload': 27,\n",
       "         'make': 134,\n",
       "         'lot': 357,\n",
       "         'interesting': 59,\n",
       "         'funny': 32,\n",
       "         'scott': 1,\n",
       "         'herkleman': 1,\n",
       "         'cvp': 1,\n",
       "         'gm': 1,\n",
       "         'amd': 713,\n",
       "         'radeon': 17,\n",
       "         'relation': 3,\n",
       "         'wondering': 53,\n",
       "         'rdna2': 37,\n",
       "         'v': 197,\n",
       "         'ampere': 83,\n",
       "         'boy': 36,\n",
       "         'feel': 238,\n",
       "         'dumb': 31,\n",
       "         'idiot': 33,\n",
       "         '2070_super': 103,\n",
       "         'sigh': 8,\n",
       "         '1080ti': 350,\n",
       "         'brother': 12,\n",
       "         'planning': 67,\n",
       "         'hold': 120,\n",
       "         '3080ti': 268,\n",
       "         'super': 386,\n",
       "         'personally': 61,\n",
       "         'compelling': 9,\n",
       "         'merit': 1,\n",
       "         'upgrading': 133,\n",
       "         'particularly': 11,\n",
       "         '10': 353,\n",
       "         'gb': 244,\n",
       "         'vram': 1082,\n",
       "         'powerful': 75,\n",
       "         'absurdly': 4,\n",
       "         'priced': 64,\n",
       "         'titan': 435,\n",
       "         'look': 520,\n",
       "         '20': 257,\n",
       "         'according': 41,\n",
       "         'compared': 111,\n",
       "         '114': 3,\n",
       "         'increase': 217,\n",
       "         'based': 91,\n",
       "         'information': 58,\n",
       "         'available': 156,\n",
       "         'theoretically': 8,\n",
       "         'course': 108,\n",
       "         'worry': 61,\n",
       "         'future': 111,\n",
       "         'use': 463,\n",
       "         'good': 646,\n",
       "         'year': 852,\n",
       "         'curious': 37,\n",
       "         'old': 173,\n",
       "         'fan': 218,\n",
       "         'sided': 3,\n",
       "         'cooling': 68,\n",
       "         'setup': 53,\n",
       "         'supposed': 62,\n",
       "         'big': 236,\n",
       "         'improvement': 109,\n",
       "         'temperature': 15,\n",
       "         'noise': 28,\n",
       "         'especially': 146,\n",
       "         'memory': 423,\n",
       "         'running': 210,\n",
       "         'hot': 35,\n",
       "         'comparable': 15,\n",
       "         'huge': 145,\n",
       "         'tempting': 8,\n",
       "         'wow': 33,\n",
       "         'perfomance': 4,\n",
       "         'shocked': 13,\n",
       "         'excited': 54,\n",
       "         'grabbing': 10,\n",
       "         'sure': 452,\n",
       "         'hoping': 96,\n",
       "         'regional': 3,\n",
       "         'doesnt': 39,\n",
       "         'screw': 24,\n",
       "         'badly': 11,\n",
       "         'anybody': 12,\n",
       "         'hear': 42,\n",
       "         'dimension': 13,\n",
       "         '280mm': 1,\n",
       "         'magic': 11,\n",
       "         'case': 355,\n",
       "         'guess': 202,\n",
       "         '1080': 315,\n",
       "         'adios': 1,\n",
       "         'friend': 62,\n",
       "         'hopefully': 104,\n",
       "         'lay': 4,\n",
       "         'rest': 65,\n",
       "         'september': 28,\n",
       "         'obvious': 20,\n",
       "         'gap': 81,\n",
       "         '999': 63,\n",
       "         'spot': 26,\n",
       "         'gen': 329,\n",
       "         'plausible': 4,\n",
       "         'think': 836,\n",
       "         'overkill': 36,\n",
       "         '1080p': 258,\n",
       "         'word': 54,\n",
       "         '3060': 147,\n",
       "         'benchmark': 286,\n",
       "         'far': 170,\n",
       "         'design': 115,\n",
       "         'aibs': 84,\n",
       "         'ridiculous': 62,\n",
       "         'overclock': 25,\n",
       "         'ahead': 40,\n",
       "         'buying': 233,\n",
       "         'thinking': 107,\n",
       "         'chart': 27,\n",
       "         'provided': 18,\n",
       "         'thought': 149,\n",
       "         'came': 71,\n",
       "         'understand': 107,\n",
       "         'little': 192,\n",
       "         'game': 1242,\n",
       "         'make_sense': 56,\n",
       "         'tensor_core': 23,\n",
       "         'help': 111,\n",
       "         'heavy': 26,\n",
       "         'lifting': 2,\n",
       "         'bring': 34,\n",
       "         'technology': 57,\n",
       "         'standard': 56,\n",
       "         'extra': 204,\n",
       "         'utilized': 5,\n",
       "         'fall': 35,\n",
       "         'rely': 5,\n",
       "         'technolgy': 1,\n",
       "         'anymore': 46,\n",
       "         'info': 69,\n",
       "         'mean': 400,\n",
       "         '3570k': 10,\n",
       "         '3770k': 18,\n",
       "         'bottle_neck': 8,\n",
       "         '3000_series': 84,\n",
       "         'worth': 255,\n",
       "         'concerned': 34,\n",
       "         'cooler': 138,\n",
       "         'mess': 15,\n",
       "         'processor': 39,\n",
       "         'temp': 39,\n",
       "         'shooting': 2,\n",
       "         'hot_air': 14,\n",
       "         'directly': 69,\n",
       "         'remember': 89,\n",
       "         'reignited': 1,\n",
       "         'console': 264,\n",
       "         'pc': 375,\n",
       "         'war': 24,\n",
       "         'ended': 25,\n",
       "         'quickly': 27,\n",
       "         'happy': 101,\n",
       "         '2070s': 67,\n",
       "         'past': 77,\n",
       "         'goddamn': 8,\n",
       "         'expecting': 64,\n",
       "         'matching': 9,\n",
       "         'irrational': 3,\n",
       "         'brain': 11,\n",
       "         'want': 683,\n",
       "         'sell': 320,\n",
       "         '99': 37,\n",
       "         'downside': 2,\n",
       "         'samsung_8nm': 19,\n",
       "         'node': 25,\n",
       "         'instead': 164,\n",
       "         'efficient': 46,\n",
       "         'tsmc_7nm': 20,\n",
       "         'watt': 61,\n",
       "         'needed': 56,\n",
       "         'room': 54,\n",
       "         'gonna': 262,\n",
       "         'oven': 3,\n",
       "         'buy': 798,\n",
       "         'ok': 100,\n",
       "         'consider': 75,\n",
       "         'asking': 42,\n",
       "         'cooling_solution': 10,\n",
       "         'venting': 3,\n",
       "         'multi': 13,\n",
       "         'gpu': 754,\n",
       "         'impractical': 1,\n",
       "         'considering': 126,\n",
       "         'getting': 358,\n",
       "         '3090s': 38,\n",
       "         'stream': 24,\n",
       "         'today': 89,\n",
       "         'putting': 36,\n",
       "         'aside': 26,\n",
       "         'thickness': 3,\n",
       "         'concern': 32,\n",
       "         'blowing': 12,\n",
       "         'cool': 80,\n",
       "         'air': 76,\n",
       "         'intake': 7,\n",
       "         'second': 107,\n",
       "         'complain': 28,\n",
       "         'target': 47,\n",
       "         'training': 7,\n",
       "         'ml': 17,\n",
       "         'model': 200,\n",
       "         'wanna': 38,\n",
       "         'face': 23,\n",
       "         'denier': 3,\n",
       "         'idea': 123,\n",
       "         'half': 112,\n",
       "         'know': 683,\n",
       "         'bummed': 6,\n",
       "         'dropped': 32,\n",
       "         'usb_c': 10,\n",
       "         'port': 36,\n",
       "         'easy': 60,\n",
       "         'switch': 30,\n",
       "         'hub': 7,\n",
       "         'monitor': 352,\n",
       "         'desktop': 26,\n",
       "         'work': 355,\n",
       "         'laptop': 55,\n",
       "         'week': 169,\n",
       "         'predict': 15,\n",
       "         'record': 15,\n",
       "         'minute': 79,\n",
       "         'broswer': 1,\n",
       "         'open': 53,\n",
       "         'firefox': 1,\n",
       "         'chrome': 3,\n",
       "         'credit': 25,\n",
       "         'ready': 50,\n",
       "         'hitting': 20,\n",
       "         'refresh': 73,\n",
       "         'constantly': 18,\n",
       "         'total': 56,\n",
       "         'chaos': 4,\n",
       "         'guessing': 32,\n",
       "         'pre': 34,\n",
       "         'ordering': 14,\n",
       "         'start': 133,\n",
       "         'pop': 6,\n",
       "         'manufacturer': 38,\n",
       "         'order': 125,\n",
       "         'hyped': 15,\n",
       "         'life': 61,\n",
       "         'plan': 88,\n",
       "         'need': 649,\n",
       "         '650': 35,\n",
       "         'psu': 209,\n",
       "         'hand': 116,\n",
       "         'digital_foundry': 23,\n",
       "         'fat': 14,\n",
       "         'chonky': 1,\n",
       "         'psus': 15,\n",
       "         '12_pin': 24,\n",
       "         'power': 283,\n",
       "         'connector': 49,\n",
       "         'barely': 56,\n",
       "         'making': 125,\n",
       "         'cut': 68,\n",
       "         '225w': 3,\n",
       "         'rx_5700': 8,\n",
       "         'xt': 9,\n",
       "         'viable': 5,\n",
       "         'underclock': 2,\n",
       "         'undervolt': 14,\n",
       "         'draw': 26,\n",
       "         '200w': 9,\n",
       "         'max': 173,\n",
       "         'baller': 2,\n",
       "         'sound': 77,\n",
       "         '4k': 606,\n",
       "         '144_hz': 10,\n",
       "         'utilize': 22,\n",
       "         'potential': 27,\n",
       "         '800': 116,\n",
       "         '9900k': 23,\n",
       "         'pcie': 84,\n",
       "         'unknown': 4,\n",
       "         'pcie_4_0': 35,\n",
       "         'squeeze': 14,\n",
       "         'cpu': 390,\n",
       "         'mobo': 45,\n",
       "         'video': 192,\n",
       "         'cheap': 75,\n",
       "         'add': 83,\n",
       "         'probably': 545,\n",
       "         'come': 383,\n",
       "         'gaming': 478,\n",
       "         'gorgeous': 2,\n",
       "         'month': 354,\n",
       "         'gt': 13,\n",
       "         '710': 3,\n",
       "         'ryzen': 70,\n",
       "         '9': 87,\n",
       "         'lmao': 70,\n",
       "         'ray_tracing': 98,\n",
       "         'pair': 16,\n",
       "         'r5': 8,\n",
       "         '3600': 19,\n",
       "         '1440': 56,\n",
       "         '144hz': 170,\n",
       "         'power_consumption': 29,\n",
       "         'creep': 6,\n",
       "         'generation': 287,\n",
       "         '700': 134,\n",
       "         'x80': 12,\n",
       "         'trend': 10,\n",
       "         'restarted': 1,\n",
       "         'comparison': 68,\n",
       "         'valid': 11,\n",
       "         'x70': 6,\n",
       "         'x80ti': 5,\n",
       "         '499': 40,\n",
       "         '699': 43,\n",
       "         '900': 55,\n",
       "         '329': 6,\n",
       "         '549': 5,\n",
       "         '379': 4,\n",
       "         '449': 6,\n",
       "         '599': 9,\n",
       "         '799': 6,\n",
       "         '199': 1,\n",
       "         '30': 196,\n",
       "         'gone': 40,\n",
       "         'seen': 160,\n",
       "         'fairly': 23,\n",
       "         'consistent': 16,\n",
       "         'maxwell': 19,\n",
       "         'gave': 34,\n",
       "         'false': 17,\n",
       "         'hope': 206,\n",
       "         'raised': 6,\n",
       "         'thing': 203,\n",
       "         'bridge': 8,\n",
       "         'product': 222,\n",
       "         'point': 373,\n",
       "         'similar': 94,\n",
       "         'prep': 4,\n",
       "         'change': 108,\n",
       "         'followed': 8,\n",
       "         'launch': 341,\n",
       "         'near': 71,\n",
       "         'msrp': 146,\n",
       "         'partner': 33,\n",
       "         'treated': 5,\n",
       "         '1060': 52,\n",
       "         'offered': 15,\n",
       "         'true': 154,\n",
       "         'hike': 11,\n",
       "         'prior': 12,\n",
       "         'baseline': 6,\n",
       "         '70_80': 13,\n",
       "         'fully': 53,\n",
       "         'conditioned': 1,\n",
       "         'accept': 10,\n",
       "         'took': 49,\n",
       "         'cheering': 1,\n",
       "         'low': 176,\n",
       "         '230w': 1,\n",
       "         '250w': 12,\n",
       "         '145w': 1,\n",
       "         '165w': 1,\n",
       "         '150w': 8,\n",
       "         '180w': 5,\n",
       "         '175w': 2,\n",
       "         '215w': 1,\n",
       "         '220w': 5,\n",
       "         '320w': 28,\n",
       "         '350w': 16,\n",
       "         'ups': 8,\n",
       "         'down': 2,\n",
       "         '600': 70,\n",
       "         'kepler': 5,\n",
       "         'brought': 14,\n",
       "         'forth': 7,\n",
       "         'notable': 6,\n",
       "         'efficiency': 36,\n",
       "         'competition': 57,\n",
       "         'saw': 95,\n",
       "         'brand': 75,\n",
       "         'push': 71,\n",
       "         'roof': 4,\n",
       "         'addition': 12,\n",
       "         'functionality': 5,\n",
       "         'line': 149,\n",
       "         'thrown': 4,\n",
       "         'window': 44,\n",
       "         'user': 77,\n",
       "         'went': 90,\n",
       "         'lower': 186,\n",
       "         'end': 335,\n",
       "         'emerging': 1,\n",
       "         'power_draw': 37,\n",
       "         'dead': 29,\n",
       "         'disappointed': 29,\n",
       "         'downgrade': 35,\n",
       "         'capacity': 47,\n",
       "         'justify': 60,\n",
       "         'cost': 317,\n",
       "         'surprising': 10,\n",
       "         'hesitate': 2,\n",
       "         'snap': 4,\n",
       "         'ago': 156,\n",
       "         'certainly': 48,\n",
       "         'early': 55,\n",
       "         'sold': 172,\n",
       "         'stuck': 42,\n",
       "         'basic': 23,\n",
       "         'intel': 109,\n",
       "         'igpu': 5,\n",
       "         '2021': 43,\n",
       "         'settle': 21,\n",
       "         'okay': 46,\n",
       "         '1440p': 483,\n",
       "         'kidney': 11,\n",
       "         'render': 44,\n",
       "         'one': 98,\n",
       "         'fine': 242,\n",
       "         '850w': 19,\n",
       "         'stock': 319,\n",
       "         'streaming': 23,\n",
       "         'tdp': 57,\n",
       "         'opinion': 45,\n",
       "         'gtx_1080': 40,\n",
       "         'high': 414,\n",
       "         '17': 7,\n",
       "         'average': 84,\n",
       "         '39': 2,\n",
       "         '40': 75,\n",
       "         '60': 144,\n",
       "         '77': 4,\n",
       "         'correct': 35,\n",
       "         'wrong': 132,\n",
       "         'apart': 17,\n",
       "         'cheated': 2,\n",
       "         'bump': 40,\n",
       "         'pay': 222,\n",
       "         'attention': 14,\n",
       "         'local': 41,\n",
       "         'shop': 34,\n",
       "         'live': 71,\n",
       "         'central': 6,\n",
       "         'location': 13,\n",
       "         'bay': 3,\n",
       "         'area': 29,\n",
       "         'nephew': 1,\n",
       "         'said': 269,\n",
       "         'feeling': 32,\n",
       "         'paper': 39,\n",
       "         'extremely': 37,\n",
       "         'limited': 96,\n",
       "         'qty': 1,\n",
       "         'building': 37,\n",
       "         'man': 108,\n",
       "         'timing': 10,\n",
       "         'stink': 2,\n",
       "         'chance': 93,\n",
       "         'hell': 84,\n",
       "         '2000_series': 42,\n",
       "         'pretty': 315,\n",
       "         'release': 397,\n",
       "         'place': 99,\n",
       "         'stake': 1,\n",
       "         'online': 55,\n",
       "         'day': 370,\n",
       "         'newegg': 36,\n",
       "         'best': 320,\n",
       "         'amazon': 63,\n",
       "         'non': 105,\n",
       "         'founder': 33,\n",
       "         'released': 138,\n",
       "         'kinda': 71,\n",
       "         'competing': 18,\n",
       "         'integrated': 7,\n",
       "         'graphic': 204,\n",
       "         'suck': 56,\n",
       "         'gallery': 1,\n",
       "         'party': 46,\n",
       "         'twas': 1,\n",
       "         'night': 11,\n",
       "         'n': 3,\n",
       "         'ma': 1,\n",
       "         'house': 31,\n",
       "         'gamer': 32,\n",
       "         'spouse': 1,\n",
       "         'selling': 141,\n",
       "         'wanted': 99,\n",
       "         'later': 133,\n",
       "         'ouch': 7,\n",
       "         'ppl': 9,\n",
       "         'mad': 23,\n",
       "         'ugh': 14,\n",
       "         'preorder': 35,\n",
       "         'disappointment': 16,\n",
       "         'staying': 7,\n",
       "         'late': 37,\n",
       "         'wednesday': 2,\n",
       "         'seeing': 101,\n",
       "         'drop': 175,\n",
       "         'midnight': 7,\n",
       "         'requirement': 37,\n",
       "         'shown': 19,\n",
       "         'holy_shit': 13,\n",
       "         'r': 36,\n",
       "         'buildapc': 2,\n",
       "         '750w_psu': 21,\n",
       "         'owned': 10,\n",
       "         'ngl': 4,\n",
       "         'knew': 32,\n",
       "         'outperform': 23,\n",
       "         'prolly': 11,\n",
       "         'held': 25,\n",
       "         '5700xt': 74,\n",
       "         'kink': 2,\n",
       "         'watching': 25,\n",
       "         '2080tis': 17,\n",
       "         'plummet': 2,\n",
       "         'ebay': 116,\n",
       "         'noticing': 4,\n",
       "         'rumor': 131,\n",
       "         'website': 94,\n",
       "         'compare': 74,\n",
       "         'spec': 127,\n",
       "         'presentation': 22,\n",
       "         'teraflop': 2,\n",
       "         'math': 20,\n",
       "         'x': 138,\n",
       "         '71': 3,\n",
       "         '29': 4,\n",
       "         'god': 32,\n",
       "         '520': 6,\n",
       "         'yes': 231,\n",
       "         'authoritatively': 1,\n",
       "         'reassure': 1,\n",
       "         '8gb': 215,\n",
       "         'problem': 170,\n",
       "         '2k': 83,\n",
       "         'factor': 30,\n",
       "         'raytracing': 48,\n",
       "         'usage': 96,\n",
       "         'grateful': 2,\n",
       "         'overall': 44,\n",
       "         'forced': 34,\n",
       "         'starting': 46,\n",
       "         'wide': 31,\n",
       "         'adoption': 7,\n",
       "         '10gb': 317,\n",
       "         'future_proof': 31,\n",
       "         'couple': 99,\n",
       "         'served': 13,\n",
       "         'dont': 146,\n",
       "         'set': 86,\n",
       "         'till': 48,\n",
       "         'december': 13,\n",
       "         'batch': 10,\n",
       "         'i7': 33,\n",
       "         '8700': 4,\n",
       "         'k': 8,\n",
       "         'i9': 14,\n",
       "         'spoke': 1,\n",
       "         'preorders': 19,\n",
       "         'imagine': 63,\n",
       "         'able': 258,\n",
       "         'date': 20,\n",
       "         'fact': 103,\n",
       "         'tax': 113,\n",
       "         'rdna': 14,\n",
       "         'highly': 21,\n",
       "         'literally': 164,\n",
       "         'titan_replacement': 22,\n",
       "         'reach': 36,\n",
       "         'purchase': 110,\n",
       "         'rm650x': 2,\n",
       "         'stepup': 3,\n",
       "         'programme': 1,\n",
       "         'varient': 3,\n",
       "         'hey': 36,\n",
       "         'kid': 26,\n",
       "         'transfer': 17,\n",
       "         '200': 112,\n",
       "         'paypal': 16,\n",
       "         'link': 66,\n",
       "         'sense': 100,\n",
       "         'relative': 22,\n",
       "         'expect': 157,\n",
       "         '3700x': 34,\n",
       "         'btw': 21,\n",
       "         'dual': 53,\n",
       "         'imma': 2,\n",
       "         'obviously': 68,\n",
       "         'twice': 59,\n",
       "         'wonder': 64,\n",
       "         'called': 63,\n",
       "         'simply': 76,\n",
       "         'marketing': 107,\n",
       "         'gimmick': 7,\n",
       "         'ill': 35,\n",
       "         'monies': 4,\n",
       "         'existing': 16,\n",
       "         'build': 141,\n",
       "         'looking': 200,\n",
       "         'awesome': 36,\n",
       "         'us': 93,\n",
       "         '8': 165,\n",
       "         '6_pin': 9,\n",
       "         'embargo': 15,\n",
       "         'expire': 2,\n",
       "         'r9_390': 6,\n",
       "         'motherboard': 59,\n",
       "         'goingo': 1,\n",
       "         'handle': 61,\n",
       "         'employee': 6,\n",
       "         'student': 6,\n",
       "         'discord': 16,\n",
       "         'damn': 100,\n",
       "         'fs2020': 24,\n",
       "         'august': 3,\n",
       "         '2020': 51,\n",
       "         'omg': 17,\n",
       "         'crysis': 10,\n",
       "         'maxed': 42,\n",
       "         'beer': 5,\n",
       "         'listing': 17,\n",
       "         'rtx2080ti': 2,\n",
       "         'crazy': 75,\n",
       "         'rtx2080': 2,\n",
       "         'sale': 94,\n",
       "         'deal': 114,\n",
       "         '100': 199,\n",
       "         'rid': 17,\n",
       "         'interested': 36,\n",
       "         'hate': 48,\n",
       "         '4': 258,\n",
       "         'moment': 55,\n",
       "         'truth': 18,\n",
       "         'playing': 134,\n",
       "         '1920x1080': 4,\n",
       "         'bee': 1,\n",
       "         'long': 240,\n",
       "         '1060_6gb': 10,\n",
       "         'leap': 24,\n",
       "         'fast': 91,\n",
       "         'nice': 147,\n",
       "         'finally': 70,\n",
       "         'afford': 96,\n",
       "         '32': 41,\n",
       "         'rma': 2,\n",
       "         'process': 47,\n",
       "         'hungry': 16,\n",
       "         '3000': 44,\n",
       "         '250': 26,\n",
       "         '220': 3,\n",
       "         '320': 8,\n",
       "         'maybe': 306,\n",
       "         '3rd_party': 40,\n",
       "         'realize': 40,\n",
       "         'vr': 247,\n",
       "         'love': 90,\n",
       "         'index': 17,\n",
       "         'yo': 5,\n",
       "         'as': 46,\n",
       "         'replaced': 13,\n",
       "         'pleasantly': 2,\n",
       "         'surprised': 62,\n",
       "         'luckily': 10,\n",
       "         '750w': 42,\n",
       "         'transistor': 8,\n",
       "         'different': 154,\n",
       "         'variant': 76,\n",
       "         'visible': 4,\n",
       "         'right': 465,\n",
       "         'news': 47,\n",
       "         'announced': 73,\n",
       "         'launched': 40,\n",
       "         'definitely': 167,\n",
       "         'range': 56,\n",
       "         'plunge': 2,\n",
       "         'take': 32,\n",
       "         'stick': 50,\n",
       "         '650watt': 2,\n",
       "         '12_pin_connector': 8,\n",
       "         '8_pin': 43,\n",
       "         'adapter': 51,\n",
       "         'ship': 33,\n",
       "         'rly': 1,\n",
       "         '700w': 4,\n",
       "         'cuz': 13,\n",
       "         '700bucks': 1,\n",
       "         'im': 163,\n",
       "         'spend': 127,\n",
       "         'includes': 14,\n",
       "         'penny': 14,\n",
       "         'alright': 18,\n",
       "         'realistic': 21,\n",
       "         'plenty': 56,\n",
       "         'inflated': 23,\n",
       "         'turing': 80,\n",
       "         'confirmed': 46,\n",
       "         'address': 16,\n",
       "         'conflicting': 1,\n",
       "         'replace': 32,\n",
       "         'leaf': 20,\n",
       "         'opening': 9,\n",
       "         'lineup': 38,\n",
       "         'mentioning': 11,\n",
       "         'missed': 16,\n",
       "         'get': 90,\n",
       "         'q4': 4,\n",
       "         'holding': 36,\n",
       "         'gtx': 76,\n",
       "         '670': 7,\n",
       "         '2014': 9,\n",
       "         'worthwhile': 13,\n",
       "         'recommends': 7,\n",
       "         '750': 25,\n",
       "         'sad': 30,\n",
       "         'vrss': 1,\n",
       "         'feature': 93,\n",
       "         'convinced': 14,\n",
       "         'hocus': 1,\n",
       "         'pocus': 1,\n",
       "         'morning': 33,\n",
       "         'absolutely': 87,\n",
       "         'enthralled': 1,\n",
       "         'realized': 16,\n",
       "         'core_count': 22,\n",
       "         'die': 48,\n",
       "         'size': 91,\n",
       "         'shrunk': 2,\n",
       "         'mm': 13,\n",
       "         '671mm': 1,\n",
       "         'despite': 25,\n",
       "         'shrink': 7,\n",
       "         '12nm': 3,\n",
       "         '8nm': 25,\n",
       "         'possible': 92,\n",
       "         'package': 7,\n",
       "         'major': 41,\n",
       "         'overhaul': 1,\n",
       "         'architecture': 48,\n",
       "         'devised': 1,\n",
       "         'clever': 8,\n",
       "         'single': 117,\n",
       "         'thread': 50,\n",
       "         'essence': 3,\n",
       "         'previous': 77,\n",
       "         'explain': 29,\n",
       "         '80': 106,\n",
       "         'percent': 37,\n",
       "         'logic': 17,\n",
       "         'tell': 111,\n",
       "         'excess': 4,\n",
       "         'account': 45,\n",
       "         'doubled': 14,\n",
       "         'reason': 201,\n",
       "         'unlike': 19,\n",
       "         'offer': 99,\n",
       "         'competitive': 76,\n",
       "         'team': 23,\n",
       "         'picture': 34,\n",
       "         'showing': 40,\n",
       "         '8_pin_connector': 16,\n",
       "         'connected': 3,\n",
       "         'height': 5,\n",
       "         'close': 147,\n",
       "         'pin_connector': 3,\n",
       "         'extend': 4,\n",
       "         'liking': 2,\n",
       "         'market': 222,\n",
       "         'japan': 3,\n",
       "         '1000': 125,\n",
       "         '20xx': 39,\n",
       "         'decent': 79,\n",
       "         'eventually': 43,\n",
       "         'gang': 6,\n",
       "         'buster': 1,\n",
       "         'assume': 55,\n",
       "         '70': 68,\n",
       "         'jump': 113,\n",
       "         '7': 66,\n",
       "         'differ': 3,\n",
       "         'specifically': 34,\n",
       "         '2070': 96,\n",
       "         'beast': 36,\n",
       "         'tag': 25,\n",
       "         'b450': 7,\n",
       "         'person': 60,\n",
       "         'secure': 7,\n",
       "         'thursday': 10,\n",
       "         'try': 130,\n",
       "         '90': 105,\n",
       "         'crash': 20,\n",
       "         'access': 16,\n",
       "         'hefty': 2,\n",
       "         'premium': 44,\n",
       "         'mistake': 18,\n",
       "         'thr': 2,\n",
       "         'bite': 8,\n",
       "         'proverbial': 1,\n",
       "         'bullet': 6,\n",
       "         'slight': 12,\n",
       "         'supposedly': 21,\n",
       "         'negligible': 7,\n",
       "         'trying': 166,\n",
       "         'black_friday': 6,\n",
       "         'roll': 9,\n",
       "         'questioning': 1,\n",
       "         'suggest': 18,\n",
       "         'capable': 29,\n",
       "         'outplay': 1,\n",
       "         'suspense': 1,\n",
       "         'tough': 13,\n",
       "         'large': 43,\n",
       "         'buyer': 49,\n",
       "         'essentially': 28,\n",
       "         'panicking': 1,\n",
       "         'pcie2': 1,\n",
       "         'relief': 4,\n",
       "         'retailer': 88,\n",
       "         ...})"
      ]
     },
     "execution_count": 137,
     "metadata": {},
     "output_type": "execute_result"
    }
   ],
   "source": [
    "data_flat = [word for word_lst in data_trigrams for word in word_lst] # Creates a list of words \n",
    "counter = Counter(data_flat) # Counts the frequency of the tokens and stores in a dictionary\n",
    "counter"
   ]
  },
  {
   "cell_type": "code",
   "execution_count": 138,
   "metadata": {
    "ExecuteTime": {
     "end_time": "2021-01-26T05:58:04.340935Z",
     "start_time": "2021-01-26T05:58:04.325921Z"
    },
    "scrolled": true
   },
   "outputs": [
    {
     "data": {
      "text/html": [
       "<div>\n",
       "<style scoped>\n",
       "    .dataframe tbody tr th:only-of-type {\n",
       "        vertical-align: middle;\n",
       "    }\n",
       "\n",
       "    .dataframe tbody tr th {\n",
       "        vertical-align: top;\n",
       "    }\n",
       "\n",
       "    .dataframe thead th {\n",
       "        text-align: right;\n",
       "    }\n",
       "</style>\n",
       "<table border=\"1\" class=\"dataframe\">\n",
       "  <thead>\n",
       "    <tr style=\"text-align: right;\">\n",
       "      <th></th>\n",
       "      <th>word</th>\n",
       "      <th>topic_id</th>\n",
       "      <th>importance</th>\n",
       "      <th>word_count</th>\n",
       "    </tr>\n",
       "  </thead>\n",
       "  <tbody>\n",
       "    <tr>\n",
       "      <th>0</th>\n",
       "      <td>3080</td>\n",
       "      <td>0</td>\n",
       "      <td>0.048989</td>\n",
       "      <td>2229</td>\n",
       "    </tr>\n",
       "    <tr>\n",
       "      <th>1</th>\n",
       "      <td>3090</td>\n",
       "      <td>0</td>\n",
       "      <td>0.036374</td>\n",
       "      <td>1655</td>\n",
       "    </tr>\n",
       "    <tr>\n",
       "      <th>2</th>\n",
       "      <td>ti</td>\n",
       "      <td>0</td>\n",
       "      <td>0.018769</td>\n",
       "      <td>854</td>\n",
       "    </tr>\n",
       "    <tr>\n",
       "      <th>3</th>\n",
       "      <td>amd</td>\n",
       "      <td>0</td>\n",
       "      <td>0.015670</td>\n",
       "      <td>713</td>\n",
       "    </tr>\n",
       "    <tr>\n",
       "      <th>4</th>\n",
       "      <td>3070</td>\n",
       "      <td>0</td>\n",
       "      <td>0.015275</td>\n",
       "      <td>695</td>\n",
       "    </tr>\n",
       "  </tbody>\n",
       "</table>\n",
       "</div>"
      ],
      "text/plain": [
       "   word  topic_id  importance  word_count\n",
       "0  3080         0    0.048989        2229\n",
       "1  3090         0    0.036374        1655\n",
       "2    ti         0    0.018769         854\n",
       "3   amd         0    0.015670         713\n",
       "4  3070         0    0.015275         695"
      ]
     },
     "execution_count": 138,
     "metadata": {},
     "output_type": "execute_result"
    }
   ],
   "source": [
    "out = [[word, i , weight, counter[word]] for i, topic in topics for word, weight in topic]\n",
    "df = pd.DataFrame(out, columns=['word', 'topic_id', 'importance', 'word_count'])\n",
    "df.head()"
   ]
  },
  {
   "cell_type": "code",
   "execution_count": 144,
   "metadata": {
    "ExecuteTime": {
     "end_time": "2021-01-26T05:58:51.994017Z",
     "start_time": "2021-01-26T05:58:51.358440Z"
    }
   },
   "outputs": [
    {
     "data": {
      "image/png": "[encoded data removed]",
      "text/plain": [
       "<Figure size 1224x504 with 6 Axes>"
      ]
     },
     "metadata": {},
     "output_type": "display_data"
    }
   ],
   "source": [
    "# Plot Word Count and Weights of Topic Keywords\n",
    "fig, axes = plt.subplots(1, 3, figsize=(17,7), sharey=True)\n",
    "cols = [color for name, color in mcolors.TABLEAU_COLORS.items()]\n",
    "\n",
    "for i, ax in enumerate(axes.flatten()):\n",
    "    ax.bar(x='word', height=\"importance\", data=df.loc[df.topic_id==i, :], color=cols[i], width=0.5, alpha=0.3, label='Weights')\n",
    "    ax_twin = ax.twinx()\n",
    "    ax_twin.bar(x='word', height=\"word_count\", data=df.loc[df.topic_id==i, :], color=cols[i], width=0.2, label='Word Count')\n",
    "    ax.set_ylabel('Weights', color=cols[i])\n",
    "    ax_twin.set_ylabel('Word Count', color=cols[i])\n",
    "    # Sets the ylimits for the axes\n",
    "    #ax_twin.set_ylim(0, 0.030)\n",
    "    #ax.set_ylim(0, 3500)\n",
    "    ax.set_title('Topic: ' + str(i), color=cols[i], fontsize=16)\n",
    "    ax.tick_params(axis='y', left=False)\n",
    "    ax.set_xticks(np.arange(10))\n",
    "    ax.set_xticklabels(df.loc[df.topic_id==i, 'word'].tolist(), rotation=30, horizontalalignment= 'right', fontsize=12)\n",
    "    ax_twin.legend(loc=[0.80,0.82])\n",
    "    ax.legend(loc=[0.80,0.90])\n",
    "    \n",
    "\n",
    "fig.tight_layout(w_pad=2)    \n",
    "fig.suptitle('Word Count and Importance of Topic Keywords', fontsize=22, y=1.05)\n",
    "plt.show()"
   ]
  },
  {
   "cell_type": "markdown",
   "metadata": {},
   "source": [
    "### Intrepreting the topic word frequency and their weights\n",
    "\n",
    "Topic 0:\n",
    "* Equally distributed weights\n",
    "* The frequency of the words have little correlation with the weights\n",
    "\n",
    "Topic 1:\n",
    "* Equally distributed weights\n",
    "* nvidia has the highest word frequency\n",
    "* gpu is more favoured to gpus\n",
    "\n",
    "Topic 2:\n",
    "* Performance has the highest frequency, but the weights are not that high\n",
    "* Gaming features: dlss has a higher weight and frequency compared to ray_tracing, which possibly means a more favoured feature among gamers.\n",
    "* Resolution: Surprisingly, 4k resolution has a higher frequency and weight compared to 1440p resolution, which is not so main stream yet. 1440p resolution is reaching mainstream crowd.\n",
    "\n",
    "Topic 3:\n",
    "* Relating to GPU purchase during the launch\n",
    "* card seems to appear often, possibly could include in the stopwords\n",
    "* lol, yeah seems to make little sense here, could add to stopwords\n",
    "\n",
    "Topic 4:\n",
    "* The GPU models have a relatively higher word count compared to their frequency\n",
    "* Nvidia's RTX 3070 and 3080 seems to be favoured over the other GPU models\n",
    "\n",
    "Topic 5:\n",
    "* Compared to the other topics, the weights are equal to or higher than their word count.\n",
    "* good and great share a similar meaning, could potentially add one of the to stopwords."
   ]
  },
  {
   "cell_type": "markdown",
   "metadata": {},
   "source": [
    "# Most discussed topics in the documents (Possibly remove)"
   ]
  },
  {
   "cell_type": "markdown",
   "metadata": {},
   "source": [
    "Note: It'll take **more than an hour** to run if all the documents are added."
   ]
  },
  {
   "cell_type": "code",
   "execution_count": null,
   "metadata": {
    "ExecuteTime": {
     "end_time": "2021-01-26T00:19:50.039537Z",
     "start_time": "2021-01-26T00:07:31.323Z"
    },
    "scrolled": true
   },
   "outputs": [],
   "source": [
    "# Sentence Coloring of N Sentences\n",
    "# def topics_per_document(model, corpus, start=0, end=1):\n",
    "#     corpus_sel = corpus[start:end] # Obtain a slice of nth documents\n",
    "#     dominant_topics = []\n",
    "#     topic_percentages = []\n",
    "#     for i, corp in enumerate(corpus_sel): # For each document\n",
    "#         doc = model[corp] # Gets the nth document\n",
    "#         dominant_topic, topic_percs = sorted(doc, key = lambda x: x[1], reverse=True)[0] # Gets the dominant topic and topic percentage by sorting the topic percentage prob in descending order\n",
    "#         dominant_topics.append((i, dominant_topic))\n",
    "#         topic_percentages.append(topic_percs)\n",
    "#     return(dominant_topics, topic_percentages)\n",
    "\n",
    "# dominant_topics, topic_percentages = topics_per_document(model=optimal_model, corpus=trigram_corpus, end=10)  "
   ]
  },
  {
   "cell_type": "code",
   "execution_count": null,
   "metadata": {
    "ExecuteTime": {
     "end_time": "2021-01-26T00:19:50.040538Z",
     "start_time": "2021-01-26T00:07:31.324Z"
    }
   },
   "outputs": [],
   "source": [
    "# Distribution of Dominant Topics in Each Document\n",
    "# df = pd.DataFrame(dominant_topics, columns=['Document_Id', 'Dominant_Topic'])\n",
    "# dominant_topic_in_each_doc = df.groupby('Dominant_Topic').size()\n",
    "# df_dominant_topic_in_each_doc = dominant_topic_in_each_doc.to_frame(name='count').reset_index()\n",
    "\n",
    "# Total Topic Distribution by actual weight\n",
    "# topic_weightage_by_doc = pd.DataFrame([{t} for t in topic_percentages])\n",
    "# df_topic_weightage_by_doc = topic_weightage_by_doc.sum().to_frame(name='count').reset_index()\n",
    "\n",
    "# Top 3 Keywords for each Topic\n",
    "# topic_top3words = [(i, topic) for i, topics in optimal_model.show_topics(formatted=False) \n",
    "#                                  for j, (topic, wt) in enumerate(topics) if j < 3]\n",
    "\n",
    "# df_top3words_stacked = pd.DataFrame(topic_top3words, columns=['topic_id', 'words'])\n",
    "# df_top3words = df_top3words_stacked.groupby('topic_id').agg(', '.join)\n",
    "# df_top3words.reset_index(level=0,inplace=True)"
   ]
  },
  {
   "cell_type": "code",
   "execution_count": null,
   "metadata": {
    "ExecuteTime": {
     "end_time": "2021-01-26T00:19:50.040538Z",
     "start_time": "2021-01-26T00:07:31.326Z"
    }
   },
   "outputs": [],
   "source": [
    "# df_top3words"
   ]
  },
  {
   "cell_type": "code",
   "execution_count": null,
   "metadata": {
    "ExecuteTime": {
     "end_time": "2021-01-26T00:19:50.041540Z",
     "start_time": "2021-01-26T00:07:31.327Z"
    }
   },
   "outputs": [],
   "source": [
    "# from matplotlib.ticker import FuncFormatter\n",
    "\n",
    "# # Plot\n",
    "# fig, (ax1, ax2) = plt.subplots(1, 2, figsize=(10, 4), dpi=120, sharey=True)\n",
    "\n",
    "# # Topic Distribution by Dominant Topics\n",
    "# ax1.bar(x='Dominant_Topic', height='count', data=df_dominant_topic_in_each_doc, width=.5, color='firebrick')\n",
    "# ax1.set_xticks(range(df_dominant_topic_in_each_doc.Dominant_Topic.unique().__len__()))\n",
    "# tick_formatter = FuncFormatter(lambda x, pos: 'Topic ' + str(x)+ '\\n' + df_top3words.loc[df_top3words.topic_id==x, 'words'].values[0])\n",
    "# ax1.xaxis.set_major_formatter(tick_formatter)\n",
    "# ax1.set_title('Number of Documents by Dominant Topic', fontdict=dict(size=10))\n",
    "# ax1.set_ylabel('Number of Documents')\n",
    "# ax1.set_ylim(0, 1000)\n",
    "\n",
    "# # Topic Distribution by Topic Weights\n",
    "# ax2.bar(x='index', height='count', data=df_topic_weightage_by_doc, width=.5, color='steelblue')\n",
    "# ax2.set_xticks(range(df_topic_weightage_by_doc.index.unique().__len__()))\n",
    "# ax2.xaxis.set_major_formatter(tick_formatter)\n",
    "# ax2.set_title('Number of Documents by Topic Weightage', fontdict=dict(size=10))\n",
    "\n",
    "# plt.show()"
   ]
  },
  {
   "cell_type": "markdown",
   "metadata": {},
   "source": [
    "# t-SNE Clustering Chart"
   ]
  },
  {
   "cell_type": "code",
   "execution_count": null,
   "metadata": {
    "ExecuteTime": {
     "start_time": "2021-01-26T05:59:59.830Z"
    }
   },
   "outputs": [
    {
     "name": "stdout",
     "output_type": "stream",
     "text": [
      "[t-SNE] Computing 91 nearest neighbors...\n",
      "[t-SNE] Indexed 8559 samples in 0.007s...\n",
      "[t-SNE] Computed neighbors for 8559 samples in 0.123s...\n",
      "[t-SNE] Computed conditional probabilities for sample 1000 / 8559\n",
      "[t-SNE] Computed conditional probabilities for sample 2000 / 8559\n",
      "[t-SNE] Computed conditional probabilities for sample 3000 / 8559\n",
      "[t-SNE] Computed conditional probabilities for sample 4000 / 8559\n",
      "[t-SNE] Computed conditional probabilities for sample 5000 / 8559\n",
      "[t-SNE] Computed conditional probabilities for sample 6000 / 8559\n",
      "[t-SNE] Computed conditional probabilities for sample 7000 / 8559\n",
      "[t-SNE] Computed conditional probabilities for sample 8000 / 8559\n",
      "[t-SNE] Computed conditional probabilities for sample 8559 / 8559\n",
      "[t-SNE] Mean sigma: 0.000000\n"
     ]
    }
   ],
   "source": [
    "# Get topic weights\n",
    "topic_weights = []\n",
    "\n",
    "for row_lst in optimal_model[trigram_corpus]:\n",
    "    lst = []\n",
    "    for topic_id, topic_perc in row_lst:\n",
    "        lst.append(topic_perc)\n",
    "    topic_weights.append(lst)\n",
    "    \n",
    "\n",
    "# Array of topic weights    \n",
    "arr = pd.DataFrame(topic_weights).fillna(0).values\n",
    "\n",
    "# Keep the well separated points (optional)\n",
    "arr = arr[np.amax(arr, axis=1) > 0.35]\n",
    "\n",
    "# Dominant topic number in each doc\n",
    "topic_num = np.argmax(arr, axis=1)\n",
    "\n",
    "# tSNE Dimension Reduction\n",
    "tsne_model = TSNE(n_components=2, perplexity=30, verbose=1, random_state=42, angle=.99, init='pca')\n",
    "tsne_lda = tsne_model.fit_transform(arr)\n",
    "\n",
    "# Plot the Topic Clusters using Bokeh\n",
    "output_notebook()\n",
    "n_topics = 3\n",
    "mycolors = np.array([color for name, color in mcolors.TABLEAU_COLORS.items()])\n",
    "plot = figure(title=\"t-SNE Clustering of {} LDA Topics\".format(n_topics), \n",
    "              plot_width=900, plot_height=700)\n",
    "lgd_label = np.array(['Topic 0', 'Topic 1', 'Topic 2', 'Topic 3', 'Topic 4', 'Topic 5'])\n",
    "\n",
    "source = ColumnDataSource(dict(\n",
    "    x=tsne_lda[:,0],\n",
    "    y=tsne_lda[:,1],\n",
    "    color=mycolors[topic_num],\n",
    "    label=lgd_label[topic_num],\n",
    "))\n",
    "\n",
    "plot.scatter(x='x', y='y', color='color', source=source)\n",
    "show(plot)"
   ]
  },
  {
   "cell_type": "markdown",
   "metadata": {},
   "source": [
    "t-Distributed Stochastic Neighbor Embedding (t-SNE) is an unsupervised non-linear learning technique used for data exploration and visualizing higher dimensional data. It gives a sense of how the data is arranged in a high dimensional-space. As t-SNE preserves small pairwise compared to Principal Component Analysis (PCA), we can see that the Topic 0, 2, 4 and 5 are close together which shows their relationship"
   ]
  },
  {
   "cell_type": "markdown",
   "metadata": {},
   "source": [
    "# pyLDAVis"
   ]
  },
  {
   "cell_type": "code",
   "execution_count": 146,
   "metadata": {
    "ExecuteTime": {
     "end_time": "2021-01-26T05:59:52.300272Z",
     "start_time": "2021-01-26T05:59:49.467698Z"
    }
   },
   "outputs": [
    {
     "data": {
      "text/html": [
       "\n",
       "<link rel=\"stylesheet\" type=\"text/css\" href=\"https://cdn.rawgit.com/bmabey/pyLDAvis/files/ldavis.v1.0.0.css\">\n",
       "\n",
       "\n",
       "<div id=\"ldavis_el1290027835910257926964933745\"></div>\n",
       "<script type=\"text/javascript\">\n",
       "\n",
       "var ldavis_el1290027835910257926964933745_data = {\"mdsDat\": {\"x\": [-0.09994819686019732, -0.2757858552289673, 0.37573405208916477], \"y\": [-0.3650197875048462, 0.2665051850004943, 0.09851460250435179], \"topics\": [1, 2, 3], \"cluster\": [1, 1, 1], \"Freq\": [33.62215139720222, 33.37400323833493, 33.00384536446286]}, \"tinfo\": {\"Term\": [\"3080\", \"3090\", \"game\", \"card\", \"price\", \"nvidia\", \"people\", \"vram\", \"time\", \"ti\", \"buy\", \"amd\", \"3070\", \"rtx\", \"4k\", \"2080\", \"upgrade\", \"2080ti\", \"gpu\", \"1440p\", \"gaming\", \"titan\", \"memory\", \"high\", \"series\", \"release\", \"cpu\", \"super\", \"pc\", \"money\", \"pot\", \"behemoth\", \"costlier\", \"rupee\", \"20series\", \"fridge\", \"lighting\", \"65in\", \"phantom\", \"nighters\", \"bodybuilder\", \"biguer\", \"brace\", \"weighs\", \"friggin\", \"implant\", \"155\", \"285x112x\", \"318x121x58mm\", \"armor\", \"p600s\", \"170mm\", \"tallest\", \"overrun\", \"sec\", \"deflects\", \"permission\", \"nz\", \"309\", \"49mm\", \"game\", \"vram\", \"4k\", \"1440p\", \"gaming\", \"high\", \"pc\", \"lot\", \"work\", \"monitor\", \"gen\", \"play\", \"run\", \"fps\", \"issue\", \"setting\", \"console\", \"4\", \"1080p\", \"vr\", \"gb\", \"fine\", \"difference\", \"dl\", \"resolution\", \"running\", \"graphic\", \"100\", \"video\", \"driver\", \"gpu\", \"good\", \"year\", \"white\", \"scared\", \"550w\", \"whatsoever\", \"clue\", \"jpy\", \"cancelled\", \"familiar\", \"miss\", \"asap\", \"hour\", \"noticed\", \"delivery\", \"learned\", \"fed\", \"warranty\", \"code\", \"smart\", \"thermaltake\", \"par\", \"24_hour\", \"gmt\", \"bot\", \"corona\", \"web\", \"plate\", \"000\", \"middle\", \"overpriced\", \"investment\", \"card\", \"nvidia\", \"people\", \"price\", \"time\", \"buy\", \"series\", \"release\", \"day\", \"fe\", \"month\", \"sell\", \"stock\", \"cost\", \"power\", \"gonna\", \"worth\", \"long\", \"feel\", \"waiting\", \"buying\", \"scalper\", \"market\", \"pay\", \"product\", \"psu\", \"generation\", \"bought\", \"30\", \"aib\", \"launch\", \"money\", \"end\", \"year\", \"point\", \"3080\", \"wardrobe\", \"100kgs\", \"barbell\", \"gym\", \"goldilocks\", \"spatial\", \"5ft10\", \"counterpart\", \"3dmark\", \"bbc\", \"aqui\", \"50kw\", \"tm\", \"abysmal\", \"aligned\", \"xl\", \"tolerate\", \"mach\", \"northwest\", \"vision\", \"yawn\", \"protein\", \"loaf\", \"3100\", \"rat\", \"hw\", \"fuggin\", \"33cm\", \"sturdy\", \"3090\", \"ti\", \"amd\", \"3070\", \"rtx\", \"2080\", \"upgrade\", \"2080ti\", \"titan\", \"memory\", \"cpu\", \"super\", \"case\", \"1080ti\", \"10gb\", \"pretty\", \"1080\", \"benchmark\", \"3080ti\", \"faster\", \"20\", \"bit\", \"big\", \"review\", \"fan\", \"increase\", \"8gb\", \"guess\", \"reason\", \"wait\", \"10\"], \"Freq\": [2545.0, 1889.0, 1437.0, 1371.0, 1374.0, 1309.0, 1279.0, 1252.0, 993.0, 975.0, 908.0, 814.0, 793.0, 745.0, 701.0, 631.0, 602.0, 583.0, 871.0, 559.0, 553.0, 496.0, 483.0, 479.0, 463.0, 451.0, 445.0, 440.0, 434.0, 487.0, 1.1576208343983554, 3.472862503195066, 1.1576208343983554, 2.315241668796711, 3.472862503195066, 1.1576208343983554, 3.472862503195066, 1.1576208343983554, 2.315241668796711, 1.1576208343983554, 1.1576208343983554, 1.1576208343983554, 1.1576208343983554, 1.1576208343983554, 1.1576208343983554, 1.1576208343983554, 3.472862503195066, 1.1576208343983554, 1.1576208343983554, 1.1576208343983554, 1.1576208343983554, 1.1576208343983554, 1.1576208343983554, 1.1576208343983554, 8.103345840788489, 1.1576208343983554, 2.315241668796711, 1.1576208343983554, 1.1576208343983554, 1.1576208343983554, 1437.7650763227573, 1252.5457428190207, 701.5182256454034, 559.1308630144057, 553.3427588424139, 479.25502544091916, 434.10781289938325, 413.27063788021286, 410.95539621141614, 407.48253370822107, 380.85725451705895, 375.06915034506716, 369.28104617307537, 369.28104617307537, 362.3353211666853, 327.60669613473453, 305.6119002811658, 298.6661752747757, 298.6661752747757, 285.9323460963938, 282.45948359319874, 280.14424192440197, 274.35613775241023, 250.04610023004474, 246.57323772684973, 243.10037522365465, 236.1546502172645, 230.36654604527274, 222.26320020448424, 215.3174751980941, 761.7145090341179, 547.5546546704221, 568.3918296895926, 12.517209969276085, 11.379281790250987, 17.06892268537648, 17.06892268537648, 12.517209969276085, 5.6896408951254935, 17.06892268537648, 14.793066327326283, 30.72406083367766, 12.517209969276085, 84.20668524785731, 21.620635401476875, 21.620635401476875, 17.06892268537648, 5.6896408951254935, 50.06883987710434, 14.793066327326283, 37.55162990782826, 5.6896408951254935, 34.13784537075296, 11.379281790250987, 11.379281790250987, 137.68930966203695, 5.6896408951254935, 12.517209969276085, 5.6896408951254935, 45.51712716100395, 35.27577354977806, 60.31019348833023, 30.72406083367766, 1371.2034557252439, 1309.7553340578886, 1279.031273224211, 1373.4793120832942, 993.4113002889112, 908.0666868620289, 463.1367688632152, 451.75748707296424, 421.03342623928654, 418.7575698812363, 402.82657537488495, 364.1370172880316, 362.9990891090065, 360.7232327509563, 322.03367466410293, 298.13718290457587, 290.17168565140014, 273.1027629660237, 270.8269066079735, 266.2751938918731, 265.137265712848, 253.757983922597, 252.62005574357192, 252.62005574357192, 252.62005574357192, 237.82698941624562, 325.4474592011782, 223.03392308891935, 223.03392308891935, 221.89599490989428, 385.75765268950846, 473.37812247444106, 273.1027629660237, 366.4128736460818, 252.62005574357192, 2545.4657771262055, 1.1419765711647398, 1.1419765711647398, 1.1419765711647398, 1.1419765711647398, 1.1419765711647398, 1.1419765711647398, 1.1419765711647398, 5.709882855823699, 1.1419765711647398, 2.2839531423294797, 1.1419765711647398, 1.1419765711647398, 1.1419765711647398, 1.1419765711647398, 1.1419765711647398, 4.567906284658959, 2.2839531423294797, 1.1419765711647398, 1.1419765711647398, 6.851859426988439, 1.1419765711647398, 1.1419765711647398, 1.1419765711647398, 1.1419765711647398, 2.2839531423294797, 3.4259297134942197, 1.1419765711647398, 1.1419765711647398, 1.1419765711647398, 1889.9712252776446, 975.247991774688, 814.2292952404596, 793.6737169594943, 745.7107009705752, 631.5130438541012, 602.9636295749827, 583.5500278651821, 496.75980845666186, 483.056089602685, 445.3708627542486, 440.8029564695896, 405.4016827634827, 399.691799907659, 362.0065730592226, 359.7226199168931, 359.7226199168931, 326.60529935311564, 306.0497210721503, 301.4818147874914, 293.4879787893382, 284.35216622002025, 269.5064707948786, 260.3706582255607, 248.95089251391332, 247.8089159427486, 245.5249628004191, 230.67926737527748, 229.5372908041127, 582.4080512940174, 262.6546113678902], \"Total\": [2545.0, 1889.0, 1437.0, 1371.0, 1374.0, 1309.0, 1279.0, 1252.0, 993.0, 975.0, 908.0, 814.0, 793.0, 745.0, 701.0, 631.0, 602.0, 583.0, 871.0, 559.0, 553.0, 496.0, 483.0, 479.0, 463.0, 451.0, 445.0, 440.0, 434.0, 487.0, 1.1576208343983554, 3.472862503195066, 1.1576208343983554, 2.315241668796711, 3.472862503195066, 1.1576208343983554, 3.472862503195066, 1.1576208343983554, 2.315241668796711, 1.1576208343983554, 1.1576208343983554, 1.1576208343983554, 1.1576208343983554, 1.1576208343983554, 1.1576208343983554, 1.1576208343983554, 3.472862503195066, 1.1576208343983554, 1.1576208343983554, 1.1576208343983554, 1.1576208343983554, 1.1576208343983554, 1.1576208343983554, 1.1576208343983554, 8.103345840788489, 1.1576208343983554, 2.315241668796711, 1.1576208343983554, 1.1576208343983554, 1.1576208343983554, 1437.7650763227573, 1252.5457428190207, 701.5182256454034, 559.1308630144057, 553.3427588424139, 479.25502544091916, 434.10781289938325, 413.27063788021286, 410.95539621141614, 407.48253370822107, 380.85725451705895, 375.06915034506716, 369.28104617307537, 369.28104617307537, 362.3353211666853, 327.60669613473453, 305.6119002811658, 298.6661752747757, 298.6661752747757, 285.9323460963938, 282.45948359319874, 280.14424192440197, 274.35613775241023, 250.04610023004474, 246.57323772684973, 243.10037522365465, 236.1546502172645, 230.36654604527274, 222.26320020448424, 215.3174751980941, 871.3442598659329, 744.4162296417642, 979.3417896110991, 12.517209969276085, 11.379281790250987, 17.06892268537648, 17.06892268537648, 12.517209969276085, 5.6896408951254935, 17.06892268537648, 14.793066327326283, 30.72406083367766, 12.517209969276085, 84.20668524785731, 21.620635401476875, 21.620635401476875, 17.06892268537648, 5.6896408951254935, 50.06883987710434, 14.793066327326283, 37.55162990782826, 5.6896408951254935, 34.13784537075296, 11.379281790250987, 11.379281790250987, 137.68930966203695, 5.6896408951254935, 12.517209969276085, 5.6896408951254935, 45.51712716100395, 35.27577354977806, 60.31019348833023, 30.72406083367766, 1371.2034557252439, 1309.7553340578886, 1279.031273224211, 1374.621288654459, 993.4113002889112, 908.0666868620289, 463.1367688632152, 451.75748707296424, 421.03342623928654, 418.7575698812363, 402.82657537488495, 364.1370172880316, 362.9990891090065, 360.7232327509563, 322.03367466410293, 298.13718290457587, 290.17168565140014, 273.1027629660237, 270.8269066079735, 266.2751938918731, 265.137265712848, 253.757983922597, 252.62005574357192, 252.62005574357192, 252.62005574357192, 237.82698941624562, 326.6050800355766, 223.03392308891935, 223.03392308891935, 221.89599490989428, 388.04160583183796, 487.2695724872213, 383.07674223386744, 979.3417896110991, 427.4208017377236, 2545.4657771262055, 1.1419765711647398, 1.1419765711647398, 1.1419765711647398, 1.1419765711647398, 1.1419765711647398, 1.1419765711647398, 1.1419765711647398, 5.709882855823699, 1.1419765711647398, 2.2839531423294797, 1.1419765711647398, 1.1419765711647398, 1.1419765711647398, 1.1419765711647398, 1.1419765711647398, 4.567906284658959, 2.2839531423294797, 1.1419765711647398, 1.1419765711647398, 6.851859426988439, 1.1419765711647398, 1.1419765711647398, 1.1419765711647398, 1.1419765711647398, 2.2839531423294797, 3.4259297134942197, 1.1419765711647398, 1.1419765711647398, 1.1419765711647398, 1889.9712252776446, 975.247991774688, 814.2292952404596, 793.6737169594943, 745.7107009705752, 631.5130438541012, 602.9636295749827, 583.5500278651821, 496.75980845666186, 483.056089602685, 445.3708627542486, 440.8029564695896, 405.4016827634827, 399.691799907659, 362.0065730592226, 359.7226199168931, 359.7226199168931, 326.60529935311564, 306.0497210721503, 301.4818147874914, 293.4879787893382, 284.35216622002025, 269.5064707948786, 260.3706582255607, 248.95089251391332, 247.8089159427486, 245.5249628004191, 230.67926737527748, 229.5372908041127, 720.0973609560543, 405.0419739988879], \"Category\": [\"Default\", \"Default\", \"Default\", \"Default\", \"Default\", \"Default\", \"Default\", \"Default\", \"Default\", \"Default\", \"Default\", \"Default\", \"Default\", \"Default\", \"Default\", \"Default\", \"Default\", \"Default\", \"Default\", \"Default\", \"Default\", \"Default\", \"Default\", \"Default\", \"Default\", \"Default\", \"Default\", \"Default\", \"Default\", \"Default\", \"Topic1\", \"Topic1\", \"Topic1\", \"Topic1\", \"Topic1\", \"Topic1\", \"Topic1\", \"Topic1\", \"Topic1\", \"Topic1\", \"Topic1\", \"Topic1\", \"Topic1\", \"Topic1\", \"Topic1\", \"Topic1\", \"Topic1\", \"Topic1\", \"Topic1\", \"Topic1\", \"Topic1\", \"Topic1\", \"Topic1\", \"Topic1\", \"Topic1\", \"Topic1\", \"Topic1\", \"Topic1\", \"Topic1\", \"Topic1\", \"Topic1\", \"Topic1\", \"Topic1\", \"Topic1\", \"Topic1\", \"Topic1\", \"Topic1\", \"Topic1\", \"Topic1\", \"Topic1\", \"Topic1\", \"Topic1\", \"Topic1\", \"Topic1\", \"Topic1\", \"Topic1\", \"Topic1\", \"Topic1\", \"Topic1\", \"Topic1\", \"Topic1\", \"Topic1\", \"Topic1\", \"Topic1\", \"Topic1\", \"Topic1\", \"Topic1\", \"Topic1\", \"Topic1\", \"Topic1\", \"Topic1\", \"Topic1\", \"Topic1\", \"Topic2\", \"Topic2\", \"Topic2\", \"Topic2\", \"Topic2\", \"Topic2\", \"Topic2\", \"Topic2\", \"Topic2\", \"Topic2\", \"Topic2\", \"Topic2\", \"Topic2\", \"Topic2\", \"Topic2\", \"Topic2\", \"Topic2\", \"Topic2\", \"Topic2\", \"Topic2\", \"Topic2\", \"Topic2\", \"Topic2\", \"Topic2\", \"Topic2\", \"Topic2\", \"Topic2\", \"Topic2\", \"Topic2\", \"Topic2\", \"Topic2\", \"Topic2\", \"Topic2\", \"Topic2\", \"Topic2\", \"Topic2\", \"Topic2\", \"Topic2\", \"Topic2\", \"Topic2\", \"Topic2\", \"Topic2\", \"Topic2\", \"Topic2\", \"Topic2\", \"Topic2\", \"Topic2\", \"Topic2\", \"Topic2\", \"Topic2\", \"Topic2\", \"Topic2\", \"Topic2\", \"Topic2\", \"Topic2\", \"Topic2\", \"Topic2\", \"Topic2\", \"Topic2\", \"Topic2\", \"Topic2\", \"Topic2\", \"Topic2\", \"Topic2\", \"Topic2\", \"Topic3\", \"Topic3\", \"Topic3\", \"Topic3\", \"Topic3\", \"Topic3\", \"Topic3\", \"Topic3\", \"Topic3\", \"Topic3\", \"Topic3\", \"Topic3\", \"Topic3\", \"Topic3\", \"Topic3\", \"Topic3\", \"Topic3\", \"Topic3\", \"Topic3\", \"Topic3\", \"Topic3\", \"Topic3\", \"Topic3\", \"Topic3\", \"Topic3\", \"Topic3\", \"Topic3\", \"Topic3\", \"Topic3\", \"Topic3\", \"Topic3\", \"Topic3\", \"Topic3\", \"Topic3\", \"Topic3\", \"Topic3\", \"Topic3\", \"Topic3\", \"Topic3\", \"Topic3\", \"Topic3\", \"Topic3\", \"Topic3\", \"Topic3\", \"Topic3\", \"Topic3\", \"Topic3\", \"Topic3\", \"Topic3\", \"Topic3\", \"Topic3\", \"Topic3\", \"Topic3\", \"Topic3\", \"Topic3\", \"Topic3\", \"Topic3\", \"Topic3\", \"Topic3\", \"Topic3\", \"Topic3\"], \"logprob\": [30.0, 29.0, 28.0, 27.0, 26.0, 25.0, 24.0, 23.0, 22.0, 21.0, 20.0, 19.0, 18.0, 17.0, 16.0, 15.0, 14.0, 13.0, 12.0, 11.0, 10.0, 9.0, 8.0, 7.0, 6.0, 5.0, 4.0, 3.0, 2.0, 1.0, -10.7304, -9.6318, -10.7304, -10.0373, -9.6318, -10.7304, -9.6318, -10.7304, -10.0373, -10.7304, -10.7304, -10.7304, -10.7304, -10.7304, -10.7304, -10.7304, -9.6318, -10.7304, -10.7304, -10.7304, -10.7304, -10.7304, -10.7304, -10.7304, -8.7845, -10.7304, -10.0373, -10.7304, -10.7304, -10.7304, -3.6059, -3.7439, -4.3235, -4.5504, -4.5608, -4.7046, -4.8035, -4.8527, -4.8583, -4.8668, -4.9344, -4.9497, -4.9652, -4.9652, -4.9842, -5.085, -5.1545, -5.1775, -5.1775, -5.221, -5.2333, -5.2415, -5.2624, -5.3551, -5.3691, -5.3833, -5.4123, -5.4371, -5.4729, -5.5047, -4.2412, -4.5713, -4.534, -8.3423, -8.4376, -8.0321, -8.0321, -8.3423, -9.1307, -8.0321, -8.1752, -7.4443, -8.3423, -6.4361, -7.7957, -7.7957, -8.0321, -9.1307, -6.956, -8.1752, -7.2437, -9.1307, -7.339, -8.4376, -8.4376, -5.9444, -9.1307, -8.3423, -9.1307, -7.0513, -7.3062, -6.7699, -7.4443, -3.6459, -3.6918, -3.7155, -3.6443, -3.9682, -4.0581, -4.7314, -4.7562, -4.8267, -4.8321, -4.8709, -4.9719, -4.975, -4.9813, -5.0947, -5.1718, -5.1989, -5.2595, -5.2679, -5.2849, -5.2891, -5.333, -5.3375, -5.3375, -5.3375, -5.3978, -5.0842, -5.4621, -5.4621, -5.4672, -4.9142, -4.7095, -5.2595, -4.9656, -5.3375, -3.0162, -10.7255, -10.7255, -10.7255, -10.7255, -10.7255, -10.7255, -10.7255, -9.116, -10.7255, -10.0323, -10.7255, -10.7255, -10.7255, -10.7255, -10.7255, -9.3392, -10.0323, -10.7255, -10.7255, -8.9337, -10.7255, -10.7255, -10.7255, -10.7255, -10.0323, -9.6269, -10.7255, -10.7255, -10.7255, -3.3139, -3.9755, -4.156, -4.1816, -4.2439, -4.4101, -4.4564, -4.4891, -4.6501, -4.6781, -4.7593, -4.7696, -4.8533, -4.8675, -4.9666, -4.9729, -4.9729, -5.0695, -5.1345, -5.1495, -5.1764, -5.208, -5.2616, -5.2961, -5.341, -5.3456, -5.3548, -5.4172, -5.4222, -4.4911, -5.2874], \"loglift\": [30.0, 29.0, 28.0, 27.0, 26.0, 25.0, 24.0, 23.0, 22.0, 21.0, 20.0, 19.0, 18.0, 17.0, 16.0, 15.0, 14.0, 13.0, 12.0, 11.0, 10.0, 9.0, 8.0, 7.0, 6.0, 5.0, 4.0, 3.0, 2.0, 1.0, 1.09, 1.09, 1.09, 1.09, 1.09, 1.09, 1.09, 1.09, 1.09, 1.09, 1.09, 1.09, 1.09, 1.09, 1.09, 1.09, 1.09, 1.09, 1.09, 1.09, 1.09, 1.09, 1.09, 1.09, 1.09, 1.09, 1.09, 1.09, 1.09, 1.09, 1.09, 1.09, 1.09, 1.09, 1.09, 1.09, 1.09, 1.09, 1.09, 1.09, 1.09, 1.09, 1.09, 1.09, 1.09, 1.09, 1.09, 1.09, 1.09, 1.09, 1.09, 1.09, 1.09, 1.09, 1.09, 1.09, 1.09, 1.09, 1.09, 1.09, 0.9555, 0.7828, 0.5459, 1.0974, 1.0974, 1.0974, 1.0974, 1.0974, 1.0974, 1.0974, 1.0974, 1.0974, 1.0974, 1.0974, 1.0974, 1.0974, 1.0974, 1.0974, 1.0974, 1.0974, 1.0974, 1.0974, 1.0974, 1.0974, 1.0974, 1.0974, 1.0974, 1.0974, 1.0974, 1.0974, 1.0974, 1.0974, 1.0974, 1.0974, 1.0974, 1.0974, 1.0966, 1.0974, 1.0974, 1.0974, 1.0974, 1.0974, 1.0974, 1.0974, 1.0974, 1.0974, 1.0974, 1.0974, 1.0974, 1.0974, 1.0974, 1.0974, 1.0974, 1.0974, 1.0974, 1.0974, 1.0974, 1.0974, 1.0974, 1.0938, 1.0974, 1.0974, 1.0974, 1.0915, 1.0685, 0.759, 0.1143, 0.5715, 1.1085, 1.1085, 1.1085, 1.1085, 1.1085, 1.1085, 1.1085, 1.1085, 1.1085, 1.1085, 1.1085, 1.1085, 1.1085, 1.1085, 1.1085, 1.1085, 1.1085, 1.1085, 1.1085, 1.1085, 1.1085, 1.1085, 1.1085, 1.1085, 1.1085, 1.1085, 1.1085, 1.1085, 1.1085, 1.1085, 1.1085, 1.1085, 1.1085, 1.1085, 1.1085, 1.1085, 1.1085, 1.1085, 1.1085, 1.1085, 1.1085, 1.1085, 1.1085, 1.1085, 1.1085, 1.1085, 1.1085, 1.1085, 1.1085, 1.1085, 1.1085, 1.1085, 1.1085, 1.1085, 1.1085, 1.1085, 1.1085, 1.1085, 1.1085, 0.8963, 0.6754]}, \"token.table\": {\"Topic\": [2, 1, 3, 1, 3, 3, 1, 3, 3, 1, 1, 1, 3, 3, 3, 1, 2, 1, 2, 3, 3, 3, 1, 3, 3, 1, 3, 3, 1, 1, 1, 3, 2, 3, 1, 3, 3, 2, 3, 3, 3, 1, 2, 3, 3, 1, 3, 3, 1, 3, 1, 2, 2, 1, 2, 2, 2, 2, 3, 2, 2, 1, 2, 2, 1, 3, 3, 2, 1, 2, 1, 1, 1, 1, 2, 2, 3, 3, 2, 2, 2, 1, 1, 1, 1, 3, 1, 1, 1, 1, 1, 2, 2, 3, 2, 1, 2, 1, 3, 1, 3, 3, 1, 2, 3, 1, 3, 2, 1, 2, 2, 3, 2, 1, 3, 2, 1, 3, 2, 3, 2, 2, 1, 2, 1, 2, 1, 3, 2, 2, 1, 2, 1, 1, 2, 2, 1, 2, 1, 1, 2, 1, 1, 2, 1, 2, 3, 2, 3, 2, 3, 2, 3, 3, 2, 1, 3, 3, 1, 1, 1, 2, 2, 1, 2, 2, 1, 2, 3, 2, 3, 3, 1, 2, 3, 2, 3, 3, 3, 3, 1, 3, 1, 1, 2, 3, 2, 3, 2, 2, 1, 2, 2, 1, 2, 3, 3, 1, 2, 3], \"Freq\": [1.010608596568233, 0.35058094991505717, 0.6493154213215495, 0.9984088573121173, 0.8756747075643302, 1.0007710943592343, 1.0011177185528866, 1.0007710943592343, 0.9999818427075313, 0.9997659527973466, 0.863840706978745, 0.863840706978745, 0.9983373125149755, 1.0007710943592343, 1.0007710943592345, 0.863840706978745, 0.9666690923696142, 0.863840706978745, 0.9998479016624487, 1.0004111047569468, 0.9998170169363929, 0.9998375392338993, 0.863840706978745, 1.0000152249526186, 0.8756747075643302, 0.863840706978745, 0.8756747075643302, 0.8756747075643302, 1.0011177185528866, 0.863840706978745, 1.0006867595694373, 0.8756747075643302, 0.9959620951686934, 0.8756747075643302, 0.863840706978745, 1.0019347816782567, 0.8756747075643302, 1.000468710983936, 0.8756747075643302, 0.9997183898420262, 0.8756747075643302, 0.863840706978745, 1.0385700992400815, 0.8756747075643302, 0.8756747075643302, 0.863840706978745, 1.0012084943130626, 1.0018312332303776, 0.863840706978745, 0.9987615138484728, 0.863840706978745, 1.002256459406512, 0.9998479016624487, 0.863840706978745, 0.9999265617129296, 0.9994822843462652, 0.9959620951686934, 0.9998516225113098, 0.999009173418461, 1.0385700992400815, 1.0139885584296653, 1.0012699103617273, 1.0545481007668518, 1.000767256511129, 0.863840706978745, 1.050809649077196, 0.9991672945285304, 0.9999206090604608, 0.863840706978745, 1.0175464130206466, 0.9987019143973676, 0.9998156330772512, 0.9985255483894097, 0.28714872993475876, 0.7126509388380832, 1.0139885584296653, 1.0001972577225604, 0.9984018446093308, 1.000578927131592, 1.0545481007668518, 1.0006391292290504, 0.9994851155125977, 0.9992389369127176, 0.863840706978745, 0.863840706978745, 0.8756747075643302, 1.0001633950365825, 0.9993805668603472, 0.9983732760983856, 1.0003748004829842, 0.0030618017328177248, 0.9950855631657605, 0.9666690923696142, 0.8756747075643302, 0.999539866502932, 0.7361473033221136, 0.26463689553732916, 0.8745108392832508, 0.12624172220624355, 0.9993451316028619, 1.0013903834027735, 0.8756747075643302, 0.9994678711179199, 0.9975455007254004, 0.8756747075643301, 0.863840706978745, 1.0007710943592343, 1.0089812075238398, 0.999074555675098, 1.0545481007668518, 0.9947386934773105, 0.00515408649470109, 0.9959620951686934, 0.863840706978745, 0.8756747075643302, 0.9996237205185783, 0.9993451316028619, 0.8756747075643302, 1.0015040146171679, 0.9998838859422492, 0.992182352872038, 1.0089812075238398, 0.028731529302226545, 0.970715239996654, 0.9988158174441739, 1.0004305193244851, 0.863840706978745, 0.8756747075643302, 1.0175464130206466, 1.0001868027835041, 0.863840706978745, 0.9948566988366527, 0.863840706978745, 0.863840706978745, 0.9959620951686934, 1.0015040146171679, 0.9997516448767343, 0.9999755492888519, 0.863840706978745, 0.863840706978745, 1.0545481007668518, 0.9998156330772511, 0.4094325762539384, 0.5919225245271224, 0.863840706978745, 0.9998954312335875, 1.0007710943592343, 0.9988205561285567, 0.0007274730925918111, 1.0015040146171679, 0.8756747075643302, 1.0007274640450987, 0.8756747075643302, 1.002015834526348, 1.0005368210466352, 1.0017307728814553, 0.9985764209066922, 1.000387950754962, 0.9992389369127176, 0.9995871037896905, 0.863840706978745, 1.0009537279326621, 0.9666690923696142, 0.9872465222614227, 0.9996237205185783, 0.9997046901209099, 1.0012005367103476, 1.011940096695464, 0.8756747075643302, 1.0000025093478768, 0.8756747075643302, 1.0004470104556207, 0.863840706978745, 1.0545481007668518, 0.9997457141396039, 0.999585971803631, 1.0004835164585564, 0.8756747075643302, 0.8756747075643302, 1.0000603194342632, 0.9988158174441739, 1.0216204921583851, 1.000236608080652, 1.0003626671389716, 0.19164075232379832, 0.8082240424090624, 0.9989665057121888, 0.8756747075643302, 0.9986250954231553, 1.0385700992400815, 0.863840706978745, 0.9959620951686934, 1.0385700992400815, 1.000108536812012, 0.9994083307921146, 1.0945933844554128, 0.8756747075643302, 0.5799813773142013, 0.3737203945369677, 0.045949228836512424], \"Term\": [\"000\", \"10\", \"10\", \"100\", \"100kgs\", \"1080\", \"1080p\", \"1080ti\", \"10gb\", \"1440p\", \"155\", \"170mm\", \"20\", \"2080\", \"2080ti\", \"20series\", \"24_hour\", \"285x112x\", \"30\", \"3070\", \"3080\", \"3080ti\", \"309\", \"3090\", \"3100\", \"318x121x58mm\", \"33cm\", \"3dmark\", \"4\", \"49mm\", \"4k\", \"50kw\", \"550w\", \"5ft10\", \"65in\", \"8gb\", \"abysmal\", \"aib\", \"aligned\", \"amd\", \"aqui\", \"armor\", \"asap\", \"barbell\", \"bbc\", \"behemoth\", \"benchmark\", \"big\", \"biguer\", \"bit\", \"bodybuilder\", \"bot\", \"bought\", \"brace\", \"buy\", \"buying\", \"cancelled\", \"card\", \"case\", \"clue\", \"code\", \"console\", \"corona\", \"cost\", \"costlier\", \"counterpart\", \"cpu\", \"day\", \"deflects\", \"delivery\", \"difference\", \"dl\", \"driver\", \"end\", \"end\", \"familiar\", \"fan\", \"faster\", \"fe\", \"fed\", \"feel\", \"fine\", \"fps\", \"fridge\", \"friggin\", \"fuggin\", \"game\", \"gaming\", \"gb\", \"gen\", \"generation\", \"generation\", \"gmt\", \"goldilocks\", \"gonna\", \"good\", \"good\", \"gpu\", \"gpu\", \"graphic\", \"guess\", \"gym\", \"high\", \"hour\", \"hw\", \"implant\", \"increase\", \"investment\", \"issue\", \"jpy\", \"launch\", \"launch\", \"learned\", \"lighting\", \"loaf\", \"long\", \"lot\", \"mach\", \"market\", \"memory\", \"middle\", \"miss\", \"money\", \"money\", \"monitor\", \"month\", \"nighters\", \"northwest\", \"noticed\", \"nvidia\", \"nz\", \"overpriced\", \"overrun\", \"p600s\", \"par\", \"pay\", \"pc\", \"people\", \"permission\", \"phantom\", \"plate\", \"play\", \"point\", \"point\", \"pot\", \"power\", \"pretty\", \"price\", \"price\", \"product\", \"protein\", \"psu\", \"rat\", \"reason\", \"release\", \"resolution\", \"review\", \"rtx\", \"run\", \"running\", \"rupee\", \"scalper\", \"scared\", \"sec\", \"sell\", \"series\", \"setting\", \"smart\", \"spatial\", \"stock\", \"sturdy\", \"super\", \"tallest\", \"thermaltake\", \"ti\", \"time\", \"titan\", \"tm\", \"tolerate\", \"upgrade\", \"video\", \"vision\", \"vr\", \"vram\", \"wait\", \"wait\", \"waiting\", \"wardrobe\", \"warranty\", \"web\", \"weighs\", \"whatsoever\", \"white\", \"work\", \"worth\", \"xl\", \"yawn\", \"year\", \"year\", \"year\"]}, \"R\": 30, \"lambda.step\": 0.01, \"plot.opts\": {\"xlab\": \"PC1\", \"ylab\": \"PC2\"}, \"topic.order\": [3, 2, 1]};\n",
       "\n",
       "function LDAvis_load_lib(url, callback){\n",
       "  var s = document.createElement('script');\n",
       "  s.src = url;\n",
       "  s.async = true;\n",
       "  s.onreadystatechange = s.onload = callback;\n",
       "  s.onerror = function(){console.warn(\"failed to load library \" + url);};\n",
       "  document.getElementsByTagName(\"head\")[0].appendChild(s);\n",
       "}\n",
       "\n",
       "if(typeof(LDAvis) !== \"undefined\"){\n",
       "   // already loaded: just create the visualization\n",
       "   !function(LDAvis){\n",
       "       new LDAvis(\"#\" + \"ldavis_el1290027835910257926964933745\", ldavis_el1290027835910257926964933745_data);\n",
       "   }(LDAvis);\n",
       "}else if(typeof define === \"function\" && define.amd){\n",
       "   // require.js is available: use it to load d3/LDAvis\n",
       "   require.config({paths: {d3: \"https://cdnjs.cloudflare.com/ajax/libs/d3/3.5.5/d3.min\"}});\n",
       "   require([\"d3\"], function(d3){\n",
       "      window.d3 = d3;\n",
       "      LDAvis_load_lib(\"https://cdn.rawgit.com/bmabey/pyLDAvis/files/ldavis.v1.0.0.js\", function(){\n",
       "        new LDAvis(\"#\" + \"ldavis_el1290027835910257926964933745\", ldavis_el1290027835910257926964933745_data);\n",
       "      });\n",
       "    });\n",
       "}else{\n",
       "    // require.js not available: dynamically load d3 & LDAvis\n",
       "    LDAvis_load_lib(\"https://cdnjs.cloudflare.com/ajax/libs/d3/3.5.5/d3.min.js\", function(){\n",
       "         LDAvis_load_lib(\"https://cdn.rawgit.com/bmabey/pyLDAvis/files/ldavis.v1.0.0.js\", function(){\n",
       "                 new LDAvis(\"#\" + \"ldavis_el1290027835910257926964933745\", ldavis_el1290027835910257926964933745_data);\n",
       "            })\n",
       "         });\n",
       "}\n",
       "</script>"
      ],
      "text/plain": [
       "PreparedData(topic_coordinates=              x         y  topics  cluster       Freq\n",
       "topic                                                \n",
       "2     -0.099948 -0.365020       1        1  33.622151\n",
       "1     -0.275786  0.266505       2        1  33.374003\n",
       "0      0.375734  0.098515       3        1  33.003845, topic_info=       Term         Freq        Total Category  logprob  loglift\n",
       "4      3080  2545.000000  2545.000000  Default  30.0000  30.0000\n",
       "10     3090  1889.000000  1889.000000  Default  29.0000  29.0000\n",
       "295    game  1437.000000  1437.000000  Default  28.0000  28.0000\n",
       "15     card  1371.000000  1371.000000  Default  27.0000  27.0000\n",
       "18    price  1374.000000  1374.000000  Default  26.0000  26.0000\n",
       "..      ...          ...          ...      ...      ...      ...\n",
       "714     8gb   245.524963   245.524963   Topic3  -5.3548   1.1085\n",
       "266   guess   230.679267   230.679267   Topic3  -5.4172   1.1085\n",
       "937  reason   229.537291   229.537291   Topic3  -5.4222   1.1085\n",
       "134    wait   582.408051   720.097361   Topic3  -4.4911   0.8963\n",
       "194      10   262.654611   405.041974   Topic3  -5.2874   0.6754\n",
       "\n",
       "[219 rows x 6 columns], token_table=      Topic      Freq          Term\n",
       "term                               \n",
       "1870      2  1.010609           000\n",
       "194       1  0.350581            10\n",
       "194       3  0.649315            10\n",
       "803       1  0.998409           100\n",
       "7722      3  0.875675        100kgs\n",
       "263       3  1.000771          1080\n",
       "277       1  1.001118         1080p\n",
       "195       3  1.000771        1080ti\n",
       "721       3  0.999982          10gb\n",
       "575       1  0.999766         1440p\n",
       "7807      1  0.863841           155\n",
       "7820      1  0.863841         170mm\n",
       "213       3  0.998337            20\n",
       "31        3  1.000771          2080\n",
       "81        3  1.000771        2080ti\n",
       "7748      1  0.863841      20series\n",
       "2014      2  0.966669       24_hour\n",
       "7808      1  0.863841      285x112x\n",
       "493       2  0.999848            30\n",
       "9         3  1.000411          3070\n",
       "4         3  0.999817          3080\n",
       "196       3  0.999838        3080ti\n",
       "7850      1  0.863841           309\n",
       "10        3  1.000015          3090\n",
       "7788      3  0.875675          3100\n",
       "7810      1  0.863841  318x121x58mm\n",
       "7720      3  0.875675          33cm\n",
       "7749      3  0.875675        3dmark\n",
       "812       1  1.001118             4\n",
       "7851      1  0.863841          49mm\n",
       "450       1  1.000687            4k\n",
       "7754      3  0.875675          50kw\n",
       "1942      2  0.995962          550w\n",
       "7728      3  0.875675         5ft10\n",
       "7762      1  0.863841          65in\n",
       "714       3  1.001935           8gb\n",
       "7757      3  0.875675       abysmal\n",
       "13        2  1.000469           aib\n",
       "7798      3  0.875675       aligned\n",
       "163       3  0.999718           amd\n",
       "7752      3  0.875675          aqui\n",
       "7812      1  0.863841         armor\n",
       "1958      2  1.038570          asap\n",
       "7723      3  0.875675       barbell\n",
       "7750      3  0.875675           bbc\n",
       "7741      1  0.863841      behemoth\n",
       "284       3  1.001208     benchmark\n",
       "228       3  1.001831           big\n",
       "7780      1  0.863841        biguer\n",
       "108       3  0.998762           bit\n",
       "7779      1  0.863841   bodybuilder\n",
       "2022      2  1.002256           bot\n",
       "130       2  0.999848        bought\n",
       "7782      1  0.863841         brace\n",
       "345       2  0.999927           buy\n",
       "285       2  0.999482        buying\n",
       "1950      2  0.995962     cancelled\n",
       "15        2  0.999852          card\n",
       "259       3  0.999009          case\n",
       "1946      2  1.038570          clue\n",
       "2003      2  1.013989          code\n",
       "327       1  1.001270       console\n",
       "5073      2  1.054548        corona\n",
       "581       2  1.000767          cost\n",
       "7745      1  0.863841      costlier\n",
       "7732      3  1.050810   counterpart\n",
       "457       3  0.999167           cpu\n",
       "639       2  0.999921           day\n",
       "7835      1  0.863841      deflects\n",
       "1968      2  1.017546      delivery\n",
       "1032      1  0.998702    difference\n",
       "167       1  0.999816            dl\n",
       "1195      1  0.998526        driver\n",
       "525       1  0.287149           end\n",
       "525       2  0.712651           end\n",
       "1951      2  1.013989      familiar\n",
       "232       3  1.000197           fan\n",
       "169       3  0.998402        faster\n",
       "132       2  1.000579            fe\n",
       "5055      2  1.054548           fed\n",
       "191       2  1.000639          feel\n",
       "599       1  0.999485          fine\n",
       "1012      1  0.999239           fps\n",
       "7753      1  0.863841        fridge\n",
       "7787      1  0.863841       friggin\n",
       "7793      3  0.875675        fuggin\n",
       "295       1  1.000163          game\n",
       "458       1  0.999381        gaming\n",
       "200       1  0.998373            gb\n",
       "273       1  1.000375           gen\n",
       "533       1  0.003062    generation\n",
       "533       2  0.995086    generation\n",
       "2016      2  0.966669           gmt\n",
       "7725      3  0.875675    goldilocks\n",
       "348       2  0.999540         gonna\n",
       "224       1  0.736147          good\n",
       "224       2  0.264637          good\n",
       "369       1  0.874511           gpu\n",
       "369       3  0.126242           gpu\n",
       "641       1  0.999345       graphic\n",
       "266       3  1.001390         guess\n",
       "7724      3  0.875675           gym\n",
       "614       1  0.999468          high\n",
       "1959      2  0.997546          hour\n",
       "7792      3  0.875675            hw\n",
       "7805      1  0.863841       implant\n",
       "216       3  1.000771      increase\n",
       "1794      2  1.008981    investment\n",
       "1065      1  0.999075         issue\n",
       "5070      2  1.054548           jpy\n",
       "538       2  0.994739        launch\n",
       "538       3  0.005154        launch\n",
       "5061      2  0.995962       learned\n",
       "7759      1  0.863841      lighting\n",
       "7785      3  0.875675          loaf\n",
       "819       2  0.999624          long\n",
       "176       1  0.999345           lot\n",
       "7766      3  0.875675          mach\n",
       "951       2  1.001504        market\n",
       "235       3  0.999884        memory\n",
       "1778      2  0.992182        middle\n",
       "1956      2  1.008981          miss\n",
       "57        1  0.028732         money\n",
       "57        2  0.970715         money\n",
       "396       1  0.998816       monitor\n",
       "474       2  1.000431         month\n",
       "7772      1  0.863841      nighters\n",
       "7767      3  0.875675     northwest\n",
       "1962      2  1.017546       noticed\n",
       "74        2  1.000187        nvidia\n",
       "7843      1  0.863841            nz\n",
       "1783      2  0.994857    overpriced\n",
       "7822      1  0.863841       overrun\n",
       "7819      1  0.863841         p600s\n",
       "2010      2  0.995962           par\n",
       "616       2  1.001504           pay\n",
       "329       1  0.999752            pc\n",
       "49        2  0.999976        people\n",
       "7839      1  0.863841    permission\n",
       "7769      1  0.863841       phantom\n",
       "7863      2  1.054548         plate\n",
       "1042      1  0.999816          play\n",
       "548       1  0.409433         point\n",
       "548       2  0.591923         point\n",
       "24        1  0.863841           pot\n",
       "442       2  0.999895         power\n",
       "650       3  1.000771        pretty\n",
       "18        2  0.998821         price\n",
       "18        3  0.000727         price\n",
       "553       2  1.001504       product\n",
       "7783      3  0.875675       protein\n",
       "428       2  1.000727           psu\n",
       "7790      3  0.875675           rat\n",
       "937       3  1.002016        reason\n",
       "651       2  1.000537       release\n",
       "1348      1  1.001731    resolution\n",
       "90        3  0.998576        review\n",
       "78        3  1.000388           rtx\n",
       "154       1  0.999239           run\n",
       "238       1  0.999587       running\n",
       "7746      1  0.863841         rupee\n",
       "1052      2  1.000954       scalper\n",
       "4992      2  0.966669        scared\n",
       "7826      1  0.987247           sec\n",
       "342       2  0.999624          sell\n",
       "79        2  0.999705        series\n",
       "1043      1  1.001201       setting\n",
       "2007      2  1.011940         smart\n",
       "7727      3  0.875675       spatial\n",
       "600       2  1.000003         stock\n",
       "7716      3  0.875675        sturdy\n",
       "208       3  1.000447         super\n",
       "7821      1  0.863841       tallest\n",
       "2008      2  1.054548   thermaltake\n",
       "35        3  0.999746            ti\n",
       "3         2  0.999586          time\n",
       "209       3  1.000484         titan\n",
       "7755      3  0.875675            tm\n",
       "7763      3  0.875675      tolerate\n",
       "54        3  1.000060       upgrade\n",
       "468       1  0.998816         video\n",
       "7773      3  1.021620        vision\n",
       "841       1  1.000237            vr\n",
       "211       1  1.000363          vram\n",
       "134       2  0.191641          wait\n",
       "134       3  0.808224          wait\n",
       "162       2  0.998967       waiting\n",
       "7756      3  0.875675      wardrobe\n",
       "1991      2  0.998625      warranty\n",
       "1935      2  1.038570           web\n",
       "7786      1  0.863841        weighs\n",
       "1944      2  0.995962    whatsoever\n",
       "3195      2  1.038570         white\n",
       "400       1  1.000109          work\n",
       "318       2  0.999408         worth\n",
       "7760      3  1.094593            xl\n",
       "7777      3  0.875675          yawn\n",
       "227       1  0.579981          year\n",
       "227       2  0.373720          year\n",
       "227       3  0.045949          year, R=30, lambda_step=0.01, plot_opts={'xlab': 'PC1', 'ylab': 'PC2'}, topic_order=[3, 2, 1])"
      ]
     },
     "execution_count": 146,
     "metadata": {},
     "output_type": "execute_result"
    }
   ],
   "source": [
    "# Visualize the topics for the trigram model\n",
    "pyLDAvis.enable_notebook()\n",
    "# Creates the filepath to save the html file\n",
    "LDAvis_data_filepath = os.path.join(os.getcwd()+'\\\\visualization\\\\'+ 'nvidia_' + 'trigram_' +'mallet_ldavis_prepared_'+str(num_topics))\n",
    "\n",
    "optimal_model_lda = gensim.models.wrappers.ldamallet.malletmodel2ldamodel(optimal_model)\n",
    "trigram_mallet_vis = pyLDAvis.gensim.prepare(optimal_model_lda, trigram_corpus, trigram_id2word)\n",
    "\n",
    "# Saves the graph as a html file to the LDAvis_data_filepath\n",
    "pyLDAvis.save_html(trigram_mallet_vis, os.getcwd()+ '\\\\visualization\\\\' + 'nvidia_' + 'trigram_' + 'mallet_ldavis_prepared_'+ str(num_topics) +'.html')\n",
    "trigram_mallet_vis"
   ]
  },
  {
   "cell_type": "markdown",
   "metadata": {},
   "source": [
    "The bubbles are spread further apart compared to the LDA's pyLDAvis with the exception of topic 3 and 4. This shows that the topics are distinguishable from one another. Also, it seems that the bubbles are of similar sizes which means that the documents are evenly distributed across the topics."
   ]
  },
  {
   "cell_type": "code",
   "execution_count": null,
   "metadata": {},
   "outputs": [],
   "source": []
  },
  {
   "cell_type": "code",
   "execution_count": null,
   "metadata": {},
   "outputs": [],
   "source": []
  }
 ],
 "metadata": {
  "kernelspec": {
   "display_name": "Python 3",
   "language": "python",
   "name": "python3"
  },
  "language_info": {
   "codemirror_mode": {
    "name": "ipython",
    "version": 3
   },
   "file_extension": ".py",
   "mimetype": "text/x-python",
   "name": "python",
   "nbconvert_exporter": "python",
   "pygments_lexer": "ipython3",
   "version": "3.8.5"
  },
  "notify_time": "30",
  "varInspector": {
   "cols": {
    "lenName": 16,
    "lenType": 16,
    "lenVar": 40
   },
   "kernels_config": {
    "python": {
     "delete_cmd_postfix": "",
     "delete_cmd_prefix": "del ",
     "library": "var_list.py",
     "varRefreshCmd": "print(var_dic_list())"
    },
    "r": {
     "delete_cmd_postfix": ") ",
     "delete_cmd_prefix": "rm(",
     "library": "var_list.r",
     "varRefreshCmd": "cat(var_dic_list()) "
    }
   },
   "oldHeight": 474.4,
   "position": {
    "height": "496.4px",
    "left": "1156px",
    "right": "20px",
    "top": "120px",
    "width": "360px"
   },
   "types_to_exclude": [
    "module",
    "function",
    "builtin_function_or_method",
    "instance",
    "_Feature"
   ],
   "varInspector_section_display": "block",
   "window_display": false
  }
 },
 "nbformat": 4,
 "nbformat_minor": 4
}
