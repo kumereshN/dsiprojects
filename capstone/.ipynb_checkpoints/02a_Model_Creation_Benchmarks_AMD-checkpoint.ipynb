{
 "cells": [
  {
   "cell_type": "markdown",
   "metadata": {},
   "source": [
    "# GA Capstone: Topic Modelling on AMD reddit comments"
   ]
  },
  {
   "cell_type": "markdown",
   "metadata": {},
   "source": [
    "## Contents\n",
    "- Data Extraction\n",
    "- Data Cleaning\n",
    "- [EDA](#EDA)\n",
    "- [Prepare data for LDA modeling](#Prepare-reddit-comments-for-LDA-modeling)\n",
    "- [Phrase modeling: Bigram and Trigram models](#Phrase-modeling:-Bigram-and-Trigram-models)\n",
    "- [LDA Model Training](#LDA-Model-Training)\n",
    "- [LDA Mallet Model](#LDA-Mallet-Model)\n",
    "- Model creation\n",
    "- Model Evaluation"
   ]
  },
  {
   "cell_type": "markdown",
   "metadata": {},
   "source": [
    "# Import the libraries"
   ]
  },
  {
   "cell_type": "code",
   "execution_count": 1,
   "metadata": {
    "ExecuteTime": {
     "end_time": "2021-01-26T08:55:22.630773Z",
     "start_time": "2021-01-26T08:55:19.033061Z"
    }
   },
   "outputs": [],
   "source": [
    "# Common imports\n",
    "import numpy as np\n",
    "import pandas as pd\n",
    "import matplotlib.pyplot as plt\n",
    "import matplotlib.colors as mcolors\n",
    "import seaborn as sns\n",
    "\n",
    "from pprint import pprint\n",
    "import os\n",
    "from collections import Counter\n",
    "\n",
    "# Bokeh package for TSNE\n",
    "from sklearn.manifold import TSNE\n",
    "from bokeh.plotting import figure, output_file, show\n",
    "from bokeh.models import Label, ColumnDataSource\n",
    "from bokeh.io import output_notebook\n",
    "\n",
    "import re\n",
    "# NLTK Library\n",
    "from nltk import FreqDist\n",
    "from nltk.tokenize import RegexpTokenizer\n",
    "from nltk.stem import WordNetLemmatizer\n",
    "from nltk.corpus import stopwords\n",
    "\n",
    "# Import PRAW package\n",
    "import praw\n",
    "from praw.models import MoreComments\n",
    "\n",
    "# Gensim library\n",
    "import gensim\n",
    "from gensim.utils import simple_preprocess, ClippedCorpus\n",
    "from gensim.models import LdaMulticore, CoherenceModel, Phrases\n",
    "from gensim.models.wrappers import LdaMallet\n",
    "from gensim.models.phrases import Phraser\n",
    "from gensim.parsing.preprocessing import STOPWORDS\n",
    "import gensim.corpora as corpora\n",
    "\n",
    "# pyLDAvis library\n",
    "import pyLDAvis.gensim\n",
    "import pickle \n",
    "import pyLDAvis\n",
    "\n",
    "# Detect non-english words\n",
    "from langdetect import detect, DetectorFactory\n",
    "DetectorFactory.seed = 0\n",
    "\n",
    "# Detect non-english words using spacy\n",
    "import spacy\n",
    "from spacy_langdetect import LanguageDetector\n",
    "nlp = spacy.load(\"en_core_web_sm\")\n",
    "nlp.add_pipe(LanguageDetector(), name='language_detector', last=True)\n",
    "\n",
    "\n",
    "# Import the wordcloud library\n",
    "from wordcloud import WordCloud\n",
    "\n",
    "# Removes depreciation warnings\n",
    "import warnings\n",
    "warnings.filterwarnings(\"ignore\", category=DeprecationWarning)\n",
    "\n",
    "%matplotlib inline"
   ]
  },
  {
   "cell_type": "code",
   "execution_count": 2,
   "metadata": {
    "ExecuteTime": {
     "end_time": "2021-01-26T08:55:22.646788Z",
     "start_time": "2021-01-26T08:55:22.631775Z"
    }
   },
   "outputs": [],
   "source": [
    "# Set the max rows and columns for Pandas\n",
    "pd.options.display.max_columns = 100\n",
    "pd.options.display.max_rows = 200"
   ]
  },
  {
   "cell_type": "code",
   "execution_count": 3,
   "metadata": {
    "ExecuteTime": {
     "end_time": "2021-01-26T08:55:22.662803Z",
     "start_time": "2021-01-26T08:55:22.647789Z"
    }
   },
   "outputs": [],
   "source": [
    "# Set the style use\n",
    "plt.style.use('ggplot')"
   ]
  },
  {
   "cell_type": "markdown",
   "metadata": {},
   "source": [
    "# Load the dataset"
   ]
  },
  {
   "cell_type": "code",
   "execution_count": 4,
   "metadata": {
    "ExecuteTime": {
     "end_time": "2021-01-26T08:55:22.710393Z",
     "start_time": "2021-01-26T08:55:22.663804Z"
    }
   },
   "outputs": [
    {
     "data": {
      "text/html": [
       "<div>\n",
       "<style scoped>\n",
       "    .dataframe tbody tr th:only-of-type {\n",
       "        vertical-align: middle;\n",
       "    }\n",
       "\n",
       "    .dataframe tbody tr th {\n",
       "        vertical-align: top;\n",
       "    }\n",
       "\n",
       "    .dataframe thead th {\n",
       "        text-align: right;\n",
       "    }\n",
       "</style>\n",
       "<table border=\"1\" class=\"dataframe\">\n",
       "  <thead>\n",
       "    <tr style=\"text-align: right;\">\n",
       "      <th></th>\n",
       "      <th>Reddit comments</th>\n",
       "      <th>tag</th>\n",
       "    </tr>\n",
       "  </thead>\n",
       "  <tbody>\n",
       "    <tr>\n",
       "      <th>0</th>\n",
       "      <td>pre order time releasing 17th</td>\n",
       "      <td>nvidia</td>\n",
       "    </tr>\n",
       "    <tr>\n",
       "      <th>1</th>\n",
       "      <td>going hard grab 3080 17th</td>\n",
       "      <td>nvidia</td>\n",
       "    </tr>\n",
       "    <tr>\n",
       "      <th>2</th>\n",
       "      <td>uk price 3090 1399 3080 649 3070 469 scan aib ...</td>\n",
       "      <td>nvidia</td>\n",
       "    </tr>\n",
       "    <tr>\n",
       "      <th>3</th>\n",
       "      <td>talking spatula jensen pot</td>\n",
       "      <td>nvidia</td>\n",
       "    </tr>\n",
       "    <tr>\n",
       "      <th>4</th>\n",
       "      <td>10k core completely insane</td>\n",
       "      <td>nvidia</td>\n",
       "    </tr>\n",
       "    <tr>\n",
       "      <th>...</th>\n",
       "      <td>...</td>\n",
       "      <td>...</td>\n",
       "    </tr>\n",
       "    <tr>\n",
       "      <th>25511</th>\n",
       "      <td>motherboard say pcie 0 compatible</td>\n",
       "      <td>nvidia</td>\n",
       "    </tr>\n",
       "    <tr>\n",
       "      <th>25512</th>\n",
       "      <td>thanks understanding know course 3000s dvi por...</td>\n",
       "      <td>nvidia</td>\n",
       "    </tr>\n",
       "    <tr>\n",
       "      <th>25513</th>\n",
       "      <td>buy 1400 gpu</td>\n",
       "      <td>nvidia</td>\n",
       "    </tr>\n",
       "    <tr>\n",
       "      <th>25514</th>\n",
       "      <td>know ill wait 3070 3060</td>\n",
       "      <td>nvidia</td>\n",
       "    </tr>\n",
       "    <tr>\n",
       "      <th>25515</th>\n",
       "      <td>generational compatibility compatible size pci...</td>\n",
       "      <td>nvidia</td>\n",
       "    </tr>\n",
       "  </tbody>\n",
       "</table>\n",
       "<p>25516 rows × 2 columns</p>\n",
       "</div>"
      ],
      "text/plain": [
       "                                         Reddit comments     tag\n",
       "0                          pre order time releasing 17th  nvidia\n",
       "1                              going hard grab 3080 17th  nvidia\n",
       "2      uk price 3090 1399 3080 649 3070 469 scan aib ...  nvidia\n",
       "3                             talking spatula jensen pot  nvidia\n",
       "4                             10k core completely insane  nvidia\n",
       "...                                                  ...     ...\n",
       "25511                  motherboard say pcie 0 compatible  nvidia\n",
       "25512  thanks understanding know course 3000s dvi por...  nvidia\n",
       "25513                                       buy 1400 gpu  nvidia\n",
       "25514                            know ill wait 3070 3060  nvidia\n",
       "25515  generational compatibility compatible size pci...  nvidia\n",
       "\n",
       "[25516 rows x 2 columns]"
      ]
     },
     "execution_count": 4,
     "metadata": {},
     "output_type": "execute_result"
    }
   ],
   "source": [
    "# Read the existing csv file\n",
    "GPU_df = pd.read_csv('./reddit dataset/cleaned_combined_df.csv')\n",
    "GPU_df"
   ]
  },
  {
   "cell_type": "code",
   "execution_count": 5,
   "metadata": {
    "ExecuteTime": {
     "end_time": "2021-01-26T08:55:22.726407Z",
     "start_time": "2021-01-26T08:55:22.711395Z"
    }
   },
   "outputs": [
    {
     "data": {
      "text/html": [
       "<div>\n",
       "<style scoped>\n",
       "    .dataframe tbody tr th:only-of-type {\n",
       "        vertical-align: middle;\n",
       "    }\n",
       "\n",
       "    .dataframe tbody tr th {\n",
       "        vertical-align: top;\n",
       "    }\n",
       "\n",
       "    .dataframe thead th {\n",
       "        text-align: right;\n",
       "    }\n",
       "</style>\n",
       "<table border=\"1\" class=\"dataframe\">\n",
       "  <thead>\n",
       "    <tr style=\"text-align: right;\">\n",
       "      <th></th>\n",
       "      <th>Reddit comments</th>\n",
       "      <th>tag</th>\n",
       "    </tr>\n",
       "  </thead>\n",
       "  <tbody>\n",
       "    <tr>\n",
       "      <th>4698</th>\n",
       "      <td>sound samsung 8nm cheap</td>\n",
       "      <td>amd</td>\n",
       "    </tr>\n",
       "    <tr>\n",
       "      <th>4699</th>\n",
       "      <td>ethic mongol invasion tech</td>\n",
       "      <td>amd</td>\n",
       "    </tr>\n",
       "    <tr>\n",
       "      <th>4700</th>\n",
       "      <td>nvidia software ai learning big selling point</td>\n",
       "      <td>amd</td>\n",
       "    </tr>\n",
       "    <tr>\n",
       "      <th>4701</th>\n",
       "      <td>excited amd guy compete going nvidia brand loy...</td>\n",
       "      <td>amd</td>\n",
       "    </tr>\n",
       "    <tr>\n",
       "      <th>4702</th>\n",
       "      <td>think nvidia actualy competing new console pri...</td>\n",
       "      <td>amd</td>\n",
       "    </tr>\n",
       "    <tr>\n",
       "      <th>...</th>\n",
       "      <td>...</td>\n",
       "      <td>...</td>\n",
       "    </tr>\n",
       "    <tr>\n",
       "      <th>19219</th>\n",
       "      <td>dude understand example confused said looked r...</td>\n",
       "      <td>amd</td>\n",
       "    </tr>\n",
       "    <tr>\n",
       "      <th>19220</th>\n",
       "      <td>know example thought looked</td>\n",
       "      <td>amd</td>\n",
       "    </tr>\n",
       "    <tr>\n",
       "      <th>19221</th>\n",
       "      <td>probably score higher english proficiency test...</td>\n",
       "      <td>amd</td>\n",
       "    </tr>\n",
       "    <tr>\n",
       "      <th>19222</th>\n",
       "      <td>prove know concept cost opportunity efficiency...</td>\n",
       "      <td>amd</td>\n",
       "    </tr>\n",
       "    <tr>\n",
       "      <th>19223</th>\n",
       "      <td>cost opportunity perfectly ok way concept lmao...</td>\n",
       "      <td>amd</td>\n",
       "    </tr>\n",
       "  </tbody>\n",
       "</table>\n",
       "<p>14526 rows × 2 columns</p>\n",
       "</div>"
      ],
      "text/plain": [
       "                                         Reddit comments  tag\n",
       "4698                             sound samsung 8nm cheap  amd\n",
       "4699                          ethic mongol invasion tech  amd\n",
       "4700       nvidia software ai learning big selling point  amd\n",
       "4701   excited amd guy compete going nvidia brand loy...  amd\n",
       "4702   think nvidia actualy competing new console pri...  amd\n",
       "...                                                  ...  ...\n",
       "19219  dude understand example confused said looked r...  amd\n",
       "19220                        know example thought looked  amd\n",
       "19221  probably score higher english proficiency test...  amd\n",
       "19222  prove know concept cost opportunity efficiency...  amd\n",
       "19223  cost opportunity perfectly ok way concept lmao...  amd\n",
       "\n",
       "[14526 rows x 2 columns]"
      ]
     },
     "execution_count": 5,
     "metadata": {},
     "output_type": "execute_result"
    }
   ],
   "source": [
    "amd_df = GPU_df[GPU_df['tag'] == 'amd']\n",
    "amd_df"
   ]
  },
  {
   "cell_type": "markdown",
   "metadata": {},
   "source": [
    "# Prepare comments for modeling"
   ]
  },
  {
   "cell_type": "code",
   "execution_count": 6,
   "metadata": {
    "ExecuteTime": {
     "end_time": "2021-01-26T08:55:22.758437Z",
     "start_time": "2021-01-26T08:55:22.727409Z"
    }
   },
   "outputs": [],
   "source": [
    "# Creates the bag of words for each document\n",
    "data = [token.split() for token in amd_df['Reddit comments'].tolist()]"
   ]
  },
  {
   "cell_type": "code",
   "execution_count": 7,
   "metadata": {
    "ExecuteTime": {
     "end_time": "2021-01-26T08:55:22.774451Z",
     "start_time": "2021-01-26T08:55:22.759438Z"
    },
    "scrolled": true
   },
   "outputs": [
    {
     "name": "stdout",
     "output_type": "stream",
     "text": [
      "[['sound', 'samsung', '8nm', 'cheap'], ['ethic', 'mongol', 'invasion', 'tech'], ['nvidia', 'software', 'ai', 'learning', 'big', 'selling', 'point']]\n"
     ]
    }
   ],
   "source": [
    "# Prints the bag of words from the first 3 documents\n",
    "print(data[:3])"
   ]
  },
  {
   "cell_type": "markdown",
   "metadata": {},
   "source": [
    "# Phrase modeling: Bigram and Trigram models"
   ]
  },
  {
   "cell_type": "code",
   "execution_count": 8,
   "metadata": {
    "ExecuteTime": {
     "end_time": "2021-01-26T08:55:25.878103Z",
     "start_time": "2021-01-26T08:55:22.776453Z"
    }
   },
   "outputs": [],
   "source": [
    "# Build the bigram and trigram models\n",
    "bigram = Phrases(data, min_count=5, threshold=100) # higher threshold fewer phrases.\n",
    "trigram = Phrases(bigram[data], threshold=100)\n",
    "\n",
    "# Faster way to get a sentence clubbed as a trigram/bigram, this reduces memory, making the model smaller and faster\n",
    "bigram_mod = Phraser(bigram)\n",
    "trigram_mod = Phraser(trigram)"
   ]
  },
  {
   "cell_type": "code",
   "execution_count": 9,
   "metadata": {
    "ExecuteTime": {
     "end_time": "2021-01-26T08:55:27.171279Z",
     "start_time": "2021-01-26T08:55:25.879114Z"
    }
   },
   "outputs": [],
   "source": [
    "def make_bigrams(texts):\n",
    "    return [bigram_mod[doc] for doc in texts]\n",
    "\n",
    "def make_trigrams(texts):\n",
    "    return [trigram_mod[bigram_mod[doc]] for doc in texts]\n",
    "\n",
    "# Form Bigrams\n",
    "data_bigrams = make_bigrams(data)\n",
    "\n",
    "# Form Trigrams\n",
    "data_trigrams = make_trigrams(data)"
   ]
  },
  {
   "cell_type": "code",
   "execution_count": 10,
   "metadata": {
    "ExecuteTime": {
     "end_time": "2021-01-26T08:55:27.187293Z",
     "start_time": "2021-01-26T08:55:27.172280Z"
    }
   },
   "outputs": [],
   "source": [
    "# Create a dictionary to hold the different n-grams dataset\n",
    "phrase_list = {'unigram': data, 'bigrams': data_bigrams, 'trigrams': data_trigrams}\n",
    "# phrase_list"
   ]
  },
  {
   "cell_type": "markdown",
   "metadata": {},
   "source": [
    "# LDA on AMD comments with all the ngrams"
   ]
  },
  {
   "cell_type": "code",
   "execution_count": 11,
   "metadata": {
    "ExecuteTime": {
     "end_time": "2021-01-26T08:55:27.203308Z",
     "start_time": "2021-01-26T08:55:27.188294Z"
    }
   },
   "outputs": [],
   "source": [
    "# Creating a function to create the LDA model and compute the coherence score\n",
    "def lda_calculate_coherence_values(ngram_data, num_topics):\n",
    "    \"\"\"\n",
    "    This function calculates the coherence score and the perplexity scores for each ngram and stores\n",
    "    the model, corpus and the id2word in their respective dictionaries\n",
    "    \"\"\"\n",
    "    model_dict = {}\n",
    "    score_dict = {}\n",
    "    for key, value in ngram_data.items():\n",
    "        ngram_id2word = corpora.Dictionary(value)\n",
    "        ngram_corpus = [ngram_id2word.doc2bow(text) for text in value]\n",
    "\n",
    "        ngram_lda_model = LdaMulticore(corpus=ngram_corpus, \n",
    "                             id2word=ngram_id2word, \n",
    "                             num_topics=num_topics,\n",
    "                             chunksize=100,\n",
    "                             passes=20, \n",
    "                             random_state=42,\n",
    "                            per_word_topics=True)\n",
    "\n",
    "\n",
    "        # Compute Perplexity score\n",
    "        ngram_perplexity = ngram_lda_model.log_perplexity(ngram_corpus)  # a measure of how good the model is. lower the better.\n",
    "\n",
    "        # Compute Coherence Score\n",
    "        coherence_model_lda = CoherenceModel(model=ngram_lda_model, texts=value, dictionary=ngram_id2word, coherence='c_v')\n",
    "        ngram_coherence_lda = coherence_model_lda.get_coherence()\n",
    "        \n",
    "        # Prints out the topics for each ngram\n",
    "        print(f'*********Displaying {num_topics} topics for {key}******************')\n",
    "        pprint(ngram_lda_model.print_topics())\n",
    "        \n",
    "        # Store the perplexity and coherence scores in score_dict\n",
    "        score_dict[key] = []\n",
    "        score_dict[key].append(ngram_perplexity)\n",
    "        score_dict[key].append(ngram_coherence_lda)\n",
    "        \n",
    "        # Stores the ngram's model, corpus, id2word in model_dict\n",
    "        model_dict[key] = []\n",
    "        model_dict[key].append(ngram_lda_model)\n",
    "        model_dict[key].append(ngram_corpus)\n",
    "        model_dict[key].append(ngram_id2word)\n",
    "\n",
    "    return score_dict, model_dict, num_topics"
   ]
  },
  {
   "cell_type": "code",
   "execution_count": 12,
   "metadata": {
    "ExecuteTime": {
     "end_time": "2021-01-26T08:57:27.173475Z",
     "start_time": "2021-01-26T08:55:27.204309Z"
    }
   },
   "outputs": [
    {
     "name": "stdout",
     "output_type": "stream",
     "text": [
      "*********Displaying 5 topics for unigram******************\n",
      "[(0,\n",
      "  '0.016*\"3090\" + 0.015*\"6900xt\" + 0.013*\"3080\" + 0.012*\"6800xt\" + '\n",
      "  '0.011*\"power\" + 0.009*\"vram\" + 0.009*\"good\" + 0.008*\"gaming\" + '\n",
      "  '0.008*\"people\" + 0.007*\"think\"'),\n",
      " (1,\n",
      "  '0.028*\"game\" + 0.028*\"dl\" + 0.018*\"amd\" + 0.016*\"ray\" + 0.015*\"tracing\" + '\n",
      "  '0.012*\"nvidia\" + 0.009*\"rt\" + 0.009*\"driver\" + 0.008*\"feature\" + '\n",
      "  '0.008*\"support\"'),\n",
      " (2,\n",
      "  '0.030*\"price\" + 0.026*\"6800\" + 0.024*\"3070\" + 0.014*\"amd\" + 0.012*\"xt\" + '\n",
      "  '0.009*\"card\" + 0.008*\"buy\" + 0.008*\"end\" + 0.008*\"nvidia\" + 0.008*\"vram\"'),\n",
      " (3,\n",
      "  '0.037*\"nvidia\" + 0.033*\"amd\" + 0.020*\"3080\" + 0.014*\"rtx\" + 0.011*\"3090\" + '\n",
      "  '0.010*\"better\" + 0.010*\"card\" + 0.007*\"3070\" + 0.007*\"2080\" + 0.007*\"ti\"'),\n",
      " (4,\n",
      "  '0.016*\"series\" + 0.016*\"cpu\" + 0.015*\"amd\" + 0.012*\"stock\" + 0.011*\"order\" '\n",
      "  '+ 0.011*\"launch\" + 0.009*\"card\" + 0.008*\"rage\" + 0.008*\"mode\" + '\n",
      "  '0.007*\"5000\"')]\n",
      "*********Displaying 5 topics for bigrams******************\n",
      "[(0,\n",
      "  '0.011*\"4k\" + 0.011*\"cpu\" + 0.010*\"gpu\" + 0.009*\"monitor\" + 0.009*\"game\" + '\n",
      "  '0.008*\"year\" + 0.007*\"time\" + 0.007*\"6800xt\" + 0.007*\"good\" + '\n",
      "  '0.007*\"people\"'),\n",
      " (1,\n",
      "  '0.037*\"6800\" + 0.036*\"3070\" + 0.021*\"3080\" + 0.019*\"vram\" + 0.016*\"3090\" + '\n",
      "  '0.015*\"6800xt\" + 0.013*\"better\" + 0.011*\"xt\" + 0.010*\"price\" + '\n",
      "  '0.009*\"faster\"'),\n",
      " (2,\n",
      "  '0.033*\"dl\" + 0.024*\"game\" + 0.021*\"amd\" + 0.016*\"ray_tracing\" + '\n",
      "  '0.015*\"nvidia\" + 0.012*\"rt\" + 0.011*\"feature\" + 0.010*\"support\" + '\n",
      "  '0.008*\"use\" + 0.007*\"gpu\"'),\n",
      " (3,\n",
      "  '0.036*\"amd\" + 0.031*\"nvidia\" + 0.024*\"price\" + 0.014*\"card\" + '\n",
      "  '0.011*\"driver\" + 0.010*\"buy\" + 0.009*\"3080\" + 0.009*\"people\" + '\n",
      "  '0.007*\"going\" + 0.007*\"think\"'),\n",
      " (4,\n",
      "  '0.014*\"card\" + 0.013*\"amd\" + 0.011*\"order\" + 0.010*\"stock\" + '\n",
      "  '0.008*\"rage_mode\" + 0.008*\"know\" + 0.006*\"reference\" + 0.006*\"cc\" + '\n",
      "  '0.006*\"launch\" + 0.006*\"people\"')]\n",
      "*********Displaying 5 topics for trigrams******************\n",
      "[(0,\n",
      "  '0.013*\"card\" + 0.011*\"amd\" + 0.011*\"time\" + 0.010*\"people\" + 0.010*\"stock\" '\n",
      "  '+ 0.009*\"buy\" + 0.008*\"launch\" + 0.008*\"day\" + 0.007*\"month\" + '\n",
      "  '0.007*\"year\"'),\n",
      " (1,\n",
      "  '0.018*\"game\" + 0.016*\"4k\" + 0.013*\"gpu\" + 0.012*\"work\" + 0.012*\"monitor\" + '\n",
      "  '0.012*\"cpu\" + 0.008*\"gaming\" + 0.008*\"fps\" + 0.008*\"1080p\" + 0.007*\"use\"'),\n",
      " (2,\n",
      "  '0.038*\"amd\" + 0.031*\"nvidia\" + 0.027*\"dl\" + 0.017*\"game\" + '\n",
      "  '0.014*\"ray_tracing\" + 0.009*\"driver\" + 0.009*\"rt\" + 0.009*\"feature\" + '\n",
      "  '0.008*\"card\" + 0.008*\"better\"'),\n",
      " (3,\n",
      "  '0.010*\"power\" + 0.009*\"psu\" + 0.008*\"comment\" + 0.008*\"thanks\" + '\n",
      "  '0.007*\"efficiency\" + 0.007*\"yes\" + 0.006*\"think\" + 0.006*\"read\" + '\n",
      "  '0.006*\"load\" + 0.005*\"company\"'),\n",
      " (4,\n",
      "  '0.028*\"price\" + 0.026*\"3080\" + 0.025*\"3070\" + 0.024*\"6800\" + 0.016*\"3090\" + '\n",
      "  '0.016*\"6800xt\" + 0.012*\"vram\" + 0.011*\"better\" + 0.010*\"6900xt\" + '\n",
      "  '0.009*\"nvidia\"')]\n"
     ]
    }
   ],
   "source": [
    "# Calculate using a dictionary\n",
    "score_dict, model_dict, num_topics = lda_calculate_coherence_values(phrase_list, 5)"
   ]
  },
  {
   "cell_type": "markdown",
   "metadata": {},
   "source": [
    "## Intrepreting the topics for unigram"
   ]
  },
  {
   "cell_type": "markdown",
   "metadata": {},
   "source": [
    "Scored between 1 ~ 5 with regards to their intrepretability, >= 3 will be considered intrepretable.\n",
    "* () means the score\n",
    "\n",
    "Topic 0 (4)\n",
    "* Talks about ray tracing and dlss (Deep learning super sampling) features which seem to perform better in Nvidia\n",
    "\n",
    "Topic 1 (2)\n",
    "* Talks about the PSU (Power supply unit)\n",
    "\n",
    "Topic 2 (4)\n",
    "* With regards to all the GPUs from AMD and Nvidia price, performance and vram (Video ram)\n",
    "\n",
    "Topic 3 (3)\n",
    "* Nvidia's GPUS price/performance is better than AMD\n",
    "\n",
    "Topic 4 (1)\n",
    "* Some issue with driver\n",
    "\n",
    "**2 topics were intrepretable.**"
   ]
  },
  {
   "cell_type": "markdown",
   "metadata": {},
   "source": [
    "## Interpreting the topics for the bigrams \n"
   ]
  },
  {
   "cell_type": "markdown",
   "metadata": {},
   "source": [
    "Scored between 1 ~ 5 with regards to their intrepretability, >= 3 will be considered intrepretable.\n",
    "* () is the score\n",
    "\n",
    "Topic 0 (4)\n",
    "* Talks 3070 and 3080 price, performance, vram, better than 6800 and 6800xt.\n",
    "\n",
    "Topic 1 (3)\n",
    "* Talks about dlss and ray_tracing features\n",
    "\n",
    "Topic 2 (2)\n",
    "* Driver issue and something to do with the gaming consoles\n",
    "\n",
    "Topic 3 (2)\n",
    "* Related to power supply unit\n",
    "\n",
    "Topic 4 (3)\n",
    "* Stock related issue during the launch of the GPUs\n",
    "\n",
    "**3 topics were intrepretable.**"
   ]
  },
  {
   "cell_type": "markdown",
   "metadata": {},
   "source": [
    "## Interpreting the topics for the trigrams \n"
   ]
  },
  {
   "cell_type": "markdown",
   "metadata": {},
   "source": [
    "Scored between 1 ~ 5 with regards to their intrepretability, >= 3 will be considered intrepretable.\n",
    "* () is the score\n",
    "\n",
    "Topic 0 (3)\n",
    "* Talks about the dlss and ray_tracing features as well as the performance in 4k.\n",
    "\n",
    "Topic 1 (1)\n",
    "* Something to do with tax\n",
    "\n",
    "Topic 2 (4)\n",
    "* Have to do with stocks availability during launch\n",
    "\n",
    "Topic 3 (2)\n",
    "* Driver related issue \n",
    "\n",
    "Topic 4 (2)\n",
    "* Different models of GPUs\n",
    "\n",
    "**2 topics were intrepretable.**"
   ]
  },
  {
   "cell_type": "code",
   "execution_count": 13,
   "metadata": {
    "ExecuteTime": {
     "end_time": "2021-01-26T08:57:27.189490Z",
     "start_time": "2021-01-26T08:57:27.174476Z"
    }
   },
   "outputs": [],
   "source": [
    "topics_interpretable = [2,3,2]"
   ]
  },
  {
   "cell_type": "code",
   "execution_count": 14,
   "metadata": {
    "ExecuteTime": {
     "end_time": "2021-01-26T08:57:27.204503Z",
     "start_time": "2021-01-26T08:57:27.190491Z"
    }
   },
   "outputs": [
    {
     "data": {
      "text/html": [
       "<div>\n",
       "<style scoped>\n",
       "    .dataframe tbody tr th:only-of-type {\n",
       "        vertical-align: middle;\n",
       "    }\n",
       "\n",
       "    .dataframe tbody tr th {\n",
       "        vertical-align: top;\n",
       "    }\n",
       "\n",
       "    .dataframe thead th {\n",
       "        text-align: right;\n",
       "    }\n",
       "</style>\n",
       "<table border=\"1\" class=\"dataframe\">\n",
       "  <thead>\n",
       "    <tr style=\"text-align: right;\">\n",
       "      <th></th>\n",
       "      <th>Perplexity score</th>\n",
       "      <th>Coherence score</th>\n",
       "      <th>no of topics intrepretable</th>\n",
       "    </tr>\n",
       "  </thead>\n",
       "  <tbody>\n",
       "    <tr>\n",
       "      <th>unigram</th>\n",
       "      <td>-7.678092</td>\n",
       "      <td>0.529254</td>\n",
       "      <td>2</td>\n",
       "    </tr>\n",
       "    <tr>\n",
       "      <th>bigrams</th>\n",
       "      <td>-7.722717</td>\n",
       "      <td>0.585108</td>\n",
       "      <td>3</td>\n",
       "    </tr>\n",
       "    <tr>\n",
       "      <th>trigrams</th>\n",
       "      <td>-7.759911</td>\n",
       "      <td>0.590325</td>\n",
       "      <td>2</td>\n",
       "    </tr>\n",
       "  </tbody>\n",
       "</table>\n",
       "</div>"
      ],
      "text/plain": [
       "          Perplexity score  Coherence score  no of topics intrepretable\n",
       "unigram          -7.678092         0.529254                           2\n",
       "bigrams          -7.722717         0.585108                           3\n",
       "trigrams         -7.759911         0.590325                           2"
      ]
     },
     "execution_count": 14,
     "metadata": {},
     "output_type": "execute_result"
    }
   ],
   "source": [
    "score_df = pd.DataFrame(score_dict).T\n",
    "score_df.columns = ['Perplexity score', 'Coherence score']\n",
    "score_df['no of topics intrepretable'] = topics_interpretable\n",
    "score_df"
   ]
  },
  {
   "cell_type": "markdown",
   "metadata": {},
   "source": [
    "## Summary\n",
    "\n",
    "Using Coherence score as the main metric and no of topic intrepretable as the secondary metric to select the best ngram, between unigrams and bigrams, I'll be choosing **bigram** as the it has the larger number of intrepretable topics compared to the other n_grams and it has the **second highest coherence score**."
   ]
  },
  {
   "cell_type": "markdown",
   "metadata": {},
   "source": [
    "## Visualizing the topics-keywords"
   ]
  },
  {
   "cell_type": "code",
   "execution_count": 15,
   "metadata": {
    "ExecuteTime": {
     "end_time": "2021-01-26T08:57:27.220518Z",
     "start_time": "2021-01-26T08:57:27.205504Z"
    }
   },
   "outputs": [],
   "source": [
    "# Obtaining the lda bigram model, corpus and dictionary\n",
    "lda_bigram_model, bigram_corpus, bigram_id2word = model_dict['bigrams']"
   ]
  },
  {
   "cell_type": "code",
   "execution_count": 16,
   "metadata": {
    "ExecuteTime": {
     "end_time": "2021-01-26T08:57:31.811803Z",
     "start_time": "2021-01-26T08:57:27.221518Z"
    }
   },
   "outputs": [
    {
     "data": {
      "text/html": [
       "\n",
       "<link rel=\"stylesheet\" type=\"text/css\" href=\"https://cdn.rawgit.com/bmabey/pyLDAvis/files/ldavis.v1.0.0.css\">\n",
       "\n",
       "\n",
       "<div id=\"ldavis_el1699620702950466242402435426\"></div>\n",
       "<script type=\"text/javascript\">\n",
       "\n",
       "var ldavis_el1699620702950466242402435426_data = {\"mdsDat\": {\"x\": [-0.03518548659106891, -0.029462824881552135, -0.19197601352051696, 0.005734193436050373, 0.25089013155708767], \"y\": [-0.029458491395163492, -0.16432678902656514, 0.16809465746472532, -0.0813628087133897, 0.10705343167039291], \"topics\": [1, 2, 3, 4, 5], \"cluster\": [1, 1, 1, 1, 1], \"Freq\": [27.16982761191067, 22.625835537423516, 19.026755369712994, 17.34468043709923, 13.83290104385359]}, \"tinfo\": {\"Term\": [\"6800\", \"dl\", \"3070\", \"nvidia\", \"price\", \"game\", \"vram\", \"ray_tracing\", \"amd\", \"3080\", \"3090\", \"rt\", \"xt\", \"support\", \"6800xt\", \"4k\", \"order\", \"card\", \"driver\", \"feature\", \"faster\", \"monitor\", \"memory\", \"stock\", \"2080ti\", \"rage_mode\", \"cpu\", \"buy\", \"1440p\", \"16gb\", \"msrp\", \"consumer\", \"usd\", \"fanboy\", \"overpriced\", \"3060\", \"649\", \"3080ti\", \"150\", \"flagship\", \"999\", \"ah\", \"fanboys\", \"699\", \"sounded\", \"appears\", \"market_share\", \"chipset\", \"scared\", \"excited\", \"binned\", \"trouble\", \"quadro\", \"enthusiast\", \"trolling\", \"november\", \"sadly\", \"stem\", \"stability\", \"1500\", \"sell\", \"knew\", \"competitive\", \"fixed\", \"high_end\", \"terrible\", \"mid_range\", \"market\", \"driver\", \"price\", \"competition\", \"seriously\", \"pricing\", \"nvidia\", \"compete\", \"insane\", \"tier\", \"buy\", \"amd\", \"situation\", \"product\", \"card\", \"issue\", \"release\", \"generation\", \"5700xt\", \"intel\", \"offer\", \"700\", \"people\", \"bad\", \"end\", \"going\", \"3080\", \"year\", \"best\", \"good\", \"3090\", \"want\", \"think\", \"right\", \"gpu\", \"time\", \"better\", \"launch\", \"need\", \"stock\", \"dl\", \"technology\", \"super_resolution\", \"implementation\", \"rt\", \"ai\", \"solution\", \"supported\", \"ray_tracing\", \"developer\", \"dxr\", \"implemented\", \"dedicated\", \"ray\", \"tensor_core\", \"proprietary\", \"api\", \"upscaling\", \"demanding\", \"lighting\", \"newer\", \"devs\", \"microsoft\", \"io\", \"implement\", \"aaa\", \"dx12\", \"optimized\", \"supporting\", \"gimmick\", \"support\", \"0\", \"raytracing\", \"feature\", \"hardware\", \"image\", \"game\", \"tech\", \"working\", \"software\", \"mentioned\", \"console\", \"title\", \"use\", \"work\", \"amd\", \"rtx\", \"nvidia\", \"ps5\", \"architecture\", \"know\", \"gpu\", \"new\", \"future\", \"look\", \"better\", \"good\", \"think\", \"benchmark\", \"said\", \"lot\", \"need\", \"going\", \"cpu\", \"card\", \"time\", \"faster\", \"6800\", \"80\", \"vram\", \"16gb\", \"haha\", \"percent\", \"gddr6\", \"gddr6x\", \"18\", \"24gb\", \"bench\", \"xt\", \"encoding\", \"rage\", \"3070ti\", \"clock\", \"rx6800\", \"context\", \"power_consumption\", \"8gb\", \"usb_c\", \"insult\", \"january\", \"70\", \"marketed\", \"10gb\", \"double\", \"die_size\", \"tflops\", \"2080_ti\", \"gb\", \"3070\", \"trade_blow\", \"cache\", \"6900_xt\", \"2080ti\", \"rx\", \"slower\", \"ram\", \"3090\", \"memory\", \"slightly\", \"6800xt\", \"3080\", \"15\", \"extra\", \"v\", \"power\", \"compared\", \"50\", \"6900xt\", \"20\", \"better\", \"10\", \"benchmark\", \"difference\", \"rtx\", \"price\", \"500\", \"4k\", \"bit\", \"think\", \"gaming\", \"probably\", \"monitor\", \"1080p\", \"psu\", \"freesync\", \"gsync\", \"thank\", \"5600x\", \"date\", \"5900x\", \"3600\", \"144hz\", \"ultra\", \"ya\", \"refresh_rate\", \"5800x\", \"6700xt\", \"psus\", \"buddy\", \"bro\", \"1440p_144hz\", \"gold\", \"144\", \"dunno\", \"ill\", \"middle\", \"zen3\", \"3700x\", \"ultrawide\", \"overkill\", \"2k\", \"component\", \"bottleneck\", \"upgrade\", \"enjoy\", \"load\", \"1440p\", \"setting\", \"build\", \"4k\", \"luck\", \"fps\", \"cpu\", \"high\", \"run\", \"play\", \"fine\", \"year\", \"comment\", \"gpu\", \"getting\", \"bought\", \"pc\", \"month\", \"want\", \"time\", \"game\", \"gaming\", \"money\", \"6800xt\", \"need\", \"good\", \"new\", \"people\", \"wait\", \"buy\", \"going\", \"3080\", \"think\", \"cc\", \"reference\", \"smart_access\", \"store\", \"6700\", \"rage_mode\", \"link\", \"order\", \"tomorrow\", \"confirmation\", \"email\", \"page\", \"newegg\", \"website\", \"samsung\", \"canada\", \"amazon\", \"site\", \"online\", \"sapphire\", \"paypal\", \"x570\", \"morning\", \"pre_order\", \"backorders\", \"canada_computer\", \"b550\", \"25th\", \"received\", \"phone\", \"shipping\", \"cancelled\", \"ordered\", \"location\", \"told\", \"backorder\", \"motherboard\", \"partner\", \"ryzen_5000\", \"process\", \"aib\", \"week\", \"stock\", \"card\", \"day\", \"line\", \"launch\", \"know\", \"amd\", \"said\", \"board\", \"memory\", \"thanks\", \"guy\", \"people\", \"sure\", \"available\", \"yes\", \"cpu\", \"probably\", \"waiting\", \"think\", \"time\", \"wait\", \"series\"], \"Freq\": [1326.0, 1422.0, 1425.0, 2338.0, 1607.0, 1334.0, 687.0, 711.0, 3241.0, 1426.0, 891.0, 507.0, 410.0, 442.0, 890.0, 585.0, 290.0, 1340.0, 657.0, 539.0, 330.0, 302.0, 454.0, 524.0, 352.0, 219.0, 662.0, 733.0, 314.0, 220.0, 209.69509490579432, 122.61431223368153, 67.53002260560999, 62.781497105820414, 59.41125923197988, 66.01750095864578, 56.84640153525251, 56.52092295137977, 52.03502194301793, 50.41607103835677, 95.168394412766, 44.958518086708146, 37.091012420879665, 35.40816863685796, 31.78603541367976, 30.93762790418365, 30.10504468182149, 30.07060605163062, 28.271687559070948, 49.42191304310763, 27.295200915874723, 26.091785732780316, 24.98499868818564, 24.925506433510474, 25.09471643990769, 24.924430226317007, 24.06541781005359, 23.356264626060664, 23.315879165300068, 51.72126039657278, 266.0027581964007, 36.667534619523586, 130.45511179555203, 45.73591987041347, 165.20906620367288, 38.667397010982064, 67.11324453081572, 228.79402158113163, 547.2203978356247, 1233.177703507347, 176.91582951975826, 62.206116925018485, 233.8246480786095, 1600.9479790095047, 176.16620256314883, 56.29027633266578, 93.26424111778113, 511.00738787365583, 1849.78609762697, 85.6659069952082, 194.84369907473874, 719.0678213453, 291.7447242029159, 227.31725575814167, 165.03696884863004, 196.1484393896195, 184.62390384622, 104.30061267057174, 109.95581653666072, 458.55845574594474, 214.26115913036367, 192.59225566427725, 346.3477710949858, 486.0467572704627, 292.3350665076481, 194.97214941759597, 336.3495518098091, 323.52568842052966, 268.9739162901, 341.30143406801886, 236.2984337997052, 290.0007596337232, 264.9794183716053, 279.07959463902245, 205.68069538668163, 203.43784965927895, 196.37551162338497, 1419.4874827059768, 111.88655013722438, 103.70899395229675, 98.76160167786831, 503.40949159407825, 92.30403605291666, 78.28310399035058, 67.53161985029068, 703.5165349008693, 58.413525939638205, 57.773972850647176, 57.17189887299725, 53.214320106837775, 52.077970602517865, 56.232921738179634, 50.60134247763026, 48.55957103595524, 46.69555239438951, 46.02131729149816, 44.36572977544837, 45.33036442083686, 42.981236345049545, 56.81859206060644, 40.54900804992977, 40.12786289925148, 38.33220860984133, 37.36567183847484, 34.8423284681651, 37.54207096308472, 31.749042839380337, 430.15078731126283, 226.55204899030286, 261.24311730943106, 463.595656481124, 253.42835613017374, 55.718250823162336, 1027.024138143061, 152.09250739871288, 148.4030511137931, 163.51289171428152, 93.30921614641288, 284.01430253257627, 125.83925994616796, 335.54248144579367, 251.55357290148743, 906.4491950733285, 306.79609777952544, 659.8488280213425, 73.8007678062813, 76.46638172369262, 282.6841007136439, 309.40004093357663, 246.7871792568188, 108.17372986191691, 212.6053721366237, 277.10923123258016, 244.37501427738835, 260.7386027000944, 171.2695969174239, 170.0609915555072, 152.6373181604851, 173.6994120304379, 178.09389641966482, 164.747164558596, 170.5971966306791, 162.89101867435468, 329.9838847324941, 1321.9824336295744, 208.7091640785905, 681.7146168651581, 218.8514125999066, 74.08984652711439, 59.890852053997875, 56.75641876103677, 70.03591814143168, 47.5483569271988, 46.69927583057925, 45.57939392615676, 403.2626076422501, 38.06628678841498, 37.826437279839446, 34.47762368274022, 67.1338543898527, 27.644669458757956, 24.55148709473873, 64.72155658436611, 204.71996005028706, 23.232100964430476, 22.9497720345433, 25.752411760305463, 90.16429602574192, 21.87940717751661, 39.687049769551905, 129.73739788698936, 18.0434271744931, 17.058551550140145, 144.16781432716863, 48.21503416015137, 1302.0568743848644, 39.2531362018134, 65.39102622659604, 98.87990013157147, 298.1487083054629, 198.6423525358303, 85.28583961960815, 147.43429587505636, 566.9393839381554, 317.23667893678055, 131.0657964553482, 531.6815019847463, 762.1225870715737, 143.65552043055484, 187.8952832591425, 212.02017323387395, 213.36314599840108, 148.12567293241273, 222.68798169227466, 302.80262314036594, 135.7164492866209, 470.55108435842476, 187.142825393449, 257.5857686331061, 193.0042350220533, 268.59488832996647, 370.09120048390196, 195.5162293857937, 211.152949862565, 173.83222377278463, 240.20801032154876, 191.72215858236754, 188.5635327946161, 302.2120819084142, 170.5764574429229, 133.40140655070272, 82.41665612516168, 64.24083614129441, 62.266021305794645, 68.26955350051786, 58.47337450405537, 52.97381037093885, 51.87794977547034, 50.63212757902243, 51.832340197682974, 49.325548670221565, 43.16591652021354, 42.17299757885942, 70.62505332282909, 37.48736928908088, 35.851039210077474, 33.38600836701267, 30.446843163792547, 30.620465712672107, 29.94702212237351, 27.89108813207864, 26.41648992932457, 25.729202553662205, 25.146964741453857, 36.652121201902936, 22.913110207624104, 21.661176411839737, 21.054004879636764, 38.393036454542106, 57.74661399384185, 198.67314986712552, 48.55629362503445, 64.02706776150144, 222.43104248622078, 97.22635702233225, 101.59176655513222, 357.4166642585456, 77.29729156727707, 175.9435347919245, 345.44254670229515, 142.93910961425243, 149.23715286292915, 149.84039332576532, 123.6444044730637, 268.45590325738846, 109.39708537900022, 311.9906102696448, 175.63947603619332, 115.77018013772746, 152.7028692326212, 139.96011963974632, 216.44182802202562, 231.280913519383, 299.731697535309, 179.5667997073632, 139.55316891770025, 227.56492352583138, 196.87828895280106, 227.34378988529963, 196.27096644613042, 223.343478658827, 156.45224942742567, 166.14906046919813, 163.8396632805307, 177.31453584382484, 167.3003955817207, 165.03317128342456, 167.87624359212018, 149.60923179827319, 109.85157772858291, 118.53669535646792, 218.16048716438428, 97.1298378195896, 288.309925909722, 84.18194069043732, 80.60193090982087, 80.64052809983667, 74.07339088449658, 70.01210810210664, 79.99267325949236, 65.04823877973087, 64.4316774753763, 61.075160727264915, 61.59348239808374, 56.92603900730623, 56.206293776081104, 55.09589450255098, 55.43511204317167, 39.77234672929194, 44.78664357610552, 33.52398535845453, 32.96202465965701, 31.98498108576451, 31.508499963844514, 31.386831329956426, 30.435015235496152, 71.86965655080772, 34.81168723483329, 63.66918940744279, 54.7881229114014, 73.77920847934371, 40.734456830282255, 44.34868343746066, 71.79330958973237, 62.766432164357845, 61.3036773081151, 134.00550537052726, 118.64512840363601, 250.19197265157678, 370.6163516502773, 145.16108702099413, 99.92041282877074, 157.2033859197692, 205.18822216783454, 330.56374701148815, 141.4575979343312, 80.36322701187758, 127.01339669342252, 90.88823751078465, 85.85101462810717, 151.60754324180525, 121.08738983562979, 92.45880966373086, 102.48130072156496, 112.27226960469675, 106.2477304794841, 89.67756845614728, 109.77772425206238, 100.34603052369627, 94.77763446545295, 91.35363512434124], \"Total\": [1326.0, 1422.0, 1425.0, 2338.0, 1607.0, 1334.0, 687.0, 711.0, 3241.0, 1426.0, 891.0, 507.0, 410.0, 442.0, 890.0, 585.0, 290.0, 1340.0, 657.0, 539.0, 330.0, 302.0, 454.0, 524.0, 352.0, 219.0, 662.0, 733.0, 314.0, 220.0, 210.44126503520874, 123.7797258659852, 68.25409991292433, 63.50804203668939, 60.154280289006415, 66.84911327878088, 57.5702143447482, 57.24432345358465, 52.78103180494265, 51.16163844614005, 96.66306599729846, 45.70741604681916, 37.810187660901974, 36.12996593512656, 32.51381071021673, 31.674812113025983, 30.827578986273632, 30.811327478447172, 28.99319326384942, 50.74741581583528, 28.032977520884458, 26.813929305538753, 25.702846474512064, 25.64319291615196, 25.826698260714682, 25.671419110953085, 24.788101021716475, 24.078004771052615, 24.037001865113147, 53.33126276921571, 278.10584687786957, 38.11726779714417, 140.08912956508104, 47.89679120955016, 183.12270444666922, 40.38134179626665, 71.83605137586088, 259.20772354918967, 657.4401012513724, 1607.6801758816873, 204.21458101038124, 67.25875203537232, 281.5264529663182, 2338.441419353379, 214.89062335850065, 61.02858319266702, 107.12681759356589, 733.5715450657015, 3241.996543811434, 99.25403013784137, 263.9311457797118, 1340.8479602414416, 451.85475573267047, 333.108725358034, 225.0982547146157, 289.7791912921438, 273.06203651708853, 129.73933233024553, 139.53182430926142, 1014.32765368612, 362.3220290240179, 336.81828387224004, 820.1767514680947, 1426.350962641618, 682.0712452354251, 360.06057373031683, 951.3718261317385, 891.1951636031467, 677.2648303590502, 1119.326166923445, 557.1278764880386, 944.0871198585061, 774.7383582622745, 1120.2905325276865, 419.5179495912805, 685.7584171257513, 524.3557146267215, 1422.6593102216218, 112.63017805000581, 104.44405236598537, 99.49785225218315, 507.44865739106615, 93.04485347863812, 79.02524621087295, 68.26919883228445, 711.8234225046424, 59.15114861223268, 58.50875742132143, 57.913621023504625, 53.94678713189436, 52.818832940540865, 57.03870419395708, 51.347385504744636, 49.291521520308265, 47.43011806112595, 46.768871762300385, 45.102274244708866, 46.09560526332175, 43.714043833405555, 57.82103296991503, 41.28654073462704, 40.86269971425756, 39.06692889164698, 38.09858664473387, 35.5803287328082, 38.36432964679977, 32.48212925227802, 442.5220878299894, 251.75526489345415, 292.6474181818321, 539.6765847477592, 286.63300235747954, 58.07421224430654, 1334.3469288501747, 179.35741552039863, 174.86676425904332, 196.46942781763636, 107.74093909337338, 418.6600927647695, 157.0709233194743, 526.9730874757325, 443.61291204431757, 3241.996543811434, 715.8306034702446, 2338.441419353379, 87.66853832682503, 93.1199510051699, 808.9947138773621, 944.0871198585061, 693.9131654275884, 175.1303799797718, 646.0752642280712, 1120.2905325276865, 951.3718261317385, 1119.326166923445, 544.547738350888, 549.4213655487915, 393.66417335108713, 685.7584171257513, 820.1767514680947, 662.6676084945194, 1340.8479602414416, 774.7383582622745, 330.71801501361875, 1326.1431919483907, 209.4835667413724, 687.332492695243, 220.74155703825636, 74.83163648401569, 60.64257942744714, 57.536265373529346, 71.06693269918841, 48.284977974059885, 47.423182238040724, 46.30674070186092, 410.16217519293804, 38.80243963163444, 38.558669716593116, 35.2584946664811, 68.71787123694448, 28.38446497201327, 25.280553769756295, 66.67619018880906, 211.0098425317957, 23.962935315833757, 23.677643892242322, 26.57434294662442, 93.12040483959055, 22.605519910849296, 41.01686770647212, 134.9512997797831, 18.778426044494967, 17.78424308365086, 150.5514285613029, 50.30725727268257, 1425.369974960854, 41.077428081376524, 70.15769801625105, 108.35856135639234, 352.7147538701596, 232.60631234316344, 96.51813522283422, 182.17726253803576, 891.1951636031467, 454.72343122020857, 164.77275573382423, 890.4405275121014, 1426.350962641618, 188.0817597605042, 263.80373274172575, 320.6404247362789, 325.78137659819237, 204.21783936074328, 355.84092507660466, 553.4127679321405, 185.46054447001976, 1120.2905325276865, 296.62856147272623, 544.547738350888, 335.11808407450064, 715.8306034702446, 1607.6801758816873, 440.66102061077993, 585.1134064761703, 342.67350852915837, 1119.326166923445, 501.24378459445063, 639.6579997383074, 302.9922432588261, 171.3189522954972, 134.1426408364802, 83.28705268058354, 64.9927469791806, 63.01162694428788, 69.12757386834062, 59.22874035503852, 53.716072475735714, 52.61725747569924, 51.369008411042174, 52.59002430044026, 50.08557881116348, 43.90584962082409, 42.91429426247533, 71.96269597758403, 38.22429075986477, 36.59213565387484, 34.12933014932781, 31.188530000470585, 31.36800673226372, 30.682261999165316, 28.636293983769846, 27.16439603614306, 26.480272912680583, 25.897090321770087, 37.81302475751449, 23.648951380290956, 22.39939415739996, 21.79567921044947, 40.29317528783837, 61.60926924194026, 228.4836064541507, 54.134484617498224, 75.10583454102343, 314.41078341507233, 123.22040662520334, 129.85989918655218, 585.1134064761703, 97.49098077060388, 275.7842379010716, 662.6676084945194, 236.82333545533717, 264.1244661644217, 267.7177514332979, 210.047339150692, 682.0712452354251, 179.9096971017572, 944.0871198585061, 395.740547010602, 199.6831001778069, 334.8630162789794, 288.9106245866859, 677.2648303590502, 774.7383582622745, 1334.3469288501747, 501.24378459445063, 314.1541979832529, 890.4405275121014, 685.7584171257513, 951.3718261317385, 693.9131654275884, 1014.32765368612, 552.2631008292117, 733.5715450657015, 820.1767514680947, 1426.350962641618, 1119.326166923445, 165.79817291310533, 168.7028452517143, 150.35586477354744, 110.55791671482277, 119.39834571296385, 219.771129351037, 97.8588182702206, 290.5714162873142, 84.89852590796065, 81.30746936688514, 81.3557903218698, 74.80286468304347, 70.71705708072139, 80.80260023844842, 65.76059183638736, 65.14753186361627, 61.79006722167299, 62.32507847493412, 57.632723336983815, 56.915772048497566, 55.800184395410575, 56.14674437341972, 40.50664515736127, 45.62957824168444, 34.23070004208368, 33.66907151529744, 32.69158262922695, 32.21289485083754, 32.098760759671016, 31.14309366164659, 74.03828495390803, 35.63311288715622, 65.68422262256082, 56.360428280559276, 78.3117858876362, 41.98575408430475, 46.04966099060813, 77.21873882358142, 68.22244619490317, 67.88719904442212, 184.79039603648505, 159.2839572711292, 524.3557146267215, 1340.8479602414416, 322.36421731017333, 168.05453547706583, 419.5179495912805, 808.9947138773621, 3241.996543811434, 549.4213655487915, 125.37261680381962, 454.72343122020857, 181.0313892550051, 152.53946329691667, 1014.32765368612, 544.6430889639557, 229.83370743536727, 373.08016882815605, 662.6676084945194, 639.6579997383074, 207.44834329646147, 1119.326166923445, 774.7383582622745, 552.2631008292117, 315.19907227166556], \"Category\": [\"Default\", \"Default\", \"Default\", \"Default\", \"Default\", \"Default\", \"Default\", \"Default\", \"Default\", \"Default\", \"Default\", \"Default\", \"Default\", \"Default\", \"Default\", \"Default\", \"Default\", \"Default\", \"Default\", \"Default\", \"Default\", \"Default\", \"Default\", \"Default\", \"Default\", \"Default\", \"Default\", \"Default\", \"Default\", \"Default\", \"Topic1\", \"Topic1\", \"Topic1\", \"Topic1\", \"Topic1\", \"Topic1\", \"Topic1\", \"Topic1\", \"Topic1\", \"Topic1\", \"Topic1\", \"Topic1\", \"Topic1\", \"Topic1\", \"Topic1\", \"Topic1\", \"Topic1\", \"Topic1\", \"Topic1\", \"Topic1\", \"Topic1\", \"Topic1\", \"Topic1\", \"Topic1\", \"Topic1\", \"Topic1\", \"Topic1\", \"Topic1\", \"Topic1\", \"Topic1\", \"Topic1\", \"Topic1\", \"Topic1\", \"Topic1\", \"Topic1\", \"Topic1\", \"Topic1\", \"Topic1\", \"Topic1\", \"Topic1\", \"Topic1\", \"Topic1\", \"Topic1\", \"Topic1\", \"Topic1\", \"Topic1\", \"Topic1\", \"Topic1\", \"Topic1\", \"Topic1\", \"Topic1\", \"Topic1\", \"Topic1\", \"Topic1\", \"Topic1\", \"Topic1\", \"Topic1\", \"Topic1\", \"Topic1\", \"Topic1\", \"Topic1\", \"Topic1\", \"Topic1\", \"Topic1\", \"Topic1\", \"Topic1\", \"Topic1\", \"Topic1\", \"Topic1\", \"Topic1\", \"Topic1\", \"Topic1\", \"Topic1\", \"Topic1\", \"Topic1\", \"Topic1\", \"Topic1\", \"Topic2\", \"Topic2\", \"Topic2\", \"Topic2\", \"Topic2\", \"Topic2\", \"Topic2\", \"Topic2\", \"Topic2\", \"Topic2\", \"Topic2\", \"Topic2\", \"Topic2\", \"Topic2\", \"Topic2\", \"Topic2\", \"Topic2\", \"Topic2\", \"Topic2\", \"Topic2\", \"Topic2\", \"Topic2\", \"Topic2\", \"Topic2\", \"Topic2\", \"Topic2\", \"Topic2\", \"Topic2\", \"Topic2\", \"Topic2\", \"Topic2\", \"Topic2\", \"Topic2\", \"Topic2\", \"Topic2\", \"Topic2\", \"Topic2\", \"Topic2\", \"Topic2\", \"Topic2\", \"Topic2\", \"Topic2\", \"Topic2\", \"Topic2\", \"Topic2\", \"Topic2\", \"Topic2\", \"Topic2\", \"Topic2\", \"Topic2\", \"Topic2\", \"Topic2\", \"Topic2\", \"Topic2\", \"Topic2\", \"Topic2\", \"Topic2\", \"Topic2\", \"Topic2\", \"Topic2\", \"Topic2\", \"Topic2\", \"Topic2\", \"Topic2\", \"Topic2\", \"Topic2\", \"Topic3\", \"Topic3\", \"Topic3\", \"Topic3\", \"Topic3\", \"Topic3\", \"Topic3\", \"Topic3\", \"Topic3\", \"Topic3\", \"Topic3\", \"Topic3\", \"Topic3\", \"Topic3\", \"Topic3\", \"Topic3\", \"Topic3\", \"Topic3\", \"Topic3\", \"Topic3\", \"Topic3\", \"Topic3\", \"Topic3\", \"Topic3\", \"Topic3\", \"Topic3\", \"Topic3\", \"Topic3\", \"Topic3\", \"Topic3\", \"Topic3\", \"Topic3\", \"Topic3\", \"Topic3\", \"Topic3\", \"Topic3\", \"Topic3\", \"Topic3\", \"Topic3\", \"Topic3\", \"Topic3\", \"Topic3\", \"Topic3\", \"Topic3\", \"Topic3\", \"Topic3\", \"Topic3\", \"Topic3\", \"Topic3\", \"Topic3\", \"Topic3\", \"Topic3\", \"Topic3\", \"Topic3\", \"Topic3\", \"Topic3\", \"Topic3\", \"Topic3\", \"Topic3\", \"Topic3\", \"Topic3\", \"Topic3\", \"Topic3\", \"Topic3\", \"Topic3\", \"Topic4\", \"Topic4\", \"Topic4\", \"Topic4\", \"Topic4\", \"Topic4\", \"Topic4\", \"Topic4\", \"Topic4\", \"Topic4\", \"Topic4\", \"Topic4\", \"Topic4\", \"Topic4\", \"Topic4\", \"Topic4\", \"Topic4\", \"Topic4\", \"Topic4\", \"Topic4\", \"Topic4\", \"Topic4\", \"Topic4\", \"Topic4\", \"Topic4\", \"Topic4\", \"Topic4\", \"Topic4\", \"Topic4\", \"Topic4\", \"Topic4\", \"Topic4\", \"Topic4\", \"Topic4\", \"Topic4\", \"Topic4\", \"Topic4\", \"Topic4\", \"Topic4\", \"Topic4\", \"Topic4\", \"Topic4\", \"Topic4\", \"Topic4\", \"Topic4\", \"Topic4\", \"Topic4\", \"Topic4\", \"Topic4\", \"Topic4\", \"Topic4\", \"Topic4\", \"Topic4\", \"Topic4\", \"Topic4\", \"Topic4\", \"Topic4\", \"Topic4\", \"Topic4\", \"Topic4\", \"Topic4\", \"Topic4\", \"Topic4\", \"Topic4\", \"Topic4\", \"Topic4\", \"Topic4\", \"Topic4\", \"Topic5\", \"Topic5\", \"Topic5\", \"Topic5\", \"Topic5\", \"Topic5\", \"Topic5\", \"Topic5\", \"Topic5\", \"Topic5\", \"Topic5\", \"Topic5\", \"Topic5\", \"Topic5\", \"Topic5\", \"Topic5\", \"Topic5\", \"Topic5\", \"Topic5\", \"Topic5\", \"Topic5\", \"Topic5\", \"Topic5\", \"Topic5\", \"Topic5\", \"Topic5\", \"Topic5\", \"Topic5\", \"Topic5\", \"Topic5\", \"Topic5\", \"Topic5\", \"Topic5\", \"Topic5\", \"Topic5\", \"Topic5\", \"Topic5\", \"Topic5\", \"Topic5\", \"Topic5\", \"Topic5\", \"Topic5\", \"Topic5\", \"Topic5\", \"Topic5\", \"Topic5\", \"Topic5\", \"Topic5\", \"Topic5\", \"Topic5\", \"Topic5\", \"Topic5\", \"Topic5\", \"Topic5\", \"Topic5\", \"Topic5\", \"Topic5\", \"Topic5\", \"Topic5\", \"Topic5\", \"Topic5\", \"Topic5\", \"Topic5\", \"Topic5\", \"Topic5\"], \"logprob\": [30.0, 29.0, 28.0, 27.0, 26.0, 25.0, 24.0, 23.0, 22.0, 21.0, 20.0, 19.0, 18.0, 17.0, 16.0, 15.0, 14.0, 13.0, 12.0, 11.0, 10.0, 9.0, 8.0, 7.0, 6.0, 5.0, 4.0, 3.0, 2.0, 1.0, -5.502299785614014, -6.038899898529053, -6.63539981842041, -6.7083001136779785, -6.763500213623047, -6.658100128173828, -6.807600021362305, -6.813399791717529, -6.896100044250488, -6.927700042724609, -6.292300224304199, -7.042200088500977, -7.234600067138672, -7.281000137329102, -7.388999938964844, -7.415999889373779, -7.443299770355225, -7.444399833679199, -7.506100177764893, -6.9475998878479, -7.541299819946289, -7.586400032043457, -7.629700183868408, -7.6321001052856445, -7.62529993057251, -7.6321001052856445, -7.667200088500977, -7.6971001625061035, -7.698800086975098, -6.902100086212158, -5.264500141143799, -7.246099948883057, -5.976900100708008, -7.025100231170654, -5.740799903869629, -7.192999839782715, -6.641600131988525, -5.415200233459473, -4.543099880218506, -3.730600118637085, -5.672299861907959, -6.71750020980835, -5.393400192260742, -3.469599962234497, -5.676599979400635, -6.817500114440918, -6.3125, -4.611599922180176, -3.325200080871582, -6.397500038146973, -5.575799942016602, -4.269999980926514, -5.172100067138672, -5.421599864959717, -5.741799831390381, -5.5690999031066895, -5.629700183868408, -6.200699806213379, -6.147900104522705, -4.719900131225586, -5.480800151824951, -5.587399959564209, -5.000500202178955, -4.6616997718811035, -5.170100212097168, -5.575099945068359, -5.029799938201904, -5.068699836730957, -5.253399848937988, -5.015200138092041, -5.382900238037109, -5.178100109100342, -5.2683000564575195, -5.2164998054504395, -5.521699905395508, -5.532599925994873, -5.56790018081665, -3.406899929046631, -5.947500228881836, -6.023399829864502, -6.072299957275391, -4.443600177764893, -6.139900207519531, -6.304599761962891, -6.452400207519531, -4.10890007019043, -6.597400188446045, -6.608399868011475, -6.618899822235107, -6.6905999183654785, -6.712200164794922, -6.635499954223633, -6.741000175476074, -6.782199859619141, -6.821300029754639, -6.835899829864502, -6.872499942779541, -6.85099983215332, -6.904200077056885, -6.625100135803223, -6.962500095367432, -6.972899913787842, -7.018700122833252, -7.0441999435424805, -7.114099979400635, -7.0395002365112305, -7.207099914550781, -4.600800037384033, -5.242000102996826, -5.0995001792907715, -4.526000022888184, -5.129899978637695, -6.644700050354004, -3.7304999828338623, -5.640500068664551, -5.664999961853027, -5.5680999755859375, -6.129000186920166, -5.015900135040283, -5.829999923706055, -4.8491997718811035, -5.13730001449585, -3.8554000854492188, -4.938799858093262, -4.172999858856201, -6.36359977722168, -6.328100204467773, -5.020599842071533, -4.930300235748291, -5.156400203704834, -5.981200218200684, -5.305500030517578, -5.040599822998047, -5.166299819946289, -5.101399898529053, -5.521699905395508, -5.528800010681152, -5.636899948120117, -5.507599830627441, -5.482699871063232, -5.5605998039245605, -5.525700092315674, -5.571899890899658, -4.692699909210205, -3.304800033569336, -5.1508002281188965, -3.967099905014038, -5.103300094604492, -6.186399936676025, -6.399199962615967, -6.452899932861328, -6.242700099945068, -6.630000114440918, -6.6479997634887695, -6.672299861907959, -4.492099761962891, -6.852399826049805, -6.858699798583984, -6.951399803161621, -6.284999847412109, -7.172299861907959, -7.290900230407715, -6.321599960327148, -5.170100212097168, -7.346199989318848, -7.358399868011475, -7.243199825286865, -5.990099906921387, -7.406199932098389, -6.810699939727783, -5.626200199127197, -7.598899841308594, -7.655099868774414, -5.520699977874756, -6.616000175476074, -3.319999933242798, -6.821700096130371, -6.311299800872803, -5.897799968719482, -4.794099807739258, -5.200200080871582, -6.0457000732421875, -5.498300075531006, -4.151500225067139, -4.732100009918213, -5.616000175476074, -4.215700149536133, -3.855600118637085, -5.5243000984191895, -5.255799770355225, -5.135000228881836, -5.128699779510498, -5.49370002746582, -5.085899829864502, -4.778600215911865, -5.581099987030029, -4.337800025939941, -5.259799957275391, -4.940400123596191, -5.229000091552734, -4.898499965667725, -4.578000068664551, -5.216100215911865, -5.139100074768066, -5.333600044250488, -5.010200023651123, -5.2357001304626465, -5.252299785614014, -4.688000202178955, -5.260000228881836, -5.505799770355225, -5.987400054931641, -6.236499786376953, -6.2677001953125, -6.1757001876831055, -6.330599784851074, -6.4293999671936035, -6.450300216674805, -6.474599838256836, -6.451099872589111, -6.500699996948242, -6.634099960327148, -6.657400131225586, -6.1417999267578125, -6.775199890136719, -6.819799900054932, -6.890999794006348, -6.9832000732421875, -6.977499961853027, -6.99970006942749, -7.070799827575684, -7.125199794769287, -7.151500225067139, -7.1743998527526855, -6.797699928283691, -7.267399787902832, -7.323599815368652, -7.352099895477295, -6.751299858093262, -6.343100070953369, -5.107500076293945, -6.51639986038208, -6.2399001121521, -4.994500160217285, -5.8221001625061035, -5.778200149536133, -4.520299911499023, -6.051499843597412, -5.229000091552734, -4.554299831390381, -5.436699867248535, -5.393599987030029, -5.389599800109863, -5.581699848175049, -4.80649995803833, -5.70419979095459, -4.656199932098389, -5.2307000160217285, -5.647500038146973, -5.370699882507324, -5.457799911499023, -5.0218000411987305, -4.95550012588501, -4.696300029754639, -5.208600044250488, -5.460700035095215, -4.971700191497803, -5.116600036621094, -4.972700119018555, -5.119699954986572, -4.9903998374938965, -5.346399784088135, -5.286300182342529, -5.300300121307373, -5.221199989318848, -5.279399871826172, -5.066800117492676, -5.049699783325195, -5.164899826049805, -5.473800182342529, -5.39769983291626, -4.787700176239014, -5.59689998626709, -4.508900165557861, -5.7399001121521, -5.783400058746338, -5.782899856567383, -5.8678998947143555, -5.924300193786621, -5.790999889373779, -5.997799873352051, -6.007299900054932, -6.060800075531006, -6.0524001121521, -6.131199836730957, -6.143899917602539, -6.16379976272583, -6.157700061798096, -6.489699840545654, -6.370999813079834, -6.660699844360352, -6.677599906921387, -6.707699775695801, -6.722700119018555, -6.726500034332275, -6.757299900054932, -5.898099899291992, -6.623000144958496, -6.019199848175049, -6.169400215148926, -5.871799945831299, -6.465799808502197, -6.380799770355225, -5.899099826812744, -6.0335001945495605, -6.05709981918335, -5.275000095367432, -5.3968000411987305, -4.650700092315674, -4.257800102233887, -5.195099830627441, -5.56850004196167, -5.1153998374938965, -4.848999977111816, -4.372099876403809, -5.220900058746338, -5.786399841308594, -5.32859992980957, -5.663300037384033, -5.720300197601318, -5.151599884033203, -5.376399993896484, -5.646200180053711, -5.5432000160217285, -5.452000141143799, -5.5071001052856445, -5.676700115203857, -5.4745001792907715, -5.564300060272217, -5.621399879455566, -5.658199787139893], \"loglift\": [30.0, 29.0, 28.0, 27.0, 26.0, 25.0, 24.0, 23.0, 22.0, 21.0, 20.0, 19.0, 18.0, 17.0, 16.0, 15.0, 14.0, 13.0, 12.0, 11.0, 10.0, 9.0, 8.0, 7.0, 6.0, 5.0, 4.0, 3.0, 2.0, 1.0, 1.2995, 1.2936, 1.2924, 1.2916, 1.2906, 1.2905, 1.2904, 1.2903, 1.2888, 1.2884, 1.2875, 1.2865, 1.2839, 1.2829, 1.2804, 1.2795, 1.2793, 1.2787, 1.2779, 1.2766, 1.2764, 1.2758, 1.2747, 1.2747, 1.2743, 1.2735, 1.2735, 1.2726, 1.2726, 1.2724, 1.2586, 1.2643, 1.2318, 1.2569, 1.2001, 1.2597, 1.2351, 1.1783, 1.1196, 1.0379, 1.1596, 1.225, 1.1174, 0.9242, 1.1044, 1.2222, 1.1645, 0.9415, 0.7419, 1.1558, 0.9996, 0.68, 0.8656, 0.9209, 0.9927, 0.9128, 0.9117, 1.0848, 1.0648, 0.5092, 0.7777, 0.7441, 0.441, 0.2265, 0.4558, 0.6896, 0.2633, 0.2898, 0.3796, 0.1153, 0.4454, 0.1227, 0.2302, -0.0868, 0.5903, 0.0879, 0.3209, 1.4838, 1.4795, 1.479, 1.4787, 1.4781, 1.4781, 1.4766, 1.4752, 1.4743, 1.4735, 1.4734, 1.4732, 1.4724, 1.472, 1.4719, 1.4714, 1.4711, 1.4705, 1.47, 1.4696, 1.4693, 1.4692, 1.4686, 1.4681, 1.4679, 1.4671, 1.4667, 1.4651, 1.4644, 1.4633, 1.4577, 1.3806, 1.3726, 1.3341, 1.363, 1.4447, 1.2243, 1.3212, 1.322, 1.3025, 1.3423, 1.098, 1.2644, 1.0347, 0.9188, 0.2117, 0.6388, 0.2208, 1.3139, 1.289, 0.4346, 0.3705, 0.4523, 1.0043, 0.3746, 0.0891, 0.1269, 0.0291, 0.3294, 0.3134, 0.5386, 0.1129, -0.0411, 0.0942, -0.5757, -0.0734, 1.6571, 1.6562, 1.6556, 1.6511, 1.6507, 1.6494, 1.6469, 1.6457, 1.6447, 1.644, 1.6439, 1.6435, 1.6424, 1.6402, 1.6402, 1.6369, 1.636, 1.6329, 1.6301, 1.6296, 1.6291, 1.6284, 1.6281, 1.6279, 1.6271, 1.6267, 1.6264, 1.6199, 1.6194, 1.6177, 1.616, 1.6168, 1.5688, 1.6139, 1.589, 1.5678, 1.4913, 1.5015, 1.5356, 1.4477, 1.207, 1.2993, 1.4305, 1.1437, 1.0326, 1.3899, 1.32, 1.2457, 1.2361, 1.3382, 1.1906, 1.0563, 1.347, 0.7919, 1.1987, 0.9107, 1.1076, 0.6791, 0.1905, 0.8467, 0.6401, 0.9806, 0.1203, 0.6983, 0.4378, 1.7493, 1.7475, 1.7463, 1.7414, 1.7402, 1.74, 1.7394, 1.739, 1.738, 1.7377, 1.7374, 1.7374, 1.7366, 1.7349, 1.7345, 1.7331, 1.7324, 1.7314, 1.7299, 1.7278, 1.7278, 1.7276, 1.7255, 1.724, 1.7231, 1.7225, 1.7207, 1.7203, 1.7184, 1.7173, 1.7036, 1.6871, 1.6121, 1.6431, 1.5923, 1.4058, 1.515, 1.5064, 1.259, 1.5198, 1.3024, 1.1004, 1.247, 1.181, 1.1715, 1.222, 0.8194, 1.2544, 0.6446, 0.9396, 1.2068, 0.9667, 1.0271, 0.6111, 0.543, 0.2586, 0.7253, 0.9404, 0.3876, 0.5039, 0.3204, 0.489, 0.2386, 0.4906, 0.2668, 0.1413, -0.3331, -0.1488, 1.9735, 1.9732, 1.9731, 1.9717, 1.9709, 1.9708, 1.9706, 1.9703, 1.9696, 1.9694, 1.9693, 1.9683, 1.9681, 1.968, 1.9672, 1.9671, 1.9665, 1.9663, 1.9658, 1.9656, 1.9654, 1.9654, 1.9598, 1.9595, 1.9573, 1.9569, 1.9563, 1.956, 1.9557, 1.9551, 1.9484, 1.9548, 1.947, 1.9498, 1.9185, 1.9479, 1.9405, 1.9053, 1.8948, 1.8761, 1.6568, 1.6836, 1.2382, 0.6922, 1.1803, 1.4582, 0.9966, 0.6063, -0.305, 0.6213, 1.5334, 0.7027, 1.2891, 1.4033, 0.0774, 0.4745, 1.0675, 0.686, 0.2028, 0.183, 1.1395, -0.3439, -0.0658, 0.2156, 0.7397]}, \"token.table\": {\"Topic\": [2, 5, 1, 2, 3, 4, 5, 4, 3, 4, 4, 3, 4, 4, 4, 1, 3, 4, 5, 1, 1, 4, 3, 4, 3, 1, 2, 3, 4, 5, 1, 3, 1, 3, 3, 5, 4, 1, 1, 3, 3, 1, 3, 4, 1, 1, 3, 4, 4, 2, 3, 4, 1, 3, 4, 1, 2, 3, 4, 5, 4, 1, 3, 4, 5, 4, 4, 1, 5, 2, 4, 3, 4, 5, 1, 3, 4, 5, 3, 4, 5, 1, 3, 4, 5, 1, 3, 4, 1, 4, 3, 3, 4, 1, 4, 2, 1, 2, 1, 4, 5, 5, 1, 2, 3, 4, 5, 2, 1, 1, 2, 4, 5, 1, 2, 4, 5, 5, 4, 5, 5, 1, 2, 3, 4, 3, 1, 2, 3, 4, 5, 1, 2, 3, 4, 5, 1, 2, 3, 4, 1, 1, 2, 3, 4, 5, 1, 2, 3, 4, 5, 3, 4, 1, 4, 5, 4, 4, 1, 2, 4, 1, 2, 3, 4, 5, 3, 4, 5, 5, 5, 5, 1, 2, 3, 4, 5, 5, 1, 1, 3, 1, 2, 3, 4, 1, 3, 4, 1, 2, 3, 1, 2, 1, 2, 3, 2, 4, 5, 1, 2, 4, 1, 2, 3, 1, 2, 4, 5, 4, 1, 2, 4, 5, 2, 2, 2, 2, 3, 1, 2, 3, 4, 1, 2, 3, 1, 2, 3, 1, 2, 4, 2, 2, 5, 3, 1, 2, 3, 4, 5, 2, 4, 5, 1, 1, 2, 1, 2, 3, 4, 1, 1, 3, 1, 2, 3, 4, 1, 2, 3, 4, 5, 1, 4, 1, 2, 3, 4, 4, 1, 2, 3, 4, 1, 2, 3, 4, 1, 2, 3, 4, 2, 3, 3, 3, 5, 1, 2, 4, 1, 2, 3, 4, 5, 2, 1, 2, 3, 4, 5, 4, 1, 2, 3, 4, 5, 1, 2, 3, 4, 5, 4, 1, 2, 3, 4, 5, 3, 1, 2, 3, 1, 2, 3, 4, 1, 4, 4, 1, 2, 2, 2, 2, 1, 3, 4, 3, 1, 2, 4, 2, 1, 2, 4, 3, 1, 2, 1, 2, 3, 4, 5, 1, 2, 4, 5, 2, 1, 2, 3, 4, 5, 5, 2, 4, 4, 5, 1, 2, 3, 4, 5, 1, 2, 3, 4, 5, 4, 5, 1, 2, 4, 1, 3, 2, 3, 5, 2, 4, 2, 1, 4, 4, 1, 2, 3, 4, 4, 1, 2, 4, 5, 5, 1, 5, 1, 1, 2, 3, 4, 5, 1, 2, 4, 5, 5, 2, 1, 1, 2, 3, 4, 5, 1, 2, 3, 4, 5, 2, 4, 5, 4, 5, 4, 1, 5, 1, 5, 5, 1, 2, 4, 5, 1, 2, 3, 4, 5, 3, 5, 1, 2, 3, 4, 1, 2, 3, 4, 1, 3, 5, 1, 3, 4, 1, 3, 1, 2, 3, 4, 5, 2, 5, 1, 2, 4, 5, 2, 1, 2, 3, 4, 4, 4, 1, 3, 4, 5, 1, 3, 4, 2, 1, 2, 3, 2, 3, 5, 5, 4, 1, 2, 3, 4, 5, 1, 2, 3, 4, 5, 2, 3, 1, 2, 3, 4, 2, 3, 4, 1, 3, 4, 5, 3, 1, 5, 1, 1, 2, 3, 4, 5, 5, 5, 1, 1, 2, 4, 5, 1, 2, 3, 4, 5, 1, 2, 2, 4, 4, 5, 5, 1, 2, 4, 1, 3, 4, 1, 3, 4, 5, 1, 2, 3, 2, 1, 1, 1, 1, 4, 5, 5, 2, 1, 2, 4, 5, 2, 2, 1, 2, 3, 4, 5, 1, 2, 3, 2, 2, 1, 3, 3, 4, 1, 2, 4, 5, 1, 2, 3, 4, 5, 1, 4, 1, 2, 3, 4, 5, 2, 3, 4, 4, 5, 5, 3, 4, 1, 1, 4, 4, 1, 4, 2, 3, 1, 1, 2, 3, 4, 5, 1, 2, 3, 4, 2, 3, 4, 1, 2, 3, 4, 5, 1, 3, 4, 5, 1, 2, 3, 4, 5, 5, 1, 4, 5, 1, 2, 3, 4, 5, 2, 5, 5, 3, 4, 5, 4, 1, 2, 3, 4, 5, 1, 2, 3, 4, 5, 4], \"Freq\": [0.9016693259466455, 0.09930278920117241, 0.05056829297059848, 0.006742439062746464, 0.6304180523667944, 0.1584473179745419, 0.15507609844316866, 0.9981382544591618, 0.9752085480112938, 0.024380213700282344, 0.9777636342723403, 0.28943027656868087, 0.7060826527279906, 0.9618920801829182, 0.9928165167587145, 0.005316836684606524, 0.7656244825833395, 0.20735663069965446, 0.02658418342303262, 0.9852024149920178, 0.9750378539698829, 0.018750727960959286, 0.9921104251432161, 0.00453018458969505, 0.9940979992946671, 0.05931180689366618, 0.032351894669272456, 0.7333096125035091, 0.16715145579124105, 0.010783964889757486, 0.0398534909787114, 0.9564837834890737, 0.15309821720663927, 0.8448753468070093, 0.9910764689742548, 0.9933910053156242, 0.9634937180545399, 0.9872980622010673, 0.08629338498825755, 0.9134470508513116, 0.9643066251584047, 0.34072960493532567, 0.5342303682319304, 0.12409288080977911, 0.9957319182262193, 0.36355673059316407, 0.6362242785380371, 0.9882689158403151, 0.9784988172004695, 0.027345126300146783, 0.3606138530831857, 0.610138130572025, 0.3175576276834195, 0.6266845218885182, 0.05620488985547248, 0.3948613375397411, 0.04084772457307667, 0.44478633424016817, 0.006807954095512778, 0.11573521962371723, 0.9836885079969944, 0.6763770687813143, 0.1932505910803755, 0.12768342624953383, 0.0034509034121495627, 0.978694878287331, 0.9866693069181636, 0.9900953235759453, 0.9966637250241182, 0.013896088611125608, 0.9866222913899181, 0.9968757582336916, 0.0007540663829301752, 0.0015081327658603503, 0.1066887647908736, 0.5974570828288921, 0.25605303549809666, 0.040429426657594206, 0.9136333923296384, 0.06460034087179262, 0.027685860373625405, 0.3162196648514234, 0.5475117625713216, 0.1084181708062023, 0.02891151221498728, 0.9687249653886892, 0.9664906435386985, 0.02147756985641552, 0.7883506185384171, 0.20783789034194636, 0.9976916244605982, 0.9715186625434777, 0.028434692562248128, 0.9827952281448952, 0.010345212927841001, 0.9726897168035366, 0.9845229481777193, 0.9887704323283394, 0.22187300249037267, 0.0541153664610665, 0.7251459105782911, 0.9872136856747766, 0.5706360185767065, 0.27945742315161953, 0.04503397768226981, 0.003084519019333549, 0.10209757953994048, 0.9940857674643263, 0.9786956238092894, 0.1073883726532976, 0.8161516321650618, 0.021477674530659522, 0.0536941863266488, 0.30456803217032496, 0.200144706854785, 0.09572138153924499, 0.40028941370957, 0.9788452386331196, 0.02381760246563782, 0.9765217010911506, 0.9932604345864953, 0.5906348023509611, 0.18767834841058575, 0.12143893132449667, 0.10211910134105401, 0.9933758952322769, 0.07161906524138335, 0.3140220552891424, 0.47378766236607445, 0.10283763214147353, 0.038564112053052574, 0.5415755409700974, 0.21107559545501234, 0.049991588397239765, 0.11386972912704613, 0.08609662446191294, 0.24904254021543726, 0.2472572890310972, 0.4204266539120823, 0.08301418007181242, 0.9631513448717713, 0.2363766033378902, 0.10797449782101157, 0.5077719627258382, 0.10505626815017342, 0.04377344506257226, 0.05583356380726622, 0.2073818084269888, 0.07178601060934228, 0.03190489360415213, 0.6380978720830425, 0.04869397149021469, 0.9414167821441507, 0.4156586106991179, 0.5809204679650323, 0.005007935068664072, 0.9669102749926064, 0.9838179531395529, 0.20791637887545827, 0.0077006066250169735, 0.7854618757517313, 0.6965919049575906, 0.019084709724865496, 0.014995129069537176, 0.22629012959483374, 0.04225900010505931, 0.9264842182385127, 0.01425360335751558, 0.05701441343006232, 0.9823856433115751, 0.9801280081337126, 0.9822324563907403, 0.5362278359065649, 0.1275312377469021, 0.027594478342896942, 0.03206925861471807, 0.2766905801409396, 0.9951858763032108, 0.9736678830532471, 0.014552255213959168, 0.9750010993352642, 0.23900879548298687, 0.07781681713399573, 0.07781681713399573, 0.6058595048289668, 0.2595267884818694, 0.7247163150059749, 0.014690195574445437, 0.8190213106989798, 0.12564531470950258, 0.05584236209311226, 0.8667353678873803, 0.13221386967773596, 0.9279806392087407, 0.03569156304649003, 0.02855325043719202, 0.024818098669474393, 0.9430877494400269, 0.996218436396074, 0.2866287044641339, 0.6783546005651169, 0.03582858805801674, 0.9937006980704627, 0.008078867463987501, 0.9889023882818608, 0.060362087247442124, 0.24899360989569877, 0.5206230025091884, 0.16901384429283794, 0.9792543223497072, 0.2109415262258204, 0.024816650144214168, 0.31331020807070387, 0.44980178386388175, 0.9824496103988628, 0.9835601815197056, 0.9805388629090016, 0.983665573559683, 0.9585467896696716, 0.09250470646970022, 0.1223449343631519, 0.5759163983436174, 0.2058975724648166, 0.0014058179534834944, 0.9974278379965392, 0.0007029089767417472, 0.02964032214974809, 0.007410080537437022, 0.9633104698668129, 0.8320149606919922, 0.16731562280826168, 0.9777801560449659, 0.9711646351877014, 0.9913045936412926, 0.9956267363335519, 0.9793198665018928, 0.5730092730749963, 0.13657215834948097, 0.05641023931826388, 0.22267199730893636, 0.011875839856476606, 0.07389005415426188, 0.905153163389708, 0.01847251353856547, 0.9749175963283874, 0.9655664079097794, 0.019705436896117947, 0.12130230178103378, 0.11372090791971917, 0.7126510229635735, 0.04927906009854498, 0.9920003511303987, 0.9785722390968253, 0.9978289207692869, 0.01667665460084123, 0.8597741927544812, 0.12229546707283569, 0.0018529616223156922, 0.11425995728887542, 0.15710744127220372, 0.07141247330554715, 0.5903431126591897, 0.066651641751844, 0.9603983657015429, 0.02087822534133789, 0.9772947372011365, 0.24294354351039457, 0.11603273719899443, 0.6381800545944694, 0.9845467856148116, 0.16559091577000865, 0.6166834104538254, 0.18272101050483713, 0.028550157891380802, 0.0014988605712334705, 0.7696649033283872, 0.003747151428083677, 0.2248290856850206, 0.1416476416908493, 0.11770719520788887, 0.38304714372736715, 0.35910669724440675, 0.03975569546873356, 0.9541366912496055, 0.9906795241219103, 0.9849869319152338, 0.01407124188450334, 0.7330132355277053, 0.26210776300687644, 0.004442504457743668, 0.1996257411497528, 0.12887231390680243, 0.05053816231639311, 0.44473582838425935, 0.17688356810737588, 0.9851570921187622, 0.42186028728645275, 0.21702639056933118, 0.09144370389157212, 0.1999568991762377, 0.06949721495759482, 0.9882680867992417, 0.35317421724182246, 0.2564717529970378, 0.10511137417911384, 0.2386028193865884, 0.04519789089701895, 0.30717504126469114, 0.3273003025889295, 0.02965827984624604, 0.3304779754295987, 0.005296121401115364, 0.9847252651207586, 0.24911586273273656, 0.03933408358937946, 0.01966704179468973, 0.1311136119645982, 0.5637885314477722, 0.9888865655878937, 0.1116410173874208, 0.8826617937192957, 0.0034887817933569, 0.2786887528338483, 0.11400903525021067, 0.004222556861118914, 0.6038256311400046, 0.9010351856618244, 0.09283392821970313, 0.9571352135127983, 0.03443869357342984, 0.9642834200560355, 0.9788878434295777, 0.9949963517712793, 0.9842244189301542, 0.9176028193741316, 0.03277152926336184, 0.03277152926336184, 0.9713804339939269, 0.6775017221715568, 0.314946746522994, 0.007324342942395208, 0.9930597059107276, 0.6462253551509705, 0.13499913241167535, 0.21688385207121613, 0.9783873133654515, 0.9706886704710803, 0.026234828931650817, 0.2101373434014438, 0.3498168716624035, 0.1223740999808408, 0.06427730504044163, 0.25340091410174104, 0.49103977601124704, 0.05720851759354334, 0.0786617116911221, 0.374239052591096, 0.9755605617861237, 0.10115763880898035, 0.03570269605022836, 0.07140539210045672, 0.19636482827625598, 0.5950449341704727, 0.9912239051584588, 0.13314544816805035, 0.8521308682755222, 0.017742945369791232, 0.9758619953385177, 0.2646750455681201, 0.3296829514971321, 0.25693600914799963, 0.12692019728997572, 0.023217109260361416, 0.36579401872970146, 0.38865614490030775, 0.11177039461185322, 0.12447157581774562, 0.010160944964713928, 0.7898166516673052, 0.20514718225124812, 0.8834613292552713, 0.011573729204217528, 0.10802147257269692, 0.9731545903542369, 0.9732136259976625, 0.021991389300449988, 0.6971270408242646, 0.2792906441157148, 0.8631816353429203, 0.12994132144947185, 0.9858004444448056, 0.9326793262820409, 0.055682347837733785, 0.9818629923390784, 0.39789377573959256, 0.06047985391241807, 0.09549450617750221, 0.44564102882834367, 0.996725185938247, 0.4049695305161574, 0.003461278038599636, 0.48457892540394903, 0.10729961919658872, 0.987492295266788, 0.02171568646735425, 0.9554902045635871, 0.9979031439716212, 0.2960226151519111, 0.25373367013020953, 0.10645148229600744, 0.2872731782508694, 0.05541310037326415, 0.2795738857043553, 0.35595231839678226, 0.2824560907116167, 0.08070174020331906, 0.989860196247945, 0.976231893321216, 0.9738456566015622, 0.6846440482749854, 0.28223927036945057, 0.03036210332762271, 0.0004276352581355311, 0.0025658115488131866, 0.8016073316553901, 0.030831051217515, 0.13103196767443875, 0.030831051217515, 0.9890214569024576, 0.9836896185764274, 0.0068829894748574285, 0.9911504843794696, 0.015224356170678436, 0.9743587949234199, 0.9821694214319625, 0.9808113357277193, 0.9892669259867869, 0.06475112228164333, 0.932416160855664, 0.9856598252482408, 0.17021885735065007, 0.36134178490225716, 0.4569032486780607, 0.011945182971975443, 0.45251650029649676, 0.12224846631103617, 0.05520898478562924, 0.21985006441420213, 0.1498529587038508, 0.9894038242846197, 0.9632954364114977, 0.0037352771515756244, 0.4295568724311968, 0.0037352771515756244, 0.5602915727363437, 0.0030695431716876984, 0.11664264052413255, 0.6538126955694799, 0.224076651533202, 0.014997857513578215, 0.9748607383825839, 0.9862024093593463, 0.7669435864778239, 0.2301452773696633, 0.0024880570526450087, 0.8311829937629192, 0.1669470115677658, 0.2563870069116537, 0.09223678907187542, 0.2954703921116009, 0.18916358436774453, 0.16571355324777617, 0.08838190534380257, 0.8985493709953262, 0.7388290587074378, 0.10229940812872214, 0.0037888669677304497, 0.15534354567694844, 0.9932346018919982, 0.03421980173567069, 0.8440884428132105, 0.07984620404989828, 0.04562640231422759, 0.9914818969616597, 0.9679708704719705, 0.9726549168315255, 0.9855111776236227, 0.0045501882023944815, 0.9919410281219969, 0.005489159218161024, 0.8069064050696705, 0.1811422541993138, 0.9844973299303557, 0.0028096855719677537, 0.9890093213326492, 0.008429056715903261, 0.8918582013179817, 0.10251243693310134, 0.9657693713505755, 0.9958338269241066, 0.9793683614222908, 0.6814591835023668, 0.03902629685255845, 0.012008091339248754, 0.09906675354880222, 0.16811327874948256, 0.4236011335273166, 0.16154280515872244, 0.14359360458553105, 0.12205456389770139, 0.14718344470016934, 0.9912332857201004, 0.0059119281454479145, 0.17462231901516623, 0.4288724155012482, 0.3757872305206377, 0.020954678281819947, 0.38239547235705873, 0.049219219214274884, 0.5641279740713044, 0.012897328407726564, 0.8555227843791955, 0.055888423100148445, 0.07738397044635939, 0.9864550918119349, 0.0732896616711106, 0.9234497370559935, 0.9682064785428286, 0.10738570375956828, 0.30941643456146795, 0.11648618712902321, 0.2093111174974636, 0.2566336310186293, 0.9884339265333907, 0.9839100478560276, 0.9657439160008705, 0.9564703618648267, 0.010787259720280001, 0.021574519440560002, 0.010787259720280001, 0.3077420225285343, 0.2633256481429726, 0.09835054328231507, 0.04124377621516438, 0.2887064335061507, 0.9218131190925655, 0.05947181413500423, 0.20288847184250838, 0.7872072707489325, 0.013506525720072288, 0.9724698518452048, 0.9947841465604434, 0.8664635570018212, 0.01007515763955606, 0.1309770493142288, 0.1942068630064861, 0.7950343454328025, 0.012137928937905381, 0.010360747207675231, 0.8806635126523946, 0.10360747207675232, 0.9976331832876396, 0.16287521348971667, 0.8347354691347979, 0.005089850421553646, 0.9870263458827175, 0.9841971550244869, 0.9568581027312631, 0.9552286503261836, 0.3737920547686384, 0.14684687865910795, 0.4767755800620388, 0.9949536249288969, 0.995748418833565, 0.02259774206760467, 0.9717029089070008, 0.002259774206760467, 0.002259774206760467, 0.9960568039922985, 0.9905034272681431, 0.2625572652946372, 0.183606479227019, 0.18911467360382958, 0.14321305379707483, 0.22216383986469299, 0.14496194609273333, 0.8474698386959795, 0.0055754594651051285, 0.9944048916470147, 0.9817894847255817, 0.9657925731335069, 0.02476391213162838, 0.9559023636844113, 0.9839453924085737, 0.09943027048554974, 0.28171909970905756, 0.11600198223314136, 0.5026752563436125, 0.3046475728672233, 0.23317600152007414, 0.2144147140414475, 0.14919690518717388, 0.09827341060233011, 0.8681299611908349, 0.12135149995140702, 0.34205096104237137, 0.2103936099996473, 0.019361375153341777, 0.29816517736146336, 0.12907583435561185, 0.8021853907595767, 0.09549826080471151, 0.1018648115250256, 0.05107787997248977, 0.9449407794910607, 0.9894164722137255, 0.9494265298873865, 0.024344269997112474, 0.9679905556502287, 0.9696452803964607, 0.988780680209054, 0.9725589786263508, 0.12692376687348625, 0.8709596416490952, 0.9909315414190697, 0.9598156359752185, 0.9962771479918642, 0.04554312273319881, 0.6376037182647833, 0.017078671024949553, 0.26187295571589314, 0.03795260227766568, 0.14970040050152492, 0.17776922559556083, 0.661176768881735, 0.012475033375127075, 0.0014548999365339053, 0.9922417567161235, 0.005819599746135621, 0.30420283330128606, 0.07967217062652729, 0.16115507240365748, 0.2824740594940513, 0.17201945930727483, 0.2554852892908306, 0.004820477156430766, 0.308510538011569, 0.43384294407876894, 0.39718583918995226, 0.18161285583778486, 0.07677941872816921, 0.31892989317854903, 0.023624436531744373, 0.9900671483828497, 0.06905905772592072, 0.1883428847070565, 0.7470934426713242, 0.07213496075335867, 0.5680628159326996, 0.02930482780605196, 0.2389470574955006, 0.0924229184652408, 0.8463586584169673, 0.14868462918135913, 0.9795759418249974, 0.9825381870242691, 0.007314180052289845, 0.007314180052289845, 0.9783255212991266, 0.42810777032421693, 0.1642057201243572, 0.0029322450022206637, 0.39292083029756897, 0.011728980008882655, 0.12329789638641446, 0.37525446726300055, 0.20907034604652888, 0.018762723363150026, 0.2733996832916147, 0.96535941642], \"Term\": [\"0\", \"0\", \"10\", \"10\", \"10\", \"10\", \"10\", \"1080p\", \"10gb\", \"10gb\", \"144\", \"1440p\", \"1440p\", \"1440p_144hz\", \"144hz\", \"15\", \"15\", \"15\", \"15\", \"150\", \"1500\", \"1500\", \"16gb\", \"16gb\", \"18\", \"20\", \"20\", \"20\", \"20\", \"20\", \"2080_ti\", \"2080_ti\", \"2080ti\", \"2080ti\", \"24gb\", \"25th\", \"2k\", \"3060\", \"3070\", \"3070\", \"3070ti\", \"3080\", \"3080\", \"3080\", \"3080ti\", \"3090\", \"3090\", \"3600\", \"3700x\", \"4k\", \"4k\", \"4k\", \"50\", \"50\", \"50\", \"500\", \"500\", \"500\", \"500\", \"500\", \"5600x\", \"5700xt\", \"5700xt\", \"5700xt\", \"5700xt\", \"5800x\", \"5900x\", \"649\", \"6700\", \"6700xt\", \"6700xt\", \"6800\", \"6800\", \"6800\", \"6800xt\", \"6800xt\", \"6800xt\", \"6800xt\", \"6900_xt\", \"6900_xt\", \"6900_xt\", \"6900xt\", \"6900xt\", \"6900xt\", \"6900xt\", \"699\", \"70\", \"70\", \"700\", \"700\", \"80\", \"8gb\", \"8gb\", \"999\", \"999\", \"aaa\", \"ah\", \"ai\", \"aib\", \"aib\", \"aib\", \"amazon\", \"amd\", \"amd\", \"amd\", \"amd\", \"amd\", \"api\", \"appears\", \"architecture\", \"architecture\", \"architecture\", \"architecture\", \"available\", \"available\", \"available\", \"available\", \"b550\", \"backorder\", \"backorder\", \"backorders\", \"bad\", \"bad\", \"bad\", \"bad\", \"bench\", \"benchmark\", \"benchmark\", \"benchmark\", \"benchmark\", \"benchmark\", \"best\", \"best\", \"best\", \"best\", \"best\", \"better\", \"better\", \"better\", \"better\", \"binned\", \"bit\", \"bit\", \"bit\", \"bit\", \"bit\", \"board\", \"board\", \"board\", \"board\", \"board\", \"bottleneck\", \"bottleneck\", \"bought\", \"bought\", \"bought\", \"bro\", \"buddy\", \"build\", \"build\", \"build\", \"buy\", \"buy\", \"buy\", \"buy\", \"buy\", \"cache\", \"cache\", \"cache\", \"canada\", \"canada_computer\", \"cancelled\", \"card\", \"card\", \"card\", \"card\", \"card\", \"cc\", \"chipset\", \"clock\", \"clock\", \"comment\", \"comment\", \"comment\", \"comment\", \"compared\", \"compared\", \"compared\", \"compete\", \"compete\", \"compete\", \"competition\", \"competition\", \"competitive\", \"competitive\", \"competitive\", \"component\", \"component\", \"confirmation\", \"console\", \"console\", \"console\", \"consumer\", \"consumer\", \"context\", \"cpu\", \"cpu\", \"cpu\", \"cpu\", \"date\", \"day\", \"day\", \"day\", \"day\", \"dedicated\", \"demanding\", \"developer\", \"devs\", \"die_size\", \"difference\", \"difference\", \"difference\", \"difference\", \"dl\", \"dl\", \"dl\", \"double\", \"double\", \"double\", \"driver\", \"driver\", \"dunno\", \"dx12\", \"dxr\", \"email\", \"encoding\", \"end\", \"end\", \"end\", \"end\", \"end\", \"enjoy\", \"enjoy\", \"enjoy\", \"enthusiast\", \"excited\", \"excited\", \"extra\", \"extra\", \"extra\", \"extra\", \"fanboy\", \"fanboys\", \"faster\", \"feature\", \"feature\", \"feature\", \"feature\", \"fine\", \"fine\", \"fine\", \"fine\", \"fine\", \"fixed\", \"fixed\", \"flagship\", \"fps\", \"fps\", \"fps\", \"freesync\", \"future\", \"future\", \"future\", \"future\", \"game\", \"game\", \"game\", \"game\", \"gaming\", \"gaming\", \"gaming\", \"gaming\", \"gb\", \"gb\", \"gddr6\", \"gddr6x\", \"gddr6x\", \"generation\", \"generation\", \"generation\", \"getting\", \"getting\", \"getting\", \"getting\", \"getting\", \"gimmick\", \"going\", \"going\", \"going\", \"going\", \"going\", \"gold\", \"good\", \"good\", \"good\", \"good\", \"good\", \"gpu\", \"gpu\", \"gpu\", \"gpu\", \"gpu\", \"gsync\", \"guy\", \"guy\", \"guy\", \"guy\", \"guy\", \"haha\", \"hardware\", \"hardware\", \"hardware\", \"high\", \"high\", \"high\", \"high\", \"high_end\", \"high_end\", \"ill\", \"image\", \"image\", \"implement\", \"implementation\", \"implemented\", \"insane\", \"insane\", \"insane\", \"insult\", \"intel\", \"intel\", \"intel\", \"io\", \"issue\", \"issue\", \"issue\", \"january\", \"knew\", \"knew\", \"know\", \"know\", \"know\", \"know\", \"know\", \"launch\", \"launch\", \"launch\", \"launch\", \"lighting\", \"line\", \"line\", \"line\", \"line\", \"line\", \"link\", \"load\", \"load\", \"location\", \"location\", \"look\", \"look\", \"look\", \"look\", \"look\", \"lot\", \"lot\", \"lot\", \"lot\", \"lot\", \"luck\", \"luck\", \"market\", \"market\", \"market\", \"market_share\", \"marketed\", \"memory\", \"memory\", \"memory\", \"mentioned\", \"mentioned\", \"microsoft\", \"mid_range\", \"mid_range\", \"middle\", \"money\", \"money\", \"money\", \"money\", \"monitor\", \"month\", \"month\", \"month\", \"month\", \"morning\", \"motherboard\", \"motherboard\", \"msrp\", \"need\", \"need\", \"need\", \"need\", \"need\", \"new\", \"new\", \"new\", \"new\", \"newegg\", \"newer\", \"november\", \"nvidia\", \"nvidia\", \"nvidia\", \"nvidia\", \"nvidia\", \"offer\", \"offer\", \"offer\", \"offer\", \"online\", \"optimized\", \"order\", \"order\", \"ordered\", \"ordered\", \"overkill\", \"overpriced\", \"page\", \"partner\", \"partner\", \"paypal\", \"pc\", \"pc\", \"pc\", \"pc\", \"people\", \"people\", \"people\", \"people\", \"people\", \"percent\", \"phone\", \"play\", \"play\", \"play\", \"play\", \"power\", \"power\", \"power\", \"power\", \"power_consumption\", \"power_consumption\", \"pre_order\", \"price\", \"price\", \"price\", \"pricing\", \"pricing\", \"probably\", \"probably\", \"probably\", \"probably\", \"probably\", \"process\", \"process\", \"product\", \"product\", \"product\", \"product\", \"proprietary\", \"ps5\", \"ps5\", \"ps5\", \"ps5\", \"psu\", \"psus\", \"quadro\", \"rage\", \"rage_mode\", \"rage_mode\", \"ram\", \"ram\", \"ram\", \"ray\", \"ray_tracing\", \"ray_tracing\", \"ray_tracing\", \"raytracing\", \"raytracing\", \"received\", \"reference\", \"refresh_rate\", \"release\", \"release\", \"release\", \"release\", \"release\", \"right\", \"right\", \"right\", \"right\", \"right\", \"rt\", \"rt\", \"rtx\", \"rtx\", \"rtx\", \"rtx\", \"run\", \"run\", \"run\", \"rx\", \"rx\", \"rx\", \"rx\", \"rx6800\", \"ryzen_5000\", \"ryzen_5000\", \"sadly\", \"said\", \"said\", \"said\", \"said\", \"said\", \"samsung\", \"sapphire\", \"scared\", \"sell\", \"sell\", \"sell\", \"sell\", \"series\", \"series\", \"series\", \"series\", \"series\", \"seriously\", \"seriously\", \"setting\", \"setting\", \"shipping\", \"shipping\", \"site\", \"situation\", \"situation\", \"situation\", \"slightly\", \"slightly\", \"slightly\", \"slower\", \"slower\", \"slower\", \"smart_access\", \"software\", \"software\", \"software\", \"solution\", \"sounded\", \"stability\", \"stem\", \"stock\", \"stock\", \"stock\", \"store\", \"super_resolution\", \"support\", \"support\", \"support\", \"support\", \"supported\", \"supporting\", \"sure\", \"sure\", \"sure\", \"sure\", \"sure\", \"tech\", \"tech\", \"tech\", \"technology\", \"tensor_core\", \"terrible\", \"terrible\", \"tflops\", \"thank\", \"thanks\", \"thanks\", \"thanks\", \"thanks\", \"think\", \"think\", \"think\", \"think\", \"think\", \"tier\", \"tier\", \"time\", \"time\", \"time\", \"time\", \"time\", \"title\", \"title\", \"title\", \"told\", \"told\", \"tomorrow\", \"trade_blow\", \"trade_blow\", \"trolling\", \"trouble\", \"ultra\", \"ultrawide\", \"upgrade\", \"upgrade\", \"upscaling\", \"usb_c\", \"usd\", \"use\", \"use\", \"use\", \"use\", \"use\", \"v\", \"v\", \"v\", \"v\", \"vram\", \"vram\", \"vram\", \"wait\", \"wait\", \"wait\", \"wait\", \"wait\", \"waiting\", \"waiting\", \"waiting\", \"waiting\", \"want\", \"want\", \"want\", \"want\", \"want\", \"website\", \"week\", \"week\", \"week\", \"work\", \"work\", \"work\", \"work\", \"work\", \"working\", \"working\", \"x570\", \"xt\", \"xt\", \"xt\", \"ya\", \"year\", \"year\", \"year\", \"year\", \"year\", \"yes\", \"yes\", \"yes\", \"yes\", \"yes\", \"zen3\"]}, \"R\": 30, \"lambda.step\": 0.01, \"plot.opts\": {\"xlab\": \"PC1\", \"ylab\": \"PC2\"}, \"topic.order\": [4, 3, 2, 1, 5]};\n",
       "\n",
       "function LDAvis_load_lib(url, callback){\n",
       "  var s = document.createElement('script');\n",
       "  s.src = url;\n",
       "  s.async = true;\n",
       "  s.onreadystatechange = s.onload = callback;\n",
       "  s.onerror = function(){console.warn(\"failed to load library \" + url);};\n",
       "  document.getElementsByTagName(\"head\")[0].appendChild(s);\n",
       "}\n",
       "\n",
       "if(typeof(LDAvis) !== \"undefined\"){\n",
       "   // already loaded: just create the visualization\n",
       "   !function(LDAvis){\n",
       "       new LDAvis(\"#\" + \"ldavis_el1699620702950466242402435426\", ldavis_el1699620702950466242402435426_data);\n",
       "   }(LDAvis);\n",
       "}else if(typeof define === \"function\" && define.amd){\n",
       "   // require.js is available: use it to load d3/LDAvis\n",
       "   require.config({paths: {d3: \"https://cdnjs.cloudflare.com/ajax/libs/d3/3.5.5/d3.min\"}});\n",
       "   require([\"d3\"], function(d3){\n",
       "      window.d3 = d3;\n",
       "      LDAvis_load_lib(\"https://cdn.rawgit.com/bmabey/pyLDAvis/files/ldavis.v1.0.0.js\", function(){\n",
       "        new LDAvis(\"#\" + \"ldavis_el1699620702950466242402435426\", ldavis_el1699620702950466242402435426_data);\n",
       "      });\n",
       "    });\n",
       "}else{\n",
       "    // require.js not available: dynamically load d3 & LDAvis\n",
       "    LDAvis_load_lib(\"https://cdnjs.cloudflare.com/ajax/libs/d3/3.5.5/d3.min.js\", function(){\n",
       "         LDAvis_load_lib(\"https://cdn.rawgit.com/bmabey/pyLDAvis/files/ldavis.v1.0.0.js\", function(){\n",
       "                 new LDAvis(\"#\" + \"ldavis_el1699620702950466242402435426\", ldavis_el1699620702950466242402435426_data);\n",
       "            })\n",
       "         });\n",
       "}\n",
       "</script>"
      ],
      "text/plain": [
       "PreparedData(topic_coordinates=              x         y  topics  cluster       Freq\n",
       "topic                                                \n",
       "3     -0.035185 -0.029458       1        1  27.169828\n",
       "2     -0.029463 -0.164327       2        1  22.625836\n",
       "1     -0.191976  0.168095       3        1  19.026755\n",
       "0      0.005734 -0.081363       4        1  17.344680\n",
       "4      0.250890  0.107053       5        1  13.832901, topic_info=         Term         Freq        Total Category  logprob  loglift\n",
       "5462     6800  1326.000000  1326.000000  Default  30.0000  30.0000\n",
       "385        dl  1422.000000  1422.000000  Default  29.0000  29.0000\n",
       "98       3070  1425.000000  1425.000000  Default  28.0000  28.0000\n",
       "10     nvidia  2338.000000  2338.000000  Default  27.0000  27.0000\n",
       "28      price  1607.000000  1607.000000  Default  26.0000  26.0000\n",
       "...       ...          ...          ...      ...      ...      ...\n",
       "59    waiting    89.677568   207.448343   Topic5  -5.6767   1.1395\n",
       "29      think   109.777724  1119.326167   Topic5  -5.4745  -0.3439\n",
       "395      time   100.346031   774.738358   Topic5  -5.5643  -0.0658\n",
       "248      wait    94.777634   552.263101   Topic5  -5.6214   0.2156\n",
       "229    series    91.353635   315.199072   Topic5  -5.6582   0.7397\n",
       "\n",
       "[371 rows x 6 columns], token_table=      Topic      Freq  Term\n",
       "term                       \n",
       "416       2  0.901669     0\n",
       "416       5  0.099303     0\n",
       "818       1  0.050568    10\n",
       "818       2  0.006742    10\n",
       "818       3  0.630418    10\n",
       "...     ...       ...   ...\n",
       "725       2  0.375254   yes\n",
       "725       3  0.209070   yes\n",
       "725       4  0.018763   yes\n",
       "725       5  0.273400   yes\n",
       "4150      4  0.965359  zen3\n",
       "\n",
       "[680 rows x 3 columns], R=30, lambda_step=0.01, plot_opts={'xlab': 'PC1', 'ylab': 'PC2'}, topic_order=[4, 3, 2, 1, 5])"
      ]
     },
     "execution_count": 16,
     "metadata": {},
     "output_type": "execute_result"
    }
   ],
   "source": [
    "# Visualize the topics for the bigram model\n",
    "pyLDAvis.enable_notebook()\n",
    "# Creates the filepath to save the html file\n",
    "LDAvis_data_filepath = os.path.join(os.getcwd()+'\\\\visualization\\\\'+ 'amd_' + 'bigram_' +'ldavis_prepared_'+str(num_topics))\n",
    "bigram_vis = pyLDAvis.gensim.prepare(lda_bigram_model, bigram_corpus, bigram_id2word)\n",
    "# Saves the graph as a html file to the LDAvis_data_filepath\n",
    "pyLDAvis.save_html(bigram_vis, os.getcwd()+ '\\\\visualization\\\\' + 'amd_' + 'bigram_' + 'ldavis_prepared_'+ str(num_topics) +'.html')\n",
    "bigram_vis"
   ]
  },
  {
   "cell_type": "markdown",
   "metadata": {
    "ExecuteTime": {
     "end_time": "2021-01-23T03:00:52.846161Z",
     "start_time": "2021-01-23T03:00:52.823140Z"
    }
   },
   "source": [
    "## Intrepeting the pyLDAvis graph\n",
    "\n",
    "Topics 1 and 2 have the largest bubble which shows the larger percentage of the documents belong to topic 1 and 2. They also overlap one another, which shows that they have close related to one another. Topic 4 is the furtherest apart from the other topics. The blue bars represent the overall term frequency of the corpus and the red bars represent the term frequency with regards to the topic.\n",
    "\n",
    "The GPU model terms tend to appear the most often in topic 1. Topic 2 discusses about the driver related issues with the AMD, Intel GPUs as well as the gaming consoles. Topic 3 discusses about the purchase of the GPUs and the stock availability of the GPUs during launch. Topic 4 mainly discusses about the features the GPUs provide such as ray tracing and super resolution. Topic 5 is quite similar to topic 3."
   ]
  },
  {
   "cell_type": "markdown",
   "metadata": {},
   "source": [
    "# LDA Mallet Model"
   ]
  },
  {
   "cell_type": "markdown",
   "metadata": {},
   "source": [
    "Notes:\n",
    "\n",
    "* Download [link](http://mallet.cs.umass.edu/download.php)\n",
    "* Need to install [JDK](https://www.oracle.com/java/technologies/javase-jdk15-downloads.html) (Java Development Kit) to make it work\n",
    "* Need to configure the [PATH file](https://docs.oracle.com/javase/10/install/installation-jdk-and-jre-microsoft-windows-platforms.htm#JSJIG-GUID-96EB3876-8C7A-4A25-9F3A-A2983FEC016A) after installing\n",
    "\n",
    "Go to *Importing the optimal mallet model pickle file* section if you've not installed the JDK"
   ]
  },
  {
   "cell_type": "markdown",
   "metadata": {},
   "source": [
    "LDA Mallet model often gives a better quality of topics compared to the LDA. I'll be creating to see if the coherence score is much greater than the LDA and if there's a greater intrepretability in the number of topics."
   ]
  },
  {
   "cell_type": "code",
   "execution_count": 17,
   "metadata": {
    "ExecuteTime": {
     "end_time": "2021-01-26T08:57:31.827818Z",
     "start_time": "2021-01-26T08:57:31.812804Z"
    }
   },
   "outputs": [
    {
     "data": {
      "text/plain": [
       "'C:/mallet/mallet-2.0.8/bin/mallet.bat'"
      ]
     },
     "execution_count": 17,
     "metadata": {},
     "output_type": "execute_result"
    }
   ],
   "source": [
    "# Update the environment path\n",
    "os.environ.update({'MALLET_HOME': r'C:\\mallet\\mallet-2.0.8'})\n",
    "mallet_path = r'C:/mallet/mallet-2.0.8/bin/mallet.bat'\n",
    "# prefix_path = r'C:/mallet/ga_capstone'\n",
    "mallet_path"
   ]
  },
  {
   "cell_type": "markdown",
   "metadata": {},
   "source": [
    "## Finding the best k topics for the mallet model"
   ]
  },
  {
   "cell_type": "code",
   "execution_count": 18,
   "metadata": {
    "ExecuteTime": {
     "end_time": "2021-01-26T08:57:31.843833Z",
     "start_time": "2021-01-26T08:57:31.828819Z"
    }
   },
   "outputs": [],
   "source": [
    "# Solution: Follow this\n",
    "def mallet_compute_coherence_values(dictionary, all_corpus, texts, limit, start=2, step=4):\n",
    "    \"\"\"\n",
    "    Compute c_v coherence for various number of topics\n",
    "\n",
    "    Parameters:\n",
    "    ----------\n",
    "    dictionary : Gensim dictionary\n",
    "    corpus : Gensim corpus\n",
    "    texts : List of input texts\n",
    "    num_topics_list: Number of topics\n",
    "    limit : Max num of topics\n",
    "\n",
    "    Returns:\n",
    "    -------\n",
    "    model_list : List of LDA topic models\n",
    "    coherence_values : Coherence values corresponding to the LDA model with respective number of topics\n",
    "    \"\"\"\n",
    "    \n",
    "    #For two lines below update with your path to new_mallet\n",
    "#     os.environ.update({'MALLET_HOME':r'C:\\Users\\Trogg\\Documents\\General Assembly DS 18\\dsi18-projects\\capstone\\mallet\\mallet-2.0.8'})\n",
    "#     mallet_path = r'C:\\Users\\Trogg\\Documents\\General Assembly DS 18\\dsi18-projects\\capstone\\mallet\\mallet-2.0.8\\bin\\mallet.bat'\n",
    "#     prefix_path = r'C:\\Users\\Trogg\\Documents\\General Assembly DS 18\\dsi18-projects\\capstone\\mallet files'\n",
    "    \n",
    "    coherence_values = []\n",
    "    model_list = []\n",
    "    num_topics_list = []\n",
    "\n",
    "\n",
    "    for num_topics in range(start, limit, step):\n",
    "        model = LdaMallet(mallet_path, corpus=all_corpus, num_topics=num_topics, id2word=dictionary, random_seed=42)\n",
    "        #model = gensim.models.ldamodel.LdaModel(corpus=all_corpus,num_topics=num_topics,id2word=dictionary,eval_every=1,\n",
    "        #                                        alpha='auto',random_state=42)\n",
    "        model_list.append(model)\n",
    "        coherencemodel = CoherenceModel(model=model, texts=texts, dictionary=dictionary, coherence='c_v')\n",
    "        coherence_values.append(coherencemodel.get_coherence())\n",
    "        num_topics_list.append(num_topics)\n",
    "\n",
    "    return model_list, coherence_values, num_topics_list"
   ]
  },
  {
   "cell_type": "code",
   "execution_count": 19,
   "metadata": {
    "ExecuteTime": {
     "end_time": "2021-01-26T09:09:51.270343Z",
     "start_time": "2021-01-26T08:57:31.844834Z"
    }
   },
   "outputs": [],
   "source": [
    "# Using Bigram as it has the highest coherence value\n",
    "model_list, coherence_values, num_topics_list = mallet_compute_coherence_values(dictionary=bigram_id2word, all_corpus=bigram_corpus,\n",
    "                                                                         texts=data_bigrams, start=1, limit=11, step=1)\n",
    "\n",
    "# Creating the dataframe to hold the model list, coherence values and the number of topics list\n",
    "model_values_df = pd.DataFrame({'model_list':model_list,'coherence_values':coherence_values,'num_topics':num_topics_list})\n",
    "\n",
    "# Finds the optimal number of topics based on the highest coherence score\n",
    "optimal_num_topics = model_values_df.loc[model_values_df['coherence_values'].idxmax()]['num_topics']\n",
    "\n",
    "# Train the model based on the optimal number of topics\n",
    "optimal_model = LdaMallet(mallet_path, corpus=bigram_corpus, num_topics=6, id2word=bigram_id2word,\n",
    "                                                 prefix='amd_optimal_', random_seed=42)"
   ]
  },
  {
   "cell_type": "code",
   "execution_count": 20,
   "metadata": {
    "ExecuteTime": {
     "end_time": "2021-01-26T09:09:51.286358Z",
     "start_time": "2021-01-26T09:09:51.271344Z"
    }
   },
   "outputs": [
    {
     "data": {
      "text/html": [
       "<div>\n",
       "<style scoped>\n",
       "    .dataframe tbody tr th:only-of-type {\n",
       "        vertical-align: middle;\n",
       "    }\n",
       "\n",
       "    .dataframe tbody tr th {\n",
       "        vertical-align: top;\n",
       "    }\n",
       "\n",
       "    .dataframe thead th {\n",
       "        text-align: right;\n",
       "    }\n",
       "</style>\n",
       "<table border=\"1\" class=\"dataframe\">\n",
       "  <thead>\n",
       "    <tr style=\"text-align: right;\">\n",
       "      <th></th>\n",
       "      <th>model_list</th>\n",
       "      <th>coherence_values</th>\n",
       "      <th>num_topics</th>\n",
       "    </tr>\n",
       "  </thead>\n",
       "  <tbody>\n",
       "    <tr>\n",
       "      <th>0</th>\n",
       "      <td>&lt;gensim.models.wrappers.ldamallet.LdaMallet ob...</td>\n",
       "      <td>0.416306</td>\n",
       "      <td>1</td>\n",
       "    </tr>\n",
       "    <tr>\n",
       "      <th>1</th>\n",
       "      <td>&lt;gensim.models.wrappers.ldamallet.LdaMallet ob...</td>\n",
       "      <td>0.538678</td>\n",
       "      <td>2</td>\n",
       "    </tr>\n",
       "    <tr>\n",
       "      <th>2</th>\n",
       "      <td>&lt;gensim.models.wrappers.ldamallet.LdaMallet ob...</td>\n",
       "      <td>0.558582</td>\n",
       "      <td>3</td>\n",
       "    </tr>\n",
       "    <tr>\n",
       "      <th>3</th>\n",
       "      <td>&lt;gensim.models.wrappers.ldamallet.LdaMallet ob...</td>\n",
       "      <td>0.557991</td>\n",
       "      <td>4</td>\n",
       "    </tr>\n",
       "    <tr>\n",
       "      <th>4</th>\n",
       "      <td>&lt;gensim.models.wrappers.ldamallet.LdaMallet ob...</td>\n",
       "      <td>0.530244</td>\n",
       "      <td>5</td>\n",
       "    </tr>\n",
       "    <tr>\n",
       "      <th>5</th>\n",
       "      <td>&lt;gensim.models.wrappers.ldamallet.LdaMallet ob...</td>\n",
       "      <td>0.573811</td>\n",
       "      <td>6</td>\n",
       "    </tr>\n",
       "    <tr>\n",
       "      <th>6</th>\n",
       "      <td>&lt;gensim.models.wrappers.ldamallet.LdaMallet ob...</td>\n",
       "      <td>0.524464</td>\n",
       "      <td>7</td>\n",
       "    </tr>\n",
       "    <tr>\n",
       "      <th>7</th>\n",
       "      <td>&lt;gensim.models.wrappers.ldamallet.LdaMallet ob...</td>\n",
       "      <td>0.588468</td>\n",
       "      <td>8</td>\n",
       "    </tr>\n",
       "    <tr>\n",
       "      <th>8</th>\n",
       "      <td>&lt;gensim.models.wrappers.ldamallet.LdaMallet ob...</td>\n",
       "      <td>0.574514</td>\n",
       "      <td>9</td>\n",
       "    </tr>\n",
       "    <tr>\n",
       "      <th>9</th>\n",
       "      <td>&lt;gensim.models.wrappers.ldamallet.LdaMallet ob...</td>\n",
       "      <td>0.533312</td>\n",
       "      <td>10</td>\n",
       "    </tr>\n",
       "  </tbody>\n",
       "</table>\n",
       "</div>"
      ],
      "text/plain": [
       "                                          model_list  coherence_values  \\\n",
       "0  <gensim.models.wrappers.ldamallet.LdaMallet ob...          0.416306   \n",
       "1  <gensim.models.wrappers.ldamallet.LdaMallet ob...          0.538678   \n",
       "2  <gensim.models.wrappers.ldamallet.LdaMallet ob...          0.558582   \n",
       "3  <gensim.models.wrappers.ldamallet.LdaMallet ob...          0.557991   \n",
       "4  <gensim.models.wrappers.ldamallet.LdaMallet ob...          0.530244   \n",
       "5  <gensim.models.wrappers.ldamallet.LdaMallet ob...          0.573811   \n",
       "6  <gensim.models.wrappers.ldamallet.LdaMallet ob...          0.524464   \n",
       "7  <gensim.models.wrappers.ldamallet.LdaMallet ob...          0.588468   \n",
       "8  <gensim.models.wrappers.ldamallet.LdaMallet ob...          0.574514   \n",
       "9  <gensim.models.wrappers.ldamallet.LdaMallet ob...          0.533312   \n",
       "\n",
       "   num_topics  \n",
       "0           1  \n",
       "1           2  \n",
       "2           3  \n",
       "3           4  \n",
       "4           5  \n",
       "5           6  \n",
       "6           7  \n",
       "7           8  \n",
       "8           9  \n",
       "9          10  "
      ]
     },
     "execution_count": 20,
     "metadata": {},
     "output_type": "execute_result"
    }
   ],
   "source": [
    "model_values_df"
   ]
  },
  {
   "cell_type": "code",
   "execution_count": 21,
   "metadata": {
    "ExecuteTime": {
     "end_time": "2021-01-26T09:09:51.430491Z",
     "start_time": "2021-01-26T09:09:51.288361Z"
    },
    "scrolled": false
   },
   "outputs": [
    {
     "data": {
      "image/png": "[encoded data removed]",
      "text/plain": [
       "<Figure size 792x504 with 1 Axes>"
      ]
     },
     "metadata": {},
     "output_type": "display_data"
    }
   ],
   "source": [
    "# model_list, coherence_values = compute_coherence_values(dictionary=bigram_id2word, corpus=bigram_corpus, texts=data_bigrams, start=start, limit=limit, step=step)\n",
    "\n",
    "# Show graph\n",
    "\n",
    "x = model_values_df['num_topics'].values.tolist()\n",
    "\n",
    "plt.figure(figsize=(11,7))\n",
    "\n",
    "plt.plot(x, coherence_values)\n",
    "\n",
    "plt.title('LDA Mallet')\n",
    "plt.xlabel(\"Num Topics\")\n",
    "plt.ylabel(\"Coherence score\")\n",
    "plt.legend([\"Coherence_values\"], loc='best')\n",
    "plt.show()"
   ]
  },
  {
   "cell_type": "markdown",
   "metadata": {},
   "source": [
    "The coherence score peaks at creating 6 topics before it plummets. "
   ]
  },
  {
   "cell_type": "code",
   "execution_count": 22,
   "metadata": {
    "ExecuteTime": {
     "end_time": "2021-01-26T09:09:51.446509Z",
     "start_time": "2021-01-26T09:09:51.431494Z"
    }
   },
   "outputs": [
    {
     "name": "stdout",
     "output_type": "stream",
     "text": [
      "Num Topics = 1  has Coherence Value of 0.4163\n",
      "Num Topics = 2  has Coherence Value of 0.5387\n",
      "Num Topics = 3  has Coherence Value of 0.5586\n",
      "Num Topics = 4  has Coherence Value of 0.558\n",
      "Num Topics = 5  has Coherence Value of 0.5302\n",
      "Num Topics = 6  has Coherence Value of 0.5738\n",
      "Num Topics = 7  has Coherence Value of 0.5245\n",
      "Num Topics = 8  has Coherence Value of 0.5885\n",
      "Num Topics = 9  has Coherence Value of 0.5745\n",
      "Num Topics = 10  has Coherence Value of 0.5333\n"
     ]
    }
   ],
   "source": [
    "# Print the coherence scores\n",
    "for m, cv in zip(x, coherence_values):\n",
    "    print(\"Num Topics =\", m, \" has Coherence Value of\", round(cv, 4))"
   ]
  },
  {
   "cell_type": "markdown",
   "metadata": {},
   "source": [
    "Viewing the topics and checking if they make sense helps to decide how many topics is the optimal value. I'll be intrepreting the 5 and 6 topics."
   ]
  },
  {
   "cell_type": "markdown",
   "metadata": {},
   "source": [
    "## Exporting the optimal model to pickle file"
   ]
  },
  {
   "cell_type": "code",
   "execution_count": 23,
   "metadata": {
    "ExecuteTime": {
     "end_time": "2021-01-26T09:09:51.462514Z",
     "start_time": "2021-01-26T09:09:51.448511Z"
    }
   },
   "outputs": [],
   "source": [
    "# Save to file in the current working directory\n",
    "# Exporting the optimal model\n",
    "\n",
    "pkl_filename = \"./models/amd_optimal_ldamallet_model.pkl\"\n",
    "out_file = open(pkl_filename, 'wb')\n",
    "pickle.dump(optimal_model, out_file)\n",
    "out_file.close()"
   ]
  },
  {
   "cell_type": "markdown",
   "metadata": {},
   "source": [
    "## Exporting the 5 topics trained model to pickle file"
   ]
  },
  {
   "cell_type": "code",
   "execution_count": 24,
   "metadata": {
    "ExecuteTime": {
     "end_time": "2021-01-26T09:09:51.478511Z",
     "start_time": "2021-01-26T09:09:51.464515Z"
    }
   },
   "outputs": [],
   "source": [
    "# Save to file in the current working directory\n",
    "# Exporting the optimal model\n",
    "\n",
    "pkl_filename = \"./models/amd_5_topics_ldamallet_model.pkl\"\n",
    "out_file = open(pkl_filename, 'wb')\n",
    "pickle.dump(model_values_df['model_list'][4], out_file)\n",
    "out_file.close()"
   ]
  },
  {
   "cell_type": "markdown",
   "metadata": {},
   "source": [
    "## Importing the optimal mallet model pickle file"
   ]
  },
  {
   "cell_type": "code",
   "execution_count": 25,
   "metadata": {
    "ExecuteTime": {
     "end_time": "2021-01-26T09:09:51.494062Z",
     "start_time": "2021-01-26T09:09:51.479512Z"
    }
   },
   "outputs": [],
   "source": [
    "# pkl_filename = \"./models/amd_optimal_ldamallet_model.pkl\"\n",
    "# infile = open(pkl_filename,'rb')\n",
    "# optimal_model = pickle.load(infile)\n",
    "# infile.close()"
   ]
  },
  {
   "cell_type": "code",
   "execution_count": 26,
   "metadata": {
    "ExecuteTime": {
     "end_time": "2021-01-26T09:09:51.509728Z",
     "start_time": "2021-01-26T09:09:51.495064Z"
    }
   },
   "outputs": [],
   "source": [
    "# optimal_model"
   ]
  },
  {
   "cell_type": "markdown",
   "metadata": {},
   "source": [
    "## Importing the 5 topics mallet model pickle file"
   ]
  },
  {
   "cell_type": "code",
   "execution_count": 27,
   "metadata": {
    "ExecuteTime": {
     "end_time": "2021-01-26T09:09:51.525055Z",
     "start_time": "2021-01-26T09:09:51.510730Z"
    }
   },
   "outputs": [],
   "source": [
    "pkl_filename = \"./models/amd_5_topics_ldamallet_model.pkl\"\n",
    "infile = open(pkl_filename,'rb')\n",
    "topic_5_ldamallet = pickle.load(infile)\n",
    "infile.close()"
   ]
  },
  {
   "cell_type": "code",
   "execution_count": 28,
   "metadata": {
    "ExecuteTime": {
     "end_time": "2021-01-26T09:09:51.540739Z",
     "start_time": "2021-01-26T09:09:51.525727Z"
    }
   },
   "outputs": [],
   "source": [
    "# topic_5_ldamallet "
   ]
  },
  {
   "cell_type": "markdown",
   "metadata": {},
   "source": [
    "## Displaying topics for the optimal model (6 topics)"
   ]
  },
  {
   "cell_type": "code",
   "execution_count": 29,
   "metadata": {
    "ExecuteTime": {
     "end_time": "2021-01-26T09:09:51.556859Z",
     "start_time": "2021-01-26T09:09:51.541741Z"
    },
    "scrolled": true
   },
   "outputs": [
    {
     "name": "stdout",
     "output_type": "stream",
     "text": [
      "[(0,\n",
      "  [('gpu', 0.0396227821678843),\n",
      "   ('year', 0.0282913374086775),\n",
      "   ('cpu', 0.027135828239153125),\n",
      "   ('driver', 0.02497390785746235),\n",
      "   ('wait', 0.02292381094379007),\n",
      "   ('benchmark', 0.020351871179364843),\n",
      "   ('issue', 0.01643804979871776),\n",
      "   ('memory', 0.015990755926643806),\n",
      "   ('work', 0.013418816162218577),\n",
      "   ('series', 0.013269718204860594)]),\n",
      " (1,\n",
      "  [('people', 0.040262241647529444),\n",
      "   ('good', 0.03248388769538484),\n",
      "   ('buy', 0.0274464775168531),\n",
      "   ('time', 0.02515001111193422),\n",
      "   ('gaming', 0.019631083783984),\n",
      "   ('point', 0.01859396992369805),\n",
      "   ('price', 0.01744573672123861),\n",
      "   ('bad', 0.011519371805318913),\n",
      "   ('money', 0.011334172901696422),\n",
      "   ('lot', 0.01096377509445144)]),\n",
      " (2,\n",
      "  [('amd', 0.12985255360068382),\n",
      "   ('nvidia', 0.09202934681957405),\n",
      "   ('card', 0.028100292043592847),\n",
      "   ('lower', 0.012607735593703255),\n",
      "   ('end', 0.012394045159911675),\n",
      "   ('intel', 0.012037894436925708),\n",
      "   ('power', 0.012037894436925708),\n",
      "   ('gen', 0.011432438207849562),\n",
      "   ('compete', 0.009117458508440772),\n",
      "   ('console', 0.009117458508440772)]),\n",
      " (3,\n",
      "  [('stock', 0.02271065091035067),\n",
      "   ('launch', 0.017899072327649253),\n",
      "   ('card', 0.016705800839139306),\n",
      "   ('pc', 0.0136263905462104),\n",
      "   ('order', 0.013549405288887179),\n",
      "   ('day', 0.01331844951691751),\n",
      "   ('monitor', 0.011547788598483391),\n",
      "   ('hope', 0.009507679279417992),\n",
      "   ('waiting', 0.008429885676892875),\n",
      "   ('cc', 0.008391393048231263)]),\n",
      " (4,\n",
      "  [('3080', 0.05690940878438649),\n",
      "   ('3070', 0.05262782317051415),\n",
      "   ('6800', 0.04966639312091911),\n",
      "   ('price', 0.042851536018838975),\n",
      "   ('3090', 0.03389588610982267),\n",
      "   ('6800xt', 0.033788846469475865),\n",
      "   ('vram', 0.022942162914332608),\n",
      "   ('6900xt', 0.02015913226531559),\n",
      "   ('xt', 0.01673386377421772),\n",
      "   ('500', 0.01562778749063403)]),\n",
      " (5,\n",
      "  [('dl', 0.05174329768023336),\n",
      "   ('game', 0.04986803722739269),\n",
      "   ('ray_tracing', 0.025489651340463954),\n",
      "   ('rt', 0.020454229754132518),\n",
      "   ('feature', 0.020106959299902763),\n",
      "   ('4k', 0.01969023475482706),\n",
      "   ('rtx', 0.018127517710793167),\n",
      "   ('support', 0.016009167939991666),\n",
      "   ('1440p', 0.012015557716349493),\n",
      "   ('raytracing', 0.011980830670926517)])]\n"
     ]
    }
   ],
   "source": [
    "pprint(optimal_model.show_topics(formatted=False))"
   ]
  },
  {
   "cell_type": "markdown",
   "metadata": {},
   "source": [
    "## Interpreting the 6 topics \n",
    "\n",
    "Topic 0\n",
    "* Comparing against the price and the performance\n",
    "\n",
    "Topic 1\n",
    "* Driver related issue\n",
    "\n",
    "Topic 2\n",
    "* GPU features: ray_tracing, dlss and resolutions: 1440p, 4K\n",
    "\n",
    "Topic 3\n",
    "* Stock availability during launch of GPUs\n",
    "\n",
    "Topic 4\n",
    "* Price and performance for GPU models\n",
    "\n",
    "Topic 5\n",
    "* Comparison against the gaming consoles and the pc"
   ]
  },
  {
   "cell_type": "markdown",
   "metadata": {},
   "source": [
    "## Displaying 5 topics"
   ]
  },
  {
   "cell_type": "code",
   "execution_count": 30,
   "metadata": {
    "ExecuteTime": {
     "end_time": "2021-01-26T09:09:51.572875Z",
     "start_time": "2021-01-26T09:09:51.557861Z"
    },
    "scrolled": true
   },
   "outputs": [
    {
     "name": "stdout",
     "output_type": "stream",
     "text": [
      "[(0,\n",
      "  [('price', 0.049831609692128874),\n",
      "   ('3080', 0.04753673292999136),\n",
      "   ('3070', 0.04396030161237445),\n",
      "   ('6800', 0.04154621047298304),\n",
      "   ('3090', 0.028313414597800495),\n",
      "   ('6800xt', 0.028224003814860073),\n",
      "   ('vram', 0.019163711143563914),\n",
      "   ('6900xt', 0.016839030787112925),\n",
      "   ('benchmark', 0.016272762495156915),\n",
      "   ('xt', 0.013977885733019403)]),\n",
      " (1,\n",
      "  [('card', 0.044638676447635396),\n",
      "   ('people', 0.030466677071952553),\n",
      "   ('buy', 0.023130950522865616),\n",
      "   ('wait', 0.01919775245824879),\n",
      "   ('stock', 0.018386140159200873),\n",
      "   ('point', 0.012517558919931325),\n",
      "   ('good', 0.011737162478539098),\n",
      "   ('release', 0.011425003901982207),\n",
      "   ('bad', 0.009708131730919308),\n",
      "   ('guess', 0.00895895114718277)]),\n",
      " (2,\n",
      "  [('dl', 0.04345416897547318),\n",
      "   ('game', 0.04187931989850972),\n",
      "   ('ray_tracing', 0.021406281897984776),\n",
      "   ('rt', 0.017177520487619936),\n",
      "   ('feature', 0.01688588176966374),\n",
      "   ('4k', 0.016535915308116305),\n",
      "   ('console', 0.014698591384992271),\n",
      "   ('support', 0.013444544897780629),\n",
      "   ('rtx', 0.01277377584648138),\n",
      "   ('pc', 0.010324010615649333)]),\n",
      " (3,\n",
      "  [('amd', 0.101659252134183),\n",
      "   ('nvidia', 0.07767223758566791),\n",
      "   ('gpu', 0.03195262714921246),\n",
      "   ('cpu', 0.021882890465312013),\n",
      "   ('memory', 0.012654803414692798),\n",
      "   ('series', 0.010700973908861369),\n",
      "   ('lower', 0.01067091499338704),\n",
      "   ('end', 0.010460502585066731),\n",
      "   ('power', 0.010159913430323434),\n",
      "   ('intel', 0.010159913430323434)]),\n",
      " (4,\n",
      "  [('time', 0.026203225499825733),\n",
      "   ('year', 0.024048667659453123),\n",
      "   ('driver', 0.02122873166249485),\n",
      "   ('good', 0.019105858496245368),\n",
      "   ('issue', 0.01397294128829885),\n",
      "   ('order', 0.011153005291340579),\n",
      "   ('day', 0.010962897246601818),\n",
      "   ('5700xt', 0.010234149741769906),\n",
      "   ('number', 0.00906181679921422),\n",
      "   ('launch', 0.009030132125091093)])]\n"
     ]
    }
   ],
   "source": [
    "pprint(topic_5_ldamallet.show_topics(formatted=False))"
   ]
  },
  {
   "cell_type": "markdown",
   "metadata": {},
   "source": [
    "## Interpreting the 5 topics \n",
    "\n",
    "Topic 0\n",
    "* Driver related issue\n",
    "\n",
    "Topic 1\n",
    "* Stock availability\n",
    "\n",
    "Topic 2\n",
    "* GPU features: ray_tracing, dlss and resolutions: 1440p, 4K\n",
    "\n",
    "Topic 3\n",
    "* Price and performance for GPU models\n",
    "\n",
    "Topic 4\n",
    "* Have to do with intel, amd and Nvidia cpu and gpus. Unable to intrepret well. "
   ]
  },
  {
   "cell_type": "markdown",
   "metadata": {},
   "source": [
    "As I find the 6 topics to be the most intrepretable as well as it's one of the highest coherence score among the other models, I'll be selecting to it to move forward with the project."
   ]
  },
  {
   "cell_type": "markdown",
   "metadata": {},
   "source": [
    "# Finding the dominant topic in each sentence"
   ]
  },
  {
   "cell_type": "markdown",
   "metadata": {},
   "source": [
    "I would like to investigate the dominant topics for the documents and see if it makes sense."
   ]
  },
  {
   "cell_type": "code",
   "execution_count": 31,
   "metadata": {
    "ExecuteTime": {
     "end_time": "2021-01-26T09:09:51.588886Z",
     "start_time": "2021-01-26T09:09:51.573876Z"
    }
   },
   "outputs": [],
   "source": [
    "def format_topics_sentences(ldamodel, corpus, texts):\n",
    "    # Init output\n",
    "    sent_topics_df = pd.DataFrame()\n",
    "\n",
    "    # Get main topic in each document\n",
    "    for _, row in enumerate(ldamodel[corpus]): # ldamodel[corpus] --> Provides a list of the probability values of which topic a document belongs to\n",
    "        row = sorted(row, key=lambda x: (x[1]), reverse=True) # Sorts the probabilities of a document is descending order\n",
    "        # Get the Dominant topic, Perc Contribution and Keywords for each document\n",
    "        for j, (topic_num, prop_topic) in enumerate(row):\n",
    "            if j == 0:  # => dominant topic (As it's sorted in descending order, the highest probability is the first topic which is index 0)\n",
    "                wp = ldamodel.show_topic(topic_num) # Obtain the dominant topic for the document\n",
    "                topic_keywords = \", \".join([word for word, prop in wp]) # Gets the topic keys words for the topic\n",
    "                sent_topics_df = sent_topics_df.append(pd.Series([int(topic_num), round(prop_topic,4), topic_keywords]), ignore_index=True)\n",
    "            else:\n",
    "                break\n",
    "    sent_topics_df.columns = ['Dominant_Topic', 'Perc_Contribution', 'Topic_Keywords']\n",
    "\n",
    "    # Add original text to the end of the output\n",
    "    contents = pd.Series(texts)\n",
    "    sent_topics_df = pd.concat([sent_topics_df, contents], axis=1)\n",
    "    return sent_topics_df"
   ]
  },
  {
   "cell_type": "markdown",
   "metadata": {},
   "source": [
    "Notes: The last model trained **must match** with the last optimal_file_doctopics text file. If not, there will be an error message."
   ]
  },
  {
   "cell_type": "code",
   "execution_count": 32,
   "metadata": {
    "ExecuteTime": {
     "end_time": "2021-01-26T09:09:51.604035Z",
     "start_time": "2021-01-26T09:09:51.589890Z"
    }
   },
   "outputs": [],
   "source": [
    "# Retrain the model if you've have not done so\n",
    "# optimal_num_topics = 6\n",
    "# optimal_model = LdaMallet(mallet_path, corpus=bigram_corpus, num_topics=optimal_num_topics, id2word=bigram_id2word,\n",
    "#                                                  prefix='optimal_', random_seed=42)"
   ]
  },
  {
   "cell_type": "code",
   "execution_count": 33,
   "metadata": {
    "ExecuteTime": {
     "end_time": "2021-01-26T09:10:18.748864Z",
     "start_time": "2021-01-26T09:09:51.605036Z"
    }
   },
   "outputs": [
    {
     "data": {
      "text/html": [
       "<div>\n",
       "<style scoped>\n",
       "    .dataframe tbody tr th:only-of-type {\n",
       "        vertical-align: middle;\n",
       "    }\n",
       "\n",
       "    .dataframe tbody tr th {\n",
       "        vertical-align: top;\n",
       "    }\n",
       "\n",
       "    .dataframe thead th {\n",
       "        text-align: right;\n",
       "    }\n",
       "</style>\n",
       "<table border=\"1\" class=\"dataframe\">\n",
       "  <thead>\n",
       "    <tr style=\"text-align: right;\">\n",
       "      <th></th>\n",
       "      <th>Document_No</th>\n",
       "      <th>Dominant_Topic</th>\n",
       "      <th>Topic_Perc_Contrib</th>\n",
       "      <th>Keywords</th>\n",
       "      <th>Document</th>\n",
       "    </tr>\n",
       "  </thead>\n",
       "  <tbody>\n",
       "    <tr>\n",
       "      <th>0</th>\n",
       "      <td>0</td>\n",
       "      <td>2.0</td>\n",
       "      <td>0.1950</td>\n",
       "      <td>amd, nvidia, card, lower, end, intel, power, g...</td>\n",
       "      <td>[sound, samsung_8nm, cheap]</td>\n",
       "    </tr>\n",
       "    <tr>\n",
       "      <th>1</th>\n",
       "      <td>1</td>\n",
       "      <td>5.0</td>\n",
       "      <td>0.1893</td>\n",
       "      <td>dl, game, ray_tracing, rt, feature, 4k, rtx, s...</td>\n",
       "      <td>[ethic, mongol, invasion, tech]</td>\n",
       "    </tr>\n",
       "    <tr>\n",
       "      <th>2</th>\n",
       "      <td>2</td>\n",
       "      <td>5.0</td>\n",
       "      <td>0.2066</td>\n",
       "      <td>dl, game, ray_tracing, rt, feature, 4k, rtx, s...</td>\n",
       "      <td>[nvidia, software, ai, learning, big, selling,...</td>\n",
       "    </tr>\n",
       "    <tr>\n",
       "      <th>3</th>\n",
       "      <td>3</td>\n",
       "      <td>2.0</td>\n",
       "      <td>0.2515</td>\n",
       "      <td>amd, nvidia, card, lower, end, intel, power, g...</td>\n",
       "      <td>[excited, amd, guy, compete, going, nvidia, br...</td>\n",
       "    </tr>\n",
       "    <tr>\n",
       "      <th>4</th>\n",
       "      <td>4</td>\n",
       "      <td>4.0</td>\n",
       "      <td>0.2072</td>\n",
       "      <td>3080, 3070, 6800, price, 3090, 6800xt, vram, 6...</td>\n",
       "      <td>[think, nvidia, actualy, competing, new, conso...</td>\n",
       "    </tr>\n",
       "    <tr>\n",
       "      <th>5</th>\n",
       "      <td>5</td>\n",
       "      <td>2.0</td>\n",
       "      <td>0.3385</td>\n",
       "      <td>amd, nvidia, card, lower, end, intel, power, g...</td>\n",
       "      <td>[reputable, leak, rdna2, say, 40, 50, faster, ...</td>\n",
       "    </tr>\n",
       "    <tr>\n",
       "      <th>6</th>\n",
       "      <td>6</td>\n",
       "      <td>2.0</td>\n",
       "      <td>0.3686</td>\n",
       "      <td>amd, nvidia, card, lower, end, intel, power, g...</td>\n",
       "      <td>[im, sure, amd, good, rdna, generation, rt, im...</td>\n",
       "    </tr>\n",
       "    <tr>\n",
       "      <th>7</th>\n",
       "      <td>7</td>\n",
       "      <td>2.0</td>\n",
       "      <td>0.2083</td>\n",
       "      <td>amd, nvidia, card, lower, end, intel, power, g...</td>\n",
       "      <td>[b4, refresh, ampere, 7nm, throw, dirt, wound,...</td>\n",
       "    </tr>\n",
       "    <tr>\n",
       "      <th>8</th>\n",
       "      <td>8</td>\n",
       "      <td>1.0</td>\n",
       "      <td>0.2531</td>\n",
       "      <td>people, good, buy, time, gaming, point, price,...</td>\n",
       "      <td>[thread, deleted, aswell, post, r, p, amd, off...</td>\n",
       "    </tr>\n",
       "    <tr>\n",
       "      <th>9</th>\n",
       "      <td>9</td>\n",
       "      <td>2.0</td>\n",
       "      <td>0.1919</td>\n",
       "      <td>amd, nvidia, card, lower, end, intel, power, g...</td>\n",
       "      <td>[amd, going, need, pull, double, 5700xt, wish,...</td>\n",
       "    </tr>\n",
       "  </tbody>\n",
       "</table>\n",
       "</div>"
      ],
      "text/plain": [
       "   Document_No  Dominant_Topic  Topic_Perc_Contrib  \\\n",
       "0            0             2.0              0.1950   \n",
       "1            1             5.0              0.1893   \n",
       "2            2             5.0              0.2066   \n",
       "3            3             2.0              0.2515   \n",
       "4            4             4.0              0.2072   \n",
       "5            5             2.0              0.3385   \n",
       "6            6             2.0              0.3686   \n",
       "7            7             2.0              0.2083   \n",
       "8            8             1.0              0.2531   \n",
       "9            9             2.0              0.1919   \n",
       "\n",
       "                                            Keywords  \\\n",
       "0  amd, nvidia, card, lower, end, intel, power, g...   \n",
       "1  dl, game, ray_tracing, rt, feature, 4k, rtx, s...   \n",
       "2  dl, game, ray_tracing, rt, feature, 4k, rtx, s...   \n",
       "3  amd, nvidia, card, lower, end, intel, power, g...   \n",
       "4  3080, 3070, 6800, price, 3090, 6800xt, vram, 6...   \n",
       "5  amd, nvidia, card, lower, end, intel, power, g...   \n",
       "6  amd, nvidia, card, lower, end, intel, power, g...   \n",
       "7  amd, nvidia, card, lower, end, intel, power, g...   \n",
       "8  people, good, buy, time, gaming, point, price,...   \n",
       "9  amd, nvidia, card, lower, end, intel, power, g...   \n",
       "\n",
       "                                            Document  \n",
       "0                        [sound, samsung_8nm, cheap]  \n",
       "1                    [ethic, mongol, invasion, tech]  \n",
       "2  [nvidia, software, ai, learning, big, selling,...  \n",
       "3  [excited, amd, guy, compete, going, nvidia, br...  \n",
       "4  [think, nvidia, actualy, competing, new, conso...  \n",
       "5  [reputable, leak, rdna2, say, 40, 50, faster, ...  \n",
       "6  [im, sure, amd, good, rdna, generation, rt, im...  \n",
       "7  [b4, refresh, ampere, 7nm, throw, dirt, wound,...  \n",
       "8  [thread, deleted, aswell, post, r, p, amd, off...  \n",
       "9  [amd, going, need, pull, double, 5700xt, wish,...  "
      ]
     },
     "execution_count": 33,
     "metadata": {},
     "output_type": "execute_result"
    }
   ],
   "source": [
    "df_topic_sents_keywords = format_topics_sentences(ldamodel=optimal_model, corpus=bigram_corpus, texts=data_bigrams)\n",
    "\n",
    "# Format\n",
    "df_dominant_topic = df_topic_sents_keywords.reset_index()\n",
    "df_dominant_topic.columns = ['Document_No', 'Dominant_Topic', 'Topic_Perc_Contrib', 'Keywords', 'Document']\n",
    "\n",
    "# Show\n",
    "df_dominant_topic.head(10)"
   ]
  },
  {
   "cell_type": "code",
   "execution_count": 34,
   "metadata": {
    "ExecuteTime": {
     "end_time": "2021-01-26T09:10:18.764878Z",
     "start_time": "2021-01-26T09:10:18.748864Z"
    }
   },
   "outputs": [],
   "source": [
    "# Sort the dataframe in ascending order by the topic percentage contribution\n",
    "df_dominant_topic_sorted = df_dominant_topic.sort_values('Topic_Perc_Contrib', ascending=False)\n",
    "idx = np.random.randint(df_dominant_topic_sorted.shape[0])\n",
    "# idx = 250\n",
    "document = df_dominant_topic_sorted[['Document']].iloc[idx].values\n",
    "dominant_topic = df_dominant_topic_sorted[['Dominant_Topic']].iloc[idx].values\n",
    "dominant_keywords = df_dominant_topic_sorted[['Keywords']].iloc[idx].values"
   ]
  },
  {
   "cell_type": "code",
   "execution_count": 35,
   "metadata": {
    "ExecuteTime": {
     "end_time": "2021-01-26T09:10:18.780892Z",
     "start_time": "2021-01-26T09:10:18.765879Z"
    }
   },
   "outputs": [
    {
     "name": "stdout",
     "output_type": "stream",
     "text": [
      "Dominant keywords: ['3080, 3070, 6800, price, 3090, 6800xt, vram, 6900xt, xt, 500'] \n",
      "\n",
      "Document:[list(['double', 'vram', 'fair', 'price'])]\n"
     ]
    }
   ],
   "source": [
    "print(f'Dominant keywords: {dominant_keywords} \\n\\nDocument:{document}')"
   ]
  },
  {
   "cell_type": "markdown",
   "metadata": {},
   "source": [
    "The document is relating to the price and performance of AMD against the Nividia's pascal and ampere's generation of GPUs as well as discussing about the Thermal Design Power (TDP) in which the GPUs generate heat and draw electricity as `100w` was seen in the document. "
   ]
  },
  {
   "cell_type": "code",
   "execution_count": 36,
   "metadata": {
    "ExecuteTime": {
     "end_time": "2021-01-26T09:10:18.812100Z",
     "start_time": "2021-01-26T09:10:18.781893Z"
    }
   },
   "outputs": [
    {
     "name": "stdout",
     "output_type": "stream",
     "text": [
      "Dominant keywords: ['3080, 3070, 6800, price, 3090, 6800xt, vram, 6900xt, xt, 500'] \n",
      "\n",
      " Document:[list(['double', 'vram', 'fair', 'price'])]\n"
     ]
    }
   ],
   "source": [
    "print(f'Dominant keywords: {dominant_keywords} \\n\\n Document:{document}')"
   ]
  },
  {
   "cell_type": "markdown",
   "metadata": {
    "ExecuteTime": {
     "end_time": "2021-01-23T09:46:19.862202Z",
     "start_time": "2021-01-23T09:46:19.847189Z"
    }
   },
   "source": [
    "In the above document, the dominant keywords reflect the document with purchasing a GPU. "
   ]
  },
  {
   "cell_type": "markdown",
   "metadata": {},
   "source": [
    "# Find the most representative document for each topic"
   ]
  },
  {
   "cell_type": "code",
   "execution_count": 37,
   "metadata": {
    "ExecuteTime": {
     "end_time": "2021-01-26T09:10:18.844119Z",
     "start_time": "2021-01-26T09:10:18.813103Z"
    }
   },
   "outputs": [
    {
     "data": {
      "text/html": [
       "<div>\n",
       "<style scoped>\n",
       "    .dataframe tbody tr th:only-of-type {\n",
       "        vertical-align: middle;\n",
       "    }\n",
       "\n",
       "    .dataframe tbody tr th {\n",
       "        vertical-align: top;\n",
       "    }\n",
       "\n",
       "    .dataframe thead th {\n",
       "        text-align: right;\n",
       "    }\n",
       "</style>\n",
       "<table border=\"1\" class=\"dataframe\">\n",
       "  <thead>\n",
       "    <tr style=\"text-align: right;\">\n",
       "      <th></th>\n",
       "      <th>Topic_Num</th>\n",
       "      <th>Topic_Perc_Contrib</th>\n",
       "      <th>Keywords</th>\n",
       "      <th>Representative Text</th>\n",
       "    </tr>\n",
       "  </thead>\n",
       "  <tbody>\n",
       "    <tr>\n",
       "      <th>0</th>\n",
       "      <td>0.0</td>\n",
       "      <td>0.5616</td>\n",
       "      <td>gpu, year, cpu, driver, wait, benchmark, issue...</td>\n",
       "      <td>[selection, frame, index, 0, excludes, type, x...</td>\n",
       "    </tr>\n",
       "    <tr>\n",
       "      <th>1</th>\n",
       "      <td>1.0</td>\n",
       "      <td>0.7244</td>\n",
       "      <td>people, good, buy, time, gaming, point, price,...</td>\n",
       "      <td>[corrected, multiple, time, insinuating, decis...</td>\n",
       "    </tr>\n",
       "    <tr>\n",
       "      <th>2</th>\n",
       "      <td>2.0</td>\n",
       "      <td>0.4815</td>\n",
       "      <td>amd, nvidia, card, lower, end, intel, power, g...</td>\n",
       "      <td>[important, caveat, amphere, samsung_8nm, far,...</td>\n",
       "    </tr>\n",
       "    <tr>\n",
       "      <th>3</th>\n",
       "      <td>3.0</td>\n",
       "      <td>0.5273</td>\n",
       "      <td>stock, launch, card, pc, order, day, monitor, ...</td>\n",
       "      <td>[alright, called, couple, cc, location, 4038, ...</td>\n",
       "    </tr>\n",
       "    <tr>\n",
       "      <th>4</th>\n",
       "      <td>4.0</td>\n",
       "      <td>0.4940</td>\n",
       "      <td>3080, 3070, 6800, price, 3090, 6800xt, vram, 6...</td>\n",
       "      <td>[confused, according, titan, 2080_ti, successo...</td>\n",
       "    </tr>\n",
       "    <tr>\n",
       "      <th>5</th>\n",
       "      <td>5.0</td>\n",
       "      <td>0.6129</td>\n",
       "      <td>dl, game, ray_tracing, rt, feature, 4k, rtx, s...</td>\n",
       "      <td>[example, ray_tracing, insanely, computational...</td>\n",
       "    </tr>\n",
       "  </tbody>\n",
       "</table>\n",
       "</div>"
      ],
      "text/plain": [
       "   Topic_Num  Topic_Perc_Contrib  \\\n",
       "0        0.0              0.5616   \n",
       "1        1.0              0.7244   \n",
       "2        2.0              0.4815   \n",
       "3        3.0              0.5273   \n",
       "4        4.0              0.4940   \n",
       "5        5.0              0.6129   \n",
       "\n",
       "                                            Keywords  \\\n",
       "0  gpu, year, cpu, driver, wait, benchmark, issue...   \n",
       "1  people, good, buy, time, gaming, point, price,...   \n",
       "2  amd, nvidia, card, lower, end, intel, power, g...   \n",
       "3  stock, launch, card, pc, order, day, monitor, ...   \n",
       "4  3080, 3070, 6800, price, 3090, 6800xt, vram, 6...   \n",
       "5  dl, game, ray_tracing, rt, feature, 4k, rtx, s...   \n",
       "\n",
       "                                 Representative Text  \n",
       "0  [selection, frame, index, 0, excludes, type, x...  \n",
       "1  [corrected, multiple, time, insinuating, decis...  \n",
       "2  [important, caveat, amphere, samsung_8nm, far,...  \n",
       "3  [alright, called, couple, cc, location, 4038, ...  \n",
       "4  [confused, according, titan, 2080_ti, successo...  \n",
       "5  [example, ray_tracing, insanely, computational...  "
      ]
     },
     "execution_count": 37,
     "metadata": {},
     "output_type": "execute_result"
    }
   ],
   "source": [
    "sent_topics_sorteddf_mallet = pd.DataFrame()\n",
    "sent_topics_outdf_grpd = df_topic_sents_keywords.groupby('Dominant_Topic')\n",
    "\n",
    "for i, grp in sent_topics_outdf_grpd:\n",
    "    sent_topics_sorteddf_mallet = pd.concat([sent_topics_sorteddf_mallet, \n",
    "                                             grp.sort_values(['Perc_Contribution'], ascending=False).head(1)], \n",
    "                                            axis=0)\n",
    "\n",
    "# Reset Index    \n",
    "sent_topics_sorteddf_mallet.reset_index(drop=True, inplace=True)\n",
    "\n",
    "# Format the columns\n",
    "sent_topics_sorteddf_mallet.columns = ['Topic_Num', \"Topic_Perc_Contrib\", \"Keywords\", \"Representative Text\"]\n",
    "\n",
    "# Show\n",
    "sent_topics_sorteddf_mallet.head(10)"
   ]
  },
  {
   "cell_type": "markdown",
   "metadata": {},
   "source": [
    "## Most representative document for Topic 0"
   ]
  },
  {
   "cell_type": "code",
   "execution_count": 38,
   "metadata": {
    "ExecuteTime": {
     "end_time": "2021-01-26T09:10:18.860131Z",
     "start_time": "2021-01-26T09:10:18.845120Z"
    }
   },
   "outputs": [],
   "source": [
    "# Create a helper function to display the most representative documents for a topic\n",
    "def display_representative_document(topic_n, df):\n",
    "    dominant_keywords = df['Keywords'].loc[topic_n]\n",
    "    document_topic = \" \".join(df['Representative Text'].loc[topic_n])\n",
    "    \n",
    "    print(f'*******Topic {topic_n}********\\n\\nDominant keywords: {dominant_keywords} \\n\\nDocument:{document_topic}')"
   ]
  },
  {
   "cell_type": "code",
   "execution_count": 39,
   "metadata": {
    "ExecuteTime": {
     "end_time": "2021-01-26T09:10:18.876134Z",
     "start_time": "2021-01-26T09:10:18.861132Z"
    }
   },
   "outputs": [
    {
     "name": "stdout",
     "output_type": "stream",
     "text": [
      "*******Topic 0********\n",
      "\n",
      "Dominant keywords: gpu, year, cpu, driver, wait, benchmark, issue, memory, work, series \n",
      "\n",
      "Document:selection frame index 0 excludes type xpath expr body main role main div_class layout content div_contains class region div_contains class block div_class container div_class row flex h4 includes type xpath expr body main role main div_class layout content div_contains class region div_contains class block div_class container div_class row flex div dynamic true delay 0 ignoreemptytext true includestyle false dataattr text make_sense thanks\n"
     ]
    }
   ],
   "source": [
    "display_representative_document(0, sent_topics_sorteddf_mallet)"
   ]
  },
  {
   "cell_type": "markdown",
   "metadata": {},
   "source": [
    "The document talks about the price and performance of AMD's 6800xt and 6900xt which fits the topic of the `price` and `performance` of the card."
   ]
  },
  {
   "cell_type": "markdown",
   "metadata": {},
   "source": [
    "## Most representative document for Topic 1"
   ]
  },
  {
   "cell_type": "code",
   "execution_count": 40,
   "metadata": {
    "ExecuteTime": {
     "end_time": "2021-01-26T09:10:18.891388Z",
     "start_time": "2021-01-26T09:10:18.877134Z"
    }
   },
   "outputs": [
    {
     "name": "stdout",
     "output_type": "stream",
     "text": [
      "*******Topic 1********\n",
      "\n",
      "Dominant keywords: people, good, buy, time, gaming, point, price, bad, money, lot \n",
      "\n",
      "Document:corrected multiple time insinuating decision stem 700 msrp mentioned comment bud wrong disclosed reply comment original reply stated sounded bad idea original comment disclosed information original reply said sounded bad idea possible different conclusion different circumstance clarified simply said 6800xt obviously 6900xt expensive imply terrible_idea simply implied look worth trouble insinuate decision stem 700 msrp insinuated terrible_idea upset look r hardwareswap selling 3080s loss arguing entirely bad faith point cared paid 150 base 700 msrp place decision entirely stem 850 price point time repeat stop twisting single word fuck word twist care r hardwareswap rate 3080 aways talking price launch date new radeon card later imagined talking usual case_scenario reason sound calm f buddy completely blind think sell right 850 model stated comment learn read stop backtracking literally comment insanely delusional backtrack word help argument imagine quoted example labeled extreme example situation exemplify particular situation bad idea originaly said sounded msrp value card higher price wow finally came term rest comment based situation literally making shit pretend argument good job cya lmao buddy rough day know example want google\n"
     ]
    }
   ],
   "source": [
    "display_representative_document(1, sent_topics_sorteddf_mallet)"
   ]
  },
  {
   "cell_type": "markdown",
   "metadata": {
    "ExecuteTime": {
     "end_time": "2021-01-24T01:39:13.797937Z",
     "start_time": "2021-01-24T01:39:13.790930Z"
    }
   },
   "source": [
    "The document does not make sense as it's talking about HTML syntaxes which the model poorly interpreted."
   ]
  },
  {
   "cell_type": "markdown",
   "metadata": {},
   "source": [
    "## Most representative document for Topic 2"
   ]
  },
  {
   "cell_type": "code",
   "execution_count": 41,
   "metadata": {
    "ExecuteTime": {
     "end_time": "2021-01-26T09:10:18.907405Z",
     "start_time": "2021-01-26T09:10:18.892390Z"
    }
   },
   "outputs": [
    {
     "name": "stdout",
     "output_type": "stream",
     "text": [
      "*******Topic 2********\n",
      "\n",
      "Dominant keywords: amd, nvidia, card, lower, end, intel, power, gen, compete, console \n",
      "\n",
      "Document:important caveat amphere samsung_8nm far tell actually inferior tsmc_n7 lower yield density bad clock voltage scaling horrendous explain high power usage 320_watt rtx 3080 jeez amd tsmc n7p 7nm mean higher clock lower power_consumption look clock console surprised amd break ghz gen considering ps5 max frequency 2230 mhz amphere clock actually surprisingly low 1700 mhz impressive base clock entirely unexpected samsung_8nm apparently scale clockspeeds poorly rumored nvidia testing 2ghz sample tsmc_7nm sense dispute tsmc limited wafer supply samsung big portion lineup\n"
     ]
    }
   ],
   "source": [
    "display_representative_document(2, sent_topics_sorteddf_mallet)"
   ]
  },
  {
   "cell_type": "markdown",
   "metadata": {},
   "source": [
    "The document discusses about [ray tracing](https://www.techradar.com/news/ray-tracing) which gives more lifelike shadows and reflections, along with much-improved translucence and scattering in games. This fits the topic in which it has the keyword `ray_tracing`, `performance`."
   ]
  },
  {
   "cell_type": "markdown",
   "metadata": {},
   "source": [
    "## Most representative document for Topic 3"
   ]
  },
  {
   "cell_type": "code",
   "execution_count": 42,
   "metadata": {
    "ExecuteTime": {
     "end_time": "2021-01-26T09:10:18.923425Z",
     "start_time": "2021-01-26T09:10:18.908406Z"
    }
   },
   "outputs": [
    {
     "name": "stdout",
     "output_type": "stream",
     "text": [
      "*******Topic 3********\n",
      "\n",
      "Dominant keywords: stock, launch, card, pc, order, day, monitor, hope, waiting, cc \n",
      "\n",
      "Document:alright called couple cc location 4038 hwy 7 unionville personal fav 6600 yonge st manager unionville sure 6800xt card tmr allow pre_order partner card preorders reference version priority taking pre_order reference card apparently come head office rep spoke manager centerpoint know tmr unlikely taking pre_order mixed message existing pre_order priority partner pre_order location belief reference card existing order need fulfill aib card absolutely word model going coming\n"
     ]
    }
   ],
   "source": [
    "display_representative_document(3, sent_topics_sorteddf_mallet)"
   ]
  },
  {
   "cell_type": "markdown",
   "metadata": {},
   "source": [
    "The document talks about the pre ordering AMD's 6800xt which fits the topic on purchasing a GPU during the GPU's launch"
   ]
  },
  {
   "cell_type": "markdown",
   "metadata": {},
   "source": [
    "## Most representative document for Topic 4"
   ]
  },
  {
   "cell_type": "code",
   "execution_count": 43,
   "metadata": {
    "ExecuteTime": {
     "end_time": "2021-01-26T09:10:18.939446Z",
     "start_time": "2021-01-26T09:10:18.924427Z"
    }
   },
   "outputs": [
    {
     "name": "stdout",
     "output_type": "stream",
     "text": [
      "*******Topic 4********\n",
      "\n",
      "Dominant keywords: 3080, 3070, 6800, price, 3090, 6800xt, vram, 6900xt, xt, 500 \n",
      "\n",
      "Document:confused according titan 2080_ti successor pick dude 911 stroking 3090 24g memory titan nvidia basically merged 3090 titan driver nvidia charging 1500 fastest fastest vram 2080_ti successor titan spec possible nvidia higher childish insult show person completely ignored 6900_xt exists match 3090 dumb quesetion know saying 6800 xt 3080 overclocked match 6900xt exists match 3090 amd allow 6800xt match 6900xt ergo let buy essentially gpu 650 equivalent 6900xt selling 6900xt 1000 nvidia allow 3080 match 3090 question gotta ask word 6900xt 3090 claim 6800xt 3090 claiming 6800xt 6900xt equivalently 650 1000 claimed 6800 xt aib oc 3090 6900_xt binned die 6800 xt version 6900_xt dead core binned 6800 xt pile 8 compute_unit difference obviously sense taking context\n"
     ]
    }
   ],
   "source": [
    "display_representative_document(4, sent_topics_sorteddf_mallet)"
   ]
  },
  {
   "cell_type": "markdown",
   "metadata": {},
   "source": [
    "The document compares Nvidia's GPUs, the 3070, 3080 and the 3090 against AMD's GPUs, the 6800, 6800xt and the 6900xt which adequately matches the topic."
   ]
  },
  {
   "cell_type": "markdown",
   "metadata": {},
   "source": [
    "## Most representative document for Topic 5"
   ]
  },
  {
   "cell_type": "code",
   "execution_count": 44,
   "metadata": {
    "ExecuteTime": {
     "end_time": "2021-01-26T09:10:18.955468Z",
     "start_time": "2021-01-26T09:10:18.940447Z"
    }
   },
   "outputs": [
    {
     "name": "stdout",
     "output_type": "stream",
     "text": [
      "*******Topic 5********\n",
      "\n",
      "Dominant keywords: dl, game, ray_tracing, rt, feature, 4k, rtx, support, 1440p, raytracing \n",
      "\n",
      "Document:example ray_tracing insanely computationally expensive push higher higher resolution jumping 1080p 1440p 4k adding big load ray_tracing exacerbates essentially enabling ray_tracing half huge hit think agree exactly dl important negates halving ray_tracing guarantee devs away completely fake baking lighting cube map use rtx know long way away unfortunately yes computationally expensive far easier devs implement physic based work box hundred hour cube map hit generally getting ray_tracing effect certain area example ray_traced environmental lighting effect muzzle trade lighting option severe penalty yep absolute best implementation control far good cyberpunk implementation albeit bet extremely good given close partnership nvidia said implementation computational cost high best cast ray pixel enormously far realistic rendering theoretically say need cast 500 ray pixel simulate true ray pixel extremely obvious ray_tracing active game implemented properly metro_exodus global illumination control regardless ray_tracing visual benefit worth imo trying thing forward struggling hit severe casting abysmal ray end massively noisy image requires effort denoise awful supersampling upscale true honestly think ray_tracing premature way forward completely agree ray cast limitation type lighting apply cost incurs current resolution remedy denoising upsampling fix huge meh think premature mean anymore time 1st variation hell couple variation new tech going premature new issue arise pas said premature phase developed technology need continue advance think amd approach hybridization bvh traversal make_sense push traditional rasterization support rt leverage cu enable dedicating huge portion die leverage effect tradeoff make_sense visually sure agree probably way forward decade nvidia correctly igorslab leak raster benchmark matched shown presentation rt worse amd amd said working dl equivalent actual demo shown separate part die hardware accelerated individually way\n"
     ]
    }
   ],
   "source": [
    "display_representative_document(5, sent_topics_sorteddf_mallet)"
   ]
  },
  {
   "cell_type": "markdown",
   "metadata": {},
   "source": [
    "Unable to intrepret the document well as it discusses about the turing complete machine, whereas the topic discusses about the PC and gaming consoles."
   ]
  },
  {
   "cell_type": "markdown",
   "metadata": {},
   "source": [
    "# Topic distribution across documents"
   ]
  },
  {
   "cell_type": "code",
   "execution_count": 45,
   "metadata": {
    "ExecuteTime": {
     "end_time": "2021-01-26T09:10:18.971484Z",
     "start_time": "2021-01-26T09:10:18.956470Z"
    }
   },
   "outputs": [
    {
     "data": {
      "text/html": [
       "<div>\n",
       "<style scoped>\n",
       "    .dataframe tbody tr th:only-of-type {\n",
       "        vertical-align: middle;\n",
       "    }\n",
       "\n",
       "    .dataframe tbody tr th {\n",
       "        vertical-align: top;\n",
       "    }\n",
       "\n",
       "    .dataframe thead th {\n",
       "        text-align: right;\n",
       "    }\n",
       "</style>\n",
       "<table border=\"1\" class=\"dataframe\">\n",
       "  <thead>\n",
       "    <tr style=\"text-align: right;\">\n",
       "      <th></th>\n",
       "      <th>Dominant_Topic</th>\n",
       "      <th>Topic_Keywords</th>\n",
       "      <th>Num_Documents</th>\n",
       "      <th>Perc_Documents</th>\n",
       "    </tr>\n",
       "  </thead>\n",
       "  <tbody>\n",
       "    <tr>\n",
       "      <th>0.0</th>\n",
       "      <td>0.0</td>\n",
       "      <td>gpu, year, cpu, driver, wait, benchmark, issue...</td>\n",
       "      <td>2682</td>\n",
       "      <td>0.1846</td>\n",
       "    </tr>\n",
       "    <tr>\n",
       "      <th>1.0</th>\n",
       "      <td>1.0</td>\n",
       "      <td>people, good, buy, time, gaming, point, price,...</td>\n",
       "      <td>2090</td>\n",
       "      <td>0.1439</td>\n",
       "    </tr>\n",
       "    <tr>\n",
       "      <th>2.0</th>\n",
       "      <td>2.0</td>\n",
       "      <td>amd, nvidia, card, lower, end, intel, power, g...</td>\n",
       "      <td>2198</td>\n",
       "      <td>0.1513</td>\n",
       "    </tr>\n",
       "    <tr>\n",
       "      <th>3.0</th>\n",
       "      <td>3.0</td>\n",
       "      <td>stock, launch, card, pc, order, day, monitor, ...</td>\n",
       "      <td>2747</td>\n",
       "      <td>0.1891</td>\n",
       "    </tr>\n",
       "    <tr>\n",
       "      <th>4.0</th>\n",
       "      <td>4.0</td>\n",
       "      <td>3080, 3070, 6800, price, 3090, 6800xt, vram, 6...</td>\n",
       "      <td>2604</td>\n",
       "      <td>0.1793</td>\n",
       "    </tr>\n",
       "    <tr>\n",
       "      <th>5.0</th>\n",
       "      <td>5.0</td>\n",
       "      <td>dl, game, ray_tracing, rt, feature, 4k, rtx, s...</td>\n",
       "      <td>2205</td>\n",
       "      <td>0.1518</td>\n",
       "    </tr>\n",
       "  </tbody>\n",
       "</table>\n",
       "</div>"
      ],
      "text/plain": [
       "     Dominant_Topic                                     Topic_Keywords  \\\n",
       "0.0             0.0  gpu, year, cpu, driver, wait, benchmark, issue...   \n",
       "1.0             1.0  people, good, buy, time, gaming, point, price,...   \n",
       "2.0             2.0  amd, nvidia, card, lower, end, intel, power, g...   \n",
       "3.0             3.0  stock, launch, card, pc, order, day, monitor, ...   \n",
       "4.0             4.0  3080, 3070, 6800, price, 3090, 6800xt, vram, 6...   \n",
       "5.0             5.0  dl, game, ray_tracing, rt, feature, 4k, rtx, s...   \n",
       "\n",
       "     Num_Documents  Perc_Documents  \n",
       "0.0           2682          0.1846  \n",
       "1.0           2090          0.1439  \n",
       "2.0           2198          0.1513  \n",
       "3.0           2747          0.1891  \n",
       "4.0           2604          0.1793  \n",
       "5.0           2205          0.1518  "
      ]
     },
     "execution_count": 45,
     "metadata": {},
     "output_type": "execute_result"
    }
   ],
   "source": [
    "# Number of Documents for Each Topic\n",
    "topic_counts = df_topic_sents_keywords['Dominant_Topic'].value_counts().sort_index()\n",
    "\n",
    "# Percentage of Documents for Each Topic\n",
    "topic_contribution = round(topic_counts/topic_counts.sum(), 4)\n",
    "\n",
    "# Topic Number and Keywords\n",
    "topic_num = pd.Series(sorted(df_topic_sents_keywords['Dominant_Topic'].unique()))\n",
    "topic_keywords = sent_topics_sorteddf_mallet['Keywords']\n",
    "\n",
    "# Concatenate Column wise\n",
    "df_dominant_topics = pd.concat([topic_num, topic_keywords, topic_counts, topic_contribution], axis=1)\n",
    "\n",
    "# Change Column names\n",
    "df_dominant_topics.columns = ['Dominant_Topic', 'Topic_Keywords', 'Num_Documents', 'Perc_Documents']\n",
    "\n",
    "# Show\n",
    "df_dominant_topics.head(6)"
   ]
  },
  {
   "cell_type": "code",
   "execution_count": 46,
   "metadata": {
    "ExecuteTime": {
     "end_time": "2021-01-26T09:10:18.987501Z",
     "start_time": "2021-01-26T09:10:18.972485Z"
    }
   },
   "outputs": [
    {
     "data": {
      "text/html": [
       "<div>\n",
       "<style scoped>\n",
       "    .dataframe tbody tr th:only-of-type {\n",
       "        vertical-align: middle;\n",
       "    }\n",
       "\n",
       "    .dataframe tbody tr th {\n",
       "        vertical-align: top;\n",
       "    }\n",
       "\n",
       "    .dataframe thead th {\n",
       "        text-align: right;\n",
       "    }\n",
       "</style>\n",
       "<table border=\"1\" class=\"dataframe\">\n",
       "  <thead>\n",
       "    <tr style=\"text-align: right;\">\n",
       "      <th></th>\n",
       "      <th>Dominant_Topic</th>\n",
       "      <th>Topic_Keywords</th>\n",
       "      <th>Num_Documents</th>\n",
       "      <th>Perc_Documents</th>\n",
       "    </tr>\n",
       "  </thead>\n",
       "  <tbody>\n",
       "    <tr>\n",
       "      <th>3.0</th>\n",
       "      <td>3.0</td>\n",
       "      <td>stock, launch, card, pc, order, day, monitor, ...</td>\n",
       "      <td>2747</td>\n",
       "      <td>0.1891</td>\n",
       "    </tr>\n",
       "    <tr>\n",
       "      <th>0.0</th>\n",
       "      <td>0.0</td>\n",
       "      <td>gpu, year, cpu, driver, wait, benchmark, issue...</td>\n",
       "      <td>2682</td>\n",
       "      <td>0.1846</td>\n",
       "    </tr>\n",
       "    <tr>\n",
       "      <th>4.0</th>\n",
       "      <td>4.0</td>\n",
       "      <td>3080, 3070, 6800, price, 3090, 6800xt, vram, 6...</td>\n",
       "      <td>2604</td>\n",
       "      <td>0.1793</td>\n",
       "    </tr>\n",
       "    <tr>\n",
       "      <th>5.0</th>\n",
       "      <td>5.0</td>\n",
       "      <td>dl, game, ray_tracing, rt, feature, 4k, rtx, s...</td>\n",
       "      <td>2205</td>\n",
       "      <td>0.1518</td>\n",
       "    </tr>\n",
       "    <tr>\n",
       "      <th>2.0</th>\n",
       "      <td>2.0</td>\n",
       "      <td>amd, nvidia, card, lower, end, intel, power, g...</td>\n",
       "      <td>2198</td>\n",
       "      <td>0.1513</td>\n",
       "    </tr>\n",
       "    <tr>\n",
       "      <th>1.0</th>\n",
       "      <td>1.0</td>\n",
       "      <td>people, good, buy, time, gaming, point, price,...</td>\n",
       "      <td>2090</td>\n",
       "      <td>0.1439</td>\n",
       "    </tr>\n",
       "  </tbody>\n",
       "</table>\n",
       "</div>"
      ],
      "text/plain": [
       "     Dominant_Topic                                     Topic_Keywords  \\\n",
       "3.0             3.0  stock, launch, card, pc, order, day, monitor, ...   \n",
       "0.0             0.0  gpu, year, cpu, driver, wait, benchmark, issue...   \n",
       "4.0             4.0  3080, 3070, 6800, price, 3090, 6800xt, vram, 6...   \n",
       "5.0             5.0  dl, game, ray_tracing, rt, feature, 4k, rtx, s...   \n",
       "2.0             2.0  amd, nvidia, card, lower, end, intel, power, g...   \n",
       "1.0             1.0  people, good, buy, time, gaming, point, price,...   \n",
       "\n",
       "     Num_Documents  Perc_Documents  \n",
       "3.0           2747          0.1891  \n",
       "0.0           2682          0.1846  \n",
       "4.0           2604          0.1793  \n",
       "5.0           2205          0.1518  \n",
       "2.0           2198          0.1513  \n",
       "1.0           2090          0.1439  "
      ]
     },
     "execution_count": 46,
     "metadata": {},
     "output_type": "execute_result"
    }
   ],
   "source": [
    "# Sort the Percentage of documents in descending order\n",
    "df_dominant_topics.sort_values(by='Perc_Documents', ascending=False)"
   ]
  },
  {
   "cell_type": "code",
   "execution_count": 47,
   "metadata": {
    "ExecuteTime": {
     "end_time": "2021-01-26T09:10:19.099600Z",
     "start_time": "2021-01-26T09:10:18.988499Z"
    }
   },
   "outputs": [
    {
     "data": {
      "image/png": "[encoded data removed]",
      "text/plain": [
       "<Figure size 792x504 with 1 Axes>"
      ]
     },
     "metadata": {},
     "output_type": "display_data"
    }
   ],
   "source": [
    "cols = [color for name, color in mcolors.TABLEAU_COLORS.items()]\n",
    "\n",
    "plt.figure(figsize=(11,7))\n",
    "sns.barplot(x='Dominant_Topic', y='Num_Documents',data=df_dominant_topics, palette=cols)\n",
    "\n",
    "plt.title('Distribution of documents by their topics')\n",
    "plt.xticks(np.arange(6),[x for x in range(6)])\n",
    "plt.xlabel('Dominant Topics')\n",
    "plt.ylabel('Number of documents');"
   ]
  },
  {
   "cell_type": "markdown",
   "metadata": {},
   "source": [
    "Topic 3 has the been assigned the most often to the documents with close to 3000 documents being assigned while making up 20% of the topics assigned.\n",
    "Stock availability during the launch of the GPUs is the most discussed for the AMD's subreddit with Topic 4 coming in second, which goes into comparing the price and performance of the AMD and Nvidia's GPUs. \n",
    "\n",
    "The least discussed is Topic 5 which discusses about the [RDNA 2 GPUs](https://www.pcworld.com/article/3528861/what-the-new-xbox-series-x-specs-tell-us-about-amds-next-gen-radeon-graphics-cards.html) powering the new gaming consoles, Xbox X series and the PS5. It seems that most of the subreddit users are PC gamers given the least number of Topic 5 documents."
   ]
  },
  {
   "cell_type": "markdown",
   "metadata": {},
   "source": [
    "# Frequency Distribution of Word Counts in Documents by dominant topic"
   ]
  },
  {
   "cell_type": "code",
   "execution_count": 48,
   "metadata": {
    "ExecuteTime": {
     "end_time": "2021-01-26T09:10:20.362749Z",
     "start_time": "2021-01-26T09:10:19.100600Z"
    }
   },
   "outputs": [
    {
     "data": {
      "image/png": "[encoded data removed]",
      "text/plain": [
       "<Figure size 1008x792 with 6 Axes>"
      ]
     },
     "metadata": {},
     "output_type": "display_data"
    }
   ],
   "source": [
    "cols = [color for name, color in mcolors.TABLEAU_COLORS.items()]\n",
    "\n",
    "fig, axes = plt.subplots(3,2, figsize=(14,11), sharex=True, sharey=True)\n",
    "\n",
    "for i, ax in enumerate(axes.flatten()):    \n",
    "    df_dominant_topic_sub = df_dominant_topic.loc[df_dominant_topic.Dominant_Topic == i]\n",
    "    doc_lens = df_dominant_topic_sub.Document.map(lambda token: len(token)).tolist()\n",
    "    #ax.hist(doc_lens, bins = 100, color=cols[i])\n",
    "    ax.tick_params(axis='y', labelcolor=cols[i], color=cols[i])\n",
    "    sns.histplot(doc_lens, bins=50, color=cols[i], kde=True, ax=ax) # ax.twinx()\n",
    "    # Mean\n",
    "    ax.axvline(np.mean(doc_lens), color='red', label='mean')\n",
    "    # Median\n",
    "    ax.axvline(np.median(doc_lens), color='yellow', label='median')\n",
    "    ax.legend()\n",
    "    ax.set(xlim=(0, 1000), xlabel='Document Word Count')\n",
    "    ax.set_ylabel('Number of Documents', color=cols[i])\n",
    "    ax.set_title('Topic: '+str(i), fontdict=dict(size=16, color=cols[i]))\n",
    "\n",
    "# fig.tight_layout()\n",
    "fig.subplots_adjust(top=0.90)\n",
    "# plt.xticks(np.linspace(0,375,9))\n",
    "plt.xlim(0,100)\n",
    "fig.suptitle('Distribution of Document Word Counts by Dominant Topic', fontsize=16)\n",
    "plt.tight_layout()\n",
    "plt.show()"
   ]
  },
  {
   "cell_type": "markdown",
   "metadata": {},
   "source": [
    "All of the distributions shows a right tailed skewed graph in which the mean and median are quite close."
   ]
  },
  {
   "cell_type": "markdown",
   "metadata": {},
   "source": [
    "# Word Clouds of Top N Keywords in Each Topic"
   ]
  },
  {
   "cell_type": "code",
   "execution_count": 49,
   "metadata": {
    "ExecuteTime": {
     "end_time": "2021-01-26T09:10:20.378764Z",
     "start_time": "2021-01-26T09:10:20.363750Z"
    }
   },
   "outputs": [],
   "source": [
    "stop_words = set(STOPWORDS).union(stopwords.words(\"english\")) # Combines gensim stopwords and nltk's stopwords\n",
    "stop_words = stop_words.union(['http', 'www', 'youtube' 'get', 'like', '1', '2', '3', '5', 'got'])"
   ]
  },
  {
   "cell_type": "code",
   "execution_count": 50,
   "metadata": {
    "ExecuteTime": {
     "end_time": "2021-01-26T09:10:24.445459Z",
     "start_time": "2021-01-26T09:10:20.379765Z"
    }
   },
   "outputs": [
    {
     "data": {
      "image/png": "[encoded data removed]",
      "text/plain": [
       "<Figure size 720x720 with 6 Axes>"
      ]
     },
     "metadata": {},
     "output_type": "display_data"
    }
   ],
   "source": [
    "cloud = WordCloud(stopwords=stop_words,\n",
    "                  background_color='white',\n",
    "                  width=2500,\n",
    "                  height=1800,\n",
    "                  max_words=10,\n",
    "                  colormap='tab10',\n",
    "                  color_func=lambda *args, **kwargs: cols[i],\n",
    "                  prefer_horizontal=1.0)\n",
    "\n",
    "topics = optimal_model.show_topics(formatted=False)\n",
    "\n",
    "fig, axes = plt.subplots(3, 2, figsize=(10,10), sharex=True, sharey=True)\n",
    "\n",
    "for i, ax in enumerate(axes.flatten()):\n",
    "    fig.add_subplot(ax)\n",
    "    topic_words = dict(topics[i][1])\n",
    "    cloud.generate_from_frequencies(topic_words, max_font_size=300)\n",
    "    plt.gca().imshow(cloud)\n",
    "    plt.gca().set_title('Topic ' + str(i), fontdict=dict(size=16))\n",
    "    plt.gca().axis('off')\n",
    "\n",
    "\n",
    "plt.subplots_adjust(wspace=0, hspace=0)\n",
    "plt.axis('off')\n",
    "plt.margins(x=0, y=0)\n",
    "plt.tight_layout()\n",
    "plt.show()"
   ]
  },
  {
   "cell_type": "markdown",
   "metadata": {},
   "source": [
    "# Word Counts of Topic Keywords"
   ]
  },
  {
   "cell_type": "code",
   "execution_count": 51,
   "metadata": {
    "ExecuteTime": {
     "end_time": "2021-01-26T09:10:24.493503Z",
     "start_time": "2021-01-26T09:10:24.445459Z"
    }
   },
   "outputs": [
    {
     "data": {
      "text/plain": [
       "Counter({'sound': 124,\n",
       "         'samsung_8nm': 25,\n",
       "         'cheap': 94,\n",
       "         'ethic': 3,\n",
       "         'mongol': 14,\n",
       "         'invasion': 3,\n",
       "         'tech': 191,\n",
       "         'nvidia': 2584,\n",
       "         'software': 231,\n",
       "         'ai': 102,\n",
       "         'learning': 8,\n",
       "         'big': 323,\n",
       "         'selling': 110,\n",
       "         'point': 502,\n",
       "         'excited': 57,\n",
       "         'amd': 3648,\n",
       "         'guy': 175,\n",
       "         'compete': 256,\n",
       "         'going': 894,\n",
       "         'brand_loyalty': 17,\n",
       "         'sucker': 12,\n",
       "         'think': 1149,\n",
       "         'actualy': 1,\n",
       "         'competing': 69,\n",
       "         'new': 747,\n",
       "         'console': 505,\n",
       "         'price': 1672,\n",
       "         '499': 90,\n",
       "         '2080ti': 410,\n",
       "         'dumping': 1,\n",
       "         'reputable': 5,\n",
       "         'leak': 63,\n",
       "         'rdna2': 190,\n",
       "         'say': 95,\n",
       "         '40': 49,\n",
       "         '50': 373,\n",
       "         'faster': 382,\n",
       "         'couple': 99,\n",
       "         'rumored': 23,\n",
       "         'focus': 29,\n",
       "         'power': 338,\n",
       "         'efficiency': 63,\n",
       "         'advantage': 119,\n",
       "         'tsmc': 77,\n",
       "         'process': 74,\n",
       "         '7nm': 75,\n",
       "         'forget': 54,\n",
       "         'samsung': 83,\n",
       "         'silicon': 29,\n",
       "         'pushed': 28,\n",
       "         '350': 58,\n",
       "         'tdp': 53,\n",
       "         'impossible': 25,\n",
       "         'raise': 26,\n",
       "         'coming': 196,\n",
       "         'competitive': 174,\n",
       "         'want': 705,\n",
       "         'buy': 741,\n",
       "         'potentially': 18,\n",
       "         'lower': 355,\n",
       "         'waiting': 219,\n",
       "         'im': 159,\n",
       "         'sure': 543,\n",
       "         'good': 979,\n",
       "         'rdna': 113,\n",
       "         'generation': 256,\n",
       "         'rt': 589,\n",
       "         'expecting': 62,\n",
       "         'boom': 5,\n",
       "         'wow': 49,\n",
       "         'amazing': 85,\n",
       "         'pricing': 312,\n",
       "         'learned': 10,\n",
       "         'turing': 120,\n",
       "         'double': 149,\n",
       "         'step': 59,\n",
       "         'right': 550,\n",
       "         'direction': 13,\n",
       "         'come': 510,\n",
       "         'punching': 3,\n",
       "         'force': 26,\n",
       "         'believe': 143,\n",
       "         'need': 718,\n",
       "         'throwing': 10,\n",
       "         'punch': 8,\n",
       "         'lack': 79,\n",
       "         'competition': 227,\n",
       "         'b4': 3,\n",
       "         'refresh': 51,\n",
       "         'ampere': 187,\n",
       "         'throw': 19,\n",
       "         'dirt': 20,\n",
       "         'wound': 1,\n",
       "         'x200b': 131,\n",
       "         'edit': 182,\n",
       "         'absolutely': 111,\n",
       "         'wrecking': 1,\n",
       "         'shop': 19,\n",
       "         'thread': 60,\n",
       "         'deleted': 6,\n",
       "         'aswell': 8,\n",
       "         'post': 87,\n",
       "         'r': 73,\n",
       "         'p': 44,\n",
       "         'offer': 135,\n",
       "         'lying': 12,\n",
       "         'said': 518,\n",
       "         '3080': 1595,\n",
       "         '700': 124,\n",
       "         'offering': 75,\n",
       "         'better': 1224,\n",
       "         'isnt': 27,\n",
       "         'spectacular': 4,\n",
       "         '3070': 1475,\n",
       "         'thinking': 115,\n",
       "         'fucking': 98,\n",
       "         'insane': 74,\n",
       "         'pull': 71,\n",
       "         '5700xt': 323,\n",
       "         'wish': 50,\n",
       "         'exaggerating': 2,\n",
       "         'ready': 89,\n",
       "         'score': 15,\n",
       "         'second': 106,\n",
       "         'hand': 145,\n",
       "         'gpu': 1063,\n",
       "         'half': 106,\n",
       "         'priced': 158,\n",
       "         'people': 1087,\n",
       "         'jumping': 8,\n",
       "         'hype_train': 6,\n",
       "         'key': 16,\n",
       "         'thought': 144,\n",
       "         'pipeline': 13,\n",
       "         'plateaued': 1,\n",
       "         'dropped': 40,\n",
       "         '100': 208,\n",
       "         'track_record': 7,\n",
       "         'drop': 186,\n",
       "         'actually': 515,\n",
       "         'weird': 87,\n",
       "         'casually': 5,\n",
       "         'follows': 2,\n",
       "         'hardware': 312,\n",
       "         'news': 51,\n",
       "         'looking': 251,\n",
       "         'upgrade': 260,\n",
       "         'bit': 354,\n",
       "         'stockholm': 1,\n",
       "         'syndrome': 1,\n",
       "         'prospect': 3,\n",
       "         '400': 124,\n",
       "         '3060': 79,\n",
       "         'deal': 204,\n",
       "         'x': 138,\n",
       "         '2060': 54,\n",
       "         'supposed': 55,\n",
       "         'happen': 59,\n",
       "         'launch': 465,\n",
       "         'product': 275,\n",
       "         'line': 208,\n",
       "         'gotten': 33,\n",
       "         'way': 507,\n",
       "         'control': 84,\n",
       "         'attention': 20,\n",
       "         'look': 693,\n",
       "         'cooking': 6,\n",
       "         'probably': 695,\n",
       "         'hear': 48,\n",
       "         'soon': 131,\n",
       "         'feel': 221,\n",
       "         'doa': 23,\n",
       "         'let': 237,\n",
       "         'pas': 24,\n",
       "         'change': 126,\n",
       "         'marketing': 132,\n",
       "         'strategy': 32,\n",
       "         'big_navi': 122,\n",
       "         'maybe': 385,\n",
       "         'changing': 11,\n",
       "         'medium': 35,\n",
       "         'navi': 85,\n",
       "         'blowing': 11,\n",
       "         'park': 11,\n",
       "         'forced': 28,\n",
       "         'innovate': 4,\n",
       "         'hope': 248,\n",
       "         'respond': 10,\n",
       "         'polaris': 14,\n",
       "         'replacement': 21,\n",
       "         'sold': 111,\n",
       "         '399': 20,\n",
       "         '299': 9,\n",
       "         'year': 759,\n",
       "         'ago': 170,\n",
       "         'press': 9,\n",
       "         'f': 27,\n",
       "         'bought': 205,\n",
       "         '6': 122,\n",
       "         'month': 304,\n",
       "         'mod': 22,\n",
       "         'removing': 10,\n",
       "         'lmao': 99,\n",
       "         'doubling': 11,\n",
       "         'spec': 62,\n",
       "         'rtx': 827,\n",
       "         'beat': 197,\n",
       "         '30': 156,\n",
       "         'rdna1': 19,\n",
       "         'barely': 61,\n",
       "         'scared': 34,\n",
       "         'losing': 20,\n",
       "         'money': 306,\n",
       "         'asap': 12,\n",
       "         '80': 230,\n",
       "         'true': 228,\n",
       "         'knock': 7,\n",
       "         'worried': 55,\n",
       "         'inclined': 4,\n",
       "         'concern': 50,\n",
       "         'able': 275,\n",
       "         'fit': 42,\n",
       "         '2080': 136,\n",
       "         'tier': 115,\n",
       "         'xbox': 110,\n",
       "         'series': 356,\n",
       "         'speaks': 3,\n",
       "         'volume': 13,\n",
       "         'familiar': 6,\n",
       "         'built': 62,\n",
       "         'mean': 510,\n",
       "         'likely': 274,\n",
       "         'sell': 263,\n",
       "         '300': 92,\n",
       "         'cost': 281,\n",
       "         'release': 366,\n",
       "         'detail': 48,\n",
       "         'supply': 131,\n",
       "         'catch': 45,\n",
       "         'demand': 87,\n",
       "         '3000': 55,\n",
       "         'wait': 615,\n",
       "         'know': 865,\n",
       "         'forthcoming': 1,\n",
       "         'info': 101,\n",
       "         'assume': 82,\n",
       "         'par': 69,\n",
       "         'dead': 59,\n",
       "         'arrives': 6,\n",
       "         'yeap': 1,\n",
       "         'doubt': 114,\n",
       "         'answer': 115,\n",
       "         'yep': 58,\n",
       "         'fanboy': 44,\n",
       "         'slapped': 6,\n",
       "         'today': 202,\n",
       "         'spot': 22,\n",
       "         'ratio': 27,\n",
       "         'worse': 234,\n",
       "         '5600': 34,\n",
       "         'xt': 469,\n",
       "         'february': 15,\n",
       "         'retrospective': 1,\n",
       "         'ton': 54,\n",
       "         'driver': 670,\n",
       "         'error': 38,\n",
       "         'exchange': 5,\n",
       "         'different': 194,\n",
       "         'model': 165,\n",
       "         'announcement': 54,\n",
       "         'starting': 31,\n",
       "         'pretty': 418,\n",
       "         'bad': 311,\n",
       "         'decision': 75,\n",
       "         'card': 1435,\n",
       "         'affordable': 17,\n",
       "         'budget': 157,\n",
       "         'beast': 22,\n",
       "         'knocked': 2,\n",
       "         'ryzen': 204,\n",
       "         'moment': 70,\n",
       "         'radeon': 186,\n",
       "         'sadly': 30,\n",
       "         'steam': 22,\n",
       "         'user': 98,\n",
       "         '2080_ti': 166,\n",
       "         'make_sense': 78,\n",
       "         'gamers': 121,\n",
       "         'help': 107,\n",
       "         'cpu': 728,\n",
       "         'sale': 102,\n",
       "         'positive': 12,\n",
       "         'pick': 59,\n",
       "         '1080ti': 58,\n",
       "         '200': 79,\n",
       "         'rendering': 80,\n",
       "         'rig': 51,\n",
       "         'dominated': 4,\n",
       "         'scene': 17,\n",
       "         'competent': 5,\n",
       "         'future': 171,\n",
       "         'nonsense': 8,\n",
       "         'aside': 28,\n",
       "         'appear': 14,\n",
       "         'lot': 429,\n",
       "         'ray_tracing': 734,\n",
       "         'chart': 65,\n",
       "         'relative': 24,\n",
       "         'improvement': 105,\n",
       "         'game': 1436,\n",
       "         'setting': 150,\n",
       "         'long': 204,\n",
       "         'claimed': 24,\n",
       "         '2xperformance': 1,\n",
       "         'watt': 90,\n",
       "         'codename': 1,\n",
       "         'upcoming': 50,\n",
       "         'killer': 46,\n",
       "         'final': 24,\n",
       "         'company': 204,\n",
       "         'confident': 22,\n",
       "         'comparable': 65,\n",
       "         'stack': 52,\n",
       "         'vega': 43,\n",
       "         'animal': 3,\n",
       "         'real': 196,\n",
       "         'separated': 1,\n",
       "         'gaming': 530,\n",
       "         'enterprise': 7,\n",
       "         'show': 58,\n",
       "         'msrp': 161,\n",
       "         'luck': 99,\n",
       "         'finding': 15,\n",
       "         'decided': 41,\n",
       "         'spin': 4,\n",
       "         'matrix': 4,\n",
       "         'based': 176,\n",
       "         'baseline': 11,\n",
       "         'benchmark': 546,\n",
       "         'hardware_unboxed': 19,\n",
       "         'saw': 97,\n",
       "         'went': 150,\n",
       "         'ahead': 93,\n",
       "         'placed': 24,\n",
       "         'stuck': 38,\n",
       "         'claim': 93,\n",
       "         'fps': 333,\n",
       "         'calculated': 2,\n",
       "         'percentage': 16,\n",
       "         'increase': 157,\n",
       "         'column': 1,\n",
       "         'apu': 17,\n",
       "         'getting': 433,\n",
       "         'level': 171,\n",
       "         '36cus': 2,\n",
       "         'limited': 71,\n",
       "         'cooling': 19,\n",
       "         'scale': 54,\n",
       "         '72cus': 1,\n",
       "         'satisfied': 3,\n",
       "         'confirmed': 42,\n",
       "         'fabbed': 2,\n",
       "         'meaning': 32,\n",
       "         'minimum': 25,\n",
       "         'slight': 27,\n",
       "         'transistor_density': 7,\n",
       "         'tsmc_n7': 11,\n",
       "         '500': 438,\n",
       "         'mm': 13,\n",
       "         'die': 99,\n",
       "         'easily': 68,\n",
       "         'exceed': 8,\n",
       "         'transistor_count': 8,\n",
       "         'ga102': 10,\n",
       "         'zen': 161,\n",
       "         'honest': 47,\n",
       "         '3090': 950,\n",
       "         'bet': 76,\n",
       "         'phenomenal': 3,\n",
       "         'day': 346,\n",
       "         'intend': 7,\n",
       "         'announce': 40,\n",
       "         'week': 184,\n",
       "         'time': 827,\n",
       "         'presentation': 92,\n",
       "         'dl': 1490,\n",
       "         'v': 335,\n",
       "         'damn': 96,\n",
       "         'slide': 103,\n",
       "         'rasterization': 93,\n",
       "         'bee': 1,\n",
       "         'seen': 164,\n",
       "         'freaking': 22,\n",
       "         'pr': 3,\n",
       "         'hype': 53,\n",
       "         'fluff': 3,\n",
       "         'review': 304,\n",
       "         'depends': 101,\n",
       "         'set': 116,\n",
       "         'knew': 36,\n",
       "         'reason': 276,\n",
       "         'holding': 25,\n",
       "         'giving': 45,\n",
       "         'wife': 19,\n",
       "         'raytracing': 345,\n",
       "         'man': 108,\n",
       "         'instantly': 10,\n",
       "         'lose': 49,\n",
       "         'high_end': 194,\n",
       "         'market': 277,\n",
       "         'go': 74,\n",
       "         'powerful': 72,\n",
       "         'felt': 16,\n",
       "         'push': 99,\n",
       "         'hard': 145,\n",
       "         'navi2': 1,\n",
       "         'expect': 168,\n",
       "         'end': 348,\n",
       "         '0': 283,\n",
       "         'vram': 643,\n",
       "         '16gb': 218,\n",
       "         'vrs': 4,\n",
       "         'ri': 11,\n",
       "         'instead': 167,\n",
       "         '599': 21,\n",
       "         '649': 61,\n",
       "         'calculation': 16,\n",
       "         '2x': 52,\n",
       "         'aka': 19,\n",
       "         '57000xt': 1,\n",
       "         'general': 64,\n",
       "         'vega_56': 18,\n",
       "         'strong': 17,\n",
       "         'remember': 94,\n",
       "         'folk': 25,\n",
       "         'flagship': 63,\n",
       "         'replaced': 9,\n",
       "         'including': 46,\n",
       "         'digital_foundry': 25,\n",
       "         'bench': 44,\n",
       "         'rtx2080': 4,\n",
       "         'founder_edition': 27,\n",
       "         'rtx3080': 20,\n",
       "         '25': 44,\n",
       "         'especially': 185,\n",
       "         'tag': 18,\n",
       "         'brought': 21,\n",
       "         'table': 14,\n",
       "         '35': 20,\n",
       "         'ground': 14,\n",
       "         'additional': 37,\n",
       "         'clock_speed': 24,\n",
       "         'bandwidth': 65,\n",
       "         '7na': 1,\n",
       "         'mention': 113,\n",
       "         'handle': 53,\n",
       "         'rumor': 56,\n",
       "         'laden': 1,\n",
       "         'paper': 28,\n",
       "         'promise': 22,\n",
       "         'achievable': 3,\n",
       "         'awesome': 61,\n",
       "         'cringe': 7,\n",
       "         'hey': 27,\n",
       "         'buddy': 29,\n",
       "         'tell': 144,\n",
       "         'entire': 51,\n",
       "         'buyer': 61,\n",
       "         '1400': 11,\n",
       "         'component': 46,\n",
       "         'spent': 24,\n",
       "         'reddit': 34,\n",
       "         'pcmr': 1,\n",
       "         'buildapc': 1,\n",
       "         'sorry': 90,\n",
       "         'kill': 42,\n",
       "         'generally': 46,\n",
       "         'build': 145,\n",
       "         'gtx': 43,\n",
       "         '1060': 30,\n",
       "         'paid': 68,\n",
       "         '2016': 14,\n",
       "         '17': 18,\n",
       "         'advancement': 4,\n",
       "         '20': 198,\n",
       "         'rtx2080ti': 5,\n",
       "         'titan': 139,\n",
       "         'eqv': 1,\n",
       "         'comparing': 68,\n",
       "         'generates': 3,\n",
       "         'heat': 20,\n",
       "         'stupid': 60,\n",
       "         'absolute': 47,\n",
       "         'metric': 20,\n",
       "         'gave': 39,\n",
       "         'plenty': 55,\n",
       "         'act': 12,\n",
       "         'given': 107,\n",
       "         'poor': 47,\n",
       "         'forward': 41,\n",
       "         'chance': 101,\n",
       "         'get': 118,\n",
       "         'jensen': 26,\n",
       "         'releasing': 40,\n",
       "         'concerned': 25,\n",
       "         'bringing': 18,\n",
       "         '8k': 72,\n",
       "         '60fps': 59,\n",
       "         'unreal': 6,\n",
       "         'obsolete': 9,\n",
       "         'ole': 1,\n",
       "         'trolling': 13,\n",
       "         'begun': 2,\n",
       "         'nervous': 2,\n",
       "         'hit': 139,\n",
       "         'wont': 53,\n",
       "         'imo': 103,\n",
       "         'smell': 4,\n",
       "         '1500': 57,\n",
       "         'cuda_core': 36,\n",
       "         'pulling': 17,\n",
       "         'sneaky': 3,\n",
       "         'super': 201,\n",
       "         'speculated': 3,\n",
       "         'upset': 8,\n",
       "         'curious': 68,\n",
       "         'architecture': 85,\n",
       "         'form': 20,\n",
       "         'opinion': 62,\n",
       "         'pre_order': 54,\n",
       "         'date': 60,\n",
       "         'honesty': 5,\n",
       "         'event': 35,\n",
       "         'totally': 68,\n",
       "         'simply': 104,\n",
       "         'expertise': 5,\n",
       "         'raw': 66,\n",
       "         'stronger': 12,\n",
       "         'fair': 131,\n",
       "         'kind': 123,\n",
       "         'hoped': 11,\n",
       "         'needed': 71,\n",
       "         'xfx': 16,\n",
       "         'rx': 280,\n",
       "         '5700': 54,\n",
       "         'finger': 12,\n",
       "         'division': 8,\n",
       "         'soc': 3,\n",
       "         'supplier': 9,\n",
       "         'pleasantly': 2,\n",
       "         'surprised': 62,\n",
       "         'providing': 11,\n",
       "         'pricepoint': 7,\n",
       "         'onus': 1,\n",
       "         'prove': 7,\n",
       "         '9': 79,\n",
       "         'loose': 8,\n",
       "         'win': 150,\n",
       "         'agree': 148,\n",
       "         'exclusive': 42,\n",
       "         'technology': 111,\n",
       "         'showed': 141,\n",
       "         'superb': 1,\n",
       "         'care': 264,\n",
       "         'afford': 55,\n",
       "         'gimme': 5,\n",
       "         '450': 35,\n",
       "         'smth': 5,\n",
       "         'considering': 168,\n",
       "         'rayttracing': 1,\n",
       "         'implementation': 95,\n",
       "         '2nd': 16,\n",
       "         'gen': 321,\n",
       "         'possible': 122,\n",
       "         'word': 64,\n",
       "         'watched': 20,\n",
       "         'beautiful': 7,\n",
       "         'whoosh': 1,\n",
       "         'life': 64,\n",
       "         'triple': 17,\n",
       "         'boot': 16,\n",
       "         'linux': 125,\n",
       "         'mac': 14,\n",
       "         'issue': 441,\n",
       "         'write': 18,\n",
       "         'took': 68,\n",
       "         'intel': 338,\n",
       "         'cleaner': 2,\n",
       "         'past': 87,\n",
       "         'faith': 9,\n",
       "         'close': 189,\n",
       "         'best': 371,\n",
       "         'team': 52,\n",
       "         '4700': 1,\n",
       "         'hot': 35,\n",
       "         'setup': 39,\n",
       "         'idgaf': 2,\n",
       "         'graphic': 198,\n",
       "         'provides': 18,\n",
       "         'pulled': 16,\n",
       "         'astonishing': 3,\n",
       "         'famboy': 1,\n",
       "         'crazy': 65,\n",
       "         'stop': 75,\n",
       "         'simping': 1,\n",
       "         'private': 5,\n",
       "         'reasonable': 61,\n",
       "         'certainly': 49,\n",
       "         'played': 34,\n",
       "         'role': 9,\n",
       "         'carried': 6,\n",
       "         'ps5': 109,\n",
       "         'openly': 2,\n",
       "         'stock': 590,\n",
       "         'test': 58,\n",
       "         'number': 286,\n",
       "         'face': 21,\n",
       "         'interested': 70,\n",
       "         'love': 92,\n",
       "         'unlike': 22,\n",
       "         'walt': 1,\n",
       "         'gonna': 253,\n",
       "         'world': 59,\n",
       "         'actual': 107,\n",
       "         'nice': 162,\n",
       "         'definitely': 218,\n",
       "         'ironically': 2,\n",
       "         'war': 34,\n",
       "         'minded': 5,\n",
       "         'builder': 7,\n",
       "         'king': 26,\n",
       "         'personally': 93,\n",
       "         'flop': 10,\n",
       "         'incredible': 12,\n",
       "         'value': 255,\n",
       "         'resource': 21,\n",
       "         'fight': 23,\n",
       "         'higher': 311,\n",
       "         'consumer': 137,\n",
       "         'terrified': 2,\n",
       "         'fastest': 17,\n",
       "         'play': 285,\n",
       "         '1440p': 351,\n",
       "         'solid': 60,\n",
       "         'option': 160,\n",
       "         'presented': 9,\n",
       "         'type': 65,\n",
       "         'misleading': 16,\n",
       "         'term': 117,\n",
       "         'non': 151,\n",
       "         'channel': 24,\n",
       "         'hesitate': 2,\n",
       "         'outright': 14,\n",
       "         'lost': 30,\n",
       "         'run': 283,\n",
       "         'redline': 2,\n",
       "         'reliability': 7,\n",
       "         'longstanding': 1,\n",
       "         'history': 25,\n",
       "         '5700_xt': 87,\n",
       "         'matching': 25,\n",
       "         '2070_super': 43,\n",
       "         'treat': 4,\n",
       "         'grinding': 1,\n",
       "         'corpse': 1,\n",
       "         'recently': 35,\n",
       "         'bomb': 3,\n",
       "         'industry': 39,\n",
       "         'competetive': 3,\n",
       "         'dang': 11,\n",
       "         'fanboys': 31,\n",
       "         'grim': 8,\n",
       "         '2015': 7,\n",
       "         'pointed': 6,\n",
       "         'sign': 30,\n",
       "         'expects': 1,\n",
       "         'rtg': 4,\n",
       "         'kopite7kimi': 1,\n",
       "         'tweet': 8,\n",
       "         'suggests': 8,\n",
       "         'department': 19,\n",
       "         'genuinely': 20,\n",
       "         'hyped': 19,\n",
       "         'derail': 1,\n",
       "         'board': 126,\n",
       "         'taken': 22,\n",
       "         'flak': 1,\n",
       "         'quality': 106,\n",
       "         'riding': 2,\n",
       "         'shoulder': 2,\n",
       "         'deliver': 39,\n",
       "         'mind': 104,\n",
       "         'share': 40,\n",
       "         'market_share': 34,\n",
       "         'missing': 46,\n",
       "         'related': 15,\n",
       "         'original': 41,\n",
       "         'phenom': 4,\n",
       "         'hell': 74,\n",
       "         'impressed': 23,\n",
       "         'sad': 39,\n",
       "         'hold': 89,\n",
       "         'weaker': 9,\n",
       "         'buying': 228,\n",
       "         'optimistic': 14,\n",
       "         'availability': 115,\n",
       "         'paper_launch': 42,\n",
       "         'real_world': 34,\n",
       "         'unknown': 19,\n",
       "         'impressive': 52,\n",
       "         'draw': 35,\n",
       "         'conclusion': 20,\n",
       "         'turn': 94,\n",
       "         'advertised': 13,\n",
       "         'exact': 44,\n",
       "         'livestream': 2,\n",
       "         'typing': 3,\n",
       "         'rip': 66,\n",
       "         'missile': 1,\n",
       "         'targeting': 11,\n",
       "         'facility': 1,\n",
       "         '1111': 1,\n",
       "         'sweetspot': 2,\n",
       "         '580': 73,\n",
       "         'yes': 358,\n",
       "         'pray': 5,\n",
       "         'content': 24,\n",
       "         'reality': 27,\n",
       "         'live': 76,\n",
       "         'mid': 74,\n",
       "         'stuff': 149,\n",
       "         '10x': 5,\n",
       "         '580s': 2,\n",
       "         'victory': 8,\n",
       "         'clearly': 69,\n",
       "         'scream': 1,\n",
       "         'desperate': 5,\n",
       "         'put': 24,\n",
       "         'try': 160,\n",
       "         'nvidea': 8,\n",
       "         'consistently': 18,\n",
       "         'milked': 3,\n",
       "         'customer': 74,\n",
       "         'mid_range': 80,\n",
       "         'smaller': 62,\n",
       "         'chip': 164,\n",
       "         'charging': 12,\n",
       "         '15': 171,\n",
       "         '1080': 74,\n",
       "         '16': 55,\n",
       "         'literally': 197,\n",
       "         'enter': 9,\n",
       "         'space': 62,\n",
       "         'highest': 29,\n",
       "         'latest': 41,\n",
       "         '251mm': 2,\n",
       "         'usually': 87,\n",
       "         'flexing': 1,\n",
       "         'dominant': 4,\n",
       "         'announces': 6,\n",
       "         '27': 8,\n",
       "         'pound': 4,\n",
       "         'slot': 35,\n",
       "         'unprecedented': 4,\n",
       "         'connector': 9,\n",
       "         'fiji': 3,\n",
       "         'pro': 41,\n",
       "         'duo': 1,\n",
       "         'halo': 11,\n",
       "         'nvidias': 62,\n",
       "         'behavior': 7,\n",
       "         'increasing': 14,\n",
       "         'gap': 78,\n",
       "         'decreasing': 4,\n",
       "         'cap': 15,\n",
       "         'silly': 22,\n",
       "         'sheer': 5,\n",
       "         'stupidity': 5,\n",
       "         'disruptive': 6,\n",
       "         '4k': 567,\n",
       "         '56': 3,\n",
       "         'cu': 97,\n",
       "         '8ghz': 1,\n",
       "         'hitting': 14,\n",
       "         '2080s': 20,\n",
       "         'fully': 62,\n",
       "         'unleashed': 1,\n",
       "         '70': 88,\n",
       "         '2ghz': 5,\n",
       "         'dedicated': 49,\n",
       "         'fast': 62,\n",
       "         'gddr6': 66,\n",
       "         '6x': 8,\n",
       "         'efficient': 53,\n",
       "         'severely': 7,\n",
       "         'feature': 579,\n",
       "         'decade': 35,\n",
       "         'awful': 12,\n",
       "         'compared': 197,\n",
       "         'yea': 83,\n",
       "         'check': 90,\n",
       "         'mate': 25,\n",
       "         'unfortunately': 64,\n",
       "         'sleeve': 11,\n",
       "         'premium': 49,\n",
       "         'pay': 208,\n",
       "         'packing': 4,\n",
       "         'constant': 5,\n",
       "         'innovation': 12,\n",
       "         'trust': 37,\n",
       "         'ehm': 1,\n",
       "         '320w': 12,\n",
       "         'doubled': 14,\n",
       "         '335w': 1,\n",
       "         'roughly': 54,\n",
       "         'add': 89,\n",
       "         'architectural': 8,\n",
       "         'position': 29,\n",
       "         'basically': 186,\n",
       "         'performing': 30,\n",
       "         'perform': 68,\n",
       "         'aroung': 1,\n",
       "         '2070super': 5,\n",
       "         'difference': 343,\n",
       "         'reflex': 10,\n",
       "         'compare': 100,\n",
       "         'custom': 49,\n",
       "         'ssd': 33,\n",
       "         'sony': 23,\n",
       "         'pcie_4': 26,\n",
       "         'specialized': 6,\n",
       "         'method': 19,\n",
       "         'moving': 27,\n",
       "         'asset': 13,\n",
       "         'similar': 219,\n",
       "         'independent': 42,\n",
       "         'benchmarking': 7,\n",
       "         'confirm': 33,\n",
       "         'investment': 11,\n",
       "         'magic': 15,\n",
       "         'baked': 9,\n",
       "         'sony_microsoft': 13,\n",
       "         'launching': 18,\n",
       "         'imagine': 92,\n",
       "         'sub': 73,\n",
       "         'lowering': 12,\n",
       "         'node': 85,\n",
       "         'expensive': 218,\n",
       "         'featureset': 5,\n",
       "         'aither': 1,\n",
       "         'talking': 180,\n",
       "         'defeating': 1,\n",
       "         'secure': 7,\n",
       "         'low': 154,\n",
       "         'leaf': 9,\n",
       "         'hole': 4,\n",
       "         'unhappy': 1,\n",
       "         'guess': 287,\n",
       "         'ask': 73,\n",
       "         'stay': 49,\n",
       "         'holiday_season': 7,\n",
       "         'energy': 9,\n",
       "         'laptop': 35,\n",
       "         'relatively': 38,\n",
       "         '10': 314,\n",
       "         '8': 187,\n",
       "         'gb': 48,\n",
       "         'memory': 429,\n",
       "         'respectively': 8,\n",
       "         '12gb': 27,\n",
       "         'hbm': 2,\n",
       "         'land': 14,\n",
       "         'g6x': 11,\n",
       "         'acting': 15,\n",
       "         'doomers': 1,\n",
       "         'wah': 1,\n",
       "         'stfu': 4,\n",
       "         'reveal': 24,\n",
       "         'kinda': 111,\n",
       "         'cool': 64,\n",
       "         'use': 514,\n",
       "         'video': 228,\n",
       "         'alpha': 3,\n",
       "         'minecraft': 38,\n",
       "         'stated': 38,\n",
       "         'meme': 21,\n",
       "         'picture': 28,\n",
       "         'removed': 9,\n",
       "         'lame': 6,\n",
       "         'duck': 2,\n",
       "         'shown': 87,\n",
       "         'equal': 76,\n",
       "         'graph': 78,\n",
       "         'voice': 7,\n",
       "         'slightly': 169,\n",
       "         '1200': 35,\n",
       "         'huge': 161,\n",
       "         'typical': 10,\n",
       "         'thing': 218,\n",
       "         'prof': 4,\n",
       "         'information': 66,\n",
       "         'assuming': 84,\n",
       "         'bring': 59,\n",
       "         'combatant': 1,\n",
       "         '600': 88,\n",
       "         'breaking': 5,\n",
       "         'lisa_su': 14,\n",
       "         'saying': 240,\n",
       "         'disrupt': 4,\n",
       "         'disrupted': 1,\n",
       "         'desktop': 31,\n",
       "         '1800x': 2,\n",
       "         '1000': 93,\n",
       "         'preemptively': 1,\n",
       "         'shoot': 9,\n",
       "         'dollar': 159,\n",
       "         'blow': 36,\n",
       "         'doubting': 3,\n",
       "         'lisa': 25,\n",
       "         'sue': 5,\n",
       "         'bae': 3,\n",
       "         'surely': 20,\n",
       "         'showing': 58,\n",
       "         'remain': 10,\n",
       "         'high': 259,\n",
       "         'continous': 1,\n",
       "         'hiking': 1,\n",
       "         'surprise': 18,\n",
       "         'small': 81,\n",
       "         'dy': 28,\n",
       "         'undercutting': 8,\n",
       "         'atleast': 21,\n",
       "         'till': 53,\n",
       "         'hd4850': 1,\n",
       "         'gtx260': 1,\n",
       "         '280': 8,\n",
       "         'ive': 10,\n",
       "         'planning': 60,\n",
       "         'switch': 65,\n",
       "         'nail': 5,\n",
       "         'coffin': 2,\n",
       "         'trashfire': 1,\n",
       "         '3080s': 32,\n",
       "         'wdym': 3,\n",
       "         'shat': 2,\n",
       "         'counterpart': 19,\n",
       "         'bracket': 17,\n",
       "         'betting': 11,\n",
       "         'prowess': 5,\n",
       "         'integrated': 13,\n",
       "         'argument': 68,\n",
       "         'doom': 5,\n",
       "         'sayers': 2,\n",
       "         'forgetting': 11,\n",
       "         'xboxsx': 3,\n",
       "         'tflops': 27,\n",
       "         'microsoft': 62,\n",
       "         'power_draw': 34,\n",
       "         'previous': 53,\n",
       "         'max': 82,\n",
       "         '170': 4,\n",
       "         'ram': 185,\n",
       "         'drive': 38,\n",
       "         '220': 5,\n",
       "         'wattage': 19,\n",
       "         'incomparable': 1,\n",
       "         'break': 28,\n",
       "         'abit': 4,\n",
       "         'storage': 9,\n",
       "         'take': 38,\n",
       "         'significant': 48,\n",
       "         'portion': 16,\n",
       "         'perf': 120,\n",
       "         'insider': 6,\n",
       "         'explain': 45,\n",
       "         'increased': 29,\n",
       "         'envelope': 5,\n",
       "         'omg': 12,\n",
       "         'downvote': 5,\n",
       "         'drinking': 3,\n",
       "         'green': 31,\n",
       "         'kool': 3,\n",
       "         'aid': 4,\n",
       "         'admit': 21,\n",
       "         'owned': 27,\n",
       "         'mighty': 3,\n",
       "         'delicious': 1,\n",
       "         'owning': 6,\n",
       "         'outside': 45,\n",
       "         'twice': 57,\n",
       "         'xsx': 30,\n",
       "         '58tf': 1,\n",
       "         'idea': 122,\n",
       "         'tensor_core': 64,\n",
       "         'boost': 120,\n",
       "         'decent': 104,\n",
       "         'certain': 49,\n",
       "         'restriction': 4,\n",
       "         'unlikely': 30,\n",
       "         'equivalent': 106,\n",
       "         ...})"
      ]
     },
     "execution_count": 51,
     "metadata": {},
     "output_type": "execute_result"
    }
   ],
   "source": [
    "data_flat = [word for word_lst in data_bigrams for word in word_lst] # Creates a list of words \n",
    "counter = Counter(data_flat) # Counts the frequency of the tokens and stores in a dictionary\n",
    "counter"
   ]
  },
  {
   "cell_type": "code",
   "execution_count": 52,
   "metadata": {
    "ExecuteTime": {
     "end_time": "2021-01-26T09:10:24.525532Z",
     "start_time": "2021-01-26T09:10:24.494504Z"
    },
    "scrolled": true
   },
   "outputs": [
    {
     "data": {
      "text/html": [
       "<div>\n",
       "<style scoped>\n",
       "    .dataframe tbody tr th:only-of-type {\n",
       "        vertical-align: middle;\n",
       "    }\n",
       "\n",
       "    .dataframe tbody tr th {\n",
       "        vertical-align: top;\n",
       "    }\n",
       "\n",
       "    .dataframe thead th {\n",
       "        text-align: right;\n",
       "    }\n",
       "</style>\n",
       "<table border=\"1\" class=\"dataframe\">\n",
       "  <thead>\n",
       "    <tr style=\"text-align: right;\">\n",
       "      <th></th>\n",
       "      <th>word</th>\n",
       "      <th>topic_id</th>\n",
       "      <th>importance</th>\n",
       "      <th>word_count</th>\n",
       "    </tr>\n",
       "  </thead>\n",
       "  <tbody>\n",
       "    <tr>\n",
       "      <th>0</th>\n",
       "      <td>gpu</td>\n",
       "      <td>0</td>\n",
       "      <td>0.039623</td>\n",
       "      <td>1063</td>\n",
       "    </tr>\n",
       "    <tr>\n",
       "      <th>1</th>\n",
       "      <td>year</td>\n",
       "      <td>0</td>\n",
       "      <td>0.028291</td>\n",
       "      <td>759</td>\n",
       "    </tr>\n",
       "    <tr>\n",
       "      <th>2</th>\n",
       "      <td>cpu</td>\n",
       "      <td>0</td>\n",
       "      <td>0.027136</td>\n",
       "      <td>728</td>\n",
       "    </tr>\n",
       "    <tr>\n",
       "      <th>3</th>\n",
       "      <td>driver</td>\n",
       "      <td>0</td>\n",
       "      <td>0.024974</td>\n",
       "      <td>670</td>\n",
       "    </tr>\n",
       "    <tr>\n",
       "      <th>4</th>\n",
       "      <td>wait</td>\n",
       "      <td>0</td>\n",
       "      <td>0.022924</td>\n",
       "      <td>615</td>\n",
       "    </tr>\n",
       "  </tbody>\n",
       "</table>\n",
       "</div>"
      ],
      "text/plain": [
       "     word  topic_id  importance  word_count\n",
       "0     gpu         0    0.039623        1063\n",
       "1    year         0    0.028291         759\n",
       "2     cpu         0    0.027136         728\n",
       "3  driver         0    0.024974         670\n",
       "4    wait         0    0.022924         615"
      ]
     },
     "execution_count": 52,
     "metadata": {},
     "output_type": "execute_result"
    }
   ],
   "source": [
    "out = [[word, i , weight, counter[word]] for i, topic in topics for word, weight in topic]\n",
    "df = pd.DataFrame(out, columns=['word', 'topic_id', 'importance', 'word_count'])\n",
    "df.head()"
   ]
  },
  {
   "cell_type": "code",
   "execution_count": 53,
   "metadata": {
    "ExecuteTime": {
     "end_time": "2021-01-26T09:10:25.997870Z",
     "start_time": "2021-01-26T09:10:24.526533Z"
    }
   },
   "outputs": [
    {
     "data": {
      "image/png": "[encoded data removed]",
      "text/plain": [
       "<Figure size 1152x1008 with 12 Axes>"
      ]
     },
     "metadata": {},
     "output_type": "display_data"
    }
   ],
   "source": [
    "# Plot Word Count and Weights of Topic Keywords\n",
    "fig, axes = plt.subplots(3, 2, figsize=(16,14), sharey=True)\n",
    "cols = [color for name, color in mcolors.TABLEAU_COLORS.items()]\n",
    "\n",
    "for i, ax in enumerate(axes.flatten()):\n",
    "    ax.bar(x='word', height=\"importance\", data=df.loc[df.topic_id==i, :], color=cols[i], width=0.5, alpha=0.3, label='Weights')\n",
    "    ax_twin = ax.twinx()\n",
    "    ax_twin.bar(x='word', height=\"word_count\", data=df.loc[df.topic_id==i, :], color=cols[i], width=0.2, label='Word Count')\n",
    "    ax.set_ylabel('Weights', color=cols[i])\n",
    "    ax_twin.set_ylabel('Word Count', color=cols[i])\n",
    "    # Sets the ylimits for the axes\n",
    "    #ax_twin.set_ylim(0, 0.030)\n",
    "    #ax.set_ylim(0, 3500)\n",
    "    ax.set_title('Topic: ' + str(i), color=cols[i], fontsize=16)\n",
    "    ax.tick_params(axis='y', left=False)\n",
    "    ax.set_xticks(np.arange(10))\n",
    "    ax.set_xticklabels(df.loc[df.topic_id==i, 'word'].tolist(), rotation=30, horizontalalignment= 'right', fontsize=12)\n",
    "    ax_twin.legend(loc=[0.80,0.82])\n",
    "    ax.legend(loc=[0.80,0.90])\n",
    "    \n",
    "\n",
    "fig.tight_layout(w_pad=2)    \n",
    "fig.suptitle('Word Count and Importance of Topic Keywords', fontsize=22, y=1.05)\n",
    "plt.show()"
   ]
  },
  {
   "cell_type": "markdown",
   "metadata": {},
   "source": [
    "### Intrepreting the topic word frequency and their weights\n",
    "\n",
    "Topic 0:\n",
    "* Equally distributed weights\n",
    "* The frequency of the words have little correlation with the weights\n",
    "\n",
    "Topic 1:\n",
    "* Equally distributed weights\n",
    "* amd has the highest word frequency\n",
    "* gpu is more favoured to gpus\n",
    "\n",
    "Topic 2:\n",
    "* Performance has the highest frequency, but the weights are not that high\n",
    "* Gaming features: dlss has a higher weight and frequency compared to ray_tracing, which possibly means a more favoured feature among gamers.\n",
    "* Resolution: Surprisingly, 4k resolution has a higher frequency and weight compared to 1440p resolution, which is not so main stream yet. 1440p resolution is reaching mainstream crowd.\n",
    "\n",
    "Topic 3:\n",
    "* Relating to GPU purchase during the launch\n",
    "* card seems to appear often, possibly could include in the stopwords\n",
    "* lol, yeah seems to make little sense here, could add to stopwords\n",
    "\n",
    "Topic 4:\n",
    "* The GPU models have a relatively higher word count compared to their frequency\n",
    "* Nvidia's RTX 3070 and 3080 seems to be favoured over the other GPU models\n",
    "\n",
    "Topic 5:\n",
    "* Compared to the other topics, the weights are equal to or higher than their word count.\n",
    "* good and great share a similar meaning, could potentially add one of the to stopwords."
   ]
  },
  {
   "cell_type": "markdown",
   "metadata": {},
   "source": [
    "# Most discussed topics in the documents (Possibly remove)"
   ]
  },
  {
   "cell_type": "markdown",
   "metadata": {},
   "source": [
    "Note: It'll take **more than an hour** to run if all the documents are added."
   ]
  },
  {
   "cell_type": "code",
   "execution_count": 54,
   "metadata": {
    "ExecuteTime": {
     "end_time": "2021-01-26T09:10:26.013881Z",
     "start_time": "2021-01-26T09:10:25.998871Z"
    },
    "scrolled": true
   },
   "outputs": [],
   "source": [
    "# Sentence Coloring of N Sentences\n",
    "# def topics_per_document(model, corpus, start=0, end=1):\n",
    "#     corpus_sel = corpus[start:end] # Obtain a slice of nth documents\n",
    "#     dominant_topics = []\n",
    "#     topic_percentages = []\n",
    "#     for i, corp in enumerate(corpus_sel): # For each document\n",
    "#         doc = model[corp] # Gets the nth document\n",
    "#         dominant_topic, topic_percs = sorted(doc, key = lambda x: x[1], reverse=True)[0] # Gets the dominant topic and topic percentage by sorting the topic percentage prob in descending order\n",
    "#         dominant_topics.append((i, dominant_topic))\n",
    "#         topic_percentages.append(topic_percs)\n",
    "#     return(dominant_topics, topic_percentages)\n",
    "\n",
    "# dominant_topics, topic_percentages = topics_per_document(model=optimal_model, corpus=bigram_corpus, end=10)  "
   ]
  },
  {
   "cell_type": "code",
   "execution_count": 55,
   "metadata": {
    "ExecuteTime": {
     "end_time": "2021-01-26T09:10:26.029591Z",
     "start_time": "2021-01-26T09:10:26.014883Z"
    }
   },
   "outputs": [],
   "source": [
    "# Distribution of Dominant Topics in Each Document\n",
    "# df = pd.DataFrame(dominant_topics, columns=['Document_Id', 'Dominant_Topic'])\n",
    "# dominant_topic_in_each_doc = df.groupby('Dominant_Topic').size()\n",
    "# df_dominant_topic_in_each_doc = dominant_topic_in_each_doc.to_frame(name='count').reset_index()\n",
    "\n",
    "# Total Topic Distribution by actual weight\n",
    "# topic_weightage_by_doc = pd.DataFrame([{t} for t in topic_percentages])\n",
    "# df_topic_weightage_by_doc = topic_weightage_by_doc.sum().to_frame(name='count').reset_index()\n",
    "\n",
    "# Top 3 Keywords for each Topic\n",
    "# topic_top3words = [(i, topic) for i, topics in optimal_model.show_topics(formatted=False) \n",
    "#                                  for j, (topic, wt) in enumerate(topics) if j < 3]\n",
    "\n",
    "# df_top3words_stacked = pd.DataFrame(topic_top3words, columns=['topic_id', 'words'])\n",
    "# df_top3words = df_top3words_stacked.groupby('topic_id').agg(', '.join)\n",
    "# df_top3words.reset_index(level=0,inplace=True)"
   ]
  },
  {
   "cell_type": "code",
   "execution_count": 56,
   "metadata": {
    "ExecuteTime": {
     "end_time": "2021-01-26T09:10:26.060885Z",
     "start_time": "2021-01-26T09:10:26.030592Z"
    }
   },
   "outputs": [],
   "source": [
    "# df_top3words"
   ]
  },
  {
   "cell_type": "code",
   "execution_count": 57,
   "metadata": {
    "ExecuteTime": {
     "end_time": "2021-01-26T09:10:26.076889Z",
     "start_time": "2021-01-26T09:10:26.061887Z"
    }
   },
   "outputs": [],
   "source": [
    "# from matplotlib.ticker import FuncFormatter\n",
    "\n",
    "# # Plot\n",
    "# fig, (ax1, ax2) = plt.subplots(1, 2, figsize=(10, 4), dpi=120, sharey=True)\n",
    "\n",
    "# # Topic Distribution by Dominant Topics\n",
    "# ax1.bar(x='Dominant_Topic', height='count', data=df_dominant_topic_in_each_doc, width=.5, color='firebrick')\n",
    "# ax1.set_xticks(range(df_dominant_topic_in_each_doc.Dominant_Topic.unique().__len__()))\n",
    "# tick_formatter = FuncFormatter(lambda x, pos: 'Topic ' + str(x)+ '\\n' + df_top3words.loc[df_top3words.topic_id==x, 'words'].values[0])\n",
    "# ax1.xaxis.set_major_formatter(tick_formatter)\n",
    "# ax1.set_title('Number of Documents by Dominant Topic', fontdict=dict(size=10))\n",
    "# ax1.set_ylabel('Number of Documents')\n",
    "# ax1.set_ylim(0, 1000)\n",
    "\n",
    "# # Topic Distribution by Topic Weights\n",
    "# ax2.bar(x='index', height='count', data=df_topic_weightage_by_doc, width=.5, color='steelblue')\n",
    "# ax2.set_xticks(range(df_topic_weightage_by_doc.index.unique().__len__()))\n",
    "# ax2.xaxis.set_major_formatter(tick_formatter)\n",
    "# ax2.set_title('Number of Documents by Topic Weightage', fontdict=dict(size=10))\n",
    "\n",
    "# plt.show()"
   ]
  },
  {
   "cell_type": "markdown",
   "metadata": {},
   "source": [
    "# t-SNE Clustering Chart"
   ]
  },
  {
   "cell_type": "code",
   "execution_count": 58,
   "metadata": {
    "ExecuteTime": {
     "end_time": "2021-01-26T09:10:29.994416Z",
     "start_time": "2021-01-26T09:10:26.077889Z"
    }
   },
   "outputs": [
    {
     "name": "stdout",
     "output_type": "stream",
     "text": [
      "[t-SNE] Computing 91 nearest neighbors...\n",
      "[t-SNE] Indexed 172 samples in 0.000s...\n",
      "[t-SNE] Computed neighbors for 172 samples in 0.003s...\n",
      "[t-SNE] Computed conditional probabilities for sample 172 / 172\n",
      "[t-SNE] Mean sigma: 0.068332\n",
      "[t-SNE] KL divergence after 250 iterations with early exaggeration: 50.212635\n",
      "[t-SNE] KL divergence after 850 iterations: 0.126973\n"
     ]
    },
    {
     "data": {
      "text/html": [
       "\n",
       "    <div class=\"bk-root\">\n",
       "        <a href=\"https://bokeh.org\" target=\"_blank\" class=\"bk-logo bk-logo-small bk-logo-notebook\"></a>\n",
       "        <span id=\"1001\">Loading BokehJS ...</span>\n",
       "    </div>"
      ]
     },
     "metadata": {},
     "output_type": "display_data"
    },
    {
     "data": {
      "application/javascript": [
       "\n",
       "(function(root) {\n",
       "  function now() {\n",
       "    return new Date();\n",
       "  }\n",
       "\n",
       "  var force = true;\n",
       "\n",
       "  if (typeof root._bokeh_onload_callbacks === \"undefined\" || force === true) {\n",
       "    root._bokeh_onload_callbacks = [];\n",
       "    root._bokeh_is_loading = undefined;\n",
       "  }\n",
       "\n",
       "  var JS_MIME_TYPE = 'application/javascript';\n",
       "  var HTML_MIME_TYPE = 'text/html';\n",
       "  var EXEC_MIME_TYPE = 'application/vnd.bokehjs_exec.v0+json';\n",
       "  var CLASS_NAME = 'output_bokeh rendered_html';\n",
       "\n",
       "  /**\n",
       "   * Render data to the DOM node\n",
       "   */\n",
       "  function render(props, node) {\n",
       "    var script = document.createElement(\"script\");\n",
       "    node.appendChild(script);\n",
       "  }\n",
       "\n",
       "  /**\n",
       "   * Handle when an output is cleared or removed\n",
       "   */\n",
       "  function handleClearOutput(event, handle) {\n",
       "    var cell = handle.cell;\n",
       "\n",
       "    var id = cell.output_area._bokeh_element_id;\n",
       "    var server_id = cell.output_area._bokeh_server_id;\n",
       "    // Clean up Bokeh references\n",
       "    if (id != null && id in Bokeh.index) {\n",
       "      Bokeh.index[id].model.document.clear();\n",
       "      delete Bokeh.index[id];\n",
       "    }\n",
       "\n",
       "    if (server_id !== undefined) {\n",
       "      // Clean up Bokeh references\n",
       "      var cmd = \"from bokeh.io.state import curstate; print(curstate().uuid_to_server['\" + server_id + \"'].get_sessions()[0].document.roots[0]._id)\";\n",
       "      cell.notebook.kernel.execute(cmd, {\n",
       "        iopub: {\n",
       "          output: function(msg) {\n",
       "            var id = msg.content.text.trim();\n",
       "            if (id in Bokeh.index) {\n",
       "              Bokeh.index[id].model.document.clear();\n",
       "              delete Bokeh.index[id];\n",
       "            }\n",
       "          }\n",
       "        }\n",
       "      });\n",
       "      // Destroy server and session\n",
       "      var cmd = \"import bokeh.io.notebook as ion; ion.destroy_server('\" + server_id + \"')\";\n",
       "      cell.notebook.kernel.execute(cmd);\n",
       "    }\n",
       "  }\n",
       "\n",
       "  /**\n",
       "   * Handle when a new output is added\n",
       "   */\n",
       "  function handleAddOutput(event, handle) {\n",
       "    var output_area = handle.output_area;\n",
       "    var output = handle.output;\n",
       "\n",
       "    // limit handleAddOutput to display_data with EXEC_MIME_TYPE content only\n",
       "    if ((output.output_type != \"display_data\") || (!output.data.hasOwnProperty(EXEC_MIME_TYPE))) {\n",
       "      return\n",
       "    }\n",
       "\n",
       "    var toinsert = output_area.element.find(\".\" + CLASS_NAME.split(' ')[0]);\n",
       "\n",
       "    if (output.metadata[EXEC_MIME_TYPE][\"id\"] !== undefined) {\n",
       "      toinsert[toinsert.length - 1].firstChild.textContent = output.data[JS_MIME_TYPE];\n",
       "      // store reference to embed id on output_area\n",
       "      output_area._bokeh_element_id = output.metadata[EXEC_MIME_TYPE][\"id\"];\n",
       "    }\n",
       "    if (output.metadata[EXEC_MIME_TYPE][\"server_id\"] !== undefined) {\n",
       "      var bk_div = document.createElement(\"div\");\n",
       "      bk_div.innerHTML = output.data[HTML_MIME_TYPE];\n",
       "      var script_attrs = bk_div.children[0].attributes;\n",
       "      for (var i = 0; i < script_attrs.length; i++) {\n",
       "        toinsert[toinsert.length - 1].firstChild.setAttribute(script_attrs[i].name, script_attrs[i].value);\n",
       "        toinsert[toinsert.length - 1].firstChild.textContent = bk_div.children[0].textContent\n",
       "      }\n",
       "      // store reference to server id on output_area\n",
       "      output_area._bokeh_server_id = output.metadata[EXEC_MIME_TYPE][\"server_id\"];\n",
       "    }\n",
       "  }\n",
       "\n",
       "  function register_renderer(events, OutputArea) {\n",
       "\n",
       "    function append_mime(data, metadata, element) {\n",
       "      // create a DOM node to render to\n",
       "      var toinsert = this.create_output_subarea(\n",
       "        metadata,\n",
       "        CLASS_NAME,\n",
       "        EXEC_MIME_TYPE\n",
       "      );\n",
       "      this.keyboard_manager.register_events(toinsert);\n",
       "      // Render to node\n",
       "      var props = {data: data, metadata: metadata[EXEC_MIME_TYPE]};\n",
       "      render(props, toinsert[toinsert.length - 1]);\n",
       "      element.append(toinsert);\n",
       "      return toinsert\n",
       "    }\n",
       "\n",
       "    /* Handle when an output is cleared or removed */\n",
       "    events.on('clear_output.CodeCell', handleClearOutput);\n",
       "    events.on('delete.Cell', handleClearOutput);\n",
       "\n",
       "    /* Handle when a new output is added */\n",
       "    events.on('output_added.OutputArea', handleAddOutput);\n",
       "\n",
       "    /**\n",
       "     * Register the mime type and append_mime function with output_area\n",
       "     */\n",
       "    OutputArea.prototype.register_mime_type(EXEC_MIME_TYPE, append_mime, {\n",
       "      /* Is output safe? */\n",
       "      safe: true,\n",
       "      /* Index of renderer in `output_area.display_order` */\n",
       "      index: 0\n",
       "    });\n",
       "  }\n",
       "\n",
       "  // register the mime type if in Jupyter Notebook environment and previously unregistered\n",
       "  if (root.Jupyter !== undefined) {\n",
       "    var events = require('base/js/events');\n",
       "    var OutputArea = require('notebook/js/outputarea').OutputArea;\n",
       "\n",
       "    if (OutputArea.prototype.mime_types().indexOf(EXEC_MIME_TYPE) == -1) {\n",
       "      register_renderer(events, OutputArea);\n",
       "    }\n",
       "  }\n",
       "\n",
       "  \n",
       "  if (typeof (root._bokeh_timeout) === \"undefined\" || force === true) {\n",
       "    root._bokeh_timeout = Date.now() + 5000;\n",
       "    root._bokeh_failed_load = false;\n",
       "  }\n",
       "\n",
       "  var NB_LOAD_WARNING = {'data': {'text/html':\n",
       "     \"<div style='background-color: #fdd'>\\n\"+\n",
       "     \"<p>\\n\"+\n",
       "     \"BokehJS does not appear to have successfully loaded. If loading BokehJS from CDN, this \\n\"+\n",
       "     \"may be due to a slow or bad network connection. Possible fixes:\\n\"+\n",
       "     \"</p>\\n\"+\n",
       "     \"<ul>\\n\"+\n",
       "     \"<li>re-rerun `output_notebook()` to attempt to load from CDN again, or</li>\\n\"+\n",
       "     \"<li>use INLINE resources instead, as so:</li>\\n\"+\n",
       "     \"</ul>\\n\"+\n",
       "     \"<code>\\n\"+\n",
       "     \"from bokeh.resources import INLINE\\n\"+\n",
       "     \"output_notebook(resources=INLINE)\\n\"+\n",
       "     \"</code>\\n\"+\n",
       "     \"</div>\"}};\n",
       "\n",
       "  function display_loaded() {\n",
       "    var el = document.getElementById(\"1001\");\n",
       "    if (el != null) {\n",
       "      el.textContent = \"BokehJS is loading...\";\n",
       "    }\n",
       "    if (root.Bokeh !== undefined) {\n",
       "      if (el != null) {\n",
       "        el.textContent = \"BokehJS \" + root.Bokeh.version + \" successfully loaded.\";\n",
       "      }\n",
       "    } else if (Date.now() < root._bokeh_timeout) {\n",
       "      setTimeout(display_loaded, 100)\n",
       "    }\n",
       "  }\n",
       "\n",
       "\n",
       "  function run_callbacks() {\n",
       "    try {\n",
       "      root._bokeh_onload_callbacks.forEach(function(callback) {\n",
       "        if (callback != null)\n",
       "          callback();\n",
       "      });\n",
       "    } finally {\n",
       "      delete root._bokeh_onload_callbacks\n",
       "    }\n",
       "    console.debug(\"Bokeh: all callbacks have finished\");\n",
       "  }\n",
       "\n",
       "  function load_libs(css_urls, js_urls, callback) {\n",
       "    if (css_urls == null) css_urls = [];\n",
       "    if (js_urls == null) js_urls = [];\n",
       "\n",
       "    root._bokeh_onload_callbacks.push(callback);\n",
       "    if (root._bokeh_is_loading > 0) {\n",
       "      console.debug(\"Bokeh: BokehJS is being loaded, scheduling callback at\", now());\n",
       "      return null;\n",
       "    }\n",
       "    if (js_urls == null || js_urls.length === 0) {\n",
       "      run_callbacks();\n",
       "      return null;\n",
       "    }\n",
       "    console.debug(\"Bokeh: BokehJS not loaded, scheduling load and callback at\", now());\n",
       "    root._bokeh_is_loading = css_urls.length + js_urls.length;\n",
       "\n",
       "    function on_load() {\n",
       "      root._bokeh_is_loading--;\n",
       "      if (root._bokeh_is_loading === 0) {\n",
       "        console.debug(\"Bokeh: all BokehJS libraries/stylesheets loaded\");\n",
       "        run_callbacks()\n",
       "      }\n",
       "    }\n",
       "\n",
       "    function on_error() {\n",
       "      console.error(\"failed to load \" + url);\n",
       "    }\n",
       "\n",
       "    for (var i = 0; i < css_urls.length; i++) {\n",
       "      var url = css_urls[i];\n",
       "      const element = document.createElement(\"link\");\n",
       "      element.onload = on_load;\n",
       "      element.onerror = on_error;\n",
       "      element.rel = \"stylesheet\";\n",
       "      element.type = \"text/css\";\n",
       "      element.href = url;\n",
       "      console.debug(\"Bokeh: injecting link tag for BokehJS stylesheet: \", url);\n",
       "      document.body.appendChild(element);\n",
       "    }\n",
       "\n",
       "    const hashes = {\"https://cdn.bokeh.org/bokeh/release/bokeh-2.2.3.min.js\": \"T2yuo9Oe71Cz/I4X9Ac5+gpEa5a8PpJCDlqKYO0CfAuEszu1JrXLl8YugMqYe3sM\", \"https://cdn.bokeh.org/bokeh/release/bokeh-widgets-2.2.3.min.js\": \"98GDGJ0kOMCUMUePhksaQ/GYgB3+NH9h996V88sh3aOiUNX3N+fLXAtry6xctSZ6\", \"https://cdn.bokeh.org/bokeh/release/bokeh-tables-2.2.3.min.js\": \"89bArO+nlbP3sgakeHjCo1JYxYR5wufVgA3IbUvDY+K7w4zyxJqssu7wVnfeKCq8\"};\n",
       "\n",
       "    for (var i = 0; i < js_urls.length; i++) {\n",
       "      var url = js_urls[i];\n",
       "      var element = document.createElement('script');\n",
       "      element.onload = on_load;\n",
       "      element.onerror = on_error;\n",
       "      element.async = false;\n",
       "      element.src = url;\n",
       "      if (url in hashes) {\n",
       "        element.crossOrigin = \"anonymous\";\n",
       "        element.integrity = \"sha384-\" + hashes[url];\n",
       "      }\n",
       "      console.debug(\"Bokeh: injecting script tag for BokehJS library: \", url);\n",
       "      document.head.appendChild(element);\n",
       "    }\n",
       "  };\n",
       "\n",
       "  function inject_raw_css(css) {\n",
       "    const element = document.createElement(\"style\");\n",
       "    element.appendChild(document.createTextNode(css));\n",
       "    document.body.appendChild(element);\n",
       "  }\n",
       "\n",
       "  \n",
       "  var js_urls = [\"https://cdn.bokeh.org/bokeh/release/bokeh-2.2.3.min.js\", \"https://cdn.bokeh.org/bokeh/release/bokeh-widgets-2.2.3.min.js\", \"https://cdn.bokeh.org/bokeh/release/bokeh-tables-2.2.3.min.js\"];\n",
       "  var css_urls = [];\n",
       "  \n",
       "\n",
       "  var inline_js = [\n",
       "    function(Bokeh) {\n",
       "      Bokeh.set_log_level(\"info\");\n",
       "    },\n",
       "    function(Bokeh) {\n",
       "    \n",
       "    \n",
       "    }\n",
       "  ];\n",
       "\n",
       "  function run_inline_js() {\n",
       "    \n",
       "    if (root.Bokeh !== undefined || force === true) {\n",
       "      \n",
       "    for (var i = 0; i < inline_js.length; i++) {\n",
       "      inline_js[i].call(root, root.Bokeh);\n",
       "    }\n",
       "    if (force === true) {\n",
       "        display_loaded();\n",
       "      }} else if (Date.now() < root._bokeh_timeout) {\n",
       "      setTimeout(run_inline_js, 100);\n",
       "    } else if (!root._bokeh_failed_load) {\n",
       "      console.log(\"Bokeh: BokehJS failed to load within specified timeout.\");\n",
       "      root._bokeh_failed_load = true;\n",
       "    } else if (force !== true) {\n",
       "      var cell = $(document.getElementById(\"1001\")).parents('.cell').data().cell;\n",
       "      cell.output_area.append_execute_result(NB_LOAD_WARNING)\n",
       "    }\n",
       "\n",
       "  }\n",
       "\n",
       "  if (root._bokeh_is_loading === 0) {\n",
       "    console.debug(\"Bokeh: BokehJS loaded, going straight to plotting\");\n",
       "    run_inline_js();\n",
       "  } else {\n",
       "    load_libs(css_urls, js_urls, function() {\n",
       "      console.debug(\"Bokeh: BokehJS plotting callback run at\", now());\n",
       "      run_inline_js();\n",
       "    });\n",
       "  }\n",
       "}(window));"
      ],
      "application/vnd.bokehjs_load.v0+json": "\n(function(root) {\n  function now() {\n    return new Date();\n  }\n\n  var force = true;\n\n  if (typeof root._bokeh_onload_callbacks === \"undefined\" || force === true) {\n    root._bokeh_onload_callbacks = [];\n    root._bokeh_is_loading = undefined;\n  }\n\n  \n\n  \n  if (typeof (root._bokeh_timeout) === \"undefined\" || force === true) {\n    root._bokeh_timeout = Date.now() + 5000;\n    root._bokeh_failed_load = false;\n  }\n\n  var NB_LOAD_WARNING = {'data': {'text/html':\n     \"<div style='background-color: #fdd'>\\n\"+\n     \"<p>\\n\"+\n     \"BokehJS does not appear to have successfully loaded. If loading BokehJS from CDN, this \\n\"+\n     \"may be due to a slow or bad network connection. Possible fixes:\\n\"+\n     \"</p>\\n\"+\n     \"<ul>\\n\"+\n     \"<li>re-rerun `output_notebook()` to attempt to load from CDN again, or</li>\\n\"+\n     \"<li>use INLINE resources instead, as so:</li>\\n\"+\n     \"</ul>\\n\"+\n     \"<code>\\n\"+\n     \"from bokeh.resources import INLINE\\n\"+\n     \"output_notebook(resources=INLINE)\\n\"+\n     \"</code>\\n\"+\n     \"</div>\"}};\n\n  function display_loaded() {\n    var el = document.getElementById(\"1001\");\n    if (el != null) {\n      el.textContent = \"BokehJS is loading...\";\n    }\n    if (root.Bokeh !== undefined) {\n      if (el != null) {\n        el.textContent = \"BokehJS \" + root.Bokeh.version + \" successfully loaded.\";\n      }\n    } else if (Date.now() < root._bokeh_timeout) {\n      setTimeout(display_loaded, 100)\n    }\n  }\n\n\n  function run_callbacks() {\n    try {\n      root._bokeh_onload_callbacks.forEach(function(callback) {\n        if (callback != null)\n          callback();\n      });\n    } finally {\n      delete root._bokeh_onload_callbacks\n    }\n    console.debug(\"Bokeh: all callbacks have finished\");\n  }\n\n  function load_libs(css_urls, js_urls, callback) {\n    if (css_urls == null) css_urls = [];\n    if (js_urls == null) js_urls = [];\n\n    root._bokeh_onload_callbacks.push(callback);\n    if (root._bokeh_is_loading > 0) {\n      console.debug(\"Bokeh: BokehJS is being loaded, scheduling callback at\", now());\n      return null;\n    }\n    if (js_urls == null || js_urls.length === 0) {\n      run_callbacks();\n      return null;\n    }\n    console.debug(\"Bokeh: BokehJS not loaded, scheduling load and callback at\", now());\n    root._bokeh_is_loading = css_urls.length + js_urls.length;\n\n    function on_load() {\n      root._bokeh_is_loading--;\n      if (root._bokeh_is_loading === 0) {\n        console.debug(\"Bokeh: all BokehJS libraries/stylesheets loaded\");\n        run_callbacks()\n      }\n    }\n\n    function on_error() {\n      console.error(\"failed to load \" + url);\n    }\n\n    for (var i = 0; i < css_urls.length; i++) {\n      var url = css_urls[i];\n      const element = document.createElement(\"link\");\n      element.onload = on_load;\n      element.onerror = on_error;\n      element.rel = \"stylesheet\";\n      element.type = \"text/css\";\n      element.href = url;\n      console.debug(\"Bokeh: injecting link tag for BokehJS stylesheet: \", url);\n      document.body.appendChild(element);\n    }\n\n    const hashes = {\"https://cdn.bokeh.org/bokeh/release/bokeh-2.2.3.min.js\": \"T2yuo9Oe71Cz/I4X9Ac5+gpEa5a8PpJCDlqKYO0CfAuEszu1JrXLl8YugMqYe3sM\", \"https://cdn.bokeh.org/bokeh/release/bokeh-widgets-2.2.3.min.js\": \"98GDGJ0kOMCUMUePhksaQ/GYgB3+NH9h996V88sh3aOiUNX3N+fLXAtry6xctSZ6\", \"https://cdn.bokeh.org/bokeh/release/bokeh-tables-2.2.3.min.js\": \"89bArO+nlbP3sgakeHjCo1JYxYR5wufVgA3IbUvDY+K7w4zyxJqssu7wVnfeKCq8\"};\n\n    for (var i = 0; i < js_urls.length; i++) {\n      var url = js_urls[i];\n      var element = document.createElement('script');\n      element.onload = on_load;\n      element.onerror = on_error;\n      element.async = false;\n      element.src = url;\n      if (url in hashes) {\n        element.crossOrigin = \"anonymous\";\n        element.integrity = \"sha384-\" + hashes[url];\n      }\n      console.debug(\"Bokeh: injecting script tag for BokehJS library: \", url);\n      document.head.appendChild(element);\n    }\n  };\n\n  function inject_raw_css(css) {\n    const element = document.createElement(\"style\");\n    element.appendChild(document.createTextNode(css));\n    document.body.appendChild(element);\n  }\n\n  \n  var js_urls = [\"https://cdn.bokeh.org/bokeh/release/bokeh-2.2.3.min.js\", \"https://cdn.bokeh.org/bokeh/release/bokeh-widgets-2.2.3.min.js\", \"https://cdn.bokeh.org/bokeh/release/bokeh-tables-2.2.3.min.js\"];\n  var css_urls = [];\n  \n\n  var inline_js = [\n    function(Bokeh) {\n      Bokeh.set_log_level(\"info\");\n    },\n    function(Bokeh) {\n    \n    \n    }\n  ];\n\n  function run_inline_js() {\n    \n    if (root.Bokeh !== undefined || force === true) {\n      \n    for (var i = 0; i < inline_js.length; i++) {\n      inline_js[i].call(root, root.Bokeh);\n    }\n    if (force === true) {\n        display_loaded();\n      }} else if (Date.now() < root._bokeh_timeout) {\n      setTimeout(run_inline_js, 100);\n    } else if (!root._bokeh_failed_load) {\n      console.log(\"Bokeh: BokehJS failed to load within specified timeout.\");\n      root._bokeh_failed_load = true;\n    } else if (force !== true) {\n      var cell = $(document.getElementById(\"1001\")).parents('.cell').data().cell;\n      cell.output_area.append_execute_result(NB_LOAD_WARNING)\n    }\n\n  }\n\n  if (root._bokeh_is_loading === 0) {\n    console.debug(\"Bokeh: BokehJS loaded, going straight to plotting\");\n    run_inline_js();\n  } else {\n    load_libs(css_urls, js_urls, function() {\n      console.debug(\"Bokeh: BokehJS plotting callback run at\", now());\n      run_inline_js();\n    });\n  }\n}(window));"
     },
     "metadata": {},
     "output_type": "display_data"
    },
    {
     "data": {
      "text/html": [
       "\n",
       "\n",
       "\n",
       "\n",
       "\n",
       "\n",
       "  <div class=\"bk-root\" id=\"4ab7e9bd-350f-4a81-9310-0e163dd7bc29\" data-root-id=\"1002\"></div>\n"
      ]
     },
     "metadata": {},
     "output_type": "display_data"
    },
    {
     "data": {
      "application/javascript": [
       "(function(root) {\n",
       "  function embed_document(root) {\n",
       "    \n",
       "  var docs_json = {\"19fb655f-e85a-4421-944d-65f748ab6052\":{\"roots\":{\"references\":[{\"attributes\":{\"below\":[{\"id\":\"1013\"}],\"center\":[{\"id\":\"1016\"},{\"id\":\"1020\"}],\"left\":[{\"id\":\"1017\"}],\"plot_height\":700,\"plot_width\":900,\"renderers\":[{\"id\":\"1039\"}],\"title\":{\"id\":\"1003\"},\"toolbar\":{\"id\":\"1028\"},\"x_range\":{\"id\":\"1005\"},\"x_scale\":{\"id\":\"1009\"},\"y_range\":{\"id\":\"1007\"},\"y_scale\":{\"id\":\"1011\"}},\"id\":\"1002\",\"subtype\":\"Figure\",\"type\":\"Plot\"},{\"attributes\":{\"active_drag\":\"auto\",\"active_inspect\":\"auto\",\"active_multi\":null,\"active_scroll\":\"auto\",\"active_tap\":\"auto\",\"tools\":[{\"id\":\"1021\"},{\"id\":\"1022\"},{\"id\":\"1023\"},{\"id\":\"1024\"},{\"id\":\"1025\"},{\"id\":\"1026\"}]},\"id\":\"1028\",\"type\":\"Toolbar\"},{\"attributes\":{},\"id\":\"1047\",\"type\":\"UnionRenderers\"},{\"attributes\":{\"data\":{\"color\":[\"#2ca02c\",\"#2ca02c\",\"#2ca02c\",\"#2ca02c\",\"#2ca02c\",\"#9467bd\",\"#2ca02c\",\"#9467bd\",\"#2ca02c\",\"#9467bd\",\"#8c564b\",\"#2ca02c\",\"#2ca02c\",\"#2ca02c\",\"#2ca02c\",\"#2ca02c\",\"#8c564b\",\"#1f77b4\",\"#8c564b\",\"#2ca02c\",\"#2ca02c\",\"#8c564b\",\"#2ca02c\",\"#ff7f0e\",\"#2ca02c\",\"#8c564b\",\"#8c564b\",\"#8c564b\",\"#9467bd\",\"#8c564b\",\"#8c564b\",\"#8c564b\",\"#8c564b\",\"#8c564b\",\"#8c564b\",\"#8c564b\",\"#8c564b\",\"#8c564b\",\"#2ca02c\",\"#2ca02c\",\"#8c564b\",\"#8c564b\",\"#2ca02c\",\"#8c564b\",\"#8c564b\",\"#8c564b\",\"#8c564b\",\"#8c564b\",\"#8c564b\",\"#8c564b\",\"#8c564b\",\"#d62728\",\"#d62728\",\"#d62728\",\"#d62728\",\"#d62728\",\"#d62728\",\"#1f77b4\",\"#d62728\",\"#d62728\",\"#d62728\",\"#d62728\",\"#d62728\",\"#d62728\",\"#d62728\",\"#d62728\",\"#d62728\",\"#d62728\",\"#d62728\",\"#d62728\",\"#d62728\",\"#d62728\",\"#d62728\",\"#d62728\",\"#d62728\",\"#8c564b\",\"#d62728\",\"#d62728\",\"#8c564b\",\"#1f77b4\",\"#d62728\",\"#d62728\",\"#d62728\",\"#d62728\",\"#d62728\",\"#d62728\",\"#d62728\",\"#d62728\",\"#d62728\",\"#d62728\",\"#1f77b4\",\"#d62728\",\"#d62728\",\"#d62728\",\"#8c564b\",\"#8c564b\",\"#9467bd\",\"#1f77b4\",\"#9467bd\",\"#9467bd\",\"#1f77b4\",\"#9467bd\",\"#8c564b\",\"#8c564b\",\"#8c564b\",\"#9467bd\",\"#8c564b\",\"#8c564b\",\"#9467bd\",\"#8c564b\",\"#1f77b4\",\"#9467bd\",\"#8c564b\",\"#8c564b\",\"#1f77b4\",\"#8c564b\",\"#9467bd\",\"#8c564b\",\"#9467bd\",\"#1f77b4\",\"#d62728\",\"#8c564b\",\"#9467bd\",\"#8c564b\",\"#9467bd\",\"#8c564b\",\"#8c564b\",\"#d62728\",\"#9467bd\",\"#1f77b4\",\"#8c564b\",\"#d62728\",\"#2ca02c\",\"#1f77b4\",\"#8c564b\",\"#9467bd\",\"#d62728\",\"#9467bd\",\"#1f77b4\",\"#8c564b\",\"#8c564b\",\"#8c564b\",\"#8c564b\",\"#8c564b\",\"#9467bd\",\"#8c564b\",\"#9467bd\",\"#ff7f0e\",\"#8c564b\",\"#8c564b\",\"#1f77b4\",\"#8c564b\",\"#9467bd\",\"#ff7f0e\",\"#8c564b\",\"#1f77b4\",\"#8c564b\",\"#2ca02c\",\"#9467bd\",\"#8c564b\",\"#ff7f0e\",\"#8c564b\",\"#ff7f0e\",\"#ff7f0e\",\"#8c564b\",\"#8c564b\",\"#2ca02c\",\"#ff7f0e\",\"#9467bd\",\"#ff7f0e\",\"#ff7f0e\",\"#ff7f0e\"],\"x\":{\"__ndarray__\":\"6Gltv76M5r47m0e/yT4iv5JPqD2y1wTBzBcbv04+FcHffj6//9UWwd68MkGRFH2/88RHPsCCjD6wX8a+xsqIvw9JMEHjzTw+HI4lQblDgb9ROTm/FmAaQVfngL9KUs7AvKVfPlnCYUFHYj1BDw0nQRJOCMGEJURBWd5RQXmJDkHfqzJBi/U1QQgOGUGlhDNBhvESQbeNGEE43kC9gJptvv9iU0GpR01BArU/v09dJkFbBhZBOuhRQal7M0HV3VVBj21bQfrfXEFtozVBvgWfwXHqqMFaZJ7B2H6kwZgrocGXu6rB2xYnP0G9rMFDI7rBaB+lwQmipMENBJXBZxq6wbb0ssFPD5/BclGqwYIAn8FTOJvBbHSswT21psHO9KXBtYWfwQ7+qcHRJ7fBt1xSQUXus8F86KPBRX0RQT9yFz//LJnB/TaewaaRn8G5C6LBz5iswSpzosE2iZzB8KCiwdvtsMFoXJjB+wYwP+h+o8HeV6TBvsS0wTVQEkE/tgpBiYAQwTqLNz61RxfBJdIHwV25Ez5rYQnBVdYjQQNiFkFrzShBNuYIwUBkPEHAhTxBvQQOweojPUH1ahQ/VxAKwdFYIEFAcwRBJHaXPsXGPUGbbhHB1zA6QWI9EMFvn3E+PYylwX8VOEGpkxDB9iUNQa7nC8GiPkRBbqAeQZBBtMEhPBDBtV4CP2IVLEE/97jBe0PavjJXej5vuhtB2QsYwcA0psEESxDBLAgtP/18QUGSKgxB4BMeQc1KKEGLwydBepcUwfVQLUGYHx/BPxvPwKaCEkHyHkNBv8P3PQ6APUF4niDBKeLSwGp7F0GIQQs/rbYnQfo1qb4kEB7BJkMTQbGF18Ao52tBRovUwGC92sAcfR1B3uBrQTPSxL9ALuvAGbMYwdoR9cBEOPbAFofywA==\",\"dtype\":\"float32\",\"order\":\"little\",\"shape\":[172]},\"y\":{\"__ndarray__\":\"1x9dwPt2RMDLSDzASkZLwN7bT8BXpvS/kvtowP4Uzr+FmH3AvP+hvyYjBECVfXjAyQ1iwJj1acBqUILAAINtwB1zKEBeK0hA4yLGQLFwbMD/gYnA7n9BQDf/UsBxNolAxy2AwE6sf0CHUoBAuaaBQHQeib+PNcRAF5JrQIrPgEBQro1Aua+IQDk1rUBKor1AO6GHQDQTwUAQiDLAfz5uwKs8WEAN13tAvxltwEqBa0Aeb4RA4yKAQKsXo0BwnKhAzcSCQMcHfUCJ3shAmLnpQMqaBEFCJQtB4wv6QNEJ/kCcGQNBEIZIQM/OAkHwqxJBajLhQHGGGkGenQ1BFxgSQW5SA0FtZfNAn/wOQYUOFkG3bQRBZbzlQNsg/UCpdBNBo9UFQara8UA1dA5BXc6mQINICkHaSAhBPgu7QPWefkCTxg1BpdwIQSvoAkHIAgtB6dQJQc5a6UDRYuxACJ39QF7eAUFk0glBzPqAQPO+5kADVNFAioAJQRcnJkBDlTdAoVNVv/fOPEAdul2/Ixvbv3X/RUDXo9q/qjTTQGCJm0CVRDFAClSZv+4YYUD60iBAohSIv/XWhEBO42NAr9CVvzlLnkAOzJFAB0g9QOTO3kCnsgvAF0XBQM4vZr9ydkxAnWMMQcrki0Dj9dG/kKZxQKH8ub/JVctAb5RbQHVo4EBO7dO/fFVFQPDdskBqbw5B0KqFwLPsPkA++oRAe9V0vzqk+0Aa8du/dexbQAA0mUBk5lVAVhaIQM8ExUABgKNAvXb2v+J61EAOsLG/eaWIQDHNt0DC419AnQtYQM+AlUBhbce/a4yIQGlCOEC7s0VA9CeSQCYyc8BBtPi/ruhBQKHWhkBhnX9Az3aIQE5uhkCeNF5AV6V/QKT5V8BouodAAPACwFwCikCtlIpABmOJQA==\",\"dtype\":\"float32\",\"order\":\"little\",\"shape\":[172]}},\"selected\":{\"id\":\"1046\"},\"selection_policy\":{\"id\":\"1047\"}},\"id\":\"1035\",\"type\":\"ColumnDataSource\"},{\"attributes\":{\"data_source\":{\"id\":\"1035\"},\"glyph\":{\"id\":\"1037\"},\"hover_glyph\":null,\"muted_glyph\":null,\"nonselection_glyph\":{\"id\":\"1038\"},\"selection_glyph\":null,\"view\":{\"id\":\"1040\"}},\"id\":\"1039\",\"type\":\"GlyphRenderer\"},{\"attributes\":{},\"id\":\"1044\",\"type\":\"BasicTickFormatter\"},{\"attributes\":{},\"id\":\"1007\",\"type\":\"DataRange1d\"},{\"attributes\":{\"axis\":{\"id\":\"1017\"},\"dimension\":1,\"ticker\":null},\"id\":\"1020\",\"type\":\"Grid\"},{\"attributes\":{},\"id\":\"1024\",\"type\":\"SaveTool\"},{\"attributes\":{\"formatter\":{\"id\":\"1042\"},\"ticker\":{\"id\":\"1018\"}},\"id\":\"1017\",\"type\":\"LinearAxis\"},{\"attributes\":{\"formatter\":{\"id\":\"1044\"},\"ticker\":{\"id\":\"1014\"}},\"id\":\"1013\",\"type\":\"LinearAxis\"},{\"attributes\":{\"text\":\"t-SNE Clustering of 6 LDA Topics\"},\"id\":\"1003\",\"type\":\"Title\"},{\"attributes\":{\"axis\":{\"id\":\"1013\"},\"ticker\":null},\"id\":\"1016\",\"type\":\"Grid\"},{\"attributes\":{\"fill_alpha\":{\"value\":0.1},\"fill_color\":{\"field\":\"color\"},\"line_alpha\":{\"value\":0.1},\"line_color\":{\"field\":\"color\"},\"x\":{\"field\":\"x\"},\"y\":{\"field\":\"y\"}},\"id\":\"1038\",\"type\":\"Scatter\"},{\"attributes\":{},\"id\":\"1018\",\"type\":\"BasicTicker\"},{\"attributes\":{},\"id\":\"1014\",\"type\":\"BasicTicker\"},{\"attributes\":{},\"id\":\"1005\",\"type\":\"DataRange1d\"},{\"attributes\":{},\"id\":\"1026\",\"type\":\"HelpTool\"},{\"attributes\":{\"bottom_units\":\"screen\",\"fill_alpha\":0.5,\"fill_color\":\"lightgrey\",\"left_units\":\"screen\",\"level\":\"overlay\",\"line_alpha\":1.0,\"line_color\":\"black\",\"line_dash\":[4,4],\"line_width\":2,\"right_units\":\"screen\",\"top_units\":\"screen\"},\"id\":\"1027\",\"type\":\"BoxAnnotation\"},{\"attributes\":{},\"id\":\"1046\",\"type\":\"Selection\"},{\"attributes\":{},\"id\":\"1011\",\"type\":\"LinearScale\"},{\"attributes\":{},\"id\":\"1021\",\"type\":\"PanTool\"},{\"attributes\":{},\"id\":\"1022\",\"type\":\"WheelZoomTool\"},{\"attributes\":{\"fill_color\":{\"field\":\"color\"},\"line_color\":{\"field\":\"color\"},\"x\":{\"field\":\"x\"},\"y\":{\"field\":\"y\"}},\"id\":\"1037\",\"type\":\"Scatter\"},{\"attributes\":{},\"id\":\"1025\",\"type\":\"ResetTool\"},{\"attributes\":{\"source\":{\"id\":\"1035\"}},\"id\":\"1040\",\"type\":\"CDSView\"},{\"attributes\":{\"overlay\":{\"id\":\"1027\"}},\"id\":\"1023\",\"type\":\"BoxZoomTool\"},{\"attributes\":{},\"id\":\"1009\",\"type\":\"LinearScale\"},{\"attributes\":{},\"id\":\"1042\",\"type\":\"BasicTickFormatter\"}],\"root_ids\":[\"1002\"]},\"title\":\"Bokeh Application\",\"version\":\"2.2.3\"}};\n",
       "  var render_items = [{\"docid\":\"19fb655f-e85a-4421-944d-65f748ab6052\",\"root_ids\":[\"1002\"],\"roots\":{\"1002\":\"4ab7e9bd-350f-4a81-9310-0e163dd7bc29\"}}];\n",
       "  root.Bokeh.embed.embed_items_notebook(docs_json, render_items);\n",
       "\n",
       "  }\n",
       "  if (root.Bokeh !== undefined) {\n",
       "    embed_document(root);\n",
       "  } else {\n",
       "    var attempts = 0;\n",
       "    var timer = setInterval(function(root) {\n",
       "      if (root.Bokeh !== undefined) {\n",
       "        clearInterval(timer);\n",
       "        embed_document(root);\n",
       "      } else {\n",
       "        attempts++;\n",
       "        if (attempts > 100) {\n",
       "          clearInterval(timer);\n",
       "          console.log(\"Bokeh: ERROR: Unable to run BokehJS code because BokehJS library is missing\");\n",
       "        }\n",
       "      }\n",
       "    }, 10, root)\n",
       "  }\n",
       "})(window);"
      ],
      "application/vnd.bokehjs_exec.v0+json": ""
     },
     "metadata": {
      "application/vnd.bokehjs_exec.v0+json": {
       "id": "1002"
      }
     },
     "output_type": "display_data"
    }
   ],
   "source": [
    "# Get topic weights\n",
    "topic_weights = []\n",
    "\n",
    "for row_lst in optimal_model[bigram_corpus]:\n",
    "    lst = []\n",
    "    for topic_id, topic_perc in row_lst:\n",
    "        lst.append(topic_perc)\n",
    "    topic_weights.append(lst)\n",
    "    \n",
    "\n",
    "# Array of topic weights    \n",
    "arr = pd.DataFrame(topic_weights).fillna(0).values\n",
    "\n",
    "# Keep the well separated points (optional)\n",
    "arr = arr[np.amax(arr, axis=1) > 0.35]\n",
    "\n",
    "# Dominant topic number in each doc\n",
    "topic_num = np.argmax(arr, axis=1)\n",
    "\n",
    "# tSNE Dimension Reduction\n",
    "tsne_model = TSNE(n_components=2, perplexity=30, verbose=1, random_state=42, angle=.99, init='pca')\n",
    "tsne_lda = tsne_model.fit_transform(arr)\n",
    "\n",
    "# Plot the Topic Clusters using Bokeh\n",
    "output_notebook()\n",
    "n_topics = 6\n",
    "mycolors = np.array([color for name, color in mcolors.TABLEAU_COLORS.items()])\n",
    "plot = figure(title=\"t-SNE Clustering of {} LDA Topics\".format(n_topics), \n",
    "              plot_width=900, plot_height=700)\n",
    "lgd_label = np.array(['Topic 0', 'Topic 1', 'Topic 2', 'Topic 3', 'Topic 4', 'Topic 5'])\n",
    "\n",
    "source = ColumnDataSource(dict(\n",
    "    x=tsne_lda[:,0],\n",
    "    y=tsne_lda[:,1],\n",
    "    color=mycolors[topic_num],\n",
    "))\n",
    "\n",
    "plot.scatter(x='x', y='y', color='color', source=source)\n",
    "show(plot)"
   ]
  },
  {
   "cell_type": "markdown",
   "metadata": {},
   "source": [
    "t-Distributed Stochastic Neighbor Embedding (t-SNE) is an unsupervised non-linear learning technique used for data exploration and visualizing higher dimensional data. It gives a sense of how the data is arranged in a high dimensional-space. As t-SNE preserves small pairwise compared to Principal Component Analysis (PCA), we can see that the Topic 0, 2, 4 and 5 are close together which shows their relationship"
   ]
  },
  {
   "cell_type": "markdown",
   "metadata": {},
   "source": [
    "# pyLDAVis"
   ]
  },
  {
   "cell_type": "code",
   "execution_count": 59,
   "metadata": {
    "ExecuteTime": {
     "end_time": "2021-01-26T09:10:33.127401Z",
     "start_time": "2021-01-26T09:10:29.995417Z"
    }
   },
   "outputs": [
    {
     "data": {
      "text/html": [
       "\n",
       "<link rel=\"stylesheet\" type=\"text/css\" href=\"https://cdn.rawgit.com/bmabey/pyLDAvis/files/ldavis.v1.0.0.css\">\n",
       "\n",
       "\n",
       "<div id=\"ldavis_el1699620702225787368433322116\"></div>\n",
       "<script type=\"text/javascript\">\n",
       "\n",
       "var ldavis_el1699620702225787368433322116_data = {\"mdsDat\": {\"x\": [-0.181902207481832, 0.040267992630689746, 0.048442766783288856, -0.3298393536790438, 0.22567494858309164, 0.19735585316380527], \"y\": [0.08983178405373901, -0.14618134202156136, -0.0896243580036271, 0.023876986783029963, 0.36539681102090277, -0.24329988183248327], \"topics\": [1, 2, 3, 4, 5, 6], \"cluster\": [1, 1, 1, 1, 1, 1], \"Freq\": [17.339924224606808, 16.981960124398157, 16.774185157883874, 16.60798289365772, 16.474307600915594, 15.821639998537842]}, \"tinfo\": {\"Term\": [\"amd\", \"nvidia\", \"3080\", \"dl\", \"3070\", \"game\", \"6800\", \"people\", \"price\", \"gpu\", \"3090\", \"6800xt\", \"good\", \"year\", \"buy\", \"cpu\", \"ray_tracing\", \"driver\", \"card\", \"vram\", \"wait\", \"stock\", \"rt\", \"time\", \"feature\", \"benchmark\", \"6900xt\", \"4k\", \"gaming\", \"point\", \"ml_solution\", \"lag\", \"blur\", \"technology\", \"gimmick\", \"written\", \"specific\", \"14\", \"hit\", \"8k\", \"60fps\", \"hundred\", \"forward\", \"0\", \"setting\", \"60\", \"powerful\", \"raytracing\", \"chill\", \"topic\", \"biggest\", \"30fps\", \"dl\", \"needing\", \"directx_12\", \"record\", \"cyberpunk_2077\", \"designed\", \"application\", \"function\", \"game\", \"ray_tracing\", \"rt\", \"feature\", \"4k\", \"support\", \"fps\", \"software\", \"run\", \"1080p\", \"tech\", \"based\", \"future\", \"title\", \"resolution\", \"working\", \"core\", \"play\", \"kind\", \"vr\", \"experience\", \"super_resolution\", \"xbox\", \"1440p\", \"hardware\", \"high\", \"matter\", \"rtx\", \"worse\", \"console\", \"graphic\", \"goodness\", \"id\", \"exciting\", \"pony\", \"worry\", \"huang\", \"outrageous\", \"assumption\", \"q1_2021\", \"699\", \"responsible\", \"prediction\", \"prevent\", \"8n\", \"suicide\", \"survive\", \"heh\", \"territory\", \"success\", \"267\", \"bragging\", \"length\", \"shelf\", \"judging\", \"unreasonable\", \"transistor\", \"flood\", \"involved\", \"largest\", \"bout\", \"amd\", \"nvidia\", \"end\", \"power\", \"intel\", \"gen\", \"lower\", \"compete\", \"generation\", \"competition\", \"high_end\", \"rdna2\", \"competitive\", \"expect\", \"chip\", \"low\", \"win\", \"consumer\", \"released\", \"supply\", \"big_navi\", \"turing\", \"advantage\", \"tier\", \"rdna\", \"die\", \"user\", \"cheap\", \"ahead\", \"gain\", \"psu\", \"gamers\", \"doubt\", \"market\", \"400\", \"hard\", \"card\", \"big\", \"console\", \"pricing\", \"higher\", \"release\", \"drop\", \"ii\", \"sorted\", \"au\", \"increasing\", \"lazy\", \"cared\", \"rival\", \"section\", \"outraged\", \"chair\", \"ye\", \"cringe\", \"creating\", \"officially\", \"possibly\", \"fund\", \"previously\", \"ugly\", \"kidding\", \"nv\", \"goal_post\", \"wake\", \"camera\", \"begin\", \"moral\", \"questionable\", \"enterprise\", \"disclosed\", \"practice\", \"inevitably\", \"people\", \"buy\", \"gaming\", \"point\", \"bad\", \"money\", \"reason\", \"product\", \"care\", \"sell\", \"feel\", \"company\", \"literally\", \"make\", \"talking\", \"dont\", \"msrp\", \"budget\", \"stuff\", \"comment\", \"case\", \"offer\", \"marketing\", \"sound\", \"question\", \"idea\", \"start\", \"fuck\", \"choice\", \"term\", \"buying\", \"shit\", \"hand\", \"good\", \"time\", \"lot\", \"pretty\", \"deal\", \"price\", \"release\", \"month\", \"card\", \"guess\", \"preffers\", \"cood\", \"40am\", \"whack\", \"3800\", \"jiraia99\", \"ughhhhh\", \"afternoon\", \"woohoo\", \"hopped\", \"melt\", \"shittyness\", \"bundled\", \"adapting\", \"sketchy\", \"debated\", \"mailing\", \"dunno\", \"8mins\", \"pour\", \"moins\", \"vous\", \"fking\", \"havnt\", \"receives\", \"teamred\", \"repaste\", \"github\", \"tripled\", \"choosey\", \"3080\", \"3070\", \"6800\", \"3090\", \"6800xt\", \"vram\", \"6900xt\", \"xt\", \"500\", \"faster\", \"50\", \"bit\", \"2080ti\", \"cheaper\", \"cost\", \"worth\", \"extra\", \"80\", \"16gb\", \"expensive\", \"100\", \"super\", \"beat\", \"close\", \"8\", \"competitor\", \"ram\", \"8gb\", \"15\", \"slightly\", \"20\", \"price\", \"compared\", \"difference\", \"rtx\", \"frankly\", \"flex\", \"reputation\", \"pcie4\", \"main\", \"plug\", \"980\", \"mac\", \"element\", \"2018\", \"potential\", \"stuttering\", \"handled\", \"suit\", \"crashing\", \"bottlenecked\", \"overclocked\", \"lived\", \"gtx\", \"2016\", \"closest\", \"owner\", \"atm\", \"installed\", \"versus\", \"installing\", \"sigh\", \"hmmm\", \"presentation\", \"19\", \"gpu\", \"year\", \"cpu\", \"driver\", \"wait\", \"benchmark\", \"issue\", \"memory\", \"series\", \"review\", \"number\", \"rx\", \"upgrade\", \"gonna\", \"problem\", \"fine\", \"ryzen\", \"rage_mode\", \"radeon\", \"4\", \"running\", \"showed\", \"smart_access\", \"board\", \"linux\", \"sam\", \"version\", \"boost\", \"5000_series\", \"slide\", \"option\", \"comparison\", \"zen\", \"build\", \"true\", \"work\", \"5700xt\", \"pretty\", \"proficiency\", \"stark\", \"basicly\", \"30th\", \"mrsp\", \"subclause\", \"aftermarket\", \"pretrained\", \"sama\", \"leeway\", \"munching\", \"designing\", \"precisely\", \"3990x\", \"rtx3800\", \"2200\", \"rtrx\", \"villain\", \"herring\", \"z390\", \"artificial\", \"trully\", \"oprah\", \"bstock\", \"preach\", \"25w\", \"educated\", \"achieved\", \"bridge\", \"471x\", \"stock\", \"launch\", \"pc\", \"order\", \"day\", \"monitor\", \"waiting\", \"cc\", \"aib\", \"reference\", \"today\", \"coming\", \"week\", \"edit\", \"guy\", \"hope\", \"nice\", \"store\", \"tax\", \"hoping\", \"link\", \"called\", \"sold\", \"man\", \"confirmation\", \"happy\", \"sale\", \"info\", \"update\", \"couple\", \"im\", \"line\", \"x200b\", \"model\", \"card\", \"pay\", \"10\", \"guess\", \"ago\"], \"Freq\": [4176.0, 2958.0, 1789.0, 1698.0, 1654.0, 1636.0, 1563.0, 1278.0, 1901.0, 1235.0, 1065.0, 1062.0, 1148.0, 882.0, 871.0, 846.0, 836.0, 778.0, 1652.0, 721.0, 714.0, 680.0, 671.0, 969.0, 659.0, 634.0, 633.0, 646.0, 623.0, 590.0, 10.258586042367115, 10.258586042367115, 10.258586042367115, 126.52256118919442, 41.03434416946846, 10.258586042367115, 82.06868833893692, 29.635915233505, 158.4381622098921, 82.06868833893692, 67.25073072218443, 20.51717208473423, 46.733558637450194, 322.57553888776596, 170.97643403945193, 134.50146144436886, 82.06868833893692, 393.2457982907394, 10.258586042367115, 10.258586042367115, 59.27183046701, 14.8179576167525, 1698.3659114585557, 14.8179576167525, 14.8179576167525, 14.8179576167525, 20.51717208473423, 29.635915233505, 41.03434416946846, 20.51717208473423, 1636.814395204353, 836.6446838997182, 671.3674643282479, 659.9690353922845, 646.2909206691284, 525.4675739479156, 379.5676835675833, 263.303708420756, 321.43569599416963, 221.12952135769117, 217.70999267690212, 200.61234927295692, 194.91313480497521, 190.3537632305898, 183.51470586901172, 178.95533429462637, 176.67564850743364, 322.57553888776596, 140.2006759123506, 139.06083301875424, 127.66240408279079, 126.52256118919442, 125.38271829559808, 394.3856411843358, 349.9317683340783, 289.52009497347194, 232.52795029365464, 594.9979904572928, 194.91313480497521, 283.8208805054902, 177.81549140103002, 3.434573916134457, 14.883153636582646, 22.89715944089638, 3.434573916134457, 54.95318265815131, 6.869147832268914, 3.434573916134457, 24.042017412941203, 11.44857972044819, 41.21488699361348, 3.434573916134457, 10.30372174840337, 8.014005804313733, 3.434573916134457, 8.014005804313733, 3.434573916134457, 8.014005804313733, 10.30372174840337, 12.593437692493008, 3.434573916134457, 10.30372174840337, 3.434573916134457, 12.593437692493008, 12.593437692493008, 6.869147832268914, 13.738295664537828, 10.30372174840337, 6.869147832268914, 8.014005804313733, 8.014005804313733, 4174.152166075411, 2958.3129997638125, 398.41057427159706, 386.96199455114885, 386.96199455114885, 367.4994090263869, 405.27972210386594, 293.0836408434737, 293.0836408434737, 259.8827596541739, 222.1024465766949, 217.52301468851562, 199.20528713579853, 192.33613930352962, 187.75670741535032, 176.30812769490214, 171.72869580672287, 156.8455421701402, 155.7006841980954, 149.97639433787128, 139.67267258946794, 137.38295664537827, 136.23809867333347, 131.6586667851542, 129.36895084106456, 113.34093923243708, 112.19608126039228, 107.61664937221299, 106.47179140016817, 106.47179140016817, 148.83153636582648, 137.38295664537827, 129.36895084106456, 286.21449301120475, 137.38295664537827, 156.8455421701402, 903.2929399433622, 254.15846979394982, 293.0836408434737, 201.49500307988814, 191.1912813314848, 180.8875595830814, 152.26611028196092, 8.232615741553788, 8.232615741553788, 8.232615741553788, 16.465231483107576, 8.232615741553788, 8.232615741553788, 16.465231483107576, 8.232615741553788, 8.232615741553788, 8.232615741553788, 8.232615741553788, 8.232615741553788, 8.232615741553788, 8.232615741553788, 32.93046296621515, 8.232615741553788, 16.465231483107576, 8.232615741553788, 8.232615741553788, 32.93046296621515, 8.232615741553788, 8.232615741553788, 8.232615741553788, 32.93046296621515, 8.232615741553788, 8.232615741553788, 8.232615741553788, 8.232615741553788, 16.465231483107576, 8.232615741553788, 1278.4076158669955, 871.4811806416225, 623.3266204319298, 590.3961574657145, 365.76335651760405, 359.8829167022085, 324.60027780983506, 323.42418984675595, 310.4872222528858, 309.31113428980666, 259.91543984048394, 239.92194446813897, 231.6893287265852, 215.22409724347762, 211.69583335424028, 194.05451390805356, 189.35016205573714, 184.6458102034207, 175.2371064987878, 172.88493057262954, 252.85891206200918, 158.77187501568022, 155.2436111264429, 145.83490742180996, 144.65881945873085, 143.48273149565173, 141.1305555694935, 139.9544676064144, 138.77837964333528, 137.60229168025617, 263.4437037297212, 252.85891206200918, 169.3566666833922, 1031.4291436203819, 798.5637269307175, 348.1220370714173, 322.24810188367684, 196.4066898342118, 553.937430610262, 244.62629632045545, 206.99148150192383, 249.33064817277184, 188.17407409265803, 1.1216832661088791, 1.1216832661088791, 1.1216832661088791, 1.1216832661088791, 8.973466128871033, 1.1216832661088791, 1.1216832661088791, 4.486733064435517, 1.1216832661088791, 1.1216832661088791, 1.1216832661088791, 1.1216832661088791, 1.1216832661088791, 1.1216832661088791, 3.3650497983266376, 1.1216832661088791, 1.1216832661088791, 29.16376491883086, 1.1216832661088791, 5.6084163305443955, 1.1216832661088791, 2.2433665322177583, 2.2433665322177583, 1.1216832661088791, 1.1216832661088791, 1.1216832661088791, 1.1216832661088791, 2.2433665322177583, 1.1216832661088791, 1.1216832661088791, 1789.0848094436624, 1654.482817510597, 1561.3831064235599, 1065.5991028034352, 1062.2340530051088, 721.2423401080093, 633.7510453515167, 526.0694518050644, 491.29727055568907, 428.48300765359187, 418.3878582586119, 397.07587620254327, 458.7684558385316, 348.8434957598614, 315.19299777659506, 293.88101572052636, 280.4208165272198, 257.9871512050422, 244.5269520117357, 244.5269520117357, 233.3101193506469, 225.45833648788474, 220.9716034234492, 211.99813729457816, 209.75477076236044, 208.63308749625153, 207.51140423014266, 204.146354431816, 191.80783850461833, 189.56447197240058, 220.9716034234492, 1347.141602596764, 214.24150382679593, 265.8389340678044, 342.11339616320817, 16.273346593554745, 8.136673296777372, 8.136673296777372, 8.136673296777372, 65.09338637421898, 8.136673296777372, 26.73478368941137, 16.273346593554745, 8.136673296777372, 16.273346593554745, 49.98242168020386, 8.136673296777372, 8.136673296777372, 8.136673296777372, 16.273346593554745, 16.273346593554745, 53.46956737882274, 8.136673296777372, 49.98242168020386, 16.273346593554745, 8.136673296777372, 43.008130282966114, 24.41001989033212, 16.273346593554745, 26.73478368941137, 8.136673296777372, 8.136673296777372, 8.136673296777372, 106.93913475764548, 8.136673296777372, 1235.611959210621, 882.2478617505752, 846.2140228648469, 778.7958726915485, 714.8648682168692, 634.6605171486351, 512.6104176969745, 498.66183490249904, 413.8079562361064, 353.36409746004597, 332.4412232683327, 325.46693187109497, 302.2192938803024, 294.08262058352506, 260.3735454968759, 238.2882894056231, 237.12590750608345, 234.8011437070042, 216.2030333143702, 210.3911238166721, 170.87013923232485, 163.8958478350871, 148.784883141072, 146.4601193419927, 145.2977374424531, 142.97297364337385, 141.81059174383424, 139.48582794475496, 126.6996270498191, 119.72533565258135, 184.81872202680034, 179.0068125291022, 184.81872202680034, 166.22061163416635, 248.7497265014797, 418.4574838342649, 265.0230730950345, 167.38299353370596, 1.1528134481555175, 4.61125379262207, 1.1528134481555175, 4.61125379262207, 2.305626896311035, 1.1528134481555175, 9.22250758524414, 1.1528134481555175, 1.1528134481555175, 1.1528134481555175, 1.1528134481555175, 1.1528134481555175, 2.305626896311035, 1.1528134481555175, 1.1528134481555175, 2.305626896311035, 1.1528134481555175, 2.305626896311035, 2.305626896311035, 1.1528134481555175, 4.61125379262207, 1.1528134481555175, 1.1528134481555175, 1.1528134481555175, 1.1528134481555175, 1.1528134481555175, 1.1528134481555175, 4.61125379262207, 1.1528134481555175, 1.1528134481555175, 680.1599344117553, 536.0582533923156, 408.0959606470532, 405.79033375074215, 398.873453061809, 345.84403444665526, 252.46614514605832, 251.31333169790278, 247.85489135343624, 243.2436375608142, 232.86831652741452, 225.95143583848144, 212.1176744606152, 209.81204756430418, 201.74235342721556, 284.7449216944128, 186.75577860119384, 161.39388274177244, 152.1713751565283, 137.1848003305066, 136.03198688235105, 129.11510619341797, 127.96229274526243, 124.50385240079589, 119.89259860817383, 118.7397851600183, 117.58697171186277, 116.43415826370726, 116.43415826370726, 114.12853136739623, 182.14452480857176, 236.32675687188106, 149.8657482602173, 186.75577860119384, 500.32103649949465, 155.62981550099485, 148.71293481206175, 146.40730791575072, 131.420733089729], \"Total\": [4176.0, 2958.0, 1789.0, 1698.0, 1654.0, 1636.0, 1563.0, 1278.0, 1901.0, 1235.0, 1065.0, 1062.0, 1148.0, 882.0, 871.0, 846.0, 836.0, 778.0, 1652.0, 721.0, 714.0, 680.0, 671.0, 969.0, 659.0, 634.0, 633.0, 646.0, 623.0, 590.0, 10.258586042367115, 10.258586042367115, 10.258586042367115, 126.52256118919442, 41.03434416946846, 10.258586042367115, 82.06868833893692, 29.635915233505, 158.4381622098921, 82.06868833893692, 67.25073072218443, 20.51717208473423, 46.733558637450194, 322.57553888776596, 170.97643403945193, 134.50146144436886, 82.06868833893692, 393.2457982907394, 10.258586042367115, 10.258586042367115, 59.27183046701, 14.8179576167525, 1698.3659114585557, 14.8179576167525, 14.8179576167525, 14.8179576167525, 20.51717208473423, 29.635915233505, 41.03434416946846, 20.51717208473423, 1636.814395204353, 836.6446838997182, 671.3674643282479, 659.9690353922845, 646.2909206691284, 525.4675739479156, 379.5676835675833, 263.303708420756, 322.5885094423252, 221.12952135769117, 217.70999267690212, 200.61234927295692, 194.91313480497521, 190.3537632305898, 183.51470586901172, 178.95533429462637, 176.67564850743364, 324.881165784077, 140.2006759123506, 139.06083301875424, 127.66240408279079, 126.52256118919442, 125.38271829559808, 400.10993104455986, 355.6958355748559, 295.26190876119085, 246.47653308813014, 937.111386620501, 267.0391870437988, 576.904521348964, 226.23365622356175, 3.434573916134457, 14.883153636582646, 22.89715944089638, 3.434573916134457, 54.95318265815131, 6.869147832268914, 3.434573916134457, 24.042017412941203, 11.44857972044819, 41.21488699361348, 3.434573916134457, 10.30372174840337, 8.014005804313733, 3.434573916134457, 8.014005804313733, 3.434573916134457, 8.014005804313733, 10.30372174840337, 12.593437692493008, 3.434573916134457, 10.30372174840337, 3.434573916134457, 12.593437692493008, 12.593437692493008, 6.869147832268914, 13.738295664537828, 10.30372174840337, 6.869147832268914, 8.014005804313733, 8.014005804313733, 4176.395532607628, 2958.3129997638125, 398.41057427159706, 386.96199455114885, 386.96199455114885, 367.4994090263869, 406.4421040034056, 293.0836408434737, 293.0836408434737, 259.8827596541739, 222.1024465766949, 217.52301468851562, 199.20528713579853, 192.33613930352962, 187.75670741535032, 176.30812769490214, 171.72869580672287, 156.8455421701402, 155.7006841980954, 149.97639433787128, 139.67267258946794, 137.38295664537827, 136.23809867333347, 131.6586667851542, 129.36895084106456, 113.34093923243708, 112.19608126039228, 107.61664937221299, 106.47179140016817, 106.47179140016817, 149.984349813982, 138.55904460845738, 130.49063410717343, 317.9688680143408, 142.03248424353677, 166.06804975538432, 1652.9446246156285, 369.2826020471808, 576.904521348964, 354.0439272706957, 352.7136716511634, 425.51385590353686, 212.71148921122395, 8.232615741553788, 8.232615741553788, 8.232615741553788, 16.465231483107576, 8.232615741553788, 8.232615741553788, 16.465231483107576, 8.232615741553788, 8.232615741553788, 8.232615741553788, 8.232615741553788, 8.232615741553788, 8.232615741553788, 8.232615741553788, 32.93046296621515, 8.232615741553788, 16.465231483107576, 8.232615741553788, 8.232615741553788, 32.93046296621515, 8.232615741553788, 8.232615741553788, 8.232615741553788, 32.93046296621515, 8.232615741553788, 8.232615741553788, 8.232615741553788, 8.232615741553788, 16.465231483107576, 8.232615741553788, 1278.4076158669955, 871.4811806416225, 623.3266204319298, 590.3961574657145, 365.76335651760405, 359.8829167022085, 324.60027780983506, 323.42418984675595, 310.4872222528858, 309.31113428980666, 259.91543984048394, 239.92194446813897, 231.6893287265852, 215.22409724347762, 211.69583335424028, 194.05451390805356, 189.35016205573714, 184.6458102034207, 175.2371064987878, 172.88493057262954, 254.0212939615488, 158.77187501568022, 155.2436111264429, 145.83490742180996, 144.65881945873085, 143.48273149565173, 141.1305555694935, 139.9544676064144, 138.77837964333528, 137.60229168025617, 268.00307530410663, 258.62297930278675, 170.50152465543704, 1148.2046567689533, 969.5819922158666, 499.7211419197314, 489.63109541738277, 237.90897068024032, 1901.079033207026, 425.51385590353686, 355.6887450055218, 1652.9446246156285, 334.58138200840875, 1.1216832661088791, 1.1216832661088791, 1.1216832661088791, 1.1216832661088791, 8.973466128871033, 1.1216832661088791, 1.1216832661088791, 4.486733064435517, 1.1216832661088791, 1.1216832661088791, 1.1216832661088791, 1.1216832661088791, 1.1216832661088791, 1.1216832661088791, 3.3650497983266376, 1.1216832661088791, 1.1216832661088791, 29.16376491883086, 1.1216832661088791, 5.6084163305443955, 1.1216832661088791, 2.2433665322177583, 2.2433665322177583, 1.1216832661088791, 1.1216832661088791, 1.1216832661088791, 1.1216832661088791, 2.2433665322177583, 1.1216832661088791, 1.1216832661088791, 1789.0848094436624, 1654.482817510597, 1563.6887333198708, 1065.5991028034352, 1062.2340530051088, 721.2423401080093, 633.7510453515167, 526.0694518050644, 491.29727055568907, 428.48300765359187, 418.3878582586119, 397.07587620254327, 459.93083773807126, 348.8434957598614, 315.19299777659506, 293.88101572052636, 280.4208165272198, 257.9871512050422, 244.5269520117357, 244.5269520117357, 233.3101193506469, 225.45833648788474, 220.9716034234492, 211.99813729457816, 209.75477076236044, 208.63308749625153, 207.51140423014266, 204.146354431816, 191.80783850461833, 189.56447197240058, 222.13398532298885, 1901.079033207026, 221.21579522403368, 386.8797512059137, 937.111386620501, 16.273346593554745, 8.136673296777372, 8.136673296777372, 8.136673296777372, 65.09338637421898, 8.136673296777372, 26.73478368941137, 16.273346593554745, 8.136673296777372, 16.273346593554745, 49.98242168020386, 8.136673296777372, 8.136673296777372, 8.136673296777372, 16.273346593554745, 16.273346593554745, 53.46956737882274, 8.136673296777372, 49.98242168020386, 16.273346593554745, 8.136673296777372, 43.008130282966114, 24.41001989033212, 16.273346593554745, 26.73478368941137, 8.136673296777372, 8.136673296777372, 8.136673296777372, 106.93913475764548, 8.136673296777372, 1235.611959210621, 882.2478617505752, 846.2140228648469, 778.7958726915485, 714.8648682168692, 634.6605171486351, 512.6104176969745, 498.66183490249904, 413.8079562361064, 353.36409746004597, 332.4412232683327, 325.46693187109497, 302.2192938803024, 294.08262058352506, 260.3735454968759, 238.2882894056231, 237.12590750608345, 234.8011437070042, 216.2030333143702, 210.3911238166721, 170.87013923232485, 163.8958478350871, 148.784883141072, 146.4601193419927, 145.2977374424531, 142.97297364337385, 141.81059174383424, 139.48582794475496, 126.6996270498191, 119.72533565258135, 185.96357999884518, 180.15167050114704, 187.0620885590181, 168.5132679759182, 265.2149579845873, 510.78475821556896, 373.7845804392923, 489.63109541738277, 1.1528134481555175, 4.61125379262207, 1.1528134481555175, 4.61125379262207, 2.305626896311035, 1.1528134481555175, 9.22250758524414, 1.1528134481555175, 1.1528134481555175, 1.1528134481555175, 1.1528134481555175, 1.1528134481555175, 2.305626896311035, 1.1528134481555175, 1.1528134481555175, 2.305626896311035, 1.1528134481555175, 2.305626896311035, 2.305626896311035, 1.1528134481555175, 4.61125379262207, 1.1528134481555175, 1.1528134481555175, 1.1528134481555175, 1.1528134481555175, 1.1528134481555175, 1.1528134481555175, 4.61125379262207, 1.1528134481555175, 1.1528134481555175, 680.1599344117553, 536.0582533923156, 408.0959606470532, 405.79033375074215, 398.873453061809, 345.84403444665526, 252.46614514605832, 251.31333169790278, 247.85489135343624, 243.2436375608142, 232.86831652741452, 225.95143583848144, 212.1176744606152, 209.81204756430418, 201.74235342721556, 285.88476458800915, 186.75577860119384, 161.39388274177244, 152.1713751565283, 137.1848003305066, 136.03198688235105, 129.11510619341797, 127.96229274526243, 124.50385240079589, 119.89259860817383, 118.7397851600183, 117.58697171186277, 116.43415826370726, 116.43415826370726, 114.12853136739623, 183.2893827806166, 239.81390257049992, 151.00559115381364, 190.17530728198287, 1652.9446246156285, 237.51269392694303, 356.2243390422044, 334.58138200840875, 196.46904145206145], \"Category\": [\"Default\", \"Default\", \"Default\", \"Default\", \"Default\", \"Default\", \"Default\", \"Default\", \"Default\", \"Default\", \"Default\", \"Default\", \"Default\", \"Default\", \"Default\", \"Default\", \"Default\", \"Default\", \"Default\", \"Default\", \"Default\", \"Default\", \"Default\", \"Default\", \"Default\", \"Default\", \"Default\", \"Default\", \"Default\", \"Default\", \"Topic1\", \"Topic1\", \"Topic1\", \"Topic1\", \"Topic1\", \"Topic1\", \"Topic1\", \"Topic1\", \"Topic1\", \"Topic1\", \"Topic1\", \"Topic1\", \"Topic1\", \"Topic1\", \"Topic1\", \"Topic1\", \"Topic1\", \"Topic1\", \"Topic1\", \"Topic1\", \"Topic1\", \"Topic1\", \"Topic1\", \"Topic1\", \"Topic1\", \"Topic1\", \"Topic1\", \"Topic1\", \"Topic1\", \"Topic1\", \"Topic1\", \"Topic1\", \"Topic1\", \"Topic1\", \"Topic1\", \"Topic1\", \"Topic1\", \"Topic1\", \"Topic1\", \"Topic1\", \"Topic1\", \"Topic1\", \"Topic1\", \"Topic1\", \"Topic1\", \"Topic1\", \"Topic1\", \"Topic1\", \"Topic1\", \"Topic1\", \"Topic1\", \"Topic1\", \"Topic1\", \"Topic1\", \"Topic1\", \"Topic1\", \"Topic1\", \"Topic1\", \"Topic1\", \"Topic1\", \"Topic1\", \"Topic2\", \"Topic2\", \"Topic2\", \"Topic2\", \"Topic2\", \"Topic2\", \"Topic2\", \"Topic2\", \"Topic2\", \"Topic2\", \"Topic2\", \"Topic2\", \"Topic2\", \"Topic2\", \"Topic2\", \"Topic2\", \"Topic2\", \"Topic2\", \"Topic2\", \"Topic2\", \"Topic2\", \"Topic2\", \"Topic2\", \"Topic2\", \"Topic2\", \"Topic2\", \"Topic2\", \"Topic2\", \"Topic2\", \"Topic2\", \"Topic2\", \"Topic2\", \"Topic2\", \"Topic2\", \"Topic2\", \"Topic2\", \"Topic2\", \"Topic2\", \"Topic2\", \"Topic2\", \"Topic2\", \"Topic2\", \"Topic2\", \"Topic2\", \"Topic2\", \"Topic2\", \"Topic2\", \"Topic2\", \"Topic2\", \"Topic2\", \"Topic2\", \"Topic2\", \"Topic2\", \"Topic2\", \"Topic2\", \"Topic2\", \"Topic2\", \"Topic2\", \"Topic2\", \"Topic2\", \"Topic2\", \"Topic2\", \"Topic2\", \"Topic2\", \"Topic2\", \"Topic2\", \"Topic2\", \"Topic2\", \"Topic2\", \"Topic2\", \"Topic2\", \"Topic2\", \"Topic2\", \"Topic3\", \"Topic3\", \"Topic3\", \"Topic3\", \"Topic3\", \"Topic3\", \"Topic3\", \"Topic3\", \"Topic3\", \"Topic3\", \"Topic3\", \"Topic3\", \"Topic3\", \"Topic3\", \"Topic3\", \"Topic3\", \"Topic3\", \"Topic3\", \"Topic3\", \"Topic3\", \"Topic3\", \"Topic3\", \"Topic3\", \"Topic3\", \"Topic3\", \"Topic3\", \"Topic3\", \"Topic3\", \"Topic3\", \"Topic3\", \"Topic3\", \"Topic3\", \"Topic3\", \"Topic3\", \"Topic3\", \"Topic3\", \"Topic3\", \"Topic3\", \"Topic3\", \"Topic3\", \"Topic3\", \"Topic3\", \"Topic3\", \"Topic3\", \"Topic3\", \"Topic3\", \"Topic3\", \"Topic3\", \"Topic3\", \"Topic3\", \"Topic3\", \"Topic3\", \"Topic3\", \"Topic3\", \"Topic3\", \"Topic3\", \"Topic3\", \"Topic3\", \"Topic3\", \"Topic3\", \"Topic3\", \"Topic3\", \"Topic3\", \"Topic3\", \"Topic3\", \"Topic3\", \"Topic3\", \"Topic3\", \"Topic3\", \"Topic3\", \"Topic3\", \"Topic3\", \"Topic3\", \"Topic4\", \"Topic4\", \"Topic4\", \"Topic4\", \"Topic4\", \"Topic4\", \"Topic4\", \"Topic4\", \"Topic4\", \"Topic4\", \"Topic4\", \"Topic4\", \"Topic4\", \"Topic4\", \"Topic4\", \"Topic4\", \"Topic4\", \"Topic4\", \"Topic4\", \"Topic4\", \"Topic4\", \"Topic4\", \"Topic4\", \"Topic4\", \"Topic4\", \"Topic4\", \"Topic4\", \"Topic4\", \"Topic4\", \"Topic4\", \"Topic4\", \"Topic4\", \"Topic4\", \"Topic4\", \"Topic4\", \"Topic4\", \"Topic4\", \"Topic4\", \"Topic4\", \"Topic4\", \"Topic4\", \"Topic4\", \"Topic4\", \"Topic4\", \"Topic4\", \"Topic4\", \"Topic4\", \"Topic4\", \"Topic4\", \"Topic4\", \"Topic4\", \"Topic4\", \"Topic4\", \"Topic4\", \"Topic4\", \"Topic4\", \"Topic4\", \"Topic4\", \"Topic4\", \"Topic4\", \"Topic4\", \"Topic4\", \"Topic4\", \"Topic4\", \"Topic4\", \"Topic5\", \"Topic5\", \"Topic5\", \"Topic5\", \"Topic5\", \"Topic5\", \"Topic5\", \"Topic5\", \"Topic5\", \"Topic5\", \"Topic5\", \"Topic5\", \"Topic5\", \"Topic5\", \"Topic5\", \"Topic5\", \"Topic5\", \"Topic5\", \"Topic5\", \"Topic5\", \"Topic5\", \"Topic5\", \"Topic5\", \"Topic5\", \"Topic5\", \"Topic5\", \"Topic5\", \"Topic5\", \"Topic5\", \"Topic5\", \"Topic5\", \"Topic5\", \"Topic5\", \"Topic5\", \"Topic5\", \"Topic5\", \"Topic5\", \"Topic5\", \"Topic5\", \"Topic5\", \"Topic5\", \"Topic5\", \"Topic5\", \"Topic5\", \"Topic5\", \"Topic5\", \"Topic5\", \"Topic5\", \"Topic5\", \"Topic5\", \"Topic5\", \"Topic5\", \"Topic5\", \"Topic5\", \"Topic5\", \"Topic5\", \"Topic5\", \"Topic5\", \"Topic5\", \"Topic5\", \"Topic5\", \"Topic5\", \"Topic5\", \"Topic5\", \"Topic5\", \"Topic5\", \"Topic5\", \"Topic5\", \"Topic6\", \"Topic6\", \"Topic6\", \"Topic6\", \"Topic6\", \"Topic6\", \"Topic6\", \"Topic6\", \"Topic6\", \"Topic6\", \"Topic6\", \"Topic6\", \"Topic6\", \"Topic6\", \"Topic6\", \"Topic6\", \"Topic6\", \"Topic6\", \"Topic6\", \"Topic6\", \"Topic6\", \"Topic6\", \"Topic6\", \"Topic6\", \"Topic6\", \"Topic6\", \"Topic6\", \"Topic6\", \"Topic6\", \"Topic6\", \"Topic6\", \"Topic6\", \"Topic6\", \"Topic6\", \"Topic6\", \"Topic6\", \"Topic6\", \"Topic6\", \"Topic6\", \"Topic6\", \"Topic6\", \"Topic6\", \"Topic6\", \"Topic6\", \"Topic6\", \"Topic6\", \"Topic6\", \"Topic6\", \"Topic6\", \"Topic6\", \"Topic6\", \"Topic6\", \"Topic6\", \"Topic6\", \"Topic6\", \"Topic6\", \"Topic6\", \"Topic6\", \"Topic6\", \"Topic6\", \"Topic6\", \"Topic6\", \"Topic6\", \"Topic6\", \"Topic6\", \"Topic6\", \"Topic6\", \"Topic6\", \"Topic6\"], \"logprob\": [30.0, 29.0, 28.0, 27.0, 26.0, 25.0, 24.0, 23.0, 22.0, 21.0, 20.0, 19.0, 18.0, 17.0, 16.0, 15.0, 14.0, 13.0, 12.0, 11.0, 10.0, 9.0, 8.0, 7.0, 6.0, 5.0, 4.0, 3.0, 2.0, 1.0, -8.0708, -8.0708, -8.0708, -5.5585, -6.6845, -8.0708, -5.9913, -7.0099, -5.3335, -5.9913, -6.1905, -7.3776, -6.5544, -4.6225, -5.2574, -5.4973, -5.9913, -4.4244, -8.0708, -8.0708, -6.3167, -7.703, -2.9615, -7.703, -7.703, -7.703, -7.3776, -7.0099, -6.6845, -7.3776, -2.9984, -3.6695, -3.8896, -3.9067, -3.9276, -4.1346, -4.4598, -4.8256, -4.6261, -5.0001, -5.0157, -5.0975, -5.1263, -5.15, -5.1866, -5.2117, -5.2246, -4.6225, -5.4558, -5.464, -5.5495, -5.5585, -5.5675, -4.4216, -4.5411, -4.7307, -4.9499, -4.0103, -5.1263, -4.7505, -5.2181, -9.1441, -7.6778, -7.247, -9.1441, -6.3715, -8.451, -9.1441, -7.1982, -7.9402, -6.6592, -9.1441, -8.0455, -8.2968, -9.1441, -8.2968, -9.1441, -8.2968, -8.0455, -7.8448, -9.1441, -8.0455, -9.1441, -7.8448, -7.8448, -8.451, -7.7578, -8.0455, -8.451, -8.2968, -8.2968, -2.0414, -2.3856, -4.3905, -4.4197, -4.4197, -4.4713, -4.3734, -4.6976, -4.6976, -4.8178, -4.9749, -4.9957, -5.0837, -5.1188, -5.1429, -5.2058, -5.2321, -5.3228, -5.3301, -5.3675, -5.4387, -5.4552, -5.4636, -5.4978, -5.5154, -5.6476, -5.6578, -5.6994, -5.7101, -5.7101, -5.3752, -5.4552, -5.5154, -4.7213, -5.4552, -5.3228, -3.572, -4.8401, -4.6976, -5.0723, -5.1247, -5.1801, -5.3524, -8.2576, -8.2576, -8.2576, -7.5645, -8.2576, -8.2576, -7.5645, -8.2576, -8.2576, -8.2576, -8.2576, -8.2576, -8.2576, -8.2576, -6.8713, -8.2576, -7.5645, -8.2576, -8.2576, -6.8713, -8.2576, -8.2576, -8.2576, -6.8713, -8.2576, -8.2576, -8.2576, -8.2576, -7.5645, -8.2576, -3.2123, -3.5955, -3.9306, -3.9849, -4.4637, -4.4799, -4.5831, -4.5867, -4.6276, -4.6314, -4.8054, -4.8854, -4.9203, -4.994, -5.0106, -5.0976, -5.1221, -5.1473, -5.1996, -5.2131, -4.8329, -5.2982, -5.3207, -5.3832, -5.3913, -5.3995, -5.416, -5.4244, -5.4328, -5.4413, -4.7919, -4.8329, -5.2337, -3.427, -3.6829, -4.5132, -4.5904, -5.0855, -4.0487, -4.866, -5.033, -4.8469, -5.1283, -10.2409, -10.2409, -10.2409, -10.2409, -8.1615, -10.2409, -10.2409, -8.8546, -10.2409, -10.2409, -10.2409, -10.2409, -10.2409, -10.2409, -9.1423, -10.2409, -10.2409, -6.9828, -10.2409, -8.6315, -10.2409, -9.5478, -9.5478, -10.2409, -10.2409, -10.2409, -10.2409, -9.5478, -10.2409, -10.2409, -2.8663, -2.9445, -3.0024, -3.3845, -3.3876, -3.7748, -3.9041, -4.0903, -4.1587, -4.2955, -4.3193, -4.3716, -4.2272, -4.5011, -4.6026, -4.6726, -4.7195, -4.8028, -4.8564, -4.8564, -4.9034, -4.9376, -4.9577, -4.9992, -5.0098, -5.0152, -5.0206, -5.0369, -5.0993, -5.111, -4.9577, -3.15, -4.9887, -4.7729, -4.5206, -7.5581, -8.2513, -8.2513, -8.2513, -6.1718, -8.2513, -7.0617, -7.5581, -8.2513, -7.5581, -6.436, -8.2513, -8.2513, -8.2513, -7.5581, -7.5581, -6.3686, -8.2513, -6.436, -7.5581, -8.2513, -6.5863, -7.1527, -7.5581, -7.0617, -8.2513, -8.2513, -8.2513, -5.6754, -8.2513, -3.2284, -3.5652, -3.6069, -3.6899, -3.7756, -3.8946, -4.1082, -4.1357, -4.3223, -4.4802, -4.5412, -4.5624, -4.6365, -4.6638, -4.7856, -4.8742, -4.8791, -4.8889, -4.9715, -4.9987, -5.2068, -5.2484, -5.3452, -5.3609, -5.3689, -5.385, -5.3932, -5.4097, -5.5059, -5.5625, -5.1283, -5.1602, -5.1283, -5.2344, -4.8312, -4.3111, -4.7679, -5.2274, -10.165, -8.7787, -10.165, -8.7787, -9.4719, -10.165, -8.0856, -10.165, -10.165, -10.165, -10.165, -10.165, -9.4719, -10.165, -10.165, -9.4719, -10.165, -9.4719, -9.4719, -10.165, -8.7787, -10.165, -10.165, -10.165, -10.165, -10.165, -10.165, -8.7787, -10.165, -10.165, -3.7849, -4.023, -4.2957, -4.3014, -4.3186, -4.4613, -4.776, -4.7805, -4.7944, -4.8132, -4.8568, -4.8869, -4.9501, -4.961, -5.0003, -4.6557, -5.0774, -5.2234, -5.2822, -5.3859, -5.3944, -5.4465, -5.4555, -5.4829, -5.5207, -5.5303, -5.5401, -5.5499, -5.5499, -5.5699, -5.1024, -4.842, -5.2975, -5.0774, -4.092, -5.2598, -5.3052, -5.3209, -5.4288], \"loglift\": [30.0, 29.0, 28.0, 27.0, 26.0, 25.0, 24.0, 23.0, 22.0, 21.0, 20.0, 19.0, 18.0, 17.0, 16.0, 15.0, 14.0, 13.0, 12.0, 11.0, 10.0, 9.0, 8.0, 7.0, 6.0, 5.0, 4.0, 3.0, 2.0, 1.0, 1.7522, 1.7522, 1.7522, 1.7522, 1.7522, 1.7522, 1.7522, 1.7522, 1.7522, 1.7522, 1.7522, 1.7522, 1.7522, 1.7522, 1.7522, 1.7522, 1.7522, 1.7522, 1.7522, 1.7522, 1.7522, 1.7522, 1.7522, 1.7522, 1.7522, 1.7522, 1.7522, 1.7522, 1.7522, 1.7522, 1.7522, 1.7522, 1.7522, 1.7522, 1.7522, 1.7522, 1.7522, 1.7522, 1.7486, 1.7522, 1.7522, 1.7522, 1.7522, 1.7522, 1.7522, 1.7522, 1.7522, 1.745, 1.7522, 1.7522, 1.7522, 1.7522, 1.7522, 1.7377, 1.7358, 1.7325, 1.6939, 1.2979, 1.4373, 1.0428, 1.5113, 1.773, 1.773, 1.773, 1.773, 1.773, 1.773, 1.773, 1.773, 1.773, 1.773, 1.773, 1.773, 1.773, 1.773, 1.773, 1.773, 1.773, 1.773, 1.773, 1.773, 1.773, 1.773, 1.773, 1.773, 1.773, 1.773, 1.773, 1.773, 1.773, 1.773, 1.7725, 1.773, 1.773, 1.773, 1.773, 1.773, 1.7702, 1.773, 1.773, 1.773, 1.773, 1.773, 1.773, 1.773, 1.773, 1.773, 1.773, 1.773, 1.773, 1.773, 1.773, 1.773, 1.773, 1.773, 1.773, 1.773, 1.773, 1.773, 1.773, 1.773, 1.7653, 1.7645, 1.7644, 1.6678, 1.7397, 1.7159, 1.1688, 1.3994, 1.0958, 1.2094, 1.1606, 0.9176, 1.4387, 1.7853, 1.7853, 1.7853, 1.7853, 1.7853, 1.7853, 1.7853, 1.7853, 1.7853, 1.7853, 1.7853, 1.7853, 1.7853, 1.7853, 1.7853, 1.7853, 1.7853, 1.7853, 1.7853, 1.7853, 1.7853, 1.7853, 1.7853, 1.7853, 1.7853, 1.7853, 1.7853, 1.7853, 1.7853, 1.7853, 1.7853, 1.7853, 1.7853, 1.7853, 1.7853, 1.7853, 1.7853, 1.7853, 1.7853, 1.7853, 1.7853, 1.7853, 1.7853, 1.7853, 1.7853, 1.7853, 1.7853, 1.7853, 1.7853, 1.7853, 1.7807, 1.7853, 1.7853, 1.7853, 1.7853, 1.7853, 1.7853, 1.7853, 1.7853, 1.7853, 1.7682, 1.7628, 1.7786, 1.6781, 1.5913, 1.4238, 1.367, 1.5936, 0.5522, 1.2318, 1.244, -0.1062, 1.2098, 1.7953, 1.7953, 1.7953, 1.7953, 1.7953, 1.7953, 1.7953, 1.7953, 1.7953, 1.7953, 1.7953, 1.7953, 1.7953, 1.7953, 1.7953, 1.7953, 1.7953, 1.7953, 1.7953, 1.7953, 1.7953, 1.7953, 1.7953, 1.7953, 1.7953, 1.7953, 1.7953, 1.7953, 1.7953, 1.7953, 1.7953, 1.7953, 1.7938, 1.7953, 1.7953, 1.7953, 1.7953, 1.7953, 1.7953, 1.7953, 1.7953, 1.7953, 1.7928, 1.7953, 1.7953, 1.7953, 1.7953, 1.7953, 1.7953, 1.7953, 1.7953, 1.7953, 1.7953, 1.7953, 1.7953, 1.7953, 1.7953, 1.7953, 1.7953, 1.7953, 1.79, 1.4509, 1.7633, 1.4201, 0.7876, 1.8034, 1.8034, 1.8034, 1.8034, 1.8034, 1.8034, 1.8034, 1.8034, 1.8034, 1.8034, 1.8034, 1.8034, 1.8034, 1.8034, 1.8034, 1.8034, 1.8034, 1.8034, 1.8034, 1.8034, 1.8034, 1.8034, 1.8034, 1.8034, 1.8034, 1.8034, 1.8034, 1.8034, 1.8034, 1.8034, 1.8034, 1.8034, 1.8034, 1.8034, 1.8034, 1.8034, 1.8034, 1.8034, 1.8034, 1.8034, 1.8034, 1.8034, 1.8034, 1.8034, 1.8034, 1.8034, 1.8034, 1.8034, 1.8034, 1.8034, 1.8034, 1.8034, 1.8034, 1.8034, 1.8034, 1.8034, 1.8034, 1.8034, 1.8034, 1.8034, 1.7972, 1.797, 1.7913, 1.7897, 1.7393, 1.604, 1.4595, 0.73, 1.8438, 1.8438, 1.8438, 1.8438, 1.8438, 1.8438, 1.8438, 1.8438, 1.8438, 1.8438, 1.8438, 1.8438, 1.8438, 1.8438, 1.8438, 1.8438, 1.8438, 1.8438, 1.8438, 1.8438, 1.8438, 1.8438, 1.8438, 1.8438, 1.8438, 1.8438, 1.8438, 1.8438, 1.8438, 1.8438, 1.8438, 1.8438, 1.8438, 1.8438, 1.8438, 1.8438, 1.8438, 1.8438, 1.8438, 1.8438, 1.8438, 1.8438, 1.8438, 1.8438, 1.8438, 1.8398, 1.8438, 1.8438, 1.8438, 1.8438, 1.8438, 1.8438, 1.8438, 1.8438, 1.8438, 1.8438, 1.8438, 1.8438, 1.8438, 1.8438, 1.8375, 1.8291, 1.8362, 1.8256, 0.6487, 1.4211, 0.9702, 1.0173, 1.4417]}, \"token.table\": {\"Topic\": [1, 4, 6, 4, 1, 1, 1, 2, 4, 4, 5, 4, 5, 5, 5, 4, 5, 6, 6, 2, 4, 4, 4, 1, 6, 4, 6, 5, 2, 5, 4, 6, 1, 4, 4, 5, 2, 5, 1, 1, 4, 6, 4, 4, 2, 4, 4, 4, 1, 4, 2, 5, 6, 4, 2, 6, 4, 1, 5, 6, 2, 6, 2, 4, 1, 6, 2, 5, 3, 3, 1, 6, 4, 3, 5, 1, 2, 2, 1, 4, 1, 5, 5, 5, 2, 2, 6, 6, 3, 1, 5, 6, 4, 3, 1, 3, 6, 3, 2, 3, 6, 3, 3, 3, 5, 6, 3, 2, 4, 1, 2, 3, 4, 4, 5, 6, 3, 3, 4, 5, 2, 5, 2, 2, 2, 4, 6, 1, 2, 2, 4, 1, 4, 6, 5, 5, 3, 3, 1, 6, 3, 4, 4, 1, 6, 2, 1, 3, 4, 1, 3, 1, 3, 2, 4, 5, 2, 4, 6, 4, 6, 6, 5, 2, 3, 2, 2, 4, 1, 4, 4, 1, 3, 5, 4, 5, 2, 1, 1, 5, 3, 1, 3, 1, 2, 1, 2, 3, 3, 2, 2, 1, 4, 3, 5, 2, 3, 2, 5, 1, 6, 5, 3, 6, 6, 2, 3, 5, 6, 2, 6, 1, 6, 4, 2, 6, 1, 2, 5, 2, 2, 4, 1, 5, 1, 6, 6, 4, 2, 1, 2, 3, 3, 2, 6, 3, 3, 6, 5, 5, 2, 2, 5, 4, 2, 3, 1, 1, 2, 6, 3, 6, 2, 5, 6, 6, 5, 3, 5, 1, 3, 2, 2, 5, 5, 4, 5, 3, 6, 2, 3, 3, 1, 5, 4, 5, 1, 1, 6, 4, 3, 6, 2, 3, 5, 3, 6, 3, 6, 1, 6, 5, 3, 2, 3, 3, 6, 2, 5, 6, 3, 2, 5, 5, 4, 6, 6, 5, 3, 1, 6, 5, 3, 2, 3, 5, 4, 2, 1, 3, 6, 6, 2, 4, 5, 6, 3, 5, 2, 3, 3, 4, 2, 4, 5, 3, 6, 2, 6, 2, 3, 3, 5, 5, 4, 1, 1, 2, 2, 3, 4, 1, 6, 2, 3, 2, 4, 5, 1, 2, 5, 3, 1, 6, 1, 4, 6, 1, 6, 5, 5, 5, 6, 5, 6, 3, 3, 5, 1, 2, 3, 6, 4, 5, 5, 4, 5, 4, 5, 1, 6, 3, 3, 1, 6, 3, 6, 6, 3, 5, 6, 2, 2, 5, 4, 1, 2, 1, 2, 3, 6, 4, 1, 1, 3, 2, 2, 3, 5, 6, 1, 6, 1, 2, 4, 3, 5, 6, 2, 4, 3, 2, 6, 5, 2, 5, 5, 6, 4, 1, 4, 5, 6, 3, 6, 4, 2, 4, 1, 5, 1, 2, 1, 2, 4, 1, 1, 6, 1, 4, 3, 5, 6, 4, 5], \"Freq\": [1.001315850277109, 0.5839017080058552, 0.4182757427541943, 0.9986707848270362, 0.9994142737844502, 1.0122852546859555, 0.9847293691795933, 0.014995878718470964, 1.0010018438082604, 1.0019345433473592, 0.9832028039233794, 0.994895039039884, 0.0045017875069678, 0.9832028039233794, 0.9832028039233794, 0.9979761354062513, 0.0021742399464188484, 0.8674430382469805, 0.8674430382469805, 0.8734707923760275, 0.9997081761711352, 0.99995259618593, 1.0003762176558801, 1.0122852546859555, 1.0843037978087255, 1.0029569255344484, 0.8674430382469805, 0.9981409680713864, 0.9645680756036922, 0.035203214438090956, 0.891517267141732, 0.8674430382469805, 0.9995498611231809, 0.999072969611914, 0.9993949273209826, 1.00237074849528, 0.2916118152115777, 0.7089645048721842, 1.003706566086922, 0.9962717026344262, 0.9982805188381946, 0.001279026929965656, 0.9997796596668629, 1.0003928271997486, 0.9947861802060314, 1.001169123528148, 1.00004980401116, 0.9992830906423809, 0.999163038421508, 0.891517267141732, 0.8734707923760275, 1.0099202714212971, 1.0843037978087255, 0.891517267141732, 0.9982523341440314, 0.9758734180278531, 0.891517267141732, 0.010179720861965936, 0.320661207151927, 0.6667717164587688, 0.9955688601275152, 1.0005854580709357, 0.9994264114620072, 0.0004788818454537648, 0.999163038421508, 1.0843037978087255, 0.9982523341440313, 0.9832028039233793, 0.9717446132728302, 1.0006469852110091, 1.0019323373084856, 0.8674430382469805, 1.000128507808745, 1.002111632437606, 1.0005349046335672, 0.31141461677988075, 0.6878201101051279, 1.0023435322347856, 0.9954138337745231, 0.9998089125855015, 0.9747932082161054, 0.9968583984223152, 0.9965170085598418, 0.9832028039233794, 0.9982523341440315, 0.9705231026400306, 0.8674430382469805, 0.8674430382469805, 1.0019182119333718, 0.00593425082791052, 0.9850856374331464, 0.00593425082791052, 0.891517267141732, 0.9994478588266609, 0.018656502334260285, 0.981332022782091, 0.9991084994094684, 0.9717446132728302, 0.5462977927708748, 0.15064025514944387, 0.3024904721876383, 0.9984307816297544, 0.9717446132728302, 0.9959794946887273, 0.0039366778446194755, 0.9987532229357436, 0.9717446132728302, 1.0035621869852231, 1.0004486374034227, 0.9747932082161054, 1.0012957863822753, 1.0015969371975253, 0.891517267141732, 1.00000878642353, 0.9832028039233794, 1.0002149318562121, 1.0006655839059502, 1.0003253371926193, 0.9673811934779523, 0.03164331006703582, 0.005550878308362025, 0.9936072171968025, 0.9997146178366252, 1.0004511278315733, 0.9989694694415486, 1.0017586496377524, 1.0008958133619006, 0.4922824999463146, 0.5078830017051766, 1.0009847766644988, 0.891517267141732, 1.0018358585085523, 0.9993876838065677, 0.9988738016177351, 0.999747081874013, 0.9832028039233794, 0.9717446132728302, 0.9717446132728302, 1.0235328686269107, 1.000317260868628, 0.8238445126284552, 0.17653810984895466, 0.891517267141732, 1.0122852546859555, 0.8674430382469805, 0.9969919145302132, 0.2946652018997097, 0.018093477309631296, 0.6875521377659892, 1.0122852546859555, 0.9717446132728302, 0.9997845508696995, 0.9997190794125026, 0.9885766965777087, 0.0076633852447884395, 1.0002621063048858, 0.7145829337364235, 0.11282888427417213, 0.17394452992268203, 0.994384644119624, 1.0008958133619006, 0.8674430382469805, 0.9832028039233794, 0.9989694694415486, 0.9717446132728302, 1.0044914112324317, 0.9982523341440313, 1.0019345433473592, 1.0026444427365655, 0.9984993391987397, 0.9988727495724116, 1.0000469182735174, 1.000325337192619, 0.9987901654489938, 0.891517267141732, 0.9832028039233794, 0.9705231026400306, 1.0057012855497867, 1.0011389706003244, 0.9832028039233794, 1.0003253371926193, 1.0235328686269107, 0.9717446132728302, 1.0004456610638974, 0.9955688601275152, 1.0001133939169833, 0.9887481570556224, 0.00721713983252279, 0.9994760043591537, 0.99864106168848, 0.9997146178366252, 0.999163038421508, 0.891517267141732, 0.9717446132728302, 0.9997190565584558, 0.10189821066327834, 0.8979235486652988, 0.8734707923760275, 1.0003140474535603, 0.7867971678984061, 0.21217002280406455, 1.000351690038322, 0.561896178656095, 0.4363661812967546, 1.001277107005086, 0.005865050192488772, 0.9911934825306024, 0.9832028039233794, 1.0021914713727251, 0.9453955786875234, 0.05419465100756504, 0.9839867802622693, 0.016868344804496047, 0.891517267141732, 0.9982523341440315, 0.8674430382469805, 0.9821788432403358, 0.01693411798690234, 0.003386823597380468, 0.9995387417911242, 0.5415157260728485, 0.45929606085759916, 0.9972344907074114, 0.9832028039233794, 0.00349791287913194, 0.996905170552603, 0.9986529095784564, 0.891517267141732, 1.019049257772032, 1.0235328686269107, 1.0078509142800318, 0.9966356125882203, 0.9717446132728302, 0.005455853387846931, 0.9929653165881415, 0.9717446132728302, 0.9717446132728302, 0.9962712122440568, 0.9832028039233794, 0.9832028039233794, 1.000098214939416, 1.019049257772032, 1.0007599968505825, 0.891517267141732, 1.0322836637171235, 0.9717446132728302, 0.9985686523189371, 0.9747932082161054, 0.9982523341440315, 0.9998913301083475, 0.9717446132728302, 0.8674430382469805, 0.8734707923760275, 0.012509700095965318, 0.9840964075492716, 0.9997648576405878, 0.9979508459822299, 1.0013408959105814, 0.9832028039233794, 0.30416964032395344, 0.6963883870574724, 0.9982523341440314, 0.9964518833329494, 0.002460375020575184, 0.9832028039233794, 0.891517267141732, 0.9985653477346822, 0.9989587725243233, 1.0039849979710422, 0.8994591256245282, 0.10063878328666051, 0.9984307816297544, 0.94532326092354, 0.056800539282959486, 0.891517267141732, 1.0006781451353042, 0.9747932082161054, 0.01577491864152344, 0.9833032619882944, 0.891517267141732, 1.0003253371926193, 1.0004509707781841, 0.01686868107088082, 0.5819694969453882, 0.40203689885599286, 0.9717446132728302, 0.8674430382469805, 0.9981507168943744, 0.8674430382469805, 1.0122852546859555, 1.0013077046431194, 0.9986727781109849, 1.002111632437606, 0.9998941965357157, 1.0014368097895, 0.9717446132728302, 0.8674430382469805, 0.0053773970150833295, 0.994818447790416, 1.0005166861598696, 0.9717446132728302, 0.8734707923760275, 0.9912180441727547, 0.999810959395058, 0.34524470521656636, 0.6568070001681019, 0.9997648576405878, 0.9832028039233794, 0.9996811534428172, 0.9942096803933311, 0.006156097092218768, 0.9832028039233794, 0.9993289972153359, 0.8734707923760275, 1.002111632437606, 1.000351690038322, 1.0698207205700783, 1.000098214939416, 0.999163038421508, 0.9717446132728302, 0.8674430382469805, 0.8674430382469805, 0.9705231026400306, 0.891517267141732, 1.000569157797026, 0.8674430382469805, 0.6576379707369551, 0.3410731090468059, 0.9982523341440315, 0.9717446132728302, 0.29141345011071396, 0.7085449770742449, 0.5677261619751466, 0.43214976508555936, 0.9985653477346822, 0.9986884411863042, 0.8674430382469805, 0.9934369831572238, 0.006667362303068617, 0.9608178716136302, 1.0023585187722792, 0.9717446132728302, 0.999060913664079, 1.0008469136472518, 1.0023545490025958, 1.0004246917563926, 0.9993749499885116, 0.9971480727124561, 1.0021928038840737, 1.0012314289835547, 0.891517267141732, 1.0122852546859555, 0.9989983805403614, 0.4253680520359655, 0.5757744350763069, 1.0019223794901493, 0.891517267141732, 0.9832028039233794, 1.0026444427365655, 0.8734707923760275, 0.9989696252034005, 0.9717446132728302, 0.9994526628891444, 0.8674430382469805, 0.6349298583872135, 0.36495127994693616, 0.8674430382469805, 0.995075740778643, 0.0030999244261016917, 1.0007599968505825, 0.998565347734682, 0.9994690267824058, 1.0035125344425853, 1.0001890312269337, 0.8674430382469805, 0.9717446132728302, 0.9989941057552906, 1.0004640891046184, 1.000137831629724, 1.0322836637171235, 0.978258005851044, 0.0231997946051631, 0.891517267141732, 1.000635477751808, 0.9832028039233794, 0.8915172671417319, 1.0022941205044158, 1.0022975192717696, 1.0014458246993012, 0.9988465471201391, 1.0002946747352568, 0.9717446132728302, 1.0011320511742263, 0.999163038421508, 1.0843037978087255, 0.9990749305211285, 0.9997648576405876, 0.9975594939840275, 0.9986469389758531, 0.9832028039233794, 0.8674430382469805, 1.0322836637171235, 0.9982523341440315, 0.9832028039233794, 0.9979670900840282, 1.0037735468387463, 1.0001573958504133, 0.999110175449262, 0.8734707923760275, 1.0014368097895, 0.9988738016177351, 0.891517267141732, 1.0013320809005228, 1.0037735468387463, 1.0028902739546517, 0.9705231026400306, 1.002592561683788, 0.8240664599947639, 0.05053724222746362, 0.12582741942348086, 0.9981415485326588, 1.000565484710626, 0.9747932082161054, 1.019049257772032, 0.891517267141732, 0.06032842235440516, 0.9388610728904303, 0.8674430382469805, 0.9972124879626315, 0.891517267141732, 0.9717446132728302, 1.019049257772032, 0.9962712122440568, 0.9992743882182807, 0.9982523341440314, 1.0013356425203268, 1.0099202714212971, 0.8674430382469805, 0.891517267141732, 0.9995625438347113, 0.9996639962817865, 1.0001890312269337, 0.99815363305132, 0.9717446132728302, 0.9994452397193472, 0.891517267141732, 1.0015798419245114, 0.891517267141732, 0.18011500640975037, 0.8183486160790833, 1.0002495913606022, 1.0008519495975314, 0.7302299043024604, 0.2696233492809084, 1.0004048722888137, 0.9747932082161054, 0.006622271350081365, 0.9933407025122046, 0.9969475993119259, 0.9998679797794262, 0.9717446132728302, 0.9997190565584558, 0.8674430382469805, 0.01069163728153821, 0.9889764485422844], \"Term\": [\"0\", \"10\", \"10\", \"100\", \"1080p\", \"14\", \"1440p\", \"1440p\", \"15\", \"16gb\", \"19\", \"20\", \"20\", \"2016\", \"2018\", \"2080ti\", \"2080ti\", \"2200\", \"25w\", \"267\", \"3070\", \"3080\", \"3090\", \"30fps\", \"30th\", \"3800\", \"3990x\", \"4\", \"400\", \"400\", \"40am\", \"471x\", \"4k\", \"50\", \"500\", \"5000_series\", \"5700xt\", \"5700xt\", \"60\", \"60fps\", \"6800\", \"6800\", \"6800xt\", \"6900xt\", \"699\", \"8\", \"80\", \"8gb\", \"8k\", \"8mins\", \"8n\", \"980\", \"achieved\", \"adapting\", \"advantage\", \"aftermarket\", \"afternoon\", \"ago\", \"ago\", \"ago\", \"ahead\", \"aib\", \"amd\", \"amd\", \"application\", \"artificial\", \"assumption\", \"atm\", \"au\", \"bad\", \"based\", \"basicly\", \"beat\", \"begin\", \"benchmark\", \"big\", \"big\", \"big_navi\", \"biggest\", \"bit\", \"blur\", \"board\", \"boost\", \"bottlenecked\", \"bout\", \"bragging\", \"bridge\", \"bstock\", \"budget\", \"build\", \"build\", \"build\", \"bundled\", \"buy\", \"buying\", \"buying\", \"called\", \"camera\", \"card\", \"card\", \"card\", \"care\", \"cared\", \"case\", \"case\", \"cc\", \"chair\", \"cheap\", \"cheaper\", \"chill\", \"chip\", \"choice\", \"choosey\", \"close\", \"closest\", \"coming\", \"comment\", \"company\", \"compared\", \"compared\", \"comparison\", \"comparison\", \"compete\", \"competition\", \"competitive\", \"competitor\", \"confirmation\", \"console\", \"console\", \"consumer\", \"cood\", \"core\", \"cost\", \"couple\", \"cpu\", \"crashing\", \"creating\", \"cringe\", \"cyberpunk_2077\", \"day\", \"deal\", \"deal\", \"debated\", \"designed\", \"designing\", \"die\", \"difference\", \"difference\", \"difference\", \"directx_12\", \"disclosed\", \"dl\", \"dont\", \"doubt\", \"doubt\", \"driver\", \"drop\", \"drop\", \"drop\", \"dunno\", \"edit\", \"educated\", \"element\", \"end\", \"enterprise\", \"exciting\", \"expect\", \"expensive\", \"experience\", \"extra\", \"faster\", \"feature\", \"feel\", \"fine\", \"fking\", \"flex\", \"flood\", \"forward\", \"fps\", \"frankly\", \"fuck\", \"function\", \"fund\", \"future\", \"gain\", \"game\", \"gamers\", \"gamers\", \"gaming\", \"gen\", \"generation\", \"gimmick\", \"github\", \"goal_post\", \"gonna\", \"good\", \"good\", \"goodness\", \"gpu\", \"graphic\", \"graphic\", \"gtx\", \"guess\", \"guess\", \"guy\", \"hand\", \"hand\", \"handled\", \"happy\", \"hard\", \"hard\", \"hardware\", \"hardware\", \"havnt\", \"heh\", \"herring\", \"high\", \"high\", \"high\", \"high_end\", \"higher\", \"higher\", \"hit\", \"hmmm\", \"hope\", \"hope\", \"hoping\", \"hopped\", \"huang\", \"hundred\", \"id\", \"idea\", \"ii\", \"im\", \"im\", \"increasing\", \"inevitably\", \"info\", \"installed\", \"installing\", \"intel\", \"involved\", \"issue\", \"jiraia99\", \"judging\", \"kidding\", \"kind\", \"lag\", \"largest\", \"launch\", \"lazy\", \"leeway\", \"length\", \"line\", \"line\", \"link\", \"linux\", \"literally\", \"lived\", \"lot\", \"lot\", \"low\", \"lower\", \"lower\", \"mac\", \"mailing\", \"main\", \"make\", \"man\", \"market\", \"market\", \"marketing\", \"matter\", \"matter\", \"melt\", \"memory\", \"ml_solution\", \"model\", \"model\", \"moins\", \"money\", \"monitor\", \"month\", \"month\", \"month\", \"moral\", \"mrsp\", \"msrp\", \"munching\", \"needing\", \"nice\", \"number\", \"nv\", \"nvidia\", \"offer\", \"officially\", \"oprah\", \"option\", \"option\", \"order\", \"outraged\", \"outrageous\", \"overclocked\", \"owner\", \"pay\", \"pay\", \"pc\", \"pcie4\", \"people\", \"play\", \"play\", \"plug\", \"point\", \"pony\", \"possibly\", \"potential\", \"pour\", \"power\", \"powerful\", \"practice\", \"preach\", \"precisely\", \"prediction\", \"preffers\", \"presentation\", \"pretrained\", \"pretty\", \"pretty\", \"prevent\", \"previously\", \"price\", \"price\", \"pricing\", \"pricing\", \"problem\", \"product\", \"proficiency\", \"psu\", \"psu\", \"q1_2021\", \"question\", \"questionable\", \"radeon\", \"rage_mode\", \"ram\", \"ray_tracing\", \"raytracing\", \"rdna\", \"rdna2\", \"reason\", \"receives\", \"record\", \"reference\", \"release\", \"release\", \"released\", \"repaste\", \"reputation\", \"resolution\", \"responsible\", \"review\", \"rival\", \"rt\", \"rtrx\", \"rtx\", \"rtx\", \"rtx3800\", \"run\", \"run\", \"running\", \"rx\", \"ryzen\", \"sale\", \"sam\", \"sama\", \"section\", \"sell\", \"series\", \"setting\", \"shelf\", \"shit\", \"shit\", \"shittyness\", \"showed\", \"sigh\", \"sketchy\", \"slide\", \"slightly\", \"smart_access\", \"software\", \"sold\", \"sorted\", \"sound\", \"specific\", \"stark\", \"start\", \"stock\", \"store\", \"stuff\", \"stuttering\", \"subclause\", \"success\", \"suicide\", \"suit\", \"super\", \"super_resolution\", \"supply\", \"support\", \"survive\", \"talking\", \"tax\", \"teamred\", \"tech\", \"technology\", \"term\", \"territory\", \"tier\", \"time\", \"time\", \"time\", \"title\", \"today\", \"topic\", \"transistor\", \"tripled\", \"true\", \"true\", \"trully\", \"turing\", \"ughhhhh\", \"ugly\", \"unreasonable\", \"update\", \"upgrade\", \"user\", \"version\", \"versus\", \"villain\", \"vous\", \"vr\", \"vram\", \"wait\", \"waiting\", \"wake\", \"week\", \"whack\", \"win\", \"woohoo\", \"work\", \"work\", \"working\", \"worry\", \"worse\", \"worse\", \"worth\", \"written\", \"x200b\", \"x200b\", \"xbox\", \"xt\", \"ye\", \"year\", \"z390\", \"zen\", \"zen\"]}, \"R\": 30, \"lambda.step\": 0.01, \"plot.opts\": {\"xlab\": \"PC1\", \"ylab\": \"PC2\"}, \"topic.order\": [6, 3, 2, 5, 1, 4]};\n",
       "\n",
       "function LDAvis_load_lib(url, callback){\n",
       "  var s = document.createElement('script');\n",
       "  s.src = url;\n",
       "  s.async = true;\n",
       "  s.onreadystatechange = s.onload = callback;\n",
       "  s.onerror = function(){console.warn(\"failed to load library \" + url);};\n",
       "  document.getElementsByTagName(\"head\")[0].appendChild(s);\n",
       "}\n",
       "\n",
       "if(typeof(LDAvis) !== \"undefined\"){\n",
       "   // already loaded: just create the visualization\n",
       "   !function(LDAvis){\n",
       "       new LDAvis(\"#\" + \"ldavis_el1699620702225787368433322116\", ldavis_el1699620702225787368433322116_data);\n",
       "   }(LDAvis);\n",
       "}else if(typeof define === \"function\" && define.amd){\n",
       "   // require.js is available: use it to load d3/LDAvis\n",
       "   require.config({paths: {d3: \"https://cdnjs.cloudflare.com/ajax/libs/d3/3.5.5/d3.min\"}});\n",
       "   require([\"d3\"], function(d3){\n",
       "      window.d3 = d3;\n",
       "      LDAvis_load_lib(\"https://cdn.rawgit.com/bmabey/pyLDAvis/files/ldavis.v1.0.0.js\", function(){\n",
       "        new LDAvis(\"#\" + \"ldavis_el1699620702225787368433322116\", ldavis_el1699620702225787368433322116_data);\n",
       "      });\n",
       "    });\n",
       "}else{\n",
       "    // require.js not available: dynamically load d3 & LDAvis\n",
       "    LDAvis_load_lib(\"https://cdnjs.cloudflare.com/ajax/libs/d3/3.5.5/d3.min.js\", function(){\n",
       "         LDAvis_load_lib(\"https://cdn.rawgit.com/bmabey/pyLDAvis/files/ldavis.v1.0.0.js\", function(){\n",
       "                 new LDAvis(\"#\" + \"ldavis_el1699620702225787368433322116\", ldavis_el1699620702225787368433322116_data);\n",
       "            })\n",
       "         });\n",
       "}\n",
       "</script>"
      ],
      "text/plain": [
       "PreparedData(topic_coordinates=              x         y  topics  cluster       Freq\n",
       "topic                                                \n",
       "5     -0.181902  0.089832       1        1  17.339924\n",
       "2      0.040268 -0.146181       2        1  16.981960\n",
       "1      0.048443 -0.089624       3        1  16.774185\n",
       "4     -0.329839  0.023877       4        1  16.607983\n",
       "0      0.225675  0.365397       5        1  16.474308\n",
       "3      0.197356 -0.243300       6        1  15.821640, topic_info=       Term         Freq        Total Category  logprob  loglift\n",
       "14      amd  4176.000000  4176.000000  Default  30.0000  30.0000\n",
       "10   nvidia  2958.000000  2958.000000  Default  29.0000  29.0000\n",
       "99     3080  1789.000000  1789.000000  Default  28.0000  28.0000\n",
       "385      dl  1698.000000  1698.000000  Default  27.0000  27.0000\n",
       "98     3070  1654.000000  1654.000000  Default  26.0000  26.0000\n",
       "..      ...          ...          ...      ...      ...      ...\n",
       "277    card   500.321036  1652.944625   Topic6  -4.0920   0.6487\n",
       "803     pay   155.629816   237.512694   Topic6  -5.2598   1.4211\n",
       "818      10   148.712935   356.224339   Topic6  -5.3052   0.9702\n",
       "839   guess   146.407308   334.581382   Topic6  -5.3209   1.0173\n",
       "190     ago   131.420733   196.469041   Topic6  -5.4288   1.4417\n",
       "\n",
       "[439 rows x 6 columns], token_table=      Topic      Freq   Term\n",
       "term                        \n",
       "416       1  1.001316      0\n",
       "818       4  0.583902     10\n",
       "818       6  0.418276     10\n",
       "132       4  0.998671    100\n",
       "1763      1  0.999414  1080p\n",
       "...     ...       ...    ...\n",
       "5289      3  0.971745     ye\n",
       "194       5  0.999719   year\n",
       "5676      6  0.867443   z390\n",
       "378       4  0.010692    zen\n",
       "378       5  0.988976    zen\n",
       "\n",
       "[465 rows x 3 columns], R=30, lambda_step=0.01, plot_opts={'xlab': 'PC1', 'ylab': 'PC2'}, topic_order=[6, 3, 2, 5, 1, 4])"
      ]
     },
     "execution_count": 59,
     "metadata": {},
     "output_type": "execute_result"
    }
   ],
   "source": [
    "# Visualize the topics for the bigram model\n",
    "pyLDAvis.enable_notebook()\n",
    "# Creates the filepath to save the html file\n",
    "LDAvis_data_filepath = os.path.join(os.getcwd()+'\\\\visualization\\\\'+ 'amd_' + 'bigram_' +'mallet_ldavis_prepared_'+str(num_topics))\n",
    "\n",
    "optimal_model_lda = gensim.models.wrappers.ldamallet.malletmodel2ldamodel(optimal_model)\n",
    "bigram_mallet_vis = pyLDAvis.gensim.prepare(optimal_model_lda, bigram_corpus, bigram_id2word)\n",
    "\n",
    "# Saves the graph as a html file to the LDAvis_data_filepath\n",
    "pyLDAvis.save_html(bigram_mallet_vis, os.getcwd()+ '\\\\visualization\\\\' + 'amd_' + 'bigram_' + 'mallet_ldavis_prepared_'+ str(num_topics) +'.html')\n",
    "bigram_mallet_vis"
   ]
  },
  {
   "cell_type": "markdown",
   "metadata": {},
   "source": [
    "The bubbles are spread further apart compared to the LDA's pyLDAvis with the exception of topic 3 and 4. This shows that the topics are distinguishable from one another. Also, it seems that the bubbles are of similar sizes which means that the documents are evenly distributed across the topics."
   ]
  },
  {
   "cell_type": "code",
   "execution_count": null,
   "metadata": {},
   "outputs": [],
   "source": []
  },
  {
   "cell_type": "code",
   "execution_count": null,
   "metadata": {},
   "outputs": [],
   "source": []
  }
 ],
 "metadata": {
  "kernelspec": {
   "display_name": "Python 3",
   "language": "python",
   "name": "python3"
  },
  "language_info": {
   "codemirror_mode": {
    "name": "ipython",
    "version": 3
   },
   "file_extension": ".py",
   "mimetype": "text/x-python",
   "name": "python",
   "nbconvert_exporter": "python",
   "pygments_lexer": "ipython3",
   "version": "3.8.5"
  },
  "notify_time": "30",
  "varInspector": {
   "cols": {
    "lenName": 16,
    "lenType": 16,
    "lenVar": 40
   },
   "kernels_config": {
    "python": {
     "delete_cmd_postfix": "",
     "delete_cmd_prefix": "del ",
     "library": "var_list.py",
     "varRefreshCmd": "print(var_dic_list())"
    },
    "r": {
     "delete_cmd_postfix": ") ",
     "delete_cmd_prefix": "rm(",
     "library": "var_list.r",
     "varRefreshCmd": "cat(var_dic_list()) "
    }
   },
   "oldHeight": 474.4,
   "position": {
    "height": "496.4px",
    "left": "1156px",
    "right": "20px",
    "top": "120px",
    "width": "360px"
   },
   "types_to_exclude": [
    "module",
    "function",
    "builtin_function_or_method",
    "instance",
    "_Feature"
   ],
   "varInspector_section_display": "block",
   "window_display": false
  }
 },
 "nbformat": 4,
 "nbformat_minor": 4
}
