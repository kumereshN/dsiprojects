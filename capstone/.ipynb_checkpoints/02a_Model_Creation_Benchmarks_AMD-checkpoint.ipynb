{
 "cells": [
  {
   "cell_type": "markdown",
   "metadata": {},
   "source": [
    "# GA Capstone: Topic Modelling on AMD vs Nvidia GPU"
   ]
  },
  {
   "cell_type": "markdown",
   "metadata": {},
   "source": [
    "## Contents\n",
    "- Data Extraction\n",
    "- Data Cleaning\n",
    "- [EDA](#EDA)\n",
    "- [Prepare data for LDA modeling](#Prepare-reddit-comments-for-LDA-modeling)\n",
    "- [Phrase modeling: Bigram and Trigram models](#Phrase-modeling:-Bigram-and-Trigram-models)\n",
    "- [LDA Model Training](#LDA-Model-Training)\n",
    "- [LDA Mallet Model](#LDA-Mallet-Model)\n",
    "- Model creation\n",
    "- Model Evaluation"
   ]
  },
  {
   "cell_type": "markdown",
   "metadata": {},
   "source": [
    "# Import the libraries"
   ]
  },
  {
   "cell_type": "code",
   "execution_count": 1,
   "metadata": {
    "ExecuteTime": {
     "end_time": "2021-01-22T07:35:19.258273Z",
     "start_time": "2021-01-22T07:35:16.271558Z"
    }
   },
   "outputs": [],
   "source": [
    "# Common imports\n",
    "import numpy as np\n",
    "import pandas as pd\n",
    "import matplotlib.pyplot as plt\n",
    "import seaborn as sns\n",
    "\n",
    "from pprint import pprint\n",
    "import os\n",
    "# import tqdm\n",
    "\n",
    "import re\n",
    "# NLTK Library\n",
    "from nltk import FreqDist\n",
    "from nltk.tokenize import RegexpTokenizer\n",
    "from nltk.stem import WordNetLemmatizer\n",
    "from nltk.corpus import stopwords\n",
    "\n",
    "# Import PRAW package\n",
    "import praw\n",
    "from praw.models import MoreComments\n",
    "\n",
    "# Gensim library\n",
    "import gensim\n",
    "from gensim.utils import simple_preprocess, ClippedCorpus\n",
    "from gensim.models import LdaMulticore, CoherenceModel, Phrases\n",
    "from gensim.models.wrappers import LdaMallet\n",
    "from gensim.models.phrases import Phraser\n",
    "from gensim.parsing.preprocessing import STOPWORDS\n",
    "import gensim.corpora as corpora\n",
    "\n",
    "# pyLDAvis library\n",
    "import pyLDAvis.gensim\n",
    "import pickle \n",
    "import pyLDAvis\n",
    "\n",
    "# Detect non-english words\n",
    "from langdetect import detect, DetectorFactory\n",
    "DetectorFactory.seed = 0\n",
    "\n",
    "# Detect non-english words using spacy\n",
    "import spacy\n",
    "from spacy_langdetect import LanguageDetector\n",
    "nlp = spacy.load(\"en_core_web_sm\")\n",
    "nlp.add_pipe(LanguageDetector(), name='language_detector', last=True)\n",
    "\n",
    "\n",
    "# Import the wordcloud library\n",
    "from wordcloud import WordCloud\n",
    "\n",
    "# Removes depreciation warnings\n",
    "import warnings\n",
    "warnings.filterwarnings(\"ignore\", category=DeprecationWarning)\n",
    "\n",
    "%matplotlib inline"
   ]
  },
  {
   "cell_type": "code",
   "execution_count": 2,
   "metadata": {
    "ExecuteTime": {
     "end_time": "2021-01-22T07:35:19.306311Z",
     "start_time": "2021-01-22T07:35:19.291303Z"
    }
   },
   "outputs": [],
   "source": [
    "# Set the max rows and columns for Pandas\n",
    "pd.options.display.max_columns = 100\n",
    "pd.options.display.max_rows = 200"
   ]
  },
  {
   "cell_type": "code",
   "execution_count": 3,
   "metadata": {
    "ExecuteTime": {
     "end_time": "2021-01-22T07:35:19.354338Z",
     "start_time": "2021-01-22T07:35:19.339332Z"
    }
   },
   "outputs": [],
   "source": [
    "# Set the style use\n",
    "plt.style.use('ggplot')"
   ]
  },
  {
   "cell_type": "markdown",
   "metadata": {},
   "source": [
    "# Load the dataset"
   ]
  },
  {
   "cell_type": "code",
   "execution_count": 4,
   "metadata": {
    "ExecuteTime": {
     "end_time": "2021-01-22T07:35:19.450431Z",
     "start_time": "2021-01-22T07:35:19.387373Z"
    }
   },
   "outputs": [
    {
     "data": {
      "text/html": [
       "<div>\n",
       "<style scoped>\n",
       "    .dataframe tbody tr th:only-of-type {\n",
       "        vertical-align: middle;\n",
       "    }\n",
       "\n",
       "    .dataframe tbody tr th {\n",
       "        vertical-align: top;\n",
       "    }\n",
       "\n",
       "    .dataframe thead th {\n",
       "        text-align: right;\n",
       "    }\n",
       "</style>\n",
       "<table border=\"1\" class=\"dataframe\">\n",
       "  <thead>\n",
       "    <tr style=\"text-align: right;\">\n",
       "      <th></th>\n",
       "      <th>Reddit comments</th>\n",
       "      <th>tag</th>\n",
       "    </tr>\n",
       "  </thead>\n",
       "  <tbody>\n",
       "    <tr>\n",
       "      <th>0</th>\n",
       "      <td>pre order time releasing 17th</td>\n",
       "      <td>nvidia</td>\n",
       "    </tr>\n",
       "    <tr>\n",
       "      <th>1</th>\n",
       "      <td>going hard grab card 3080 17th</td>\n",
       "      <td>nvidia</td>\n",
       "    </tr>\n",
       "    <tr>\n",
       "      <th>2</th>\n",
       "      <td>uk price 3090 1399 3080 649 3070 469 scan aib ...</td>\n",
       "      <td>nvidia</td>\n",
       "    </tr>\n",
       "    <tr>\n",
       "      <th>3</th>\n",
       "      <td>talking spatula jensen pot</td>\n",
       "      <td>nvidia</td>\n",
       "    </tr>\n",
       "    <tr>\n",
       "      <th>4</th>\n",
       "      <td>10k core completely insane</td>\n",
       "      <td>nvidia</td>\n",
       "    </tr>\n",
       "    <tr>\n",
       "      <th>...</th>\n",
       "      <td>...</td>\n",
       "      <td>...</td>\n",
       "    </tr>\n",
       "    <tr>\n",
       "      <th>25741</th>\n",
       "      <td>motherboard say pcie 0 compatible</td>\n",
       "      <td>nvidia</td>\n",
       "    </tr>\n",
       "    <tr>\n",
       "      <th>25742</th>\n",
       "      <td>thanks understanding know course 3000s dvi por...</td>\n",
       "      <td>nvidia</td>\n",
       "    </tr>\n",
       "    <tr>\n",
       "      <th>25743</th>\n",
       "      <td>buy 1400 gpu</td>\n",
       "      <td>nvidia</td>\n",
       "    </tr>\n",
       "    <tr>\n",
       "      <th>25744</th>\n",
       "      <td>lol know ill wait 3070 3060</td>\n",
       "      <td>nvidia</td>\n",
       "    </tr>\n",
       "    <tr>\n",
       "      <th>25745</th>\n",
       "      <td>generational compatibility compatible size pci...</td>\n",
       "      <td>nvidia</td>\n",
       "    </tr>\n",
       "  </tbody>\n",
       "</table>\n",
       "<p>25746 rows × 2 columns</p>\n",
       "</div>"
      ],
      "text/plain": [
       "                                         Reddit comments     tag\n",
       "0                          pre order time releasing 17th  nvidia\n",
       "1                         going hard grab card 3080 17th  nvidia\n",
       "2      uk price 3090 1399 3080 649 3070 469 scan aib ...  nvidia\n",
       "3                             talking spatula jensen pot  nvidia\n",
       "4                             10k core completely insane  nvidia\n",
       "...                                                  ...     ...\n",
       "25741                  motherboard say pcie 0 compatible  nvidia\n",
       "25742  thanks understanding know course 3000s dvi por...  nvidia\n",
       "25743                                       buy 1400 gpu  nvidia\n",
       "25744                        lol know ill wait 3070 3060  nvidia\n",
       "25745  generational compatibility compatible size pci...  nvidia\n",
       "\n",
       "[25746 rows x 2 columns]"
      ]
     },
     "execution_count": 4,
     "metadata": {},
     "output_type": "execute_result"
    }
   ],
   "source": [
    "# Read the existing csv file\n",
    "GPU_df = pd.read_csv('./reddit dataset/cleaned_combined_df.csv')\n",
    "GPU_df"
   ]
  },
  {
   "cell_type": "code",
   "execution_count": 5,
   "metadata": {
    "ExecuteTime": {
     "end_time": "2021-01-22T07:35:34.747720Z",
     "start_time": "2021-01-22T07:35:34.734718Z"
    }
   },
   "outputs": [
    {
     "data": {
      "text/html": [
       "<div>\n",
       "<style scoped>\n",
       "    .dataframe tbody tr th:only-of-type {\n",
       "        vertical-align: middle;\n",
       "    }\n",
       "\n",
       "    .dataframe tbody tr th {\n",
       "        vertical-align: top;\n",
       "    }\n",
       "\n",
       "    .dataframe thead th {\n",
       "        text-align: right;\n",
       "    }\n",
       "</style>\n",
       "<table border=\"1\" class=\"dataframe\">\n",
       "  <thead>\n",
       "    <tr style=\"text-align: right;\">\n",
       "      <th></th>\n",
       "      <th>Reddit comments</th>\n",
       "      <th>tag</th>\n",
       "    </tr>\n",
       "  </thead>\n",
       "  <tbody>\n",
       "    <tr>\n",
       "      <th>4737</th>\n",
       "      <td>sound samsung 8nm cheap</td>\n",
       "      <td>amd</td>\n",
       "    </tr>\n",
       "    <tr>\n",
       "      <th>4738</th>\n",
       "      <td>ethic mongol invasion tech</td>\n",
       "      <td>amd</td>\n",
       "    </tr>\n",
       "    <tr>\n",
       "      <th>4739</th>\n",
       "      <td>nvidia software ai learning big selling point</td>\n",
       "      <td>amd</td>\n",
       "    </tr>\n",
       "    <tr>\n",
       "      <th>4740</th>\n",
       "      <td>excited amd guy compete going nvidia brand loy...</td>\n",
       "      <td>amd</td>\n",
       "    </tr>\n",
       "    <tr>\n",
       "      <th>4741</th>\n",
       "      <td>think nvidia actualy competing new console pri...</td>\n",
       "      <td>amd</td>\n",
       "    </tr>\n",
       "    <tr>\n",
       "      <th>...</th>\n",
       "      <td>...</td>\n",
       "      <td>...</td>\n",
       "    </tr>\n",
       "    <tr>\n",
       "      <th>19374</th>\n",
       "      <td>dude understand example confused said looked r...</td>\n",
       "      <td>amd</td>\n",
       "    </tr>\n",
       "    <tr>\n",
       "      <th>19375</th>\n",
       "      <td>know example thought looked</td>\n",
       "      <td>amd</td>\n",
       "    </tr>\n",
       "    <tr>\n",
       "      <th>19376</th>\n",
       "      <td>probably score higher english proficiency test...</td>\n",
       "      <td>amd</td>\n",
       "    </tr>\n",
       "    <tr>\n",
       "      <th>19377</th>\n",
       "      <td>prove know concept cost opportunity efficiency...</td>\n",
       "      <td>amd</td>\n",
       "    </tr>\n",
       "    <tr>\n",
       "      <th>19378</th>\n",
       "      <td>cost opportunity perfectly ok way concept lmao...</td>\n",
       "      <td>amd</td>\n",
       "    </tr>\n",
       "  </tbody>\n",
       "</table>\n",
       "<p>14642 rows × 2 columns</p>\n",
       "</div>"
      ],
      "text/plain": [
       "                                         Reddit comments  tag\n",
       "4737                             sound samsung 8nm cheap  amd\n",
       "4738                          ethic mongol invasion tech  amd\n",
       "4739       nvidia software ai learning big selling point  amd\n",
       "4740   excited amd guy compete going nvidia brand loy...  amd\n",
       "4741   think nvidia actualy competing new console pri...  amd\n",
       "...                                                  ...  ...\n",
       "19374  dude understand example confused said looked r...  amd\n",
       "19375                        know example thought looked  amd\n",
       "19376  probably score higher english proficiency test...  amd\n",
       "19377  prove know concept cost opportunity efficiency...  amd\n",
       "19378  cost opportunity perfectly ok way concept lmao...  amd\n",
       "\n",
       "[14642 rows x 2 columns]"
      ]
     },
     "execution_count": 5,
     "metadata": {},
     "output_type": "execute_result"
    }
   ],
   "source": [
    "amd_df = GPU_df[GPU_df['tag'] == 'amd']\n",
    "amd_df"
   ]
  },
  {
   "cell_type": "markdown",
   "metadata": {},
   "source": [
    "# Prepare comments for modeling"
   ]
  },
  {
   "cell_type": "code",
   "execution_count": 6,
   "metadata": {
    "ExecuteTime": {
     "end_time": "2021-01-22T07:35:39.432597Z",
     "start_time": "2021-01-22T07:35:39.414581Z"
    }
   },
   "outputs": [],
   "source": [
    "# Creates the bag of words for each document\n",
    "data = [token.split() for token in amd_df['Reddit comments'].tolist()]"
   ]
  },
  {
   "cell_type": "code",
   "execution_count": 7,
   "metadata": {
    "ExecuteTime": {
     "end_time": "2021-01-22T07:35:41.469489Z",
     "start_time": "2021-01-22T07:35:41.462483Z"
    },
    "scrolled": true
   },
   "outputs": [
    {
     "name": "stdout",
     "output_type": "stream",
     "text": [
      "[['sound', 'samsung', '8nm', 'cheap'], ['ethic', 'mongol', 'invasion', 'tech'], ['nvidia', 'software', 'ai', 'learning', 'big', 'selling', 'point']]\n"
     ]
    }
   ],
   "source": [
    "# Prints the bag of words from the first 3 documents\n",
    "print(data[:3])"
   ]
  },
  {
   "cell_type": "markdown",
   "metadata": {},
   "source": [
    "# Phrase modeling: Bigram and Trigram models"
   ]
  },
  {
   "cell_type": "code",
   "execution_count": 8,
   "metadata": {
    "ExecuteTime": {
     "end_time": "2021-01-22T07:35:48.586343Z",
     "start_time": "2021-01-22T07:35:45.390438Z"
    }
   },
   "outputs": [],
   "source": [
    "# Build the bigram and trigram models\n",
    "bigram = Phrases(data, min_count=5, threshold=100) # higher threshold fewer phrases.\n",
    "trigram = Phrases(bigram[data], threshold=100)\n",
    "\n",
    "# Faster way to get a sentence clubbed as a trigram/bigram, this reduces memory, making the model smaller and faster\n",
    "bigram_mod = Phraser(bigram)\n",
    "trigram_mod = Phraser(trigram)"
   ]
  },
  {
   "cell_type": "code",
   "execution_count": 9,
   "metadata": {
    "ExecuteTime": {
     "end_time": "2021-01-22T07:35:49.943751Z",
     "start_time": "2021-01-22T07:35:48.587345Z"
    }
   },
   "outputs": [],
   "source": [
    "def make_bigrams(texts):\n",
    "    return [bigram_mod[doc] for doc in texts]\n",
    "\n",
    "def make_trigrams(texts):\n",
    "    return [trigram_mod[bigram_mod[doc]] for doc in texts]\n",
    "\n",
    "# Form Bigrams\n",
    "data_bigrams = make_bigrams(data)\n",
    "\n",
    "# Form Trigrams\n",
    "data_trigrams = make_trigrams(data)"
   ]
  },
  {
   "cell_type": "code",
   "execution_count": 58,
   "metadata": {
    "ExecuteTime": {
     "end_time": "2021-01-22T12:07:59.415980Z",
     "start_time": "2021-01-22T12:07:59.400966Z"
    }
   },
   "outputs": [],
   "source": [
    "# Creating the list to hold the coherence scores and the number of intrepretable topics for each n_gram\n",
    "n_grams = ['unigram', 'bigram', 'trigram']\n",
    "coherence_scores = []\n",
    "no_intrepretable_topics = []"
   ]
  },
  {
   "cell_type": "markdown",
   "metadata": {},
   "source": [
    "## LDA on AMD comments with unigrams"
   ]
  },
  {
   "cell_type": "code",
   "execution_count": 99,
   "metadata": {
    "ExecuteTime": {
     "end_time": "2021-01-22T13:10:02.565307Z",
     "start_time": "2021-01-22T13:10:02.547291Z"
    }
   },
   "outputs": [],
   "source": [
    "# Creating a function to create the LDA model and compute the coherence score\n",
    "def calculate_coherence_values(data, num_topics):\n",
    "    ngram_id2word = corpora.Dictionary(data)\n",
    "    ngram_corpus = [ngram_id2word.doc2bow(text) for text in data]\n",
    "    \n",
    "    ngram_lda_model = LdaMulticore(corpus=ngram_corpus, \n",
    "                         id2word=ngram_id2word, \n",
    "                         num_topics=num_topics,\n",
    "                         chunksize=100,\n",
    "                         passes=20, \n",
    "                         random_state=42,\n",
    "                        per_word_topics=True)\n",
    "    \n",
    "    \n",
    "    \n",
    "    # Compute Coherence Score\n",
    "    coherence_model_lda = CoherenceModel(model=ngram_lda_model, texts=data, dictionary=ngram_id2word, coherence='c_v')\n",
    "    ngram_coherence_lda = coherence_model_lda.get_coherence()\n",
    "    \n",
    "    pprint(ngram_lda_model.print_topics())\n",
    "    \n",
    "    return f' Coherence score is {ngram_coherence_lda}'"
   ]
  },
  {
   "cell_type": "code",
   "execution_count": 100,
   "metadata": {
    "ExecuteTime": {
     "end_time": "2021-01-22T13:10:45.419135Z",
     "start_time": "2021-01-22T13:10:05.338621Z"
    }
   },
   "outputs": [
    {
     "name": "stdout",
     "output_type": "stream",
     "text": [
      "[(0,\n",
      "  '0.029*\"dl\" + 0.026*\"game\" + 0.021*\"performance\" + 0.016*\"ray\" + 0.015*\"amd\" '\n",
      "  '+ 0.015*\"tracing\" + 0.011*\"feature\" + 0.011*\"better\" + 0.011*\"nvidia\" + '\n",
      "  '0.011*\"rt\"'),\n",
      " (1,\n",
      "  '0.021*\"power\" + 0.007*\"idea\" + 0.007*\"psu\" + 0.007*\"cache\" + 0.007*\"know\" + '\n",
      "  '0.006*\"comment\" + 0.006*\"think\" + 0.006*\"time\" + 0.005*\"yes\" + 0.005*\"use\"'),\n",
      " (2,\n",
      "  '0.034*\"6800\" + 0.031*\"3070\" + 0.019*\"6800xt\" + 0.019*\"3080\" + 0.015*\"vram\" '\n",
      "  '+ 0.013*\"xt\" + 0.012*\"card\" + 0.008*\"faster\" + 0.008*\"order\" + '\n",
      "  '0.008*\"price\"'),\n",
      " (3,\n",
      "  '0.029*\"amd\" + 0.026*\"card\" + 0.024*\"nvidia\" + 0.020*\"price\" + '\n",
      "  '0.012*\"performance\" + 0.009*\"3080\" + 0.009*\"3090\" + 0.008*\"people\" + '\n",
      "  '0.008*\"buy\" + 0.008*\"think\"'),\n",
      " (4,\n",
      "  '0.016*\"amd\" + 0.015*\"driver\" + 0.013*\"gpu\" + 0.012*\"nvidia\" + 0.012*\"issue\" '\n",
      "  '+ 0.011*\"cpu\" + 0.010*\"monitor\" + 0.009*\"work\" + 0.009*\"year\" + '\n",
      "  '0.007*\"time\"')]\n"
     ]
    },
    {
     "data": {
      "text/plain": [
       "' Coherence score is 0.5881172540636591'"
      ]
     },
     "execution_count": 100,
     "metadata": {},
     "output_type": "execute_result"
    }
   ],
   "source": [
    "# Calculate unigram scores\n",
    "calculate_coherence_values(data, 5)"
   ]
  },
  {
   "cell_type": "code",
   "execution_count": null,
   "metadata": {},
   "outputs": [],
   "source": []
  },
  {
   "cell_type": "code",
   "execution_count": 10,
   "metadata": {
    "ExecuteTime": {
     "end_time": "2021-01-22T07:35:50.327906Z",
     "start_time": "2021-01-22T07:35:49.944753Z"
    }
   },
   "outputs": [],
   "source": [
    "# Create Dictionary\n",
    "unigram_id2word = corpora.Dictionary(data)\n",
    "\n",
    "# Term Document Frequency\n",
    "unigram_corpus = [unigram_id2word.doc2bow(text) for text in data]\n",
    "\n",
    "# (token, token_id)\n",
    "# print(id2word.token2id)"
   ]
  },
  {
   "cell_type": "code",
   "execution_count": 11,
   "metadata": {
    "ExecuteTime": {
     "end_time": "2021-01-22T07:35:50.343095Z",
     "start_time": "2021-01-22T07:35:50.328908Z"
    }
   },
   "outputs": [
    {
     "name": "stdout",
     "output_type": "stream",
     "text": [
      "[(0, 1), (1, 1), (2, 1), (3, 1)]\n"
     ]
    }
   ],
   "source": [
    "# View\n",
    "# (token_id, token_frequency)\n",
    "print(unigram_corpus[:1][0][:30])"
   ]
  },
  {
   "cell_type": "markdown",
   "metadata": {},
   "source": [
    "## Unigram LDA Model Training on AMD comments"
   ]
  },
  {
   "cell_type": "code",
   "execution_count": 44,
   "metadata": {
    "ExecuteTime": {
     "end_time": "2021-01-22T08:43:42.347544Z",
     "start_time": "2021-01-22T08:43:24.246468Z"
    }
   },
   "outputs": [
    {
     "name": "stdout",
     "output_type": "stream",
     "text": [
      "[(0,\n",
      "  '0.029*\"dl\" + 0.025*\"game\" + 0.020*\"performance\" + 0.016*\"amd\" + 0.016*\"ray\" '\n",
      "  '+ 0.015*\"tracing\" + 0.012*\"nvidia\" + 0.011*\"feature\" + 0.011*\"rt\" + '\n",
      "  '0.010*\"better\"'),\n",
      " (1,\n",
      "  '0.020*\"power\" + 0.008*\"idea\" + 0.007*\"psu\" + 0.007*\"know\" + 0.006*\"cache\" + '\n",
      "  '0.006*\"said\" + 0.006*\"think\" + 0.006*\"use\" + 0.005*\"comment\" + '\n",
      "  '0.005*\"good\"'),\n",
      " (2,\n",
      "  '0.034*\"3070\" + 0.033*\"6800\" + 0.025*\"3080\" + 0.022*\"6800xt\" + 0.017*\"vram\" '\n",
      "  '+ 0.014*\"xt\" + 0.014*\"3090\" + 0.012*\"card\" + 0.011*\"price\" + '\n",
      "  '0.011*\"performance\"'),\n",
      " (3,\n",
      "  '0.032*\"amd\" + 0.027*\"card\" + 0.025*\"nvidia\" + 0.019*\"price\" + '\n",
      "  '0.009*\"performance\" + 0.009*\"people\" + 0.008*\"think\" + 0.008*\"buy\" + '\n",
      "  '0.008*\"end\" + 0.008*\"good\"'),\n",
      " (4,\n",
      "  '0.018*\"cpu\" + 0.014*\"amd\" + 0.014*\"gpu\" + 0.013*\"driver\" + 0.011*\"issue\" + '\n",
      "  '0.010*\"monitor\" + 0.009*\"nvidia\" + 0.009*\"work\" + 0.009*\"year\" + '\n",
      "  '0.009*\"series\"')]\n"
     ]
    }
   ],
   "source": [
    "# number of topics\n",
    "num_topics = 5\n",
    "\n",
    "# Build LDA model\n",
    "unigram_lda_model = LdaMulticore(corpus=unigram_corpus, \n",
    "                         id2word=unigram_id2word, \n",
    "                         num_topics=num_topics,\n",
    "                         chunksize=100,\n",
    "                         passes=20, \n",
    "                         random_state=42,\n",
    "                        per_word_topics=True)\n",
    "\n",
    "# Print the Keyword in the 10 topics\n",
    "pprint(unigram_lda_model.print_topics())\n",
    "unigram_doc_lda = unigram_lda_model[unigram_corpus]"
   ]
  },
  {
   "cell_type": "markdown",
   "metadata": {},
   "source": [
    "## Intrepreting the topics for unigram"
   ]
  },
  {
   "cell_type": "markdown",
   "metadata": {},
   "source": [
    "Scored between 1 ~ 5 with regards to their intrepretability, >= 3 will be considered intrepretable.\n",
    "* () means the score\n",
    "\n",
    "Topic 0 (4)\n",
    "* Talks about ray tracing and dlss features which seem to perform better in Nvidia\n",
    "\n",
    "Topic 1 (2)\n",
    "* Talks about the PSU (Power supply unit)\n",
    "\n",
    "Topic 2 (4)\n",
    "* With regards to all the GPUs from AMD and Nvidia price, performance and vram (Video ram)\n",
    "\n",
    "Topic 3 (3)\n",
    "* Nvidia's GPUS price/performance is better than AMD\n",
    "\n",
    "Topic 4 (1)\n",
    "* Some issue with driver\n",
    "\n",
    "**2 topics were intrepretable.**"
   ]
  },
  {
   "cell_type": "code",
   "execution_count": 59,
   "metadata": {
    "ExecuteTime": {
     "end_time": "2021-01-22T12:08:55.164913Z",
     "start_time": "2021-01-22T12:08:55.156906Z"
    }
   },
   "outputs": [],
   "source": [
    "# Append number of topics intrepretable for Unigram to list\n",
    "no_intrepretable_topics.append(2)"
   ]
  },
  {
   "cell_type": "code",
   "execution_count": 45,
   "metadata": {
    "ExecuteTime": {
     "end_time": "2021-01-22T08:43:47.603951Z",
     "start_time": "2021-01-22T08:43:42.861010Z"
    }
   },
   "outputs": [
    {
     "data": {
      "text/html": [
       "\n",
       "<link rel=\"stylesheet\" type=\"text/css\" href=\"https://cdn.rawgit.com/bmabey/pyLDAvis/files/ldavis.v1.0.0.css\">\n",
       "\n",
       "\n",
       "<div id=\"ldavis_el455624416120700168508692915\"></div>\n",
       "<script type=\"text/javascript\">\n",
       "\n",
       "var ldavis_el455624416120700168508692915_data = {\"mdsDat\": {\"x\": [0.03604639728161788, -0.062039975629070834, 0.2406537953824101, -0.16393684012614293, -0.0507233769088143], \"y\": [-0.08740901189719963, -0.08535187882515226, -0.007203224457703474, -0.076999874290344, 0.2569639894703994], \"topics\": [1, 2, 3, 4, 5], \"cluster\": [1, 1, 1, 1, 1], \"Freq\": [29.520580854171456, 24.54308491669108, 20.811336199295326, 15.518909205466947, 9.60608882437519]}, \"tinfo\": {\"Term\": [\"6800\", \"3070\", \"dl\", \"6800xt\", \"game\", \"price\", \"3080\", \"ray\", \"vram\", \"tracing\", \"cpu\", \"power\", \"nvidia\", \"xt\", \"amd\", \"rt\", \"feature\", \"driver\", \"monitor\", \"6900xt\", \"3090\", \"gpu\", \"issue\", \"performance\", \"order\", \"faster\", \"work\", \"ti\", \"year\", \"2080ti\", \"market\", \"range\", \"mid\", \"consumer\", \"availability\", \"terrible\", \"brand\", \"competing\", \"scalper\", \"flagship\", \"profit\", \"happy\", \"founder\", \"fucked\", \"decision\", \"leader\", \"fx\", \"demand\", \"country\", \"5600xt\", \"strategy\", \"research\", \"mobile\", \"enthusiast\", \"highest\", \"extreme\", \"channel\", \"affordable\", \"binned\", \"dropping\", \"offering\", \"competition\", \"budget\", \"tier\", \"end\", \"buyer\", \"paper\", \"product\", \"team\", \"date\", \"sell\", \"2021\", \"price\", \"compete\", \"nvidia\", \"high\", \"card\", \"amd\", \"competitive\", \"low\", \"buying\", \"buy\", \"release\", \"money\", \"launch\", \"pricing\", \"intel\", \"generation\", \"people\", \"company\", \"good\", \"think\", \"year\", \"going\", \"gpu\", \"gpus\", \"want\", \"point\", \"performance\", \"new\", \"time\", \"console\", \"right\", \"big\", \"3080\", \"probably\", \"better\", \"3090\", \"dl\", \"ray\", \"tracing\", \"rt\", \"raytracing\", \"rage\", \"mode\", \"6700\", \"canada\", \"cyberpunk\", \"title\", \"shipping\", \"tensor\", \"dxr\", \"professional\", \"implemented\", \"aaa\", \"raster\", \"dx12\", \"smart\", \"devs\", \"demanding\", \"detail\", \"lighting\", \"implement\", \"reviewer\", \"directx\", \"ml\", \"dog\", \"uplift\", \"feature\", \"ai\", \"resolution\", \"implementation\", \"access\", \"upscaling\", \"game\", \"enabled\", \"benchmark\", \"0\", \"solution\", \"video\", \"performance\", \"rtx\", \"play\", \"support\", \"hardware\", \"fps\", \"better\", \"core\", \"amd\", \"nvidia\", \"use\", \"know\", \"4k\", \"look\", \"super\", \"memory\", \"people\", \"card\", \"good\", \"think\", \"new\", \"going\", \"series\", \"6800\", \"order\", \"16gb\", \"8gb\", \"confirmation\", \"email\", \"tomorrow\", \"store\", \"6700xt\", \"ti\", \"579\", \"649\", \"sapphire\", \"18\", \"paypal\", \"cc\", \"vram\", \"cad\", \"percent\", \"10gb\", \"backorder\", \"morning\", \"3070ti\", \"cancelled\", \"faster\", \"backorders\", \"god\", \"november\", \"nitro\", \"received\", \"6800xt\", \"3070\", \"told\", \"xt\", \"gb\", \"6900\", \"2080\", \"2080ti\", \"6900xt\", \"80\", \"15\", \"3080\", \"rx\", \"reference\", \"3090\", \"double\", \"1440p\", \"10\", \"4k\", \"500\", \"price\", \"stock\", \"performance\", \"card\", \"better\", \"rtx\", \"think\", \"yeah\", \"wait\", \"linux\", \"monitor\", \"link\", \"gsync\", \"freesync\", \"window\", \"sync\", \"hdmi\", \"process\", \"u\", \"crash\", \"x570\", \"port\", \"perfect\", \"api\", \"display\", \"listed\", \"io\", \"vrr\", \"3900x\", \"motherboard\", \"mobo\", \"stick\", \"btw\", \"b550\", \"o\", \"friday\", \"directstorage\", \"chipset\", \"usb\", \"cpu\", \"g\", \"5000\", \"issue\", \"gtx\", \"3700x\", \"driver\", \"upgrade\", \"work\", \"black\", \"ryzen\", \"gpu\", \"series\", \"screen\", \"year\", \"4\", \"experience\", \"support\", \"thanks\", \"problem\", \"vr\", \"run\", \"thing\", \"use\", \"amd\", \"5700xt\", \"pc\", \"nvidia\", \"time\", \"new\", \"need\", \"game\", \"card\", \"mean\", \"gaming\", \"cache\", \"psu\", \"consumption\", \"draw\", \"infinity\", \"original\", \"location\", \"ya\", \"limit\", \"tdp\", \"nope\", \"re\", \"thread\", \"psus\", \"unit\", \"bus\", \"power\", \"hdr\", \"sounded\", \"750w\", \"child\", \"mail\", \"marketed\", \"program\", \"stem\", \"128mb\", \"disclosed\", \"bud\", \"heat\", \"latency\", \"ordered\", \"buddy\", \"300w\", \"efficiency\", \"watt\", \"idea\", \"discussion\", \"clock\", \"load\", \"lmao\", \"comment\", \"example\", \"read\", \"speed\", \"die\", \"said\", \"higher\", \"ok\", \"know\", \"use\", \"lower\", \"fine\", \"sure\", \"think\", \"probably\", \"good\", \"time\", \"bad\", \"yes\", \"look\"], \"Freq\": [1391.0, 1490.0, 1453.0, 939.0, 1386.0, 1624.0, 1483.0, 794.0, 708.0, 729.0, 704.0, 406.0, 2367.0, 622.0, 3285.0, 523.0, 553.0, 636.0, 317.0, 569.0, 914.0, 992.0, 448.0, 2058.0, 333.0, 354.0, 448.0, 305.0, 720.0, 371.0, 308.8002715145687, 165.27763807467545, 138.56922639707903, 130.84804073362886, 112.82543917477088, 90.21240671173287, 92.76070704658753, 63.64824653765712, 61.9136538404065, 50.70257467465444, 41.44947994402623, 93.07919705313847, 35.46244446734277, 38.55755293286799, 88.7888919704281, 33.12493123579689, 33.007665957566985, 82.03010438139408, 32.31055983246703, 32.673048518146274, 28.602641760465637, 29.2124160215914, 26.998802268420565, 26.508450524133654, 27.294321486610706, 26.67481026628286, 29.748341160048884, 25.647508349487897, 25.913892746561217, 28.17443508225952, 66.08334715935258, 194.52574187536968, 159.12985375049394, 105.19283857881369, 472.2448099097446, 59.75498398661385, 64.17614080225471, 245.19934594178218, 89.51353054469736, 59.67876155576441, 234.73131793496484, 67.58923107869703, 1143.0317942734014, 181.05104872888077, 1477.0731127009992, 324.7500917388658, 1600.0747649611433, 1887.9844760712017, 119.89813263831182, 122.54387516456353, 176.6615383270641, 475.28745668313724, 245.9040992011818, 235.4405516130138, 305.74954892484516, 213.2380167660436, 209.62198703315514, 176.04188536509687, 528.2222754937568, 157.05243297007863, 451.1470992849652, 489.4345721667968, 356.1512441273621, 389.20119057881914, 411.881042124924, 212.24892286384167, 318.0133397890841, 265.74106980046355, 549.6091390628507, 313.2249338429491, 324.7272747920405, 242.99860302088877, 265.4114824606839, 227.03444269122315, 325.8781339330081, 246.7515067778243, 268.66960418282395, 250.6957686621355, 1453.014820316281, 793.32997941745, 728.2925448275278, 522.6695697326934, 300.48135152303263, 230.63739423893884, 223.32118410904656, 104.84602279374695, 100.15528460196728, 83.97202342458226, 175.901492270578, 68.20210176881831, 64.14132623380702, 60.18451071894061, 61.278324188290135, 55.00553695342666, 53.07628386186345, 50.41874728496907, 49.994399555519564, 212.92322763468394, 46.35689679702624, 46.41500173944395, 43.424887946874065, 41.957217919595216, 41.86788185804855, 41.8103948698562, 41.18122549386082, 39.579899153151594, 35.13470148006024, 33.23162377980085, 537.087505266371, 97.43008922291061, 254.75278483393757, 95.04868333596254, 197.5789241072886, 57.56095300182375, 1210.9937320163363, 85.45455022112097, 415.3247010071236, 201.38611997027053, 81.0714095232839, 174.8937037778095, 998.7417808711429, 435.0255185907574, 194.79501445420595, 276.21296121024704, 204.20893487169934, 196.2006160094077, 508.5988842347864, 154.98871411811788, 793.844209307529, 595.3804437304666, 245.64619748346246, 298.1297454007753, 255.46871498317302, 265.1611114424634, 189.8340894298662, 214.5291038430152, 286.39613404110986, 389.4347298260655, 241.0169557968257, 243.56021395511462, 223.88225205520192, 217.7070785942992, 207.09077446136968, 1390.2198293015665, 332.99298589594906, 233.7357229701605, 214.8764273278293, 102.51279739192549, 101.66428623776902, 80.60956376546484, 106.87920120267198, 78.22808216197826, 302.57265509984427, 60.488371241124405, 58.649387727052776, 61.41996118909186, 57.17660602132616, 52.53669633170565, 175.0676274039475, 699.065564894476, 48.21253870178289, 61.33429897820037, 44.825167100219666, 39.29486809069362, 38.82162263933721, 36.09043166466, 35.0365486013485, 346.95377179890295, 33.409112825565835, 33.19339749934514, 33.47507038825379, 32.70785888218308, 30.838400795305404, 905.072117264391, 1426.6216382771888, 71.42766076794614, 577.5523490464187, 80.64440090107662, 153.83097387671484, 241.33802727723221, 320.75263878367537, 469.75027327264706, 192.81745752076193, 168.78415264209278, 1051.5838026123874, 204.8129551862676, 149.74978906039783, 566.5079583137679, 121.19316459238775, 254.96179911047875, 221.44782148611844, 302.82235942097486, 233.22960719223377, 480.5373751615689, 236.88916859227152, 477.15768069566934, 512.1410084679738, 328.7442884166358, 249.57708052781, 215.2461971763685, 187.93647602255714, 182.8558597508647, 99.10002364516161, 314.9751106258976, 90.73555415403766, 89.17956397634106, 86.64571225453524, 76.44799771684764, 67.71908190198916, 64.04528587154806, 61.66685797040816, 59.50656863740307, 53.085871029578236, 52.35057023908218, 52.07898564992138, 53.52427815553237, 50.44249930916427, 48.629380120763095, 44.51710790326888, 40.98228461275624, 36.193464426029855, 32.496020421378, 42.553133831118934, 45.766183287481184, 31.459253394628185, 32.02526725753551, 31.027436151435214, 29.71461010326923, 29.876767381086307, 29.32628136106684, 28.625683772811378, 28.52164140979124, 574.3768857501618, 55.52424396463821, 172.0009997005388, 335.7563658873356, 63.17351671466047, 39.91356774073858, 411.3045265627498, 180.70864469690954, 283.00005442211983, 49.71216364820585, 162.4846128870922, 439.46679945697934, 276.95623413584707, 65.69036486693693, 278.95316125659747, 119.00469001196171, 76.44465370573883, 183.5902808436208, 102.87440171408416, 121.38705803053851, 81.64331153220714, 125.5637206358507, 194.50769199822824, 175.73143310173802, 445.4529864387507, 126.41702503574618, 131.05300210603193, 293.49027542716635, 170.78332894239185, 161.3107050569344, 158.4702002468615, 147.9189292303111, 159.78867113117093, 107.70966730727615, 102.01661197754926, 119.43093217401547, 133.90989979326025, 62.41777538637734, 57.41778973584599, 52.44745340912575, 59.088946941027, 50.502783554193634, 46.91352344016956, 52.75230731556897, 40.02427873655917, 37.15493381349401, 35.648024592594226, 47.589918607568144, 33.31128304114928, 68.35949267840734, 32.318568422145745, 395.65418439550626, 26.093807858444485, 24.516060197706143, 23.57249937877098, 23.527532662600954, 20.336763240448114, 19.329968679995957, 18.62438879535533, 17.938479880367186, 17.909326661875586, 17.795678045317064, 18.41597731304041, 18.10029908599807, 19.001198222322504, 51.06484275730079, 32.50301385519401, 33.308628146468976, 65.52802050292999, 91.71713458057604, 150.27775748022177, 25.96314429186916, 67.62916715042657, 57.55923712462701, 69.16046990363473, 102.57803872842618, 73.8621983860302, 72.5668032743641, 50.605379484212314, 57.32455793435227, 116.31653372222564, 94.27930593921883, 52.67769127558784, 129.72275289740935, 106.31608544008479, 84.03024251964236, 69.65353784362583, 90.28008958816179, 111.49831386104405, 93.75600369862268, 102.4204459801317, 93.12267182290299, 68.80913284117867, 67.1684034289269, 64.98352860292779], \"Total\": [1391.0, 1490.0, 1453.0, 939.0, 1386.0, 1624.0, 1483.0, 794.0, 708.0, 729.0, 704.0, 406.0, 2367.0, 622.0, 3285.0, 523.0, 553.0, 636.0, 317.0, 569.0, 914.0, 992.0, 448.0, 2058.0, 333.0, 354.0, 448.0, 305.0, 720.0, 371.0, 309.6140069949693, 166.08081846311515, 139.28349915848526, 131.5747868585437, 113.62408585074978, 90.95800648296883, 93.56942627893564, 64.42494081179552, 62.71544456675214, 51.42792363204683, 42.1612231449427, 94.87166759044182, 36.175427168375094, 39.34068453137761, 90.67520129577527, 33.841730304880535, 33.73979659839443, 83.86154677830427, 33.03953347829133, 33.41949284969619, 29.3166454181508, 29.9648025928144, 27.71705037916242, 27.222762938997523, 28.037596890473353, 27.40735933554902, 30.5690730019735, 26.370179788521465, 26.662741297614083, 29.000499751002685, 68.22506399121599, 209.05966575461233, 170.0467446447749, 111.53337671521453, 529.1461654943008, 62.83321555343493, 67.9773676960991, 276.98772094565277, 97.74825378004056, 63.92804965983646, 274.613814741634, 73.10362596042592, 1624.1676176333485, 220.01453761485504, 2367.411180260387, 437.30124507936335, 2696.505378809758, 3285.1162189633806, 142.04704298254916, 145.82114775561723, 225.27983527589146, 743.8040515281541, 336.63233026575193, 327.50621596193275, 454.9243544439503, 290.494911926566, 287.3416125698101, 233.44480345379156, 1018.4781927809863, 202.19259062873797, 968.5058982279071, 1141.29189875541, 720.953576754406, 848.0433925676882, 992.4483013064561, 337.3953142136259, 699.5890682587359, 505.36304089864456, 2058.9731693210792, 718.4454809590493, 789.1550635301194, 450.2848357259748, 558.4778108753984, 389.70264613162743, 1483.8481589924627, 649.6152636876448, 1147.8385230652832, 914.4507575734187, 1453.7588434689233, 794.0566817924345, 729.019234636275, 523.455435345305, 301.24367178396267, 231.38656325248246, 224.05860115214514, 105.61281923874367, 100.93136375960563, 84.70084149008632, 177.7493785878616, 68.9666289402555, 64.86989399379273, 60.91039360540369, 62.02084608802551, 55.738613747155874, 53.80488510465702, 51.15038880730286, 50.722133693883954, 216.1165998099278, 47.0868447609973, 47.15211116834433, 44.171347326300676, 42.68279869134445, 42.5955168365397, 42.5425696641692, 41.938404301388886, 40.31541519885193, 35.868055955926, 33.96245649433777, 553.563247207935, 99.91653663721577, 265.5940767930827, 97.99836634816678, 209.89756209879016, 58.98944544430217, 1386.04314522041, 90.91888693124218, 547.0203035968661, 252.80483551176994, 89.34427890334923, 227.3897906141346, 2058.9731693210792, 771.0985281265115, 282.48809556929746, 460.363417555554, 311.0900047820873, 294.89645767896565, 1147.8385230652832, 231.30935154536772, 3285.1162189633806, 2367.411180260387, 530.6872676464794, 808.0407034744975, 607.1048646283267, 655.1714066066817, 352.4439961905743, 455.2736609773914, 1018.4781927809863, 2696.505378809758, 968.5058982279071, 1141.29189875541, 718.4454809590493, 848.0433925676882, 641.8905178628337, 1391.218721479022, 333.72014514347774, 234.45504125268627, 215.5960076805089, 103.22383288859348, 102.37502624708515, 81.32777453132601, 107.8416650700015, 78.96154899866185, 305.6328189870883, 61.20165693201221, 59.364500876424735, 62.18730253762911, 57.89321525746381, 53.247765668232695, 177.4803828656571, 708.9006668705257, 48.93089649985166, 62.280209013733824, 45.57192086202783, 40.01068333918017, 39.535975837865855, 36.805783295796, 35.74698441763932, 354.23910497300596, 34.126206218588734, 33.9110060620147, 34.202341493986964, 33.42100803036726, 31.55669272739296, 939.3635022386032, 1490.5743173516125, 73.1486021793838, 622.766978881468, 83.8021896310744, 168.00038670656195, 272.26343310410715, 371.3937494995415, 569.9068859182142, 219.78957475654946, 190.2546297123486, 1483.8481589924627, 258.4267496267507, 179.09447914896322, 914.4507575734187, 142.1713361502644, 367.82007662530964, 310.81315880882084, 607.1048646283267, 441.294556766137, 1624.1676176333485, 515.7130020270581, 2058.9731693210792, 2696.505378809758, 1147.8385230652832, 771.0985281265115, 1141.29189875541, 582.0471924702251, 569.4039052149468, 99.81988966349796, 317.31997769712194, 91.46422302014105, 89.9053741967293, 87.36451050534342, 77.17715680798352, 68.43688721747456, 64.76455109114903, 62.43214119926655, 60.2458883532505, 53.80811218584627, 53.072935009574664, 52.804504822037465, 54.28975866041877, 51.178373614274356, 49.34916480533755, 45.25853737894103, 41.70496352406216, 36.91068964375271, 33.21720793008259, 43.499421011500225, 46.81375711405093, 32.19279147580187, 32.77385218765303, 31.77251689137218, 30.436784702062297, 30.61009549725081, 30.054242417291285, 29.34361100533453, 29.240489721435917, 704.6895393006886, 60.08115121493362, 209.0605988819148, 448.2547364549007, 70.4130178610039, 42.36284046091378, 636.9791582072819, 250.25159941352044, 448.85479868719847, 55.66363503936556, 255.2423639601216, 992.4483013064561, 641.8905178628337, 81.83709223321632, 720.953576754406, 208.33561791987083, 104.81402068774987, 460.363417555554, 172.81959670872513, 230.6989443524738, 119.3009135801327, 266.6484998709505, 617.7944379529041, 530.6872676464794, 3285.1162189633806, 294.8856840861966, 361.2904308170847, 2367.411180260387, 789.1550635301194, 718.4454809590493, 695.6374121327012, 1386.04314522041, 2696.505378809758, 499.59534576635747, 524.3253339213117, 120.17134480477503, 135.43707095191127, 63.15629417396568, 58.1732839386766, 53.1886107012997, 59.94982796342791, 51.245460605403345, 47.65813820400032, 53.61683553783829, 40.79446830442531, 37.907718783210704, 36.39368358131423, 48.63063923016716, 34.046613616464974, 69.87752994715643, 33.05947322952813, 406.5684118210172, 26.842705626463946, 25.253459628516772, 24.306977293282106, 24.26133317196783, 21.078105039619384, 20.08800704222891, 19.38250566892507, 18.673844551364997, 18.649506685996247, 18.53207036760748, 19.178897768570156, 18.856788535811543, 19.795357280246446, 53.40401015157155, 33.89630750264973, 34.794055192094326, 69.03794301100748, 100.25550514571161, 172.53132691561927, 28.309118828331474, 85.74309420153934, 73.01533454855627, 101.3206961437262, 173.00026291099144, 121.9806176649557, 122.57200322584323, 78.68261140388542, 110.27344705242568, 532.5055956746373, 339.3764108280934, 97.87375850903845, 808.0407034744975, 530.6872676464794, 335.1777381047908, 207.29569018660877, 536.393983465922, 1141.29189875541, 649.6152636876448, 968.5058982279071, 789.1550635301194, 349.5793588506577, 359.86489650875365, 655.1714066066817], \"Category\": [\"Default\", \"Default\", \"Default\", \"Default\", \"Default\", \"Default\", \"Default\", \"Default\", \"Default\", \"Default\", \"Default\", \"Default\", \"Default\", \"Default\", \"Default\", \"Default\", \"Default\", \"Default\", \"Default\", \"Default\", \"Default\", \"Default\", \"Default\", \"Default\", \"Default\", \"Default\", \"Default\", \"Default\", \"Default\", \"Default\", \"Topic1\", \"Topic1\", \"Topic1\", \"Topic1\", \"Topic1\", \"Topic1\", \"Topic1\", \"Topic1\", \"Topic1\", \"Topic1\", \"Topic1\", \"Topic1\", \"Topic1\", \"Topic1\", \"Topic1\", \"Topic1\", \"Topic1\", \"Topic1\", \"Topic1\", \"Topic1\", \"Topic1\", \"Topic1\", \"Topic1\", \"Topic1\", \"Topic1\", \"Topic1\", \"Topic1\", \"Topic1\", \"Topic1\", \"Topic1\", \"Topic1\", \"Topic1\", \"Topic1\", \"Topic1\", \"Topic1\", \"Topic1\", \"Topic1\", \"Topic1\", \"Topic1\", \"Topic1\", \"Topic1\", \"Topic1\", \"Topic1\", \"Topic1\", \"Topic1\", \"Topic1\", \"Topic1\", \"Topic1\", \"Topic1\", \"Topic1\", \"Topic1\", \"Topic1\", \"Topic1\", \"Topic1\", \"Topic1\", \"Topic1\", \"Topic1\", \"Topic1\", \"Topic1\", \"Topic1\", \"Topic1\", \"Topic1\", \"Topic1\", \"Topic1\", \"Topic1\", \"Topic1\", \"Topic1\", \"Topic1\", \"Topic1\", \"Topic1\", \"Topic1\", \"Topic1\", \"Topic1\", \"Topic1\", \"Topic1\", \"Topic1\", \"Topic1\", \"Topic1\", \"Topic2\", \"Topic2\", \"Topic2\", \"Topic2\", \"Topic2\", \"Topic2\", \"Topic2\", \"Topic2\", \"Topic2\", \"Topic2\", \"Topic2\", \"Topic2\", \"Topic2\", \"Topic2\", \"Topic2\", \"Topic2\", \"Topic2\", \"Topic2\", \"Topic2\", \"Topic2\", \"Topic2\", \"Topic2\", \"Topic2\", \"Topic2\", \"Topic2\", \"Topic2\", \"Topic2\", \"Topic2\", \"Topic2\", \"Topic2\", \"Topic2\", \"Topic2\", \"Topic2\", \"Topic2\", \"Topic2\", \"Topic2\", \"Topic2\", \"Topic2\", \"Topic2\", \"Topic2\", \"Topic2\", \"Topic2\", \"Topic2\", \"Topic2\", \"Topic2\", \"Topic2\", \"Topic2\", \"Topic2\", \"Topic2\", \"Topic2\", \"Topic2\", \"Topic2\", \"Topic2\", \"Topic2\", \"Topic2\", \"Topic2\", \"Topic2\", \"Topic2\", \"Topic2\", \"Topic2\", \"Topic2\", \"Topic2\", \"Topic2\", \"Topic2\", \"Topic2\", \"Topic3\", \"Topic3\", \"Topic3\", \"Topic3\", \"Topic3\", \"Topic3\", \"Topic3\", \"Topic3\", \"Topic3\", \"Topic3\", \"Topic3\", \"Topic3\", \"Topic3\", \"Topic3\", \"Topic3\", \"Topic3\", \"Topic3\", \"Topic3\", \"Topic3\", \"Topic3\", \"Topic3\", \"Topic3\", \"Topic3\", \"Topic3\", \"Topic3\", \"Topic3\", \"Topic3\", \"Topic3\", \"Topic3\", \"Topic3\", \"Topic3\", \"Topic3\", \"Topic3\", \"Topic3\", \"Topic3\", \"Topic3\", \"Topic3\", \"Topic3\", \"Topic3\", \"Topic3\", \"Topic3\", \"Topic3\", \"Topic3\", \"Topic3\", \"Topic3\", \"Topic3\", \"Topic3\", \"Topic3\", \"Topic3\", \"Topic3\", \"Topic3\", \"Topic3\", \"Topic3\", \"Topic3\", \"Topic3\", \"Topic3\", \"Topic3\", \"Topic3\", \"Topic3\", \"Topic4\", \"Topic4\", \"Topic4\", \"Topic4\", \"Topic4\", \"Topic4\", \"Topic4\", \"Topic4\", \"Topic4\", \"Topic4\", \"Topic4\", \"Topic4\", \"Topic4\", \"Topic4\", \"Topic4\", \"Topic4\", \"Topic4\", \"Topic4\", \"Topic4\", \"Topic4\", \"Topic4\", \"Topic4\", \"Topic4\", \"Topic4\", \"Topic4\", \"Topic4\", \"Topic4\", \"Topic4\", \"Topic4\", \"Topic4\", \"Topic4\", \"Topic4\", \"Topic4\", \"Topic4\", \"Topic4\", \"Topic4\", \"Topic4\", \"Topic4\", \"Topic4\", \"Topic4\", \"Topic4\", \"Topic4\", \"Topic4\", \"Topic4\", \"Topic4\", \"Topic4\", \"Topic4\", \"Topic4\", \"Topic4\", \"Topic4\", \"Topic4\", \"Topic4\", \"Topic4\", \"Topic4\", \"Topic4\", \"Topic4\", \"Topic4\", \"Topic4\", \"Topic4\", \"Topic4\", \"Topic4\", \"Topic4\", \"Topic4\", \"Topic4\", \"Topic4\", \"Topic5\", \"Topic5\", \"Topic5\", \"Topic5\", \"Topic5\", \"Topic5\", \"Topic5\", \"Topic5\", \"Topic5\", \"Topic5\", \"Topic5\", \"Topic5\", \"Topic5\", \"Topic5\", \"Topic5\", \"Topic5\", \"Topic5\", \"Topic5\", \"Topic5\", \"Topic5\", \"Topic5\", \"Topic5\", \"Topic5\", \"Topic5\", \"Topic5\", \"Topic5\", \"Topic5\", \"Topic5\", \"Topic5\", \"Topic5\", \"Topic5\", \"Topic5\", \"Topic5\", \"Topic5\", \"Topic5\", \"Topic5\", \"Topic5\", \"Topic5\", \"Topic5\", \"Topic5\", \"Topic5\", \"Topic5\", \"Topic5\", \"Topic5\", \"Topic5\", \"Topic5\", \"Topic5\", \"Topic5\", \"Topic5\", \"Topic5\", \"Topic5\", \"Topic5\", \"Topic5\", \"Topic5\", \"Topic5\", \"Topic5\", \"Topic5\", \"Topic5\", \"Topic5\", \"Topic5\"], \"logprob\": [30.0, 29.0, 28.0, 27.0, 26.0, 25.0, 24.0, 23.0, 22.0, 21.0, 20.0, 19.0, 18.0, 17.0, 16.0, 15.0, 14.0, 13.0, 12.0, 11.0, 10.0, 9.0, 8.0, 7.0, 6.0, 5.0, 4.0, 3.0, 2.0, 1.0, -5.259200096130371, -5.884300231933594, -6.0605998039245605, -6.1178998947143555, -6.26609992980957, -6.489799976348877, -6.461900234222412, -6.838600158691406, -6.866199970245361, -7.065999984741211, -7.267499923706055, -6.458499908447266, -7.423500061035156, -7.339799880981445, -6.50570011138916, -7.491600036621094, -7.495200157165527, -6.584799766540527, -7.516499996185303, -7.50540018081665, -7.638400077819824, -7.617300033569336, -7.696100234985352, -7.7144999504089355, -7.685200214385986, -7.708199977874756, -7.5991997718811035, -7.747499942779541, -7.737100124359131, -7.653500080108643, -6.801000118255615, -5.721399784088135, -5.9222002029418945, -6.336100101470947, -4.834400177001953, -6.901700019836426, -6.8302998542785645, -5.4899001121521, -6.497499942779541, -6.9029998779296875, -5.5335001945495605, -6.778500080108643, -3.950500011444092, -5.793099880218506, -3.6940999031066895, -5.208899974822998, -3.6140999794006348, -3.448699951171875, -6.2052998542785645, -6.183499813079834, -5.817699909210205, -4.828000068664551, -5.486999988555908, -5.5304999351501465, -5.269199848175049, -5.629499912261963, -5.646599769592285, -5.821199893951416, -4.722400188446045, -5.935299873352051, -4.880099773406982, -4.798699855804443, -5.116600036621094, -5.0278000831604, -4.971199989318848, -5.634200096130371, -5.229800224304199, -5.40939998626709, -4.682700157165527, -5.244999885559082, -5.208899974822998, -5.498899936676025, -5.410600185394287, -5.566800117492676, -5.205399990081787, -5.483500003814697, -5.398399829864502, -5.467700004577637, -3.525899887084961, -4.13100004196167, -4.216599941253662, -4.548299789428711, -5.101900100708008, -5.366399765014648, -5.39870023727417, -6.154799938201904, -6.200500011444092, -6.376800060272217, -5.63730001449585, -6.584799766540527, -6.646200180053711, -6.70989990234375, -6.691800117492676, -6.799799919128418, -6.8354997634887695, -6.886899948120117, -6.895400047302246, -5.446300029754639, -6.970900058746338, -6.969600200653076, -7.036200046539307, -7.0706000328063965, -7.072800159454346, -7.074100017547607, -7.089300155639648, -7.128900051116943, -7.2480998039245605, -7.303800106048584, -4.521100044250488, -6.228099822998047, -5.267000198364258, -6.252900123596191, -5.521100044250488, -6.75439977645874, -3.7081000804901123, -6.359300136566162, -4.778200149536133, -5.501999855041504, -6.411900043487549, -5.643099784851074, -3.9007999897003174, -4.731900215148926, -5.535299777984619, -5.186100006103516, -5.488100051879883, -5.52810001373291, -4.5756001472473145, -5.763899803161621, -4.13040018081665, -4.418099880218506, -5.303400039672852, -5.1097002029418945, -5.264200210571289, -5.226900100708008, -5.561100006103516, -5.438799858093262, -5.149899959564209, -4.842599868774414, -5.322400093078613, -5.3119001388549805, -5.396100044250488, -5.424099922180176, -5.474100112915039, -3.405100107192993, -4.834199905395508, -5.1880998611450195, -5.272299766540527, -6.012400150299072, -6.020699977874756, -6.252699851989746, -5.970600128173828, -6.282700061798096, -4.929999828338623, -6.539899826049805, -6.570799827575684, -6.524600028991699, -6.596199989318848, -6.680799961090088, -5.477200031280518, -4.092599868774414, -6.76669979095459, -6.526000022888184, -6.839600086212158, -6.971199989318848, -6.983399868011475, -7.056300163269043, -7.085899829864502, -4.793099880218506, -7.133500099182129, -7.139999866485596, -7.131499767303467, -7.154699802398682, -7.213600158691406, -3.8343000411987305, -3.379300117492676, -6.373700141906738, -4.2835001945495605, -6.252299785614014, -5.606500148773193, -5.156099796295166, -4.871699810028076, -4.490099906921387, -5.3805999755859375, -5.513700008392334, -3.684299945831299, -5.320199966430664, -5.633399963378906, -4.302800178527832, -5.84499979019165, -5.101200103759766, -5.242199897766113, -4.929200172424316, -5.190299987792969, -4.467400074005127, -5.174699783325195, -4.4745001792907715, -4.40369987487793, -4.847099781036377, -5.122600078582764, -5.270599842071533, -5.406199932098389, -5.433599948883057, -5.752799987792969, -4.596399784088135, -5.84089994430542, -5.8582000732421875, -5.8871002197265625, -6.01230001449585, -6.133500099182129, -6.189300060272217, -6.227200031280518, -6.262800216674805, -6.376999855041504, -6.390900135040283, -6.396100044250488, -6.368800163269043, -6.428100109100342, -6.464700222015381, -6.552999973297119, -6.635799884796143, -6.760000228881836, -6.867800235748291, -6.598100185394287, -6.525400161743164, -6.900199890136719, -6.882400035858154, -6.914000034332275, -6.957300186157227, -6.9517998695373535, -6.970399856567383, -6.99459981918335, -6.998199939727783, -3.9955999851226807, -6.332099914550781, -5.201399803161621, -4.53249979019165, -6.203000068664551, -6.662199974060059, -4.329599857330322, -5.1519999504089355, -4.703499794006348, -6.442599773406982, -5.258299827575684, -4.263299942016602, -4.724999904632568, -6.163899898529053, -4.717899799346924, -5.569699764251709, -6.01230001449585, -5.136199951171875, -5.715400218963623, -5.549900054931641, -5.946499824523926, -5.51609992980957, -5.078400135040283, -5.179900169372559, -4.249800205230713, -5.509300231933594, -5.473299980163574, -4.667099952697754, -5.208499908447266, -5.265600204467773, -5.283299922943115, -5.352200031280518, -5.275000095367432, -5.66949987411499, -5.723800182342529, -5.08650016784668, -4.972099781036377, -5.735400199890137, -5.818900108337402, -5.90939998626709, -5.790200233459473, -5.947199821472168, -6.020899772644043, -5.903600215911865, -6.179800033569336, -6.2540998458862305, -6.295499801635742, -6.0065999031066895, -6.36329984664917, -5.644499778747559, -6.393599987030029, -3.888700008392334, -6.607500076293945, -6.669899940490723, -6.709199905395508, -6.711100101470947, -6.856800079345703, -6.907599925994873, -6.944799900054932, -6.9822998046875, -6.98390007019043, -6.990300178527832, -6.955999851226807, -6.973299980163574, -6.924699783325195, -5.936100006103516, -6.387899875640869, -6.363399982452393, -5.686800003051758, -5.350500106811523, -4.856800079345703, -6.612599849700928, -5.655200004577637, -5.816400051116943, -5.632800102233887, -5.23859977722168, -5.566999912261963, -5.584700107574463, -5.945199966430664, -5.820499897003174, -5.1128997802734375, -5.322999954223633, -5.90500020980835, -5.003799915313721, -5.2027997970581055, -5.4380998611450195, -5.625699996948242, -5.366300106048584, -5.155200004577637, -5.328499794006348, -5.240200042724609, -5.335299968719482, -5.637899875640869, -5.6620001792907715, -5.695099830627441], \"loglift\": [30.0, 29.0, 28.0, 27.0, 26.0, 25.0, 24.0, 23.0, 22.0, 21.0, 20.0, 19.0, 18.0, 17.0, 16.0, 15.0, 14.0, 13.0, 12.0, 11.0, 10.0, 9.0, 8.0, 7.0, 6.0, 5.0, 4.0, 3.0, 2.0, 1.0, 1.2175, 1.2152, 1.2149, 1.2145, 1.213, 1.2119, 1.2114, 1.208, 1.2072, 1.2059, 1.2031, 1.201, 1.2002, 1.2, 1.1991, 1.1987, 1.1981, 1.198, 1.1978, 1.1975, 1.1954, 1.1947, 1.1938, 1.1935, 1.1932, 1.193, 1.1929, 1.1923, 1.1916, 1.1912, 1.1882, 1.148, 1.1537, 1.1616, 1.1063, 1.1699, 1.1625, 1.0982, 1.1321, 1.1513, 1.0632, 1.1417, 0.8688, 1.0252, 0.7483, 0.9225, 0.6982, 0.6662, 1.0506, 1.0462, 0.977, 0.7722, 0.906, 0.89, 0.8227, 0.9109, 0.9047, 0.9379, 0.5635, 0.9674, 0.4561, 0.3734, 0.5149, 0.4412, 0.3406, 0.7566, 0.4317, 0.5773, -0.1007, 0.3899, 0.3321, 0.6033, 0.4761, 0.6798, -0.2958, 0.2521, -0.2321, -0.074, 1.4042, 1.4038, 1.4037, 1.4032, 1.4022, 1.4015, 1.4014, 1.3975, 1.397, 1.3961, 1.3943, 1.3936, 1.3934, 1.3928, 1.3927, 1.3915, 1.3911, 1.3903, 1.3903, 1.3899, 1.3891, 1.389, 1.3877, 1.3876, 1.3875, 1.3874, 1.3865, 1.3863, 1.3841, 1.383, 1.3745, 1.3795, 1.3631, 1.3742, 1.3443, 1.3802, 1.2697, 1.3428, 1.1293, 1.1773, 1.3076, 1.1423, 0.6813, 0.8323, 1.0331, 0.8939, 0.9838, 0.9973, 0.5908, 1.0043, -0.0155, 0.0244, 0.6345, 0.4077, 0.5391, 0.5002, 0.786, 0.6523, 0.1361, -0.5303, 0.0139, -0.1398, 0.2388, 0.045, 0.2735, 1.569, 1.5675, 1.5666, 1.5663, 1.5628, 1.5627, 1.5608, 1.5607, 1.5603, 1.5596, 1.5579, 1.5576, 1.5573, 1.5572, 1.5562, 1.556, 1.5557, 1.5549, 1.5544, 1.5532, 1.5516, 1.5514, 1.55, 1.5496, 1.5489, 1.5484, 1.5483, 1.5482, 1.5481, 1.5466, 1.5325, 1.5258, 1.5459, 1.4943, 1.5313, 1.4816, 1.4491, 1.4231, 1.3764, 1.4387, 1.4499, 1.2253, 1.3372, 1.3907, 1.0908, 1.41, 1.2032, 1.2307, 0.8741, 0.932, 0.3518, 0.7917, 0.1076, -0.0914, 0.3193, 0.4416, -0.0985, 0.4392, 0.4338, 1.8559, 1.8557, 1.8551, 1.855, 1.8548, 1.8536, 1.8526, 1.8519, 1.8508, 1.8508, 1.8496, 1.8494, 1.8493, 1.8489, 1.8486, 1.8484, 1.8466, 1.8456, 1.8435, 1.8412, 1.8411, 1.8405, 1.8401, 1.84, 1.8394, 1.8391, 1.8389, 1.8386, 1.8383, 1.8382, 1.6586, 1.7842, 1.668, 1.5741, 1.7546, 1.8036, 1.4257, 1.5375, 1.4019, 1.75, 1.4115, 1.0485, 1.0226, 1.6433, 0.9136, 1.3031, 1.5475, 0.9438, 1.3444, 1.221, 1.4838, 1.11, 0.7074, 0.7579, -0.135, 1.0161, 0.849, -0.2246, 0.3325, 0.3694, 0.3838, -0.3744, -0.9627, 0.3288, 0.2261, 2.3366, 2.3314, 2.331, 2.3297, 2.3287, 2.3283, 2.3282, 2.327, 2.3265, 2.3237, 2.3227, 2.3221, 2.3211, 2.3209, 2.3208, 2.3201, 2.3156, 2.3145, 2.3131, 2.3121, 2.3121, 2.307, 2.3043, 2.3029, 2.3026, 2.3023, 2.3022, 2.3022, 2.3018, 2.3018, 2.298, 2.3008, 2.2991, 2.2906, 2.2538, 2.2047, 2.2563, 2.1055, 2.1049, 1.9609, 1.8201, 1.8411, 1.8186, 1.9014, 1.6885, 0.8215, 1.0619, 1.7233, 0.5136, 0.735, 0.9593, 1.2522, 0.5608, 0.0169, 0.4071, 0.0961, 0.2057, 0.7174, 0.6642, 0.032]}, \"token.table\": {\"Topic\": [2, 4, 5, 1, 2, 3, 4, 5, 3, 5, 1, 2, 3, 4, 5, 1, 3, 5, 3, 3, 1, 4, 1, 2, 3, 1, 2, 3, 5, 1, 5, 1, 3, 3, 1, 2, 3, 4, 5, 1, 2, 3, 5, 4, 5, 4, 1, 2, 3, 4, 5, 1, 2, 3, 4, 5, 1, 2, 3, 4, 5, 2, 3, 4, 1, 1, 3, 4, 5, 3, 3, 2, 3, 3, 1, 2, 3, 5, 1, 3, 5, 1, 2, 3, 5, 5, 1, 2, 3, 5, 3, 2, 2, 3, 4, 1, 1, 2, 1, 2, 3, 4, 4, 1, 4, 3, 3, 1, 2, 3, 4, 5, 1, 2, 3, 4, 1, 2, 3, 4, 5, 1, 2, 3, 4, 5, 1, 2, 4, 1, 4, 5, 3, 5, 1, 3, 4, 5, 1, 2, 3, 4, 1, 2, 1, 2, 3, 4, 5, 3, 2, 3, 1, 2, 3, 4, 5, 3, 5, 1, 5, 4, 1, 4, 5, 1, 2, 3, 4, 5, 1, 2, 4, 1, 2, 3, 1, 1, 2, 1, 2, 3, 1, 2, 4, 1, 5, 1, 2, 3, 4, 5, 1, 1, 2, 3, 4, 5, 4, 2, 1, 4, 1, 3, 1, 4, 2, 2, 2, 1, 4, 5, 4, 2, 5, 1, 5, 4, 2, 2, 1, 2, 3, 5, 5, 1, 2, 4, 1, 2, 2, 1, 5, 3, 2, 4, 1, 2, 3, 4, 5, 1, 1, 2, 4, 5, 2, 4, 1, 3, 5, 1, 2, 4, 1, 2, 3, 4, 5, 1, 1, 2, 3, 4, 5, 4, 4, 1, 1, 3, 4, 1, 2, 4, 5, 1, 2, 3, 4, 5, 3, 4, 5, 1, 2, 3, 1, 2, 3, 4, 5, 1, 2, 3, 4, 5, 1, 2, 3, 4, 5, 1, 2, 3, 4, 4, 1, 3, 4, 1, 4, 1, 2, 4, 4, 5, 5, 1, 2, 4, 5, 1, 2, 3, 4, 5, 1, 1, 2, 3, 5, 2, 2, 4, 2, 5, 1, 4, 4, 1, 2, 4, 5, 1, 2, 3, 4, 5, 5, 1, 2, 3, 4, 5, 1, 2, 5, 4, 4, 4, 2, 4, 5, 4, 5, 5, 1, 2, 3, 4, 5, 1, 2, 3, 5, 1, 2, 3, 5, 5, 1, 5, 1, 2, 3, 4, 5, 1, 2, 3, 4, 5, 1, 2, 1, 3, 4, 2, 1, 2, 3, 4, 5, 1, 4, 5, 3, 4, 1, 2, 3, 4, 5, 1, 2, 3, 4, 5, 3, 5, 3, 1, 2, 3, 4, 4, 1, 2, 5, 2, 3, 4, 5, 3, 2, 5, 5, 1, 3, 4, 5, 3, 1, 2, 4, 5, 1, 2, 3, 4, 5, 3, 4, 1, 2, 3, 4, 5, 1, 2, 3, 4, 1, 2, 3, 4, 5, 4, 1, 2, 4, 5, 1, 3, 1, 3, 1, 2, 3, 4, 5, 1, 2, 3, 4, 5, 4, 1, 2, 3, 4, 2, 1, 5, 4, 5, 5, 2, 1, 2, 2, 2, 5, 1, 2, 3, 4, 5, 3, 1, 3, 4, 1, 2, 3, 4, 1, 2, 5, 2, 1, 2, 3, 4, 5, 2, 1, 2, 3, 4, 1, 2, 4, 5, 1, 2, 3, 4, 1, 2, 3, 4, 5, 1, 2, 3, 4, 5, 3, 1, 2, 3, 4, 1, 3, 4, 5, 1, 2, 3, 4, 5, 2, 2, 3, 2, 4, 5, 5, 1, 3, 4, 5, 5, 4, 1, 3, 4, 5, 3, 1, 1, 2, 3, 4, 5, 2, 4, 1, 2, 3, 4, 5, 4, 5, 1, 4, 2, 1, 1, 4, 5, 1, 2, 3, 4, 5, 1, 2, 3, 4, 5, 5, 1, 3, 5, 1, 3, 4, 1, 2, 3, 4, 5, 2, 3, 3, 5, 3, 2, 4, 3, 5, 1, 3, 4, 2, 2, 5, 4, 1, 2, 4, 5, 1, 2, 3, 5, 2, 4, 5, 2, 3, 4, 1, 2, 3, 4, 1, 2, 3, 4, 5, 1, 5, 4, 2, 4, 5, 4, 1, 3, 5, 1, 2, 3, 4, 5, 1, 2, 3, 4, 5, 1, 2, 3, 4, 5], \"Freq\": [0.7950797285704686, 0.1028461340439412, 0.09889051350378962, 0.1512162489520252, 0.019304201993875558, 0.7110381067744164, 0.10617311096631557, 0.012869467995917039, 0.987450148003211, 0.965172983021371, 0.0027187205472165633, 0.28274693691052255, 0.6932737395402236, 0.010874882188866253, 0.010874882188866253, 0.010512227760364397, 0.8882832457507917, 0.09986616372346178, 0.9980591534724312, 0.984571330966997, 0.9301864183427957, 0.06839606017226439, 0.07345826713480275, 0.04040204692414151, 0.8851721189743731, 0.1292428859254651, 0.005385120246894378, 0.8643117996265478, 0.002692560123447189, 0.028740541867830725, 0.9484378816384139, 0.04226558801303893, 0.9573491126128024, 0.978107155353272, 0.21969902919268705, 0.0559356424018191, 0.7089674193579962, 0.0006739234024315554, 0.015500238255925773, 0.27448170163481755, 0.10060683884622795, 0.6200443220196875, 0.005467762980773258, 0.9442237480960735, 0.04721118740480367, 0.9633561034797195, 0.06719926309184741, 0.18239799982072868, 0.09599894727406773, 0.571193736280703, 0.08639905254666096, 0.013177295169422912, 0.4200262835253553, 0.49909005454189276, 0.013177295169422912, 0.05435634257386951, 0.2900556964445707, 0.04078908231251775, 0.5279920099342575, 0.12916542732297287, 0.011330300642366042, 0.09088273974921456, 0.08609943765715064, 0.8227279598349949, 0.9874476596164145, 0.5324097047522596, 0.03052030154630787, 0.4272842216483102, 0.00678228923251286, 0.9803656143926445, 0.993859952142384, 0.9941974919033422, 0.98782256666877, 0.9991239900238502, 0.009580955592326124, 0.008516404970956555, 0.9634183123394603, 0.01809736056328268, 0.005952367251074553, 0.9166645566654811, 0.07142840701289463, 0.10878970149677653, 0.06492288637710857, 0.8246961242497576, 0.0035093452095734364, 0.987370815812341, 0.009099612673691668, 0.004549806336845834, 0.878112623011246, 0.10919535208430003, 0.9972355347071541, 0.9850406686476252, 0.9433172925887034, 0.02382114375223999, 0.033349601253135984, 0.9859621818474442, 0.020016706616460753, 0.9708102708983465, 0.5747133051492951, 0.24169616752570994, 0.04779130768455473, 0.135459438978515, 0.9769751648781255, 0.9945074510736258, 0.9756860026540121, 0.974739663139158, 0.9669987864641314, 0.5034622197908093, 0.14016845891903212, 0.11728381256490443, 0.04004813111972346, 0.19738007480435135, 0.009140428549220389, 0.7586555695852923, 0.21754219947144526, 0.014624685678752622, 0.23435352150548153, 0.44344216522784424, 0.2866256824360722, 0.027007283147471847, 0.009583229503941623, 0.5824954032345154, 0.2386434911929953, 0.08981206657800898, 0.06415147612714928, 0.02309453140577374, 0.9751435424356238, 0.08982525119791367, 0.8982525119791366, 0.9939143980936878, 0.976388122359795, 0.9385315161071404, 0.02950173849826647, 0.9735573704427934, 0.9350370119236838, 0.03528441554428995, 0.023522943696193305, 0.9679525072231996, 0.6386090517040166, 0.03092212250356291, 0.22989925861344598, 0.10083300816379209, 0.9549089517625357, 0.03183029839208452, 0.7856894949485158, 0.09321739770575611, 0.11985093990740071, 0.004438923700274101, 0.9902527111876966, 0.9809752821542012, 0.9907723058035368, 0.9791035683202771, 0.5933605816526287, 0.14426079141429538, 0.1898753861288412, 0.05933605816526288, 0.012979762723651254, 0.986024467461654, 0.011268851056704617, 0.9813840281667435, 0.9892284084260554, 0.9882900913158894, 0.0349882404867323, 0.17494120243366149, 0.7930667843659321, 0.10404608465399265, 0.04046236625433047, 0.10404608465399265, 0.1618494650173219, 0.5953748177422913, 0.7764874049627283, 0.009891559298888257, 0.2077227452766534, 0.8226729104458012, 0.1545352428461726, 0.022725771006790088, 0.9934040946496653, 0.9327480712079818, 0.066966528189291, 0.8447905530475724, 0.15487826805872162, 0.9978315774339144, 0.5396584133423494, 0.4508257527098639, 0.00888326606324855, 0.9956314817430665, 0.9816915449348463, 0.004323214748210755, 0.6700982859726671, 0.004323214748210755, 0.21183752266232703, 0.10808036870526888, 0.9685366780685823, 0.13623020443196496, 0.031219421848991968, 0.00851438777699781, 0.8145430973327904, 0.007095323147498174, 0.9849815919381235, 0.9917256844470861, 0.9385551462818316, 0.06257034308545543, 0.9815252541837663, 0.011028373642514229, 0.9778021411502766, 0.011924416355491178, 0.975566074565972, 0.9734817387921688, 0.976918292858358, 0.43528157759664543, 0.036273464799720455, 0.5168968733960164, 0.9649220099228074, 0.9776242249312808, 0.9712892107005219, 0.07064861368974935, 0.9184319779667415, 0.9929246055791447, 0.999478012827002, 0.9757986338319352, 0.09143896619400115, 0.04923636641215446, 0.8510857622672414, 0.00703376663030778, 0.979831223901449, 0.09733442484129808, 0.25589534272792885, 0.6452330420931212, 0.9655006031070863, 0.9857629472324223, 0.9850535589820434, 0.043454365370093326, 0.9559960381420531, 0.9963367408944052, 0.9348992587676709, 0.05499407404515711, 0.8920030622523404, 0.04346625091483862, 0.017008532966675982, 0.0018898369962973313, 0.04535608791113595, 0.9918170341674464, 0.016396047489228183, 0.24594071233842277, 0.12297035616921138, 0.6066537571014428, 0.2671398331661605, 0.7250938328795786, 0.9851368630388024, 0.9795643539310613, 0.01693771217171864, 0.0198712614240231, 0.9700788531545821, 0.009032391556374135, 0.07718443150263621, 0.1157766472539543, 0.14954483603635765, 0.31838577994837436, 0.3376818878240334, 0.9916791579005113, 0.9675075801343221, 0.6646400622871241, 0.14920491194200747, 0.10851266323055088, 0.07460245597100373, 0.9958277050574086, 0.9800688143130555, 0.9913401473452785, 0.9780734718943258, 0.06657662043941945, 0.9320726861518722, 0.0014429565247638507, 0.8737101757445116, 0.10677878283252495, 0.018036956559548133, 0.3432983080443974, 0.1277832591054146, 0.2708242207905802, 0.19453570789182523, 0.06293802314147287, 0.9665618566363172, 0.011932862427608854, 0.023865724855217707, 0.753925542124298, 0.24416906761980106, 0.9731353867724036, 0.458702943044216, 0.2570623176957303, 0.19338633074357692, 0.08843887076687969, 0.002358369887116792, 0.46566572369378745, 0.2488368944793853, 0.11667456048203544, 0.06298361229561204, 0.10531685990413818, 0.41513497424263246, 0.08665438782734561, 0.011083700768613975, 0.44234042158377584, 0.0443348030744559, 0.6283430476623918, 0.16004964421589224, 0.002963882300294301, 0.21043564332089537, 0.9899296988103495, 0.07100959668949366, 0.028403838675797464, 0.8947209182876201, 0.9802715854166099, 0.010540554681899031, 0.06750457963029094, 0.6557587735513977, 0.27644732610500095, 0.9881949140653656, 0.9686057866822064, 0.9545633905696939, 0.7431947739847335, 0.1006171386317793, 0.04344830986372288, 0.11433765753611284, 0.40368156309306813, 0.12964955311018247, 0.1885811681602654, 0.002946580752504147, 0.27697859073538983, 0.9629926596588629, 0.11012492826472274, 0.011592097712076078, 0.005796048856038039, 0.8694073284057058, 0.986019260223441, 0.9694039149845188, 0.02040850347335829, 0.9867486164886266, 0.9776529094174919, 0.7308374102932278, 0.2679737171075169, 0.983096411925755, 0.211933064559058, 0.03346311545669337, 0.7495737862299314, 0.006692623091338674, 0.2710259508689612, 0.3687933030089061, 0.12746882620777628, 0.07301612375008544, 0.16088298453408656, 0.9598210191922061, 0.6726393014812779, 0.048359688341791225, 0.16046623858867087, 0.11650288555067885, 0.002198167651899601, 0.9751274448056474, 0.9840029540639538, 0.9884954878136555, 0.9949245398385025, 0.9917863096597093, 0.9942875445404622, 0.20726268965040393, 0.1085661707692592, 0.6810059802798986, 0.20543629763176363, 0.7943536841761527, 0.9952101005142012, 0.22436876597126643, 0.40447430600262313, 0.23047403851470225, 0.04121058966819179, 0.0992106788308321, 0.8434990527309292, 0.013715431751722426, 0.06171944288275092, 0.08229259051033455, 0.5608964397904708, 0.07160380082431542, 0.11635617633951256, 0.250613302885104, 0.9488518992768596, 0.9980168629936071, 0.9458379798482892, 0.37029968667185653, 0.22217981200311393, 0.11409233589349094, 0.21617495221924599, 0.07806317719028327, 0.002196481118308444, 0.47224344043631544, 0.3162932810364159, 0.12739590486188976, 0.08346628249572087, 0.9979645890561475, 0.9921763127752455, 0.9741296288979763, 0.021361242114443634, 0.9826171372644071, 0.9952753380289726, 0.7175436329041001, 0.04885403458070469, 0.18625600683893662, 0.03969390309682256, 0.006106754322588086, 0.003151393137164808, 0.9926888382069144, 0.003151393137164808, 0.9864433385920749, 0.9885189043925852, 0.30044387543683565, 0.2903811619054584, 0.1265026843944571, 0.22712981970822982, 0.05318862866585129, 0.4356628419211126, 0.3117842702566429, 0.008351364381874362, 0.22409494424696208, 0.01948651689104018, 0.9874028925164459, 0.9760545131084825, 0.9648462227593878, 0.6238882422771813, 0.2513293866993384, 0.00042240233058712343, 0.12376388286202716, 0.9856494466699466, 0.9673864140090441, 0.014657369909227941, 0.014657369909227941, 0.24521383837306754, 0.10217243265544482, 0.1123896759209893, 0.5415138930738576, 0.9978420687094928, 0.03745037112987563, 0.9549844638118284, 0.9841562854190784, 0.9414898247622593, 0.014710778511910301, 0.029421557023820603, 0.014710778511910301, 0.9953469283617188, 0.404107021793548, 0.22142850509235507, 0.36258917708873145, 0.011071425254617753, 0.5184205255865907, 0.28081111802606995, 0.07167556509057031, 0.07953042153885198, 0.049092852801760484, 0.979444368700633, 0.9946627381007309, 0.2671234420122899, 0.4851933064914138, 0.23166887607247685, 0.005342468840245798, 0.011170616665968485, 0.10619916545347188, 0.6902945754475672, 0.014159888727129585, 0.18761852563446701, 0.5263542809284086, 0.16621714134581325, 0.12862040699378405, 0.08706612165733074, 0.09102367264175487, 0.9847644661236987, 0.017217274624575594, 0.0024596106606536564, 0.004919221321307313, 0.974005821618848, 0.7037450984680506, 0.2961516993553214, 0.7332314311028075, 0.26506488354420743, 0.380225055978311, 0.15855538771565197, 0.2601539856693707, 0.05695678976193323, 0.14470103344923577, 0.264413867047441, 0.16471683520988128, 0.008669307116309541, 0.5244930805367273, 0.034677228465238165, 0.9930782255587346, 0.8845157437432795, 0.06498483015256747, 0.0072205366836186075, 0.04332322010171165, 0.9835402747234917, 0.9724575555848883, 0.9802654168940438, 0.007383502854658333, 0.9893893825242166, 0.9692593916019058, 0.9983293617094755, 0.9934922137720847, 0.9775096761896243, 0.99866926150656, 0.995871542208347, 0.9891826398821482, 0.0407923495448412, 0.11421857872555535, 0.008158469908968239, 0.24475409726904718, 0.5955683033546815, 0.9823589647938702, 0.150758416051131, 0.8375467558396166, 0.011167290077861554, 0.7307675997899462, 0.05347079998463021, 0.12179459996499103, 0.0920885999735298, 0.967802137530325, 0.9601117731200901, 0.037651442083140786, 0.9872464294363917, 0.4745040802688649, 0.16473349201787008, 0.17010523632280064, 0.1325030261882868, 0.05908918735423601, 0.9991299443762495, 0.09077957932311775, 0.5641302429365175, 0.32421278329684916, 0.020749618130998345, 0.00375025548797, 0.31502146098948003, 0.47253219148422004, 0.21001430732632, 0.03869568461640731, 0.027086979231485116, 0.7932615346363499, 0.14317403308070706, 0.21548147081333668, 0.07443905355369812, 0.07052120862981928, 0.6346908776683735, 0.003917844923878849, 0.15023316308751103, 0.36243750594862034, 0.2478847190943932, 0.020657059924532768, 0.21783808647689099, 0.9809076372638823, 0.9885922108709498, 0.10997458187238779, 0.08553578590074606, 0.8064802670641772, 0.855747188906341, 0.09467841238963774, 0.04733920619481887, 0.0036414773996014515, 0.19162146281507153, 0.3224849008351204, 0.05296853443668644, 0.4315377658518278, 0.0015578980716672484, 0.9859841062973678, 0.9855790817888639, 0.013881395518153013, 0.9066053360576574, 0.04477063387939049, 0.04477063387939049, 0.9899633700789827, 0.0762557303697182, 0.10167430715962425, 0.17793003752934244, 0.6481737081426047, 0.9639150604734074, 0.9629484918479826, 0.42465479663921607, 0.4595579306095626, 0.01163437799011551, 0.10470940191103958, 0.9921953628084733, 0.9891991251511077, 0.23549840796584334, 0.5390927411266293, 0.2071251058012839, 0.01418665108227972, 0.0056746604329118875, 0.5995263513019992, 0.39968423420133276, 0.2908310025999964, 0.17338002078076709, 0.1957516363653822, 0.17151571948204916, 0.1677871168846133, 0.9936162026761058, 0.9805250972142435, 0.92073256062992, 0.08184289427821512, 0.9865901739584164, 0.9894675958718576, 0.17359142464938637, 0.5959972246295598, 0.22566885204420228, 0.33991889065211817, 0.2606044828332906, 0.029135904913038697, 0.31563896989125256, 0.05665314844201969, 0.4284618164145906, 0.21379280819051144, 0.188383007217049, 0.07184840275254893, 0.09725820372601135, 0.9870320596202249, 0.00654379986621951, 0.9913856797322558, 0.003271899933109755, 0.9414222279677175, 0.008965925980644928, 0.04482962990322464, 0.4118328767304372, 0.1533285479519474, 0.10137424657979993, 0.21668745206432236, 0.11784756164901741, 0.9901581732563026, 0.0056258987116835375, 0.9706268867022949, 0.013670801221159082, 0.9959697098166659, 0.9986019098154749, 0.9959185869779404, 0.014310751979301947, 0.9731311345925324, 0.1918069659194621, 0.08391554758976467, 0.7232721006546384, 0.9716611637177001, 0.9832267376502734, 0.016952185131901262, 0.9917754550718206, 0.005653046875054233, 0.46354984375444713, 0.33164541666984837, 0.19974098958524958, 0.09235243122957797, 0.7696035935798164, 0.030784143743192657, 0.10554563569094626, 0.21793630257941132, 0.687337569673528, 0.09220382032205864, 0.012695713829316752, 0.9860337740769343, 0.9753272113704099, 0.3652942982916163, 0.30558273030164057, 0.3213887335931047, 0.007024890351761852, 0.4545525572483516, 0.24728802642756234, 0.17295867744355517, 0.1014881495743175, 0.022870568918156055, 0.07979611681545845, 0.9176553433777722, 0.9847473416141478, 0.33641168690106865, 0.6304934264437246, 0.03341837949348364, 0.9797837634308127, 0.07225816641855846, 0.9281160042205954, 0.9861904340202471, 0.2817640942549336, 0.15119048960020828, 0.3229978641458995, 0.14775434210929445, 0.097930203491044, 0.4937904623521578, 0.11373825256426107, 0.002774103721079538, 0.38698746909059556, 0.001387051860539769, 0.05557641268718052, 0.3779196062728275, 0.13060456981487423, 0.25009385709231235, 0.18618098250205473], \"Term\": [\"0\", \"0\", \"0\", \"10\", \"10\", \"10\", \"10\", \"10\", \"10gb\", \"128mb\", \"1440p\", \"1440p\", \"1440p\", \"1440p\", \"1440p\", \"15\", \"15\", \"15\", \"16gb\", \"18\", \"2021\", \"2021\", \"2080\", \"2080\", \"2080\", \"2080ti\", \"2080ti\", \"2080ti\", \"2080ti\", \"300w\", \"300w\", \"3070\", \"3070\", \"3070ti\", \"3080\", \"3080\", \"3080\", \"3080\", \"3080\", \"3090\", \"3090\", \"3090\", \"3090\", \"3700x\", \"3700x\", \"3900x\", \"4\", \"4\", \"4\", \"4\", \"4\", \"4k\", \"4k\", \"4k\", \"4k\", \"4k\", \"500\", \"500\", \"500\", \"500\", \"500\", \"5000\", \"5000\", \"5000\", \"5600xt\", \"5700xt\", \"5700xt\", \"5700xt\", \"5700xt\", \"579\", \"649\", \"6700\", \"6700xt\", \"6800\", \"6800xt\", \"6800xt\", \"6800xt\", \"6800xt\", \"6900\", \"6900\", \"6900\", \"6900xt\", \"6900xt\", \"6900xt\", \"6900xt\", \"750w\", \"80\", \"80\", \"80\", \"80\", \"8gb\", \"aaa\", \"access\", \"access\", \"access\", \"affordable\", \"ai\", \"ai\", \"amd\", \"amd\", \"amd\", \"amd\", \"api\", \"availability\", \"b550\", \"backorder\", \"backorders\", \"bad\", \"bad\", \"bad\", \"bad\", \"bad\", \"benchmark\", \"benchmark\", \"benchmark\", \"benchmark\", \"better\", \"better\", \"better\", \"better\", \"better\", \"big\", \"big\", \"big\", \"big\", \"big\", \"binned\", \"black\", \"black\", \"brand\", \"btw\", \"bud\", \"buddy\", \"buddy\", \"budget\", \"budget\", \"budget\", \"bus\", \"buy\", \"buy\", \"buy\", \"buy\", \"buyer\", \"buyer\", \"buying\", \"buying\", \"buying\", \"buying\", \"cache\", \"cad\", \"canada\", \"cancelled\", \"card\", \"card\", \"card\", \"card\", \"card\", \"cc\", \"cc\", \"channel\", \"child\", \"chipset\", \"clock\", \"clock\", \"clock\", \"comment\", \"comment\", \"comment\", \"comment\", \"comment\", \"company\", \"company\", \"company\", \"compete\", \"compete\", \"compete\", \"competing\", \"competition\", \"competition\", \"competitive\", \"competitive\", \"confirmation\", \"console\", \"console\", \"console\", \"consumer\", \"consumption\", \"core\", \"core\", \"core\", \"core\", \"core\", \"country\", \"cpu\", \"cpu\", \"cpu\", \"cpu\", \"cpu\", \"crash\", \"cyberpunk\", \"date\", \"date\", \"decision\", \"decision\", \"demand\", \"demand\", \"demanding\", \"detail\", \"devs\", \"die\", \"die\", \"die\", \"directstorage\", \"directx\", \"disclosed\", \"discussion\", \"discussion\", \"display\", \"dl\", \"dog\", \"double\", \"double\", \"double\", \"double\", \"draw\", \"driver\", \"driver\", \"driver\", \"dropping\", \"dx12\", \"dxr\", \"efficiency\", \"efficiency\", \"email\", \"enabled\", \"enabled\", \"end\", \"end\", \"end\", \"end\", \"end\", \"enthusiast\", \"example\", \"example\", \"example\", \"example\", \"experience\", \"experience\", \"extreme\", \"faster\", \"faster\", \"feature\", \"feature\", \"feature\", \"fine\", \"fine\", \"fine\", \"fine\", \"fine\", \"flagship\", \"founder\", \"fps\", \"fps\", \"fps\", \"fps\", \"freesync\", \"friday\", \"fucked\", \"fx\", \"g\", \"g\", \"game\", \"game\", \"game\", \"game\", \"gaming\", \"gaming\", \"gaming\", \"gaming\", \"gaming\", \"gb\", \"gb\", \"gb\", \"generation\", \"generation\", \"god\", \"going\", \"going\", \"going\", \"going\", \"going\", \"good\", \"good\", \"good\", \"good\", \"good\", \"gpu\", \"gpu\", \"gpu\", \"gpu\", \"gpu\", \"gpus\", \"gpus\", \"gpus\", \"gpus\", \"gsync\", \"gtx\", \"gtx\", \"gtx\", \"happy\", \"happy\", \"hardware\", \"hardware\", \"hardware\", \"hdmi\", \"hdr\", \"heat\", \"high\", \"high\", \"high\", \"high\", \"higher\", \"higher\", \"higher\", \"higher\", \"higher\", \"highest\", \"idea\", \"idea\", \"idea\", \"idea\", \"implement\", \"implementation\", \"implementation\", \"implemented\", \"infinity\", \"intel\", \"intel\", \"io\", \"issue\", \"issue\", \"issue\", \"issue\", \"know\", \"know\", \"know\", \"know\", \"know\", \"latency\", \"launch\", \"launch\", \"launch\", \"launch\", \"launch\", \"leader\", \"lighting\", \"limit\", \"link\", \"linux\", \"listed\", \"lmao\", \"lmao\", \"lmao\", \"load\", \"load\", \"location\", \"look\", \"look\", \"look\", \"look\", \"look\", \"low\", \"low\", \"low\", \"low\", \"lower\", \"lower\", \"lower\", \"lower\", \"mail\", \"market\", \"marketed\", \"mean\", \"mean\", \"mean\", \"mean\", \"mean\", \"memory\", \"memory\", \"memory\", \"memory\", \"memory\", \"mid\", \"ml\", \"mobile\", \"mobo\", \"mobo\", \"mode\", \"money\", \"money\", \"money\", \"money\", \"money\", \"monitor\", \"monitor\", \"monitor\", \"morning\", \"motherboard\", \"need\", \"need\", \"need\", \"need\", \"need\", \"new\", \"new\", \"new\", \"new\", \"new\", \"nitro\", \"nope\", \"november\", \"nvidia\", \"nvidia\", \"nvidia\", \"nvidia\", \"o\", \"offering\", \"offering\", \"offering\", \"ok\", \"ok\", \"ok\", \"ok\", \"order\", \"ordered\", \"ordered\", \"original\", \"paper\", \"paper\", \"paper\", \"paper\", \"paypal\", \"pc\", \"pc\", \"pc\", \"pc\", \"people\", \"people\", \"people\", \"people\", \"people\", \"percent\", \"perfect\", \"performance\", \"performance\", \"performance\", \"performance\", \"performance\", \"play\", \"play\", \"play\", \"play\", \"point\", \"point\", \"point\", \"point\", \"point\", \"port\", \"power\", \"power\", \"power\", \"power\", \"price\", \"price\", \"pricing\", \"pricing\", \"probably\", \"probably\", \"probably\", \"probably\", \"probably\", \"problem\", \"problem\", \"problem\", \"problem\", \"problem\", \"process\", \"product\", \"product\", \"product\", \"product\", \"professional\", \"profit\", \"program\", \"psu\", \"psu\", \"psus\", \"rage\", \"range\", \"raster\", \"ray\", \"raytracing\", \"re\", \"read\", \"read\", \"read\", \"read\", \"read\", \"received\", \"reference\", \"reference\", \"reference\", \"release\", \"release\", \"release\", \"release\", \"research\", \"resolution\", \"resolution\", \"reviewer\", \"right\", \"right\", \"right\", \"right\", \"right\", \"rt\", \"rtx\", \"rtx\", \"rtx\", \"rtx\", \"run\", \"run\", \"run\", \"run\", \"rx\", \"rx\", \"rx\", \"rx\", \"ryzen\", \"ryzen\", \"ryzen\", \"ryzen\", \"ryzen\", \"said\", \"said\", \"said\", \"said\", \"said\", \"sapphire\", \"scalper\", \"screen\", \"screen\", \"screen\", \"sell\", \"sell\", \"sell\", \"sell\", \"series\", \"series\", \"series\", \"series\", \"series\", \"shipping\", \"smart\", \"smart\", \"solution\", \"solution\", \"solution\", \"sounded\", \"speed\", \"speed\", \"speed\", \"speed\", \"stem\", \"stick\", \"stock\", \"stock\", \"stock\", \"stock\", \"store\", \"strategy\", \"super\", \"super\", \"super\", \"super\", \"super\", \"support\", \"support\", \"sure\", \"sure\", \"sure\", \"sure\", \"sure\", \"sync\", \"tdp\", \"team\", \"team\", \"tensor\", \"terrible\", \"thanks\", \"thanks\", \"thanks\", \"thing\", \"thing\", \"thing\", \"thing\", \"thing\", \"think\", \"think\", \"think\", \"think\", \"think\", \"thread\", \"ti\", \"ti\", \"ti\", \"tier\", \"tier\", \"tier\", \"time\", \"time\", \"time\", \"time\", \"time\", \"title\", \"title\", \"told\", \"told\", \"tomorrow\", \"tracing\", \"u\", \"unit\", \"unit\", \"upgrade\", \"upgrade\", \"upgrade\", \"uplift\", \"upscaling\", \"upscaling\", \"usb\", \"use\", \"use\", \"use\", \"use\", \"video\", \"video\", \"video\", \"video\", \"vr\", \"vr\", \"vr\", \"vram\", \"vram\", \"vrr\", \"wait\", \"wait\", \"wait\", \"wait\", \"want\", \"want\", \"want\", \"want\", \"want\", \"watt\", \"watt\", \"window\", \"work\", \"work\", \"work\", \"x570\", \"xt\", \"xt\", \"ya\", \"yeah\", \"yeah\", \"yeah\", \"yeah\", \"yeah\", \"year\", \"year\", \"year\", \"year\", \"year\", \"yes\", \"yes\", \"yes\", \"yes\", \"yes\"]}, \"R\": 30, \"lambda.step\": 0.01, \"plot.opts\": {\"xlab\": \"PC1\", \"ylab\": \"PC2\"}, \"topic.order\": [4, 1, 3, 5, 2]};\n",
       "\n",
       "function LDAvis_load_lib(url, callback){\n",
       "  var s = document.createElement('script');\n",
       "  s.src = url;\n",
       "  s.async = true;\n",
       "  s.onreadystatechange = s.onload = callback;\n",
       "  s.onerror = function(){console.warn(\"failed to load library \" + url);};\n",
       "  document.getElementsByTagName(\"head\")[0].appendChild(s);\n",
       "}\n",
       "\n",
       "if(typeof(LDAvis) !== \"undefined\"){\n",
       "   // already loaded: just create the visualization\n",
       "   !function(LDAvis){\n",
       "       new LDAvis(\"#\" + \"ldavis_el455624416120700168508692915\", ldavis_el455624416120700168508692915_data);\n",
       "   }(LDAvis);\n",
       "}else if(typeof define === \"function\" && define.amd){\n",
       "   // require.js is available: use it to load d3/LDAvis\n",
       "   require.config({paths: {d3: \"https://cdnjs.cloudflare.com/ajax/libs/d3/3.5.5/d3.min\"}});\n",
       "   require([\"d3\"], function(d3){\n",
       "      window.d3 = d3;\n",
       "      LDAvis_load_lib(\"https://cdn.rawgit.com/bmabey/pyLDAvis/files/ldavis.v1.0.0.js\", function(){\n",
       "        new LDAvis(\"#\" + \"ldavis_el455624416120700168508692915\", ldavis_el455624416120700168508692915_data);\n",
       "      });\n",
       "    });\n",
       "}else{\n",
       "    // require.js not available: dynamically load d3 & LDAvis\n",
       "    LDAvis_load_lib(\"https://cdnjs.cloudflare.com/ajax/libs/d3/3.5.5/d3.min.js\", function(){\n",
       "         LDAvis_load_lib(\"https://cdn.rawgit.com/bmabey/pyLDAvis/files/ldavis.v1.0.0.js\", function(){\n",
       "                 new LDAvis(\"#\" + \"ldavis_el455624416120700168508692915\", ldavis_el455624416120700168508692915_data);\n",
       "            })\n",
       "         });\n",
       "}\n",
       "</script>"
      ],
      "text/plain": [
       "PreparedData(topic_coordinates=              x         y  topics  cluster       Freq\n",
       "topic                                                \n",
       "3      0.036046 -0.087409       1        1  29.520581\n",
       "0     -0.062040 -0.085352       2        1  24.543085\n",
       "2      0.240654 -0.007203       3        1  20.811336\n",
       "4     -0.163937 -0.077000       4        1  15.518909\n",
       "1     -0.050723  0.256964       5        1   9.606089, topic_info=        Term         Freq        Total Category  logprob  loglift\n",
       "5386    6800  1391.000000  1391.000000  Default  30.0000  30.0000\n",
       "100     3070  1490.000000  1490.000000  Default  29.0000  29.0000\n",
       "395       dl  1453.000000  1453.000000  Default  28.0000  28.0000\n",
       "1179  6800xt   939.000000   939.000000  Default  27.0000  27.0000\n",
       "319     game  1386.000000  1386.000000  Default  26.0000  26.0000\n",
       "...      ...          ...          ...      ...      ...      ...\n",
       "73      good   102.420446   968.505898   Topic5  -5.2402   0.0961\n",
       "404     time    93.122672   789.155064   Topic5  -5.3353   0.2057\n",
       "259      bad    68.809133   349.579359   Topic5  -5.6379   0.7174\n",
       "735      yes    67.168403   359.864897   Topic5  -5.6620   0.6642\n",
       "171     look    64.983529   655.171407   Topic5  -5.6951   0.0320\n",
       "\n",
       "[357 rows x 6 columns], token_table=      Topic      Freq Term\n",
       "term                      \n",
       "426       2  0.795080    0\n",
       "426       4  0.102846    0\n",
       "426       5  0.098891    0\n",
       "827       1  0.151216   10\n",
       "827       2  0.019304   10\n",
       "...     ...       ...  ...\n",
       "735       1  0.055576  yes\n",
       "735       2  0.377920  yes\n",
       "735       3  0.130605  yes\n",
       "735       4  0.250094  yes\n",
       "735       5  0.186181  yes\n",
       "\n",
       "[688 rows x 3 columns], R=30, lambda_step=0.01, plot_opts={'xlab': 'PC1', 'ylab': 'PC2'}, topic_order=[4, 1, 3, 5, 2])"
      ]
     },
     "execution_count": 45,
     "metadata": {},
     "output_type": "execute_result"
    }
   ],
   "source": [
    "# Visualize the topics\n",
    "pyLDAvis.enable_notebook()\n",
    "LDAvis_data_filepath = os.path.join(os.getcwd()+'\\\\visualization\\\\'+ 'unigram_' + 'ldavis_prepared_'+str(num_topics))\n",
    "# # this is a bit time consuming - make the if statement True\n",
    "# # if you want to execute visualization prep yourself\n",
    "if False:\n",
    "    LDAvis_prepared = pyLDAvis.gensim.prepare(unigram_lda_model, unigram_corpus, unigram_id2word)\n",
    "    with open(LDAvis_data_filepath, 'wb') as f:\n",
    "        pickle.dump(LDAvis_prepared, f)\n",
    "# load the pre-prepared pyLDAvis data from disk\n",
    "with open(LDAvis_data_filepath, 'rb') as f:\n",
    "    LDAvis_prepared = pickle.load(f)\n",
    "pyLDAvis.save_html(LDAvis_prepared, os.getcwd()+ '\\\\visualization\\\\' + 'unigram_' + 'ldavis_prepared_'+ str(num_topics) +'.html')\n",
    "LDAvis_prepared"
   ]
  },
  {
   "cell_type": "markdown",
   "metadata": {},
   "source": [
    "### Notes on the pyLDAvis bubbles\n",
    "\n",
    "* Each bubble represents a topic. The larger the bubble, the higher percentage of the number of tweets in the corpus is about that topic.\n",
    "\n",
    "* Blue bars represent the overall frequency of each word in the corpus. If no topic is selected, the blue bars of the most frequently used words will be displayed.\n",
    "\n",
    "* Red bars give the estimated number of times a given term was generated by a given topic. As you can see from the image below, there are about 22,000 of the word ‘go’, and this term is used about 10,000 times within topic 1. The word with the longest red bar is the word that is used the most by the tweets belonging to that topic.\n",
    "\n",
    "* The further the bubbles are away from each other, the more different they are. For example, it is difficult to tell the difference between topics 1 and 2. They seem to be both about social life, but it is much easier to tell the difference between topics 1 and 3. We can tell that topic 3 is about politics.\n",
    "\n",
    "A good topic model will have big and non-overlapping bubbles scattered throughout the chart. As we can see from the graph, the bubbles are clustered within one place. Can we do better than this?"
   ]
  },
  {
   "cell_type": "markdown",
   "metadata": {},
   "source": [
    "## Unigram Compute coherence score"
   ]
  },
  {
   "cell_type": "code",
   "execution_count": 68,
   "metadata": {
    "ExecuteTime": {
     "end_time": "2021-01-22T12:17:36.771818Z",
     "start_time": "2021-01-22T12:17:16.380125Z"
    }
   },
   "outputs": [
    {
     "name": "stdout",
     "output_type": "stream",
     "text": [
      "\n",
      "Coherence Score:  0.6113313489246891\n"
     ]
    }
   ],
   "source": [
    "# Compute Coherence Score\n",
    "coherence_model_lda = CoherenceModel(model=unigram_lda_model, texts=data, dictionary=unigram_id2word, coherence='c_v')\n",
    "unigram_coherence_lda = coherence_model_lda.get_coherence()\n",
    "\n",
    "# Appending the unigram coherence score\n",
    "coherence_scores.append(unigram_coherence_lda)\n",
    "\n",
    "print('\\nCoherence Score: ', unigram_coherence_lda)"
   ]
  },
  {
   "cell_type": "markdown",
   "metadata": {},
   "source": [
    "## LDA on AMD comments using bigrams"
   ]
  },
  {
   "cell_type": "code",
   "execution_count": 47,
   "metadata": {
    "ExecuteTime": {
     "end_time": "2021-01-22T08:44:07.460005Z",
     "start_time": "2021-01-22T08:44:07.092671Z"
    }
   },
   "outputs": [],
   "source": [
    "# Create Dictionary\n",
    "bigram_id2word = corpora.Dictionary(data_bigrams)\n",
    "\n",
    "# Term Document Frequency\n",
    "bigram_corpus = [bigram_id2word.doc2bow(text) for text in data_bigrams]\n",
    "\n",
    "# (token, token_id)\n",
    "# print(id2word.token2id)"
   ]
  },
  {
   "cell_type": "code",
   "execution_count": 48,
   "metadata": {
    "ExecuteTime": {
     "end_time": "2021-01-22T08:44:07.986692Z",
     "start_time": "2021-01-22T08:44:07.971598Z"
    }
   },
   "outputs": [
    {
     "name": "stdout",
     "output_type": "stream",
     "text": [
      "[(0, 1), (1, 1), (2, 1)]\n"
     ]
    }
   ],
   "source": [
    "# View\n",
    "# (token_id, token_frequency)\n",
    "print(bigram_corpus[:1][0][:30])"
   ]
  },
  {
   "cell_type": "markdown",
   "metadata": {},
   "source": [
    "## Bigrams LDA Model Training on AMD comments"
   ]
  },
  {
   "cell_type": "code",
   "execution_count": 49,
   "metadata": {
    "ExecuteTime": {
     "end_time": "2021-01-22T08:44:27.282313Z",
     "start_time": "2021-01-22T08:44:08.499159Z"
    }
   },
   "outputs": [
    {
     "name": "stdout",
     "output_type": "stream",
     "text": [
      "[(0,\n",
      "  '0.021*\"performance\" + 0.021*\"3070\" + 0.020*\"3080\" + 0.020*\"price\" + '\n",
      "  '0.019*\"6800\" + 0.018*\"card\" + 0.012*\"3090\" + 0.011*\"6800xt\" + '\n",
      "  '0.011*\"better\" + 0.010*\"vram\"'),\n",
      " (1,\n",
      "  '0.041*\"dl\" + 0.040*\"game\" + 0.021*\"ray_tracing\" + 0.014*\"rt\" + '\n",
      "  '0.012*\"support\" + 0.011*\"performance\" + 0.010*\"nvidia\" + 0.008*\"rtx\" + '\n",
      "  '0.008*\"feature\" + 0.007*\"use\"'),\n",
      " (2,\n",
      "  '0.041*\"amd\" + 0.025*\"nvidia\" + 0.018*\"gpu\" + 0.015*\"cpu\" + 0.014*\"card\" + '\n",
      "  '0.010*\"driver\" + 0.009*\"new\" + 0.008*\"year\" + 0.008*\"issue\" + '\n",
      "  '0.008*\"console\"'),\n",
      " (3,\n",
      "  '0.017*\"nvidia\" + 0.016*\"amd\" + 0.012*\"card\" + 0.006*\"video\" + 0.006*\"thing\" '\n",
      "  '+ 0.006*\"power\" + 0.006*\"know\" + 0.006*\"psu\" + 0.005*\"need\" + 0.005*\"look\"'),\n",
      " (4,\n",
      "  '0.015*\"card\" + 0.013*\"stock\" + 0.010*\"time\" + 0.010*\"order\" + 0.008*\"day\" + '\n",
      "  '0.008*\"lol\" + 0.008*\"amd\" + 0.007*\"launch\" + 0.007*\"people\" + 0.007*\"yeah\"')]\n"
     ]
    }
   ],
   "source": [
    "# number of topics\n",
    "num_topics = 5\n",
    "\n",
    "# Build LDA model\n",
    "bigram_lda_model = LdaMulticore(corpus=bigram_corpus, \n",
    "                         id2word=bigram_id2word, \n",
    "                         num_topics=num_topics,\n",
    "                         chunksize=100,\n",
    "                         passes=20, \n",
    "                         random_state=42,\n",
    "                        per_word_topics=True)\n",
    "\n",
    "# Print the Keyword in the 10 topics\n",
    "pprint(bigram_lda_model.print_topics())\n",
    "bigram_doc_lda = bigram_lda_model[bigram_corpus]"
   ]
  },
  {
   "cell_type": "markdown",
   "metadata": {},
   "source": [
    "## Interpreting the topics for the bigrams \n"
   ]
  },
  {
   "cell_type": "markdown",
   "metadata": {},
   "source": [
    "Scored between 1 ~ 5 with regards to their intrepretability, >= 3 will be considered intrepretable.\n",
    "* () is the score\n",
    "\n",
    "Topic 0 (4)\n",
    "* Talks 3070 and 3080 price, performance, vram, better than 6800 and 6800xt.\n",
    "\n",
    "Topic 1 (3)\n",
    "* Talks about dlss and ray_tracing features\n",
    "\n",
    "Topic 2 (2)\n",
    "* Driver issue and something to do with the gaming consoles\n",
    "\n",
    "Topic 3 (2)\n",
    "* Related to power supply unit\n",
    "\n",
    "Topic 4 (3)\n",
    "* Stock related issue during the launch of the GPUs\n",
    "\n",
    "**3 topics were intrepretable.**"
   ]
  },
  {
   "cell_type": "code",
   "execution_count": 61,
   "metadata": {
    "ExecuteTime": {
     "end_time": "2021-01-22T12:13:14.505447Z",
     "start_time": "2021-01-22T12:13:14.492436Z"
    }
   },
   "outputs": [],
   "source": [
    "# Append number of topics intrepretable for Unigram to list\n",
    "no_intrepretable_topics.append(3)"
   ]
  },
  {
   "cell_type": "code",
   "execution_count": 50,
   "metadata": {
    "ExecuteTime": {
     "end_time": "2021-01-22T08:44:32.050648Z",
     "start_time": "2021-01-22T08:44:27.795780Z"
    }
   },
   "outputs": [
    {
     "data": {
      "text/html": [
       "\n",
       "<link rel=\"stylesheet\" type=\"text/css\" href=\"https://cdn.rawgit.com/bmabey/pyLDAvis/files/ldavis.v1.0.0.css\">\n",
       "\n",
       "\n",
       "<div id=\"ldavis_el455624415530955848079601479\"></div>\n",
       "<script type=\"text/javascript\">\n",
       "\n",
       "var ldavis_el455624415530955848079601479_data = {\"mdsDat\": {\"x\": [-0.04268015843174376, -0.04197593198855281, 0.23365098011139554, -0.18372694092218672, 0.034732051231087586], \"y\": [-0.15811006473151973, -0.10201430767777102, 0.08544027231210348, 0.16964579195656593, 0.005038308140621326], \"topics\": [1, 2, 3, 4, 5], \"cluster\": [1, 1, 1, 1, 1], \"Freq\": [34.73539273910592, 25.050570899718196, 14.259596516528235, 13.527755253255544, 12.426684591392103]}, \"tinfo\": {\"Term\": [\"dl\", \"game\", \"3070\", \"3080\", \"ray_tracing\", \"6800\", \"amd\", \"cpu\", \"price\", \"gpu\", \"3090\", \"nvidia\", \"rt\", \"vram\", \"performance\", \"6800xt\", \"stock\", \"support\", \"order\", \"6900xt\", \"4k\", \"driver\", \"issue\", \"benchmark\", \"console\", \"rtx\", \"2080ti\", \"raytracing\", \"day\", \"xt\", \"3070\", \"3090\", \"vram\", \"2080ti\", \"faster\", \"cheaper\", \"16gb\", \"8gb\", \"2080_ti\", \"perf\", \"15\", \"priced\", \"999\", \"650\", \"60\", \"70\", \"600\", \"499\", \"850\", \"6900_xt\", \"usd\", \"percent\", \"60fps\", \"579\", \"3080ti\", \"649\", \"future_proof\", \"gb\", \"150\", \"24gb\", \"3080\", \"6900xt\", \"6800\", \"titan\", \"xt\", \"1440p\", \"double\", \"80\", \"4k\", \"benchmark\", \"50\", \"6800xt\", \"price\", \"difference\", \"ti\", \"compared\", \"performance\", \"worth\", \"500\", \"better\", \"v\", \"extra\", \"card\", \"wait\", \"rtx\", \"gaming\", \"think\", \"want\", \"look\", \"buy\", \"amd\", \"nvidia\", \"probably\", \"good\", \"dl\", \"going\", \"cpu\", \"ryzen\", \"6700\", \"linux\", \"5000_series\", \"processor\", \"ryzen_5000\", \"dedicated\", \"window\", \"mid\", \"x570\", \"mobo\", \"motherboard\", \"5000\", \"combo\", \"undercut\", \"b550\", \"3900x\", \"directx\", \"ill\", \"strategy\", \"entry_level\", \"pcie\", \"workstation\", \"decompression\", \"pcie_4\", \"ssd\", \"quadro\", \"binning\", \"business\", \"catch\", \"intel\", \"gpu\", \"chip\", \"console\", \"zen\", \"pc\", \"issue\", \"user\", \"customer\", \"driver\", \"gpus\", \"amd\", \"access\", \"series\", \"generation\", \"competition\", \"nvidia\", \"new\", \"market\", \"year\", \"problem\", \"upgrade\", \"high_end\", \"going\", \"company\", \"gen\", \"card\", \"work\", \"people\", \"thing\", \"think\", \"time\", \"good\", \"buy\", \"performance\", \"probably\", \"need\", \"know\", \"price\", \"gaming\", \"better\", \"order\", \"cc\", \"confirmation\", \"email\", \"tomorrow\", \"shipping\", \"scalper\", \"newegg\", \"ordered\", \"fuck\", \"canada\", \"date\", \"amazon\", \"multiple\", \"location\", \"store\", \"paypal\", \"tax\", \"buddy\", \"psus\", \"backorder\", \"managed\", \"paper_launch\", \"morning\", \"sounded\", \"error\", \"25th\", \"canada_computer\", \"backorders\", \"deposit\", \"page\", \"told\", \"thanks\", \"week\", \"luck\", \"website\", \"haha\", \"stock\", \"day\", \"bot\", \"lol\", \"terrible_idea\", \"launch\", \"line\", \"bought\", \"time\", \"yeah\", \"card\", \"said\", \"aib\", \"people\", \"know\", \"reference\", \"bad\", \"comment\", \"today\", \"amd\", \"oh\", \"good\", \"getting\", \"think\", \"actually\", \"sure\", \"6800xt\", \"gsync\", \"cyberpunk\", \"dxr\", \"ray\", \"api\", \"lighting\", \"listed\", \"upscaling\", \"super_resolution\", \"implement\", \"aaa\", \"freesync\", \"gimmick\", \"rtx_voice\", \"vrr\", \"fidelityfx\", \"cast\", \"aa\", \"ray_traced\", \"implementation\", \"usb_c\", \"dx12\", \"light\", \"native\", \"reflection\", \"shadow\", \"grand\", \"framerate\", \"premature\", \"cherry_picked\", \"tensor_core\", \"implemented\", \"played\", \"game\", \"dl\", \"ray_tracing\", \"rt\", \"support\", \"title\", \"demanding\", \"0\", \"hdmi\", \"control\", \"play\", \"raytracing\", \"working\", \"monitor\", \"setting\", \"feature\", \"work\", \"use\", \"rtx\", \"resolution\", \"fps\", \"performance\", \"yes\", \"nvidia\", \"rendering\", \"good\", \"software\", \"true\", \"hardware\", \"look\", \"time\", \"better\", \"far\", \"need\", \"6700xt\", \"samsung\", \"watch\", \"overclocking\", \"u\", \"encoder\", \"stream\", \"asus\", \"gold\", \"supersampling\", \"research\", \"youtube\", \"function\", \"nah\", \"binned\", \"chat\", \"insult\", \"outraged\", \"draw\", \"smooth\", \"tsmc_7nm\", \"picture\", \"silicon\", \"psu\", \"290x\", \"hw\", \"jensen\", \"r9\", \"strix\", \"8nm\", \"upsampling\", \"encoding\", \"yield\", \"tsmc\", \"dude\", \"reply\", \"mate\", \"node\", \"partner\", \"nvenc\", \"video\", \"stated\", \"7nm\", \"power\", \"rage_mode\", \"post\", \"read\", \"streaming\", \"nvidia\", \"efficiency\", \"amd\", \"thing\", \"card\", \"know\", \"trying\", \"need\", \"product\", \"look\", \"lol\", \"said\", \"point\", \"right\", \"comment\", \"think\", \"mean\", \"use\", \"good\", \"people\", \"way\", \"driver\", \"bad\", \"better\"], \"Freq\": [1448.0, 1382.0, 1404.0, 1387.0, 726.0, 1312.0, 3245.0, 733.0, 1553.0, 1014.0, 844.0, 2332.0, 519.0, 676.0, 2048.0, 888.0, 503.0, 462.0, 268.0, 533.0, 607.0, 650.0, 469.0, 543.0, 455.0, 711.0, 344.0, 299.0, 317.0, 403.0, 1403.6210566685197, 844.1267835176313, 675.0951418313889, 343.40546813032665, 326.90526485005836, 280.58077781758254, 212.83425239340835, 206.73696698883302, 143.72784949518078, 108.62873314592986, 192.72190968490537, 150.27023519924322, 92.98190516431201, 92.01239644648409, 90.53721637760515, 88.09551064595244, 78.62922458158866, 69.7098662318101, 70.0410882067893, 102.17520608446218, 62.582390281262654, 58.60136484076012, 58.50297149965008, 54.55158670698013, 54.792687977610896, 54.949239023357755, 48.51653400267263, 48.26165291671873, 48.660393217366774, 46.128076199367335, 1359.480577391559, 517.9907512409026, 1257.7783081786808, 103.9406840945269, 390.53242071021026, 309.85931283452334, 128.6671008366574, 199.00863886695208, 567.1152587664969, 502.819645370601, 327.1759078608608, 781.4457862547109, 1326.9125159985538, 309.48298896615233, 133.86482502122652, 186.057622266879, 1428.3544918982711, 226.982478972035, 342.26810915556524, 730.710175796258, 257.80849951431344, 213.9504055656627, 1221.1948173043893, 345.5909634570623, 404.1424946619309, 313.7237063612372, 480.9859612066543, 368.45888942477353, 328.79634767691283, 341.6873550209362, 554.4514700138138, 458.9331293165005, 309.90004696560777, 319.44784876781756, 323.33946168282404, 310.13514651937226, 732.0941547368514, 189.0524392695367, 114.10048214132853, 104.05126831826907, 108.88978248181392, 67.25661598575559, 64.68613821704933, 63.67661173684317, 77.72747873551468, 65.08690156962905, 53.54097386459078, 46.82579956331511, 44.4905213207601, 39.56040451279995, 32.88851071341294, 33.413160900458074, 31.511874616521112, 31.560490640760083, 30.856364324088567, 30.24478506782055, 28.62248097873294, 28.002604557227123, 27.217127217426224, 27.431207205375884, 26.61773121272816, 26.25481297696901, 29.71543277337793, 25.25751539986094, 24.442059272180536, 24.37935975151316, 36.60537539044148, 257.00851655643294, 863.975439157028, 145.71948377504995, 389.77735798653174, 149.00131506797496, 332.6351576188887, 398.3348738892658, 101.6057844335854, 56.16147429524654, 509.43366534004497, 261.19711273974127, 1999.238188536236, 70.45325582074719, 240.93125811420205, 173.20080209221112, 150.77648615222964, 1203.2017187559375, 451.6646694911637, 188.46290684813545, 398.65767584467983, 164.39288755767873, 168.18779637526765, 126.64742802301754, 351.78485520738985, 139.1988819931095, 181.71105725044757, 669.7033525284629, 229.78466144504839, 351.0447298075665, 263.6929730857175, 350.9697928241396, 280.88988090688844, 278.6096099025107, 228.06309666770153, 301.58995004224533, 212.70758888522124, 216.8526563364567, 210.40679751894865, 224.17776358576717, 191.861001170328, 206.25606927822494, 266.96244098008276, 153.1573670108889, 74.135286459055, 73.56604943056111, 77.38473394810454, 68.7220678144462, 64.16101235291647, 64.78673716359447, 60.60411411149623, 116.23232700882917, 59.817371511119184, 65.91044448925335, 55.51005306037323, 55.80710928123219, 51.331090832341786, 99.21006030090167, 50.030874616740256, 108.53032347748588, 41.54924549081436, 44.999200244434284, 37.47448194460592, 37.76965090833727, 40.19175215829204, 36.10057174887724, 34.68212748220296, 31.077281215893713, 29.627019937920206, 30.09105456264198, 32.06928008242556, 27.208668840037408, 67.76035926239778, 69.23248478774802, 166.4795573024041, 137.28048672340444, 93.62999643236506, 67.55795174753543, 66.0493349199968, 350.2068906738829, 231.59525540201636, 48.33419147953436, 215.36520791325617, 53.48539321935205, 207.58308203370393, 107.84206906318256, 125.01495253271518, 276.76484800425686, 188.73275505513544, 415.2476571944599, 170.49920059698044, 96.66554395264957, 201.5834883767713, 178.02099543482115, 90.43293738213468, 125.75956479755871, 95.4217538017013, 90.49326464439594, 211.95024050304653, 89.76416621783369, 139.79410532673788, 111.8744326656964, 124.171254396236, 107.23955654068673, 101.9404113828371, 106.08829071335734, 67.27527267771107, 63.37745613587094, 59.564309085193266, 56.52841046001271, 50.7764750470253, 47.60348001071043, 43.641572768724835, 44.74036557425744, 104.6981585238066, 40.07398758084606, 37.28227335221932, 74.48295879324279, 32.63071159528738, 31.399592664408775, 27.11336453883779, 26.40630834182002, 24.555354253298443, 24.495038488612074, 23.79126417425874, 99.2986880642396, 22.98415986125517, 42.781633226403834, 21.608128091656955, 55.43203977633386, 21.170694733817335, 20.845967081676346, 21.340754805854427, 20.361504191176373, 19.756620859531377, 19.727016120792197, 54.45816805948752, 59.73050485595224, 27.661038338402754, 1061.7291394632095, 1096.5399487032516, 545.9277270506084, 372.4969981934031, 317.49678638094963, 121.6727582644962, 44.14758977030123, 177.9387845166723, 44.44547994251305, 68.89386022885076, 167.80799176589773, 175.85669652275547, 115.21142465371639, 165.81185520040947, 81.09167821066539, 208.38743241918627, 175.35573023074434, 194.23988646618045, 220.00422466145739, 93.5484968255133, 122.55206861848728, 299.42115044451174, 126.77320453042366, 255.6424997541324, 70.46128738938485, 149.16455623113296, 86.67426231500802, 90.75106934762847, 96.90727723643485, 114.23718931043399, 118.69397980557663, 123.42234378001628, 89.6049989422482, 92.75847833263457, 72.34693322374395, 58.03573961303216, 51.52443783362295, 48.68724680422718, 56.607298716641246, 43.51798547841569, 42.49185778989627, 39.20231704693434, 33.5757918089888, 33.23678570755288, 27.48016442249741, 26.79107545753103, 26.963689512987525, 26.413970163396286, 24.610535719490237, 24.66257923370139, 24.321835045905633, 24.28916808077119, 30.53477476940756, 24.47564436571325, 21.71750937347451, 21.55505774477994, 27.91327346344496, 140.52770175054818, 19.958973606691284, 20.456874487455096, 19.983291246551545, 19.59155375633535, 19.588094568172934, 20.181130200302064, 21.38232904356192, 34.728913032158246, 28.49781115542386, 47.03246969775919, 85.11353987398628, 44.82628327825236, 32.530044126071914, 59.27226067387846, 60.18782455613956, 59.02009095220547, 155.60958097007384, 48.73954225603772, 47.5346351177756, 149.9339873461976, 98.64436101672558, 50.64543038010935, 79.17499699609458, 41.3237561872215, 411.22045320567094, 51.7695589640321, 390.5246569512074, 154.99781986356305, 290.07963846568816, 149.48334174987673, 66.64886336909062, 124.44867049719252, 81.10444836260808, 111.39784992724236, 90.42185377010402, 97.07469352669885, 90.57959501491786, 91.546774966699, 67.98980548798538, 110.64887624412874, 87.0290242729111, 79.4559215732126, 82.36555173933198, 82.72463924897099, 72.3995796897379, 72.66501435063273, 68.28533112282987, 68.04433723983546], \"Total\": [1448.0, 1382.0, 1404.0, 1387.0, 726.0, 1312.0, 3245.0, 733.0, 1553.0, 1014.0, 844.0, 2332.0, 519.0, 676.0, 2048.0, 888.0, 503.0, 462.0, 268.0, 533.0, 607.0, 650.0, 469.0, 543.0, 455.0, 711.0, 344.0, 299.0, 317.0, 403.0, 1404.3416429297602, 844.8630915790453, 676.0375098135536, 344.12644108299645, 327.62471106769925, 281.35407334074, 213.55177959908335, 207.4519368838638, 144.44203279499882, 109.35287479732075, 194.10282090748552, 151.35286997696835, 93.70019238914858, 92.72887843636128, 91.25942704600338, 88.81032265053845, 79.34468150980653, 70.42511605986039, 70.79228457546006, 103.27977858875117, 63.298538288666386, 59.31884595201817, 59.22947425607942, 55.262674654673205, 55.507399786374855, 55.66670251002948, 49.23428637108335, 48.982585112701564, 49.40907800154057, 46.839278390789836, 1387.0738645700549, 533.044570684705, 1312.252098731738, 105.88188241518213, 403.39595606539234, 320.7617878872601, 131.49041611536094, 205.6500304543722, 607.3220872731073, 543.5638257781145, 349.06796346943605, 888.2034375606648, 1553.3546250871257, 338.6634768935266, 139.47456512985298, 202.4921976186297, 2048.437226573877, 259.012077608297, 430.36727800913206, 1128.6173413501856, 324.69701634202437, 256.0523303909025, 2636.8884292897037, 541.5519855501908, 711.3707579256072, 508.4103025693626, 1146.9273789971726, 689.5348299484403, 644.8715155166715, 723.0123284305126, 3245.7253219477116, 2332.979168900744, 639.933948665376, 969.381671967531, 1448.5604225105462, 836.4116634936895, 733.0942430214344, 189.88767399664468, 114.81115283479787, 104.79269258310053, 109.68610540037331, 67.96088109234661, 65.38998597678922, 64.39945701693311, 78.640189143824, 65.86350321134407, 54.24246419871526, 47.52832853292325, 45.194587853413196, 40.281058344313585, 33.59156831560445, 34.15440754566656, 32.21271786241309, 32.2704306828474, 31.584312941291305, 30.976585371294185, 29.330226856345693, 28.708607751181283, 27.91911926717369, 28.13962240848656, 27.326326953116705, 26.954329869429547, 30.517554819073357, 25.965466551027887, 25.153520198936217, 25.092155756610204, 37.76643456341104, 280.82282495394145, 1014.3576018372306, 159.00854657383036, 455.6630965497103, 165.60837751467113, 387.45486016121265, 469.4066472815124, 113.74040093187463, 60.44362073361645, 650.6454795380395, 337.4521441106797, 3245.7253219477116, 79.73705814295005, 323.1892172794734, 226.51418816443683, 196.88899066435644, 2332.979168900744, 727.6943410538598, 262.47907232511903, 713.3185628122566, 234.40478781971254, 244.59273843862871, 177.4662338555131, 836.4116634936895, 207.12645440972514, 317.2219201817625, 2636.8884292897037, 469.45991254250123, 1004.2268041661292, 636.7024712332143, 1146.9273789971726, 802.7630384057588, 969.381671967531, 723.0123284305126, 2048.437226573877, 639.933948665376, 702.9766770863474, 813.904059172251, 1553.3546250871257, 508.4103025693626, 1128.6173413501856, 268.20627229600996, 153.8809157314621, 74.84132451355397, 74.27239878049171, 78.14513377604945, 69.4319947927834, 64.87245463906712, 65.50734260911793, 61.31162559863852, 117.60319903235647, 60.52674668710556, 66.72151275069298, 56.223993884174405, 56.5554607839234, 52.03804654976067, 100.59943294388145, 50.73663667438335, 110.16687054241609, 42.26389252027037, 45.79546317341203, 38.18495982265151, 38.48593849961683, 40.96534116797618, 36.8086981686657, 35.3959191879154, 31.79017304877108, 30.334492244783785, 30.854917693150636, 32.88704805378246, 27.914658025267222, 69.60757160311712, 71.50434824901608, 182.42116671864184, 152.08219865793754, 102.96519973579403, 74.61726197671103, 73.05916379283819, 503.47895712838033, 317.4883282626387, 51.9998199275226, 410.41652484163217, 59.818980947040764, 400.74257295132975, 164.5210849889171, 211.560043664209, 802.7630384057588, 573.3579783206976, 2636.8884292897037, 563.1359973366286, 171.3684817161808, 1004.2268041661292, 813.904059172251, 153.61854349933134, 363.92089458444076, 196.65162314037116, 173.73346112606478, 3245.7253219477116, 173.39610793335456, 969.381671967531, 411.8425368654419, 1146.9273789971726, 496.65651353062674, 541.2696040846505, 888.2034375606648, 67.99755986732099, 64.12343464534105, 60.339426402065264, 57.26679023140697, 51.4954399597789, 48.32057826369326, 44.38332151484672, 45.50899539365949, 106.59285626697174, 40.81624794667953, 38.001153366006854, 76.17725909361393, 33.37416999761233, 32.12302114287362, 27.833151224788896, 27.14396139964708, 25.27141638991134, 25.213470252621388, 24.509835084106353, 102.38917706744384, 23.703541522804155, 44.12103094432037, 22.33137205144334, 57.28785394882551, 21.88639920917627, 21.56206912217649, 22.097216428360056, 21.08588454273875, 20.47239164432131, 20.456136112849233, 56.926188578467546, 63.41802991493781, 29.07851402096338, 1382.8352982563517, 1448.5604225105462, 726.1513154609304, 519.1469501393026, 462.6196953238155, 158.6705852754079, 49.95155276532354, 257.8417978081398, 51.144609053319286, 89.72700421028578, 281.4872206011127, 299.3551292831872, 177.77841313152007, 317.07006846299015, 126.45137004840922, 555.0246286900775, 469.45991254250123, 557.3834664955364, 711.3707579256072, 165.0411332119166, 284.9507264402644, 2048.437226573877, 374.1319158260911, 2332.979168900744, 103.40275192563288, 969.381671967531, 202.4740435790646, 239.05608133713503, 304.9613727855997, 644.8715155166715, 802.7630384057588, 1128.6173413501856, 271.64260057246247, 702.9766770863474, 73.08153317049701, 58.75391236266102, 52.26843054767197, 49.41240640357185, 57.4871338296745, 44.235736609457746, 43.23935853775246, 39.92740943715869, 34.29302594458109, 33.990033901214886, 28.20132010073861, 27.508725736758443, 27.696788466971306, 27.17193021469656, 25.328525068940348, 25.38668321989139, 25.038310865494655, 25.00539861804186, 31.482381312617367, 25.244276283011654, 22.437851121619666, 22.29406638657952, 28.876589444121525, 145.47955108912888, 20.67935597977499, 21.202495608306847, 20.713107292929134, 20.310502182597553, 20.31276873983496, 20.971822890922088, 22.22688770620921, 36.67977119716278, 30.395026241781135, 52.407317141666816, 102.02195752908389, 50.563232246782235, 35.7687297395883, 70.7616564221121, 72.04170663327014, 71.15768526076567, 224.5004202452574, 57.78230917759947, 57.12160038319467, 336.46613287418506, 192.70873647795662, 71.99278859587393, 143.55152860845863, 53.45579026014593, 2332.979168900744, 85.97201950168034, 3245.7253219477116, 636.7024712332143, 2636.8884292897037, 813.904059172251, 160.27256525952947, 702.9766770863474, 262.61530712989475, 644.8715155166715, 410.41652484163217, 563.1359973366286, 507.30115321522504, 545.4104442963512, 196.65162314037116, 1146.9273789971726, 507.121373620134, 557.3834664955364, 969.381671967531, 1004.2268041661292, 497.0134289663105, 650.6454795380395, 363.92089458444076, 1128.6173413501856], \"Category\": [\"Default\", \"Default\", \"Default\", \"Default\", \"Default\", \"Default\", \"Default\", \"Default\", \"Default\", \"Default\", \"Default\", \"Default\", \"Default\", \"Default\", \"Default\", \"Default\", \"Default\", \"Default\", \"Default\", \"Default\", \"Default\", \"Default\", \"Default\", \"Default\", \"Default\", \"Default\", \"Default\", \"Default\", \"Default\", \"Default\", \"Topic1\", \"Topic1\", \"Topic1\", \"Topic1\", \"Topic1\", \"Topic1\", \"Topic1\", \"Topic1\", \"Topic1\", \"Topic1\", \"Topic1\", \"Topic1\", \"Topic1\", \"Topic1\", \"Topic1\", \"Topic1\", \"Topic1\", \"Topic1\", \"Topic1\", \"Topic1\", \"Topic1\", \"Topic1\", \"Topic1\", \"Topic1\", \"Topic1\", \"Topic1\", \"Topic1\", \"Topic1\", \"Topic1\", \"Topic1\", \"Topic1\", \"Topic1\", \"Topic1\", \"Topic1\", \"Topic1\", \"Topic1\", \"Topic1\", \"Topic1\", \"Topic1\", \"Topic1\", \"Topic1\", \"Topic1\", \"Topic1\", \"Topic1\", \"Topic1\", \"Topic1\", \"Topic1\", \"Topic1\", \"Topic1\", \"Topic1\", \"Topic1\", \"Topic1\", \"Topic1\", \"Topic1\", \"Topic1\", \"Topic1\", \"Topic1\", \"Topic1\", \"Topic1\", \"Topic1\", \"Topic1\", \"Topic1\", \"Topic1\", \"Topic1\", \"Topic1\", \"Topic1\", \"Topic2\", \"Topic2\", \"Topic2\", \"Topic2\", \"Topic2\", \"Topic2\", \"Topic2\", \"Topic2\", \"Topic2\", \"Topic2\", \"Topic2\", \"Topic2\", \"Topic2\", \"Topic2\", \"Topic2\", \"Topic2\", \"Topic2\", \"Topic2\", \"Topic2\", \"Topic2\", \"Topic2\", \"Topic2\", \"Topic2\", \"Topic2\", \"Topic2\", \"Topic2\", \"Topic2\", \"Topic2\", \"Topic2\", \"Topic2\", \"Topic2\", \"Topic2\", \"Topic2\", \"Topic2\", \"Topic2\", \"Topic2\", \"Topic2\", \"Topic2\", \"Topic2\", \"Topic2\", \"Topic2\", \"Topic2\", \"Topic2\", \"Topic2\", \"Topic2\", \"Topic2\", \"Topic2\", \"Topic2\", \"Topic2\", \"Topic2\", \"Topic2\", \"Topic2\", \"Topic2\", \"Topic2\", \"Topic2\", \"Topic2\", \"Topic2\", \"Topic2\", \"Topic2\", \"Topic2\", \"Topic2\", \"Topic2\", \"Topic2\", \"Topic2\", \"Topic2\", \"Topic2\", \"Topic2\", \"Topic2\", \"Topic2\", \"Topic2\", \"Topic2\", \"Topic2\", \"Topic3\", \"Topic3\", \"Topic3\", \"Topic3\", \"Topic3\", \"Topic3\", \"Topic3\", \"Topic3\", \"Topic3\", \"Topic3\", \"Topic3\", \"Topic3\", \"Topic3\", \"Topic3\", \"Topic3\", \"Topic3\", \"Topic3\", \"Topic3\", \"Topic3\", \"Topic3\", \"Topic3\", \"Topic3\", \"Topic3\", \"Topic3\", \"Topic3\", \"Topic3\", \"Topic3\", \"Topic3\", \"Topic3\", \"Topic3\", \"Topic3\", \"Topic3\", \"Topic3\", \"Topic3\", \"Topic3\", \"Topic3\", \"Topic3\", \"Topic3\", \"Topic3\", \"Topic3\", \"Topic3\", \"Topic3\", \"Topic3\", \"Topic3\", \"Topic3\", \"Topic3\", \"Topic3\", \"Topic3\", \"Topic3\", \"Topic3\", \"Topic3\", \"Topic3\", \"Topic3\", \"Topic3\", \"Topic3\", \"Topic3\", \"Topic3\", \"Topic3\", \"Topic3\", \"Topic3\", \"Topic3\", \"Topic3\", \"Topic3\", \"Topic3\", \"Topic4\", \"Topic4\", \"Topic4\", \"Topic4\", \"Topic4\", \"Topic4\", \"Topic4\", \"Topic4\", \"Topic4\", \"Topic4\", \"Topic4\", \"Topic4\", \"Topic4\", \"Topic4\", \"Topic4\", \"Topic4\", \"Topic4\", \"Topic4\", \"Topic4\", \"Topic4\", \"Topic4\", \"Topic4\", \"Topic4\", \"Topic4\", \"Topic4\", \"Topic4\", \"Topic4\", \"Topic4\", \"Topic4\", \"Topic4\", \"Topic4\", \"Topic4\", \"Topic4\", \"Topic4\", \"Topic4\", \"Topic4\", \"Topic4\", \"Topic4\", \"Topic4\", \"Topic4\", \"Topic4\", \"Topic4\", \"Topic4\", \"Topic4\", \"Topic4\", \"Topic4\", \"Topic4\", \"Topic4\", \"Topic4\", \"Topic4\", \"Topic4\", \"Topic4\", \"Topic4\", \"Topic4\", \"Topic4\", \"Topic4\", \"Topic4\", \"Topic4\", \"Topic4\", \"Topic4\", \"Topic4\", \"Topic4\", \"Topic4\", \"Topic4\", \"Topic4\", \"Topic4\", \"Topic4\", \"Topic5\", \"Topic5\", \"Topic5\", \"Topic5\", \"Topic5\", \"Topic5\", \"Topic5\", \"Topic5\", \"Topic5\", \"Topic5\", \"Topic5\", \"Topic5\", \"Topic5\", \"Topic5\", \"Topic5\", \"Topic5\", \"Topic5\", \"Topic5\", \"Topic5\", \"Topic5\", \"Topic5\", \"Topic5\", \"Topic5\", \"Topic5\", \"Topic5\", \"Topic5\", \"Topic5\", \"Topic5\", \"Topic5\", \"Topic5\", \"Topic5\", \"Topic5\", \"Topic5\", \"Topic5\", \"Topic5\", \"Topic5\", \"Topic5\", \"Topic5\", \"Topic5\", \"Topic5\", \"Topic5\", \"Topic5\", \"Topic5\", \"Topic5\", \"Topic5\", \"Topic5\", \"Topic5\", \"Topic5\", \"Topic5\", \"Topic5\", \"Topic5\", \"Topic5\", \"Topic5\", \"Topic5\", \"Topic5\", \"Topic5\", \"Topic5\", \"Topic5\", \"Topic5\", \"Topic5\", \"Topic5\", \"Topic5\", \"Topic5\", \"Topic5\", \"Topic5\", \"Topic5\", \"Topic5\", \"Topic5\", \"Topic5\", \"Topic5\", \"Topic5\", \"Topic5\"], \"logprob\": [30.0, 29.0, 28.0, 27.0, 26.0, 25.0, 24.0, 23.0, 22.0, 21.0, 20.0, 19.0, 18.0, 17.0, 16.0, 15.0, 14.0, 13.0, 12.0, 11.0, 10.0, 9.0, 8.0, 7.0, 6.0, 5.0, 4.0, 3.0, 2.0, 1.0, -3.880000114440918, -4.388500213623047, -4.611999988555908, -5.287899971008301, -5.337100028991699, -5.4899001121521, -5.766300201416016, -5.795400142669678, -6.158899784088135, -6.438899993896484, -5.865600109100342, -6.1143999099731445, -6.594399929046631, -6.604899883270264, -6.620999813079834, -6.648399829864502, -6.7621002197265625, -6.882500171661377, -6.877699851989746, -6.500100135803223, -6.990300178527832, -7.056000232696533, -7.057700157165527, -7.127699851989746, -7.123199939727783, -7.1203999519348145, -7.244900226593018, -7.250199794769287, -7.2418999671936035, -7.295400142669678, -3.911900043487549, -4.876800060272217, -3.9897000789642334, -6.482999801635742, -5.159299850463867, -5.390699863433838, -6.269599914550781, -5.833499908447266, -4.786200046539307, -4.906599998474121, -5.336299896240234, -4.465700149536133, -3.936199903488159, -5.391900062561035, -6.230000019073486, -5.900700092315674, -3.862499952316284, -5.701900005340576, -5.291200160980225, -4.532800197601318, -5.5746002197265625, -5.761099815368652, -4.019199848175049, -5.281499862670898, -5.125, -5.378300189971924, -4.951000213623047, -5.21750020980835, -5.331399917602539, -5.292900085449219, -4.808800220489502, -4.997900009155273, -5.390600204467773, -5.360199928283691, -5.348100185394287, -5.389800071716309, -4.203999996185303, -5.5578999519348145, -6.062900066375732, -6.155099868774414, -6.109600067138672, -6.591400146484375, -6.63040018081665, -6.646100044250488, -6.446700096130371, -6.624199867248535, -6.819499969482422, -6.953499794006348, -7.004700183868408, -7.122099876403809, -7.30679988861084, -7.290999889373779, -7.349599838256836, -7.3480000495910645, -7.37060022354126, -7.390600204467773, -7.445700168609619, -7.467599868774414, -7.496099948883057, -7.48829984664917, -7.518400192260742, -7.532100200653076, -7.408299922943115, -7.570799827575684, -7.603600025177002, -7.606200218200684, -7.199699878692627, -5.250800132751465, -4.038400173187256, -5.818299770355225, -4.834400177001953, -5.796000003814697, -4.9928998947143555, -4.812600135803223, -6.178800106048584, -6.771699905395508, -4.5665998458862305, -5.2347002029418945, -3.199399948120117, -6.545000076293945, -5.315400123596191, -5.645500183105469, -5.78410005569458, -3.707200050354004, -4.686999797821045, -5.560999870300293, -4.811800003051758, -5.697700023651123, -5.674900054931641, -5.958499908447266, -4.9369001388549805, -5.863999843597412, -5.597499847412109, -4.293099880218506, -5.362800121307373, -4.939000129699707, -5.225200176239014, -4.939199924468994, -5.1620001792907715, -5.170100212097168, -5.370299816131592, -5.09089994430542, -5.440000057220459, -5.4207000732421875, -5.450900077819824, -5.387499809265137, -5.5432000160217285, -5.470799922943115, -4.649400234222412, -5.204999923706055, -5.930600166320801, -5.938300132751465, -5.887700080871582, -6.006400108337402, -6.075099945068359, -6.065400123596191, -6.1321001052856445, -5.480899810791016, -6.145199775695801, -6.0482001304626465, -6.219900131225586, -6.214600086212158, -6.2982001304626465, -5.639200210571289, -6.323800086975098, -5.5493998527526855, -6.5096001625061035, -6.429800033569336, -6.612800121307373, -6.605000019073486, -6.542799949645996, -6.650199890136719, -6.690299987792969, -6.800000190734863, -6.847799777984619, -6.832200050354004, -6.768599987030029, -6.9328999519348145, -6.020500183105469, -5.999000072479248, -5.121600151062012, -5.3144001960754395, -5.6971001625061035, -6.023499965667725, -6.04610013961792, -4.377999782562256, -4.791500091552734, -6.35830020904541, -4.864099979400635, -6.2571001052856445, -4.900899887084961, -5.555799961090088, -5.4079999923706055, -4.61329984664917, -4.996099948883057, -4.207600116729736, -5.097700119018555, -5.665200233459473, -4.930300235748291, -5.054599761962891, -5.731900215148926, -5.402100086212158, -5.678199768066406, -5.731200218200684, -4.880099773406982, -5.739299774169922, -5.296299934387207, -5.519100189208984, -5.41480016708374, -5.561399936676025, -5.612100124359131, -5.572199821472168, -5.974999904632568, -6.0346999168396, -6.096700191497803, -6.14900016784668, -6.256400108337402, -6.320899963378906, -6.407800197601318, -6.382900238037109, -5.532700061798096, -6.493100166320801, -6.565299987792969, -5.873199939727783, -6.698500156402588, -6.736999988555908, -6.883800029754639, -6.910200119018555, -6.982900142669678, -6.985300064086914, -7.014500141143799, -5.585700035095215, -7.048999786376953, -6.427700042724609, -7.1107001304626465, -6.168600082397461, -7.131199836730957, -7.146599769592285, -7.123199939727783, -7.170100212097168, -7.200300216674805, -7.2017998695373535, -6.186399936676025, -6.093900203704834, -6.863800048828125, -3.216099977493286, -3.1839001178741455, -3.8812999725341797, -4.263599872589111, -4.423299789428711, -5.382500171661377, -6.396299839019775, -5.002299785614014, -6.389500141143799, -5.951200008392334, -5.060999870300293, -5.014100074768066, -5.436999797821045, -5.07289981842041, -5.7881999015808105, -4.844399929046631, -5.017000198364258, -4.914700031280518, -4.79010009765625, -5.645299911499023, -5.37529993057251, -4.481900215148926, -5.341400146484375, -4.639999866485596, -5.928699970245361, -5.178699970245361, -5.72160005569458, -5.6757001876831055, -5.610000133514404, -5.445499897003174, -5.407199859619141, -5.368199825286865, -5.688399791717529, -5.653800010681152, -5.817399978637695, -6.037799835205078, -6.156799793243408, -6.213500022888184, -6.06279993057251, -6.325699806213379, -6.349599838256836, -6.430200099945068, -6.585100173950195, -6.595200061798096, -6.785399913787842, -6.810800075531006, -6.8043999671936035, -6.824999809265137, -6.895699977874756, -6.893599987030029, -6.90749979019165, -6.908899784088135, -6.679999828338623, -6.901199817657471, -7.0208001136779785, -7.028299808502197, -6.769800186157227, -5.153500080108643, -7.105199813842773, -7.080599784851074, -7.104000091552734, -7.123799800872803, -7.124000072479248, -7.094099998474121, -7.036300182342529, -6.551300048828125, -6.749100208282471, -6.2480998039245605, -5.654900074005127, -6.29610013961792, -6.616700172424316, -6.0167999267578125, -6.001399993896484, -6.020999908447266, -5.051499843597412, -6.212399959564209, -6.237400054931641, -5.088699817657471, -5.507400035858154, -6.173999786376953, -5.727200031280518, -6.377500057220459, -4.079800128936768, -6.152100086212158, -4.131400108337402, -5.055500030517578, -4.428699970245361, -5.091700077056885, -5.899499893188477, -5.275000095367432, -5.703199863433838, -5.385799884796143, -5.594399929046631, -5.523399829864502, -5.592700004577637, -5.581999778747559, -5.879499912261963, -5.392499923706055, -5.632599830627441, -5.723700046539307, -5.687699794769287, -5.6834001541137695, -5.816699981689453, -5.813000202178955, -5.875199794769287, -5.878699779510498], \"loglift\": [30.0, 29.0, 28.0, 27.0, 26.0, 25.0, 24.0, 23.0, 22.0, 21.0, 20.0, 19.0, 18.0, 17.0, 16.0, 15.0, 14.0, 13.0, 12.0, 11.0, 10.0, 9.0, 8.0, 7.0, 6.0, 5.0, 4.0, 3.0, 2.0, 1.0, 1.0569, 1.0565, 1.056, 1.0553, 1.0552, 1.0547, 1.054, 1.054, 1.0525, 1.0508, 1.0503, 1.0502, 1.0497, 1.0497, 1.0495, 1.0493, 1.0484, 1.0472, 1.0467, 1.0467, 1.046, 1.0452, 1.0451, 1.0445, 1.0445, 1.0444, 1.0427, 1.0426, 1.0421, 1.0421, 1.0373, 1.0288, 1.015, 1.0389, 1.025, 1.0228, 1.0357, 1.0246, 0.9889, 0.9795, 0.9926, 0.9294, 0.8998, 0.9673, 1.0164, 0.9728, 0.6969, 0.9254, 0.8284, 0.6227, 0.8267, 0.8778, 0.2876, 0.6082, 0.492, 0.5746, 0.1884, 0.4307, 0.3838, 0.3079, -0.7097, -0.5686, 0.3323, -0.0527, -0.4422, 0.0653, 1.3829, 1.3799, 1.3781, 1.3772, 1.377, 1.3739, 1.3735, 1.373, 1.3726, 1.3724, 1.3713, 1.3694, 1.3686, 1.3662, 1.3631, 1.3623, 1.3623, 1.362, 1.361, 1.3604, 1.3598, 1.3594, 1.3588, 1.3588, 1.358, 1.358, 1.3576, 1.3566, 1.3556, 1.3555, 1.353, 1.2957, 1.2238, 1.297, 1.2281, 1.2786, 1.2317, 1.2201, 1.2715, 1.3108, 1.1396, 1.1281, 0.8997, 1.2605, 1.0905, 1.1159, 1.1174, 0.7221, 0.9073, 1.053, 0.8024, 1.0295, 1.0098, 1.0469, 0.5182, 0.9868, 0.8271, 0.0138, 0.6698, 0.3332, 0.5028, 0.2001, 0.3342, 0.1374, 0.2305, -0.5315, 0.2828, 0.2082, 0.0315, -0.5515, 0.4098, -0.3154, 1.9431, 1.943, 1.9383, 1.9382, 1.938, 1.9375, 1.9367, 1.9367, 1.9361, 1.936, 1.936, 1.9355, 1.935, 1.9344, 1.9341, 1.9338, 1.9337, 1.9328, 1.9307, 1.9302, 1.929, 1.929, 1.9287, 1.9283, 1.9274, 1.9251, 1.9241, 1.9227, 1.9226, 1.9221, 1.9208, 1.9155, 1.8563, 1.8453, 1.8527, 1.8484, 1.8469, 1.5847, 1.6323, 1.8746, 1.3029, 1.8358, 1.29, 1.5254, 1.4217, 0.8828, 0.8366, 0.0993, 0.7529, 1.3752, 0.342, 0.4278, 1.4179, 0.8852, 1.2246, 1.2955, -0.781, 1.2893, 0.0113, 0.6445, -0.2754, 0.4149, 0.2782, -0.1772, 1.9897, 1.9887, 1.9875, 1.9874, 1.9864, 1.9855, 1.9836, 1.9834, 1.9825, 1.9821, 1.9813, 1.9779, 1.9779, 1.9776, 1.9742, 1.9729, 1.9717, 1.9715, 1.9707, 1.9698, 1.9696, 1.9696, 1.9675, 1.9675, 1.9672, 1.9667, 1.9656, 1.9655, 1.9648, 1.9641, 1.9561, 1.9405, 1.9505, 1.7362, 1.722, 1.7152, 1.6685, 1.624, 1.7349, 1.8769, 1.6295, 1.86, 1.7362, 1.4832, 1.4685, 1.5667, 1.3522, 1.5561, 1.0208, 1.0157, 0.9463, 0.8269, 1.4327, 1.1566, 0.0774, 0.9182, -0.2107, 1.6169, 0.1288, 1.152, 1.0318, 0.854, 0.2697, 0.0889, -0.2127, 0.8914, -0.0249, 2.0752, 2.073, 2.071, 2.0705, 2.0699, 2.069, 2.0679, 2.067, 2.0642, 2.0629, 2.0594, 2.0589, 2.0585, 2.057, 2.0566, 2.0564, 2.0563, 2.0563, 2.0548, 2.0544, 2.0527, 2.0516, 2.0514, 2.0507, 2.0499, 2.0495, 2.0495, 2.0493, 2.049, 2.0469, 2.0466, 2.0307, 2.0209, 1.9771, 1.9041, 1.9649, 1.9904, 1.9081, 1.9055, 1.8983, 1.7188, 1.9151, 1.9016, 1.277, 1.4157, 1.7336, 1.4903, 1.8279, 0.3496, 1.5781, -0.0323, 0.6724, -0.1219, 0.3907, 1.2079, 0.3539, 0.9104, 0.3294, 0.5726, 0.3273, 0.3624, 0.3006, 1.0232, -0.2532, 0.3228, 0.1373, -0.3802, -0.4111, 0.1589, -0.1068, 0.4121, -0.7233]}, \"token.table\": {\"Topic\": [1, 2, 3, 4, 5, 1, 4, 1, 3, 1, 1, 1, 1, 1, 3, 5, 1, 1, 3, 5, 1, 1, 2, 1, 1, 3, 4, 1, 2, 3, 5, 1, 2, 2, 2, 1, 1, 1, 1, 1, 1, 2, 5, 1, 3, 1, 3, 1, 3, 1, 3, 1, 2, 5, 1, 5, 1, 1, 5, 1, 4, 4, 1, 2, 1, 2, 3, 4, 5, 1, 3, 5, 3, 1, 2, 3, 4, 5, 4, 5, 2, 3, 3, 1, 2, 3, 4, 5, 1, 2, 5, 1, 2, 4, 5, 5, 2, 3, 4, 5, 1, 2, 3, 4, 3, 2, 1, 2, 3, 4, 5, 3, 3, 1, 2, 3, 4, 5, 4, 1, 2, 3, 5, 1, 4, 2, 5, 2, 1, 3, 5, 2, 3, 5, 1, 2, 5, 1, 2, 5, 3, 1, 2, 4, 1, 2, 4, 5, 2, 2, 3, 4, 3, 1, 2, 3, 4, 5, 2, 2, 1, 4, 3, 1, 4, 5, 2, 1, 2, 4, 5, 1, 2, 5, 1, 2, 4, 5, 1, 2, 5, 1, 4, 4, 1, 2, 3, 5, 3, 5, 2, 5, 2, 3, 1, 2, 1, 2, 3, 4, 5, 1, 1, 2, 4, 5, 4, 1, 4, 5, 4, 4, 5, 2, 3, 5, 1, 1, 2, 4, 5, 1, 2, 4, 1, 1, 2, 4, 5, 1, 2, 4, 1, 2, 3, 4, 5, 4, 1, 2, 3, 4, 5, 5, 1, 2, 3, 4, 5, 1, 2, 3, 4, 5, 1, 2, 3, 4, 5, 4, 4, 3, 4, 1, 2, 4, 5, 4, 5, 1, 2, 5, 2, 4, 2, 4, 5, 1, 4, 5, 2, 5, 1, 2, 3, 4, 5, 5, 1, 2, 3, 4, 5, 1, 2, 3, 4, 5, 4, 4, 1, 2, 3, 5, 2, 4, 3, 1, 3, 4, 5, 1, 2, 3, 4, 5, 1, 3, 4, 5, 3, 1, 2, 3, 5, 3, 5, 1, 2, 3, 4, 5, 2, 2, 1, 2, 3, 4, 5, 3, 2, 3, 5, 1, 4, 1, 2, 3, 4, 5, 1, 2, 3, 4, 5, 3, 2, 5, 1, 5, 1, 2, 3, 4, 5, 1, 2, 3, 4, 5, 3, 5, 3, 5, 5, 3, 5, 3, 2, 3, 5, 3, 1, 2, 3, 4, 5, 2, 2, 1, 2, 3, 4, 5, 1, 1, 1, 2, 4, 5, 5, 1, 2, 4, 5, 4, 5, 1, 2, 3, 4, 5, 3, 4, 5, 1, 2, 3, 4, 5, 4, 1, 2, 3, 1, 2, 1, 2, 3, 4, 5, 1, 2, 4, 5, 2, 1, 2, 3, 5, 2, 3, 5, 3, 2, 5, 1, 5, 4, 4, 1, 2, 4, 1, 2, 4, 2, 3, 5, 1, 3, 5, 4, 1, 2, 4, 5, 4, 5, 5, 1, 2, 4, 1, 2, 3, 4, 5, 1, 2, 4, 1, 2, 4, 5, 4, 2, 2, 1, 2, 3, 4, 5, 5, 3, 1, 2, 5, 1, 4, 5, 4, 3, 5, 5, 1, 2, 4, 5, 3, 2, 1, 3, 5, 1, 2, 3, 4, 5, 3, 5, 2, 5, 4, 5, 5, 1, 4, 5, 1, 2, 4, 5, 1, 2, 3, 4, 5, 1, 3, 4, 2, 4, 1, 3, 2, 3, 5, 1, 2, 3, 4, 5, 1, 2, 3, 4, 5, 1, 3, 1, 2, 3, 4, 5, 1, 3, 1, 4, 1, 2, 3, 4, 5, 3, 5, 3, 1, 2, 3, 4, 5, 2, 3, 4, 5, 2, 5, 5, 5, 2, 1, 2, 3, 5, 5, 4, 4, 1, 1, 2, 3, 4, 5, 1, 2, 3, 5, 1, 2, 3, 4, 5, 1, 3, 4, 5, 1, 4, 1, 2, 3, 1, 2, 3, 4, 5, 5, 1, 2, 3, 4, 5, 3, 5, 1, 3, 5, 2, 1, 2, 3, 4, 5, 1, 2, 4, 5, 2, 1, 2, 4, 2, 1, 3, 1, 2, 3, 4, 5, 1, 2, 3, 4, 5, 1, 2, 3, 4, 5, 2, 5, 5, 1, 2], \"Freq\": [0.05429686000877719, 0.23657917575252918, 0.011635041430452254, 0.6903457915401672, 0.00775669428696817, 0.9664492832573854, 0.0311757833308834, 0.9943183674388166, 0.00515190863957936, 0.9917205902622224, 0.9974161788765271, 0.9969397218631907, 0.9967266651192177, 0.982081739522382, 0.9889732044273363, 0.9671481074923504, 0.9997567237776647, 0.9797603680040812, 0.01946543777491552, 0.0007209421398116859, 0.990858880287536, 0.9989784243297548, 0.9916198613676657, 0.9939635731732548, 0.9336067498316181, 0.003293145502051563, 0.0625697645389797, 0.9367803242380096, 0.005729543267510762, 0.002864771633755381, 0.05443066104135224, 0.7946700817545497, 0.20447651226432859, 0.993022568029093, 0.9937448285006665, 0.9952467980184706, 0.997157257563401, 0.9956558964854635, 0.9961256746077589, 0.9880233159147632, 0.9921396823874937, 0.9929348951319648, 0.9852010060055277, 0.9586572589335758, 0.04115062955676716, 0.8793030593812099, 0.11934202854597727, 0.9876086238154411, 0.009682437488386677, 0.9717761487273381, 0.02814023596700786, 0.9908758055780632, 0.1575586107466244, 0.8403125906486635, 0.9676633626570377, 0.02917577977860415, 0.9888083202821978, 0.997821486313156, 0.9536605427207402, 0.9925273110834116, 0.9518721445138942, 0.9736546584161728, 0.11287098131793485, 0.8778854102506044, 0.3926254759326239, 0.13691555058163296, 0.21544064576815775, 0.13288862262334963, 0.12080783874849967, 0.28009818094494904, 0.5660317406595845, 0.15755522678153383, 0.9960160445976881, 0.1706860393434503, 0.6158869903385509, 0.06531667931554416, 0.027728778954712142, 0.1204661396810272, 0.9903789547158764, 0.976772611841539, 0.993396463368237, 0.968967891333263, 0.9730274346201031, 0.32149844029593755, 0.10167044693119391, 0.3462290895494712, 0.04396559867294872, 0.18685379436003208, 0.9253743095945592, 0.003679420714093675, 0.06990899356777983, 0.647695169317079, 0.18252422008114674, 0.10898290810670412, 0.06025071342484456, 0.9870294433629218, 0.954140804554863, 0.9230801196408458, 0.019230835825850955, 0.03846167165170191, 0.07090185717586732, 0.27888063822507814, 0.5908488097988943, 0.056721485740693856, 0.9937560762974257, 0.9564742157985971, 0.4730209797976757, 0.31534731986511716, 0.12032989836958417, 0.008298613680660977, 0.08298613680660978, 0.9912972906039608, 0.9722923359688489, 0.46304575743043463, 0.254087352562155, 0.15738246464670794, 0.015548629037385603, 0.10997810782541036, 0.9892599454765941, 0.026478538722551855, 0.9797059327344186, 0.9942753412450483, 0.9847682654507459, 0.9987415382456141, 0.9777017462959333, 0.9181896391475394, 0.08175661170491788, 0.9823893808694355, 0.1678094463346707, 0.48308780005435503, 0.34578916214416994, 0.6710876232402382, 0.1400110868630713, 0.18829077198826827, 0.9185539106563957, 0.00987692377049888, 0.06913846639349215, 0.21839717830289254, 0.7669296261334133, 0.01523701243973669, 0.9887585565992808, 0.059254304780098535, 0.8558955134903122, 0.08339494746828682, 0.022289833674963278, 0.044579667349926556, 0.7689992617862331, 0.16717375256222458, 0.9985073637777805, 0.9264832139490764, 0.06617737242493403, 0.982480123662205, 0.9891862051541167, 0.04724583131002982, 0.10709055096940093, 0.7307355242617946, 0.0724436080087124, 0.044096109222694496, 0.9880581479656384, 0.9937971989914747, 0.1000969884457928, 0.8808534983229767, 0.967233772864446, 0.9124101684491577, 0.04724453946662305, 0.03838618831663123, 0.9814999002075042, 0.22297999792110737, 0.018639194872662225, 0.7573035842707578, 0.0006903405508393417, 0.9810600940438425, 0.015210234016183606, 0.9846777374358261, 0.032275641129344466, 0.7823000635636349, 0.07377289400993021, 0.11219627630676886, 0.029405434601122757, 0.12742354993819863, 0.8331539803651449, 0.02266492823483601, 0.9745919140979484, 0.9943747161299888, 0.09305353121132207, 0.20937044522547463, 0.09305353121132207, 0.6048479528735934, 0.9963324359389983, 0.9946709012322099, 0.027262983583642177, 0.9542044254274762, 0.9753172373483655, 0.9751441098619114, 0.8357666562663059, 0.16402896992142452, 0.2908233091330836, 0.17670277010617735, 0.014725230842181447, 0.33131769394908256, 0.1840653855272681, 0.9980932113891429, 0.2630513898898089, 0.2702582772840502, 0.3747581445005497, 0.09008609242801675, 0.9578557682570993, 0.5369349357741473, 0.43165357581843217, 0.031584407986714545, 0.9485018263977599, 0.9714185162406762, 0.013127277246495624, 0.008503170051733604, 0.9863677260010981, 0.974842264914496, 0.9952413980509941, 0.1815111317425087, 0.049174330511914714, 0.767987338289021, 0.0007231519192928634, 0.6176114024698799, 0.37764773654209216, 0.003933830588980126, 0.9799401131965415, 0.3057796256463637, 0.57373084399627, 0.028371305472343022, 0.0945710182411434, 0.1456862383209471, 0.7637490675613288, 0.08829468989148309, 0.33993574599056314, 0.3156546212769515, 0.27194859679245054, 0.050990361898584476, 0.02185301224225049, 0.988788635113949, 0.3706308909002186, 0.4208453986996031, 0.10282018263683484, 0.07532176169907669, 0.029889587975824083, 0.9914552321788509, 0.3290757492376901, 0.28781233240537785, 0.14442195891309284, 0.15370622770036307, 0.08459000450624009, 0.13900423257499836, 0.8517706166297773, 0.005915073726595675, 0.0009858456210992792, 0.0019716912421985583, 0.07112119575725181, 0.7734430038601134, 0.002963383156552159, 0.03852398103517807, 0.1155719431055342, 0.9503459437111788, 0.9853294755095998, 0.9033774351311398, 0.08212522137555817, 0.0032791038119540502, 0.5508894404082804, 0.31807306975954286, 0.131164152478162, 0.8603057255580762, 0.11731441712155584, 0.281743737463366, 0.7156290931569497, 0.9432851853611173, 0.9684734337374971, 0.9800018868038571, 0.009766657264383511, 0.9668990691739676, 0.009766657264383511, 0.04730515917987172, 0.9461031835974345, 0.9585311137371669, 0.9151677754190789, 0.08190217445384752, 0.004260698078271057, 0.8478789175759405, 0.004260698078271057, 0.014912443273948701, 0.12782094234813174, 0.9655721721109141, 0.24695785422721583, 0.2580156685955986, 0.21869899528579312, 0.09214845306985665, 0.18306826009878188, 0.12476837594710086, 0.22957381174266558, 0.5190364439399395, 0.027449042708362188, 0.09981470075768069, 0.9851611423301722, 0.9933655954623761, 0.12156496537417859, 0.2066604411361036, 0.6564508130205644, 0.01215649653741786, 0.9924356120301812, 0.9913633882782186, 0.980052161474431, 0.15106604205063137, 0.5238580490465443, 0.10477160980930886, 0.21928941587994877, 0.5101791474483176, 0.09614318280181063, 0.04497019840729852, 0.17677940063558728, 0.17212731114517707, 0.038848076925639866, 0.9129298077525368, 0.0291360576942299, 0.019424038462819933, 0.9873736092047836, 0.2171601701235712, 0.7162475786531822, 0.03428844791424809, 0.03047862036822052, 0.08387214256254799, 0.9225935681880278, 0.25240505854892265, 0.28001186182771104, 0.14789358899350935, 0.14789358899350935, 0.17155656323247084, 0.986889503757897, 0.988883923562402, 0.23969465288355044, 0.053615909197636286, 0.15138609655803187, 0.5235435839298602, 0.03153877011625664, 0.9780296992585811, 0.9735679002696563, 0.9901784765569217, 0.9568698209719863, 0.01745570711888225, 0.9600638915385237, 0.3712783204725597, 0.30868733924346914, 0.011380178405289185, 0.13229457396148678, 0.1763927652819824, 0.1965110788039177, 0.6211399134221733, 0.06046494732428236, 0.08245220089674868, 0.03847769375181605, 0.9922551795125435, 0.15545142039047355, 0.8337848911852672, 0.16863954969901837, 0.8291444526868403, 0.19674414847701885, 0.5156496963351932, 0.0017145459562267439, 0.10973094119851161, 0.17616959700229792, 0.10380855841884506, 0.08650713201570422, 0.5190427920942253, 0.20761711683769013, 0.08073998988132394, 0.9955024456151471, 0.003728473579082948, 0.9949173489432738, 0.9597927378243655, 0.991653788317785, 0.9769052192729399, 0.014366253224602058, 0.976435173235398, 0.027761696570863362, 0.12492763456888513, 0.8328508971259009, 0.9854811685861063, 0.023228512338844504, 0.8594549565372467, 0.059361753754824845, 0.04645702467768901, 0.012904729077135836, 0.9670792169918354, 0.9645945614655437, 0.29873729595288817, 0.3495226362648791, 0.20114977927494468, 0.06870957806916428, 0.08265065188029906, 0.9946248793802213, 0.9967730633696208, 0.6971167978568754, 0.1474294628520843, 0.14596493176414968, 0.00927536355691921, 0.9868096568171816, 0.24512658106698876, 0.15276004327363066, 0.5968299365109291, 0.003552559145898388, 0.96291027732071, 0.03438965276145393, 0.46126447479358346, 0.2582292572562369, 0.08870470669107375, 0.015769725633968664, 0.17938062908639357, 0.250025042105837, 0.04167084035097283, 0.7084042859665381, 0.3209832712654753, 0.22587711681644557, 0.008916201979596536, 0.0029720673265321786, 0.4458100989798268, 0.9769254294989836, 0.854280135758163, 0.14420403195917747, 0.001287535999635513, 0.9910614844820966, 0.006607076563213977, 0.4844249951835267, 0.3328468515293264, 0.08594637011320636, 0.05000516079313824, 0.04844249951835267, 0.10665311162171405, 0.6996444122384442, 0.05119349357842275, 0.14078210734066254, 0.9858612619951035, 0.213239664557334, 0.42267147796185844, 0.05711776729214304, 0.3084359433775724, 0.013747636592408019, 0.013747636592408019, 0.9692083797647654, 0.9826300878233313, 0.9628172846757622, 0.9847122350887219, 0.48778276334530574, 0.5137286550126092, 0.995341274928647, 0.9791987550158198, 0.23411098538338546, 0.013771234434316791, 0.7519094001136968, 0.3641160258753643, 0.04676719598399174, 0.5879304637987534, 0.16022121270985024, 0.28561172700451565, 0.5503250349599204, 0.123682984926118, 0.5858667707026642, 0.2864237545657469, 0.9594999981173409, 0.22243121746451747, 0.058025534990743685, 0.6769645748920097, 0.03868368999382912, 0.0988860833816294, 0.8899747504346645, 0.9574019905292609, 0.40595940355044985, 0.024236382301519394, 0.5695549840857058, 0.385031130584466, 0.21451734418277388, 0.15767941538220986, 0.07517274454268146, 0.1686803048274803, 0.27930434718164515, 0.0019262368771147942, 0.7165601182867034, 0.5679176371799204, 0.07450404646172223, 0.3092620796524319, 0.04779504867355766, 0.9650399899225308, 0.9953252679441407, 0.9940359984642351, 0.2894505071082548, 0.09056426909522083, 0.30188089698406945, 0.14561313854525704, 0.17224968827914552, 0.9871683036525727, 0.9865512312749499, 0.24443884813052363, 0.7456931949298252, 0.00618832526912718, 0.15025539061163398, 0.6405624547127554, 0.20561263978434122, 0.9739325053179426, 0.9937781595635748, 0.9696435950021801, 0.9507105583435165, 0.059266856076364616, 0.40992908786152193, 0.4296847065536435, 0.10371699813363808, 0.9888145527224909, 0.9830407507370188, 0.12114434503620872, 0.03461267001034535, 0.848010415253461, 0.21649365570646179, 0.001986180327582218, 0.6951631146537763, 0.005958540982746654, 0.07944721310328873, 0.9841009745574443, 0.009940413884418629, 0.9887410739111195, 0.9713372589311109, 0.2244845683059076, 0.766988941711851, 0.9846023580615282, 0.009381491734262256, 0.9850566320975368, 0.970872818070961, 0.004323205475720352, 0.2810083559218229, 0.6852280679016758, 0.028100835592182287, 0.29744881069438517, 0.2771262211438371, 0.1884458303778092, 0.13856311057191856, 0.09976543961178135, 0.0090771390262464, 0.9894081538608576, 0.0090771390262464, 0.03513321460549186, 0.9485967943482803, 0.10030261139540224, 0.8860064006593864, 0.08222729998835783, 0.90998211987116, 0.005481819999223855, 0.12721797646412927, 0.41463636773493984, 0.11465323804791898, 0.09894731502765611, 0.24344180681407454, 0.4193813913663541, 0.3060350693754476, 0.10811495328363391, 0.06975158276363479, 0.09678032108454326, 0.9607486488683004, 0.035848830181652996, 0.11709557553456694, 0.350041028991631, 0.34505823854335155, 0.14823801583631346, 0.041108021198305415, 0.9822265870963369, 0.009444486414387856, 0.2268851528940543, 0.7688885736965173, 0.2877971789425119, 0.011511887157700476, 0.5180349220965214, 0.14965453305010618, 0.02877971789425119, 0.9649762803194205, 0.013985163482890152, 0.9853460641665647, 0.3597482210825512, 0.10457797124492768, 0.15477539744249297, 0.38066381533153676, 0.004183118849797107, 0.26205358310693644, 0.24957484105422517, 0.06863308128991193, 0.41803785876582716, 0.0954065247508103, 0.8968213326576169, 0.9804860492546106, 0.9915262112194043, 0.9662003346384198, 0.30663216119483616, 0.686856041076433, 0.004088428815931149, 0.004088428815931149, 0.9448016419380896, 0.9888154992379725, 0.9703191389300494, 0.995283646404204, 0.2278503178404145, 0.26911454863041084, 0.01255867893608584, 0.3480548162286647, 0.14173366227868306, 0.08791950721177384, 0.8967789735600932, 0.008791950721177385, 0.008791950721177385, 0.7945869133833737, 0.10779279832720186, 0.0030797942379200533, 0.015398971189600265, 0.08007465018592139, 0.1069040315104132, 0.07126935434027545, 0.12472137009548205, 0.6948762048176857, 0.9984653073261575, 0.9700662272101309, 0.6389044989807962, 0.23266464413751536, 0.129258135631953, 0.5336931276227439, 0.24654302091268063, 0.08411467772314986, 0.0522091103109206, 0.08411467772314986, 0.9948643847756794, 0.29174262011706864, 0.3259469273032077, 0.08852879507000704, 0.14888933716319364, 0.14486530102364786, 0.911317276975717, 0.08041034796844561, 0.006575391523956033, 0.9008286387819765, 0.08548008981142842, 0.9918592624103031, 0.010650536640968976, 0.48992468548457285, 0.04047203923568211, 0.37276878243391415, 0.0873344004559456, 0.005624979897082343, 0.11249959794164686, 0.6468726881644694, 0.2362491556774584, 0.9595011478141632, 0.8764070081059744, 0.10038141943064025, 0.02316494294553236, 0.9955299929253397, 0.9692709957077931, 0.029747447438602345, 0.4011455472785862, 0.12732010848407302, 0.3296369931984904, 0.12034366418357585, 0.02267344397661574, 0.17103157882085013, 0.5593573766354033, 0.103740465842155, 0.11775944771271649, 0.04766453835990905, 0.3287610460294825, 0.15502553390008117, 0.12295128550696094, 0.3394524621605226, 0.053457080655200405, 0.032900119646068794, 0.9212033500899262, 0.9815067501989502, 0.09661346992293654, 0.8997129386573466], \"Term\": [\"0\", \"0\", \"0\", \"0\", \"0\", \"1440p\", \"1440p\", \"15\", \"15\", \"150\", \"16gb\", \"2080_ti\", \"2080ti\", \"24gb\", \"25th\", \"290x\", \"3070\", \"3080\", \"3080\", \"3080\", \"3080ti\", \"3090\", \"3900x\", \"499\", \"4k\", \"4k\", \"4k\", \"50\", \"50\", \"50\", \"50\", \"500\", \"500\", \"5000\", \"5000_series\", \"579\", \"60\", \"600\", \"60fps\", \"649\", \"650\", \"6700\", \"6700xt\", \"6800\", \"6800\", \"6800xt\", \"6800xt\", \"6900_xt\", \"6900_xt\", \"6900xt\", \"6900xt\", \"70\", \"7nm\", \"7nm\", \"80\", \"80\", \"850\", \"8gb\", \"8nm\", \"999\", \"aa\", \"aaa\", \"access\", \"access\", \"actually\", \"actually\", \"actually\", \"actually\", \"actually\", \"aib\", \"aib\", \"aib\", \"amazon\", \"amd\", \"amd\", \"amd\", \"amd\", \"amd\", \"api\", \"asus\", \"b550\", \"backorder\", \"backorders\", \"bad\", \"bad\", \"bad\", \"bad\", \"bad\", \"benchmark\", \"benchmark\", \"benchmark\", \"better\", \"better\", \"better\", \"better\", \"binned\", \"binning\", \"bot\", \"bot\", \"bot\", \"bought\", \"bought\", \"bought\", \"bought\", \"buddy\", \"business\", \"buy\", \"buy\", \"buy\", \"buy\", \"buy\", \"canada\", \"canada_computer\", \"card\", \"card\", \"card\", \"card\", \"card\", \"cast\", \"catch\", \"catch\", \"cc\", \"chat\", \"cheaper\", \"cherry_picked\", \"chip\", \"chip\", \"combo\", \"comment\", \"comment\", \"comment\", \"company\", \"company\", \"company\", \"compared\", \"compared\", \"compared\", \"competition\", \"competition\", \"competition\", \"confirmation\", \"console\", \"console\", \"console\", \"control\", \"control\", \"control\", \"control\", \"cpu\", \"customer\", \"customer\", \"cyberpunk\", \"date\", \"day\", \"day\", \"day\", \"day\", \"day\", \"decompression\", \"dedicated\", \"demanding\", \"demanding\", \"deposit\", \"difference\", \"difference\", \"difference\", \"directx\", \"dl\", \"dl\", \"dl\", \"dl\", \"double\", \"double\", \"draw\", \"driver\", \"driver\", \"driver\", \"driver\", \"dude\", \"dude\", \"dude\", \"dx12\", \"dx12\", \"dxr\", \"efficiency\", \"efficiency\", \"efficiency\", \"efficiency\", \"email\", \"encoder\", \"encoding\", \"encoding\", \"entry_level\", \"error\", \"extra\", \"extra\", \"far\", \"far\", \"far\", \"far\", \"far\", \"faster\", \"feature\", \"feature\", \"feature\", \"feature\", \"fidelityfx\", \"fps\", \"fps\", \"fps\", \"framerate\", \"freesync\", \"freesync\", \"fuck\", \"fuck\", \"function\", \"future_proof\", \"game\", \"game\", \"game\", \"game\", \"gaming\", \"gaming\", \"gaming\", \"gb\", \"gen\", \"gen\", \"gen\", \"gen\", \"generation\", \"generation\", \"generation\", \"getting\", \"getting\", \"getting\", \"getting\", \"getting\", \"gimmick\", \"going\", \"going\", \"going\", \"going\", \"going\", \"gold\", \"good\", \"good\", \"good\", \"good\", \"good\", \"gpu\", \"gpu\", \"gpu\", \"gpu\", \"gpu\", \"gpus\", \"gpus\", \"gpus\", \"gpus\", \"gpus\", \"grand\", \"gsync\", \"haha\", \"haha\", \"hardware\", \"hardware\", \"hardware\", \"hardware\", \"hdmi\", \"hdmi\", \"high_end\", \"high_end\", \"hw\", \"ill\", \"implement\", \"implementation\", \"implementation\", \"implementation\", \"implemented\", \"implemented\", \"insult\", \"intel\", \"intel\", \"issue\", \"issue\", \"issue\", \"issue\", \"issue\", \"jensen\", \"know\", \"know\", \"know\", \"know\", \"know\", \"launch\", \"launch\", \"launch\", \"launch\", \"launch\", \"light\", \"lighting\", \"line\", \"line\", \"line\", \"line\", \"linux\", \"listed\", \"location\", \"lol\", \"lol\", \"lol\", \"lol\", \"look\", \"look\", \"look\", \"look\", \"look\", \"luck\", \"luck\", \"luck\", \"luck\", \"managed\", \"market\", \"market\", \"market\", \"market\", \"mate\", \"mate\", \"mean\", \"mean\", \"mean\", \"mean\", \"mean\", \"mid\", \"mobo\", \"monitor\", \"monitor\", \"monitor\", \"monitor\", \"monitor\", \"morning\", \"motherboard\", \"multiple\", \"nah\", \"native\", \"native\", \"need\", \"need\", \"need\", \"need\", \"need\", \"new\", \"new\", \"new\", \"new\", \"new\", \"newegg\", \"node\", \"node\", \"nvenc\", \"nvenc\", \"nvidia\", \"nvidia\", \"nvidia\", \"nvidia\", \"nvidia\", \"oh\", \"oh\", \"oh\", \"oh\", \"oh\", \"order\", \"order\", \"ordered\", \"outraged\", \"overclocking\", \"page\", \"page\", \"paper_launch\", \"partner\", \"partner\", \"partner\", \"paypal\", \"pc\", \"pc\", \"pc\", \"pc\", \"pc\", \"pcie\", \"pcie_4\", \"people\", \"people\", \"people\", \"people\", \"people\", \"percent\", \"perf\", \"performance\", \"performance\", \"performance\", \"performance\", \"picture\", \"play\", \"play\", \"play\", \"play\", \"played\", \"played\", \"point\", \"point\", \"point\", \"point\", \"point\", \"post\", \"post\", \"post\", \"power\", \"power\", \"power\", \"power\", \"power\", \"premature\", \"price\", \"price\", \"price\", \"priced\", \"priced\", \"probably\", \"probably\", \"probably\", \"probably\", \"probably\", \"problem\", \"problem\", \"problem\", \"problem\", \"processor\", \"product\", \"product\", \"product\", \"product\", \"psu\", \"psu\", \"psu\", \"psus\", \"quadro\", \"r9\", \"rage_mode\", \"rage_mode\", \"ray\", \"ray_traced\", \"ray_tracing\", \"ray_tracing\", \"ray_tracing\", \"raytracing\", \"raytracing\", \"raytracing\", \"read\", \"read\", \"read\", \"reference\", \"reference\", \"reference\", \"reflection\", \"rendering\", \"rendering\", \"rendering\", \"rendering\", \"reply\", \"reply\", \"research\", \"resolution\", \"resolution\", \"resolution\", \"right\", \"right\", \"right\", \"right\", \"right\", \"rt\", \"rt\", \"rt\", \"rtx\", \"rtx\", \"rtx\", \"rtx\", \"rtx_voice\", \"ryzen\", \"ryzen_5000\", \"said\", \"said\", \"said\", \"said\", \"said\", \"samsung\", \"scalper\", \"series\", \"series\", \"series\", \"setting\", \"setting\", \"setting\", \"shadow\", \"shipping\", \"silicon\", \"smooth\", \"software\", \"software\", \"software\", \"software\", \"sounded\", \"ssd\", \"stated\", \"stated\", \"stated\", \"stock\", \"stock\", \"stock\", \"stock\", \"stock\", \"store\", \"store\", \"strategy\", \"stream\", \"streaming\", \"streaming\", \"strix\", \"super_resolution\", \"super_resolution\", \"supersampling\", \"support\", \"support\", \"support\", \"support\", \"sure\", \"sure\", \"sure\", \"sure\", \"sure\", \"tax\", \"tax\", \"tax\", \"tensor_core\", \"tensor_core\", \"terrible_idea\", \"terrible_idea\", \"thanks\", \"thanks\", \"thanks\", \"thing\", \"thing\", \"thing\", \"thing\", \"thing\", \"think\", \"think\", \"think\", \"think\", \"think\", \"ti\", \"ti\", \"time\", \"time\", \"time\", \"time\", \"time\", \"titan\", \"titan\", \"title\", \"title\", \"today\", \"today\", \"today\", \"today\", \"today\", \"told\", \"told\", \"tomorrow\", \"true\", \"true\", \"true\", \"true\", \"true\", \"trying\", \"trying\", \"trying\", \"trying\", \"tsmc\", \"tsmc\", \"tsmc_7nm\", \"u\", \"undercut\", \"upgrade\", \"upgrade\", \"upgrade\", \"upgrade\", \"upsampling\", \"upscaling\", \"usb_c\", \"usd\", \"use\", \"use\", \"use\", \"use\", \"use\", \"user\", \"user\", \"user\", \"user\", \"v\", \"v\", \"v\", \"v\", \"v\", \"video\", \"video\", \"video\", \"video\", \"vram\", \"vrr\", \"wait\", \"wait\", \"wait\", \"want\", \"want\", \"want\", \"want\", \"want\", \"watch\", \"way\", \"way\", \"way\", \"way\", \"way\", \"website\", \"website\", \"week\", \"week\", \"week\", \"window\", \"work\", \"work\", \"work\", \"work\", \"work\", \"working\", \"working\", \"working\", \"working\", \"workstation\", \"worth\", \"worth\", \"worth\", \"x570\", \"xt\", \"xt\", \"yeah\", \"yeah\", \"yeah\", \"yeah\", \"yeah\", \"year\", \"year\", \"year\", \"year\", \"year\", \"yes\", \"yes\", \"yes\", \"yes\", \"yes\", \"yield\", \"yield\", \"youtube\", \"zen\", \"zen\"]}, \"R\": 30, \"lambda.step\": 0.01, \"plot.opts\": {\"xlab\": \"PC1\", \"ylab\": \"PC2\"}, \"topic.order\": [1, 3, 5, 2, 4]};\n",
       "\n",
       "function LDAvis_load_lib(url, callback){\n",
       "  var s = document.createElement('script');\n",
       "  s.src = url;\n",
       "  s.async = true;\n",
       "  s.onreadystatechange = s.onload = callback;\n",
       "  s.onerror = function(){console.warn(\"failed to load library \" + url);};\n",
       "  document.getElementsByTagName(\"head\")[0].appendChild(s);\n",
       "}\n",
       "\n",
       "if(typeof(LDAvis) !== \"undefined\"){\n",
       "   // already loaded: just create the visualization\n",
       "   !function(LDAvis){\n",
       "       new LDAvis(\"#\" + \"ldavis_el455624415530955848079601479\", ldavis_el455624415530955848079601479_data);\n",
       "   }(LDAvis);\n",
       "}else if(typeof define === \"function\" && define.amd){\n",
       "   // require.js is available: use it to load d3/LDAvis\n",
       "   require.config({paths: {d3: \"https://cdnjs.cloudflare.com/ajax/libs/d3/3.5.5/d3.min\"}});\n",
       "   require([\"d3\"], function(d3){\n",
       "      window.d3 = d3;\n",
       "      LDAvis_load_lib(\"https://cdn.rawgit.com/bmabey/pyLDAvis/files/ldavis.v1.0.0.js\", function(){\n",
       "        new LDAvis(\"#\" + \"ldavis_el455624415530955848079601479\", ldavis_el455624415530955848079601479_data);\n",
       "      });\n",
       "    });\n",
       "}else{\n",
       "    // require.js not available: dynamically load d3 & LDAvis\n",
       "    LDAvis_load_lib(\"https://cdnjs.cloudflare.com/ajax/libs/d3/3.5.5/d3.min.js\", function(){\n",
       "         LDAvis_load_lib(\"https://cdn.rawgit.com/bmabey/pyLDAvis/files/ldavis.v1.0.0.js\", function(){\n",
       "                 new LDAvis(\"#\" + \"ldavis_el455624415530955848079601479\", ldavis_el455624415530955848079601479_data);\n",
       "            })\n",
       "         });\n",
       "}\n",
       "</script>"
      ],
      "text/plain": [
       "PreparedData(topic_coordinates=              x         y  topics  cluster       Freq\n",
       "topic                                                \n",
       "0     -0.042680 -0.158110       1        1  34.735393\n",
       "2     -0.041976 -0.102014       2        1  25.050571\n",
       "4      0.233651  0.085440       3        1  14.259597\n",
       "1     -0.183727  0.169646       4        1  13.527755\n",
       "3      0.034732  0.005038       5        1  12.426685, topic_info=            Term         Freq        Total Category  logprob  loglift\n",
       "390           dl  1448.000000  1448.000000  Default  30.0000  30.0000\n",
       "316         game  1382.000000  1382.000000  Default  29.0000  29.0000\n",
       "99          3070  1404.000000  1404.000000  Default  28.0000  28.0000\n",
       "100         3080  1387.000000  1387.000000  Default  27.0000  27.0000\n",
       "322  ray_tracing   726.000000   726.000000  Default  26.0000  26.0000\n",
       "..           ...          ...          ...      ...      ...      ...\n",
       "128       people    82.724639  1004.226804   Topic5  -5.6834  -0.4111\n",
       "163          way    72.399580   497.013429   Topic5  -5.8167   0.1589\n",
       "260       driver    72.665014   650.645480   Topic5  -5.8130  -0.1068\n",
       "257          bad    68.285331   363.920895   Topic5  -5.8752   0.4121\n",
       "103       better    68.044337  1128.617341   Topic5  -5.8787  -0.7233\n",
       "\n",
       "[371 rows x 6 columns], token_table=      Topic      Freq     Term\n",
       "term                          \n",
       "421       1  0.054297        0\n",
       "421       2  0.236579        0\n",
       "421       3  0.011635        0\n",
       "421       4  0.690346        0\n",
       "421       5  0.007757        0\n",
       "...     ...       ...      ...\n",
       "2036      2  0.032900    yield\n",
       "2036      5  0.921203    yield\n",
       "4783      5  0.981507  youtube\n",
       "383       1  0.096613      zen\n",
       "383       2  0.899713      zen\n",
       "\n",
       "[675 rows x 3 columns], R=30, lambda_step=0.01, plot_opts={'xlab': 'PC1', 'ylab': 'PC2'}, topic_order=[1, 3, 5, 2, 4])"
      ]
     },
     "execution_count": 50,
     "metadata": {},
     "output_type": "execute_result"
    }
   ],
   "source": [
    "# Visualize the topics\n",
    "pyLDAvis.enable_notebook()\n",
    "LDAvis_data_filepath = os.path.join(os.getcwd()+'\\\\visualization\\\\'+ 'bigram_' +'ldavis_prepared_'+str(num_topics))\n",
    "# # this is a bit time consuming - make the if statement True\n",
    "# # if you want to execute visualization prep yourself\n",
    "if True:\n",
    "    LDAvis_prepared = pyLDAvis.gensim.prepare(bigram_lda_model, bigram_corpus, bigram_id2word)\n",
    "    with open(LDAvis_data_filepath, 'wb') as f:\n",
    "        pickle.dump(LDAvis_prepared, f)\n",
    "# load the pre-prepared pyLDAvis data from disk\n",
    "with open(LDAvis_data_filepath, 'rb') as f:\n",
    "    LDAvis_prepared = pickle.load(f)\n",
    "pyLDAvis.save_html(LDAvis_prepared, os.getcwd()+ '\\\\visualization\\\\' + 'bigram_' + 'ldavis_prepared_'+ str(num_topics) +'.html')\n",
    "LDAvis_prepared"
   ]
  },
  {
   "cell_type": "markdown",
   "metadata": {},
   "source": [
    "### Notes on the pyLDAvis bubbles\n",
    "\n",
    "* Each bubble represents a topic. The larger the bubble, the higher percentage of the number of tweets in the corpus is about that topic.\n",
    "\n",
    "* Blue bars represent the overall frequency of each word in the corpus. If no topic is selected, the blue bars of the most frequently used words will be displayed.\n",
    "\n",
    "* Red bars give the estimated number of times a given term was generated by a given topic. As you can see from the image below, there are about 22,000 of the word ‘go’, and this term is used about 10,000 times within topic 1. The word with the longest red bar is the word that is used the most by the tweets belonging to that topic.\n",
    "\n",
    "* The further the bubbles are away from each other, the more different they are. For example, it is difficult to tell the difference between topics 1 and 2. They seem to be both about social life, but it is much easier to tell the difference between topics 1 and 3. We can tell that topic 3 is about politics.\n",
    "\n",
    "A good topic model will have big and non-overlapping bubbles scattered throughout the chart. As we can see from the graph, the bubbles are clustered within one place. Can we do better than this?"
   ]
  },
  {
   "cell_type": "markdown",
   "metadata": {},
   "source": [
    "## Bigram: Compute baseline coherence score"
   ]
  },
  {
   "cell_type": "code",
   "execution_count": 69,
   "metadata": {
    "ExecuteTime": {
     "end_time": "2021-01-22T12:17:56.408027Z",
     "start_time": "2021-01-22T12:17:37.316313Z"
    }
   },
   "outputs": [
    {
     "name": "stdout",
     "output_type": "stream",
     "text": [
      "\n",
      "Coherence Score:  0.576512629959652\n"
     ]
    }
   ],
   "source": [
    "# Compute Coherence Score\n",
    "bigram_coherence_model_lda = CoherenceModel(model=bigram_lda_model, texts=data_bigrams, dictionary=bigram_id2word, coherence='c_v')\n",
    "bigram_coherence_lda = bigram_coherence_model_lda.get_coherence()\n",
    "\n",
    "# Append the unigram coherence score\n",
    "coherence_scores.append(bigram_coherence_lda)\n",
    "\n",
    "print('\\nCoherence Score: ', bigram_coherence_lda)"
   ]
  },
  {
   "cell_type": "markdown",
   "metadata": {},
   "source": [
    "## Trigrams LDA Model Training on AMD comments"
   ]
  },
  {
   "cell_type": "code",
   "execution_count": 52,
   "metadata": {
    "ExecuteTime": {
     "end_time": "2021-01-22T08:44:51.836460Z",
     "start_time": "2021-01-22T08:44:51.470127Z"
    }
   },
   "outputs": [],
   "source": [
    "# Create Dictionary\n",
    "trigram_id2word = corpora.Dictionary(data_trigrams)\n",
    "\n",
    "# Term Document Frequency\n",
    "trigram_corpus = [trigram_id2word.doc2bow(text) for text in data_trigrams]\n",
    "\n",
    "# (token, token_id)\n",
    "# print(id2word.token2id)"
   ]
  },
  {
   "cell_type": "code",
   "execution_count": 53,
   "metadata": {
    "ExecuteTime": {
     "end_time": "2021-01-22T08:44:52.379958Z",
     "start_time": "2021-01-22T08:44:52.364945Z"
    }
   },
   "outputs": [
    {
     "name": "stdout",
     "output_type": "stream",
     "text": [
      "[(0, 1), (1, 1), (2, 1)]\n"
     ]
    }
   ],
   "source": [
    "# View\n",
    "# (token_id, token_frequency)\n",
    "print(trigram_corpus[:1][0][:30])"
   ]
  },
  {
   "cell_type": "code",
   "execution_count": 54,
   "metadata": {
    "ExecuteTime": {
     "end_time": "2021-01-22T08:45:11.790592Z",
     "start_time": "2021-01-22T08:44:52.893424Z"
    },
    "scrolled": true
   },
   "outputs": [
    {
     "name": "stdout",
     "output_type": "stream",
     "text": [
      "[(0,\n",
      "  '0.030*\"dl\" + 0.023*\"game\" + 0.014*\"performance\" + 0.014*\"ray_tracing\" + '\n",
      "  '0.011*\"cpu\" + 0.010*\"feature\" + 0.010*\"rt\" + 0.010*\"amd\" + 0.009*\"4k\" + '\n",
      "  '0.008*\"benchmark\"'),\n",
      " (1,\n",
      "  '0.010*\"thanks\" + 0.009*\"comment\" + 0.007*\"tax\" + 0.007*\"think\" + '\n",
      "  '0.006*\"lol\" + 0.006*\"yes\" + 0.006*\"lmao\" + 0.005*\"link\" + 0.005*\"thing\" + '\n",
      "  '0.005*\"fuck\"'),\n",
      " (2,\n",
      "  '0.030*\"amd\" + 0.023*\"card\" + 0.015*\"nvidia\" + 0.015*\"stock\" + '\n",
      "  '0.009*\"launch\" + 0.008*\"know\" + 0.008*\"order\" + 0.006*\"time\" + '\n",
      "  '0.006*\"people\" + 0.006*\"wait\"'),\n",
      " (3,\n",
      "  '0.021*\"amd\" + 0.017*\"nvidia\" + 0.017*\"driver\" + 0.013*\"year\" + 0.012*\"card\" '\n",
      "  '+ 0.011*\"issue\" + 0.011*\"gpu\" + 0.011*\"game\" + 0.010*\"people\" + '\n",
      "  '0.009*\"time\"'),\n",
      " (4,\n",
      "  '0.024*\"price\" + 0.022*\"3070\" + 0.021*\"performance\" + 0.021*\"card\" + '\n",
      "  '0.019*\"3080\" + 0.018*\"6800\" + 0.016*\"amd\" + 0.015*\"nvidia\" + 0.013*\"3090\" + '\n",
      "  '0.011*\"better\"')]\n"
     ]
    }
   ],
   "source": [
    "# number of topics\n",
    "num_topics = 5\n",
    "\n",
    "# Build LDA model\n",
    "trigram_lda_model = LdaMulticore(corpus=trigram_corpus, \n",
    "                         id2word=trigram_id2word, \n",
    "                         num_topics=num_topics,\n",
    "                         chunksize=100,\n",
    "                         passes=20, \n",
    "                         random_state=42,\n",
    "                        per_word_topics=True)\n",
    "\n",
    "# Print the Keyword in the 10 topics\n",
    "pprint(trigram_lda_model.print_topics())\n",
    "trigram_doc_lda = trigram_lda_model[trigram_corpus]"
   ]
  },
  {
   "cell_type": "markdown",
   "metadata": {},
   "source": [
    "## Interpreting the topics for the trigrams \n"
   ]
  },
  {
   "cell_type": "markdown",
   "metadata": {},
   "source": [
    "Scored between 1 ~ 5 with regards to their intrepretability, > 3 will be considered intrepretable.\n",
    "* () is the score\n",
    "\n",
    "Topic 0 (3)\n",
    "* Talks about the dlss and ray_tracing features as well as the performance in 4k.\n",
    "\n",
    "Topic 1 (1)\n",
    "* Something to do with tax\n",
    "\n",
    "Topic 2 (4)\n",
    "* Have to do with stocks availability during launch\n",
    "\n",
    "Topic 3 (2)\n",
    "* Driver related issue \n",
    "\n",
    "Topic 4 (2)\n",
    "* Different models of GPUs\n",
    "\n",
    "**2 topics were intrepretable.**"
   ]
  },
  {
   "cell_type": "code",
   "execution_count": 62,
   "metadata": {
    "ExecuteTime": {
     "end_time": "2021-01-22T12:13:14.505447Z",
     "start_time": "2021-01-22T12:13:14.492436Z"
    }
   },
   "outputs": [],
   "source": [
    "# Append number of topics intrepretable for Unigram to list\n",
    "no_intrepretable_topics.append(2)"
   ]
  },
  {
   "cell_type": "code",
   "execution_count": 55,
   "metadata": {
    "ExecuteTime": {
     "end_time": "2021-01-22T08:45:16.394943Z",
     "start_time": "2021-01-22T08:45:12.335254Z"
    }
   },
   "outputs": [
    {
     "data": {
      "text/html": [
       "\n",
       "<link rel=\"stylesheet\" type=\"text/css\" href=\"https://cdn.rawgit.com/bmabey/pyLDAvis/files/ldavis.v1.0.0.css\">\n",
       "\n",
       "\n",
       "<div id=\"ldavis_el455624395620502407217039395\"></div>\n",
       "<script type=\"text/javascript\">\n",
       "\n",
       "var ldavis_el455624395620502407217039395_data = {\"mdsDat\": {\"x\": [-0.13198190713539618, -0.13009266622912016, 0.01918771977649031, -0.0415265872620467, 0.28441344085007275], \"y\": [-0.002892091560289019, 0.16863545153379886, -0.18047958257095295, -0.06390238030402201, 0.07863860290146509], \"topics\": [1, 2, 3, 4, 5], \"cluster\": [1, 1, 1, 1, 1], \"Freq\": [33.08889913999089, 23.42094522039325, 18.28141596874468, 17.953637083533447, 7.25510258733773]}, \"tinfo\": {\"Term\": [\"dl\", \"price\", \"3070\", \"game\", \"6800\", \"performance\", \"driver\", \"3090\", \"stock\", \"3080\", \"ray_tracing\", \"card\", \"amd\", \"issue\", \"rt\", \"year\", \"cpu\", \"order\", \"feature\", \"benchmark\", \"monitor\", \"vram\", \"4k\", \"pc\", \"6800xt\", \"thanks\", \"2080ti\", \"nvidia\", \"launch\", \"work\", \"3070\", \"price\", \"2080ti\", \"cheaper\", \"msrp\", \"dollar\", \"beat\", \"2080_ti\", \"priced\", \"700\", \"ti\", \"perf\", \"6700\", \"650\", \"70\", \"999\", \"600\", \"499\", \"1000\", \"usd\", \"buck\", \"par\", \"3060\", \"comparable\", \"579\", \"3080ti\", \"649\", \"percent\", \"350\", \"18\", \"3090\", \"pricing\", \"faster\", \"slightly\", \"double\", \"6800\", \"50\", \"3080\", \"budget\", \"15\", \"6900xt\", \"500\", \"80\", \"vram\", \"cost\", \"compared\", \"xt\", \"performance\", \"6800xt\", \"expensive\", \"better\", \"card\", \"value\", \"nvidia\", \"lower\", \"amd\", \"bit\", \"think\", \"rtx\", \"buy\", \"want\", \"probably\", \"good\", \"look\", \"going\", \"people\", \"rage_mode\", \"resolution\", \"sam\", \"enabled\", \"smart_access_memory\", \"bottleneck\", \"cache\", \"tensor_core\", \"bandwidth\", \"image\", \"dxr\", \"dedicated\", \"upscaling\", \"effect\", \"requires\", \"gsync\", \"8k\", \"texture\", \"motherboard\", \"implementation\", \"lighting\", \"smart_memory\", \"mobo\", \"dx12\", \"render\", \"io\", \"implement\", \"psus\", \"usage\", \"smart_access\", \"dl\", \"native\", \"fps\", \"raytracing\", \"title\", \"ray_tracing\", \"rt\", \"x570\", \"feature\", \"0\", \"game\", \"solution\", \"cpu\", \"rendering\", \"core\", \"benchmark\", \"4k\", \"power\", \"psu\", \"quality\", \"1440p\", \"support\", \"use\", \"memory\", \"1080p\", \"performance\", \"hardware\", \"rtx\", \"better\", \"gpu\", \"know\", \"thing\", \"amd\", \"need\", \"look\", \"work\", \"think\", \"nvidia\", \"going\", \"order\", \"store\", \"tomorrow\", \"partner\", \"6700xt\", \"shipping\", \"reference\", \"ordered\", \"confirmation\", \"canada\", \"email\", \"sapphire\", \"location\", \"encoder\", \"api\", \"official\", \"stream\", \"pre_order\", \"backorder\", \"happened\", \"managed\", \"morning\", \"paper_launch\", \"cancelled\", \"backorders\", \"confused\", \"canada_computer\", \"received\", \"deposit\", \"research\", \"stock\", \"paypal\", \"cc\", \"week\", \"thank\", \"aib\", \"super_resolution\", \"told\", \"called\", \"launch\", \"minute\", \"day\", \"went\", \"hope\", \"amd\", \"line\", \"card\", \"available\", \"know\", \"tell\", \"nvidia\", \"wait\", \"said\", \"gonna\", \"time\", \"going\", \"people\", \"able\", \"come\", \"waiting\", \"buy\", \"getting\", \"good\", \"6800xt\", \"think\", \"lol\", \"3080\", \"release\", \"6800\", \"sure\", \"yeah\", \"linux\", \"freesync\", \"window\", \"hdmi\", \"rig\", \"crash\", \"bot\", \"devs\", \"display\", \"stable\", \"shitty\", \"played\", \"vrr\", \"building\", \"team_red\", \"rx480\", \"starting\", \"g_sync\", \"bug\", \"stability\", \"child\", \"ati\", \"opengl\", \"mining\", \"adaptive_sync\", \"000\", \"checked\", \"dev\", \"environment\", \"144hz\", \"samsung\", \"mobile\", \"driver\", \"old\", \"monitor\", \"issue\", \"upgrade\", \"enjoy\", \"pc\", \"fixed\", \"year\", \"problem\", \"shit\", \"majority\", \"experience\", \"work\", \"intel\", \"5700xt\", \"month\", \"new\", \"gpu\", \"time\", \"graphic\", \"people\", \"nvidia\", \"amd\", \"game\", \"bought\", \"console\", \"use\", \"run\", \"yeah\", \"card\", \"support\", \"play\", \"buy\", \"good\", \"gpus\", \"right\", \"thing\", \"need\", \"gaming\", \"tax\", \"link\", \"6900\", \"reply\", \"ah\", \"bro\", \"buddy\", \"reddit\", \"hdr\", \"gold\", \"january\", \"xd\", \"checkout\", \"province\", \"anti\", \"cable\", \"sounded\", \"opencl\", \"black_friday\", \"chat\", \"decompression\", \"trolling\", \"forgot\", \"op\", \"item\", \"est\", \"scalping\", \"oof\", \"stem\", \"block\", \"okay\", \"u\", \"thanks\", \"comment\", \"confirm\", \"lmao\", \"god\", \"multiple\", \"post\", \"fuck\", \"original\", \"check\", \"assumption\", \"read\", \"r\", \"oh\", \"yes\", \"lol\", \"single\", \"bad\", \"thread\", \"think\", \"thing\", \"man\", \"right\", \"example\", \"newegg\", \"said\", \"different\", \"time\", \"look\"], \"Freq\": [1455.0, 1537.0, 1425.0, 1406.0, 1346.0, 2021.0, 658.0, 889.0, 538.0, 1444.0, 720.0, 2686.0, 3295.0, 457.0, 525.0, 719.0, 688.0, 285.0, 558.0, 537.0, 303.0, 682.0, 588.0, 361.0, 914.0, 166.0, 353.0, 2353.0, 422.0, 451.0, 1424.3522120365715, 1536.9799726119272, 352.408253924157, 290.36452100097756, 187.2025724384419, 162.73123225538237, 166.5054082833304, 153.3179587445679, 149.07233381890242, 126.42364083271154, 119.32511964388785, 109.63008286816934, 108.84664153026628, 94.01553788048713, 90.66739560349991, 88.75772775564045, 80.87576522891369, 74.31413312859226, 88.9349400026802, 72.0207884427877, 82.77027716164939, 66.70134776967865, 64.84644259381822, 63.09733577439946, 58.57435835337763, 55.75486972464693, 55.5732917925864, 60.30629172509418, 50.555887393307465, 49.63661388996439, 867.5705679024798, 271.7971799526306, 328.88765624421166, 159.94185257652822, 130.88561137475966, 1193.8243259729147, 322.8145901336513, 1216.2306144861789, 157.42780410340805, 170.00659750094286, 460.2872913382512, 358.1069982361025, 192.5253869369801, 536.1006502959592, 251.92285349783862, 178.6261278594593, 351.4013661568857, 1355.3439115680546, 660.2050679244297, 192.7778602875795, 696.7237150456612, 1331.8334729348358, 211.10919886581854, 941.0149453664328, 251.62881221344412, 1043.2947851039605, 246.63457374690023, 490.67832007138196, 366.4153852463565, 356.0594994754441, 340.1291524050539, 312.9304688521446, 368.200251609689, 282.6346886961625, 303.69310013708997, 316.6486498976918, 195.40353285969536, 157.78437892954105, 106.83282453199845, 89.93281567671183, 101.51231840853524, 67.36506443079057, 63.07737970702437, 59.21426387904898, 58.9776228443061, 55.39579248605508, 57.55351642707824, 53.19714182032587, 51.84749598086081, 50.18517953814436, 54.10850738046637, 46.64619592378314, 68.74697297487769, 40.87386833306794, 40.74975052785639, 94.09091772071996, 39.543058360470525, 38.689282738616846, 44.990963873179545, 38.95982195138624, 40.368663950172724, 39.39616891499531, 42.83530089457661, 32.7222726487281, 37.75813459854857, 31.037899919155766, 1370.8937822887424, 56.85542191748849, 271.5251771912295, 272.2698467922099, 151.73065949684752, 623.4415256940105, 451.1987215284759, 49.17633976309965, 456.3976016167763, 202.689245100376, 1030.1420953646173, 74.43919693975822, 511.4440091161302, 85.79083434778936, 117.65919043142729, 373.9419150517225, 402.27935585646105, 216.9425101701823, 112.60491278514228, 89.30441094929536, 218.6803562318137, 279.67514272077756, 303.32839622516303, 190.53815106196916, 136.5148957244285, 636.900977181513, 174.37552530826758, 290.45180086593706, 348.32009406689485, 306.4005758403039, 256.90677872252525, 219.09052764303277, 448.3354357456359, 230.0212128119073, 218.5243932330768, 188.3948139682923, 257.3235664879398, 275.92562714140473, 187.22818691035553, 284.24875760756913, 109.83359099767118, 83.02691042748, 77.55687673559783, 79.5373523495739, 75.35040242237382, 167.8260744409505, 61.580232513408, 80.0468727646534, 63.36193903738641, 79.26666703438295, 56.827542721750845, 54.07429254087649, 51.81852346012116, 53.95353406033488, 47.25830079980303, 47.65012238093607, 43.97764144241305, 40.604897931527006, 42.10293328610882, 40.03659659902489, 39.56826724706192, 39.4516311940223, 36.60691958283949, 34.6620284475475, 36.53613256235974, 33.01757011411864, 30.964972776297373, 29.386660099856606, 29.694486701700647, 517.5528799616318, 53.3387402146457, 157.88623334410343, 154.2285732174456, 68.86023605901033, 173.16145047074357, 111.68429109934902, 70.74727413442926, 89.1744586445076, 303.3349077947779, 57.45885118637548, 215.20348558059192, 99.93088911173328, 155.39198619142044, 1055.5203198202366, 118.5373431730612, 817.9135953885708, 147.16396962243806, 300.64929365505395, 97.38073802275443, 534.8871686715004, 218.7823338606257, 193.75603548976727, 123.29542989901098, 228.5407217235786, 211.12292168276338, 225.9806319725255, 124.96218587404425, 159.27470678105692, 113.83903787312211, 179.06765608918047, 143.54998314867134, 190.81620083593288, 183.94734819920703, 192.39554308137716, 141.82279811551226, 176.82754642084961, 129.36502147592546, 152.1866887941952, 133.55966826172443, 131.15648814799772, 101.05943697607663, 91.70391244845064, 80.27535308830575, 59.254987653200544, 56.58715966787924, 53.403767906663916, 52.30598053331194, 48.042952440065896, 41.83262583827842, 37.82175126088954, 34.51826581747316, 31.61129827044956, 30.332913743825653, 31.32681372187056, 29.734718290038845, 25.18637800639255, 25.99907335022284, 23.98547787786177, 24.005263817559, 23.744169323800328, 23.811811715211167, 23.147837083374665, 21.30982602724498, 20.64830170444578, 19.93712294942474, 19.649287063027664, 19.620276790224107, 18.582954155936587, 18.496791749880234, 52.20323471293073, 58.11864358672746, 26.334594452094642, 590.0605745568763, 105.77852832925925, 270.09431169350756, 397.31288917115324, 221.64101199223268, 55.21408557820809, 292.3041085061919, 44.6023271545733, 472.2484440026568, 176.60138009998673, 168.82205253482314, 40.81952293915913, 83.43888552286431, 251.36506267229464, 175.15777706516363, 168.61888481444552, 168.87334186542094, 317.72848246083424, 397.0435101050754, 330.1471868329286, 112.02255993073291, 356.4713175277117, 595.5191292223949, 728.2847497305271, 368.0686098160061, 114.66183223469434, 179.58354889525174, 196.05993241669546, 131.9858759091263, 199.77070325428753, 412.2986367708282, 170.28211055679193, 134.96307069935716, 192.79864855205633, 192.79297329385346, 137.12562131427714, 148.1620252250674, 147.79489472890904, 150.04324285361443, 144.54225421728003, 104.1011259588894, 77.36371090514163, 52.38167356092697, 43.529185725092496, 38.92479597116569, 34.65455816833193, 31.93531342405899, 30.462384382235793, 28.419977827572453, 28.38956742655639, 25.45761627730032, 24.46255460972712, 24.159325446404715, 22.940963654131554, 23.175476975782175, 22.74443120660724, 22.642998399750873, 22.293404001549607, 21.920816453679898, 20.906414245553684, 19.542669713738903, 19.176458168249308, 21.555960838412226, 19.09879450514951, 18.699167435041446, 17.169200356422493, 17.036452645886843, 17.0617095235321, 16.42026720863423, 16.38707904534094, 43.07308243131829, 53.25860619215541, 138.75895944834062, 129.9828254766674, 21.70331239522626, 78.74886199998608, 23.46046780671495, 36.65063243903311, 50.59405996959301, 67.38840740262314, 41.75603429109514, 48.41000730934105, 25.491839099377774, 54.46539067984845, 43.01182338209416, 61.25109487285002, 79.75820788994574, 83.75595808718592, 40.34123396141024, 63.777151687643, 31.537750728881747, 92.26449766439448, 71.74770823818668, 39.9563507789765, 59.40100634346595, 36.77114712174645, 33.37705771832383, 38.22514586192946, 35.45303796200578, 37.86479134188206, 36.51003087750366], \"Total\": [1455.0, 1537.0, 1425.0, 1406.0, 1346.0, 2021.0, 658.0, 889.0, 538.0, 1444.0, 720.0, 2686.0, 3295.0, 457.0, 525.0, 719.0, 688.0, 285.0, 558.0, 537.0, 303.0, 682.0, 588.0, 361.0, 914.0, 166.0, 353.0, 2353.0, 422.0, 451.0, 1425.1500392704315, 1537.9303266009495, 353.14420253904035, 291.1002357675201, 187.97153728759778, 163.4741296856924, 167.2671339144147, 154.0487200112469, 149.80920270873517, 127.16902978190573, 120.0710146392432, 110.36501726284547, 109.5774282693888, 94.74622121934833, 91.39752652788678, 89.4902340555063, 81.60788487790194, 75.04495461647363, 89.81414317941294, 72.75943149800698, 83.64983120910134, 67.4416715475712, 65.5765762518023, 63.83249035156076, 59.30210239253786, 56.4855036106011, 56.30974822242062, 61.16996792584219, 51.29130648037922, 50.373698681166054, 889.8138047441325, 276.1056544788025, 343.3707539120681, 165.2046750474014, 135.10328108058184, 1346.7454298059006, 350.1676048958235, 1444.5006829964846, 167.33053252407754, 183.9762050427575, 552.1674458118157, 422.6643096556018, 213.65288579015913, 682.9518479371012, 289.97015535179787, 196.64541867931584, 425.86723578431406, 2021.5494281033496, 914.0589215622142, 217.81897044627289, 1135.2300320970037, 2686.9284965343527, 254.62436086305297, 2353.237007396343, 330.20710750615757, 3295.4656452139775, 336.2637757676736, 1112.6375272801865, 726.1906263463047, 734.396865180938, 690.2833407062107, 649.3646261559227, 965.3490450619245, 655.7396548923858, 837.3869208397738, 1032.2186592674927, 196.15086633577053, 158.5753968146126, 107.6413828117824, 90.71064420287797, 102.43920886411082, 68.10135164329418, 63.81502736584606, 59.95425360040696, 59.728154046377895, 56.13539430926087, 58.333030143526344, 53.93665484317901, 52.58536527436246, 50.930923549169655, 54.93766578339854, 47.39440141359208, 69.89456556693263, 41.61068241881477, 41.48792212156239, 95.82277969684849, 40.27827087052649, 39.425877000855856, 45.85230061860223, 39.709390917003496, 41.14852081026018, 40.192755037412056, 43.733724536881645, 33.46293541103636, 38.6539342190682, 31.77711092227253, 1455.1084220217126, 58.52955982826067, 291.79041464010385, 298.73816091558587, 163.1890189716583, 720.2782118696391, 525.020457833546, 50.72866306193017, 558.9537857966005, 235.01847374691917, 1406.1034741446908, 79.98430822742361, 688.1538244567903, 94.57677696875172, 137.66511479398022, 537.7702149973408, 588.1594016472213, 289.33889603797905, 132.11270941693613, 102.70962560976949, 322.8244997699928, 462.90106188755993, 540.8783714262381, 292.34260433559115, 186.6028317918187, 2021.5494281033496, 295.8469795757028, 726.1906263463047, 1135.2300320970037, 976.4967687422951, 827.3608874620028, 608.9982765961763, 3295.4656452139775, 687.8943411228285, 655.7396548923858, 451.0465464401852, 1112.6375272801865, 2353.237007396343, 837.3869208397738, 285.3000355816956, 110.54868763521955, 83.74118030678589, 78.27404811937625, 80.29921369837177, 76.08022638235312, 169.76371397345864, 62.29438298153885, 80.97518480757753, 64.0974088708358, 80.263861263683, 57.543674040806295, 54.78768208553082, 52.54528673679098, 54.714893349834576, 47.97649549128232, 48.37689499458251, 44.69023088803794, 41.31727277928816, 42.84804454007037, 40.75463265694536, 40.28227768803657, 40.16770169321854, 37.32114653253588, 35.37464256405798, 37.29154823437487, 33.72966928340246, 31.679003086062817, 30.098900597027228, 30.42139198347097, 538.135581327169, 54.91985334112803, 165.99602915681638, 162.11091925393308, 71.39547837031381, 185.81976588285846, 118.25959863206468, 75.63032609557362, 101.45309207491206, 422.00749733194, 63.09496883049341, 329.0093106700937, 126.5274944050715, 234.4775701003767, 3295.4656452139775, 173.3239755315128, 2686.9284965343527, 239.14935915283962, 827.3608874620028, 142.45014906558706, 2353.237007396343, 571.8809535242394, 539.3379065157537, 229.4010173400817, 799.649949990545, 837.3869208397738, 1032.2186592674927, 253.95827725045012, 489.8996626123843, 211.25490309226495, 734.396865180938, 412.6125082540178, 965.3490450619245, 914.0589215622142, 1112.6375272801865, 423.0929677065732, 1444.5006829964846, 334.1943713078727, 1346.7454298059006, 538.0202205914857, 590.2813990879772, 101.78105453232347, 92.42908508370202, 81.00427683792601, 59.98479666683572, 57.33445108452286, 54.12873920372285, 53.06285233176866, 48.807554167328135, 42.55728453745983, 38.59833460938821, 35.24376962009792, 32.34732312451807, 31.05484637665885, 32.12002437003754, 30.56509732415688, 25.912965946675175, 26.779353850872145, 24.707944949792022, 24.729316810643397, 24.467217657328078, 24.543500470958033, 23.8732628271108, 22.033579377796254, 21.374944768078414, 20.659372961213307, 20.389540750859318, 20.37676478431802, 19.32962573271483, 19.240624957387254, 54.303373630286785, 61.607362126304295, 27.520795681378292, 658.2386443519105, 114.84358349603356, 303.70740112889115, 457.42355529923003, 256.81170078438754, 59.89940249471634, 361.4621421745027, 49.62960705012409, 719.4331950367749, 236.9432165334415, 226.26976912030082, 45.246008498463496, 107.53473480808324, 451.0465464401852, 288.97179189622705, 291.74570953546856, 303.0013605367356, 712.659103126398, 976.4967687422951, 799.649949990545, 181.885901155466, 1032.2186592674927, 2353.237007396343, 3295.4656452139775, 1406.1034741446908, 202.32321104236829, 442.48691979630445, 540.8783714262381, 270.4300890249019, 590.2813990879772, 2686.9284965343527, 462.90106188755993, 285.85271304175234, 734.396865180938, 965.3490450619245, 327.7441749262032, 562.1609372559194, 608.9982765961763, 687.8943411228285, 522.8530800933985, 104.84612206589948, 78.10275761088536, 53.13486630369041, 44.29630554440865, 39.74731666016528, 35.394854921058695, 32.689732638603566, 31.251369080869996, 29.16630833328975, 29.142298545673658, 26.218464002907464, 25.207739956820227, 24.905243720962893, 23.67858036064575, 23.928938962971973, 23.493838980898452, 23.394814229458117, 23.037611749581878, 22.677895132999936, 21.644008731614655, 20.292212560411123, 19.913101158163787, 22.38562015095339, 19.841904054716817, 19.449866198019976, 17.914085245197167, 17.781104776293976, 17.81058522359249, 17.155805825136312, 17.127264122019884, 45.182142304900665, 57.67083238880042, 166.25373922171497, 168.05297121319052, 23.205040812686107, 104.04563155596468, 25.442217015461647, 44.72358861568661, 71.52469599769753, 110.96458175941136, 57.526811721962495, 74.80355544593992, 29.237025230770247, 121.60007598655926, 79.33187362231115, 172.7741270174028, 355.5297546188342, 423.0929677065732, 93.03205639170255, 340.15080117412776, 51.747254657736974, 1112.6375272801865, 608.9982765961763, 105.62798787313939, 562.1609372559194, 116.27656270728157, 68.60302244048006, 539.3379065157537, 196.1193480105859, 799.649949990545, 655.7396548923858], \"Category\": [\"Default\", \"Default\", \"Default\", \"Default\", \"Default\", \"Default\", \"Default\", \"Default\", \"Default\", \"Default\", \"Default\", \"Default\", \"Default\", \"Default\", \"Default\", \"Default\", \"Default\", \"Default\", \"Default\", \"Default\", \"Default\", \"Default\", \"Default\", \"Default\", \"Default\", \"Default\", \"Default\", \"Default\", \"Default\", \"Default\", \"Topic1\", \"Topic1\", \"Topic1\", \"Topic1\", \"Topic1\", \"Topic1\", \"Topic1\", \"Topic1\", \"Topic1\", \"Topic1\", \"Topic1\", \"Topic1\", \"Topic1\", \"Topic1\", \"Topic1\", \"Topic1\", \"Topic1\", \"Topic1\", \"Topic1\", \"Topic1\", \"Topic1\", \"Topic1\", \"Topic1\", \"Topic1\", \"Topic1\", \"Topic1\", \"Topic1\", \"Topic1\", \"Topic1\", \"Topic1\", \"Topic1\", \"Topic1\", \"Topic1\", \"Topic1\", \"Topic1\", \"Topic1\", \"Topic1\", \"Topic1\", \"Topic1\", \"Topic1\", \"Topic1\", \"Topic1\", \"Topic1\", \"Topic1\", \"Topic1\", \"Topic1\", \"Topic1\", \"Topic1\", \"Topic1\", \"Topic1\", \"Topic1\", \"Topic1\", \"Topic1\", \"Topic1\", \"Topic1\", \"Topic1\", \"Topic1\", \"Topic1\", \"Topic1\", \"Topic1\", \"Topic1\", \"Topic1\", \"Topic1\", \"Topic1\", \"Topic1\", \"Topic1\", \"Topic2\", \"Topic2\", \"Topic2\", \"Topic2\", \"Topic2\", \"Topic2\", \"Topic2\", \"Topic2\", \"Topic2\", \"Topic2\", \"Topic2\", \"Topic2\", \"Topic2\", \"Topic2\", \"Topic2\", \"Topic2\", \"Topic2\", \"Topic2\", \"Topic2\", \"Topic2\", \"Topic2\", \"Topic2\", \"Topic2\", \"Topic2\", \"Topic2\", \"Topic2\", \"Topic2\", \"Topic2\", \"Topic2\", \"Topic2\", \"Topic2\", \"Topic2\", \"Topic2\", \"Topic2\", \"Topic2\", \"Topic2\", \"Topic2\", \"Topic2\", \"Topic2\", \"Topic2\", \"Topic2\", \"Topic2\", \"Topic2\", \"Topic2\", \"Topic2\", \"Topic2\", \"Topic2\", \"Topic2\", \"Topic2\", \"Topic2\", \"Topic2\", \"Topic2\", \"Topic2\", \"Topic2\", \"Topic2\", \"Topic2\", \"Topic2\", \"Topic2\", \"Topic2\", \"Topic2\", \"Topic2\", \"Topic2\", \"Topic2\", \"Topic2\", \"Topic2\", \"Topic2\", \"Topic2\", \"Topic2\", \"Topic2\", \"Topic3\", \"Topic3\", \"Topic3\", \"Topic3\", \"Topic3\", \"Topic3\", \"Topic3\", \"Topic3\", \"Topic3\", \"Topic3\", \"Topic3\", \"Topic3\", \"Topic3\", \"Topic3\", \"Topic3\", \"Topic3\", \"Topic3\", \"Topic3\", \"Topic3\", \"Topic3\", \"Topic3\", \"Topic3\", \"Topic3\", \"Topic3\", \"Topic3\", \"Topic3\", \"Topic3\", \"Topic3\", \"Topic3\", \"Topic3\", \"Topic3\", \"Topic3\", \"Topic3\", \"Topic3\", \"Topic3\", \"Topic3\", \"Topic3\", \"Topic3\", \"Topic3\", \"Topic3\", \"Topic3\", \"Topic3\", \"Topic3\", \"Topic3\", \"Topic3\", \"Topic3\", \"Topic3\", \"Topic3\", \"Topic3\", \"Topic3\", \"Topic3\", \"Topic3\", \"Topic3\", \"Topic3\", \"Topic3\", \"Topic3\", \"Topic3\", \"Topic3\", \"Topic3\", \"Topic3\", \"Topic3\", \"Topic3\", \"Topic3\", \"Topic3\", \"Topic3\", \"Topic3\", \"Topic3\", \"Topic3\", \"Topic3\", \"Topic3\", \"Topic3\", \"Topic4\", \"Topic4\", \"Topic4\", \"Topic4\", \"Topic4\", \"Topic4\", \"Topic4\", \"Topic4\", \"Topic4\", \"Topic4\", \"Topic4\", \"Topic4\", \"Topic4\", \"Topic4\", \"Topic4\", \"Topic4\", \"Topic4\", \"Topic4\", \"Topic4\", \"Topic4\", \"Topic4\", \"Topic4\", \"Topic4\", \"Topic4\", \"Topic4\", \"Topic4\", \"Topic4\", \"Topic4\", \"Topic4\", \"Topic4\", \"Topic4\", \"Topic4\", \"Topic4\", \"Topic4\", \"Topic4\", \"Topic4\", \"Topic4\", \"Topic4\", \"Topic4\", \"Topic4\", \"Topic4\", \"Topic4\", \"Topic4\", \"Topic4\", \"Topic4\", \"Topic4\", \"Topic4\", \"Topic4\", \"Topic4\", \"Topic4\", \"Topic4\", \"Topic4\", \"Topic4\", \"Topic4\", \"Topic4\", \"Topic4\", \"Topic4\", \"Topic4\", \"Topic4\", \"Topic4\", \"Topic4\", \"Topic4\", \"Topic4\", \"Topic4\", \"Topic4\", \"Topic4\", \"Topic4\", \"Topic4\", \"Topic4\", \"Topic4\", \"Topic4\", \"Topic4\", \"Topic5\", \"Topic5\", \"Topic5\", \"Topic5\", \"Topic5\", \"Topic5\", \"Topic5\", \"Topic5\", \"Topic5\", \"Topic5\", \"Topic5\", \"Topic5\", \"Topic5\", \"Topic5\", \"Topic5\", \"Topic5\", \"Topic5\", \"Topic5\", \"Topic5\", \"Topic5\", \"Topic5\", \"Topic5\", \"Topic5\", \"Topic5\", \"Topic5\", \"Topic5\", \"Topic5\", \"Topic5\", \"Topic5\", \"Topic5\", \"Topic5\", \"Topic5\", \"Topic5\", \"Topic5\", \"Topic5\", \"Topic5\", \"Topic5\", \"Topic5\", \"Topic5\", \"Topic5\", \"Topic5\", \"Topic5\", \"Topic5\", \"Topic5\", \"Topic5\", \"Topic5\", \"Topic5\", \"Topic5\", \"Topic5\", \"Topic5\", \"Topic5\", \"Topic5\", \"Topic5\", \"Topic5\", \"Topic5\", \"Topic5\", \"Topic5\", \"Topic5\", \"Topic5\", \"Topic5\", \"Topic5\"], \"logprob\": [30.0, 29.0, 28.0, 27.0, 26.0, 25.0, 24.0, 23.0, 22.0, 21.0, 20.0, 19.0, 18.0, 17.0, 16.0, 15.0, 14.0, 13.0, 12.0, 11.0, 10.0, 9.0, 8.0, 7.0, 6.0, 5.0, 4.0, 3.0, 2.0, 1.0, -3.813699960708618, -3.737600088119507, -5.210299968719482, -5.4039998054504395, -5.842899799346924, -5.982999801635742, -5.960100173950195, -6.042600154876709, -6.070700168609619, -6.235499858856201, -6.293300151824951, -6.377999782562256, -6.385200023651123, -6.531700134277344, -6.56790018081665, -6.589200019836426, -6.682199954986572, -6.7667999267578125, -6.587200164794922, -6.7982001304626465, -6.65910005569458, -6.874899864196777, -6.90310001373291, -6.9303998947143555, -7.004799842834473, -7.054200172424316, -7.057400226593018, -6.9756999015808105, -7.1519999504089355, -7.170400142669678, -4.3094000816345215, -5.470099925994873, -5.279399871826172, -6.00029993057251, -6.200799942016602, -3.9902000427246094, -5.297999858856201, -3.97160005569458, -6.016200065612793, -5.939300060272217, -4.943299770355225, -5.194300174713135, -5.814899921417236, -4.790800094604492, -5.546000003814697, -5.889800071716309, -5.213200092315674, -3.863300085067749, -4.582600116729736, -5.813600063323975, -4.52869987487793, -3.8808000087738037, -5.722799777984619, -4.2281999588012695, -5.5472002029418945, -4.125, -5.567200183868408, -4.879300117492676, -5.17140007019043, -5.199999809265137, -5.245800018310547, -5.329100131988525, -5.166500091552734, -5.431000232696533, -5.359099864959717, -5.317299842834473, -5.454500198364258, -5.668300151824951, -6.058300018310547, -6.230500221252441, -6.109399795532227, -6.519400119781494, -6.58519983291626, -6.648399829864502, -6.652400016784668, -6.715099811553955, -6.676799774169922, -6.7555999755859375, -6.781300067901611, -6.813799858093262, -6.73859977722168, -6.88700008392334, -6.499100208282471, -7.019100189208984, -7.02209997177124, -6.185299873352051, -7.052199840545654, -7.073999881744385, -6.923099994659424, -7.066999912261963, -7.031499862670898, -7.0559000968933105, -6.9721999168396, -7.241499900817871, -7.098400115966797, -7.294400215148926, -3.5062999725341797, -6.689000129699707, -5.125500202178955, -5.122799873352051, -5.707499980926514, -4.294300079345703, -4.617700099945068, -6.834099769592285, -4.606200218200684, -5.417900085449219, -3.792099952697754, -6.419600009918213, -4.492300033569336, -6.277599811553955, -5.9618000984191895, -4.805500030517578, -4.732399940490723, -5.349899768829346, -6.00570011138916, -6.237500190734863, -5.341899871826172, -5.095900058746338, -5.014699935913086, -5.479700088500977, -5.8130998611450195, -4.272900104522705, -5.568299770355225, -5.05810022354126, -4.876399993896484, -5.004700183868408, -5.180799961090088, -5.340099811553955, -4.624000072479248, -5.291399955749512, -5.342700004577637, -5.491000175476074, -5.179200172424316, -5.109399795532227, -5.497200012207031, -4.831999778747559, -5.782800197601318, -6.062600135803223, -6.130799770355225, -6.105599880218506, -6.1596999168396, -5.35890007019043, -6.361499786376953, -6.0991997718811035, -6.332900047302246, -6.109000205993652, -6.441800117492676, -6.491499900817871, -6.53410005569458, -6.49370002746582, -6.626200199127197, -6.6178998947143555, -6.6981000900268555, -6.777900218963623, -6.741700172424316, -6.791999816894531, -6.803800106048584, -6.806700229644775, -6.8815999031066895, -6.936200141906738, -6.883500099182129, -6.984799861907959, -7.048999786376953, -7.10129976272583, -7.09089994430542, -4.232699871063232, -6.505199909210205, -5.419899940490723, -5.443399906158447, -6.24970006942749, -5.327600002288818, -5.76609992980957, -6.222700119018555, -5.991199970245361, -4.767000198364258, -6.430699825286865, -5.110199928283691, -5.877299785614014, -5.4359002113342285, -3.5199999809265137, -5.706600189208984, -3.775099992752075, -5.490300178527832, -4.775899887084961, -5.903200149536133, -4.19980001449585, -5.093699932098389, -5.215199947357178, -5.667200088500977, -5.050099849700928, -5.12939977645874, -5.061399936676025, -5.653800010681152, -5.411200046539307, -5.747000217437744, -5.294000148773193, -5.515100002288818, -5.230500221252441, -5.267199993133545, -5.222300052642822, -5.527200222015381, -5.306600093841553, -5.619200229644775, -5.456699848175049, -5.587299823760986, -5.605400085449219, -5.8480000495910645, -5.945199966430664, -6.0782999992370605, -6.381899833679199, -6.4278998374938965, -6.485799789428711, -6.5065999031066895, -6.591599941253662, -6.730000019073486, -6.8308000564575195, -6.9222002029418945, -7.010200023651123, -7.051499843597412, -7.019199848175049, -7.071400165557861, -7.237400054931641, -7.205699920654297, -7.286300182342529, -7.285399913787842, -7.29640007019043, -7.293499946594238, -7.321800231933594, -7.404600143432617, -7.436100006103516, -7.471099853515625, -7.4857001304626465, -7.487199783325195, -7.541500091552734, -7.54610013961792, -6.508600234985352, -6.401199817657471, -7.192800045013428, -4.083499908447266, -5.8024001121521, -4.8649001121521, -4.479000091552734, -5.062699794769287, -6.452499866485596, -4.785900115966797, -6.665900230407715, -4.30620002746582, -5.28980016708374, -5.33489990234375, -6.7546000480651855, -6.039599895477295, -4.936800003051758, -5.297999858856201, -5.336100101470947, -5.33459997177124, -4.702499866485596, -4.479700088500977, -4.6641998291015625, -5.744999885559082, -4.587500095367432, -4.0742998123168945, -3.872999906539917, -4.555500030517578, -5.721700191497803, -5.273099899291992, -5.185299873352051, -5.580999851226807, -5.166600227355957, -4.441999912261963, -5.326300144195557, -5.558700084686279, -5.202099800109863, -5.202099800109863, -5.542799949645996, -5.465400218963623, -5.467899799346924, -5.4527997970581055, -5.490099906921387, -4.912300109863281, -5.209099769592285, -5.599100112915039, -5.784200191497803, -5.895999908447266, -6.012199878692627, -6.093900203704834, -6.14109992980957, -6.2104997634887695, -6.211599826812744, -6.3206000328063965, -6.360499858856201, -6.373000144958496, -6.424699783325195, -6.4145002365112305, -6.433300018310547, -6.43779993057251, -6.4532999992370605, -6.470200061798096, -6.517600059509277, -6.585000038146973, -6.604000091552734, -6.486999988555908, -6.607999801635742, -6.629199981689453, -6.7144999504089355, -6.722300052642822, -6.720799922943115, -6.759099960327148, -6.761099815368652, -5.7947001457214355, -5.582499980926514, -4.624899864196777, -4.690199851989746, -6.480199813842773, -5.191400051116943, -6.402299880981445, -5.956200122833252, -5.633800029754639, -5.3471999168396, -5.825799942016602, -5.6778998374938965, -6.319300174713135, -5.560100078582764, -5.796199798583984, -5.442699909210205, -5.178599834442139, -5.129700183868408, -5.860300064086914, -5.402200222015381, -6.106400012969971, -5.0329999923706055, -5.2845001220703125, -5.869800090789795, -5.473299980163574, -5.952899932861328, -6.049799919128418, -5.914100170135498, -5.9893999099731445, -5.923600196838379, -5.960000038146973], \"loglift\": [30.0, 29.0, 28.0, 27.0, 26.0, 25.0, 24.0, 23.0, 22.0, 21.0, 20.0, 19.0, 18.0, 17.0, 16.0, 15.0, 14.0, 13.0, 12.0, 11.0, 10.0, 9.0, 8.0, 7.0, 6.0, 5.0, 4.0, 3.0, 2.0, 1.0, 1.1054, 1.1054, 1.1039, 1.1034, 1.1019, 1.1014, 1.1014, 1.1012, 1.101, 1.1001, 1.0997, 1.0993, 1.0993, 1.0982, 1.098, 1.0978, 1.097, 1.0962, 1.0961, 1.0958, 1.0954, 1.0949, 1.0948, 1.0944, 1.0936, 1.093, 1.0928, 1.0918, 1.0915, 1.0912, 1.0807, 1.0902, 1.0629, 1.0736, 1.0743, 0.9854, 1.0246, 0.934, 1.045, 1.027, 0.924, 0.9402, 1.0018, 0.8639, 0.9653, 1.0099, 0.9138, 0.7062, 0.7806, 0.9838, 0.6178, 0.4041, 0.9186, 0.1894, 0.8342, -0.0442, 0.796, 0.2873, 0.4219, 0.382, 0.3982, 0.376, 0.1421, 0.2644, 0.0917, -0.0757, 1.4477, 1.4465, 1.444, 1.4429, 1.4425, 1.4407, 1.4399, 1.4391, 1.4389, 1.4383, 1.4381, 1.4377, 1.4374, 1.4368, 1.4363, 1.4356, 1.435, 1.4337, 1.4336, 1.4333, 1.4331, 1.4327, 1.4326, 1.4325, 1.4324, 1.4315, 1.4308, 1.4292, 1.4281, 1.428, 1.3919, 1.4225, 1.3796, 1.3588, 1.3787, 1.3072, 1.3, 1.4205, 1.2488, 1.3035, 1.1404, 1.3797, 1.1548, 1.354, 1.2945, 1.0882, 1.0717, 1.1636, 1.2918, 1.3117, 1.062, 0.9477, 0.8732, 1.0235, 1.139, 0.2965, 0.9229, 0.5352, 0.2701, 0.2925, 0.282, 0.4292, -0.5432, 0.3561, 0.3527, 0.5785, -0.0126, -0.6919, -0.0464, 1.6956, 1.6928, 1.6907, 1.6901, 1.6898, 1.6896, 1.6878, 1.6878, 1.6878, 1.6877, 1.6868, 1.6868, 1.6862, 1.6854, 1.6853, 1.6842, 1.6841, 1.6832, 1.6819, 1.6817, 1.6815, 1.6814, 1.6813, 1.68, 1.6789, 1.6788, 1.6779, 1.6765, 1.6753, 1.6751, 1.6603, 1.6701, 1.6492, 1.6494, 1.6631, 1.6287, 1.6421, 1.6325, 1.5703, 1.3691, 1.6057, 1.2748, 1.4633, 1.2879, 0.5608, 1.3194, 0.5099, 1.2137, 0.687, 1.3189, 0.2178, 0.7384, 0.6755, 1.0784, 0.4468, 0.3214, 0.1803, 0.9901, 0.5757, 1.081, 0.288, 0.6435, 0.0781, 0.096, -0.0557, 0.6063, -0.4011, 0.7502, -0.4811, 0.3059, 0.1951, 1.7103, 1.7095, 1.7083, 1.7051, 1.7043, 1.7039, 1.703, 1.7016, 1.7002, 1.6971, 1.6966, 1.6944, 1.6939, 1.6924, 1.6898, 1.6889, 1.6878, 1.6877, 1.6877, 1.6874, 1.6871, 1.6865, 1.684, 1.6828, 1.6818, 1.6804, 1.6795, 1.678, 1.678, 1.6779, 1.6591, 1.6733, 1.608, 1.6352, 1.6001, 1.5765, 1.5701, 1.6359, 1.505, 1.6106, 1.2964, 1.4235, 1.4245, 1.6144, 1.4637, 1.1327, 1.2167, 1.1691, 1.1328, 0.9096, 0.8175, 0.8327, 1.2327, 0.6542, 0.3433, 0.2078, 0.3771, 1.1495, 0.8156, 0.7026, 1.0001, 0.6339, -0.157, 0.7173, 0.9669, 0.38, 0.1065, 0.846, 0.3839, 0.3014, 0.1947, 0.4316, 2.6163, 2.614, 2.6092, 2.606, 2.6026, 2.6023, 2.6001, 2.5979, 2.5975, 2.5973, 2.594, 2.5935, 2.5931, 2.5918, 2.5915, 2.591, 2.5908, 2.5906, 2.5895, 2.5888, 2.5858, 2.5858, 2.5857, 2.5853, 2.5841, 2.581, 2.5807, 2.5805, 2.5796, 2.5793, 2.5757, 2.5439, 2.4427, 2.3666, 2.5566, 2.3449, 2.5424, 2.4244, 2.2773, 2.1247, 2.3031, 2.1883, 2.4864, 1.8203, 2.0113, 1.5865, 1.1289, 1.0038, 1.7879, 0.9495, 2.1283, 0.1336, 0.4848, 1.6513, 0.376, 1.4722, 1.903, -0.0234, 0.913, -0.4267, -0.2647]}, \"token.table\": {\"Topic\": [2, 3, 4, 1, 1, 2, 4, 1, 2, 4, 2, 4, 1, 3, 5, 1, 1, 1, 1, 1, 1, 2, 3, 1, 1, 2, 1, 1, 1, 2, 4, 1, 2, 1, 2, 1, 4, 1, 1, 1, 1, 1, 3, 1, 3, 1, 2, 3, 5, 1, 2, 3, 1, 1, 1, 2, 2, 1, 1, 2, 3, 4, 4, 5, 1, 3, 1, 2, 3, 4, 5, 5, 3, 1, 5, 4, 1, 2, 3, 4, 3, 3, 1, 2, 3, 4, 5, 2, 1, 1, 2, 3, 1, 2, 3, 4, 1, 2, 3, 4, 5, 5, 5, 4, 2, 1, 3, 4, 5, 5, 1, 5, 1, 2, 3, 4, 4, 1, 3, 4, 5, 5, 2, 3, 4, 3, 3, 3, 1, 2, 3, 4, 5, 3, 5, 5, 1, 3, 4, 5, 4, 5, 4, 1, 2, 3, 4, 5, 1, 2, 3, 4, 5, 1, 1, 2, 1, 5, 3, 3, 1, 2, 3, 4, 1, 2, 1, 2, 3, 4, 1, 2, 3, 4, 5, 4, 1, 2, 3, 4, 5, 5, 2, 3, 4, 4, 1, 2, 3, 4, 5, 4, 1, 2, 3, 1, 1, 2, 1, 2, 3, 4, 2, 2, 2, 3, 2, 3, 3, 4, 4, 5, 1, 2, 3, 4, 5, 1, 2, 3, 4, 2, 4, 5, 1, 2, 1, 2, 3, 4, 2, 4, 5, 1, 2, 4, 4, 1, 3, 4, 5, 4, 1, 2, 4, 1, 2, 4, 1, 2, 3, 4, 5, 2, 5, 1, 2, 3, 4, 5, 1, 3, 4, 1, 2, 3, 4, 5, 1, 2, 3, 4, 5, 1, 2, 3, 4, 5, 1, 2, 3, 4, 5, 2, 3, 1, 2, 3, 4, 4, 5, 1, 3, 4, 2, 2, 2, 4, 1, 2, 3, 4, 5, 2, 2, 3, 4, 5, 5, 1, 2, 3, 4, 5, 1, 3, 4, 5, 2, 1, 2, 3, 4, 5, 5, 4, 2, 5, 3, 1, 2, 3, 4, 5, 1, 2, 3, 4, 5, 1, 2, 3, 1, 4, 1, 3, 4, 5, 3, 1, 2, 4, 3, 5, 1, 4, 2, 1, 2, 4, 1, 3, 4, 3, 2, 1, 2, 4, 5, 2, 4, 1, 2, 3, 4, 5, 1, 2, 3, 4, 3, 5, 1, 2, 3, 4, 5, 3, 1, 2, 3, 4, 5, 4, 5, 1, 2, 4, 5, 5, 5, 4, 3, 3, 1, 2, 5, 3, 1, 3, 3, 5, 1, 2, 3, 4, 5, 1, 2, 3, 4, 5, 1, 1, 1, 2, 3, 4, 2, 4, 4, 2, 3, 4, 5, 1, 2, 4, 3, 1, 1, 1, 3, 1, 2, 3, 4, 5, 1, 2, 3, 4, 5, 2, 4, 5, 2, 2, 3, 1, 3, 4, 5, 2, 1, 2, 1, 2, 1, 2, 4, 5, 3, 5, 1, 3, 1, 3, 4, 5, 2, 1, 2, 5, 5, 2, 3, 2, 4, 1, 2, 3, 4, 5, 1, 2, 1, 2, 3, 4, 1, 2, 4, 4, 1, 2, 3, 4, 5, 2, 3, 4, 3, 5, 3, 1, 2, 3, 4, 5, 4, 1, 2, 3, 4, 5, 1, 2, 2, 2, 2, 2, 3, 4, 5, 4, 4, 4, 5, 1, 3, 5, 3, 3, 1, 3, 1, 2, 3, 4, 1, 2, 3, 4, 5, 5, 4, 2, 3, 4, 2, 2, 1, 3, 4, 5, 1, 2, 3, 4, 5, 1, 2, 3, 4, 5, 2, 3, 5, 1, 1, 2, 3, 4, 5, 1, 2, 3, 4, 5, 3, 5, 1, 5, 1, 2, 4, 2, 2, 1, 1, 2, 3, 4, 1, 2, 1, 2, 4, 1, 2, 3, 4, 1, 2, 3, 4, 1, 2, 3, 4, 5, 3, 4, 1, 2, 3, 4, 4, 2, 3, 4, 5, 2, 3, 5, 1, 3, 1, 2, 3, 4, 1, 2, 3, 4, 1, 2, 3, 4, 5], \"Freq\": [0.8637618854533179, 0.1361595090369762, 0.9808950698978887, 0.9909352452677013, 0.01607692643885981, 0.7341796407079314, 0.25187184754213704, 0.3159611493944026, 0.6783871736997468, 0.0030976583273961042, 0.03683012428687366, 0.9575832314587152, 0.9240325397542072, 0.0434838842237274, 0.027177427639829624, 0.9925814722573514, 0.9931922835115389, 0.9967599566103202, 0.991207588368317, 0.9991930398633534, 0.841813378362355, 0.0353063176780264, 0.12253369076491517, 0.9914048104457375, 0.9754849782866595, 0.024724273643210264, 0.9943205486393556, 0.9860756179837272, 0.2839366327092511, 0.6834881817312513, 0.03230416779326809, 0.9224154247395159, 0.0771059333373589, 0.8470078779344014, 0.15142040275922258, 0.42160003036838645, 0.5792715864411163, 0.9949057051883564, 0.9925511501883497, 0.9944992078246002, 0.9921240002002746, 0.994730408638819, 0.9962737655253299, 0.886581809430818, 0.11286468595769207, 0.7220541088007727, 0.07658149638796075, 0.20129993336263965, 0.9786417773744998, 0.8330806234396743, 0.07063074850901586, 0.09417433134535448, 0.9956505767389067, 0.9908072760804213, 0.9033343934776359, 0.09829027079290338, 0.9872012142907453, 0.994521926770219, 0.12206729520939469, 0.15356853268278686, 0.4922068355217528, 0.2283839716820933, 0.9680835927377254, 0.9811983116607658, 0.06457870583888718, 0.9310096758439568, 0.3164954857031371, 0.13594436969799178, 0.3204403000024092, 0.22090960075923666, 0.006068945075803205, 0.9611792664769037, 0.9869342092058243, 0.10260961832884, 0.8550801527403332, 0.9634208849693092, 0.19652990150796282, 0.18398543970958223, 0.6146786281206497, 0.004181487266126869, 0.9923210619204469, 0.9894092904718526, 0.3910030478861507, 0.09701579383641333, 0.1558132446463608, 0.1675727348083503, 0.1881518425918319, 0.9878088640440403, 0.9984029503694887, 0.29938437553815833, 0.6954643257842932, 0.0037190605656914075, 0.6139724816057741, 0.3065458014330121, 0.025545483452751004, 0.053733603124752116, 0.7345423973668028, 0.09516338751310806, 0.011895423439138507, 0.06542482891526179, 0.09218953165332343, 0.9701076696481636, 0.9341830595949879, 0.9799699359332719, 0.9838277564729858, 0.2619570919566976, 0.1383924259393874, 0.5683974636796268, 0.029655519844154443, 0.9888442847996032, 0.9922315299420397, 0.9789006338403314, 0.9382627165033909, 0.011952391293036827, 0.04780956517214731, 0.970508008117333, 0.9651300273893213, 0.48475152452113207, 0.24373742384629957, 0.2628006860465688, 0.008169969514401102, 0.9789800644628591, 0.9872282846299888, 0.8772527103883949, 0.11828126432203077, 0.9828790447200881, 0.9783671379262082, 0.9913950518037835, 0.4957333258841971, 0.04466065998956731, 0.3044368322622171, 0.15333493263084774, 0.0018608608328986376, 0.9518299973955249, 0.048193923918760755, 0.9702454041855022, 0.9962204229597438, 0.3074720160410284, 0.040105045570568924, 0.6416807291291028, 0.9815100783512023, 0.9636524849503503, 0.9778556252967604, 0.43274167381441425, 0.13063899586850242, 0.3245562553608107, 0.08777307534915006, 0.024494811725344203, 0.1725646371536678, 0.01785151418831046, 0.011901009458873641, 0.023802018917747282, 0.7735656148267867, 0.9869582034638509, 0.910267837421163, 0.08645001807910487, 0.043094084947840464, 0.9480698688524902, 0.9879569918871457, 0.9921819219587636, 0.16949653570443549, 0.39323196283429035, 0.031639353331494625, 0.40679168569064517, 0.1380160836565897, 0.8571525195514519, 0.8690549539288563, 0.12070207693456338, 0.0068972615391179075, 0.0034486307695589537, 0.0029063269416234735, 0.7425665335847975, 0.046501231065975576, 0.20198972244283142, 0.005812653883246947, 0.979147136616749, 0.07294626389483984, 0.0060788553245699865, 0.6534769473912735, 0.2279570746713745, 0.03951255960970491, 0.985599768406664, 0.9826341688059385, 0.9634903410014994, 0.9829471228634836, 0.9834543201128338, 0.16316595136892226, 0.341628710678681, 0.09178084764501877, 0.22435318313226812, 0.17846275930975872, 0.9869050729266033, 0.05222978497671423, 0.9421978316194107, 0.0054978721028120245, 0.9970996653317318, 0.9696285608479452, 0.029606978957189167, 0.0911523510733328, 0.003038411702444427, 0.00911523510733328, 0.896331452221106, 0.9821354369678902, 0.9942908821518969, 0.9817218404007356, 0.9842536697863195, 0.9921658124123935, 0.9896225376117478, 0.0667786293920517, 0.9182061541407109, 0.9355205477922416, 0.9489739368387656, 0.060201297983171635, 0.6106131652578837, 0.008600185426167375, 0.008600185426167375, 0.31820686076819293, 0.8860568921273332, 0.050500651882905, 0.0045909683529913635, 0.055091620235896366, 0.16738777504891345, 0.771843629392212, 0.05579592501630448, 0.9581479967401411, 0.04077225518043153, 0.11807774037336416, 0.8158098425796069, 0.008945283361618497, 0.05724981351435838, 0.08059705159382273, 0.9067168304305058, 0.982773756172354, 0.017135586877200994, 0.932175926119734, 0.05140676063160298, 0.9953576833167455, 0.018023769100813755, 0.2343089983105788, 0.14419015280651004, 0.6037962648772608, 0.9713474774518639, 0.00497829649717492, 0.7325207702985954, 0.26171615870862436, 0.3825166334762215, 0.34043980379383715, 0.2773245592702606, 0.2472053026982048, 0.1526856281371265, 0.3489957214562891, 0.1817686049251506, 0.07270744197006024, 0.03930475081602691, 0.904009268768619, 0.3630340914509788, 0.22331373388596396, 0.25197432005314646, 0.16121579719040177, 0.9608027299602543, 0.28770578598680113, 0.536178964793584, 0.17000796444674612, 0.3812092650657709, 0.19060463253288545, 0.19785589572707132, 0.19992768521112442, 0.03004094751876999, 0.23758399149524126, 0.31336509223079234, 0.01843324071945837, 0.406555364756943, 0.023553585363752363, 0.22578585879264607, 0.21663237803078203, 0.11899524990423238, 0.4180089547917907, 0.021358121777682735, 0.15394266307682172, 0.11545699730761629, 0.11545699730761629, 0.6157706523072869, 0.005497952252743633, 0.9916783121670787, 0.9802080923604973, 0.0033801257712151667, 0.588141884191439, 0.016900628856075833, 0.38871446368974416, 0.9835825622231342, 0.9600117944320519, 0.21324001258881892, 0.6610440390253386, 0.12367920730151498, 0.9797740031359581, 0.9832229121884445, 0.9809775952793777, 0.01043593186467423, 0.06921090764174734, 0.04498708996713577, 0.24223817674611567, 0.6055954418652891, 0.03806599920296103, 0.9703241284081716, 0.0043723152794168454, 0.12679714310308854, 0.8679045829642439, 0.9768704733780753, 0.9535264917589245, 0.1619607622630748, 0.3106262380717181, 0.3638073838894441, 0.13657885175916007, 0.027799235313811343, 0.18483083948304183, 0.7179967226072009, 0.08293691515264698, 0.014217756883310909, 0.9930912905516479, 0.14423855628360338, 0.08654313377016203, 0.686575527909952, 0.07500404926747375, 0.01153908450268827, 0.985880682774616, 0.9923261304776969, 0.24027918929544728, 0.7592822381736134, 0.985623007662541, 0.08981477571225921, 0.08745122898298924, 0.33562363555633706, 0.29071624770020743, 0.19853792525867825, 0.43157371662453975, 0.3339740068578594, 0.11742465081303731, 0.06252481406927961, 0.05642483220886208, 0.7631574071896705, 0.2331869855301771, 0.0030284024094828195, 0.08840558831031108, 0.9061572801806885, 0.05680312690615748, 0.18934375635385828, 0.3692203248900236, 0.37868751270771656, 0.9814835122353445, 0.3454850524765055, 0.6533430200298272, 0.9824586789745365, 0.9034000817582186, 0.07924562120686128, 0.036336158720753894, 0.9447401267396013, 0.9814120424252726, 0.003292642840717627, 0.10865721374368169, 0.8890135669937593, 0.18151733676236034, 0.2607249018950267, 0.5577532711425255, 0.9929925092562378, 0.9882394177242054, 0.9948314659675772, 0.06707869589310556, 0.11179782648850926, 0.8273039160149686, 0.9738668831142971, 0.017085383914285913, 0.30527944110896965, 0.3343536735955382, 0.0915838323326909, 0.21805674364926406, 0.050879906851494947, 0.21328570607347047, 0.2455592010714298, 0.09401409412449027, 0.4462161482326553, 0.5101816035928443, 0.4810283691018246, 0.3998747244932786, 0.11728525394276822, 0.22734641615717752, 0.2532681570648183, 0.0025496794335384395, 0.9796463772252861, 0.028939518238725474, 0.017363710943235282, 0.2257282422620587, 0.3704258334556861, 0.3530621225124508, 0.0221326380066652, 0.9517034342866035, 0.06965996494071697, 0.008707495617589621, 0.9229945354644998, 0.9544885688248603, 0.957569391909408, 0.9549600991256956, 0.9530907184859027, 0.9954432687712604, 0.995274325429532, 0.1042991923313791, 0.17383198721896517, 0.7300943463196536, 0.9709293376520051, 0.993451058708418, 0.9964988635957822, 0.9650426353252786, 0.018208351609910915, 0.005533082905911796, 0.135560531194839, 0.002766541452955898, 0.8078301042631222, 0.04979774615320617, 0.3071054733935511, 0.12787988166545347, 0.21894585800297336, 0.3448881657037987, 0.0009687869823140414, 0.9808734912651815, 0.9966926362003266, 0.6702779467882133, 0.3151048355011748, 0.0009893401428608315, 0.01385076200005164, 0.5247457629625178, 0.47227118666626605, 0.9892626934482003, 0.013981184904752217, 0.1677742188570266, 0.11184947923801773, 0.713040430142363, 0.17280773751703582, 0.7499855808239355, 0.07603540450749575, 0.9845552176768304, 0.9993950788375403, 0.9945984445941652, 0.9851301325698939, 0.014487207831910204, 0.4820096250898086, 0.20789552519847973, 0.16323648645213965, 0.10625771287922298, 0.04003913818637388, 0.03376336371660128, 0.08862882975607837, 0.13083303440182997, 0.7470144222298034, 0.9713420166956646, 0.8553302744203202, 0.05298506124727647, 0.09083153356675967, 0.9861657261877964, 0.8665205375992971, 0.12657041560439172, 0.012605273950302389, 0.226894931105443, 0.226894931105443, 0.5420267798630027, 0.9941327491574752, 0.13328183251692574, 0.864943558937966, 0.08703273770017883, 0.9104963328634093, 0.024671037214907637, 0.37006555822361453, 0.1562499023610817, 0.44407866986833744, 0.9785661472926355, 0.9599579436781859, 0.005890540308020965, 0.9896107717475221, 0.3590724748905223, 0.38600291050731145, 0.24536619117519023, 0.005984541248175371, 0.9720884059099932, 0.08458736125722713, 0.9093141335151916, 0.010573420157153391, 0.9933108294073961, 0.9829321874159077, 0.9861481689036476, 0.9963714622433815, 0.9941666645760712, 0.371779656231885, 0.09072135152069921, 0.1672119028028574, 0.2632698044130095, 0.10495215175924026, 0.13904220094818504, 0.8590141455839925, 0.5039998957869534, 0.39934417972190295, 0.019278684538298764, 0.07573768925760228, 0.011093440122795478, 0.4992048055257965, 0.48811136540300104, 0.9647679872480087, 0.2540151514382724, 0.29666003087681453, 0.3597002874381376, 0.020395377122780996, 0.07045675733324344, 0.9940414848357727, 0.04869547885932126, 0.9414459246135444, 0.9905519755234823, 0.956071077353115, 0.9858014830696709, 0.04419503338372746, 0.0044195033383727465, 0.16794112685816437, 0.7468960641849941, 0.039775530045354716, 0.9930833272738535, 0.06449389847664524, 0.26872457698602187, 0.06449389847664524, 0.171983729271054, 0.42995932317763497, 0.9684955946560952, 0.030265487333002977, 0.9755449472995402, 0.995712492618979, 0.9891980335441464, 0.9251814717155756, 0.025004904640961504, 0.03750735696144226, 0.9831238570400368, 0.9809043404987186, 0.9844984345712502, 0.9708972122623951, 0.9326288816207717, 0.027874016364066598, 0.9625826984390998, 0.007433071030417759, 0.9950366879340072, 0.9922091941902283, 0.05073583936867152, 0.947069001548535, 0.0021602888442777066, 0.6048808763977579, 0.02592346613133248, 0.36724910352721013, 0.27694126409634423, 0.22861594284463313, 0.2490612710665109, 0.1933012850068443, 0.05018398745369996, 0.9919298677983754, 0.9815116792148978, 0.23165998924161255, 0.6809399683768611, 0.0842399960878591, 0.9840836380556578, 0.9853239028221599, 0.028012978491808782, 0.966447757967403, 0.16240236235524885, 0.8360714210140588, 0.13628938404211097, 0.359606928978582, 0.14285754712847779, 0.2430220341955714, 0.1182269355546023, 0.4412937618599264, 0.23098268186965598, 0.1725629374279142, 0.07190122392829758, 0.08268640751754222, 0.13527287672165228, 0.2512210567687828, 0.6183902935846961, 0.9910801566684424, 0.13881073837535093, 0.11505034171650708, 0.28637530709869696, 0.4126805735483406, 0.04752079331768771, 0.06740649627846844, 0.9314352213024729, 0.9387768593021495, 0.013222209285945767, 0.05288883714378307, 0.9911491538085494, 0.9541457078477481, 0.0693591514863724, 0.9190087571944342, 0.06619636078915563, 0.06619636078915563, 0.8644465938348559, 0.9888682854762283, 0.9830823373537587, 0.9895624322184571, 0.07395377983875433, 0.560199882278564, 0.001848844495968858, 0.3623735212098962, 0.8286716922324809, 0.1688762216397947, 0.7848283910776749, 0.21377788264429204, 0.9660327935979846, 0.3007618962304009, 0.2745326610940287, 0.38294683299103366, 0.04021816054243733, 0.17514386392177775, 0.004733617943831831, 0.5396324455968288, 0.27928345868607807, 0.4925513625349193, 0.17384165736526563, 0.11589443824351044, 0.19557186453592385, 0.023178887648702087, 0.9499668542300472, 0.04318031155591124, 0.1027444672094837, 0.00790342055457567, 0.7903420554575669, 0.1027444672094837, 0.98760217513039, 0.41680842361783016, 0.01995359474766208, 0.5564835868514647, 0.004434132166147129, 0.9659233467316141, 0.019712721361869676, 0.9520885268219589, 0.8242005266114636, 0.17376307398646243, 0.4082798481747189, 0.030493930569066144, 0.22192805025264803, 0.3388214507674016, 0.13760832928335962, 0.05837929121112226, 0.14872819427595432, 0.6560720345630883, 0.21939092013163375, 0.46409617720153296, 0.07875571491904801, 0.011250816417006858, 0.22501632834013718], \"Term\": [\"0\", \"0\", \"000\", \"1000\", \"1080p\", \"1080p\", \"1080p\", \"1440p\", \"1440p\", \"1440p\", \"144hz\", \"144hz\", \"15\", \"15\", \"15\", \"18\", \"2080_ti\", \"2080ti\", \"3060\", \"3070\", \"3080\", \"3080\", \"3080\", \"3080ti\", \"3090\", \"3090\", \"350\", \"499\", \"4k\", \"4k\", \"4k\", \"50\", \"50\", \"500\", \"500\", \"5700xt\", \"5700xt\", \"579\", \"600\", \"649\", \"650\", \"6700\", \"6700xt\", \"6800\", \"6800\", \"6800xt\", \"6800xt\", \"6800xt\", \"6900\", \"6900xt\", \"6900xt\", \"6900xt\", \"70\", \"700\", \"80\", \"80\", \"8k\", \"999\", \"able\", \"able\", \"able\", \"able\", \"adaptive_sync\", \"ah\", \"aib\", \"aib\", \"amd\", \"amd\", \"amd\", \"amd\", \"amd\", \"anti\", \"api\", \"assumption\", \"assumption\", \"ati\", \"available\", \"available\", \"available\", \"available\", \"backorder\", \"backorders\", \"bad\", \"bad\", \"bad\", \"bad\", \"bad\", \"bandwidth\", \"beat\", \"benchmark\", \"benchmark\", \"benchmark\", \"better\", \"better\", \"better\", \"better\", \"bit\", \"bit\", \"bit\", \"bit\", \"bit\", \"black_friday\", \"block\", \"bot\", \"bottleneck\", \"bought\", \"bought\", \"bought\", \"bought\", \"bro\", \"buck\", \"buddy\", \"budget\", \"budget\", \"budget\", \"bug\", \"building\", \"buy\", \"buy\", \"buy\", \"buy\", \"cable\", \"cache\", \"called\", \"called\", \"canada\", \"canada_computer\", \"cancelled\", \"card\", \"card\", \"card\", \"card\", \"card\", \"cc\", \"cc\", \"chat\", \"cheaper\", \"check\", \"check\", \"check\", \"checked\", \"checkout\", \"child\", \"come\", \"come\", \"come\", \"come\", \"come\", \"comment\", \"comment\", \"comment\", \"comment\", \"comment\", \"comparable\", \"compared\", \"compared\", \"confirm\", \"confirm\", \"confirmation\", \"confused\", \"console\", \"console\", \"console\", \"console\", \"core\", \"core\", \"cost\", \"cost\", \"cost\", \"cost\", \"cpu\", \"cpu\", \"cpu\", \"cpu\", \"cpu\", \"crash\", \"day\", \"day\", \"day\", \"day\", \"day\", \"decompression\", \"dedicated\", \"deposit\", \"dev\", \"devs\", \"different\", \"different\", \"different\", \"different\", \"different\", \"display\", \"dl\", \"dl\", \"dl\", \"dollar\", \"double\", \"double\", \"driver\", \"driver\", \"driver\", \"driver\", \"dx12\", \"dxr\", \"effect\", \"email\", \"enabled\", \"encoder\", \"enjoy\", \"enjoy\", \"environment\", \"est\", \"example\", \"example\", \"example\", \"example\", \"example\", \"expensive\", \"expensive\", \"expensive\", \"expensive\", \"experience\", \"experience\", \"experience\", \"faster\", \"faster\", \"feature\", \"feature\", \"feature\", \"feature\", \"fixed\", \"fixed\", \"forgot\", \"fps\", \"fps\", \"fps\", \"freesync\", \"fuck\", \"fuck\", \"fuck\", \"fuck\", \"g_sync\", \"game\", \"game\", \"game\", \"gaming\", \"gaming\", \"gaming\", \"getting\", \"getting\", \"getting\", \"getting\", \"getting\", \"god\", \"god\", \"going\", \"going\", \"going\", \"going\", \"gold\", \"gonna\", \"gonna\", \"gonna\", \"good\", \"good\", \"good\", \"good\", \"good\", \"gpu\", \"gpu\", \"gpu\", \"gpu\", \"gpu\", \"gpus\", \"gpus\", \"gpus\", \"gpus\", \"gpus\", \"graphic\", \"graphic\", \"graphic\", \"graphic\", \"graphic\", \"gsync\", \"happened\", \"hardware\", \"hardware\", \"hardware\", \"hardware\", \"hdmi\", \"hdr\", \"hope\", \"hope\", \"hope\", \"image\", \"implement\", \"implementation\", \"implementation\", \"intel\", \"intel\", \"intel\", \"intel\", \"intel\", \"io\", \"issue\", \"issue\", \"issue\", \"item\", \"january\", \"know\", \"know\", \"know\", \"know\", \"know\", \"launch\", \"launch\", \"launch\", \"launch\", \"lighting\", \"line\", \"line\", \"line\", \"line\", \"line\", \"link\", \"linux\", \"lmao\", \"lmao\", \"location\", \"lol\", \"lol\", \"lol\", \"lol\", \"lol\", \"look\", \"look\", \"look\", \"look\", \"look\", \"lower\", \"lower\", \"lower\", \"majority\", \"majority\", \"man\", \"man\", \"man\", \"man\", \"managed\", \"memory\", \"memory\", \"mining\", \"minute\", \"minute\", \"mobile\", \"mobile\", \"mobo\", \"monitor\", \"monitor\", \"monitor\", \"month\", \"month\", \"month\", \"morning\", \"motherboard\", \"msrp\", \"multiple\", \"multiple\", \"multiple\", \"native\", \"native\", \"need\", \"need\", \"need\", \"need\", \"need\", \"new\", \"new\", \"new\", \"new\", \"newegg\", \"newegg\", \"nvidia\", \"nvidia\", \"nvidia\", \"nvidia\", \"nvidia\", \"official\", \"oh\", \"oh\", \"oh\", \"oh\", \"oh\", \"okay\", \"okay\", \"old\", \"old\", \"old\", \"oof\", \"op\", \"opencl\", \"opengl\", \"order\", \"ordered\", \"original\", \"original\", \"original\", \"paper_launch\", \"par\", \"partner\", \"paypal\", \"paypal\", \"pc\", \"pc\", \"pc\", \"pc\", \"pc\", \"people\", \"people\", \"people\", \"people\", \"people\", \"percent\", \"perf\", \"performance\", \"performance\", \"performance\", \"performance\", \"play\", \"play\", \"played\", \"post\", \"post\", \"post\", \"post\", \"power\", \"power\", \"power\", \"pre_order\", \"price\", \"priced\", \"pricing\", \"pricing\", \"probably\", \"probably\", \"probably\", \"probably\", \"probably\", \"problem\", \"problem\", \"problem\", \"problem\", \"province\", \"psu\", \"psu\", \"psu\", \"psus\", \"quality\", \"quality\", \"r\", \"r\", \"r\", \"r\", \"rage_mode\", \"ray_tracing\", \"ray_tracing\", \"raytracing\", \"raytracing\", \"read\", \"read\", \"read\", \"read\", \"received\", \"reddit\", \"reference\", \"reference\", \"release\", \"release\", \"release\", \"release\", \"render\", \"rendering\", \"rendering\", \"rendering\", \"reply\", \"requires\", \"research\", \"resolution\", \"rig\", \"right\", \"right\", \"right\", \"right\", \"right\", \"rt\", \"rt\", \"rtx\", \"rtx\", \"rtx\", \"rtx\", \"run\", \"run\", \"run\", \"rx480\", \"said\", \"said\", \"said\", \"said\", \"said\", \"sam\", \"samsung\", \"samsung\", \"sapphire\", \"scalping\", \"shipping\", \"shit\", \"shit\", \"shit\", \"shit\", \"shit\", \"shitty\", \"single\", \"single\", \"single\", \"single\", \"single\", \"slightly\", \"slightly\", \"smart_access\", \"smart_access_memory\", \"smart_memory\", \"solution\", \"solution\", \"solution\", \"sounded\", \"stability\", \"stable\", \"starting\", \"stem\", \"stock\", \"stock\", \"stock\", \"store\", \"stream\", \"super_resolution\", \"super_resolution\", \"support\", \"support\", \"support\", \"support\", \"sure\", \"sure\", \"sure\", \"sure\", \"sure\", \"tax\", \"team_red\", \"tell\", \"tell\", \"tell\", \"tensor_core\", \"texture\", \"thank\", \"thank\", \"thanks\", \"thanks\", \"thing\", \"thing\", \"thing\", \"thing\", \"thing\", \"think\", \"think\", \"think\", \"think\", \"think\", \"thread\", \"thread\", \"thread\", \"ti\", \"time\", \"time\", \"time\", \"time\", \"time\", \"title\", \"title\", \"told\", \"told\", \"told\", \"tomorrow\", \"trolling\", \"u\", \"u\", \"upgrade\", \"upgrade\", \"upgrade\", \"upscaling\", \"usage\", \"usd\", \"use\", \"use\", \"use\", \"use\", \"value\", \"value\", \"vram\", \"vram\", \"vrr\", \"wait\", \"wait\", \"wait\", \"wait\", \"waiting\", \"waiting\", \"waiting\", \"waiting\", \"want\", \"want\", \"want\", \"want\", \"want\", \"week\", \"week\", \"went\", \"went\", \"went\", \"went\", \"window\", \"work\", \"work\", \"work\", \"work\", \"x570\", \"x570\", \"xd\", \"xt\", \"xt\", \"yeah\", \"yeah\", \"yeah\", \"yeah\", \"year\", \"year\", \"year\", \"year\", \"yes\", \"yes\", \"yes\", \"yes\", \"yes\"]}, \"R\": 30, \"lambda.step\": 0.01, \"plot.opts\": {\"xlab\": \"PC1\", \"ylab\": \"PC2\"}, \"topic.order\": [5, 1, 3, 4, 2]};\n",
       "\n",
       "function LDAvis_load_lib(url, callback){\n",
       "  var s = document.createElement('script');\n",
       "  s.src = url;\n",
       "  s.async = true;\n",
       "  s.onreadystatechange = s.onload = callback;\n",
       "  s.onerror = function(){console.warn(\"failed to load library \" + url);};\n",
       "  document.getElementsByTagName(\"head\")[0].appendChild(s);\n",
       "}\n",
       "\n",
       "if(typeof(LDAvis) !== \"undefined\"){\n",
       "   // already loaded: just create the visualization\n",
       "   !function(LDAvis){\n",
       "       new LDAvis(\"#\" + \"ldavis_el455624395620502407217039395\", ldavis_el455624395620502407217039395_data);\n",
       "   }(LDAvis);\n",
       "}else if(typeof define === \"function\" && define.amd){\n",
       "   // require.js is available: use it to load d3/LDAvis\n",
       "   require.config({paths: {d3: \"https://cdnjs.cloudflare.com/ajax/libs/d3/3.5.5/d3.min\"}});\n",
       "   require([\"d3\"], function(d3){\n",
       "      window.d3 = d3;\n",
       "      LDAvis_load_lib(\"https://cdn.rawgit.com/bmabey/pyLDAvis/files/ldavis.v1.0.0.js\", function(){\n",
       "        new LDAvis(\"#\" + \"ldavis_el455624395620502407217039395\", ldavis_el455624395620502407217039395_data);\n",
       "      });\n",
       "    });\n",
       "}else{\n",
       "    // require.js not available: dynamically load d3 & LDAvis\n",
       "    LDAvis_load_lib(\"https://cdnjs.cloudflare.com/ajax/libs/d3/3.5.5/d3.min.js\", function(){\n",
       "         LDAvis_load_lib(\"https://cdn.rawgit.com/bmabey/pyLDAvis/files/ldavis.v1.0.0.js\", function(){\n",
       "                 new LDAvis(\"#\" + \"ldavis_el455624395620502407217039395\", ldavis_el455624395620502407217039395_data);\n",
       "            })\n",
       "         });\n",
       "}\n",
       "</script>"
      ],
      "text/plain": [
       "PreparedData(topic_coordinates=              x         y  topics  cluster       Freq\n",
       "topic                                                \n",
       "4     -0.131982 -0.002892       1        1  33.088899\n",
       "0     -0.130093  0.168635       2        1  23.420945\n",
       "2      0.019188 -0.180480       3        1  18.281416\n",
       "3     -0.041527 -0.063902       4        1  17.953637\n",
       "1      0.284413  0.078639       5        1   7.255103, topic_info=           Term         Freq        Total Category  logprob  loglift\n",
       "389          dl  1455.000000  1455.000000  Default  30.0000  30.0000\n",
       "28        price  1537.000000  1537.000000  Default  29.0000  29.0000\n",
       "98         3070  1425.000000  1425.000000  Default  28.0000  28.0000\n",
       "314        game  1406.000000  1406.000000  Default  27.0000  27.0000\n",
       "5498       6800  1346.000000  1346.000000  Default  26.0000  26.0000\n",
       "...         ...          ...          ...      ...      ...      ...\n",
       "3100     newegg    33.377058    68.603022   Topic5  -6.0498   1.9030\n",
       "113        said    38.225146   539.337907   Topic5  -5.9141  -0.0234\n",
       "257   different    35.453038   196.119348   Topic5  -5.9894   0.9130\n",
       "399        time    37.864791   799.649950   Topic5  -5.9236  -0.4267\n",
       "167        look    36.510031   655.739655   Topic5  -5.9600  -0.2647\n",
       "\n",
       "[369 rows x 6 columns], token_table=      Topic      Freq   Term\n",
       "term                        \n",
       "420       2  0.863762      0\n",
       "420       3  0.136160      0\n",
       "2203      4  0.980895    000\n",
       "888       1  0.990935   1000\n",
       "1781      1  0.016077  1080p\n",
       "...     ...       ...    ...\n",
       "730       1  0.219391    yes\n",
       "730       2  0.464096    yes\n",
       "730       3  0.078756    yes\n",
       "730       4  0.011251    yes\n",
       "730       5  0.225016    yes\n",
       "\n",
       "[651 rows x 3 columns], R=30, lambda_step=0.01, plot_opts={'xlab': 'PC1', 'ylab': 'PC2'}, topic_order=[5, 1, 3, 4, 2])"
      ]
     },
     "execution_count": 55,
     "metadata": {},
     "output_type": "execute_result"
    }
   ],
   "source": [
    "# Visualize the topics\n",
    "pyLDAvis.enable_notebook()\n",
    "LDAvis_data_filepath = os.path.join(os.getcwd()+'\\\\visualization\\\\'+ 'trigram_' + 'ldavis_prepared_'+str(num_topics))\n",
    "# # this is a bit time consuming - make the if statement True\n",
    "# # if you want to execute visualization prep yourself\n",
    "if True:\n",
    "    LDAvis_prepared = pyLDAvis.gensim.prepare(trigram_lda_model, trigram_corpus, trigram_id2word)\n",
    "    with open(LDAvis_data_filepath, 'wb') as f:\n",
    "        pickle.dump(LDAvis_prepared, f)\n",
    "# load the pre-prepared pyLDAvis data from disk\n",
    "with open(LDAvis_data_filepath, 'rb') as f:\n",
    "    LDAvis_prepared = pickle.load(f)\n",
    "pyLDAvis.save_html(LDAvis_prepared, os.getcwd()+ '\\\\visualization\\\\' + 'trigram_' + 'ldavis_prepared_'+ str(num_topics) +'.html')\n",
    "LDAvis_prepared"
   ]
  },
  {
   "cell_type": "markdown",
   "metadata": {},
   "source": [
    "### Notes on the pyLDAvis bubbles\n",
    "\n",
    "* Each bubble represents a topic. The larger the bubble, the higher percentage of the number of tweets in the corpus is about that topic.\n",
    "\n",
    "* Blue bars represent the overall frequency of each word in the corpus. If no topic is selected, the blue bars of the most frequently used words will be displayed.\n",
    "\n",
    "* Red bars give the estimated number of times a given term was generated by a given topic. As you can see from the image below, there are about 22,000 of the word ‘go’, and this term is used about 10,000 times within topic 1. The word with the longest red bar is the word that is used the most by the tweets belonging to that topic.\n",
    "\n",
    "* The further the bubbles are away from each other, the more different they are. For example, it is difficult to tell the difference between topics 1 and 2. They seem to be both about social life, but it is much easier to tell the difference between topics 1 and 3. We can tell that topic 3 is about politics.\n",
    "\n",
    "A good topic model will have big and non-overlapping bubbles scattered throughout the chart. As we can see from the graph, the bubbles are clustered within one place. Can we do better than this?"
   ]
  },
  {
   "cell_type": "markdown",
   "metadata": {},
   "source": [
    "## Trigram Compute baseline coherence score"
   ]
  },
  {
   "cell_type": "code",
   "execution_count": 70,
   "metadata": {
    "ExecuteTime": {
     "end_time": "2021-01-22T12:18:16.111362Z",
     "start_time": "2021-01-22T12:17:56.935508Z"
    }
   },
   "outputs": [
    {
     "name": "stdout",
     "output_type": "stream",
     "text": [
      "\n",
      "Coherence Score:  0.5623156451536154\n"
     ]
    }
   ],
   "source": [
    "# Compute Coherence Score\n",
    "coherence_model_lda = CoherenceModel(model=trigram_lda_model, texts=data_trigrams, dictionary=trigram_id2word, coherence='c_v')\n",
    "trigram_coherence_lda = coherence_model_lda.get_coherence()\n",
    "\n",
    "# Append the trigram coherence score\n",
    "coherence_scores.append(trigram_coherence_lda)\n",
    "\n",
    "print('\\nCoherence Score: ', trigram_coherence_lda)"
   ]
  },
  {
   "cell_type": "markdown",
   "metadata": {},
   "source": [
    "## Summary of Coherence Scores and intrepretable topics"
   ]
  },
  {
   "cell_type": "code",
   "execution_count": 84,
   "metadata": {
    "ExecuteTime": {
     "end_time": "2021-01-22T12:23:18.744914Z",
     "start_time": "2021-01-22T12:23:18.731902Z"
    }
   },
   "outputs": [
    {
     "data": {
      "text/html": [
       "<div>\n",
       "<style scoped>\n",
       "    .dataframe tbody tr th:only-of-type {\n",
       "        vertical-align: middle;\n",
       "    }\n",
       "\n",
       "    .dataframe tbody tr th {\n",
       "        vertical-align: top;\n",
       "    }\n",
       "\n",
       "    .dataframe thead th {\n",
       "        text-align: right;\n",
       "    }\n",
       "</style>\n",
       "<table border=\"1\" class=\"dataframe\">\n",
       "  <thead>\n",
       "    <tr style=\"text-align: right;\">\n",
       "      <th></th>\n",
       "      <th>n_grams</th>\n",
       "      <th>coherence scores</th>\n",
       "      <th>number of intrepretable topics</th>\n",
       "    </tr>\n",
       "  </thead>\n",
       "  <tbody>\n",
       "    <tr>\n",
       "      <th>0</th>\n",
       "      <td>unigram</td>\n",
       "      <td>0.611331</td>\n",
       "      <td>2</td>\n",
       "    </tr>\n",
       "    <tr>\n",
       "      <th>1</th>\n",
       "      <td>bigram</td>\n",
       "      <td>0.576513</td>\n",
       "      <td>3</td>\n",
       "    </tr>\n",
       "    <tr>\n",
       "      <th>2</th>\n",
       "      <td>trigram</td>\n",
       "      <td>0.562316</td>\n",
       "      <td>2</td>\n",
       "    </tr>\n",
       "  </tbody>\n",
       "</table>\n",
       "</div>"
      ],
      "text/plain": [
       "   n_grams  coherence scores  number of intrepretable topics\n",
       "0  unigram          0.611331                               2\n",
       "1   bigram          0.576513                               3\n",
       "2  trigram          0.562316                               2"
      ]
     },
     "execution_count": 84,
     "metadata": {},
     "output_type": "execute_result"
    }
   ],
   "source": [
    "n_gram_summary_df = pd.DataFrame({'n_grams':n_grams, 'coherence scores':coherence_scores, 'number of intrepretable topics':no_intrepretable_topics})\n",
    "n_gram_summary_df"
   ]
  },
  {
   "cell_type": "markdown",
   "metadata": {},
   "source": [
    "Even though unigram has the highest coherence score among the n_grams, I'll be choosing **bigram** as the it has the largest number of intrepretable topics compared to the other n_grams and it has the **second highest coherence score**."
   ]
  },
  {
   "cell_type": "markdown",
   "metadata": {},
   "source": [
    "# LDA Mallet Model"
   ]
  },
  {
   "cell_type": "markdown",
   "metadata": {},
   "source": [
    "Notes:\n",
    "\n",
    "* Download [link](http://mallet.cs.umass.edu/download.php)\n",
    "* Need to install [JDK](https://www.oracle.com/java/technologies/javase-jdk15-downloads.html) (Java Development Kit) to make it work\n",
    "* Need to configure the [PATH file](https://docs.oracle.com/javase/10/install/installation-jdk-and-jre-microsoft-windows-platforms.htm#JSJIG-GUID-96EB3876-8C7A-4A25-9F3A-A2983FEC016A) after installing"
   ]
  },
  {
   "cell_type": "markdown",
   "metadata": {},
   "source": [
    "### Using bigrams"
   ]
  },
  {
   "cell_type": "code",
   "execution_count": 26,
   "metadata": {
    "ExecuteTime": {
     "end_time": "2021-01-22T07:38:07.344164Z",
     "start_time": "2021-01-22T07:38:07.329151Z"
    }
   },
   "outputs": [
    {
     "data": {
      "text/plain": [
       "'C:/mallet/mallet-2.0.8/bin/mallet.bat'"
      ]
     },
     "execution_count": 26,
     "metadata": {},
     "output_type": "execute_result"
    }
   ],
   "source": [
    "# Working cell\n",
    "os.environ.update({'MALLET_HOME': r'C:\\mallet\\mallet-2.0.8'})\n",
    "mallet_path = r'C:/mallet/mallet-2.0.8/bin/mallet.bat'\n",
    "# prefix_path = r'C:/mallet/ga_capstone'\n",
    "mallet_path"
   ]
  },
  {
   "cell_type": "code",
   "execution_count": 27,
   "metadata": {
    "ExecuteTime": {
     "end_time": "2021-01-22T07:38:07.360178Z",
     "start_time": "2021-01-22T07:38:07.345165Z"
    }
   },
   "outputs": [],
   "source": [
    "# Experimental cell\n",
    "# os.environ.update({'MALLET_HOME': r'C:\\\\Users\\\\Trogg\\\\Documents\\\\General Assembly DS 18\\\\dsi18-projects\\\\capstone\\\\mallet\\\\mallet-2.0.8'})\n",
    "#os.environ['MALLET_HOME'] = r'C:\\\\Users\\\\Trogg\\\\Documents\\\\General Assembly DS 18\\\\dsi18-projects\\\\capstone\\\\mallet\\\\mallet-2.0.8'\n",
    "# mallet_path = r'C:\\\\Users\\\\Trogg\\\\Documents\\\\General Assembly DS 18\\\\dsi18-projects\\\\capstone\\\\mallet\\\\mallet-2.0.8\\\\bin\\\\mallet.bat'\n",
    "\n",
    "\n",
    "\n",
    "# Github Solution\n",
    "# os.environ['MALLET_HOME'] = 'C:\\\\Users\\\\Trogg\\\\Documents\\\\General Assembly DS 18\\\\dsi18-projects\\\\capstone\\\\mallet\\\\mallet-2.0.8'\n",
    "# mallet_path = 'C:\\\\Users\\Trogg\\\\Documents\\\\General Assembly DS 18\\\\dsi18-projects\\\\capstone\\\\mallet\\\\mallet-2.0.8\\\\bin\\\\mallet.bat'\n",
    "# mallet_path\n",
    "\n",
    "\n",
    "# Notes\n",
    "# Could be that Java SDK is installed in C:\\\\ drive and only works there"
   ]
  },
  {
   "cell_type": "code",
   "execution_count": 28,
   "metadata": {
    "ExecuteTime": {
     "end_time": "2021-01-22T07:38:07.376193Z",
     "start_time": "2021-01-22T07:38:07.361180Z"
    }
   },
   "outputs": [
    {
     "data": {
      "text/plain": [
       "'C:\\\\mallet\\\\mallet-2.0.8'"
      ]
     },
     "execution_count": 28,
     "metadata": {},
     "output_type": "execute_result"
    }
   ],
   "source": [
    "os.getenv('MALLET_HOME')"
   ]
  },
  {
   "cell_type": "code",
   "execution_count": 31,
   "metadata": {
    "ExecuteTime": {
     "end_time": "2021-01-22T08:00:36.733106Z",
     "start_time": "2021-01-22T07:59:46.543959Z"
    }
   },
   "outputs": [],
   "source": [
    "ldamallet = LdaMallet(mallet_path, corpus=bigram_corpus, num_topics=10, id2word=bigram_id2word, prefix='lda_mallet_', workers=4,\n",
    "                     random_seed=42)"
   ]
  },
  {
   "cell_type": "code",
   "execution_count": 32,
   "metadata": {
    "ExecuteTime": {
     "end_time": "2021-01-22T08:00:37.259165Z",
     "start_time": "2021-01-22T08:00:37.244151Z"
    }
   },
   "outputs": [
    {
     "name": "stdout",
     "output_type": "stream",
     "text": [
      "[(0,\n",
      "  [('card', 0.10151982901923534),\n",
      "   ('people', 0.06494894324388506),\n",
      "   ('driver', 0.03977677511279981),\n",
      "   ('good', 0.029090477321301354),\n",
      "   ('issue', 0.026181429589171218),\n",
      "   ('release', 0.021728805509380195),\n",
      "   ('lot', 0.02107575397767751),\n",
      "   ('end', 0.02054143908810259),\n",
      "   ('5700xt', 0.019235336024697222),\n",
      "   ('amd', 0.01858228449299454)]),\n",
      " (1,\n",
      "  [('year', 0.04471306184720103),\n",
      "   ('time', 0.03696749207839455),\n",
      "   ('work', 0.025935923013730783),\n",
      "   ('month', 0.017779603332942144),\n",
      "   ('monitor', 0.01760356765637836),\n",
      "   ('run', 0.016664710714704847),\n",
      "   ('video', 0.013437389977702148),\n",
      "   ('upgrade', 0.012615890153737824),\n",
      "   ('super', 0.011853068888628096),\n",
      "   ('radeon', 0.011031569064663772)]),\n",
      " (2,\n",
      "  [('performance', 0.05368013281682346),\n",
      "   ('wait', 0.03775441185513128),\n",
      "   ('benchmark', 0.03363463075693292),\n",
      "   ('memory', 0.026440386152616367),\n",
      "   ('pretty', 0.025210600750169097),\n",
      "   ('review', 0.018631248847076187),\n",
      "   ('feature', 0.018323802496464366),\n",
      "   ('number', 0.017585931254996003),\n",
      "   ('yeah', 0.01598721023181455),\n",
      "   ('reason', 0.015741253151325095)]),\n",
      " (3,\n",
      "  [('3080', 0.09375913903023922),\n",
      "   ('performance', 0.07205942563022752),\n",
      "   ('6800xt', 0.05574077323507048),\n",
      "   ('rtx', 0.048488038837222906),\n",
      "   ('50', 0.021758203193542727),\n",
      "   ('difference', 0.020295958355267006),\n",
      "   ('10', 0.018248815581680997),\n",
      "   ('worth', 0.015324325905129554),\n",
      "   ('extra', 0.014680938176288238),\n",
      "   ('3090', 0.01462244838275721)]),\n",
      " (4,\n",
      "  [('amd', 0.18754201209948465),\n",
      "   ('nvidia', 0.14519381581895585),\n",
      "   ('intel', 0.019269549630293526),\n",
      "   ('thing', 0.0159085816715214),\n",
      "   ('market', 0.015516468742997983),\n",
      "   ('compete', 0.01434012995742774),\n",
      "   ('competition', 0.01277167824333408),\n",
      "   ('big', 0.012547613712749272),\n",
      "   ('product', 0.011651355590410037),\n",
      "   ('company', 0.011427291059825229)]),\n",
      " (5,\n",
      "  [('card', 0.04959072713150505),\n",
      "   ('buy', 0.0443926629622991),\n",
      "   ('3090', 0.04200274840174464),\n",
      "   ('6900xt', 0.033877038895859475),\n",
      "   ('gaming', 0.03184561151938818),\n",
      "   ('good', 0.021150743860906974),\n",
      "   ('lol', 0.0189400728923941),\n",
      "   ('yeah', 0.018880325028380236),\n",
      "   ('money', 0.01834259425225548),\n",
      "   ('price', 0.017984107068172314)]),\n",
      " (6,\n",
      "  [('gpu', 0.06301208370173887),\n",
      "   ('cpu', 0.043088712054229296),\n",
      "   ('console', 0.02976716769820218),\n",
      "   ('series', 0.021043324491600353),\n",
      "   ('power', 0.020041261420571766),\n",
      "   ('gen', 0.013026819923371647),\n",
      "   ('lower', 0.012319481284998527),\n",
      "   ('pc', 0.01220159151193634),\n",
      "   ('ryzen', 0.012142646625405247),\n",
      "   ('gpus', 0.011612142646625405)]),\n",
      " (7,\n",
      "  [('stock', 0.0361504640937958),\n",
      "   ('launch', 0.02845627747923791),\n",
      "   ('order', 0.021678065461651196),\n",
      "   ('day', 0.02112848070346849),\n",
      "   ('card', 0.014960918417195896),\n",
      "   ('cc', 0.013495359062042012),\n",
      "   ('waiting', 0.013373229115779189),\n",
      "   ('aib', 0.013128969223253541),\n",
      "   ('reference', 0.012884709330727894),\n",
      "   ('line', 0.01276257938446507)]),\n",
      " (8,\n",
      "  [('3070', 0.08495117748420448),\n",
      "   ('6800', 0.08029867892016082),\n",
      "   ('price', 0.07576105686387134),\n",
      "   ('vram', 0.03681792073520965),\n",
      "   ('xt', 0.026938541068351522),\n",
      "   ('500', 0.025100516944284893),\n",
      "   ('2080ti', 0.02360712234348076),\n",
      "   ('cheaper', 0.01797817346352671),\n",
      "   ('pricing', 0.01797817346352671),\n",
      "   ('rx', 0.01614014933946008)]),\n",
      " (9,\n",
      "  [('dl', 0.08114428672431609),\n",
      "   ('game', 0.07837058791537499),\n",
      "   ('ray_tracing', 0.04002828085060097),\n",
      "   ('rt', 0.031979115679556205),\n",
      "   ('4k', 0.031000163158753466),\n",
      "   ('support', 0.02507206178278131),\n",
      "   ('1440p', 0.01908957415565345),\n",
      "   ('raytracing', 0.018708870397563495),\n",
      "   ('fps', 0.01832816663947354),\n",
      "   ('hardware', 0.016968510360580846)])]\n"
     ]
    }
   ],
   "source": [
    "pprint(ldamallet.show_topics(formatted=False))"
   ]
  },
  {
   "cell_type": "markdown",
   "metadata": {},
   "source": [
    "### LDA Topic interpretation\n",
    "\n",
    "Topic 0:"
   ]
  },
  {
   "cell_type": "code",
   "execution_count": 33,
   "metadata": {
    "ExecuteTime": {
     "end_time": "2021-01-22T08:02:40.409481Z",
     "start_time": "2021-01-22T08:02:21.751643Z"
    }
   },
   "outputs": [
    {
     "name": "stdout",
     "output_type": "stream",
     "text": [
      "\n",
      "Coherence Score:  0.5657979763480631\n"
     ]
    }
   ],
   "source": [
    "# Compute Coherence Score\n",
    "coherence_model_ldamallet = CoherenceModel(model=ldamallet, texts=data_bigrams, dictionary=bigram_id2word, coherence='c_v')\n",
    "coherence_ldamallet = coherence_model_ldamallet.get_coherence()\n",
    "print('\\nCoherence Score: ', coherence_ldamallet)"
   ]
  },
  {
   "cell_type": "code",
   "execution_count": null,
   "metadata": {
    "ExecuteTime": {
     "end_time": "2021-01-22T07:38:07.860634Z",
     "start_time": "2021-01-22T07:35:45.425Z"
    }
   },
   "outputs": [],
   "source": [
    "# mallet_path = 'C:\\\\Users\\\\Trogg\\\\Documents\\\\General Assembly DS 18\\\\dsi18-projects\\\\capstone\\\\mallet-2.0.8\\\\bin\\\\mallet'"
   ]
  },
  {
   "cell_type": "code",
   "execution_count": null,
   "metadata": {},
   "outputs": [],
   "source": []
  },
  {
   "cell_type": "code",
   "execution_count": null,
   "metadata": {},
   "outputs": [],
   "source": []
  },
  {
   "cell_type": "markdown",
   "metadata": {},
   "source": [
    "# Hyper parameter tuning for the model"
   ]
  },
  {
   "cell_type": "markdown",
   "metadata": {},
   "source": [
    "## Finding the best k topics"
   ]
  },
  {
   "cell_type": "code",
   "execution_count": 36,
   "metadata": {
    "ExecuteTime": {
     "end_time": "2021-01-22T08:07:40.810858Z",
     "start_time": "2021-01-22T08:07:40.806855Z"
    }
   },
   "outputs": [],
   "source": [
    "# Solution: Follow this\n",
    "def compute_coherence_values(dictionary, all_corpus, texts, limit, start=2, step=4):\n",
    "    \"\"\"\n",
    "    Compute c_v coherence for various number of topics\n",
    "\n",
    "    Parameters:\n",
    "    ----------\n",
    "    dictionary : Gensim dictionary\n",
    "    corpus : Gensim corpus\n",
    "    texts : List of input texts\n",
    "    num_topics_list: Number of topics\n",
    "    limit : Max num of topics\n",
    "\n",
    "    Returns:\n",
    "    -------\n",
    "    model_list : List of LDA topic models\n",
    "    coherence_values : Coherence values corresponding to the LDA model with respective number of topics\n",
    "    \"\"\"\n",
    "    \n",
    "    #For two lines below update with your path to new_mallet\n",
    "#     os.environ.update({'MALLET_HOME':r'C:\\Users\\Trogg\\Documents\\General Assembly DS 18\\dsi18-projects\\capstone\\mallet\\mallet-2.0.8'})\n",
    "#     mallet_path = r'C:\\Users\\Trogg\\Documents\\General Assembly DS 18\\dsi18-projects\\capstone\\mallet\\mallet-2.0.8\\bin\\mallet.bat'\n",
    "#     prefix_path = r'C:\\Users\\Trogg\\Documents\\General Assembly DS 18\\dsi18-projects\\capstone\\mallet files'\n",
    "    \n",
    "    coherence_values = []\n",
    "    model_list = []\n",
    "    num_topics_list = []\n",
    "\n",
    "\n",
    "    for num_topics in range(start, limit, step):\n",
    "        model = LdaMallet(mallet_path, corpus=all_corpus, num_topics=num_topics, id2word=dictionary,random_seed=42)\n",
    "        #model = gensim.models.ldamodel.LdaModel(corpus=all_corpus,num_topics=num_topics,id2word=dictionary,eval_every=1,\n",
    "        #                                        alpha='auto',random_state=42)\n",
    "        model_list.append(model)\n",
    "        coherencemodel = CoherenceModel(model=model, texts=texts, dictionary=dictionary, coherence='c_v')\n",
    "        coherence_values.append(coherencemodel.get_coherence())\n",
    "        num_topics_list.append(num_topics)\n",
    "\n",
    "    return model_list, coherence_values, num_topics_list"
   ]
  },
  {
   "cell_type": "code",
   "execution_count": 37,
   "metadata": {
    "ExecuteTime": {
     "end_time": "2021-01-22T08:15:26.119515Z",
     "start_time": "2021-01-22T08:07:41.341862Z"
    }
   },
   "outputs": [],
   "source": [
    "# Using Bigram as it has the highest coherence value\n",
    "model_list, coherence_values, num_topics_list = compute_coherence_values(dictionary=bigram_id2word, all_corpus=bigram_corpus,\n",
    "                                                                         texts=data_bigrams, start=5, limit=40, step=6)\n",
    "\n",
    "# Creating the dataframe to hold the model list, coherence values and the number of topics list\n",
    "model_values_df = pd.DataFrame({'model_list':model_list,'coherence_values':coherence_values,'num_topics':num_topics_list})\n",
    "\n",
    "# Finds the optimal number of topics based on the highest coherence score\n",
    "optimal_num_topics = model_values_df.loc[model_values_df['coherence_values'].idxmax()]['num_topics']\n",
    "\n",
    "# Train the model based on the optimal number of topics\n",
    "optimal_model = LdaMallet(mallet_path, corpus=bigram_corpus, num_topics=optimal_num_topics, id2word=bigram_id2word,\n",
    "                                                 prefix='optimal_', random_seed=42)"
   ]
  },
  {
   "cell_type": "code",
   "execution_count": 38,
   "metadata": {
    "ExecuteTime": {
     "end_time": "2021-01-22T08:30:58.198636Z",
     "start_time": "2021-01-22T08:30:58.189630Z"
    }
   },
   "outputs": [
    {
     "data": {
      "text/html": [
       "<div>\n",
       "<style scoped>\n",
       "    .dataframe tbody tr th:only-of-type {\n",
       "        vertical-align: middle;\n",
       "    }\n",
       "\n",
       "    .dataframe tbody tr th {\n",
       "        vertical-align: top;\n",
       "    }\n",
       "\n",
       "    .dataframe thead th {\n",
       "        text-align: right;\n",
       "    }\n",
       "</style>\n",
       "<table border=\"1\" class=\"dataframe\">\n",
       "  <thead>\n",
       "    <tr style=\"text-align: right;\">\n",
       "      <th></th>\n",
       "      <th>model_list</th>\n",
       "      <th>coherence_values</th>\n",
       "      <th>num_topics</th>\n",
       "    </tr>\n",
       "  </thead>\n",
       "  <tbody>\n",
       "    <tr>\n",
       "      <th>0</th>\n",
       "      <td>&lt;gensim.models.wrappers.ldamallet.LdaMallet ob...</td>\n",
       "      <td>0.577880</td>\n",
       "      <td>5</td>\n",
       "    </tr>\n",
       "    <tr>\n",
       "      <th>1</th>\n",
       "      <td>&lt;gensim.models.wrappers.ldamallet.LdaMallet ob...</td>\n",
       "      <td>0.551630</td>\n",
       "      <td>11</td>\n",
       "    </tr>\n",
       "    <tr>\n",
       "      <th>2</th>\n",
       "      <td>&lt;gensim.models.wrappers.ldamallet.LdaMallet ob...</td>\n",
       "      <td>0.528056</td>\n",
       "      <td>17</td>\n",
       "    </tr>\n",
       "    <tr>\n",
       "      <th>3</th>\n",
       "      <td>&lt;gensim.models.wrappers.ldamallet.LdaMallet ob...</td>\n",
       "      <td>0.500687</td>\n",
       "      <td>23</td>\n",
       "    </tr>\n",
       "    <tr>\n",
       "      <th>4</th>\n",
       "      <td>&lt;gensim.models.wrappers.ldamallet.LdaMallet ob...</td>\n",
       "      <td>0.489656</td>\n",
       "      <td>29</td>\n",
       "    </tr>\n",
       "    <tr>\n",
       "      <th>5</th>\n",
       "      <td>&lt;gensim.models.wrappers.ldamallet.LdaMallet ob...</td>\n",
       "      <td>0.439022</td>\n",
       "      <td>35</td>\n",
       "    </tr>\n",
       "  </tbody>\n",
       "</table>\n",
       "</div>"
      ],
      "text/plain": [
       "                                          model_list  coherence_values  \\\n",
       "0  <gensim.models.wrappers.ldamallet.LdaMallet ob...          0.577880   \n",
       "1  <gensim.models.wrappers.ldamallet.LdaMallet ob...          0.551630   \n",
       "2  <gensim.models.wrappers.ldamallet.LdaMallet ob...          0.528056   \n",
       "3  <gensim.models.wrappers.ldamallet.LdaMallet ob...          0.500687   \n",
       "4  <gensim.models.wrappers.ldamallet.LdaMallet ob...          0.489656   \n",
       "5  <gensim.models.wrappers.ldamallet.LdaMallet ob...          0.439022   \n",
       "\n",
       "   num_topics  \n",
       "0           5  \n",
       "1          11  \n",
       "2          17  \n",
       "3          23  \n",
       "4          29  \n",
       "5          35  "
      ]
     },
     "execution_count": 38,
     "metadata": {},
     "output_type": "execute_result"
    }
   ],
   "source": [
    "model_values_df"
   ]
  },
  {
   "cell_type": "code",
   "execution_count": 39,
   "metadata": {
    "ExecuteTime": {
     "end_time": "2021-01-22T08:30:59.667497Z",
     "start_time": "2021-01-22T08:30:59.518362Z"
    },
    "scrolled": false
   },
   "outputs": [
    {
     "data": {
      "image/png": "[encoded data removed]",
      "text/plain": [
       "<Figure size 792x504 with 1 Axes>"
      ]
     },
     "metadata": {},
     "output_type": "display_data"
    }
   ],
   "source": [
    "limit=6\n",
    "start=0\n",
    "step=1\n",
    "\n",
    "# model_list, coherence_values = compute_coherence_values(dictionary=bigram_id2word, corpus=bigram_corpus, texts=data_bigrams, start=start, limit=limit, step=step)\n",
    "\n",
    "# Show graph\n",
    "\n",
    "x = model_values_df['num_topics'].values.tolist()\n",
    "\n",
    "plt.figure(figsize=(11,7))\n",
    "\n",
    "plt.plot(x, coherence_values)\n",
    "plt.xlabel(\"Num Topics\")\n",
    "plt.ylabel(\"Coherence score\")\n",
    "plt.legend([\"Coherence_values\"], loc='best')\n",
    "plt.show()"
   ]
  },
  {
   "cell_type": "markdown",
   "metadata": {},
   "source": [
    "There is a downward trend in the coherence score as the number of topics increase, hence it would be best to set the number of topics to be **between 10 to 15**."
   ]
  },
  {
   "cell_type": "code",
   "execution_count": null,
   "metadata": {
    "ExecuteTime": {
     "end_time": "2021-01-22T07:38:07.862635Z",
     "start_time": "2021-01-22T07:35:45.435Z"
    }
   },
   "outputs": [],
   "source": [
    "# Print the coherence scores\n",
    "for m, cv in zip(x, coherence_values):\n",
    "    print(\"Num Topics =\", m, \" has Coherence Value of\", round(cv, 4))"
   ]
  },
  {
   "cell_type": "markdown",
   "metadata": {},
   "source": [
    "## Export the model to pickle file"
   ]
  },
  {
   "cell_type": "code",
   "execution_count": null,
   "metadata": {
    "ExecuteTime": {
     "end_time": "2021-01-22T07:38:07.863636Z",
     "start_time": "2021-01-22T07:35:45.436Z"
    }
   },
   "outputs": [],
   "source": [
    "# Save to file in the current working directory\n",
    "pkl_filename = \"optimal_ldamallet_model.pkl\" \n",
    "pickle.dump(optimal_model, open(pkl_filename, 'wb'))"
   ]
  },
  {
   "cell_type": "markdown",
   "metadata": {},
   "source": [
    "## Choosing the topics betweeen 10 and 15"
   ]
  },
  {
   "cell_type": "code",
   "execution_count": null,
   "metadata": {
    "ExecuteTime": {
     "end_time": "2021-01-22T07:38:07.863636Z",
     "start_time": "2021-01-22T07:35:45.438Z"
    }
   },
   "outputs": [],
   "source": [
    "start=5\n",
    "limit=15\n",
    "step=1\n",
    "\n",
    "# model_list, coherence_values = compute_coherence_values(dictionary=bigram_id2word, corpus=bigram_corpus, texts=data_bigrams, start=start, limit=limit, step=step)\n",
    "\n",
    "# Show graph\n",
    "\n",
    "x = list(range(start, limit, step))\n",
    "\n",
    "plt.figure(figsize=(11,7))\n",
    "\n",
    "plt.plot(x, coherence_values)\n",
    "plt.xlabel(\"Num Topics\")\n",
    "plt.ylabel(\"Coherence score\")\n",
    "plt.legend([\"coherence_values\"], loc='best')\n",
    "plt.show()"
   ]
  },
  {
   "cell_type": "code",
   "execution_count": null,
   "metadata": {
    "ExecuteTime": {
     "end_time": "2021-01-22T07:38:07.864637Z",
     "start_time": "2021-01-22T07:35:45.439Z"
    }
   },
   "outputs": [],
   "source": [
    "# Print the coherence scores\n",
    "for m, cv in zip(x, coherence_values):\n",
    "    print(\"Num Topics =\", m, \" has Coherence Value of\", round(cv, 4))"
   ]
  },
  {
   "cell_type": "markdown",
   "metadata": {},
   "source": [
    "## Selecting the best k topics"
   ]
  },
  {
   "cell_type": "markdown",
   "metadata": {},
   "source": [
    "It seems **5 topics** is the optimal topic as it shows the highest coherence score, 0.56."
   ]
  },
  {
   "cell_type": "code",
   "execution_count": null,
   "metadata": {
    "ExecuteTime": {
     "end_time": "2021-01-22T07:38:07.865638Z",
     "start_time": "2021-01-22T07:35:45.441Z"
    }
   },
   "outputs": [],
   "source": [
    "# Select the optimal model and print the topics\n",
    "model_topics = optimal_model.show_topics(formatted=False)\n",
    "pprint(optimal_model.print_topics(num_words=10))"
   ]
  },
  {
   "cell_type": "markdown",
   "metadata": {},
   "source": [
    "# Finding the dominant topic in each sentence"
   ]
  },
  {
   "cell_type": "code",
   "execution_count": null,
   "metadata": {
    "ExecuteTime": {
     "end_time": "2021-01-22T07:38:07.865638Z",
     "start_time": "2021-01-22T07:35:45.443Z"
    }
   },
   "outputs": [],
   "source": [
    "def format_topics_sentences(ldamodel, corpus, texts):\n",
    "    # Init output\n",
    "    sent_topics_df = pd.DataFrame()\n",
    "\n",
    "    # Get main topic in each document\n",
    "    for i, row in enumerate(ldamodel[corpus]):\n",
    "        row = sorted(row, key=lambda x: (x[1]), reverse=True)\n",
    "        # Get the Dominant topic, Perc Contribution and Keywords for each document\n",
    "        for j, (topic_num, prop_topic) in enumerate(row):\n",
    "            if j == 0:  # => dominant topic\n",
    "                wp = ldamodel.show_topic(topic_num)\n",
    "                topic_keywords = \", \".join([word for word, prop in wp])\n",
    "                sent_topics_df = sent_topics_df.append(pd.Series([int(topic_num), round(prop_topic,4), topic_keywords]), ignore_index=True)\n",
    "            else:\n",
    "                break\n",
    "    sent_topics_df.columns = ['Dominant_Topic', 'Perc_Contribution', 'Topic_Keywords']\n",
    "\n",
    "    # Add original text to the end of the output\n",
    "    contents = pd.Series(texts)\n",
    "    sent_topics_df = pd.concat([sent_topics_df, contents], axis=1)\n",
    "    return(sent_topics_df)"
   ]
  },
  {
   "cell_type": "markdown",
   "metadata": {},
   "source": [
    "Problem: The issue is that the last model **must match** with the last temp_file_doctopics text file."
   ]
  },
  {
   "cell_type": "code",
   "execution_count": null,
   "metadata": {
    "ExecuteTime": {
     "end_time": "2021-01-22T07:38:07.866639Z",
     "start_time": "2021-01-22T07:35:45.444Z"
    }
   },
   "outputs": [],
   "source": [
    "df_topic_sents_keywords = format_topics_sentences(ldamodel=optimal_model, corpus=bigram_corpus, texts=data_bigrams)\n",
    "\n",
    "# Format\n",
    "df_dominant_topic = df_topic_sents_keywords.reset_index()\n",
    "df_dominant_topic.columns = ['Document_No', 'Dominant_Topic', 'Topic_Perc_Contrib', 'Keywords', 'Text']\n",
    "\n",
    "# Show\n",
    "df_dominant_topic.head(20)"
   ]
  },
  {
   "cell_type": "code",
   "execution_count": null,
   "metadata": {
    "ExecuteTime": {
     "end_time": "2021-01-22T07:38:07.866639Z",
     "start_time": "2021-01-22T07:35:45.446Z"
    }
   },
   "outputs": [],
   "source": [
    "random_value = np.random.randint(100)\n",
    "df_dominant_topic.iloc[random_value].values"
   ]
  },
  {
   "cell_type": "code",
   "execution_count": null,
   "metadata": {},
   "outputs": [],
   "source": []
  },
  {
   "cell_type": "markdown",
   "metadata": {},
   "source": [
    "## Searching for the best Dirichlet hyperparameters: alpha and beta"
   ]
  },
  {
   "cell_type": "markdown",
   "metadata": {},
   "source": [
    "I'll be using GridSearch CV to search for the best hyperparameter for\n",
    "* Alpha: Document-Topic Density\n",
    "* Beta: Word-Topic Density"
   ]
  },
  {
   "cell_type": "code",
   "execution_count": null,
   "metadata": {},
   "outputs": [],
   "source": []
  },
  {
   "cell_type": "code",
   "execution_count": null,
   "metadata": {},
   "outputs": [],
   "source": []
  },
  {
   "cell_type": "code",
   "execution_count": null,
   "metadata": {},
   "outputs": [],
   "source": []
  },
  {
   "cell_type": "markdown",
   "metadata": {},
   "source": [
    "## Experimental"
   ]
  },
  {
   "cell_type": "code",
   "execution_count": null,
   "metadata": {
    "ExecuteTime": {
     "end_time": "2021-01-22T07:38:07.867640Z",
     "start_time": "2021-01-22T07:35:45.452Z"
    }
   },
   "outputs": [],
   "source": [
    "# supporting function\n",
    "def compute_coherence_values(corpus, dictionary, k, a, b):\n",
    "    \n",
    "    lda_model = LdaMulticore(corpus=corpus,\n",
    "                             id2word=dictionary,\n",
    "                             num_topics=k,\n",
    "                             random_state=100,\n",
    "                             chunksize=100,\n",
    "                             passes=10,\n",
    "                             alpha=a,\n",
    "                             eta=b)\n",
    "    \n",
    "    coherence_model_lda = CoherenceModel(model=lda_model, texts=data_lemmatized, dictionary=id2word, coherence='c_v')\n",
    "    \n",
    "    return coherence_model_lda.get_coherence()"
   ]
  },
  {
   "cell_type": "code",
   "execution_count": null,
   "metadata": {
    "ExecuteTime": {
     "end_time": "2021-01-22T07:38:07.867640Z",
     "start_time": "2021-01-22T07:35:45.453Z"
    }
   },
   "outputs": [],
   "source": [
    "# grid = {}\n",
    "# grid['Validation_Set'] = {}\n",
    "\n",
    "# # Topics range\n",
    "# min_topics = 2\n",
    "# max_topics = 11\n",
    "# step_size = 1\n",
    "# topics_range = list(range(min_topics, max_topics, step_size))\n",
    "\n",
    "# # Alpha parameter\n",
    "# alpha = list(np.arange(0.01, 1, 0.3))\n",
    "# alpha.append('symmetric')\n",
    "# alpha.append('asymmetric')\n",
    "\n",
    "# # Beta parameter\n",
    "# beta = list(np.arange(0.01, 1, 0.3))\n",
    "# beta.append('symmetric')\n",
    "\n",
    "# # Validation sets\n",
    "# num_of_docs = len(corpus)\n",
    "\n",
    "# corpus_sets = [# gensim.utils.ClippedCorpus(corpus, num_of_docs*0.25), \n",
    "#                # gensim.utils.ClippedCorpus(corpus, num_of_docs*0.5), \n",
    "#                ClippedCorpus(corpus, num_of_docs*0.75), \n",
    "#                corpus]\n",
    "\n",
    "# corpus_title = ['75% Corpus', '100% Corpus']\n",
    "\n",
    "# model_results = {'Validation_Set': [],\n",
    "#                  'Topics': [],\n",
    "#                  'Alpha': [],\n",
    "#                  'Beta': [],\n",
    "#                  'Coherence': []\n",
    "#                 }"
   ]
  },
  {
   "cell_type": "code",
   "execution_count": null,
   "metadata": {
    "ExecuteTime": {
     "end_time": "2021-01-22T07:38:07.868641Z",
     "start_time": "2021-01-22T07:35:45.454Z"
    }
   },
   "outputs": [],
   "source": [
    "# # Can take a long time to run\n",
    "# if True:\n",
    "#     #pbar = tqdm.tqdm(total=540)\n",
    "    \n",
    "#     # iterate through validation corpuses\n",
    "#     for i in range(len(corpus_sets)):\n",
    "#         # iterate through number of topics\n",
    "#         for k in topics_range:\n",
    "#             # iterate through alpha values\n",
    "#             for a in alpha:\n",
    "#                 # iterare through beta values\n",
    "#                 for b in beta:\n",
    "#                     # get the coherence score for the given parameters\n",
    "#                     cv = compute_coherence_values(corpus=corpus_sets[1][i], dictionary=id2word, \n",
    "#                                                   k=k, a=a, b=b)\n",
    "#                     # Save the model results\n",
    "#                     model_results['Validation_Set'].append(corpus_title[i])\n",
    "#                     model_results['Topics'].append(k)\n",
    "#                     model_results['Alpha'].append(a)\n",
    "#                     model_results['Beta'].append(b)\n",
    "#                     model_results['Coherence'].append(cv)\n",
    "                    \n",
    "#                     pbar.update(1)\n",
    "#     pd.DataFrame(model_results).to_csv('./model_results/lda_tuning_results.csv', index=False)\n",
    "#     #pbar.close()"
   ]
  },
  {
   "cell_type": "markdown",
   "metadata": {},
   "source": [
    "# LDA Multicore NOT LDA Mallet"
   ]
  },
  {
   "cell_type": "markdown",
   "metadata": {},
   "source": [
    "## Bigram: Using 2 topics"
   ]
  },
  {
   "cell_type": "code",
   "execution_count": null,
   "metadata": {
    "ExecuteTime": {
     "end_time": "2021-01-22T07:38:07.868641Z",
     "start_time": "2021-01-22T07:35:45.456Z"
    }
   },
   "outputs": [],
   "source": [
    "# number of topics\n",
    "num_topics = 2\n",
    "\n",
    "# Build LDA model\n",
    "bigram_lda_model = LdaMulticore(corpus=bigram_corpus, \n",
    "                         id2word=bigram_id2word, \n",
    "                         num_topics=num_topics,\n",
    "                         chunksize=100,\n",
    "                         passes=20, \n",
    "                         random_state=42,\n",
    "                        per_word_topics=True)\n",
    "\n",
    "# Print the Keyword in the 10 topics\n",
    "pprint(bigram_lda_model.print_topics())\n",
    "bigram_doc_lda = bigram_lda_model[bigram_corpus]"
   ]
  },
  {
   "cell_type": "markdown",
   "metadata": {},
   "source": [
    "## Bigram: Using 3 topics"
   ]
  },
  {
   "cell_type": "code",
   "execution_count": null,
   "metadata": {
    "ExecuteTime": {
     "end_time": "2021-01-22T07:38:07.869641Z",
     "start_time": "2021-01-22T07:35:45.458Z"
    }
   },
   "outputs": [],
   "source": [
    "# number of topics\n",
    "num_topics = 3\n",
    "\n",
    "# Build LDA model\n",
    "bigram_lda_model = LdaMulticore(corpus=bigram_corpus, \n",
    "                         id2word=bigram_id2word, \n",
    "                         num_topics=num_topics,\n",
    "                         chunksize=100,\n",
    "                         passes=20, \n",
    "                         random_state=42,\n",
    "                        per_word_topics=True)\n",
    "\n",
    "# Print the Keyword in the 7 topics\n",
    "pprint(bigram_lda_model.print_topics())\n",
    "bigram_doc_lda = bigram_lda_model[bigram_corpus]"
   ]
  },
  {
   "cell_type": "code",
   "execution_count": null,
   "metadata": {},
   "outputs": [],
   "source": []
  },
  {
   "cell_type": "code",
   "execution_count": null,
   "metadata": {},
   "outputs": [],
   "source": []
  },
  {
   "cell_type": "markdown",
   "metadata": {},
   "source": [
    "# Others"
   ]
  },
  {
   "cell_type": "code",
   "execution_count": null,
   "metadata": {},
   "outputs": [],
   "source": []
  }
 ],
 "metadata": {
  "kernelspec": {
   "display_name": "Python 3",
   "language": "python",
   "name": "python3"
  },
  "language_info": {
   "codemirror_mode": {
    "name": "ipython",
    "version": 3
   },
   "file_extension": ".py",
   "mimetype": "text/x-python",
   "name": "python",
   "nbconvert_exporter": "python",
   "pygments_lexer": "ipython3",
   "version": "3.8.5"
  },
  "notify_time": "30",
  "varInspector": {
   "cols": {
    "lenName": 16,
    "lenType": 16,
    "lenVar": 40
   },
   "kernels_config": {
    "python": {
     "delete_cmd_postfix": "",
     "delete_cmd_prefix": "del ",
     "library": "var_list.py",
     "varRefreshCmd": "print(var_dic_list())"
    },
    "r": {
     "delete_cmd_postfix": ") ",
     "delete_cmd_prefix": "rm(",
     "library": "var_list.r",
     "varRefreshCmd": "cat(var_dic_list()) "
    }
   },
   "oldHeight": 474.4,
   "position": {
    "height": "496.4px",
    "left": "1156px",
    "right": "20px",
    "top": "120px",
    "width": "360px"
   },
   "types_to_exclude": [
    "module",
    "function",
    "builtin_function_or_method",
    "instance",
    "_Feature"
   ],
   "varInspector_section_display": "block",
   "window_display": false
  }
 },
 "nbformat": 4,
 "nbformat_minor": 4
}
