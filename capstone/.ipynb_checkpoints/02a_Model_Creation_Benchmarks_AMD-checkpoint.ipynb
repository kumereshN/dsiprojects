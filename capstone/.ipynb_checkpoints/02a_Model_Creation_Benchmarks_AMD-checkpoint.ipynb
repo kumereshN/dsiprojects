{
 "cells": [
  {
   "cell_type": "markdown",
   "metadata": {},
   "source": [
    "# GA Capstone: Topic Modelling on AMD vs Nvidia GPU"
   ]
  },
  {
   "cell_type": "markdown",
   "metadata": {},
   "source": [
    "## Contents\n",
    "- Data Extraction\n",
    "- Data Cleaning\n",
    "- [EDA](#EDA)\n",
    "- [Prepare data for LDA modeling](#Prepare-reddit-comments-for-LDA-modeling)\n",
    "- [Phrase modeling: Bigram and Trigram models](#Phrase-modeling:-Bigram-and-Trigram-models)\n",
    "- [LDA Model Training](#LDA-Model-Training)\n",
    "- [LDA Mallet Model](#LDA-Mallet-Model)\n",
    "- Model creation\n",
    "- Model Evaluation"
   ]
  },
  {
   "cell_type": "markdown",
   "metadata": {},
   "source": [
    "# Import the libraries"
   ]
  },
  {
   "cell_type": "code",
   "execution_count": 1,
   "metadata": {
    "ExecuteTime": {
     "end_time": "2021-01-23T00:34:16.507683Z",
     "start_time": "2021-01-23T00:34:13.234711Z"
    }
   },
   "outputs": [],
   "source": [
    "# Common imports\n",
    "import numpy as np\n",
    "import pandas as pd\n",
    "import matplotlib.pyplot as plt\n",
    "import seaborn as sns\n",
    "\n",
    "from pprint import pprint\n",
    "import os\n",
    "# import tqdm\n",
    "\n",
    "import re\n",
    "# NLTK Library\n",
    "from nltk import FreqDist\n",
    "from nltk.tokenize import RegexpTokenizer\n",
    "from nltk.stem import WordNetLemmatizer\n",
    "from nltk.corpus import stopwords\n",
    "\n",
    "# Import PRAW package\n",
    "import praw\n",
    "from praw.models import MoreComments\n",
    "\n",
    "# Gensim library\n",
    "import gensim\n",
    "from gensim.utils import simple_preprocess, ClippedCorpus\n",
    "from gensim.models import LdaMulticore, CoherenceModel, Phrases\n",
    "from gensim.models.wrappers import LdaMallet\n",
    "from gensim.models.phrases import Phraser\n",
    "from gensim.parsing.preprocessing import STOPWORDS\n",
    "import gensim.corpora as corpora\n",
    "\n",
    "# pyLDAvis library\n",
    "import pyLDAvis.gensim\n",
    "import pickle \n",
    "import pyLDAvis\n",
    "\n",
    "# Detect non-english words\n",
    "from langdetect import detect, DetectorFactory\n",
    "DetectorFactory.seed = 0\n",
    "\n",
    "# Detect non-english words using spacy\n",
    "import spacy\n",
    "from spacy_langdetect import LanguageDetector\n",
    "nlp = spacy.load(\"en_core_web_sm\")\n",
    "nlp.add_pipe(LanguageDetector(), name='language_detector', last=True)\n",
    "\n",
    "\n",
    "# Import the wordcloud library\n",
    "from wordcloud import WordCloud\n",
    "\n",
    "# Removes depreciation warnings\n",
    "import warnings\n",
    "warnings.filterwarnings(\"ignore\", category=DeprecationWarning)\n",
    "\n",
    "%matplotlib inline"
   ]
  },
  {
   "cell_type": "code",
   "execution_count": 2,
   "metadata": {
    "ExecuteTime": {
     "end_time": "2021-01-23T00:34:16.523698Z",
     "start_time": "2021-01-23T00:34:16.508684Z"
    }
   },
   "outputs": [],
   "source": [
    "# Set the max rows and columns for Pandas\n",
    "pd.options.display.max_columns = 100\n",
    "pd.options.display.max_rows = 200"
   ]
  },
  {
   "cell_type": "code",
   "execution_count": 3,
   "metadata": {
    "ExecuteTime": {
     "end_time": "2021-01-23T00:34:16.555726Z",
     "start_time": "2021-01-23T00:34:16.524698Z"
    }
   },
   "outputs": [],
   "source": [
    "# Set the style use\n",
    "plt.style.use('ggplot')"
   ]
  },
  {
   "cell_type": "markdown",
   "metadata": {},
   "source": [
    "# Load the dataset"
   ]
  },
  {
   "cell_type": "code",
   "execution_count": 4,
   "metadata": {
    "ExecuteTime": {
     "end_time": "2021-01-23T00:34:16.618783Z",
     "start_time": "2021-01-23T00:34:16.556727Z"
    }
   },
   "outputs": [
    {
     "data": {
      "text/html": [
       "<div>\n",
       "<style scoped>\n",
       "    .dataframe tbody tr th:only-of-type {\n",
       "        vertical-align: middle;\n",
       "    }\n",
       "\n",
       "    .dataframe tbody tr th {\n",
       "        vertical-align: top;\n",
       "    }\n",
       "\n",
       "    .dataframe thead th {\n",
       "        text-align: right;\n",
       "    }\n",
       "</style>\n",
       "<table border=\"1\" class=\"dataframe\">\n",
       "  <thead>\n",
       "    <tr style=\"text-align: right;\">\n",
       "      <th></th>\n",
       "      <th>Reddit comments</th>\n",
       "      <th>tag</th>\n",
       "    </tr>\n",
       "  </thead>\n",
       "  <tbody>\n",
       "    <tr>\n",
       "      <th>0</th>\n",
       "      <td>pre order time releasing 17th</td>\n",
       "      <td>nvidia</td>\n",
       "    </tr>\n",
       "    <tr>\n",
       "      <th>1</th>\n",
       "      <td>going hard grab card 3080 17th</td>\n",
       "      <td>nvidia</td>\n",
       "    </tr>\n",
       "    <tr>\n",
       "      <th>2</th>\n",
       "      <td>uk price 3090 1399 3080 649 3070 469 scan aib ...</td>\n",
       "      <td>nvidia</td>\n",
       "    </tr>\n",
       "    <tr>\n",
       "      <th>3</th>\n",
       "      <td>talking spatula jensen pot</td>\n",
       "      <td>nvidia</td>\n",
       "    </tr>\n",
       "    <tr>\n",
       "      <th>4</th>\n",
       "      <td>10k core completely insane</td>\n",
       "      <td>nvidia</td>\n",
       "    </tr>\n",
       "    <tr>\n",
       "      <th>...</th>\n",
       "      <td>...</td>\n",
       "      <td>...</td>\n",
       "    </tr>\n",
       "    <tr>\n",
       "      <th>25741</th>\n",
       "      <td>motherboard say pcie 0 compatible</td>\n",
       "      <td>nvidia</td>\n",
       "    </tr>\n",
       "    <tr>\n",
       "      <th>25742</th>\n",
       "      <td>thanks understanding know course 3000s dvi por...</td>\n",
       "      <td>nvidia</td>\n",
       "    </tr>\n",
       "    <tr>\n",
       "      <th>25743</th>\n",
       "      <td>buy 1400 gpu</td>\n",
       "      <td>nvidia</td>\n",
       "    </tr>\n",
       "    <tr>\n",
       "      <th>25744</th>\n",
       "      <td>lol know ill wait 3070 3060</td>\n",
       "      <td>nvidia</td>\n",
       "    </tr>\n",
       "    <tr>\n",
       "      <th>25745</th>\n",
       "      <td>generational compatibility compatible size pci...</td>\n",
       "      <td>nvidia</td>\n",
       "    </tr>\n",
       "  </tbody>\n",
       "</table>\n",
       "<p>25746 rows × 2 columns</p>\n",
       "</div>"
      ],
      "text/plain": [
       "                                         Reddit comments     tag\n",
       "0                          pre order time releasing 17th  nvidia\n",
       "1                         going hard grab card 3080 17th  nvidia\n",
       "2      uk price 3090 1399 3080 649 3070 469 scan aib ...  nvidia\n",
       "3                             talking spatula jensen pot  nvidia\n",
       "4                             10k core completely insane  nvidia\n",
       "...                                                  ...     ...\n",
       "25741                  motherboard say pcie 0 compatible  nvidia\n",
       "25742  thanks understanding know course 3000s dvi por...  nvidia\n",
       "25743                                       buy 1400 gpu  nvidia\n",
       "25744                        lol know ill wait 3070 3060  nvidia\n",
       "25745  generational compatibility compatible size pci...  nvidia\n",
       "\n",
       "[25746 rows x 2 columns]"
      ]
     },
     "execution_count": 4,
     "metadata": {},
     "output_type": "execute_result"
    }
   ],
   "source": [
    "# Read the existing csv file\n",
    "GPU_df = pd.read_csv('./reddit dataset/cleaned_combined_df.csv')\n",
    "GPU_df"
   ]
  },
  {
   "cell_type": "code",
   "execution_count": 5,
   "metadata": {
    "ExecuteTime": {
     "end_time": "2021-01-23T00:34:16.633797Z",
     "start_time": "2021-01-23T00:34:16.619785Z"
    }
   },
   "outputs": [
    {
     "data": {
      "text/html": [
       "<div>\n",
       "<style scoped>\n",
       "    .dataframe tbody tr th:only-of-type {\n",
       "        vertical-align: middle;\n",
       "    }\n",
       "\n",
       "    .dataframe tbody tr th {\n",
       "        vertical-align: top;\n",
       "    }\n",
       "\n",
       "    .dataframe thead th {\n",
       "        text-align: right;\n",
       "    }\n",
       "</style>\n",
       "<table border=\"1\" class=\"dataframe\">\n",
       "  <thead>\n",
       "    <tr style=\"text-align: right;\">\n",
       "      <th></th>\n",
       "      <th>Reddit comments</th>\n",
       "      <th>tag</th>\n",
       "    </tr>\n",
       "  </thead>\n",
       "  <tbody>\n",
       "    <tr>\n",
       "      <th>4737</th>\n",
       "      <td>sound samsung 8nm cheap</td>\n",
       "      <td>amd</td>\n",
       "    </tr>\n",
       "    <tr>\n",
       "      <th>4738</th>\n",
       "      <td>ethic mongol invasion tech</td>\n",
       "      <td>amd</td>\n",
       "    </tr>\n",
       "    <tr>\n",
       "      <th>4739</th>\n",
       "      <td>nvidia software ai learning big selling point</td>\n",
       "      <td>amd</td>\n",
       "    </tr>\n",
       "    <tr>\n",
       "      <th>4740</th>\n",
       "      <td>excited amd guy compete going nvidia brand loy...</td>\n",
       "      <td>amd</td>\n",
       "    </tr>\n",
       "    <tr>\n",
       "      <th>4741</th>\n",
       "      <td>think nvidia actualy competing new console pri...</td>\n",
       "      <td>amd</td>\n",
       "    </tr>\n",
       "    <tr>\n",
       "      <th>...</th>\n",
       "      <td>...</td>\n",
       "      <td>...</td>\n",
       "    </tr>\n",
       "    <tr>\n",
       "      <th>19374</th>\n",
       "      <td>dude understand example confused said looked r...</td>\n",
       "      <td>amd</td>\n",
       "    </tr>\n",
       "    <tr>\n",
       "      <th>19375</th>\n",
       "      <td>know example thought looked</td>\n",
       "      <td>amd</td>\n",
       "    </tr>\n",
       "    <tr>\n",
       "      <th>19376</th>\n",
       "      <td>probably score higher english proficiency test...</td>\n",
       "      <td>amd</td>\n",
       "    </tr>\n",
       "    <tr>\n",
       "      <th>19377</th>\n",
       "      <td>prove know concept cost opportunity efficiency...</td>\n",
       "      <td>amd</td>\n",
       "    </tr>\n",
       "    <tr>\n",
       "      <th>19378</th>\n",
       "      <td>cost opportunity perfectly ok way concept lmao...</td>\n",
       "      <td>amd</td>\n",
       "    </tr>\n",
       "  </tbody>\n",
       "</table>\n",
       "<p>14642 rows × 2 columns</p>\n",
       "</div>"
      ],
      "text/plain": [
       "                                         Reddit comments  tag\n",
       "4737                             sound samsung 8nm cheap  amd\n",
       "4738                          ethic mongol invasion tech  amd\n",
       "4739       nvidia software ai learning big selling point  amd\n",
       "4740   excited amd guy compete going nvidia brand loy...  amd\n",
       "4741   think nvidia actualy competing new console pri...  amd\n",
       "...                                                  ...  ...\n",
       "19374  dude understand example confused said looked r...  amd\n",
       "19375                        know example thought looked  amd\n",
       "19376  probably score higher english proficiency test...  amd\n",
       "19377  prove know concept cost opportunity efficiency...  amd\n",
       "19378  cost opportunity perfectly ok way concept lmao...  amd\n",
       "\n",
       "[14642 rows x 2 columns]"
      ]
     },
     "execution_count": 5,
     "metadata": {},
     "output_type": "execute_result"
    }
   ],
   "source": [
    "amd_df = GPU_df[GPU_df['tag'] == 'amd']\n",
    "amd_df"
   ]
  },
  {
   "cell_type": "markdown",
   "metadata": {},
   "source": [
    "# Prepare comments for modeling"
   ]
  },
  {
   "cell_type": "code",
   "execution_count": 6,
   "metadata": {
    "ExecuteTime": {
     "end_time": "2021-01-23T00:34:16.665828Z",
     "start_time": "2021-01-23T00:34:16.634798Z"
    }
   },
   "outputs": [],
   "source": [
    "# Creates the bag of words for each document\n",
    "data = [token.split() for token in amd_df['Reddit comments'].tolist()]"
   ]
  },
  {
   "cell_type": "code",
   "execution_count": 7,
   "metadata": {
    "ExecuteTime": {
     "end_time": "2021-01-23T00:34:16.681841Z",
     "start_time": "2021-01-23T00:34:16.666827Z"
    },
    "scrolled": true
   },
   "outputs": [
    {
     "name": "stdout",
     "output_type": "stream",
     "text": [
      "[['sound', 'samsung', '8nm', 'cheap'], ['ethic', 'mongol', 'invasion', 'tech'], ['nvidia', 'software', 'ai', 'learning', 'big', 'selling', 'point']]\n"
     ]
    }
   ],
   "source": [
    "# Prints the bag of words from the first 3 documents\n",
    "print(data[:3])"
   ]
  },
  {
   "cell_type": "markdown",
   "metadata": {},
   "source": [
    "# Phrase modeling: Bigram and Trigram models"
   ]
  },
  {
   "cell_type": "code",
   "execution_count": 8,
   "metadata": {
    "ExecuteTime": {
     "end_time": "2021-01-23T00:34:19.932910Z",
     "start_time": "2021-01-23T00:34:16.685845Z"
    }
   },
   "outputs": [],
   "source": [
    "# Build the bigram and trigram models\n",
    "bigram = Phrases(data, min_count=5, threshold=100) # higher threshold fewer phrases.\n",
    "trigram = Phrases(bigram[data], threshold=100)\n",
    "\n",
    "# Faster way to get a sentence clubbed as a trigram/bigram, this reduces memory, making the model smaller and faster\n",
    "bigram_mod = Phraser(bigram)\n",
    "trigram_mod = Phraser(trigram)"
   ]
  },
  {
   "cell_type": "code",
   "execution_count": 9,
   "metadata": {
    "ExecuteTime": {
     "end_time": "2021-01-23T00:34:21.226232Z",
     "start_time": "2021-01-23T00:34:19.933911Z"
    }
   },
   "outputs": [],
   "source": [
    "def make_bigrams(texts):\n",
    "    return [bigram_mod[doc] for doc in texts]\n",
    "\n",
    "def make_trigrams(texts):\n",
    "    return [trigram_mod[bigram_mod[doc]] for doc in texts]\n",
    "\n",
    "# Form Bigrams\n",
    "data_bigrams = make_bigrams(data)\n",
    "\n",
    "# Form Trigrams\n",
    "data_trigrams = make_trigrams(data)"
   ]
  },
  {
   "cell_type": "code",
   "execution_count": 102,
   "metadata": {
    "ExecuteTime": {
     "end_time": "2021-01-23T01:45:24.796059Z",
     "start_time": "2021-01-23T01:45:24.779043Z"
    }
   },
   "outputs": [],
   "source": [
    "# Create a dictionary to hold the different n-grams dataset\n",
    "phrase_list = {'unigram': data, 'bigrams': data_bigrams, 'trigrams': data_trigrams}\n",
    "# phrase_list"
   ]
  },
  {
   "cell_type": "markdown",
   "metadata": {},
   "source": [
    "# LDA on AMD comments with all the ngrams"
   ]
  },
  {
   "cell_type": "code",
   "execution_count": 137,
   "metadata": {
    "ExecuteTime": {
     "end_time": "2021-01-23T04:41:52.542474Z",
     "start_time": "2021-01-23T04:41:52.535468Z"
    }
   },
   "outputs": [],
   "source": [
    "# Creating a function to create the LDA model and compute the coherence score\n",
    "def lda_calculate_coherence_values(ngram_data, num_topics):\n",
    "    \"\"\"\n",
    "    This function calculates the coherence score and the perplexity scores for each ngram and stores\n",
    "    the model, corpus and the id2word in their respective dictionaries\n",
    "    \"\"\"\n",
    "    model_dict = {}\n",
    "    score_dict = {}\n",
    "    for key, value in ngram_data.items():\n",
    "        ngram_id2word = corpora.Dictionary(value)\n",
    "        ngram_corpus = [ngram_id2word.doc2bow(text) for text in value]\n",
    "\n",
    "        ngram_lda_model = LdaMulticore(corpus=ngram_corpus, \n",
    "                             id2word=ngram_id2word, \n",
    "                             num_topics=num_topics,\n",
    "                             chunksize=100,\n",
    "                             passes=20, \n",
    "                             random_state=42,\n",
    "                            per_word_topics=True)\n",
    "\n",
    "\n",
    "        # Compute Perplexity score\n",
    "        ngram_perplexity = ngram_lda_model.log_perplexity(ngram_corpus)  # a measure of how good the model is. lower the better.\n",
    "\n",
    "        # Compute Coherence Score\n",
    "        coherence_model_lda = CoherenceModel(model=ngram_lda_model, texts=value, dictionary=ngram_id2word, coherence='c_v')\n",
    "        ngram_coherence_lda = coherence_model_lda.get_coherence()\n",
    "        \n",
    "        # Prints out the topics for each ngram\n",
    "        print(f'*********Displaying {num_topics} topics for {key}******************')\n",
    "        pprint(ngram_lda_model.print_topics())\n",
    "        \n",
    "        # Store the perplexity and coherence scores in score_dict\n",
    "        score_dict[key] = []\n",
    "        score_dict[key].append(ngram_perplexity)\n",
    "        score_dict[key].append(ngram_coherence_lda)\n",
    "        \n",
    "        # Stores the ngram's model, corpus, id2word in model_dict\n",
    "        model_dict[key] = []\n",
    "        model_dict[key].append(ngram_lda_model)\n",
    "        model_dict[key].append(ngram_corpus)\n",
    "        model_dict[key].append(ngram_id2word)\n",
    "\n",
    "    return score_dict, model_dict, num_topics"
   ]
  },
  {
   "cell_type": "code",
   "execution_count": 109,
   "metadata": {
    "ExecuteTime": {
     "end_time": "2021-01-23T02:13:13.788193Z",
     "start_time": "2021-01-23T02:11:12.832233Z"
    }
   },
   "outputs": [
    {
     "name": "stdout",
     "output_type": "stream",
     "text": [
      "*********Displaying 5 topics for unigram******************\n",
      "[(0,\n",
      "  '0.029*\"dl\" + 0.026*\"game\" + 0.020*\"performance\" + 0.016*\"ray\" + 0.015*\"amd\" '\n",
      "  '+ 0.015*\"tracing\" + 0.011*\"nvidia\" + 0.011*\"better\" + 0.011*\"feature\" + '\n",
      "  '0.010*\"rt\"'),\n",
      " (1,\n",
      "  '0.020*\"power\" + 0.008*\"idea\" + 0.007*\"psu\" + 0.007*\"comment\" + 0.006*\"said\" '\n",
      "  '+ 0.006*\"cache\" + 0.006*\"think\" + 0.006*\"use\" + 0.006*\"know\" + '\n",
      "  '0.005*\"time\"'),\n",
      " (2,\n",
      "  '0.033*\"6800\" + 0.033*\"3070\" + 0.022*\"3080\" + 0.021*\"6800xt\" + 0.016*\"vram\" '\n",
      "  '+ 0.013*\"xt\" + 0.012*\"card\" + 0.010*\"3090\" + 0.009*\"price\" + '\n",
      "  '0.009*\"performance\"'),\n",
      " (3,\n",
      "  '0.030*\"amd\" + 0.027*\"card\" + 0.025*\"nvidia\" + 0.020*\"price\" + '\n",
      "  '0.011*\"performance\" + 0.009*\"people\" + 0.008*\"buy\" + 0.008*\"think\" + '\n",
      "  '0.008*\"gpu\" + 0.008*\"end\"'),\n",
      " (4,\n",
      "  '0.016*\"amd\" + 0.015*\"driver\" + 0.012*\"issue\" + 0.010*\"nvidia\" + '\n",
      "  '0.009*\"monitor\" + 0.009*\"work\" + 0.009*\"gpu\" + 0.008*\"time\" + 0.008*\"year\" '\n",
      "  '+ 0.007*\"thing\"')]\n",
      "*********Displaying 5 topics for bigrams******************\n",
      "[(0,\n",
      "  '0.021*\"performance\" + 0.020*\"3070\" + 0.019*\"3080\" + 0.018*\"price\" + '\n",
      "  '0.018*\"6800\" + 0.018*\"card\" + 0.012*\"3090\" + 0.011*\"6800xt\" + '\n",
      "  '0.011*\"better\" + 0.010*\"vram\"'),\n",
      " (1,\n",
      "  '0.040*\"game\" + 0.034*\"dl\" + 0.019*\"ray_tracing\" + 0.014*\"rt\" + '\n",
      "  '0.009*\"support\" + 0.008*\"performance\" + 0.007*\"rtx\" + 0.007*\"feature\" + '\n",
      "  '0.006*\"good\" + 0.006*\"play\"'),\n",
      " (2,\n",
      "  '0.043*\"amd\" + 0.030*\"nvidia\" + 0.015*\"gpu\" + 0.014*\"cpu\" + 0.013*\"card\" + '\n",
      "  '0.012*\"driver\" + 0.009*\"new\" + 0.008*\"console\" + 0.008*\"year\" + '\n",
      "  '0.008*\"issue\"'),\n",
      " (3,\n",
      "  '0.019*\"card\" + 0.014*\"amd\" + 0.010*\"order\" + 0.009*\"stock\" + 0.007*\"know\" + '\n",
      "  '0.007*\"said\" + 0.006*\"launch\" + 0.006*\"nvidia\" + 0.006*\"reference\" + '\n",
      "  '0.005*\"right\"'),\n",
      " (4,\n",
      "  '0.010*\"lol\" + 0.009*\"time\" + 0.009*\"thanks\" + 0.008*\"people\" + 0.008*\"yeah\" '\n",
      "  '+ 0.007*\"monitor\" + 0.006*\"day\" + 0.005*\"tax\" + 0.005*\"know\" + '\n",
      "  '0.005*\"card\"')]\n",
      "*********Displaying 5 topics for trigrams******************\n",
      "[(0,\n",
      "  '0.026*\"dl\" + 0.018*\"game\" + 0.015*\"performance\" + 0.014*\"ray_tracing\" + '\n",
      "  '0.011*\"cpu\" + 0.010*\"rt\" + 0.009*\"4k\" + 0.009*\"benchmark\" + 0.008*\"feature\" '\n",
      "  '+ 0.007*\"better\"'),\n",
      " (1,\n",
      "  '0.010*\"order\" + 0.009*\"comment\" + 0.008*\"thanks\" + 0.007*\"think\" + '\n",
      "  '0.006*\"lol\" + 0.006*\"tax\" + 0.005*\"amd\" + 0.005*\"yes\" + 0.004*\"link\" + '\n",
      "  '0.004*\"edit\"'),\n",
      " (2,\n",
      "  '0.037*\"amd\" + 0.026*\"nvidia\" + 0.024*\"card\" + 0.011*\"stock\" + 0.008*\"know\" '\n",
      "  '+ 0.008*\"launch\" + 0.008*\"people\" + 0.006*\"time\" + 0.006*\"going\" + '\n",
      "  '0.006*\"good\"'),\n",
      " (3,\n",
      "  '0.019*\"game\" + 0.018*\"driver\" + 0.016*\"amd\" + 0.014*\"nvidia\" + 0.013*\"year\" '\n",
      "  '+ 0.011*\"issue\" + 0.010*\"gpu\" + 0.009*\"monitor\" + 0.009*\"card\" + '\n",
      "  '0.009*\"time\"'),\n",
      " (4,\n",
      "  '0.025*\"price\" + 0.022*\"3070\" + 0.022*\"performance\" + 0.021*\"card\" + '\n",
      "  '0.020*\"6800\" + 0.019*\"3080\" + 0.014*\"amd\" + 0.013*\"nvidia\" + 0.013*\"3090\" + '\n",
      "  '0.011*\"better\"')]\n"
     ]
    }
   ],
   "source": [
    "# Calculate using a dictionary\n",
    "score_dict, model_dict, num_topics = lda_calculate_coherence_values(phrase_list, 5)"
   ]
  },
  {
   "cell_type": "markdown",
   "metadata": {},
   "source": [
    "## Intrepreting the topics for unigram"
   ]
  },
  {
   "cell_type": "markdown",
   "metadata": {},
   "source": [
    "Scored between 1 ~ 5 with regards to their intrepretability, >= 3 will be considered intrepretable.\n",
    "* () means the score\n",
    "\n",
    "Topic 0 (4)\n",
    "* Talks about ray tracing and dlss (Deep learning super sampling) features which seem to perform better in Nvidia\n",
    "\n",
    "Topic 1 (2)\n",
    "* Talks about the PSU (Power supply unit)\n",
    "\n",
    "Topic 2 (4)\n",
    "* With regards to all the GPUs from AMD and Nvidia price, performance and vram (Video ram)\n",
    "\n",
    "Topic 3 (3)\n",
    "* Nvidia's GPUS price/performance is better than AMD\n",
    "\n",
    "Topic 4 (1)\n",
    "* Some issue with driver\n",
    "\n",
    "**2 topics were intrepretable.**"
   ]
  },
  {
   "cell_type": "markdown",
   "metadata": {},
   "source": [
    "## Interpreting the topics for the bigrams \n"
   ]
  },
  {
   "cell_type": "markdown",
   "metadata": {},
   "source": [
    "Scored between 1 ~ 5 with regards to their intrepretability, >= 3 will be considered intrepretable.\n",
    "* () is the score\n",
    "\n",
    "Topic 0 (4)\n",
    "* Talks 3070 and 3080 price, performance, vram, better than 6800 and 6800xt.\n",
    "\n",
    "Topic 1 (3)\n",
    "* Talks about dlss and ray_tracing features\n",
    "\n",
    "Topic 2 (2)\n",
    "* Driver issue and something to do with the gaming consoles\n",
    "\n",
    "Topic 3 (2)\n",
    "* Related to power supply unit\n",
    "\n",
    "Topic 4 (3)\n",
    "* Stock related issue during the launch of the GPUs\n",
    "\n",
    "**3 topics were intrepretable.**"
   ]
  },
  {
   "cell_type": "markdown",
   "metadata": {},
   "source": [
    "## Interpreting the topics for the trigrams \n"
   ]
  },
  {
   "cell_type": "markdown",
   "metadata": {},
   "source": [
    "Scored between 1 ~ 5 with regards to their intrepretability, >= 3 will be considered intrepretable.\n",
    "* () is the score\n",
    "\n",
    "Topic 0 (3)\n",
    "* Talks about the dlss and ray_tracing features as well as the performance in 4k.\n",
    "\n",
    "Topic 1 (1)\n",
    "* Something to do with tax\n",
    "\n",
    "Topic 2 (4)\n",
    "* Have to do with stocks availability during launch\n",
    "\n",
    "Topic 3 (2)\n",
    "* Driver related issue \n",
    "\n",
    "Topic 4 (2)\n",
    "* Different models of GPUs\n",
    "\n",
    "**2 topics were intrepretable.**"
   ]
  },
  {
   "cell_type": "code",
   "execution_count": 116,
   "metadata": {
    "ExecuteTime": {
     "end_time": "2021-01-23T02:31:44.060611Z",
     "start_time": "2021-01-23T02:31:44.058610Z"
    }
   },
   "outputs": [],
   "source": [
    "topics_interpretable = [2,3,2]"
   ]
  },
  {
   "cell_type": "code",
   "execution_count": 118,
   "metadata": {
    "ExecuteTime": {
     "end_time": "2021-01-23T02:32:52.558100Z",
     "start_time": "2021-01-23T02:32:52.550092Z"
    }
   },
   "outputs": [
    {
     "data": {
      "text/html": [
       "<div>\n",
       "<style scoped>\n",
       "    .dataframe tbody tr th:only-of-type {\n",
       "        vertical-align: middle;\n",
       "    }\n",
       "\n",
       "    .dataframe tbody tr th {\n",
       "        vertical-align: top;\n",
       "    }\n",
       "\n",
       "    .dataframe thead th {\n",
       "        text-align: right;\n",
       "    }\n",
       "</style>\n",
       "<table border=\"1\" class=\"dataframe\">\n",
       "  <thead>\n",
       "    <tr style=\"text-align: right;\">\n",
       "      <th></th>\n",
       "      <th>Perplexity score</th>\n",
       "      <th>Coherence score</th>\n",
       "      <th>no of topics intrepretable</th>\n",
       "    </tr>\n",
       "  </thead>\n",
       "  <tbody>\n",
       "    <tr>\n",
       "      <th>unigram</th>\n",
       "      <td>-7.630070</td>\n",
       "      <td>0.615318</td>\n",
       "      <td>2</td>\n",
       "    </tr>\n",
       "    <tr>\n",
       "      <th>bigrams</th>\n",
       "      <td>-7.697397</td>\n",
       "      <td>0.564760</td>\n",
       "      <td>3</td>\n",
       "    </tr>\n",
       "    <tr>\n",
       "      <th>trigrams</th>\n",
       "      <td>-7.691740</td>\n",
       "      <td>0.548261</td>\n",
       "      <td>2</td>\n",
       "    </tr>\n",
       "  </tbody>\n",
       "</table>\n",
       "</div>"
      ],
      "text/plain": [
       "          Perplexity score  Coherence score  no of topics intrepretable\n",
       "unigram          -7.630070         0.615318                           2\n",
       "bigrams          -7.697397         0.564760                           3\n",
       "trigrams         -7.691740         0.548261                           2"
      ]
     },
     "execution_count": 118,
     "metadata": {},
     "output_type": "execute_result"
    }
   ],
   "source": [
    "score_df = pd.DataFrame(score_dict).T\n",
    "score_df.columns = ['Perplexity score', 'Coherence score']\n",
    "score_df['no of topics intrepretable'] = topics_interpretable\n",
    "score_df"
   ]
  },
  {
   "cell_type": "markdown",
   "metadata": {},
   "source": [
    "## Summary\n",
    "\n",
    "Using Coherence score as the main metric and no of topic intrepretable as the secondary metric to select the best ngram, between unigrams and bigrams, I'll be choosing **bigram** as the it has the larger number of intrepretable topics compared to the other n_grams and it has the **second highest coherence score**."
   ]
  },
  {
   "cell_type": "markdown",
   "metadata": {},
   "source": [
    "## Visualizing the topics-keywords"
   ]
  },
  {
   "cell_type": "code",
   "execution_count": 123,
   "metadata": {
    "ExecuteTime": {
     "end_time": "2021-01-23T02:58:49.184173Z",
     "start_time": "2021-01-23T02:58:49.173163Z"
    }
   },
   "outputs": [],
   "source": [
    "# Obtaining the lda bigram model, corpus and dictionary\n",
    "lda_bigram_model, bigram_corpus, bigram_id2word = model_dict['bigrams']"
   ]
  },
  {
   "cell_type": "code",
   "execution_count": 126,
   "metadata": {
    "ExecuteTime": {
     "end_time": "2021-01-23T03:11:46.694719Z",
     "start_time": "2021-01-23T03:11:42.067516Z"
    }
   },
   "outputs": [
    {
     "data": {
      "text/html": [
       "\n",
       "<link rel=\"stylesheet\" type=\"text/css\" href=\"https://cdn.rawgit.com/bmabey/pyLDAvis/files/ldavis.v1.0.0.css\">\n",
       "\n",
       "\n",
       "<div id=\"ldavis_el853226676654816169838762568\"></div>\n",
       "<script type=\"text/javascript\">\n",
       "\n",
       "var ldavis_el853226676654816169838762568_data = {\"mdsDat\": {\"x\": [-0.12485482600078589, -0.09855361755253408, 0.1263072103361692, -0.11039827542160495, 0.20749950863875602], \"y\": [-0.130834054312068, -0.08462615080376475, -0.0277183980816557, 0.22533621534154166, 0.017842387855946565], \"topics\": [1, 2, 3, 4, 5], \"cluster\": [1, 1, 1, 1, 1], \"Freq\": [36.061650623660654, 27.159115674873323, 14.613372248466078, 12.052175588418852, 10.113685864581088]}, \"tinfo\": {\"Term\": [\"game\", \"dl\", \"3070\", \"amd\", \"3080\", \"6800\", \"ray_tracing\", \"cpu\", \"price\", \"3090\", \"nvidia\", \"rt\", \"gpu\", \"performance\", \"vram\", \"driver\", \"4k\", \"order\", \"6800xt\", \"console\", \"benchmark\", \"support\", \"lol\", \"6900xt\", \"stock\", \"card\", \"thanks\", \"rtx\", \"time\", \"monitor\", \"3070\", \"3090\", \"vram\", \"2080ti\", \"faster\", \"1440p\", \"16gb\", \"8gb\", \"3080\", \"2080_ti\", \"80\", \"perf\", \"msrp\", \"6800\", \"650\", \"999\", \"60\", \"70\", \"4k\", \"600\", \"499\", \"graph\", \"850\", \"percent\", \"60fps\", \"terrible_idea\", \"3080ti\", \"professional\", \"579\", \"649\", \"benchmark\", \"cheaper\", \"buck\", \"6900xt\", \"difference\", \"double\", \"50\", \"xt\", \"compared\", \"6800xt\", \"15\", \"price\", \"700\", \"increase\", \"ti\", \"worth\", \"performance\", \"v\", \"better\", \"500\", \"extra\", \"card\", \"wait\", \"rtx\", \"want\", \"think\", \"gaming\", \"buy\", \"dl\", \"look\", \"amd\", \"nvidia\", \"good\", \"game\", \"going\", \"intel\", \"cpu\", \"6700\", \"linux\", \"ryzen\", \"processor\", \"ryzen_5000\", \"dedicated\", \"x570\", \"mobo\", \"motherboard\", \"combo\", \"b550\", \"undercut\", \"catch\", \"directx\", \"industry\", \"entry_level\", \"limitation\", \"strategy\", \"demand\", \"workstation\", \"pcie\", \"pcie_4\", \"decompression\", \"quadro\", \"2000\", \"enthusiast\", \"building\", \"6600\", \"technology\", \"architecture\", \"driver\", \"console\", \"chip\", \"window\", \"issue\", \"gpu\", \"gpus\", \"amd\", \"pc\", \"nvidia\", \"mid\", \"platform\", \"generation\", \"competition\", \"company\", \"series\", \"new\", \"hardware\", \"market\", \"year\", \"problem\", \"gen\", \"zen\", \"thing\", \"going\", \"card\", \"people\", \"think\", \"work\", \"good\", \"time\", \"performance\", \"support\", \"feature\", \"need\", \"better\", \"know\", \"buy\", \"price\", \"order\", \"store\", \"link\", \"6700xt\", \"partner\", \"confirmation\", \"email\", \"paypal\", \"sapphire\", \"reply\", \"encoder\", \"reference\", \"asus\", \"thread\", \"encoding\", \"gold\", \"g_sync\", \"backorders\", \"supersampling\", \"received\", \"research\", \"vrr\", \"binned\", \"insult\", \"cancel\", \"confirmation_email\", \"smooth\", \"pre_order\", \"credit\", \"tracking\", \"aibs\", \"samsung\", \"called\", \"online\", \"week\", \"page\", \"freesync\", \"u\", \"information\", \"luck\", \"cc\", \"comment\", \"stock\", \"told\", \"aib\", \"website\", \"went\", \"launch\", \"card\", \"video\", \"said\", \"ago\", \"amd\", \"know\", \"monitor\", \"hope\", \"right\", \"buy\", \"day\", \"nvidia\", \"bad\", \"good\", \"look\", \"think\", \"sure\", \"time\", \"lol\", \"6900\", \"api\", \"dxr\", \"lighting\", \"ray\", \"listed\", \"aaa\", \"rtx_voice\", \"gimmick\", \"fidelityfx\", \"aa\", \"effect\", \"usb_c\", \"cyberpunk\", \"ray_traced\", \"opencl\", \"lie\", \"light\", \"reflection\", \"shadow\", \"grand\", \"severe\", \"premature\", \"cherry_picked\", \"abysmal\", \"china\", \"vulkan\", \"cheat\", \"separate\", \"aaa_title\", \"implement\", \"super_resolution\", \"upscaling\", \"implemented\", \"game\", \"thank\", \"implementation\", \"ray_tracing\", \"dl\", \"rt\", \"demanding\", \"control\", \"working\", \"title\", \"support\", \"5000_series\", \"0\", \"play\", \"native\", \"rendering\", \"yes\", \"feature\", \"rtx\", \"work\", \"true\", \"resolution\", \"raytracing\", \"time\", \"good\", \"performance\", \"use\", \"look\", \"fps\", \"nvidia\", \"care\", \"run\", \"year\", \"said\", \"know\", \"shipping\", \"location\", \"thanks\", \"psus\", \"managed\", \"tax\", \"bro\", \"rage\", \"morning\", \"error\", \"hdr\", \"compute_unit\", \"boy\", \"xd\", \"chat\", \"province\", \"2k\", \"overkill\", \"outraged\", \"talked\", \"swap\", \"1070ti\", \"kid\", \"bc\", \"alright\", \"text\", \"conversation\", \"mail\", \"dumbass\", \"self\", \"bus\", \"glad\", \"confirm\", \"assumption\", \"middle\", \"child\", \"dunno\", \"efficiency\", \"date\", \"fuck\", \"evga\", \"lol\", \"fucking\", \"monitor\", \"day\", \"scalper\", \"psu\", \"manufacturer\", \"lmao\", \"yeah\", \"time\", \"supply\", \"people\", \"guy\", \"10\", \"stock\", \"line\", \"tho\", \"guess\", \"thing\", \"know\", \"bought\", \"think\", \"mean\", \"card\", \"point\", \"actually\", \"sure\", \"year\", \"launch\", \"good\", \"way\", \"going\"], \"Freq\": [1384.0, 1461.0, 1385.0, 3278.0, 1374.0, 1300.0, 729.0, 726.0, 1538.0, 839.0, 2363.0, 517.0, 1000.0, 2039.0, 674.0, 653.0, 601.0, 280.0, 885.0, 459.0, 539.0, 471.0, 406.0, 531.0, 504.0, 2650.0, 171.0, 708.0, 791.0, 319.0, 1385.2452300688774, 838.3575813718685, 673.7141461026642, 338.1074207129497, 321.18340059669276, 315.3206133363964, 211.4095166945997, 205.30855154548706, 1369.211390981236, 144.3891142219466, 203.61033679073773, 106.8792347603451, 205.7189430392265, 1290.8303780234571, 91.74679802283848, 91.8496628750064, 90.4370742909869, 86.8586392181092, 596.5061966243279, 77.6123935073761, 69.47090579407178, 78.93512115721056, 68.7617938495869, 58.222278511689346, 57.92260515223511, 56.46941937132902, 54.40855302767766, 55.89280281101731, 53.88116323837827, 54.07703115905116, 530.127266007296, 268.5339457969989, 78.90397911483964, 507.8237804996256, 325.00620746499385, 127.91879365729761, 329.4856012925728, 379.86476752303287, 190.73161129682404, 784.0607117092801, 181.53487576529682, 1291.9265516277765, 132.24255120559425, 165.34078371997367, 132.67269091085035, 231.99963948494306, 1468.4059016742674, 271.3981429337169, 773.3836653575672, 330.95718806923486, 219.27002777449465, 1240.7759893680898, 368.1344613178171, 423.0640295041216, 391.15174116621387, 484.09865377520225, 311.9165276983064, 367.3428899111008, 481.3828968140692, 341.086147618788, 557.5669294553493, 470.39792951373295, 335.48258438620377, 342.54557659468276, 327.89424374889205, 278.25147572866484, 723.5805863018601, 113.74702609238511, 102.06585238454778, 186.39297450356779, 65.76736537848679, 64.34765224068434, 62.547063543335234, 53.21269527669081, 46.79641485675495, 44.00282010568789, 32.341527553911874, 31.452626125382626, 33.867971596893064, 36.448871695950714, 30.267793364075633, 40.076203622234196, 28.70386992373347, 28.51187926698133, 28.331884739559488, 82.50057377305309, 26.916783831986926, 26.5113066178338, 26.139067776464074, 26.203629719541073, 25.365303514448044, 26.97484348938773, 24.39725949415733, 32.75438248040455, 24.701723916867408, 121.50686990393366, 98.58162333060798, 611.3391827087423, 430.05743781992425, 148.90305964911053, 72.6095826307786, 405.3440998062104, 817.183061175569, 290.9525988338166, 2273.340031557228, 310.0769160641783, 1583.6063725851557, 59.32334661618249, 48.850354505182075, 179.34881518966162, 154.95111334210196, 164.02193178237133, 232.61406699995783, 460.35667848951095, 218.71088100447136, 184.9181125793547, 417.64417232461267, 172.25417190704212, 213.9287128269675, 126.11050053620096, 330.99806662803996, 366.1313947723661, 717.3563089121981, 381.9040714210302, 382.8224836989176, 225.3069084813942, 299.1937355206209, 265.08659302856785, 372.21505946093527, 209.3223476463949, 219.2074056849934, 234.08198737847283, 260.8952357672713, 230.21048565424502, 224.74564553511033, 246.23323117734466, 279.444890359735, 105.21114627971934, 93.11049402419316, 77.17629679083213, 76.3810073623016, 77.64151444219291, 77.17538467768547, 52.72585223553607, 53.98879272677851, 53.498032578430994, 46.6913915503168, 160.44393816998655, 41.55183703054039, 55.649504429729916, 38.651110833576794, 36.20005974679958, 34.15180980955838, 33.44558123915158, 35.31129203625619, 29.956402249624386, 29.341767815095363, 29.056898900767134, 27.461141970714703, 26.381462986589966, 25.22614685333395, 24.894149319027903, 26.029675260105346, 42.910276434014776, 22.100701276520617, 21.840810614002635, 41.27932159025332, 60.05100628536914, 90.4071437859599, 53.43865201525498, 137.7913485198913, 63.07899556845331, 68.4495643803435, 52.3438765598889, 68.785648114969, 82.00534336177076, 111.76264862165448, 130.71850360815458, 256.7990516784771, 59.71473613345818, 112.90783663721439, 60.77752105108902, 81.92780708654395, 178.18700224391034, 553.9727318742786, 116.00930096180663, 187.28640278129404, 91.52412287157512, 393.95098890927505, 197.8191924575433, 116.44423911980218, 98.40821362403358, 138.73595153630706, 129.9833936740234, 98.75807892226199, 173.01850311168772, 98.72797253066182, 122.19429360502674, 107.53009075983438, 117.29624600743085, 99.77574419905373, 95.05202339439435, 89.59395164026598, 51.967857896359234, 50.789462377832876, 59.02290591913707, 47.910926483060436, 55.82505250746467, 44.198260468802715, 37.89080880329974, 30.95747470799659, 31.853316998139753, 26.37033147664756, 24.046812518792418, 56.400948573212524, 23.15134086407228, 62.19888909540325, 23.600155652330496, 22.86602846087322, 22.91858456385853, 21.320049084302198, 20.98722945621373, 20.634567105755394, 21.13638001405898, 20.95302529756344, 19.45143706288081, 19.495371087747472, 19.416627533039573, 18.913308746739467, 18.816916082276514, 18.000035609923696, 17.514831286743117, 17.344555882509084, 39.72597029143099, 97.89692813630167, 42.76774226284752, 55.63616022320434, 942.0250891573673, 55.20082558255402, 82.35947389495307, 446.6113139957068, 803.847195756298, 323.94045527682204, 43.23566536624849, 70.57934037271808, 125.75406223970064, 113.69067539995007, 221.86519752621834, 67.429554257241, 137.65969566162036, 144.84278586854012, 45.33557310977214, 65.8739562050805, 135.55791277740096, 155.64647350519, 175.8061742706197, 138.76046639532683, 95.77644326318105, 75.6592035899924, 97.62556809769391, 143.40026182032642, 152.51417039988948, 197.96181542524243, 119.52513586582312, 117.37601048356898, 85.88032372327991, 131.8560830447335, 77.12667277489966, 77.01178677555141, 88.40372499205004, 84.77721386823698, 75.77433118872752, 66.55579201500571, 49.127047735364144, 168.68305901126615, 41.61211878184284, 36.01543681984294, 103.27187817808463, 35.64834806920963, 36.24986898149782, 34.31841392772193, 29.447820594395676, 28.412709847054895, 28.508472330164953, 25.731975452124345, 24.609117370562984, 23.75765006476543, 23.04073542944559, 22.317646433957947, 22.67792726134653, 23.258476083855797, 21.28468058561576, 21.26239759623404, 20.36096405039196, 19.835915353420905, 19.533327931749543, 18.458546920330622, 18.225774693937268, 17.73621589666955, 17.27646105847302, 16.886864691548908, 17.002431204510625, 31.1930334460801, 51.03956962053592, 21.84853559701461, 32.97958225676854, 25.579054060147413, 28.79834932458043, 28.084162466289946, 65.6696837840279, 50.9251458249784, 81.49868820604311, 33.6576514119431, 201.16352949149987, 52.68816986265435, 129.00298968055864, 125.9274579418089, 41.96639343126221, 71.78731816972333, 42.052313799955535, 57.882967789836485, 152.40470861644175, 177.45973689600413, 62.65678954686108, 163.16666446623933, 59.63538482967193, 81.12321338413712, 100.49758149182024, 60.83703972707629, 49.4983571680226, 72.99973672783814, 96.80596840934182, 101.96591806342761, 58.60521126659965, 94.02443758467186, 74.70005414795914, 101.82427639808559, 67.11705056972205, 65.98651600753415, 66.35308869224299, 68.11004434757491, 60.435641807928455, 60.268565464880254, 59.2514271741324, 59.4026851750492], \"Total\": [1384.0, 1461.0, 1385.0, 3278.0, 1374.0, 1300.0, 729.0, 726.0, 1538.0, 839.0, 2363.0, 517.0, 1000.0, 2039.0, 674.0, 653.0, 601.0, 280.0, 885.0, 459.0, 539.0, 471.0, 406.0, 531.0, 504.0, 2650.0, 171.0, 708.0, 791.0, 319.0, 1385.9658379517946, 839.0824603051565, 674.4609305970679, 338.83040161919735, 321.9015293743884, 316.19020588250044, 212.1265556360886, 206.02402368767056, 1374.5249725509775, 145.1035110608017, 204.84044069768478, 107.60189097347204, 207.1843658127693, 1300.3832452390595, 92.46259270573152, 92.5694656626993, 91.15917105337023, 87.5727777581344, 601.6457892386036, 78.32891860658958, 70.18561416100253, 79.74804324636575, 69.49162757319345, 58.93647006047134, 58.64723657194727, 57.197365641404225, 55.122599203587924, 56.63104372024457, 54.59291973376377, 54.79575669919684, 539.530406876648, 275.6873250684647, 80.05677473472, 531.1742995685106, 338.4999428853725, 130.78905859705102, 343.47303213429046, 401.8004686985659, 198.86549269305854, 885.0082221690873, 191.19936949274395, 1538.9633804408695, 137.47251301973523, 175.35747864509128, 138.66473544014357, 256.6329896358548, 2039.2536242360768, 319.9531179393629, 1125.950767185605, 420.76720695987177, 253.85455041300182, 2650.8674615190776, 538.0723384803666, 708.2201196365567, 690.525525674701, 1142.7868268984955, 503.7135465486579, 727.5700641304361, 1461.9834691547383, 649.3613489105393, 3278.7739076780836, 2363.6594718582646, 969.6533493766211, 1384.5997320935367, 833.6294990109344, 279.47277345192174, 726.7948928445063, 114.45824836605851, 102.77148076149378, 187.89056859284236, 66.47362894700248, 65.06004740925735, 63.25720510337259, 53.915799566369635, 47.50783801837781, 44.710019750175626, 33.04432879979099, 32.15654410895071, 34.63397937730578, 37.29614494107694, 30.978452460477865, 41.0494416821983, 29.409472568565086, 29.224411086101554, 29.047485118621616, 84.61523764440393, 27.623956629002272, 27.213235951622345, 26.838197920160468, 26.914309832424298, 26.07454363561378, 27.72956108848713, 25.103800675564052, 33.70738000580869, 25.426082741045537, 125.42598449726229, 102.6601952608031, 653.4385715608807, 459.0336937642907, 157.68443763877212, 77.28946312297158, 464.9352162456434, 1000.6805050898813, 339.10565100578964, 3278.7739076780836, 382.1550819939119, 2363.6594718582646, 65.0519895582232, 52.5119189706149, 226.52288843336436, 197.47061426706006, 210.90603921576223, 319.88619344612044, 729.9683372791916, 307.57640382505826, 257.94027107061873, 706.9600239111069, 237.97290294983355, 316.8820942087459, 162.48879113918534, 640.9097881641343, 833.6294990109344, 2650.8674615190776, 999.3169909333758, 1142.7868268984955, 466.65104516761227, 969.6533493766211, 791.669777596936, 2039.2536242360768, 471.70368709293416, 558.8226852860026, 705.6075556104746, 1125.950767185605, 818.0189237720668, 727.5700641304361, 1538.9633804408695, 280.14948881884317, 105.91666209659198, 93.81346911277306, 77.9003932860529, 77.10065157665287, 78.38973904966204, 77.93493159936507, 53.428996147071736, 54.7097915654269, 54.2613266720669, 47.397947693979724, 163.1079359918216, 42.25849693704016, 56.60098994479048, 39.41490252001178, 36.92888532939929, 34.85437451960946, 34.14628726767453, 36.09017915965653, 30.657534844334286, 30.050000376141313, 29.764322409275703, 28.167988131966155, 27.09507710742484, 25.927437693507184, 25.593214067608923, 26.81802275284269, 44.253361740286635, 22.812952339060672, 22.558974251708907, 42.72038640715735, 62.47915396287537, 95.75964574400568, 56.2536731780541, 156.2364104374188, 71.90747855807028, 81.14422641196558, 60.73374679844186, 85.17362004380853, 106.02030594730397, 157.47574704821344, 199.84311705613544, 504.11186440389383, 73.19006008342677, 176.31740233747945, 76.60157218442231, 120.74457924635544, 401.8731165571553, 2650.8674615190776, 231.2870323876183, 565.2255224816157, 158.28949594071915, 3278.7739076780836, 818.0189237720668, 319.9490202686989, 227.88882479446247, 551.0959083562165, 727.5700641304361, 314.1766843140247, 2363.6594718582646, 366.20572886513486, 969.6533493766211, 649.3613489105393, 1142.7868268984955, 541.6623403749842, 791.669777596936, 406.7682806287244, 52.69845174770882, 51.50717993072863, 59.8710300667219, 48.630199143292884, 56.69550245085067, 44.95351137400522, 38.617760775294464, 31.67897166287714, 32.60585875968259, 27.09199024387805, 24.76341999999458, 58.14758930101104, 23.871377164126972, 64.13343834373461, 24.334695732705065, 23.58421163561558, 23.6578046178599, 22.040664997106376, 21.702062634082488, 21.34995117482374, 21.877476774641575, 21.7241172287111, 20.168385993530887, 20.22243886366953, 20.144406988987523, 19.640519655459116, 19.560473056260395, 18.725856938328278, 18.23826175138809, 18.062863497078315, 41.41761709481008, 105.73365868960472, 46.02348217492808, 62.86001097085897, 1384.5997320935367, 64.09818975264278, 103.58904655995572, 729.0789982368043, 1461.9834691547383, 517.5026401527506, 50.2121876241334, 89.64545214767493, 179.00032310144206, 161.27736442930225, 471.70368709293416, 98.35781058225346, 260.61895166354, 280.97307375780224, 59.32507279197339, 102.80091283438937, 370.6272346347926, 558.8226852860026, 708.2201196365567, 466.65104516761227, 234.2372278739084, 165.81083662263293, 300.17646000374424, 791.669777596936, 969.6533493766211, 2039.2536242360768, 560.4506933767148, 649.3613489105393, 282.69438785187936, 2363.6594718582646, 270.70935207854143, 275.1326408324681, 706.9600239111069, 565.2255224816157, 818.0189237720668, 67.2971521453311, 49.8489593944182, 171.21855352993606, 42.33456981649358, 36.743709666192714, 105.37298311142462, 36.378328345880846, 36.99615442180271, 35.04464753234634, 30.168480316732875, 29.1413820811046, 29.251209933758552, 26.463036948134427, 25.331299392119092, 24.487421735100398, 23.75936601761092, 23.045632784582104, 23.417725136659037, 24.033349755287897, 22.016355447435373, 21.99483205713981, 21.08745040085115, 20.563508732449286, 20.264298386513122, 19.1814803895053, 18.957022361581608, 18.46561583995332, 17.99646369370246, 17.60843626012403, 17.731230528051498, 32.63388089385971, 53.93951664905445, 22.880412588977713, 35.199011003753455, 27.263803535509528, 31.027642149331143, 30.201236852733995, 84.03384001438917, 63.32230312382569, 113.56360832001386, 39.41362547238127, 406.7682806287244, 82.61749504765382, 319.9490202686989, 314.1766843140247, 61.50863753734139, 148.2364464169165, 62.34757965054389, 107.42779690456533, 560.2939662541761, 791.669777596936, 131.9386917976468, 999.3169909333758, 141.45839913640182, 291.84158896526037, 504.11186440389383, 162.9233725685895, 100.0503687741631, 286.62743358147395, 640.9097881641343, 818.0189237720668, 204.3492674344401, 1142.7868268984955, 504.6045224674892, 2650.8674615190776, 506.0201328331563, 494.8955545738323, 541.6623403749842, 706.9600239111069, 401.8731165571553, 969.6533493766211, 496.6826517072124, 833.6294990109344], \"Category\": [\"Default\", \"Default\", \"Default\", \"Default\", \"Default\", \"Default\", \"Default\", \"Default\", \"Default\", \"Default\", \"Default\", \"Default\", \"Default\", \"Default\", \"Default\", \"Default\", \"Default\", \"Default\", \"Default\", \"Default\", \"Default\", \"Default\", \"Default\", \"Default\", \"Default\", \"Default\", \"Default\", \"Default\", \"Default\", \"Default\", \"Topic1\", \"Topic1\", \"Topic1\", \"Topic1\", \"Topic1\", \"Topic1\", \"Topic1\", \"Topic1\", \"Topic1\", \"Topic1\", \"Topic1\", \"Topic1\", \"Topic1\", \"Topic1\", \"Topic1\", \"Topic1\", \"Topic1\", \"Topic1\", \"Topic1\", \"Topic1\", \"Topic1\", \"Topic1\", \"Topic1\", \"Topic1\", \"Topic1\", \"Topic1\", \"Topic1\", \"Topic1\", \"Topic1\", \"Topic1\", \"Topic1\", \"Topic1\", \"Topic1\", \"Topic1\", \"Topic1\", \"Topic1\", \"Topic1\", \"Topic1\", \"Topic1\", \"Topic1\", \"Topic1\", \"Topic1\", \"Topic1\", \"Topic1\", \"Topic1\", \"Topic1\", \"Topic1\", \"Topic1\", \"Topic1\", \"Topic1\", \"Topic1\", \"Topic1\", \"Topic1\", \"Topic1\", \"Topic1\", \"Topic1\", \"Topic1\", \"Topic1\", \"Topic1\", \"Topic1\", \"Topic1\", \"Topic1\", \"Topic1\", \"Topic1\", \"Topic1\", \"Topic2\", \"Topic2\", \"Topic2\", \"Topic2\", \"Topic2\", \"Topic2\", \"Topic2\", \"Topic2\", \"Topic2\", \"Topic2\", \"Topic2\", \"Topic2\", \"Topic2\", \"Topic2\", \"Topic2\", \"Topic2\", \"Topic2\", \"Topic2\", \"Topic2\", \"Topic2\", \"Topic2\", \"Topic2\", \"Topic2\", \"Topic2\", \"Topic2\", \"Topic2\", \"Topic2\", \"Topic2\", \"Topic2\", \"Topic2\", \"Topic2\", \"Topic2\", \"Topic2\", \"Topic2\", \"Topic2\", \"Topic2\", \"Topic2\", \"Topic2\", \"Topic2\", \"Topic2\", \"Topic2\", \"Topic2\", \"Topic2\", \"Topic2\", \"Topic2\", \"Topic2\", \"Topic2\", \"Topic2\", \"Topic2\", \"Topic2\", \"Topic2\", \"Topic2\", \"Topic2\", \"Topic2\", \"Topic2\", \"Topic2\", \"Topic2\", \"Topic2\", \"Topic2\", \"Topic2\", \"Topic2\", \"Topic2\", \"Topic2\", \"Topic2\", \"Topic2\", \"Topic2\", \"Topic2\", \"Topic2\", \"Topic2\", \"Topic2\", \"Topic2\", \"Topic3\", \"Topic3\", \"Topic3\", \"Topic3\", \"Topic3\", \"Topic3\", \"Topic3\", \"Topic3\", \"Topic3\", \"Topic3\", \"Topic3\", \"Topic3\", \"Topic3\", \"Topic3\", \"Topic3\", \"Topic3\", \"Topic3\", \"Topic3\", \"Topic3\", \"Topic3\", \"Topic3\", \"Topic3\", \"Topic3\", \"Topic3\", \"Topic3\", \"Topic3\", \"Topic3\", \"Topic3\", \"Topic3\", \"Topic3\", \"Topic3\", \"Topic3\", \"Topic3\", \"Topic3\", \"Topic3\", \"Topic3\", \"Topic3\", \"Topic3\", \"Topic3\", \"Topic3\", \"Topic3\", \"Topic3\", \"Topic3\", \"Topic3\", \"Topic3\", \"Topic3\", \"Topic3\", \"Topic3\", \"Topic3\", \"Topic3\", \"Topic3\", \"Topic3\", \"Topic3\", \"Topic3\", \"Topic3\", \"Topic3\", \"Topic3\", \"Topic3\", \"Topic3\", \"Topic3\", \"Topic3\", \"Topic3\", \"Topic3\", \"Topic3\", \"Topic3\", \"Topic3\", \"Topic3\", \"Topic4\", \"Topic4\", \"Topic4\", \"Topic4\", \"Topic4\", \"Topic4\", \"Topic4\", \"Topic4\", \"Topic4\", \"Topic4\", \"Topic4\", \"Topic4\", \"Topic4\", \"Topic4\", \"Topic4\", \"Topic4\", \"Topic4\", \"Topic4\", \"Topic4\", \"Topic4\", \"Topic4\", \"Topic4\", \"Topic4\", \"Topic4\", \"Topic4\", \"Topic4\", \"Topic4\", \"Topic4\", \"Topic4\", \"Topic4\", \"Topic4\", \"Topic4\", \"Topic4\", \"Topic4\", \"Topic4\", \"Topic4\", \"Topic4\", \"Topic4\", \"Topic4\", \"Topic4\", \"Topic4\", \"Topic4\", \"Topic4\", \"Topic4\", \"Topic4\", \"Topic4\", \"Topic4\", \"Topic4\", \"Topic4\", \"Topic4\", \"Topic4\", \"Topic4\", \"Topic4\", \"Topic4\", \"Topic4\", \"Topic4\", \"Topic4\", \"Topic4\", \"Topic4\", \"Topic4\", \"Topic4\", \"Topic4\", \"Topic4\", \"Topic4\", \"Topic4\", \"Topic4\", \"Topic4\", \"Topic4\", \"Topic4\", \"Topic5\", \"Topic5\", \"Topic5\", \"Topic5\", \"Topic5\", \"Topic5\", \"Topic5\", \"Topic5\", \"Topic5\", \"Topic5\", \"Topic5\", \"Topic5\", \"Topic5\", \"Topic5\", \"Topic5\", \"Topic5\", \"Topic5\", \"Topic5\", \"Topic5\", \"Topic5\", \"Topic5\", \"Topic5\", \"Topic5\", \"Topic5\", \"Topic5\", \"Topic5\", \"Topic5\", \"Topic5\", \"Topic5\", \"Topic5\", \"Topic5\", \"Topic5\", \"Topic5\", \"Topic5\", \"Topic5\", \"Topic5\", \"Topic5\", \"Topic5\", \"Topic5\", \"Topic5\", \"Topic5\", \"Topic5\", \"Topic5\", \"Topic5\", \"Topic5\", \"Topic5\", \"Topic5\", \"Topic5\", \"Topic5\", \"Topic5\", \"Topic5\", \"Topic5\", \"Topic5\", \"Topic5\", \"Topic5\", \"Topic5\", \"Topic5\", \"Topic5\", \"Topic5\", \"Topic5\", \"Topic5\", \"Topic5\", \"Topic5\", \"Topic5\", \"Topic5\", \"Topic5\", \"Topic5\", \"Topic5\", \"Topic5\", \"Topic5\", \"Topic5\", \"Topic5\", \"Topic5\"], \"logprob\": [30.0, 29.0, 28.0, 27.0, 26.0, 25.0, 24.0, 23.0, 22.0, 21.0, 20.0, 19.0, 18.0, 17.0, 16.0, 15.0, 14.0, 13.0, 12.0, 11.0, 10.0, 9.0, 8.0, 7.0, 6.0, 5.0, 4.0, 3.0, 2.0, 1.0, -3.9305999279022217, -4.432799816131592, -4.651500225067139, -5.34089994430542, -5.392300128936768, -5.410699844360352, -5.810500144958496, -5.839799880981445, -3.9423000812530518, -6.191800117492676, -5.848100185394287, -6.492599964141846, -5.837800025939941, -4.001200199127197, -6.645199775695801, -6.644100189208984, -6.659599781036377, -6.699999809265137, -4.773200035095215, -6.8125, -6.923399925231934, -6.795599937438965, -6.933599948883057, -7.099999904632568, -7.105199813842773, -7.1305999755859375, -7.167799949645996, -7.1407999992370605, -7.177499771118164, -7.173900127410889, -4.891200065612793, -5.571300029754639, -6.796000003814697, -4.934100151062012, -5.38040018081665, -6.312900066375732, -5.366700172424316, -5.2245001792907715, -5.913400173187256, -4.499800205230713, -5.962800025939941, -4.000400066375732, -6.279600143432617, -6.056300163269043, -6.276400089263916, -5.71750020980835, -3.872299909591675, -5.560699939727783, -4.513500213623047, -5.362299919128418, -5.77400016784668, -4.040800094604492, -5.255799770355225, -5.116799831390381, -5.195199966430664, -4.98199987411499, -5.421500205993652, -5.257999897003174, -4.987599849700928, -5.332099914550781, -4.840700149536133, -5.010700225830078, -5.348700046539307, -5.327899932861328, -5.371600151062012, -5.252200126647949, -4.296500205993652, -6.1468000411987305, -6.255099773406982, -5.652900218963623, -6.6946001052856445, -6.7164998054504395, -6.744800090789795, -6.906499862670898, -7.034999847412109, -7.096499919891357, -7.404399871826172, -7.432300090789795, -7.35830020904541, -7.284800052642822, -7.470699787139893, -7.190000057220459, -7.52370023727417, -7.530399799346924, -7.536799907684326, -6.4679999351501465, -7.5879998207092285, -7.6031999588012695, -7.617300033569336, -7.6149001121521, -7.64739990234375, -7.585899829864502, -7.686299800872803, -7.39169979095459, -7.673900127410889, -6.0808000564575195, -6.289899826049805, -4.465099811553955, -4.816800117492676, -5.877500057220459, -6.595699787139893, -4.875999927520752, -4.174900054931641, -5.207600116729736, -3.1517999172210693, -5.143899917602539, -3.5132999420166016, -6.797800064086914, -6.992000102996826, -5.691400051116943, -5.837600231170654, -5.780799865722656, -5.431399822235107, -4.748799800872803, -5.493000030517578, -5.660799980163574, -4.846099853515625, -5.731800079345703, -5.515100002288818, -6.043600082397461, -5.07859992980957, -4.977799892425537, -4.305200099945068, -4.9355998039245605, -4.933199882507324, -5.4633002281188965, -5.179699897766113, -5.3007001876831055, -4.961299896240234, -5.536900043487549, -5.490699768066406, -5.425099849700928, -5.3165998458862305, -5.441800117492676, -5.465799808502197, -5.374499797821045, -4.628200054168701, -5.605000019073486, -5.727200031280518, -5.914899826049805, -5.92519998550415, -5.908899784088135, -5.914899826049805, -6.295899868011475, -6.272200107574463, -6.281300067901611, -6.417399883270264, -5.183000087738037, -6.533999919891357, -6.2418999671936035, -6.606400012969971, -6.671899795532227, -6.730199813842773, -6.751100063323975, -6.696800231933594, -6.861199855804443, -6.881999969482422, -6.89169979095459, -6.948200225830078, -6.98829984664917, -7.033100128173828, -7.046299934387207, -7.001699924468994, -6.5019001960754395, -7.16540002822876, -7.177199840545654, -6.540599822998047, -6.165800094604492, -5.756700038909912, -6.282400131225586, -5.33519983291626, -6.116600036621094, -6.034900188446045, -6.303100109100342, -6.03000020980835, -5.8541998863220215, -5.544600009918213, -5.387899875640869, -4.712699890136719, -6.17140007019043, -5.53439998626709, -6.153800010681152, -5.855100154876709, -5.078100204467773, -3.9439001083374023, -5.507299900054932, -5.028299808502197, -5.7444000244140625, -4.284800052642822, -4.973599910736084, -5.503600120544434, -5.671899795532227, -5.328400135040283, -5.393599987030029, -5.668300151824951, -5.107600212097168, -5.668600082397461, -5.455399990081787, -5.583199977874756, -5.496300220489502, -5.658100128173828, -5.706600189208984, -5.765699863433838, -6.117700099945068, -6.140600204467773, -5.9903998374938965, -6.19890022277832, -6.04610013961792, -6.279600143432617, -6.433599948883057, -6.635700225830078, -6.607100009918213, -6.79610013961792, -6.888299942016602, -6.035799980163574, -6.926199913024902, -5.938000202178955, -6.9070000648498535, -6.938600063323975, -6.936299800872803, -7.008600234985352, -7.024400234222412, -7.041299819946289, -7.017300128936768, -7.026000022888184, -7.100399971008301, -7.098100185394287, -7.102200031280518, -7.128399848937988, -7.133500099182129, -7.1778998374938965, -7.2052001953125, -7.215000152587891, -6.386300086975098, -5.484399795532227, -6.3125, -6.049499988555908, -3.2202999591827393, -6.057300090789795, -5.657199859619141, -3.966599941253662, -3.3789000511169434, -4.287700176239014, -6.301599979400635, -5.811600208282471, -5.234000205993652, -5.334799766540527, -4.666200160980225, -5.8572001457214355, -5.143499851226807, -5.092599868774414, -6.254199981689453, -5.880499839782715, -5.158899784088135, -5.020699977874756, -4.898900032043457, -5.135499954223633, -5.50629997253418, -5.742099761962891, -5.487199783325195, -5.102700233459473, -5.040999889373779, -4.780200004577637, -5.284800052642822, -5.3028998374938965, -5.615300178527832, -5.186600208282471, -5.722799777984619, -5.724299907684326, -5.586400032043457, -5.628300189971924, -5.740499973297119, -5.694900035858154, -5.998499870300293, -4.764900207519531, -6.1645002365112305, -6.309000015258789, -5.2555999755859375, -6.319200038909912, -6.302499771118164, -6.3572998046875, -6.510300159454346, -6.54610013961792, -6.542699813842773, -6.645199775695801, -6.689799785614014, -6.724999904632568, -6.75570011138916, -6.787600040435791, -6.771500110626221, -6.746300220489502, -6.83489990234375, -6.835999965667725, -6.879300117492676, -6.905399799346924, -6.92080020904541, -6.977399826049805, -6.990099906921387, -7.017300128936768, -7.043600082397461, -7.066400051116943, -7.059599876403809, -6.452700138092041, -5.960299968719482, -6.808800220489502, -6.396999835968018, -6.651199817657471, -6.532599925994873, -6.557700157165527, -5.7083001136779785, -5.962600231170654, -5.492300033569336, -6.376699924468994, -4.588799953460693, -5.928500175476074, -5.033100128173828, -5.057199954986572, -6.156099796295166, -5.619200229644775, -6.1539998054504395, -5.834499835968018, -4.866399765014648, -4.714200019836426, -5.755300045013428, -4.7982001304626465, -5.804699897766113, -5.497000217437744, -5.282800197601318, -5.7846999168396, -5.991000175476074, -5.602499961853027, -5.320199966430664, -5.2683000564575195, -5.8221001625061035, -5.349400043487549, -5.579500198364258, -5.269700050354004, -5.686500072479248, -5.703499794006348, -5.69789981842041, -5.671800136566162, -5.791399955749512, -5.794099807739258, -5.811100006103516, -5.808599948883057], \"loglift\": [30.0, 29.0, 28.0, 27.0, 26.0, 25.0, 24.0, 23.0, 22.0, 21.0, 20.0, 19.0, 18.0, 17.0, 16.0, 15.0, 14.0, 13.0, 12.0, 11.0, 10.0, 9.0, 8.0, 7.0, 6.0, 5.0, 4.0, 3.0, 2.0, 1.0, 1.0194, 1.0191, 1.0188, 1.0178, 1.0177, 1.0172, 1.0166, 1.0165, 1.0161, 1.015, 1.0139, 1.0132, 1.0128, 1.0126, 1.0122, 1.0121, 1.012, 1.0118, 1.0114, 1.0108, 1.0097, 1.0097, 1.0094, 1.0077, 1.0075, 1.0071, 1.0069, 1.0068, 1.0068, 1.0067, 1.0024, 0.9937, 1.0054, 0.975, 0.9793, 0.9978, 0.9784, 0.9638, 0.9782, 0.8988, 0.9681, 0.845, 0.9812, 0.9611, 0.9758, 0.919, 0.6915, 0.8554, 0.6443, 0.7798, 0.8735, 0.2608, 0.6404, 0.5047, 0.4516, 0.161, 0.5407, 0.3365, -0.0909, 0.3761, -0.7517, -0.5944, -0.0414, -0.3768, 0.0868, 1.2991, 1.299, 1.2972, 1.2966, 1.2955, 1.2928, 1.2924, 1.2922, 1.2903, 1.2884, 1.2875, 1.282, 1.2813, 1.2811, 1.2805, 1.2802, 1.2795, 1.2792, 1.2788, 1.2785, 1.2781, 1.2775, 1.2773, 1.2771, 1.2767, 1.2759, 1.2759, 1.2749, 1.2748, 1.2746, 1.2717, 1.2629, 1.2369, 1.2383, 1.2462, 1.241, 1.1663, 1.1009, 1.1503, 0.9372, 1.0945, 0.903, 1.2113, 1.2312, 1.0699, 1.061, 1.052, 0.9849, 0.8425, 0.9625, 0.9706, 0.7771, 0.9803, 0.9106, 1.05, 0.6427, 0.4807, -0.0036, 0.3416, 0.2098, 0.5753, 0.1276, 0.2094, -0.3974, 0.491, 0.3676, 0.2001, -0.1588, 0.0356, 0.1287, -0.5291, 1.9207, 1.9165, 1.9157, 1.9139, 1.9139, 1.9136, 1.9134, 1.91, 1.91, 1.9091, 1.9082, 1.9068, 1.9064, 1.9063, 1.9037, 1.9033, 1.9029, 1.9025, 1.9014, 1.9001, 1.8994, 1.8992, 1.8978, 1.8965, 1.8958, 1.8955, 1.8934, 1.8924, 1.8915, 1.8909, 1.8889, 1.8836, 1.8657, 1.8719, 1.7976, 1.7922, 1.7531, 1.7746, 1.7095, 1.6664, 1.5803, 1.4987, 1.2487, 1.7198, 1.4775, 1.6918, 1.5354, 1.1099, 0.3577, 1.2332, 0.8186, 1.3754, -0.1958, 0.5037, 0.9125, 1.0835, 0.5439, 0.2009, 0.766, -0.6913, 0.6124, -0.1481, 0.125, -0.3533, 0.2315, -0.1965, 0.4103, 2.102, 2.1019, 2.1017, 2.101, 2.1005, 2.099, 2.0969, 2.0929, 2.0926, 2.0889, 2.0866, 2.0854, 2.0853, 2.0853, 2.0853, 2.085, 2.0842, 2.0827, 2.0824, 2.0818, 2.0815, 2.0798, 2.0797, 2.0793, 2.0791, 2.0782, 2.0772, 2.0764, 2.0755, 2.0753, 2.0742, 2.0389, 2.0426, 1.9938, 1.7308, 1.9665, 1.8866, 1.6258, 1.5178, 1.6475, 1.9663, 1.8768, 1.7629, 1.7663, 1.3616, 1.7384, 1.4777, 1.4533, 1.847, 1.6709, 1.1101, 0.8377, 0.7226, 0.9031, 1.2216, 1.3313, 0.9927, 0.4074, 0.2662, -0.2163, 0.5707, 0.4053, 0.9245, -0.7703, 0.8603, 0.8426, 0.0369, 0.2187, -0.2632, 2.2802, 2.2767, 2.2764, 2.2741, 2.2713, 2.2711, 2.271, 2.2709, 2.2703, 2.2671, 2.266, 2.2656, 2.2633, 2.2624, 2.261, 2.2606, 2.2592, 2.2592, 2.2585, 2.2575, 2.2574, 2.2562, 2.2553, 2.2545, 2.2529, 2.2519, 2.251, 2.2505, 2.2494, 2.2493, 2.2461, 2.236, 2.2451, 2.2262, 2.2275, 2.2167, 2.2186, 2.0447, 2.0734, 1.9595, 2.1334, 1.5872, 1.8415, 1.383, 1.377, 1.909, 1.5662, 1.8975, 1.6729, 0.9894, 0.7959, 1.5466, 0.479, 1.4275, 1.011, 0.6786, 1.3062, 1.5875, 0.9236, 0.4011, 0.209, 1.0423, -0.2064, 0.381, -0.9681, 0.2711, 0.2764, 0.1916, -0.0486, 0.3967, -0.4868, 0.1651, -0.3502]}, \"token.table\": {\"Topic\": [1, 2, 3, 4, 1, 2, 3, 4, 5, 5, 1, 1, 3, 5, 1, 2, 1, 1, 5, 1, 1, 3, 5, 1, 1, 1, 1, 5, 1, 2, 3, 5, 1, 2, 1, 4, 1, 1, 1, 1, 1, 1, 2, 2, 3, 1, 3, 5, 1, 3, 5, 4, 1, 3, 1, 1, 4, 1, 5, 1, 1, 1, 4, 4, 4, 4, 1, 2, 3, 4, 5, 1, 2, 3, 4, 1, 3, 5, 1, 3, 5, 1, 2, 3, 4, 5, 4, 2, 4, 1, 5, 3, 2, 3, 1, 2, 3, 4, 5, 5, 1, 2, 3, 1, 2, 3, 4, 3, 1, 2, 3, 4, 5, 5, 5, 1, 2, 2, 2, 5, 1, 2, 3, 4, 5, 3, 4, 5, 3, 1, 2, 3, 4, 5, 1, 2, 3, 4, 5, 2, 3, 5, 5, 1, 2, 4, 4, 4, 5, 4, 2, 3, 5, 2, 1, 3, 5, 2, 3, 4, 1, 2, 3, 5, 1, 2, 5, 5, 3, 3, 1, 2, 4, 1, 2, 3, 4, 5, 1, 2, 4, 3, 1, 4, 1, 3, 5, 1, 2, 3, 4, 5, 2, 2, 1, 2, 1, 4, 1, 2, 3, 2, 1, 2, 4, 1, 2, 1, 2, 3, 4, 5, 3, 5, 4, 3, 4, 2, 5, 3, 3, 3, 2, 2, 5, 3, 5, 1, 2, 1, 1, 2, 3, 4, 4, 1, 3, 4, 3, 5, 1, 2, 3, 5, 1, 3, 5, 3, 1, 2, 4, 1, 2, 4, 5, 1, 2, 3, 4, 1, 2, 4, 4, 1, 5, 1, 2, 3, 4, 5, 3, 1, 2, 3, 4, 5, 1, 2, 5, 1, 2, 3, 5, 4, 1, 1, 2, 3, 4, 5, 1, 2, 3, 4, 5, 1, 2, 3, 4, 5, 1, 2, 3, 4, 5, 2, 4, 1, 2, 4, 1, 4, 1, 2, 3, 2, 1, 2, 3, 4, 3, 2, 3, 1, 2, 3, 4, 5, 5, 1, 2, 3, 4, 5, 1, 2, 3, 4, 5, 4, 4, 4, 2, 1, 2, 3, 5, 3, 2, 4, 1, 3, 5, 5, 1, 3, 4, 5, 1, 2, 3, 4, 1, 3, 4, 5, 5, 2, 5, 1, 2, 3, 5, 1, 2, 3, 4, 5, 2, 5, 2, 5, 2, 1, 2, 3, 5, 5, 2, 1, 3, 1, 2, 4, 5, 1, 2, 3, 4, 5, 1, 2, 3, 4, 5, 1, 2, 3, 4, 5, 3, 4, 5, 4, 3, 5, 5, 3, 5, 3, 3, 1, 2, 3, 4, 5, 2, 2, 1, 2, 3, 4, 5, 1, 1, 1, 2, 4, 2, 4, 1, 2, 4, 1, 2, 3, 4, 5, 1, 3, 4, 1, 2, 1, 2, 3, 4, 5, 2, 1, 5, 2, 3, 5, 5, 2, 5, 4, 4, 1, 2, 4, 1, 2, 4, 3, 1, 3, 4, 1, 2, 4, 3, 3, 1, 2, 4, 1, 2, 3, 4, 5, 1, 2, 4, 1, 2, 3, 4, 4, 1, 2, 3, 4, 5, 2, 3, 2, 1, 2, 3, 4, 5, 2, 3, 3, 1, 3, 5, 5, 4, 1, 2, 3, 4, 4, 5, 3, 1, 2, 3, 4, 5, 3, 2, 1, 4, 3, 1, 2, 5, 1, 2, 3, 4, 5, 1, 2, 3, 4, 5, 5, 5, 4, 5, 1, 2, 1, 5, 4, 5, 2, 4, 5, 1, 2, 3, 4, 5, 1, 2, 3, 4, 5, 1, 3, 4, 5, 3, 1, 5, 1, 2, 3, 4, 5, 1, 4, 3, 4, 5, 3, 1, 2, 4, 5, 1, 2, 3, 2, 2, 4, 4, 1, 2, 3, 4, 5, 1, 2, 3, 4, 5, 1, 3, 4, 5, 1, 3, 4, 1, 2, 3, 5, 1, 2, 3, 4, 5, 1, 2, 3, 4, 5, 3, 4, 5, 3, 4, 5, 1, 2, 3, 5, 2, 3, 1, 2, 3, 4, 5, 1, 2, 3, 4, 5, 2, 1, 2, 2, 5, 1, 3, 1, 2, 3, 4, 5, 1, 2, 3, 4, 5, 1, 2, 3, 4, 5, 1, 2, 3], \"Freq\": [0.12278462404879949, 0.2839394431128488, 0.06906635102744971, 0.5295086912104477, 0.6407585727004101, 0.03426516431552996, 0.01713258215776498, 0.027412131452423962, 0.2775478309557926, 0.9484313949681059, 0.9962357914307355, 0.951885984158054, 0.036610999390694385, 0.010460285540198396, 0.9946892286413151, 0.9736901321243764, 0.9923950078620819, 0.9975492115960403, 0.9546277251592046, 0.9993031300445169, 0.9959804494925082, 0.002182572204877666, 0.0014550481365851104, 0.9796345016416632, 0.9987099476435691, 0.9831074476561138, 0.992278198698136, 0.008310537677538829, 0.9578626827138155, 0.0029114367255739073, 0.0029114367255739073, 0.034937240706886884, 0.7866582626330174, 0.21151838481673277, 0.3050088226080629, 0.6811863704913405, 0.9891392558475477, 0.9872840983526322, 0.9958008024055383, 0.9889639033349295, 0.9854777678577343, 0.994996974536462, 0.9832422970779644, 0.9959963709684517, 0.9884417363241463, 0.9927842462801537, 0.000769004063733659, 0.006152032509869272, 0.8858674759862413, 0.09830417144235075, 0.01581906207118288, 0.9867462567770943, 0.9563715722177526, 0.0433002877185203, 0.993459408587948, 0.9601919474698946, 0.03637090710113237, 0.9958970958331165, 0.004881848508985865, 0.9929253697119752, 0.9950295908732325, 0.9938482343111464, 0.9691714633925869, 0.9840031953460732, 0.9411575303522483, 0.943189839759833, 0.4263525870255547, 0.15356775646418083, 0.17983592533305387, 0.10709330385002085, 0.1333614727188939, 0.0063175385963355965, 0.12003323333037634, 0.5812135508628749, 0.29692431402777303, 0.32328062485232983, 0.6408896597949697, 0.03402953945813998, 0.023408027972154778, 0.9597291468583459, 0.9384051509313265, 0.17018556805435744, 0.6932469465726783, 0.12016687063336351, 0.0033549126318959356, 0.013114658470138657, 0.9901532188054029, 0.9643465001064476, 0.029222621215346897, 0.05681977825418815, 0.9375263411941045, 0.9938829595045634, 0.9640339426702016, 0.9664301053087053, 0.4259900588760347, 0.14199668629201156, 0.2703398450559451, 0.09557469269654625, 0.06826763764039018, 0.9869574370909863, 0.982335737235238, 0.0018534636551608265, 0.014827709241286612, 0.6865309057270499, 0.23180409624160414, 0.02220345749440653, 0.05861712778523323, 0.9585349111021289, 0.3229764453213629, 0.20553046520450366, 0.1125523976119901, 0.07340373757303702, 0.2887213677872789, 0.9825025015442505, 0.9896001723255741, 0.9867996838715802, 0.012491135238880763, 0.9790140911074433, 0.03064299962521947, 0.9499329883818036, 0.5044187743466664, 0.3092485673787464, 0.17867695004105347, 0.006872190386194364, 0.0013744380772388728, 0.9398531009669465, 0.020885624465932145, 0.03132843669889822, 0.9642294890659622, 0.46814864115795735, 0.27047749855782066, 0.2089881927489995, 0.01395769518359744, 0.03847797050613348, 0.4765258348465663, 0.1366779526304105, 0.022163992318444944, 0.28443790142004344, 0.0775739731145573, 0.9652472140719991, 0.7112206298390165, 0.28575828877460485, 0.9800950161118136, 0.9757430811634015, 0.025391083896445392, 0.9612377184809852, 0.9395503741210119, 0.06445865239692773, 0.9346504597554522, 0.9673878458057457, 0.9449252077832394, 0.006341779918008318, 0.044392459426058226, 0.968396126121418, 0.19515308094921777, 0.6555141949832699, 0.15011775457632134, 0.7775974581373833, 0.20388226036528953, 0.014224343746415548, 0.9604481773758575, 0.03519967142215185, 0.005028524488878835, 0.005028524488878835, 0.2126898736598805, 0.784926914697178, 0.991411981441881, 0.961521122682821, 0.99502818794415, 0.9768214314137394, 0.052283743712120107, 0.9367504081754852, 0.010892446606691688, 0.055775277832983534, 0.10039550009937037, 0.055775277832983534, 0.7920089452283662, 0.9747847110007626, 0.0027518079993276573, 0.996154495756612, 0.0013759039996638286, 0.9643644396841735, 0.015592490061741607, 0.9667343838279796, 0.17371446484644892, 0.015792224076949902, 0.805403427924445, 0.04774383571063235, 0.1241339728476441, 0.31510931569017353, 0.11140228332480881, 0.4010482199693117, 0.9660288583241764, 0.9959339793316465, 0.01181820234556932, 0.9809107946822536, 0.11949290170174202, 0.8563657955291513, 0.9601183303893672, 0.017725261484111396, 0.020679471731463294, 0.9684150632854831, 0.32900508805212103, 0.1203843981230214, 0.5499378186983478, 0.9786751382189862, 0.01529179903467166, 0.009182194411431345, 0.9350534642307586, 0.010712560146669901, 0.04438060632191817, 0.9654463206649478, 0.06622245339660479, 0.927114347552467, 0.9854515603664877, 0.0171976175112493, 0.9630665806299609, 0.20229945456603052, 0.7853978824328244, 0.988003689999098, 0.9916041155083541, 0.9894734607094074, 0.9560305353826966, 0.9860768476003626, 0.9612681744501137, 0.1268596821549366, 0.8626458386535687, 0.8626987369093989, 0.1339349637210939, 0.9971993628730483, 0.30778993861348214, 0.3918953288160034, 0.02147371664745224, 0.27915831641687916, 0.9596932438684601, 0.6827160647459487, 0.014149555746030025, 0.30421544853964555, 0.8380140276988663, 0.147884828417447, 0.02641691334380836, 0.035222551125077814, 0.22014094453173633, 0.7132566602828256, 0.09683179083783157, 0.2541834509493079, 0.6415106143006342, 0.9754873087988202, 0.24772502265429344, 0.07222303867472112, 0.680341024315873, 0.6193996610529141, 0.3732280008908585, 0.0039705106477750905, 0.0039705106477750905, 0.31557478894381785, 0.6753300483397703, 0.0031557478894381785, 0.006311495778876357, 0.1589243376198164, 0.7902071231651983, 0.048560214272721676, 0.9814187148344107, 0.037078567333344095, 0.9455034670002743, 0.39346016472444645, 0.4390439642961811, 0.053980815282317345, 0.043184652225853874, 0.07077484670348275, 0.9748466458948383, 0.3454842910771851, 0.3083576209912786, 0.12581815973557187, 0.15778834786510243, 0.06187778347651076, 0.14490139386394468, 0.8164444054265021, 0.03797415839193033, 0.06192760261503711, 0.8581396362369428, 0.04423400186788365, 0.03538720149430692, 0.9598913172812201, 0.9906199172303849, 0.46750584312757504, 0.14304283259873565, 0.0767546906627362, 0.05931044278484161, 0.254686019017261, 0.16259197149419286, 0.06362294536729285, 0.26156099762109286, 0.08483059382305715, 0.4241529691152857, 0.029261022263329974, 0.712018208407696, 0.06502449391851105, 0.19507348175553316, 0.9608329461544421, 0.18868849773034096, 0.2501219621076613, 0.4300342506412422, 0.004388104598380022, 0.12725503335302066, 0.02414431515243563, 0.9657726060974251, 0.0193070606055094, 0.1834170757523393, 0.7915894848258853, 0.11135855517500788, 0.890868441400063, 0.9409350617657206, 0.039918457165818454, 0.017107910213922193, 0.9744346904807378, 0.09392579528597293, 0.011740724410746617, 0.8101099843415165, 0.08218507087522631, 0.9595839088007335, 0.9947301719815826, 0.0035781660862646857, 0.019357535599637068, 0.871089101983668, 0.07958097968739683, 0.02150837288848563, 0.008603349155394251, 0.9725966643250883, 0.2591627086356645, 0.28116708955756053, 0.24204819014085646, 0.09290738611467217, 0.12469149189074423, 0.1368591173034531, 0.21150954492351845, 0.44292587054572097, 0.05723199450871675, 0.14930085524013068, 0.9721950270329266, 0.9527843194729833, 0.9870409919269311, 0.9923211083556007, 0.10434353114586507, 0.20254920751844396, 0.3191684482108814, 0.37440914117045704, 0.9913288665213393, 0.9924932407728543, 0.9787889456271353, 0.0651600442501723, 0.40026884325105844, 0.5398975095014277, 0.9829693657654714, 0.1450457245801128, 0.22125619003746022, 0.14012892035705815, 0.49413882441699447, 0.5251313472415782, 0.12781789390337533, 0.1663172595369221, 0.18017703116499897, 0.09432155388204946, 0.7734367418328055, 0.13205017543486924, 0.9446300278397942, 0.979759537810713, 0.3207823000042557, 0.673642830008937, 0.22873512443447427, 0.7172203054301312, 0.003876866515838547, 0.05039926470590111, 0.24970049690372714, 0.326988745945357, 0.15853999803411248, 0.11494149857473154, 0.14863124815698045, 0.9069668798860254, 0.07686159999034115, 0.03667866806249384, 0.9536453696248399, 0.9893104371918301, 0.21565935705023434, 0.018752987569585593, 0.36255775967865483, 0.40318923274609025, 0.9701909533722054, 0.9841194489704327, 0.9942835174453288, 0.004826619016724897, 0.16856279359429607, 0.03371255871885921, 0.7585325711743323, 0.03371255871885921, 0.4109933314831061, 0.33162910195533385, 0.12613243621378084, 0.09637085014086626, 0.03543045961061259, 0.21370789941582707, 0.6301643187902592, 0.08219534592916425, 0.05205705242180403, 0.021918758914443802, 0.1988442098347165, 0.6701472944216829, 0.07319159213065098, 0.055845607868473576, 0.002115363934411878, 0.9421606982399963, 0.03555323389584891, 0.017776616947924456, 0.9752286977134594, 0.9958968734025195, 0.9570035069680398, 0.9821620104334937, 0.8761258392494339, 0.11125407482532494, 0.9857244841107652, 0.9919707241758603, 0.02616738719742921, 0.8111890031203055, 0.02355064847768629, 0.05233477439485842, 0.0863523777515164, 0.9921642559524556, 0.9687684723596577, 0.2921995749589607, 0.3822610877887774, 0.08906082935392981, 0.07304989373974018, 0.16311140656955683, 0.984110516637483, 0.9944063160226392, 0.719871222761674, 0.18241968315214083, 0.097094347484204, 0.9331214886170865, 0.05712988705818897, 0.3238744509676456, 0.16015769553345113, 0.516063685607787, 0.48417045904531386, 0.27271642182960537, 0.09485788585377578, 0.015809647642295963, 0.1324057990042287, 0.022597153316143138, 0.9716775925941549, 0.9420684434587056, 0.8395261488482452, 0.1598478580624368, 0.07563886382389735, 0.7227713654283524, 0.16388420495177758, 0.03781943191194868, 0.004202159101327631, 0.9928749346995921, 0.9888569293661281, 0.9680392979741942, 0.16864948266290228, 0.34404494463232066, 0.48571051006915855, 0.992097006821049, 0.9587895515783402, 0.9730741089885913, 0.9877326697747568, 0.9862461509122038, 0.30586534592177317, 0.08092401528872026, 0.6131022853230161, 0.4797178299664265, 0.19321968151425511, 0.3264746342827069, 0.9785522597406163, 0.012261819069921173, 0.9809455255936939, 0.9676499581666529, 0.1848232615464096, 0.16536818138362963, 0.6420176453717386, 0.9767545920930051, 0.9650582241930693, 0.4583536368794011, 0.08443356468831073, 0.4583536368794011, 0.4119065239970392, 0.2304499054961409, 0.25222469971624867, 0.08891374306544018, 0.016331095665080852, 0.3516890270284984, 0.021255930205019136, 0.6260837624023818, 0.5972719332191163, 0.1397870482002187, 0.01411990385860795, 0.24851030791149992, 0.9785671179575318, 0.25442273874957616, 0.3198457287137529, 0.018173052767826867, 0.2798650126245338, 0.12357675882122271, 0.9899379271295985, 0.0053222469200516044, 0.9837066302366925, 0.3432258316083205, 0.08315264992572713, 0.3308413943853398, 0.1503824519933363, 0.0937678818311391, 0.03201067673208866, 0.9603203019626599, 0.9870262425588285, 0.2763839467209697, 0.04877363765664171, 0.682830927192984, 0.9587603056147366, 0.9869361590136211, 0.26884561372757493, 0.7283840464944762, 0.0031261117875299406, 0.9666675878661669, 0.9836088067856376, 0.9955844766701363, 0.9694972757543813, 0.21027079004645866, 0.011902120191308981, 0.5098074815277347, 0.06942903444930239, 0.1983686698551497, 0.9913454400993489, 0.9639388706339297, 0.06620408379652723, 0.9268571731513812, 0.9697929136113796, 0.015158555634820011, 0.5078116137664704, 0.4774945024968304, 0.02119974949025535, 0.4430747643463368, 0.05935929857271498, 0.4706344386836688, 0.006359924847076605, 0.30277164900640025, 0.2843099630913758, 0.18461685915024403, 0.10523160971563911, 0.12184712703916106, 0.9547697361564134, 0.9538363445365902, 0.009490098604711318, 0.9774801562852657, 0.023918488756733514, 0.9726852094404962, 0.9790660701244347, 0.9495162086467169, 0.8580585537945296, 0.12480851691556794, 0.005840488541594639, 0.005840488541594639, 0.9870425635294942, 0.1404253791439231, 0.5164533388515394, 0.13262396919148295, 0.059290715638545315, 0.15134735307733935, 0.4235260580606866, 0.33514562032488215, 0.10238129915929821, 0.056878499532943445, 0.0822550608630259, 0.44977345462439466, 0.009994965658319881, 0.0499748282915994, 0.4897533172576742, 0.9893819888066147, 0.9591479735481209, 0.036058194494290256, 0.140209975347213, 0.33473552672983287, 0.11999952845031744, 0.18063086914100415, 0.22357806879690723, 0.29142341311389036, 0.7068567892549682, 0.8197834505342407, 0.04098917252671204, 0.1366305750890401, 0.9752216459191817, 0.36287997758305146, 0.08965270034404801, 0.4098409158585052, 0.14088281482636114, 0.11525717363084846, 0.016465310518692638, 0.8561961469720172, 0.9816948733958882, 0.06518411598230373, 0.9343056624130202, 0.9634969881236494, 0.2712102987761514, 0.37291416081720813, 0.06958685297545988, 0.2141133937706458, 0.07315540953830399, 0.8469990908210482, 0.11251648438951194, 0.01875274739825199, 0.003125457899708665, 0.015627289498543324, 0.17294527750679617, 0.5015413047697089, 0.23347612463417483, 0.09079627069106799, 0.9993165940736406, 0.97432085304124, 0.9713466512467083, 0.6839229108846444, 0.2378862298729198, 0.001858486170882186, 0.07433944683528744, 0.5662354039960512, 0.2679118919162902, 0.10716475676651609, 0.011585379109893632, 0.04778968882831123, 0.3120704930345954, 0.3744845916415145, 0.08254767880269942, 0.11073469107679192, 0.11878812315510405, 0.7963283031990427, 0.06527281173762645, 0.1305456234752529, 0.883276821412103, 0.012801113353798594, 0.10240890683038875, 0.09938334354138062, 0.11594723413161073, 0.6791195141994343, 0.10766528883649568, 0.9445013207538158, 0.05175349702760634, 0.023572217642947757, 0.4821589972421132, 0.09214594169515941, 0.2978671138517944, 0.1050035149549491, 0.005586582094789212, 0.17877062703325478, 0.10614505980099503, 0.7039093439434407, 0.011173164189578423, 0.9774124815868274, 0.9040147189540698, 0.09351876402973136, 0.9830142634675704, 0.9869213423681628, 0.945743048112468, 0.05226474739568902, 0.4301313498183753, 0.12314963957455559, 0.05711287632443158, 0.11779530741914013, 0.27128616254105, 0.16691184226682287, 0.5912639836231522, 0.021217607067816467, 0.12447662813118994, 0.09618648537410132, 0.30758667833013653, 0.17537836922332348, 0.05126444638835609, 0.36694551099033834, 0.10252889277671218, 0.14770249585672637, 0.7754381032478135, 0.07385124792836319], \"Term\": [\"0\", \"0\", \"0\", \"0\", \"10\", \"10\", \"10\", \"10\", \"10\", \"1070ti\", \"1440p\", \"15\", \"15\", \"15\", \"16gb\", \"2000\", \"2080_ti\", \"2080ti\", \"2k\", \"3070\", \"3080\", \"3080\", \"3080\", \"3080ti\", \"3090\", \"499\", \"4k\", \"4k\", \"50\", \"50\", \"50\", \"50\", \"500\", \"500\", \"5000_series\", \"5000_series\", \"579\", \"60\", \"600\", \"60fps\", \"649\", \"650\", \"6600\", \"6700\", \"6700xt\", \"6800\", \"6800\", \"6800\", \"6800xt\", \"6800xt\", \"6800xt\", \"6900\", \"6900xt\", \"6900xt\", \"70\", \"700\", \"700\", \"80\", \"80\", \"850\", \"8gb\", \"999\", \"aa\", \"aaa\", \"aaa_title\", \"abysmal\", \"actually\", \"actually\", \"actually\", \"actually\", \"actually\", \"ago\", \"ago\", \"ago\", \"ago\", \"aib\", \"aib\", \"aib\", \"aibs\", \"aibs\", \"alright\", \"amd\", \"amd\", \"amd\", \"amd\", \"amd\", \"api\", \"architecture\", \"architecture\", \"assumption\", \"assumption\", \"asus\", \"b550\", \"backorders\", \"bad\", \"bad\", \"bad\", \"bad\", \"bad\", \"bc\", \"benchmark\", \"benchmark\", \"benchmark\", \"better\", \"better\", \"better\", \"better\", \"binned\", \"bought\", \"bought\", \"bought\", \"bought\", \"bought\", \"boy\", \"bro\", \"buck\", \"buck\", \"building\", \"bus\", \"bus\", \"buy\", \"buy\", \"buy\", \"buy\", \"buy\", \"called\", \"called\", \"called\", \"cancel\", \"card\", \"card\", \"card\", \"card\", \"card\", \"care\", \"care\", \"care\", \"care\", \"care\", \"catch\", \"cc\", \"cc\", \"chat\", \"cheaper\", \"cheaper\", \"cheat\", \"cherry_picked\", \"child\", \"child\", \"china\", \"chip\", \"chip\", \"chip\", \"combo\", \"comment\", \"comment\", \"comment\", \"company\", \"company\", \"company\", \"compared\", \"compared\", \"compared\", \"compared\", \"competition\", \"competition\", \"compute_unit\", \"confirm\", \"confirmation\", \"confirmation_email\", \"console\", \"console\", \"console\", \"control\", \"control\", \"control\", \"control\", \"conversation\", \"cpu\", \"cpu\", \"cpu\", \"credit\", \"cyberpunk\", \"cyberpunk\", \"date\", \"date\", \"date\", \"day\", \"day\", \"day\", \"day\", \"day\", \"decompression\", \"dedicated\", \"demand\", \"demand\", \"demanding\", \"demanding\", \"difference\", \"difference\", \"difference\", \"directx\", \"dl\", \"dl\", \"dl\", \"double\", \"double\", \"driver\", \"driver\", \"driver\", \"driver\", \"dumbass\", \"dunno\", \"dunno\", \"dxr\", \"effect\", \"effect\", \"efficiency\", \"efficiency\", \"email\", \"encoder\", \"encoding\", \"enthusiast\", \"entry_level\", \"error\", \"evga\", \"evga\", \"extra\", \"extra\", \"faster\", \"feature\", \"feature\", \"feature\", \"feature\", \"fidelityfx\", \"fps\", \"fps\", \"fps\", \"freesync\", \"freesync\", \"fuck\", \"fuck\", \"fuck\", \"fuck\", \"fucking\", \"fucking\", \"fucking\", \"g_sync\", \"game\", \"game\", \"game\", \"gaming\", \"gaming\", \"gaming\", \"gaming\", \"gen\", \"gen\", \"gen\", \"gen\", \"generation\", \"generation\", \"generation\", \"gimmick\", \"glad\", \"glad\", \"going\", \"going\", \"going\", \"going\", \"going\", \"gold\", \"good\", \"good\", \"good\", \"good\", \"good\", \"gpu\", \"gpu\", \"gpu\", \"gpus\", \"gpus\", \"gpus\", \"gpus\", \"grand\", \"graph\", \"guess\", \"guess\", \"guess\", \"guess\", \"guess\", \"guy\", \"guy\", \"guy\", \"guy\", \"guy\", \"hardware\", \"hardware\", \"hardware\", \"hardware\", \"hdr\", \"hope\", \"hope\", \"hope\", \"hope\", \"hope\", \"implement\", \"implement\", \"implementation\", \"implementation\", \"implementation\", \"implemented\", \"implemented\", \"increase\", \"increase\", \"increase\", \"industry\", \"information\", \"information\", \"information\", \"information\", \"insult\", \"intel\", \"intel\", \"issue\", \"issue\", \"issue\", \"issue\", \"issue\", \"kid\", \"know\", \"know\", \"know\", \"know\", \"know\", \"launch\", \"launch\", \"launch\", \"launch\", \"launch\", \"lie\", \"light\", \"lighting\", \"limitation\", \"line\", \"line\", \"line\", \"line\", \"link\", \"linux\", \"listed\", \"lmao\", \"lmao\", \"lmao\", \"location\", \"lol\", \"lol\", \"lol\", \"lol\", \"look\", \"look\", \"look\", \"look\", \"luck\", \"luck\", \"luck\", \"mail\", \"managed\", \"manufacturer\", \"manufacturer\", \"market\", \"market\", \"market\", \"market\", \"mean\", \"mean\", \"mean\", \"mean\", \"mean\", \"mid\", \"mid\", \"middle\", \"middle\", \"mobo\", \"monitor\", \"monitor\", \"monitor\", \"monitor\", \"morning\", \"motherboard\", \"msrp\", \"msrp\", \"native\", \"native\", \"native\", \"native\", \"need\", \"need\", \"need\", \"need\", \"need\", \"new\", \"new\", \"new\", \"new\", \"new\", \"nvidia\", \"nvidia\", \"nvidia\", \"nvidia\", \"nvidia\", \"online\", \"online\", \"online\", \"opencl\", \"order\", \"outraged\", \"overkill\", \"page\", \"page\", \"partner\", \"paypal\", \"pc\", \"pc\", \"pc\", \"pc\", \"pc\", \"pcie\", \"pcie_4\", \"people\", \"people\", \"people\", \"people\", \"people\", \"percent\", \"perf\", \"performance\", \"performance\", \"performance\", \"platform\", \"platform\", \"play\", \"play\", \"play\", \"point\", \"point\", \"point\", \"point\", \"point\", \"pre_order\", \"pre_order\", \"premature\", \"price\", \"price\", \"problem\", \"problem\", \"problem\", \"problem\", \"problem\", \"processor\", \"professional\", \"province\", \"psu\", \"psu\", \"psu\", \"psus\", \"quadro\", \"rage\", \"ray\", \"ray_traced\", \"ray_tracing\", \"ray_tracing\", \"ray_tracing\", \"raytracing\", \"raytracing\", \"raytracing\", \"received\", \"reference\", \"reference\", \"reflection\", \"rendering\", \"rendering\", \"rendering\", \"reply\", \"research\", \"resolution\", \"resolution\", \"resolution\", \"right\", \"right\", \"right\", \"right\", \"right\", \"rt\", \"rt\", \"rt\", \"rtx\", \"rtx\", \"rtx\", \"rtx\", \"rtx_voice\", \"run\", \"run\", \"run\", \"run\", \"run\", \"ryzen\", \"ryzen\", \"ryzen_5000\", \"said\", \"said\", \"said\", \"said\", \"said\", \"samsung\", \"samsung\", \"sapphire\", \"scalper\", \"scalper\", \"scalper\", \"self\", \"separate\", \"series\", \"series\", \"series\", \"severe\", \"shadow\", \"shipping\", \"smooth\", \"stock\", \"stock\", \"stock\", \"stock\", \"stock\", \"store\", \"strategy\", \"super_resolution\", \"super_resolution\", \"supersampling\", \"supply\", \"supply\", \"supply\", \"support\", \"support\", \"support\", \"support\", \"support\", \"sure\", \"sure\", \"sure\", \"sure\", \"sure\", \"swap\", \"talked\", \"tax\", \"tax\", \"technology\", \"technology\", \"terrible_idea\", \"text\", \"thank\", \"thank\", \"thanks\", \"thanks\", \"thanks\", \"thing\", \"thing\", \"thing\", \"thing\", \"thing\", \"think\", \"think\", \"think\", \"think\", \"think\", \"tho\", \"tho\", \"tho\", \"tho\", \"thread\", \"ti\", \"ti\", \"time\", \"time\", \"time\", \"time\", \"time\", \"title\", \"title\", \"told\", \"told\", \"told\", \"tracking\", \"true\", \"true\", \"true\", \"true\", \"u\", \"u\", \"u\", \"undercut\", \"upscaling\", \"upscaling\", \"usb_c\", \"use\", \"use\", \"use\", \"use\", \"use\", \"v\", \"v\", \"v\", \"v\", \"v\", \"video\", \"video\", \"video\", \"video\", \"vram\", \"vrr\", \"vulkan\", \"wait\", \"wait\", \"wait\", \"wait\", \"want\", \"want\", \"want\", \"want\", \"want\", \"way\", \"way\", \"way\", \"way\", \"way\", \"website\", \"website\", \"website\", \"week\", \"week\", \"week\", \"went\", \"went\", \"went\", \"went\", \"window\", \"window\", \"work\", \"work\", \"work\", \"work\", \"work\", \"working\", \"working\", \"working\", \"working\", \"working\", \"workstation\", \"worth\", \"worth\", \"x570\", \"xd\", \"xt\", \"xt\", \"yeah\", \"yeah\", \"yeah\", \"yeah\", \"yeah\", \"year\", \"year\", \"year\", \"year\", \"year\", \"yes\", \"yes\", \"yes\", \"yes\", \"yes\", \"zen\", \"zen\", \"zen\"]}, \"R\": 30, \"lambda.step\": 0.01, \"plot.opts\": {\"xlab\": \"PC1\", \"ylab\": \"PC2\"}, \"topic.order\": [1, 3, 4, 2, 5]};\n",
       "\n",
       "function LDAvis_load_lib(url, callback){\n",
       "  var s = document.createElement('script');\n",
       "  s.src = url;\n",
       "  s.async = true;\n",
       "  s.onreadystatechange = s.onload = callback;\n",
       "  s.onerror = function(){console.warn(\"failed to load library \" + url);};\n",
       "  document.getElementsByTagName(\"head\")[0].appendChild(s);\n",
       "}\n",
       "\n",
       "if(typeof(LDAvis) !== \"undefined\"){\n",
       "   // already loaded: just create the visualization\n",
       "   !function(LDAvis){\n",
       "       new LDAvis(\"#\" + \"ldavis_el853226676654816169838762568\", ldavis_el853226676654816169838762568_data);\n",
       "   }(LDAvis);\n",
       "}else if(typeof define === \"function\" && define.amd){\n",
       "   // require.js is available: use it to load d3/LDAvis\n",
       "   require.config({paths: {d3: \"https://cdnjs.cloudflare.com/ajax/libs/d3/3.5.5/d3.min\"}});\n",
       "   require([\"d3\"], function(d3){\n",
       "      window.d3 = d3;\n",
       "      LDAvis_load_lib(\"https://cdn.rawgit.com/bmabey/pyLDAvis/files/ldavis.v1.0.0.js\", function(){\n",
       "        new LDAvis(\"#\" + \"ldavis_el853226676654816169838762568\", ldavis_el853226676654816169838762568_data);\n",
       "      });\n",
       "    });\n",
       "}else{\n",
       "    // require.js not available: dynamically load d3 & LDAvis\n",
       "    LDAvis_load_lib(\"https://cdnjs.cloudflare.com/ajax/libs/d3/3.5.5/d3.min.js\", function(){\n",
       "         LDAvis_load_lib(\"https://cdn.rawgit.com/bmabey/pyLDAvis/files/ldavis.v1.0.0.js\", function(){\n",
       "                 new LDAvis(\"#\" + \"ldavis_el853226676654816169838762568\", ldavis_el853226676654816169838762568_data);\n",
       "            })\n",
       "         });\n",
       "}\n",
       "</script>"
      ],
      "text/plain": [
       "PreparedData(topic_coordinates=              x         y  topics  cluster       Freq\n",
       "topic                                                \n",
       "0     -0.124855 -0.130834       1        1  36.061651\n",
       "2     -0.098554 -0.084626       2        1  27.159116\n",
       "3      0.126307 -0.027718       3        1  14.613372\n",
       "1     -0.110398  0.225336       4        1  12.052176\n",
       "4      0.207500  0.017842       5        1  10.113686, topic_info=       Term         Freq        Total Category  logprob  loglift\n",
       "316    game  1384.000000  1384.000000  Default  30.0000  30.0000\n",
       "390      dl  1461.000000  1461.000000  Default  29.0000  29.0000\n",
       "99     3070  1385.000000  1385.000000  Default  28.0000  28.0000\n",
       "14      amd  3278.000000  3278.000000  Default  27.0000  27.0000\n",
       "100    3080  1374.000000  1374.000000  Default  26.0000  26.0000\n",
       "..      ...          ...          ...      ...      ...      ...\n",
       "197    year    68.110044   706.960024   Topic5  -5.6718  -0.0486\n",
       "153  launch    60.435642   401.873117   Topic5  -5.7914   0.3967\n",
       "72     good    60.268565   969.653349   Topic5  -5.7941  -0.4868\n",
       "163     way    59.251427   496.682652   Topic5  -5.8111   0.1651\n",
       "18    going    59.402685   833.629499   Topic5  -5.8086  -0.3502\n",
       "\n",
       "[375 rows x 6 columns], token_table=      Topic      Freq Term\n",
       "term                      \n",
       "421       1  0.122785    0\n",
       "421       2  0.283939    0\n",
       "421       3  0.069066    0\n",
       "421       4  0.529509    0\n",
       "823       1  0.640759   10\n",
       "...     ...       ...  ...\n",
       "730       4  0.366946  yes\n",
       "730       5  0.102529  yes\n",
       "383       1  0.147702  zen\n",
       "383       2  0.775438  zen\n",
       "383       3  0.073851  zen\n",
       "\n",
       "[681 rows x 3 columns], R=30, lambda_step=0.01, plot_opts={'xlab': 'PC1', 'ylab': 'PC2'}, topic_order=[1, 3, 4, 2, 5])"
      ]
     },
     "execution_count": 126,
     "metadata": {},
     "output_type": "execute_result"
    }
   ],
   "source": [
    "# Visualize the topics for the bigram model\n",
    "pyLDAvis.enable_notebook()\n",
    "# Creates the filepath to save the html file\n",
    "LDAvis_data_filepath = os.path.join(os.getcwd()+'\\\\visualization\\\\'+ 'bigram_' +'ldavis_prepared_'+str(num_topics))\n",
    "bigram_vis = pyLDAvis.gensim.prepare(lda_bigram_model, bigram_corpus, bigram_id2word)\n",
    "# Saves the graph as a html file to the LDAvis_data_filepath\n",
    "pyLDAvis.save_html(bigram_vis, os.getcwd()+ '\\\\visualization\\\\' + 'bigram_' + 'ldavis_prepared_'+ str(num_topics) +'.html')\n",
    "bigram_vis"
   ]
  },
  {
   "cell_type": "markdown",
   "metadata": {
    "ExecuteTime": {
     "end_time": "2021-01-23T03:00:52.846161Z",
     "start_time": "2021-01-23T03:00:52.823140Z"
    }
   },
   "source": [
    "## Intrepeting the pyLDAvis graph\n",
    "\n",
    "Topics 1 and 2 have the largest bubble which shows the larger percentage of the documents belong to topic 1 and 2. They also overlap one another, which shows that they have close related to one another. Topic 4 is the furtherest apart from the other topics. The blue bars represent the overall term frequency of the corpus and the red bars represent the term frequency with regards to the topic.\n",
    "\n",
    "The GPU model terms tend to appear the most often in topic 1. Topic 2 discusses about the driver related issues with the AMD, Intel GPUs as well as the gaming consoles. Topic 3 discusses about the purchase of the GPUs and the stock availability of the GPUs during launch. Topic 4 mainly discusses about the features the GPUs provide such as ray tracing and super resolution. Topic 5 is quite similar to topic 3."
   ]
  },
  {
   "cell_type": "markdown",
   "metadata": {},
   "source": [
    "# LDA Mallet Model"
   ]
  },
  {
   "cell_type": "markdown",
   "metadata": {},
   "source": [
    "Notes:\n",
    "\n",
    "* Download [link](http://mallet.cs.umass.edu/download.php)\n",
    "* Need to install [JDK](https://www.oracle.com/java/technologies/javase-jdk15-downloads.html) (Java Development Kit) to make it work\n",
    "* Need to configure the [PATH file](https://docs.oracle.com/javase/10/install/installation-jdk-and-jre-microsoft-windows-platforms.htm#JSJIG-GUID-96EB3876-8C7A-4A25-9F3A-A2983FEC016A) after installing\n",
    "\n",
    "Go to *Importing the optimal mallet model pickle file* section if you've not installed the JDK"
   ]
  },
  {
   "cell_type": "markdown",
   "metadata": {},
   "source": [
    "LDA Mallet model often gives a better quality of topics compared to the LDA. I'll be creating to see if the coherence score is much greater than the LDA and if there's a greater intrepretability in the number of topics."
   ]
  },
  {
   "cell_type": "code",
   "execution_count": 133,
   "metadata": {
    "ExecuteTime": {
     "end_time": "2021-01-23T04:39:28.044640Z",
     "start_time": "2021-01-23T04:39:28.035633Z"
    }
   },
   "outputs": [
    {
     "data": {
      "text/plain": [
       "'C:/mallet/mallet-2.0.8/bin/mallet.bat'"
      ]
     },
     "execution_count": 133,
     "metadata": {},
     "output_type": "execute_result"
    }
   ],
   "source": [
    "# Update the environment path\n",
    "os.environ.update({'MALLET_HOME': r'C:\\mallet\\mallet-2.0.8'})\n",
    "mallet_path = r'C:/mallet/mallet-2.0.8/bin/mallet.bat'\n",
    "# prefix_path = r'C:/mallet/ga_capstone'\n",
    "mallet_path"
   ]
  },
  {
   "cell_type": "markdown",
   "metadata": {},
   "source": [
    "## Finding the best k topics for the mallet model"
   ]
  },
  {
   "cell_type": "code",
   "execution_count": 154,
   "metadata": {
    "ExecuteTime": {
     "end_time": "2021-01-23T04:58:02.833078Z",
     "start_time": "2021-01-23T04:58:02.819077Z"
    }
   },
   "outputs": [],
   "source": [
    "# Solution: Follow this\n",
    "def mallet_compute_coherence_values(dictionary, all_corpus, texts, limit, start=2, step=4):\n",
    "    \"\"\"\n",
    "    Compute c_v coherence for various number of topics\n",
    "\n",
    "    Parameters:\n",
    "    ----------\n",
    "    dictionary : Gensim dictionary\n",
    "    corpus : Gensim corpus\n",
    "    texts : List of input texts\n",
    "    num_topics_list: Number of topics\n",
    "    limit : Max num of topics\n",
    "\n",
    "    Returns:\n",
    "    -------\n",
    "    model_list : List of LDA topic models\n",
    "    coherence_values : Coherence values corresponding to the LDA model with respective number of topics\n",
    "    \"\"\"\n",
    "    \n",
    "    #For two lines below update with your path to new_mallet\n",
    "#     os.environ.update({'MALLET_HOME':r'C:\\Users\\Trogg\\Documents\\General Assembly DS 18\\dsi18-projects\\capstone\\mallet\\mallet-2.0.8'})\n",
    "#     mallet_path = r'C:\\Users\\Trogg\\Documents\\General Assembly DS 18\\dsi18-projects\\capstone\\mallet\\mallet-2.0.8\\bin\\mallet.bat'\n",
    "#     prefix_path = r'C:\\Users\\Trogg\\Documents\\General Assembly DS 18\\dsi18-projects\\capstone\\mallet files'\n",
    "    \n",
    "    coherence_values = []\n",
    "    model_list = []\n",
    "    num_topics_list = []\n",
    "\n",
    "\n",
    "    for num_topics in range(start, limit, step):\n",
    "        model = LdaMallet(mallet_path, corpus=all_corpus, num_topics=num_topics, id2word=dictionary, random_seed=42)\n",
    "        #model = gensim.models.ldamodel.LdaModel(corpus=all_corpus,num_topics=num_topics,id2word=dictionary,eval_every=1,\n",
    "        #                                        alpha='auto',random_state=42)\n",
    "        model_list.append(model)\n",
    "        coherencemodel = CoherenceModel(model=model, texts=texts, dictionary=dictionary, coherence='c_v')\n",
    "        coherence_values.append(coherencemodel.get_coherence())\n",
    "        num_topics_list.append(num_topics)\n",
    "\n",
    "    return model_list, coherence_values, num_topics_list"
   ]
  },
  {
   "cell_type": "code",
   "execution_count": 179,
   "metadata": {
    "ExecuteTime": {
     "end_time": "2021-01-23T07:14:28.713580Z",
     "start_time": "2021-01-23T07:02:15.550763Z"
    }
   },
   "outputs": [],
   "source": [
    "# Using Bigram as it has the highest coherence value\n",
    "model_list, coherence_values, num_topics_list = mallet_compute_coherence_values(dictionary=bigram_id2word, all_corpus=bigram_corpus,\n",
    "                                                                         texts=data_bigrams, start=1, limit=11, step=1)\n",
    "\n",
    "# Creating the dataframe to hold the model list, coherence values and the number of topics list\n",
    "model_values_df = pd.DataFrame({'model_list':model_list,'coherence_values':coherence_values,'num_topics':num_topics_list})\n",
    "\n",
    "# Finds the optimal number of topics based on the highest coherence score\n",
    "optimal_num_topics = model_values_df.loc[model_values_df['coherence_values'].idxmax()]['num_topics']\n",
    "\n",
    "# Train the model based on the optimal number of topics\n",
    "optimal_model = LdaMallet(mallet_path, corpus=bigram_corpus, num_topics=optimal_num_topics, id2word=bigram_id2word,\n",
    "                                                 prefix='optimal_', random_seed=42)"
   ]
  },
  {
   "cell_type": "code",
   "execution_count": 180,
   "metadata": {
    "ExecuteTime": {
     "end_time": "2021-01-23T07:14:29.226052Z",
     "start_time": "2021-01-23T07:14:29.211038Z"
    }
   },
   "outputs": [
    {
     "data": {
      "text/html": [
       "<div>\n",
       "<style scoped>\n",
       "    .dataframe tbody tr th:only-of-type {\n",
       "        vertical-align: middle;\n",
       "    }\n",
       "\n",
       "    .dataframe tbody tr th {\n",
       "        vertical-align: top;\n",
       "    }\n",
       "\n",
       "    .dataframe thead th {\n",
       "        text-align: right;\n",
       "    }\n",
       "</style>\n",
       "<table border=\"1\" class=\"dataframe\">\n",
       "  <thead>\n",
       "    <tr style=\"text-align: right;\">\n",
       "      <th></th>\n",
       "      <th>model_list</th>\n",
       "      <th>coherence_values</th>\n",
       "      <th>num_topics</th>\n",
       "    </tr>\n",
       "  </thead>\n",
       "  <tbody>\n",
       "    <tr>\n",
       "      <th>0</th>\n",
       "      <td>&lt;gensim.models.wrappers.ldamallet.LdaMallet ob...</td>\n",
       "      <td>0.484625</td>\n",
       "      <td>1</td>\n",
       "    </tr>\n",
       "    <tr>\n",
       "      <th>1</th>\n",
       "      <td>&lt;gensim.models.wrappers.ldamallet.LdaMallet ob...</td>\n",
       "      <td>0.530476</td>\n",
       "      <td>2</td>\n",
       "    </tr>\n",
       "    <tr>\n",
       "      <th>2</th>\n",
       "      <td>&lt;gensim.models.wrappers.ldamallet.LdaMallet ob...</td>\n",
       "      <td>0.580871</td>\n",
       "      <td>3</td>\n",
       "    </tr>\n",
       "    <tr>\n",
       "      <th>3</th>\n",
       "      <td>&lt;gensim.models.wrappers.ldamallet.LdaMallet ob...</td>\n",
       "      <td>0.571967</td>\n",
       "      <td>4</td>\n",
       "    </tr>\n",
       "    <tr>\n",
       "      <th>4</th>\n",
       "      <td>&lt;gensim.models.wrappers.ldamallet.LdaMallet ob...</td>\n",
       "      <td>0.577880</td>\n",
       "      <td>5</td>\n",
       "    </tr>\n",
       "    <tr>\n",
       "      <th>5</th>\n",
       "      <td>&lt;gensim.models.wrappers.ldamallet.LdaMallet ob...</td>\n",
       "      <td>0.601955</td>\n",
       "      <td>6</td>\n",
       "    </tr>\n",
       "    <tr>\n",
       "      <th>6</th>\n",
       "      <td>&lt;gensim.models.wrappers.ldamallet.LdaMallet ob...</td>\n",
       "      <td>0.578097</td>\n",
       "      <td>7</td>\n",
       "    </tr>\n",
       "    <tr>\n",
       "      <th>7</th>\n",
       "      <td>&lt;gensim.models.wrappers.ldamallet.LdaMallet ob...</td>\n",
       "      <td>0.536723</td>\n",
       "      <td>8</td>\n",
       "    </tr>\n",
       "    <tr>\n",
       "      <th>8</th>\n",
       "      <td>&lt;gensim.models.wrappers.ldamallet.LdaMallet ob...</td>\n",
       "      <td>0.579866</td>\n",
       "      <td>9</td>\n",
       "    </tr>\n",
       "    <tr>\n",
       "      <th>9</th>\n",
       "      <td>&lt;gensim.models.wrappers.ldamallet.LdaMallet ob...</td>\n",
       "      <td>0.565798</td>\n",
       "      <td>10</td>\n",
       "    </tr>\n",
       "  </tbody>\n",
       "</table>\n",
       "</div>"
      ],
      "text/plain": [
       "                                          model_list  coherence_values  \\\n",
       "0  <gensim.models.wrappers.ldamallet.LdaMallet ob...          0.484625   \n",
       "1  <gensim.models.wrappers.ldamallet.LdaMallet ob...          0.530476   \n",
       "2  <gensim.models.wrappers.ldamallet.LdaMallet ob...          0.580871   \n",
       "3  <gensim.models.wrappers.ldamallet.LdaMallet ob...          0.571967   \n",
       "4  <gensim.models.wrappers.ldamallet.LdaMallet ob...          0.577880   \n",
       "5  <gensim.models.wrappers.ldamallet.LdaMallet ob...          0.601955   \n",
       "6  <gensim.models.wrappers.ldamallet.LdaMallet ob...          0.578097   \n",
       "7  <gensim.models.wrappers.ldamallet.LdaMallet ob...          0.536723   \n",
       "8  <gensim.models.wrappers.ldamallet.LdaMallet ob...          0.579866   \n",
       "9  <gensim.models.wrappers.ldamallet.LdaMallet ob...          0.565798   \n",
       "\n",
       "   num_topics  \n",
       "0           1  \n",
       "1           2  \n",
       "2           3  \n",
       "3           4  \n",
       "4           5  \n",
       "5           6  \n",
       "6           7  \n",
       "7           8  \n",
       "8           9  \n",
       "9          10  "
      ]
     },
     "execution_count": 180,
     "metadata": {},
     "output_type": "execute_result"
    }
   ],
   "source": [
    "model_values_df"
   ]
  },
  {
   "cell_type": "code",
   "execution_count": 181,
   "metadata": {
    "ExecuteTime": {
     "end_time": "2021-01-23T07:14:29.866589Z",
     "start_time": "2021-01-23T07:14:29.739513Z"
    },
    "scrolled": false
   },
   "outputs": [
    {
     "data": {
      "image/png": "[encoded data removed]",
      "text/plain": [
       "<Figure size 792x504 with 1 Axes>"
      ]
     },
     "metadata": {},
     "output_type": "display_data"
    }
   ],
   "source": [
    "# model_list, coherence_values = compute_coherence_values(dictionary=bigram_id2word, corpus=bigram_corpus, texts=data_bigrams, start=start, limit=limit, step=step)\n",
    "\n",
    "# Show graph\n",
    "\n",
    "x = model_values_df['num_topics'].values.tolist()\n",
    "\n",
    "plt.figure(figsize=(11,7))\n",
    "\n",
    "plt.plot(x, coherence_values)\n",
    "plt.xlabel(\"Num Topics\")\n",
    "plt.ylabel(\"Coherence score\")\n",
    "plt.legend([\"Coherence_values\"], loc='best')\n",
    "plt.show()"
   ]
  },
  {
   "cell_type": "markdown",
   "metadata": {},
   "source": [
    "The coherence score peaks at creating 6 topics before it plummets. "
   ]
  },
  {
   "cell_type": "code",
   "execution_count": 182,
   "metadata": {
    "ExecuteTime": {
     "end_time": "2021-01-23T07:14:30.393923Z",
     "start_time": "2021-01-23T07:14:30.378922Z"
    }
   },
   "outputs": [
    {
     "name": "stdout",
     "output_type": "stream",
     "text": [
      "Num Topics = 1  has Coherence Value of 0.4846\n",
      "Num Topics = 2  has Coherence Value of 0.5305\n",
      "Num Topics = 3  has Coherence Value of 0.5809\n",
      "Num Topics = 4  has Coherence Value of 0.572\n",
      "Num Topics = 5  has Coherence Value of 0.5779\n",
      "Num Topics = 6  has Coherence Value of 0.602\n",
      "Num Topics = 7  has Coherence Value of 0.5781\n",
      "Num Topics = 8  has Coherence Value of 0.5367\n",
      "Num Topics = 9  has Coherence Value of 0.5799\n",
      "Num Topics = 10  has Coherence Value of 0.5658\n"
     ]
    }
   ],
   "source": [
    "# Print the coherence scores\n",
    "for m, cv in zip(x, coherence_values):\n",
    "    print(\"Num Topics =\", m, \" has Coherence Value of\", round(cv, 4))"
   ]
  },
  {
   "cell_type": "markdown",
   "metadata": {},
   "source": [
    "Viewing the topics and checking if they make sense helps to decide how many topics is the optimal value. I'll be intrepreting the 5 and 6 topics."
   ]
  },
  {
   "cell_type": "markdown",
   "metadata": {},
   "source": [
    "## Importing the optimal mallet model pickle file"
   ]
  },
  {
   "cell_type": "code",
   "execution_count": 240,
   "metadata": {
    "ExecuteTime": {
     "end_time": "2021-01-23T08:44:52.869667Z",
     "start_time": "2021-01-23T08:44:52.846655Z"
    }
   },
   "outputs": [],
   "source": [
    "pkl_filename = \"./models/optimal_ldamallet_model.pkl\"\n",
    "infile = open(pkl_filename,'rb')\n",
    "optimal_model = pickle.load(infile)\n",
    "infile.close()"
   ]
  },
  {
   "cell_type": "code",
   "execution_count": 241,
   "metadata": {
    "ExecuteTime": {
     "end_time": "2021-01-23T08:44:53.508436Z",
     "start_time": "2021-01-23T08:44:53.493423Z"
    }
   },
   "outputs": [
    {
     "data": {
      "text/plain": [
       "<gensim.models.wrappers.ldamallet.LdaMallet at 0x26d132f0550>"
      ]
     },
     "execution_count": 241,
     "metadata": {},
     "output_type": "execute_result"
    }
   ],
   "source": [
    "optimal_model"
   ]
  },
  {
   "cell_type": "markdown",
   "metadata": {},
   "source": [
    "## Importing the 5 topics mallet model pickle file"
   ]
  },
  {
   "cell_type": "code",
   "execution_count": 203,
   "metadata": {
    "ExecuteTime": {
     "end_time": "2021-01-23T07:37:36.453083Z",
     "start_time": "2021-01-23T07:37:36.436068Z"
    }
   },
   "outputs": [],
   "source": [
    "pkl_filename = \"./models/5_topics_ldamallet_model.pkl\"\n",
    "infile = open(pkl_filename,'rb')\n",
    "topic_5_ldamallet = pickle.load(infile)\n",
    "infile.close()"
   ]
  },
  {
   "cell_type": "code",
   "execution_count": 204,
   "metadata": {
    "ExecuteTime": {
     "end_time": "2021-01-23T07:37:49.374785Z",
     "start_time": "2021-01-23T07:37:49.364776Z"
    }
   },
   "outputs": [
    {
     "data": {
      "text/plain": [
       "<gensim.models.wrappers.ldamallet.LdaMallet at 0x26d144dbf70>"
      ]
     },
     "execution_count": 204,
     "metadata": {},
     "output_type": "execute_result"
    }
   ],
   "source": [
    "topic_5_ldamallet "
   ]
  },
  {
   "cell_type": "markdown",
   "metadata": {},
   "source": [
    "## Displaying topics for the optimal model (6 topics)"
   ]
  },
  {
   "cell_type": "code",
   "execution_count": 187,
   "metadata": {
    "ExecuteTime": {
     "end_time": "2021-01-23T07:16:12.770261Z",
     "start_time": "2021-01-23T07:16:12.756248Z"
    },
    "scrolled": true
   },
   "outputs": [
    {
     "name": "stdout",
     "output_type": "stream",
     "text": [
      "[(0,\n",
      "  [('price', 0.032120958751393536),\n",
      "   ('card', 0.024979096989966556),\n",
      "   ('point', 0.017628205128205128),\n",
      "   ('performance', 0.017244983277591972),\n",
      "   ('good', 0.015189520624303232),\n",
      "   ('memory', 0.014980490523968784),\n",
      "   ('lower', 0.012367614269788182),\n",
      "   ('bit', 0.012332775919732442),\n",
      "   ('power', 0.011845039018952062),\n",
      "   ('higher', 0.010869565217391304)]),\n",
      " (1,\n",
      "  [('gpu', 0.03760406377874982),\n",
      "   ('year', 0.026880203188937492),\n",
      "   ('amd', 0.0260688584732609),\n",
      "   ('cpu', 0.02575137575843093),\n",
      "   ('driver', 0.023599548469027797),\n",
      "   ('time', 0.019613376605051504),\n",
      "   ('issue', 0.015556653026668548),\n",
      "   ('work', 0.015344997883448569),\n",
      "   ('gpus', 0.012875687879215465),\n",
      "   ('intel', 0.012134894877945534)]),\n",
      " (2,\n",
      "  [('dl', 0.050555706153429116),\n",
      "   ('game', 0.048827595554350775),\n",
      "   ('rtx', 0.02809026836541068),\n",
      "   ('ray_tracing', 0.024939007861209),\n",
      "   ('performance', 0.024566278124152886),\n",
      "   ('rt', 0.019924098671726755),\n",
      "   ('feature', 0.019619137977771754),\n",
      "   ('4k', 0.01863648685280564),\n",
      "   ('support', 0.012571157495256167),\n",
      "   ('1440p', 0.01192735158579561)]),\n",
      " (3,\n",
      "  [('card', 0.07532599985430175),\n",
      "   ('wait', 0.022510381000947037),\n",
      "   ('stock', 0.0215633423180593),\n",
      "   ('buy', 0.01912289648138705),\n",
      "   ('launch', 0.01697384716252641),\n",
      "   ('lol', 0.015735411961827057),\n",
      "   ('release', 0.013331390689881257),\n",
      "   ('order', 0.01293072047789029),\n",
      "   ('day', 0.012639323960078677),\n",
      "   ('yeah', 0.01129161506519997)]),\n",
      " (4,\n",
      "  [('3080', 0.05595699375152721),\n",
      "   ('3070', 0.05162844276887632),\n",
      "   ('6800', 0.04880092156246727),\n",
      "   ('6800xt', 0.03326700876182497),\n",
      "   ('3090', 0.03326700876182497),\n",
      "   ('performance', 0.03089328725520997),\n",
      "   ('price', 0.026494920934129227),\n",
      "   ('vram', 0.022515446643627604),\n",
      "   ('6900xt', 0.019792648444863337),\n",
      "   ('benchmark', 0.018989772052920028)]),\n",
      " (5,\n",
      "  [('amd', 0.10322170411191182),\n",
      "   ('nvidia', 0.0903984739296312),\n",
      "   ('people', 0.038646319061749326),\n",
      "   ('good', 0.01798078281757807),\n",
      "   ('console', 0.017839480005652112),\n",
      "   ('thing', 0.01275257877631765),\n",
      "   ('series', 0.012611275964391691),\n",
      "   ('pc', 0.012540624558428713),\n",
      "   ('gen', 0.011339550657058075),\n",
      "   ('great', 0.011162922142150629)])]\n"
     ]
    }
   ],
   "source": [
    "pprint(optimal_model.show_topics(formatted=False))"
   ]
  },
  {
   "cell_type": "markdown",
   "metadata": {},
   "source": [
    "## Interpreting the 6 topics \n",
    "\n",
    "Topic 0\n",
    "* Comparing against the price and the performance\n",
    "\n",
    "Topic 1\n",
    "* Driver related issue\n",
    "\n",
    "Topic 2\n",
    "* GPU features: ray_tracing, dlss and resolutions: 1440p, 4K\n",
    "\n",
    "Topic 3\n",
    "* Stock availability during launch of GPUs\n",
    "\n",
    "Topic 4\n",
    "* Price and performance for GPU models\n",
    "\n",
    "Topic 5\n",
    "* Comparison against the gaming consoles and the pc"
   ]
  },
  {
   "cell_type": "markdown",
   "metadata": {},
   "source": [
    "## Displaying 5 topics"
   ]
  },
  {
   "cell_type": "code",
   "execution_count": 206,
   "metadata": {
    "ExecuteTime": {
     "end_time": "2021-01-23T07:38:04.243093Z",
     "start_time": "2021-01-23T07:38:04.236087Z"
    },
    "scrolled": true
   },
   "outputs": [
    {
     "name": "stdout",
     "output_type": "stream",
     "text": [
      "[(0,\n",
      "  [('people', 0.03236016209660721),\n",
      "   ('time', 0.024551128464519182),\n",
      "   ('year', 0.021770639216730264),\n",
      "   ('driver', 0.019788801135859437),\n",
      "   ('card', 0.017718224036442156),\n",
      "   ('buy', 0.01629839973969888),\n",
      "   ('gaming', 0.01576596562842015),\n",
      "   ('good', 0.01316295441772414),\n",
      "   ('work', 0.013074215399177686),\n",
      "   ('issue', 0.013044635726328867)]),\n",
      " (1,\n",
      "  [('card', 0.0672098385857033),\n",
      "   ('wait', 0.01900076863950807),\n",
      "   ('stock', 0.018201383551114527),\n",
      "   ('yeah', 0.01770945426594927),\n",
      "   ('launch', 0.014327440430438125),\n",
      "   ('lol', 0.013282090699461952),\n",
      "   ('release', 0.011252882398155264),\n",
      "   ('order', 0.01091468101460415),\n",
      "   ('day', 0.010668716372021521),\n",
      "   ('month', 0.009315910837817064)]),\n",
      " (2,\n",
      "  [('dl', 0.04290315159880377),\n",
      "   ('game', 0.04143662295836209),\n",
      "   ('performance', 0.036346905912123306),\n",
      "   ('rtx', 0.023838279273061883),\n",
      "   ('ray_tracing', 0.021164021164021163),\n",
      "   ('rt', 0.016908212560386472),\n",
      "   ('feature', 0.016649413388543824),\n",
      "   ('4k', 0.016390614216701172),\n",
      "   ('benchmark', 0.01572923855532551),\n",
      "   ('console', 0.01455026455026455)]),\n",
      " (3,\n",
      "  [('price', 0.04713965227145261),\n",
      "   ('3080', 0.044952327537857543),\n",
      "   ('3070', 0.041475042063937186),\n",
      "   ('6800', 0.039203589455973076),\n",
      "   ('6800xt', 0.026724621424565338),\n",
      "   ('3090', 0.026696578799775657),\n",
      "   ('performance', 0.023583847448121142),\n",
      "   ('vram', 0.0180874929893438),\n",
      "   ('6900xt', 0.015900168255748737),\n",
      "   ('xt', 0.013180033651149748)]),\n",
      " (4,\n",
      "  [('amd', 0.10703113579885981),\n",
      "   ('nvidia', 0.0757783949714954),\n",
      "   ('gpu', 0.031165034351702967),\n",
      "   ('cpu', 0.021400380061394532),\n",
      "   ('memory', 0.01257126151147493),\n",
      "   ('gpus', 0.010670954538810116),\n",
      "   ('series', 0.010437070603712907),\n",
      "   ('end', 0.010086244701067096),\n",
      "   ('intel', 0.010057009209179945),\n",
      "   ('market', 0.008098231252740827)])]\n"
     ]
    }
   ],
   "source": [
    "pprint(topic_5_ldamallet.show_topics(formatted=False))"
   ]
  },
  {
   "cell_type": "markdown",
   "metadata": {},
   "source": [
    "## Interpreting the 5 topics \n",
    "\n",
    "Topic 0\n",
    "* Driver related issue\n",
    "\n",
    "Topic 1\n",
    "* Stock availability\n",
    "\n",
    "Topic 2\n",
    "* GPU features: ray_tracing, dlss and resolutions: 1440p, 4K\n",
    "\n",
    "Topic 3\n",
    "* Price and performance for GPU models\n",
    "\n",
    "Topic 4\n",
    "* Have to do with intel, amd and Nvidia cpu and gpus. Unable to intrepret well. "
   ]
  },
  {
   "cell_type": "markdown",
   "metadata": {},
   "source": [
    "As I find the 6 topics to be the most intrepretable as well as it's one of the highest coherence score among the other models, I'll be selecting to it to move forward with the project."
   ]
  },
  {
   "cell_type": "markdown",
   "metadata": {},
   "source": [
    "## Exporting the optimal model to pickle file"
   ]
  },
  {
   "cell_type": "code",
   "execution_count": 196,
   "metadata": {
    "ExecuteTime": {
     "end_time": "2021-01-23T07:31:08.278962Z",
     "start_time": "2021-01-23T07:31:08.267952Z"
    }
   },
   "outputs": [],
   "source": [
    "# Save to file in the current working directory\n",
    "# Exporting the optimal model\n",
    "pkl_filename = \"./models/optimal_ldamallet_model.pkl\"\n",
    "out_file = open(pkl_filename, 'wb')\n",
    "pickle.dump(optimal_model, out_file)\n",
    "out_file.close()"
   ]
  },
  {
   "cell_type": "markdown",
   "metadata": {},
   "source": [
    "## Exporting the 5 topics trained model to pickle file"
   ]
  },
  {
   "cell_type": "code",
   "execution_count": 202,
   "metadata": {
    "ExecuteTime": {
     "end_time": "2021-01-23T07:37:10.553982Z",
     "start_time": "2021-01-23T07:37:10.537967Z"
    }
   },
   "outputs": [],
   "source": [
    "# Save to file in the current working directory\n",
    "# Exporting the optimal model\n",
    "pkl_filename = \"./models/5_topics_ldamallet_model.pkl\"\n",
    "out_file = open(pkl_filename, 'wb')\n",
    "pickle.dump(model_values_df['model_list'][4], out_file)\n",
    "out_file.close()"
   ]
  },
  {
   "cell_type": "markdown",
   "metadata": {},
   "source": [
    "# Finding the dominant topic in each sentence"
   ]
  },
  {
   "cell_type": "markdown",
   "metadata": {},
   "source": [
    "I would like to investigate the dominant topics for the documents and see if it makes sense."
   ]
  },
  {
   "cell_type": "code",
   "execution_count": 233,
   "metadata": {
    "ExecuteTime": {
     "end_time": "2021-01-23T08:28:47.970563Z",
     "start_time": "2021-01-23T08:28:47.960564Z"
    }
   },
   "outputs": [],
   "source": [
    "def format_topics_sentences(ldamodel, corpus, texts):\n",
    "    # Init output\n",
    "    sent_topics_df = pd.DataFrame()\n",
    "\n",
    "    # Get main topic in each document\n",
    "    for _, row in enumerate(ldamodel[corpus]): # ldamodel[corpus] --> Provides a list of the probability of which topic a document belongs to\n",
    "        row = sorted(row, key=lambda x: (x[1]), reverse=True) # Sorts the probabilities of a document is descending order\n",
    "        # Get the Dominant topic, Perc Contribution and Keywords for each document\n",
    "        for j, (topic_num, prop_topic) in enumerate(row):\n",
    "            if j == 0:  # => dominant topic (As it's sorted in descending order, the highest probability is the first topic which is index 0)\n",
    "                wp = ldamodel.show_topic(topic_num) # Obtain the dominant topic for the document\n",
    "                topic_keywords = \", \".join([word for word, prop in wp]) # Gets the topic keys words for the topic\n",
    "                sent_topics_df = sent_topics_df.append(pd.Series([int(topic_num), round(prop_topic,4), topic_keywords]), ignore_index=True)\n",
    "            else:\n",
    "                break\n",
    "    sent_topics_df.columns = ['Dominant_Topic', 'Perc_Contribution', 'Topic_Keywords']\n",
    "\n",
    "    # Add original text to the end of the output\n",
    "    contents = pd.Series(texts)\n",
    "    sent_topics_df = pd.concat([sent_topics_df, contents], axis=1)\n",
    "    return sent_topics_df"
   ]
  },
  {
   "cell_type": "markdown",
   "metadata": {},
   "source": [
    "Notes: The last model trained **must match** with the last optimal_file_doctopics text file. If not, there will be an error message."
   ]
  },
  {
   "cell_type": "code",
   "execution_count": 243,
   "metadata": {
    "ExecuteTime": {
     "end_time": "2021-01-23T08:46:48.512118Z",
     "start_time": "2021-01-23T08:45:57.736528Z"
    }
   },
   "outputs": [],
   "source": [
    "# Retrain the model if you've have not done so\n",
    "# optimal_model = LdaMallet(mallet_path, corpus=bigram_corpus, num_topics=optimal_num_topics, id2word=bigram_id2word,\n",
    "#                                                  prefix='optimal_', random_seed=42)"
   ]
  },
  {
   "cell_type": "code",
   "execution_count": 291,
   "metadata": {
    "ExecuteTime": {
     "end_time": "2021-01-23T09:52:58.657278Z",
     "start_time": "2021-01-23T09:52:30.849660Z"
    }
   },
   "outputs": [
    {
     "data": {
      "text/html": [
       "<div>\n",
       "<style scoped>\n",
       "    .dataframe tbody tr th:only-of-type {\n",
       "        vertical-align: middle;\n",
       "    }\n",
       "\n",
       "    .dataframe tbody tr th {\n",
       "        vertical-align: top;\n",
       "    }\n",
       "\n",
       "    .dataframe thead th {\n",
       "        text-align: right;\n",
       "    }\n",
       "</style>\n",
       "<table border=\"1\" class=\"dataframe\">\n",
       "  <thead>\n",
       "    <tr style=\"text-align: right;\">\n",
       "      <th></th>\n",
       "      <th>Document_No</th>\n",
       "      <th>Dominant_Topic</th>\n",
       "      <th>Topic_Perc_Contrib</th>\n",
       "      <th>Keywords</th>\n",
       "      <th>Document</th>\n",
       "    </tr>\n",
       "  </thead>\n",
       "  <tbody>\n",
       "    <tr>\n",
       "      <th>0</th>\n",
       "      <td>0</td>\n",
       "      <td>0.0</td>\n",
       "      <td>0.2138</td>\n",
       "      <td>price, card, point, performance, good, memory,...</td>\n",
       "      <td>[sound, samsung_8nm, cheap]</td>\n",
       "    </tr>\n",
       "    <tr>\n",
       "      <th>1</th>\n",
       "      <td>1</td>\n",
       "      <td>5.0</td>\n",
       "      <td>0.2058</td>\n",
       "      <td>amd, nvidia, people, good, console, thing, ser...</td>\n",
       "      <td>[ethic, mongol, invasion, tech]</td>\n",
       "    </tr>\n",
       "    <tr>\n",
       "      <th>2</th>\n",
       "      <td>2</td>\n",
       "      <td>2.0</td>\n",
       "      <td>0.2086</td>\n",
       "      <td>dl, game, rtx, ray_tracing, performance, rt, f...</td>\n",
       "      <td>[nvidia, software, ai, learning, big, selling,...</td>\n",
       "    </tr>\n",
       "    <tr>\n",
       "      <th>3</th>\n",
       "      <td>3</td>\n",
       "      <td>5.0</td>\n",
       "      <td>0.2339</td>\n",
       "      <td>amd, nvidia, people, good, console, thing, ser...</td>\n",
       "      <td>[excited, amd, guy, compete, going, nvidia, br...</td>\n",
       "    </tr>\n",
       "    <tr>\n",
       "      <th>4</th>\n",
       "      <td>4</td>\n",
       "      <td>5.0</td>\n",
       "      <td>0.1907</td>\n",
       "      <td>amd, nvidia, people, good, console, thing, ser...</td>\n",
       "      <td>[think, nvidia, actualy, competing, new, conso...</td>\n",
       "    </tr>\n",
       "    <tr>\n",
       "      <th>5</th>\n",
       "      <td>5</td>\n",
       "      <td>0.0</td>\n",
       "      <td>0.2377</td>\n",
       "      <td>price, card, point, performance, good, memory,...</td>\n",
       "      <td>[reputable, leak, rdna2, say, 40, 50, faster, ...</td>\n",
       "    </tr>\n",
       "    <tr>\n",
       "      <th>6</th>\n",
       "      <td>6</td>\n",
       "      <td>5.0</td>\n",
       "      <td>0.3282</td>\n",
       "      <td>amd, nvidia, people, good, console, thing, ser...</td>\n",
       "      <td>[im, sure, amd, good, rdna, generation, rt, im...</td>\n",
       "    </tr>\n",
       "    <tr>\n",
       "      <th>7</th>\n",
       "      <td>7</td>\n",
       "      <td>0.0</td>\n",
       "      <td>0.1927</td>\n",
       "      <td>price, card, point, performance, good, memory,...</td>\n",
       "      <td>[b4, refresh, ampere, 7nm, throw, dirt, wound,...</td>\n",
       "    </tr>\n",
       "    <tr>\n",
       "      <th>8</th>\n",
       "      <td>8</td>\n",
       "      <td>4.0</td>\n",
       "      <td>0.2459</td>\n",
       "      <td>3080, 3070, 6800, 6800xt, 3090, performance, p...</td>\n",
       "      <td>[thread, deleted, aswell, post, r, p, amd, off...</td>\n",
       "    </tr>\n",
       "    <tr>\n",
       "      <th>9</th>\n",
       "      <td>9</td>\n",
       "      <td>1.0</td>\n",
       "      <td>0.1786</td>\n",
       "      <td>gpu, year, amd, cpu, driver, time, issue, work...</td>\n",
       "      <td>[amd, going, need, pull, double, performance, ...</td>\n",
       "    </tr>\n",
       "  </tbody>\n",
       "</table>\n",
       "</div>"
      ],
      "text/plain": [
       "   Document_No  Dominant_Topic  Topic_Perc_Contrib  \\\n",
       "0            0             0.0              0.2138   \n",
       "1            1             5.0              0.2058   \n",
       "2            2             2.0              0.2086   \n",
       "3            3             5.0              0.2339   \n",
       "4            4             5.0              0.1907   \n",
       "5            5             0.0              0.2377   \n",
       "6            6             5.0              0.3282   \n",
       "7            7             0.0              0.1927   \n",
       "8            8             4.0              0.2459   \n",
       "9            9             1.0              0.1786   \n",
       "\n",
       "                                            Keywords  \\\n",
       "0  price, card, point, performance, good, memory,...   \n",
       "1  amd, nvidia, people, good, console, thing, ser...   \n",
       "2  dl, game, rtx, ray_tracing, performance, rt, f...   \n",
       "3  amd, nvidia, people, good, console, thing, ser...   \n",
       "4  amd, nvidia, people, good, console, thing, ser...   \n",
       "5  price, card, point, performance, good, memory,...   \n",
       "6  amd, nvidia, people, good, console, thing, ser...   \n",
       "7  price, card, point, performance, good, memory,...   \n",
       "8  3080, 3070, 6800, 6800xt, 3090, performance, p...   \n",
       "9  gpu, year, amd, cpu, driver, time, issue, work...   \n",
       "\n",
       "                                            Document  \n",
       "0                        [sound, samsung_8nm, cheap]  \n",
       "1                    [ethic, mongol, invasion, tech]  \n",
       "2  [nvidia, software, ai, learning, big, selling,...  \n",
       "3  [excited, amd, guy, compete, going, nvidia, br...  \n",
       "4  [think, nvidia, actualy, competing, new, conso...  \n",
       "5  [reputable, leak, rdna2, say, 40, 50, faster, ...  \n",
       "6  [im, sure, amd, good, rdna, generation, rt, im...  \n",
       "7  [b4, refresh, ampere, 7nm, throw, dirt, wound,...  \n",
       "8  [thread, deleted, aswell, post, r, p, amd, off...  \n",
       "9  [amd, going, need, pull, double, performance, ...  "
      ]
     },
     "execution_count": 291,
     "metadata": {},
     "output_type": "execute_result"
    }
   ],
   "source": [
    "df_topic_sents_keywords = format_topics_sentences(ldamodel=optimal_model, corpus=bigram_corpus, texts=data_bigrams)\n",
    "\n",
    "# Format\n",
    "df_dominant_topic = df_topic_sents_keywords.reset_index()\n",
    "df_dominant_topic.columns = ['Document_No', 'Dominant_Topic', 'Topic_Perc_Contrib', 'Keywords', 'Document']\n",
    "\n",
    "# Show\n",
    "df_dominant_topic.head(10)"
   ]
  },
  {
   "cell_type": "code",
   "execution_count": 396,
   "metadata": {
    "ExecuteTime": {
     "end_time": "2021-01-23T10:05:37.479343Z",
     "start_time": "2021-01-23T10:05:37.466333Z"
    }
   },
   "outputs": [],
   "source": [
    "# Sort the dataframe in ascending order by the topic percentage contribution\n",
    "df_dominant_topic_sorted = df_dominant_topic.sort_values('Topic_Perc_Contrib', ascending=False)\n",
    "idx = np.random.randint(df_dominant_topic_sorted.shape[0])\n",
    "# idx = 250\n",
    "document = df_dominant_topic_sorted[['Document']].iloc[idx].values\n",
    "dominant_topic = df_dominant_topic_sorted[['Dominant_Topic']].iloc[idx].values\n",
    "dominant_keywords = df_dominant_topic_sorted[['Keywords']].iloc[idx].values"
   ]
  },
  {
   "cell_type": "code",
   "execution_count": 397,
   "metadata": {
    "ExecuteTime": {
     "end_time": "2021-01-23T10:05:38.099818Z",
     "start_time": "2021-01-23T10:05:38.084824Z"
    }
   },
   "outputs": [
    {
     "name": "stdout",
     "output_type": "stream",
     "text": [
      "Dominant keywords: ['3080, 3070, 6800, 6800xt, 3090, performance, price, vram, 6900xt, benchmark'] \n",
      "\n",
      " Document:[list(['6800', 'underwhelming', 'price', 'cut', 'match', '3070', '6800', 'xt', 'look', 'good', 'especially', '1440p', 'high', 'refresh_rate', 'gamers', 'interested', 'ray_tracing', 'sam', 'intriguing'])]\n"
     ]
    }
   ],
   "source": [
    "print(f'Dominant keywords: {dominant_keywords} \\n\\n Document:{document}')"
   ]
  },
  {
   "cell_type": "markdown",
   "metadata": {},
   "source": [
    "The document is possibly relating to AMD's 6800 being priced badly compared to the Nvidia's RTX 3070 and AMD's 6800."
   ]
  },
  {
   "cell_type": "code",
   "execution_count": 315,
   "metadata": {
    "ExecuteTime": {
     "end_time": "2021-01-23T09:57:32.301831Z",
     "start_time": "2021-01-23T09:57:32.287786Z"
    }
   },
   "outputs": [
    {
     "name": "stdout",
     "output_type": "stream",
     "text": [
      "Dominant keywords: ['card, wait, stock, buy, launch, lol, release, order, day, yeah'] \n",
      "\n",
      " Document:[list(['checkout', 'getting', 'error', 'message', 'selected', 'shipping', 'country', 'available', 'region', 'edit', 'shipping', 'information', 'tried', 'postal_code', 'different', 'format', 'xxx', 'xxx', 'xxx', 'xxx', 'xxxxxx', 'work', 'idea'])]\n"
     ]
    }
   ],
   "source": [
    "print(f'Dominant keywords: {dominant_keywords} \\n\\n Document:{document}')"
   ]
  },
  {
   "cell_type": "markdown",
   "metadata": {
    "ExecuteTime": {
     "end_time": "2021-01-23T09:46:19.862202Z",
     "start_time": "2021-01-23T09:46:19.847189Z"
    }
   },
   "source": [
    "In the above document, the dominant keywords reflect the document with purchasing a GPU. "
   ]
  },
  {
   "cell_type": "markdown",
   "metadata": {},
   "source": [
    "# Find the most representative document for each topic"
   ]
  },
  {
   "cell_type": "code",
   "execution_count": 402,
   "metadata": {
    "ExecuteTime": {
     "end_time": "2021-01-23T10:10:30.258085Z",
     "start_time": "2021-01-23T10:10:30.226057Z"
    }
   },
   "outputs": [
    {
     "data": {
      "text/html": [
       "<div>\n",
       "<style scoped>\n",
       "    .dataframe tbody tr th:only-of-type {\n",
       "        vertical-align: middle;\n",
       "    }\n",
       "\n",
       "    .dataframe tbody tr th {\n",
       "        vertical-align: top;\n",
       "    }\n",
       "\n",
       "    .dataframe thead th {\n",
       "        text-align: right;\n",
       "    }\n",
       "</style>\n",
       "<table border=\"1\" class=\"dataframe\">\n",
       "  <thead>\n",
       "    <tr style=\"text-align: right;\">\n",
       "      <th></th>\n",
       "      <th>Topic_Num</th>\n",
       "      <th>Topic_Perc_Contrib</th>\n",
       "      <th>Keywords</th>\n",
       "      <th>Text</th>\n",
       "    </tr>\n",
       "  </thead>\n",
       "  <tbody>\n",
       "    <tr>\n",
       "      <th>0</th>\n",
       "      <td>0.0</td>\n",
       "      <td>0.6580</td>\n",
       "      <td>price, card, point, performance, good, memory,...</td>\n",
       "      <td>[corrected, multiple, time, insinuating, decis...</td>\n",
       "    </tr>\n",
       "    <tr>\n",
       "      <th>1</th>\n",
       "      <td>1.0</td>\n",
       "      <td>0.5616</td>\n",
       "      <td>gpu, year, amd, cpu, driver, time, issue, work...</td>\n",
       "      <td>[selection, frame, index, 0, excludes, type, x...</td>\n",
       "    </tr>\n",
       "    <tr>\n",
       "      <th>2</th>\n",
       "      <td>2.0</td>\n",
       "      <td>0.6588</td>\n",
       "      <td>dl, game, rtx, ray_tracing, performance, rt, f...</td>\n",
       "      <td>[real, time, ray_tracing, path, forward, agree...</td>\n",
       "    </tr>\n",
       "    <tr>\n",
       "      <th>3</th>\n",
       "      <td>3.0</td>\n",
       "      <td>0.5434</td>\n",
       "      <td>card, wait, stock, buy, launch, lol, release, ...</td>\n",
       "      <td>[alright, called, couple, cc, location, 4038, ...</td>\n",
       "    </tr>\n",
       "    <tr>\n",
       "      <th>4</th>\n",
       "      <td>4.0</td>\n",
       "      <td>0.5367</td>\n",
       "      <td>3080, 3070, 6800, 6800xt, 3090, performance, p...</td>\n",
       "      <td>[3090, gaming, card, titan, class, performance...</td>\n",
       "    </tr>\n",
       "    <tr>\n",
       "      <th>5</th>\n",
       "      <td>5.0</td>\n",
       "      <td>0.3884</td>\n",
       "      <td>amd, nvidia, people, good, console, thing, ser...</td>\n",
       "      <td>[hey, calculator, turing, complete, including,...</td>\n",
       "    </tr>\n",
       "  </tbody>\n",
       "</table>\n",
       "</div>"
      ],
      "text/plain": [
       "   Topic_Num  Topic_Perc_Contrib  \\\n",
       "0        0.0              0.6580   \n",
       "1        1.0              0.5616   \n",
       "2        2.0              0.6588   \n",
       "3        3.0              0.5434   \n",
       "4        4.0              0.5367   \n",
       "5        5.0              0.3884   \n",
       "\n",
       "                                            Keywords  \\\n",
       "0  price, card, point, performance, good, memory,...   \n",
       "1  gpu, year, amd, cpu, driver, time, issue, work...   \n",
       "2  dl, game, rtx, ray_tracing, performance, rt, f...   \n",
       "3  card, wait, stock, buy, launch, lol, release, ...   \n",
       "4  3080, 3070, 6800, 6800xt, 3090, performance, p...   \n",
       "5  amd, nvidia, people, good, console, thing, ser...   \n",
       "\n",
       "                                                Text  \n",
       "0  [corrected, multiple, time, insinuating, decis...  \n",
       "1  [selection, frame, index, 0, excludes, type, x...  \n",
       "2  [real, time, ray_tracing, path, forward, agree...  \n",
       "3  [alright, called, couple, cc, location, 4038, ...  \n",
       "4  [3090, gaming, card, titan, class, performance...  \n",
       "5  [hey, calculator, turing, complete, including,...  "
      ]
     },
     "execution_count": 402,
     "metadata": {},
     "output_type": "execute_result"
    }
   ],
   "source": [
    "sent_topics_sorteddf_mallet = pd.DataFrame()\n",
    "\n",
    "sent_topics_outdf_grpd = df_topic_sents_keywords.groupby('Dominant_Topic')\n",
    "\n",
    "for i, grp in sent_topics_outdf_grpd:\n",
    "    sent_topics_sorteddf_mallet = pd.concat([sent_topics_sorteddf_mallet, \n",
    "                                             grp.sort_values(['Perc_Contribution'], ascending=False).head(1)], \n",
    "                                            axis=0)\n",
    "\n",
    "# Reset Index    \n",
    "sent_topics_sorteddf_mallet.reset_index(drop=True, inplace=True)\n",
    "\n",
    "# Format\n",
    "sent_topics_sorteddf_mallet.columns = ['Topic_Num', \"Topic_Perc_Contrib\", \"Keywords\", \"Text\"]\n",
    "\n",
    "# Show\n",
    "sent_topics_sorteddf_mallet"
   ]
  },
  {
   "cell_type": "code",
   "execution_count": null,
   "metadata": {},
   "outputs": [],
   "source": []
  },
  {
   "cell_type": "code",
   "execution_count": null,
   "metadata": {},
   "outputs": [],
   "source": []
  },
  {
   "cell_type": "markdown",
   "metadata": {},
   "source": [
    "## Searching for the best Dirichlet hyperparameters: alpha and beta"
   ]
  },
  {
   "cell_type": "markdown",
   "metadata": {},
   "source": [
    "I'll be using GridSearch CV to search for the best hyperparameter for\n",
    "* Alpha: Document-Topic Density\n",
    "* Beta: Word-Topic Density"
   ]
  },
  {
   "cell_type": "code",
   "execution_count": null,
   "metadata": {},
   "outputs": [],
   "source": []
  },
  {
   "cell_type": "code",
   "execution_count": null,
   "metadata": {},
   "outputs": [],
   "source": []
  },
  {
   "cell_type": "code",
   "execution_count": null,
   "metadata": {},
   "outputs": [],
   "source": []
  },
  {
   "cell_type": "markdown",
   "metadata": {},
   "source": [
    "## Experimental"
   ]
  },
  {
   "cell_type": "code",
   "execution_count": null,
   "metadata": {
    "ExecuteTime": {
     "end_time": "2021-01-23T00:46:06.911662Z",
     "start_time": "2021-01-23T00:34:13.343Z"
    }
   },
   "outputs": [],
   "source": [
    "# supporting function\n",
    "def compute_coherence_values(corpus, dictionary, k, a, b):\n",
    "    \n",
    "    lda_model = LdaMulticore(corpus=corpus,\n",
    "                             id2word=dictionary,\n",
    "                             num_topics=k,\n",
    "                             random_state=100,\n",
    "                             chunksize=100,\n",
    "                             passes=10,\n",
    "                             alpha=a,\n",
    "                             eta=b)\n",
    "    \n",
    "    coherence_model_lda = CoherenceModel(model=lda_model, texts=data_lemmatized, dictionary=id2word, coherence='c_v')\n",
    "    \n",
    "    return coherence_model_lda.get_coherence()"
   ]
  },
  {
   "cell_type": "code",
   "execution_count": null,
   "metadata": {
    "ExecuteTime": {
     "end_time": "2021-01-23T00:46:06.912662Z",
     "start_time": "2021-01-23T00:34:13.345Z"
    }
   },
   "outputs": [],
   "source": [
    "# grid = {}\n",
    "# grid['Validation_Set'] = {}\n",
    "\n",
    "# # Topics range\n",
    "# min_topics = 2\n",
    "# max_topics = 11\n",
    "# step_size = 1\n",
    "# topics_range = list(range(min_topics, max_topics, step_size))\n",
    "\n",
    "# # Alpha parameter\n",
    "# alpha = list(np.arange(0.01, 1, 0.3))\n",
    "# alpha.append('symmetric')\n",
    "# alpha.append('asymmetric')\n",
    "\n",
    "# # Beta parameter\n",
    "# beta = list(np.arange(0.01, 1, 0.3))\n",
    "# beta.append('symmetric')\n",
    "\n",
    "# # Validation sets\n",
    "# num_of_docs = len(corpus)\n",
    "\n",
    "# corpus_sets = [# gensim.utils.ClippedCorpus(corpus, num_of_docs*0.25), \n",
    "#                # gensim.utils.ClippedCorpus(corpus, num_of_docs*0.5), \n",
    "#                ClippedCorpus(corpus, num_of_docs*0.75), \n",
    "#                corpus]\n",
    "\n",
    "# corpus_title = ['75% Corpus', '100% Corpus']\n",
    "\n",
    "# model_results = {'Validation_Set': [],\n",
    "#                  'Topics': [],\n",
    "#                  'Alpha': [],\n",
    "#                  'Beta': [],\n",
    "#                  'Coherence': []\n",
    "#                 }"
   ]
  },
  {
   "cell_type": "code",
   "execution_count": null,
   "metadata": {
    "ExecuteTime": {
     "end_time": "2021-01-23T00:46:06.912662Z",
     "start_time": "2021-01-23T00:34:13.346Z"
    }
   },
   "outputs": [],
   "source": [
    "# # Can take a long time to run\n",
    "# if True:\n",
    "#     #pbar = tqdm.tqdm(total=540)\n",
    "    \n",
    "#     # iterate through validation corpuses\n",
    "#     for i in range(len(corpus_sets)):\n",
    "#         # iterate through number of topics\n",
    "#         for k in topics_range:\n",
    "#             # iterate through alpha values\n",
    "#             for a in alpha:\n",
    "#                 # iterare through beta values\n",
    "#                 for b in beta:\n",
    "#                     # get the coherence score for the given parameters\n",
    "#                     cv = compute_coherence_values(corpus=corpus_sets[1][i], dictionary=id2word, \n",
    "#                                                   k=k, a=a, b=b)\n",
    "#                     # Save the model results\n",
    "#                     model_results['Validation_Set'].append(corpus_title[i])\n",
    "#                     model_results['Topics'].append(k)\n",
    "#                     model_results['Alpha'].append(a)\n",
    "#                     model_results['Beta'].append(b)\n",
    "#                     model_results['Coherence'].append(cv)\n",
    "                    \n",
    "#                     pbar.update(1)\n",
    "#     pd.DataFrame(model_results).to_csv('./model_results/lda_tuning_results.csv', index=False)\n",
    "#     #pbar.close()"
   ]
  },
  {
   "cell_type": "markdown",
   "metadata": {},
   "source": [
    "# LDA Multicore NOT LDA Mallet"
   ]
  },
  {
   "cell_type": "markdown",
   "metadata": {},
   "source": [
    "## Bigram: Using 2 topics"
   ]
  },
  {
   "cell_type": "code",
   "execution_count": null,
   "metadata": {
    "ExecuteTime": {
     "end_time": "2021-01-23T00:46:06.913664Z",
     "start_time": "2021-01-23T00:34:13.348Z"
    }
   },
   "outputs": [],
   "source": [
    "# number of topics\n",
    "num_topics = 2\n",
    "\n",
    "# Build LDA model\n",
    "bigram_lda_model = LdaMulticore(corpus=bigram_corpus, \n",
    "                         id2word=bigram_id2word, \n",
    "                         num_topics=num_topics,\n",
    "                         chunksize=100,\n",
    "                         passes=20, \n",
    "                         random_state=42,\n",
    "                        per_word_topics=True)\n",
    "\n",
    "# Print the Keyword in the 10 topics\n",
    "pprint(bigram_lda_model.print_topics())\n",
    "bigram_doc_lda = bigram_lda_model[bigram_corpus]"
   ]
  },
  {
   "cell_type": "markdown",
   "metadata": {},
   "source": [
    "## Bigram: Using 3 topics"
   ]
  },
  {
   "cell_type": "code",
   "execution_count": null,
   "metadata": {
    "ExecuteTime": {
     "end_time": "2021-01-23T00:46:06.913664Z",
     "start_time": "2021-01-23T00:34:13.350Z"
    }
   },
   "outputs": [],
   "source": [
    "# number of topics\n",
    "num_topics = 3\n",
    "\n",
    "# Build LDA model\n",
    "bigram_lda_model = LdaMulticore(corpus=bigram_corpus, \n",
    "                         id2word=bigram_id2word, \n",
    "                         num_topics=num_topics,\n",
    "                         chunksize=100,\n",
    "                         passes=20, \n",
    "                         random_state=42,\n",
    "                        per_word_topics=True)\n",
    "\n",
    "# Print the Keyword in the 7 topics\n",
    "pprint(bigram_lda_model.print_topics())\n",
    "bigram_doc_lda = bigram_lda_model[bigram_corpus]"
   ]
  },
  {
   "cell_type": "code",
   "execution_count": null,
   "metadata": {},
   "outputs": [],
   "source": []
  },
  {
   "cell_type": "code",
   "execution_count": null,
   "metadata": {},
   "outputs": [],
   "source": []
  },
  {
   "cell_type": "markdown",
   "metadata": {},
   "source": [
    "# Others"
   ]
  },
  {
   "cell_type": "markdown",
   "metadata": {},
   "source": [
    "## LDA Mallet Model experimental"
   ]
  },
  {
   "cell_type": "code",
   "execution_count": 33,
   "metadata": {
    "ExecuteTime": {
     "end_time": "2021-01-23T00:37:08.190900Z",
     "start_time": "2021-01-23T00:37:08.175886Z"
    }
   },
   "outputs": [],
   "source": [
    "# Experimental cell\n",
    "# os.environ.update({'MALLET_HOME': r'C:\\\\Users\\\\Trogg\\\\Documents\\\\General Assembly DS 18\\\\dsi18-projects\\\\capstone\\\\mallet\\\\mallet-2.0.8'})\n",
    "#os.environ['MALLET_HOME'] = r'C:\\\\Users\\\\Trogg\\\\Documents\\\\General Assembly DS 18\\\\dsi18-projects\\\\capstone\\\\mallet\\\\mallet-2.0.8'\n",
    "# mallet_path = r'C:\\\\Users\\\\Trogg\\\\Documents\\\\General Assembly DS 18\\\\dsi18-projects\\\\capstone\\\\mallet\\\\mallet-2.0.8\\\\bin\\\\mallet.bat'\n",
    "\n",
    "\n",
    "\n",
    "# Github Solution\n",
    "# os.environ['MALLET_HOME'] = 'C:\\\\Users\\\\Trogg\\\\Documents\\\\General Assembly DS 18\\\\dsi18-projects\\\\capstone\\\\mallet\\\\mallet-2.0.8'\n",
    "# mallet_path = 'C:\\\\Users\\Trogg\\\\Documents\\\\General Assembly DS 18\\\\dsi18-projects\\\\capstone\\\\mallet\\\\mallet-2.0.8\\\\bin\\\\mallet.bat'\n",
    "# mallet_path\n",
    "\n",
    "\n",
    "# Notes\n",
    "# Could be that Java SDK is installed in C:\\\\ drive and only works there"
   ]
  },
  {
   "cell_type": "code",
   "execution_count": 134,
   "metadata": {
    "ExecuteTime": {
     "end_time": "2021-01-23T04:40:27.371935Z",
     "start_time": "2021-01-23T04:39:37.575206Z"
    }
   },
   "outputs": [],
   "source": [
    "ldamallet = LdaMallet(mallet_path, corpus=bigram_corpus, num_topics=5, id2word=bigram_id2word, prefix='lda_mallet_', workers=4,\n",
    "                     random_seed=42)"
   ]
  },
  {
   "cell_type": "code",
   "execution_count": 135,
   "metadata": {
    "ExecuteTime": {
     "end_time": "2021-01-23T04:40:27.884401Z",
     "start_time": "2021-01-23T04:40:27.869387Z"
    }
   },
   "outputs": [
    {
     "name": "stdout",
     "output_type": "stream",
     "text": [
      "[(0,\n",
      "  [('people', 0.03236016209660721),\n",
      "   ('time', 0.024551128464519182),\n",
      "   ('year', 0.021770639216730264),\n",
      "   ('driver', 0.019788801135859437),\n",
      "   ('card', 0.017718224036442156),\n",
      "   ('buy', 0.01629839973969888),\n",
      "   ('gaming', 0.01576596562842015),\n",
      "   ('good', 0.01316295441772414),\n",
      "   ('work', 0.013074215399177686),\n",
      "   ('issue', 0.013044635726328867)]),\n",
      " (1,\n",
      "  [('card', 0.0672098385857033),\n",
      "   ('wait', 0.01900076863950807),\n",
      "   ('stock', 0.018201383551114527),\n",
      "   ('yeah', 0.01770945426594927),\n",
      "   ('launch', 0.014327440430438125),\n",
      "   ('lol', 0.013282090699461952),\n",
      "   ('release', 0.011252882398155264),\n",
      "   ('order', 0.01091468101460415),\n",
      "   ('day', 0.010668716372021521),\n",
      "   ('month', 0.009315910837817064)]),\n",
      " (2,\n",
      "  [('dl', 0.04290315159880377),\n",
      "   ('game', 0.04143662295836209),\n",
      "   ('performance', 0.036346905912123306),\n",
      "   ('rtx', 0.023838279273061883),\n",
      "   ('ray_tracing', 0.021164021164021163),\n",
      "   ('rt', 0.016908212560386472),\n",
      "   ('feature', 0.016649413388543824),\n",
      "   ('4k', 0.016390614216701172),\n",
      "   ('benchmark', 0.01572923855532551),\n",
      "   ('console', 0.01455026455026455)]),\n",
      " (3,\n",
      "  [('price', 0.04713965227145261),\n",
      "   ('3080', 0.044952327537857543),\n",
      "   ('3070', 0.041475042063937186),\n",
      "   ('6800', 0.039203589455973076),\n",
      "   ('6800xt', 0.026724621424565338),\n",
      "   ('3090', 0.026696578799775657),\n",
      "   ('performance', 0.023583847448121142),\n",
      "   ('vram', 0.0180874929893438),\n",
      "   ('6900xt', 0.015900168255748737),\n",
      "   ('xt', 0.013180033651149748)]),\n",
      " (4,\n",
      "  [('amd', 0.10703113579885981),\n",
      "   ('nvidia', 0.0757783949714954),\n",
      "   ('gpu', 0.031165034351702967),\n",
      "   ('cpu', 0.021400380061394532),\n",
      "   ('memory', 0.01257126151147493),\n",
      "   ('gpus', 0.010670954538810116),\n",
      "   ('series', 0.010437070603712907),\n",
      "   ('end', 0.010086244701067096),\n",
      "   ('intel', 0.010057009209179945),\n",
      "   ('market', 0.008098231252740827)])]\n"
     ]
    }
   ],
   "source": [
    "pprint(ldamallet.show_topics(formatted=False))"
   ]
  },
  {
   "cell_type": "markdown",
   "metadata": {},
   "source": [
    "### LDA Topic interpretation\n",
    "\n",
    "Topic 0:"
   ]
  },
  {
   "cell_type": "code",
   "execution_count": 136,
   "metadata": {
    "ExecuteTime": {
     "end_time": "2021-01-23T04:41:12.344178Z",
     "start_time": "2021-01-23T04:40:53.559111Z"
    }
   },
   "outputs": [
    {
     "name": "stdout",
     "output_type": "stream",
     "text": [
      "\n",
      "Coherence Score:  0.5778798489087432\n"
     ]
    }
   ],
   "source": [
    "# Compute Coherence Score\n",
    "coherence_model_ldamallet = CoherenceModel(model=ldamallet, texts=data_bigrams, dictionary=bigram_id2word, coherence='c_v')\n",
    "coherence_ldamallet = coherence_model_ldamallet.get_coherence()\n",
    "print('\\nCoherence Score: ', coherence_ldamallet)"
   ]
  },
  {
   "cell_type": "code",
   "execution_count": null,
   "metadata": {},
   "outputs": [],
   "source": []
  }
 ],
 "metadata": {
  "kernelspec": {
   "display_name": "Python 3",
   "language": "python",
   "name": "python3"
  },
  "language_info": {
   "codemirror_mode": {
    "name": "ipython",
    "version": 3
   },
   "file_extension": ".py",
   "mimetype": "text/x-python",
   "name": "python",
   "nbconvert_exporter": "python",
   "pygments_lexer": "ipython3",
   "version": "3.8.5"
  },
  "notify_time": "30",
  "varInspector": {
   "cols": {
    "lenName": 16,
    "lenType": 16,
    "lenVar": 40
   },
   "kernels_config": {
    "python": {
     "delete_cmd_postfix": "",
     "delete_cmd_prefix": "del ",
     "library": "var_list.py",
     "varRefreshCmd": "print(var_dic_list())"
    },
    "r": {
     "delete_cmd_postfix": ") ",
     "delete_cmd_prefix": "rm(",
     "library": "var_list.r",
     "varRefreshCmd": "cat(var_dic_list()) "
    }
   },
   "oldHeight": 474.4,
   "position": {
    "height": "496.4px",
    "left": "1156px",
    "right": "20px",
    "top": "120px",
    "width": "360px"
   },
   "types_to_exclude": [
    "module",
    "function",
    "builtin_function_or_method",
    "instance",
    "_Feature"
   ],
   "varInspector_section_display": "block",
   "window_display": false
  }
 },
 "nbformat": 4,
 "nbformat_minor": 4
}
