{
 "cells": [
  {
   "cell_type": "markdown",
   "metadata": {},
   "source": [
    "# GA Capstone: Topic Modelling on AMD vs Nvidia GPU"
   ]
  },
  {
   "cell_type": "markdown",
   "metadata": {},
   "source": [
    "## Contents\n",
    "- Data Extraction\n",
    "- Data Cleaning\n",
    "- [EDA](#EDA)\n",
    "- [Prepare data for LDA modeling](#Prepare-reddit-comments-for-LDA-modeling)\n",
    "- [Phrase modeling: Bigram and Trigram models](#Phrase-modeling:-Bigram-and-Trigram-models)\n",
    "- [LDA Model Training](#LDA-Model-Training)\n",
    "- [LDA Mallet Model](#LDA-Mallet-Model)\n",
    "- Model creation\n",
    "- Model Evaluation"
   ]
  },
  {
   "cell_type": "markdown",
   "metadata": {},
   "source": [
    "# Import the libraries"
   ]
  },
  {
   "cell_type": "code",
   "execution_count": 55,
   "metadata": {
    "ExecuteTime": {
     "end_time": "2021-01-24T12:15:56.667761Z",
     "start_time": "2021-01-24T12:15:56.012169Z"
    }
   },
   "outputs": [],
   "source": [
    "# Common imports\n",
    "import numpy as np\n",
    "import pandas as pd\n",
    "import matplotlib.pyplot as plt\n",
    "import matplotlib.colors as mcolors\n",
    "import seaborn as sns\n",
    "\n",
    "from pprint import pprint\n",
    "import os\n",
    "from collections import Counter\n",
    "\n",
    "import re\n",
    "# NLTK Library\n",
    "from nltk import FreqDist\n",
    "from nltk.tokenize import RegexpTokenizer\n",
    "from nltk.stem import WordNetLemmatizer\n",
    "from nltk.corpus import stopwords\n",
    "\n",
    "# Import PRAW package\n",
    "import praw\n",
    "from praw.models import MoreComments\n",
    "\n",
    "# Gensim library\n",
    "import gensim\n",
    "from gensim.utils import simple_preprocess, ClippedCorpus\n",
    "from gensim.models import LdaMulticore, CoherenceModel, Phrases\n",
    "from gensim.models.wrappers import LdaMallet\n",
    "from gensim.models.phrases import Phraser\n",
    "from gensim.parsing.preprocessing import STOPWORDS\n",
    "import gensim.corpora as corpora\n",
    "\n",
    "# pyLDAvis library\n",
    "import pyLDAvis.gensim\n",
    "import pickle \n",
    "import pyLDAvis\n",
    "\n",
    "# Detect non-english words\n",
    "from langdetect import detect, DetectorFactory\n",
    "DetectorFactory.seed = 0\n",
    "\n",
    "# Detect non-english words using spacy\n",
    "import spacy\n",
    "from spacy_langdetect import LanguageDetector\n",
    "nlp = spacy.load(\"en_core_web_sm\")\n",
    "nlp.add_pipe(LanguageDetector(), name='language_detector', last=True)\n",
    "\n",
    "\n",
    "# Import the wordcloud library\n",
    "from wordcloud import WordCloud\n",
    "\n",
    "# Removes depreciation warnings\n",
    "import warnings\n",
    "warnings.filterwarnings(\"ignore\", category=DeprecationWarning)\n",
    "\n",
    "%matplotlib inline"
   ]
  },
  {
   "cell_type": "code",
   "execution_count": 2,
   "metadata": {
    "ExecuteTime": {
     "end_time": "2021-01-24T10:11:34.739703Z",
     "start_time": "2021-01-24T10:11:34.724690Z"
    }
   },
   "outputs": [],
   "source": [
    "# Set the max rows and columns for Pandas\n",
    "pd.options.display.max_columns = 100\n",
    "pd.options.display.max_rows = 200"
   ]
  },
  {
   "cell_type": "code",
   "execution_count": 3,
   "metadata": {
    "ExecuteTime": {
     "end_time": "2021-01-24T10:11:34.755717Z",
     "start_time": "2021-01-24T10:11:34.740704Z"
    }
   },
   "outputs": [],
   "source": [
    "# Set the style use\n",
    "plt.style.use('ggplot')"
   ]
  },
  {
   "cell_type": "markdown",
   "metadata": {},
   "source": [
    "# Load the dataset"
   ]
  },
  {
   "cell_type": "code",
   "execution_count": 4,
   "metadata": {
    "ExecuteTime": {
     "end_time": "2021-01-24T10:11:34.803761Z",
     "start_time": "2021-01-24T10:11:34.756719Z"
    }
   },
   "outputs": [
    {
     "data": {
      "text/html": [
       "<div>\n",
       "<style scoped>\n",
       "    .dataframe tbody tr th:only-of-type {\n",
       "        vertical-align: middle;\n",
       "    }\n",
       "\n",
       "    .dataframe tbody tr th {\n",
       "        vertical-align: top;\n",
       "    }\n",
       "\n",
       "    .dataframe thead th {\n",
       "        text-align: right;\n",
       "    }\n",
       "</style>\n",
       "<table border=\"1\" class=\"dataframe\">\n",
       "  <thead>\n",
       "    <tr style=\"text-align: right;\">\n",
       "      <th></th>\n",
       "      <th>Reddit comments</th>\n",
       "      <th>tag</th>\n",
       "    </tr>\n",
       "  </thead>\n",
       "  <tbody>\n",
       "    <tr>\n",
       "      <th>0</th>\n",
       "      <td>pre order time releasing 17th</td>\n",
       "      <td>nvidia</td>\n",
       "    </tr>\n",
       "    <tr>\n",
       "      <th>1</th>\n",
       "      <td>going hard grab card 3080 17th</td>\n",
       "      <td>nvidia</td>\n",
       "    </tr>\n",
       "    <tr>\n",
       "      <th>2</th>\n",
       "      <td>uk price 3090 1399 3080 649 3070 469 scan aib ...</td>\n",
       "      <td>nvidia</td>\n",
       "    </tr>\n",
       "    <tr>\n",
       "      <th>3</th>\n",
       "      <td>talking spatula jensen pot</td>\n",
       "      <td>nvidia</td>\n",
       "    </tr>\n",
       "    <tr>\n",
       "      <th>4</th>\n",
       "      <td>10k core completely insane</td>\n",
       "      <td>nvidia</td>\n",
       "    </tr>\n",
       "    <tr>\n",
       "      <th>...</th>\n",
       "      <td>...</td>\n",
       "      <td>...</td>\n",
       "    </tr>\n",
       "    <tr>\n",
       "      <th>25741</th>\n",
       "      <td>motherboard say pcie 0 compatible</td>\n",
       "      <td>nvidia</td>\n",
       "    </tr>\n",
       "    <tr>\n",
       "      <th>25742</th>\n",
       "      <td>thanks understanding know course 3000s dvi por...</td>\n",
       "      <td>nvidia</td>\n",
       "    </tr>\n",
       "    <tr>\n",
       "      <th>25743</th>\n",
       "      <td>buy 1400 gpu</td>\n",
       "      <td>nvidia</td>\n",
       "    </tr>\n",
       "    <tr>\n",
       "      <th>25744</th>\n",
       "      <td>lol know ill wait 3070 3060</td>\n",
       "      <td>nvidia</td>\n",
       "    </tr>\n",
       "    <tr>\n",
       "      <th>25745</th>\n",
       "      <td>generational compatibility compatible size pci...</td>\n",
       "      <td>nvidia</td>\n",
       "    </tr>\n",
       "  </tbody>\n",
       "</table>\n",
       "<p>25746 rows × 2 columns</p>\n",
       "</div>"
      ],
      "text/plain": [
       "                                         Reddit comments     tag\n",
       "0                          pre order time releasing 17th  nvidia\n",
       "1                         going hard grab card 3080 17th  nvidia\n",
       "2      uk price 3090 1399 3080 649 3070 469 scan aib ...  nvidia\n",
       "3                             talking spatula jensen pot  nvidia\n",
       "4                             10k core completely insane  nvidia\n",
       "...                                                  ...     ...\n",
       "25741                  motherboard say pcie 0 compatible  nvidia\n",
       "25742  thanks understanding know course 3000s dvi por...  nvidia\n",
       "25743                                       buy 1400 gpu  nvidia\n",
       "25744                        lol know ill wait 3070 3060  nvidia\n",
       "25745  generational compatibility compatible size pci...  nvidia\n",
       "\n",
       "[25746 rows x 2 columns]"
      ]
     },
     "execution_count": 4,
     "metadata": {},
     "output_type": "execute_result"
    }
   ],
   "source": [
    "# Read the existing csv file\n",
    "GPU_df = pd.read_csv('./reddit dataset/cleaned_combined_df.csv')\n",
    "GPU_df"
   ]
  },
  {
   "cell_type": "code",
   "execution_count": 5,
   "metadata": {
    "ExecuteTime": {
     "end_time": "2021-01-24T10:11:34.819776Z",
     "start_time": "2021-01-24T10:11:34.803761Z"
    }
   },
   "outputs": [
    {
     "data": {
      "text/html": [
       "<div>\n",
       "<style scoped>\n",
       "    .dataframe tbody tr th:only-of-type {\n",
       "        vertical-align: middle;\n",
       "    }\n",
       "\n",
       "    .dataframe tbody tr th {\n",
       "        vertical-align: top;\n",
       "    }\n",
       "\n",
       "    .dataframe thead th {\n",
       "        text-align: right;\n",
       "    }\n",
       "</style>\n",
       "<table border=\"1\" class=\"dataframe\">\n",
       "  <thead>\n",
       "    <tr style=\"text-align: right;\">\n",
       "      <th></th>\n",
       "      <th>Reddit comments</th>\n",
       "      <th>tag</th>\n",
       "    </tr>\n",
       "  </thead>\n",
       "  <tbody>\n",
       "    <tr>\n",
       "      <th>4737</th>\n",
       "      <td>sound samsung 8nm cheap</td>\n",
       "      <td>amd</td>\n",
       "    </tr>\n",
       "    <tr>\n",
       "      <th>4738</th>\n",
       "      <td>ethic mongol invasion tech</td>\n",
       "      <td>amd</td>\n",
       "    </tr>\n",
       "    <tr>\n",
       "      <th>4739</th>\n",
       "      <td>nvidia software ai learning big selling point</td>\n",
       "      <td>amd</td>\n",
       "    </tr>\n",
       "    <tr>\n",
       "      <th>4740</th>\n",
       "      <td>excited amd guy compete going nvidia brand loy...</td>\n",
       "      <td>amd</td>\n",
       "    </tr>\n",
       "    <tr>\n",
       "      <th>4741</th>\n",
       "      <td>think nvidia actualy competing new console pri...</td>\n",
       "      <td>amd</td>\n",
       "    </tr>\n",
       "    <tr>\n",
       "      <th>...</th>\n",
       "      <td>...</td>\n",
       "      <td>...</td>\n",
       "    </tr>\n",
       "    <tr>\n",
       "      <th>19374</th>\n",
       "      <td>dude understand example confused said looked r...</td>\n",
       "      <td>amd</td>\n",
       "    </tr>\n",
       "    <tr>\n",
       "      <th>19375</th>\n",
       "      <td>know example thought looked</td>\n",
       "      <td>amd</td>\n",
       "    </tr>\n",
       "    <tr>\n",
       "      <th>19376</th>\n",
       "      <td>probably score higher english proficiency test...</td>\n",
       "      <td>amd</td>\n",
       "    </tr>\n",
       "    <tr>\n",
       "      <th>19377</th>\n",
       "      <td>prove know concept cost opportunity efficiency...</td>\n",
       "      <td>amd</td>\n",
       "    </tr>\n",
       "    <tr>\n",
       "      <th>19378</th>\n",
       "      <td>cost opportunity perfectly ok way concept lmao...</td>\n",
       "      <td>amd</td>\n",
       "    </tr>\n",
       "  </tbody>\n",
       "</table>\n",
       "<p>14642 rows × 2 columns</p>\n",
       "</div>"
      ],
      "text/plain": [
       "                                         Reddit comments  tag\n",
       "4737                             sound samsung 8nm cheap  amd\n",
       "4738                          ethic mongol invasion tech  amd\n",
       "4739       nvidia software ai learning big selling point  amd\n",
       "4740   excited amd guy compete going nvidia brand loy...  amd\n",
       "4741   think nvidia actualy competing new console pri...  amd\n",
       "...                                                  ...  ...\n",
       "19374  dude understand example confused said looked r...  amd\n",
       "19375                        know example thought looked  amd\n",
       "19376  probably score higher english proficiency test...  amd\n",
       "19377  prove know concept cost opportunity efficiency...  amd\n",
       "19378  cost opportunity perfectly ok way concept lmao...  amd\n",
       "\n",
       "[14642 rows x 2 columns]"
      ]
     },
     "execution_count": 5,
     "metadata": {},
     "output_type": "execute_result"
    }
   ],
   "source": [
    "amd_df = GPU_df[GPU_df['tag'] == 'amd']\n",
    "amd_df"
   ]
  },
  {
   "cell_type": "markdown",
   "metadata": {},
   "source": [
    "# Prepare comments for modeling"
   ]
  },
  {
   "cell_type": "code",
   "execution_count": 6,
   "metadata": {
    "ExecuteTime": {
     "end_time": "2021-01-24T10:11:34.851805Z",
     "start_time": "2021-01-24T10:11:34.820777Z"
    }
   },
   "outputs": [],
   "source": [
    "# Creates the bag of words for each document\n",
    "data = [token.split() for token in amd_df['Reddit comments'].tolist()]"
   ]
  },
  {
   "cell_type": "code",
   "execution_count": 7,
   "metadata": {
    "ExecuteTime": {
     "end_time": "2021-01-24T10:11:34.866819Z",
     "start_time": "2021-01-24T10:11:34.852806Z"
    },
    "scrolled": true
   },
   "outputs": [
    {
     "name": "stdout",
     "output_type": "stream",
     "text": [
      "[['sound', 'samsung', '8nm', 'cheap'], ['ethic', 'mongol', 'invasion', 'tech'], ['nvidia', 'software', 'ai', 'learning', 'big', 'selling', 'point']]\n"
     ]
    }
   ],
   "source": [
    "# Prints the bag of words from the first 3 documents\n",
    "print(data[:3])"
   ]
  },
  {
   "cell_type": "markdown",
   "metadata": {},
   "source": [
    "# Phrase modeling: Bigram and Trigram models"
   ]
  },
  {
   "cell_type": "code",
   "execution_count": 8,
   "metadata": {
    "ExecuteTime": {
     "end_time": "2021-01-24T10:11:38.079775Z",
     "start_time": "2021-01-24T10:11:34.869823Z"
    }
   },
   "outputs": [],
   "source": [
    "# Build the bigram and trigram models\n",
    "bigram = Phrases(data, min_count=5, threshold=100) # higher threshold fewer phrases.\n",
    "trigram = Phrases(bigram[data], threshold=100)\n",
    "\n",
    "# Faster way to get a sentence clubbed as a trigram/bigram, this reduces memory, making the model smaller and faster\n",
    "bigram_mod = Phraser(bigram)\n",
    "trigram_mod = Phraser(trigram)"
   ]
  },
  {
   "cell_type": "code",
   "execution_count": 9,
   "metadata": {
    "ExecuteTime": {
     "end_time": "2021-01-24T10:11:39.326808Z",
     "start_time": "2021-01-24T10:11:38.080785Z"
    }
   },
   "outputs": [],
   "source": [
    "def make_bigrams(texts):\n",
    "    return [bigram_mod[doc] for doc in texts]\n",
    "\n",
    "def make_trigrams(texts):\n",
    "    return [trigram_mod[bigram_mod[doc]] for doc in texts]\n",
    "\n",
    "# Form Bigrams\n",
    "data_bigrams = make_bigrams(data)\n",
    "\n",
    "# Form Trigrams\n",
    "data_trigrams = make_trigrams(data)"
   ]
  },
  {
   "cell_type": "code",
   "execution_count": 10,
   "metadata": {
    "ExecuteTime": {
     "end_time": "2021-01-24T10:11:39.347538Z",
     "start_time": "2021-01-24T10:11:39.326808Z"
    }
   },
   "outputs": [],
   "source": [
    "# Create a dictionary to hold the different n-grams dataset\n",
    "phrase_list = {'unigram': data, 'bigrams': data_bigrams, 'trigrams': data_trigrams}\n",
    "# phrase_list"
   ]
  },
  {
   "cell_type": "markdown",
   "metadata": {},
   "source": [
    "# LDA on AMD comments with all the ngrams"
   ]
  },
  {
   "cell_type": "code",
   "execution_count": 11,
   "metadata": {
    "ExecuteTime": {
     "end_time": "2021-01-24T10:11:39.362862Z",
     "start_time": "2021-01-24T10:11:39.348468Z"
    }
   },
   "outputs": [],
   "source": [
    "# Creating a function to create the LDA model and compute the coherence score\n",
    "def lda_calculate_coherence_values(ngram_data, num_topics):\n",
    "    \"\"\"\n",
    "    This function calculates the coherence score and the perplexity scores for each ngram and stores\n",
    "    the model, corpus and the id2word in their respective dictionaries\n",
    "    \"\"\"\n",
    "    model_dict = {}\n",
    "    score_dict = {}\n",
    "    for key, value in ngram_data.items():\n",
    "        ngram_id2word = corpora.Dictionary(value)\n",
    "        ngram_corpus = [ngram_id2word.doc2bow(text) for text in value]\n",
    "\n",
    "        ngram_lda_model = LdaMulticore(corpus=ngram_corpus, \n",
    "                             id2word=ngram_id2word, \n",
    "                             num_topics=num_topics,\n",
    "                             chunksize=100,\n",
    "                             passes=20, \n",
    "                             random_state=42,\n",
    "                            per_word_topics=True)\n",
    "\n",
    "\n",
    "        # Compute Perplexity score\n",
    "        ngram_perplexity = ngram_lda_model.log_perplexity(ngram_corpus)  # a measure of how good the model is. lower the better.\n",
    "\n",
    "        # Compute Coherence Score\n",
    "        coherence_model_lda = CoherenceModel(model=ngram_lda_model, texts=value, dictionary=ngram_id2word, coherence='c_v')\n",
    "        ngram_coherence_lda = coherence_model_lda.get_coherence()\n",
    "        \n",
    "        # Prints out the topics for each ngram\n",
    "        print(f'*********Displaying {num_topics} topics for {key}******************')\n",
    "        pprint(ngram_lda_model.print_topics())\n",
    "        \n",
    "        # Store the perplexity and coherence scores in score_dict\n",
    "        score_dict[key] = []\n",
    "        score_dict[key].append(ngram_perplexity)\n",
    "        score_dict[key].append(ngram_coherence_lda)\n",
    "        \n",
    "        # Stores the ngram's model, corpus, id2word in model_dict\n",
    "        model_dict[key] = []\n",
    "        model_dict[key].append(ngram_lda_model)\n",
    "        model_dict[key].append(ngram_corpus)\n",
    "        model_dict[key].append(ngram_id2word)\n",
    "\n",
    "    return score_dict, model_dict, num_topics"
   ]
  },
  {
   "cell_type": "code",
   "execution_count": 12,
   "metadata": {
    "ExecuteTime": {
     "end_time": "2021-01-24T10:13:37.447080Z",
     "start_time": "2021-01-24T10:11:39.363864Z"
    }
   },
   "outputs": [
    {
     "name": "stdout",
     "output_type": "stream",
     "text": [
      "*********Displaying 5 topics for unigram******************\n",
      "[(0,\n",
      "  '0.030*\"dl\" + 0.024*\"game\" + 0.021*\"performance\" + 0.017*\"ray\" + 0.016*\"amd\" '\n",
      "  '+ 0.015*\"tracing\" + 0.012*\"nvidia\" + 0.011*\"feature\" + 0.011*\"better\" + '\n",
      "  '0.011*\"rt\"'),\n",
      " (1,\n",
      "  '0.021*\"power\" + 0.007*\"psu\" + 0.007*\"4k\" + 0.007*\"higher\" + 0.006*\"cache\" + '\n",
      "  '0.006*\"think\" + 0.006*\"lower\" + 0.006*\"know\" + 0.005*\"watt\" + 0.005*\"high\"'),\n",
      " (2,\n",
      "  '0.033*\"6800\" + 0.032*\"3070\" + 0.022*\"3080\" + 0.021*\"6800xt\" + 0.015*\"vram\" '\n",
      "  '+ 0.013*\"xt\" + 0.013*\"card\" + 0.009*\"price\" + 0.009*\"3090\" + '\n",
      "  '0.009*\"6900xt\"'),\n",
      " (3,\n",
      "  '0.029*\"amd\" + 0.025*\"card\" + 0.024*\"nvidia\" + 0.020*\"price\" + '\n",
      "  '0.011*\"performance\" + 0.008*\"people\" + 0.008*\"buy\" + 0.008*\"think\" + '\n",
      "  '0.007*\"good\" + 0.007*\"gpu\"'),\n",
      " (4,\n",
      "  '0.015*\"amd\" + 0.014*\"driver\" + 0.013*\"issue\" + 0.011*\"monitor\" + '\n",
      "  '0.010*\"nvidia\" + 0.010*\"gpu\" + 0.009*\"work\" + 0.008*\"cpu\" + 0.007*\"year\" + '\n",
      "  '0.007*\"time\"')]\n",
      "*********Displaying 5 topics for bigrams******************\n",
      "[(0,\n",
      "  '0.021*\"performance\" + 0.020*\"3070\" + 0.020*\"3080\" + 0.019*\"price\" + '\n",
      "  '0.019*\"6800\" + 0.018*\"card\" + 0.012*\"3090\" + 0.012*\"6800xt\" + '\n",
      "  '0.011*\"better\" + 0.010*\"vram\"'),\n",
      " (1,\n",
      "  '0.041*\"dl\" + 0.040*\"game\" + 0.021*\"ray_tracing\" + 0.015*\"rt\" + '\n",
      "  '0.011*\"performance\" + 0.010*\"support\" + 0.007*\"rtx\" + 0.007*\"nvidia\" + '\n",
      "  '0.007*\"feature\" + 0.006*\"play\"'),\n",
      " (2,\n",
      "  '0.042*\"amd\" + 0.028*\"nvidia\" + 0.017*\"gpu\" + 0.014*\"cpu\" + 0.013*\"card\" + '\n",
      "  '0.011*\"driver\" + 0.009*\"new\" + 0.008*\"console\" + 0.008*\"year\" + '\n",
      "  '0.008*\"issue\"'),\n",
      " (3,\n",
      "  '0.019*\"amd\" + 0.017*\"card\" + 0.011*\"nvidia\" + 0.008*\"stock\" + 0.008*\"know\" '\n",
      "  '+ 0.007*\"order\" + 0.006*\"said\" + 0.006*\"video\" + 0.005*\"reference\" + '\n",
      "  '0.005*\"look\"'),\n",
      " (4,\n",
      "  '0.010*\"monitor\" + 0.010*\"card\" + 0.010*\"time\" + 0.009*\"lol\" + '\n",
      "  '0.008*\"people\" + 0.007*\"yeah\" + 0.007*\"day\" + 0.006*\"thanks\" + '\n",
      "  '0.006*\"bought\" + 0.006*\"stock\"')]\n",
      "*********Displaying 5 topics for trigrams******************\n",
      "[(0,\n",
      "  '0.030*\"dl\" + 0.021*\"game\" + 0.015*\"performance\" + 0.014*\"ray_tracing\" + '\n",
      "  '0.011*\"cpu\" + 0.010*\"rt\" + 0.010*\"feature\" + 0.009*\"4k\" + 0.009*\"benchmark\" '\n",
      "  '+ 0.008*\"amd\"'),\n",
      " (1,\n",
      "  '0.009*\"comment\" + 0.009*\"thanks\" + 0.008*\"order\" + 0.007*\"think\" + '\n",
      "  '0.007*\"tax\" + 0.006*\"lol\" + 0.006*\"yes\" + 0.005*\"link\" + 0.005*\"right\" + '\n",
      "  '0.005*\"amd\"'),\n",
      " (2,\n",
      "  '0.035*\"amd\" + 0.024*\"card\" + 0.023*\"nvidia\" + 0.013*\"stock\" + 0.008*\"know\" '\n",
      "  '+ 0.008*\"launch\" + 0.007*\"people\" + 0.006*\"time\" + 0.006*\"going\" + '\n",
      "  '0.006*\"wait\"'),\n",
      " (3,\n",
      "  '0.018*\"amd\" + 0.017*\"driver\" + 0.015*\"nvidia\" + 0.013*\"game\" + 0.013*\"year\" '\n",
      "  '+ 0.011*\"gpu\" + 0.011*\"issue\" + 0.011*\"card\" + 0.010*\"time\" + '\n",
      "  '0.009*\"monitor\"'),\n",
      " (4,\n",
      "  '0.025*\"price\" + 0.023*\"3070\" + 0.021*\"performance\" + 0.021*\"card\" + '\n",
      "  '0.020*\"6800\" + 0.020*\"3080\" + 0.014*\"amd\" + 0.014*\"3090\" + 0.013*\"nvidia\" + '\n",
      "  '0.011*\"better\"')]\n"
     ]
    }
   ],
   "source": [
    "# Calculate using a dictionary\n",
    "score_dict, model_dict, num_topics = lda_calculate_coherence_values(phrase_list, 5)"
   ]
  },
  {
   "cell_type": "markdown",
   "metadata": {},
   "source": [
    "## Intrepreting the topics for unigram"
   ]
  },
  {
   "cell_type": "markdown",
   "metadata": {},
   "source": [
    "Scored between 1 ~ 5 with regards to their intrepretability, >= 3 will be considered intrepretable.\n",
    "* () means the score\n",
    "\n",
    "Topic 0 (4)\n",
    "* Talks about ray tracing and dlss (Deep learning super sampling) features which seem to perform better in Nvidia\n",
    "\n",
    "Topic 1 (2)\n",
    "* Talks about the PSU (Power supply unit)\n",
    "\n",
    "Topic 2 (4)\n",
    "* With regards to all the GPUs from AMD and Nvidia price, performance and vram (Video ram)\n",
    "\n",
    "Topic 3 (3)\n",
    "* Nvidia's GPUS price/performance is better than AMD\n",
    "\n",
    "Topic 4 (1)\n",
    "* Some issue with driver\n",
    "\n",
    "**2 topics were intrepretable.**"
   ]
  },
  {
   "cell_type": "markdown",
   "metadata": {},
   "source": [
    "## Interpreting the topics for the bigrams \n"
   ]
  },
  {
   "cell_type": "markdown",
   "metadata": {},
   "source": [
    "Scored between 1 ~ 5 with regards to their intrepretability, >= 3 will be considered intrepretable.\n",
    "* () is the score\n",
    "\n",
    "Topic 0 (4)\n",
    "* Talks 3070 and 3080 price, performance, vram, better than 6800 and 6800xt.\n",
    "\n",
    "Topic 1 (3)\n",
    "* Talks about dlss and ray_tracing features\n",
    "\n",
    "Topic 2 (2)\n",
    "* Driver issue and something to do with the gaming consoles\n",
    "\n",
    "Topic 3 (2)\n",
    "* Related to power supply unit\n",
    "\n",
    "Topic 4 (3)\n",
    "* Stock related issue during the launch of the GPUs\n",
    "\n",
    "**3 topics were intrepretable.**"
   ]
  },
  {
   "cell_type": "markdown",
   "metadata": {},
   "source": [
    "## Interpreting the topics for the trigrams \n"
   ]
  },
  {
   "cell_type": "markdown",
   "metadata": {},
   "source": [
    "Scored between 1 ~ 5 with regards to their intrepretability, >= 3 will be considered intrepretable.\n",
    "* () is the score\n",
    "\n",
    "Topic 0 (3)\n",
    "* Talks about the dlss and ray_tracing features as well as the performance in 4k.\n",
    "\n",
    "Topic 1 (1)\n",
    "* Something to do with tax\n",
    "\n",
    "Topic 2 (4)\n",
    "* Have to do with stocks availability during launch\n",
    "\n",
    "Topic 3 (2)\n",
    "* Driver related issue \n",
    "\n",
    "Topic 4 (2)\n",
    "* Different models of GPUs\n",
    "\n",
    "**2 topics were intrepretable.**"
   ]
  },
  {
   "cell_type": "code",
   "execution_count": 13,
   "metadata": {
    "ExecuteTime": {
     "end_time": "2021-01-24T10:13:37.463094Z",
     "start_time": "2021-01-24T10:13:37.448081Z"
    }
   },
   "outputs": [],
   "source": [
    "topics_interpretable = [2,3,2]"
   ]
  },
  {
   "cell_type": "code",
   "execution_count": 14,
   "metadata": {
    "ExecuteTime": {
     "end_time": "2021-01-24T10:13:37.479108Z",
     "start_time": "2021-01-24T10:13:37.464096Z"
    }
   },
   "outputs": [
    {
     "data": {
      "text/html": [
       "<div>\n",
       "<style scoped>\n",
       "    .dataframe tbody tr th:only-of-type {\n",
       "        vertical-align: middle;\n",
       "    }\n",
       "\n",
       "    .dataframe tbody tr th {\n",
       "        vertical-align: top;\n",
       "    }\n",
       "\n",
       "    .dataframe thead th {\n",
       "        text-align: right;\n",
       "    }\n",
       "</style>\n",
       "<table border=\"1\" class=\"dataframe\">\n",
       "  <thead>\n",
       "    <tr style=\"text-align: right;\">\n",
       "      <th></th>\n",
       "      <th>Perplexity score</th>\n",
       "      <th>Coherence score</th>\n",
       "      <th>no of topics intrepretable</th>\n",
       "    </tr>\n",
       "  </thead>\n",
       "  <tbody>\n",
       "    <tr>\n",
       "      <th>unigram</th>\n",
       "      <td>-7.628123</td>\n",
       "      <td>0.602889</td>\n",
       "      <td>2</td>\n",
       "    </tr>\n",
       "    <tr>\n",
       "      <th>bigrams</th>\n",
       "      <td>-7.697136</td>\n",
       "      <td>0.585756</td>\n",
       "      <td>3</td>\n",
       "    </tr>\n",
       "    <tr>\n",
       "      <th>trigrams</th>\n",
       "      <td>-7.680053</td>\n",
       "      <td>0.559850</td>\n",
       "      <td>2</td>\n",
       "    </tr>\n",
       "  </tbody>\n",
       "</table>\n",
       "</div>"
      ],
      "text/plain": [
       "          Perplexity score  Coherence score  no of topics intrepretable\n",
       "unigram          -7.628123         0.602889                           2\n",
       "bigrams          -7.697136         0.585756                           3\n",
       "trigrams         -7.680053         0.559850                           2"
      ]
     },
     "execution_count": 14,
     "metadata": {},
     "output_type": "execute_result"
    }
   ],
   "source": [
    "score_df = pd.DataFrame(score_dict).T\n",
    "score_df.columns = ['Perplexity score', 'Coherence score']\n",
    "score_df['no of topics intrepretable'] = topics_interpretable\n",
    "score_df"
   ]
  },
  {
   "cell_type": "markdown",
   "metadata": {},
   "source": [
    "## Summary\n",
    "\n",
    "Using Coherence score as the main metric and no of topic intrepretable as the secondary metric to select the best ngram, between unigrams and bigrams, I'll be choosing **bigram** as the it has the larger number of intrepretable topics compared to the other n_grams and it has the **second highest coherence score**."
   ]
  },
  {
   "cell_type": "markdown",
   "metadata": {},
   "source": [
    "## Visualizing the topics-keywords"
   ]
  },
  {
   "cell_type": "code",
   "execution_count": 15,
   "metadata": {
    "ExecuteTime": {
     "end_time": "2021-01-24T10:13:37.495123Z",
     "start_time": "2021-01-24T10:13:37.480109Z"
    }
   },
   "outputs": [],
   "source": [
    "# Obtaining the lda bigram model, corpus and dictionary\n",
    "lda_bigram_model, bigram_corpus, bigram_id2word = model_dict['bigrams']"
   ]
  },
  {
   "cell_type": "code",
   "execution_count": 16,
   "metadata": {
    "ExecuteTime": {
     "end_time": "2021-01-24T10:13:42.054011Z",
     "start_time": "2021-01-24T10:13:37.496125Z"
    }
   },
   "outputs": [
    {
     "data": {
      "text/html": [
       "\n",
       "<link rel=\"stylesheet\" type=\"text/css\" href=\"https://cdn.rawgit.com/bmabey/pyLDAvis/files/ldavis.v1.0.0.css\">\n",
       "\n",
       "\n",
       "<div id=\"ldavis_el864422012604435684616025262\"></div>\n",
       "<script type=\"text/javascript\">\n",
       "\n",
       "var ldavis_el864422012604435684616025262_data = {\"mdsDat\": {\"x\": [0.1002516667694421, 0.07533914656612807, -0.11230787471301247, 0.1445537745463963, -0.207836713168954], \"y\": [0.15380929834504195, 0.0921119952014344, -0.009479378400961438, -0.20592268946360726, -0.03051922568190769], \"topics\": [1, 2, 3, 4, 5], \"cluster\": [1, 1, 1, 1, 1], \"Freq\": [35.12954308682161, 26.126051820255324, 13.902007407063117, 12.626570154447064, 12.215827531412879]}, \"tinfo\": {\"Term\": [\"dl\", \"game\", \"3070\", \"amd\", \"6800\", \"3080\", \"ray_tracing\", \"cpu\", \"price\", \"3090\", \"gpu\", \"performance\", \"rt\", \"nvidia\", \"vram\", \"6800xt\", \"4k\", \"6900xt\", \"monitor\", \"support\", \"driver\", \"console\", \"benchmark\", \"stock\", \"lol\", \"order\", \"time\", \"card\", \"2080ti\", \"rtx\", \"3070\", \"3090\", \"vram\", \"2080ti\", \"faster\", \"6800\", \"16gb\", \"8gb\", \"2080_ti\", \"6900xt\", \"perf\", \"1440p\", \"6900_xt\", \"999\", \"15\", \"650\", \"70\", \"60\", \"600\", \"850\", \"499\", \"80\", \"usd\", \"60fps\", \"579\", \"3080\", \"percent\", \"3080ti\", \"649\", \"150\", \"4k\", \"cheaper\", \"double\", \"buck\", \"benchmark\", \"xt\", \"50\", \"6800xt\", \"difference\", \"ti\", \"price\", \"worth\", \"compared\", \"performance\", \"1080p\", \"500\", \"better\", \"v\", \"extra\", \"card\", \"wait\", \"rtx\", \"want\", \"think\", \"gaming\", \"look\", \"buy\", \"amd\", \"nvidia\", \"dl\", \"good\", \"going\", \"cpu\", \"ryzen\", \"6700\", \"linux\", \"chip\", \"processor\", \"mid\", \"ryzen_5000\", \"dedicated\", \"x570\", \"mobo\", \"motherboard\", \"5000\", \"b550\", \"combo\", \"undercut\", \"3900x\", \"ssd\", \"entry_level\", \"strategy\", \"platform\", \"directx\", \"pcie\", \"workstation\", \"quadro\", \"pcie_4\", \"raise\", \"enthusiast\", \"decompression\", \"binning\", \"intel\", \"building\", \"console\", \"demand\", \"gpu\", \"driver\", \"window\", \"architecture\", \"issue\", \"industry\", \"gpus\", \"pc\", \"amd\", \"customer\", \"zen\", \"technology\", \"nvidia\", \"generation\", \"series\", \"competition\", \"new\", \"year\", \"market\", \"problem\", \"gen\", \"upgrade\", \"hardware\", \"company\", \"high_end\", \"going\", \"thing\", \"work\", \"card\", \"people\", \"think\", \"good\", \"time\", \"performance\", \"need\", \"buy\", \"support\", \"better\", \"price\", \"know\", \"probably\", \"link\", \"6700xt\", \"reply\", \"samsung\", \"exclusive\", \"sapphire\", \"encoder\", \"pre_order\", \"watch\", \"asus\", \"email\", \"gold\", \"confirmation\", \"supersampling\", \"content\", \"research\", \"received\", \"nah\", \"chat\", \"insult\", \"binned\", \"youtube\", \"hw\", \"smooth\", \"credit\", \"jensen\", \"r9\", \"annoying\", \"concept\", \"min\", \"reference\", \"partner\", \"paypal\", \"encoding\", \"stream\", \"u\", \"lucky\", \"order\", \"page\", \"online\", \"minute\", \"say\", \"video\", \"site\", \"nvenc\", \"stock\", \"dude\", \"lmao\", \"week\", \"card\", \"aib\", \"amd\", \"know\", \"said\", \"launch\", \"nvidia\", \"product\", \"look\", \"right\", \"buy\", \"rage_mode\", \"need\", \"think\", \"thing\", \"good\", \"actually\", \"sure\", \"lol\", \"people\", \"mean\", \"ray\", \"dxr\", \"lighting\", \"cyberpunk\", \"api\", \"listed\", \"aaa\", \"port\", \"upscaling\", \"rtx_voice\", \"gimmick\", \"cast\", \"fidelityfx\", \"ray_traced\", \"premature\", \"super_resolution\", \"abysmal\", \"severe\", \"aa\", \"reflection\", \"shadow\", \"light\", \"usb_c\", \"output\", \"cheat\", \"tracking\", \"cherry_picked\", \"vulkan\", \"physx\", \"aaa_title\", \"native\", \"implementation\", \"game\", \"implemented\", \"dl\", \"ray_tracing\", \"rt\", \"tensor_core\", \"effect\", \"title\", \"control\", \"implement\", \"0\", \"support\", \"working\", \"play\", \"supporting\", \"raytracing\", \"forward\", \"thank\", \"solution\", \"setting\", \"yes\", \"rendering\", \"feature\", \"rtx\", \"work\", \"fps\", \"performance\", \"use\", \"resolution\", \"time\", \"good\", \"worse\", \"nvidia\", \"far\", \"look\", \"true\", \"better\", \"year\", \"care\", \"hardware\", \"need\", \"gsync\", \"fuck\", \"shipping\", \"scalper\", \"canada\", \"location\", \"amazon\", \"psus\", \"tax\", \"sounded\", \"managed\", \"date\", \"freesync\", \"error\", \"stem\", \"hdr\", \"deposit\", \"morning\", \"boy\", \"xd\", \"christmas\", \"province\", \"bud\", \"1070ti\", \"swap\", \"kid\", \"bc\", \"dumbass\", \"calm\", \"disproportionately\", \"ordered\", \"thanks\", \"google\", \"assumption\", \"monitor\", \"glad\", \"bus\", \"paid\", \"buddy\", \"144hz\", \"bought\", \"cc\", \"day\", \"lol\", \"terrible_idea\", \"haha\", \"comment\", \"time\", \"efficiency\", \"yeah\", \"bad\", \"psu\", \"stock\", \"read\", \"people\", \"launch\", \"card\", \"line\", \"said\", \"try\", \"shit\", \"know\", \"thing\", \"good\", \"think\", \"getting\", \"mean\", \"guess\", \"actually\", \"order\"], \"Freq\": [1466.0, 1376.0, 1387.0, 3290.0, 1299.0, 1385.0, 732.0, 725.0, 1571.0, 843.0, 1006.0, 2063.0, 521.0, 2388.0, 675.0, 888.0, 606.0, 539.0, 308.0, 470.0, 661.0, 453.0, 546.0, 490.0, 399.0, 260.0, 785.0, 2639.0, 339.0, 705.0, 1387.1325278581678, 842.3473798132712, 674.6135740010948, 338.73182221945547, 320.9954329327222, 1295.3652404536776, 211.6916721753628, 206.70566539379917, 145.13304620992443, 536.097839630377, 110.66258412626382, 315.614811847632, 102.40845357644665, 96.75992017249358, 191.96942353726394, 93.62013087831644, 90.02972649183764, 90.12411478900862, 79.70435099245097, 76.46927713240567, 69.53018082371678, 200.76578864647144, 61.260689668861886, 56.09003152968298, 53.657130157205756, 1367.2498311184768, 54.408635454986786, 52.479068979962776, 52.60030132485399, 52.11189090168851, 596.8166188370114, 273.2055857595727, 128.85408585358277, 78.13390417982575, 528.0447053382999, 384.6863351679698, 331.79290996594546, 812.1789754664427, 311.50583599584803, 132.968951471091, 1323.915239610183, 239.1748234958661, 187.56266241084438, 1450.3210074694575, 171.7063887740086, 341.87647697227436, 763.7703507866845, 260.1528886218872, 213.4825930850934, 1226.616181806744, 357.1834339265324, 408.2590661627092, 377.59601752383026, 486.13473292416205, 310.9179477496955, 346.8769841009744, 354.9935934225692, 534.7318941262897, 459.0726998529446, 384.4198552785426, 329.786452439343, 312.62399521476345, 724.3037698579426, 191.7531688764553, 112.08267944002539, 101.76593127503354, 155.98741825814906, 68.09742964740747, 65.43800837326152, 65.1533394693579, 63.208661393974474, 54.30519387668896, 45.12729987027692, 43.537109925384875, 39.06644168527011, 32.47450744992377, 31.93398052528674, 34.32659016777699, 31.709644265080282, 30.388381685982957, 29.14328553589045, 29.31807314750496, 50.033470111396284, 29.524037336580154, 26.283872334859204, 25.716989492825086, 25.8517269416026, 25.32081455564796, 24.982758329398052, 24.47356420731635, 23.026156559647454, 22.94468442885659, 274.199430086097, 34.237500203799215, 419.21783511548875, 78.99365686063665, 853.5741140087644, 567.6983072710474, 71.7040273039996, 92.33683326785072, 384.6336580359308, 38.535505493586754, 279.3081156613448, 301.12078115147716, 2147.4605097879958, 56.29393040448078, 141.06758248709798, 103.80540376213666, 1447.9039375981586, 179.05480038848853, 234.7723345865998, 154.51374842813988, 456.7730385551306, 406.5313813947409, 182.27071627980317, 165.3363564253361, 201.4928542746738, 166.95746703610521, 194.5630661617716, 148.02405682188314, 129.2335166885088, 355.1044846133817, 297.63064707116223, 241.9110060660602, 657.493849242039, 345.009712965738, 369.5643460943152, 294.8122154321037, 254.43255750403998, 341.2839259769315, 227.10560443291382, 227.73495648279675, 197.78071987128197, 234.59433915304174, 245.91801012810748, 206.391263848234, 198.62762057297317, 91.82834585599957, 78.71998625900791, 58.67831989934693, 61.02135227939996, 55.16398350710697, 53.02136734729387, 46.58157990583604, 43.18298177484041, 53.41170490179776, 40.47766048394346, 73.86431856790337, 38.00771725431682, 74.27351144862963, 37.35287310468415, 30.293140017955498, 30.29177194591518, 28.81814934748509, 28.511995725962237, 26.784399420380456, 25.765502433685214, 24.946013030783508, 27.58240344189895, 24.799273053708838, 24.755222400743925, 21.460246226302207, 21.568328667737575, 20.670738818867456, 21.55898017546206, 20.500480353349655, 20.358596715334777, 148.18811933134845, 71.37005089072652, 49.09324299902556, 37.12595682232988, 42.82736538202647, 58.18564928949378, 41.52900484592831, 183.10632139711214, 58.50639251261328, 46.23027674014922, 51.6224250147314, 71.8919640404415, 153.2385472781929, 47.86968940213208, 57.77458797704579, 224.26918962958314, 78.23838689881438, 76.09569473499904, 89.57654994696877, 470.32482516258216, 90.87115778545632, 503.74956125166426, 216.04461920452482, 162.26147641011352, 129.87150947686106, 295.06314285066446, 103.03417960258732, 131.07918773778667, 115.38652738929807, 117.2737954362523, 77.56565647398791, 105.90701054758772, 119.40094478160957, 102.58229780726961, 107.01063299577996, 90.77066149349453, 91.83523055186915, 83.54010307806472, 89.49898786268288, 79.67144236104889, 62.75825926566502, 59.67724340165612, 51.64299814563382, 65.47021224220939, 46.48942345182903, 42.69634677864801, 35.307288523163024, 34.058942913132334, 44.40349848918473, 32.02274042489104, 31.666361988870783, 28.49950891750323, 26.528405565211685, 25.715329351340422, 23.077466802177746, 103.84414667033013, 22.324522366513772, 24.641988903140994, 21.04454616407203, 20.89246793250435, 20.871163231405077, 20.95721616072707, 20.746838349494055, 20.08352063701138, 18.754920704033225, 19.263634799830744, 18.584716074959456, 18.487694402874926, 17.622340128408307, 17.43021670971296, 53.28155314812186, 91.85830073729457, 983.6464082603993, 57.61646011476565, 1005.1518746002181, 527.7446962273789, 364.5055049989531, 49.23576538562234, 52.66367942443599, 121.92343049962766, 72.79442159922208, 36.568088481210424, 158.38160432607805, 254.2983427618023, 115.96055328816361, 158.64725873319682, 38.23019169321646, 143.37441985297144, 45.098402211539366, 50.00944789269522, 58.296323701836364, 74.68882285022913, 134.14902119383865, 64.09185244302124, 171.53033545614826, 183.99387610479974, 141.35361703661965, 107.72253994186497, 269.9059821291284, 142.7654396267608, 80.53296669307187, 137.19490026445905, 148.596571120775, 81.37626699215323, 178.319099889813, 87.91381025619295, 108.49732119280445, 79.937568321673, 102.21798273741624, 93.86321491197332, 80.68218301325928, 81.10421570974827, 81.047949669124, 64.234760801179, 108.2483463085918, 61.62614349142336, 59.702282938297344, 54.520778533092034, 46.81729980509607, 51.81978025335749, 43.346782905199255, 98.65590798913846, 37.010004353494956, 33.57423258255641, 60.57227469846981, 71.3705242689401, 28.89754267713644, 27.265951937760782, 25.73915034792714, 24.471295416367706, 32.50133271984909, 24.477943351101114, 23.10686177119381, 22.48447149143532, 21.637817071004037, 21.711214277587676, 21.102272917279393, 21.01285833425143, 20.13281258153321, 19.247937406157046, 19.183031690925013, 18.296548099359686, 17.953102545251554, 50.83846828344238, 154.07215693054823, 31.686717226396905, 30.742532399727125, 247.66764253043786, 46.473933558706605, 29.67343930751595, 75.65105959733322, 38.385228022498396, 46.767995448626216, 146.05162542239935, 103.0605752022481, 171.7459460388258, 205.26941333325263, 50.69131768122283, 51.2981302553984, 104.18061167711498, 238.55532479163034, 58.62282418811968, 175.3660957334002, 132.6541418975192, 77.03819890322592, 145.84463505939823, 76.7775241715028, 197.71566757810518, 111.27977115430127, 241.25127520463974, 72.95565459881013, 115.62682478820605, 71.03543941801594, 78.34364291070786, 115.69297577375754, 99.14554549602468, 109.41351861492618, 110.57833473220828, 87.99140184234209, 89.72824644666389, 78.83439350838242, 82.71086574969749, 77.11152375890832], \"Total\": [1466.0, 1376.0, 1387.0, 3290.0, 1299.0, 1385.0, 732.0, 725.0, 1571.0, 843.0, 1006.0, 2063.0, 521.0, 2388.0, 675.0, 888.0, 606.0, 539.0, 308.0, 470.0, 661.0, 453.0, 546.0, 490.0, 399.0, 260.0, 785.0, 2639.0, 339.0, 705.0, 1387.8488763258981, 843.0735761611993, 675.5537224540135, 339.45166808977365, 321.7093711238944, 1299.4036672229242, 212.4038686058063, 207.41600846585916, 145.843048079038, 539.3374989680586, 111.38560679663233, 317.81174580957236, 103.12147730867746, 97.47366168301559, 193.4097953767035, 94.3321348165606, 90.73982319742495, 90.84279016106107, 80.41588607256493, 77.2106063604143, 70.24098797630096, 203.0206569192138, 61.99938988293317, 56.81108368677741, 54.36407026361685, 1385.269012399794, 55.1301533689066, 53.18808753101311, 53.312820224880596, 52.851427940416414, 606.6952479118988, 279.35946030001173, 130.98116685904415, 79.33983245748993, 546.851066272844, 399.8221112198648, 345.35883324875704, 888.945042660055, 334.1715248332775, 138.17160416575794, 1571.3987923844793, 263.9363872552484, 205.4179198684053, 2063.364166971041, 188.95319910089026, 428.8120160712064, 1135.39434015584, 319.2649671891629, 255.7248603771011, 2639.0677981092495, 531.5649428753335, 705.732510338666, 696.5873418211293, 1159.8466931819678, 502.43867279324024, 655.7597171566957, 734.3492744163981, 3290.517659024126, 2388.6601832856363, 1466.2686708644537, 989.6193906029278, 832.6068252841359, 725.4043011996791, 192.52569601699642, 112.78663014315661, 102.5195400209524, 157.46232332124532, 68.79633390045514, 66.13583173460115, 65.85088688488297, 63.91656680455237, 55.00086697681908, 45.82686683161819, 44.23504407270776, 39.89267465256524, 33.1692880321704, 32.63148152676807, 35.07817592733153, 32.406229281590846, 31.091849953444765, 29.841805367751363, 30.026546095413597, 51.24434795811539, 30.23956730665886, 26.978163471351902, 26.41511456869489, 26.555164045276953, 26.01352191127909, 25.692046032836107, 25.172702323192595, 23.72014674308989, 23.64214336381802, 282.5582775995821, 35.34408948760184, 453.6511541156692, 84.01836512383564, 1006.8558776751012, 661.3898687047147, 76.67073272202782, 100.44842556846709, 466.782885914918, 40.21372901518937, 339.7720175144728, 370.0307734272269, 3290.517659024126, 60.77554649106646, 166.83947096794668, 120.24644193641541, 2388.6601832856363, 226.48744921356146, 318.92177225455936, 197.70914753781312, 732.8395923682369, 704.4348768184748, 264.7666763306936, 234.34389729129126, 311.92405802669447, 244.87503090041594, 312.0809092342171, 214.52056890167904, 178.74642359113975, 832.6068252841359, 638.1924115797374, 473.554807358765, 2639.0677981092495, 991.2054573057553, 1159.8466931819678, 989.6193906029278, 785.9023043332542, 2063.364166971041, 708.8467241008258, 734.3492744163981, 470.7496920968663, 1135.39434015584, 1571.3987923844793, 811.4834864872226, 631.8933613614927, 92.52531895357409, 79.43744222433234, 59.40473105673313, 61.78399182730622, 55.88951134000013, 53.74219907647911, 47.2819190241862, 43.91261158302096, 54.33320774705949, 41.178735710180014, 75.23602421386654, 38.72069725691723, 75.75663075730697, 38.125346991513936, 30.998508525642308, 30.99769334687006, 29.51555628453051, 29.21914430482708, 27.511568288815656, 26.467450868633804, 25.647476231130124, 28.391624155926575, 25.556321228325352, 25.536092742344874, 22.159513369564515, 22.271439827741204, 21.36921203425547, 22.299989257074113, 21.20687307181198, 21.060248699063155, 157.33088010597007, 74.88088319432887, 51.43106878818961, 38.81220973201197, 45.2910382510555, 63.505761879134084, 45.00359077809665, 260.7547439853694, 69.3852404863347, 52.86602600701995, 60.820567515519414, 92.61795898247517, 236.7823075613218, 57.43296006899084, 74.2760197963616, 490.23876172987536, 113.756440566656, 114.52494669512278, 148.97574609748236, 2639.0677981092495, 170.07554709646277, 3290.517659024126, 811.4834864872226, 579.3438586293518, 392.5198278634137, 2388.6601832856363, 274.2920186113374, 655.7597171566957, 549.3947147880922, 734.3492744163981, 194.84036678166657, 708.8467241008258, 1159.8466931819678, 638.1924115797374, 989.6193906029278, 493.69479519044273, 538.2804515588895, 399.11690433914373, 991.2054573057553, 502.3138724869897, 63.48094234985471, 60.43702235782998, 52.35420305011964, 66.39691975029992, 47.2066171300523, 43.44313386149964, 36.02416010009828, 34.77899491347073, 45.37314140488596, 32.73845762602842, 32.39626599314986, 29.20966109624261, 27.243047518321845, 26.433493477369765, 23.787529515265962, 107.21268745032533, 23.05425794106529, 25.47462935395492, 21.756455022073613, 21.60223134385275, 21.581679739744136, 21.672805652281014, 21.459356974629404, 20.806848912661206, 19.474321464820004, 20.011941304692225, 19.307891963210352, 19.226950538584443, 18.331232483562502, 18.14375613139763, 56.084039911562584, 103.36399194954788, 1376.2553556113767, 65.46658911149876, 1466.2686708644537, 732.3421308975367, 521.0355035425947, 56.92259768058579, 61.60210290781551, 160.7490796180927, 89.39076759096872, 41.40958790600053, 256.99966937660594, 470.7496920968663, 180.79464415673834, 281.3764887549295, 44.5406990179614, 300.5189779557126, 56.44401149627936, 65.63897993196866, 83.04152034258598, 125.21879091637783, 368.80572516399627, 103.24142595412528, 568.347719146628, 705.732510338666, 473.554807358765, 282.4929390890804, 2063.364166971041, 564.3591115719839, 164.14511192129723, 785.9023043332542, 989.6193906029278, 206.54116115267016, 2388.6601832856363, 280.1722576216185, 655.7597171566957, 233.0216564552542, 1135.39434015584, 704.4348768184748, 280.856363672846, 312.0809092342171, 708.8467241008258, 64.95815687233399, 109.50429513811072, 62.347710087133436, 60.4221212164697, 55.3120750703856, 47.535429741524695, 52.6797079262279, 44.06974761758007, 100.54738134121536, 37.73111987657064, 34.299302721021874, 61.943892988017446, 73.18834794960138, 29.657504664517894, 27.983981338146158, 26.463567780180227, 25.188379970348713, 33.46256338664479, 25.22257242598553, 23.845758912661978, 23.204570761599413, 22.354018363080108, 22.43344818835056, 21.82839369265654, 21.745719128413477, 20.855614004729425, 19.969859764154, 19.90669740379739, 19.017277271514097, 18.67978948710552, 53.361642879049356, 164.73403726767017, 33.18944837421979, 32.28559643989314, 308.13862494180984, 51.26682280820263, 31.55466733273632, 89.70778820689489, 42.875236217449036, 54.25279019272653, 204.4791047002099, 142.78120993838152, 305.4878548405789, 399.11690433914373, 64.72850156835739, 70.86870742954493, 207.5664347721389, 785.9023043332542, 87.88259789179071, 562.7658258035846, 381.2046238023444, 147.01255510475613, 490.23876172987536, 149.61271984344873, 991.2054573057553, 392.5198278634137, 2639.0677981092495, 156.3687343984127, 579.3438586293518, 153.31174036143773, 220.45159729787014, 811.4834864872226, 638.1924115797374, 989.6193906029278, 1159.8466931819678, 407.64388252351296, 502.3138724869897, 282.43741414625595, 493.69479519044273, 260.7547439853694], \"Category\": [\"Default\", \"Default\", \"Default\", \"Default\", \"Default\", \"Default\", \"Default\", \"Default\", \"Default\", \"Default\", \"Default\", \"Default\", \"Default\", \"Default\", \"Default\", \"Default\", \"Default\", \"Default\", \"Default\", \"Default\", \"Default\", \"Default\", \"Default\", \"Default\", \"Default\", \"Default\", \"Default\", \"Default\", \"Default\", \"Default\", \"Topic1\", \"Topic1\", \"Topic1\", \"Topic1\", \"Topic1\", \"Topic1\", \"Topic1\", \"Topic1\", \"Topic1\", \"Topic1\", \"Topic1\", \"Topic1\", \"Topic1\", \"Topic1\", \"Topic1\", \"Topic1\", \"Topic1\", \"Topic1\", \"Topic1\", \"Topic1\", \"Topic1\", \"Topic1\", \"Topic1\", \"Topic1\", \"Topic1\", \"Topic1\", \"Topic1\", \"Topic1\", \"Topic1\", \"Topic1\", \"Topic1\", \"Topic1\", \"Topic1\", \"Topic1\", \"Topic1\", \"Topic1\", \"Topic1\", \"Topic1\", \"Topic1\", \"Topic1\", \"Topic1\", \"Topic1\", \"Topic1\", \"Topic1\", \"Topic1\", \"Topic1\", \"Topic1\", \"Topic1\", \"Topic1\", \"Topic1\", \"Topic1\", \"Topic1\", \"Topic1\", \"Topic1\", \"Topic1\", \"Topic1\", \"Topic1\", \"Topic1\", \"Topic1\", \"Topic1\", \"Topic1\", \"Topic1\", \"Topic2\", \"Topic2\", \"Topic2\", \"Topic2\", \"Topic2\", \"Topic2\", \"Topic2\", \"Topic2\", \"Topic2\", \"Topic2\", \"Topic2\", \"Topic2\", \"Topic2\", \"Topic2\", \"Topic2\", \"Topic2\", \"Topic2\", \"Topic2\", \"Topic2\", \"Topic2\", \"Topic2\", \"Topic2\", \"Topic2\", \"Topic2\", \"Topic2\", \"Topic2\", \"Topic2\", \"Topic2\", \"Topic2\", \"Topic2\", \"Topic2\", \"Topic2\", \"Topic2\", \"Topic2\", \"Topic2\", \"Topic2\", \"Topic2\", \"Topic2\", \"Topic2\", \"Topic2\", \"Topic2\", \"Topic2\", \"Topic2\", \"Topic2\", \"Topic2\", \"Topic2\", \"Topic2\", \"Topic2\", \"Topic2\", \"Topic2\", \"Topic2\", \"Topic2\", \"Topic2\", \"Topic2\", \"Topic2\", \"Topic2\", \"Topic2\", \"Topic2\", \"Topic2\", \"Topic2\", \"Topic2\", \"Topic2\", \"Topic2\", \"Topic2\", \"Topic2\", \"Topic2\", \"Topic2\", \"Topic2\", \"Topic2\", \"Topic2\", \"Topic2\", \"Topic2\", \"Topic2\", \"Topic2\", \"Topic2\", \"Topic3\", \"Topic3\", \"Topic3\", \"Topic3\", \"Topic3\", \"Topic3\", \"Topic3\", \"Topic3\", \"Topic3\", \"Topic3\", \"Topic3\", \"Topic3\", \"Topic3\", \"Topic3\", \"Topic3\", \"Topic3\", \"Topic3\", \"Topic3\", \"Topic3\", \"Topic3\", \"Topic3\", \"Topic3\", \"Topic3\", \"Topic3\", \"Topic3\", \"Topic3\", \"Topic3\", \"Topic3\", \"Topic3\", \"Topic3\", \"Topic3\", \"Topic3\", \"Topic3\", \"Topic3\", \"Topic3\", \"Topic3\", \"Topic3\", \"Topic3\", \"Topic3\", \"Topic3\", \"Topic3\", \"Topic3\", \"Topic3\", \"Topic3\", \"Topic3\", \"Topic3\", \"Topic3\", \"Topic3\", \"Topic3\", \"Topic3\", \"Topic3\", \"Topic3\", \"Topic3\", \"Topic3\", \"Topic3\", \"Topic3\", \"Topic3\", \"Topic3\", \"Topic3\", \"Topic3\", \"Topic3\", \"Topic3\", \"Topic3\", \"Topic3\", \"Topic3\", \"Topic3\", \"Topic3\", \"Topic3\", \"Topic3\", \"Topic3\", \"Topic4\", \"Topic4\", \"Topic4\", \"Topic4\", \"Topic4\", \"Topic4\", \"Topic4\", \"Topic4\", \"Topic4\", \"Topic4\", \"Topic4\", \"Topic4\", \"Topic4\", \"Topic4\", \"Topic4\", \"Topic4\", \"Topic4\", \"Topic4\", \"Topic4\", \"Topic4\", \"Topic4\", \"Topic4\", \"Topic4\", \"Topic4\", \"Topic4\", \"Topic4\", \"Topic4\", \"Topic4\", \"Topic4\", \"Topic4\", \"Topic4\", \"Topic4\", \"Topic4\", \"Topic4\", \"Topic4\", \"Topic4\", \"Topic4\", \"Topic4\", \"Topic4\", \"Topic4\", \"Topic4\", \"Topic4\", \"Topic4\", \"Topic4\", \"Topic4\", \"Topic4\", \"Topic4\", \"Topic4\", \"Topic4\", \"Topic4\", \"Topic4\", \"Topic4\", \"Topic4\", \"Topic4\", \"Topic4\", \"Topic4\", \"Topic4\", \"Topic4\", \"Topic4\", \"Topic4\", \"Topic4\", \"Topic4\", \"Topic4\", \"Topic4\", \"Topic4\", \"Topic4\", \"Topic4\", \"Topic4\", \"Topic4\", \"Topic4\", \"Topic4\", \"Topic4\", \"Topic4\", \"Topic5\", \"Topic5\", \"Topic5\", \"Topic5\", \"Topic5\", \"Topic5\", \"Topic5\", \"Topic5\", \"Topic5\", \"Topic5\", \"Topic5\", \"Topic5\", \"Topic5\", \"Topic5\", \"Topic5\", \"Topic5\", \"Topic5\", \"Topic5\", \"Topic5\", \"Topic5\", \"Topic5\", \"Topic5\", \"Topic5\", \"Topic5\", \"Topic5\", \"Topic5\", \"Topic5\", \"Topic5\", \"Topic5\", \"Topic5\", \"Topic5\", \"Topic5\", \"Topic5\", \"Topic5\", \"Topic5\", \"Topic5\", \"Topic5\", \"Topic5\", \"Topic5\", \"Topic5\", \"Topic5\", \"Topic5\", \"Topic5\", \"Topic5\", \"Topic5\", \"Topic5\", \"Topic5\", \"Topic5\", \"Topic5\", \"Topic5\", \"Topic5\", \"Topic5\", \"Topic5\", \"Topic5\", \"Topic5\", \"Topic5\", \"Topic5\", \"Topic5\", \"Topic5\", \"Topic5\", \"Topic5\", \"Topic5\", \"Topic5\", \"Topic5\", \"Topic5\", \"Topic5\", \"Topic5\", \"Topic5\", \"Topic5\", \"Topic5\"], \"logprob\": [30.0, 29.0, 28.0, 27.0, 26.0, 25.0, 24.0, 23.0, 22.0, 21.0, 20.0, 19.0, 18.0, 17.0, 16.0, 15.0, 14.0, 13.0, 12.0, 11.0, 10.0, 9.0, 8.0, 7.0, 6.0, 5.0, 4.0, 3.0, 2.0, 1.0, -3.90310001373291, -4.401899814605713, -4.623899936676025, -5.312900066375732, -5.366700172424316, -3.9714999198913574, -5.7829999923706055, -5.80679988861084, -6.160399913787842, -4.853799819946289, -6.431600093841553, -5.383600234985352, -6.509099960327148, -6.565899848937988, -5.880799770355225, -6.598800182342529, -6.637899875640869, -6.636899948120117, -6.759799957275391, -6.801199913024902, -6.896299839019775, -5.835899829864502, -7.022900104522705, -7.111100196838379, -7.1554999351501465, -3.9175000190734863, -7.141600131988525, -7.177700042724609, -7.1753997802734375, -7.184700012207031, -4.746500015258789, -5.527900218963623, -6.279399871826172, -6.779699802398682, -4.868899822235107, -5.185699939727783, -5.333600044250488, -4.438399791717529, -5.396699905395508, -6.248000144958496, -3.949700117111206, -5.660900115966797, -5.9039998054504395, -3.8585000038146973, -5.992300033569336, -5.303599834442139, -4.499800205230713, -5.5767998695373535, -5.774499893188477, -4.026100158691406, -5.259799957275391, -5.126200199127197, -5.2042999267578125, -4.951600074768066, -5.398600101470947, -5.289100170135498, -5.265999794006348, -4.856299877166748, -5.008900165557861, -5.186399936676025, -5.339600086212158, -5.393099784851074, -4.256800174713135, -5.5858001708984375, -6.122700214385986, -6.219299793243408, -5.792200088500977, -6.620999813079834, -6.660900115966797, -6.665200233459473, -6.695499897003174, -6.847400188446045, -7.03249979019165, -7.068399906158447, -7.176700115203857, -7.361499786376953, -7.378300189971924, -7.306099891662598, -7.38539981842041, -7.4278998374938965, -7.469799995422363, -7.463799953460693, -6.929299831390381, -7.4567999839782715, -7.572999954223633, -7.594799995422363, -7.589600086212158, -7.610400199890137, -7.623799800872803, -7.644400119781494, -7.7052998542785645, -7.708899974822998, -5.228099822998047, -7.308700084686279, -4.803599834442139, -6.472599983215332, -4.09250020980835, -4.500400066375732, -6.569399833679199, -6.316500186920166, -4.889699935913086, -7.190400123596191, -5.209700107574463, -5.134500026702881, -3.1698999404907227, -6.811399936676025, -5.8927001953125, -6.19950008392334, -3.5641000270843506, -5.654300212860107, -5.383399963378906, -5.801700115203857, -4.717800140380859, -4.8343000411987305, -5.636499881744385, -5.734000205993652, -5.536200046539307, -5.7241997718811035, -5.571199893951416, -5.844600200653076, -5.980400085449219, -4.969600200653076, -5.146100044250488, -5.353400230407715, -4.353499889373779, -4.9984002113342285, -4.929699897766113, -5.155600070953369, -5.3028998374938965, -5.009300231933594, -5.416600227355957, -5.41379976272583, -5.554800033569336, -5.384099960327148, -5.336999893188477, -5.512199878692627, -5.55049991607666, -5.691199779510498, -5.845200061798096, -6.138999938964844, -6.099899768829346, -6.200799942016602, -6.2403998374938965, -6.369900226593018, -6.4456000328063965, -6.232999801635742, -6.510300159454346, -5.90880012512207, -6.573299884796143, -5.903299808502197, -6.590700149536133, -6.80019998550415, -6.80019998550415, -6.850100040435791, -6.860799789428711, -6.923299789428711, -6.961999893188477, -6.9944000244140625, -6.893899917602539, -7.00029993057251, -7.001999855041504, -7.144899845123291, -7.139900207519531, -7.182400226593018, -7.1402997970581055, -7.1905999183654785, -7.1975998878479, -5.212600231170654, -5.94320011138916, -6.317399978637695, -6.596799850463867, -6.45389986038208, -6.14739990234375, -6.4847002029418945, -5.000999927520752, -6.141900062561035, -6.377399921417236, -6.267099857330322, -5.9359002113342285, -5.179100036621094, -6.342599868774414, -6.1545000076293945, -4.7982001304626465, -5.85129976272583, -5.8790998458862305, -5.716000080108643, -4.057700157165527, -5.701600074768066, -3.989000082015991, -4.835599899291992, -5.1219000816345215, -5.3445000648498535, -4.523900032043457, -5.576000213623047, -5.335299968719482, -5.462800025939941, -5.446599960327148, -5.860000133514404, -5.548500061035156, -5.428599834442139, -5.580399990081787, -5.5381999015808105, -5.702700138092041, -5.691100120544434, -5.785799980163574, -5.716899871826172, -5.833199977874756, -5.975599765777588, -6.025899887084961, -6.170499801635742, -5.933300018310547, -6.275599956512451, -6.3607001304626465, -6.55079984664917, -6.5868000984191895, -6.321499824523926, -6.648399829864502, -6.659599781036377, -6.764999866485596, -6.836599826812744, -6.867800235748291, -6.97599983215332, -5.4720001220703125, -7.009200096130371, -6.910399913787842, -7.06820011138916, -7.075500011444092, -7.076499938964844, -7.072400093078613, -7.082499980926514, -7.1149001121521, -7.1834001541137695, -7.156599998474121, -7.192500114440918, -7.197700023651123, -7.245699882507324, -7.2565999031066895, -6.1392998695373535, -5.594600200653076, -3.223599910736084, -6.060999870300293, -3.2019999027252197, -3.8461999893188477, -4.216300010681152, -6.218200206756592, -6.150899887084961, -5.311500072479248, -5.827199935913086, -6.515699863433838, -5.049799919128418, -4.576300144195557, -5.361599922180176, -5.0482001304626465, -6.471199989318848, -5.149400234222412, -6.306000232696533, -6.202600002288818, -6.049300193786621, -5.801499843597412, -5.21589994430542, -5.954500198364258, -4.970099925994873, -4.899899959564209, -5.163599967956543, -5.435299873352051, -4.5167999267578125, -5.153600215911865, -5.726200103759766, -5.193399906158447, -5.11359977722168, -5.715799808502197, -4.931300163269043, -5.638500213623047, -5.428100109100342, -5.73360013961792, -5.48769998550415, -5.572999954223633, -5.724299907684326, -5.719099998474121, -5.719799995422363, -5.9191999435424805, -5.39739990234375, -5.960700035095215, -5.992400169372559, -6.083199977874756, -6.235499858856201, -6.133999824523926, -6.3125, -5.490099906921387, -6.470600128173828, -6.567999839782715, -5.97790002822876, -5.813899993896484, -6.7179999351501465, -6.776100158691406, -6.833799839019775, -6.884300231933594, -6.600500106811523, -6.883999824523926, -6.9415998458862305, -6.968999862670898, -7.007299900054932, -7.003900051116943, -7.032400131225586, -7.036600112915039, -7.079400062561035, -7.1244001388549805, -7.127799987792969, -7.175099849700928, -7.193999767303467, -6.15310001373291, -5.044400215148926, -6.625899791717529, -6.656099796295166, -4.569699764251709, -6.2428998947143555, -6.691500186920166, -5.7555999755859375, -6.434100151062012, -6.236599922180176, -5.097799777984619, -5.446499824523926, -4.935800075531006, -4.757500171661377, -6.156000137329102, -6.144100189208984, -5.435699939727783, -4.6072001457214355, -6.010700225830078, -4.914899826049805, -5.193999767303467, -5.737500190734863, -5.0991997718811035, -5.740900039672852, -4.794899940490723, -5.369699954986572, -4.595900058746338, -5.791900157928467, -5.331399917602539, -5.818600177764893, -5.720699787139893, -5.3308000564575195, -5.485199928283691, -5.386600017547607, -5.376100063323975, -5.604499816894531, -5.585000038146973, -5.714399814605713, -5.666399955749512, -5.736499786376953], \"loglift\": [30.0, 29.0, 28.0, 27.0, 26.0, 25.0, 24.0, 23.0, 22.0, 21.0, 20.0, 19.0, 18.0, 17.0, 16.0, 15.0, 14.0, 13.0, 12.0, 11.0, 10.0, 9.0, 8.0, 7.0, 6.0, 5.0, 4.0, 3.0, 2.0, 1.0, 1.0456, 1.0453, 1.0447, 1.044, 1.0439, 1.043, 1.0428, 1.0427, 1.0412, 1.0401, 1.0396, 1.0392, 1.0392, 1.0388, 1.0387, 1.0386, 1.0383, 1.0382, 1.0372, 1.0365, 1.036, 1.035, 1.0341, 1.0334, 1.033, 1.033, 1.033, 1.0327, 1.0327, 1.032, 1.0297, 1.0239, 1.0298, 1.0308, 1.0111, 1.0075, 1.0061, 0.9558, 0.9759, 1.0077, 0.8748, 0.9476, 0.9552, 0.6936, 0.9504, 0.8196, 0.6497, 0.8414, 0.8656, 0.28, 0.6486, 0.4988, 0.4338, 0.1766, 0.5662, 0.4093, 0.3192, -0.7709, -0.6032, -0.2926, -0.0527, 0.0666, 1.3407, 1.3382, 1.336, 1.3349, 1.3328, 1.332, 1.3316, 1.3316, 1.3311, 1.3295, 1.3269, 1.3263, 1.3213, 1.3211, 1.3206, 1.3206, 1.3205, 1.3194, 1.3186, 1.3184, 1.3183, 1.3183, 1.3162, 1.3155, 1.3154, 1.3152, 1.3142, 1.3141, 1.3125, 1.3123, 1.3122, 1.3104, 1.2633, 1.2806, 1.1771, 1.1895, 1.2753, 1.258, 1.1487, 1.2996, 1.1463, 1.1362, 0.9155, 1.2656, 1.1744, 1.1952, 0.8416, 1.1072, 1.0359, 1.0957, 0.8695, 0.7925, 0.9689, 0.9934, 0.9052, 0.9592, 0.8697, 0.9712, 1.0179, 0.4901, 0.5795, 0.6705, -0.0475, 0.2869, 0.1985, 0.1313, 0.2144, -0.4571, 0.204, 0.1714, 0.4751, -0.2346, -0.5125, -0.0269, 0.1849, 1.9656, 1.9641, 1.9608, 1.9607, 1.9601, 1.9596, 1.9582, 1.9564, 1.956, 1.956, 1.9547, 1.9546, 1.9534, 1.9527, 1.9501, 1.9501, 1.9492, 1.9486, 1.9463, 1.9463, 1.9454, 1.9442, 1.9431, 1.9421, 1.9411, 1.9411, 1.9399, 1.9393, 1.9393, 1.9393, 1.9133, 1.9251, 1.9266, 1.9287, 1.9172, 1.8856, 1.8928, 1.6196, 1.8026, 1.839, 1.8092, 1.7198, 1.538, 1.791, 1.7219, 1.1911, 1.5988, 1.5643, 1.4644, 0.2484, 1.3463, 0.0964, 0.6498, 0.7004, 0.8671, -0.1182, 0.994, 0.3631, 0.4126, 0.1387, 1.0521, 0.0721, -0.3004, 0.1452, -0.2513, 0.2796, 0.2048, 0.4092, -0.4316, 0.1318, 2.0579, 2.0567, 2.0557, 2.0553, 2.0541, 2.052, 2.0493, 2.0484, 2.0478, 2.0473, 2.0466, 2.0448, 2.0428, 2.0418, 2.0391, 2.0374, 2.0372, 2.0361, 2.0361, 2.036, 2.0359, 2.0358, 2.0356, 2.034, 2.0317, 2.0313, 2.0312, 2.0302, 2.0299, 2.0292, 2.0181, 1.9514, 1.7335, 1.9416, 1.6918, 1.7417, 1.7121, 1.9243, 1.9126, 1.7929, 1.864, 1.945, 1.5853, 1.4535, 1.6253, 1.4964, 1.9166, 1.3293, 1.845, 1.7974, 1.7156, 1.5526, 1.058, 1.5926, 0.8714, 0.725, 0.8604, 1.1053, 0.0353, 0.6949, 1.3573, 0.3239, 0.1733, 1.138, -0.5255, 0.9103, 0.2703, 0.9995, -0.3383, 0.0538, 0.822, 0.7218, -0.0992, 2.0912, 2.0909, 2.0908, 2.0905, 2.088, 2.0872, 2.086, 2.0859, 2.0834, 2.0831, 2.0811, 2.08, 2.0773, 2.0765, 2.0764, 2.0747, 2.0736, 2.0733, 2.0725, 2.071, 2.0709, 2.0699, 2.0697, 2.0686, 2.0682, 2.0672, 2.0656, 2.0654, 2.0638, 2.0628, 2.054, 2.0355, 2.0561, 2.0535, 1.884, 2.0043, 2.041, 1.932, 1.9918, 1.954, 1.7659, 1.7764, 1.5265, 1.4375, 1.858, 1.7793, 1.4131, 0.9102, 1.6976, 0.9364, 1.0468, 1.4562, 0.8901, 1.4353, 0.4903, 0.8419, -0.2899, 1.3401, 0.4909, 1.3331, 1.0679, 0.1545, 0.2404, -0.0997, -0.2479, 0.5693, 0.38, 0.8263, 0.3159, 0.8841]}, \"token.table\": {\"Topic\": [1, 2, 3, 4, 5, 1, 2, 1, 4, 1, 5, 1, 3, 1, 1, 1, 1, 1, 1, 3, 5, 1, 1, 2, 1, 1, 5, 1, 2, 3, 5, 1, 2, 2, 1, 1, 1, 1, 1, 1, 2, 3, 1, 5, 1, 3, 5, 1, 1, 3, 1, 1, 5, 1, 1, 1, 4, 4, 4, 4, 1, 2, 3, 4, 5, 1, 3, 5, 5, 1, 2, 3, 4, 5, 3, 4, 2, 4, 1, 5, 3, 2, 1, 2, 3, 4, 5, 5, 1, 2, 3, 1, 2, 3, 4, 3, 2, 1, 2, 4, 5, 5, 1, 2, 5, 3, 5, 2, 3, 2, 5, 1, 2, 3, 4, 5, 5, 5, 1, 2, 3, 4, 5, 1, 2, 3, 4, 5, 4, 3, 5, 3, 1, 2, 4, 4, 2, 3, 5, 2, 1, 3, 5, 2, 3, 4, 5, 1, 2, 3, 5, 1, 2, 3, 3, 5, 1, 2, 4, 3, 1, 2, 3, 4, 2, 3, 2, 3, 5, 4, 1, 5, 1, 2, 3, 4, 5, 2, 2, 1, 2, 3, 5, 1, 2, 3, 4, 2, 5, 1, 2, 3, 4, 1, 2, 1, 2, 3, 4, 1, 2, 3, 5, 4, 3, 4, 5, 1, 2, 3, 5, 3, 5, 3, 2, 3, 2, 2, 5, 3, 1, 2, 1, 2, 3, 4, 1, 1, 2, 3, 4, 4, 2, 4, 1, 3, 4, 3, 5, 5, 1, 2, 3, 4, 1, 2, 5, 1, 2, 3, 4, 1, 2, 4, 1, 2, 3, 4, 5, 4, 1, 4, 5, 1, 2, 3, 4, 5, 3, 1, 2, 3, 4, 5, 2, 5, 1, 2, 5, 1, 2, 3, 4, 5, 5, 1, 2, 3, 4, 5, 4, 5, 1, 2, 3, 4, 5, 1, 2, 3, 2, 4, 1, 2, 4, 1, 4, 2, 5, 3, 2, 3, 1, 2, 3, 4, 5, 3, 5, 1, 2, 3, 4, 5, 1, 2, 3, 4, 5, 4, 4, 1, 2, 3, 5, 3, 2, 4, 1, 3, 5, 5, 1, 3, 4, 5, 1, 2, 3, 4, 5, 1, 3, 5, 5, 1, 2, 3, 5, 1, 2, 3, 4, 5, 2, 3, 3, 4, 2, 1, 2, 3, 5, 5, 2, 3, 1, 4, 1, 2, 3, 4, 5, 1, 2, 3, 4, 5, 1, 3, 1, 2, 3, 4, 5, 3, 4, 3, 5, 3, 5, 4, 3, 5, 1, 2, 5, 2, 3, 3, 5, 1, 2, 3, 4, 5, 2, 2, 1, 2, 3, 4, 5, 1, 1, 1, 2, 3, 4, 4, 2, 4, 1, 2, 4, 4, 3, 4, 1, 2, 5, 1, 2, 3, 4, 5, 1, 2, 3, 4, 2, 1, 2, 3, 5, 2, 3, 5, 5, 2, 3, 1, 3, 2, 4, 4, 1, 2, 4, 1, 2, 4, 2, 3, 5, 3, 1, 3, 4, 1, 2, 3, 4, 3, 3, 1, 2, 4, 1, 2, 3, 4, 5, 1, 2, 4, 1, 2, 3, 4, 4, 2, 2, 1, 2, 3, 4, 5, 3, 3, 1, 3, 5, 5, 1, 2, 3, 1, 3, 4, 4, 4, 5, 1, 2, 3, 4, 5, 3, 5, 3, 2, 3, 4, 5, 2, 5, 1, 2, 3, 4, 5, 2, 2, 3, 1, 4, 3, 1, 2, 3, 4, 5, 2, 4, 1, 2, 3, 4, 5, 5, 4, 5, 1, 2, 4, 1, 2, 4, 1, 5, 4, 5, 2, 5, 1, 2, 3, 4, 5, 1, 2, 3, 4, 5, 1, 5, 1, 2, 3, 4, 5, 1, 4, 4, 1, 2, 4, 5, 1, 2, 3, 4, 5, 1, 3, 2, 1, 2, 5, 4, 4, 1, 1, 2, 3, 4, 5, 1, 2, 3, 4, 5, 1, 3, 4, 5, 1, 4, 1, 2, 5, 1, 2, 3, 4, 5, 3, 1, 3, 4, 5, 2, 3, 4, 1, 2, 3, 4, 5, 1, 2, 3, 4, 2, 1, 2, 3, 4, 1, 2, 2, 5, 1, 3, 1, 2, 3, 4, 5, 1, 2, 3, 4, 5, 1, 2, 3, 4, 5, 3, 1, 2], \"Freq\": [0.06225688943028828, 0.2684828356681182, 0.050583722662109226, 0.6147867831240967, 0.962049718164318, 0.9102783166331139, 0.08996936850443568, 0.994299311358184, 0.006293033616191037, 0.12902562200272724, 0.86631489058974, 0.9927108377631151, 0.005170368946682892, 0.9838901620335349, 0.9980985816856479, 0.9942194839579799, 0.9986694185587145, 0.9993883510370773, 0.9868119388824375, 0.0007218814476096835, 0.011550103161754937, 0.9776625258368172, 0.9987265925637384, 0.9874644693135707, 0.9965691260438668, 0.9840195749921108, 0.014834465954654937, 0.9613189761990687, 0.008686617254810862, 0.002895539084936954, 0.026059851764432585, 0.7975522774138147, 0.20055408145493586, 0.9776230934541302, 0.9933031088023498, 0.9907225421019452, 0.9948283095184745, 0.9857231435462621, 0.9941323639687213, 0.9964790914866236, 0.9930255018510779, 0.9944932488750455, 0.9966110090851631, 0.002308751372398061, 0.9134422951166848, 0.02924815230669188, 0.05737137567851099, 0.9891246970277541, 0.9938118544057396, 0.0055623797821216766, 0.991846763952633, 0.9900470378242454, 0.009851214306708909, 0.9843207246066263, 0.9979943280707398, 0.9951406187595995, 0.9652307776562804, 0.9715701879723913, 0.9369614470612087, 0.9542705757973065, 0.39903195642159295, 0.14178800481985537, 0.18432440626581198, 0.10937931800388842, 0.1681200628578285, 0.2939870007981876, 0.5350563414527015, 0.17051246046294882, 0.9870973482392925, 0.16258839958897708, 0.6524809232103436, 0.15316738951933542, 0.013675659778512091, 0.01823421303801612, 0.9865475604666962, 0.97443966114479, 0.915892902047444, 0.06968750341665335, 0.03097356438378717, 0.9601804958974023, 0.9713751359809569, 0.9647478706496104, 0.3252846168631321, 0.09706073245109587, 0.1810051497060977, 0.04984199774515734, 0.34889398421610135, 0.951433821989331, 0.9655279701631988, 0.003657302917284844, 0.02925842333827875, 0.6728939655407621, 0.2069765469922501, 0.030826294232888313, 0.08983662890727451, 0.9747547780025141, 0.9728390377329005, 0.03912380197345312, 0.21518091085399219, 0.029342851480089846, 0.7140093860155196, 0.9515286385013618, 0.983112739011545, 0.012604009474506985, 0.9806784857721674, 0.09329394664354317, 0.8862924931136601, 0.9619713081568185, 0.02829327376931819, 0.03169103288129272, 0.9507309864387816, 0.4834211898447446, 0.31047896136507536, 0.15932473017418342, 0.012255748474937185, 0.03540549559426298, 0.946507733100265, 0.9943579214848027, 0.46493689964277524, 0.24895154284050802, 0.17809318894222034, 0.01629363217982016, 0.09132012454271299, 0.42370412563845805, 0.11037670499825378, 0.0890134717727853, 0.2884036485438244, 0.08545293290187389, 0.958586952027382, 0.2731451849779869, 0.7213834372495551, 0.9814053388943433, 0.9772355649127396, 0.021477704723356913, 0.975643748837316, 0.9840535691935186, 0.990713185920279, 0.006350725550771019, 0.9480890737443494, 0.9806480889857834, 0.17825618116251624, 0.31797048531692085, 0.501044401105451, 0.6899105328581926, 0.2936781322301766, 0.009323115308894495, 0.0046615576544472475, 0.9152073982661125, 0.029208746753173802, 0.0389449956708984, 0.014604373376586901, 0.21243326635641496, 0.7839799115534362, 0.9902449988213041, 0.9768121847586585, 0.01320016465890079, 0.04629107588392809, 0.9236171807317081, 0.02865638030909834, 0.9677884977976817, 0.04474735040091686, 0.08949470080183372, 0.04474735040091686, 0.8166391448167327, 0.9980641123889716, 0.9476742403938764, 0.9214232241948096, 0.016453986146335885, 0.049361958439007654, 0.9789610759722991, 0.016143641475576002, 0.9847621300101362, 0.05237524093502741, 0.08510976651941954, 0.18986024838947438, 0.11129738698693326, 0.5630338400515447, 0.969639869816586, 0.985659949362501, 0.03570647912010982, 0.9402706168295585, 0.023804319413406546, 0.9528203095336957, 0.9336522618306896, 0.008977425594525862, 0.0239398015854023, 0.035909702378103446, 0.9920776873481881, 0.9636082897200329, 0.2618892482873612, 0.051832247056873566, 0.0006820032507483364, 0.685413267002078, 0.9848744143409854, 0.015269370764976519, 0.009071805124185794, 0.8587975517562552, 0.06501460338999819, 0.06652657091069582, 0.0703256884634358, 0.23734919856409584, 0.6856754625184991, 0.9544526454888278, 0.9927689627850542, 0.09739927237514444, 0.8603602393137759, 0.032466424125048146, 0.02275763402514099, 0.28447042531426237, 0.02275763402514099, 0.6713502037416592, 0.9835713778501505, 0.013291505106083115, 0.99403748769076, 0.02576508802010334, 0.9533082567438237, 0.9534137293590391, 0.9717910710368394, 0.9778300746487101, 0.9840844673951639, 0.832926449489121, 0.16423901820912243, 0.29981555173619173, 0.24270782759596474, 0.1427693103505675, 0.3140924827712485, 0.9977949939057845, 0.29031523210429505, 0.3466187922699765, 0.061582018931214094, 0.3026316358905378, 0.991078548823938, 0.19488338458589344, 0.7972502096695641, 0.6053248642298894, 0.010619734460173499, 0.38231044056624597, 0.013663377136051976, 0.9700997766596903, 0.9862626837037447, 0.21725619361326637, 0.06757466891650091, 0.0007266093431881818, 0.7149835936971709, 0.6189810156750819, 0.36024297053758786, 0.017912633894134205, 0.2917376767142861, 0.6443876155996868, 0.0384709024238619, 0.022441359747252775, 0.13245767085182786, 0.7903307694159062, 0.07505934681603578, 0.3483432625578759, 0.3017339527790052, 0.09321861955774144, 0.039249945076943765, 0.21587469792319072, 0.987768158428084, 0.039011584694497635, 0.039011584694497635, 0.8972664479734456, 0.3759277374325936, 0.42637171497945925, 0.060052354222459046, 0.06485654256025578, 0.07326387215140004, 0.9813872861809461, 0.33346153393270395, 0.298094401545902, 0.10812237615393734, 0.15056293501809967, 0.11014335514746888, 0.030130057864316873, 0.96416185165814, 0.1320943771089722, 0.8481849477523479, 0.01986381610661236, 0.08240819890003838, 0.8211388390396682, 0.05297669929288182, 0.0029431499607156567, 0.03826094948930354, 0.9852496296313162, 0.45319774785120054, 0.15578672582385017, 0.046027896266137555, 0.06727154069666258, 0.27970798500191285, 0.26810140454288806, 0.7196406121940679, 0.0032042972524458356, 0.6248379642269379, 0.11215040383560425, 0.2595480774481127, 0.9824827935510867, 0.27413135891368334, 0.7216927612217378, 0.9782315606634043, 0.09659598663671735, 0.8935128763896355, 0.009674548952096408, 0.09674548952096408, 0.8900585035928695, 0.10692477025308315, 0.8859480963826889, 0.9698180436156287, 0.02486712932347766, 0.9823386516913205, 0.9697114603320517, 0.028312743367359176, 0.008569294463655836, 0.8247945921268741, 0.08140829740473043, 0.006426970847741876, 0.07926597378881647, 0.987812201193966, 0.9589744035090313, 0.24769450438245594, 0.25385605921784044, 0.2661791688886094, 0.08995870059661336, 0.14294807218091984, 0.12483445808768336, 0.19362079213599867, 0.3311934602326293, 0.06878633404831531, 0.2827882621986296, 0.9689562273073674, 0.9932344868323074, 0.10871738564236003, 0.21743477128472005, 0.20464449062091297, 0.46684524422895773, 0.9943224302329866, 0.9949322829497067, 0.9897996801309872, 0.03492688811851982, 0.6636108742518767, 0.2968785490074185, 0.9887361964657496, 0.14532083048708794, 0.2104646510502653, 0.13028764112635471, 0.5136339698250522, 0.529157236898532, 0.10522146785590407, 0.19976829404526714, 0.16469447142663246, 0.001524948809505856, 0.02222044913995401, 0.9332588638780684, 0.04444089827990802, 0.9912737957544999, 0.2303915313111798, 0.6873976835841757, 0.0075538206987272065, 0.07176129663790846, 0.26079311596832916, 0.2866733488506824, 0.15926297158371247, 0.11546565439819154, 0.17917084303167652, 0.9828257737929542, 0.9496564017731509, 0.8549739360247058, 0.14797625815812218, 0.9819567234509758, 0.17200050792077345, 0.019471755613672464, 0.003245292602278744, 0.8048325653651286, 0.9861766900132521, 0.9946864736401885, 0.992499975271662, 0.03566076914490729, 0.9450103823400432, 0.38513262559871647, 0.3202384835564419, 0.14953867514089358, 0.11427011968313565, 0.02962558658451665, 0.2033187092396211, 0.6236016786745425, 0.04366576305817366, 0.058675869109420846, 0.07095686496953219, 0.21541272733604067, 0.7808711365931474, 0.19215793155166966, 0.6061975705595156, 0.12350019565956982, 0.07451876212679129, 0.003349157848395114, 0.870124037579291, 0.11349443968425535, 0.7018088998229995, 0.295296640909131, 0.0374801054107956, 0.9557426879752877, 0.961221955518203, 0.8503249334650638, 0.14412287007882438, 0.13376764983129621, 0.011147304152608018, 0.8471951155982094, 0.040063630021757085, 0.9481725771815844, 0.9527315133542806, 0.03888700054507268, 0.021619823470096715, 0.8134458580623889, 0.010809911735048357, 0.04594212487395552, 0.10809911735048357, 0.9637423995747296, 0.9610386507933922, 0.28551093813510303, 0.34806103765586766, 0.0897896589894847, 0.07667431554158244, 0.19975676943728055, 0.9795002680049861, 0.9965380913412235, 0.7027358636980491, 0.16526408932485154, 0.0009692908464800677, 0.13085426427480915, 0.9819307030304963, 0.9757173618614006, 0.019514347237228013, 0.2843165765341454, 0.1492662026804263, 0.5650791958616139, 0.9776015691250177, 0.979217551629887, 0.9668931775886792, 0.8425614213378195, 0.15654842118512355, 0.0006363756958744861, 0.4684334701067776, 0.3149265559163809, 0.061719274777582184, 0.07279709332740462, 0.08070982086299208, 0.12374975553108933, 0.7040934366424048, 0.13655145437913305, 0.03413786359478326, 0.9884247625519204, 0.18957897595147402, 0.43384419496587323, 0.37551220236541966, 0.9841630995676015, 0.19726206363351476, 0.2788877451370381, 0.5237647896476082, 0.9757260325867323, 0.9790939327533285, 0.9827222438682526, 0.6004915815576727, 0.4003277210384485, 0.973063802238575, 0.9924238309632496, 0.9836005983189136, 0.25534513461736574, 0.024578676059425583, 0.7209744977431504, 0.402636801253303, 0.11646519044517029, 0.4758434923902672, 0.16709809183443372, 0.3208283363221127, 0.5146621228500559, 0.9825327268251176, 0.05720428179094948, 0.9406926338956138, 0.9721217991666344, 0.21309275609749492, 0.14529051552101926, 0.0193720687361359, 0.6199061995563488, 0.9931868884929956, 0.9678139487443248, 0.46300495403384156, 0.04264519313469593, 0.4934658062729101, 0.40226087738256133, 0.20568090110511053, 0.20932127103617446, 0.07462758358681001, 0.10739091296638514, 0.295565271373893, 0.00575776502676415, 0.7005280782563049, 0.5781227221687854, 0.12469313615405174, 0.03542418640740106, 0.26072201195847183, 0.9774437258326637, 0.9972694760861947, 0.9870785812441609, 0.32277894589651196, 0.058687081072093084, 0.27962668040232586, 0.13808724958139548, 0.20022651189302346, 0.9873107611839396, 0.9861896407435262, 0.12956450489554186, 0.7773870293732512, 0.08637633659702791, 0.9930137968020455, 0.25398077850685846, 0.7368578141865647, 0.009406695500254017, 0.24756667727850898, 0.1517344151061829, 0.5989516385770378, 0.9813685472176954, 0.9730475224005417, 0.9944230495932008, 0.12247586468388386, 0.158765009775405, 0.24041558623132758, 0.12247586468388386, 0.35381916464233115, 0.8357570277126657, 0.15670444269612482, 0.9790064694801212, 0.24084337470569464, 0.048168674941138925, 0.6984457866465145, 0.9806228948686829, 0.9648830817375087, 0.9648376931696688, 0.19990259369576047, 0.004079644769301234, 0.4569202141617382, 0.04079644769301234, 0.2978140681589901, 0.965812048706781, 0.044158846368539374, 0.9494151969235965, 0.027981762899003764, 0.9700344471654638, 0.9704829705087165, 0.01062135585841477, 0.4206056919932249, 0.012745627030097724, 0.5395648776074703, 0.01699416937346363, 0.13470825856550772, 0.8531523042482155, 0.3102471945922593, 0.27494960957876874, 0.17091462217058598, 0.10589275504047174, 0.13933257242167335, 0.9657073135172107, 0.009945559861041257, 0.9846104262430844, 0.016632508769428466, 0.8648904560102801, 0.11642756138599926, 0.01756771547235736, 0.1229740083065015, 0.8608180581455105, 0.20083888372220665, 0.7879063899871184, 0.7617424897800417, 0.2285227469340125, 0.06070390895447657, 0.9348401978989391, 0.13005482123259274, 0.4669438159917185, 0.16139333237297654, 0.08774783119307462, 0.15512563014489977, 0.4190208954829099, 0.31900767763102195, 0.10259976658943679, 0.06380153552620439, 0.09570230328930658, 0.9625711505849364, 0.03618688536033595, 0.111973205212393, 0.3231953877721343, 0.08525232669579921, 0.17432192175111183, 0.30410904597456734, 0.2363932663893337, 0.7589468026183871, 0.9494331264875859, 0.34760717622636056, 0.12016050536219872, 0.34331572960628204, 0.1845322046633766, 0.15654378420999704, 0.20220238793791284, 0.16958909956083013, 0.013045315350833087, 0.4631086949545746, 0.07873301338414201, 0.9133029552560474, 0.9692636262055047, 0.30627867498054745, 0.6819805162900189, 0.012251146999221897, 0.9697366908622709, 0.978594094167291, 0.9838806497157437, 0.26578821343414694, 0.3207177775438706, 0.0832803068760327, 0.2533847634738867, 0.07619262118445545, 0.8143705909516571, 0.11902339406216526, 0.053247307869916036, 0.0031321945805832963, 0.009396583741749889, 0.12247536692533326, 0.6461631427439997, 0.13092194395466658, 0.09713563583733327, 0.9991803428275075, 0.9361859003006113, 0.6716018518243899, 0.22762975930182403, 0.09970559704955928, 0.5426455195292128, 0.25553148803227477, 0.09761877070895891, 0.01866241204730097, 0.08613420944908139, 0.9754623773868452, 0.006712502042752983, 0.6041251838477685, 0.006712502042752983, 0.389325118479673, 0.9390806301674237, 0.05217114612041243, 0.013042786530103108, 0.023228567906114408, 0.511028493934517, 0.07179739170980817, 0.29774800679655744, 0.09502595961592258, 0.005531137300356413, 0.1327472952085539, 0.2212454920142565, 0.6416119268413438, 0.9842849605056474, 0.37280704519271823, 0.07262474906351654, 0.1549327980021686, 0.3921736449429893, 0.9055212223120533, 0.09093100140372085, 0.9818027054511539, 0.9645321033497121, 0.9629282353228483, 0.03751668449309799, 0.4211343140134406, 0.10661628202871914, 0.0373156987100517, 0.124385662366839, 0.3109641559170975, 0.15757311804509574, 0.5777680994986844, 0.032650285721055876, 0.1334402981643153, 0.10079001244325944, 0.2901256480018592, 0.17895600717871687, 0.06507491170135159, 0.3633349236658797, 0.10032382220625037, 0.9862063489648997, 0.1498446372129951, 0.8451237538812923], \"Term\": [\"0\", \"0\", \"0\", \"0\", \"1070ti\", \"1080p\", \"1080p\", \"1440p\", \"1440p\", \"144hz\", \"144hz\", \"15\", \"15\", \"150\", \"16gb\", \"2080_ti\", \"2080ti\", \"3070\", \"3080\", \"3080\", \"3080\", \"3080ti\", \"3090\", \"3900x\", \"499\", \"4k\", \"4k\", \"50\", \"50\", \"50\", \"50\", \"500\", \"500\", \"5000\", \"579\", \"60\", \"600\", \"60fps\", \"649\", \"650\", \"6700\", \"6700xt\", \"6800\", \"6800\", \"6800xt\", \"6800xt\", \"6800xt\", \"6900_xt\", \"6900xt\", \"6900xt\", \"70\", \"80\", \"80\", \"850\", \"8gb\", \"999\", \"aa\", \"aaa\", \"aaa_title\", \"abysmal\", \"actually\", \"actually\", \"actually\", \"actually\", \"actually\", \"aib\", \"aib\", \"aib\", \"amazon\", \"amd\", \"amd\", \"amd\", \"amd\", \"amd\", \"annoying\", \"api\", \"architecture\", \"architecture\", \"assumption\", \"assumption\", \"asus\", \"b550\", \"bad\", \"bad\", \"bad\", \"bad\", \"bad\", \"bc\", \"benchmark\", \"benchmark\", \"benchmark\", \"better\", \"better\", \"better\", \"better\", \"binned\", \"binning\", \"bought\", \"bought\", \"bought\", \"bought\", \"boy\", \"buck\", \"buck\", \"bud\", \"buddy\", \"buddy\", \"building\", \"building\", \"bus\", \"bus\", \"buy\", \"buy\", \"buy\", \"buy\", \"buy\", \"calm\", \"canada\", \"card\", \"card\", \"card\", \"card\", \"card\", \"care\", \"care\", \"care\", \"care\", \"care\", \"cast\", \"cc\", \"cc\", \"chat\", \"cheaper\", \"cheaper\", \"cheat\", \"cherry_picked\", \"chip\", \"chip\", \"christmas\", \"combo\", \"comment\", \"comment\", \"comment\", \"company\", \"company\", \"company\", \"company\", \"compared\", \"compared\", \"compared\", \"compared\", \"competition\", \"competition\", \"concept\", \"confirmation\", \"confirmation\", \"console\", \"console\", \"console\", \"content\", \"control\", \"control\", \"control\", \"control\", \"cpu\", \"credit\", \"customer\", \"customer\", \"customer\", \"cyberpunk\", \"date\", \"date\", \"day\", \"day\", \"day\", \"day\", \"day\", \"decompression\", \"dedicated\", \"demand\", \"demand\", \"demand\", \"deposit\", \"difference\", \"difference\", \"difference\", \"difference\", \"directx\", \"disproportionately\", \"dl\", \"dl\", \"dl\", \"dl\", \"double\", \"double\", \"driver\", \"driver\", \"driver\", \"driver\", \"dude\", \"dude\", \"dude\", \"dumbass\", \"dxr\", \"effect\", \"effect\", \"effect\", \"efficiency\", \"efficiency\", \"efficiency\", \"efficiency\", \"email\", \"email\", \"encoder\", \"encoding\", \"encoding\", \"enthusiast\", \"entry_level\", \"error\", \"exclusive\", \"extra\", \"extra\", \"far\", \"far\", \"far\", \"far\", \"faster\", \"feature\", \"feature\", \"feature\", \"feature\", \"fidelityfx\", \"forward\", \"forward\", \"fps\", \"fps\", \"fps\", \"freesync\", \"freesync\", \"fuck\", \"game\", \"game\", \"game\", \"game\", \"gaming\", \"gaming\", \"gaming\", \"gen\", \"gen\", \"gen\", \"gen\", \"generation\", \"generation\", \"generation\", \"getting\", \"getting\", \"getting\", \"getting\", \"getting\", \"gimmick\", \"glad\", \"glad\", \"glad\", \"going\", \"going\", \"going\", \"going\", \"going\", \"gold\", \"good\", \"good\", \"good\", \"good\", \"good\", \"google\", \"google\", \"gpu\", \"gpu\", \"gpu\", \"gpus\", \"gpus\", \"gpus\", \"gpus\", \"gpus\", \"gsync\", \"guess\", \"guess\", \"guess\", \"guess\", \"guess\", \"haha\", \"haha\", \"hardware\", \"hardware\", \"hardware\", \"hardware\", \"hdr\", \"high_end\", \"high_end\", \"hw\", \"implement\", \"implement\", \"implementation\", \"implementation\", \"implementation\", \"implemented\", \"implemented\", \"industry\", \"industry\", \"insult\", \"intel\", \"intel\", \"issue\", \"issue\", \"issue\", \"issue\", \"issue\", \"jensen\", \"kid\", \"know\", \"know\", \"know\", \"know\", \"know\", \"launch\", \"launch\", \"launch\", \"launch\", \"launch\", \"light\", \"lighting\", \"line\", \"line\", \"line\", \"line\", \"link\", \"linux\", \"listed\", \"lmao\", \"lmao\", \"lmao\", \"location\", \"lol\", \"lol\", \"lol\", \"lol\", \"look\", \"look\", \"look\", \"look\", \"look\", \"lucky\", \"lucky\", \"lucky\", \"managed\", \"market\", \"market\", \"market\", \"market\", \"mean\", \"mean\", \"mean\", \"mean\", \"mean\", \"mid\", \"min\", \"minute\", \"minute\", \"mobo\", \"monitor\", \"monitor\", \"monitor\", \"monitor\", \"morning\", \"motherboard\", \"nah\", \"native\", \"native\", \"need\", \"need\", \"need\", \"need\", \"need\", \"new\", \"new\", \"new\", \"new\", \"new\", \"nvenc\", \"nvenc\", \"nvidia\", \"nvidia\", \"nvidia\", \"nvidia\", \"nvidia\", \"online\", \"online\", \"order\", \"order\", \"ordered\", \"ordered\", \"output\", \"page\", \"page\", \"paid\", \"paid\", \"paid\", \"partner\", \"partner\", \"paypal\", \"paypal\", \"pc\", \"pc\", \"pc\", \"pc\", \"pc\", \"pcie\", \"pcie_4\", \"people\", \"people\", \"people\", \"people\", \"people\", \"percent\", \"perf\", \"performance\", \"performance\", \"performance\", \"performance\", \"physx\", \"platform\", \"platform\", \"play\", \"play\", \"play\", \"port\", \"pre_order\", \"premature\", \"price\", \"price\", \"price\", \"probably\", \"probably\", \"probably\", \"probably\", \"probably\", \"problem\", \"problem\", \"problem\", \"problem\", \"processor\", \"product\", \"product\", \"product\", \"province\", \"psu\", \"psu\", \"psu\", \"psus\", \"quadro\", \"r9\", \"rage_mode\", \"rage_mode\", \"raise\", \"ray\", \"ray_traced\", \"ray_tracing\", \"ray_tracing\", \"ray_tracing\", \"raytracing\", \"raytracing\", \"raytracing\", \"read\", \"read\", \"read\", \"received\", \"reference\", \"reference\", \"reflection\", \"rendering\", \"rendering\", \"rendering\", \"rendering\", \"reply\", \"research\", \"resolution\", \"resolution\", \"resolution\", \"right\", \"right\", \"right\", \"right\", \"right\", \"rt\", \"rt\", \"rt\", \"rtx\", \"rtx\", \"rtx\", \"rtx\", \"rtx_voice\", \"ryzen\", \"ryzen_5000\", \"said\", \"said\", \"said\", \"said\", \"said\", \"samsung\", \"sapphire\", \"say\", \"say\", \"say\", \"scalper\", \"series\", \"series\", \"series\", \"setting\", \"setting\", \"setting\", \"severe\", \"shadow\", \"shipping\", \"shit\", \"shit\", \"shit\", \"shit\", \"shit\", \"site\", \"site\", \"smooth\", \"solution\", \"solution\", \"solution\", \"sounded\", \"ssd\", \"stem\", \"stock\", \"stock\", \"stock\", \"stock\", \"stock\", \"strategy\", \"stream\", \"stream\", \"super_resolution\", \"super_resolution\", \"supersampling\", \"support\", \"support\", \"support\", \"support\", \"support\", \"supporting\", \"supporting\", \"sure\", \"sure\", \"sure\", \"sure\", \"sure\", \"swap\", \"tax\", \"tax\", \"technology\", \"technology\", \"technology\", \"tensor_core\", \"tensor_core\", \"tensor_core\", \"terrible_idea\", \"terrible_idea\", \"thank\", \"thank\", \"thanks\", \"thanks\", \"thing\", \"thing\", \"thing\", \"thing\", \"thing\", \"think\", \"think\", \"think\", \"think\", \"think\", \"ti\", \"ti\", \"time\", \"time\", \"time\", \"time\", \"time\", \"title\", \"title\", \"tracking\", \"true\", \"true\", \"true\", \"true\", \"try\", \"try\", \"try\", \"try\", \"try\", \"u\", \"u\", \"undercut\", \"upgrade\", \"upgrade\", \"upgrade\", \"upscaling\", \"usb_c\", \"usd\", \"use\", \"use\", \"use\", \"use\", \"use\", \"v\", \"v\", \"v\", \"v\", \"v\", \"video\", \"video\", \"video\", \"video\", \"vram\", \"vulkan\", \"wait\", \"wait\", \"wait\", \"want\", \"want\", \"want\", \"want\", \"want\", \"watch\", \"week\", \"week\", \"week\", \"week\", \"window\", \"window\", \"window\", \"work\", \"work\", \"work\", \"work\", \"work\", \"working\", \"working\", \"working\", \"working\", \"workstation\", \"worse\", \"worse\", \"worse\", \"worse\", \"worth\", \"worth\", \"x570\", \"xd\", \"xt\", \"xt\", \"yeah\", \"yeah\", \"yeah\", \"yeah\", \"yeah\", \"year\", \"year\", \"year\", \"year\", \"year\", \"yes\", \"yes\", \"yes\", \"yes\", \"yes\", \"youtube\", \"zen\", \"zen\"]}, \"R\": 30, \"lambda.step\": 0.01, \"plot.opts\": {\"xlab\": \"PC1\", \"ylab\": \"PC2\"}, \"topic.order\": [1, 3, 4, 2, 5]};\n",
       "\n",
       "function LDAvis_load_lib(url, callback){\n",
       "  var s = document.createElement('script');\n",
       "  s.src = url;\n",
       "  s.async = true;\n",
       "  s.onreadystatechange = s.onload = callback;\n",
       "  s.onerror = function(){console.warn(\"failed to load library \" + url);};\n",
       "  document.getElementsByTagName(\"head\")[0].appendChild(s);\n",
       "}\n",
       "\n",
       "if(typeof(LDAvis) !== \"undefined\"){\n",
       "   // already loaded: just create the visualization\n",
       "   !function(LDAvis){\n",
       "       new LDAvis(\"#\" + \"ldavis_el864422012604435684616025262\", ldavis_el864422012604435684616025262_data);\n",
       "   }(LDAvis);\n",
       "}else if(typeof define === \"function\" && define.amd){\n",
       "   // require.js is available: use it to load d3/LDAvis\n",
       "   require.config({paths: {d3: \"https://cdnjs.cloudflare.com/ajax/libs/d3/3.5.5/d3.min\"}});\n",
       "   require([\"d3\"], function(d3){\n",
       "      window.d3 = d3;\n",
       "      LDAvis_load_lib(\"https://cdn.rawgit.com/bmabey/pyLDAvis/files/ldavis.v1.0.0.js\", function(){\n",
       "        new LDAvis(\"#\" + \"ldavis_el864422012604435684616025262\", ldavis_el864422012604435684616025262_data);\n",
       "      });\n",
       "    });\n",
       "}else{\n",
       "    // require.js not available: dynamically load d3 & LDAvis\n",
       "    LDAvis_load_lib(\"https://cdnjs.cloudflare.com/ajax/libs/d3/3.5.5/d3.min.js\", function(){\n",
       "         LDAvis_load_lib(\"https://cdn.rawgit.com/bmabey/pyLDAvis/files/ldavis.v1.0.0.js\", function(){\n",
       "                 new LDAvis(\"#\" + \"ldavis_el864422012604435684616025262\", ldavis_el864422012604435684616025262_data);\n",
       "            })\n",
       "         });\n",
       "}\n",
       "</script>"
      ],
      "text/plain": [
       "PreparedData(topic_coordinates=              x         y  topics  cluster       Freq\n",
       "topic                                                \n",
       "0      0.100252  0.153809       1        1  35.129543\n",
       "2      0.075339  0.092112       2        1  26.126052\n",
       "3     -0.112308 -0.009479       3        1  13.902007\n",
       "1      0.144554 -0.205923       4        1  12.626570\n",
       "4     -0.207837 -0.030519       5        1  12.215828, topic_info=          Term         Freq        Total Category  logprob  loglift\n",
       "390         dl  1466.000000  1466.000000  Default  30.0000  30.0000\n",
       "316       game  1376.000000  1376.000000  Default  29.0000  29.0000\n",
       "99        3070  1387.000000  1387.000000  Default  28.0000  28.0000\n",
       "14         amd  3290.000000  3290.000000  Default  27.0000  27.0000\n",
       "5481      6800  1299.000000  1299.000000  Default  26.0000  26.0000\n",
       "...        ...          ...          ...      ...      ...      ...\n",
       "360    getting    87.991402   407.643883   Topic5  -5.6045   0.5693\n",
       "230       mean    89.728246   502.313872   Topic5  -5.5850   0.3800\n",
       "844      guess    78.834394   282.437414   Topic5  -5.7144   0.8263\n",
       "135   actually    82.710866   493.694795   Topic5  -5.6664   0.3159\n",
       "1327     order    77.111524   260.754744   Topic5  -5.7365   0.8841\n",
       "\n",
       "[380 rows x 6 columns], token_table=      Topic      Freq     Term\n",
       "term                          \n",
       "421       1  0.062257        0\n",
       "421       2  0.268483        0\n",
       "421       3  0.050584        0\n",
       "421       4  0.614787        0\n",
       "2758      5  0.962050   1070ti\n",
       "...     ...       ...      ...\n",
       "730       4  0.363335      yes\n",
       "730       5  0.100324      yes\n",
       "4783      3  0.986206  youtube\n",
       "383       1  0.149845      zen\n",
       "383       2  0.845124      zen\n",
       "\n",
       "[683 rows x 3 columns], R=30, lambda_step=0.01, plot_opts={'xlab': 'PC1', 'ylab': 'PC2'}, topic_order=[1, 3, 4, 2, 5])"
      ]
     },
     "execution_count": 16,
     "metadata": {},
     "output_type": "execute_result"
    }
   ],
   "source": [
    "# Visualize the topics for the bigram model\n",
    "pyLDAvis.enable_notebook()\n",
    "# Creates the filepath to save the html file\n",
    "LDAvis_data_filepath = os.path.join(os.getcwd()+'\\\\visualization\\\\'+ 'amd_' + 'bigram_' +'ldavis_prepared_'+str(num_topics))\n",
    "bigram_vis = pyLDAvis.gensim.prepare(lda_bigram_model, bigram_corpus, bigram_id2word)\n",
    "# Saves the graph as a html file to the LDAvis_data_filepath\n",
    "pyLDAvis.save_html(bigram_vis, os.getcwd()+ '\\\\visualization\\\\' + 'amd_' + 'bigram_' + 'ldavis_prepared_'+ str(num_topics) +'.html')\n",
    "bigram_vis"
   ]
  },
  {
   "cell_type": "markdown",
   "metadata": {
    "ExecuteTime": {
     "end_time": "2021-01-23T03:00:52.846161Z",
     "start_time": "2021-01-23T03:00:52.823140Z"
    }
   },
   "source": [
    "## Intrepeting the pyLDAvis graph\n",
    "\n",
    "Topics 1 and 2 have the largest bubble which shows the larger percentage of the documents belong to topic 1 and 2. They also overlap one another, which shows that they have close related to one another. Topic 4 is the furtherest apart from the other topics. The blue bars represent the overall term frequency of the corpus and the red bars represent the term frequency with regards to the topic.\n",
    "\n",
    "The GPU model terms tend to appear the most often in topic 1. Topic 2 discusses about the driver related issues with the AMD, Intel GPUs as well as the gaming consoles. Topic 3 discusses about the purchase of the GPUs and the stock availability of the GPUs during launch. Topic 4 mainly discusses about the features the GPUs provide such as ray tracing and super resolution. Topic 5 is quite similar to topic 3."
   ]
  },
  {
   "cell_type": "markdown",
   "metadata": {},
   "source": [
    "# LDA Mallet Model"
   ]
  },
  {
   "cell_type": "markdown",
   "metadata": {},
   "source": [
    "Notes:\n",
    "\n",
    "* Download [link](http://mallet.cs.umass.edu/download.php)\n",
    "* Need to install [JDK](https://www.oracle.com/java/technologies/javase-jdk15-downloads.html) (Java Development Kit) to make it work\n",
    "* Need to configure the [PATH file](https://docs.oracle.com/javase/10/install/installation-jdk-and-jre-microsoft-windows-platforms.htm#JSJIG-GUID-96EB3876-8C7A-4A25-9F3A-A2983FEC016A) after installing\n",
    "\n",
    "Go to *Importing the optimal mallet model pickle file* section if you've not installed the JDK"
   ]
  },
  {
   "cell_type": "markdown",
   "metadata": {},
   "source": [
    "LDA Mallet model often gives a better quality of topics compared to the LDA. I'll be creating to see if the coherence score is much greater than the LDA and if there's a greater intrepretability in the number of topics."
   ]
  },
  {
   "cell_type": "code",
   "execution_count": 17,
   "metadata": {
    "ExecuteTime": {
     "end_time": "2021-01-24T10:13:42.060017Z",
     "start_time": "2021-01-24T10:13:42.054011Z"
    }
   },
   "outputs": [
    {
     "data": {
      "text/plain": [
       "'C:/mallet/mallet-2.0.8/bin/mallet.bat'"
      ]
     },
     "execution_count": 17,
     "metadata": {},
     "output_type": "execute_result"
    }
   ],
   "source": [
    "# Update the environment path\n",
    "os.environ.update({'MALLET_HOME': r'C:\\mallet\\mallet-2.0.8'})\n",
    "mallet_path = r'C:/mallet/mallet-2.0.8/bin/mallet.bat'\n",
    "# prefix_path = r'C:/mallet/ga_capstone'\n",
    "mallet_path"
   ]
  },
  {
   "cell_type": "markdown",
   "metadata": {},
   "source": [
    "## Finding the best k topics for the mallet model"
   ]
  },
  {
   "cell_type": "code",
   "execution_count": 18,
   "metadata": {
    "ExecuteTime": {
     "end_time": "2021-01-24T10:13:42.076031Z",
     "start_time": "2021-01-24T10:13:42.060017Z"
    }
   },
   "outputs": [],
   "source": [
    "# Solution: Follow this\n",
    "def mallet_compute_coherence_values(dictionary, all_corpus, texts, limit, start=2, step=4):\n",
    "    \"\"\"\n",
    "    Compute c_v coherence for various number of topics\n",
    "\n",
    "    Parameters:\n",
    "    ----------\n",
    "    dictionary : Gensim dictionary\n",
    "    corpus : Gensim corpus\n",
    "    texts : List of input texts\n",
    "    num_topics_list: Number of topics\n",
    "    limit : Max num of topics\n",
    "\n",
    "    Returns:\n",
    "    -------\n",
    "    model_list : List of LDA topic models\n",
    "    coherence_values : Coherence values corresponding to the LDA model with respective number of topics\n",
    "    \"\"\"\n",
    "    \n",
    "    #For two lines below update with your path to new_mallet\n",
    "#     os.environ.update({'MALLET_HOME':r'C:\\Users\\Trogg\\Documents\\General Assembly DS 18\\dsi18-projects\\capstone\\mallet\\mallet-2.0.8'})\n",
    "#     mallet_path = r'C:\\Users\\Trogg\\Documents\\General Assembly DS 18\\dsi18-projects\\capstone\\mallet\\mallet-2.0.8\\bin\\mallet.bat'\n",
    "#     prefix_path = r'C:\\Users\\Trogg\\Documents\\General Assembly DS 18\\dsi18-projects\\capstone\\mallet files'\n",
    "    \n",
    "    coherence_values = []\n",
    "    model_list = []\n",
    "    num_topics_list = []\n",
    "\n",
    "\n",
    "    for num_topics in range(start, limit, step):\n",
    "        model = LdaMallet(mallet_path, corpus=all_corpus, num_topics=num_topics, id2word=dictionary, random_seed=42)\n",
    "        #model = gensim.models.ldamodel.LdaModel(corpus=all_corpus,num_topics=num_topics,id2word=dictionary,eval_every=1,\n",
    "        #                                        alpha='auto',random_state=42)\n",
    "        model_list.append(model)\n",
    "        coherencemodel = CoherenceModel(model=model, texts=texts, dictionary=dictionary, coherence='c_v')\n",
    "        coherence_values.append(coherencemodel.get_coherence())\n",
    "        num_topics_list.append(num_topics)\n",
    "\n",
    "    return model_list, coherence_values, num_topics_list"
   ]
  },
  {
   "cell_type": "code",
   "execution_count": 19,
   "metadata": {
    "ExecuteTime": {
     "end_time": "2021-01-24T10:25:49.274273Z",
     "start_time": "2021-01-24T10:13:42.077033Z"
    }
   },
   "outputs": [],
   "source": [
    "# Using Bigram as it has the highest coherence value\n",
    "model_list, coherence_values, num_topics_list = mallet_compute_coherence_values(dictionary=bigram_id2word, all_corpus=bigram_corpus,\n",
    "                                                                         texts=data_bigrams, start=1, limit=11, step=1)\n",
    "\n",
    "# Creating the dataframe to hold the model list, coherence values and the number of topics list\n",
    "model_values_df = pd.DataFrame({'model_list':model_list,'coherence_values':coherence_values,'num_topics':num_topics_list})\n",
    "\n",
    "# Finds the optimal number of topics based on the highest coherence score\n",
    "optimal_num_topics = model_values_df.loc[model_values_df['coherence_values'].idxmax()]['num_topics']\n",
    "\n",
    "# Train the model based on the optimal number of topics\n",
    "optimal_model = LdaMallet(mallet_path, corpus=bigram_corpus, num_topics=optimal_num_topics, id2word=bigram_id2word,\n",
    "                                                 prefix='amd_optimal_', random_seed=42)"
   ]
  },
  {
   "cell_type": "code",
   "execution_count": 20,
   "metadata": {
    "ExecuteTime": {
     "end_time": "2021-01-24T10:25:49.290288Z",
     "start_time": "2021-01-24T10:25:49.275275Z"
    }
   },
   "outputs": [
    {
     "data": {
      "text/html": [
       "<div>\n",
       "<style scoped>\n",
       "    .dataframe tbody tr th:only-of-type {\n",
       "        vertical-align: middle;\n",
       "    }\n",
       "\n",
       "    .dataframe tbody tr th {\n",
       "        vertical-align: top;\n",
       "    }\n",
       "\n",
       "    .dataframe thead th {\n",
       "        text-align: right;\n",
       "    }\n",
       "</style>\n",
       "<table border=\"1\" class=\"dataframe\">\n",
       "  <thead>\n",
       "    <tr style=\"text-align: right;\">\n",
       "      <th></th>\n",
       "      <th>model_list</th>\n",
       "      <th>coherence_values</th>\n",
       "      <th>num_topics</th>\n",
       "    </tr>\n",
       "  </thead>\n",
       "  <tbody>\n",
       "    <tr>\n",
       "      <th>0</th>\n",
       "      <td>&lt;gensim.models.wrappers.ldamallet.LdaMallet ob...</td>\n",
       "      <td>0.484625</td>\n",
       "      <td>1</td>\n",
       "    </tr>\n",
       "    <tr>\n",
       "      <th>1</th>\n",
       "      <td>&lt;gensim.models.wrappers.ldamallet.LdaMallet ob...</td>\n",
       "      <td>0.530476</td>\n",
       "      <td>2</td>\n",
       "    </tr>\n",
       "    <tr>\n",
       "      <th>2</th>\n",
       "      <td>&lt;gensim.models.wrappers.ldamallet.LdaMallet ob...</td>\n",
       "      <td>0.580871</td>\n",
       "      <td>3</td>\n",
       "    </tr>\n",
       "    <tr>\n",
       "      <th>3</th>\n",
       "      <td>&lt;gensim.models.wrappers.ldamallet.LdaMallet ob...</td>\n",
       "      <td>0.571967</td>\n",
       "      <td>4</td>\n",
       "    </tr>\n",
       "    <tr>\n",
       "      <th>4</th>\n",
       "      <td>&lt;gensim.models.wrappers.ldamallet.LdaMallet ob...</td>\n",
       "      <td>0.577880</td>\n",
       "      <td>5</td>\n",
       "    </tr>\n",
       "    <tr>\n",
       "      <th>5</th>\n",
       "      <td>&lt;gensim.models.wrappers.ldamallet.LdaMallet ob...</td>\n",
       "      <td>0.601955</td>\n",
       "      <td>6</td>\n",
       "    </tr>\n",
       "    <tr>\n",
       "      <th>6</th>\n",
       "      <td>&lt;gensim.models.wrappers.ldamallet.LdaMallet ob...</td>\n",
       "      <td>0.578097</td>\n",
       "      <td>7</td>\n",
       "    </tr>\n",
       "    <tr>\n",
       "      <th>7</th>\n",
       "      <td>&lt;gensim.models.wrappers.ldamallet.LdaMallet ob...</td>\n",
       "      <td>0.536723</td>\n",
       "      <td>8</td>\n",
       "    </tr>\n",
       "    <tr>\n",
       "      <th>8</th>\n",
       "      <td>&lt;gensim.models.wrappers.ldamallet.LdaMallet ob...</td>\n",
       "      <td>0.579866</td>\n",
       "      <td>9</td>\n",
       "    </tr>\n",
       "    <tr>\n",
       "      <th>9</th>\n",
       "      <td>&lt;gensim.models.wrappers.ldamallet.LdaMallet ob...</td>\n",
       "      <td>0.565798</td>\n",
       "      <td>10</td>\n",
       "    </tr>\n",
       "  </tbody>\n",
       "</table>\n",
       "</div>"
      ],
      "text/plain": [
       "                                          model_list  coherence_values  \\\n",
       "0  <gensim.models.wrappers.ldamallet.LdaMallet ob...          0.484625   \n",
       "1  <gensim.models.wrappers.ldamallet.LdaMallet ob...          0.530476   \n",
       "2  <gensim.models.wrappers.ldamallet.LdaMallet ob...          0.580871   \n",
       "3  <gensim.models.wrappers.ldamallet.LdaMallet ob...          0.571967   \n",
       "4  <gensim.models.wrappers.ldamallet.LdaMallet ob...          0.577880   \n",
       "5  <gensim.models.wrappers.ldamallet.LdaMallet ob...          0.601955   \n",
       "6  <gensim.models.wrappers.ldamallet.LdaMallet ob...          0.578097   \n",
       "7  <gensim.models.wrappers.ldamallet.LdaMallet ob...          0.536723   \n",
       "8  <gensim.models.wrappers.ldamallet.LdaMallet ob...          0.579866   \n",
       "9  <gensim.models.wrappers.ldamallet.LdaMallet ob...          0.565798   \n",
       "\n",
       "   num_topics  \n",
       "0           1  \n",
       "1           2  \n",
       "2           3  \n",
       "3           4  \n",
       "4           5  \n",
       "5           6  \n",
       "6           7  \n",
       "7           8  \n",
       "8           9  \n",
       "9          10  "
      ]
     },
     "execution_count": 20,
     "metadata": {},
     "output_type": "execute_result"
    }
   ],
   "source": [
    "model_values_df"
   ]
  },
  {
   "cell_type": "code",
   "execution_count": 21,
   "metadata": {
    "ExecuteTime": {
     "end_time": "2021-01-24T10:25:49.434420Z",
     "start_time": "2021-01-24T10:25:49.291290Z"
    },
    "scrolled": false
   },
   "outputs": [
    {
     "data": {
      "image/png": "[encoded data removed]",
      "text/plain": [
       "<Figure size 792x504 with 1 Axes>"
      ]
     },
     "metadata": {},
     "output_type": "display_data"
    }
   ],
   "source": [
    "# model_list, coherence_values = compute_coherence_values(dictionary=bigram_id2word, corpus=bigram_corpus, texts=data_bigrams, start=start, limit=limit, step=step)\n",
    "\n",
    "# Show graph\n",
    "\n",
    "x = model_values_df['num_topics'].values.tolist()\n",
    "\n",
    "plt.figure(figsize=(11,7))\n",
    "\n",
    "plt.plot(x, coherence_values)\n",
    "plt.xlabel(\"Num Topics\")\n",
    "plt.ylabel(\"Coherence score\")\n",
    "plt.legend([\"Coherence_values\"], loc='best')\n",
    "plt.show()"
   ]
  },
  {
   "cell_type": "markdown",
   "metadata": {},
   "source": [
    "The coherence score peaks at creating 6 topics before it plummets. "
   ]
  },
  {
   "cell_type": "code",
   "execution_count": 22,
   "metadata": {
    "ExecuteTime": {
     "end_time": "2021-01-24T10:25:49.450434Z",
     "start_time": "2021-01-24T10:25:49.435421Z"
    }
   },
   "outputs": [
    {
     "name": "stdout",
     "output_type": "stream",
     "text": [
      "Num Topics = 1  has Coherence Value of 0.4846\n",
      "Num Topics = 2  has Coherence Value of 0.5305\n",
      "Num Topics = 3  has Coherence Value of 0.5809\n",
      "Num Topics = 4  has Coherence Value of 0.572\n",
      "Num Topics = 5  has Coherence Value of 0.5779\n",
      "Num Topics = 6  has Coherence Value of 0.602\n",
      "Num Topics = 7  has Coherence Value of 0.5781\n",
      "Num Topics = 8  has Coherence Value of 0.5367\n",
      "Num Topics = 9  has Coherence Value of 0.5799\n",
      "Num Topics = 10  has Coherence Value of 0.5658\n"
     ]
    }
   ],
   "source": [
    "# Print the coherence scores\n",
    "for m, cv in zip(x, coherence_values):\n",
    "    print(\"Num Topics =\", m, \" has Coherence Value of\", round(cv, 4))"
   ]
  },
  {
   "cell_type": "markdown",
   "metadata": {},
   "source": [
    "Viewing the topics and checking if they make sense helps to decide how many topics is the optimal value. I'll be intrepreting the 5 and 6 topics."
   ]
  },
  {
   "cell_type": "markdown",
   "metadata": {},
   "source": [
    "## Exporting the optimal model to pickle file"
   ]
  },
  {
   "cell_type": "code",
   "execution_count": 30,
   "metadata": {
    "ExecuteTime": {
     "end_time": "2021-01-24T10:27:25.612524Z",
     "start_time": "2021-01-24T10:27:25.600513Z"
    }
   },
   "outputs": [],
   "source": [
    "# Save to file in the current working directory\n",
    "# Exporting the optimal model\n",
    "\n",
    "pkl_filename = \"./models/amd_optimal_ldamallet_model.pkl\"\n",
    "out_file = open(pkl_filename, 'wb')\n",
    "pickle.dump(optimal_model, out_file)\n",
    "out_file.close()"
   ]
  },
  {
   "cell_type": "markdown",
   "metadata": {},
   "source": [
    "## Exporting the 5 topics trained model to pickle file"
   ]
  },
  {
   "cell_type": "code",
   "execution_count": 31,
   "metadata": {
    "ExecuteTime": {
     "end_time": "2021-01-24T10:27:28.567623Z",
     "start_time": "2021-01-24T10:27:28.558624Z"
    }
   },
   "outputs": [],
   "source": [
    "# Save to file in the current working directory\n",
    "# Exporting the optimal model\n",
    "\n",
    "pkl_filename = \"./models/amd_5_topics_ldamallet_model.pkl\"\n",
    "out_file = open(pkl_filename, 'wb')\n",
    "pickle.dump(model_values_df['model_list'][4], out_file)\n",
    "out_file.close()"
   ]
  },
  {
   "cell_type": "markdown",
   "metadata": {},
   "source": [
    "## Importing the optimal mallet model pickle file"
   ]
  },
  {
   "cell_type": "code",
   "execution_count": 23,
   "metadata": {
    "ExecuteTime": {
     "end_time": "2021-01-24T10:25:49.466449Z",
     "start_time": "2021-01-24T10:25:49.453437Z"
    }
   },
   "outputs": [],
   "source": [
    "# pkl_filename = \"./models/amd_optimal_ldamallet_model.pkl\"\n",
    "# infile = open(pkl_filename,'rb')\n",
    "# optimal_model = pickle.load(infile)\n",
    "# infile.close()"
   ]
  },
  {
   "cell_type": "code",
   "execution_count": 24,
   "metadata": {
    "ExecuteTime": {
     "end_time": "2021-01-24T10:25:49.482463Z",
     "start_time": "2021-01-24T10:25:49.468452Z"
    }
   },
   "outputs": [],
   "source": [
    "# optimal_model"
   ]
  },
  {
   "cell_type": "markdown",
   "metadata": {},
   "source": [
    "## Importing the 5 topics mallet model pickle file"
   ]
  },
  {
   "cell_type": "code",
   "execution_count": 32,
   "metadata": {
    "ExecuteTime": {
     "end_time": "2021-01-24T10:27:32.333522Z",
     "start_time": "2021-01-24T10:27:32.320520Z"
    }
   },
   "outputs": [],
   "source": [
    "pkl_filename = \"./models/amd_5_topics_ldamallet_model.pkl\"\n",
    "infile = open(pkl_filename,'rb')\n",
    "topic_5_ldamallet = pickle.load(infile)\n",
    "infile.close()"
   ]
  },
  {
   "cell_type": "code",
   "execution_count": 26,
   "metadata": {
    "ExecuteTime": {
     "end_time": "2021-01-24T10:25:49.514492Z",
     "start_time": "2021-01-24T10:25:49.499479Z"
    }
   },
   "outputs": [],
   "source": [
    "# topic_5_ldamallet "
   ]
  },
  {
   "cell_type": "markdown",
   "metadata": {},
   "source": [
    "## Displaying topics for the optimal model (6 topics)"
   ]
  },
  {
   "cell_type": "code",
   "execution_count": 27,
   "metadata": {
    "ExecuteTime": {
     "end_time": "2021-01-24T10:25:49.530507Z",
     "start_time": "2021-01-24T10:25:49.515493Z"
    },
    "scrolled": true
   },
   "outputs": [
    {
     "name": "stdout",
     "output_type": "stream",
     "text": [
      "[(0,\n",
      "  [('price', 0.032120958751393536),\n",
      "   ('card', 0.024979096989966556),\n",
      "   ('point', 0.017628205128205128),\n",
      "   ('performance', 0.017244983277591972),\n",
      "   ('good', 0.015189520624303232),\n",
      "   ('memory', 0.014980490523968784),\n",
      "   ('lower', 0.012367614269788182),\n",
      "   ('bit', 0.012332775919732442),\n",
      "   ('power', 0.011845039018952062),\n",
      "   ('higher', 0.010869565217391304)]),\n",
      " (1,\n",
      "  [('gpu', 0.03760406377874982),\n",
      "   ('year', 0.026880203188937492),\n",
      "   ('amd', 0.0260688584732609),\n",
      "   ('cpu', 0.02575137575843093),\n",
      "   ('driver', 0.023599548469027797),\n",
      "   ('time', 0.019613376605051504),\n",
      "   ('issue', 0.015556653026668548),\n",
      "   ('work', 0.015344997883448569),\n",
      "   ('gpus', 0.012875687879215465),\n",
      "   ('intel', 0.012134894877945534)]),\n",
      " (2,\n",
      "  [('dl', 0.050555706153429116),\n",
      "   ('game', 0.048827595554350775),\n",
      "   ('rtx', 0.02809026836541068),\n",
      "   ('ray_tracing', 0.024939007861209),\n",
      "   ('performance', 0.024566278124152886),\n",
      "   ('rt', 0.019924098671726755),\n",
      "   ('feature', 0.019619137977771754),\n",
      "   ('4k', 0.01863648685280564),\n",
      "   ('support', 0.012571157495256167),\n",
      "   ('1440p', 0.01192735158579561)]),\n",
      " (3,\n",
      "  [('card', 0.07532599985430175),\n",
      "   ('wait', 0.022510381000947037),\n",
      "   ('stock', 0.0215633423180593),\n",
      "   ('buy', 0.01912289648138705),\n",
      "   ('launch', 0.01697384716252641),\n",
      "   ('lol', 0.015735411961827057),\n",
      "   ('release', 0.013331390689881257),\n",
      "   ('order', 0.01293072047789029),\n",
      "   ('day', 0.012639323960078677),\n",
      "   ('yeah', 0.01129161506519997)]),\n",
      " (4,\n",
      "  [('3080', 0.05595699375152721),\n",
      "   ('3070', 0.05162844276887632),\n",
      "   ('6800', 0.04880092156246727),\n",
      "   ('6800xt', 0.03326700876182497),\n",
      "   ('3090', 0.03326700876182497),\n",
      "   ('performance', 0.03089328725520997),\n",
      "   ('price', 0.026494920934129227),\n",
      "   ('vram', 0.022515446643627604),\n",
      "   ('6900xt', 0.019792648444863337),\n",
      "   ('benchmark', 0.018989772052920028)]),\n",
      " (5,\n",
      "  [('amd', 0.10322170411191182),\n",
      "   ('nvidia', 0.0903984739296312),\n",
      "   ('people', 0.038646319061749326),\n",
      "   ('good', 0.01798078281757807),\n",
      "   ('console', 0.017839480005652112),\n",
      "   ('thing', 0.01275257877631765),\n",
      "   ('series', 0.012611275964391691),\n",
      "   ('pc', 0.012540624558428713),\n",
      "   ('gen', 0.011339550657058075),\n",
      "   ('great', 0.011162922142150629)])]\n"
     ]
    }
   ],
   "source": [
    "pprint(optimal_model.show_topics(formatted=False))"
   ]
  },
  {
   "cell_type": "markdown",
   "metadata": {},
   "source": [
    "## Interpreting the 6 topics \n",
    "\n",
    "Topic 0\n",
    "* Comparing against the price and the performance\n",
    "\n",
    "Topic 1\n",
    "* Driver related issue\n",
    "\n",
    "Topic 2\n",
    "* GPU features: ray_tracing, dlss and resolutions: 1440p, 4K\n",
    "\n",
    "Topic 3\n",
    "* Stock availability during launch of GPUs\n",
    "\n",
    "Topic 4\n",
    "* Price and performance for GPU models\n",
    "\n",
    "Topic 5\n",
    "* Comparison against the gaming consoles and the pc"
   ]
  },
  {
   "cell_type": "markdown",
   "metadata": {},
   "source": [
    "## Displaying 5 topics"
   ]
  },
  {
   "cell_type": "code",
   "execution_count": 33,
   "metadata": {
    "ExecuteTime": {
     "end_time": "2021-01-24T10:27:48.414386Z",
     "start_time": "2021-01-24T10:27:48.399362Z"
    },
    "scrolled": true
   },
   "outputs": [
    {
     "name": "stdout",
     "output_type": "stream",
     "text": [
      "[(0,\n",
      "  [('people', 0.03236016209660721),\n",
      "   ('time', 0.024551128464519182),\n",
      "   ('year', 0.021770639216730264),\n",
      "   ('driver', 0.019788801135859437),\n",
      "   ('card', 0.017718224036442156),\n",
      "   ('buy', 0.01629839973969888),\n",
      "   ('gaming', 0.01576596562842015),\n",
      "   ('good', 0.01316295441772414),\n",
      "   ('work', 0.013074215399177686),\n",
      "   ('issue', 0.013044635726328867)]),\n",
      " (1,\n",
      "  [('card', 0.0672098385857033),\n",
      "   ('wait', 0.01900076863950807),\n",
      "   ('stock', 0.018201383551114527),\n",
      "   ('yeah', 0.01770945426594927),\n",
      "   ('launch', 0.014327440430438125),\n",
      "   ('lol', 0.013282090699461952),\n",
      "   ('release', 0.011252882398155264),\n",
      "   ('order', 0.01091468101460415),\n",
      "   ('day', 0.010668716372021521),\n",
      "   ('month', 0.009315910837817064)]),\n",
      " (2,\n",
      "  [('dl', 0.04290315159880377),\n",
      "   ('game', 0.04143662295836209),\n",
      "   ('performance', 0.036346905912123306),\n",
      "   ('rtx', 0.023838279273061883),\n",
      "   ('ray_tracing', 0.021164021164021163),\n",
      "   ('rt', 0.016908212560386472),\n",
      "   ('feature', 0.016649413388543824),\n",
      "   ('4k', 0.016390614216701172),\n",
      "   ('benchmark', 0.01572923855532551),\n",
      "   ('console', 0.01455026455026455)]),\n",
      " (3,\n",
      "  [('price', 0.04713965227145261),\n",
      "   ('3080', 0.044952327537857543),\n",
      "   ('3070', 0.041475042063937186),\n",
      "   ('6800', 0.039203589455973076),\n",
      "   ('6800xt', 0.026724621424565338),\n",
      "   ('3090', 0.026696578799775657),\n",
      "   ('performance', 0.023583847448121142),\n",
      "   ('vram', 0.0180874929893438),\n",
      "   ('6900xt', 0.015900168255748737),\n",
      "   ('xt', 0.013180033651149748)]),\n",
      " (4,\n",
      "  [('amd', 0.10703113579885981),\n",
      "   ('nvidia', 0.0757783949714954),\n",
      "   ('gpu', 0.031165034351702967),\n",
      "   ('cpu', 0.021400380061394532),\n",
      "   ('memory', 0.01257126151147493),\n",
      "   ('gpus', 0.010670954538810116),\n",
      "   ('series', 0.010437070603712907),\n",
      "   ('end', 0.010086244701067096),\n",
      "   ('intel', 0.010057009209179945),\n",
      "   ('market', 0.008098231252740827)])]\n"
     ]
    }
   ],
   "source": [
    "pprint(topic_5_ldamallet.show_topics(formatted=False))"
   ]
  },
  {
   "cell_type": "markdown",
   "metadata": {},
   "source": [
    "## Interpreting the 5 topics \n",
    "\n",
    "Topic 0\n",
    "* Driver related issue\n",
    "\n",
    "Topic 1\n",
    "* Stock availability\n",
    "\n",
    "Topic 2\n",
    "* GPU features: ray_tracing, dlss and resolutions: 1440p, 4K\n",
    "\n",
    "Topic 3\n",
    "* Price and performance for GPU models\n",
    "\n",
    "Topic 4\n",
    "* Have to do with intel, amd and Nvidia cpu and gpus. Unable to intrepret well. "
   ]
  },
  {
   "cell_type": "markdown",
   "metadata": {},
   "source": [
    "As I find the 6 topics to be the most intrepretable as well as it's one of the highest coherence score among the other models, I'll be selecting to it to move forward with the project."
   ]
  },
  {
   "cell_type": "markdown",
   "metadata": {},
   "source": [
    "# Finding the dominant topic in each sentence"
   ]
  },
  {
   "cell_type": "markdown",
   "metadata": {},
   "source": [
    "I would like to investigate the dominant topics for the documents and see if it makes sense."
   ]
  },
  {
   "cell_type": "code",
   "execution_count": 34,
   "metadata": {
    "ExecuteTime": {
     "end_time": "2021-01-24T10:28:00.182953Z",
     "start_time": "2021-01-24T10:28:00.175946Z"
    }
   },
   "outputs": [],
   "source": [
    "def format_topics_sentences(ldamodel, corpus, texts):\n",
    "    # Init output\n",
    "    sent_topics_df = pd.DataFrame()\n",
    "\n",
    "    # Get main topic in each document\n",
    "    for _, row in enumerate(ldamodel[corpus]): # ldamodel[corpus] --> Provides a list of the probability values of which topic a document belongs to\n",
    "        row = sorted(row, key=lambda x: (x[1]), reverse=True) # Sorts the probabilities of a document is descending order\n",
    "        # Get the Dominant topic, Perc Contribution and Keywords for each document\n",
    "        for j, (topic_num, prop_topic) in enumerate(row):\n",
    "            if j == 0:  # => dominant topic (As it's sorted in descending order, the highest probability is the first topic which is index 0)\n",
    "                wp = ldamodel.show_topic(topic_num) # Obtain the dominant topic for the document\n",
    "                topic_keywords = \", \".join([word for word, prop in wp]) # Gets the topic keys words for the topic\n",
    "                sent_topics_df = sent_topics_df.append(pd.Series([int(topic_num), round(prop_topic,4), topic_keywords]), ignore_index=True)\n",
    "            else:\n",
    "                break\n",
    "    sent_topics_df.columns = ['Dominant_Topic', 'Perc_Contribution', 'Topic_Keywords']\n",
    "\n",
    "    # Add original text to the end of the output\n",
    "    contents = pd.Series(texts)\n",
    "    sent_topics_df = pd.concat([sent_topics_df, contents], axis=1)\n",
    "    return sent_topics_df"
   ]
  },
  {
   "cell_type": "markdown",
   "metadata": {},
   "source": [
    "Notes: The last model trained **must match** with the last optimal_file_doctopics text file. If not, there will be an error message."
   ]
  },
  {
   "cell_type": "code",
   "execution_count": 35,
   "metadata": {
    "ExecuteTime": {
     "end_time": "2021-01-24T10:28:00.214982Z",
     "start_time": "2021-01-24T10:28:00.183953Z"
    }
   },
   "outputs": [],
   "source": [
    "# Retrain the model if you've have not done so\n",
    "# optimal_num_topics = 6\n",
    "# optimal_model = LdaMallet(mallet_path, corpus=bigram_corpus, num_topics=optimal_num_topics, id2word=bigram_id2word,\n",
    "#                                                  prefix='optimal_', random_seed=42)"
   ]
  },
  {
   "cell_type": "code",
   "execution_count": 36,
   "metadata": {
    "ExecuteTime": {
     "end_time": "2021-01-24T10:28:27.976361Z",
     "start_time": "2021-01-24T10:28:00.215983Z"
    }
   },
   "outputs": [
    {
     "data": {
      "text/html": [
       "<div>\n",
       "<style scoped>\n",
       "    .dataframe tbody tr th:only-of-type {\n",
       "        vertical-align: middle;\n",
       "    }\n",
       "\n",
       "    .dataframe tbody tr th {\n",
       "        vertical-align: top;\n",
       "    }\n",
       "\n",
       "    .dataframe thead th {\n",
       "        text-align: right;\n",
       "    }\n",
       "</style>\n",
       "<table border=\"1\" class=\"dataframe\">\n",
       "  <thead>\n",
       "    <tr style=\"text-align: right;\">\n",
       "      <th></th>\n",
       "      <th>Document_No</th>\n",
       "      <th>Dominant_Topic</th>\n",
       "      <th>Topic_Perc_Contrib</th>\n",
       "      <th>Keywords</th>\n",
       "      <th>Document</th>\n",
       "    </tr>\n",
       "  </thead>\n",
       "  <tbody>\n",
       "    <tr>\n",
       "      <th>0</th>\n",
       "      <td>0</td>\n",
       "      <td>0.0</td>\n",
       "      <td>0.2138</td>\n",
       "      <td>price, card, point, performance, good, memory,...</td>\n",
       "      <td>[sound, samsung_8nm, cheap]</td>\n",
       "    </tr>\n",
       "    <tr>\n",
       "      <th>1</th>\n",
       "      <td>1</td>\n",
       "      <td>5.0</td>\n",
       "      <td>0.2058</td>\n",
       "      <td>amd, nvidia, people, good, console, thing, ser...</td>\n",
       "      <td>[ethic, mongol, invasion, tech]</td>\n",
       "    </tr>\n",
       "    <tr>\n",
       "      <th>2</th>\n",
       "      <td>2</td>\n",
       "      <td>2.0</td>\n",
       "      <td>0.2086</td>\n",
       "      <td>dl, game, rtx, ray_tracing, performance, rt, f...</td>\n",
       "      <td>[nvidia, software, ai, learning, big, selling,...</td>\n",
       "    </tr>\n",
       "    <tr>\n",
       "      <th>3</th>\n",
       "      <td>3</td>\n",
       "      <td>5.0</td>\n",
       "      <td>0.2339</td>\n",
       "      <td>amd, nvidia, people, good, console, thing, ser...</td>\n",
       "      <td>[excited, amd, guy, compete, going, nvidia, br...</td>\n",
       "    </tr>\n",
       "    <tr>\n",
       "      <th>4</th>\n",
       "      <td>4</td>\n",
       "      <td>5.0</td>\n",
       "      <td>0.1907</td>\n",
       "      <td>amd, nvidia, people, good, console, thing, ser...</td>\n",
       "      <td>[think, nvidia, actualy, competing, new, conso...</td>\n",
       "    </tr>\n",
       "    <tr>\n",
       "      <th>5</th>\n",
       "      <td>5</td>\n",
       "      <td>0.0</td>\n",
       "      <td>0.2377</td>\n",
       "      <td>price, card, point, performance, good, memory,...</td>\n",
       "      <td>[reputable, leak, rdna2, say, 40, 50, faster, ...</td>\n",
       "    </tr>\n",
       "    <tr>\n",
       "      <th>6</th>\n",
       "      <td>6</td>\n",
       "      <td>5.0</td>\n",
       "      <td>0.3282</td>\n",
       "      <td>amd, nvidia, people, good, console, thing, ser...</td>\n",
       "      <td>[im, sure, amd, good, rdna, generation, rt, im...</td>\n",
       "    </tr>\n",
       "    <tr>\n",
       "      <th>7</th>\n",
       "      <td>7</td>\n",
       "      <td>0.0</td>\n",
       "      <td>0.1927</td>\n",
       "      <td>price, card, point, performance, good, memory,...</td>\n",
       "      <td>[b4, refresh, ampere, 7nm, throw, dirt, wound,...</td>\n",
       "    </tr>\n",
       "    <tr>\n",
       "      <th>8</th>\n",
       "      <td>8</td>\n",
       "      <td>4.0</td>\n",
       "      <td>0.2459</td>\n",
       "      <td>3080, 3070, 6800, 6800xt, 3090, performance, p...</td>\n",
       "      <td>[thread, deleted, aswell, post, r, p, amd, off...</td>\n",
       "    </tr>\n",
       "    <tr>\n",
       "      <th>9</th>\n",
       "      <td>9</td>\n",
       "      <td>1.0</td>\n",
       "      <td>0.1786</td>\n",
       "      <td>gpu, year, amd, cpu, driver, time, issue, work...</td>\n",
       "      <td>[amd, going, need, pull, double, performance, ...</td>\n",
       "    </tr>\n",
       "  </tbody>\n",
       "</table>\n",
       "</div>"
      ],
      "text/plain": [
       "   Document_No  Dominant_Topic  Topic_Perc_Contrib  \\\n",
       "0            0             0.0              0.2138   \n",
       "1            1             5.0              0.2058   \n",
       "2            2             2.0              0.2086   \n",
       "3            3             5.0              0.2339   \n",
       "4            4             5.0              0.1907   \n",
       "5            5             0.0              0.2377   \n",
       "6            6             5.0              0.3282   \n",
       "7            7             0.0              0.1927   \n",
       "8            8             4.0              0.2459   \n",
       "9            9             1.0              0.1786   \n",
       "\n",
       "                                            Keywords  \\\n",
       "0  price, card, point, performance, good, memory,...   \n",
       "1  amd, nvidia, people, good, console, thing, ser...   \n",
       "2  dl, game, rtx, ray_tracing, performance, rt, f...   \n",
       "3  amd, nvidia, people, good, console, thing, ser...   \n",
       "4  amd, nvidia, people, good, console, thing, ser...   \n",
       "5  price, card, point, performance, good, memory,...   \n",
       "6  amd, nvidia, people, good, console, thing, ser...   \n",
       "7  price, card, point, performance, good, memory,...   \n",
       "8  3080, 3070, 6800, 6800xt, 3090, performance, p...   \n",
       "9  gpu, year, amd, cpu, driver, time, issue, work...   \n",
       "\n",
       "                                            Document  \n",
       "0                        [sound, samsung_8nm, cheap]  \n",
       "1                    [ethic, mongol, invasion, tech]  \n",
       "2  [nvidia, software, ai, learning, big, selling,...  \n",
       "3  [excited, amd, guy, compete, going, nvidia, br...  \n",
       "4  [think, nvidia, actualy, competing, new, conso...  \n",
       "5  [reputable, leak, rdna2, say, 40, 50, faster, ...  \n",
       "6  [im, sure, amd, good, rdna, generation, rt, im...  \n",
       "7  [b4, refresh, ampere, 7nm, throw, dirt, wound,...  \n",
       "8  [thread, deleted, aswell, post, r, p, amd, off...  \n",
       "9  [amd, going, need, pull, double, performance, ...  "
      ]
     },
     "execution_count": 36,
     "metadata": {},
     "output_type": "execute_result"
    }
   ],
   "source": [
    "df_topic_sents_keywords = format_topics_sentences(ldamodel=optimal_model, corpus=bigram_corpus, texts=data_bigrams)\n",
    "\n",
    "# Format\n",
    "df_dominant_topic = df_topic_sents_keywords.reset_index()\n",
    "df_dominant_topic.columns = ['Document_No', 'Dominant_Topic', 'Topic_Perc_Contrib', 'Keywords', 'Document']\n",
    "\n",
    "# Show\n",
    "df_dominant_topic.head(10)"
   ]
  },
  {
   "cell_type": "code",
   "execution_count": 37,
   "metadata": {
    "ExecuteTime": {
     "end_time": "2021-01-24T10:28:27.988372Z",
     "start_time": "2021-01-24T10:28:27.977363Z"
    }
   },
   "outputs": [],
   "source": [
    "# Sort the dataframe in ascending order by the topic percentage contribution\n",
    "df_dominant_topic_sorted = df_dominant_topic.sort_values('Topic_Perc_Contrib', ascending=False)\n",
    "idx = np.random.randint(df_dominant_topic_sorted.shape[0])\n",
    "# idx = 250\n",
    "document = df_dominant_topic_sorted[['Document']].iloc[idx].values\n",
    "dominant_topic = df_dominant_topic_sorted[['Dominant_Topic']].iloc[idx].values\n",
    "dominant_keywords = df_dominant_topic_sorted[['Keywords']].iloc[idx].values"
   ]
  },
  {
   "cell_type": "code",
   "execution_count": 38,
   "metadata": {
    "ExecuteTime": {
     "end_time": "2021-01-24T10:28:28.004387Z",
     "start_time": "2021-01-24T10:28:27.989373Z"
    }
   },
   "outputs": [
    {
     "name": "stdout",
     "output_type": "stream",
     "text": [
      "Dominant keywords: ['3080, 3070, 6800, 6800xt, 3090, performance, price, vram, 6900xt, benchmark'] \n",
      "\n",
      "Document:[list(['ahh', 'yeah', '6800', 'weird', 'place', 'pricing', 'wise', 'saving', 'room', '6700', 'xt', 'fight', '3070'])]\n"
     ]
    }
   ],
   "source": [
    "print(f'Dominant keywords: {dominant_keywords} \\n\\nDocument:{document}')"
   ]
  },
  {
   "cell_type": "markdown",
   "metadata": {},
   "source": [
    "The document is relating to the price and performance of AMD against the Nividia's pascal and ampere's generation of GPUs as well as discussing about the Thermal Design Power (TDP) in which the GPUs generate heat and draw electricity as `100w` was seen in the document. "
   ]
  },
  {
   "cell_type": "code",
   "execution_count": 39,
   "metadata": {
    "ExecuteTime": {
     "end_time": "2021-01-24T10:28:28.020454Z",
     "start_time": "2021-01-24T10:28:28.005389Z"
    }
   },
   "outputs": [
    {
     "name": "stdout",
     "output_type": "stream",
     "text": [
      "Dominant keywords: ['3080, 3070, 6800, 6800xt, 3090, performance, price, vram, 6900xt, benchmark'] \n",
      "\n",
      " Document:[list(['ahh', 'yeah', '6800', 'weird', 'place', 'pricing', 'wise', 'saving', 'room', '6700', 'xt', 'fight', '3070'])]\n"
     ]
    }
   ],
   "source": [
    "print(f'Dominant keywords: {dominant_keywords} \\n\\n Document:{document}')"
   ]
  },
  {
   "cell_type": "markdown",
   "metadata": {
    "ExecuteTime": {
     "end_time": "2021-01-23T09:46:19.862202Z",
     "start_time": "2021-01-23T09:46:19.847189Z"
    }
   },
   "source": [
    "In the above document, the dominant keywords reflect the document with purchasing a GPU. "
   ]
  },
  {
   "cell_type": "markdown",
   "metadata": {},
   "source": [
    "# Find the most representative document for each topic"
   ]
  },
  {
   "cell_type": "code",
   "execution_count": 40,
   "metadata": {
    "ExecuteTime": {
     "end_time": "2021-01-24T10:28:28.052482Z",
     "start_time": "2021-01-24T10:28:28.021455Z"
    }
   },
   "outputs": [
    {
     "data": {
      "text/html": [
       "<div>\n",
       "<style scoped>\n",
       "    .dataframe tbody tr th:only-of-type {\n",
       "        vertical-align: middle;\n",
       "    }\n",
       "\n",
       "    .dataframe tbody tr th {\n",
       "        vertical-align: top;\n",
       "    }\n",
       "\n",
       "    .dataframe thead th {\n",
       "        text-align: right;\n",
       "    }\n",
       "</style>\n",
       "<table border=\"1\" class=\"dataframe\">\n",
       "  <thead>\n",
       "    <tr style=\"text-align: right;\">\n",
       "      <th></th>\n",
       "      <th>Topic_Num</th>\n",
       "      <th>Topic_Perc_Contrib</th>\n",
       "      <th>Keywords</th>\n",
       "      <th>Representative Text</th>\n",
       "    </tr>\n",
       "  </thead>\n",
       "  <tbody>\n",
       "    <tr>\n",
       "      <th>0</th>\n",
       "      <td>0.0</td>\n",
       "      <td>0.6580</td>\n",
       "      <td>price, card, point, performance, good, memory,...</td>\n",
       "      <td>[corrected, multiple, time, insinuating, decis...</td>\n",
       "    </tr>\n",
       "    <tr>\n",
       "      <th>1</th>\n",
       "      <td>1.0</td>\n",
       "      <td>0.5616</td>\n",
       "      <td>gpu, year, amd, cpu, driver, time, issue, work...</td>\n",
       "      <td>[selection, frame, index, 0, excludes, type, x...</td>\n",
       "    </tr>\n",
       "    <tr>\n",
       "      <th>2</th>\n",
       "      <td>2.0</td>\n",
       "      <td>0.6588</td>\n",
       "      <td>dl, game, rtx, ray_tracing, performance, rt, f...</td>\n",
       "      <td>[real, time, ray_tracing, path, forward, agree...</td>\n",
       "    </tr>\n",
       "    <tr>\n",
       "      <th>3</th>\n",
       "      <td>3.0</td>\n",
       "      <td>0.5434</td>\n",
       "      <td>card, wait, stock, buy, launch, lol, release, ...</td>\n",
       "      <td>[alright, called, couple, cc, location, 4038, ...</td>\n",
       "    </tr>\n",
       "    <tr>\n",
       "      <th>4</th>\n",
       "      <td>4.0</td>\n",
       "      <td>0.5367</td>\n",
       "      <td>3080, 3070, 6800, 6800xt, 3090, performance, p...</td>\n",
       "      <td>[3090, gaming, card, titan, class, performance...</td>\n",
       "    </tr>\n",
       "    <tr>\n",
       "      <th>5</th>\n",
       "      <td>5.0</td>\n",
       "      <td>0.3884</td>\n",
       "      <td>amd, nvidia, people, good, console, thing, ser...</td>\n",
       "      <td>[hey, calculator, turing, complete, including,...</td>\n",
       "    </tr>\n",
       "  </tbody>\n",
       "</table>\n",
       "</div>"
      ],
      "text/plain": [
       "   Topic_Num  Topic_Perc_Contrib  \\\n",
       "0        0.0              0.6580   \n",
       "1        1.0              0.5616   \n",
       "2        2.0              0.6588   \n",
       "3        3.0              0.5434   \n",
       "4        4.0              0.5367   \n",
       "5        5.0              0.3884   \n",
       "\n",
       "                                            Keywords  \\\n",
       "0  price, card, point, performance, good, memory,...   \n",
       "1  gpu, year, amd, cpu, driver, time, issue, work...   \n",
       "2  dl, game, rtx, ray_tracing, performance, rt, f...   \n",
       "3  card, wait, stock, buy, launch, lol, release, ...   \n",
       "4  3080, 3070, 6800, 6800xt, 3090, performance, p...   \n",
       "5  amd, nvidia, people, good, console, thing, ser...   \n",
       "\n",
       "                                 Representative Text  \n",
       "0  [corrected, multiple, time, insinuating, decis...  \n",
       "1  [selection, frame, index, 0, excludes, type, x...  \n",
       "2  [real, time, ray_tracing, path, forward, agree...  \n",
       "3  [alright, called, couple, cc, location, 4038, ...  \n",
       "4  [3090, gaming, card, titan, class, performance...  \n",
       "5  [hey, calculator, turing, complete, including,...  "
      ]
     },
     "execution_count": 40,
     "metadata": {},
     "output_type": "execute_result"
    }
   ],
   "source": [
    "sent_topics_sorteddf_mallet = pd.DataFrame()\n",
    "sent_topics_outdf_grpd = df_topic_sents_keywords.groupby('Dominant_Topic')\n",
    "\n",
    "for i, grp in sent_topics_outdf_grpd:\n",
    "    sent_topics_sorteddf_mallet = pd.concat([sent_topics_sorteddf_mallet, \n",
    "                                             grp.sort_values(['Perc_Contribution'], ascending=False).head(1)], \n",
    "                                            axis=0)\n",
    "\n",
    "# Reset Index    \n",
    "sent_topics_sorteddf_mallet.reset_index(drop=True, inplace=True)\n",
    "\n",
    "# Format the columns\n",
    "sent_topics_sorteddf_mallet.columns = ['Topic_Num', \"Topic_Perc_Contrib\", \"Keywords\", \"Representative Text\"]\n",
    "\n",
    "# Show\n",
    "sent_topics_sorteddf_mallet.head(10)"
   ]
  },
  {
   "cell_type": "markdown",
   "metadata": {},
   "source": [
    "## Most representative document for Topic 0"
   ]
  },
  {
   "cell_type": "code",
   "execution_count": 41,
   "metadata": {
    "ExecuteTime": {
     "end_time": "2021-01-24T10:28:28.068497Z",
     "start_time": "2021-01-24T10:28:28.054484Z"
    }
   },
   "outputs": [],
   "source": [
    "# Create a helper function to display the most representative documents for a topic\n",
    "def display_representative_document(topic_n, df):\n",
    "    dominant_keywords = df['Keywords'].loc[topic_n]\n",
    "    document_topic = \" \".join(df['Representative Text'].loc[topic_n])\n",
    "    \n",
    "    print(f'*******Topic {topic_n}********\\n\\nDominant keywords: {dominant_keywords} \\n\\nDocument:{document_topic}')"
   ]
  },
  {
   "cell_type": "code",
   "execution_count": 42,
   "metadata": {
    "ExecuteTime": {
     "end_time": "2021-01-24T10:28:28.084512Z",
     "start_time": "2021-01-24T10:28:28.069498Z"
    }
   },
   "outputs": [
    {
     "name": "stdout",
     "output_type": "stream",
     "text": [
      "*******Topic 0********\n",
      "\n",
      "Dominant keywords: price, card, point, performance, good, memory, lower, bit, power, higher \n",
      "\n",
      "Document:corrected multiple time insinuating decision stem 700 msrp card mentioned comment bud wrong disclosed reply comment original reply stated sounded bad idea original comment disclosed information original reply said sounded bad idea possible different conclusion different circumstance clarified simply said performance 6800xt obviously 6900xt expensive imply terrible_idea simply implied look worth trouble insinuate decision stem 700 msrp insinuated terrible_idea upset look r hardwareswap selling 3080s loss arguing entirely bad faith point cared paid 150 base 700 msrp place decision entirely stem 850 price point time repeat stop twisting single word fuck word twist care r hardwareswap rate 3080 aways talking price launch date new radeon card later imagined talking usual case_scenario reason sound calm f buddy completely blind think sell card right 850 card model stated comment learn read stop backtracking literally comment insanely delusional backtrack word help argument imagine quoted example labeled extreme example situation exemplify particular situation bad idea originaly said sounded msrp value card higher price wow finally came term rest comment based situation literally making shit pretend argument good job cya lmao buddy rough day know example want google\n"
     ]
    }
   ],
   "source": [
    "display_representative_document(0, sent_topics_sorteddf_mallet)"
   ]
  },
  {
   "cell_type": "markdown",
   "metadata": {},
   "source": [
    "The document talks about the price and performance of AMD's 6800xt and 6900xt which fits the topic of the `price` and `performance` of the card."
   ]
  },
  {
   "cell_type": "markdown",
   "metadata": {},
   "source": [
    "## Most representative document for Topic 1"
   ]
  },
  {
   "cell_type": "code",
   "execution_count": 43,
   "metadata": {
    "ExecuteTime": {
     "end_time": "2021-01-24T10:28:28.116546Z",
     "start_time": "2021-01-24T10:28:28.085513Z"
    }
   },
   "outputs": [
    {
     "name": "stdout",
     "output_type": "stream",
     "text": [
      "*******Topic 1********\n",
      "\n",
      "Dominant keywords: gpu, year, amd, cpu, driver, time, issue, work, gpus, intel \n",
      "\n",
      "Document:selection frame index 0 excludes type xpath expr body main role main div_class layout content div_contains class region div_contains class block div_class container div_class row flex h4 includes type xpath expr body main role main div_class layout content div_contains class region div_contains class block div_class container div_class row flex div dynamic true delay 0 ignoreemptytext true includestyle false dataattr text make_sense thanks\n"
     ]
    }
   ],
   "source": [
    "display_representative_document(1, sent_topics_sorteddf_mallet)"
   ]
  },
  {
   "cell_type": "markdown",
   "metadata": {
    "ExecuteTime": {
     "end_time": "2021-01-24T01:39:13.797937Z",
     "start_time": "2021-01-24T01:39:13.790930Z"
    }
   },
   "source": [
    "The document does not make sense as it's talking about HTML syntaxes which the model poorly interpreted."
   ]
  },
  {
   "cell_type": "markdown",
   "metadata": {},
   "source": [
    "## Most representative document for Topic 2"
   ]
  },
  {
   "cell_type": "code",
   "execution_count": 44,
   "metadata": {
    "ExecuteTime": {
     "end_time": "2021-01-24T10:28:28.132560Z",
     "start_time": "2021-01-24T10:28:28.117548Z"
    }
   },
   "outputs": [
    {
     "name": "stdout",
     "output_type": "stream",
     "text": [
      "*******Topic 2********\n",
      "\n",
      "Dominant keywords: dl, game, rtx, ray_tracing, performance, rt, feature, 4k, support, 1440p \n",
      "\n",
      "Document:real time ray_tracing path forward agrees equally easy argue example ray_tracing insanely computationally expensive push higher higher resolution jumping 1080p 1440p 4k adding big load gpus ray_tracing exacerbates essentially enabling ray_tracing half performance huge performance hit think agree hit generally getting ray_tracing effect certain area example ray_traced environmental lighting effect muzzle trade lighting option severe performance penalty computational cost high best cast ray pixel enormously far realistic rendering theoretically say need cast 500 ray pixel simulate trying thing forward struggling performance hit severe casting abysmal ray end massively noisy image requires effort denoise performance awful supersampling upscale honestly think ray_tracing premature way forward completely agree ray cast limitation type lighting apply cost incurs current resolution remedy denoising upsampling fix huge unfortunately cat bag going think amd approach hybridization bvh traversal make_sense push traditional rasterization support rt leverage cu enable dedicating huge portion die leverage effect tradeoff performance make_sense visually\n"
     ]
    }
   ],
   "source": [
    "display_representative_document(2, sent_topics_sorteddf_mallet)"
   ]
  },
  {
   "cell_type": "markdown",
   "metadata": {},
   "source": [
    "The document discusses about [ray tracing](https://www.techradar.com/news/ray-tracing) which gives more lifelike shadows and reflections, along with much-improved translucence and scattering in games. This fits the topic in which it has the keyword `ray_tracing`, `performance`."
   ]
  },
  {
   "cell_type": "markdown",
   "metadata": {},
   "source": [
    "## Most representative document for Topic 3"
   ]
  },
  {
   "cell_type": "code",
   "execution_count": 45,
   "metadata": {
    "ExecuteTime": {
     "end_time": "2021-01-24T10:28:28.164590Z",
     "start_time": "2021-01-24T10:28:28.133562Z"
    }
   },
   "outputs": [
    {
     "name": "stdout",
     "output_type": "stream",
     "text": [
      "*******Topic 3********\n",
      "\n",
      "Dominant keywords: card, wait, stock, buy, launch, lol, release, order, day, yeah \n",
      "\n",
      "Document:alright called couple cc location 4038 hwy 7 unionville personal fav 6600 yonge st manager unionville sure 6800xt card tmr allow pre_order partner card preorders reference version priority taking pre_order reference card apparently come head office rep spoke manager centerpoint know tmr unlikely taking pre_order mixed message existing pre_order priority partner pre_order location belief reference card existing order need fulfill aib card absolutely word model going coming\n"
     ]
    }
   ],
   "source": [
    "display_representative_document(3, sent_topics_sorteddf_mallet)"
   ]
  },
  {
   "cell_type": "markdown",
   "metadata": {},
   "source": [
    "The document talks about the pre ordering AMD's 6800xt which fits the topic on purchasing a GPU during the GPU's launch"
   ]
  },
  {
   "cell_type": "markdown",
   "metadata": {},
   "source": [
    "## Most representative document for Topic 4"
   ]
  },
  {
   "cell_type": "code",
   "execution_count": 46,
   "metadata": {
    "ExecuteTime": {
     "end_time": "2021-01-24T10:28:28.179603Z",
     "start_time": "2021-01-24T10:28:28.165591Z"
    }
   },
   "outputs": [
    {
     "name": "stdout",
     "output_type": "stream",
     "text": [
      "*******Topic 4********\n",
      "\n",
      "Dominant keywords: 3080, 3070, 6800, 6800xt, 3090, performance, price, vram, 6900xt, benchmark \n",
      "\n",
      "Document:3090 gaming card titan class performance 3090 successor 2080_ti confused according titan 2080_ti successor lol pick dude 911 stroking aib 6800 xt probably able match 3090 overclocking 3080 match 3090 completely ignored 6900_xt exists match 3090 dumb quesetion ahem 6900xt exists match 3090 amd allow 6800xt match 6900xt performance ergo let buy essentially gpu 650 equivalent performance 6900xt selling 6900xt 1000 word 6900xt 3090 claim 6800xt 3090 claiming 6800xt 6900xt equivalently 650 1000 obviously sense\n"
     ]
    }
   ],
   "source": [
    "display_representative_document(4, sent_topics_sorteddf_mallet)"
   ]
  },
  {
   "cell_type": "markdown",
   "metadata": {},
   "source": [
    "The document compares Nvidia's GPUs, the 3070, 3080 and the 3090 against AMD's GPUs, the 6800, 6800xt and the 6900xt which adequately matches the topic."
   ]
  },
  {
   "cell_type": "markdown",
   "metadata": {},
   "source": [
    "## Most representative document for Topic 5"
   ]
  },
  {
   "cell_type": "code",
   "execution_count": 47,
   "metadata": {
    "ExecuteTime": {
     "end_time": "2021-01-24T10:28:28.210638Z",
     "start_time": "2021-01-24T10:28:28.180604Z"
    }
   },
   "outputs": [
    {
     "name": "stdout",
     "output_type": "stream",
     "text": [
      "*******Topic 5********\n",
      "\n",
      "Dominant keywords: amd, nvidia, people, good, console, thing, series, pc, gen, great \n",
      "\n",
      "Document:hey calculator turing complete including fridge calculator sim card cell phone actually universal definition profession people called computer interesting gray area consider people computer turing complete error prone slow task implication pretty wild calculator memory run modern video game pc literally single thing level turing machine obviously poor performance impractical purpose playing game computer programmer rule world peace\n"
     ]
    }
   ],
   "source": [
    "display_representative_document(5, sent_topics_sorteddf_mallet)"
   ]
  },
  {
   "cell_type": "markdown",
   "metadata": {},
   "source": [
    "Unable to intrepret the document well as it discusses about the turing complete machine, whereas the topic discusses about the PC and gaming consoles."
   ]
  },
  {
   "cell_type": "markdown",
   "metadata": {},
   "source": [
    "# Topic distribution across documents"
   ]
  },
  {
   "cell_type": "code",
   "execution_count": 48,
   "metadata": {
    "ExecuteTime": {
     "end_time": "2021-01-24T10:28:28.242666Z",
     "start_time": "2021-01-24T10:28:28.211638Z"
    }
   },
   "outputs": [
    {
     "data": {
      "text/html": [
       "<div>\n",
       "<style scoped>\n",
       "    .dataframe tbody tr th:only-of-type {\n",
       "        vertical-align: middle;\n",
       "    }\n",
       "\n",
       "    .dataframe tbody tr th {\n",
       "        vertical-align: top;\n",
       "    }\n",
       "\n",
       "    .dataframe thead th {\n",
       "        text-align: right;\n",
       "    }\n",
       "</style>\n",
       "<table border=\"1\" class=\"dataframe\">\n",
       "  <thead>\n",
       "    <tr style=\"text-align: right;\">\n",
       "      <th></th>\n",
       "      <th>Dominant_Topic</th>\n",
       "      <th>Topic_Keywords</th>\n",
       "      <th>Num_Documents</th>\n",
       "      <th>Perc_Documents</th>\n",
       "    </tr>\n",
       "  </thead>\n",
       "  <tbody>\n",
       "    <tr>\n",
       "      <th>0.0</th>\n",
       "      <td>0.0</td>\n",
       "      <td>price, card, point, performance, good, memory,...</td>\n",
       "      <td>2268</td>\n",
       "      <td>0.1549</td>\n",
       "    </tr>\n",
       "    <tr>\n",
       "      <th>1.0</th>\n",
       "      <td>1.0</td>\n",
       "      <td>gpu, year, amd, cpu, driver, time, issue, work...</td>\n",
       "      <td>2353</td>\n",
       "      <td>0.1607</td>\n",
       "    </tr>\n",
       "    <tr>\n",
       "      <th>2.0</th>\n",
       "      <td>2.0</td>\n",
       "      <td>dl, game, rtx, ray_tracing, performance, rt, f...</td>\n",
       "      <td>2419</td>\n",
       "      <td>0.1652</td>\n",
       "    </tr>\n",
       "    <tr>\n",
       "      <th>3.0</th>\n",
       "      <td>3.0</td>\n",
       "      <td>card, wait, stock, buy, launch, lol, release, ...</td>\n",
       "      <td>2977</td>\n",
       "      <td>0.2033</td>\n",
       "    </tr>\n",
       "    <tr>\n",
       "      <th>4.0</th>\n",
       "      <td>4.0</td>\n",
       "      <td>3080, 3070, 6800, 6800xt, 3090, performance, p...</td>\n",
       "      <td>2665</td>\n",
       "      <td>0.1820</td>\n",
       "    </tr>\n",
       "    <tr>\n",
       "      <th>5.0</th>\n",
       "      <td>5.0</td>\n",
       "      <td>amd, nvidia, people, good, console, thing, ser...</td>\n",
       "      <td>1960</td>\n",
       "      <td>0.1339</td>\n",
       "    </tr>\n",
       "  </tbody>\n",
       "</table>\n",
       "</div>"
      ],
      "text/plain": [
       "     Dominant_Topic                                     Topic_Keywords  \\\n",
       "0.0             0.0  price, card, point, performance, good, memory,...   \n",
       "1.0             1.0  gpu, year, amd, cpu, driver, time, issue, work...   \n",
       "2.0             2.0  dl, game, rtx, ray_tracing, performance, rt, f...   \n",
       "3.0             3.0  card, wait, stock, buy, launch, lol, release, ...   \n",
       "4.0             4.0  3080, 3070, 6800, 6800xt, 3090, performance, p...   \n",
       "5.0             5.0  amd, nvidia, people, good, console, thing, ser...   \n",
       "\n",
       "     Num_Documents  Perc_Documents  \n",
       "0.0           2268          0.1549  \n",
       "1.0           2353          0.1607  \n",
       "2.0           2419          0.1652  \n",
       "3.0           2977          0.2033  \n",
       "4.0           2665          0.1820  \n",
       "5.0           1960          0.1339  "
      ]
     },
     "execution_count": 48,
     "metadata": {},
     "output_type": "execute_result"
    }
   ],
   "source": [
    "# Number of Documents for Each Topic\n",
    "topic_counts = df_topic_sents_keywords['Dominant_Topic'].value_counts().sort_index()\n",
    "\n",
    "# Percentage of Documents for Each Topic\n",
    "topic_contribution = round(topic_counts/topic_counts.sum(), 4)\n",
    "\n",
    "# Topic Number and Keywords\n",
    "topic_num = pd.Series(sorted(df_topic_sents_keywords['Dominant_Topic'].unique()))\n",
    "topic_keywords = sent_topics_sorteddf_mallet['Keywords']\n",
    "\n",
    "# Concatenate Column wise\n",
    "df_dominant_topics = pd.concat([topic_num, topic_keywords, topic_counts, topic_contribution], axis=1)\n",
    "\n",
    "# Change Column names\n",
    "df_dominant_topics.columns = ['Dominant_Topic', 'Topic_Keywords', 'Num_Documents', 'Perc_Documents']\n",
    "\n",
    "# Show\n",
    "df_dominant_topics.head(6)"
   ]
  },
  {
   "cell_type": "code",
   "execution_count": 49,
   "metadata": {
    "ExecuteTime": {
     "end_time": "2021-01-24T10:28:28.258681Z",
     "start_time": "2021-01-24T10:28:28.243668Z"
    }
   },
   "outputs": [
    {
     "data": {
      "text/html": [
       "<div>\n",
       "<style scoped>\n",
       "    .dataframe tbody tr th:only-of-type {\n",
       "        vertical-align: middle;\n",
       "    }\n",
       "\n",
       "    .dataframe tbody tr th {\n",
       "        vertical-align: top;\n",
       "    }\n",
       "\n",
       "    .dataframe thead th {\n",
       "        text-align: right;\n",
       "    }\n",
       "</style>\n",
       "<table border=\"1\" class=\"dataframe\">\n",
       "  <thead>\n",
       "    <tr style=\"text-align: right;\">\n",
       "      <th></th>\n",
       "      <th>Dominant_Topic</th>\n",
       "      <th>Topic_Keywords</th>\n",
       "      <th>Num_Documents</th>\n",
       "      <th>Perc_Documents</th>\n",
       "    </tr>\n",
       "  </thead>\n",
       "  <tbody>\n",
       "    <tr>\n",
       "      <th>3.0</th>\n",
       "      <td>3.0</td>\n",
       "      <td>card, wait, stock, buy, launch, lol, release, ...</td>\n",
       "      <td>2977</td>\n",
       "      <td>0.2033</td>\n",
       "    </tr>\n",
       "    <tr>\n",
       "      <th>4.0</th>\n",
       "      <td>4.0</td>\n",
       "      <td>3080, 3070, 6800, 6800xt, 3090, performance, p...</td>\n",
       "      <td>2665</td>\n",
       "      <td>0.1820</td>\n",
       "    </tr>\n",
       "    <tr>\n",
       "      <th>2.0</th>\n",
       "      <td>2.0</td>\n",
       "      <td>dl, game, rtx, ray_tracing, performance, rt, f...</td>\n",
       "      <td>2419</td>\n",
       "      <td>0.1652</td>\n",
       "    </tr>\n",
       "    <tr>\n",
       "      <th>1.0</th>\n",
       "      <td>1.0</td>\n",
       "      <td>gpu, year, amd, cpu, driver, time, issue, work...</td>\n",
       "      <td>2353</td>\n",
       "      <td>0.1607</td>\n",
       "    </tr>\n",
       "    <tr>\n",
       "      <th>0.0</th>\n",
       "      <td>0.0</td>\n",
       "      <td>price, card, point, performance, good, memory,...</td>\n",
       "      <td>2268</td>\n",
       "      <td>0.1549</td>\n",
       "    </tr>\n",
       "    <tr>\n",
       "      <th>5.0</th>\n",
       "      <td>5.0</td>\n",
       "      <td>amd, nvidia, people, good, console, thing, ser...</td>\n",
       "      <td>1960</td>\n",
       "      <td>0.1339</td>\n",
       "    </tr>\n",
       "  </tbody>\n",
       "</table>\n",
       "</div>"
      ],
      "text/plain": [
       "     Dominant_Topic                                     Topic_Keywords  \\\n",
       "3.0             3.0  card, wait, stock, buy, launch, lol, release, ...   \n",
       "4.0             4.0  3080, 3070, 6800, 6800xt, 3090, performance, p...   \n",
       "2.0             2.0  dl, game, rtx, ray_tracing, performance, rt, f...   \n",
       "1.0             1.0  gpu, year, amd, cpu, driver, time, issue, work...   \n",
       "0.0             0.0  price, card, point, performance, good, memory,...   \n",
       "5.0             5.0  amd, nvidia, people, good, console, thing, ser...   \n",
       "\n",
       "     Num_Documents  Perc_Documents  \n",
       "3.0           2977          0.2033  \n",
       "4.0           2665          0.1820  \n",
       "2.0           2419          0.1652  \n",
       "1.0           2353          0.1607  \n",
       "0.0           2268          0.1549  \n",
       "5.0           1960          0.1339  "
      ]
     },
     "execution_count": 49,
     "metadata": {},
     "output_type": "execute_result"
    }
   ],
   "source": [
    "# Sort the Percentage of documents in descending order\n",
    "df_dominant_topics.sort_values(by='Perc_Documents', ascending=False)"
   ]
  },
  {
   "cell_type": "markdown",
   "metadata": {},
   "source": [
    "Topic 3 has the been assigned the most often to the documents with close to 3000 documents being assigned while making up 20% of the topics assigned.\n",
    "Stock availability during the launch of the GPUs is the most discussed for the AMD's subreddit with Topic 4 coming in second, which goes into comparing the price and performance of the AMD and Nvidia's GPUs. \n",
    "\n",
    "The least discussed is Topic 5 which discusses about the [RDNA 2 GPUs](https://www.pcworld.com/article/3528861/what-the-new-xbox-series-x-specs-tell-us-about-amds-next-gen-radeon-graphics-cards.html) powering the new gaming consoles, Xbox X series and the PS5. It seems that most of the subreddit users are PC gamers given the least number of Topic 5 documents."
   ]
  },
  {
   "cell_type": "markdown",
   "metadata": {},
   "source": [
    "# Frequency Distribution of Word Counts in Documents by dominant topic"
   ]
  },
  {
   "cell_type": "code",
   "execution_count": 50,
   "metadata": {
    "ExecuteTime": {
     "end_time": "2021-01-24T10:28:29.539452Z",
     "start_time": "2021-01-24T10:28:28.259682Z"
    }
   },
   "outputs": [
    {
     "data": {
      "image/png": "[encoded data removed]",
      "text/plain": [
       "<Figure size 1008x792 with 6 Axes>"
      ]
     },
     "metadata": {},
     "output_type": "display_data"
    }
   ],
   "source": [
    "cols = [color for name, color in mcolors.TABLEAU_COLORS.items()]\n",
    "\n",
    "fig, axes = plt.subplots(3,2, figsize=(14,11), sharex=True, sharey=True)\n",
    "\n",
    "for i, ax in enumerate(axes.flatten()):    \n",
    "    df_dominant_topic_sub = df_dominant_topic.loc[df_dominant_topic.Dominant_Topic == i]\n",
    "    doc_lens = df_dominant_topic_sub.Document.map(lambda token: len(token)).tolist()\n",
    "    #ax.hist(doc_lens, bins = 100, color=cols[i])\n",
    "    ax.tick_params(axis='y', labelcolor=cols[i], color=cols[i])\n",
    "    sns.histplot(doc_lens, bins=50, color=cols[i], kde=True, ax=ax) # ax.twinx()\n",
    "    # Mean\n",
    "    ax.axvline(np.mean(doc_lens), color='red', label='mean')\n",
    "    # Median\n",
    "    ax.axvline(np.median(doc_lens), color='yellow', label='median')\n",
    "    ax.legend()\n",
    "    ax.set(xlim=(0, 1000), xlabel='Document Word Count')\n",
    "    ax.set_ylabel('Number of Documents', color=cols[i])\n",
    "    ax.set_title('Topic: '+str(i), fontdict=dict(size=16, color=cols[i]))\n",
    "\n",
    "# fig.tight_layout()\n",
    "fig.subplots_adjust(top=0.90)\n",
    "# plt.xticks(np.linspace(0,375,9))\n",
    "plt.xlim(0,100)\n",
    "fig.suptitle('Distribution of Document Word Counts by Dominant Topic', fontsize=16)\n",
    "plt.tight_layout()\n",
    "plt.show()"
   ]
  },
  {
   "cell_type": "markdown",
   "metadata": {},
   "source": [
    "All of the distributions shows a right tailed skewed graph in which the mean and median are quite close."
   ]
  },
  {
   "cell_type": "markdown",
   "metadata": {},
   "source": [
    "# Word Clouds of Top N Keywords in Each Topic"
   ]
  },
  {
   "cell_type": "code",
   "execution_count": 51,
   "metadata": {
    "ExecuteTime": {
     "end_time": "2021-01-24T10:28:29.555456Z",
     "start_time": "2021-01-24T10:28:29.540443Z"
    }
   },
   "outputs": [],
   "source": [
    "stop_words = set(STOPWORDS).union(stopwords.words(\"english\")) # Combines gensim stopwords and nltk's stopwords\n",
    "stop_words = stop_words.union(['http', 'www', 'youtube' 'get', 'like', '1', '2', '3', '5', 'got'])"
   ]
  },
  {
   "cell_type": "code",
   "execution_count": 52,
   "metadata": {
    "ExecuteTime": {
     "end_time": "2021-01-24T10:28:33.377930Z",
     "start_time": "2021-01-24T10:28:29.556457Z"
    }
   },
   "outputs": [
    {
     "data": {
      "image/png": "[encoded data removed]",
      "text/plain": [
       "<Figure size 720x720 with 6 Axes>"
      ]
     },
     "metadata": {},
     "output_type": "display_data"
    }
   ],
   "source": [
    "cloud = WordCloud(stopwords=stop_words,\n",
    "                  background_color='white',\n",
    "                  width=2500,\n",
    "                  height=1800,\n",
    "                  max_words=10,\n",
    "                  colormap='tab10',\n",
    "                  color_func=lambda *args, **kwargs: cols[i],\n",
    "                  prefer_horizontal=1.0)\n",
    "\n",
    "topics = optimal_model.show_topics(formatted=False)\n",
    "\n",
    "fig, axes = plt.subplots(3, 2, figsize=(10,10), sharex=True, sharey=True)\n",
    "\n",
    "for i, ax in enumerate(axes.flatten()):\n",
    "    fig.add_subplot(ax)\n",
    "    topic_words = dict(topics[i][1])\n",
    "    cloud.generate_from_frequencies(topic_words, max_font_size=300)\n",
    "    plt.gca().imshow(cloud)\n",
    "    plt.gca().set_title('Topic ' + str(i), fontdict=dict(size=16))\n",
    "    plt.gca().axis('off')\n",
    "\n",
    "\n",
    "plt.subplots_adjust(wspace=0, hspace=0)\n",
    "plt.axis('off')\n",
    "plt.margins(x=0, y=0)\n",
    "plt.tight_layout()\n",
    "plt.show()"
   ]
  },
  {
   "cell_type": "markdown",
   "metadata": {},
   "source": [
    "# Word Counts of Topic Keywords"
   ]
  },
  {
   "cell_type": "code",
   "execution_count": 62,
   "metadata": {
    "ExecuteTime": {
     "end_time": "2021-01-24T12:30:53.389060Z",
     "start_time": "2021-01-24T12:30:53.347023Z"
    }
   },
   "outputs": [
    {
     "data": {
      "text/plain": [
       "Counter({'sound': 124,\n",
       "         'samsung': 110,\n",
       "         '8nm': 57,\n",
       "         'cheap': 94,\n",
       "         'ethic': 3,\n",
       "         'mongol': 14,\n",
       "         'invasion': 3,\n",
       "         'tech': 191,\n",
       "         'nvidia': 2592,\n",
       "         'software': 231,\n",
       "         'ai': 113,\n",
       "         'learning': 50,\n",
       "         'big': 450,\n",
       "         'selling': 111,\n",
       "         'point': 506,\n",
       "         'excited': 57,\n",
       "         'amd': 3661,\n",
       "         'guy': 177,\n",
       "         'compete': 256,\n",
       "         'going': 901,\n",
       "         'brand': 82,\n",
       "         'loyalty': 20,\n",
       "         'sucker': 12,\n",
       "         'think': 1153,\n",
       "         'actualy': 1,\n",
       "         'competing': 69,\n",
       "         'new': 750,\n",
       "         'console': 506,\n",
       "         'price': 1681,\n",
       "         '499': 93,\n",
       "         '2080ti': 411,\n",
       "         'performance': 2105,\n",
       "         'dumping': 1,\n",
       "         'reputable': 5,\n",
       "         'leak': 63,\n",
       "         'rdna2': 190,\n",
       "         'say': 96,\n",
       "         '40': 62,\n",
       "         '50': 373,\n",
       "         'faster': 383,\n",
       "         'couple': 99,\n",
       "         'rumored': 23,\n",
       "         'focus': 30,\n",
       "         'power': 473,\n",
       "         'efficiency': 63,\n",
       "         'advantage': 120,\n",
       "         'tsmc': 116,\n",
       "         'process': 74,\n",
       "         '7nm': 108,\n",
       "         'forget': 55,\n",
       "         'silicon': 29,\n",
       "         'pushed': 28,\n",
       "         '350': 59,\n",
       "         'tdp': 53,\n",
       "         'impossible': 25,\n",
       "         'raise': 26,\n",
       "         'coming': 196,\n",
       "         'competitive': 175,\n",
       "         'want': 708,\n",
       "         'buy': 743,\n",
       "         'potentially': 18,\n",
       "         'lower': 355,\n",
       "         'waiting': 219,\n",
       "         'im': 159,\n",
       "         'sure': 546,\n",
       "         'good': 985,\n",
       "         'rdna': 113,\n",
       "         'generation': 258,\n",
       "         'rt': 589,\n",
       "         'expecting': 62,\n",
       "         'boom': 5,\n",
       "         'wow': 49,\n",
       "         'amazing': 85,\n",
       "         'pricing': 313,\n",
       "         'learned': 10,\n",
       "         'turing': 120,\n",
       "         'double': 149,\n",
       "         'step': 59,\n",
       "         'right': 552,\n",
       "         'direction': 13,\n",
       "         'come': 515,\n",
       "         'punching': 3,\n",
       "         'force': 34,\n",
       "         'believe': 147,\n",
       "         'need': 721,\n",
       "         'throwing': 10,\n",
       "         'punch': 8,\n",
       "         'lack': 79,\n",
       "         'competition': 228,\n",
       "         'b4': 3,\n",
       "         'refresh': 97,\n",
       "         'ampere': 187,\n",
       "         'throw': 19,\n",
       "         'dirt': 20,\n",
       "         'wound': 1,\n",
       "         'x200b': 132,\n",
       "         'edit': 183,\n",
       "         'absolutely': 111,\n",
       "         'wrecking': 1,\n",
       "         'shop': 19,\n",
       "         'thread': 60,\n",
       "         'deleted': 7,\n",
       "         'aswell': 8,\n",
       "         'post': 117,\n",
       "         'r': 73,\n",
       "         'p': 44,\n",
       "         'offer': 135,\n",
       "         'lying': 12,\n",
       "         'said': 518,\n",
       "         '3080': 1603,\n",
       "         '700': 124,\n",
       "         'offering': 75,\n",
       "         'better': 1228,\n",
       "         'isnt': 27,\n",
       "         'spectacular': 4,\n",
       "         '3070': 1479,\n",
       "         'thinking': 115,\n",
       "         'fucking': 98,\n",
       "         'insane': 74,\n",
       "         'pull': 72,\n",
       "         '5700xt': 324,\n",
       "         'wish': 50,\n",
       "         'exaggerating': 2,\n",
       "         'ready': 89,\n",
       "         'score': 16,\n",
       "         'great': 316,\n",
       "         'second': 106,\n",
       "         'hand': 148,\n",
       "         'gpu': 1069,\n",
       "         'half': 108,\n",
       "         'priced': 165,\n",
       "         'people': 1094,\n",
       "         'jumping': 8,\n",
       "         'hype': 59,\n",
       "         'train': 22,\n",
       "         'key': 16,\n",
       "         'thought': 148,\n",
       "         'pipeline': 14,\n",
       "         'plateaued': 1,\n",
       "         'dropped': 40,\n",
       "         '100': 209,\n",
       "         'track': 17,\n",
       "         'record': 20,\n",
       "         'drop': 187,\n",
       "         'actually': 517,\n",
       "         'weird': 88,\n",
       "         'casually': 5,\n",
       "         'follows': 2,\n",
       "         'hardware': 332,\n",
       "         'news': 51,\n",
       "         'looking': 278,\n",
       "         'upgrade': 262,\n",
       "         'bit': 364,\n",
       "         'stockholm': 1,\n",
       "         'syndrome': 1,\n",
       "         'prospect': 3,\n",
       "         '400': 124,\n",
       "         '3060': 81,\n",
       "         'deal': 215,\n",
       "         'x': 146,\n",
       "         '2060': 54,\n",
       "         'yeah': 576,\n",
       "         'supposed': 57,\n",
       "         'happen': 59,\n",
       "         'launch': 508,\n",
       "         'product': 289,\n",
       "         'line': 209,\n",
       "         'gotten': 33,\n",
       "         'way': 507,\n",
       "         'control': 84,\n",
       "         'attention': 20,\n",
       "         'look': 695,\n",
       "         'cooking': 6,\n",
       "         'probably': 699,\n",
       "         'hear': 49,\n",
       "         'soon': 140,\n",
       "         'feel': 224,\n",
       "         'doa': 23,\n",
       "         'let': 237,\n",
       "         'pas': 24,\n",
       "         'change': 127,\n",
       "         'marketing': 132,\n",
       "         'strategy': 32,\n",
       "         'navi': 240,\n",
       "         'maybe': 389,\n",
       "         'changing': 11,\n",
       "         'medium': 35,\n",
       "         'blowing': 11,\n",
       "         'park': 11,\n",
       "         'forced': 29,\n",
       "         'innovate': 4,\n",
       "         'hope': 248,\n",
       "         'respond': 10,\n",
       "         'polaris': 14,\n",
       "         'replacement': 41,\n",
       "         'sold': 111,\n",
       "         '399': 20,\n",
       "         '299': 9,\n",
       "         'year': 762,\n",
       "         'ago': 170,\n",
       "         'press': 9,\n",
       "         'f': 28,\n",
       "         'bought': 206,\n",
       "         '6': 123,\n",
       "         'month': 304,\n",
       "         'mod': 22,\n",
       "         'removing': 10,\n",
       "         'lmao': 100,\n",
       "         'doubling': 11,\n",
       "         'spec': 62,\n",
       "         'rtx': 864,\n",
       "         'beat': 198,\n",
       "         '30': 157,\n",
       "         'rdna1': 19,\n",
       "         'barely': 61,\n",
       "         'scared': 34,\n",
       "         'losing': 21,\n",
       "         'money': 308,\n",
       "         'asap': 12,\n",
       "         '80': 232,\n",
       "         'true': 230,\n",
       "         'knock': 7,\n",
       "         'worried': 55,\n",
       "         'inclined': 4,\n",
       "         'concern': 50,\n",
       "         'able': 277,\n",
       "         'fit': 42,\n",
       "         '2080': 303,\n",
       "         'tier': 115,\n",
       "         'xbox': 110,\n",
       "         'series': 704,\n",
       "         'speaks': 3,\n",
       "         'volume': 14,\n",
       "         'familiar': 6,\n",
       "         'built': 62,\n",
       "         'mean': 511,\n",
       "         'likely': 277,\n",
       "         'sell': 264,\n",
       "         '300': 109,\n",
       "         'cost': 281,\n",
       "         'release': 366,\n",
       "         'detail': 48,\n",
       "         'supply': 140,\n",
       "         'catch': 47,\n",
       "         'demand': 87,\n",
       "         '3000': 151,\n",
       "         'wait': 618,\n",
       "         'know': 870,\n",
       "         'forthcoming': 1,\n",
       "         'info': 101,\n",
       "         'assume': 83,\n",
       "         'par': 69,\n",
       "         'dead': 59,\n",
       "         'arrives': 6,\n",
       "         'yeap': 1,\n",
       "         'doubt': 123,\n",
       "         'answer': 115,\n",
       "         'yep': 58,\n",
       "         'fanboy': 44,\n",
       "         'slapped': 6,\n",
       "         'today': 202,\n",
       "         'spot': 38,\n",
       "         'ratio': 27,\n",
       "         'worse': 234,\n",
       "         '5600': 35,\n",
       "         'xt': 668,\n",
       "         'february': 15,\n",
       "         'retrospective': 1,\n",
       "         'ton': 54,\n",
       "         'driver': 672,\n",
       "         'error': 38,\n",
       "         'exchange': 15,\n",
       "         'different': 195,\n",
       "         'model': 165,\n",
       "         'announcement': 55,\n",
       "         'starting': 31,\n",
       "         'pretty': 419,\n",
       "         'bad': 314,\n",
       "         'decision': 75,\n",
       "         'card': 2785,\n",
       "         'affordable': 17,\n",
       "         'budget': 157,\n",
       "         'beast': 22,\n",
       "         'knocked': 2,\n",
       "         'ryzen': 278,\n",
       "         'moment': 71,\n",
       "         'radeon': 200,\n",
       "         'sadly': 30,\n",
       "         'steam': 22,\n",
       "         'user': 100,\n",
       "         'ti': 324,\n",
       "         'make': 262,\n",
       "         'sense': 192,\n",
       "         'gamers': 140,\n",
       "         'help': 107,\n",
       "         'cpu': 736,\n",
       "         'sale': 102,\n",
       "         'positive': 12,\n",
       "         'pick': 60,\n",
       "         '1080ti': 58,\n",
       "         '200': 94,\n",
       "         'rendering': 80,\n",
       "         'rig': 51,\n",
       "         'dominated': 4,\n",
       "         'scene': 17,\n",
       "         'lol': 432,\n",
       "         'competent': 5,\n",
       "         'gpus': 365,\n",
       "         'future': 226,\n",
       "         'nonsense': 8,\n",
       "         'aside': 28,\n",
       "         'appear': 14,\n",
       "         'lot': 430,\n",
       "         'ray': 793,\n",
       "         'tracing': 748,\n",
       "         'chart': 65,\n",
       "         'relative': 24,\n",
       "         'improvement': 105,\n",
       "         'game': 1441,\n",
       "         'setting': 152,\n",
       "         'long': 208,\n",
       "         'claimed': 24,\n",
       "         '2xperformance': 1,\n",
       "         'watt': 114,\n",
       "         'codename': 1,\n",
       "         'upcoming': 50,\n",
       "         'killer': 46,\n",
       "         'final': 24,\n",
       "         'company': 204,\n",
       "         'confident': 23,\n",
       "         'comparable': 65,\n",
       "         'stack': 52,\n",
       "         'vega': 82,\n",
       "         'animal': 3,\n",
       "         'real': 230,\n",
       "         'separated': 1,\n",
       "         'gaming': 533,\n",
       "         'enterprise': 7,\n",
       "         'show': 58,\n",
       "         'msrp': 163,\n",
       "         'luck': 98,\n",
       "         'finding': 15,\n",
       "         'decided': 41,\n",
       "         'spin': 4,\n",
       "         'matrix': 4,\n",
       "         'based': 176,\n",
       "         'baseline': 11,\n",
       "         'benchmark': 547,\n",
       "         'unboxed': 21,\n",
       "         'saw': 99,\n",
       "         'went': 150,\n",
       "         'ahead': 94,\n",
       "         'placed': 24,\n",
       "         'stuck': 38,\n",
       "         'claim': 93,\n",
       "         'fps': 337,\n",
       "         'calculated': 2,\n",
       "         'percentage': 16,\n",
       "         'increase': 157,\n",
       "         'column': 1,\n",
       "         'apu': 17,\n",
       "         'getting': 437,\n",
       "         'level': 197,\n",
       "         '36cus': 2,\n",
       "         'limited': 71,\n",
       "         'cooling': 19,\n",
       "         'scale': 54,\n",
       "         '72cus': 1,\n",
       "         'satisfied': 3,\n",
       "         'confirmed': 42,\n",
       "         'fabbed': 2,\n",
       "         'meaning': 32,\n",
       "         'minimum': 25,\n",
       "         'slight': 27,\n",
       "         'transistor': 34,\n",
       "         'density': 20,\n",
       "         'n7': 12,\n",
       "         '500': 439,\n",
       "         'mm': 13,\n",
       "         'die': 122,\n",
       "         'easily': 68,\n",
       "         'exceed': 8,\n",
       "         'count': 50,\n",
       "         'ga102': 10,\n",
       "         'zen': 161,\n",
       "         'honest': 47,\n",
       "         '3090': 953,\n",
       "         'bet': 76,\n",
       "         'phenomenal': 3,\n",
       "         'day': 347,\n",
       "         'intend': 7,\n",
       "         'announce': 40,\n",
       "         'week': 184,\n",
       "         'time': 830,\n",
       "         'presentation': 92,\n",
       "         'dl': 1492,\n",
       "         'v': 336,\n",
       "         'damn': 96,\n",
       "         'slide': 103,\n",
       "         'rasterization': 94,\n",
       "         'bee': 1,\n",
       "         'seen': 175,\n",
       "         'freaking': 22,\n",
       "         'pr': 3,\n",
       "         'fluff': 3,\n",
       "         'review': 307,\n",
       "         'depends': 101,\n",
       "         'set': 116,\n",
       "         'knew': 36,\n",
       "         'reason': 278,\n",
       "         'holding': 25,\n",
       "         'giving': 45,\n",
       "         'wife': 19,\n",
       "         'raytracing': 345,\n",
       "         'man': 108,\n",
       "         'instantly': 10,\n",
       "         'lose': 49,\n",
       "         'high': 453,\n",
       "         'end': 543,\n",
       "         'market': 324,\n",
       "         'go': 74,\n",
       "         'powerful': 73,\n",
       "         'felt': 16,\n",
       "         'push': 99,\n",
       "         'hard': 145,\n",
       "         'navi2': 1,\n",
       "         'expect': 168,\n",
       "         '0': 283,\n",
       "         'vram': 645,\n",
       "         '16gb': 219,\n",
       "         'vrs': 4,\n",
       "         'ri': 11,\n",
       "         'instead': 168,\n",
       "         '599': 21,\n",
       "         '649': 62,\n",
       "         'calculation': 16,\n",
       "         '2x': 53,\n",
       "         'aka': 19,\n",
       "         '57000xt': 1,\n",
       "         'general': 65,\n",
       "         '56': 21,\n",
       "         'strong': 17,\n",
       "         'remember': 101,\n",
       "         'folk': 25,\n",
       "         'flagship': 63,\n",
       "         'replaced': 9,\n",
       "         'including': 46,\n",
       "         'digital': 44,\n",
       "         'foundry': 28,\n",
       "         'bench': 45,\n",
       "         'rtx2080': 4,\n",
       "         'founder': 41,\n",
       "         'edition': 45,\n",
       "         'rtx3080': 20,\n",
       "         '25': 44,\n",
       "         'especially': 185,\n",
       "         'tag': 18,\n",
       "         'brought': 21,\n",
       "         'table': 14,\n",
       "         '35': 20,\n",
       "         'ground': 14,\n",
       "         'additional': 37,\n",
       "         'clock': 105,\n",
       "         'speed': 81,\n",
       "         'bandwidth': 66,\n",
       "         '7na': 1,\n",
       "         'mention': 113,\n",
       "         'handle': 53,\n",
       "         'rumor': 56,\n",
       "         'laden': 1,\n",
       "         'paper': 70,\n",
       "         'promise': 22,\n",
       "         'achievable': 3,\n",
       "         'awesome': 62,\n",
       "         'cringe': 7,\n",
       "         'hey': 27,\n",
       "         'buddy': 29,\n",
       "         'tell': 145,\n",
       "         'entire': 51,\n",
       "         'buyer': 62,\n",
       "         '1400': 11,\n",
       "         'component': 46,\n",
       "         'spent': 24,\n",
       "         'reddit': 34,\n",
       "         'pcmr': 1,\n",
       "         'buildapc': 1,\n",
       "         'sorry': 91,\n",
       "         'kill': 42,\n",
       "         'generally': 46,\n",
       "         'build': 146,\n",
       "         'gtx': 71,\n",
       "         '1060': 30,\n",
       "         'paid': 68,\n",
       "         '2016': 14,\n",
       "         '17': 18,\n",
       "         'advancement': 4,\n",
       "         '20': 198,\n",
       "         'rtx2080ti': 5,\n",
       "         'titan': 159,\n",
       "         'eqv': 1,\n",
       "         'comparing': 68,\n",
       "         'generates': 3,\n",
       "         'heat': 20,\n",
       "         'stupid': 60,\n",
       "         'absolute': 47,\n",
       "         'metric': 20,\n",
       "         'gave': 39,\n",
       "         'plenty': 56,\n",
       "         'act': 12,\n",
       "         'given': 107,\n",
       "         'poor': 47,\n",
       "         'forward': 68,\n",
       "         'chance': 102,\n",
       "         'get': 119,\n",
       "         'jensen': 26,\n",
       "         'releasing': 40,\n",
       "         'concerned': 25,\n",
       "         'bringing': 18,\n",
       "         '8k': 72,\n",
       "         '60fps': 59,\n",
       "         'unreal': 16,\n",
       "         'obsolete': 9,\n",
       "         'ole': 1,\n",
       "         'trolling': 13,\n",
       "         'begun': 2,\n",
       "         'nervous': 2,\n",
       "         'hit': 141,\n",
       "         'wont': 54,\n",
       "         'imo': 104,\n",
       "         'smell': 4,\n",
       "         '1500': 57,\n",
       "         'cuda': 134,\n",
       "         'core': 255,\n",
       "         'pulling': 17,\n",
       "         'sneaky': 3,\n",
       "         'super': 375,\n",
       "         'speculated': 3,\n",
       "         'upset': 8,\n",
       "         'curious': 68,\n",
       "         'architecture': 85,\n",
       "         'form': 20,\n",
       "         'opinion': 62,\n",
       "         'pre': 75,\n",
       "         'order': 427,\n",
       "         'date': 60,\n",
       "         'honesty': 5,\n",
       "         'event': 35,\n",
       "         'totally': 70,\n",
       "         'simply': 105,\n",
       "         'expertise': 5,\n",
       "         'raw': 68,\n",
       "         'stronger': 12,\n",
       "         'fair': 131,\n",
       "         'kind': 123,\n",
       "         'hoped': 11,\n",
       "         'needed': 71,\n",
       "         'xfx': 16,\n",
       "         'rx': 292,\n",
       "         '5700': 142,\n",
       "         'finger': 19,\n",
       "         'division': 8,\n",
       "         'soc': 3,\n",
       "         'supplier': 9,\n",
       "         'pleasantly': 2,\n",
       "         'surprised': 62,\n",
       "         'providing': 11,\n",
       "         'pricepoint': 7,\n",
       "         'onus': 1,\n",
       "         'prove': 8,\n",
       "         '9': 88,\n",
       "         'loose': 8,\n",
       "         'win': 150,\n",
       "         'agree': 148,\n",
       "         'exclusive': 42,\n",
       "         'technology': 111,\n",
       "         'showed': 141,\n",
       "         'superb': 1,\n",
       "         'care': 267,\n",
       "         'afford': 55,\n",
       "         'gimme': 5,\n",
       "         '450': 35,\n",
       "         'smth': 5,\n",
       "         'considering': 169,\n",
       "         'rayttracing': 1,\n",
       "         'implementation': 95,\n",
       "         '2nd': 16,\n",
       "         'gen': 321,\n",
       "         'possible': 122,\n",
       "         'word': 64,\n",
       "         'watched': 20,\n",
       "         'beautiful': 7,\n",
       "         'whoosh': 1,\n",
       "         'life': 64,\n",
       "         'triple': 17,\n",
       "         'boot': 16,\n",
       "         'linux': 128,\n",
       "         'mac': 20,\n",
       "         'issue': 441,\n",
       "         'write': 18,\n",
       "         'took': 68,\n",
       "         'intel': 344,\n",
       "         'cleaner': 2,\n",
       "         'past': 87,\n",
       "         'faith': 9,\n",
       "         'close': 190,\n",
       "         'best': 374,\n",
       "         'team': 110,\n",
       "         '4700': 1,\n",
       "         'hot': 51,\n",
       "         'setup': 39,\n",
       "         'idgaf': 2,\n",
       "         'graphic': 199,\n",
       "         'provides': 18,\n",
       "         'pulled': 16,\n",
       "         'astonishing': 3,\n",
       "         'famboy': 1,\n",
       "         'crazy': 65,\n",
       "         'stop': 75,\n",
       "         'simping': 1,\n",
       "         'private': 5,\n",
       "         'reasonable': 61,\n",
       "         'certainly': 49,\n",
       "         'played': 34,\n",
       "         'role': 9,\n",
       "         'carried': 6,\n",
       "         'ps5': 109,\n",
       "         'openly': 2,\n",
       "         'stock': 592,\n",
       "         'test': 58,\n",
       "         'number': 286,\n",
       "         'face': 21,\n",
       "         'interested': 70,\n",
       "         'love': 93,\n",
       "         'unlike': 22,\n",
       "         'walt': 1,\n",
       "         'gonna': 254,\n",
       "         'world': 94,\n",
       "         'actual': 107,\n",
       "         'nice': 164,\n",
       "         'definitely': 218,\n",
       "         'ironically': 3,\n",
       "         'war': 38,\n",
       "         'minded': 5,\n",
       "         'builder': 7,\n",
       "         'king': 26,\n",
       "         'personally': 93,\n",
       "         'flop': 10,\n",
       "         'incredible': 12,\n",
       "         'value': 280,\n",
       "         'resource': 21,\n",
       "         'fight': 23,\n",
       "         'higher': 312,\n",
       "         'consumer': 138,\n",
       "         'terrified': 2,\n",
       "         'fastest': 17,\n",
       "         'play': 287,\n",
       "         '1440p': 380,\n",
       "         'solid': 60,\n",
       "         'option': 161,\n",
       "         'presented': 9,\n",
       "         'type': 67,\n",
       "         'misleading': 16,\n",
       "         'term': 117,\n",
       "         'non': 162,\n",
       "         'channel': 25,\n",
       "         'hesitate': 2,\n",
       "         'outright': 14,\n",
       "         'lost': 30,\n",
       "         'run': 284,\n",
       "         'redline': 2,\n",
       "         'reliability': 7,\n",
       "         'longstanding': 1,\n",
       "         'history': 25,\n",
       "         'matching': 25,\n",
       "         '2070': 88,\n",
       "         'treat': 4,\n",
       "         'grinding': 1,\n",
       "         'corpse': 1,\n",
       "         'recently': 36,\n",
       "         'bomb': 3,\n",
       "         'industry': 40,\n",
       "         'competetive': 3,\n",
       "         'dang': 11,\n",
       "         'fanboys': 31,\n",
       "         'grim': 8,\n",
       "         '2015': 7,\n",
       "         'pointed': 6,\n",
       "         'sign': 30,\n",
       "         'expects': 1,\n",
       "         'rtg': 4,\n",
       "         'kopite7kimi': 1,\n",
       "         'tweet': 8,\n",
       "         'suggests': 8,\n",
       "         'department': 19,\n",
       "         'genuinely': 20,\n",
       "         'hyped': 19,\n",
       "         'derail': 1,\n",
       "         'board': 127,\n",
       "         'taken': 22,\n",
       "         'flak': 1,\n",
       "         'quality': 133,\n",
       "         'riding': 2,\n",
       "         'shoulder': 2,\n",
       "         'deliver': 40,\n",
       "         'mind': 105,\n",
       "         'share': 74,\n",
       "         'missing': 46,\n",
       "         'related': 15,\n",
       "         'original': 42,\n",
       "         'phenom': 4,\n",
       "         'hell': 74,\n",
       "         'impressed': 23,\n",
       "         'sad': 39,\n",
       "         'hold': 89,\n",
       "         'weaker': 9,\n",
       "         'buying': 230,\n",
       "         'optimistic': 14,\n",
       "         'availability': 115,\n",
       "         'unknown': 19,\n",
       "         'impressive': 52,\n",
       "         'draw': 69,\n",
       "         'conclusion': 20,\n",
       "         'turn': 94,\n",
       "         'advertised': 13,\n",
       "         'exact': 44,\n",
       "         'livestream': 2,\n",
       "         'typing': 3,\n",
       "         'rip': 68,\n",
       "         'missile': 1,\n",
       "         'targeting': 11,\n",
       "         'facility': 1,\n",
       "         '1111': 1,\n",
       "         'sweetspot': 2,\n",
       "         '580': 73,\n",
       "         'yes': 358,\n",
       "         'pray': 5,\n",
       "         'content': 36,\n",
       "         'reality': 27,\n",
       "         'live': 77,\n",
       "         'mid': 154,\n",
       "         'stuff': 149,\n",
       "         '10x': 5,\n",
       "         '580s': 2,\n",
       "         'victory': 8,\n",
       "         'clearly': 69,\n",
       "         'scream': 1,\n",
       "         'desperate': 5,\n",
       "         'put': 24,\n",
       "         'try': 160,\n",
       "         'nvidea': 8,\n",
       "         'consistently': 18,\n",
       "         'milked': 3,\n",
       "         'customer': 74,\n",
       "         'range': 178,\n",
       "         'smaller': 62,\n",
       "         'chip': 165,\n",
       "         'charging': 12,\n",
       "         '15': 171,\n",
       "         '1080': 97,\n",
       "         '16': 77,\n",
       "         'literally': 200,\n",
       "         'enter': 9,\n",
       "         'space': 62,\n",
       "         'highest': 30,\n",
       "         'latest': 41,\n",
       "         '251mm': 2,\n",
       "         'usually': 87,\n",
       "         'flexing': 1,\n",
       "         'dominant': 4,\n",
       "         'announces': 6,\n",
       "         '27': 8,\n",
       "         'pound': 4,\n",
       "         'slot': 35,\n",
       "         'unprecedented': 4,\n",
       "         'connector': 9,\n",
       "         'fiji': 3,\n",
       "         'pro': 47,\n",
       "         'duo': 1,\n",
       "         'halo': 24,\n",
       "         'nvidias': 62,\n",
       "         'behavior': 7,\n",
       "         'increasing': 14,\n",
       "         'gap': 78,\n",
       "         'decreasing': 4,\n",
       "         'cap': 15,\n",
       "         'silly': 22,\n",
       "         'sheer': 5,\n",
       "         'stupidity': 5,\n",
       "         'disruptive': 6,\n",
       "         '4k': 570,\n",
       "         'cu': 116,\n",
       "         '8ghz': 1,\n",
       "         'hitting': 14,\n",
       "         '2080s': 20,\n",
       "         'fully': 65,\n",
       "         'unleashed': 1,\n",
       "         '70': 88,\n",
       "         '2ghz': 5,\n",
       "         'dedicated': 50,\n",
       "         'fast': 63,\n",
       "         'gddr6': 66,\n",
       "         '6x': 8,\n",
       "         'efficient': 53,\n",
       "         'severely': 7,\n",
       "         'feature': 579,\n",
       "         'decade': 35,\n",
       "         'awful': 12,\n",
       "         'compared': 197,\n",
       "         'yea': 83,\n",
       "         'check': 90,\n",
       "         'mate': 25,\n",
       "         'unfortunately': 66,\n",
       "         'sleeve': 11,\n",
       "         'premium': 49,\n",
       "         'pay': 208,\n",
       "         'packing': 4,\n",
       "         'constant': 5,\n",
       "         'innovation': 12,\n",
       "         'trust': 37,\n",
       "         'ehm': 1,\n",
       "         '320w': 12,\n",
       "         'doubled': 14,\n",
       "         '335w': 1,\n",
       "         'roughly': 55,\n",
       "         'add': 102,\n",
       "         'architectural': 8,\n",
       "         'position': 29,\n",
       "         'basically': 187,\n",
       "         'performing': 30,\n",
       "         'perform': 69,\n",
       "         'aroung': 1,\n",
       "         '2070super': 5,\n",
       "         'difference': 347,\n",
       "         'reflex': 10,\n",
       "         'compare': 101,\n",
       "         'custom': 49,\n",
       "         'ssd': 33,\n",
       "         'sony': 42,\n",
       "         'pcie': 55,\n",
       "         '4': 208,\n",
       "         'specialized': 6,\n",
       "         'method': 19,\n",
       "         'moving': 27,\n",
       "         'asset': 13,\n",
       "         'similar': 219,\n",
       "         'independent': 42,\n",
       "         'benchmarking': 7,\n",
       "         'confirm': 33,\n",
       "         'investment': 11,\n",
       "         'magic': 15,\n",
       "         'baked': 9,\n",
       "         'microsoft': 75,\n",
       "         'launching': 18,\n",
       "         'imagine': 92,\n",
       "         'sub': 73,\n",
       "         'lowering': 12,\n",
       "         'node': 86,\n",
       "         'expensive': 218,\n",
       "         'featureset': 5,\n",
       "         'aither': 1,\n",
       "         'talking': 180,\n",
       "         'defeating': 1,\n",
       "         'secure': 7,\n",
       "         'low': 154,\n",
       "         'leaf': 9,\n",
       "         'hole': 4,\n",
       "         'unhappy': 1,\n",
       "         'guess': 287,\n",
       "         'ask': 75,\n",
       "         'stay': 50,\n",
       "         'holiday': 13,\n",
       "         'season': 12,\n",
       "         'energy': 9,\n",
       "         'laptop': 36,\n",
       "         'relatively': 38,\n",
       "         '10': 315,\n",
       "         '8': 197,\n",
       "         'gb': 79,\n",
       "         'memory': 457,\n",
       "         'respectively': 8,\n",
       "         '12gb': 27,\n",
       "         'hbm': 2,\n",
       "         'land': 14,\n",
       "         'g6x': 11,\n",
       "         'acting': 15,\n",
       "         'doomers': 1,\n",
       "         'wah': 1,\n",
       "         'stfu': 4,\n",
       "         'reveal': 24,\n",
       "         'kinda': 111,\n",
       "         'cool': 64,\n",
       "         'use': 516,\n",
       "         'video': 239,\n",
       "         'alpha': 3,\n",
       "         'minecraft': 39,\n",
       "         'stated': 38,\n",
       "         'meme': 22,\n",
       "         'picture': 28,\n",
       "         'removed': 9,\n",
       "         'lame': 6,\n",
       "         'duck': 2,\n",
       "         'shown': 87,\n",
       "         'equal': 76,\n",
       "         'graph': 78,\n",
       "         'voice': 42,\n",
       "         'slightly': 170,\n",
       "         '1200': 35,\n",
       "         'huge': 162,\n",
       "         'typical': 10,\n",
       "         'thing': 629,\n",
       "         'prof': 4,\n",
       "         'information': 66,\n",
       "         'assuming': 85,\n",
       "         'bring': 59,\n",
       "         'combatant': 1,\n",
       "         '600': 88,\n",
       "         'breaking': 5,\n",
       "         'lisa': 40,\n",
       "         'su': 23,\n",
       "         'saying': 242,\n",
       "         'disrupt': 4,\n",
       "         'disrupted': 1,\n",
       "         'desktop': 31,\n",
       "         '1800x': 2,\n",
       "         '1000': 93,\n",
       "         'preemptively': 1,\n",
       "         'shoot': 9,\n",
       "         'dollar': 159,\n",
       "         'blow': 89,\n",
       "         'doubting': 3,\n",
       "         'sue': 5,\n",
       "         'bae': 3,\n",
       "         'surely': 20,\n",
       "         'showing': 58,\n",
       "         'remain': 10,\n",
       "         'continous': 1,\n",
       "         'hiking': 1,\n",
       "         'surprise': 18,\n",
       "         'small': 82,\n",
       "         'dy': 28,\n",
       "         'undercutting': 8,\n",
       "         'atleast': 21,\n",
       "         'till': 53,\n",
       "         'hd4850': 1,\n",
       "         'gtx260': 1,\n",
       "         '280': 9,\n",
       "         'ive': 10,\n",
       "         'planning': 60,\n",
       "         'switch': 65,\n",
       "         'nail': 5,\n",
       "         'coffin': 2,\n",
       "         'trashfire': 1,\n",
       "         '3080s': 32,\n",
       "         'wdym': 3,\n",
       "         'shat': 3,\n",
       "         'counterpart': 19,\n",
       "         'bracket': 17,\n",
       "         'betting': 11,\n",
       "         'prowess': 5,\n",
       "         'integrated': 13,\n",
       "         'argument': 68,\n",
       "         'doom': 15,\n",
       "         'sayers': 2,\n",
       "         'forgetting': 11,\n",
       "         'xboxsx': 3,\n",
       "         'tflops': 27,\n",
       "         'previous': 53,\n",
       "         'max': 82,\n",
       "         '170': 4,\n",
       "         'ram': 185,\n",
       "         'drive': 45,\n",
       "         '220': 5,\n",
       "         'wattage': 19,\n",
       "         'incomparable': 1,\n",
       "         'break': 28,\n",
       "         'abit': 4,\n",
       "         'storage': 28,\n",
       "         'take': 38,\n",
       "         'significant': 48,\n",
       "         'portion': 16,\n",
       "         'perf': 138,\n",
       "         'insider': 6,\n",
       "         'explain': 45,\n",
       "         'increased': 29,\n",
       "         'envelope': 5,\n",
       "         'omg': 12,\n",
       "         'downvote': 5,\n",
       "         'drinking': 3,\n",
       "         'green': 56,\n",
       "         'kool': 3,\n",
       "         'aid': 4,\n",
       "         'admit': 21,\n",
       "         'owned': 27,\n",
       "         'mighty': 3,\n",
       "         'delicious': 1,\n",
       "         'owning': 6,\n",
       "         'outside': 46,\n",
       "         'twice': 57,\n",
       "         'xsx': 30,\n",
       "         '58tf': 1,\n",
       "         ...})"
      ]
     },
     "execution_count": 62,
     "metadata": {},
     "output_type": "execute_result"
    }
   ],
   "source": [
    "data_flat = [word for word_lst in data for word in word_lst] # Creates a list of words \n",
    "counter = Counter(data_flat) # Counts the frequency of the tokens and stores in a dictionary\n",
    "counter"
   ]
  },
  {
   "cell_type": "code",
   "execution_count": 73,
   "metadata": {
    "ExecuteTime": {
     "end_time": "2021-01-24T12:38:27.480796Z",
     "start_time": "2021-01-24T12:38:27.467775Z"
    },
    "scrolled": true
   },
   "outputs": [
    {
     "data": {
      "text/html": [
       "<div>\n",
       "<style scoped>\n",
       "    .dataframe tbody tr th:only-of-type {\n",
       "        vertical-align: middle;\n",
       "    }\n",
       "\n",
       "    .dataframe tbody tr th {\n",
       "        vertical-align: top;\n",
       "    }\n",
       "\n",
       "    .dataframe thead th {\n",
       "        text-align: right;\n",
       "    }\n",
       "</style>\n",
       "<table border=\"1\" class=\"dataframe\">\n",
       "  <thead>\n",
       "    <tr style=\"text-align: right;\">\n",
       "      <th></th>\n",
       "      <th>word</th>\n",
       "      <th>topic_id</th>\n",
       "      <th>importance</th>\n",
       "      <th>word_count</th>\n",
       "    </tr>\n",
       "  </thead>\n",
       "  <tbody>\n",
       "    <tr>\n",
       "      <th>0</th>\n",
       "      <td>price</td>\n",
       "      <td>0</td>\n",
       "      <td>0.032121</td>\n",
       "      <td>1681</td>\n",
       "    </tr>\n",
       "    <tr>\n",
       "      <th>1</th>\n",
       "      <td>card</td>\n",
       "      <td>0</td>\n",
       "      <td>0.024979</td>\n",
       "      <td>2785</td>\n",
       "    </tr>\n",
       "    <tr>\n",
       "      <th>2</th>\n",
       "      <td>point</td>\n",
       "      <td>0</td>\n",
       "      <td>0.017628</td>\n",
       "      <td>506</td>\n",
       "    </tr>\n",
       "    <tr>\n",
       "      <th>3</th>\n",
       "      <td>performance</td>\n",
       "      <td>0</td>\n",
       "      <td>0.017245</td>\n",
       "      <td>2105</td>\n",
       "    </tr>\n",
       "    <tr>\n",
       "      <th>4</th>\n",
       "      <td>good</td>\n",
       "      <td>0</td>\n",
       "      <td>0.015190</td>\n",
       "      <td>985</td>\n",
       "    </tr>\n",
       "  </tbody>\n",
       "</table>\n",
       "</div>"
      ],
      "text/plain": [
       "          word  topic_id  importance  word_count\n",
       "0        price         0    0.032121        1681\n",
       "1         card         0    0.024979        2785\n",
       "2        point         0    0.017628         506\n",
       "3  performance         0    0.017245        2105\n",
       "4         good         0    0.015190         985"
      ]
     },
     "execution_count": 73,
     "metadata": {},
     "output_type": "execute_result"
    }
   ],
   "source": [
    "out = [[word, i , weight, counter[word]] for i, topic in topics for word, weight in topic]\n",
    "df = pd.DataFrame(out, columns=['word', 'topic_id', 'importance', 'word_count'])\n",
    "df.head()"
   ]
  },
  {
   "cell_type": "code",
   "execution_count": 113,
   "metadata": {
    "ExecuteTime": {
     "end_time": "2021-01-24T13:33:44.375437Z",
     "start_time": "2021-01-24T13:33:42.937028Z"
    }
   },
   "outputs": [
    {
     "data": {
      "image/png": "[encoded data removed]",
      "text/plain": [
       "<Figure size 1152x1008 with 12 Axes>"
      ]
     },
     "metadata": {
      "needs_background": "light"
     },
     "output_type": "display_data"
    }
   ],
   "source": [
    "# Plot Word Count and Weights of Topic Keywords\n",
    "fig, axes = plt.subplots(3, 2, figsize=(16,14), sharey=True)\n",
    "cols = [color for name, color in mcolors.TABLEAU_COLORS.items()]\n",
    "\n",
    "for i, ax in enumerate(axes.flatten()):\n",
    "    ax.bar(x='word', height=\"word_count\", data=df.loc[df.topic_id==i, :], color=cols[i], width=0.5, alpha=0.3, label='Word Count')\n",
    "    ax_twin = ax.twinx()\n",
    "    ax_twin.bar(x='word', height=\"importance\", data=df.loc[df.topic_id==i, :], color=cols[i], width=0.2, label='Weights')\n",
    "    ax.set_ylabel('Word Count', color=cols[i])\n",
    "    ax_twin.set_ylabel('Weights', color=cols[i])\n",
    "    # Sets the ylimits for the axes\n",
    "    #ax_twin.set_ylim(0, 0.030)\n",
    "    #ax.set_ylim(0, 3500)\n",
    "    ax.set_title('Topic: ' + str(i), color=cols[i], fontsize=16)\n",
    "    ax.tick_params(axis='y', left=False)\n",
    "    ax.set_xticks(np.arange(10))\n",
    "    ax.set_xticklabels(df.loc[df.topic_id==i, 'word'].tolist(), rotation=30, horizontalalignment= 'right', fontsize=12)\n",
    "    ax.legend(loc='upper right')\n",
    "    ax_twin.legend(loc=[0.79,0.82])\n",
    "\n",
    "fig.tight_layout(w_pad=2)    \n",
    "fig.suptitle('Word Count and Importance of Topic Keywords', fontsize=22, y=1.05)\n",
    "plt.show()"
   ]
  },
  {
   "cell_type": "code",
   "execution_count": null,
   "metadata": {},
   "outputs": [],
   "source": []
  },
  {
   "cell_type": "code",
   "execution_count": null,
   "metadata": {},
   "outputs": [],
   "source": []
  },
  {
   "cell_type": "code",
   "execution_count": null,
   "metadata": {},
   "outputs": [],
   "source": []
  }
 ],
 "metadata": {
  "kernelspec": {
   "display_name": "Python 3",
   "language": "python",
   "name": "python3"
  },
  "language_info": {
   "codemirror_mode": {
    "name": "ipython",
    "version": 3
   },
   "file_extension": ".py",
   "mimetype": "text/x-python",
   "name": "python",
   "nbconvert_exporter": "python",
   "pygments_lexer": "ipython3",
   "version": "3.8.5"
  },
  "notify_time": "30",
  "varInspector": {
   "cols": {
    "lenName": 16,
    "lenType": 16,
    "lenVar": 40
   },
   "kernels_config": {
    "python": {
     "delete_cmd_postfix": "",
     "delete_cmd_prefix": "del ",
     "library": "var_list.py",
     "varRefreshCmd": "print(var_dic_list())"
    },
    "r": {
     "delete_cmd_postfix": ") ",
     "delete_cmd_prefix": "rm(",
     "library": "var_list.r",
     "varRefreshCmd": "cat(var_dic_list()) "
    }
   },
   "oldHeight": 474.4,
   "position": {
    "height": "496.4px",
    "left": "1156px",
    "right": "20px",
    "top": "120px",
    "width": "360px"
   },
   "types_to_exclude": [
    "module",
    "function",
    "builtin_function_or_method",
    "instance",
    "_Feature"
   ],
   "varInspector_section_display": "block",
   "window_display": false
  }
 },
 "nbformat": 4,
 "nbformat_minor": 4
}
