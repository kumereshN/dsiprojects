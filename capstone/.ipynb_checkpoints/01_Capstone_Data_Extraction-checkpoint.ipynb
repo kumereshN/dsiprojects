{
 "cells": [
  {
   "cell_type": "markdown",
   "metadata": {},
   "source": [
    "# Capstone: Topic Modelling on AMD vs Nvidia GPU"
   ]
  },
  {
   "cell_type": "markdown",
   "metadata": {},
   "source": [
    "## Contents\n",
    "- Data Extraction\n",
    "- Data Cleaning\n",
    "- [EDA](#EDA)\n",
    "- [Prepare data for LDA Analysis](#Prepare-data-for-LDA-Analysis)\n",
    "- [LDA Model Training](#LDA-Model-Training)\n",
    "- Model creation\n",
    "- Model Evaluation"
   ]
  },
  {
   "cell_type": "code",
   "execution_count": 1,
   "metadata": {},
   "outputs": [],
   "source": [
    "# Common imports\n",
    "import numpy as np\n",
    "import pandas as pd\n",
    "import matplotlib.pyplot as plt\n",
    "import seaborn as sns\n",
    "\n",
    "from pprint import pprint\n",
    "import os\n",
    "\n",
    "import re\n",
    "# NLTK Library\n",
    "from nltk.tokenize import RegexpTokenizer\n",
    "from nltk.stem import WordNetLemmatizer\n",
    "from nltk.corpus import stopwords\n",
    "\n",
    "# Gensim library\n",
    "import gensim\n",
    "from gensim.utils import simple_preprocess\n",
    "import gensim.corpora as corpora\n",
    "\n",
    "import pyLDAvis.gensim\n",
    "import pickle \n",
    "import pyLDAvis\n",
    "\n",
    "# Detect non-english words\n",
    "from langdetect import detect, DetectorFactory\n",
    "DetectorFactory.seed = 0\n",
    "\n",
    "# Detect non-english words using spacy\n",
    "import spacy\n",
    "from spacy_langdetect import LanguageDetector\n",
    "nlp = spacy.load(\"en_core_web_sm\")\n",
    "nlp.add_pipe(LanguageDetector(), name='language_detector', last=True)\n",
    "\n",
    "\n",
    "# Import the wordcloud library\n",
    "from wordcloud import WordCloud\n",
    "\n",
    "%matplotlib inline"
   ]
  },
  {
   "cell_type": "code",
   "execution_count": 2,
   "metadata": {},
   "outputs": [],
   "source": [
    "# Set the max rows and columns for Pandas\n",
    "pd.options.display.max_columns = 100\n",
    "pd.options.display.max_rows = 200"
   ]
  },
  {
   "cell_type": "code",
   "execution_count": 3,
   "metadata": {},
   "outputs": [],
   "source": [
    "# Set the style use\n",
    "plt.style.use('ggplot')"
   ]
  },
  {
   "cell_type": "markdown",
   "metadata": {},
   "source": [
    "# Data Extraction from Amazon GPU using Selenium "
   ]
  },
  {
   "cell_type": "code",
   "execution_count": 4,
   "metadata": {},
   "outputs": [],
   "source": [
    "# Imports the webdriver and the Keys, Keys are used for Return, F1\n",
    "from selenium import webdriver\n",
    "from selenium.webdriver.common.keys import Keys\n",
    "from selenium.webdriver.support.ui import WebDriverWait\n",
    "from selenium.common.exceptions import NoSuchElementException\n",
    "import time "
   ]
  },
  {
   "cell_type": "code",
   "execution_count": 5,
   "metadata": {},
   "outputs": [
    {
     "data": {
      "text/html": [
       "<div>\n",
       "<style scoped>\n",
       "    .dataframe tbody tr th:only-of-type {\n",
       "        vertical-align: middle;\n",
       "    }\n",
       "\n",
       "    .dataframe tbody tr th {\n",
       "        vertical-align: top;\n",
       "    }\n",
       "\n",
       "    .dataframe thead th {\n",
       "        text-align: right;\n",
       "    }\n",
       "</style>\n",
       "<table border=\"1\" class=\"dataframe\">\n",
       "  <thead>\n",
       "    <tr style=\"text-align: right;\">\n",
       "      <th></th>\n",
       "      <th>id</th>\n",
       "      <th>GPU Name</th>\n",
       "      <th>Manufacturer</th>\n",
       "      <th>Chipset Brand</th>\n",
       "      <th>Memory Size</th>\n",
       "      <th>Memory Speed(MHz)</th>\n",
       "      <th>Price</th>\n",
       "      <th>Overall Customer Rating</th>\n",
       "      <th>Customer Review Title</th>\n",
       "      <th>Customer Review</th>\n",
       "    </tr>\n",
       "  </thead>\n",
       "  <tbody>\n",
       "  </tbody>\n",
       "</table>\n",
       "</div>"
      ],
      "text/plain": [
       "Empty DataFrame\n",
       "Columns: [id, GPU Name, Manufacturer, Chipset Brand, Memory Size, Memory Speed(MHz), Price, Overall Customer Rating, Customer Review Title, Customer Review]\n",
       "Index: []"
      ]
     },
     "execution_count": 5,
     "metadata": {},
     "output_type": "execute_result"
    }
   ],
   "source": [
    "# Create a Dataframe to hold the data\n",
    "GPU_df = pd.DataFrame(columns=['id','GPU Name','Manufacturer', 'Chipset Brand','Memory Size', 'Memory Speed(MHz)' , 'Price', \n",
    "                       'Overall Customer Rating', 'Customer Review Title', \n",
    "                       'Customer Review'])\n",
    "GPU_df"
   ]
  },
  {
   "cell_type": "markdown",
   "metadata": {},
   "source": [
    "## Creating the function to scrap the data from Amazon"
   ]
  },
  {
   "cell_type": "code",
   "execution_count": null,
   "metadata": {},
   "outputs": [],
   "source": [
    "def scrape_amzn_gpu(no_page, no_gpu, no_review_page):\n",
    "    \"\"\"\n",
    "    This function scraps the GPUs information from the Amazon website\n",
    "    no_page: Number of pages to go through, minimum must be 2\n",
    "    no_gpu: Number of GPU information to extract per page\n",
    "    no_review_page: Number of review pages per GPU to extract\n",
    "    \"\"\"\n",
    "    # Create the Chrome Driver object\n",
    "    driver = webdriver.Chrome()\n",
    "\n",
    "    # Id for GPU tracking\n",
    "    ids = 1\n",
    "\n",
    "    # To keep track of the last entry appended for the review titles and body and the rating\n",
    "    idx_title = 0\n",
    "    idx_body = 0\n",
    "    idx_star = 0\n",
    "\n",
    "    for page in range(1,no_page):\n",
    "        # Gets the first page of the website\n",
    "        driver.get(f'https://www.amazon.com/s?k=Computer+Graphics+Cards&i=computers&rh=n:284822&page={page}&_encoding=UTF8&c=ts&qid=1608032958&ts_id=284822')\n",
    "        main_url = driver.current_url\n",
    "\n",
    "        # Check for sponsored post\n",
    "        sponsored_posts = driver.find_elements_by_xpath('//div[@data-component-type=\"sp-sponsored-result\"]/../../../..')\n",
    "        lst_index_sponsored = []\n",
    "        # Loop through the sponsored posts to find the index of the sponsored product\n",
    "        for post in sponsored_posts:\n",
    "            lst_index_sponsored.append(int(post.get_attribute('data-index')))\n",
    "\n",
    "        n = 0 # index number\n",
    "\n",
    "        # Scrap n GPUs in the first page\n",
    "        while n < no_gpu:\n",
    "\n",
    "            # If the index is in sponsored list\n",
    "            while n in lst_index_sponsored:\n",
    "                print(f'{n} index is a Sponsored Product, will skip to the next product')\n",
    "                n += 1\n",
    "\n",
    "            # Wait for 1 seconds\n",
    "            time.sleep(1)\n",
    "\n",
    "            try:\n",
    "                # Click the link for the nth GPU\n",
    "                driver.find_element_by_xpath(f'//div[@data-index={str(n)}]//a[@class=\"a-link-normal a-text-normal\"]').click()\n",
    "            except NoSuchElementException:\n",
    "                break\n",
    "\n",
    "            # Gets the url of the main page of the GPU\n",
    "            gpu_url = driver.current_url\n",
    "\n",
    "            # Click on the \"See all reviews\" link\n",
    "            try:\n",
    "                driver.find_element_by_xpath('//a[@data-hook=\"see-all-reviews-link-foot\"]').click()\n",
    "            except NoSuchElementException:\n",
    "                n += 1\n",
    "                # Go back to the main page\n",
    "                driver.get(main_url)\n",
    "                continue # Go back to the start of the while loop\n",
    "\n",
    "            # Wait for 1 seconds\n",
    "            time.sleep(1)\n",
    "\n",
    "\n",
    "            \"\"\"\n",
    "            Loop through the review page and obtain the review title, review body, ratings\n",
    "            \"\"\"\n",
    "\n",
    "            # Number of review pages to loop through for each GPU\n",
    "            for review_page in range(no_review_page):\n",
    "\n",
    "                # Gets the title of the reviews for each page, selects only the first span if there are multiple spans\n",
    "                title_comment = driver.find_elements_by_xpath('//*[@data-hook = \"review-title\"]/span[1]')\n",
    "\n",
    "                # Gets the customer reviews for each page\n",
    "                review_body = driver.find_elements_by_xpath('//*[@data-hook = \"review-body\"]')\n",
    "\n",
    "\n",
    "                # Loop through the title comments and append it to the Customer Review Title\n",
    "                for title in title_comment:\n",
    "                    GPU_df.loc[idx_title, 'Customer Review Title'] = title.text\n",
    "                    idx_title += 1\n",
    "                    #print(f'Customer review title is {title.text}')\n",
    "\n",
    "                # Gets the review_bodies in the page and stores them in a list\n",
    "                review_list = [review.text for review in review_body]\n",
    "\n",
    "\n",
    "                # Loop through the review comments and append it to the Customer Review\n",
    "                for review in review_list:\n",
    "                    GPU_df.loc[idx_body, 'Customer Review'] = review\n",
    "                    idx_body += 1\n",
    "\n",
    "                # Sleep\n",
    "                time.sleep(1)\n",
    "\n",
    "                # Goes to the next review page   \n",
    "                try:\n",
    "                    driver.find_element_by_xpath('//li[@class=\"a-last\"]/a').click()\n",
    "                    # Sleep\n",
    "                    time.sleep(3)\n",
    "                # If not break out of the loop, and go back to the GPU main page\n",
    "                except NoSuchElementException:\n",
    "                    break\n",
    "\n",
    "\n",
    "\n",
    "\n",
    "            \"\"\"\n",
    "            Fill up the null values with their respective attributes\n",
    "            \"\"\"\n",
    "\n",
    "            # Go back to the GPU main page\n",
    "            driver.get(gpu_url)\n",
    "\n",
    "            # Wait for 2 seconds\n",
    "            time.sleep(2)\n",
    "\n",
    "            # Fill up the null values with the GPU name\n",
    "            GPU_df['GPU Name'].fillna(driver.find_element_by_xpath('//*[@id=\"productTitle\"]').text, inplace=True)\n",
    "\n",
    "            # Fill up the null values with the Chipset Brand\n",
    "            try:\n",
    "                chipset = driver.find_element_by_xpath('//*[@id=\"productDetails_techSpec_section_1\"]/tbody//text()[contains(.,\"Chipset Brand\")]/../../td').text\n",
    "                GPU_df['Chipset Brand'].fillna(chipset,inplace=True)\n",
    "            except NoSuchElementException:\n",
    "                GPU_df['Chipset Brand'].fillna(np.nan,inplace=True)\n",
    "\n",
    "            # Fill up the null values with the Memory Size\n",
    "            try:\n",
    "                chipset = driver.find_element_by_xpath('//*[@id=\"productDetails_techSpec_section_1\"]/tbody//text()[contains(.,\"Graphics Card Ram Size\")]/../../td').text\n",
    "                GPU_df['Memory Size'].fillna(chipset,inplace=True)\n",
    "            except NoSuchElementException:\n",
    "                GPU_df['Memory Size'].fillna(np.nan,inplace=True)\n",
    "\n",
    "            # Fill up the null values with the Memory Speed(MHz)\n",
    "            try:\n",
    "                chipset = driver.find_element_by_xpath('//*[@id=\"productDetails_techSpec_section_1\"]/tbody//text()[contains(.,\"Memory Speed\")]/../../td').text\n",
    "                GPU_df['Memory Speed(MHz)'].fillna(chipset,inplace=True)\n",
    "            except NoSuchElementException:\n",
    "                GPU_df['Memory Speed(MHz)'].fillna(np.nan,inplace=True)\n",
    "\n",
    "            # Fill up the null values with the manufacturer name\n",
    "            try:\n",
    "                manufacturer = driver.find_element_by_xpath('//*[@id=\"productDetails_techSpec_section_2\"]/tbody//th[contains(text(),\"Manufacturer\")]/../td').text\n",
    "                GPU_df['Manufacturer'].fillna(manufacturer, inplace=True)\n",
    "            except NoSuchElementException:\n",
    "                GPU_df['Manufacturer'].fillna(np.nan,inplace=True)\n",
    "\n",
    "            # Fill up the null values with the Price\n",
    "            try:\n",
    "                GPU_df['Price'].fillna(driver.find_element_by_xpath('//*[@id=\"price_inside_buybox\"]').text, inplace=True)\n",
    "            except NoSuchElementException:\n",
    "                 GPU_df['Price'].fillna(np.nan, inplace=True)\n",
    "\n",
    "            # Fill up the null values with the Customer ratings\n",
    "            try:\n",
    "                # Gets the overall customer ratings\n",
    "                GPU_df['Overall Customer Rating'].fillna(driver.find_element_by_xpath('//div[@id=\"averageCustomerReviews\"]//span[@id=\"acrPopover\"]').get_attribute('title'), inplace=True)\n",
    "            except NoSuchElementException:\n",
    "                GPU_df['Overall Customer Rating'].fillna(np.nan, inplace=True)\n",
    "\n",
    "            # Fill the id of the GPU for tracking\n",
    "            GPU_df['id'].fillna(ids,inplace=True)\n",
    "            ids += 1\n",
    "\n",
    "            print(f'Completed scraping for {n} index in page {page}')\n",
    "\n",
    "            # Increases the index for the next GPU\n",
    "            n += 1\n",
    "\n",
    "            # Go back to the main page\n",
    "            driver.get(main_url)\n",
    "\n",
    "        print('*'*30)\n",
    "        print(f'Completed scraping for page {page}')\n",
    "        print('*'*30)\n",
    "\n",
    "    # Close the browser session\n",
    "    total_gpu = max(GPU_df['id'])\n",
    "    print(f'Completed scraping {total_gpu} GPUs reviews for {no_page-1} pages')\n",
    "    driver.quit()"
   ]
  },
  {
   "cell_type": "code",
   "execution_count": null,
   "metadata": {
    "scrolled": true
   },
   "outputs": [],
   "source": [
    "scrape_amzn_gpu(no_page=10, no_gpu=8, no_review_page=15)\n",
    "# GPU_df.shape"
   ]
  },
  {
   "cell_type": "code",
   "execution_count": null,
   "metadata": {},
   "outputs": [],
   "source": [
    "# Export to csv file\n",
    "GPU_df.to_csv('./amazon dataset/gpu_df_1.csv')"
   ]
  },
  {
   "cell_type": "markdown",
   "metadata": {},
   "source": [
    "# Data cleaning"
   ]
  },
  {
   "cell_type": "markdown",
   "metadata": {},
   "source": [
    "## Removing the null values"
   ]
  },
  {
   "cell_type": "code",
   "execution_count": 6,
   "metadata": {},
   "outputs": [],
   "source": [
    "# Read the existing csv file\n",
    "GPU_df = pd.read_csv('./amazon dataset/gpu_df_1.csv')"
   ]
  },
  {
   "cell_type": "code",
   "execution_count": 7,
   "metadata": {},
   "outputs": [
    {
     "data": {
      "text/plain": [
       "(2673, 11)"
      ]
     },
     "execution_count": 7,
     "metadata": {},
     "output_type": "execute_result"
    }
   ],
   "source": [
    "# Check the dimensions of the data\n",
    "GPU_df.shape"
   ]
  },
  {
   "cell_type": "code",
   "execution_count": 8,
   "metadata": {},
   "outputs": [
    {
     "data": {
      "text/plain": [
       "Unnamed: 0                   0\n",
       "id                           0\n",
       "GPU Name                     0\n",
       "Manufacturer                 0\n",
       "Chipset Brand                0\n",
       "Memory Size                  0\n",
       "Memory Speed(MHz)          105\n",
       "Price                        0\n",
       "Overall Customer Rating      0\n",
       "Customer Review Title        1\n",
       "Customer Review              2\n",
       "dtype: int64"
      ]
     },
     "execution_count": 8,
     "metadata": {},
     "output_type": "execute_result"
    }
   ],
   "source": [
    "# Check for null values\n",
    "GPU_df.isnull().sum()"
   ]
  },
  {
   "cell_type": "code",
   "execution_count": 9,
   "metadata": {},
   "outputs": [
    {
     "data": {
      "text/html": [
       "<div>\n",
       "<style scoped>\n",
       "    .dataframe tbody tr th:only-of-type {\n",
       "        vertical-align: middle;\n",
       "    }\n",
       "\n",
       "    .dataframe tbody tr th {\n",
       "        vertical-align: top;\n",
       "    }\n",
       "\n",
       "    .dataframe thead th {\n",
       "        text-align: right;\n",
       "    }\n",
       "</style>\n",
       "<table border=\"1\" class=\"dataframe\">\n",
       "  <thead>\n",
       "    <tr style=\"text-align: right;\">\n",
       "      <th></th>\n",
       "      <th>Unnamed: 0</th>\n",
       "      <th>id</th>\n",
       "      <th>GPU Name</th>\n",
       "      <th>Manufacturer</th>\n",
       "      <th>Chipset Brand</th>\n",
       "      <th>Memory Size</th>\n",
       "      <th>Memory Speed(MHz)</th>\n",
       "      <th>Price</th>\n",
       "      <th>Overall Customer Rating</th>\n",
       "      <th>Customer Review Title</th>\n",
       "      <th>Customer Review</th>\n",
       "    </tr>\n",
       "  </thead>\n",
       "  <tbody>\n",
       "    <tr>\n",
       "      <th>2232</th>\n",
       "      <td>2232</td>\n",
       "      <td>23.0</td>\n",
       "      <td>LINKUP {35 cm} PCIE 3.0/4.0 16x Shielded Extre...</td>\n",
       "      <td>PNY</td>\n",
       "      <td>NVIDIA</td>\n",
       "      <td>512 MB</td>\n",
       "      <td>1770 MHz</td>\n",
       "      <td>$68.96</td>\n",
       "      <td>4.2 out of 5 stars</td>\n",
       "      <td>Useful</td>\n",
       "      <td>NaN</td>\n",
       "    </tr>\n",
       "    <tr>\n",
       "      <th>2583</th>\n",
       "      <td>2583</td>\n",
       "      <td>35.0</td>\n",
       "      <td>EVGA GeForce GTX 1080 Ti Gaming 11GB GDDR5X iC...</td>\n",
       "      <td>PNY</td>\n",
       "      <td>NVIDIA</td>\n",
       "      <td>512 MB</td>\n",
       "      <td>NaN</td>\n",
       "      <td>$849.99</td>\n",
       "      <td>4.3 out of 5 stars</td>\n",
       "      <td>NaN</td>\n",
       "      <td>NaN</td>\n",
       "    </tr>\n",
       "  </tbody>\n",
       "</table>\n",
       "</div>"
      ],
      "text/plain": [
       "      Unnamed: 0    id                                           GPU Name  \\\n",
       "2232        2232  23.0  LINKUP {35 cm} PCIE 3.0/4.0 16x Shielded Extre...   \n",
       "2583        2583  35.0  EVGA GeForce GTX 1080 Ti Gaming 11GB GDDR5X iC...   \n",
       "\n",
       "     Manufacturer Chipset Brand Memory Size Memory Speed(MHz)    Price  \\\n",
       "2232          PNY        NVIDIA      512 MB          1770 MHz   $68.96   \n",
       "2583          PNY        NVIDIA      512 MB               NaN  $849.99   \n",
       "\n",
       "     Overall Customer Rating Customer Review Title Customer Review  \n",
       "2232      4.2 out of 5 stars                Useful             NaN  \n",
       "2583      4.3 out of 5 stars                   NaN             NaN  "
      ]
     },
     "execution_count": 9,
     "metadata": {},
     "output_type": "execute_result"
    }
   ],
   "source": [
    "# Drop all the null values related to review as there only 3 of them\n",
    "GPU_df[GPU_df['Customer Review'].isnull()]"
   ]
  },
  {
   "cell_type": "code",
   "execution_count": 10,
   "metadata": {},
   "outputs": [],
   "source": [
    "GPU_df.dropna(subset=['Customer Review'],inplace=True)"
   ]
  },
  {
   "cell_type": "code",
   "execution_count": 11,
   "metadata": {},
   "outputs": [
    {
     "data": {
      "text/plain": [
       "Unnamed: 0                   0\n",
       "id                           0\n",
       "GPU Name                     0\n",
       "Manufacturer                 0\n",
       "Chipset Brand                0\n",
       "Memory Size                  0\n",
       "Memory Speed(MHz)          104\n",
       "Price                        0\n",
       "Overall Customer Rating      0\n",
       "Customer Review Title        0\n",
       "Customer Review              0\n",
       "dtype: int64"
      ]
     },
     "execution_count": 11,
     "metadata": {},
     "output_type": "execute_result"
    }
   ],
   "source": [
    "# There are 19 null values related to price \n",
    "GPU_df.isnull().sum()"
   ]
  },
  {
   "cell_type": "code",
   "execution_count": 12,
   "metadata": {},
   "outputs": [
    {
     "ename": "IndexError",
     "evalue": "index 0 is out of bounds for axis 0 with size 0",
     "output_type": "error",
     "traceback": [
      "\u001b[1;31m---------------------------------------------------------------------------\u001b[0m",
      "\u001b[1;31mIndexError\u001b[0m                                Traceback (most recent call last)",
      "\u001b[1;32m<ipython-input-12-024cc212caf3>\u001b[0m in \u001b[0;36m<module>\u001b[1;34m\u001b[0m\n\u001b[0;32m      1\u001b[0m \u001b[1;31m# Name of GPU with missing price\u001b[0m\u001b[1;33m\u001b[0m\u001b[1;33m\u001b[0m\u001b[1;33m\u001b[0m\u001b[0m\n\u001b[1;32m----> 2\u001b[1;33m \u001b[0mrx_5500XT\u001b[0m \u001b[1;33m=\u001b[0m \u001b[0mGPU_df\u001b[0m\u001b[1;33m[\u001b[0m\u001b[0mGPU_df\u001b[0m\u001b[1;33m[\u001b[0m\u001b[1;34m'Price'\u001b[0m\u001b[1;33m]\u001b[0m\u001b[1;33m.\u001b[0m\u001b[0misnull\u001b[0m\u001b[1;33m(\u001b[0m\u001b[1;33m)\u001b[0m\u001b[1;33m]\u001b[0m\u001b[1;33m[\u001b[0m\u001b[1;34m'GPU Name'\u001b[0m\u001b[1;33m]\u001b[0m\u001b[1;33m.\u001b[0m\u001b[0munique\u001b[0m\u001b[1;33m(\u001b[0m\u001b[1;33m)\u001b[0m\u001b[1;33m[\u001b[0m\u001b[1;36m0\u001b[0m\u001b[1;33m]\u001b[0m\u001b[1;33m\u001b[0m\u001b[1;33m\u001b[0m\u001b[0m\n\u001b[0m\u001b[0;32m      3\u001b[0m \u001b[0mrx_5500XT\u001b[0m\u001b[1;33m\u001b[0m\u001b[1;33m\u001b[0m\u001b[0m\n",
      "\u001b[1;31mIndexError\u001b[0m: index 0 is out of bounds for axis 0 with size 0"
     ]
    }
   ],
   "source": [
    "# Name of GPU with missing price\n",
    "rx_5500XT = GPU_df[GPU_df['Price'].isnull()]['GPU Name'].unique()[0]\n",
    "rx_5500XT"
   ]
  },
  {
   "cell_type": "markdown",
   "metadata": {},
   "source": [
    "There is only 1 GPU without a price, I'll try to find a similar GPU model and impute the missing value with the price"
   ]
  },
  {
   "cell_type": "code",
   "execution_count": 13,
   "metadata": {},
   "outputs": [
    {
     "ename": "NameError",
     "evalue": "name 'rx_5500XT' is not defined",
     "output_type": "error",
     "traceback": [
      "\u001b[1;31m---------------------------------------------------------------------------\u001b[0m",
      "\u001b[1;31mNameError\u001b[0m                                 Traceback (most recent call last)",
      "\u001b[1;32m<ipython-input-13-512a6e34b211>\u001b[0m in \u001b[0;36m<module>\u001b[1;34m\u001b[0m\n\u001b[1;32m----> 1\u001b[1;33m \u001b[0mGPU_df\u001b[0m\u001b[1;33m[\u001b[0m\u001b[0mGPU_df\u001b[0m\u001b[1;33m[\u001b[0m\u001b[1;34m'GPU Name'\u001b[0m\u001b[1;33m]\u001b[0m \u001b[1;33m==\u001b[0m \u001b[0mrx_5500XT\u001b[0m\u001b[1;33m]\u001b[0m\u001b[1;33m[\u001b[0m\u001b[1;34m'GPU Name'\u001b[0m\u001b[1;33m]\u001b[0m\u001b[1;33m.\u001b[0m\u001b[0mduplicated\u001b[0m\u001b[1;33m(\u001b[0m\u001b[1;33m)\u001b[0m\u001b[1;33m.\u001b[0m\u001b[0msum\u001b[0m\u001b[1;33m(\u001b[0m\u001b[1;33m)\u001b[0m\u001b[1;33m\u001b[0m\u001b[1;33m\u001b[0m\u001b[0m\n\u001b[0m",
      "\u001b[1;31mNameError\u001b[0m: name 'rx_5500XT' is not defined"
     ]
    }
   ],
   "source": [
    "GPU_df[GPU_df['GPU Name'] == rx_5500XT]['GPU Name'].duplicated().sum()"
   ]
  },
  {
   "cell_type": "markdown",
   "metadata": {},
   "source": [
    "It seems the GPU with prices filled with null are duplicated. I'll drop them as they contain duplicated review title and reviews."
   ]
  },
  {
   "cell_type": "code",
   "execution_count": 14,
   "metadata": {},
   "outputs": [],
   "source": [
    "GPU_df.dropna(subset=['Price'], inplace=True)"
   ]
  },
  {
   "cell_type": "code",
   "execution_count": 15,
   "metadata": {},
   "outputs": [
    {
     "data": {
      "text/plain": [
       "Unnamed: 0                   0\n",
       "id                           0\n",
       "GPU Name                     0\n",
       "Manufacturer                 0\n",
       "Chipset Brand                0\n",
       "Memory Size                  0\n",
       "Memory Speed(MHz)          104\n",
       "Price                        0\n",
       "Overall Customer Rating      0\n",
       "Customer Review Title        0\n",
       "Customer Review              0\n",
       "dtype: int64"
      ]
     },
     "execution_count": 15,
     "metadata": {},
     "output_type": "execute_result"
    }
   ],
   "source": [
    "# All the null values are removed\n",
    "GPU_df.isnull().sum()"
   ]
  },
  {
   "cell_type": "markdown",
   "metadata": {},
   "source": [
    "## Removing the null values in Customer Review Title"
   ]
  },
  {
   "cell_type": "code",
   "execution_count": 16,
   "metadata": {
    "scrolled": true
   },
   "outputs": [
    {
     "data": {
      "text/plain": [
       "0"
      ]
     },
     "execution_count": 16,
     "metadata": {},
     "output_type": "execute_result"
    }
   ],
   "source": [
    "(GPU_df['Customer Review Title'] == '').sum()"
   ]
  },
  {
   "cell_type": "markdown",
   "metadata": {},
   "source": [
    "There are 2 null values in Customer Review Title, will have to remove them they're only 2 of them"
   ]
  },
  {
   "cell_type": "code",
   "execution_count": 17,
   "metadata": {},
   "outputs": [
    {
     "data": {
      "text/html": [
       "<div>\n",
       "<style scoped>\n",
       "    .dataframe tbody tr th:only-of-type {\n",
       "        vertical-align: middle;\n",
       "    }\n",
       "\n",
       "    .dataframe tbody tr th {\n",
       "        vertical-align: top;\n",
       "    }\n",
       "\n",
       "    .dataframe thead th {\n",
       "        text-align: right;\n",
       "    }\n",
       "</style>\n",
       "<table border=\"1\" class=\"dataframe\">\n",
       "  <thead>\n",
       "    <tr style=\"text-align: right;\">\n",
       "      <th></th>\n",
       "      <th>Unnamed: 0</th>\n",
       "      <th>id</th>\n",
       "      <th>GPU Name</th>\n",
       "      <th>Manufacturer</th>\n",
       "      <th>Chipset Brand</th>\n",
       "      <th>Memory Size</th>\n",
       "      <th>Memory Speed(MHz)</th>\n",
       "      <th>Price</th>\n",
       "      <th>Overall Customer Rating</th>\n",
       "      <th>Customer Review Title</th>\n",
       "      <th>Customer Review</th>\n",
       "    </tr>\n",
       "  </thead>\n",
       "  <tbody>\n",
       "  </tbody>\n",
       "</table>\n",
       "</div>"
      ],
      "text/plain": [
       "Empty DataFrame\n",
       "Columns: [Unnamed: 0, id, GPU Name, Manufacturer, Chipset Brand, Memory Size, Memory Speed(MHz), Price, Overall Customer Rating, Customer Review Title, Customer Review]\n",
       "Index: []"
      ]
     },
     "execution_count": 17,
     "metadata": {},
     "output_type": "execute_result"
    }
   ],
   "source": [
    "GPU_df[GPU_df['Customer Review Title'] == '']"
   ]
  },
  {
   "cell_type": "code",
   "execution_count": 18,
   "metadata": {},
   "outputs": [],
   "source": [
    "GPU_df.drop(GPU_df[GPU_df['Customer Review Title'] == ''].index, inplace=True)"
   ]
  },
  {
   "cell_type": "markdown",
   "metadata": {},
   "source": [
    "## Removing the non-gpus"
   ]
  },
  {
   "cell_type": "code",
   "execution_count": 19,
   "metadata": {
    "scrolled": true
   },
   "outputs": [
    {
     "data": {
      "text/plain": [
       "array(['MSI Gaming GeForce GT 710 2GB GDRR3 64-bit HDCP Support DirectX 12 OpenGL 4.5 Single Fan Low Profile Graphics Card (GT 710 2GD3 LP)',\n",
       "       'Gigabyte GV-N1030OC-2GI Nvidia GeForce GT 1030 OC 2G Graphics Card',\n",
       "       'PNY Quadro P400 Graphic Card',\n",
       "       'Gigabyte Geforce GTX 1050 Ti OC Low Profile 4GB GDDR5 128 Bit PCI-E Graphic Card (GV-N105TOC-4GL)',\n",
       "       'Gigabyte GeForce GT 1030 GV-N1030D5-2GL Low Profile 2G Computer Graphics Card',\n",
       "       'ASUS NVIDIA GeForce GT 710 Graphics Card (PCIe 2.0, 2GB GDDR5 Memory, 4X HDMI Ports, Single-Slot Design, Passive Cooling)',\n",
       "       'ASUS GeForce GT 710 1GB GDDR5 HDMI VGA DVI Graphics Card (GT710-SL-1GD5-BRK)',\n",
       "       'Asus GeForce GT 710 2GB GDDR5 HDMI VGA DVI Graphics Card Graphic Cards GT710-SL-2GD5-CSM',\n",
       "       'Gigabyte Radeon RX 580 Gaming 8GB Graphic Cards GV-RX580GAMING-8GD REV2.0',\n",
       "       'MSI Computer Video Graphic Cards GeForce GTX 1050 TI GAMING X 4G, 4GB',\n",
       "       'EVGA GeForce GTX 1650 KO Ultra GDDR6 Gaming, 04G-P4-1457-KR, 4GB GDDR6, Dual Fan, Metal Backplate',\n",
       "       'GIGABYTE Radeon RX 5600 XT Gaming OC 6G (Rev. 2.0) Graphics Card, PCIe 4.0, 6GB 192-Bit GDDR6, GV-R56XTGAMING OC-6GD REV2.0 Video Card',\n",
       "       'ZOTAC Gaming GeForce GTX 1660 6GB GDDR5 192-bit Gaming Graphics Card, Super Compact, ZT-T16600K-10M',\n",
       "       'MSI Gaming GeForce GTX 1660 192-Bit HDMI/DP 6GB GDRR5 HDCP Support DirectX 12 Dual Fan VR Ready OC Graphics Card (GTX 1660 VENTUS XS 6G OC)',\n",
       "       'PowerColor Red Devil AMD Radeon RX 5700 XT 8GB AXRX 5700XT 8GBD6-3DHE/OC',\n",
       "       'EVGA GeForce GTX 1060 GAMING, ACX 2.0 (Single Fan), 6GB GDDR5, DX12 OSD Support (PXOC) 06G-P4-6161-KR',\n",
       "       'VisionTek Radeon RX 560 4GB GDDR5 4M 4K Graphics Card, 4 Mini DisplayPort, 7.1 Surround Sound, PCI Express, Low-Profile GPU, ATX & SFF (901278)',\n",
       "       'Asus TUF Gaming GeForce GTX 1660 Super Overclocked 6GB Edition HDMI DP DVI Gaming Graphics Card (TUF-GTX1660S-O6G-GAMING)',\n",
       "       'NVIDIA Titan RTX Graphics Card',\n",
       "       'ASUS GeForce RTX 2060 Overclocked 6G GDDR6 Dual-Fan EVO Edition VR Ready HDMI DisplayPort DVI Graphics Card (DUAL-RTX2060-O6G-EVO)',\n",
       "       'MSI Gaming GeForce RTX 3070 8GB GDRR6 256-Bit HDMI/DP Tri-Frozr 2 TORX Fan 4.0 Ampere Architecture RGB OC Graphics Card (RTX 3070 Gaming X Trio)',\n",
       "       '2GB Graphics Video Card Upgrade for Apple iMac Mid-2011 27 Inch Core i5 MC814LL/A MC814 A1312 Desktop All-in-One PC, AMD Mobility Radeon HD 6970M Replacement Repair Parts',\n",
       "       'LINKUP {35 cm} PCIE 3.0/4.0 16x Shielded Extreme High-Speed Riser Cable Port Extension PCIE Card┃Black┃Left Angle┃3.0 Gen3 Compatible',\n",
       "       'NVIDIA NVS 310 by PNY 512MB DDR3 PCI Express Gen 2 x16 DisplayPort 1.2 and DVI-D SL Mllti-Display Professional Graphics Board, VCNVS310DVI-PB',\n",
       "       'VisionTek Radeon 7750 SFF 1GB DDR3 3M (2x HDMI, miniDP) Graphics Card - 900574',\n",
       "       'ASUS ROG Strix AMD Radeon RX 5600 XT TOP Edition Gaming Graphics Card (PCIe 4.0, 6GB GDDR6 Memory, HDMI, DisplayPort, 1080p Gaming, Axial-tech Fan Design, Auto-Extreme, Metal Backplate)',\n",
       "       'PNY NVIDIA Quadro NVS 510 2GB GDDR3 4-Mini DisplayPort Low Profile PCI-Express Video Card VCNVS510DVI-PB',\n",
       "       'Gigabyte GeForce GTX 1650 D6 WINDFORCE OC 4G Graphics Card, 2X WINDFORCE Fans, 4GB 128-Bit GDDR6, GV-N1656WF2OC-4GD Video Card',\n",
       "       'MSI Gaming GeForce GTX 1650 128-Bit HDMI/DP/DVI 4GB GDRR6 HDCP Support DirectX 12 VR Ready OC Graphics Card (GTX 1650 D6 Ventus XS OCV1)',\n",
       "       'Diamond Multimedia AMD Radeon HD 5450 PCI Express GDDR3 1GB (DVI, HDMI, VGA) Low Profile Enhanced Heatsink Video Graphics Card (5450PE31G)',\n",
       "       'EVGA 256-P2-N751-TR e-GeForce 8600 GT 256 MB PCI-Express Graphics Card',\n",
       "       'PNY Video Card Graphics Cards VCQK4200-PB',\n",
       "       'Nvidia Quadro K620 - Graphics Card - Quadro K620 - 2 Gb Ddr3 - Pcie 2.0 X16 Low Profile - Dvi, Displayport \"Product Type: Computer Components/Video Cards & Adapters\"',\n",
       "       'PNY GeForce RTX 3090 24GB XLR8 Gaming Revel Epic-X RGB Triple Fan Graphics Card',\n",
       "       'EVGA GeForce GTX 1080 Ti Gaming 11GB GDDR5X iCX Technology - 9 Thermal Sensors & RGB LED G/P/M Graphic Cards (11G-P4-6591-KR) (Renewed)',\n",
       "       'NVIDIA NVS 310 by PNY 512MB DDR3 PCI Express Gen 2 x16 DisplayPort 1.2 Multi-Display Professional Graphics Board, VCNVS310DP-PB'],\n",
       "      dtype=object)"
      ]
     },
     "execution_count": 19,
     "metadata": {},
     "output_type": "execute_result"
    }
   ],
   "source": [
    "GPU_df['GPU Name'].unique()"
   ]
  },
  {
   "cell_type": "markdown",
   "metadata": {},
   "source": [
    "The following are non-GPUs and need to be dropped:\n",
    "* LINKUP {75 cm} PCIE 3.0 16x Shielded Extreme High-Speed Riser Cable Premium PCI Express Port Extension Card┃90 Degree Socket\n",
    "* LINKUP {35 cm} PCIE 3.0/4.0 16x Shielded Extreme High-Speed Riser Cable Port Extension PCIE Card┃Black┃Left Angle┃3.0 Gen3 Compatible\n",
    "* GLOTRENDS Graphics Card GPU Brace Support Video Card Sag Holder/Holster Bracket for Computer Cases, Universal VGA Graphics Card Holder,Anodized Aerospace Aluminum (Black)\n",
    "* Wendry Graphics Card GPU Brace Support, Computer Independent Graphics Aluminum Alloy Bracket, Independent Load-Bearing Bracket Can Safely Support PCB (red)\n",
    "* New 2GB Graphics Video Card GPU Upgrade Replacement, for iMac 27 Inch Mid 2011 All-in-One Desktop Computer A1312 Core i7 3.4 MD063LL/A, AMD Radeon HD 6970M GDDR5, MXM VGA Board Repair Parts\n",
    "* Arm Wall Mount Bracket,SD-200 Graphics Card Holder,Universal VGA Graphics Card Holder, DIY Adjustable,Graphics Card GPU Brace Support Holder,Jack Bracket Computer Video Card Support Pole(Black)\n",
    "* GLOTRENDS Graphics Card GPU Brace Support Video Card Sag Holder/Holster Bracket for Computer Cases, Universal VGA Graphics Card Holder,Anodized Aerospace Aluminum (Red)\n",
    "* Computer Graphics Card GPU Brace Support Bracket ,Verticle GPU Sag Stand, Video Card Sag Holder Verticle Stick Mount for Computer Cases\n",
    "* icepc PCI Express x16 PCIe 3.0 Extension Cable High Shielding Property Flexible High Speed Riser Card Connector Port Adapter Compatible with GTX RTX Series, Radeon Series Graphics Card(30cm)\n",
    "* LINKUP - Flexible SLI Bridge GPU Cable Extreme High-Speed Technology Premium Shielding 85 ohm Design for NVIDIA GPUs Graphic Cards - [60 cm]\n",
    "* EVGA Hydro Copper Waterblock for GeForce RTX 2080 FTW3 400-HC-1289-B1\n",
    "* Docooler Laptop External Independent Video Card Graphics Dock Mini PCI-E Version for V8.0 EXP GDC Beast\n",
    "* Laptop External Independent Video Card Dock,for Mini PCI-E,Expresscard,6Pin+8Pin Interface Output,Without Power Supply"
   ]
  },
  {
   "cell_type": "code",
   "execution_count": 20,
   "metadata": {},
   "outputs": [],
   "source": [
    "# Create an non-GPU list \n",
    "non_gpu = ['LINKUP {75 cm} PCIE 3.0 16x Shielded Extreme High-Speed Riser Cable Premium PCI Express Port Extension Card┃90 Degree Socket',\n",
    "          'LINKUP {35 cm} PCIE 3.0/4.0 16x Shielded Extreme High-Speed Riser Cable Port Extension PCIE Card┃Black┃Left Angle┃3.0 Gen3 Compatible',\n",
    "           'GLOTRENDS Graphics Card GPU Brace Support Video Card Sag Holder/Holster Bracket for Computer Cases, Universal VGA Graphics Card Holder,Anodized Aerospace Aluminum (Black)',\n",
    "           'Wendry Graphics Card GPU Brace Support, Computer Independent Graphics Aluminum Alloy Bracket, Independent Load-Bearing Bracket Can Safely Support PCB (red)',\n",
    "           'New 2GB Graphics Video Card GPU Upgrade Replacement, for iMac 27 Inch Mid 2011 All-in-One Desktop Computer A1312 Core i7 3.4 MD063LL/A, AMD Radeon HD 6970M GDDR5, MXM VGA Board Repair Parts',\n",
    "           'Arm Wall Mount Bracket,SD-200 Graphics Card Holder,Universal VGA Graphics Card Holder, DIY Adjustable,Graphics Card GPU Brace Support Holder,Jack Bracket Computer Video Card Support Pole(Black)',\n",
    "           'GLOTRENDS Graphics Card GPU Brace Support Video Card Sag Holder/Holster Bracket for Computer Cases, Universal VGA Graphics Card Holder,Anodized Aerospace Aluminum (Red)',\n",
    "           'Computer Graphics Card GPU Brace Support Bracket ,Verticle GPU Sag Stand, Video Card Sag Holder Verticle Stick Mount for Computer Cases',\n",
    "           'icepc PCI Express x16 PCIe 3.0 Extension Cable High Shielding Property Flexible High Speed Riser Card Connector Port Adapter Compatible with GTX RTX Series, Radeon Series Graphics Card(30cm)',\n",
    "           'LINKUP - Flexible SLI Bridge GPU Cable Extreme High-Speed Technology Premium Shielding 85 ohm Design for NVIDIA GPUs Graphic Cards - [60 cm]',\n",
    "           'EVGA Hydro Copper Waterblock for GeForce RTX 2080 FTW3 400-HC-1289-B1',\n",
    "           'Docooler Laptop External Independent Video Card Graphics Dock Mini PCI-E Version for V8.0 EXP GDC Beast',\n",
    "           'Laptop External Independent Video Card Dock,for Mini PCI-E,Expresscard,6Pin+8Pin Interface Output,Without Power Supply'\n",
    "          ]"
   ]
  },
  {
   "cell_type": "markdown",
   "metadata": {},
   "source": [
    "A total of 150 rows need to be dropped"
   ]
  },
  {
   "cell_type": "code",
   "execution_count": 21,
   "metadata": {},
   "outputs": [
    {
     "data": {
      "text/plain": [
       "(2614, 11)"
      ]
     },
     "execution_count": 21,
     "metadata": {},
     "output_type": "execute_result"
    }
   ],
   "source": [
    "# Drop the non-GPUs\n",
    "GPU_df = GPU_df[~GPU_df['GPU Name'].isin(non_gpu)].copy()\n",
    "GPU_df.shape"
   ]
  },
  {
   "cell_type": "markdown",
   "metadata": {},
   "source": [
    "## Removing non-gaming manufacturers"
   ]
  },
  {
   "cell_type": "code",
   "execution_count": 22,
   "metadata": {},
   "outputs": [
    {
     "data": {
      "text/plain": [
       "array(['MSI COMPUTER', 'Gigabyte', 'PNY QUADRO', 'Asus',\n",
       "       'ASUS Computer International Direct', 'EVGA', 'ZOTAC',\n",
       "       'PowerColor', 'VISIONTEK MASS STORAGE', 'NVIDIA Corporation',\n",
       "       'PNY', 'VisionTek Products', 'Diamond', 'NVIDIA'], dtype=object)"
      ]
     },
     "execution_count": 22,
     "metadata": {},
     "output_type": "execute_result"
    }
   ],
   "source": [
    "GPU_df['Manufacturer'].unique()"
   ]
  },
  {
   "cell_type": "code",
   "execution_count": 23,
   "metadata": {},
   "outputs": [
    {
     "data": {
      "text/plain": [
       "Gigabyte                              559\n",
       "MSI COMPUTER                          460\n",
       "Asus                                  325\n",
       "ASUS Computer International Direct    300\n",
       "PNY                                   239\n",
       "EVGA                                  156\n",
       "ZOTAC                                 150\n",
       "PowerColor                            150\n",
       "VisionTek Products                     86\n",
       "Diamond                                81\n",
       "PNY QUADRO                             50\n",
       "NVIDIA Corporation                     43\n",
       "NVIDIA                                 11\n",
       "VISIONTEK MASS STORAGE                  4\n",
       "Name: Manufacturer, dtype: int64"
      ]
     },
     "execution_count": 23,
     "metadata": {},
     "output_type": "execute_result"
    }
   ],
   "source": [
    "GPU_df['Manufacturer'].value_counts()"
   ]
  },
  {
   "cell_type": "markdown",
   "metadata": {},
   "source": [
    "There are certain manufacturer that are not related to computer gaming but they are for **work stations**. Brands such as\n",
    "* PNY\n",
    "* PNY QUADRO\n",
    "* Dell Computers\n",
    "* Lenovo\n",
    "* hp\n",
    "* Hewlett Packard\n",
    "* Dell Computer Corp.\n",
    "* ATI Technologies\n",
    "\n",
    "These manufacturers will be dropped."
   ]
  },
  {
   "cell_type": "code",
   "execution_count": null,
   "metadata": {},
   "outputs": [],
   "source": [
    "non_gaming_manufacturer = ['PNY', 'PNY QUADRO', 'Dell Computers', 'Lenovo', 'hp', 'Hewlett Packard', 'Dell Computer Corp.',\n",
    "                          'Dell Computer Corp.', 'ATI Technologies']\n",
    "\n",
    "GPU_df = GPU_df[~GPU_df['Manufacturer'].isin(non_gaming_manufacturer)]\n",
    "GPU_df"
   ]
  },
  {
   "cell_type": "markdown",
   "metadata": {},
   "source": [
    "### Group up duplicate manufacturers"
   ]
  },
  {
   "cell_type": "markdown",
   "metadata": {},
   "source": [
    "Need to replace the manufacturer names with a short version e.g: ASUS Computer International Direct with Asus and ZOTAC with zotac"
   ]
  },
  {
   "cell_type": "code",
   "execution_count": null,
   "metadata": {},
   "outputs": [],
   "source": [
    "GPU_df['Manufacturer'].replace(['ASUS Computer International Direct', 'ZOTAC', 'MSI COMPUTER', 'VISIONTEK MASS STORAGE', 'NVIDIA Corporation'], ['Asus', 'Zotac', 'MSI', 'VisionTek', 'NVIDIA'], inplace=True)"
   ]
  },
  {
   "cell_type": "markdown",
   "metadata": {},
   "source": [
    "### Compare manufacturers with GPU names to see if they're correct"
   ]
  },
  {
   "cell_type": "code",
   "execution_count": null,
   "metadata": {},
   "outputs": [],
   "source": [
    "GPU_df['Manufacturer'].unique()"
   ]
  },
  {
   "cell_type": "code",
   "execution_count": null,
   "metadata": {},
   "outputs": [],
   "source": [
    "GPU_df[GPU_df['Manufacturer'] == 'Gigabyte']['GPU Name'].unique()"
   ]
  },
  {
   "cell_type": "markdown",
   "metadata": {},
   "source": [
    "Create a helper function to detect the misclassified Manufacturers for each GPU.\n",
    "\n",
    "For each GPU `Manufacturer`, check against the first word of the `GPU Name`. If it's False, replace the `Manufacturer` name with the first word of the `GPU Name`."
   ]
  },
  {
   "cell_type": "code",
   "execution_count": null,
   "metadata": {},
   "outputs": [],
   "source": [
    "def misclassified_manufacturer(df):\n",
    "    manufacturer = df['Manufacturer']\n",
    "    gpu_name = df['GPU Name']\n",
    "    misclassified_dict = {}\n",
    "    \n",
    "    for i in range(len(df)):\n",
    "        if manufacturer.iloc[i].lower() not in gpu_name.iloc[i].split()[0].lower():\n",
    "            #print(f'Misclassified manufacturer for {df[\"GPU Name\"].loc[i]} found in {df[\"Manufacturer\"].loc[i]}')\n",
    "            misclassified_dict[gpu_name.iloc[i]] = manufacturer.iloc[i].lower()\n",
    "    return misclassified_dict"
   ]
  },
  {
   "cell_type": "code",
   "execution_count": null,
   "metadata": {},
   "outputs": [],
   "source": [
    "misclass_dict = misclassified_manufacturer(GPU_df)\n",
    "misclass_dict"
   ]
  },
  {
   "cell_type": "markdown",
   "metadata": {},
   "source": [
    "Further checking the GPUs manufacturers from the website, the following are incorrect:\n",
    "* EVGA Geforce should be EVGA\n",
    "* Yeston Radeon should be Docooler\n",
    "* Genuine Dell ... should be Dell Computers\n",
    "* Gigabyte... should be Gigabyte\n",
    "* Pny ... should be PNY\n",
    "* Aiposen should be Aiposen\n",
    "* ASROCK should be ASROCK\n",
    "\n",
    "Only Sapphire Radeon is correctly classified so I'll drop that."
   ]
  },
  {
   "cell_type": "code",
   "execution_count": null,
   "metadata": {},
   "outputs": [],
   "source": [
    "# Dropping Sapphire Radeon\n",
    "print(misclass_dict.pop('Sapphire Radeon 11265-05-20G Pulse RX 580 8GB GDDR5 Dual HDMI/ DVI-D/ Dual DP OC with Backplate (UEFI) PCI-E Graphics Card Graphic Cards', None))\n",
    "misclass_dict"
   ]
  },
  {
   "cell_type": "code",
   "execution_count": null,
   "metadata": {},
   "outputs": [],
   "source": [
    "for k, v in misclass_dict.items():\n",
    "    misclass_dict[k] = k.split()[0]\n",
    "misclass_dict"
   ]
  },
  {
   "cell_type": "markdown",
   "metadata": {},
   "source": [
    "* Yeston has to be Docooler\n",
    "* Sapphire has to be Althon Micro Inc.\n",
    "* Genuine Dell has to be Dell Computers"
   ]
  },
  {
   "cell_type": "code",
   "execution_count": null,
   "metadata": {},
   "outputs": [],
   "source": [
    "misclass_dict['Yeston Radeon RX550 Gaming Graphics Cards, 4GB Memory GDDR5 128Bit 6000MHz VGA + HD + DVI-D GPU'] = 'Docooler'\n",
    "misclass_dict['Sapphire Nitro+ Radeon RX 580 8GB GDDR5 Graphics Card'] = 'Althon Micro Inc.'\n",
    "misclass_dict['Genuine Dell Fh868 Silicon Image Orion Pci-express Pci-e X16 DVI 1364a Add2-n Small Profile Video Graphics Card Compatible Part Numbers: 0fh868 Fh868 (For Desktops and Small for Factor Sff Computers)'] = 'Dell Computers'\n",
    "misclass_dict"
   ]
  },
  {
   "cell_type": "code",
   "execution_count": null,
   "metadata": {
    "scrolled": true
   },
   "outputs": [],
   "source": [
    "# Replacing the misclassified manufacturers with the correct manufacturers\n",
    "for gpu_name, manufacturer in misclass_dict.items():\n",
    "    GPU_df.loc[GPU_df.loc[:,'GPU Name'] == gpu_name,'Manufacturer'] = manufacturer\n",
    "    # GPU_df.loc[:,GPU_df['GPU Name'] == gpu_name] = manufacturer"
   ]
  },
  {
   "cell_type": "code",
   "execution_count": null,
   "metadata": {},
   "outputs": [],
   "source": [
    "GPU_df['Manufacturer'].unique()"
   ]
  },
  {
   "cell_type": "code",
   "execution_count": null,
   "metadata": {},
   "outputs": [],
   "source": [
    "# Drop Pny and Dell Computers as it's a workstation GPU\n",
    "GPU_df.drop(GPU_df[(GPU_df['Manufacturer'] == 'Pny') | (GPU_df['Manufacturer'] == 'Dell Computers')].index, inplace=True)"
   ]
  },
  {
   "cell_type": "code",
   "execution_count": null,
   "metadata": {},
   "outputs": [],
   "source": [
    "GPU_df['Manufacturer'].unique()"
   ]
  },
  {
   "cell_type": "markdown",
   "metadata": {},
   "source": [
    "## Cleaning the Chipset Brands"
   ]
  },
  {
   "cell_type": "code",
   "execution_count": null,
   "metadata": {},
   "outputs": [],
   "source": [
    "GPU_df['Chipset Brand'].unique()"
   ]
  },
  {
   "cell_type": "markdown",
   "metadata": {},
   "source": [
    "There are certain brands that are actually graphics card names or they're the brand names. The `Chipset Brand` should either be **AMD** or **Nvidia**.\n",
    "\n",
    "These `Chipset Brand` needs to be replaced with `Amd`:\n",
    "* 'AMD'\n",
    "* 'AMD Radeon RX 580'\n",
    "* 'AMD Radeon'\n",
    "* 'RX 570'\n",
    "\n",
    "\n",
    "These `Chipset Brand` needs to be replaced with `Nvidia`:\n",
    "* 'NVIDIA'\n",
    "* 'GTX 1050'\n",
    "* 'RTX 3060 ti'\n",
    "* 'RTX 3090'\n",
    "* 'RTX 3070'\n",
    "* 'Gigabyte'"
   ]
  },
  {
   "cell_type": "code",
   "execution_count": null,
   "metadata": {},
   "outputs": [],
   "source": [
    "# Replacement for Chipset Brand AMD\n",
    "amd_to_replace = ['AMD','AMD Radeon RX 580', 'AMD Radeon', 'RX 570']\n",
    "GPU_df['Chipset Brand'].replace(amd_to_replace, ['Amd' for _ in range(len(amd_to_replace))], inplace=True)"
   ]
  },
  {
   "cell_type": "code",
   "execution_count": null,
   "metadata": {},
   "outputs": [],
   "source": [
    "# Replacement for Chipset Brand Nvidia\n",
    "nvidia_to_replace = ['NVIDIA','GTX 1050', 'RTX 3060 ti', 'RTX 3090', 'RTX 3070', 'Gigabyte']\n",
    "GPU_df['Chipset Brand'].replace(nvidia_to_replace, ['Nvidia' for _ in range(len(nvidia_to_replace))], inplace=True)"
   ]
  },
  {
   "cell_type": "code",
   "execution_count": null,
   "metadata": {},
   "outputs": [],
   "source": [
    "GPU_df['Chipset Brand'].unique()"
   ]
  },
  {
   "cell_type": "markdown",
   "metadata": {},
   "source": [
    "## Cleaning up the Memory Speed (MHz)"
   ]
  },
  {
   "cell_type": "markdown",
   "metadata": {},
   "source": [
    "The 'MHz' and 'GHz' strings need to be removed and the values need to be converted to floating values.\n",
    "\n",
    "There are certain values with 'GHz', they need to be converted to 'MHz' by multiplying it by 1000."
   ]
  },
  {
   "cell_type": "code",
   "execution_count": null,
   "metadata": {},
   "outputs": [],
   "source": [
    "GPU_df['Memory Speed(MHz)'].unique()"
   ]
  },
  {
   "cell_type": "code",
   "execution_count": null,
   "metadata": {},
   "outputs": [],
   "source": [
    "# Values with 'GHz'\n",
    "GPU_df['Memory Speed(MHz)'].loc[GPU_df['Memory Speed(MHz)'].str.contains('GHz')].unique()"
   ]
  },
  {
   "cell_type": "code",
   "execution_count": null,
   "metadata": {},
   "outputs": [],
   "source": [
    "# Memory Speed(MHz) converted to their floating values\n",
    "GPU_df['Memory Speed(MHz)'] = GPU_df['Memory Speed(MHz)'].map(lambda x:float(x.split()[0]) * 1000 if x.split()[1] == 'GHz' else float(x.split()[0]))"
   ]
  },
  {
   "cell_type": "code",
   "execution_count": null,
   "metadata": {},
   "outputs": [],
   "source": []
  },
  {
   "cell_type": "markdown",
   "metadata": {},
   "source": [
    "## Cleaning up the Memory Size"
   ]
  },
  {
   "cell_type": "code",
   "execution_count": null,
   "metadata": {},
   "outputs": [],
   "source": [
    "GPU_df['Memory Size'].unique()"
   ]
  },
  {
   "cell_type": "markdown",
   "metadata": {},
   "source": [
    "There are some values which does not specify if it's GB or MB, **'4' and '8'**, and there's one value with '8192 GB' which is incorrect as there are no GPUs with over a 1000GB in memory. The MB values need to be converted to the GB values."
   ]
  },
  {
   "cell_type": "markdown",
   "metadata": {},
   "source": [
    "### 8192 GB value needs to be replaced with 8 GB, 6144 MB, 8000 MB and 4096 MB replaced with 6GB, 8GB and 4GB respectively"
   ]
  },
  {
   "cell_type": "code",
   "execution_count": null,
   "metadata": {},
   "outputs": [],
   "source": [
    "GPU_df['Memory Size'].replace(['8192 GB', '8000 MB', '6144 MB', '4096 MB'],['8 GB', '8 GB', '6 GB', '4 GB'], inplace=True)"
   ]
  },
  {
   "cell_type": "markdown",
   "metadata": {},
   "source": [
    "### Need to investigate the values that do not have either MB or GB"
   ]
  },
  {
   "cell_type": "code",
   "execution_count": null,
   "metadata": {},
   "outputs": [],
   "source": [
    "not_mb_gb = list(GPU_df[~GPU_df['Memory Size'].str.contains('GB|MB')]['Memory Size'].unique())\n",
    "not_mb_gb"
   ]
  },
  {
   "cell_type": "code",
   "execution_count": null,
   "metadata": {},
   "outputs": [],
   "source": [
    "GPU_df.loc[(GPU_df['Memory Size'] == not_mb_gb[0]) | (GPU_df['Memory Size'] == not_mb_gb[1]),'GPU Name'].unique()"
   ]
  },
  {
   "cell_type": "markdown",
   "metadata": {},
   "source": [
    "The values are in GB format, the GB string will be added."
   ]
  },
  {
   "cell_type": "code",
   "execution_count": null,
   "metadata": {},
   "outputs": [],
   "source": [
    "GPU_df['Memory Size'].replace(['4','8'],['4 GB', '8 GB'], inplace=True)"
   ]
  },
  {
   "cell_type": "code",
   "execution_count": null,
   "metadata": {},
   "outputs": [],
   "source": [
    "GPU_df['Memory Size'].unique()"
   ]
  },
  {
   "cell_type": "markdown",
   "metadata": {},
   "source": [
    "## Cleaning up the Price"
   ]
  },
  {
   "cell_type": "code",
   "execution_count": null,
   "metadata": {},
   "outputs": [],
   "source": [
    "GPU_df['Price'].unique()"
   ]
  },
  {
   "cell_type": "markdown",
   "metadata": {},
   "source": [
    "The prices need to have their dollar sign removed and the values need to be converted to their floating values"
   ]
  },
  {
   "cell_type": "code",
   "execution_count": null,
   "metadata": {},
   "outputs": [],
   "source": [
    "GPU_df['Price'] = GPU_df['Price'].map(lambda x:float(x.replace('$','')))\n",
    "GPU_df['Price']"
   ]
  },
  {
   "cell_type": "code",
   "execution_count": null,
   "metadata": {},
   "outputs": [],
   "source": [
    "GPU_df['Price'].unique()"
   ]
  },
  {
   "cell_type": "markdown",
   "metadata": {},
   "source": [
    "## Cleaning up the overall customer rating"
   ]
  },
  {
   "cell_type": "markdown",
   "metadata": {},
   "source": [
    "The rating will be converted to their floating values."
   ]
  },
  {
   "cell_type": "code",
   "execution_count": null,
   "metadata": {},
   "outputs": [],
   "source": [
    "GPU_df['Overall Customer Rating'].unique()"
   ]
  },
  {
   "cell_type": "code",
   "execution_count": null,
   "metadata": {},
   "outputs": [],
   "source": [
    "GPU_df['Overall Customer Rating'] = GPU_df['Overall Customer Rating'].map(lambda x:float(x.split('out')[0]))\n",
    "GPU_df['Overall Customer Rating'].unique()"
   ]
  },
  {
   "cell_type": "markdown",
   "metadata": {},
   "source": [
    "## Cleaning the customer review title and reviews"
   ]
  },
  {
   "cell_type": "code",
   "execution_count": null,
   "metadata": {},
   "outputs": [],
   "source": [
    "# Full function to clean the title and the post\n",
    "def clean_post(df):\n",
    "    \"\"\"\n",
    "    This function removes the unnecessary characters, punctuations, removes stop words and lemmantizes the words\n",
    "    from the posts and titles. Lemmantization is used as I want to preserve the meaning of the words in which it'll compare the words against a dictionary.\n",
    "    \"\"\"\n",
    "    new_lst = []\n",
    "    \n",
    "    # Stop words\n",
    "    stops = set(stopwords.words('english'))\n",
    "    \n",
    "    # Lemmatizer\n",
    "    lemmatizer = WordNetLemmatizer()\n",
    "    \n",
    "    for post in df:\n",
    "        # Lowercase the text\n",
    "        post = post.lower()\n",
    "\n",
    "        # Find the https websites and removes them\n",
    "        post = re.sub(r'\\(https:.*?\\)','',post)\n",
    "\n",
    "        # Removes youtube links\n",
    "        post = re.sub('https:.*?\\\\n','',post)\n",
    "\n",
    "        # Removes uncaptured url links at the bottom of the text\n",
    "        post = re.sub('https.*?[\\\\n|\"]','',post)\n",
    "\n",
    "        # Removes characters: \\n\\n&amp;#x200B;\n",
    "        post = re.sub('\\\\n\\\\n&amp;#x200b;\\\\n\\\\n','',post)\n",
    "\n",
    "        # Removing the special characters, like punctuation marks, periods\n",
    "        post = re.sub(r'[^\\w]',' ',post)\n",
    "        \n",
    "        # Removes digits and keeps the letters\n",
    "        # post = re.sub(r'[^a-zA-Z]', ' ', post)\n",
    "\n",
    "        # Removes underscores\n",
    "        post = re.sub(' _', ' ',post)\n",
    "\n",
    "        # Removes addtional white spaces\n",
    "        post = re.sub(' +', ' ',post)\n",
    "        \n",
    "        # Stores the words in a list \n",
    "        lst = [] \n",
    "        \n",
    "        # If the word is not in the stop words then, lemmantize the words\n",
    "        for word in post.split():\n",
    "            if not word in stops:\n",
    "                lst.append(lemmatizer.lemmatize(word))\n",
    "            \n",
    "        new_lst.append(\" \".join(lst))\n",
    "        \n",
    "    return new_lst"
   ]
  },
  {
   "cell_type": "code",
   "execution_count": null,
   "metadata": {},
   "outputs": [],
   "source": [
    "# Cleans the Customer Review column\n",
    "GPU_df['Customer Review'] = clean_post(GPU_df['Customer Review'])\n",
    "GPU_df['Customer Review']"
   ]
  },
  {
   "cell_type": "code",
   "execution_count": null,
   "metadata": {},
   "outputs": [],
   "source": [
    "# Randomly going through the rows to check if it's cleaned properly \n",
    "GPU_df['Customer Review'].loc[np.random.randint(2048)]"
   ]
  },
  {
   "cell_type": "code",
   "execution_count": null,
   "metadata": {},
   "outputs": [],
   "source": [
    "# Cleans the Customer Review Title column\n",
    "GPU_df['Customer Review Title'] = clean_post(GPU_df['Customer Review Title'])\n",
    "GPU_df['Customer Review Title']"
   ]
  },
  {
   "cell_type": "code",
   "execution_count": null,
   "metadata": {},
   "outputs": [],
   "source": [
    "# Randomly going through the rows to check if it's cleaned properly \n",
    "GPU_df['Customer Review Title'].loc[np.random.randint(2048)]"
   ]
  },
  {
   "cell_type": "markdown",
   "metadata": {},
   "source": [
    "### Removing non-english words in the reviews"
   ]
  },
  {
   "cell_type": "code",
   "execution_count": null,
   "metadata": {},
   "outputs": [],
   "source": [
    "# Removing non english by creating a helper function\n",
    "from langdetect import detect\n",
    "def isenglish(text):\n",
    "    try:\n",
    "        if nlp(text)._.language.get('language') == 'en':\n",
    "            return 1\n",
    "        else:\n",
    "            return 0\n",
    "    except:\n",
    "        return 0"
   ]
  },
  {
   "cell_type": "code",
   "execution_count": null,
   "metadata": {
    "scrolled": false
   },
   "outputs": [],
   "source": [
    "GPU_df['isenglish'] = GPU_df['Customer Review'].apply(isenglish)"
   ]
  },
  {
   "cell_type": "code",
   "execution_count": null,
   "metadata": {},
   "outputs": [],
   "source": [
    "GPU_df[GPU_df.loc[:,'isenglish'] == 0][['Customer Review']].count()"
   ]
  },
  {
   "cell_type": "markdown",
   "metadata": {},
   "source": [
    "A total of 130 rows were non-english reviews. These have to be removed."
   ]
  },
  {
   "cell_type": "code",
   "execution_count": null,
   "metadata": {},
   "outputs": [],
   "source": [
    "GPU_df.shape"
   ]
  },
  {
   "cell_type": "code",
   "execution_count": null,
   "metadata": {},
   "outputs": [],
   "source": [
    "GPU_df.drop(GPU_df[GPU_df['isenglish'] == 0].index, inplace=True)"
   ]
  },
  {
   "cell_type": "code",
   "execution_count": null,
   "metadata": {},
   "outputs": [],
   "source": []
  },
  {
   "cell_type": "markdown",
   "metadata": {},
   "source": [
    "## Checking for duplicates"
   ]
  },
  {
   "cell_type": "code",
   "execution_count": null,
   "metadata": {},
   "outputs": [],
   "source": [
    "GPU_df[['Customer Review Title', 'Customer Review']].loc[GPU_df['Customer Review'].duplicated()]"
   ]
  },
  {
   "cell_type": "code",
   "execution_count": null,
   "metadata": {},
   "outputs": [],
   "source": [
    "GPU_df[['Customer Review Title', 'Customer Review']].loc[GPU_df[['Customer Review Title']].duplicated()]"
   ]
  },
  {
   "cell_type": "code",
   "execution_count": null,
   "metadata": {},
   "outputs": [],
   "source": [
    "GPU_df[GPU_df['Customer Review Title'] == 'far good']"
   ]
  },
  {
   "cell_type": "markdown",
   "metadata": {},
   "source": [
    "The duplicate values doesn't be seem to be actually duplicates, just a few words that were written by the customers."
   ]
  },
  {
   "cell_type": "code",
   "execution_count": null,
   "metadata": {},
   "outputs": [],
   "source": [
    "# Save to csv file\n",
    "GPU_df.to_csv('./amazon dataset/cleaned_gpu_df_1.csv',index=False)"
   ]
  },
  {
   "cell_type": "markdown",
   "metadata": {},
   "source": [
    "# EDA"
   ]
  },
  {
   "cell_type": "code",
   "execution_count": 27,
   "metadata": {},
   "outputs": [],
   "source": [
    "# Read the existing csv file\n",
    "GPU_df = pd.read_csv('./amazon dataset/cleaned_gpu_df_1.csv')"
   ]
  },
  {
   "cell_type": "code",
   "execution_count": null,
   "metadata": {},
   "outputs": [],
   "source": []
  },
  {
   "cell_type": "code",
   "execution_count": 28,
   "metadata": {},
   "outputs": [
    {
     "data": {
      "text/plain": [
       "(2050, 12)"
      ]
     },
     "execution_count": 28,
     "metadata": {},
     "output_type": "execute_result"
    }
   ],
   "source": [
    "GPU_df.shape"
   ]
  },
  {
   "cell_type": "code",
   "execution_count": 29,
   "metadata": {},
   "outputs": [
    {
     "data": {
      "text/plain": [
       "Unnamed: 0                 0\n",
       "id                         0\n",
       "GPU Name                   0\n",
       "Manufacturer               0\n",
       "Chipset Brand              0\n",
       "Memory Size                0\n",
       "Memory Speed(MHz)          0\n",
       "Price                      0\n",
       "Overall Customer Rating    0\n",
       "Customer Review Title      4\n",
       "Customer Review            0\n",
       "isenglish                  0\n",
       "dtype: int64"
      ]
     },
     "execution_count": 29,
     "metadata": {},
     "output_type": "execute_result"
    }
   ],
   "source": [
    "# Check for null values\n",
    "GPU_df.isnull().sum()"
   ]
  },
  {
   "cell_type": "code",
   "execution_count": null,
   "metadata": {},
   "outputs": [],
   "source": [
    "# Drop the rows with null values\n",
    "GPU_df.dropna(inplace=True)"
   ]
  },
  {
   "cell_type": "code",
   "execution_count": null,
   "metadata": {},
   "outputs": [],
   "source": [
    "# Remove the Review title and reviews\n",
    "GPU_df_no_reviews = GPU_df.drop(['Customer Review Title', 'Customer Review'], axis=1)\n",
    "GPU_df_no_reviews.head()"
   ]
  },
  {
   "cell_type": "code",
   "execution_count": null,
   "metadata": {},
   "outputs": [],
   "source": [
    "# Check if the ids match\n",
    "list(GPU_df_no_reviews.drop_duplicates(['id'])['id'].unique()) == list(GPU_df['id'].unique())"
   ]
  },
  {
   "cell_type": "code",
   "execution_count": null,
   "metadata": {},
   "outputs": [],
   "source": [
    "# Remove the duplicate values in the GPU_df_no_reviews\n",
    "GPU_df_no_reviews = GPU_df_no_reviews.drop_duplicates(['id'])\n",
    "GPU_df_no_reviews.head()"
   ]
  },
  {
   "cell_type": "code",
   "execution_count": null,
   "metadata": {},
   "outputs": [],
   "source": [
    "# Set the id as the index and reset the index\n",
    "GPU_df_no_reviews = GPU_df_no_reviews.set_index('id').reset_index(drop=True)\n",
    "GPU_df_no_reviews"
   ]
  },
  {
   "cell_type": "code",
   "execution_count": null,
   "metadata": {},
   "outputs": [],
   "source": [
    "GPU_df_no_reviews.shape"
   ]
  },
  {
   "cell_type": "markdown",
   "metadata": {},
   "source": [
    "### Price distribution"
   ]
  },
  {
   "cell_type": "code",
   "execution_count": null,
   "metadata": {},
   "outputs": [],
   "source": [
    "# plt.figure(figsize=(99,99))\n",
    "sns.displot(GPU_df_no_reviews['Price'], bins=10, aspect=1.5, height=6, color='green')\n",
    "plt.axvline(GPU_df_no_reviews['Price'].mean(),color='red')\n",
    "plt.axvline(GPU_df_no_reviews['Price'].median(),color='yellow')\n",
    "\n",
    "plt.title('Distribution of sale price of GPUs', size=13)\n",
    "plt.legend(['Mean sale price','Median sale price']);"
   ]
  },
  {
   "cell_type": "markdown",
   "metadata": {},
   "source": [
    "The distribution shows a right skewed graph with most of the GPUs falling below the 100 dollars range. The mean and the median prices are far part showing that they are some outliers in the price distribution as seen in the price range of 800 and 1000 dollars range. "
   ]
  },
  {
   "cell_type": "markdown",
   "metadata": {},
   "source": [
    "### Distribution of AMD and Nvidia Chipsets"
   ]
  },
  {
   "cell_type": "code",
   "execution_count": null,
   "metadata": {},
   "outputs": [],
   "source": [
    "GPU_df_no_reviews['Chipset Brand'].value_counts(normalize=True)"
   ]
  },
  {
   "cell_type": "markdown",
   "metadata": {},
   "source": [
    "It seems that most of the GPUs are under Nvidia with a proportion of 70% while Amd has a proportion of 30%."
   ]
  },
  {
   "cell_type": "markdown",
   "metadata": {},
   "source": [
    "### Most popular brands by their rating"
   ]
  },
  {
   "cell_type": "code",
   "execution_count": null,
   "metadata": {},
   "outputs": [],
   "source": [
    "GPU_df_no_reviews['Manufacturer'].value_counts()"
   ]
  },
  {
   "cell_type": "markdown",
   "metadata": {},
   "source": [
    "As NVIDIA, NVIDIA Corporation and Althon Micro Inc. have only 1 GPUs, I'll not include them in the popular brand investigation"
   ]
  },
  {
   "cell_type": "code",
   "execution_count": null,
   "metadata": {},
   "outputs": [],
   "source": [
    "manufacturer_list = ['AMD','ASRock','Aiposen','SAPPHIRE', 'Althon Micro Inc.', 'NVIDIA']\n",
    "GPU_df_no_reviews.groupby('Manufacturer').mean().drop(manufacturer_list)['Overall Customer Rating'].sort_index(ascending=False).plot(kind='barh', \n",
    "                                                                                                                                            title='Most popular brand by rating', \n",
    "                                                                                                                                            figsize=(11,7), \n",
    "                                                                                                                                            color='green')\n",
    "plt.xlabel('Rating')\n",
    "plt.ylabel('Brand', rotation=360);"
   ]
  },
  {
   "cell_type": "code",
   "execution_count": null,
   "metadata": {},
   "outputs": [],
   "source": [
    "GPU_df_no_reviews.groupby('Manufacturer').mean().drop(manufacturer_list)['Overall Customer Rating'].sort_values(ascending=False)"
   ]
  },
  {
   "cell_type": "markdown",
   "metadata": {},
   "source": [
    "Without including Nvidia and Althon Micro Inc as they have only 1 type of GPU, Asus, EVGA and SAPPHIRE are the most popular brands given their high ratings.\n",
    "\n",
    "The reason behind this is that consumers usually prefer 3rd party coolers fitted into the GPUs compared to the Nvidia's coolers as they're much more effective in controlling the airflow and decreasing the GPU temperature. "
   ]
  },
  {
   "cell_type": "markdown",
   "metadata": {},
   "source": [
    "### Which Chipset Brand has a higher customer rating?"
   ]
  },
  {
   "cell_type": "code",
   "execution_count": null,
   "metadata": {},
   "outputs": [],
   "source": [
    "GPU_df_no_reviews.groupby('Chipset Brand').mean()['Overall Customer Rating']"
   ]
  },
  {
   "cell_type": "markdown",
   "metadata": {},
   "source": [
    "Nvidia is slightly ahead of AMD in terms of the Overall Customer rating."
   ]
  },
  {
   "cell_type": "markdown",
   "metadata": {},
   "source": [
    "### Which Manufacturer produces GPUs with higher Memory Speed and Size?"
   ]
  },
  {
   "cell_type": "code",
   "execution_count": null,
   "metadata": {},
   "outputs": [],
   "source": [
    "GPU_df_no_reviews.info()"
   ]
  },
  {
   "cell_type": "code",
   "execution_count": null,
   "metadata": {},
   "outputs": [],
   "source": [
    "GPU_df_no_reviews.groupby('Manufacturer').mean()['Memory Speed(MHz)'].sort_values().plot(kind='barh', figsize=(11,7))\n",
    "\n",
    "plt.title('Memory speed of the GPUs produced by individual manufacturers')\n",
    "plt.xlabel('Memory speed (MHz)')\n",
    "plt.ylabel('Manufacturer',rotation=360);"
   ]
  },
  {
   "cell_type": "code",
   "execution_count": null,
   "metadata": {},
   "outputs": [],
   "source": [
    "GPU_df_no_reviews.groupby('Manufacturer').mean()['Memory Speed(MHz)'].sort_values(ascending=False)"
   ]
  },
  {
   "cell_type": "markdown",
   "metadata": {},
   "source": [
    "ASRock, Gigabyte, XFX and EVGA manufacturers produces GPUs with high amount of memory speed which shows that they're premium brands that produce 'Enthusiast Grade' types of GPUs."
   ]
  },
  {
   "cell_type": "markdown",
   "metadata": {},
   "source": [
    "### EDA on Customer Review Title"
   ]
  },
  {
   "cell_type": "code",
   "execution_count": null,
   "metadata": {},
   "outputs": [],
   "source": [
    "customer_review_title = \" \".join(GPU_df['Customer Review Title'])"
   ]
  },
  {
   "cell_type": "code",
   "execution_count": null,
   "metadata": {},
   "outputs": [],
   "source": [
    "# Create a WordCloud object\n",
    "wordcloud = WordCloud(background_color=\"white\", max_words=5000, \n",
    "                      contour_width=5, contour_color='steelblue', width=700, height=500)\n",
    "wordcloud.generate(customer_review_title)\n",
    "# Visualize the word cloud\n",
    "wordcloud.to_image()"
   ]
  },
  {
   "cell_type": "markdown",
   "metadata": {},
   "source": [
    "Based on the word cloud, it seems that consumers are mostly satisfied with their GPU purchase with 'good', 'great' and 'best' words coming out at the top. The consumers are mostly gamers and most of them play in 1080p resolution and they seem to be price sensitive with the words such as 'bang buck' and 'great value' having a bigger size. "
   ]
  },
  {
   "cell_type": "code",
   "execution_count": null,
   "metadata": {},
   "outputs": [],
   "source": [
    "customer_review_title_list = customer_review_title.split()\n",
    "customer_review_title_dict = {}\n",
    "\n",
    "for word in customer_review_title_list:\n",
    "    if word not in customer_review_title_dict.keys():\n",
    "        customer_review_title_dict[word] = customer_review_title_list.count(word)\n",
    "    else:\n",
    "        continue\n",
    "        \n",
    "customer_review_title_dict"
   ]
  },
  {
   "cell_type": "code",
   "execution_count": null,
   "metadata": {},
   "outputs": [],
   "source": [
    "df = {'words': customer_review_title_dict.keys(), 'freq': customer_review_title_dict.values()}\n",
    "customer_review_title_df = pd.DataFrame(df)\n",
    "customer_review_title_df.sort_values('freq', ascending=False).set_index('words').head(10).plot(kind='barh', figsize=(11,7),\n",
    "                                                                                              title='Frequency of words in customer review title')\n",
    "plt.xticks(fontsize=12)\n",
    "plt.legend([]);"
   ]
  },
  {
   "cell_type": "markdown",
   "metadata": {},
   "source": [
    "The graph shows consistency with the word cloud on the frequency of the words appearing in the customer review title."
   ]
  },
  {
   "cell_type": "code",
   "execution_count": null,
   "metadata": {},
   "outputs": [],
   "source": [
    "# customer_review_title_df['freq'].hist(bins=150)\n",
    "# plt.xlim(0,50)"
   ]
  },
  {
   "cell_type": "markdown",
   "metadata": {},
   "source": [
    "### EDA on Customer Review"
   ]
  },
  {
   "cell_type": "code",
   "execution_count": null,
   "metadata": {},
   "outputs": [],
   "source": [
    "customer_review = \" \".join(GPU_df['Customer Review'])"
   ]
  },
  {
   "cell_type": "code",
   "execution_count": null,
   "metadata": {},
   "outputs": [],
   "source": [
    "# Create a WordCloud object\n",
    "wordcloud = WordCloud(background_color=\"white\", max_words=5000, \n",
    "                      contour_width=5, contour_color='steelblue', width=700, height=500)\n",
    "wordcloud.generate(customer_review)\n",
    "# Visualize the word cloud\n",
    "wordcloud.to_image()"
   ]
  },
  {
   "cell_type": "markdown",
   "metadata": {},
   "source": [
    "Similar to the customer review title word cloud, consumers who purchase GPUs tend to be gamers and they play on 1080p resolution. GPU fans are an important factor when making a GPU purchase as the word 'fan' size is rather big. The word 'issue' and 'problem' shows up big which suggests that consumers may have encountered issues with the GPUs they have purchased. The two brands 'amd' and 'nvidia' shows that these 2 are the major players in the GPU market. GPU drivers seem to play an important role in making sure that the GPU is functioning."
   ]
  },
  {
   "cell_type": "code",
   "execution_count": null,
   "metadata": {},
   "outputs": [],
   "source": [
    "customer_review_list = customer_review.split()\n",
    "customer_review_dict = {}\n",
    "\n",
    "for word in customer_review_list:\n",
    "    if word not in customer_review_dict.keys():\n",
    "        customer_review_dict[word] = customer_review_list.count(word)\n",
    "    else:\n",
    "        continue\n",
    "        \n",
    "customer_review_dict"
   ]
  },
  {
   "cell_type": "code",
   "execution_count": null,
   "metadata": {},
   "outputs": [],
   "source": [
    "review_df = {'words': customer_review_dict.keys(), 'freq': customer_review_dict.values()}\n",
    "customer_review_df = pd.DataFrame(review_df)\n",
    "customer_review_df.sort_values('freq', ascending=False).set_index('words').head(10).plot(kind='barh', figsize=(11,7),\n",
    "                                                                                              title='Frequency of words in customer review title')\n",
    "plt.xticks(fontsize=12)\n",
    "plt.yticks(fontsize=12)\n",
    "plt.legend([]);"
   ]
  },
  {
   "cell_type": "markdown",
   "metadata": {},
   "source": [
    "The graph shows consistency with the word cloud on the frequency of the words appearing in the customer review title."
   ]
  },
  {
   "cell_type": "markdown",
   "metadata": {},
   "source": [
    "## Prepare data for LDA Analysis"
   ]
  },
  {
   "cell_type": "markdown",
   "metadata": {},
   "source": [
    "I'll be using only Customer Review to conduct the LDA Analysis as it makes up the bulk of the words."
   ]
  },
  {
   "cell_type": "code",
   "execution_count": null,
   "metadata": {},
   "outputs": [],
   "source": [
    "# Converting to the customer reviews from series to a list.\n",
    "data = GPU_df['Customer Review'].values.tolist()\n",
    "data[600]"
   ]
  },
  {
   "cell_type": "code",
   "execution_count": null,
   "metadata": {},
   "outputs": [],
   "source": [
    "def sent_to_words(sentences):\n",
    "    for sentence in sentences:\n",
    "        # deacc=True removes punctuations\n",
    "        yield(gensim.utils.simple_preprocess(sentence))"
   ]
  },
  {
   "cell_type": "code",
   "execution_count": null,
   "metadata": {},
   "outputs": [],
   "source": [
    "texts = list(sent_to_words(data))"
   ]
  },
  {
   "cell_type": "code",
   "execution_count": null,
   "metadata": {},
   "outputs": [],
   "source": [
    "# Prints the first document with up to 30 words in them\n",
    "print(texts[:1][0][:30])"
   ]
  },
  {
   "cell_type": "code",
   "execution_count": null,
   "metadata": {},
   "outputs": [],
   "source": [
    "# Create Dictionary\n",
    "id2word = corpora.Dictionary(texts)\n",
    "\n",
    "# Term Document Frequency\n",
    "corpus = [id2word.doc2bow(text) for text in texts]\n",
    "# View\n",
    "print(corpus[:1][0][:30])"
   ]
  },
  {
   "cell_type": "markdown",
   "metadata": {},
   "source": [
    "## LDA Model Training"
   ]
  },
  {
   "cell_type": "code",
   "execution_count": null,
   "metadata": {},
   "outputs": [],
   "source": [
    "# number of topics\n",
    "num_topics = 10\n",
    "\n",
    "# Build LDA model\n",
    "lda_model = gensim.models.LdaMulticore(corpus=corpus,\n",
    "                                       id2word=id2word,\n",
    "                                       num_topics=num_topics,\n",
    "                                      passes=20, random_state=42)\n",
    "\n",
    "# Print the Keyword in the 10 topics\n",
    "pprint(lda_model.print_topics())\n",
    "doc_lda = lda_model[corpus]"
   ]
  },
  {
   "cell_type": "code",
   "execution_count": null,
   "metadata": {},
   "outputs": [],
   "source": [
    "# Visualize the topics\n",
    "pyLDAvis.enable_notebook()\n",
    "LDAvis_data_filepath = os.path.join(os.getcwd()+'\\\\visualization\\\\'+'ldavis_prepared_'+str(num_topics))\n",
    "# # this is a bit time consuming - make the if statement True\n",
    "# # if you want to execute visualization prep yourself\n",
    "if False:\n",
    "    LDAvis_prepared = pyLDAvis.gensim.prepare(lda_model, corpus, id2word)\n",
    "    with open(LDAvis_data_filepath, 'wb') as f:\n",
    "        pickle.dump(LDAvis_prepared, f)\n",
    "# load the pre-prepared pyLDAvis data from disk\n",
    "with open(LDAvis_data_filepath, 'rb') as f:\n",
    "    LDAvis_prepared = pickle.load(f)\n",
    "pyLDAvis.save_html(LDAvis_prepared, os.getcwd()+ '\\\\visualization\\\\' + 'ldavis_prepared_'+ str(num_topics) +'.html')\n",
    "LDAvis_prepared"
   ]
  },
  {
   "cell_type": "code",
   "execution_count": null,
   "metadata": {},
   "outputs": [],
   "source": []
  },
  {
   "cell_type": "code",
   "execution_count": null,
   "metadata": {},
   "outputs": [],
   "source": []
  },
  {
   "cell_type": "code",
   "execution_count": null,
   "metadata": {},
   "outputs": [],
   "source": []
  },
  {
   "cell_type": "code",
   "execution_count": null,
   "metadata": {},
   "outputs": [],
   "source": []
  },
  {
   "cell_type": "markdown",
   "metadata": {},
   "source": [
    "# Others"
   ]
  },
  {
   "cell_type": "markdown",
   "metadata": {},
   "source": [
    "## Testing function (Working for now)"
   ]
  },
  {
   "cell_type": "code",
   "execution_count": null,
   "metadata": {},
   "outputs": [],
   "source": [
    "# #def scrape_gpu(no_page, no_gpu, no_review_page):\n",
    "\n",
    "# # Create the Chrome Driver object\n",
    "# driver = webdriver.Chrome()\n",
    "\n",
    "# # Id for GPU tracking\n",
    "# ids = 1\n",
    "\n",
    "# # To keep track of the last entry appended for the review titles and body and the rating\n",
    "# idx_title = 0\n",
    "# idx_body = 0\n",
    "# idx_star = 0\n",
    "# #print('Over sas')\n",
    "\n",
    "# for page in range(1,3):\n",
    "#     # Gets the first page of the website\n",
    "#     #print('Over ss')\n",
    "#     driver.get(f'https://www.amazon.com/s?k=Computer+Graphics+Cards&i=computers&rh=n:284822&page={page}&_encoding=UTF8&c=ts&qid=1608032958&ts_id=284822')\n",
    "#     main_url = driver.current_url\n",
    "#     #print('Over here')\n",
    "\n",
    "#     # # Check for sponsored post\n",
    "#     sponsored_posts = driver.find_elements_by_xpath('//div[@data-component-type=\"sp-sponsored-result\"]/../../../..')\n",
    "#     lst_index_sponsored = []\n",
    "#     # Loop through the sponsored posts to find the index of the sponsored product\n",
    "#     for post in sponsored_posts:\n",
    "#         lst_index_sponsored.append(int(post.get_attribute('data-index')))\n",
    "\n",
    "#     n = 0 # index number\n",
    "\n",
    "#     # Scrap 3 GPUs in the first page\n",
    "#     while n < 3:\n",
    "\n",
    "#         # If the index is in sponsored list\n",
    "#         while n in lst_index_sponsored:\n",
    "#             print(f'{n} index is a Sponsored Product, will skip to the next product')\n",
    "#             n += 1\n",
    "\n",
    "#         # Wait for 1 seconds\n",
    "#         time.sleep(1)\n",
    "        \n",
    "#         try:\n",
    "#             # Click the link for the nth GPU\n",
    "#             driver.find_element_by_xpath(f'//div[@data-index={str(n)}]//a[@class=\"a-link-normal a-text-normal\"]').click()\n",
    "#         except NoSuchElementException:\n",
    "#             break\n",
    "\n",
    "#         # Gets the url of the main page of the GPU\n",
    "#         gpu_url = driver.current_url\n",
    "\n",
    "#         # Click on the \"See all reviews\" link\n",
    "#         try:\n",
    "#             driver.find_element_by_xpath('//a[@data-hook=\"see-all-reviews-link-foot\"]').click()\n",
    "#         except NoSuchElementException:\n",
    "#             n += 1\n",
    "#             # Go back to the main page\n",
    "#             driver.get(main_url)\n",
    "#             continue # Go back to the start of the while loop\n",
    "\n",
    "#         # Wait for 1 seconds\n",
    "#         time.sleep(1)\n",
    "\n",
    "\n",
    "#         \"\"\"\n",
    "#         Loop through the review page and obtain the review title, review body, ratings\n",
    "#         \"\"\"\n",
    "\n",
    "#         # Number of review pages to loop through for each GPU\n",
    "#         for review_page in range(2):\n",
    "\n",
    "#             # Gets the title of the reviews for each page, selects only the first span if there are multiple spans\n",
    "#             title_comment = driver.find_elements_by_xpath('//*[@data-hook = \"review-title\"]/span[1]')\n",
    "\n",
    "#             # Gets the customer reviews for each page\n",
    "#             review_body = driver.find_elements_by_xpath('//*[@data-hook = \"review-body\"]')\n",
    "\n",
    "\n",
    "#             # Loop through the title comments and append it to the Customer Review Title\n",
    "#             for title in title_comment:\n",
    "#                 GPU_df.loc[idx_title, 'Customer Review Title'] = title.text\n",
    "#                 idx_title += 1\n",
    "#                 #print(f'Customer review title is {title.text}')\n",
    "\n",
    "#             # Gets the review_bodies in the page and stores them in a list\n",
    "#             review_list = [review.text for review in review_body]\n",
    "\n",
    "\n",
    "#             # Loop through the review comments and append it to the Customer Review\n",
    "#             for review in review_list:\n",
    "#                 GPU_df.loc[idx_body, 'Customer Review'] = review\n",
    "#                 idx_body += 1\n",
    "\n",
    "#             # Sleep\n",
    "#             time.sleep(1)\n",
    "\n",
    "#             # Goes to the next review page   \n",
    "#             try:\n",
    "#                 driver.find_element_by_xpath('//li[@class=\"a-last\"]/a').click()\n",
    "#                 # Sleep\n",
    "#                 time.sleep(3)\n",
    "#             # If not break out of the loop, and go back to the GPU main page\n",
    "#             except NoSuchElementException:\n",
    "#                 break\n",
    "\n",
    "\n",
    "\n",
    "\n",
    "#         \"\"\"\n",
    "#         Fill up the null values with their respective attributes\n",
    "#         \"\"\"\n",
    "\n",
    "#         # Go back to the GPU main page\n",
    "#         driver.get(gpu_url)\n",
    "\n",
    "#         # Wait for 2 seconds\n",
    "#         time.sleep(2)\n",
    "\n",
    "#         # Fill up the null values with the GPU name\n",
    "#         GPU_df['GPU Name'].fillna(driver.find_element_by_xpath('//*[@id=\"productTitle\"]').text, inplace=True)\n",
    "\n",
    "#         # Fill up the null values with the Chipset Brand\n",
    "#         try:\n",
    "#             chipset = driver.find_element_by_xpath('//*[@id=\"productDetails_techSpec_section_1\"]/tbody//text()[contains(.,\"Chipset Brand\")]/../../td').text\n",
    "#             GPU_df['Chipset Brand'].fillna(chipset,inplace=True)\n",
    "#         except NoSuchElementException:\n",
    "#             GPU_df['Chipset Brand'].fillna(np.nan,inplace=True)\n",
    "\n",
    "#         # Fill up the null values with the Memory Size\n",
    "#         try:\n",
    "#             chipset = driver.find_element_by_xpath('//*[@id=\"productDetails_techSpec_section_1\"]/tbody//text()[contains(.,\"Graphics Card Ram Size\")]/../../td').text\n",
    "#             GPU_df['Memory Size'].fillna(chipset,inplace=True)\n",
    "#         except NoSuchElementException:\n",
    "#             GPU_df['Memory Size'].fillna(np.nan,inplace=True)\n",
    "\n",
    "#         # Fill up the null values with the Memory Speed(MHz)\n",
    "#         try:\n",
    "#             chipset = driver.find_element_by_xpath('//*[@id=\"productDetails_techSpec_section_1\"]/tbody//text()[contains(.,\"Memory Speed\")]/../../td').text\n",
    "#             GPU_df['Memory Speed(MHz)'].fillna(chipset,inplace=True)\n",
    "#         except NoSuchElementException:\n",
    "#             GPU_df['Memory Speed(MHz)'].fillna(np.nan,inplace=True)\n",
    "\n",
    "#         # Fill up the null values with the manufacturer name\n",
    "#         try:\n",
    "#             manufacturer = driver.find_element_by_xpath('//*[@id=\"productDetails_techSpec_section_2\"]/tbody//th[contains(text(),\"Manufacturer\")]/../td').text\n",
    "#             GPU_df['Manufacturer'].fillna(manufacturer, inplace=True)\n",
    "#         except NoSuchElementException:\n",
    "#             GPU_df['Manufacturer'].fillna(np.nan,inplace=True)\n",
    "\n",
    "#         # Fill up the null values with the Price\n",
    "#         try:\n",
    "#             GPU_df['Price'].fillna(driver.find_element_by_xpath('//*[@id=\"price_inside_buybox\"]').text, inplace=True)\n",
    "#         except NoSuchElementException:\n",
    "#              GPU_df['Price'].fillna(np.nan, inplace=True)\n",
    "\n",
    "#         # Fill up the null values with the Customer ratings\n",
    "#         try:\n",
    "#             # Gets the overall customer ratings\n",
    "#             GPU_df['Overall Customer Rating'].fillna(driver.find_element_by_xpath('//div[@id=\"averageCustomerReviews\"]//span[@id=\"acrPopover\"]').get_attribute('title'), inplace=True)\n",
    "#         except NoSuchElementException:\n",
    "#             GPU_df['Overall Customer Rating'].fillna(np.nan, inplace=True)\n",
    "\n",
    "#         # Fill the id of the GPU for tracking\n",
    "#         GPU_df['id'].fillna(ids,inplace=True)\n",
    "#         ids += 1\n",
    "\n",
    "#         print(f'Completed scraping for {n} index in page {page}')\n",
    "\n",
    "#         # Increases the index for the next GPU\n",
    "#         n += 1\n",
    "\n",
    "#         # Go back to the main page\n",
    "#         driver.get(main_url)\n",
    "\n",
    "#     print('*'*30)\n",
    "#     print(f'Completed scraping for page {page}')\n",
    "#     print('*'*30)\n",
    "\n",
    "# # Close the browser session\n",
    "# total_gpu = max(GPU_df['id'])\n",
    "# print(f'Completed scraping {total_gpu} GPUs reviews for {page} pages')\n",
    "# driver.quit()"
   ]
  },
  {
   "cell_type": "markdown",
   "metadata": {},
   "source": [
    "# Testing the review body for the page"
   ]
  },
  {
   "cell_type": "code",
   "execution_count": null,
   "metadata": {},
   "outputs": [],
   "source": [
    "# # Testing the review body for the page\n",
    "\n",
    "\n",
    "# # Create the Chrome Driver object\n",
    "# driver = webdriver.Chrome() \n",
    "# driver.get('https://www.amazon.com/Gigabyte-Radeon-Gaming-Graphic-GV-RX580GAMING-8GD/product-reviews/B0842VMKM5/ref=cm_cr_getr_d_paging_btm_next_2?ie=UTF8&reviewerType=all_reviews&pageNumber=2')\n",
    "\n",
    "# # Count the number of Spans in the \"Review Body\" class, if more than 1, put it in a list and use \"\".join()\n",
    "# # before appending it to the dataframe\n",
    "# more_than_1 = driver.find_elements_by_xpath('///span[@data-hook=\"review-body\"][count(./span) > 1]/span')\n",
    "# review_body = driver.find_elements_by_xpath('//*[@data-hook = \"review-body\"]/span')\n",
    "\n",
    "# # If there is a review that is split into multiples span\n",
    "# if more_than_1: \n",
    "#     # Holds the list of reviews\n",
    "#     review_list = []\n",
    "#     for review in more_than_1:\n",
    "#         review_list.append(review.text) # Append it into a list\n",
    "#     GPU_df.loc[idx_body, 'Customer Review'] = \"\".join(review_list)\n",
    "#     idx_body += 1\n",
    "#     for review in review_body[len(more_than_3)+1:]: # Reviews with one span\n",
    "#         GPU_df.loc[idx_body, 'Customer Review'] = review.text\n",
    "#         idx_body += 1\n",
    "# else:\n",
    "#     # Loop through the review comments and append it to the Customer Review\n",
    "#     for review in review_body:\n",
    "#         GPU_df.loc[idx_body, 'Customer Review'] = review.text\n",
    "#         idx_body += 1\n",
    "    \n",
    "        \n",
    "# # Wait for 2 seconds\n",
    "# time.sleep(2)\n",
    "# driver.quit()"
   ]
  },
  {
   "cell_type": "markdown",
   "metadata": {},
   "source": [
    "## Testing the review body using for loop"
   ]
  },
  {
   "cell_type": "code",
   "execution_count": null,
   "metadata": {},
   "outputs": [],
   "source": [
    "# # Testing the review body for the page\n",
    "\n",
    "\n",
    "# # Create the Chrome Driver object\n",
    "# driver = webdriver.Chrome() \n",
    "# driver.get('https://www.amazon.com/MSI-GT-710-2GD3-LP/product-reviews/B01DOFD0G8/ref=cm_cr_dp_d_show_all_btm?ie=UTF8&reviewerType=all_reviews')\n",
    "\n",
    "\n",
    "# review_body = driver.find_elements_by_xpath('//*[@data-hook = \"review-body\"]/span')\n",
    "\n",
    "# # Get all the reviews \n",
    "# reviews = driver.find_elements_by_xpath('//span[@data-hook=\"review-body\"]')\n",
    "# review_list = [x.text for x in reviews]\n",
    "# print([x.text for x in reviews])\n",
    "\n",
    "# for review in review_list:\n",
    "#     GPU_df.loc[idx_body, 'Customer Review'] = review\n",
    "#     idx_body += 1\n",
    "            \n",
    "# # Wait for 2 seconds\n",
    "# time.sleep(2)\n",
    "# driver.quit()"
   ]
  },
  {
   "cell_type": "code",
   "execution_count": null,
   "metadata": {},
   "outputs": [],
   "source": [
    "# review_list[2]"
   ]
  },
  {
   "cell_type": "code",
   "execution_count": null,
   "metadata": {},
   "outputs": [],
   "source": [
    "# GPU_df"
   ]
  },
  {
   "cell_type": "code",
   "execution_count": null,
   "metadata": {},
   "outputs": [],
   "source": [
    "# GPU_df['Customer Review'].loc[41]"
   ]
  },
  {
   "cell_type": "markdown",
   "metadata": {},
   "source": [
    "# Testing the star ratings of the comment for the page"
   ]
  },
  {
   "cell_type": "code",
   "execution_count": null,
   "metadata": {},
   "outputs": [],
   "source": [
    "# # Testing the star ratings of the comment for the page\n",
    "\n",
    "# # Holds the list of reviews\n",
    "# list_of_stars = []\n",
    "\n",
    "# # Create the Chrome Driver object\n",
    "# driver = webdriver.Chrome() \n",
    "# driver.get('https://www.amazon.com/XFX-Radeon-1386MHz-Graphics-RX-580P8DFD6/dp/B06Y66K3XD/ref=cm_cr_arp_d_bdcrb_top?ie=UTF8&th=1')\n",
    "\n",
    "\n",
    "# star_ratings = driver.find_element_by_xpath('//div[@id=\"averageCustomerReviews\"]//span[@id=\"acrPopover\"]').get_attribute('title')\n",
    "\n",
    "# # Get the Profile name \n",
    "# # star_ratings = driver.find_elements_by_xpath('//div[@data-hook=\"review\"]//span[@class= \"a-profile-name\"]')\n",
    "\n",
    "\n",
    "# # For individual customer reviews\n",
    "# # for star in star_ratings:\n",
    "# #     list_of_stars.append(star.get_attribute('title'))\n",
    "    \n",
    "# # Wait for 2 seconds\n",
    "# time.sleep(2)\n",
    "# driver.quit()"
   ]
  },
  {
   "cell_type": "code",
   "execution_count": null,
   "metadata": {},
   "outputs": [],
   "source": [
    "# star_ratings"
   ]
  },
  {
   "cell_type": "code",
   "execution_count": null,
   "metadata": {},
   "outputs": [],
   "source": [
    "# GPU_df.loc[6] = ['','','','','','']\n",
    "# GPU_df.loc[7]"
   ]
  }
 ],
 "metadata": {
  "kernelspec": {
   "display_name": "Python 3",
   "language": "python",
   "name": "python3"
  },
  "language_info": {
   "codemirror_mode": {
    "name": "ipython",
    "version": 3
   },
   "file_extension": ".py",
   "mimetype": "text/x-python",
   "name": "python",
   "nbconvert_exporter": "python",
   "pygments_lexer": "ipython3",
   "version": "3.8.5"
  }
 },
 "nbformat": 4,
 "nbformat_minor": 4
}
